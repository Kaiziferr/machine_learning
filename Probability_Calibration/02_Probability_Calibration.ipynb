{
  "nbformat": 4,
  "nbformat_minor": 0,
  "metadata": {
    "colab": {
      "provenance": [],
      "authorship_tag": "ABX9TyM8afI3NDDw3gYFPqzCE0nr",
      "include_colab_link": true
    },
    "kernelspec": {
      "name": "python3",
      "display_name": "Python 3"
    },
    "language_info": {
      "name": "python"
    }
  },
  "cells": [
    {
      "cell_type": "markdown",
      "metadata": {
        "id": "view-in-github",
        "colab_type": "text"
      },
      "source": [
        "<a href=\"https://colab.research.google.com/github/Kaiziferr/machine_learning/blob/main/Probability_Calibration/02_Probability_Calibration.ipynb\" target=\"_parent\"><img src=\"https://colab.research.google.com/assets/colab-badge.svg\" alt=\"Open In Colab\"/></a>"
      ]
    },
    {
      "cell_type": "code",
      "execution_count": 69,
      "metadata": {
        "id": "2ymLEoBntQWG"
      },
      "outputs": [],
      "source": [
        "import warnings\n",
        "\n",
        "import pandas as pd\n",
        "\n",
        "import seaborn as sns\n",
        "import matplotlib.pyplot as plt\n",
        "\n",
        "from sklearn.datasets import make_classification\n",
        "\n",
        "from sklearn.calibration import (\n",
        "    CalibratedClassifierCV,\n",
        "    calibration_curve)\n",
        "\n",
        "from sklearn.model_selection import (\n",
        "    train_test_split, GridSearchCV)\n",
        "\n",
        "from sklearn.metrics import brier_score_loss, accuracy_score\n",
        "\n",
        "from sklearn.tree import DecisionTreeClassifier\n",
        "\n",
        "from xgboost import XGBClassifier"
      ]
    },
    {
      "cell_type": "markdown",
      "source": [
        "The objective of this exercise is to validate the model calibration process when the focus is on probabilities. A ensemble binary classification model will be applied. The methods 'CalibratedClassifierCV', 'calibration_curve' and 'brier_score_loss' will be used."
      ],
      "metadata": {
        "id": "ZbhaysqUfgLv"
      }
    },
    {
      "cell_type": "markdown",
      "source": [
        "# **Settings**\n",
        "---"
      ],
      "metadata": {
        "id": "ucU0-0lOXFSF"
      }
    },
    {
      "cell_type": "code",
      "source": [
        "random_seed=12345\n",
        "sns.set(style=\"darkgrid\")\n",
        "warnings.filterwarnings(\"ignore\")"
      ],
      "metadata": {
        "id": "72mIO2ZG9SkY"
      },
      "execution_count": 54,
      "outputs": []
    },
    {
      "cell_type": "markdown",
      "source": [
        "# **Data**\n",
        "---"
      ],
      "metadata": {
        "id": "MpoUEXJdXJk2"
      }
    },
    {
      "cell_type": "markdown",
      "source": [
        "Synthetic data will be generated"
      ],
      "metadata": {
        "id": "04qPbRXFgGDY"
      }
    },
    {
      "cell_type": "code",
      "source": [
        "def data_generator(**kward):\n",
        "  X, y = make_classification(\n",
        "      random_state = random_seed,\n",
        "      **kward\n",
        "  )\n",
        "  return X, y"
      ],
      "metadata": {
        "id": "T7URxpNcecOg"
      },
      "execution_count": 55,
      "outputs": []
    },
    {
      "cell_type": "markdown",
      "source": [
        "# **Calibration**\n",
        "---"
      ],
      "metadata": {
        "id": "Qvq0s7iZjrWw"
      }
    },
    {
      "cell_type": "markdown",
      "source": [
        "## **Model, ensemble not Fitted**\n",
        "---\n",
        "- The model will be a 'ensemble' model and will not be trained. The model will is XGBoost"
      ],
      "metadata": {
        "id": "iVfiby6Kt2ar"
      }
    },
    {
      "cell_type": "markdown",
      "source": [
        "**Data**\n",
        "\n",
        "A synthetic dataset of 8000 records will be generated, with 10 features, of which 8 will be informative and 2 will be redundant. It will be a binary classification dataset, with a classification error rate of 8% and a separation of 0.01. The dataset is designed to be challenging for the XGBoost model, as it is very powerful, which is why the configuration that allows for this was sought"
      ],
      "metadata": {
        "id": "seG5DD0haSMc"
      }
    },
    {
      "cell_type": "code",
      "source": [
        "X, y = data_generator(\n",
        "    **{\n",
        "      \"n_samples\":8000,\n",
        "      \"n_features\":10,\n",
        "      \"n_informative\":8,\n",
        "      \"n_redundant\":2,\n",
        "      \"n_classes\":2,\n",
        "      \"flip_y\":0.08,\n",
        "      \"class_sep\":0.01\n",
        "      }\n",
        ")"
      ],
      "metadata": {
        "id": "gIdaqgrTt-BC"
      },
      "execution_count": 56,
      "outputs": []
    },
    {
      "cell_type": "markdown",
      "source": [
        "**Data Split**"
      ],
      "metadata": {
        "id": "RJiBpRSYaaQy"
      }
    },
    {
      "cell_type": "code",
      "source": [
        "X_train, X_test, y_train, y_test = train_test_split(\n",
        "    X,\n",
        "    y,\n",
        "    test_size=0.25,\n",
        "    random_state=random_seed\n",
        ")"
      ],
      "metadata": {
        "id": "1_gPksb4uLKD"
      },
      "execution_count": 57,
      "outputs": []
    },
    {
      "cell_type": "markdown",
      "source": [
        "**Model**"
      ],
      "metadata": {
        "id": "Qxl-Fr-gakty"
      }
    },
    {
      "cell_type": "markdown",
      "source": [
        "A XGBClassifier is instantiated with basic configurations and without fit. The configuration is 800 estimators, a learning rate of 0.01, and a gbtree booster."
      ],
      "metadata": {
        "id": "L7pjfTByaoTi"
      }
    },
    {
      "cell_type": "code",
      "source": [
        "model_xgb = XGBClassifier(\n",
        "    n_estimators = 800,\n",
        "    learning_rate = 0.01,\n",
        "    booster = \"gbtree\",\n",
        ")"
      ],
      "metadata": {
        "id": "lw7bhOpOuN5C"
      },
      "execution_count": 58,
      "outputs": []
    },
    {
      "cell_type": "markdown",
      "source": [
        "The model's probabilities are calibrated using the 'CalibratedClassifierCV' function with 10 'cv' and the 'isotonic' method."
      ],
      "metadata": {
        "id": "le9DkRqqa757"
      }
    },
    {
      "cell_type": "code",
      "source": [
        "calibrate_model_xgb = CalibratedClassifierCV(\n",
        "    estimator=model_xgb,\n",
        "    method='isotonic',\n",
        "    cv=10,\n",
        "    ensemble=True,\n",
        ")\n",
        "calibrate_model_xgb.fit(X_train, y_train)"
      ],
      "metadata": {
        "colab": {
          "base_uri": "https://localhost:8080/",
          "height": 134
        },
        "id": "M2E9892Yuykc",
        "outputId": "964f1a3e-62d2-482a-9730-c3b7976a957e"
      },
      "execution_count": 59,
      "outputs": [
        {
          "output_type": "execute_result",
          "data": {
            "text/plain": [
              "CalibratedClassifierCV(cv=10,\n",
              "                       estimator=XGBClassifier(base_score=None,\n",
              "                                               booster='gbtree', callbacks=None,\n",
              "                                               colsample_bylevel=None,\n",
              "                                               colsample_bynode=None,\n",
              "                                               colsample_bytree=None,\n",
              "                                               device=None,\n",
              "                                               early_stopping_rounds=None,\n",
              "                                               enable_categorical=False,\n",
              "                                               eval_metric=None,\n",
              "                                               feature_types=None, gamma=None,\n",
              "                                               grow_policy=None,\n",
              "                                               importance_type=None,\n",
              "                                               interaction_constraints=None,\n",
              "                                               learning_rate=0.01, max_bin=None,\n",
              "                                               max_cat_threshold=None,\n",
              "                                               max_cat_to_onehot=None,\n",
              "                                               max_delta_step=None,\n",
              "                                               max_depth=None, max_leaves=None,\n",
              "                                               min_child_weight=None,\n",
              "                                               missing=nan,\n",
              "                                               monotone_constraints=None,\n",
              "                                               multi_strategy=None,\n",
              "                                               n_estimators=800, n_jobs=None,\n",
              "                                               num_parallel_tree=None,\n",
              "                                               random_state=None, ...),\n",
              "                       method='isotonic')"
            ],
            "text/html": [
              "<style>#sk-container-id-4 {\n",
              "  /* Definition of color scheme common for light and dark mode */\n",
              "  --sklearn-color-text: black;\n",
              "  --sklearn-color-line: gray;\n",
              "  /* Definition of color scheme for unfitted estimators */\n",
              "  --sklearn-color-unfitted-level-0: #fff5e6;\n",
              "  --sklearn-color-unfitted-level-1: #f6e4d2;\n",
              "  --sklearn-color-unfitted-level-2: #ffe0b3;\n",
              "  --sklearn-color-unfitted-level-3: chocolate;\n",
              "  /* Definition of color scheme for fitted estimators */\n",
              "  --sklearn-color-fitted-level-0: #f0f8ff;\n",
              "  --sklearn-color-fitted-level-1: #d4ebff;\n",
              "  --sklearn-color-fitted-level-2: #b3dbfd;\n",
              "  --sklearn-color-fitted-level-3: cornflowerblue;\n",
              "\n",
              "  /* Specific color for light theme */\n",
              "  --sklearn-color-text-on-default-background: var(--sg-text-color, var(--theme-code-foreground, var(--jp-content-font-color1, black)));\n",
              "  --sklearn-color-background: var(--sg-background-color, var(--theme-background, var(--jp-layout-color0, white)));\n",
              "  --sklearn-color-border-box: var(--sg-text-color, var(--theme-code-foreground, var(--jp-content-font-color1, black)));\n",
              "  --sklearn-color-icon: #696969;\n",
              "\n",
              "  @media (prefers-color-scheme: dark) {\n",
              "    /* Redefinition of color scheme for dark theme */\n",
              "    --sklearn-color-text-on-default-background: var(--sg-text-color, var(--theme-code-foreground, var(--jp-content-font-color1, white)));\n",
              "    --sklearn-color-background: var(--sg-background-color, var(--theme-background, var(--jp-layout-color0, #111)));\n",
              "    --sklearn-color-border-box: var(--sg-text-color, var(--theme-code-foreground, var(--jp-content-font-color1, white)));\n",
              "    --sklearn-color-icon: #878787;\n",
              "  }\n",
              "}\n",
              "\n",
              "#sk-container-id-4 {\n",
              "  color: var(--sklearn-color-text);\n",
              "}\n",
              "\n",
              "#sk-container-id-4 pre {\n",
              "  padding: 0;\n",
              "}\n",
              "\n",
              "#sk-container-id-4 input.sk-hidden--visually {\n",
              "  border: 0;\n",
              "  clip: rect(1px 1px 1px 1px);\n",
              "  clip: rect(1px, 1px, 1px, 1px);\n",
              "  height: 1px;\n",
              "  margin: -1px;\n",
              "  overflow: hidden;\n",
              "  padding: 0;\n",
              "  position: absolute;\n",
              "  width: 1px;\n",
              "}\n",
              "\n",
              "#sk-container-id-4 div.sk-dashed-wrapped {\n",
              "  border: 1px dashed var(--sklearn-color-line);\n",
              "  margin: 0 0.4em 0.5em 0.4em;\n",
              "  box-sizing: border-box;\n",
              "  padding-bottom: 0.4em;\n",
              "  background-color: var(--sklearn-color-background);\n",
              "}\n",
              "\n",
              "#sk-container-id-4 div.sk-container {\n",
              "  /* jupyter's `normalize.less` sets `[hidden] { display: none; }`\n",
              "     but bootstrap.min.css set `[hidden] { display: none !important; }`\n",
              "     so we also need the `!important` here to be able to override the\n",
              "     default hidden behavior on the sphinx rendered scikit-learn.org.\n",
              "     See: https://github.com/scikit-learn/scikit-learn/issues/21755 */\n",
              "  display: inline-block !important;\n",
              "  position: relative;\n",
              "}\n",
              "\n",
              "#sk-container-id-4 div.sk-text-repr-fallback {\n",
              "  display: none;\n",
              "}\n",
              "\n",
              "div.sk-parallel-item,\n",
              "div.sk-serial,\n",
              "div.sk-item {\n",
              "  /* draw centered vertical line to link estimators */\n",
              "  background-image: linear-gradient(var(--sklearn-color-text-on-default-background), var(--sklearn-color-text-on-default-background));\n",
              "  background-size: 2px 100%;\n",
              "  background-repeat: no-repeat;\n",
              "  background-position: center center;\n",
              "}\n",
              "\n",
              "/* Parallel-specific style estimator block */\n",
              "\n",
              "#sk-container-id-4 div.sk-parallel-item::after {\n",
              "  content: \"\";\n",
              "  width: 100%;\n",
              "  border-bottom: 2px solid var(--sklearn-color-text-on-default-background);\n",
              "  flex-grow: 1;\n",
              "}\n",
              "\n",
              "#sk-container-id-4 div.sk-parallel {\n",
              "  display: flex;\n",
              "  align-items: stretch;\n",
              "  justify-content: center;\n",
              "  background-color: var(--sklearn-color-background);\n",
              "  position: relative;\n",
              "}\n",
              "\n",
              "#sk-container-id-4 div.sk-parallel-item {\n",
              "  display: flex;\n",
              "  flex-direction: column;\n",
              "}\n",
              "\n",
              "#sk-container-id-4 div.sk-parallel-item:first-child::after {\n",
              "  align-self: flex-end;\n",
              "  width: 50%;\n",
              "}\n",
              "\n",
              "#sk-container-id-4 div.sk-parallel-item:last-child::after {\n",
              "  align-self: flex-start;\n",
              "  width: 50%;\n",
              "}\n",
              "\n",
              "#sk-container-id-4 div.sk-parallel-item:only-child::after {\n",
              "  width: 0;\n",
              "}\n",
              "\n",
              "/* Serial-specific style estimator block */\n",
              "\n",
              "#sk-container-id-4 div.sk-serial {\n",
              "  display: flex;\n",
              "  flex-direction: column;\n",
              "  align-items: center;\n",
              "  background-color: var(--sklearn-color-background);\n",
              "  padding-right: 1em;\n",
              "  padding-left: 1em;\n",
              "}\n",
              "\n",
              "\n",
              "/* Toggleable style: style used for estimator/Pipeline/ColumnTransformer box that is\n",
              "clickable and can be expanded/collapsed.\n",
              "- Pipeline and ColumnTransformer use this feature and define the default style\n",
              "- Estimators will overwrite some part of the style using the `sk-estimator` class\n",
              "*/\n",
              "\n",
              "/* Pipeline and ColumnTransformer style (default) */\n",
              "\n",
              "#sk-container-id-4 div.sk-toggleable {\n",
              "  /* Default theme specific background. It is overwritten whether we have a\n",
              "  specific estimator or a Pipeline/ColumnTransformer */\n",
              "  background-color: var(--sklearn-color-background);\n",
              "}\n",
              "\n",
              "/* Toggleable label */\n",
              "#sk-container-id-4 label.sk-toggleable__label {\n",
              "  cursor: pointer;\n",
              "  display: block;\n",
              "  width: 100%;\n",
              "  margin-bottom: 0;\n",
              "  padding: 0.5em;\n",
              "  box-sizing: border-box;\n",
              "  text-align: center;\n",
              "}\n",
              "\n",
              "#sk-container-id-4 label.sk-toggleable__label-arrow:before {\n",
              "  /* Arrow on the left of the label */\n",
              "  content: \"▸\";\n",
              "  float: left;\n",
              "  margin-right: 0.25em;\n",
              "  color: var(--sklearn-color-icon);\n",
              "}\n",
              "\n",
              "#sk-container-id-4 label.sk-toggleable__label-arrow:hover:before {\n",
              "  color: var(--sklearn-color-text);\n",
              "}\n",
              "\n",
              "/* Toggleable content - dropdown */\n",
              "\n",
              "#sk-container-id-4 div.sk-toggleable__content {\n",
              "  max-height: 0;\n",
              "  max-width: 0;\n",
              "  overflow: hidden;\n",
              "  text-align: left;\n",
              "  /* unfitted */\n",
              "  background-color: var(--sklearn-color-unfitted-level-0);\n",
              "}\n",
              "\n",
              "#sk-container-id-4 div.sk-toggleable__content.fitted {\n",
              "  /* fitted */\n",
              "  background-color: var(--sklearn-color-fitted-level-0);\n",
              "}\n",
              "\n",
              "#sk-container-id-4 div.sk-toggleable__content pre {\n",
              "  margin: 0.2em;\n",
              "  border-radius: 0.25em;\n",
              "  color: var(--sklearn-color-text);\n",
              "  /* unfitted */\n",
              "  background-color: var(--sklearn-color-unfitted-level-0);\n",
              "}\n",
              "\n",
              "#sk-container-id-4 div.sk-toggleable__content.fitted pre {\n",
              "  /* unfitted */\n",
              "  background-color: var(--sklearn-color-fitted-level-0);\n",
              "}\n",
              "\n",
              "#sk-container-id-4 input.sk-toggleable__control:checked~div.sk-toggleable__content {\n",
              "  /* Expand drop-down */\n",
              "  max-height: 200px;\n",
              "  max-width: 100%;\n",
              "  overflow: auto;\n",
              "}\n",
              "\n",
              "#sk-container-id-4 input.sk-toggleable__control:checked~label.sk-toggleable__label-arrow:before {\n",
              "  content: \"▾\";\n",
              "}\n",
              "\n",
              "/* Pipeline/ColumnTransformer-specific style */\n",
              "\n",
              "#sk-container-id-4 div.sk-label input.sk-toggleable__control:checked~label.sk-toggleable__label {\n",
              "  color: var(--sklearn-color-text);\n",
              "  background-color: var(--sklearn-color-unfitted-level-2);\n",
              "}\n",
              "\n",
              "#sk-container-id-4 div.sk-label.fitted input.sk-toggleable__control:checked~label.sk-toggleable__label {\n",
              "  background-color: var(--sklearn-color-fitted-level-2);\n",
              "}\n",
              "\n",
              "/* Estimator-specific style */\n",
              "\n",
              "/* Colorize estimator box */\n",
              "#sk-container-id-4 div.sk-estimator input.sk-toggleable__control:checked~label.sk-toggleable__label {\n",
              "  /* unfitted */\n",
              "  background-color: var(--sklearn-color-unfitted-level-2);\n",
              "}\n",
              "\n",
              "#sk-container-id-4 div.sk-estimator.fitted input.sk-toggleable__control:checked~label.sk-toggleable__label {\n",
              "  /* fitted */\n",
              "  background-color: var(--sklearn-color-fitted-level-2);\n",
              "}\n",
              "\n",
              "#sk-container-id-4 div.sk-label label.sk-toggleable__label,\n",
              "#sk-container-id-4 div.sk-label label {\n",
              "  /* The background is the default theme color */\n",
              "  color: var(--sklearn-color-text-on-default-background);\n",
              "}\n",
              "\n",
              "/* On hover, darken the color of the background */\n",
              "#sk-container-id-4 div.sk-label:hover label.sk-toggleable__label {\n",
              "  color: var(--sklearn-color-text);\n",
              "  background-color: var(--sklearn-color-unfitted-level-2);\n",
              "}\n",
              "\n",
              "/* Label box, darken color on hover, fitted */\n",
              "#sk-container-id-4 div.sk-label.fitted:hover label.sk-toggleable__label.fitted {\n",
              "  color: var(--sklearn-color-text);\n",
              "  background-color: var(--sklearn-color-fitted-level-2);\n",
              "}\n",
              "\n",
              "/* Estimator label */\n",
              "\n",
              "#sk-container-id-4 div.sk-label label {\n",
              "  font-family: monospace;\n",
              "  font-weight: bold;\n",
              "  display: inline-block;\n",
              "  line-height: 1.2em;\n",
              "}\n",
              "\n",
              "#sk-container-id-4 div.sk-label-container {\n",
              "  text-align: center;\n",
              "}\n",
              "\n",
              "/* Estimator-specific */\n",
              "#sk-container-id-4 div.sk-estimator {\n",
              "  font-family: monospace;\n",
              "  border: 1px dotted var(--sklearn-color-border-box);\n",
              "  border-radius: 0.25em;\n",
              "  box-sizing: border-box;\n",
              "  margin-bottom: 0.5em;\n",
              "  /* unfitted */\n",
              "  background-color: var(--sklearn-color-unfitted-level-0);\n",
              "}\n",
              "\n",
              "#sk-container-id-4 div.sk-estimator.fitted {\n",
              "  /* fitted */\n",
              "  background-color: var(--sklearn-color-fitted-level-0);\n",
              "}\n",
              "\n",
              "/* on hover */\n",
              "#sk-container-id-4 div.sk-estimator:hover {\n",
              "  /* unfitted */\n",
              "  background-color: var(--sklearn-color-unfitted-level-2);\n",
              "}\n",
              "\n",
              "#sk-container-id-4 div.sk-estimator.fitted:hover {\n",
              "  /* fitted */\n",
              "  background-color: var(--sklearn-color-fitted-level-2);\n",
              "}\n",
              "\n",
              "/* Specification for estimator info (e.g. \"i\" and \"?\") */\n",
              "\n",
              "/* Common style for \"i\" and \"?\" */\n",
              "\n",
              ".sk-estimator-doc-link,\n",
              "a:link.sk-estimator-doc-link,\n",
              "a:visited.sk-estimator-doc-link {\n",
              "  float: right;\n",
              "  font-size: smaller;\n",
              "  line-height: 1em;\n",
              "  font-family: monospace;\n",
              "  background-color: var(--sklearn-color-background);\n",
              "  border-radius: 1em;\n",
              "  height: 1em;\n",
              "  width: 1em;\n",
              "  text-decoration: none !important;\n",
              "  margin-left: 1ex;\n",
              "  /* unfitted */\n",
              "  border: var(--sklearn-color-unfitted-level-1) 1pt solid;\n",
              "  color: var(--sklearn-color-unfitted-level-1);\n",
              "}\n",
              "\n",
              ".sk-estimator-doc-link.fitted,\n",
              "a:link.sk-estimator-doc-link.fitted,\n",
              "a:visited.sk-estimator-doc-link.fitted {\n",
              "  /* fitted */\n",
              "  border: var(--sklearn-color-fitted-level-1) 1pt solid;\n",
              "  color: var(--sklearn-color-fitted-level-1);\n",
              "}\n",
              "\n",
              "/* On hover */\n",
              "div.sk-estimator:hover .sk-estimator-doc-link:hover,\n",
              ".sk-estimator-doc-link:hover,\n",
              "div.sk-label-container:hover .sk-estimator-doc-link:hover,\n",
              ".sk-estimator-doc-link:hover {\n",
              "  /* unfitted */\n",
              "  background-color: var(--sklearn-color-unfitted-level-3);\n",
              "  color: var(--sklearn-color-background);\n",
              "  text-decoration: none;\n",
              "}\n",
              "\n",
              "div.sk-estimator.fitted:hover .sk-estimator-doc-link.fitted:hover,\n",
              ".sk-estimator-doc-link.fitted:hover,\n",
              "div.sk-label-container:hover .sk-estimator-doc-link.fitted:hover,\n",
              ".sk-estimator-doc-link.fitted:hover {\n",
              "  /* fitted */\n",
              "  background-color: var(--sklearn-color-fitted-level-3);\n",
              "  color: var(--sklearn-color-background);\n",
              "  text-decoration: none;\n",
              "}\n",
              "\n",
              "/* Span, style for the box shown on hovering the info icon */\n",
              ".sk-estimator-doc-link span {\n",
              "  display: none;\n",
              "  z-index: 9999;\n",
              "  position: relative;\n",
              "  font-weight: normal;\n",
              "  right: .2ex;\n",
              "  padding: .5ex;\n",
              "  margin: .5ex;\n",
              "  width: min-content;\n",
              "  min-width: 20ex;\n",
              "  max-width: 50ex;\n",
              "  color: var(--sklearn-color-text);\n",
              "  box-shadow: 2pt 2pt 4pt #999;\n",
              "  /* unfitted */\n",
              "  background: var(--sklearn-color-unfitted-level-0);\n",
              "  border: .5pt solid var(--sklearn-color-unfitted-level-3);\n",
              "}\n",
              "\n",
              ".sk-estimator-doc-link.fitted span {\n",
              "  /* fitted */\n",
              "  background: var(--sklearn-color-fitted-level-0);\n",
              "  border: var(--sklearn-color-fitted-level-3);\n",
              "}\n",
              "\n",
              ".sk-estimator-doc-link:hover span {\n",
              "  display: block;\n",
              "}\n",
              "\n",
              "/* \"?\"-specific style due to the `<a>` HTML tag */\n",
              "\n",
              "#sk-container-id-4 a.estimator_doc_link {\n",
              "  float: right;\n",
              "  font-size: 1rem;\n",
              "  line-height: 1em;\n",
              "  font-family: monospace;\n",
              "  background-color: var(--sklearn-color-background);\n",
              "  border-radius: 1rem;\n",
              "  height: 1rem;\n",
              "  width: 1rem;\n",
              "  text-decoration: none;\n",
              "  /* unfitted */\n",
              "  color: var(--sklearn-color-unfitted-level-1);\n",
              "  border: var(--sklearn-color-unfitted-level-1) 1pt solid;\n",
              "}\n",
              "\n",
              "#sk-container-id-4 a.estimator_doc_link.fitted {\n",
              "  /* fitted */\n",
              "  border: var(--sklearn-color-fitted-level-1) 1pt solid;\n",
              "  color: var(--sklearn-color-fitted-level-1);\n",
              "}\n",
              "\n",
              "/* On hover */\n",
              "#sk-container-id-4 a.estimator_doc_link:hover {\n",
              "  /* unfitted */\n",
              "  background-color: var(--sklearn-color-unfitted-level-3);\n",
              "  color: var(--sklearn-color-background);\n",
              "  text-decoration: none;\n",
              "}\n",
              "\n",
              "#sk-container-id-4 a.estimator_doc_link.fitted:hover {\n",
              "  /* fitted */\n",
              "  background-color: var(--sklearn-color-fitted-level-3);\n",
              "}\n",
              "</style><div id=\"sk-container-id-4\" class=\"sk-top-container\"><div class=\"sk-text-repr-fallback\"><pre>CalibratedClassifierCV(cv=10,\n",
              "                       estimator=XGBClassifier(base_score=None,\n",
              "                                               booster=&#x27;gbtree&#x27;, callbacks=None,\n",
              "                                               colsample_bylevel=None,\n",
              "                                               colsample_bynode=None,\n",
              "                                               colsample_bytree=None,\n",
              "                                               device=None,\n",
              "                                               early_stopping_rounds=None,\n",
              "                                               enable_categorical=False,\n",
              "                                               eval_metric=None,\n",
              "                                               feature_types=None, gamma=None,\n",
              "                                               grow_policy=None,\n",
              "                                               importance_type=None,\n",
              "                                               interaction_constraints=None,\n",
              "                                               learning_rate=0.01, max_bin=None,\n",
              "                                               max_cat_threshold=None,\n",
              "                                               max_cat_to_onehot=None,\n",
              "                                               max_delta_step=None,\n",
              "                                               max_depth=None, max_leaves=None,\n",
              "                                               min_child_weight=None,\n",
              "                                               missing=nan,\n",
              "                                               monotone_constraints=None,\n",
              "                                               multi_strategy=None,\n",
              "                                               n_estimators=800, n_jobs=None,\n",
              "                                               num_parallel_tree=None,\n",
              "                                               random_state=None, ...),\n",
              "                       method=&#x27;isotonic&#x27;)</pre><b>In a Jupyter environment, please rerun this cell to show the HTML representation or trust the notebook. <br />On GitHub, the HTML representation is unable to render, please try loading this page with nbviewer.org.</b></div><div class=\"sk-container\" hidden><div class=\"sk-item sk-dashed-wrapped\"><div class=\"sk-label-container\"><div class=\"sk-label fitted sk-toggleable\"><input class=\"sk-toggleable__control sk-hidden--visually\" id=\"sk-estimator-id-10\" type=\"checkbox\" ><label for=\"sk-estimator-id-10\" class=\"sk-toggleable__label fitted sk-toggleable__label-arrow fitted\">&nbsp;&nbsp;CalibratedClassifierCV<a class=\"sk-estimator-doc-link fitted\" rel=\"noreferrer\" target=\"_blank\" href=\"https://scikit-learn.org/1.5/modules/generated/sklearn.calibration.CalibratedClassifierCV.html\">?<span>Documentation for CalibratedClassifierCV</span></a><span class=\"sk-estimator-doc-link fitted\">i<span>Fitted</span></span></label><div class=\"sk-toggleable__content fitted\"><pre>CalibratedClassifierCV(cv=10,\n",
              "                       estimator=XGBClassifier(base_score=None,\n",
              "                                               booster=&#x27;gbtree&#x27;, callbacks=None,\n",
              "                                               colsample_bylevel=None,\n",
              "                                               colsample_bynode=None,\n",
              "                                               colsample_bytree=None,\n",
              "                                               device=None,\n",
              "                                               early_stopping_rounds=None,\n",
              "                                               enable_categorical=False,\n",
              "                                               eval_metric=None,\n",
              "                                               feature_types=None, gamma=None,\n",
              "                                               grow_policy=None,\n",
              "                                               importance_type=None,\n",
              "                                               interaction_constraints=None,\n",
              "                                               learning_rate=0.01, max_bin=None,\n",
              "                                               max_cat_threshold=None,\n",
              "                                               max_cat_to_onehot=None,\n",
              "                                               max_delta_step=None,\n",
              "                                               max_depth=None, max_leaves=None,\n",
              "                                               min_child_weight=None,\n",
              "                                               missing=nan,\n",
              "                                               monotone_constraints=None,\n",
              "                                               multi_strategy=None,\n",
              "                                               n_estimators=800, n_jobs=None,\n",
              "                                               num_parallel_tree=None,\n",
              "                                               random_state=None, ...),\n",
              "                       method=&#x27;isotonic&#x27;)</pre></div> </div></div><div class=\"sk-parallel\"><div class=\"sk-parallel-item\"><div class=\"sk-item\"><div class=\"sk-label-container\"><div class=\"sk-label fitted sk-toggleable\"><input class=\"sk-toggleable__control sk-hidden--visually\" id=\"sk-estimator-id-11\" type=\"checkbox\" ><label for=\"sk-estimator-id-11\" class=\"sk-toggleable__label fitted sk-toggleable__label-arrow fitted\">estimator: XGBClassifier</label><div class=\"sk-toggleable__content fitted\"><pre>XGBClassifier(base_score=None, booster=&#x27;gbtree&#x27;, callbacks=None,\n",
              "              colsample_bylevel=None, colsample_bynode=None,\n",
              "              colsample_bytree=None, device=None, early_stopping_rounds=None,\n",
              "              enable_categorical=False, eval_metric=None, feature_types=None,\n",
              "              gamma=None, grow_policy=None, importance_type=None,\n",
              "              interaction_constraints=None, learning_rate=0.01, max_bin=None,\n",
              "              max_cat_threshold=None, max_cat_to_onehot=None,\n",
              "              max_delta_step=None, max_depth=None, max_leaves=None,\n",
              "              min_child_weight=None, missing=nan, monotone_constraints=None,\n",
              "              multi_strategy=None, n_estimators=800, n_jobs=None,\n",
              "              num_parallel_tree=None, random_state=None, ...)</pre></div> </div></div><div class=\"sk-serial\"><div class=\"sk-item\"><div class=\"sk-estimator fitted sk-toggleable\"><input class=\"sk-toggleable__control sk-hidden--visually\" id=\"sk-estimator-id-12\" type=\"checkbox\" ><label for=\"sk-estimator-id-12\" class=\"sk-toggleable__label fitted sk-toggleable__label-arrow fitted\">XGBClassifier</label><div class=\"sk-toggleable__content fitted\"><pre>XGBClassifier(base_score=None, booster=&#x27;gbtree&#x27;, callbacks=None,\n",
              "              colsample_bylevel=None, colsample_bynode=None,\n",
              "              colsample_bytree=None, device=None, early_stopping_rounds=None,\n",
              "              enable_categorical=False, eval_metric=None, feature_types=None,\n",
              "              gamma=None, grow_policy=None, importance_type=None,\n",
              "              interaction_constraints=None, learning_rate=0.01, max_bin=None,\n",
              "              max_cat_threshold=None, max_cat_to_onehot=None,\n",
              "              max_delta_step=None, max_depth=None, max_leaves=None,\n",
              "              min_child_weight=None, missing=nan, monotone_constraints=None,\n",
              "              multi_strategy=None, n_estimators=800, n_jobs=None,\n",
              "              num_parallel_tree=None, random_state=None, ...)</pre></div> </div></div></div></div></div></div></div></div></div>"
            ]
          },
          "metadata": {},
          "execution_count": 59
        }
      ]
    },
    {
      "cell_type": "markdown",
      "source": [
        "The test probabilities are obtained."
      ],
      "metadata": {
        "id": "MG-YVUbjbT4D"
      }
    },
    {
      "cell_type": "code",
      "source": [
        "calibreated_probs_test = calibrate_model_xgb.predict_proba(X_test)"
      ],
      "metadata": {
        "id": "uqGRkWW8vIuS"
      },
      "execution_count": 60,
      "outputs": []
    },
    {
      "cell_type": "markdown",
      "source": [
        "The previously configured, uncalibrated model is fitted. Then, probability predictions are made. This is done to compare the model's calibration\n"
      ],
      "metadata": {
        "id": "uqfkIrrJbWda"
      }
    },
    {
      "cell_type": "code",
      "source": [
        "model_xgb.fit(X_train, y_train)\n",
        "\n",
        "model_probs_test = model_xgb.predict_proba(X_test)"
      ],
      "metadata": {
        "id": "ZT4WJPtWvL8K"
      },
      "execution_count": 61,
      "outputs": []
    },
    {
      "cell_type": "markdown",
      "source": [
        "Having the probabilities, a comparison is made between the calibrated model and the fitted model.\n",
        "\n",
        "It will be assumed that class 1 is the class of interest."
      ],
      "metadata": {
        "id": "CxQlef9-baZ0"
      }
    },
    {
      "cell_type": "markdown",
      "source": [
        "One class or another, the number of selected 'bins' may be smaller, as those with no probability will collapse. To get a good idea of how many groups can be obtained, a histogram is used to determine how many bins are suitable for grouping the average probabilities."
      ],
      "metadata": {
        "id": "RwDQ3aPhbjDj"
      }
    },
    {
      "cell_type": "code",
      "source": [
        "fig, ax = plt.subplots(nrows=1, ncols=3, figsize=(10, 3))\n",
        "ax[0].hist(calibreated_probs_test[:,1], bins=200, edgecolor='black')\n",
        "ax[0].set_title('200 Bins')\n",
        "\n",
        "ax[1].hist(calibreated_probs_test[:,1], bins=20, edgecolor='black')\n",
        "ax[1].set_title('20 Bins')\n",
        "ax[2].hist(calibreated_probs_test[:,1], bins=10, edgecolor='black')\n",
        "ax[2].set_title('10 Bins')\n",
        "fig.tight_layout()\n",
        "plt.subplots_adjust(top = 0.7)\n",
        "fig.suptitle('N -- Bins -- calibreated_probs_test', fontsize = 10, fontweight = \"bold\");\n",
        "plt.show()"
      ],
      "metadata": {
        "colab": {
          "base_uri": "https://localhost:8080/",
          "height": 313
        },
        "id": "lRh_v7QqvaQE",
        "outputId": "d2ec7d12-b4c3-4740-c5e6-e7455fb368ef"
      },
      "execution_count": 62,
      "outputs": [
        {
          "output_type": "display_data",
          "data": {
            "text/plain": [
              "<Figure size 1000x300 with 3 Axes>"
            ],
            "image/png": "[encoded data removed]"
          },
          "metadata": {}
        }
      ]
    },
    {
      "cell_type": "markdown",
      "source": [
        "- The number of 'bins' is set to 10, as a more accurate estimation can be obtained visually."
      ],
      "metadata": {
        "id": "HMqAdqtUbrYj"
      }
    },
    {
      "cell_type": "markdown",
      "source": [
        "To be consistent with the visualization and comparison, the number 10 will be selected for the remaining functions to obtain a calibration curve."
      ],
      "metadata": {
        "id": "X6Ckui-_cQhr"
      }
    },
    {
      "cell_type": "code",
      "source": [
        "prob_true_cali_target, prob_pred_cali_target = calibration_curve(y_test, calibreated_probs_test[:,1], n_bins=10)\n",
        "prob_true_model_target, prob_pred_model_target = calibration_curve(y_test, model_probs_test[:,1], n_bins=10)\n",
        "\n",
        "\n",
        "prob_true_cali_target_more_bins, prob_pred_cali_target_more_bins = calibration_curve(y_test, calibreated_probs_test[:,1], n_bins=10)\n",
        "prob_true_model_target_more_bins, prob_pred_model_target_more_bins = calibration_curve(y_test, model_probs_test[:,1], n_bins=10)"
      ],
      "metadata": {
        "id": "PykuJ8zlv5AK"
      },
      "execution_count": 67,
      "outputs": []
    },
    {
      "cell_type": "markdown",
      "source": [
        "The difference between the predicted probability and the actual outcome of the calibrated model is very close to zero, which means the model is reliable and making good predictions."
      ],
      "metadata": {
        "id": "jX9rJ5URjfRv"
      }
    },
    {
      "cell_type": "code",
      "source": [
        "brier_score = brier_score_loss(y_test, calibreated_probs_test[:, 1])\n",
        "brier_score"
      ],
      "metadata": {
        "colab": {
          "base_uri": "https://localhost:8080/"
        },
        "id": "wR3pwo8bv-Nr",
        "outputId": "8973616c-1166-40e7-9ac9-c6a4f5ca1c5e"
      },
      "execution_count": 64,
      "outputs": [
        {
          "output_type": "execute_result",
          "data": {
            "text/plain": [
              "0.11852778925715637"
            ]
          },
          "metadata": {},
          "execution_count": 64
        }
      ]
    },
    {
      "cell_type": "markdown",
      "source": [
        "However, the uncalibrated model also tends to be well-tuned, with the difference being minimal. This may suggest that it is not necessary to calibrate the model, with respect to the established configurations."
      ],
      "metadata": {
        "id": "VM_rpR2JVq2a"
      }
    },
    {
      "cell_type": "code",
      "source": [
        "brier_score = brier_score_loss(y_test, model_probs_test[:, 1])\n",
        "brier_score"
      ],
      "metadata": {
        "colab": {
          "base_uri": "https://localhost:8080/"
        },
        "id": "5SxYeGhkiYKP",
        "outputId": "8e082e87-1fff-4700-a329-826641d5d108"
      },
      "execution_count": 65,
      "outputs": [
        {
          "output_type": "execute_result",
          "data": {
            "text/plain": [
              "0.128442497552773"
            ]
          },
          "metadata": {},
          "execution_count": 65
        }
      ]
    },
    {
      "cell_type": "code",
      "source": [
        "fig, ax = plt.subplots(nrows=1, ncols=1, figsize=(15, 5))\n",
        "plt.plot([0, 1], [0, 1], linestyle='--', label='Perfectly calibrated')\n",
        "plt.plot(prob_pred_cali_target, prob_true_cali_target, marker='.', label='Calibrated model')\n",
        "plt.plot(prob_pred_model_target, prob_true_model_target, marker='.', label='Uncalibrated model')\n",
        "plt.title(\"Target Class\")\n",
        "plt.legend(loc='lower right')\n",
        "plt.xlabel('Calibrated probabilities')\n",
        "plt.ylabel('Real probabilities')\n",
        "\n",
        "plt.show()"
      ],
      "metadata": {
        "colab": {
          "base_uri": "https://localhost:8080/",
          "height": 496
        },
        "id": "5t5-Y32DwCZM",
        "outputId": "1531c85f-2f23-418e-f10f-6047bd7be6e2"
      },
      "execution_count": 79,
      "outputs": [
        {
          "output_type": "display_data",
          "data": {
            "text/plain": [
              "<Figure size 1500x500 with 1 Axes>"
            ],
            "image/png": "[encoded data removed]"
          },
          "metadata": {}
        }
      ]
    },
    {
      "cell_type": "markdown",
      "source": [
        "For the next analysis, the most prominent probability points of each model will be examined."
      ],
      "metadata": {
        "id": "zC24v3LbYg1i"
      }
    },
    {
      "cell_type": "markdown",
      "source": [
        "# **Falta esta parte**\n",
        "---"
      ],
      "metadata": {
        "id": "2h9DvcD5Y-Oq"
      }
    },
    {
      "cell_type": "markdown",
      "source": [
        "Since the dataset has a minimal imbalance, 'Accuracy' was used to validate performance. As mentioned earlier, the XGB model implementation is excellent for this type of problem and showed great performance, although the calibrated model has one more unit, which means its predictive ability improved. However, the difference is minimal."
      ],
      "metadata": {
        "id": "qRIeBivgXecd"
      }
    },
    {
      "cell_type": "code",
      "source": [
        "accuracy_score(y_test, calibrate_model_xgb.predict(X_test))"
      ],
      "metadata": {
        "colab": {
          "base_uri": "https://localhost:8080/"
        },
        "id": "syzmhRUYVzhC",
        "outputId": "9120b903-6c27-4405-a93a-c1515e8f3930"
      },
      "execution_count": 72,
      "outputs": [
        {
          "output_type": "execute_result",
          "data": {
            "text/plain": [
              "0.8375"
            ]
          },
          "metadata": {},
          "execution_count": 72
        }
      ]
    },
    {
      "cell_type": "code",
      "source": [
        "accuracy_score(y_test, model_xgb.predict(X_test))"
      ],
      "metadata": {
        "colab": {
          "base_uri": "https://localhost:8080/"
        },
        "id": "1P0kxGWlV5wZ",
        "outputId": "309294ee-1b58-45b0-fe9a-571f4ab3c071"
      },
      "execution_count": 75,
      "outputs": [
        {
          "output_type": "execute_result",
          "data": {
            "text/plain": [
              "0.8295"
            ]
          },
          "metadata": {},
          "execution_count": 75
        }
      ]
    }
  ]
}