{
  "nbformat": 4,
  "nbformat_minor": 0,
  "metadata": {
    "colab": {
      "provenance": [],
      "authorship_tag": "ABX9TyO9Udw3gPrmN/zTkilmHK0V",
      "include_colab_link": true
    },
    "kernelspec": {
      "name": "python3",
      "display_name": "Python 3"
    },
    "language_info": {
      "name": "python"
    }
  },
  "cells": [
    {
      "cell_type": "markdown",
      "metadata": {
        "id": "view-in-github",
        "colab_type": "text"
      },
      "source": [
        "<a href=\"https://colab.research.google.com/github/Kaiziferr/machine_learning/blob/main/ensemble/voting/01_voting_soft_hard_clasification.ipynb\" target=\"_parent\"><img src=\"https://colab.research.google.com/assets/colab-badge.svg\" alt=\"Open In Colab\"/></a>"
      ]
    },
    {
      "cell_type": "code",
      "source": [
        "import warnings\n",
        "from unicodedata import normalize\n",
        "\n",
        "import random\n",
        "\n",
        "import pandas as pd\n",
        "import numpy as np\n",
        "\n",
        "import seaborn as sns\n",
        "import matplotlib.pyplot as plt\n",
        "from matplotlib.colors import ListedColormap\n",
        "\n",
        "from sklearn.model_selection import train_test_split\n",
        "from sklearn.compose import ColumnTransformer\n",
        "\n",
        "from sklearn.preprocessing import (\n",
        "    OneHotEncoder,\n",
        "    StandardScaler\n",
        ")\n",
        "\n",
        "from sklearn.linear_model import LogisticRegression\n",
        "from sklearn.tree import DecisionTreeClassifier\n",
        "from sklearn.naive_bayes import GaussianNB\n",
        "from sklearn.neighbors import KNeighborsClassifier\n",
        "from sklearn.svm import SVC\n",
        "\n",
        "\n",
        "from sklearn.metrics import (\n",
        "    f1_score\n",
        ")\n",
        "\n",
        "from sklearn.ensemble import VotingClassifier"
      ],
      "metadata": {
        "id": "T1i-YSoJJLc2"
      },
      "execution_count": 92,
      "outputs": []
    },
    {
      "cell_type": "markdown",
      "source": [
        "# **Info**\n",
        "---\n",
        "**@By**: **Steven Bernal**\n",
        "\n",
        "**@Nickname**: **Kaiziferr**\n",
        "\n",
        "**@Git**: https://github.com/Kaiziferr"
      ],
      "metadata": {
        "id": "9TXkhFPCwmk5"
      }
    },
    {
      "cell_type": "markdown",
      "source": [
        "The purpose of this mini project is to demonstrate the ability to assemble different models to make a prediction. Validating a better performance than what each model could individually."
      ],
      "metadata": {
        "id": "ouF9oBmol7ga"
      }
    },
    {
      "cell_type": "markdown",
      "source": [
        "# **Config**\n",
        "---"
      ],
      "metadata": {
        "id": "GkQ08XKGwvVC"
      }
    },
    {
      "cell_type": "code",
      "source": [
        "sns.set(style=\"darkgrid\")\n",
        "pd.set_option('display.float_format', '{:,.5f}'.format)\n",
        "title_data = 'Materiales extraidos en Colombia'\n",
        "random_seed=12354\n",
        "warnings.filterwarnings(\"ignore\")"
      ],
      "metadata": {
        "id": "tdAmRdnewy9R"
      },
      "execution_count": 93,
      "outputs": []
    },
    {
      "cell_type": "markdown",
      "source": [
        "# **Functions**\n",
        "\n",
        "---\n",
        "\n",
        "\n"
      ],
      "metadata": {
        "id": "m2DSyRwJw7nT"
      }
    },
    {
      "cell_type": "code",
      "source": [
        "def normalize_word(word)->str:\n",
        "  \"\"\"Normaliza palabras\"\"\"\n",
        "  word = word.replace(' ', '_')\n",
        "  find_guion = word.find('_')\n",
        "  list_word = []\n",
        "  if find_guion:\n",
        "    list_word = [w for w in word.split('_') if w != '']\n",
        "  else:\n",
        "    list_word = word\n",
        "  word = list(map(lambda x: x.lower(), list_word))\n",
        "  word = [normalize('NFKD', c).encode('ASCII', 'ignore').decode() for c in word]\n",
        "  word = \"_\".join(word)\n",
        "  return word\n",
        "\n",
        "\n",
        "def normalize_name_columns(columns):\n",
        "  \"\"\"Normaliza columnas\"\"\"\n",
        "  columns = list(map(lambda x: normalize_word(x), columns))\n",
        "  return columns\n",
        "\n",
        "\n",
        "def generate_colors(paleta:str=\"Set1\", n_colors:int=15)-> tuple:\n",
        "  \"\"\"color generator\"\"\"\n",
        "  try:\n",
        "    cmap = sns.color_palette(paleta, n_colors).as_hex()\n",
        "    list_camp = ListedColormap(cmap)\n",
        "    return cmap, list_camp\n",
        "  except Exception as e:\n",
        "    print(e)\n",
        "\n",
        "def plot_bar(data:pd.DataFrame, paleta:list=None, figsize_x:int=8, figsize_y:int=5,\n",
        "             fontsize:int=15, **kwards)->None:\n",
        "  \"\"\"Grafica un diagrama de barras con multiples caracteristicas\"\"\"\n",
        "  try:\n",
        "    paleta = paleta if paleta !=None else generate_colors()[0]\n",
        "    v = kwards\n",
        "    ejeX = v[\"ejeX\"]\n",
        "\n",
        "    fig, ax = plt.subplots(figsize = (figsize_x, figsize_y))\n",
        "    fig.suptitle(f'Diagrama de barras {v[\"title\"]}', fontsize=fontsize)\n",
        "\n",
        "    if type(ejeX) == str:\n",
        "      sns.countplot(x=ejeX, data=data, ax = ax, palette=paleta)\n",
        "    else:\n",
        "      ejeX = v['ejeX'][0]\n",
        "      sns.countplot(x=ejeX, hue=v['ejeX'][1], data=data, ax=ax, palette=paleta)\n",
        "\n",
        "    ax.set_ylabel(v['ejey'], size = 12)\n",
        "    ax.set_xlabel(ejeX, size=fontsize-3)\n",
        "\n",
        "    ax.set_xticklabels(ax.get_xticklabels(), fontsize = fontsize-3)\n",
        "    for p in ax.patches:\n",
        "      try:\n",
        "        height = int(p.get_height())\n",
        "        height_text = height\n",
        "        if kwards['p'] == True:\n",
        "          percentage = round(height/data.shape[0], 5)\n",
        "          height_text = f'{height} ({percentage})'\n",
        "        ax.text(p.get_x()+p.get_width()/2., height + 1, height_text, ha=\"center\")\n",
        "      except:\n",
        "        pass\n",
        "\n",
        "  except Exception as e:\n",
        "    print(e)\n",
        "\n",
        "regiones = {\n",
        "    'Amazonia': [\n",
        "        \"Amazonas\",\n",
        "        \"Caqueta\",\n",
        "        \"Guainia\",\n",
        "        \"Guaviare\",\n",
        "        \"Putumayo\",\n",
        "        \"Vaupes\"\n",
        "    ], 'Andina': [\n",
        "        \"Antioquia\",\n",
        "        \"Boyaca\",\n",
        "        \"Caldas\",\n",
        "        \"Cundinamarca\",\n",
        "        \"Huila\",\n",
        "        \"Norte de Santander\",\n",
        "        \"Quindio\",\n",
        "        \"Risaralda\",\n",
        "        \"Santander\",\n",
        "        \"Tolima\",\n",
        "        'Bogota, D.C.'\n",
        "    ], 'Caribe':[\n",
        "        \"Atlantico\",\n",
        "        \"Bolivar\",\n",
        "        \"Cesar\",\n",
        "        \"Cordoba\",\n",
        "        \"La Guajira\",\n",
        "        \"Magdalena\",\n",
        "        \"Sucre\"\n",
        "    ], 'Orinoquia': [\n",
        "        \"Arauca\",\n",
        "        \"Casanare\",\n",
        "        \"Meta\",\n",
        "        \"Vichada\",\n",
        "\n",
        "    ], 'Pacifico':[\n",
        "        \"Valle del Cauca\",\n",
        "        \"Choco\",\n",
        "        \"Cauca\",\n",
        "        \"Nariño\"\n",
        "    ]\n",
        "}\n",
        "\n",
        "def set_department(department:str):\n",
        "  \"\"\"assignment of the department\"\"\"\n",
        "  se = department\n",
        "  for i in regiones.items():\n",
        "      if department in i[1]:\n",
        "        se =  i[0]\n",
        "  return se"
      ],
      "metadata": {
        "id": "SMLmPVFqw6fo"
      },
      "execution_count": 94,
      "outputs": []
    },
    {
      "cell_type": "markdown",
      "source": [
        "# **Data**\n",
        "\n",
        "---\n",
        "\n"
      ],
      "metadata": {
        "id": "224T8tkExBs5"
      }
    },
    {
      "cell_type": "markdown",
      "source": [
        "The dataset is the extraction of resources from the Colombian territory."
      ],
      "metadata": {
        "id": "CDYKOk2dmSo6"
      }
    },
    {
      "cell_type": "code",
      "source": [
        "url_master =  'https://drive.google.com/uc?id='\n",
        "url_minero='https://drive.google.com/file/d/10_YGM_dOKzzLsLNkfB_bN5YeLgDHcrUZ/view?usp=sharing'\n",
        "\n",
        "url_minero =  url_master + url_minero.split('/')[-2]\n",
        "data_miner = pd.read_csv(url_minero, dtype=str)\n",
        "data_miner.head(2)"
      ],
      "metadata": {
        "colab": {
          "base_uri": "https://localhost:8080/",
          "height": 112
        },
        "id": "Lr-LENKPxAYw",
        "outputId": "42ff1e33-8cb5-4d89-9947-b33d9c2f944e"
      },
      "execution_count": 95,
      "outputs": [
        {
          "output_type": "execute_result",
          "data": {
            "text/plain": [
              "  Municipio Productor Departamento     Recurso Natural Nombre Del Proyecto  \\\n",
              "0            Medellin    Antioquia            ARCILLAS         PRODUCTORES   \n",
              "1            Medellin    Antioquia  ARCILLAS CERAMICAS         PRODUCTORES   \n",
              "\n",
              "  Año Produccion    Trimestre Unidad Medida Tipo Contraprestacion  \\\n",
              "0           2018  Trimestre 4     TONELADAS              REGALIAS   \n",
              "1           2014  Trimestre 4     TONELADAS              REGALIAS   \n",
              "\n",
              "  Valor Contraprestacion  Cantidad Producción  \n",
              "0                  614258                   0  \n",
              "1                 2036781               14381  "
            ],
            "text/html": [
              "\n",
              "  <div id=\"df-eaa24ecf-af8b-4b79-b3f5-e05140f0636b\" class=\"colab-df-container\">\n",
              "    <div>\n",
              "<style scoped>\n",
              "    .dataframe tbody tr th:only-of-type {\n",
              "        vertical-align: middle;\n",
              "    }\n",
              "\n",
              "    .dataframe tbody tr th {\n",
              "        vertical-align: top;\n",
              "    }\n",
              "\n",
              "    .dataframe thead th {\n",
              "        text-align: right;\n",
              "    }\n",
              "</style>\n",
              "<table border=\"1\" class=\"dataframe\">\n",
              "  <thead>\n",
              "    <tr style=\"text-align: right;\">\n",
              "      <th></th>\n",
              "      <th>Municipio Productor</th>\n",
              "      <th>Departamento</th>\n",
              "      <th>Recurso Natural</th>\n",
              "      <th>Nombre Del Proyecto</th>\n",
              "      <th>Año Produccion</th>\n",
              "      <th>Trimestre</th>\n",
              "      <th>Unidad Medida</th>\n",
              "      <th>Tipo Contraprestacion</th>\n",
              "      <th>Valor Contraprestacion</th>\n",
              "      <th>Cantidad Producción</th>\n",
              "    </tr>\n",
              "  </thead>\n",
              "  <tbody>\n",
              "    <tr>\n",
              "      <th>0</th>\n",
              "      <td>Medellin</td>\n",
              "      <td>Antioquia</td>\n",
              "      <td>ARCILLAS</td>\n",
              "      <td>PRODUCTORES</td>\n",
              "      <td>2018</td>\n",
              "      <td>Trimestre 4</td>\n",
              "      <td>TONELADAS</td>\n",
              "      <td>REGALIAS</td>\n",
              "      <td>614258</td>\n",
              "      <td>0</td>\n",
              "    </tr>\n",
              "    <tr>\n",
              "      <th>1</th>\n",
              "      <td>Medellin</td>\n",
              "      <td>Antioquia</td>\n",
              "      <td>ARCILLAS CERAMICAS</td>\n",
              "      <td>PRODUCTORES</td>\n",
              "      <td>2014</td>\n",
              "      <td>Trimestre 4</td>\n",
              "      <td>TONELADAS</td>\n",
              "      <td>REGALIAS</td>\n",
              "      <td>2036781</td>\n",
              "      <td>14381</td>\n",
              "    </tr>\n",
              "  </tbody>\n",
              "</table>\n",
              "</div>\n",
              "    <div class=\"colab-df-buttons\">\n",
              "\n",
              "  <div class=\"colab-df-container\">\n",
              "    <button class=\"colab-df-convert\" onclick=\"convertToInteractive('df-eaa24ecf-af8b-4b79-b3f5-e05140f0636b')\"\n",
              "            title=\"Convert this dataframe to an interactive table.\"\n",
              "            style=\"display:none;\">\n",
              "\n",
              "  <svg xmlns=\"http://www.w3.org/2000/svg\" height=\"24px\" viewBox=\"0 -960 960 960\">\n",
              "    <path d=\"M120-120v-720h720v720H120Zm60-500h600v-160H180v160Zm220 220h160v-160H400v160Zm0 220h160v-160H400v160ZM180-400h160v-160H180v160Zm440 0h160v-160H620v160ZM180-180h160v-160H180v160Zm440 0h160v-160H620v160Z\"/>\n",
              "  </svg>\n",
              "    </button>\n",
              "\n",
              "  <style>\n",
              "    .colab-df-container {\n",
              "      display:flex;\n",
              "      gap: 12px;\n",
              "    }\n",
              "\n",
              "    .colab-df-convert {\n",
              "      background-color: #E8F0FE;\n",
              "      border: none;\n",
              "      border-radius: 50%;\n",
              "      cursor: pointer;\n",
              "      display: none;\n",
              "      fill: #1967D2;\n",
              "      height: 32px;\n",
              "      padding: 0 0 0 0;\n",
              "      width: 32px;\n",
              "    }\n",
              "\n",
              "    .colab-df-convert:hover {\n",
              "      background-color: #E2EBFA;\n",
              "      box-shadow: 0px 1px 2px rgba(60, 64, 67, 0.3), 0px 1px 3px 1px rgba(60, 64, 67, 0.15);\n",
              "      fill: #174EA6;\n",
              "    }\n",
              "\n",
              "    .colab-df-buttons div {\n",
              "      margin-bottom: 4px;\n",
              "    }\n",
              "\n",
              "    [theme=dark] .colab-df-convert {\n",
              "      background-color: #3B4455;\n",
              "      fill: #D2E3FC;\n",
              "    }\n",
              "\n",
              "    [theme=dark] .colab-df-convert:hover {\n",
              "      background-color: #434B5C;\n",
              "      box-shadow: 0px 1px 3px 1px rgba(0, 0, 0, 0.15);\n",
              "      filter: drop-shadow(0px 1px 2px rgba(0, 0, 0, 0.3));\n",
              "      fill: #FFFFFF;\n",
              "    }\n",
              "  </style>\n",
              "\n",
              "    <script>\n",
              "      const buttonEl =\n",
              "        document.querySelector('#df-eaa24ecf-af8b-4b79-b3f5-e05140f0636b button.colab-df-convert');\n",
              "      buttonEl.style.display =\n",
              "        google.colab.kernel.accessAllowed ? 'block' : 'none';\n",
              "\n",
              "      async function convertToInteractive(key) {\n",
              "        const element = document.querySelector('#df-eaa24ecf-af8b-4b79-b3f5-e05140f0636b');\n",
              "        const dataTable =\n",
              "          await google.colab.kernel.invokeFunction('convertToInteractive',\n",
              "                                                    [key], {});\n",
              "        if (!dataTable) return;\n",
              "\n",
              "        const docLinkHtml = 'Like what you see? Visit the ' +\n",
              "          '<a target=\"_blank\" href=https://colab.research.google.com/notebooks/data_table.ipynb>data table notebook</a>'\n",
              "          + ' to learn more about interactive tables.';\n",
              "        element.innerHTML = '';\n",
              "        dataTable['output_type'] = 'display_data';\n",
              "        await google.colab.output.renderOutput(dataTable, element);\n",
              "        const docLink = document.createElement('div');\n",
              "        docLink.innerHTML = docLinkHtml;\n",
              "        element.appendChild(docLink);\n",
              "      }\n",
              "    </script>\n",
              "  </div>\n",
              "\n",
              "\n",
              "<div id=\"df-af3bdda3-7ccd-4217-945e-c1d4905c2fba\">\n",
              "  <button class=\"colab-df-quickchart\" onclick=\"quickchart('df-af3bdda3-7ccd-4217-945e-c1d4905c2fba')\"\n",
              "            title=\"Suggest charts\"\n",
              "            style=\"display:none;\">\n",
              "\n",
              "<svg xmlns=\"http://www.w3.org/2000/svg\" height=\"24px\"viewBox=\"0 0 24 24\"\n",
              "     width=\"24px\">\n",
              "    <g>\n",
              "        <path d=\"M19 3H5c-1.1 0-2 .9-2 2v14c0 1.1.9 2 2 2h14c1.1 0 2-.9 2-2V5c0-1.1-.9-2-2-2zM9 17H7v-7h2v7zm4 0h-2V7h2v10zm4 0h-2v-4h2v4z\"/>\n",
              "    </g>\n",
              "</svg>\n",
              "  </button>\n",
              "\n",
              "<style>\n",
              "  .colab-df-quickchart {\n",
              "      --bg-color: #E8F0FE;\n",
              "      --fill-color: #1967D2;\n",
              "      --hover-bg-color: #E2EBFA;\n",
              "      --hover-fill-color: #174EA6;\n",
              "      --disabled-fill-color: #AAA;\n",
              "      --disabled-bg-color: #DDD;\n",
              "  }\n",
              "\n",
              "  [theme=dark] .colab-df-quickchart {\n",
              "      --bg-color: #3B4455;\n",
              "      --fill-color: #D2E3FC;\n",
              "      --hover-bg-color: #434B5C;\n",
              "      --hover-fill-color: #FFFFFF;\n",
              "      --disabled-bg-color: #3B4455;\n",
              "      --disabled-fill-color: #666;\n",
              "  }\n",
              "\n",
              "  .colab-df-quickchart {\n",
              "    background-color: var(--bg-color);\n",
              "    border: none;\n",
              "    border-radius: 50%;\n",
              "    cursor: pointer;\n",
              "    display: none;\n",
              "    fill: var(--fill-color);\n",
              "    height: 32px;\n",
              "    padding: 0;\n",
              "    width: 32px;\n",
              "  }\n",
              "\n",
              "  .colab-df-quickchart:hover {\n",
              "    background-color: var(--hover-bg-color);\n",
              "    box-shadow: 0 1px 2px rgba(60, 64, 67, 0.3), 0 1px 3px 1px rgba(60, 64, 67, 0.15);\n",
              "    fill: var(--button-hover-fill-color);\n",
              "  }\n",
              "\n",
              "  .colab-df-quickchart-complete:disabled,\n",
              "  .colab-df-quickchart-complete:disabled:hover {\n",
              "    background-color: var(--disabled-bg-color);\n",
              "    fill: var(--disabled-fill-color);\n",
              "    box-shadow: none;\n",
              "  }\n",
              "\n",
              "  .colab-df-spinner {\n",
              "    border: 2px solid var(--fill-color);\n",
              "    border-color: transparent;\n",
              "    border-bottom-color: var(--fill-color);\n",
              "    animation:\n",
              "      spin 1s steps(1) infinite;\n",
              "  }\n",
              "\n",
              "  @keyframes spin {\n",
              "    0% {\n",
              "      border-color: transparent;\n",
              "      border-bottom-color: var(--fill-color);\n",
              "      border-left-color: var(--fill-color);\n",
              "    }\n",
              "    20% {\n",
              "      border-color: transparent;\n",
              "      border-left-color: var(--fill-color);\n",
              "      border-top-color: var(--fill-color);\n",
              "    }\n",
              "    30% {\n",
              "      border-color: transparent;\n",
              "      border-left-color: var(--fill-color);\n",
              "      border-top-color: var(--fill-color);\n",
              "      border-right-color: var(--fill-color);\n",
              "    }\n",
              "    40% {\n",
              "      border-color: transparent;\n",
              "      border-right-color: var(--fill-color);\n",
              "      border-top-color: var(--fill-color);\n",
              "    }\n",
              "    60% {\n",
              "      border-color: transparent;\n",
              "      border-right-color: var(--fill-color);\n",
              "    }\n",
              "    80% {\n",
              "      border-color: transparent;\n",
              "      border-right-color: var(--fill-color);\n",
              "      border-bottom-color: var(--fill-color);\n",
              "    }\n",
              "    90% {\n",
              "      border-color: transparent;\n",
              "      border-bottom-color: var(--fill-color);\n",
              "    }\n",
              "  }\n",
              "</style>\n",
              "\n",
              "  <script>\n",
              "    async function quickchart(key) {\n",
              "      const quickchartButtonEl =\n",
              "        document.querySelector('#' + key + ' button');\n",
              "      quickchartButtonEl.disabled = true;  // To prevent multiple clicks.\n",
              "      quickchartButtonEl.classList.add('colab-df-spinner');\n",
              "      try {\n",
              "        const charts = await google.colab.kernel.invokeFunction(\n",
              "            'suggestCharts', [key], {});\n",
              "      } catch (error) {\n",
              "        console.error('Error during call to suggestCharts:', error);\n",
              "      }\n",
              "      quickchartButtonEl.classList.remove('colab-df-spinner');\n",
              "      quickchartButtonEl.classList.add('colab-df-quickchart-complete');\n",
              "    }\n",
              "    (() => {\n",
              "      let quickchartButtonEl =\n",
              "        document.querySelector('#df-af3bdda3-7ccd-4217-945e-c1d4905c2fba button');\n",
              "      quickchartButtonEl.style.display =\n",
              "        google.colab.kernel.accessAllowed ? 'block' : 'none';\n",
              "    })();\n",
              "  </script>\n",
              "</div>\n",
              "\n",
              "    </div>\n",
              "  </div>\n"
            ],
            "application/vnd.google.colaboratory.intrinsic+json": {
              "type": "dataframe",
              "variable_name": "data_miner",
              "summary": "{\n  \"name\": \"data_miner\",\n  \"rows\": 55257,\n  \"fields\": [\n    {\n      \"column\": \"Municipio Productor\",\n      \"properties\": {\n        \"dtype\": \"category\",\n        \"num_unique_values\": 854,\n        \"samples\": [\n          \"Remedios\",\n          \"San Bernardo - Cundinamarca\",\n          \"Miraflores - Boyaca\"\n        ],\n        \"semantic_type\": \"\",\n        \"description\": \"\"\n      }\n    },\n    {\n      \"column\": \"Departamento\",\n      \"properties\": {\n        \"dtype\": \"category\",\n        \"num_unique_values\": 32,\n        \"samples\": [\n          \"Guaviare\",\n          \"Meta\",\n          \"Arauca\"\n        ],\n        \"semantic_type\": \"\",\n        \"description\": \"\"\n      }\n    },\n    {\n      \"column\": \"Recurso Natural\",\n      \"properties\": {\n        \"dtype\": \"category\",\n        \"num_unique_values\": 73,\n        \"samples\": [\n          \"ARENAS\",\n          \"MARMOL EN RAJ\\u00d3N (RETAL DE M\\u00c1RMOL)\",\n          \"GRAVAS DE RIO\"\n        ],\n        \"semantic_type\": \"\",\n        \"description\": \"\"\n      }\n    },\n    {\n      \"column\": \"Nombre Del Proyecto\",\n      \"properties\": {\n        \"dtype\": \"category\",\n        \"num_unique_values\": 26,\n        \"samples\": [\n          \"Drummond - El Corozo\",\n          \"COLSALMINAS LTDA\",\n          \"PRODUCTORES\"\n        ],\n        \"semantic_type\": \"\",\n        \"description\": \"\"\n      }\n    },\n    {\n      \"column\": \"A\\u00f1o Produccion\",\n      \"properties\": {\n        \"dtype\": \"object\",\n        \"num_unique_values\": 12,\n        \"samples\": [\n          \"2020\",\n          \"2017\",\n          \"2018\"\n        ],\n        \"semantic_type\": \"\",\n        \"description\": \"\"\n      }\n    },\n    {\n      \"column\": \"Trimestre\",\n      \"properties\": {\n        \"dtype\": \"category\",\n        \"num_unique_values\": 4,\n        \"samples\": [\n          \"Trimestre 1\",\n          \"Trimestre 3\",\n          \"Trimestre 4\"\n        ],\n        \"semantic_type\": \"\",\n        \"description\": \"\"\n      }\n    },\n    {\n      \"column\": \"Unidad Medida\",\n      \"properties\": {\n        \"dtype\": \"category\",\n        \"num_unique_values\": 6,\n        \"samples\": [\n          \"TONELADAS\",\n          \"METROS CUBICOS\",\n          \"LIBRAS\"\n        ],\n        \"semantic_type\": \"\",\n        \"description\": \"\"\n      }\n    },\n    {\n      \"column\": \"Tipo Contraprestacion\",\n      \"properties\": {\n        \"dtype\": \"category\",\n        \"num_unique_values\": 2,\n        \"samples\": [\n          \"COMPENSACI\\u00d3N\",\n          \"REGALIAS\"\n        ],\n        \"semantic_type\": \"\",\n        \"description\": \"\"\n      }\n    },\n    {\n      \"column\": \"Valor Contraprestacion \",\n      \"properties\": {\n        \"dtype\": \"string\",\n        \"num_unique_values\": 52868,\n        \"samples\": [\n          \"753078\",\n          \"5761636\"\n        ],\n        \"semantic_type\": \"\",\n        \"description\": \"\"\n      }\n    },\n    {\n      \"column\": \"Cantidad Producci\\u00f3n\",\n      \"properties\": {\n        \"dtype\": \"category\",\n        \"num_unique_values\": 24596,\n        \"samples\": [\n          \"34\",\n          \"994\"\n        ],\n        \"semantic_type\": \"\",\n        \"description\": \"\"\n      }\n    }\n  ]\n}"
            }
          },
          "metadata": {},
          "execution_count": 95
        }
      ]
    },
    {
      "cell_type": "markdown",
      "source": [
        "**Normalization**"
      ],
      "metadata": {
        "id": "TN30bnFFxaDJ"
      }
    },
    {
      "cell_type": "markdown",
      "source": [
        "The column names are normalize, as well as their data types."
      ],
      "metadata": {
        "id": "PtrC88wBuflk"
      }
    },
    {
      "cell_type": "code",
      "source": [
        "data_miner.columns = normalize_name_columns(data_miner.columns)"
      ],
      "metadata": {
        "id": "OBS8dVznxGxw"
      },
      "execution_count": 96,
      "outputs": []
    },
    {
      "cell_type": "code",
      "source": [
        "data_miner.columns = [\n",
        "    \"producing_municipality\",\n",
        "    \"department\",\n",
        "    \"natural_resource\",\n",
        "    \"project_name\",\n",
        "    \"production_year\",\n",
        "    \"quarter\",\n",
        "    \"unit_of_measure\",\n",
        "    \"type_of_counterpart\",\n",
        "    \"counterpart_value\",\n",
        "    'production_quantity'\n",
        "]"
      ],
      "metadata": {
        "id": "-IGJ2a9oyKm5"
      },
      "execution_count": 97,
      "outputs": []
    },
    {
      "cell_type": "markdown",
      "source": [
        "**Data Type Setting**"
      ],
      "metadata": {
        "id": "WvuI7agcx90h"
      }
    },
    {
      "cell_type": "code",
      "source": [
        "data_miner[[\n",
        "    'production_year'\n",
        "]] = data_miner[[\n",
        "    'production_year'\n",
        "]].astype('int32')"
      ],
      "metadata": {
        "id": "F8I-l_uMyFDq"
      },
      "execution_count": 98,
      "outputs": []
    },
    {
      "cell_type": "code",
      "source": [
        "data_miner[[\n",
        "    'counterpart_value',\n",
        "    'production_quantity'\n",
        "]] = data_miner[[\n",
        "    'counterpart_value',\n",
        "    'production_quantity'\n",
        "]].astype('float64')"
      ],
      "metadata": {
        "id": "95LzcHVyyxZZ"
      },
      "execution_count": 99,
      "outputs": []
    },
    {
      "cell_type": "markdown",
      "source": [
        "**Info**"
      ],
      "metadata": {
        "id": "3NaceBLVzRH5"
      }
    },
    {
      "cell_type": "code",
      "source": [
        "data_miner.info()"
      ],
      "metadata": {
        "colab": {
          "base_uri": "https://localhost:8080/"
        },
        "id": "t3nfnQf5yzaY",
        "outputId": "abf1e90a-7cd9-4a11-8134-7262db3597e8"
      },
      "execution_count": 100,
      "outputs": [
        {
          "output_type": "stream",
          "name": "stdout",
          "text": [
            "<class 'pandas.core.frame.DataFrame'>\n",
            "RangeIndex: 55257 entries, 0 to 55256\n",
            "Data columns (total 10 columns):\n",
            " #   Column                  Non-Null Count  Dtype  \n",
            "---  ------                  --------------  -----  \n",
            " 0   producing_municipality  55257 non-null  object \n",
            " 1   department              55257 non-null  object \n",
            " 2   natural_resource        55257 non-null  object \n",
            " 3   project_name            55257 non-null  object \n",
            " 4   production_year         55257 non-null  int32  \n",
            " 5   quarter                 55257 non-null  object \n",
            " 6   unit_of_measure         55257 non-null  object \n",
            " 7   type_of_counterpart     55257 non-null  object \n",
            " 8   counterpart_value       55257 non-null  float64\n",
            " 9   production_quantity     55257 non-null  float64\n",
            "dtypes: float64(2), int32(1), object(7)\n",
            "memory usage: 4.0+ MB\n"
          ]
        }
      ]
    },
    {
      "cell_type": "markdown",
      "source": [
        "There are no explicit null values ​​present."
      ],
      "metadata": {
        "id": "l6T4v6YJvCV6"
      }
    },
    {
      "cell_type": "markdown",
      "source": [
        "The last four years are used. 2018, 2019, 2020, 2021"
      ],
      "metadata": {
        "id": "u3PI5Em3vTIb"
      }
    },
    {
      "cell_type": "code",
      "source": [
        "data_miner.production_year.value_counts().reset_index().T"
      ],
      "metadata": {
        "colab": {
          "base_uri": "https://localhost:8080/",
          "height": 112
        },
        "id": "IYqcwAMZxtv5",
        "outputId": "af7729bc-a61a-46ae-fbc6-c8f6c17e991f"
      },
      "execution_count": 101,
      "outputs": [
        {
          "output_type": "execute_result",
          "data": {
            "text/plain": [
              "                   0     1     2     3     4     5     6     7     8     9   \\\n",
              "production_year  2013  2017  2018  2016  2019  2014  2015  2012  2022  2021   \n",
              "count            5587  5343  5305  5285  5133  4869  4817  4307  4150  4141   \n",
              "\n",
              "                   10    11  \n",
              "production_year  2020  2023  \n",
              "count            3965  2355  "
            ],
            "text/html": [
              "\n",
              "  <div id=\"df-d4a15f7e-43f0-4fc8-ae04-a7cbca79344b\" class=\"colab-df-container\">\n",
              "    <div>\n",
              "<style scoped>\n",
              "    .dataframe tbody tr th:only-of-type {\n",
              "        vertical-align: middle;\n",
              "    }\n",
              "\n",
              "    .dataframe tbody tr th {\n",
              "        vertical-align: top;\n",
              "    }\n",
              "\n",
              "    .dataframe thead th {\n",
              "        text-align: right;\n",
              "    }\n",
              "</style>\n",
              "<table border=\"1\" class=\"dataframe\">\n",
              "  <thead>\n",
              "    <tr style=\"text-align: right;\">\n",
              "      <th></th>\n",
              "      <th>0</th>\n",
              "      <th>1</th>\n",
              "      <th>2</th>\n",
              "      <th>3</th>\n",
              "      <th>4</th>\n",
              "      <th>5</th>\n",
              "      <th>6</th>\n",
              "      <th>7</th>\n",
              "      <th>8</th>\n",
              "      <th>9</th>\n",
              "      <th>10</th>\n",
              "      <th>11</th>\n",
              "    </tr>\n",
              "  </thead>\n",
              "  <tbody>\n",
              "    <tr>\n",
              "      <th>production_year</th>\n",
              "      <td>2013</td>\n",
              "      <td>2017</td>\n",
              "      <td>2018</td>\n",
              "      <td>2016</td>\n",
              "      <td>2019</td>\n",
              "      <td>2014</td>\n",
              "      <td>2015</td>\n",
              "      <td>2012</td>\n",
              "      <td>2022</td>\n",
              "      <td>2021</td>\n",
              "      <td>2020</td>\n",
              "      <td>2023</td>\n",
              "    </tr>\n",
              "    <tr>\n",
              "      <th>count</th>\n",
              "      <td>5587</td>\n",
              "      <td>5343</td>\n",
              "      <td>5305</td>\n",
              "      <td>5285</td>\n",
              "      <td>5133</td>\n",
              "      <td>4869</td>\n",
              "      <td>4817</td>\n",
              "      <td>4307</td>\n",
              "      <td>4150</td>\n",
              "      <td>4141</td>\n",
              "      <td>3965</td>\n",
              "      <td>2355</td>\n",
              "    </tr>\n",
              "  </tbody>\n",
              "</table>\n",
              "</div>\n",
              "    <div class=\"colab-df-buttons\">\n",
              "\n",
              "  <div class=\"colab-df-container\">\n",
              "    <button class=\"colab-df-convert\" onclick=\"convertToInteractive('df-d4a15f7e-43f0-4fc8-ae04-a7cbca79344b')\"\n",
              "            title=\"Convert this dataframe to an interactive table.\"\n",
              "            style=\"display:none;\">\n",
              "\n",
              "  <svg xmlns=\"http://www.w3.org/2000/svg\" height=\"24px\" viewBox=\"0 -960 960 960\">\n",
              "    <path d=\"M120-120v-720h720v720H120Zm60-500h600v-160H180v160Zm220 220h160v-160H400v160Zm0 220h160v-160H400v160ZM180-400h160v-160H180v160Zm440 0h160v-160H620v160ZM180-180h160v-160H180v160Zm440 0h160v-160H620v160Z\"/>\n",
              "  </svg>\n",
              "    </button>\n",
              "\n",
              "  <style>\n",
              "    .colab-df-container {\n",
              "      display:flex;\n",
              "      gap: 12px;\n",
              "    }\n",
              "\n",
              "    .colab-df-convert {\n",
              "      background-color: #E8F0FE;\n",
              "      border: none;\n",
              "      border-radius: 50%;\n",
              "      cursor: pointer;\n",
              "      display: none;\n",
              "      fill: #1967D2;\n",
              "      height: 32px;\n",
              "      padding: 0 0 0 0;\n",
              "      width: 32px;\n",
              "    }\n",
              "\n",
              "    .colab-df-convert:hover {\n",
              "      background-color: #E2EBFA;\n",
              "      box-shadow: 0px 1px 2px rgba(60, 64, 67, 0.3), 0px 1px 3px 1px rgba(60, 64, 67, 0.15);\n",
              "      fill: #174EA6;\n",
              "    }\n",
              "\n",
              "    .colab-df-buttons div {\n",
              "      margin-bottom: 4px;\n",
              "    }\n",
              "\n",
              "    [theme=dark] .colab-df-convert {\n",
              "      background-color: #3B4455;\n",
              "      fill: #D2E3FC;\n",
              "    }\n",
              "\n",
              "    [theme=dark] .colab-df-convert:hover {\n",
              "      background-color: #434B5C;\n",
              "      box-shadow: 0px 1px 3px 1px rgba(0, 0, 0, 0.15);\n",
              "      filter: drop-shadow(0px 1px 2px rgba(0, 0, 0, 0.3));\n",
              "      fill: #FFFFFF;\n",
              "    }\n",
              "  </style>\n",
              "\n",
              "    <script>\n",
              "      const buttonEl =\n",
              "        document.querySelector('#df-d4a15f7e-43f0-4fc8-ae04-a7cbca79344b button.colab-df-convert');\n",
              "      buttonEl.style.display =\n",
              "        google.colab.kernel.accessAllowed ? 'block' : 'none';\n",
              "\n",
              "      async function convertToInteractive(key) {\n",
              "        const element = document.querySelector('#df-d4a15f7e-43f0-4fc8-ae04-a7cbca79344b');\n",
              "        const dataTable =\n",
              "          await google.colab.kernel.invokeFunction('convertToInteractive',\n",
              "                                                    [key], {});\n",
              "        if (!dataTable) return;\n",
              "\n",
              "        const docLinkHtml = 'Like what you see? Visit the ' +\n",
              "          '<a target=\"_blank\" href=https://colab.research.google.com/notebooks/data_table.ipynb>data table notebook</a>'\n",
              "          + ' to learn more about interactive tables.';\n",
              "        element.innerHTML = '';\n",
              "        dataTable['output_type'] = 'display_data';\n",
              "        await google.colab.output.renderOutput(dataTable, element);\n",
              "        const docLink = document.createElement('div');\n",
              "        docLink.innerHTML = docLinkHtml;\n",
              "        element.appendChild(docLink);\n",
              "      }\n",
              "    </script>\n",
              "  </div>\n",
              "\n",
              "\n",
              "<div id=\"df-6081bd0d-41aa-427f-b7e2-3764544abec3\">\n",
              "  <button class=\"colab-df-quickchart\" onclick=\"quickchart('df-6081bd0d-41aa-427f-b7e2-3764544abec3')\"\n",
              "            title=\"Suggest charts\"\n",
              "            style=\"display:none;\">\n",
              "\n",
              "<svg xmlns=\"http://www.w3.org/2000/svg\" height=\"24px\"viewBox=\"0 0 24 24\"\n",
              "     width=\"24px\">\n",
              "    <g>\n",
              "        <path d=\"M19 3H5c-1.1 0-2 .9-2 2v14c0 1.1.9 2 2 2h14c1.1 0 2-.9 2-2V5c0-1.1-.9-2-2-2zM9 17H7v-7h2v7zm4 0h-2V7h2v10zm4 0h-2v-4h2v4z\"/>\n",
              "    </g>\n",
              "</svg>\n",
              "  </button>\n",
              "\n",
              "<style>\n",
              "  .colab-df-quickchart {\n",
              "      --bg-color: #E8F0FE;\n",
              "      --fill-color: #1967D2;\n",
              "      --hover-bg-color: #E2EBFA;\n",
              "      --hover-fill-color: #174EA6;\n",
              "      --disabled-fill-color: #AAA;\n",
              "      --disabled-bg-color: #DDD;\n",
              "  }\n",
              "\n",
              "  [theme=dark] .colab-df-quickchart {\n",
              "      --bg-color: #3B4455;\n",
              "      --fill-color: #D2E3FC;\n",
              "      --hover-bg-color: #434B5C;\n",
              "      --hover-fill-color: #FFFFFF;\n",
              "      --disabled-bg-color: #3B4455;\n",
              "      --disabled-fill-color: #666;\n",
              "  }\n",
              "\n",
              "  .colab-df-quickchart {\n",
              "    background-color: var(--bg-color);\n",
              "    border: none;\n",
              "    border-radius: 50%;\n",
              "    cursor: pointer;\n",
              "    display: none;\n",
              "    fill: var(--fill-color);\n",
              "    height: 32px;\n",
              "    padding: 0;\n",
              "    width: 32px;\n",
              "  }\n",
              "\n",
              "  .colab-df-quickchart:hover {\n",
              "    background-color: var(--hover-bg-color);\n",
              "    box-shadow: 0 1px 2px rgba(60, 64, 67, 0.3), 0 1px 3px 1px rgba(60, 64, 67, 0.15);\n",
              "    fill: var(--button-hover-fill-color);\n",
              "  }\n",
              "\n",
              "  .colab-df-quickchart-complete:disabled,\n",
              "  .colab-df-quickchart-complete:disabled:hover {\n",
              "    background-color: var(--disabled-bg-color);\n",
              "    fill: var(--disabled-fill-color);\n",
              "    box-shadow: none;\n",
              "  }\n",
              "\n",
              "  .colab-df-spinner {\n",
              "    border: 2px solid var(--fill-color);\n",
              "    border-color: transparent;\n",
              "    border-bottom-color: var(--fill-color);\n",
              "    animation:\n",
              "      spin 1s steps(1) infinite;\n",
              "  }\n",
              "\n",
              "  @keyframes spin {\n",
              "    0% {\n",
              "      border-color: transparent;\n",
              "      border-bottom-color: var(--fill-color);\n",
              "      border-left-color: var(--fill-color);\n",
              "    }\n",
              "    20% {\n",
              "      border-color: transparent;\n",
              "      border-left-color: var(--fill-color);\n",
              "      border-top-color: var(--fill-color);\n",
              "    }\n",
              "    30% {\n",
              "      border-color: transparent;\n",
              "      border-left-color: var(--fill-color);\n",
              "      border-top-color: var(--fill-color);\n",
              "      border-right-color: var(--fill-color);\n",
              "    }\n",
              "    40% {\n",
              "      border-color: transparent;\n",
              "      border-right-color: var(--fill-color);\n",
              "      border-top-color: var(--fill-color);\n",
              "    }\n",
              "    60% {\n",
              "      border-color: transparent;\n",
              "      border-right-color: var(--fill-color);\n",
              "    }\n",
              "    80% {\n",
              "      border-color: transparent;\n",
              "      border-right-color: var(--fill-color);\n",
              "      border-bottom-color: var(--fill-color);\n",
              "    }\n",
              "    90% {\n",
              "      border-color: transparent;\n",
              "      border-bottom-color: var(--fill-color);\n",
              "    }\n",
              "  }\n",
              "</style>\n",
              "\n",
              "  <script>\n",
              "    async function quickchart(key) {\n",
              "      const quickchartButtonEl =\n",
              "        document.querySelector('#' + key + ' button');\n",
              "      quickchartButtonEl.disabled = true;  // To prevent multiple clicks.\n",
              "      quickchartButtonEl.classList.add('colab-df-spinner');\n",
              "      try {\n",
              "        const charts = await google.colab.kernel.invokeFunction(\n",
              "            'suggestCharts', [key], {});\n",
              "      } catch (error) {\n",
              "        console.error('Error during call to suggestCharts:', error);\n",
              "      }\n",
              "      quickchartButtonEl.classList.remove('colab-df-spinner');\n",
              "      quickchartButtonEl.classList.add('colab-df-quickchart-complete');\n",
              "    }\n",
              "    (() => {\n",
              "      let quickchartButtonEl =\n",
              "        document.querySelector('#df-6081bd0d-41aa-427f-b7e2-3764544abec3 button');\n",
              "      quickchartButtonEl.style.display =\n",
              "        google.colab.kernel.accessAllowed ? 'block' : 'none';\n",
              "    })();\n",
              "  </script>\n",
              "</div>\n",
              "\n",
              "    </div>\n",
              "  </div>\n"
            ],
            "application/vnd.google.colaboratory.intrinsic+json": {
              "type": "dataframe",
              "summary": "{\n  \"name\": \"data_miner\",\n  \"rows\": 2,\n  \"fields\": [\n    {\n      \"column\": 0,\n      \"properties\": {\n        \"dtype\": \"number\",\n        \"std\": 2527,\n        \"min\": 2013,\n        \"max\": 5587,\n        \"num_unique_values\": 2,\n        \"samples\": [\n          5587,\n          2013\n        ],\n        \"semantic_type\": \"\",\n        \"description\": \"\"\n      }\n    },\n    {\n      \"column\": 1,\n      \"properties\": {\n        \"dtype\": \"number\",\n        \"std\": 2351,\n        \"min\": 2017,\n        \"max\": 5343,\n        \"num_unique_values\": 2,\n        \"samples\": [\n          5343,\n          2017\n        ],\n        \"semantic_type\": \"\",\n        \"description\": \"\"\n      }\n    },\n    {\n      \"column\": 2,\n      \"properties\": {\n        \"dtype\": \"number\",\n        \"std\": 2324,\n        \"min\": 2018,\n        \"max\": 5305,\n        \"num_unique_values\": 2,\n        \"samples\": [\n          5305,\n          2018\n        ],\n        \"semantic_type\": \"\",\n        \"description\": \"\"\n      }\n    },\n    {\n      \"column\": 3,\n      \"properties\": {\n        \"dtype\": \"number\",\n        \"std\": 2311,\n        \"min\": 2016,\n        \"max\": 5285,\n        \"num_unique_values\": 2,\n        \"samples\": [\n          5285,\n          2016\n        ],\n        \"semantic_type\": \"\",\n        \"description\": \"\"\n      }\n    },\n    {\n      \"column\": 4,\n      \"properties\": {\n        \"dtype\": \"number\",\n        \"std\": 2201,\n        \"min\": 2019,\n        \"max\": 5133,\n        \"num_unique_values\": 2,\n        \"samples\": [\n          5133,\n          2019\n        ],\n        \"semantic_type\": \"\",\n        \"description\": \"\"\n      }\n    },\n    {\n      \"column\": 5,\n      \"properties\": {\n        \"dtype\": \"number\",\n        \"std\": 2018,\n        \"min\": 2014,\n        \"max\": 4869,\n        \"num_unique_values\": 2,\n        \"samples\": [\n          4869,\n          2014\n        ],\n        \"semantic_type\": \"\",\n        \"description\": \"\"\n      }\n    },\n    {\n      \"column\": 6,\n      \"properties\": {\n        \"dtype\": \"number\",\n        \"std\": 1981,\n        \"min\": 2015,\n        \"max\": 4817,\n        \"num_unique_values\": 2,\n        \"samples\": [\n          4817,\n          2015\n        ],\n        \"semantic_type\": \"\",\n        \"description\": \"\"\n      }\n    },\n    {\n      \"column\": 7,\n      \"properties\": {\n        \"dtype\": \"number\",\n        \"std\": 1622,\n        \"min\": 2012,\n        \"max\": 4307,\n        \"num_unique_values\": 2,\n        \"samples\": [\n          4307,\n          2012\n        ],\n        \"semantic_type\": \"\",\n        \"description\": \"\"\n      }\n    },\n    {\n      \"column\": 8,\n      \"properties\": {\n        \"dtype\": \"number\",\n        \"std\": 1504,\n        \"min\": 2022,\n        \"max\": 4150,\n        \"num_unique_values\": 2,\n        \"samples\": [\n          4150,\n          2022\n        ],\n        \"semantic_type\": \"\",\n        \"description\": \"\"\n      }\n    },\n    {\n      \"column\": 9,\n      \"properties\": {\n        \"dtype\": \"number\",\n        \"std\": 1499,\n        \"min\": 2021,\n        \"max\": 4141,\n        \"num_unique_values\": 2,\n        \"samples\": [\n          4141,\n          2021\n        ],\n        \"semantic_type\": \"\",\n        \"description\": \"\"\n      }\n    },\n    {\n      \"column\": 10,\n      \"properties\": {\n        \"dtype\": \"number\",\n        \"std\": 1375,\n        \"min\": 2020,\n        \"max\": 3965,\n        \"num_unique_values\": 2,\n        \"samples\": [\n          3965,\n          2020\n        ],\n        \"semantic_type\": \"\",\n        \"description\": \"\"\n      }\n    },\n    {\n      \"column\": 11,\n      \"properties\": {\n        \"dtype\": \"number\",\n        \"std\": 234,\n        \"min\": 2023,\n        \"max\": 2355,\n        \"num_unique_values\": 2,\n        \"samples\": [\n          2355,\n          2023\n        ],\n        \"semantic_type\": \"\",\n        \"description\": \"\"\n      }\n    }\n  ]\n}"
            }
          },
          "metadata": {},
          "execution_count": 101
        }
      ]
    },
    {
      "cell_type": "markdown",
      "source": [
        "To narrow down the problem, records of the extraction of precious metals such as GOLD, SILVER, and PLATINUM  used"
      ],
      "metadata": {
        "id": "q51EQQRFvn0T"
      }
    },
    {
      "cell_type": "code",
      "source": [
        "new_data = data_miner[\n",
        "    (data_miner['unit_of_measure'] == 'GRAMOS') &\n",
        "    (data_miner.production_year>=2018) &\n",
        "    (data_miner.production_year<=2021)\n",
        "]"
      ],
      "metadata": {
        "id": "FD7h-oBVdAyf"
      },
      "execution_count": 102,
      "outputs": []
    },
    {
      "cell_type": "code",
      "source": [
        "new_data.head()"
      ],
      "metadata": {
        "colab": {
          "base_uri": "https://localhost:8080/",
          "height": 206
        },
        "id": "8ePDU6HAgISC",
        "outputId": "4172a78b-8483-4b21-85ae-21e2daa804c1"
      },
      "execution_count": 103,
      "outputs": [
        {
          "output_type": "execute_result",
          "data": {
            "text/plain": [
              "    producing_municipality department natural_resource project_name  \\\n",
              "166              Abejorral  Antioquia              ORO  PRODUCTORES   \n",
              "185              Abejorral  Antioquia            PLATA  PRODUCTORES   \n",
              "190               Abriaqui  Antioquia              ORO  PRODUCTORES   \n",
              "200               Abriaqui  Antioquia              ORO  PRODUCTORES   \n",
              "201               Abriaqui  Antioquia              ORO  PRODUCTORES   \n",
              "\n",
              "     production_year      quarter unit_of_measure type_of_counterpart  \\\n",
              "166             2020  Trimestre 1          GRAMOS            REGALIAS   \n",
              "185             2020  Trimestre 1          GRAMOS            REGALIAS   \n",
              "190             2018  Trimestre 1          GRAMOS            REGALIAS   \n",
              "200             2018  Trimestre 1          GRAMOS            REGALIAS   \n",
              "201             2020  Trimestre 1          GRAMOS            REGALIAS   \n",
              "\n",
              "     counterpart_value  production_quantity  \n",
              "166      133,820.00000             25.00000  \n",
              "185          156.00000              3.00000  \n",
              "190   14,609,831.00000          3,757.00000  \n",
              "200   10,855,451.00000          2,771.00000  \n",
              "201   18,310,150.00000          3,378.00000  "
            ],
            "text/html": [
              "\n",
              "  <div id=\"df-1a3227fb-c124-4a2e-ad18-348d13e48d19\" class=\"colab-df-container\">\n",
              "    <div>\n",
              "<style scoped>\n",
              "    .dataframe tbody tr th:only-of-type {\n",
              "        vertical-align: middle;\n",
              "    }\n",
              "\n",
              "    .dataframe tbody tr th {\n",
              "        vertical-align: top;\n",
              "    }\n",
              "\n",
              "    .dataframe thead th {\n",
              "        text-align: right;\n",
              "    }\n",
              "</style>\n",
              "<table border=\"1\" class=\"dataframe\">\n",
              "  <thead>\n",
              "    <tr style=\"text-align: right;\">\n",
              "      <th></th>\n",
              "      <th>producing_municipality</th>\n",
              "      <th>department</th>\n",
              "      <th>natural_resource</th>\n",
              "      <th>project_name</th>\n",
              "      <th>production_year</th>\n",
              "      <th>quarter</th>\n",
              "      <th>unit_of_measure</th>\n",
              "      <th>type_of_counterpart</th>\n",
              "      <th>counterpart_value</th>\n",
              "      <th>production_quantity</th>\n",
              "    </tr>\n",
              "  </thead>\n",
              "  <tbody>\n",
              "    <tr>\n",
              "      <th>166</th>\n",
              "      <td>Abejorral</td>\n",
              "      <td>Antioquia</td>\n",
              "      <td>ORO</td>\n",
              "      <td>PRODUCTORES</td>\n",
              "      <td>2020</td>\n",
              "      <td>Trimestre 1</td>\n",
              "      <td>GRAMOS</td>\n",
              "      <td>REGALIAS</td>\n",
              "      <td>133,820.00000</td>\n",
              "      <td>25.00000</td>\n",
              "    </tr>\n",
              "    <tr>\n",
              "      <th>185</th>\n",
              "      <td>Abejorral</td>\n",
              "      <td>Antioquia</td>\n",
              "      <td>PLATA</td>\n",
              "      <td>PRODUCTORES</td>\n",
              "      <td>2020</td>\n",
              "      <td>Trimestre 1</td>\n",
              "      <td>GRAMOS</td>\n",
              "      <td>REGALIAS</td>\n",
              "      <td>156.00000</td>\n",
              "      <td>3.00000</td>\n",
              "    </tr>\n",
              "    <tr>\n",
              "      <th>190</th>\n",
              "      <td>Abriaqui</td>\n",
              "      <td>Antioquia</td>\n",
              "      <td>ORO</td>\n",
              "      <td>PRODUCTORES</td>\n",
              "      <td>2018</td>\n",
              "      <td>Trimestre 1</td>\n",
              "      <td>GRAMOS</td>\n",
              "      <td>REGALIAS</td>\n",
              "      <td>14,609,831.00000</td>\n",
              "      <td>3,757.00000</td>\n",
              "    </tr>\n",
              "    <tr>\n",
              "      <th>200</th>\n",
              "      <td>Abriaqui</td>\n",
              "      <td>Antioquia</td>\n",
              "      <td>ORO</td>\n",
              "      <td>PRODUCTORES</td>\n",
              "      <td>2018</td>\n",
              "      <td>Trimestre 1</td>\n",
              "      <td>GRAMOS</td>\n",
              "      <td>REGALIAS</td>\n",
              "      <td>10,855,451.00000</td>\n",
              "      <td>2,771.00000</td>\n",
              "    </tr>\n",
              "    <tr>\n",
              "      <th>201</th>\n",
              "      <td>Abriaqui</td>\n",
              "      <td>Antioquia</td>\n",
              "      <td>ORO</td>\n",
              "      <td>PRODUCTORES</td>\n",
              "      <td>2020</td>\n",
              "      <td>Trimestre 1</td>\n",
              "      <td>GRAMOS</td>\n",
              "      <td>REGALIAS</td>\n",
              "      <td>18,310,150.00000</td>\n",
              "      <td>3,378.00000</td>\n",
              "    </tr>\n",
              "  </tbody>\n",
              "</table>\n",
              "</div>\n",
              "    <div class=\"colab-df-buttons\">\n",
              "\n",
              "  <div class=\"colab-df-container\">\n",
              "    <button class=\"colab-df-convert\" onclick=\"convertToInteractive('df-1a3227fb-c124-4a2e-ad18-348d13e48d19')\"\n",
              "            title=\"Convert this dataframe to an interactive table.\"\n",
              "            style=\"display:none;\">\n",
              "\n",
              "  <svg xmlns=\"http://www.w3.org/2000/svg\" height=\"24px\" viewBox=\"0 -960 960 960\">\n",
              "    <path d=\"M120-120v-720h720v720H120Zm60-500h600v-160H180v160Zm220 220h160v-160H400v160Zm0 220h160v-160H400v160ZM180-400h160v-160H180v160Zm440 0h160v-160H620v160ZM180-180h160v-160H180v160Zm440 0h160v-160H620v160Z\"/>\n",
              "  </svg>\n",
              "    </button>\n",
              "\n",
              "  <style>\n",
              "    .colab-df-container {\n",
              "      display:flex;\n",
              "      gap: 12px;\n",
              "    }\n",
              "\n",
              "    .colab-df-convert {\n",
              "      background-color: #E8F0FE;\n",
              "      border: none;\n",
              "      border-radius: 50%;\n",
              "      cursor: pointer;\n",
              "      display: none;\n",
              "      fill: #1967D2;\n",
              "      height: 32px;\n",
              "      padding: 0 0 0 0;\n",
              "      width: 32px;\n",
              "    }\n",
              "\n",
              "    .colab-df-convert:hover {\n",
              "      background-color: #E2EBFA;\n",
              "      box-shadow: 0px 1px 2px rgba(60, 64, 67, 0.3), 0px 1px 3px 1px rgba(60, 64, 67, 0.15);\n",
              "      fill: #174EA6;\n",
              "    }\n",
              "\n",
              "    .colab-df-buttons div {\n",
              "      margin-bottom: 4px;\n",
              "    }\n",
              "\n",
              "    [theme=dark] .colab-df-convert {\n",
              "      background-color: #3B4455;\n",
              "      fill: #D2E3FC;\n",
              "    }\n",
              "\n",
              "    [theme=dark] .colab-df-convert:hover {\n",
              "      background-color: #434B5C;\n",
              "      box-shadow: 0px 1px 3px 1px rgba(0, 0, 0, 0.15);\n",
              "      filter: drop-shadow(0px 1px 2px rgba(0, 0, 0, 0.3));\n",
              "      fill: #FFFFFF;\n",
              "    }\n",
              "  </style>\n",
              "\n",
              "    <script>\n",
              "      const buttonEl =\n",
              "        document.querySelector('#df-1a3227fb-c124-4a2e-ad18-348d13e48d19 button.colab-df-convert');\n",
              "      buttonEl.style.display =\n",
              "        google.colab.kernel.accessAllowed ? 'block' : 'none';\n",
              "\n",
              "      async function convertToInteractive(key) {\n",
              "        const element = document.querySelector('#df-1a3227fb-c124-4a2e-ad18-348d13e48d19');\n",
              "        const dataTable =\n",
              "          await google.colab.kernel.invokeFunction('convertToInteractive',\n",
              "                                                    [key], {});\n",
              "        if (!dataTable) return;\n",
              "\n",
              "        const docLinkHtml = 'Like what you see? Visit the ' +\n",
              "          '<a target=\"_blank\" href=https://colab.research.google.com/notebooks/data_table.ipynb>data table notebook</a>'\n",
              "          + ' to learn more about interactive tables.';\n",
              "        element.innerHTML = '';\n",
              "        dataTable['output_type'] = 'display_data';\n",
              "        await google.colab.output.renderOutput(dataTable, element);\n",
              "        const docLink = document.createElement('div');\n",
              "        docLink.innerHTML = docLinkHtml;\n",
              "        element.appendChild(docLink);\n",
              "      }\n",
              "    </script>\n",
              "  </div>\n",
              "\n",
              "\n",
              "<div id=\"df-e0a1a59b-697a-45f6-8e18-3a7f2c8847d9\">\n",
              "  <button class=\"colab-df-quickchart\" onclick=\"quickchart('df-e0a1a59b-697a-45f6-8e18-3a7f2c8847d9')\"\n",
              "            title=\"Suggest charts\"\n",
              "            style=\"display:none;\">\n",
              "\n",
              "<svg xmlns=\"http://www.w3.org/2000/svg\" height=\"24px\"viewBox=\"0 0 24 24\"\n",
              "     width=\"24px\">\n",
              "    <g>\n",
              "        <path d=\"M19 3H5c-1.1 0-2 .9-2 2v14c0 1.1.9 2 2 2h14c1.1 0 2-.9 2-2V5c0-1.1-.9-2-2-2zM9 17H7v-7h2v7zm4 0h-2V7h2v10zm4 0h-2v-4h2v4z\"/>\n",
              "    </g>\n",
              "</svg>\n",
              "  </button>\n",
              "\n",
              "<style>\n",
              "  .colab-df-quickchart {\n",
              "      --bg-color: #E8F0FE;\n",
              "      --fill-color: #1967D2;\n",
              "      --hover-bg-color: #E2EBFA;\n",
              "      --hover-fill-color: #174EA6;\n",
              "      --disabled-fill-color: #AAA;\n",
              "      --disabled-bg-color: #DDD;\n",
              "  }\n",
              "\n",
              "  [theme=dark] .colab-df-quickchart {\n",
              "      --bg-color: #3B4455;\n",
              "      --fill-color: #D2E3FC;\n",
              "      --hover-bg-color: #434B5C;\n",
              "      --hover-fill-color: #FFFFFF;\n",
              "      --disabled-bg-color: #3B4455;\n",
              "      --disabled-fill-color: #666;\n",
              "  }\n",
              "\n",
              "  .colab-df-quickchart {\n",
              "    background-color: var(--bg-color);\n",
              "    border: none;\n",
              "    border-radius: 50%;\n",
              "    cursor: pointer;\n",
              "    display: none;\n",
              "    fill: var(--fill-color);\n",
              "    height: 32px;\n",
              "    padding: 0;\n",
              "    width: 32px;\n",
              "  }\n",
              "\n",
              "  .colab-df-quickchart:hover {\n",
              "    background-color: var(--hover-bg-color);\n",
              "    box-shadow: 0 1px 2px rgba(60, 64, 67, 0.3), 0 1px 3px 1px rgba(60, 64, 67, 0.15);\n",
              "    fill: var(--button-hover-fill-color);\n",
              "  }\n",
              "\n",
              "  .colab-df-quickchart-complete:disabled,\n",
              "  .colab-df-quickchart-complete:disabled:hover {\n",
              "    background-color: var(--disabled-bg-color);\n",
              "    fill: var(--disabled-fill-color);\n",
              "    box-shadow: none;\n",
              "  }\n",
              "\n",
              "  .colab-df-spinner {\n",
              "    border: 2px solid var(--fill-color);\n",
              "    border-color: transparent;\n",
              "    border-bottom-color: var(--fill-color);\n",
              "    animation:\n",
              "      spin 1s steps(1) infinite;\n",
              "  }\n",
              "\n",
              "  @keyframes spin {\n",
              "    0% {\n",
              "      border-color: transparent;\n",
              "      border-bottom-color: var(--fill-color);\n",
              "      border-left-color: var(--fill-color);\n",
              "    }\n",
              "    20% {\n",
              "      border-color: transparent;\n",
              "      border-left-color: var(--fill-color);\n",
              "      border-top-color: var(--fill-color);\n",
              "    }\n",
              "    30% {\n",
              "      border-color: transparent;\n",
              "      border-left-color: var(--fill-color);\n",
              "      border-top-color: var(--fill-color);\n",
              "      border-right-color: var(--fill-color);\n",
              "    }\n",
              "    40% {\n",
              "      border-color: transparent;\n",
              "      border-right-color: var(--fill-color);\n",
              "      border-top-color: var(--fill-color);\n",
              "    }\n",
              "    60% {\n",
              "      border-color: transparent;\n",
              "      border-right-color: var(--fill-color);\n",
              "    }\n",
              "    80% {\n",
              "      border-color: transparent;\n",
              "      border-right-color: var(--fill-color);\n",
              "      border-bottom-color: var(--fill-color);\n",
              "    }\n",
              "    90% {\n",
              "      border-color: transparent;\n",
              "      border-bottom-color: var(--fill-color);\n",
              "    }\n",
              "  }\n",
              "</style>\n",
              "\n",
              "  <script>\n",
              "    async function quickchart(key) {\n",
              "      const quickchartButtonEl =\n",
              "        document.querySelector('#' + key + ' button');\n",
              "      quickchartButtonEl.disabled = true;  // To prevent multiple clicks.\n",
              "      quickchartButtonEl.classList.add('colab-df-spinner');\n",
              "      try {\n",
              "        const charts = await google.colab.kernel.invokeFunction(\n",
              "            'suggestCharts', [key], {});\n",
              "      } catch (error) {\n",
              "        console.error('Error during call to suggestCharts:', error);\n",
              "      }\n",
              "      quickchartButtonEl.classList.remove('colab-df-spinner');\n",
              "      quickchartButtonEl.classList.add('colab-df-quickchart-complete');\n",
              "    }\n",
              "    (() => {\n",
              "      let quickchartButtonEl =\n",
              "        document.querySelector('#df-e0a1a59b-697a-45f6-8e18-3a7f2c8847d9 button');\n",
              "      quickchartButtonEl.style.display =\n",
              "        google.colab.kernel.accessAllowed ? 'block' : 'none';\n",
              "    })();\n",
              "  </script>\n",
              "</div>\n",
              "\n",
              "    </div>\n",
              "  </div>\n"
            ],
            "application/vnd.google.colaboratory.intrinsic+json": {
              "type": "dataframe",
              "variable_name": "new_data",
              "summary": "{\n  \"name\": \"new_data\",\n  \"rows\": 4823,\n  \"fields\": [\n    {\n      \"column\": \"producing_municipality\",\n      \"properties\": {\n        \"dtype\": \"category\",\n        \"num_unique_values\": 167,\n        \"samples\": [\n          \"El Canton del San Pablo\",\n          \"Medio Baudo\",\n          \"Norcasia\"\n        ],\n        \"semantic_type\": \"\",\n        \"description\": \"\"\n      }\n    },\n    {\n      \"column\": \"department\",\n      \"properties\": {\n        \"dtype\": \"category\",\n        \"num_unique_values\": 19,\n        \"samples\": [\n          \"Antioquia\",\n          \"Cordoba\",\n          \"Risaralda\"\n        ],\n        \"semantic_type\": \"\",\n        \"description\": \"\"\n      }\n    },\n    {\n      \"column\": \"natural_resource\",\n      \"properties\": {\n        \"dtype\": \"category\",\n        \"num_unique_values\": 3,\n        \"samples\": [\n          \"ORO\",\n          \"PLATA\",\n          \"PLATINO\"\n        ],\n        \"semantic_type\": \"\",\n        \"description\": \"\"\n      }\n    },\n    {\n      \"column\": \"project_name\",\n      \"properties\": {\n        \"dtype\": \"category\",\n        \"num_unique_values\": 1,\n        \"samples\": [\n          \"PRODUCTORES\"\n        ],\n        \"semantic_type\": \"\",\n        \"description\": \"\"\n      }\n    },\n    {\n      \"column\": \"production_year\",\n      \"properties\": {\n        \"dtype\": \"int32\",\n        \"num_unique_values\": 4,\n        \"samples\": [\n          2018\n        ],\n        \"semantic_type\": \"\",\n        \"description\": \"\"\n      }\n    },\n    {\n      \"column\": \"quarter\",\n      \"properties\": {\n        \"dtype\": \"category\",\n        \"num_unique_values\": 4,\n        \"samples\": [\n          \"Trimestre 2\"\n        ],\n        \"semantic_type\": \"\",\n        \"description\": \"\"\n      }\n    },\n    {\n      \"column\": \"unit_of_measure\",\n      \"properties\": {\n        \"dtype\": \"category\",\n        \"num_unique_values\": 1,\n        \"samples\": [\n          \"GRAMOS\"\n        ],\n        \"semantic_type\": \"\",\n        \"description\": \"\"\n      }\n    },\n    {\n      \"column\": \"type_of_counterpart\",\n      \"properties\": {\n        \"dtype\": \"category\",\n        \"num_unique_values\": 1,\n        \"samples\": [\n          \"REGALIAS\"\n        ],\n        \"semantic_type\": \"\",\n        \"description\": \"\"\n      }\n    },\n    {\n      \"column\": \"counterpart_value\",\n      \"properties\": {\n        \"dtype\": \"number\",\n        \"std\": 827633066.4167569,\n        \"min\": 5.0,\n        \"max\": 17775285019.0,\n        \"num_unique_values\": 4800,\n        \"samples\": [\n          1084561.0\n        ],\n        \"semantic_type\": \"\",\n        \"description\": \"\"\n      }\n    },\n    {\n      \"column\": \"production_quantity\",\n      \"properties\": {\n        \"dtype\": \"number\",\n        \"std\": 193805.68248751786,\n        \"min\": 0.0,\n        \"max\": 3460745.0,\n        \"num_unique_values\": 3894,\n        \"samples\": [\n          101643.0\n        ],\n        \"semantic_type\": \"\",\n        \"description\": \"\"\n      }\n    }\n  ]\n}"
            }
          },
          "metadata": {},
          "execution_count": 103
        }
      ]
    },
    {
      "cell_type": "markdown",
      "source": [
        "For the final validation, data from 2022 and 2023 were used. These data did not participate in the training and testing process, but were used in the final validation"
      ],
      "metadata": {
        "id": "w48DJJatx5Ua"
      }
    },
    {
      "cell_type": "code",
      "source": [
        "validation_data = data_miner[\n",
        "    (data_miner['unit_of_measure'] == 'GRAMOS') &\n",
        "    (data_miner.production_year>=2022)\n",
        "]"
      ],
      "metadata": {
        "id": "6RrRLEwsong6"
      },
      "execution_count": 104,
      "outputs": []
    },
    {
      "cell_type": "markdown",
      "source": [
        "# **Preprocessing Data**\n",
        "---\n",
        "\n"
      ],
      "metadata": {
        "id": "kuyY-VCjzcZI"
      }
    },
    {
      "cell_type": "code",
      "source": [
        "def data_grouping(\n",
        "    data:pd.DataFrame,\n",
        "    function_dictionary:dict,\n",
        "    groupby_list:list,\n",
        "    new_columns:list):\n",
        "\n",
        "  \"\"\"Preprocessing\"\"\"\n",
        "  data_transaccion = data.groupby(groupby_list).aggregate(function_dictionary)\n",
        "\n",
        "  data_transaccion.columns = new_columns\n",
        "\n",
        "  data_transaccion.reset_index(inplace=True)\n",
        "  return data_transaccion"
      ],
      "metadata": {
        "id": "simoO1C9aQJ1"
      },
      "execution_count": 105,
      "outputs": []
    },
    {
      "cell_type": "markdown",
      "source": [
        "**Data Trainer**"
      ],
      "metadata": {
        "id": "WCyZz2-upCuy"
      }
    },
    {
      "cell_type": "markdown",
      "source": [
        "It is grouped by the natural resource, the quarter, the year of production, and the department. To sum the transaction value of the counterpart, the number of transactions, and the amount of the extracted resource, which is in grams."
      ],
      "metadata": {
        "id": "z5gPiwAO2NMm"
      }
    },
    {
      "cell_type": "code",
      "source": [
        "data_transaccion = data_grouping(\n",
        "    new_data,\n",
        "    {\n",
        "      'counterpart_value': ['sum','count'],\n",
        "      'production_quantity': 'sum'\n",
        "    },\n",
        "    [\n",
        "      'natural_resource',\n",
        "      'quarter',\n",
        "      'production_year',\n",
        "      'department',\n",
        "\n",
        "    ],\n",
        "    [\n",
        "      'counterpart_value_sum',\n",
        "      'n_transaction_counterpart_value',\n",
        "      'production_quantity_sum'\n",
        "    ]\n",
        "  )"
      ],
      "metadata": {
        "id": "m5Eohp63b4Sd"
      },
      "execution_count": 106,
      "outputs": []
    },
    {
      "cell_type": "code",
      "source": [
        "data_transaccion['region'] = data_transaccion.apply(lambda x: set_department(x['department']), axis=1)\n",
        "data_transaccion = data_transaccion.drop(columns=['quarter', 'department'])"
      ],
      "metadata": {
        "id": "cC0Txv5VeSLv"
      },
      "execution_count": 107,
      "outputs": []
    },
    {
      "cell_type": "markdown",
      "source": [
        "**Data Validation**"
      ],
      "metadata": {
        "id": "CBPSDXhApGUK"
      }
    },
    {
      "cell_type": "markdown",
      "source": [
        "It is grouped by the natural resource, the quarter, the year of production, and the department. To sum the transaction value of the counterpart, the number of transactions, and the amount of the extracted resource, which is in grams."
      ],
      "metadata": {
        "id": "D0dZKc3r2QrF"
      }
    },
    {
      "cell_type": "code",
      "source": [
        "data_transaccion_validation = data_grouping(\n",
        "    validation_data,\n",
        "    {\n",
        "      'counterpart_value': ['sum','count'],\n",
        "      'production_quantity': 'sum'\n",
        "    },\n",
        "    [\n",
        "      'natural_resource',\n",
        "      'quarter',\n",
        "      'production_year',\n",
        "      'department',\n",
        "\n",
        "    ],\n",
        "    [\n",
        "      'counterpart_value_sum',\n",
        "      'n_transaction_counterpart_value',\n",
        "      'production_quantity_sum'\n",
        "    ]\n",
        "  )"
      ],
      "metadata": {
        "id": "IsfFotu0ox9y"
      },
      "execution_count": 108,
      "outputs": []
    },
    {
      "cell_type": "code",
      "source": [
        "data_transaccion_validation['region'] = data_transaccion_validation.apply(lambda x: set_department(x['department']), axis=1)\n",
        "data_transaccion_validation = data_transaccion_validation.drop(columns=['quarter', 'department'])"
      ],
      "metadata": {
        "id": "x9wMPXqwoydJ"
      },
      "execution_count": 109,
      "outputs": []
    },
    {
      "cell_type": "markdown",
      "source": [
        "# **Data Split**\n",
        "---"
      ],
      "metadata": {
        "id": "InZBijeGh_wf"
      }
    },
    {
      "cell_type": "markdown",
      "source": [
        "**Data Trainer**"
      ],
      "metadata": {
        "id": "5IRfZc8HqXzq"
      }
    },
    {
      "cell_type": "markdown",
      "source": [
        "Since it is a classification problem, the natural resource variable was used as the target variable."
      ],
      "metadata": {
        "id": "5Ly9ctjQ2hUN"
      }
    },
    {
      "cell_type": "code",
      "source": [
        "X_validation = data_transaccion_validation.drop(columns=['natural_resource'], axis=1)\n",
        "y_validation = data_transaccion_validation['natural_resource']"
      ],
      "metadata": {
        "id": "VrsUe7DqpYYR"
      },
      "execution_count": 110,
      "outputs": []
    },
    {
      "cell_type": "markdown",
      "source": [
        "**Data Validation**"
      ],
      "metadata": {
        "id": "cPD6M9H3qZu5"
      }
    },
    {
      "cell_type": "code",
      "source": [
        "X = data_transaccion.drop(columns=['natural_resource'], axis=1)\n",
        "y = data_transaccion['natural_resource']"
      ],
      "metadata": {
        "id": "56ccMb0-XoYP"
      },
      "execution_count": 111,
      "outputs": []
    },
    {
      "cell_type": "code",
      "source": [
        "X_train, X_test, y_train, y_test = train_test_split(\n",
        "    X,\n",
        "    y,\n",
        "    test_size=0.2,\n",
        "    shuffle=True,\n",
        "    random_state=random_seed,\n",
        ")"
      ],
      "metadata": {
        "id": "YxpCDyg6YZq3"
      },
      "execution_count": 112,
      "outputs": []
    },
    {
      "cell_type": "code",
      "source": [
        "paleta = {\n",
        "    'ORO': 'gold',\n",
        "    'PLATA': 'silver',\n",
        "    'PLATINO': 'gray'\n",
        "}\n",
        "\n",
        "plot_bar(data_transaccion, paleta=paleta, ejeX='natural_resource',ejey='count recurso natural',title='Count natural resource', p=True)"
      ],
      "metadata": {
        "colab": {
          "base_uri": "https://localhost:8080/",
          "height": 527
        },
        "id": "Fedyr5pAjEy4",
        "outputId": "5fbbb9f5-1f88-400d-f1f0-9024e18d8e59"
      },
      "execution_count": 113,
      "outputs": [
        {
          "output_type": "display_data",
          "data": {
            "text/plain": [
              "<Figure size 800x500 with 1 Axes>"
            ],
            "image/png": "[encoded data removed]"
          },
          "metadata": {}
        }
      ]
    },
    {
      "cell_type": "markdown",
      "source": [
        "# **Encoders and Standardization**\n",
        "---"
      ],
      "metadata": {
        "id": "Lp6IUh1X86LS"
      }
    },
    {
      "cell_type": "markdown",
      "source": [
        "**Data Trainer**"
      ],
      "metadata": {
        "id": "FI70jjIvqc7j"
      }
    },
    {
      "cell_type": "code",
      "source": [
        "category_columns = X_train.select_dtypes(include=['object']).columns.to_list()\n",
        "numeric_columns = X_train.select_dtypes(include=['float64', 'int']).columns.to_list()"
      ],
      "metadata": {
        "id": "ho1NR-WICbby"
      },
      "execution_count": 114,
      "outputs": []
    },
    {
      "cell_type": "code",
      "source": [
        "preprocessor = ColumnTransformer(\n",
        "    [\n",
        "        ('standard', StandardScaler(), numeric_columns),\n",
        "        ('onehot', OneHotEncoder(handle_unknown='ignore'), category_columns)\n",
        "    ],  remainder='passthrough'\n",
        ")"
      ],
      "metadata": {
        "id": "Bgi20pODzs_w"
      },
      "execution_count": 115,
      "outputs": []
    },
    {
      "cell_type": "code",
      "source": [
        "X_train_preprocessed = preprocessor.fit_transform(X_train)\n",
        "X_test_preprocessed = preprocessor.transform(X_test)"
      ],
      "metadata": {
        "id": "sNvR7lUWDHSk"
      },
      "execution_count": 116,
      "outputs": []
    },
    {
      "cell_type": "markdown",
      "source": [
        "**Data Validation**"
      ],
      "metadata": {
        "id": "Z0Y41XlUqqrB"
      }
    },
    {
      "cell_type": "code",
      "source": [
        "X_validation = preprocessor.transform(X_validation)"
      ],
      "metadata": {
        "id": "fs3_UH5VqsAB"
      },
      "execution_count": 117,
      "outputs": []
    },
    {
      "cell_type": "markdown",
      "source": [
        "# **Model**\n",
        "---"
      ],
      "metadata": {
        "id": "in5leg6brZk5"
      }
    },
    {
      "cell_type": "markdown",
      "source": [
        "For this phase, classic models such as Logistic Regression (LR), Gaussian Naive Bayes (GB), K-Nearest Neighbors (KNN), Support Vector Classifier (SVC), and Decision Tree (DT) were used."
      ],
      "metadata": {
        "id": "CKqdNiac3TUm"
      }
    },
    {
      "cell_type": "code",
      "source": [
        "index = ['Data Train', 'Data Test', 'Data Validation']\n",
        "\n",
        "results_no_dt = pd.DataFrame(index=index)"
      ],
      "metadata": {
        "id": "-X7mcWDmfRv7"
      },
      "execution_count": 118,
      "outputs": []
    },
    {
      "cell_type": "markdown",
      "source": [
        "A list was generated with the instances of the first four models mentioned, configured with the default parameters, which are suitable for problems where the relationship between predictors is typically linear.\n"
      ],
      "metadata": {
        "id": "1OfGgHFm4EOM"
      }
    },
    {
      "cell_type": "code",
      "source": [
        "list_models = [\n",
        "    ('LR',LogisticRegression(random_state=random_seed)),\n",
        "    ('GB',GaussianNB()),\n",
        "    ('KNN',KNeighborsClassifier()),\n",
        "    ('SVC', SVC(probability=True, random_state=random_seed)),\n",
        "]"
      ],
      "metadata": {
        "id": "m4bmz8M1rShJ"
      },
      "execution_count": 119,
      "outputs": []
    },
    {
      "cell_type": "markdown",
      "source": [
        "The other list consists of decision trees with low depth (stumps)"
      ],
      "metadata": {
        "id": "Tj7NphpZ4W9z"
      }
    },
    {
      "cell_type": "code",
      "source": [
        "list_models_dt = [\n",
        "    ('DT1',DecisionTreeClassifier(criterion='entropy',max_depth=2, random_state=random_seed)),\n",
        "    ('DT2',DecisionTreeClassifier(criterion='entropy',max_depth=1, random_state=random_seed)),\n",
        "    ('DT3',DecisionTreeClassifier(criterion='entropy',max_depth=3, random_state=random_seed)),\n",
        "]"
      ],
      "metadata": {
        "id": "8R_Fd37baFpg"
      },
      "execution_count": 120,
      "outputs": []
    },
    {
      "cell_type": "markdown",
      "source": [
        "For voting, whether soft voting or hard voting, it is necessary to assign a weight, which for this experiment will be the F1-score metric, giving importance to the three classes."
      ],
      "metadata": {
        "id": "fd_a5V0f6zgc"
      }
    },
    {
      "cell_type": "code",
      "source": [
        "def generate_score(list_models:list):\n",
        "  scores = []\n",
        "  models_m = []\n",
        "  for model in list_models:\n",
        "    m = model[1]\n",
        "    m.fit(X_train_preprocessed, y_train)\n",
        "    models_m.append((model[0], m))\n",
        "    y_predict = m.predict(X_test_preprocessed)\n",
        "    score = f1_score(y_test, y_predict, average='micro')\n",
        "    scores.append(score)\n",
        "  return scores, models_m"
      ],
      "metadata": {
        "id": "CR2C6iiZk5cB"
      },
      "execution_count": 121,
      "outputs": []
    },
    {
      "cell_type": "code",
      "source": [
        "scores, models_m = generate_score(list_models)"
      ],
      "metadata": {
        "id": "xbfThCxCoQmk"
      },
      "execution_count": 122,
      "outputs": []
    },
    {
      "cell_type": "markdown",
      "source": [
        "# **Voting-Hard**\n",
        "---"
      ],
      "metadata": {
        "id": "AONIWQk-68PL"
      }
    },
    {
      "cell_type": "code",
      "source": [
        "ensembleVotingHard = VotingClassifier(estimators=list_models, weights=scores, flatten_transform = True, voting='hard')\n",
        "ensembleVotingHard.fit(X_train_preprocessed, y_train)\n",
        "y_predTrHard = ensembleVotingHard.predict(X_train_preprocessed)\n",
        "y_predTeHard = ensembleVotingHard.predict(X_test_preprocessed)\n",
        "y_predVaHard = ensembleVotingHard.predict(X_validation)\n",
        "\n",
        "f1_score_hard_train =f1_score(y_train, y_predTrHard, average='micro')\n",
        "f1_score_hard_test  =f1_score(y_test, y_predTeHard, average='micro')\n",
        "f1_score_hard_vali  =f1_score(y_validation, y_predVaHard, average='micro')\n",
        "f1_score_hard_train, f1_score_hard_test, f1_score_hard_vali"
      ],
      "metadata": {
        "colab": {
          "base_uri": "https://localhost:8080/"
        },
        "id": "jJipKNJuMIDE",
        "outputId": "48a9c792-998a-430a-a93c-e096d4757c54"
      },
      "execution_count": 123,
      "outputs": [
        {
          "output_type": "execute_result",
          "data": {
            "text/plain": [
              "(0.8125, 0.7010309278350515, 0.7336956521739131)"
            ]
          },
          "metadata": {},
          "execution_count": 123
        }
      ]
    },
    {
      "cell_type": "code",
      "source": [
        "results_no_dt['score_vouting_hard'] = [f1_score_hard_train, f1_score_hard_test, f1_score_hard_vali]"
      ],
      "metadata": {
        "id": "r4NTgNr_goHa"
      },
      "execution_count": 124,
      "outputs": []
    },
    {
      "cell_type": "markdown",
      "source": [
        "# **Voting-Soft**\n",
        "---"
      ],
      "metadata": {
        "id": "VYLWV34I7IV7"
      }
    },
    {
      "cell_type": "code",
      "source": [
        "ensembleVotingSoft = VotingClassifier(estimators=list_models, weights=scores, flatten_transform = True, voting='soft')\n",
        "ensembleVotingSoft.fit(X_train_preprocessed, y_train)\n",
        "y_predTrSoft = ensembleVotingSoft.predict(X_train_preprocessed)\n",
        "y_predTeSoft = ensembleVotingSoft.predict(X_test_preprocessed)\n",
        "y_predVaSoft = ensembleVotingSoft.predict(X_validation)\n",
        "\n",
        "f1_score_soft_train =f1_score(y_train, y_predTrSoft, average='micro')\n",
        "f1_score_soft_test  =f1_score(y_test, y_predTeSoft, average='micro')\n",
        "f1_score_soft_vali  =f1_score(y_validation, y_predVaSoft, average='micro')\n",
        "f1_score_soft_train, f1_score_soft_test, f1_score_soft_vali"
      ],
      "metadata": {
        "colab": {
          "base_uri": "https://localhost:8080/"
        },
        "id": "e0relYMmIwCr",
        "outputId": "d7bca9fa-411a-4acd-bed7-88f4d9d0cd06"
      },
      "execution_count": 125,
      "outputs": [
        {
          "output_type": "execute_result",
          "data": {
            "text/plain": [
              "(0.8463541666666666, 0.7731958762886598, 0.7608695652173914)"
            ]
          },
          "metadata": {},
          "execution_count": 125
        }
      ]
    },
    {
      "cell_type": "code",
      "source": [
        "results_no_dt['score_vouting_soft'] = [f1_score_soft_train, f1_score_soft_test, f1_score_soft_vali]"
      ],
      "metadata": {
        "id": "PWV_sQgZg4aj"
      },
      "execution_count": 126,
      "outputs": []
    },
    {
      "cell_type": "code",
      "source": [
        "for model in models_m:\n",
        "  m = model[1]\n",
        "  y_predTr = m.predict(X_train_preprocessed)\n",
        "  y_predTe = m.predict(X_test_preprocessed)\n",
        "  y_predVa = m.predict(X_validation)\n",
        "\n",
        "  f1_score_train =f1_score(y_train, y_predTr, average='micro')\n",
        "  f1_score_test  =f1_score(y_test, y_predTe, average='micro')\n",
        "  f1_score_vali  =f1_score(y_validation, y_predVa, average='micro')\n",
        "  f1_score_train, f1_score_test, f1_score_vali\n",
        "\n",
        "  print(model[0], f1_score_train, f1_score_test, f1_score_vali)\n",
        "  results_no_dt[model[0]] = [f1_score_train, f1_score_test, f1_score_vali]"
      ],
      "metadata": {
        "colab": {
          "base_uri": "https://localhost:8080/"
        },
        "id": "_Q5kxfP3PLVN",
        "outputId": "8ccc0dc8-ee2e-4bab-b310-3d4b6fcc5d9d"
      },
      "execution_count": 127,
      "outputs": [
        {
          "output_type": "stream",
          "name": "stdout",
          "text": [
            "LR 0.7838541666666666 0.7628865979381443 0.7010869565217391\n",
            "GB 0.4895833333333333 0.4536082474226804 0.42934782608695654\n",
            "KNN 0.8098958333333334 0.6597938144329897 0.7065217391304348\n",
            "SVC 0.7005208333333334 0.4948453608247423 0.5815217391304348\n"
          ]
        }
      ]
    },
    {
      "cell_type": "code",
      "source": [
        "results_no_dt"
      ],
      "metadata": {
        "colab": {
          "base_uri": "https://localhost:8080/",
          "height": 143
        },
        "id": "wwci4LowhXcC",
        "outputId": "22b0c99e-0b3b-49b9-8006-348f8d929eaf"
      },
      "execution_count": 128,
      "outputs": [
        {
          "output_type": "execute_result",
          "data": {
            "text/plain": [
              "                 score_vouting_hard  score_vouting_soft      LR      GB  \\\n",
              "Data Train                  0.81250             0.84635 0.78385 0.48958   \n",
              "Data Test                   0.70103             0.77320 0.76289 0.45361   \n",
              "Data Validation             0.73370             0.76087 0.70109 0.42935   \n",
              "\n",
              "                    KNN     SVC  \n",
              "Data Train      0.80990 0.70052  \n",
              "Data Test       0.65979 0.49485  \n",
              "Data Validation 0.70652 0.58152  "
            ],
            "text/html": [
              "\n",
              "  <div id=\"df-8b8e8543-931a-4e72-93fa-2c81ee1a6f89\" class=\"colab-df-container\">\n",
              "    <div>\n",
              "<style scoped>\n",
              "    .dataframe tbody tr th:only-of-type {\n",
              "        vertical-align: middle;\n",
              "    }\n",
              "\n",
              "    .dataframe tbody tr th {\n",
              "        vertical-align: top;\n",
              "    }\n",
              "\n",
              "    .dataframe thead th {\n",
              "        text-align: right;\n",
              "    }\n",
              "</style>\n",
              "<table border=\"1\" class=\"dataframe\">\n",
              "  <thead>\n",
              "    <tr style=\"text-align: right;\">\n",
              "      <th></th>\n",
              "      <th>score_vouting_hard</th>\n",
              "      <th>score_vouting_soft</th>\n",
              "      <th>LR</th>\n",
              "      <th>GB</th>\n",
              "      <th>KNN</th>\n",
              "      <th>SVC</th>\n",
              "    </tr>\n",
              "  </thead>\n",
              "  <tbody>\n",
              "    <tr>\n",
              "      <th>Data Train</th>\n",
              "      <td>0.81250</td>\n",
              "      <td>0.84635</td>\n",
              "      <td>0.78385</td>\n",
              "      <td>0.48958</td>\n",
              "      <td>0.80990</td>\n",
              "      <td>0.70052</td>\n",
              "    </tr>\n",
              "    <tr>\n",
              "      <th>Data Test</th>\n",
              "      <td>0.70103</td>\n",
              "      <td>0.77320</td>\n",
              "      <td>0.76289</td>\n",
              "      <td>0.45361</td>\n",
              "      <td>0.65979</td>\n",
              "      <td>0.49485</td>\n",
              "    </tr>\n",
              "    <tr>\n",
              "      <th>Data Validation</th>\n",
              "      <td>0.73370</td>\n",
              "      <td>0.76087</td>\n",
              "      <td>0.70109</td>\n",
              "      <td>0.42935</td>\n",
              "      <td>0.70652</td>\n",
              "      <td>0.58152</td>\n",
              "    </tr>\n",
              "  </tbody>\n",
              "</table>\n",
              "</div>\n",
              "    <div class=\"colab-df-buttons\">\n",
              "\n",
              "  <div class=\"colab-df-container\">\n",
              "    <button class=\"colab-df-convert\" onclick=\"convertToInteractive('df-8b8e8543-931a-4e72-93fa-2c81ee1a6f89')\"\n",
              "            title=\"Convert this dataframe to an interactive table.\"\n",
              "            style=\"display:none;\">\n",
              "\n",
              "  <svg xmlns=\"http://www.w3.org/2000/svg\" height=\"24px\" viewBox=\"0 -960 960 960\">\n",
              "    <path d=\"M120-120v-720h720v720H120Zm60-500h600v-160H180v160Zm220 220h160v-160H400v160Zm0 220h160v-160H400v160ZM180-400h160v-160H180v160Zm440 0h160v-160H620v160ZM180-180h160v-160H180v160Zm440 0h160v-160H620v160Z\"/>\n",
              "  </svg>\n",
              "    </button>\n",
              "\n",
              "  <style>\n",
              "    .colab-df-container {\n",
              "      display:flex;\n",
              "      gap: 12px;\n",
              "    }\n",
              "\n",
              "    .colab-df-convert {\n",
              "      background-color: #E8F0FE;\n",
              "      border: none;\n",
              "      border-radius: 50%;\n",
              "      cursor: pointer;\n",
              "      display: none;\n",
              "      fill: #1967D2;\n",
              "      height: 32px;\n",
              "      padding: 0 0 0 0;\n",
              "      width: 32px;\n",
              "    }\n",
              "\n",
              "    .colab-df-convert:hover {\n",
              "      background-color: #E2EBFA;\n",
              "      box-shadow: 0px 1px 2px rgba(60, 64, 67, 0.3), 0px 1px 3px 1px rgba(60, 64, 67, 0.15);\n",
              "      fill: #174EA6;\n",
              "    }\n",
              "\n",
              "    .colab-df-buttons div {\n",
              "      margin-bottom: 4px;\n",
              "    }\n",
              "\n",
              "    [theme=dark] .colab-df-convert {\n",
              "      background-color: #3B4455;\n",
              "      fill: #D2E3FC;\n",
              "    }\n",
              "\n",
              "    [theme=dark] .colab-df-convert:hover {\n",
              "      background-color: #434B5C;\n",
              "      box-shadow: 0px 1px 3px 1px rgba(0, 0, 0, 0.15);\n",
              "      filter: drop-shadow(0px 1px 2px rgba(0, 0, 0, 0.3));\n",
              "      fill: #FFFFFF;\n",
              "    }\n",
              "  </style>\n",
              "\n",
              "    <script>\n",
              "      const buttonEl =\n",
              "        document.querySelector('#df-8b8e8543-931a-4e72-93fa-2c81ee1a6f89 button.colab-df-convert');\n",
              "      buttonEl.style.display =\n",
              "        google.colab.kernel.accessAllowed ? 'block' : 'none';\n",
              "\n",
              "      async function convertToInteractive(key) {\n",
              "        const element = document.querySelector('#df-8b8e8543-931a-4e72-93fa-2c81ee1a6f89');\n",
              "        const dataTable =\n",
              "          await google.colab.kernel.invokeFunction('convertToInteractive',\n",
              "                                                    [key], {});\n",
              "        if (!dataTable) return;\n",
              "\n",
              "        const docLinkHtml = 'Like what you see? Visit the ' +\n",
              "          '<a target=\"_blank\" href=https://colab.research.google.com/notebooks/data_table.ipynb>data table notebook</a>'\n",
              "          + ' to learn more about interactive tables.';\n",
              "        element.innerHTML = '';\n",
              "        dataTable['output_type'] = 'display_data';\n",
              "        await google.colab.output.renderOutput(dataTable, element);\n",
              "        const docLink = document.createElement('div');\n",
              "        docLink.innerHTML = docLinkHtml;\n",
              "        element.appendChild(docLink);\n",
              "      }\n",
              "    </script>\n",
              "  </div>\n",
              "\n",
              "\n",
              "<div id=\"df-c09b6ad2-603b-4550-9ac7-0c234470c6f2\">\n",
              "  <button class=\"colab-df-quickchart\" onclick=\"quickchart('df-c09b6ad2-603b-4550-9ac7-0c234470c6f2')\"\n",
              "            title=\"Suggest charts\"\n",
              "            style=\"display:none;\">\n",
              "\n",
              "<svg xmlns=\"http://www.w3.org/2000/svg\" height=\"24px\"viewBox=\"0 0 24 24\"\n",
              "     width=\"24px\">\n",
              "    <g>\n",
              "        <path d=\"M19 3H5c-1.1 0-2 .9-2 2v14c0 1.1.9 2 2 2h14c1.1 0 2-.9 2-2V5c0-1.1-.9-2-2-2zM9 17H7v-7h2v7zm4 0h-2V7h2v10zm4 0h-2v-4h2v4z\"/>\n",
              "    </g>\n",
              "</svg>\n",
              "  </button>\n",
              "\n",
              "<style>\n",
              "  .colab-df-quickchart {\n",
              "      --bg-color: #E8F0FE;\n",
              "      --fill-color: #1967D2;\n",
              "      --hover-bg-color: #E2EBFA;\n",
              "      --hover-fill-color: #174EA6;\n",
              "      --disabled-fill-color: #AAA;\n",
              "      --disabled-bg-color: #DDD;\n",
              "  }\n",
              "\n",
              "  [theme=dark] .colab-df-quickchart {\n",
              "      --bg-color: #3B4455;\n",
              "      --fill-color: #D2E3FC;\n",
              "      --hover-bg-color: #434B5C;\n",
              "      --hover-fill-color: #FFFFFF;\n",
              "      --disabled-bg-color: #3B4455;\n",
              "      --disabled-fill-color: #666;\n",
              "  }\n",
              "\n",
              "  .colab-df-quickchart {\n",
              "    background-color: var(--bg-color);\n",
              "    border: none;\n",
              "    border-radius: 50%;\n",
              "    cursor: pointer;\n",
              "    display: none;\n",
              "    fill: var(--fill-color);\n",
              "    height: 32px;\n",
              "    padding: 0;\n",
              "    width: 32px;\n",
              "  }\n",
              "\n",
              "  .colab-df-quickchart:hover {\n",
              "    background-color: var(--hover-bg-color);\n",
              "    box-shadow: 0 1px 2px rgba(60, 64, 67, 0.3), 0 1px 3px 1px rgba(60, 64, 67, 0.15);\n",
              "    fill: var(--button-hover-fill-color);\n",
              "  }\n",
              "\n",
              "  .colab-df-quickchart-complete:disabled,\n",
              "  .colab-df-quickchart-complete:disabled:hover {\n",
              "    background-color: var(--disabled-bg-color);\n",
              "    fill: var(--disabled-fill-color);\n",
              "    box-shadow: none;\n",
              "  }\n",
              "\n",
              "  .colab-df-spinner {\n",
              "    border: 2px solid var(--fill-color);\n",
              "    border-color: transparent;\n",
              "    border-bottom-color: var(--fill-color);\n",
              "    animation:\n",
              "      spin 1s steps(1) infinite;\n",
              "  }\n",
              "\n",
              "  @keyframes spin {\n",
              "    0% {\n",
              "      border-color: transparent;\n",
              "      border-bottom-color: var(--fill-color);\n",
              "      border-left-color: var(--fill-color);\n",
              "    }\n",
              "    20% {\n",
              "      border-color: transparent;\n",
              "      border-left-color: var(--fill-color);\n",
              "      border-top-color: var(--fill-color);\n",
              "    }\n",
              "    30% {\n",
              "      border-color: transparent;\n",
              "      border-left-color: var(--fill-color);\n",
              "      border-top-color: var(--fill-color);\n",
              "      border-right-color: var(--fill-color);\n",
              "    }\n",
              "    40% {\n",
              "      border-color: transparent;\n",
              "      border-right-color: var(--fill-color);\n",
              "      border-top-color: var(--fill-color);\n",
              "    }\n",
              "    60% {\n",
              "      border-color: transparent;\n",
              "      border-right-color: var(--fill-color);\n",
              "    }\n",
              "    80% {\n",
              "      border-color: transparent;\n",
              "      border-right-color: var(--fill-color);\n",
              "      border-bottom-color: var(--fill-color);\n",
              "    }\n",
              "    90% {\n",
              "      border-color: transparent;\n",
              "      border-bottom-color: var(--fill-color);\n",
              "    }\n",
              "  }\n",
              "</style>\n",
              "\n",
              "  <script>\n",
              "    async function quickchart(key) {\n",
              "      const quickchartButtonEl =\n",
              "        document.querySelector('#' + key + ' button');\n",
              "      quickchartButtonEl.disabled = true;  // To prevent multiple clicks.\n",
              "      quickchartButtonEl.classList.add('colab-df-spinner');\n",
              "      try {\n",
              "        const charts = await google.colab.kernel.invokeFunction(\n",
              "            'suggestCharts', [key], {});\n",
              "      } catch (error) {\n",
              "        console.error('Error during call to suggestCharts:', error);\n",
              "      }\n",
              "      quickchartButtonEl.classList.remove('colab-df-spinner');\n",
              "      quickchartButtonEl.classList.add('colab-df-quickchart-complete');\n",
              "    }\n",
              "    (() => {\n",
              "      let quickchartButtonEl =\n",
              "        document.querySelector('#df-c09b6ad2-603b-4550-9ac7-0c234470c6f2 button');\n",
              "      quickchartButtonEl.style.display =\n",
              "        google.colab.kernel.accessAllowed ? 'block' : 'none';\n",
              "    })();\n",
              "  </script>\n",
              "</div>\n",
              "\n",
              "  <div id=\"id_ce3c32b7-5cb7-44df-af0c-67a04f3ed3c0\">\n",
              "    <style>\n",
              "      .colab-df-generate {\n",
              "        background-color: #E8F0FE;\n",
              "        border: none;\n",
              "        border-radius: 50%;\n",
              "        cursor: pointer;\n",
              "        display: none;\n",
              "        fill: #1967D2;\n",
              "        height: 32px;\n",
              "        padding: 0 0 0 0;\n",
              "        width: 32px;\n",
              "      }\n",
              "\n",
              "      .colab-df-generate:hover {\n",
              "        background-color: #E2EBFA;\n",
              "        box-shadow: 0px 1px 2px rgba(60, 64, 67, 0.3), 0px 1px 3px 1px rgba(60, 64, 67, 0.15);\n",
              "        fill: #174EA6;\n",
              "      }\n",
              "\n",
              "      [theme=dark] .colab-df-generate {\n",
              "        background-color: #3B4455;\n",
              "        fill: #D2E3FC;\n",
              "      }\n",
              "\n",
              "      [theme=dark] .colab-df-generate:hover {\n",
              "        background-color: #434B5C;\n",
              "        box-shadow: 0px 1px 3px 1px rgba(0, 0, 0, 0.15);\n",
              "        filter: drop-shadow(0px 1px 2px rgba(0, 0, 0, 0.3));\n",
              "        fill: #FFFFFF;\n",
              "      }\n",
              "    </style>\n",
              "    <button class=\"colab-df-generate\" onclick=\"generateWithVariable('results_no_dt')\"\n",
              "            title=\"Generate code using this dataframe.\"\n",
              "            style=\"display:none;\">\n",
              "\n",
              "  <svg xmlns=\"http://www.w3.org/2000/svg\" height=\"24px\"viewBox=\"0 0 24 24\"\n",
              "       width=\"24px\">\n",
              "    <path d=\"M7,19H8.4L18.45,9,17,7.55,7,17.6ZM5,21V16.75L18.45,3.32a2,2,0,0,1,2.83,0l1.4,1.43a1.91,1.91,0,0,1,.58,1.4,1.91,1.91,0,0,1-.58,1.4L9.25,21ZM18.45,9,17,7.55Zm-12,3A5.31,5.31,0,0,0,4.9,8.1,5.31,5.31,0,0,0,1,6.5,5.31,5.31,0,0,0,4.9,4.9,5.31,5.31,0,0,0,6.5,1,5.31,5.31,0,0,0,8.1,4.9,5.31,5.31,0,0,0,12,6.5,5.46,5.46,0,0,0,6.5,12Z\"/>\n",
              "  </svg>\n",
              "    </button>\n",
              "    <script>\n",
              "      (() => {\n",
              "      const buttonEl =\n",
              "        document.querySelector('#id_ce3c32b7-5cb7-44df-af0c-67a04f3ed3c0 button.colab-df-generate');\n",
              "      buttonEl.style.display =\n",
              "        google.colab.kernel.accessAllowed ? 'block' : 'none';\n",
              "\n",
              "      buttonEl.onclick = () => {\n",
              "        google.colab.notebook.generateWithVariable('results_no_dt');\n",
              "      }\n",
              "      })();\n",
              "    </script>\n",
              "  </div>\n",
              "\n",
              "    </div>\n",
              "  </div>\n"
            ],
            "application/vnd.google.colaboratory.intrinsic+json": {
              "type": "dataframe",
              "variable_name": "results_no_dt",
              "summary": "{\n  \"name\": \"results_no_dt\",\n  \"rows\": 3,\n  \"fields\": [\n    {\n      \"column\": \"score_vouting_hard\",\n      \"properties\": {\n        \"dtype\": \"number\",\n        \"std\": 0.05730396074406376,\n        \"min\": 0.7010309278350515,\n        \"max\": 0.8125,\n        \"num_unique_values\": 3,\n        \"samples\": [\n          0.8125,\n          0.7010309278350515,\n          0.7336956521739131\n        ],\n        \"semantic_type\": \"\",\n        \"description\": \"\"\n      }\n    },\n    {\n      \"column\": \"score_vouting_soft\",\n      \"properties\": {\n        \"dtype\": \"number\",\n        \"std\": 0.046209108915522774,\n        \"min\": 0.7608695652173914,\n        \"max\": 0.8463541666666666,\n        \"num_unique_values\": 3,\n        \"samples\": [\n          0.8463541666666666,\n          0.7731958762886598,\n          0.7608695652173914\n        ],\n        \"semantic_type\": \"\",\n        \"description\": \"\"\n      }\n    },\n    {\n      \"column\": \"LR\",\n      \"properties\": {\n        \"dtype\": \"number\",\n        \"std\": 0.0430295357724516,\n        \"min\": 0.7010869565217391,\n        \"max\": 0.7838541666666666,\n        \"num_unique_values\": 3,\n        \"samples\": [\n          0.7838541666666666,\n          0.7628865979381443,\n          0.7010869565217391\n        ],\n        \"semantic_type\": \"\",\n        \"description\": \"\"\n      }\n    },\n    {\n      \"column\": \"GB\",\n      \"properties\": {\n        \"dtype\": \"number\",\n        \"std\": 0.03030701564240534,\n        \"min\": 0.42934782608695654,\n        \"max\": 0.4895833333333333,\n        \"num_unique_values\": 3,\n        \"samples\": [\n          0.4895833333333333,\n          0.4536082474226804,\n          0.42934782608695654\n        ],\n        \"semantic_type\": \"\",\n        \"description\": \"\"\n      }\n    },\n    {\n      \"column\": \"KNN\",\n      \"properties\": {\n        \"dtype\": \"number\",\n        \"std\": 0.07681180288727224,\n        \"min\": 0.6597938144329897,\n        \"max\": 0.8098958333333334,\n        \"num_unique_values\": 3,\n        \"samples\": [\n          0.8098958333333334,\n          0.6597938144329897,\n          0.7065217391304348\n        ],\n        \"semantic_type\": \"\",\n        \"description\": \"\"\n      }\n    },\n    {\n      \"column\": \"SVC\",\n      \"properties\": {\n        \"dtype\": \"number\",\n        \"std\": 0.10326017219377957,\n        \"min\": 0.4948453608247423,\n        \"max\": 0.7005208333333334,\n        \"num_unique_values\": 3,\n        \"samples\": [\n          0.7005208333333334,\n          0.4948453608247423,\n          0.5815217391304348\n        ],\n        \"semantic_type\": \"\",\n        \"description\": \"\"\n      }\n    }\n  ]\n}"
            }
          },
          "metadata": {},
          "execution_count": 128
        }
      ]
    },
    {
      "cell_type": "markdown",
      "source": [
        "- It is evident that the model assembled from the four models performs better on all three types of datasets than they do individually.\n",
        "\n",
        "- It has an acceptable performance for predicting whether it is GOLD, SILVER, or PLATINUM, with limited configurations.\n",
        "\n",
        "- The model with the most influence in the voting is Logistic Regression. This is evident from the prediction score of the \"test\" dataset, as it was used as the weight of importance.\n",
        "\n",
        "- This model will tend to bias the predictions."
      ],
      "metadata": {
        "id": "trcy3yAd9Gz7"
      }
    },
    {
      "cell_type": "code",
      "source": [
        "scores, models_m = generate_score(list_models_dt)"
      ],
      "metadata": {
        "id": "bJ8plsFecBep"
      },
      "execution_count": 129,
      "outputs": []
    },
    {
      "cell_type": "code",
      "source": [
        "index = ['Data Train', 'Data Test', 'Data Validation']\n",
        "\n",
        "results_dt = pd.DataFrame(index=index)"
      ],
      "metadata": {
        "id": "tq3b1zwFijpB"
      },
      "execution_count": 130,
      "outputs": []
    },
    {
      "cell_type": "markdown",
      "source": [
        "# **Voting-Hard**\n",
        "---"
      ],
      "metadata": {
        "id": "wl0JNFoQ-20b"
      }
    },
    {
      "cell_type": "code",
      "source": [
        "ensembleVotingHard = VotingClassifier(estimators=list_models_dt, weights=scores, flatten_transform = True, voting='hard')\n",
        "ensembleVotingHard.fit(X_train_preprocessed, y_train)\n",
        "y_predTrHard = ensembleVotingHard.predict(X_train_preprocessed)\n",
        "y_predTeHard = ensembleVotingHard.predict(X_test_preprocessed)\n",
        "y_predVaHard = ensembleVotingHard.predict(X_validation)\n",
        "\n",
        "f1_score_hard_train =f1_score(y_train, y_predTrHard, average='micro')\n",
        "f1_score_hard_test  =f1_score(y_test, y_predTeHard, average='micro')\n",
        "f1_score_hard_vali  =f1_score(y_validation, y_predVaHard, average='micro')\n",
        "f1_score_hard_train, f1_score_hard_test, f1_score_hard_vali"
      ],
      "metadata": {
        "colab": {
          "base_uri": "https://localhost:8080/"
        },
        "id": "5EWFqGejcHhx",
        "outputId": "7f13e0cf-16d0-4715-d72a-f6ba30e1d800"
      },
      "execution_count": 131,
      "outputs": [
        {
          "output_type": "execute_result",
          "data": {
            "text/plain": [
              "(0.8489583333333334, 0.8144329896907216, 0.8043478260869565)"
            ]
          },
          "metadata": {},
          "execution_count": 131
        }
      ]
    },
    {
      "cell_type": "code",
      "source": [
        "results_dt['score_vouting_hard'] = [f1_score_hard_train, f1_score_hard_test, f1_score_hard_vali]"
      ],
      "metadata": {
        "id": "zGryab4jimOx"
      },
      "execution_count": 132,
      "outputs": []
    },
    {
      "cell_type": "markdown",
      "source": [
        "# **Voting-Soft**\n",
        "---"
      ],
      "metadata": {
        "id": "kPXVnKog-5pc"
      }
    },
    {
      "cell_type": "code",
      "source": [
        "ensembleVotingSoft = VotingClassifier(estimators=list_models_dt, weights=scores, flatten_transform = True, voting='soft')\n",
        "ensembleVotingSoft.fit(X_train_preprocessed, y_train)\n",
        "y_predTrSoft = ensembleVotingSoft.predict(X_train_preprocessed)\n",
        "y_predTeSoft = ensembleVotingSoft.predict(X_test_preprocessed)\n",
        "y_predVaSoft = ensembleVotingSoft.predict(X_validation)\n",
        "\n",
        "f1_score_soft_train =f1_score(y_train, y_predTrSoft, average='micro')\n",
        "f1_score_soft_test  =f1_score(y_test, y_predTeSoft, average='micro')\n",
        "f1_score_soft_vali  =f1_score(y_validation, y_predVaSoft, average='micro')\n",
        "f1_score_soft_train, f1_score_soft_test, f1_score_soft_vali"
      ],
      "metadata": {
        "colab": {
          "base_uri": "https://localhost:8080/"
        },
        "id": "8AtxOM9ocJlY",
        "outputId": "4687b0ea-3ce5-4871-9eec-bae92f02d7c5"
      },
      "execution_count": 133,
      "outputs": [
        {
          "output_type": "execute_result",
          "data": {
            "text/plain": [
              "(0.8489583333333334, 0.8144329896907216, 0.8043478260869565)"
            ]
          },
          "metadata": {},
          "execution_count": 133
        }
      ]
    },
    {
      "cell_type": "code",
      "source": [
        "results_dt['score_vouting_soft'] = [f1_score_soft_train, f1_score_soft_test, f1_score_soft_vali]"
      ],
      "metadata": {
        "id": "T8Uf-bhCiukJ"
      },
      "execution_count": 134,
      "outputs": []
    },
    {
      "cell_type": "code",
      "source": [
        "for model in models_m:\n",
        "  m = model[1]\n",
        "  y_predTr = m.predict(X_train_preprocessed)\n",
        "  y_predTe = m.predict(X_test_preprocessed)\n",
        "  y_predVa = m.predict(X_validation)\n",
        "\n",
        "  f1_score_train =f1_score(y_train, y_predTr, average='micro')\n",
        "  f1_score_test  =f1_score(y_test, y_predTe, average='micro')\n",
        "  f1_score_vali  =f1_score(y_validation, y_predVa, average='micro')\n",
        "  f1_score_train, f1_score_test, f1_score_vali\n",
        "  results_dt[model[0]] = [f1_score_train, f1_score_test, f1_score_vali]\n",
        "  print(model[0], f1_score_train, f1_score_test, f1_score_vali)\n"
      ],
      "metadata": {
        "colab": {
          "base_uri": "https://localhost:8080/"
        },
        "id": "LIkcI25mcTmY",
        "outputId": "78de489f-a36d-409d-834d-cbfe72be605c"
      },
      "execution_count": 135,
      "outputs": [
        {
          "output_type": "stream",
          "name": "stdout",
          "text": [
            "DT1 0.8489583333333334 0.8144329896907216 0.8043478260869565\n",
            "DT2 0.8489583333333334 0.8144329896907216 0.8043478260869565\n",
            "DT3 0.921875 0.9072164948453608 0.8586956521739131\n"
          ]
        }
      ]
    },
    {
      "cell_type": "code",
      "source": [
        "results_dt"
      ],
      "metadata": {
        "id": "uoIxS1qyLmks",
        "colab": {
          "base_uri": "https://localhost:8080/",
          "height": 143
        },
        "outputId": "ee8478b7-0e8a-4402-c905-51fd8fdf18d2"
      },
      "execution_count": 136,
      "outputs": [
        {
          "output_type": "execute_result",
          "data": {
            "text/plain": [
              "                 score_vouting_hard  score_vouting_soft     DT1     DT2  \\\n",
              "Data Train                  0.84896             0.84896 0.84896 0.84896   \n",
              "Data Test                   0.81443             0.81443 0.81443 0.81443   \n",
              "Data Validation             0.80435             0.80435 0.80435 0.80435   \n",
              "\n",
              "                    DT3  \n",
              "Data Train      0.92188  \n",
              "Data Test       0.90722  \n",
              "Data Validation 0.85870  "
            ],
            "text/html": [
              "\n",
              "  <div id=\"df-c15fe7d0-0ca5-46ce-b8ca-4b6fa1777084\" class=\"colab-df-container\">\n",
              "    <div>\n",
              "<style scoped>\n",
              "    .dataframe tbody tr th:only-of-type {\n",
              "        vertical-align: middle;\n",
              "    }\n",
              "\n",
              "    .dataframe tbody tr th {\n",
              "        vertical-align: top;\n",
              "    }\n",
              "\n",
              "    .dataframe thead th {\n",
              "        text-align: right;\n",
              "    }\n",
              "</style>\n",
              "<table border=\"1\" class=\"dataframe\">\n",
              "  <thead>\n",
              "    <tr style=\"text-align: right;\">\n",
              "      <th></th>\n",
              "      <th>score_vouting_hard</th>\n",
              "      <th>score_vouting_soft</th>\n",
              "      <th>DT1</th>\n",
              "      <th>DT2</th>\n",
              "      <th>DT3</th>\n",
              "    </tr>\n",
              "  </thead>\n",
              "  <tbody>\n",
              "    <tr>\n",
              "      <th>Data Train</th>\n",
              "      <td>0.84896</td>\n",
              "      <td>0.84896</td>\n",
              "      <td>0.84896</td>\n",
              "      <td>0.84896</td>\n",
              "      <td>0.92188</td>\n",
              "    </tr>\n",
              "    <tr>\n",
              "      <th>Data Test</th>\n",
              "      <td>0.81443</td>\n",
              "      <td>0.81443</td>\n",
              "      <td>0.81443</td>\n",
              "      <td>0.81443</td>\n",
              "      <td>0.90722</td>\n",
              "    </tr>\n",
              "    <tr>\n",
              "      <th>Data Validation</th>\n",
              "      <td>0.80435</td>\n",
              "      <td>0.80435</td>\n",
              "      <td>0.80435</td>\n",
              "      <td>0.80435</td>\n",
              "      <td>0.85870</td>\n",
              "    </tr>\n",
              "  </tbody>\n",
              "</table>\n",
              "</div>\n",
              "    <div class=\"colab-df-buttons\">\n",
              "\n",
              "  <div class=\"colab-df-container\">\n",
              "    <button class=\"colab-df-convert\" onclick=\"convertToInteractive('df-c15fe7d0-0ca5-46ce-b8ca-4b6fa1777084')\"\n",
              "            title=\"Convert this dataframe to an interactive table.\"\n",
              "            style=\"display:none;\">\n",
              "\n",
              "  <svg xmlns=\"http://www.w3.org/2000/svg\" height=\"24px\" viewBox=\"0 -960 960 960\">\n",
              "    <path d=\"M120-120v-720h720v720H120Zm60-500h600v-160H180v160Zm220 220h160v-160H400v160Zm0 220h160v-160H400v160ZM180-400h160v-160H180v160Zm440 0h160v-160H620v160ZM180-180h160v-160H180v160Zm440 0h160v-160H620v160Z\"/>\n",
              "  </svg>\n",
              "    </button>\n",
              "\n",
              "  <style>\n",
              "    .colab-df-container {\n",
              "      display:flex;\n",
              "      gap: 12px;\n",
              "    }\n",
              "\n",
              "    .colab-df-convert {\n",
              "      background-color: #E8F0FE;\n",
              "      border: none;\n",
              "      border-radius: 50%;\n",
              "      cursor: pointer;\n",
              "      display: none;\n",
              "      fill: #1967D2;\n",
              "      height: 32px;\n",
              "      padding: 0 0 0 0;\n",
              "      width: 32px;\n",
              "    }\n",
              "\n",
              "    .colab-df-convert:hover {\n",
              "      background-color: #E2EBFA;\n",
              "      box-shadow: 0px 1px 2px rgba(60, 64, 67, 0.3), 0px 1px 3px 1px rgba(60, 64, 67, 0.15);\n",
              "      fill: #174EA6;\n",
              "    }\n",
              "\n",
              "    .colab-df-buttons div {\n",
              "      margin-bottom: 4px;\n",
              "    }\n",
              "\n",
              "    [theme=dark] .colab-df-convert {\n",
              "      background-color: #3B4455;\n",
              "      fill: #D2E3FC;\n",
              "    }\n",
              "\n",
              "    [theme=dark] .colab-df-convert:hover {\n",
              "      background-color: #434B5C;\n",
              "      box-shadow: 0px 1px 3px 1px rgba(0, 0, 0, 0.15);\n",
              "      filter: drop-shadow(0px 1px 2px rgba(0, 0, 0, 0.3));\n",
              "      fill: #FFFFFF;\n",
              "    }\n",
              "  </style>\n",
              "\n",
              "    <script>\n",
              "      const buttonEl =\n",
              "        document.querySelector('#df-c15fe7d0-0ca5-46ce-b8ca-4b6fa1777084 button.colab-df-convert');\n",
              "      buttonEl.style.display =\n",
              "        google.colab.kernel.accessAllowed ? 'block' : 'none';\n",
              "\n",
              "      async function convertToInteractive(key) {\n",
              "        const element = document.querySelector('#df-c15fe7d0-0ca5-46ce-b8ca-4b6fa1777084');\n",
              "        const dataTable =\n",
              "          await google.colab.kernel.invokeFunction('convertToInteractive',\n",
              "                                                    [key], {});\n",
              "        if (!dataTable) return;\n",
              "\n",
              "        const docLinkHtml = 'Like what you see? Visit the ' +\n",
              "          '<a target=\"_blank\" href=https://colab.research.google.com/notebooks/data_table.ipynb>data table notebook</a>'\n",
              "          + ' to learn more about interactive tables.';\n",
              "        element.innerHTML = '';\n",
              "        dataTable['output_type'] = 'display_data';\n",
              "        await google.colab.output.renderOutput(dataTable, element);\n",
              "        const docLink = document.createElement('div');\n",
              "        docLink.innerHTML = docLinkHtml;\n",
              "        element.appendChild(docLink);\n",
              "      }\n",
              "    </script>\n",
              "  </div>\n",
              "\n",
              "\n",
              "<div id=\"df-715dd299-9555-4eb7-bf7d-ac7959f2cee6\">\n",
              "  <button class=\"colab-df-quickchart\" onclick=\"quickchart('df-715dd299-9555-4eb7-bf7d-ac7959f2cee6')\"\n",
              "            title=\"Suggest charts\"\n",
              "            style=\"display:none;\">\n",
              "\n",
              "<svg xmlns=\"http://www.w3.org/2000/svg\" height=\"24px\"viewBox=\"0 0 24 24\"\n",
              "     width=\"24px\">\n",
              "    <g>\n",
              "        <path d=\"M19 3H5c-1.1 0-2 .9-2 2v14c0 1.1.9 2 2 2h14c1.1 0 2-.9 2-2V5c0-1.1-.9-2-2-2zM9 17H7v-7h2v7zm4 0h-2V7h2v10zm4 0h-2v-4h2v4z\"/>\n",
              "    </g>\n",
              "</svg>\n",
              "  </button>\n",
              "\n",
              "<style>\n",
              "  .colab-df-quickchart {\n",
              "      --bg-color: #E8F0FE;\n",
              "      --fill-color: #1967D2;\n",
              "      --hover-bg-color: #E2EBFA;\n",
              "      --hover-fill-color: #174EA6;\n",
              "      --disabled-fill-color: #AAA;\n",
              "      --disabled-bg-color: #DDD;\n",
              "  }\n",
              "\n",
              "  [theme=dark] .colab-df-quickchart {\n",
              "      --bg-color: #3B4455;\n",
              "      --fill-color: #D2E3FC;\n",
              "      --hover-bg-color: #434B5C;\n",
              "      --hover-fill-color: #FFFFFF;\n",
              "      --disabled-bg-color: #3B4455;\n",
              "      --disabled-fill-color: #666;\n",
              "  }\n",
              "\n",
              "  .colab-df-quickchart {\n",
              "    background-color: var(--bg-color);\n",
              "    border: none;\n",
              "    border-radius: 50%;\n",
              "    cursor: pointer;\n",
              "    display: none;\n",
              "    fill: var(--fill-color);\n",
              "    height: 32px;\n",
              "    padding: 0;\n",
              "    width: 32px;\n",
              "  }\n",
              "\n",
              "  .colab-df-quickchart:hover {\n",
              "    background-color: var(--hover-bg-color);\n",
              "    box-shadow: 0 1px 2px rgba(60, 64, 67, 0.3), 0 1px 3px 1px rgba(60, 64, 67, 0.15);\n",
              "    fill: var(--button-hover-fill-color);\n",
              "  }\n",
              "\n",
              "  .colab-df-quickchart-complete:disabled,\n",
              "  .colab-df-quickchart-complete:disabled:hover {\n",
              "    background-color: var(--disabled-bg-color);\n",
              "    fill: var(--disabled-fill-color);\n",
              "    box-shadow: none;\n",
              "  }\n",
              "\n",
              "  .colab-df-spinner {\n",
              "    border: 2px solid var(--fill-color);\n",
              "    border-color: transparent;\n",
              "    border-bottom-color: var(--fill-color);\n",
              "    animation:\n",
              "      spin 1s steps(1) infinite;\n",
              "  }\n",
              "\n",
              "  @keyframes spin {\n",
              "    0% {\n",
              "      border-color: transparent;\n",
              "      border-bottom-color: var(--fill-color);\n",
              "      border-left-color: var(--fill-color);\n",
              "    }\n",
              "    20% {\n",
              "      border-color: transparent;\n",
              "      border-left-color: var(--fill-color);\n",
              "      border-top-color: var(--fill-color);\n",
              "    }\n",
              "    30% {\n",
              "      border-color: transparent;\n",
              "      border-left-color: var(--fill-color);\n",
              "      border-top-color: var(--fill-color);\n",
              "      border-right-color: var(--fill-color);\n",
              "    }\n",
              "    40% {\n",
              "      border-color: transparent;\n",
              "      border-right-color: var(--fill-color);\n",
              "      border-top-color: var(--fill-color);\n",
              "    }\n",
              "    60% {\n",
              "      border-color: transparent;\n",
              "      border-right-color: var(--fill-color);\n",
              "    }\n",
              "    80% {\n",
              "      border-color: transparent;\n",
              "      border-right-color: var(--fill-color);\n",
              "      border-bottom-color: var(--fill-color);\n",
              "    }\n",
              "    90% {\n",
              "      border-color: transparent;\n",
              "      border-bottom-color: var(--fill-color);\n",
              "    }\n",
              "  }\n",
              "</style>\n",
              "\n",
              "  <script>\n",
              "    async function quickchart(key) {\n",
              "      const quickchartButtonEl =\n",
              "        document.querySelector('#' + key + ' button');\n",
              "      quickchartButtonEl.disabled = true;  // To prevent multiple clicks.\n",
              "      quickchartButtonEl.classList.add('colab-df-spinner');\n",
              "      try {\n",
              "        const charts = await google.colab.kernel.invokeFunction(\n",
              "            'suggestCharts', [key], {});\n",
              "      } catch (error) {\n",
              "        console.error('Error during call to suggestCharts:', error);\n",
              "      }\n",
              "      quickchartButtonEl.classList.remove('colab-df-spinner');\n",
              "      quickchartButtonEl.classList.add('colab-df-quickchart-complete');\n",
              "    }\n",
              "    (() => {\n",
              "      let quickchartButtonEl =\n",
              "        document.querySelector('#df-715dd299-9555-4eb7-bf7d-ac7959f2cee6 button');\n",
              "      quickchartButtonEl.style.display =\n",
              "        google.colab.kernel.accessAllowed ? 'block' : 'none';\n",
              "    })();\n",
              "  </script>\n",
              "</div>\n",
              "\n",
              "  <div id=\"id_728d4f4c-62c1-4467-9cb0-069733fb33c3\">\n",
              "    <style>\n",
              "      .colab-df-generate {\n",
              "        background-color: #E8F0FE;\n",
              "        border: none;\n",
              "        border-radius: 50%;\n",
              "        cursor: pointer;\n",
              "        display: none;\n",
              "        fill: #1967D2;\n",
              "        height: 32px;\n",
              "        padding: 0 0 0 0;\n",
              "        width: 32px;\n",
              "      }\n",
              "\n",
              "      .colab-df-generate:hover {\n",
              "        background-color: #E2EBFA;\n",
              "        box-shadow: 0px 1px 2px rgba(60, 64, 67, 0.3), 0px 1px 3px 1px rgba(60, 64, 67, 0.15);\n",
              "        fill: #174EA6;\n",
              "      }\n",
              "\n",
              "      [theme=dark] .colab-df-generate {\n",
              "        background-color: #3B4455;\n",
              "        fill: #D2E3FC;\n",
              "      }\n",
              "\n",
              "      [theme=dark] .colab-df-generate:hover {\n",
              "        background-color: #434B5C;\n",
              "        box-shadow: 0px 1px 3px 1px rgba(0, 0, 0, 0.15);\n",
              "        filter: drop-shadow(0px 1px 2px rgba(0, 0, 0, 0.3));\n",
              "        fill: #FFFFFF;\n",
              "      }\n",
              "    </style>\n",
              "    <button class=\"colab-df-generate\" onclick=\"generateWithVariable('results_dt')\"\n",
              "            title=\"Generate code using this dataframe.\"\n",
              "            style=\"display:none;\">\n",
              "\n",
              "  <svg xmlns=\"http://www.w3.org/2000/svg\" height=\"24px\"viewBox=\"0 0 24 24\"\n",
              "       width=\"24px\">\n",
              "    <path d=\"M7,19H8.4L18.45,9,17,7.55,7,17.6ZM5,21V16.75L18.45,3.32a2,2,0,0,1,2.83,0l1.4,1.43a1.91,1.91,0,0,1,.58,1.4,1.91,1.91,0,0,1-.58,1.4L9.25,21ZM18.45,9,17,7.55Zm-12,3A5.31,5.31,0,0,0,4.9,8.1,5.31,5.31,0,0,0,1,6.5,5.31,5.31,0,0,0,4.9,4.9,5.31,5.31,0,0,0,6.5,1,5.31,5.31,0,0,0,8.1,4.9,5.31,5.31,0,0,0,12,6.5,5.46,5.46,0,0,0,6.5,12Z\"/>\n",
              "  </svg>\n",
              "    </button>\n",
              "    <script>\n",
              "      (() => {\n",
              "      const buttonEl =\n",
              "        document.querySelector('#id_728d4f4c-62c1-4467-9cb0-069733fb33c3 button.colab-df-generate');\n",
              "      buttonEl.style.display =\n",
              "        google.colab.kernel.accessAllowed ? 'block' : 'none';\n",
              "\n",
              "      buttonEl.onclick = () => {\n",
              "        google.colab.notebook.generateWithVariable('results_dt');\n",
              "      }\n",
              "      })();\n",
              "    </script>\n",
              "  </div>\n",
              "\n",
              "    </div>\n",
              "  </div>\n"
            ],
            "application/vnd.google.colaboratory.intrinsic+json": {
              "type": "dataframe",
              "variable_name": "results_dt",
              "summary": "{\n  \"name\": \"results_dt\",\n  \"rows\": 3,\n  \"fields\": [\n    {\n      \"column\": \"score_vouting_hard\",\n      \"properties\": {\n        \"dtype\": \"number\",\n        \"std\": 0.0233944695577615,\n        \"min\": 0.8043478260869565,\n        \"max\": 0.8489583333333334,\n        \"num_unique_values\": 3,\n        \"samples\": [\n          0.8489583333333334,\n          0.8144329896907216,\n          0.8043478260869565\n        ],\n        \"semantic_type\": \"\",\n        \"description\": \"\"\n      }\n    },\n    {\n      \"column\": \"score_vouting_soft\",\n      \"properties\": {\n        \"dtype\": \"number\",\n        \"std\": 0.0233944695577615,\n        \"min\": 0.8043478260869565,\n        \"max\": 0.8489583333333334,\n        \"num_unique_values\": 3,\n        \"samples\": [\n          0.8489583333333334,\n          0.8144329896907216,\n          0.8043478260869565\n        ],\n        \"semantic_type\": \"\",\n        \"description\": \"\"\n      }\n    },\n    {\n      \"column\": \"DT1\",\n      \"properties\": {\n        \"dtype\": \"number\",\n        \"std\": 0.0233944695577615,\n        \"min\": 0.8043478260869565,\n        \"max\": 0.8489583333333334,\n        \"num_unique_values\": 3,\n        \"samples\": [\n          0.8489583333333334,\n          0.8144329896907216,\n          0.8043478260869565\n        ],\n        \"semantic_type\": \"\",\n        \"description\": \"\"\n      }\n    },\n    {\n      \"column\": \"DT2\",\n      \"properties\": {\n        \"dtype\": \"number\",\n        \"std\": 0.0233944695577615,\n        \"min\": 0.8043478260869565,\n        \"max\": 0.8489583333333334,\n        \"num_unique_values\": 3,\n        \"samples\": [\n          0.8489583333333334,\n          0.8144329896907216,\n          0.8043478260869565\n        ],\n        \"semantic_type\": \"\",\n        \"description\": \"\"\n      }\n    },\n    {\n      \"column\": \"DT3\",\n      \"properties\": {\n        \"dtype\": \"number\",\n        \"std\": 0.033067541836483805,\n        \"min\": 0.8586956521739131,\n        \"max\": 0.921875,\n        \"num_unique_values\": 3,\n        \"samples\": [\n          0.921875,\n          0.9072164948453608,\n          0.8586956521739131\n        ],\n        \"semantic_type\": \"\",\n        \"description\": \"\"\n      }\n    }\n  ]\n}"
            }
          },
          "metadata": {},
          "execution_count": 136
        }
      ]
    },
    {
      "cell_type": "markdown",
      "source": [
        "- The decision trees have better performance, so none of them significantly biases the prediction.\n",
        "\n",
        "- But they also don't show a significant improvement when assembled, although they perform better than the previous group."
      ],
      "metadata": {
        "id": "QfToDYa-_Kj1"
      }
    },
    {
      "cell_type": "markdown",
      "source": [
        "# **Info**\n",
        "---\n",
        "**@By**: **Steven Bernal**\n",
        "\n",
        "**@Nickname**: **Kaiziferr**\n",
        "\n",
        "**@Git**: https://github.com/Kaiziferr"
      ],
      "metadata": {
        "id": "qkvdcuQpwyi5"
      }
    }
  ]
}