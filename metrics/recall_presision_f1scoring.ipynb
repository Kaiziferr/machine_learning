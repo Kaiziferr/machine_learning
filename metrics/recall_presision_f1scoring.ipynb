{
  "nbformat": 4,
  "nbformat_minor": 0,
  "metadata": {
    "colab": {
      "provenance": [],
      "authorship_tag": "ABX9TyOXbT7Vq4bEEQhvhvZ7Dr0a",
      "include_colab_link": true
    },
    "kernelspec": {
      "name": "python3",
      "display_name": "Python 3"
    },
    "language_info": {
      "name": "python"
    }
  },
  "cells": [
    {
      "cell_type": "markdown",
      "metadata": {
        "id": "view-in-github",
        "colab_type": "text"
      },
      "source": [
        "<a href=\"https://colab.research.google.com/github/Kaiziferr/machine_learning/blob/main/metrics/recall_presision_f1scoring.ipynb\" target=\"_parent\"><img src=\"https://colab.research.google.com/assets/colab-badge.svg\" alt=\"Open In Colab\"/></a>"
      ]
    },
    {
      "cell_type": "markdown",
      "source": [
        "# **Presisión**"
      ],
      "metadata": {
        "id": "HvGOinLIsmlL"
      }
    },
    {
      "cell_type": "code",
      "execution_count": 1,
      "metadata": {
        "id": "Fafk1l_Wolhv"
      },
      "outputs": [],
      "source": [
        "from sklearn.metrics import (\n",
        "    precision_score, f1_score, recall_score)"
      ]
    },
    {
      "cell_type": "markdown",
      "source": [
        "### **Binario**"
      ],
      "metadata": {
        "id": "QMofz4i70Imi"
      }
    },
    {
      "cell_type": "code",
      "source": [
        "resultado_positivo = [1 for _ in range(100)]\n",
        "resultado_negativo = [0 for _ in range(10000)]\n",
        "y_true = resultado_positivo + resultado_negativo\n",
        "\n",
        "predicciones_positivos = [0 for _ in range(10)] + [1 for _ in range(90)]\n",
        "predicciones_negativos = [1 for _ in range(30)] + [0 for _ in range(9970)]\n",
        "\n",
        "y_test = predicciones_positivos + predicciones_negativos"
      ],
      "metadata": {
        "id": "q8jVB9CKsv_A"
      },
      "execution_count": 2,
      "outputs": []
    },
    {
      "cell_type": "code",
      "source": [
        "precision = 90/(90+30)\n",
        "print(f'Presicion manual {precision}')"
      ],
      "metadata": {
        "colab": {
          "base_uri": "https://localhost:8080/"
        },
        "id": "jIMkCll5wN6I",
        "outputId": "0ced57a2-c084-4247-d93c-5e083462ef0d"
      },
      "execution_count": 3,
      "outputs": [
        {
          "output_type": "stream",
          "name": "stdout",
          "text": [
            "Presicion manual 0.75\n"
          ]
        }
      ]
    },
    {
      "cell_type": "code",
      "source": [
        "precision = precision_score(y_true, y_test, pos_label=1, average='binary')\n",
        "print(f'Presicion manual skit {precision}')"
      ],
      "metadata": {
        "colab": {
          "base_uri": "https://localhost:8080/"
        },
        "id": "EoliQDUqw_iJ",
        "outputId": "8eeb567f-12c8-4479-ce48-1b19f60f9273"
      },
      "execution_count": 4,
      "outputs": [
        {
          "output_type": "stream",
          "name": "stdout",
          "text": [
            "Presicion manual skit 0.75\n"
          ]
        }
      ]
    },
    {
      "cell_type": "markdown",
      "source": [
        "### **Multiclase**"
      ],
      "metadata": {
        "id": "cv8bisaz0L1I"
      }
    },
    {
      "cell_type": "code",
      "source": [
        "resultado_positivo1 = [1 for _ in range(100)]\n",
        "resultado_positivo2 = [2 for _ in range(100)]\n",
        "resultado_negativo = [0 for _ in range(10000)]\n",
        "y_true = resultado_positivo1 + resultado_positivo2 + resultado_negativo\n",
        "\n",
        "predicciones_positivos1 = [0 for _ in range(50)] + [1 for _ in range(50)]\n",
        "predicciones_positivos2 = [0 for _ in range(1)] + [2 for _ in range(99)]\n",
        "predicciones_negativos = [1 for _ in range(20)] + [2 for _ in range(51)] + [0 for _ in range(9929)]\n",
        "y_test = predicciones_positivos1 + predicciones_positivos2 + predicciones_negativos"
      ],
      "metadata": {
        "id": "510NE8iUzpby"
      },
      "execution_count": 5,
      "outputs": []
    },
    {
      "cell_type": "code",
      "source": [
        "precision = (50+99)/(50+99+20+51)\n",
        "print(f'Presicion manual {precision}')"
      ],
      "metadata": {
        "colab": {
          "base_uri": "https://localhost:8080/"
        },
        "id": "tCu5DInR0WtH",
        "outputId": "269500b6-ec5a-4ff5-80df-be1813de63d6"
      },
      "execution_count": 6,
      "outputs": [
        {
          "output_type": "stream",
          "name": "stdout",
          "text": [
            "Presicion manual 0.6772727272727272\n"
          ]
        }
      ]
    },
    {
      "cell_type": "code",
      "source": [
        "precision = precision_score(y_true, y_test, labels=[1,2], average='micro')\n",
        "print('Precision micro: %.3f' % precision)"
      ],
      "metadata": {
        "colab": {
          "base_uri": "https://localhost:8080/"
        },
        "id": "9HZXQFO40Gbx",
        "outputId": "e3e27349-22ff-4bbe-a2c5-c09f3ff701d3"
      },
      "execution_count": 7,
      "outputs": [
        {
          "output_type": "stream",
          "name": "stdout",
          "text": [
            "Precision micro: 0.677\n"
          ]
        }
      ]
    },
    {
      "cell_type": "code",
      "source": [
        "precision = ((50/(50+20))+((99)/(99+51)))/2\n",
        "print(f'Presicion manual micro {precision}')"
      ],
      "metadata": {
        "colab": {
          "base_uri": "https://localhost:8080/"
        },
        "id": "H63dnjYZoUMu",
        "outputId": "8d91ddc5-e59e-46c7-e30e-960e1b47922c"
      },
      "execution_count": 8,
      "outputs": [
        {
          "output_type": "stream",
          "name": "stdout",
          "text": [
            "Presicion manual micro 0.6871428571428572\n"
          ]
        }
      ]
    },
    {
      "cell_type": "code",
      "source": [
        "precision = precision_score(y_true, y_test, labels=[1,2], average='macro')\n",
        "print('Precision macro: %.3f' % precision)"
      ],
      "metadata": {
        "colab": {
          "base_uri": "https://localhost:8080/"
        },
        "id": "s0DrRj22oZWx",
        "outputId": "11eafc23-df4f-4592-c89d-7ec01b3face6"
      },
      "execution_count": 9,
      "outputs": [
        {
          "output_type": "stream",
          "name": "stdout",
          "text": [
            "Precision macro: 0.687\n"
          ]
        }
      ]
    },
    {
      "cell_type": "markdown",
      "source": [
        "# **Sensibilidad**"
      ],
      "metadata": {
        "id": "NmNQFyJc2LBC"
      }
    },
    {
      "cell_type": "markdown",
      "source": [
        "### **Binario**"
      ],
      "metadata": {
        "id": "H_WbGVuRU3cL"
      }
    },
    {
      "cell_type": "code",
      "source": [
        "resultado_positivo = [1 for _ in range(100)]\n",
        "resultado_negativo = [0 for _ in range(10000)]\n",
        "\n",
        "y_true = resultado_positivo + resultado_negativo\n",
        "\n",
        "predicciones_positivos = [0 for _ in range(10)] + [1 for _ in range(90)]\n",
        "predicciones_negativos = [0 for _ in range(10000)]\n",
        "y_pred = predicciones_positivos + predicciones_negativos"
      ],
      "metadata": {
        "id": "NMvV37pAt_0Z"
      },
      "execution_count": 10,
      "outputs": []
    },
    {
      "cell_type": "code",
      "source": [
        "recall = 90/(90+10)\n",
        "print(f'Recall {recall}')"
      ],
      "metadata": {
        "colab": {
          "base_uri": "https://localhost:8080/"
        },
        "id": "HPccMfJFUVfe",
        "outputId": "2b8f5f63-fcb0-46f8-df56-75888c813977"
      },
      "execution_count": 11,
      "outputs": [
        {
          "output_type": "stream",
          "name": "stdout",
          "text": [
            "Recall 0.9\n"
          ]
        }
      ]
    },
    {
      "cell_type": "code",
      "source": [
        "recall = recall_score(y_true, y_pred, pos_label=1, average='binary')\n",
        "print(f'Recall {recall}')"
      ],
      "metadata": {
        "colab": {
          "base_uri": "https://localhost:8080/"
        },
        "id": "5UyjJNrmVCfH",
        "outputId": "174f5669-fdc8-4b35-d068-69d82b95d606"
      },
      "execution_count": 12,
      "outputs": [
        {
          "output_type": "stream",
          "name": "stdout",
          "text": [
            "Recall 0.9\n"
          ]
        }
      ]
    },
    {
      "cell_type": "markdown",
      "source": [
        "### **Multiclase**"
      ],
      "metadata": {
        "id": "Dszo9pnfU4Jl"
      }
    },
    {
      "cell_type": "code",
      "source": [
        "resultado_positivo1 = [1 for _ in range(100)]\n",
        "resultado_positivo2 = [2 for _ in range(100)]\n",
        "resultado_negativo = [0 for _ in range(10000)]\n",
        "y_true = resultado_positivo1 + resultado_positivo2 + resultado_negativo\n",
        "\n",
        "predicciones_positivos1 = [0 for _ in range(23)] + [1 for _ in range(77)]\n",
        "predicciones_positivos2 = [0 for _ in range(5)] + [2 for _ in range(95)]\n",
        "predicciones_negativas = [0 for _ in range(10000)]\n",
        "y_pred = predicciones_positivos1 + predicciones_positivos2 + predicciones_negativas"
      ],
      "metadata": {
        "id": "OGcqzhdKU01l"
      },
      "execution_count": 13,
      "outputs": []
    },
    {
      "cell_type": "code",
      "source": [
        "recall = (77+95)/(77+95+23+5)\n",
        "print(f'Recall {recall}')"
      ],
      "metadata": {
        "colab": {
          "base_uri": "https://localhost:8080/"
        },
        "id": "jD-8btY4Vdw3",
        "outputId": "32291bf3-28f5-4290-8e87-c646c9c6af07"
      },
      "execution_count": 14,
      "outputs": [
        {
          "output_type": "stream",
          "name": "stdout",
          "text": [
            "Recall 0.86\n"
          ]
        }
      ]
    },
    {
      "cell_type": "code",
      "source": [
        "recall = recall_score(y_true, y_pred, labels=[1,2], average='micro')\n",
        "print(f'Recall {recall}')"
      ],
      "metadata": {
        "colab": {
          "base_uri": "https://localhost:8080/"
        },
        "id": "yba-HiodVdQg",
        "outputId": "a2ba2e8f-284e-4497-8220-d9126a1f3919"
      },
      "execution_count": 15,
      "outputs": [
        {
          "output_type": "stream",
          "name": "stdout",
          "text": [
            "Recall 0.86\n"
          ]
        }
      ]
    },
    {
      "cell_type": "code",
      "source": [
        "recall = ((77/(77+23))+((95)/(95+5)))/2\n",
        "print(f'Recall manual micro {recall}')"
      ],
      "metadata": {
        "colab": {
          "base_uri": "https://localhost:8080/"
        },
        "id": "JOt1iqUpsE-w",
        "outputId": "82ea51ca-2064-4001-bcdd-885d9097f9db"
      },
      "execution_count": 16,
      "outputs": [
        {
          "output_type": "stream",
          "name": "stdout",
          "text": [
            "Recall manual micro 0.86\n"
          ]
        }
      ]
    },
    {
      "cell_type": "code",
      "source": [
        "recall = recall_score(y_true, y_test, labels=[1,2], average='macro')\n",
        "print('Recall macro: %.3f' % recall)"
      ],
      "metadata": {
        "colab": {
          "base_uri": "https://localhost:8080/"
        },
        "id": "2A2uVr87sK4H",
        "outputId": "c54faf9f-222d-4b76-8a93-d6ce1488e467"
      },
      "execution_count": 17,
      "outputs": [
        {
          "output_type": "stream",
          "name": "stdout",
          "text": [
            "Recall macro: 0.745\n"
          ]
        }
      ]
    },
    {
      "cell_type": "markdown",
      "source": [
        "# **F1 Mesure**\n",
        "---"
      ],
      "metadata": {
        "id": "2vO_YKsrV6UC"
      }
    },
    {
      "cell_type": "markdown",
      "source": [
        "### **Binario**"
      ],
      "metadata": {
        "id": "bCarkb5jYjM8"
      }
    },
    {
      "cell_type": "code",
      "source": [
        "resultado_positivo = [1 for _ in range(100)]\n",
        "resultado_negativo = [0 for _ in range(10000)]\n",
        "y_true = resultado_positivo + resultado_negativo\n",
        "# define predictions\n",
        "predicciones_positivos = [0 for _ in range(5)] + [1 for _ in range(95)]\n",
        "predicciones_negativas = [1 for _ in range(55)] + [0 for _ in range(9945)]\n",
        "y_pred = predicciones_positivos + predicciones_negativas"
      ],
      "metadata": {
        "id": "UDp9lpP7V_wX"
      },
      "execution_count": 18,
      "outputs": []
    },
    {
      "cell_type": "code",
      "source": [
        "precision = (95)/(95+55)\n",
        "recall = (95)/(95+5)\n",
        "f1 = (2*precision*recall)/(precision+recall)"
      ],
      "metadata": {
        "id": "bWSWKuBBYA7f"
      },
      "execution_count": 19,
      "outputs": []
    },
    {
      "cell_type": "code",
      "source": [
        "print('F-Measure: %.3f' % f1)"
      ],
      "metadata": {
        "colab": {
          "base_uri": "https://localhost:8080/"
        },
        "id": "v94SaLg9YZ3F",
        "outputId": "eeec0de9-6a19-4184-f5c3-3af0141b3138"
      },
      "execution_count": 20,
      "outputs": [
        {
          "output_type": "stream",
          "name": "stdout",
          "text": [
            "F-Measure: 0.760\n"
          ]
        }
      ]
    },
    {
      "cell_type": "code",
      "source": [
        "score = f1_score(y_true, y_pred, average='binary')\n",
        "print('F-Measure: %.3f' % score)"
      ],
      "metadata": {
        "colab": {
          "base_uri": "https://localhost:8080/"
        },
        "id": "DDZZ3N8EYAOK",
        "outputId": "ad0c49e1-6475-4755-e987-10866c6b3172"
      },
      "execution_count": 21,
      "outputs": [
        {
          "output_type": "stream",
          "name": "stdout",
          "text": [
            "F-Measure: 0.760\n"
          ]
        }
      ]
    },
    {
      "cell_type": "markdown",
      "source": [
        "### **Multiclase**"
      ],
      "metadata": {
        "id": "HEm6xMloYlL-"
      }
    },
    {
      "cell_type": "code",
      "source": [
        "resultado_positivo1 = [1 for _ in range(100)]\n",
        "resultado_positivo2 = [2 for _ in range(100)]\n",
        "resultado_negativo = [0 for _ in range(10000)]\n",
        "y_true = resultado_positivo1 + resultado_positivo2 + resultado_negativo\n",
        "\n",
        "predicciones_positivos1 = [0 for _ in range(50)] + [1 for _ in range(50)]\n",
        "predicciones_positivos2 = [0 for _ in range(1)] + [2 for _ in range(99)]\n",
        "predicciones_negativos = [1 for _ in range(20)] + [2 for _ in range(51)] + [0 for _ in range(9929)]\n",
        "y_test = predicciones_positivos1 + predicciones_positivos2 + predicciones_negativos"
      ],
      "metadata": {
        "id": "1MeMgJ0vYAHy"
      },
      "execution_count": 22,
      "outputs": []
    },
    {
      "cell_type": "code",
      "source": [
        "print(len(y_true), len(y_test))"
      ],
      "metadata": {
        "colab": {
          "base_uri": "https://localhost:8080/"
        },
        "id": "-ONYv2MIcK13",
        "outputId": "c40e9f8a-d9ac-4623-a376-c203e50e0a5a"
      },
      "execution_count": 23,
      "outputs": [
        {
          "output_type": "stream",
          "name": "stdout",
          "text": [
            "10200 10200\n"
          ]
        }
      ]
    },
    {
      "cell_type": "code",
      "source": [
        "recall = (50+99)/(50+99+50+1)\n",
        "precision = (50+99)/(50+99+20+51)\n",
        "f1 = (2*recall*precision)/(recall+precision)"
      ],
      "metadata": {
        "id": "wz6Fqn-SY38n"
      },
      "execution_count": 24,
      "outputs": []
    },
    {
      "cell_type": "code",
      "source": [
        "print('F-Measure: %.3f' % f1)"
      ],
      "metadata": {
        "colab": {
          "base_uri": "https://localhost:8080/"
        },
        "id": "ABG3KE4RZgt3",
        "outputId": "495e6e41-f3d5-4d38-cdfc-caf1de44d7bd"
      },
      "execution_count": 25,
      "outputs": [
        {
          "output_type": "stream",
          "name": "stdout",
          "text": [
            "F-Measure: 0.710\n"
          ]
        }
      ]
    },
    {
      "cell_type": "code",
      "source": [
        "score = f1_score(y_true, y_test, labels=[1,2], average='micro')\n",
        "print('F-Measure: %.3f' % score)"
      ],
      "metadata": {
        "colab": {
          "base_uri": "https://localhost:8080/"
        },
        "id": "jSGMA5XxZrfx",
        "outputId": "64b1f5cb-c518-45df-a048-f3208b36f146"
      },
      "execution_count": 26,
      "outputs": [
        {
          "output_type": "stream",
          "name": "stdout",
          "text": [
            "F-Measure: 0.710\n"
          ]
        }
      ]
    }
  ]
}