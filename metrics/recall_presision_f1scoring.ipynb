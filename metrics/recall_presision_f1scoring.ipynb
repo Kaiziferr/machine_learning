{
  "nbformat": 4,
  "nbformat_minor": 0,
  "metadata": {
    "colab": {
      "provenance": [],
      "authorship_tag": "ABX9TyOXbT7Vq4bEEQhvhvZ7Dr0a",
      "include_colab_link": true
    },
    "kernelspec": {
      "name": "python3",
      "display_name": "Python 3"
    },
    "language_info": {
      "name": "python"
    }
  },
  "cells": [
    {
      "cell_type": "markdown",
      "metadata": {
        "id": "view-in-github",
        "colab_type": "text"
      },
      "source": [
        "<a href=\"https://colab.research.google.com/github/Kaiziferr/machine_learning/blob/main/metrics/recall_presision_f1scoring.ipynb\" target=\"_parent\"><img src=\"https://colab.research.google.com/assets/colab-badge.svg\" alt=\"Open In Colab\"/></a>"
      ]
    },
    {
      "cell_type": "markdown",
      "source": [
        "# **Presisión**"
      ],
      "metadata": {
        "id": "HvGOinLIsmlL"
      }
    },
    {
      "cell_type": "code",
      "execution_count": 236,
      "metadata": {
        "id": "Fafk1l_Wolhv"
      },
      "outputs": [],
      "source": [
        "from sklearn.metrics import (\n",
        "    precision_score, f1_score, recall_score)"
      ]
    },
    {
      "cell_type": "markdown",
      "source": [
        "### **Binario**"
      ],
      "metadata": {
        "id": "QMofz4i70Imi"
      }
    },
    {
      "cell_type": "code",
      "source": [
        "resultado_positivo = [1 for _ in range(100)]\n",
        "resultado_negativo = [0 for _ in range(10000)]\n",
        "y_true = resultado_positivo + resultado_negativo\n",
        "\n",
        "predicciones_positivos = [0 for _ in range(10)] + [1 for _ in range(90)]\n",
        "predicciones_negativos = [1 for _ in range(30)] + [0 for _ in range(9970)]\n",
        "\n",
        "y_test = predicciones_positivos + predicciones_negativos"
      ],
      "metadata": {
        "id": "q8jVB9CKsv_A"
      },
      "execution_count": 237,
      "outputs": []
    },
    {
      "cell_type": "code",
      "source": [
        "precision = 90/(90+30)\n",
        "print(f'Presicion manual {precision}')"
      ],
      "metadata": {
        "colab": {
          "base_uri": "https://localhost:8080/"
        },
        "id": "jIMkCll5wN6I",
        "outputId": "27fc19ef-a44c-4070-cb63-428b1afb3cec"
      },
      "execution_count": 238,
      "outputs": [
        {
          "output_type": "stream",
          "name": "stdout",
          "text": [
            "Presicion manual 0.75\n"
          ]
        }
      ]
    },
    {
      "cell_type": "code",
      "source": [
        "precision = precision_score(y_true, y_test, pos_label=1, average='binary')\n",
        "print(f'Presicion manual skit {precision}')"
      ],
      "metadata": {
        "colab": {
          "base_uri": "https://localhost:8080/"
        },
        "id": "EoliQDUqw_iJ",
        "outputId": "f88816b0-fd30-40f6-c2f6-cebeb8dcc99f"
      },
      "execution_count": 239,
      "outputs": [
        {
          "output_type": "stream",
          "name": "stdout",
          "text": [
            "Presicion manual skit 0.75\n"
          ]
        }
      ]
    },
    {
      "cell_type": "markdown",
      "source": [
        "### **Multiclase**"
      ],
      "metadata": {
        "id": "cv8bisaz0L1I"
      }
    },
    {
      "cell_type": "code",
      "source": [
        "resultado_positivo1 = [1 for _ in range(100)]\n",
        "resultado_positivo2 = [2 for _ in range(100)]\n",
        "resultado_negativo = [0 for _ in range(10000)]\n",
        "y_true = resultado_positivo1 + resultado_positivo2 + resultado_negativo\n",
        "\n",
        "predicciones_positivos1 = [0 for _ in range(50)] + [1 for _ in range(50)]\n",
        "predicciones_positivos2 = [0 for _ in range(1)] + [2 for _ in range(99)]\n",
        "predicciones_negativos = [1 for _ in range(20)] + [2 for _ in range(51)] + [0 for _ in range(9929)]\n",
        "y_test = predicciones_positivos1 + predicciones_positivos2 + predicciones_negativos"
      ],
      "metadata": {
        "id": "510NE8iUzpby"
      },
      "execution_count": 240,
      "outputs": []
    },
    {
      "cell_type": "code",
      "source": [
        "precision = (50+99)/(50+99+20+51)\n",
        "print(f'Presicion manual {precision}')"
      ],
      "metadata": {
        "colab": {
          "base_uri": "https://localhost:8080/"
        },
        "id": "tCu5DInR0WtH",
        "outputId": "eab3e386-3463-41c7-f934-afff90742c85"
      },
      "execution_count": 241,
      "outputs": [
        {
          "output_type": "stream",
          "name": "stdout",
          "text": [
            "Presicion manual 0.6772727272727272\n"
          ]
        }
      ]
    },
    {
      "cell_type": "code",
      "source": [
        "precision = precision_score(y_true, y_test, labels=[1,2], average='micro')\n",
        "print('Precision micro: %.3f' % precision)"
      ],
      "metadata": {
        "colab": {
          "base_uri": "https://localhost:8080/"
        },
        "id": "9HZXQFO40Gbx",
        "outputId": "60f93c0c-6232-41f7-8785-25489cb9c3f5"
      },
      "execution_count": 242,
      "outputs": [
        {
          "output_type": "stream",
          "name": "stdout",
          "text": [
            "Precision micro: 0.677\n"
          ]
        }
      ]
    },
    {
      "cell_type": "code",
      "source": [
        "precision = ((50/(50+20))+((99)/(99+51)))/2\n",
        "print(f'Presicion manual micro {precision}')"
      ],
      "metadata": {
        "colab": {
          "base_uri": "https://localhost:8080/"
        },
        "id": "H63dnjYZoUMu",
        "outputId": "a906608c-9141-45dc-9528-24fc287233f3"
      },
      "execution_count": 243,
      "outputs": [
        {
          "output_type": "stream",
          "name": "stdout",
          "text": [
            "Presicion manual micro 0.6871428571428572\n"
          ]
        }
      ]
    },
    {
      "cell_type": "code",
      "source": [
        "precision = precision_score(y_true, y_test, labels=[1,2], average='macro')\n",
        "print('Precision macro: %.3f' % precision)"
      ],
      "metadata": {
        "colab": {
          "base_uri": "https://localhost:8080/"
        },
        "id": "s0DrRj22oZWx",
        "outputId": "cd5721b4-8c04-45f0-9d35-1004341b4089"
      },
      "execution_count": 244,
      "outputs": [
        {
          "output_type": "stream",
          "name": "stdout",
          "text": [
            "Precision macro: 0.687\n"
          ]
        }
      ]
    },
    {
      "cell_type": "markdown",
      "source": [
        "# **Sensibilidad**"
      ],
      "metadata": {
        "id": "NmNQFyJc2LBC"
      }
    },
    {
      "cell_type": "markdown",
      "source": [
        "### **Binario**"
      ],
      "metadata": {
        "id": "H_WbGVuRU3cL"
      }
    },
    {
      "cell_type": "code",
      "source": [
        "resultado_positivo = [1 for _ in range(100)]\n",
        "resultado_negativo = [0 for _ in range(10000)]\n",
        "\n",
        "y_true = resultado_positivo + resultado_negativo\n",
        "\n",
        "predicciones_positivos = [0 for _ in range(10)] + [1 for _ in range(90)]\n",
        "predicciones_negativos = [0 for _ in range(10000)]\n",
        "y_pred = predicciones_positivos + predicciones_negativos"
      ],
      "metadata": {
        "id": "NMvV37pAt_0Z"
      },
      "execution_count": 245,
      "outputs": []
    },
    {
      "cell_type": "code",
      "source": [
        "recall = 90/(90+10)\n",
        "print(f'Recall {recall}')"
      ],
      "metadata": {
        "colab": {
          "base_uri": "https://localhost:8080/"
        },
        "id": "HPccMfJFUVfe",
        "outputId": "2d979ccb-a7c5-4480-98d9-049eb065d360"
      },
      "execution_count": 246,
      "outputs": [
        {
          "output_type": "stream",
          "name": "stdout",
          "text": [
            "Recall 0.9\n"
          ]
        }
      ]
    },
    {
      "cell_type": "code",
      "source": [
        "recall = recall_score(y_true, y_pred, pos_label=1, average='binary')\n",
        "print(f'Recall {recall}')"
      ],
      "metadata": {
        "colab": {
          "base_uri": "https://localhost:8080/"
        },
        "id": "5UyjJNrmVCfH",
        "outputId": "f08cbfeb-b45f-4e71-f67a-6cf836ff09e2"
      },
      "execution_count": 247,
      "outputs": [
        {
          "output_type": "stream",
          "name": "stdout",
          "text": [
            "Recall 0.9\n"
          ]
        }
      ]
    },
    {
      "cell_type": "markdown",
      "source": [
        "### **Multiclase**"
      ],
      "metadata": {
        "id": "Dszo9pnfU4Jl"
      }
    },
    {
      "cell_type": "code",
      "source": [
        "resultado_positivo1 = [1 for _ in range(100)]\n",
        "resultado_positivo2 = [2 for _ in range(100)]\n",
        "resultado_negativo = [0 for _ in range(10000)]\n",
        "y_true = resultado_positivo1 + resultado_positivo2 + resultado_negativo\n",
        "\n",
        "predicciones_positivos1 = [0 for _ in range(23)] + [1 for _ in range(77)]\n",
        "predicciones_positivos2 = [0 for _ in range(5)] + [2 for _ in range(95)]\n",
        "predicciones_negativas = [0 for _ in range(10000)]\n",
        "y_pred = predicciones_positivos1 + predicciones_positivos2 + predicciones_negativas"
      ],
      "metadata": {
        "id": "OGcqzhdKU01l"
      },
      "execution_count": 248,
      "outputs": []
    },
    {
      "cell_type": "code",
      "source": [
        "recall = (77+95)/(77+95+23+5)\n",
        "print(f'Recall {recall}')"
      ],
      "metadata": {
        "colab": {
          "base_uri": "https://localhost:8080/"
        },
        "id": "jD-8btY4Vdw3",
        "outputId": "7e9c2cdd-bae6-49e0-b790-8e8b4e04a5f6"
      },
      "execution_count": 249,
      "outputs": [
        {
          "output_type": "stream",
          "name": "stdout",
          "text": [
            "Recall 0.86\n"
          ]
        }
      ]
    },
    {
      "cell_type": "code",
      "source": [
        "recall = recall_score(y_true, y_pred, labels=[1,2], average='micro')\n",
        "print(f'Recall {recall}')"
      ],
      "metadata": {
        "colab": {
          "base_uri": "https://localhost:8080/"
        },
        "id": "yba-HiodVdQg",
        "outputId": "6ba4581d-d1e6-42be-ca30-74e8b6df0940"
      },
      "execution_count": 250,
      "outputs": [
        {
          "output_type": "stream",
          "name": "stdout",
          "text": [
            "Recall 0.86\n"
          ]
        }
      ]
    },
    {
      "cell_type": "code",
      "source": [
        "recall = ((77/(77+23))+((95)/(95+5)))/2\n",
        "print(f'Recall manual micro {recall}')"
      ],
      "metadata": {
        "colab": {
          "base_uri": "https://localhost:8080/"
        },
        "id": "JOt1iqUpsE-w",
        "outputId": "ba8881c8-f5ef-4e9e-81b5-4440e2be7753"
      },
      "execution_count": 251,
      "outputs": [
        {
          "output_type": "stream",
          "name": "stdout",
          "text": [
            "Recall manual micro 0.86\n"
          ]
        }
      ]
    },
    {
      "cell_type": "code",
      "source": [
        "recall = recall_score(y_true, y_test, labels=[1,2], average='macro')\n",
        "print('Recall macro: %.3f' % recall)"
      ],
      "metadata": {
        "colab": {
          "base_uri": "https://localhost:8080/"
        },
        "id": "2A2uVr87sK4H",
        "outputId": "40ffdc9c-cc81-4a5d-a910-1278d8464502"
      },
      "execution_count": 252,
      "outputs": [
        {
          "output_type": "stream",
          "name": "stdout",
          "text": [
            "Recall macro: 0.745\n"
          ]
        }
      ]
    },
    {
      "cell_type": "markdown",
      "source": [
        "# **F1 Mesure**\n",
        "---"
      ],
      "metadata": {
        "id": "2vO_YKsrV6UC"
      }
    },
    {
      "cell_type": "markdown",
      "source": [
        "### **Binario**"
      ],
      "metadata": {
        "id": "bCarkb5jYjM8"
      }
    },
    {
      "cell_type": "code",
      "source": [
        "resultado_positivo = [1 for _ in range(100)]\n",
        "resultado_negativo = [0 for _ in range(10000)]\n",
        "y_true = resultado_positivo + resultado_negativo\n",
        "# define predictions\n",
        "predicciones_positivos = [0 for _ in range(5)] + [1 for _ in range(95)]\n",
        "predicciones_negativas = [1 for _ in range(55)] + [0 for _ in range(9945)]\n",
        "y_pred = predicciones_positivos + predicciones_negativas"
      ],
      "metadata": {
        "id": "UDp9lpP7V_wX"
      },
      "execution_count": 253,
      "outputs": []
    },
    {
      "cell_type": "code",
      "source": [
        "precision = (95)/(95+55)\n",
        "recall = (95)/(95+5)\n",
        "f1 = (2*precision*recall)/(precision+recall)"
      ],
      "metadata": {
        "id": "bWSWKuBBYA7f"
      },
      "execution_count": 254,
      "outputs": []
    },
    {
      "cell_type": "code",
      "source": [
        "print('F-Measure: %.3f' % f1)"
      ],
      "metadata": {
        "colab": {
          "base_uri": "https://localhost:8080/"
        },
        "id": "v94SaLg9YZ3F",
        "outputId": "236175ec-672a-4d48-e7ec-da6f5faaada6"
      },
      "execution_count": 255,
      "outputs": [
        {
          "output_type": "stream",
          "name": "stdout",
          "text": [
            "F-Measure: 0.760\n"
          ]
        }
      ]
    },
    {
      "cell_type": "code",
      "source": [
        "score = f1_score(y_true, y_pred, average='binary')\n",
        "print('F-Measure: %.3f' % score)"
      ],
      "metadata": {
        "colab": {
          "base_uri": "https://localhost:8080/"
        },
        "id": "DDZZ3N8EYAOK",
        "outputId": "a6d57f88-452d-4cec-97c2-834f0a9df6ed"
      },
      "execution_count": 256,
      "outputs": [
        {
          "output_type": "stream",
          "name": "stdout",
          "text": [
            "F-Measure: 0.760\n"
          ]
        }
      ]
    },
    {
      "cell_type": "markdown",
      "source": [
        "### **Multiclase**"
      ],
      "metadata": {
        "id": "HEm6xMloYlL-"
      }
    },
    {
      "cell_type": "code",
      "source": [
        "resultado_positivo1 = [1 for _ in range(100)]\n",
        "resultado_positivo2 = [2 for _ in range(100)]\n",
        "resultado_negativo = [0 for _ in range(10000)]\n",
        "y_true = resultado_positivo1 + resultado_positivo2 + resultado_negativo\n",
        "\n",
        "predicciones_positivos1 = [0 for _ in range(50)] + [1 for _ in range(50)]\n",
        "predicciones_positivos2 = [0 for _ in range(1)] + [2 for _ in range(99)]\n",
        "predicciones_negativos = [1 for _ in range(20)] + [2 for _ in range(51)] + [0 for _ in range(9929)]\n",
        "y_test = predicciones_positivos1 + predicciones_positivos2 + predicciones_negativos"
      ],
      "metadata": {
        "id": "1MeMgJ0vYAHy"
      },
      "execution_count": 257,
      "outputs": []
    },
    {
      "cell_type": "code",
      "source": [
        "print(len(y_true), len(y_test))"
      ],
      "metadata": {
        "colab": {
          "base_uri": "https://localhost:8080/"
        },
        "id": "-ONYv2MIcK13",
        "outputId": "a91922b2-6344-4dd1-ba9b-93dcbb30db74"
      },
      "execution_count": 258,
      "outputs": [
        {
          "output_type": "stream",
          "name": "stdout",
          "text": [
            "10200 10200\n"
          ]
        }
      ]
    },
    {
      "cell_type": "code",
      "source": [
        "recall = (50+99)/(50+99+50+1)\n",
        "precision = (50+99)/(50+99+20+51)\n",
        "f1 = (2*recall*precision)/(recall+precision)"
      ],
      "metadata": {
        "id": "wz6Fqn-SY38n"
      },
      "execution_count": 259,
      "outputs": []
    },
    {
      "cell_type": "code",
      "source": [
        "print('F-Measure: %.3f' % f1)"
      ],
      "metadata": {
        "colab": {
          "base_uri": "https://localhost:8080/"
        },
        "id": "ABG3KE4RZgt3",
        "outputId": "591e9d6a-d3cd-4495-d0f6-b762b43df54d"
      },
      "execution_count": 260,
      "outputs": [
        {
          "output_type": "stream",
          "name": "stdout",
          "text": [
            "F-Measure: 0.710\n"
          ]
        }
      ]
    },
    {
      "cell_type": "code",
      "source": [
        "score = f1_score(y_true, y_test, labels=[1,2], average='micro')\n",
        "print('F-Measure: %.3f' % score)"
      ],
      "metadata": {
        "colab": {
          "base_uri": "https://localhost:8080/"
        },
        "id": "jSGMA5XxZrfx",
        "outputId": "e7f97f84-a311-4d8c-96e5-529204f4f4ca"
      },
      "execution_count": 261,
      "outputs": [
        {
          "output_type": "stream",
          "name": "stdout",
          "text": [
            "F-Measure: 0.710\n"
          ]
        }
      ]
    }
  ]
}