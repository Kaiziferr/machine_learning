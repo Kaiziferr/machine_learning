{
  "nbformat": 4,
  "nbformat_minor": 0,
  "metadata": {
    "colab": {
      "provenance": [],
      "authorship_tag": "ABX9TyOVwPxhGgBdOav4l/5hgWvY",
      "include_colab_link": true
    },
    "kernelspec": {
      "name": "python3",
      "display_name": "Python 3"
    },
    "language_info": {
      "name": "python"
    }
  },
  "cells": [
    {
      "cell_type": "markdown",
      "metadata": {
        "id": "view-in-github",
        "colab_type": "text"
      },
      "source": [
        "<a href=\"https://colab.research.google.com/github/Kaiziferr/machine_learning/blob/main/metrics/fbetascore.ipynb\" target=\"_parent\"><img src=\"https://colab.research.google.com/assets/colab-badge.svg\" alt=\"Open In Colab\"/></a>"
      ]
    },
    {
      "cell_type": "code",
      "execution_count": 1,
      "metadata": {
        "id": "_pLxKvSS0blz"
      },
      "outputs": [],
      "source": [
        "import warnings\n",
        "from sklearn.metrics import (\n",
        "    precision_score,\n",
        "    recall_score,\n",
        "    f1_score,\n",
        "    fbeta_score\n",
        ")"
      ]
    },
    {
      "cell_type": "markdown",
      "source": [
        "# **Precision**"
      ],
      "metadata": {
        "id": "zaj5IwFJ5PVn"
      }
    },
    {
      "cell_type": "code",
      "source": [
        "warnings.filterwarnings('ignore')"
      ],
      "metadata": {
        "id": "ibkvXofE3xo6"
      },
      "execution_count": 2,
      "outputs": []
    },
    {
      "cell_type": "code",
      "source": [
        "y_test =    [0, 0, 0, 0, 0, 1, 1, 1, 1, 1]\n",
        "y_predict = [0, 0, 0, 0, 0, 0, 0, 0, 0, 0]\n",
        "score = precision_score(y_test, y_predict)\n",
        "score"
      ],
      "metadata": {
        "colab": {
          "base_uri": "https://localhost:8080/"
        },
        "id": "_E0-aI4Y3WlZ",
        "outputId": "2041588a-8362-4228-8948-10ca142b56c9"
      },
      "execution_count": 3,
      "outputs": [
        {
          "output_type": "execute_result",
          "data": {
            "text/plain": [
              "0.0"
            ]
          },
          "metadata": {},
          "execution_count": 3
        }
      ]
    },
    {
      "cell_type": "markdown",
      "source": [
        "- No hay falsos positivos, ni verdaderos positivos\n",
        "\n",
        "- **precision** = (0/(0+0)) Error"
      ],
      "metadata": {
        "id": "aEkh53xj34Dw"
      }
    },
    {
      "cell_type": "code",
      "source": [
        "y_test =    [0, 0, 0, 0, 0, 1, 1, 1, 1, 1]\n",
        "y_predict = [0, 0, 0, 1, 1, 1, 1, 1, 1, 1]\n",
        "score = precision_score(y_test, y_predict)\n",
        "score"
      ],
      "metadata": {
        "colab": {
          "base_uri": "https://localhost:8080/"
        },
        "id": "r7zwG4Cc3_6n",
        "outputId": "e416e755-243f-424d-87b6-941d406ba939"
      },
      "execution_count": 4,
      "outputs": [
        {
          "output_type": "execute_result",
          "data": {
            "text/plain": [
              "0.7142857142857143"
            ]
          },
          "metadata": {},
          "execution_count": 4
        }
      ]
    },
    {
      "cell_type": "markdown",
      "source": [
        "- Hay falsos positivos"
      ],
      "metadata": {
        "id": "SttLVD4j4U0g"
      }
    },
    {
      "cell_type": "code",
      "source": [
        "(5/(5+2))"
      ],
      "metadata": {
        "colab": {
          "base_uri": "https://localhost:8080/"
        },
        "id": "gaBdkizC4RjQ",
        "outputId": "b7253f8c-e51f-4e91-c67b-128b2e6f9a11"
      },
      "execution_count": 5,
      "outputs": [
        {
          "output_type": "execute_result",
          "data": {
            "text/plain": [
              "0.7142857142857143"
            ]
          },
          "metadata": {},
          "execution_count": 5
        }
      ]
    },
    {
      "cell_type": "code",
      "source": [
        "y_test =    [0, 0, 0, 0, 0, 1, 1, 1, 1, 1]\n",
        "y_predict = [0, 0, 0, 0, 0, 0, 0, 1, 1, 1]\n",
        "score = precision_score(y_test, y_predict)\n",
        "score"
      ],
      "metadata": {
        "colab": {
          "base_uri": "https://localhost:8080/"
        },
        "id": "8UEqE0D44pFm",
        "outputId": "8a35a251-5ceb-4415-9346-89d14397f84b"
      },
      "execution_count": 6,
      "outputs": [
        {
          "output_type": "execute_result",
          "data": {
            "text/plain": [
              "1.0"
            ]
          },
          "metadata": {},
          "execution_count": 6
        }
      ]
    },
    {
      "cell_type": "markdown",
      "source": [
        "- Hay falsos negativos, la precision los ignora\n"
      ],
      "metadata": {
        "id": "Umgc595P402K"
      }
    },
    {
      "cell_type": "code",
      "source": [
        "(3/(3+0))"
      ],
      "metadata": {
        "colab": {
          "base_uri": "https://localhost:8080/"
        },
        "id": "-xzzMAFn4xlu",
        "outputId": "60c1aa9e-4266-4ba0-a4b0-97e783964fe5"
      },
      "execution_count": 7,
      "outputs": [
        {
          "output_type": "execute_result",
          "data": {
            "text/plain": [
              "1.0"
            ]
          },
          "metadata": {},
          "execution_count": 7
        }
      ]
    },
    {
      "cell_type": "code",
      "source": [
        "y_test =    [0, 0, 0, 0, 0, 1, 1, 1, 1, 1]\n",
        "y_predict = [0, 0, 0, 0, 0, 1, 1, 1, 1, 1]\n",
        "score = precision_score(y_test, y_predict)\n",
        "score"
      ],
      "metadata": {
        "colab": {
          "base_uri": "https://localhost:8080/"
        },
        "id": "Jt3ZVJk55AsI",
        "outputId": "8e818518-5962-48cc-9faf-d12e6b2975e9"
      },
      "execution_count": 8,
      "outputs": [
        {
          "output_type": "execute_result",
          "data": {
            "text/plain": [
              "1.0"
            ]
          },
          "metadata": {},
          "execution_count": 8
        }
      ]
    },
    {
      "cell_type": "markdown",
      "source": [
        "- No hay falsos positivos"
      ],
      "metadata": {
        "id": "CQOGmPI95C_A"
      }
    },
    {
      "cell_type": "code",
      "source": [
        "(5/(5+0))"
      ],
      "metadata": {
        "colab": {
          "base_uri": "https://localhost:8080/"
        },
        "id": "4m41nQUG5KTm",
        "outputId": "4ff8245f-2a5c-4613-ea71-f8883d36dbef"
      },
      "execution_count": 9,
      "outputs": [
        {
          "output_type": "execute_result",
          "data": {
            "text/plain": [
              "1.0"
            ]
          },
          "metadata": {},
          "execution_count": 9
        }
      ]
    },
    {
      "cell_type": "markdown",
      "source": [
        "# **Recall**"
      ],
      "metadata": {
        "id": "XQf4D9jf5T7v"
      }
    },
    {
      "cell_type": "code",
      "source": [
        "y_test =    [0, 0, 0, 0, 0, 1, 1, 1, 1, 1]\n",
        "y_predict = [0, 0, 0, 1, 1, 1, 1, 1, 1, 1]\n",
        "score = recall_score(y_test, y_predict)\n",
        "score"
      ],
      "metadata": {
        "colab": {
          "base_uri": "https://localhost:8080/"
        },
        "id": "YERT8pNs5Vwv",
        "outputId": "5a50c339-f084-4f93-8c54-a865c6cd9a12"
      },
      "execution_count": 10,
      "outputs": [
        {
          "output_type": "execute_result",
          "data": {
            "text/plain": [
              "1.0"
            ]
          },
          "metadata": {},
          "execution_count": 10
        }
      ]
    },
    {
      "cell_type": "code",
      "source": [
        "(5/(5+0))"
      ],
      "metadata": {
        "colab": {
          "base_uri": "https://localhost:8080/"
        },
        "id": "U8cItoCT58ig",
        "outputId": "f6354aee-9b61-47ae-d434-f56fe8b5c269"
      },
      "execution_count": 11,
      "outputs": [
        {
          "output_type": "execute_result",
          "data": {
            "text/plain": [
              "1.0"
            ]
          },
          "metadata": {},
          "execution_count": 11
        }
      ]
    },
    {
      "cell_type": "markdown",
      "source": [
        "- Hay falsos positivos, el recall los ignora. No hay falsos negativos"
      ],
      "metadata": {
        "id": "FGu5tUon528C"
      }
    },
    {
      "cell_type": "code",
      "source": [
        "y_test =    [0, 0, 0, 0, 0, 1, 1, 1, 1, 1]\n",
        "y_predict = [0, 0, 0, 0, 0, 0, 0, 1, 1, 1]\n",
        "score = recall_score(y_test, y_predict)\n",
        "score"
      ],
      "metadata": {
        "colab": {
          "base_uri": "https://localhost:8080/"
        },
        "id": "874s-s546ItH",
        "outputId": "45f7f444-f64b-4610-dbc5-721cfb763b63"
      },
      "execution_count": 12,
      "outputs": [
        {
          "output_type": "execute_result",
          "data": {
            "text/plain": [
              "0.6"
            ]
          },
          "metadata": {},
          "execution_count": 12
        }
      ]
    },
    {
      "cell_type": "code",
      "source": [
        "(3/(3+2))"
      ],
      "metadata": {
        "colab": {
          "base_uri": "https://localhost:8080/"
        },
        "id": "FSaWDqDV6RO_",
        "outputId": "aea95b18-a617-450a-df0e-57f705417511"
      },
      "execution_count": 13,
      "outputs": [
        {
          "output_type": "execute_result",
          "data": {
            "text/plain": [
              "0.6"
            ]
          },
          "metadata": {},
          "execution_count": 13
        }
      ]
    },
    {
      "cell_type": "markdown",
      "source": [
        "-  Hay falsos negativos"
      ],
      "metadata": {
        "id": "fJdFoUGb6KuZ"
      }
    },
    {
      "cell_type": "markdown",
      "source": [
        "#**F-Measure**\n"
      ],
      "metadata": {
        "id": "hywVAoXJ6eYw"
      }
    },
    {
      "cell_type": "code",
      "source": [
        "y_test =    [0, 0, 0, 0, 0, 1, 1, 1, 1, 1]\n",
        "y_predict = [1, 1, 1, 1, 1, 0, 0, 0, 0, 0]"
      ],
      "metadata": {
        "id": "nah2IoMh6gJA"
      },
      "execution_count": 14,
      "outputs": []
    },
    {
      "cell_type": "code",
      "source": [
        "precision = precision_score(y_test, y_predict)\n",
        "recall = recall_score(y_test, y_predict)\n",
        "fscore = f1_score(y_test, y_predict)\n",
        "print('precision=%.3f, recall=%.3f, fscore=%.3f' % (precision, recall,fscore))"
      ],
      "metadata": {
        "colab": {
          "base_uri": "https://localhost:8080/"
        },
        "id": "40RUyM6Q8Mx5",
        "outputId": "b5b0ea26-33a9-4946-f76a-17b4f334033a"
      },
      "execution_count": 15,
      "outputs": [
        {
          "output_type": "stream",
          "name": "stdout",
          "text": [
            "precision=0.000, recall=0.000, fscore=0.000\n"
          ]
        }
      ]
    },
    {
      "cell_type": "markdown",
      "source": [
        "- Da cero, porque no se realizo predición de verdaderos positivos, independientemente de los falsos positivos y falsos negativos"
      ],
      "metadata": {
        "id": "LqSDcEHK8tWg"
      }
    },
    {
      "cell_type": "code",
      "source": [
        "y_test =    [0, 0, 0, 0, 0, 1, 1, 1, 1, 1]\n",
        "y_predict = [0, 0, 0, 0, 0, 1, 1, 1, 1, 1]\n",
        "precision = precision_score(y_test, y_predict)\n",
        "recall = recall_score(y_test, y_predict)\n",
        "fscore = f1_score(y_test, y_predict)\n",
        "print('precision=%.3f, recall=%.3f, fscore=%.3f' % (precision, recall,fscore))"
      ],
      "metadata": {
        "colab": {
          "base_uri": "https://localhost:8080/"
        },
        "id": "mFxbXf5R9AdQ",
        "outputId": "c206a2b2-93cb-4bf6-b121-fb676b96fe00"
      },
      "execution_count": 16,
      "outputs": [
        {
          "output_type": "stream",
          "name": "stdout",
          "text": [
            "precision=1.000, recall=1.000, fscore=1.000\n"
          ]
        }
      ]
    },
    {
      "cell_type": "markdown",
      "source": [
        "- Da uno, porque se detectaron todos los casos positivos, por lo tanto no se presentaron los fp y los fn."
      ],
      "metadata": {
        "id": "eEO3-xqf9Js5"
      }
    },
    {
      "cell_type": "markdown",
      "source": [
        "# **50%**"
      ],
      "metadata": {
        "id": "9Y-BlT9F9Y4Y"
      }
    },
    {
      "cell_type": "code",
      "source": [
        "y_test =    [0, 0, 0, 0, 0, 1, 1, 1, 1, 1]\n",
        "y_predict = [1, 1, 1, 1, 1, 1, 1, 1, 1, 1]\n",
        "precision = precision_score(y_test, y_predict)\n",
        "recall = recall_score(y_test, y_predict)\n",
        "fscore = f1_score(y_test, y_predict)\n",
        "print('precision=%.3f, recall=%.3f, fscore=%.3f' % (precision, recall,fscore))"
      ],
      "metadata": {
        "colab": {
          "base_uri": "https://localhost:8080/"
        },
        "id": "iJYmtVgH9Vw6",
        "outputId": "67b46fa3-bb8c-43a7-e3b9-3e999583adeb"
      },
      "execution_count": 17,
      "outputs": [
        {
          "output_type": "stream",
          "name": "stdout",
          "text": [
            "precision=0.500, recall=1.000, fscore=0.667\n"
          ]
        }
      ]
    },
    {
      "cell_type": "code",
      "source": [
        "p = (5/(5+5))\n",
        "r = (5/(5+0)) #No hay fn\n",
        "f = (2*p*r)/(p+r)\n",
        "p,r,f"
      ],
      "metadata": {
        "colab": {
          "base_uri": "https://localhost:8080/"
        },
        "id": "BWZ3paYc9pGb",
        "outputId": "642d48f5-03f6-4c5e-ce71-1117dd138252"
      },
      "execution_count": 18,
      "outputs": [
        {
          "output_type": "execute_result",
          "data": {
            "text/plain": [
              "(0.5, 1.0, 0.6666666666666666)"
            ]
          },
          "metadata": {},
          "execution_count": 18
        }
      ]
    },
    {
      "cell_type": "code",
      "source": [
        "y_test =    [0, 0, 0, 0, 0, 1, 1, 1, 1, 1]\n",
        "y_predict = [0, 0, 0, 0, 0, 0, 0, 1, 1, 1]\n",
        "precision = precision_score(y_test, y_predict)\n",
        "recall = recall_score(y_test, y_predict)\n",
        "fscore = f1_score(y_test, y_predict)\n",
        "print('precision=%.3f, recall=%.3f, fscore=%.3f' % (precision, recall,fscore))"
      ],
      "metadata": {
        "colab": {
          "base_uri": "https://localhost:8080/"
        },
        "id": "evnSp-Kg-JSp",
        "outputId": "3632903a-96c1-4705-aa81-cc444235b0c2"
      },
      "execution_count": 19,
      "outputs": [
        {
          "output_type": "stream",
          "name": "stdout",
          "text": [
            "precision=1.000, recall=0.600, fscore=0.750\n"
          ]
        }
      ]
    },
    {
      "cell_type": "code",
      "source": [
        "p = (3/(3+0)) #No hay fp\n",
        "r = (3/(3+2))\n",
        "f = (2*p*r)/(p+r)\n",
        "p,r,f"
      ],
      "metadata": {
        "colab": {
          "base_uri": "https://localhost:8080/"
        },
        "id": "C708ywOA-TVw",
        "outputId": "05134816-8b2d-493d-9543-dcf73642c23d"
      },
      "execution_count": 20,
      "outputs": [
        {
          "output_type": "execute_result",
          "data": {
            "text/plain": [
              "(1.0, 0.6, 0.7499999999999999)"
            ]
          },
          "metadata": {},
          "execution_count": 20
        }
      ]
    },
    {
      "cell_type": "markdown",
      "source": [
        "# **FBeta**"
      ],
      "metadata": {
        "id": "_g9WyeMW-8qt"
      }
    },
    {
      "cell_type": "code",
      "source": [
        "y_test =    [0, 0, 0, 0, 0, 1, 1, 1, 1, 1]\n",
        "y_predict = [0, 1, 0, 0, 0, 1, 1, 0, 0, 1]\n",
        "precision = precision_score(y_test, y_predict)\n",
        "recall = recall_score(y_test, y_predict)\n",
        "fscore = f1_score(y_test, y_predict)\n",
        "fbeta = fbeta_score(y_test, y_predict, beta=1.0)\n",
        "print('precision=%.3f, recall=%.3f, fscore=%.3f, fbeta=%.3f' % (\n",
        "    precision,\n",
        "    recall,\n",
        "    fscore,\n",
        "    fbeta))"
      ],
      "metadata": {
        "colab": {
          "base_uri": "https://localhost:8080/"
        },
        "id": "ffQ-EQan-7Zk",
        "outputId": "409e6ce8-83a0-4661-a823-4d2df1e6cb72"
      },
      "execution_count": 21,
      "outputs": [
        {
          "output_type": "stream",
          "name": "stdout",
          "text": [
            "precision=0.750, recall=0.600, fscore=0.667, fbeta=0.667\n"
          ]
        }
      ]
    },
    {
      "cell_type": "markdown",
      "source": [
        "- El fscore y el fbeta dan el mismo valor, ya que el beta es 1"
      ],
      "metadata": {
        "id": "vHiczPfc_t2a"
      }
    },
    {
      "cell_type": "markdown",
      "source": [
        "# **beta = 0.5**"
      ],
      "metadata": {
        "id": "P3skOAhJNzKh"
      }
    },
    {
      "cell_type": "code",
      "source": [
        "fbeta = fbeta_score(y_test, y_predict, beta=0.5)\n",
        "print('precision=%.3f, recall=%.3f, fscore=%.3f, fbeta=%.3f' % (\n",
        "    precision,\n",
        "    recall,\n",
        "    fscore,\n",
        "    fbeta))"
      ],
      "metadata": {
        "colab": {
          "base_uri": "https://localhost:8080/"
        },
        "id": "OD9IodVO_qX6",
        "outputId": "9b79ba0b-3253-4c40-d7bf-706ea9ba39cc"
      },
      "execution_count": 22,
      "outputs": [
        {
          "output_type": "stream",
          "name": "stdout",
          "text": [
            "precision=0.750, recall=0.600, fscore=0.667, fbeta=0.714\n"
          ]
        }
      ]
    },
    {
      "cell_type": "code",
      "source": [
        "((1+pow(0.5, 2)) * precision * recall) / (pow(0.5, 2) * precision + recall)"
      ],
      "metadata": {
        "colab": {
          "base_uri": "https://localhost:8080/"
        },
        "id": "GmKGDoaaAYqh",
        "outputId": "bae47832-79c1-4c56-cb93-8f5841f6bd09"
      },
      "execution_count": 23,
      "outputs": [
        {
          "output_type": "execute_result",
          "data": {
            "text/plain": [
              "0.7142857142857143"
            ]
          },
          "metadata": {},
          "execution_count": 23
        }
      ]
    },
    {
      "cell_type": "markdown",
      "source": [
        "# **beta = 2**"
      ],
      "metadata": {
        "id": "L0ZpLPhPN2eY"
      }
    },
    {
      "cell_type": "code",
      "source": [
        "fbeta = fbeta_score(y_test, y_predict, beta=2)\n",
        "print('precision=%.3f, recall=%.3f, fscore=%.3f, fbeta=%.3f' % (\n",
        "    precision,\n",
        "    recall,\n",
        "    fscore,\n",
        "    fbeta))"
      ],
      "metadata": {
        "colab": {
          "base_uri": "https://localhost:8080/"
        },
        "id": "iojcjqHmCM5R",
        "outputId": "8c412308-c10a-45a9-902d-65802836958f"
      },
      "execution_count": 24,
      "outputs": [
        {
          "output_type": "stream",
          "name": "stdout",
          "text": [
            "precision=0.750, recall=0.600, fscore=0.667, fbeta=0.625\n"
          ]
        }
      ]
    },
    {
      "cell_type": "code",
      "source": [
        "((1+pow(2, 2)) * precision * recall) / (pow(2, 2) * precision + recall)"
      ],
      "metadata": {
        "colab": {
          "base_uri": "https://localhost:8080/"
        },
        "id": "-rKXkXGBCOyY",
        "outputId": "2d45be25-9bbf-4146-e5f5-8334bf8a77bb"
      },
      "execution_count": 25,
      "outputs": [
        {
          "output_type": "execute_result",
          "data": {
            "text/plain": [
              "0.625"
            ]
          },
          "metadata": {},
          "execution_count": 25
        }
      ]
    },
    {
      "cell_type": "code",
      "source": [
        "beta=pow(0.5, 2)"
      ],
      "metadata": {
        "id": "1tzaDRsuN7ER"
      },
      "execution_count": 26,
      "outputs": []
    },
    {
      "cell_type": "code",
      "source": [
        "((1+beta)*3)/((1+beta)*3+beta*2+1)"
      ],
      "metadata": {
        "colab": {
          "base_uri": "https://localhost:8080/"
        },
        "id": "pnll24MKND1W",
        "outputId": "1405013f-6b3b-4ab7-d090-6d02842a9b3a"
      },
      "execution_count": 27,
      "outputs": [
        {
          "output_type": "execute_result",
          "data": {
            "text/plain": [
              "0.7142857142857143"
            ]
          },
          "metadata": {},
          "execution_count": 27
        }
      ]
    },
    {
      "cell_type": "code",
      "source": [
        "beta"
      ],
      "metadata": {
        "colab": {
          "base_uri": "https://localhost:8080/"
        },
        "id": "ylcIIwK5QWjo",
        "outputId": "6e91b423-4f96-4d8f-b46b-0cd14182666b"
      },
      "execution_count": 28,
      "outputs": [
        {
          "output_type": "execute_result",
          "data": {
            "text/plain": [
              "0.25"
            ]
          },
          "metadata": {},
          "execution_count": 28
        }
      ]
    },
    {
      "cell_type": "markdown",
      "source": [
        "Si el monto es 0.5 reduce los falsos negativos, que hacen parte de la fórmula de la sensibilidad, le da la importancia a la precisión. Si el beta el dos le da más fuerza a la sensibilidad que a la precisión. Para entender esta parte no es necesario un análisis tan profundo, sino a simplemente queproporción el beta descuadra las métricas de precisión y sensibilidad"
      ],
      "metadata": {
        "id": "mnaGzqLZSoMh"
      }
    }
  ]
}