{
  "nbformat": 4,
  "nbformat_minor": 0,
  "metadata": {
    "colab": {
      "provenance": [],
      "authorship_tag": "ABX9TyOVwPxhGgBdOav4l/5hgWvY",
      "include_colab_link": true
    },
    "kernelspec": {
      "name": "python3",
      "display_name": "Python 3"
    },
    "language_info": {
      "name": "python"
    }
  },
  "cells": [
    {
      "cell_type": "markdown",
      "metadata": {
        "id": "view-in-github",
        "colab_type": "text"
      },
      "source": [
        "<a href=\"https://colab.research.google.com/github/Kaiziferr/machine_learning/blob/main/metrics/fbetascore.ipynb\" target=\"_parent\"><img src=\"https://colab.research.google.com/assets/colab-badge.svg\" alt=\"Open In Colab\"/></a>"
      ]
    },
    {
      "cell_type": "code",
      "execution_count": 210,
      "metadata": {
        "id": "_pLxKvSS0blz"
      },
      "outputs": [],
      "source": [
        "import warnings\n",
        "from sklearn.metrics import (\n",
        "    precision_score,\n",
        "    recall_score,\n",
        "    f1_score,\n",
        "    fbeta_score\n",
        ")"
      ]
    },
    {
      "cell_type": "markdown",
      "source": [
        "# **Precision**"
      ],
      "metadata": {
        "id": "zaj5IwFJ5PVn"
      }
    },
    {
      "cell_type": "code",
      "source": [
        "warnings.filterwarnings('ignore')"
      ],
      "metadata": {
        "id": "ibkvXofE3xo6"
      },
      "execution_count": 211,
      "outputs": []
    },
    {
      "cell_type": "code",
      "source": [
        "y_test =    [0, 0, 0, 0, 0, 1, 1, 1, 1, 1]\n",
        "y_predict = [0, 0, 0, 0, 0, 0, 0, 0, 0, 0]\n",
        "score = precision_score(y_test, y_predict)\n",
        "score"
      ],
      "metadata": {
        "colab": {
          "base_uri": "https://localhost:8080/"
        },
        "id": "_E0-aI4Y3WlZ",
        "outputId": "da98eccc-b276-4e7e-d14b-f1bd0de7600d"
      },
      "execution_count": 212,
      "outputs": [
        {
          "output_type": "execute_result",
          "data": {
            "text/plain": [
              "0.0"
            ]
          },
          "metadata": {},
          "execution_count": 212
        }
      ]
    },
    {
      "cell_type": "markdown",
      "source": [
        "- No hay falsos positivos, ni verdaderos positivos\n",
        "\n",
        "- **precision** = (0/(0+0)) Error"
      ],
      "metadata": {
        "id": "aEkh53xj34Dw"
      }
    },
    {
      "cell_type": "code",
      "source": [
        "y_test =    [0, 0, 0, 0, 0, 1, 1, 1, 1, 1]\n",
        "y_predict = [0, 0, 0, 1, 1, 1, 1, 1, 1, 1]\n",
        "score = precision_score(y_test, y_predict)\n",
        "score"
      ],
      "metadata": {
        "colab": {
          "base_uri": "https://localhost:8080/"
        },
        "id": "r7zwG4Cc3_6n",
        "outputId": "5fec254e-bd6a-4deb-b117-f32093ae6ec5"
      },
      "execution_count": 213,
      "outputs": [
        {
          "output_type": "execute_result",
          "data": {
            "text/plain": [
              "0.7142857142857143"
            ]
          },
          "metadata": {},
          "execution_count": 213
        }
      ]
    },
    {
      "cell_type": "markdown",
      "source": [
        "- Hay falsos positivos"
      ],
      "metadata": {
        "id": "SttLVD4j4U0g"
      }
    },
    {
      "cell_type": "code",
      "source": [
        "(5/(5+2))"
      ],
      "metadata": {
        "colab": {
          "base_uri": "https://localhost:8080/"
        },
        "id": "gaBdkizC4RjQ",
        "outputId": "0236d763-723d-425c-a8b0-d4afe074fc64"
      },
      "execution_count": 214,
      "outputs": [
        {
          "output_type": "execute_result",
          "data": {
            "text/plain": [
              "0.7142857142857143"
            ]
          },
          "metadata": {},
          "execution_count": 214
        }
      ]
    },
    {
      "cell_type": "code",
      "source": [
        "y_test =    [0, 0, 0, 0, 0, 1, 1, 1, 1, 1]\n",
        "y_predict = [0, 0, 0, 0, 0, 0, 0, 1, 1, 1]\n",
        "score = precision_score(y_test, y_predict)\n",
        "score"
      ],
      "metadata": {
        "colab": {
          "base_uri": "https://localhost:8080/"
        },
        "id": "8UEqE0D44pFm",
        "outputId": "7e14330e-4074-4b85-b3a8-c52925289427"
      },
      "execution_count": 215,
      "outputs": [
        {
          "output_type": "execute_result",
          "data": {
            "text/plain": [
              "1.0"
            ]
          },
          "metadata": {},
          "execution_count": 215
        }
      ]
    },
    {
      "cell_type": "markdown",
      "source": [
        "- Hay falsos negativos, la precision los ignora\n"
      ],
      "metadata": {
        "id": "Umgc595P402K"
      }
    },
    {
      "cell_type": "code",
      "source": [
        "(3/(3+0))"
      ],
      "metadata": {
        "colab": {
          "base_uri": "https://localhost:8080/"
        },
        "id": "-xzzMAFn4xlu",
        "outputId": "aabeae39-42a9-4c8d-e612-fd9585b68873"
      },
      "execution_count": 216,
      "outputs": [
        {
          "output_type": "execute_result",
          "data": {
            "text/plain": [
              "1.0"
            ]
          },
          "metadata": {},
          "execution_count": 216
        }
      ]
    },
    {
      "cell_type": "code",
      "source": [
        "y_test =    [0, 0, 0, 0, 0, 1, 1, 1, 1, 1]\n",
        "y_predict = [0, 0, 0, 0, 0, 1, 1, 1, 1, 1]\n",
        "score = precision_score(y_test, y_predict)\n",
        "score"
      ],
      "metadata": {
        "colab": {
          "base_uri": "https://localhost:8080/"
        },
        "id": "Jt3ZVJk55AsI",
        "outputId": "dba5b5d6-039a-4a15-9f68-501463348815"
      },
      "execution_count": 217,
      "outputs": [
        {
          "output_type": "execute_result",
          "data": {
            "text/plain": [
              "1.0"
            ]
          },
          "metadata": {},
          "execution_count": 217
        }
      ]
    },
    {
      "cell_type": "markdown",
      "source": [
        "- No hay falsos positivos"
      ],
      "metadata": {
        "id": "CQOGmPI95C_A"
      }
    },
    {
      "cell_type": "code",
      "source": [
        "(5/(5+0))"
      ],
      "metadata": {
        "colab": {
          "base_uri": "https://localhost:8080/"
        },
        "id": "4m41nQUG5KTm",
        "outputId": "099f674e-25f9-4c49-b221-1019ca4503a6"
      },
      "execution_count": 218,
      "outputs": [
        {
          "output_type": "execute_result",
          "data": {
            "text/plain": [
              "1.0"
            ]
          },
          "metadata": {},
          "execution_count": 218
        }
      ]
    },
    {
      "cell_type": "markdown",
      "source": [
        "# **Recall**"
      ],
      "metadata": {
        "id": "XQf4D9jf5T7v"
      }
    },
    {
      "cell_type": "code",
      "source": [
        "y_test =    [0, 0, 0, 0, 0, 1, 1, 1, 1, 1]\n",
        "y_predict = [0, 0, 0, 1, 1, 1, 1, 1, 1, 1]\n",
        "score = recall_score(y_test, y_predict)\n",
        "score"
      ],
      "metadata": {
        "colab": {
          "base_uri": "https://localhost:8080/"
        },
        "id": "YERT8pNs5Vwv",
        "outputId": "76c4b17c-be25-4bd2-d218-3f2cfab9d135"
      },
      "execution_count": 219,
      "outputs": [
        {
          "output_type": "execute_result",
          "data": {
            "text/plain": [
              "1.0"
            ]
          },
          "metadata": {},
          "execution_count": 219
        }
      ]
    },
    {
      "cell_type": "code",
      "source": [
        "(5/(5+0))"
      ],
      "metadata": {
        "colab": {
          "base_uri": "https://localhost:8080/"
        },
        "id": "U8cItoCT58ig",
        "outputId": "5b2eca6c-c8d5-4286-a8cf-1cd7255bcacf"
      },
      "execution_count": 220,
      "outputs": [
        {
          "output_type": "execute_result",
          "data": {
            "text/plain": [
              "1.0"
            ]
          },
          "metadata": {},
          "execution_count": 220
        }
      ]
    },
    {
      "cell_type": "markdown",
      "source": [
        "- Hay falsos positivos, el recall los ignora. No hay falsos negativos"
      ],
      "metadata": {
        "id": "FGu5tUon528C"
      }
    },
    {
      "cell_type": "code",
      "source": [
        "y_test =    [0, 0, 0, 0, 0, 1, 1, 1, 1, 1]\n",
        "y_predict = [0, 0, 0, 0, 0, 0, 0, 1, 1, 1]\n",
        "score = recall_score(y_test, y_predict)\n",
        "score"
      ],
      "metadata": {
        "colab": {
          "base_uri": "https://localhost:8080/"
        },
        "id": "874s-s546ItH",
        "outputId": "117892bc-6cde-4273-b0e1-c65a0dc9a15e"
      },
      "execution_count": 221,
      "outputs": [
        {
          "output_type": "execute_result",
          "data": {
            "text/plain": [
              "0.6"
            ]
          },
          "metadata": {},
          "execution_count": 221
        }
      ]
    },
    {
      "cell_type": "code",
      "source": [
        "(3/(3+2))"
      ],
      "metadata": {
        "colab": {
          "base_uri": "https://localhost:8080/"
        },
        "id": "FSaWDqDV6RO_",
        "outputId": "15d3e14a-eb30-4b78-cbdd-251fe7eb4309"
      },
      "execution_count": 222,
      "outputs": [
        {
          "output_type": "execute_result",
          "data": {
            "text/plain": [
              "0.6"
            ]
          },
          "metadata": {},
          "execution_count": 222
        }
      ]
    },
    {
      "cell_type": "markdown",
      "source": [
        "-  Hay falsos negativos"
      ],
      "metadata": {
        "id": "fJdFoUGb6KuZ"
      }
    },
    {
      "cell_type": "markdown",
      "source": [
        "#**F-Measure**\n"
      ],
      "metadata": {
        "id": "hywVAoXJ6eYw"
      }
    },
    {
      "cell_type": "code",
      "source": [
        "y_test =    [0, 0, 0, 0, 0, 1, 1, 1, 1, 1]\n",
        "y_predict = [1, 1, 1, 1, 1, 0, 0, 0, 0, 0]"
      ],
      "metadata": {
        "id": "nah2IoMh6gJA"
      },
      "execution_count": 223,
      "outputs": []
    },
    {
      "cell_type": "code",
      "source": [
        "precision = precision_score(y_test, y_predict)\n",
        "recall = recall_score(y_test, y_predict)\n",
        "fscore = f1_score(y_test, y_predict)\n",
        "print('precision=%.3f, recall=%.3f, fscore=%.3f' % (precision, recall,fscore))"
      ],
      "metadata": {
        "colab": {
          "base_uri": "https://localhost:8080/"
        },
        "id": "40RUyM6Q8Mx5",
        "outputId": "b4b2ed55-83fa-4e20-ab15-10691164de39"
      },
      "execution_count": 224,
      "outputs": [
        {
          "output_type": "stream",
          "name": "stdout",
          "text": [
            "precision=0.000, recall=0.000, fscore=0.000\n"
          ]
        }
      ]
    },
    {
      "cell_type": "markdown",
      "source": [
        "- Da cero, porque no se realizo predición de verdaderos positivos, independientemente de los falsos positivos y falsos negativos"
      ],
      "metadata": {
        "id": "LqSDcEHK8tWg"
      }
    },
    {
      "cell_type": "code",
      "source": [
        "y_test =    [0, 0, 0, 0, 0, 1, 1, 1, 1, 1]\n",
        "y_predict = [0, 0, 0, 0, 0, 1, 1, 1, 1, 1]\n",
        "precision = precision_score(y_test, y_predict)\n",
        "recall = recall_score(y_test, y_predict)\n",
        "fscore = f1_score(y_test, y_predict)\n",
        "print('precision=%.3f, recall=%.3f, fscore=%.3f' % (precision, recall,fscore))"
      ],
      "metadata": {
        "colab": {
          "base_uri": "https://localhost:8080/"
        },
        "id": "mFxbXf5R9AdQ",
        "outputId": "89a41694-b2e3-4878-bf81-10076ea1906b"
      },
      "execution_count": 225,
      "outputs": [
        {
          "output_type": "stream",
          "name": "stdout",
          "text": [
            "precision=1.000, recall=1.000, fscore=1.000\n"
          ]
        }
      ]
    },
    {
      "cell_type": "markdown",
      "source": [
        "- Da uno, porque se detectaron todos los casos positivos, por lo tanto no se presentaron los fp y los fn."
      ],
      "metadata": {
        "id": "eEO3-xqf9Js5"
      }
    },
    {
      "cell_type": "markdown",
      "source": [
        "# **50%**"
      ],
      "metadata": {
        "id": "9Y-BlT9F9Y4Y"
      }
    },
    {
      "cell_type": "code",
      "source": [
        "y_test =    [0, 0, 0, 0, 0, 1, 1, 1, 1, 1]\n",
        "y_predict = [1, 1, 1, 1, 1, 1, 1, 1, 1, 1]\n",
        "precision = precision_score(y_test, y_predict)\n",
        "recall = recall_score(y_test, y_predict)\n",
        "fscore = f1_score(y_test, y_predict)\n",
        "print('precision=%.3f, recall=%.3f, fscore=%.3f' % (precision, recall,fscore))"
      ],
      "metadata": {
        "colab": {
          "base_uri": "https://localhost:8080/"
        },
        "id": "iJYmtVgH9Vw6",
        "outputId": "3d8f2e91-9976-405c-f74c-b1ebb6eb0db1"
      },
      "execution_count": 226,
      "outputs": [
        {
          "output_type": "stream",
          "name": "stdout",
          "text": [
            "precision=0.500, recall=1.000, fscore=0.667\n"
          ]
        }
      ]
    },
    {
      "cell_type": "code",
      "source": [
        "p = (5/(5+5))\n",
        "r = (5/(5+0)) #No hay fn\n",
        "f = (2*p*r)/(p+r)\n",
        "p,r,f"
      ],
      "metadata": {
        "colab": {
          "base_uri": "https://localhost:8080/"
        },
        "id": "BWZ3paYc9pGb",
        "outputId": "1e736179-1bcd-49c0-9b09-3439b35dd5cd"
      },
      "execution_count": 227,
      "outputs": [
        {
          "output_type": "execute_result",
          "data": {
            "text/plain": [
              "(0.5, 1.0, 0.6666666666666666)"
            ]
          },
          "metadata": {},
          "execution_count": 227
        }
      ]
    },
    {
      "cell_type": "code",
      "source": [
        "y_test =    [0, 0, 0, 0, 0, 1, 1, 1, 1, 1]\n",
        "y_predict = [0, 0, 0, 0, 0, 0, 0, 1, 1, 1]\n",
        "precision = precision_score(y_test, y_predict)\n",
        "recall = recall_score(y_test, y_predict)\n",
        "fscore = f1_score(y_test, y_predict)\n",
        "print('precision=%.3f, recall=%.3f, fscore=%.3f' % (precision, recall,fscore))"
      ],
      "metadata": {
        "colab": {
          "base_uri": "https://localhost:8080/"
        },
        "id": "evnSp-Kg-JSp",
        "outputId": "8066b9df-ba06-48bd-adf2-75d27cf42414"
      },
      "execution_count": 228,
      "outputs": [
        {
          "output_type": "stream",
          "name": "stdout",
          "text": [
            "precision=1.000, recall=0.600, fscore=0.750\n"
          ]
        }
      ]
    },
    {
      "cell_type": "code",
      "source": [
        "p = (3/(3+0)) #No hay fp\n",
        "r = (3/(3+2))\n",
        "f = (2*p*r)/(p+r)\n",
        "p,r,f"
      ],
      "metadata": {
        "colab": {
          "base_uri": "https://localhost:8080/"
        },
        "id": "C708ywOA-TVw",
        "outputId": "af253ef9-1bbe-49eb-a79c-caab7c910647"
      },
      "execution_count": 229,
      "outputs": [
        {
          "output_type": "execute_result",
          "data": {
            "text/plain": [
              "(1.0, 0.6, 0.7499999999999999)"
            ]
          },
          "metadata": {},
          "execution_count": 229
        }
      ]
    },
    {
      "cell_type": "markdown",
      "source": [
        "# **FBeta**"
      ],
      "metadata": {
        "id": "_g9WyeMW-8qt"
      }
    },
    {
      "cell_type": "code",
      "source": [
        "y_test =    [0, 0, 0, 0, 0, 1, 1, 1, 1, 1]\n",
        "y_predict = [0, 1, 0, 0, 0, 1, 1, 0, 0, 1]\n",
        "precision = precision_score(y_test, y_predict)\n",
        "recall = recall_score(y_test, y_predict)\n",
        "fscore = f1_score(y_test, y_predict)\n",
        "fbeta = fbeta_score(y_test, y_predict, beta=1.0)\n",
        "print('precision=%.3f, recall=%.3f, fscore=%.3f, fbeta=%.3f' % (\n",
        "    precision,\n",
        "    recall,\n",
        "    fscore,\n",
        "    fbeta))"
      ],
      "metadata": {
        "colab": {
          "base_uri": "https://localhost:8080/"
        },
        "id": "ffQ-EQan-7Zk",
        "outputId": "8a23b561-c24b-43d4-a6e3-137404c71465"
      },
      "execution_count": 230,
      "outputs": [
        {
          "output_type": "stream",
          "name": "stdout",
          "text": [
            "precision=0.750, recall=0.600, fscore=0.667, fbeta=0.667\n"
          ]
        }
      ]
    },
    {
      "cell_type": "markdown",
      "source": [
        "- El fscore y el fbeta dan el mismo valor, ya que el beta es 1"
      ],
      "metadata": {
        "id": "vHiczPfc_t2a"
      }
    },
    {
      "cell_type": "markdown",
      "source": [
        "# **beta = 0.5**"
      ],
      "metadata": {
        "id": "P3skOAhJNzKh"
      }
    },
    {
      "cell_type": "code",
      "source": [
        "fbeta = fbeta_score(y_test, y_predict, beta=0.5)\n",
        "print('precision=%.3f, recall=%.3f, fscore=%.3f, fbeta=%.3f' % (\n",
        "    precision,\n",
        "    recall,\n",
        "    fscore,\n",
        "    fbeta))"
      ],
      "metadata": {
        "colab": {
          "base_uri": "https://localhost:8080/"
        },
        "id": "OD9IodVO_qX6",
        "outputId": "650ffb06-f1bc-4c9a-c775-266345d67df0"
      },
      "execution_count": 231,
      "outputs": [
        {
          "output_type": "stream",
          "name": "stdout",
          "text": [
            "precision=0.750, recall=0.600, fscore=0.667, fbeta=0.714\n"
          ]
        }
      ]
    },
    {
      "cell_type": "code",
      "source": [
        "((1+pow(0.5, 2)) * precision * recall) / (pow(0.5, 2) * precision + recall)"
      ],
      "metadata": {
        "colab": {
          "base_uri": "https://localhost:8080/"
        },
        "id": "GmKGDoaaAYqh",
        "outputId": "b6332310-6647-42d2-81ac-3c8481a2566d"
      },
      "execution_count": 232,
      "outputs": [
        {
          "output_type": "execute_result",
          "data": {
            "text/plain": [
              "0.7142857142857143"
            ]
          },
          "metadata": {},
          "execution_count": 232
        }
      ]
    },
    {
      "cell_type": "markdown",
      "source": [
        "# **beta = 2**"
      ],
      "metadata": {
        "id": "L0ZpLPhPN2eY"
      }
    },
    {
      "cell_type": "code",
      "source": [
        "fbeta = fbeta_score(y_test, y_predict, beta=2)\n",
        "print('precision=%.3f, recall=%.3f, fscore=%.3f, fbeta=%.3f' % (\n",
        "    precision,\n",
        "    recall,\n",
        "    fscore,\n",
        "    fbeta))"
      ],
      "metadata": {
        "colab": {
          "base_uri": "https://localhost:8080/"
        },
        "id": "iojcjqHmCM5R",
        "outputId": "35e8e18e-af45-4293-c9f3-60910ece2929"
      },
      "execution_count": 233,
      "outputs": [
        {
          "output_type": "stream",
          "name": "stdout",
          "text": [
            "precision=0.750, recall=0.600, fscore=0.667, fbeta=0.625\n"
          ]
        }
      ]
    },
    {
      "cell_type": "code",
      "source": [
        "((1+pow(2, 2)) * precision * recall) / (pow(2, 2) * precision + recall)"
      ],
      "metadata": {
        "colab": {
          "base_uri": "https://localhost:8080/"
        },
        "id": "-rKXkXGBCOyY",
        "outputId": "95734793-f6bc-4277-b1fd-04e6328a1a49"
      },
      "execution_count": 234,
      "outputs": [
        {
          "output_type": "execute_result",
          "data": {
            "text/plain": [
              "0.625"
            ]
          },
          "metadata": {},
          "execution_count": 234
        }
      ]
    },
    {
      "cell_type": "code",
      "source": [
        "beta=pow(0.5, 2)"
      ],
      "metadata": {
        "id": "1tzaDRsuN7ER"
      },
      "execution_count": 238,
      "outputs": []
    },
    {
      "cell_type": "code",
      "source": [
        "((1+beta)*3)/((1+beta)*3+beta*2+1)"
      ],
      "metadata": {
        "colab": {
          "base_uri": "https://localhost:8080/"
        },
        "id": "pnll24MKND1W",
        "outputId": "53e71541-4cbf-4f60-abaf-8eef1b0b9de6"
      },
      "execution_count": 240,
      "outputs": [
        {
          "output_type": "execute_result",
          "data": {
            "text/plain": [
              "0.7142857142857143"
            ]
          },
          "metadata": {},
          "execution_count": 240
        }
      ]
    },
    {
      "cell_type": "code",
      "source": [
        "beta"
      ],
      "metadata": {
        "colab": {
          "base_uri": "https://localhost:8080/"
        },
        "id": "ylcIIwK5QWjo",
        "outputId": "32ae6d06-d612-4271-ac52-b9e88c42ca33"
      },
      "execution_count": 244,
      "outputs": [
        {
          "output_type": "execute_result",
          "data": {
            "text/plain": [
              "0.25"
            ]
          },
          "metadata": {},
          "execution_count": 244
        }
      ]
    },
    {
      "cell_type": "markdown",
      "source": [
        "Si el monto es 0.5 reduce los falsos negativos, que hacen parte de la fórmula de la sensibilidad, le da la importancia a la precisión. Si el beta el dos le da más fuerza a la sensibilidad que a la precisión. Para entender esta parte no es necesario un análisis tan profundo, sino a simplemente queproporción el beta descuadra las métricas de precisión y sensibilidad"
      ],
      "metadata": {
        "id": "mnaGzqLZSoMh"
      }
    }
  ]
}