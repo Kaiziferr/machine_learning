{
  "nbformat": 4,
  "nbformat_minor": 0,
  "metadata": {
    "colab": {
      "provenance": [],
      "authorship_tag": "ABX9TyOTx3/FCi5ja5HFTqhsMQgI",
      "include_colab_link": true
    },
    "kernelspec": {
      "name": "python3",
      "display_name": "Python 3"
    },
    "language_info": {
      "name": "python"
    }
  },
  "cells": [
    {
      "cell_type": "markdown",
      "metadata": {
        "id": "view-in-github",
        "colab_type": "text"
      },
      "source": [
        "<a href=\"https://colab.research.google.com/github/Kaiziferr/machine_learning/blob/main/decision_tree/w0_Decition_Tree_Prepoda_Pospoda.ipynb\" target=\"_parent\"><img src=\"https://colab.research.google.com/assets/colab-badge.svg\" alt=\"Open In Colab\"/></a>"
      ]
    },
    {
      "cell_type": "code",
      "source": [
        "import warnings\n",
        "\n",
        "import pandas as pd\n",
        "\n",
        "import seaborn as sns\n",
        "import matplotlib.pyplot as plt\n",
        "from matplotlib.colors import ListedColormap\n",
        "\n",
        "from sklearn.model_selection import train_test_split, GridSearchCV\n",
        "\n",
        "from sklearn.ensemble import ExtraTreesClassifier\n",
        "from sklearn.feature_selection import SelectFromModel\n",
        "\n",
        "from sklearn.decomposition import PCA\n",
        "\n",
        "from sklearn.tree import DecisionTreeClassifier\n",
        "\n",
        "from sklearn import metrics, tree\n",
        "\n"
      ],
      "metadata": {
        "id": "RGRq_PKEvnVZ"
      },
      "execution_count": 282,
      "outputs": []
    },
    {
      "cell_type": "markdown",
      "source": [
        "# **Configuraciones**\n",
        "---"
      ],
      "metadata": {
        "id": "G03nlbs6ImlY"
      }
    },
    {
      "cell_type": "code",
      "source": [
        "warnings.filterwarnings('ignore')"
      ],
      "metadata": {
        "id": "I7i8HogSOdkM"
      },
      "execution_count": 283,
      "outputs": []
    },
    {
      "cell_type": "code",
      "source": [
        "sns.set(style='darkgrid')"
      ],
      "metadata": {
        "id": "Ov88d0kG48dJ"
      },
      "execution_count": 284,
      "outputs": []
    },
    {
      "cell_type": "markdown",
      "source": [
        "# **Funciones**\n",
        "---"
      ],
      "metadata": {
        "id": "0zMVwcSGXo3q"
      }
    },
    {
      "cell_type": "code",
      "source": [
        "def generate_colors(paleta:str=\"Set1\", n_colors:int=15)-> tuple:\n",
        "  \"\"\"color generator\"\"\"\n",
        "  try:\n",
        "    cmap = sns.color_palette(paleta, n_colors).as_hex()\n",
        "    list_camp = ListedColormap(cmap)\n",
        "    return cmap, list_camp\n",
        "  except Exception as e:\n",
        "    print(e)\n",
        "\n",
        "\n",
        "def plot_bar(data:pd.DataFrame, paleta:list=None, figsize_x:int=8, figsize_y:int=5,\n",
        "             fontsize:int=15, **kwards)->None:\n",
        "  \"\"\"Grafica un diagrama de barras con multiples caracteristicas\"\"\"\n",
        "  try:\n",
        "    paleta = paleta if paleta !=None else generate_colors()[0]\n",
        "    v = kwards\n",
        "    ejeX = v[\"ejeX\"]\n",
        "\n",
        "    fig, ax = plt.subplots(figsize = (figsize_x, figsize_y))\n",
        "    fig.suptitle(f'Diagrama de barras {v[\"title\"]}', fontsize=fontsize)\n",
        "\n",
        "    if type(ejeX) == str:\n",
        "      sns.countplot(x=ejeX, data=data, ax = ax, palette=paleta)\n",
        "    else:\n",
        "      ejeX = v['ejeX'][0]\n",
        "      sns.countplot(x=ejeX, hue=v['ejeX'][1], data=data, ax=ax, palette=paleta)\n",
        "\n",
        "    ax.set_ylabel(v['ejey'], size = 12)\n",
        "    ax.set_xlabel(ejeX, size=fontsize-3)\n",
        "    ax.set_xticklabels(ax.get_xticklabels(),fontsize = fontsize-3)\n",
        "    for p in ax.patches:\n",
        "      try:\n",
        "        height = int(p.get_height())\n",
        "        ax.text(p.get_x()+p.get_width()/2., height + 1,height, ha=\"center\")\n",
        "      except:\n",
        "        pass\n",
        "\n",
        "  except Exception as e:\n",
        "    print(e)\n",
        "\n",
        "def componentes_principales(data:object,\n",
        "                            min_explained_variance:int=0.85,\n",
        "                            min_component:int=3,\n",
        "                            **kwards)->tuple:\n",
        "  \"\"\"simple method of PCA, that return data transform\"\"\"\n",
        "  final_comp = 0\n",
        "  for comp in range(min_component, data.shape[1]):\n",
        "    pca = PCA(n_components=comp, **kwards)\n",
        "    pca.fit(data)\n",
        "    comp_check = pca.explained_variance_ratio_\n",
        "    final_comp = comp\n",
        "    if comp_check.sum() >= min_explained_variance:\n",
        "      break\n",
        "\n",
        "  final_pca = PCA(n_components=final_comp, **kwards)\n",
        "  final_pca.fit(data)\n",
        "  data_df = final_pca.transform(data)\n",
        "  info = \"Using {} components, we can explain {}% of the variability\\\n",
        "  in the original data.\".format(final_comp,comp_check.sum())\n",
        "\n",
        "  return data_df, final_pca, info\n",
        "\n",
        "def matrix_confusion(\n",
        "    y_true:pd.Series,\n",
        "    y_pred:pd.Series,\n",
        "    labels:list=None,\n",
        "    title:str='confusion matrix', **kwards)->None:\n",
        "  \"confusion matrix\"\n",
        "  try:\n",
        "    churm = metrics.confusion_matrix(y_true, y_pred, labels=labels)\n",
        "    fig, ax = plt.subplots(nrows=1, ncols=1, figsize=(8, 6))\n",
        "    sns.heatmap(churm, annot=True,  ax=ax, fmt='g', **kwards)\n",
        "    ax.set_title(title,size=20)\n",
        "    ax.xaxis.set_ticklabels(['False','True'])\n",
        "    ax.yaxis.set_ticklabels(['False','True'])\n",
        "    ax.tick_params(labelsize = 12)\n",
        "  except Exception as e:\n",
        "    print(e)"
      ],
      "metadata": {
        "id": "w-IJDDLuI3gv"
      },
      "execution_count": 285,
      "outputs": []
    },
    {
      "cell_type": "markdown",
      "source": [
        "# **Diccionario de datos**\n",
        "---\n",
        "- `Name`: nombre de la ventana de tiempo.\n",
        "- `Netflows`: cantidad de netflows en la ventana de tiempo.\n",
        "- `First_Protocol`: top 1 de protocolos usados en la ventana de tiempo.\n",
        "- `Second_Protocol`: top 2 de protocolos usados en la ventana de tiempo.\n",
        "- `Third_Protocol`: top 3 de protocolos usados en la ventana de tiempo.\n",
        "- `p1_d`: 25% de los percentiles de todas las duraciones en la ventana de tiempo\n",
        "- `p2_d`: 50% de los percentiles de todas las duraciones en la ventana de tiempo\n",
        "- `p3_d`: 75% de los percentiles de todas las duraciones en la ventana de tiempo\n",
        "- `duration`: duración total de la ventana de tiempo\n",
        "- `max_d`: valor máximo de todas las duraciones en la ventana de tiempo.\n",
        "- `min_d`: valor mínimo de todas las duraciones en la ventana de tiempo.\n",
        "- `#packets`: número total de paquetes en la ventana de tiempo.\n",
        "- `Avg_bps`: promedio de bits por segundo en la ventana de tiempo.\n",
        "- `Avg_pps`: promedio de paquetes por segundo en la ventana de tiempo.\n",
        "- `Avg_bpp`: promedio de bytes por paquete en la ventana de tiempo.\n",
        "- `#Bytes`: número total de bytes en la ventana de tiempo.\n",
        "- `#sp`: número total de puertos de origen usados en la ventana de tiempo.\n",
        "- `#dp`: número total de puertos de destino usados en la ventana de tiempo.\n",
        "- `first_sp`: top 1 de los puertos de origen en la ventana de tiempo.\n",
        "- `second_sp`: top 2 de los puertos de origen en la ventana de tiempo.\n",
        "- `third_sp`: top 3 de los puertos de origen en la ventana de tiempo.\n",
        "- `first_dp`: top 1 de los puertos de destino en la ventana de tiempo.\n",
        "- `second_dp`: top 2 de los puertos de destino en la ventana de tiempo.\n",
        "- `third_dp`: top 3 de los puertos de destino en la ventana de tiempo.\n",
        "- `p1_ip`: 25% de los percentiles de todas las entradas de paquetes en la ventana de tiempo.\n",
        "- `p2_ip`: 50% de los percentiles de todas las entradas de paquetes en la ventana de tiempo.\n",
        "- `p3_ip`: 75% de los percentiles de todas las entradas de paquetes en la ventana de tiempo.\n",
        "- `p1_ib`: 25% de los percentiles de todas las entradas de bytes en la ventana de tiempo.\n",
        "- `p2_ib`: 50% de los percentiles de todas las entradas de bytes en la ventana de tiempo.\n",
        "- `p3_ib`: 75% de los percentiles de todas las entradas de bytes en la ventana de tiempo.\n",
        "- `Type`: tipo de ventana de tiempo\n",
        "  - `benignas`: 0\n",
        "  - `bitcash`: 1\n",
        "  - `bitcoin`: 2\n",
        "  - `ethereum `: 3\n",
        "  - `monero`: 4\n",
        "  - `litecoin`: 5\n"
      ],
      "metadata": {
        "id": "OkpF3LjsW8Xp"
      }
    },
    {
      "cell_type": "markdown",
      "source": [
        "source: This data is collected in my research of degree"
      ],
      "metadata": {
        "id": "m0rbw1kGUpA-"
      }
    },
    {
      "cell_type": "markdown",
      "source": [
        "# **Data**\n",
        "---"
      ],
      "metadata": {
        "id": "3etcMeYyXhyx"
      }
    },
    {
      "cell_type": "code",
      "source": [
        "url = 'https://raw.githubusercontent.com/Kaiziferr/datasets/main/cryptojacking.csv'\n",
        "data = pd.read_csv(url, dtype=str).drop('Unnamed: 0', axis=1)"
      ],
      "metadata": {
        "id": "Na8Iz-5nNG2V"
      },
      "execution_count": 286,
      "outputs": []
    },
    {
      "cell_type": "code",
      "source": [
        "pd.DataFrame"
      ],
      "metadata": {
        "id": "pOJHZMAZvVhR",
        "outputId": "185d2e71-7da5-40b0-b5d0-f543c615229b",
        "colab": {
          "base_uri": "https://localhost:8080/"
        }
      },
      "execution_count": 287,
      "outputs": [
        {
          "output_type": "execute_result",
          "data": {
            "text/plain": [
              "pandas.core.frame.DataFrame"
            ]
          },
          "metadata": {},
          "execution_count": 287
        }
      ]
    },
    {
      "cell_type": "code",
      "source": [
        "plot_bar(\n",
        "    data,\n",
        "    paleta=None,\n",
        "    ejeX='Type',\n",
        "    ejey='count Tipo Criptomonedas',\n",
        "    title='Count Tipo Criptomonedas')"
      ],
      "metadata": {
        "colab": {
          "base_uri": "https://localhost:8080/",
          "height": 526
        },
        "id": "6ZriklTh5KmE",
        "outputId": "ff739db7-3f13-47cd-f024-b775c8f82ef4"
      },
      "execution_count": 288,
      "outputs": [
        {
          "output_type": "display_data",
          "data": {
            "text/plain": [
              "<Figure size 800x500 with 1 Axes>"
            ],
            "image/png": "[encoded data removed]"
          },
          "metadata": {}
        }
      ]
    },
    {
      "cell_type": "code",
      "source": [
        "data.info()"
      ],
      "metadata": {
        "colab": {
          "base_uri": "https://localhost:8080/"
        },
        "id": "56FyVWKx6fws",
        "outputId": "a1333205-e5be-433a-eee6-8d06128dc090"
      },
      "execution_count": 289,
      "outputs": [
        {
          "output_type": "stream",
          "name": "stdout",
          "text": [
            "<class 'pandas.core.frame.DataFrame'>\n",
            "RangeIndex: 2837 entries, 0 to 2836\n",
            "Data columns (total 31 columns):\n",
            " #   Column           Non-Null Count  Dtype \n",
            "---  ------           --------------  ----- \n",
            " 0   Name             2837 non-null   object\n",
            " 1   Netflows         2837 non-null   object\n",
            " 2   First_Protocol   2837 non-null   object\n",
            " 3   Second_Protocol  619 non-null    object\n",
            " 4   Third_Protocol   26 non-null     object\n",
            " 5   p1_d             2837 non-null   object\n",
            " 6   p2_d             2837 non-null   object\n",
            " 7   p3_d             2837 non-null   object\n",
            " 8   duration         2837 non-null   object\n",
            " 9   max_d            2837 non-null   object\n",
            " 10  min_d            2837 non-null   object\n",
            " 11  #packets         2837 non-null   object\n",
            " 12  Avg_bps          2837 non-null   object\n",
            " 13  Avg_pps          2837 non-null   object\n",
            " 14  Avg_bpp          2837 non-null   object\n",
            " 15  #Bytes           2837 non-null   object\n",
            " 16  #sp              2837 non-null   object\n",
            " 17  #dp              2837 non-null   object\n",
            " 18  first_sp         2837 non-null   object\n",
            " 19  second_sp        2815 non-null   object\n",
            " 20  third_sp         788 non-null    object\n",
            " 21  first_dp         2837 non-null   object\n",
            " 22  second_dp        2815 non-null   object\n",
            " 23  third_dp         785 non-null    object\n",
            " 24  p1_ip            2837 non-null   object\n",
            " 25  p2_ip            2837 non-null   object\n",
            " 26  p3_ip            2837 non-null   object\n",
            " 27  p1_ib            2837 non-null   object\n",
            " 28  p2_ib            2837 non-null   object\n",
            " 29  p3_ib            2837 non-null   object\n",
            " 30  Type             2837 non-null   object\n",
            "dtypes: object(31)\n",
            "memory usage: 687.2+ KB\n"
          ]
        }
      ]
    },
    {
      "cell_type": "code",
      "source": [
        "data.iloc[:, 12:]"
      ],
      "metadata": {
        "colab": {
          "base_uri": "https://localhost:8080/",
          "height": 423
        },
        "id": "NCHYp39G6EOo",
        "outputId": "5fb1c295-9e7c-4960-f133-eb7964003546"
      },
      "execution_count": 290,
      "outputs": [
        {
          "output_type": "execute_result",
          "data": {
            "text/plain": [
              "     Avg_bps Avg_pps Avg_bpp   #Bytes  #sp  #dp first_sp second_sp third_sp  \\\n",
              "0     125708      18     833  4621561   33   37      443      80.0    123.0   \n",
              "1        148       0      49      983   13    8       53   53195.0  48984.0   \n",
              "2        236       0      87      874    6    6       53   39308.0  54454.0   \n",
              "3     129626      29     556  4847263  167  120       53     443.0  54059.0   \n",
              "4     328000    1000      41       82    2    2    48871      53.0      NaN   \n",
              "...      ...     ...     ...      ...  ...  ...      ...       ...      ...   \n",
              "2832    1179       0     424     1273    2    2     3333   52003.0      NaN   \n",
              "2833     507       0     336    37065    2    2     3333   52003.0      NaN   \n",
              "2834     397       0     318    14330    2    2     3333   52003.0      NaN   \n",
              "2835     470       0     329    16800    2    2     3333   52003.0      NaN   \n",
              "2836     498       0     396    16642    2    2     3333   52003.0      NaN   \n",
              "\n",
              "     first_dp second_dp third_dp  p1_ip p2_ip  p3_ip     p1_ib    p2_ib  \\\n",
              "0         443      80.0    123.0    3.0   7.0   22.0     127.0    255.0   \n",
              "1         443      53.0  53195.0    1.0   1.0    1.0      37.0     47.0   \n",
              "2          53   39308.0  54454.0    1.0   1.0    1.0      34.0     43.0   \n",
              "3          53    5355.0    443.0    1.0   1.0    1.0      39.0     49.0   \n",
              "4       48871      53.0      NaN    1.0   1.0    1.0      37.0     41.0   \n",
              "...       ...       ...      ...    ...   ...    ...       ...      ...   \n",
              "2832     3333   52003.0      NaN   1.25   1.5   1.75    328.25    636.5   \n",
              "2833     3333   52003.0      NaN   53.5  55.0   56.5  10108.75  18532.5   \n",
              "2834     3333   52003.0      NaN  22.25  22.5  22.75    3865.0   7165.0   \n",
              "2835     3333   52003.0      NaN  24.75  25.5  26.25    4627.5   8400.0   \n",
              "2836     3333   52003.0      NaN   21.0  21.0   21.0    4370.5   8321.0   \n",
              "\n",
              "         p3_ib Type  \n",
              "0       1888.0    0  \n",
              "1         64.0    0  \n",
              "2        61.75    0  \n",
              "3         54.0    0  \n",
              "4         45.0    0  \n",
              "...        ...  ...  \n",
              "2832    944.75    5  \n",
              "2833  26956.25    5  \n",
              "2834   10465.0    5  \n",
              "2835   12172.5    5  \n",
              "2836   12271.5    5  \n",
              "\n",
              "[2837 rows x 19 columns]"
            ],
            "text/html": [
              "\n",
              "  <div id=\"df-8c8abc36-eebd-4d39-8a49-486565a2ab21\" class=\"colab-df-container\">\n",
              "    <div>\n",
              "<style scoped>\n",
              "    .dataframe tbody tr th:only-of-type {\n",
              "        vertical-align: middle;\n",
              "    }\n",
              "\n",
              "    .dataframe tbody tr th {\n",
              "        vertical-align: top;\n",
              "    }\n",
              "\n",
              "    .dataframe thead th {\n",
              "        text-align: right;\n",
              "    }\n",
              "</style>\n",
              "<table border=\"1\" class=\"dataframe\">\n",
              "  <thead>\n",
              "    <tr style=\"text-align: right;\">\n",
              "      <th></th>\n",
              "      <th>Avg_bps</th>\n",
              "      <th>Avg_pps</th>\n",
              "      <th>Avg_bpp</th>\n",
              "      <th>#Bytes</th>\n",
              "      <th>#sp</th>\n",
              "      <th>#dp</th>\n",
              "      <th>first_sp</th>\n",
              "      <th>second_sp</th>\n",
              "      <th>third_sp</th>\n",
              "      <th>first_dp</th>\n",
              "      <th>second_dp</th>\n",
              "      <th>third_dp</th>\n",
              "      <th>p1_ip</th>\n",
              "      <th>p2_ip</th>\n",
              "      <th>p3_ip</th>\n",
              "      <th>p1_ib</th>\n",
              "      <th>p2_ib</th>\n",
              "      <th>p3_ib</th>\n",
              "      <th>Type</th>\n",
              "    </tr>\n",
              "  </thead>\n",
              "  <tbody>\n",
              "    <tr>\n",
              "      <th>0</th>\n",
              "      <td>125708</td>\n",
              "      <td>18</td>\n",
              "      <td>833</td>\n",
              "      <td>4621561</td>\n",
              "      <td>33</td>\n",
              "      <td>37</td>\n",
              "      <td>443</td>\n",
              "      <td>80.0</td>\n",
              "      <td>123.0</td>\n",
              "      <td>443</td>\n",
              "      <td>80.0</td>\n",
              "      <td>123.0</td>\n",
              "      <td>3.0</td>\n",
              "      <td>7.0</td>\n",
              "      <td>22.0</td>\n",
              "      <td>127.0</td>\n",
              "      <td>255.0</td>\n",
              "      <td>1888.0</td>\n",
              "      <td>0</td>\n",
              "    </tr>\n",
              "    <tr>\n",
              "      <th>1</th>\n",
              "      <td>148</td>\n",
              "      <td>0</td>\n",
              "      <td>49</td>\n",
              "      <td>983</td>\n",
              "      <td>13</td>\n",
              "      <td>8</td>\n",
              "      <td>53</td>\n",
              "      <td>53195.0</td>\n",
              "      <td>48984.0</td>\n",
              "      <td>443</td>\n",
              "      <td>53.0</td>\n",
              "      <td>53195.0</td>\n",
              "      <td>1.0</td>\n",
              "      <td>1.0</td>\n",
              "      <td>1.0</td>\n",
              "      <td>37.0</td>\n",
              "      <td>47.0</td>\n",
              "      <td>64.0</td>\n",
              "      <td>0</td>\n",
              "    </tr>\n",
              "    <tr>\n",
              "      <th>2</th>\n",
              "      <td>236</td>\n",
              "      <td>0</td>\n",
              "      <td>87</td>\n",
              "      <td>874</td>\n",
              "      <td>6</td>\n",
              "      <td>6</td>\n",
              "      <td>53</td>\n",
              "      <td>39308.0</td>\n",
              "      <td>54454.0</td>\n",
              "      <td>53</td>\n",
              "      <td>39308.0</td>\n",
              "      <td>54454.0</td>\n",
              "      <td>1.0</td>\n",
              "      <td>1.0</td>\n",
              "      <td>1.0</td>\n",
              "      <td>34.0</td>\n",
              "      <td>43.0</td>\n",
              "      <td>61.75</td>\n",
              "      <td>0</td>\n",
              "    </tr>\n",
              "    <tr>\n",
              "      <th>3</th>\n",
              "      <td>129626</td>\n",
              "      <td>29</td>\n",
              "      <td>556</td>\n",
              "      <td>4847263</td>\n",
              "      <td>167</td>\n",
              "      <td>120</td>\n",
              "      <td>53</td>\n",
              "      <td>443.0</td>\n",
              "      <td>54059.0</td>\n",
              "      <td>53</td>\n",
              "      <td>5355.0</td>\n",
              "      <td>443.0</td>\n",
              "      <td>1.0</td>\n",
              "      <td>1.0</td>\n",
              "      <td>1.0</td>\n",
              "      <td>39.0</td>\n",
              "      <td>49.0</td>\n",
              "      <td>54.0</td>\n",
              "      <td>0</td>\n",
              "    </tr>\n",
              "    <tr>\n",
              "      <th>4</th>\n",
              "      <td>328000</td>\n",
              "      <td>1000</td>\n",
              "      <td>41</td>\n",
              "      <td>82</td>\n",
              "      <td>2</td>\n",
              "      <td>2</td>\n",
              "      <td>48871</td>\n",
              "      <td>53.0</td>\n",
              "      <td>NaN</td>\n",
              "      <td>48871</td>\n",
              "      <td>53.0</td>\n",
              "      <td>NaN</td>\n",
              "      <td>1.0</td>\n",
              "      <td>1.0</td>\n",
              "      <td>1.0</td>\n",
              "      <td>37.0</td>\n",
              "      <td>41.0</td>\n",
              "      <td>45.0</td>\n",
              "      <td>0</td>\n",
              "    </tr>\n",
              "    <tr>\n",
              "      <th>...</th>\n",
              "      <td>...</td>\n",
              "      <td>...</td>\n",
              "      <td>...</td>\n",
              "      <td>...</td>\n",
              "      <td>...</td>\n",
              "      <td>...</td>\n",
              "      <td>...</td>\n",
              "      <td>...</td>\n",
              "      <td>...</td>\n",
              "      <td>...</td>\n",
              "      <td>...</td>\n",
              "      <td>...</td>\n",
              "      <td>...</td>\n",
              "      <td>...</td>\n",
              "      <td>...</td>\n",
              "      <td>...</td>\n",
              "      <td>...</td>\n",
              "      <td>...</td>\n",
              "      <td>...</td>\n",
              "    </tr>\n",
              "    <tr>\n",
              "      <th>2832</th>\n",
              "      <td>1179</td>\n",
              "      <td>0</td>\n",
              "      <td>424</td>\n",
              "      <td>1273</td>\n",
              "      <td>2</td>\n",
              "      <td>2</td>\n",
              "      <td>3333</td>\n",
              "      <td>52003.0</td>\n",
              "      <td>NaN</td>\n",
              "      <td>3333</td>\n",
              "      <td>52003.0</td>\n",
              "      <td>NaN</td>\n",
              "      <td>1.25</td>\n",
              "      <td>1.5</td>\n",
              "      <td>1.75</td>\n",
              "      <td>328.25</td>\n",
              "      <td>636.5</td>\n",
              "      <td>944.75</td>\n",
              "      <td>5</td>\n",
              "    </tr>\n",
              "    <tr>\n",
              "      <th>2833</th>\n",
              "      <td>507</td>\n",
              "      <td>0</td>\n",
              "      <td>336</td>\n",
              "      <td>37065</td>\n",
              "      <td>2</td>\n",
              "      <td>2</td>\n",
              "      <td>3333</td>\n",
              "      <td>52003.0</td>\n",
              "      <td>NaN</td>\n",
              "      <td>3333</td>\n",
              "      <td>52003.0</td>\n",
              "      <td>NaN</td>\n",
              "      <td>53.5</td>\n",
              "      <td>55.0</td>\n",
              "      <td>56.5</td>\n",
              "      <td>10108.75</td>\n",
              "      <td>18532.5</td>\n",
              "      <td>26956.25</td>\n",
              "      <td>5</td>\n",
              "    </tr>\n",
              "    <tr>\n",
              "      <th>2834</th>\n",
              "      <td>397</td>\n",
              "      <td>0</td>\n",
              "      <td>318</td>\n",
              "      <td>14330</td>\n",
              "      <td>2</td>\n",
              "      <td>2</td>\n",
              "      <td>3333</td>\n",
              "      <td>52003.0</td>\n",
              "      <td>NaN</td>\n",
              "      <td>3333</td>\n",
              "      <td>52003.0</td>\n",
              "      <td>NaN</td>\n",
              "      <td>22.25</td>\n",
              "      <td>22.5</td>\n",
              "      <td>22.75</td>\n",
              "      <td>3865.0</td>\n",
              "      <td>7165.0</td>\n",
              "      <td>10465.0</td>\n",
              "      <td>5</td>\n",
              "    </tr>\n",
              "    <tr>\n",
              "      <th>2835</th>\n",
              "      <td>470</td>\n",
              "      <td>0</td>\n",
              "      <td>329</td>\n",
              "      <td>16800</td>\n",
              "      <td>2</td>\n",
              "      <td>2</td>\n",
              "      <td>3333</td>\n",
              "      <td>52003.0</td>\n",
              "      <td>NaN</td>\n",
              "      <td>3333</td>\n",
              "      <td>52003.0</td>\n",
              "      <td>NaN</td>\n",
              "      <td>24.75</td>\n",
              "      <td>25.5</td>\n",
              "      <td>26.25</td>\n",
              "      <td>4627.5</td>\n",
              "      <td>8400.0</td>\n",
              "      <td>12172.5</td>\n",
              "      <td>5</td>\n",
              "    </tr>\n",
              "    <tr>\n",
              "      <th>2836</th>\n",
              "      <td>498</td>\n",
              "      <td>0</td>\n",
              "      <td>396</td>\n",
              "      <td>16642</td>\n",
              "      <td>2</td>\n",
              "      <td>2</td>\n",
              "      <td>3333</td>\n",
              "      <td>52003.0</td>\n",
              "      <td>NaN</td>\n",
              "      <td>3333</td>\n",
              "      <td>52003.0</td>\n",
              "      <td>NaN</td>\n",
              "      <td>21.0</td>\n",
              "      <td>21.0</td>\n",
              "      <td>21.0</td>\n",
              "      <td>4370.5</td>\n",
              "      <td>8321.0</td>\n",
              "      <td>12271.5</td>\n",
              "      <td>5</td>\n",
              "    </tr>\n",
              "  </tbody>\n",
              "</table>\n",
              "<p>2837 rows × 19 columns</p>\n",
              "</div>\n",
              "    <div class=\"colab-df-buttons\">\n",
              "\n",
              "  <div class=\"colab-df-container\">\n",
              "    <button class=\"colab-df-convert\" onclick=\"convertToInteractive('df-8c8abc36-eebd-4d39-8a49-486565a2ab21')\"\n",
              "            title=\"Convert this dataframe to an interactive table.\"\n",
              "            style=\"display:none;\">\n",
              "\n",
              "  <svg xmlns=\"http://www.w3.org/2000/svg\" height=\"24px\" viewBox=\"0 -960 960 960\">\n",
              "    <path d=\"M120-120v-720h720v720H120Zm60-500h600v-160H180v160Zm220 220h160v-160H400v160Zm0 220h160v-160H400v160ZM180-400h160v-160H180v160Zm440 0h160v-160H620v160ZM180-180h160v-160H180v160Zm440 0h160v-160H620v160Z\"/>\n",
              "  </svg>\n",
              "    </button>\n",
              "\n",
              "  <style>\n",
              "    .colab-df-container {\n",
              "      display:flex;\n",
              "      gap: 12px;\n",
              "    }\n",
              "\n",
              "    .colab-df-convert {\n",
              "      background-color: #E8F0FE;\n",
              "      border: none;\n",
              "      border-radius: 50%;\n",
              "      cursor: pointer;\n",
              "      display: none;\n",
              "      fill: #1967D2;\n",
              "      height: 32px;\n",
              "      padding: 0 0 0 0;\n",
              "      width: 32px;\n",
              "    }\n",
              "\n",
              "    .colab-df-convert:hover {\n",
              "      background-color: #E2EBFA;\n",
              "      box-shadow: 0px 1px 2px rgba(60, 64, 67, 0.3), 0px 1px 3px 1px rgba(60, 64, 67, 0.15);\n",
              "      fill: #174EA6;\n",
              "    }\n",
              "\n",
              "    .colab-df-buttons div {\n",
              "      margin-bottom: 4px;\n",
              "    }\n",
              "\n",
              "    [theme=dark] .colab-df-convert {\n",
              "      background-color: #3B4455;\n",
              "      fill: #D2E3FC;\n",
              "    }\n",
              "\n",
              "    [theme=dark] .colab-df-convert:hover {\n",
              "      background-color: #434B5C;\n",
              "      box-shadow: 0px 1px 3px 1px rgba(0, 0, 0, 0.15);\n",
              "      filter: drop-shadow(0px 1px 2px rgba(0, 0, 0, 0.3));\n",
              "      fill: #FFFFFF;\n",
              "    }\n",
              "  </style>\n",
              "\n",
              "    <script>\n",
              "      const buttonEl =\n",
              "        document.querySelector('#df-8c8abc36-eebd-4d39-8a49-486565a2ab21 button.colab-df-convert');\n",
              "      buttonEl.style.display =\n",
              "        google.colab.kernel.accessAllowed ? 'block' : 'none';\n",
              "\n",
              "      async function convertToInteractive(key) {\n",
              "        const element = document.querySelector('#df-8c8abc36-eebd-4d39-8a49-486565a2ab21');\n",
              "        const dataTable =\n",
              "          await google.colab.kernel.invokeFunction('convertToInteractive',\n",
              "                                                    [key], {});\n",
              "        if (!dataTable) return;\n",
              "\n",
              "        const docLinkHtml = 'Like what you see? Visit the ' +\n",
              "          '<a target=\"_blank\" href=https://colab.research.google.com/notebooks/data_table.ipynb>data table notebook</a>'\n",
              "          + ' to learn more about interactive tables.';\n",
              "        element.innerHTML = '';\n",
              "        dataTable['output_type'] = 'display_data';\n",
              "        await google.colab.output.renderOutput(dataTable, element);\n",
              "        const docLink = document.createElement('div');\n",
              "        docLink.innerHTML = docLinkHtml;\n",
              "        element.appendChild(docLink);\n",
              "      }\n",
              "    </script>\n",
              "  </div>\n",
              "\n",
              "\n",
              "<div id=\"df-d5931598-4b67-4c9a-891a-f352ef714d5f\">\n",
              "  <button class=\"colab-df-quickchart\" onclick=\"quickchart('df-d5931598-4b67-4c9a-891a-f352ef714d5f')\"\n",
              "            title=\"Suggest charts\"\n",
              "            style=\"display:none;\">\n",
              "\n",
              "<svg xmlns=\"http://www.w3.org/2000/svg\" height=\"24px\"viewBox=\"0 0 24 24\"\n",
              "     width=\"24px\">\n",
              "    <g>\n",
              "        <path d=\"M19 3H5c-1.1 0-2 .9-2 2v14c0 1.1.9 2 2 2h14c1.1 0 2-.9 2-2V5c0-1.1-.9-2-2-2zM9 17H7v-7h2v7zm4 0h-2V7h2v10zm4 0h-2v-4h2v4z\"/>\n",
              "    </g>\n",
              "</svg>\n",
              "  </button>\n",
              "\n",
              "<style>\n",
              "  .colab-df-quickchart {\n",
              "      --bg-color: #E8F0FE;\n",
              "      --fill-color: #1967D2;\n",
              "      --hover-bg-color: #E2EBFA;\n",
              "      --hover-fill-color: #174EA6;\n",
              "      --disabled-fill-color: #AAA;\n",
              "      --disabled-bg-color: #DDD;\n",
              "  }\n",
              "\n",
              "  [theme=dark] .colab-df-quickchart {\n",
              "      --bg-color: #3B4455;\n",
              "      --fill-color: #D2E3FC;\n",
              "      --hover-bg-color: #434B5C;\n",
              "      --hover-fill-color: #FFFFFF;\n",
              "      --disabled-bg-color: #3B4455;\n",
              "      --disabled-fill-color: #666;\n",
              "  }\n",
              "\n",
              "  .colab-df-quickchart {\n",
              "    background-color: var(--bg-color);\n",
              "    border: none;\n",
              "    border-radius: 50%;\n",
              "    cursor: pointer;\n",
              "    display: none;\n",
              "    fill: var(--fill-color);\n",
              "    height: 32px;\n",
              "    padding: 0;\n",
              "    width: 32px;\n",
              "  }\n",
              "\n",
              "  .colab-df-quickchart:hover {\n",
              "    background-color: var(--hover-bg-color);\n",
              "    box-shadow: 0 1px 2px rgba(60, 64, 67, 0.3), 0 1px 3px 1px rgba(60, 64, 67, 0.15);\n",
              "    fill: var(--button-hover-fill-color);\n",
              "  }\n",
              "\n",
              "  .colab-df-quickchart-complete:disabled,\n",
              "  .colab-df-quickchart-complete:disabled:hover {\n",
              "    background-color: var(--disabled-bg-color);\n",
              "    fill: var(--disabled-fill-color);\n",
              "    box-shadow: none;\n",
              "  }\n",
              "\n",
              "  .colab-df-spinner {\n",
              "    border: 2px solid var(--fill-color);\n",
              "    border-color: transparent;\n",
              "    border-bottom-color: var(--fill-color);\n",
              "    animation:\n",
              "      spin 1s steps(1) infinite;\n",
              "  }\n",
              "\n",
              "  @keyframes spin {\n",
              "    0% {\n",
              "      border-color: transparent;\n",
              "      border-bottom-color: var(--fill-color);\n",
              "      border-left-color: var(--fill-color);\n",
              "    }\n",
              "    20% {\n",
              "      border-color: transparent;\n",
              "      border-left-color: var(--fill-color);\n",
              "      border-top-color: var(--fill-color);\n",
              "    }\n",
              "    30% {\n",
              "      border-color: transparent;\n",
              "      border-left-color: var(--fill-color);\n",
              "      border-top-color: var(--fill-color);\n",
              "      border-right-color: var(--fill-color);\n",
              "    }\n",
              "    40% {\n",
              "      border-color: transparent;\n",
              "      border-right-color: var(--fill-color);\n",
              "      border-top-color: var(--fill-color);\n",
              "    }\n",
              "    60% {\n",
              "      border-color: transparent;\n",
              "      border-right-color: var(--fill-color);\n",
              "    }\n",
              "    80% {\n",
              "      border-color: transparent;\n",
              "      border-right-color: var(--fill-color);\n",
              "      border-bottom-color: var(--fill-color);\n",
              "    }\n",
              "    90% {\n",
              "      border-color: transparent;\n",
              "      border-bottom-color: var(--fill-color);\n",
              "    }\n",
              "  }\n",
              "</style>\n",
              "\n",
              "  <script>\n",
              "    async function quickchart(key) {\n",
              "      const quickchartButtonEl =\n",
              "        document.querySelector('#' + key + ' button');\n",
              "      quickchartButtonEl.disabled = true;  // To prevent multiple clicks.\n",
              "      quickchartButtonEl.classList.add('colab-df-spinner');\n",
              "      try {\n",
              "        const charts = await google.colab.kernel.invokeFunction(\n",
              "            'suggestCharts', [key], {});\n",
              "      } catch (error) {\n",
              "        console.error('Error during call to suggestCharts:', error);\n",
              "      }\n",
              "      quickchartButtonEl.classList.remove('colab-df-spinner');\n",
              "      quickchartButtonEl.classList.add('colab-df-quickchart-complete');\n",
              "    }\n",
              "    (() => {\n",
              "      let quickchartButtonEl =\n",
              "        document.querySelector('#df-d5931598-4b67-4c9a-891a-f352ef714d5f button');\n",
              "      quickchartButtonEl.style.display =\n",
              "        google.colab.kernel.accessAllowed ? 'block' : 'none';\n",
              "    })();\n",
              "  </script>\n",
              "</div>\n",
              "\n",
              "    </div>\n",
              "  </div>\n"
            ]
          },
          "metadata": {},
          "execution_count": 290
        }
      ]
    },
    {
      "cell_type": "markdown",
      "source": [
        "# **Structured**\n",
        "---"
      ],
      "metadata": {
        "id": "vvhs04OH6Yr9"
      }
    },
    {
      "cell_type": "code",
      "source": [
        "data[[\n",
        "    'p1_d', 'p2_d', 'p3_d',\n",
        "    'duration', 'max_d', 'min_d',\n",
        "    'Avg_bps', 'Avg_pps','Avg_bpp',\n",
        "    'p1_ip', 'p2_ip', 'p3_ip',\n",
        "    'p1_ib', 'p2_ib','p3_ib']] = data[[\n",
        "    'p1_d', 'p2_d', 'p3_d',\n",
        "    'duration', 'max_d', 'min_d',\n",
        "    'Avg_bps', 'Avg_pps','Avg_bpp',\n",
        "    'p1_ip', 'p2_ip', 'p3_ip',\n",
        "    'p1_ib', 'p2_ib','p3_ib']].astype('float64')"
      ],
      "metadata": {
        "id": "SJdOMRAZ6uAM"
      },
      "execution_count": 291,
      "outputs": []
    },
    {
      "cell_type": "code",
      "source": [
        "data[[\n",
        "    'Netflows', '#packets',\n",
        "    '#Bytes', '#sp', '#dp']] = data[[\n",
        "    'Netflows', '#packets',\n",
        "    '#Bytes', '#sp', '#dp']].astype('int64')"
      ],
      "metadata": {
        "id": "ow4i4H216d8z"
      },
      "execution_count": 292,
      "outputs": []
    },
    {
      "cell_type": "markdown",
      "source": [
        "# **Data Split**\n",
        "---"
      ],
      "metadata": {
        "id": "eKyRncGSaeF4"
      }
    },
    {
      "cell_type": "markdown",
      "source": [
        "Si bien se puede usar las variables categoricas, por fines del ejercicio se usaran las variables cuantitativas."
      ],
      "metadata": {
        "id": "9Nlw4Wddb7ey"
      }
    },
    {
      "cell_type": "code",
      "source": [
        "X = data.select_dtypes(include=['float64', 'int64'])\n",
        "y = data.iloc[:,-1]"
      ],
      "metadata": {
        "id": "DVYAHt2mdN05"
      },
      "execution_count": 293,
      "outputs": []
    },
    {
      "cell_type": "markdown",
      "source": [
        "**Select the best features**\n"
      ],
      "metadata": {
        "id": "iDlyCPUVbQwa"
      }
    },
    {
      "cell_type": "markdown",
      "source": [
        "Se cambiara solo el criterio de impureza, en proximos ejercicios se implementaran otros hiperparametros. Se usa un ensamblador para encontrar las mejores caracteristicas."
      ],
      "metadata": {
        "id": "bI7_KBCuceqD"
      }
    },
    {
      "cell_type": "code",
      "source": [
        "model_best_feature_gini = ExtraTreesClassifier(\n",
        "    n_estimators=100, criterion='gini'\n",
        ")"
      ],
      "metadata": {
        "id": "Dn64hsZ_9Va2"
      },
      "execution_count": 294,
      "outputs": []
    },
    {
      "cell_type": "code",
      "source": [
        "model_best_feature_gini"
      ],
      "metadata": {
        "colab": {
          "base_uri": "https://localhost:8080/",
          "height": 74
        },
        "id": "dzuZm5Hq9flN",
        "outputId": "3a53887a-f1a3-40d6-e938-afc3c2b54052"
      },
      "execution_count": 295,
      "outputs": [
        {
          "output_type": "execute_result",
          "data": {
            "text/plain": [
              "ExtraTreesClassifier()"
            ],
            "text/html": [
              "<style>#sk-container-id-23 {color: black;background-color: white;}#sk-container-id-23 pre{padding: 0;}#sk-container-id-23 div.sk-toggleable {background-color: white;}#sk-container-id-23 label.sk-toggleable__label {cursor: pointer;display: block;width: 100%;margin-bottom: 0;padding: 0.3em;box-sizing: border-box;text-align: center;}#sk-container-id-23 label.sk-toggleable__label-arrow:before {content: \"▸\";float: left;margin-right: 0.25em;color: #696969;}#sk-container-id-23 label.sk-toggleable__label-arrow:hover:before {color: black;}#sk-container-id-23 div.sk-estimator:hover label.sk-toggleable__label-arrow:before {color: black;}#sk-container-id-23 div.sk-toggleable__content {max-height: 0;max-width: 0;overflow: hidden;text-align: left;background-color: #f0f8ff;}#sk-container-id-23 div.sk-toggleable__content pre {margin: 0.2em;color: black;border-radius: 0.25em;background-color: #f0f8ff;}#sk-container-id-23 input.sk-toggleable__control:checked~div.sk-toggleable__content {max-height: 200px;max-width: 100%;overflow: auto;}#sk-container-id-23 input.sk-toggleable__control:checked~label.sk-toggleable__label-arrow:before {content: \"▾\";}#sk-container-id-23 div.sk-estimator input.sk-toggleable__control:checked~label.sk-toggleable__label {background-color: #d4ebff;}#sk-container-id-23 div.sk-label input.sk-toggleable__control:checked~label.sk-toggleable__label {background-color: #d4ebff;}#sk-container-id-23 input.sk-hidden--visually {border: 0;clip: rect(1px 1px 1px 1px);clip: rect(1px, 1px, 1px, 1px);height: 1px;margin: -1px;overflow: hidden;padding: 0;position: absolute;width: 1px;}#sk-container-id-23 div.sk-estimator {font-family: monospace;background-color: #f0f8ff;border: 1px dotted black;border-radius: 0.25em;box-sizing: border-box;margin-bottom: 0.5em;}#sk-container-id-23 div.sk-estimator:hover {background-color: #d4ebff;}#sk-container-id-23 div.sk-parallel-item::after {content: \"\";width: 100%;border-bottom: 1px solid gray;flex-grow: 1;}#sk-container-id-23 div.sk-label:hover label.sk-toggleable__label {background-color: #d4ebff;}#sk-container-id-23 div.sk-serial::before {content: \"\";position: absolute;border-left: 1px solid gray;box-sizing: border-box;top: 0;bottom: 0;left: 50%;z-index: 0;}#sk-container-id-23 div.sk-serial {display: flex;flex-direction: column;align-items: center;background-color: white;padding-right: 0.2em;padding-left: 0.2em;position: relative;}#sk-container-id-23 div.sk-item {position: relative;z-index: 1;}#sk-container-id-23 div.sk-parallel {display: flex;align-items: stretch;justify-content: center;background-color: white;position: relative;}#sk-container-id-23 div.sk-item::before, #sk-container-id-23 div.sk-parallel-item::before {content: \"\";position: absolute;border-left: 1px solid gray;box-sizing: border-box;top: 0;bottom: 0;left: 50%;z-index: -1;}#sk-container-id-23 div.sk-parallel-item {display: flex;flex-direction: column;z-index: 1;position: relative;background-color: white;}#sk-container-id-23 div.sk-parallel-item:first-child::after {align-self: flex-end;width: 50%;}#sk-container-id-23 div.sk-parallel-item:last-child::after {align-self: flex-start;width: 50%;}#sk-container-id-23 div.sk-parallel-item:only-child::after {width: 0;}#sk-container-id-23 div.sk-dashed-wrapped {border: 1px dashed gray;margin: 0 0.4em 0.5em 0.4em;box-sizing: border-box;padding-bottom: 0.4em;background-color: white;}#sk-container-id-23 div.sk-label label {font-family: monospace;font-weight: bold;display: inline-block;line-height: 1.2em;}#sk-container-id-23 div.sk-label-container {text-align: center;}#sk-container-id-23 div.sk-container {/* jupyter's `normalize.less` sets `[hidden] { display: none; }` but bootstrap.min.css set `[hidden] { display: none !important; }` so we also need the `!important` here to be able to override the default hidden behavior on the sphinx rendered scikit-learn.org. See: https://github.com/scikit-learn/scikit-learn/issues/21755 */display: inline-block !important;position: relative;}#sk-container-id-23 div.sk-text-repr-fallback {display: none;}</style><div id=\"sk-container-id-23\" class=\"sk-top-container\"><div class=\"sk-text-repr-fallback\"><pre>ExtraTreesClassifier()</pre><b>In a Jupyter environment, please rerun this cell to show the HTML representation or trust the notebook. <br />On GitHub, the HTML representation is unable to render, please try loading this page with nbviewer.org.</b></div><div class=\"sk-container\" hidden><div class=\"sk-item\"><div class=\"sk-estimator sk-toggleable\"><input class=\"sk-toggleable__control sk-hidden--visually\" id=\"sk-estimator-id-49\" type=\"checkbox\" checked><label for=\"sk-estimator-id-49\" class=\"sk-toggleable__label sk-toggleable__label-arrow\">ExtraTreesClassifier</label><div class=\"sk-toggleable__content\"><pre>ExtraTreesClassifier()</pre></div></div></div></div></div>"
            ]
          },
          "metadata": {},
          "execution_count": 295
        }
      ]
    },
    {
      "cell_type": "code",
      "source": [
        "data_best_gini = model_best_feature_gini.fit(X, y)"
      ],
      "metadata": {
        "id": "qyLysefMfD5Q"
      },
      "execution_count": 296,
      "outputs": []
    },
    {
      "cell_type": "markdown",
      "source": [
        "Seleccionamos las mejores caracteristicas, para implementar un metodo para la reducción de overfitting."
      ],
      "metadata": {
        "id": "5dLLsA9gi85g"
      }
    },
    {
      "cell_type": "code",
      "source": [
        "model = SelectFromModel(data_best_gini, prefit=True)\n",
        "model"
      ],
      "metadata": {
        "colab": {
          "base_uri": "https://localhost:8080/",
          "height": 117
        },
        "id": "ywBXJXMo9oHs",
        "outputId": "44cd43cc-598d-4664-a208-3de7a0cb1128"
      },
      "execution_count": 297,
      "outputs": [
        {
          "output_type": "execute_result",
          "data": {
            "text/plain": [
              "SelectFromModel(estimator=ExtraTreesClassifier(), prefit=True)"
            ],
            "text/html": [
              "<style>#sk-container-id-24 {color: black;background-color: white;}#sk-container-id-24 pre{padding: 0;}#sk-container-id-24 div.sk-toggleable {background-color: white;}#sk-container-id-24 label.sk-toggleable__label {cursor: pointer;display: block;width: 100%;margin-bottom: 0;padding: 0.3em;box-sizing: border-box;text-align: center;}#sk-container-id-24 label.sk-toggleable__label-arrow:before {content: \"▸\";float: left;margin-right: 0.25em;color: #696969;}#sk-container-id-24 label.sk-toggleable__label-arrow:hover:before {color: black;}#sk-container-id-24 div.sk-estimator:hover label.sk-toggleable__label-arrow:before {color: black;}#sk-container-id-24 div.sk-toggleable__content {max-height: 0;max-width: 0;overflow: hidden;text-align: left;background-color: #f0f8ff;}#sk-container-id-24 div.sk-toggleable__content pre {margin: 0.2em;color: black;border-radius: 0.25em;background-color: #f0f8ff;}#sk-container-id-24 input.sk-toggleable__control:checked~div.sk-toggleable__content {max-height: 200px;max-width: 100%;overflow: auto;}#sk-container-id-24 input.sk-toggleable__control:checked~label.sk-toggleable__label-arrow:before {content: \"▾\";}#sk-container-id-24 div.sk-estimator input.sk-toggleable__control:checked~label.sk-toggleable__label {background-color: #d4ebff;}#sk-container-id-24 div.sk-label input.sk-toggleable__control:checked~label.sk-toggleable__label {background-color: #d4ebff;}#sk-container-id-24 input.sk-hidden--visually {border: 0;clip: rect(1px 1px 1px 1px);clip: rect(1px, 1px, 1px, 1px);height: 1px;margin: -1px;overflow: hidden;padding: 0;position: absolute;width: 1px;}#sk-container-id-24 div.sk-estimator {font-family: monospace;background-color: #f0f8ff;border: 1px dotted black;border-radius: 0.25em;box-sizing: border-box;margin-bottom: 0.5em;}#sk-container-id-24 div.sk-estimator:hover {background-color: #d4ebff;}#sk-container-id-24 div.sk-parallel-item::after {content: \"\";width: 100%;border-bottom: 1px solid gray;flex-grow: 1;}#sk-container-id-24 div.sk-label:hover label.sk-toggleable__label {background-color: #d4ebff;}#sk-container-id-24 div.sk-serial::before {content: \"\";position: absolute;border-left: 1px solid gray;box-sizing: border-box;top: 0;bottom: 0;left: 50%;z-index: 0;}#sk-container-id-24 div.sk-serial {display: flex;flex-direction: column;align-items: center;background-color: white;padding-right: 0.2em;padding-left: 0.2em;position: relative;}#sk-container-id-24 div.sk-item {position: relative;z-index: 1;}#sk-container-id-24 div.sk-parallel {display: flex;align-items: stretch;justify-content: center;background-color: white;position: relative;}#sk-container-id-24 div.sk-item::before, #sk-container-id-24 div.sk-parallel-item::before {content: \"\";position: absolute;border-left: 1px solid gray;box-sizing: border-box;top: 0;bottom: 0;left: 50%;z-index: -1;}#sk-container-id-24 div.sk-parallel-item {display: flex;flex-direction: column;z-index: 1;position: relative;background-color: white;}#sk-container-id-24 div.sk-parallel-item:first-child::after {align-self: flex-end;width: 50%;}#sk-container-id-24 div.sk-parallel-item:last-child::after {align-self: flex-start;width: 50%;}#sk-container-id-24 div.sk-parallel-item:only-child::after {width: 0;}#sk-container-id-24 div.sk-dashed-wrapped {border: 1px dashed gray;margin: 0 0.4em 0.5em 0.4em;box-sizing: border-box;padding-bottom: 0.4em;background-color: white;}#sk-container-id-24 div.sk-label label {font-family: monospace;font-weight: bold;display: inline-block;line-height: 1.2em;}#sk-container-id-24 div.sk-label-container {text-align: center;}#sk-container-id-24 div.sk-container {/* jupyter's `normalize.less` sets `[hidden] { display: none; }` but bootstrap.min.css set `[hidden] { display: none !important; }` so we also need the `!important` here to be able to override the default hidden behavior on the sphinx rendered scikit-learn.org. See: https://github.com/scikit-learn/scikit-learn/issues/21755 */display: inline-block !important;position: relative;}#sk-container-id-24 div.sk-text-repr-fallback {display: none;}</style><div id=\"sk-container-id-24\" class=\"sk-top-container\"><div class=\"sk-text-repr-fallback\"><pre>SelectFromModel(estimator=ExtraTreesClassifier(), prefit=True)</pre><b>In a Jupyter environment, please rerun this cell to show the HTML representation or trust the notebook. <br />On GitHub, the HTML representation is unable to render, please try loading this page with nbviewer.org.</b></div><div class=\"sk-container\" hidden><div class=\"sk-item sk-dashed-wrapped\"><div class=\"sk-label-container\"><div class=\"sk-label sk-toggleable\"><input class=\"sk-toggleable__control sk-hidden--visually\" id=\"sk-estimator-id-50\" type=\"checkbox\" ><label for=\"sk-estimator-id-50\" class=\"sk-toggleable__label sk-toggleable__label-arrow\">SelectFromModel</label><div class=\"sk-toggleable__content\"><pre>SelectFromModel(estimator=ExtraTreesClassifier(), prefit=True)</pre></div></div></div><div class=\"sk-parallel\"><div class=\"sk-parallel-item\"><div class=\"sk-item\"><div class=\"sk-label-container\"><div class=\"sk-label sk-toggleable\"><input class=\"sk-toggleable__control sk-hidden--visually\" id=\"sk-estimator-id-51\" type=\"checkbox\" ><label for=\"sk-estimator-id-51\" class=\"sk-toggleable__label sk-toggleable__label-arrow\">estimator: ExtraTreesClassifier</label><div class=\"sk-toggleable__content\"><pre>ExtraTreesClassifier()</pre></div></div></div><div class=\"sk-serial\"><div class=\"sk-item\"><div class=\"sk-estimator sk-toggleable\"><input class=\"sk-toggleable__control sk-hidden--visually\" id=\"sk-estimator-id-52\" type=\"checkbox\" ><label for=\"sk-estimator-id-52\" class=\"sk-toggleable__label sk-toggleable__label-arrow\">ExtraTreesClassifier</label><div class=\"sk-toggleable__content\"><pre>ExtraTreesClassifier()</pre></div></div></div></div></div></div></div></div></div></div>"
            ]
          },
          "metadata": {},
          "execution_count": 297
        }
      ]
    },
    {
      "cell_type": "code",
      "source": [
        "best_features = X[X.columns[model.get_support(indices=True)]].columns\n",
        "best_features"
      ],
      "metadata": {
        "colab": {
          "base_uri": "https://localhost:8080/"
        },
        "id": "MJoqqN2l-FJW",
        "outputId": "471c4a95-b187-47be-8f94-c59ea3fe56c6"
      },
      "execution_count": 298,
      "outputs": [
        {
          "output_type": "execute_result",
          "data": {
            "text/plain": [
              "Index(['p1_d', 'p2_d', 'p3_d', 'min_d', 'Avg_bpp', 'p1_ip', 'p2_ip', 'p3_ip',\n",
              "       'p2_ib'],\n",
              "      dtype='object')"
            ]
          },
          "metadata": {},
          "execution_count": 298
        }
      ]
    },
    {
      "cell_type": "markdown",
      "source": [
        "No se implementará un proceso de estandarización, ya que el modelo es robusto ante ese tipo de casos."
      ],
      "metadata": {
        "id": "_0j1M4hnjlEc"
      }
    },
    {
      "cell_type": "code",
      "source": [
        "X = X[best_features]\n",
        "X"
      ],
      "metadata": {
        "id": "BOifpq-ciCCZ",
        "outputId": "261ed570-ed9a-45aa-d0b6-1476fc4ebfcb",
        "colab": {
          "base_uri": "https://localhost:8080/",
          "height": 423
        }
      },
      "execution_count": 299,
      "outputs": [
        {
          "output_type": "execute_result",
          "data": {
            "text/plain": [
              "           p1_d      p2_d       p3_d    min_d  Avg_bpp  p1_ip  p2_ip  p3_ip  \\\n",
              "0      18.93900  168.1730  194.28700    0.000    833.0   3.00    7.0  22.00   \n",
              "1       0.00000    0.0000    0.00000    0.000     49.0   1.00    1.0   1.00   \n",
              "2       0.00000    0.0000    0.00000    0.000     87.0   1.00    1.0   1.00   \n",
              "3       0.00000    0.0000    0.00000    0.000    556.0   1.00    1.0   1.00   \n",
              "4       0.00000    0.0000    0.00000    0.000     41.0   1.00    1.0   1.00   \n",
              "...         ...       ...        ...      ...      ...    ...    ...    ...   \n",
              "2832    2.15850    4.3170    6.47550    0.000    424.0   1.25    1.5   1.75   \n",
              "2833  583.36850  583.8100  584.25150  582.927    336.0  53.50   55.0  56.50   \n",
              "2834  288.55375  288.5545  288.55525  288.553    318.0  22.25   22.5  22.75   \n",
              "2835  285.37900  285.3790  285.37900  285.379    329.0  24.75   25.5  26.25   \n",
              "2836  267.03625  267.0365  267.03675  267.036    396.0  21.00   21.0  21.00   \n",
              "\n",
              "        p2_ib  \n",
              "0       255.0  \n",
              "1        47.0  \n",
              "2        43.0  \n",
              "3        49.0  \n",
              "4        41.0  \n",
              "...       ...  \n",
              "2832    636.5  \n",
              "2833  18532.5  \n",
              "2834   7165.0  \n",
              "2835   8400.0  \n",
              "2836   8321.0  \n",
              "\n",
              "[2837 rows x 9 columns]"
            ],
            "text/html": [
              "\n",
              "  <div id=\"df-db647180-ab94-4974-bd8a-807e79725579\" class=\"colab-df-container\">\n",
              "    <div>\n",
              "<style scoped>\n",
              "    .dataframe tbody tr th:only-of-type {\n",
              "        vertical-align: middle;\n",
              "    }\n",
              "\n",
              "    .dataframe tbody tr th {\n",
              "        vertical-align: top;\n",
              "    }\n",
              "\n",
              "    .dataframe thead th {\n",
              "        text-align: right;\n",
              "    }\n",
              "</style>\n",
              "<table border=\"1\" class=\"dataframe\">\n",
              "  <thead>\n",
              "    <tr style=\"text-align: right;\">\n",
              "      <th></th>\n",
              "      <th>p1_d</th>\n",
              "      <th>p2_d</th>\n",
              "      <th>p3_d</th>\n",
              "      <th>min_d</th>\n",
              "      <th>Avg_bpp</th>\n",
              "      <th>p1_ip</th>\n",
              "      <th>p2_ip</th>\n",
              "      <th>p3_ip</th>\n",
              "      <th>p2_ib</th>\n",
              "    </tr>\n",
              "  </thead>\n",
              "  <tbody>\n",
              "    <tr>\n",
              "      <th>0</th>\n",
              "      <td>18.93900</td>\n",
              "      <td>168.1730</td>\n",
              "      <td>194.28700</td>\n",
              "      <td>0.000</td>\n",
              "      <td>833.0</td>\n",
              "      <td>3.00</td>\n",
              "      <td>7.0</td>\n",
              "      <td>22.00</td>\n",
              "      <td>255.0</td>\n",
              "    </tr>\n",
              "    <tr>\n",
              "      <th>1</th>\n",
              "      <td>0.00000</td>\n",
              "      <td>0.0000</td>\n",
              "      <td>0.00000</td>\n",
              "      <td>0.000</td>\n",
              "      <td>49.0</td>\n",
              "      <td>1.00</td>\n",
              "      <td>1.0</td>\n",
              "      <td>1.00</td>\n",
              "      <td>47.0</td>\n",
              "    </tr>\n",
              "    <tr>\n",
              "      <th>2</th>\n",
              "      <td>0.00000</td>\n",
              "      <td>0.0000</td>\n",
              "      <td>0.00000</td>\n",
              "      <td>0.000</td>\n",
              "      <td>87.0</td>\n",
              "      <td>1.00</td>\n",
              "      <td>1.0</td>\n",
              "      <td>1.00</td>\n",
              "      <td>43.0</td>\n",
              "    </tr>\n",
              "    <tr>\n",
              "      <th>3</th>\n",
              "      <td>0.00000</td>\n",
              "      <td>0.0000</td>\n",
              "      <td>0.00000</td>\n",
              "      <td>0.000</td>\n",
              "      <td>556.0</td>\n",
              "      <td>1.00</td>\n",
              "      <td>1.0</td>\n",
              "      <td>1.00</td>\n",
              "      <td>49.0</td>\n",
              "    </tr>\n",
              "    <tr>\n",
              "      <th>4</th>\n",
              "      <td>0.00000</td>\n",
              "      <td>0.0000</td>\n",
              "      <td>0.00000</td>\n",
              "      <td>0.000</td>\n",
              "      <td>41.0</td>\n",
              "      <td>1.00</td>\n",
              "      <td>1.0</td>\n",
              "      <td>1.00</td>\n",
              "      <td>41.0</td>\n",
              "    </tr>\n",
              "    <tr>\n",
              "      <th>...</th>\n",
              "      <td>...</td>\n",
              "      <td>...</td>\n",
              "      <td>...</td>\n",
              "      <td>...</td>\n",
              "      <td>...</td>\n",
              "      <td>...</td>\n",
              "      <td>...</td>\n",
              "      <td>...</td>\n",
              "      <td>...</td>\n",
              "    </tr>\n",
              "    <tr>\n",
              "      <th>2832</th>\n",
              "      <td>2.15850</td>\n",
              "      <td>4.3170</td>\n",
              "      <td>6.47550</td>\n",
              "      <td>0.000</td>\n",
              "      <td>424.0</td>\n",
              "      <td>1.25</td>\n",
              "      <td>1.5</td>\n",
              "      <td>1.75</td>\n",
              "      <td>636.5</td>\n",
              "    </tr>\n",
              "    <tr>\n",
              "      <th>2833</th>\n",
              "      <td>583.36850</td>\n",
              "      <td>583.8100</td>\n",
              "      <td>584.25150</td>\n",
              "      <td>582.927</td>\n",
              "      <td>336.0</td>\n",
              "      <td>53.50</td>\n",
              "      <td>55.0</td>\n",
              "      <td>56.50</td>\n",
              "      <td>18532.5</td>\n",
              "    </tr>\n",
              "    <tr>\n",
              "      <th>2834</th>\n",
              "      <td>288.55375</td>\n",
              "      <td>288.5545</td>\n",
              "      <td>288.55525</td>\n",
              "      <td>288.553</td>\n",
              "      <td>318.0</td>\n",
              "      <td>22.25</td>\n",
              "      <td>22.5</td>\n",
              "      <td>22.75</td>\n",
              "      <td>7165.0</td>\n",
              "    </tr>\n",
              "    <tr>\n",
              "      <th>2835</th>\n",
              "      <td>285.37900</td>\n",
              "      <td>285.3790</td>\n",
              "      <td>285.37900</td>\n",
              "      <td>285.379</td>\n",
              "      <td>329.0</td>\n",
              "      <td>24.75</td>\n",
              "      <td>25.5</td>\n",
              "      <td>26.25</td>\n",
              "      <td>8400.0</td>\n",
              "    </tr>\n",
              "    <tr>\n",
              "      <th>2836</th>\n",
              "      <td>267.03625</td>\n",
              "      <td>267.0365</td>\n",
              "      <td>267.03675</td>\n",
              "      <td>267.036</td>\n",
              "      <td>396.0</td>\n",
              "      <td>21.00</td>\n",
              "      <td>21.0</td>\n",
              "      <td>21.00</td>\n",
              "      <td>8321.0</td>\n",
              "    </tr>\n",
              "  </tbody>\n",
              "</table>\n",
              "<p>2837 rows × 9 columns</p>\n",
              "</div>\n",
              "    <div class=\"colab-df-buttons\">\n",
              "\n",
              "  <div class=\"colab-df-container\">\n",
              "    <button class=\"colab-df-convert\" onclick=\"convertToInteractive('df-db647180-ab94-4974-bd8a-807e79725579')\"\n",
              "            title=\"Convert this dataframe to an interactive table.\"\n",
              "            style=\"display:none;\">\n",
              "\n",
              "  <svg xmlns=\"http://www.w3.org/2000/svg\" height=\"24px\" viewBox=\"0 -960 960 960\">\n",
              "    <path d=\"M120-120v-720h720v720H120Zm60-500h600v-160H180v160Zm220 220h160v-160H400v160Zm0 220h160v-160H400v160ZM180-400h160v-160H180v160Zm440 0h160v-160H620v160ZM180-180h160v-160H180v160Zm440 0h160v-160H620v160Z\"/>\n",
              "  </svg>\n",
              "    </button>\n",
              "\n",
              "  <style>\n",
              "    .colab-df-container {\n",
              "      display:flex;\n",
              "      gap: 12px;\n",
              "    }\n",
              "\n",
              "    .colab-df-convert {\n",
              "      background-color: #E8F0FE;\n",
              "      border: none;\n",
              "      border-radius: 50%;\n",
              "      cursor: pointer;\n",
              "      display: none;\n",
              "      fill: #1967D2;\n",
              "      height: 32px;\n",
              "      padding: 0 0 0 0;\n",
              "      width: 32px;\n",
              "    }\n",
              "\n",
              "    .colab-df-convert:hover {\n",
              "      background-color: #E2EBFA;\n",
              "      box-shadow: 0px 1px 2px rgba(60, 64, 67, 0.3), 0px 1px 3px 1px rgba(60, 64, 67, 0.15);\n",
              "      fill: #174EA6;\n",
              "    }\n",
              "\n",
              "    .colab-df-buttons div {\n",
              "      margin-bottom: 4px;\n",
              "    }\n",
              "\n",
              "    [theme=dark] .colab-df-convert {\n",
              "      background-color: #3B4455;\n",
              "      fill: #D2E3FC;\n",
              "    }\n",
              "\n",
              "    [theme=dark] .colab-df-convert:hover {\n",
              "      background-color: #434B5C;\n",
              "      box-shadow: 0px 1px 3px 1px rgba(0, 0, 0, 0.15);\n",
              "      filter: drop-shadow(0px 1px 2px rgba(0, 0, 0, 0.3));\n",
              "      fill: #FFFFFF;\n",
              "    }\n",
              "  </style>\n",
              "\n",
              "    <script>\n",
              "      const buttonEl =\n",
              "        document.querySelector('#df-db647180-ab94-4974-bd8a-807e79725579 button.colab-df-convert');\n",
              "      buttonEl.style.display =\n",
              "        google.colab.kernel.accessAllowed ? 'block' : 'none';\n",
              "\n",
              "      async function convertToInteractive(key) {\n",
              "        const element = document.querySelector('#df-db647180-ab94-4974-bd8a-807e79725579');\n",
              "        const dataTable =\n",
              "          await google.colab.kernel.invokeFunction('convertToInteractive',\n",
              "                                                    [key], {});\n",
              "        if (!dataTable) return;\n",
              "\n",
              "        const docLinkHtml = 'Like what you see? Visit the ' +\n",
              "          '<a target=\"_blank\" href=https://colab.research.google.com/notebooks/data_table.ipynb>data table notebook</a>'\n",
              "          + ' to learn more about interactive tables.';\n",
              "        element.innerHTML = '';\n",
              "        dataTable['output_type'] = 'display_data';\n",
              "        await google.colab.output.renderOutput(dataTable, element);\n",
              "        const docLink = document.createElement('div');\n",
              "        docLink.innerHTML = docLinkHtml;\n",
              "        element.appendChild(docLink);\n",
              "      }\n",
              "    </script>\n",
              "  </div>\n",
              "\n",
              "\n",
              "<div id=\"df-9e67198e-cf8e-48ea-9fdd-a4e545ccf29d\">\n",
              "  <button class=\"colab-df-quickchart\" onclick=\"quickchart('df-9e67198e-cf8e-48ea-9fdd-a4e545ccf29d')\"\n",
              "            title=\"Suggest charts\"\n",
              "            style=\"display:none;\">\n",
              "\n",
              "<svg xmlns=\"http://www.w3.org/2000/svg\" height=\"24px\"viewBox=\"0 0 24 24\"\n",
              "     width=\"24px\">\n",
              "    <g>\n",
              "        <path d=\"M19 3H5c-1.1 0-2 .9-2 2v14c0 1.1.9 2 2 2h14c1.1 0 2-.9 2-2V5c0-1.1-.9-2-2-2zM9 17H7v-7h2v7zm4 0h-2V7h2v10zm4 0h-2v-4h2v4z\"/>\n",
              "    </g>\n",
              "</svg>\n",
              "  </button>\n",
              "\n",
              "<style>\n",
              "  .colab-df-quickchart {\n",
              "      --bg-color: #E8F0FE;\n",
              "      --fill-color: #1967D2;\n",
              "      --hover-bg-color: #E2EBFA;\n",
              "      --hover-fill-color: #174EA6;\n",
              "      --disabled-fill-color: #AAA;\n",
              "      --disabled-bg-color: #DDD;\n",
              "  }\n",
              "\n",
              "  [theme=dark] .colab-df-quickchart {\n",
              "      --bg-color: #3B4455;\n",
              "      --fill-color: #D2E3FC;\n",
              "      --hover-bg-color: #434B5C;\n",
              "      --hover-fill-color: #FFFFFF;\n",
              "      --disabled-bg-color: #3B4455;\n",
              "      --disabled-fill-color: #666;\n",
              "  }\n",
              "\n",
              "  .colab-df-quickchart {\n",
              "    background-color: var(--bg-color);\n",
              "    border: none;\n",
              "    border-radius: 50%;\n",
              "    cursor: pointer;\n",
              "    display: none;\n",
              "    fill: var(--fill-color);\n",
              "    height: 32px;\n",
              "    padding: 0;\n",
              "    width: 32px;\n",
              "  }\n",
              "\n",
              "  .colab-df-quickchart:hover {\n",
              "    background-color: var(--hover-bg-color);\n",
              "    box-shadow: 0 1px 2px rgba(60, 64, 67, 0.3), 0 1px 3px 1px rgba(60, 64, 67, 0.15);\n",
              "    fill: var(--button-hover-fill-color);\n",
              "  }\n",
              "\n",
              "  .colab-df-quickchart-complete:disabled,\n",
              "  .colab-df-quickchart-complete:disabled:hover {\n",
              "    background-color: var(--disabled-bg-color);\n",
              "    fill: var(--disabled-fill-color);\n",
              "    box-shadow: none;\n",
              "  }\n",
              "\n",
              "  .colab-df-spinner {\n",
              "    border: 2px solid var(--fill-color);\n",
              "    border-color: transparent;\n",
              "    border-bottom-color: var(--fill-color);\n",
              "    animation:\n",
              "      spin 1s steps(1) infinite;\n",
              "  }\n",
              "\n",
              "  @keyframes spin {\n",
              "    0% {\n",
              "      border-color: transparent;\n",
              "      border-bottom-color: var(--fill-color);\n",
              "      border-left-color: var(--fill-color);\n",
              "    }\n",
              "    20% {\n",
              "      border-color: transparent;\n",
              "      border-left-color: var(--fill-color);\n",
              "      border-top-color: var(--fill-color);\n",
              "    }\n",
              "    30% {\n",
              "      border-color: transparent;\n",
              "      border-left-color: var(--fill-color);\n",
              "      border-top-color: var(--fill-color);\n",
              "      border-right-color: var(--fill-color);\n",
              "    }\n",
              "    40% {\n",
              "      border-color: transparent;\n",
              "      border-right-color: var(--fill-color);\n",
              "      border-top-color: var(--fill-color);\n",
              "    }\n",
              "    60% {\n",
              "      border-color: transparent;\n",
              "      border-right-color: var(--fill-color);\n",
              "    }\n",
              "    80% {\n",
              "      border-color: transparent;\n",
              "      border-right-color: var(--fill-color);\n",
              "      border-bottom-color: var(--fill-color);\n",
              "    }\n",
              "    90% {\n",
              "      border-color: transparent;\n",
              "      border-bottom-color: var(--fill-color);\n",
              "    }\n",
              "  }\n",
              "</style>\n",
              "\n",
              "  <script>\n",
              "    async function quickchart(key) {\n",
              "      const quickchartButtonEl =\n",
              "        document.querySelector('#' + key + ' button');\n",
              "      quickchartButtonEl.disabled = true;  // To prevent multiple clicks.\n",
              "      quickchartButtonEl.classList.add('colab-df-spinner');\n",
              "      try {\n",
              "        const charts = await google.colab.kernel.invokeFunction(\n",
              "            'suggestCharts', [key], {});\n",
              "      } catch (error) {\n",
              "        console.error('Error during call to suggestCharts:', error);\n",
              "      }\n",
              "      quickchartButtonEl.classList.remove('colab-df-spinner');\n",
              "      quickchartButtonEl.classList.add('colab-df-quickchart-complete');\n",
              "    }\n",
              "    (() => {\n",
              "      let quickchartButtonEl =\n",
              "        document.querySelector('#df-9e67198e-cf8e-48ea-9fdd-a4e545ccf29d button');\n",
              "      quickchartButtonEl.style.display =\n",
              "        google.colab.kernel.accessAllowed ? 'block' : 'none';\n",
              "    })();\n",
              "  </script>\n",
              "</div>\n",
              "\n",
              "  <div id=\"id_799e2baa-c843-44af-ba64-8a918314c864\">\n",
              "    <style>\n",
              "      .colab-df-generate {\n",
              "        background-color: #E8F0FE;\n",
              "        border: none;\n",
              "        border-radius: 50%;\n",
              "        cursor: pointer;\n",
              "        display: none;\n",
              "        fill: #1967D2;\n",
              "        height: 32px;\n",
              "        padding: 0 0 0 0;\n",
              "        width: 32px;\n",
              "      }\n",
              "\n",
              "      .colab-df-generate:hover {\n",
              "        background-color: #E2EBFA;\n",
              "        box-shadow: 0px 1px 2px rgba(60, 64, 67, 0.3), 0px 1px 3px 1px rgba(60, 64, 67, 0.15);\n",
              "        fill: #174EA6;\n",
              "      }\n",
              "\n",
              "      [theme=dark] .colab-df-generate {\n",
              "        background-color: #3B4455;\n",
              "        fill: #D2E3FC;\n",
              "      }\n",
              "\n",
              "      [theme=dark] .colab-df-generate:hover {\n",
              "        background-color: #434B5C;\n",
              "        box-shadow: 0px 1px 3px 1px rgba(0, 0, 0, 0.15);\n",
              "        filter: drop-shadow(0px 1px 2px rgba(0, 0, 0, 0.3));\n",
              "        fill: #FFFFFF;\n",
              "      }\n",
              "    </style>\n",
              "    <button class=\"colab-df-generate\" onclick=\"generateWithVariable('X')\"\n",
              "            title=\"Generate code using this dataframe.\"\n",
              "            style=\"display:none;\">\n",
              "\n",
              "  <svg xmlns=\"http://www.w3.org/2000/svg\" height=\"24px\"viewBox=\"0 0 24 24\"\n",
              "       width=\"24px\">\n",
              "    <path d=\"M7,19H8.4L18.45,9,17,7.55,7,17.6ZM5,21V16.75L18.45,3.32a2,2,0,0,1,2.83,0l1.4,1.43a1.91,1.91,0,0,1,.58,1.4,1.91,1.91,0,0,1-.58,1.4L9.25,21ZM18.45,9,17,7.55Zm-12,3A5.31,5.31,0,0,0,4.9,8.1,5.31,5.31,0,0,0,1,6.5,5.31,5.31,0,0,0,4.9,4.9,5.31,5.31,0,0,0,6.5,1,5.31,5.31,0,0,0,8.1,4.9,5.31,5.31,0,0,0,12,6.5,5.46,5.46,0,0,0,6.5,12Z\"/>\n",
              "  </svg>\n",
              "    </button>\n",
              "    <script>\n",
              "      (() => {\n",
              "      const buttonEl =\n",
              "        document.querySelector('#id_799e2baa-c843-44af-ba64-8a918314c864 button.colab-df-generate');\n",
              "      buttonEl.style.display =\n",
              "        google.colab.kernel.accessAllowed ? 'block' : 'none';\n",
              "\n",
              "      buttonEl.onclick = () => {\n",
              "        google.colab.notebook.generateWithVariable('X');\n",
              "      }\n",
              "      })();\n",
              "    </script>\n",
              "  </div>\n",
              "\n",
              "    </div>\n",
              "  </div>\n"
            ]
          },
          "metadata": {},
          "execution_count": 299
        }
      ]
    },
    {
      "cell_type": "code",
      "source": [
        "X_train, X_test, y_train, y_test = train_test_split(\n",
        "    X,\n",
        "    y,\n",
        "    train_size = 0.2,\n",
        "    random_state=12354,\n",
        "    shuffle=True,\n",
        "    stratify=y\n",
        ")"
      ],
      "metadata": {
        "id": "Y29uQzBP-W9c"
      },
      "execution_count": 300,
      "outputs": []
    },
    {
      "cell_type": "markdown",
      "source": [
        "# **Prepoda**\n",
        "---"
      ],
      "metadata": {
        "id": "I8D9qjP1JIqg"
      }
    },
    {
      "cell_type": "code",
      "source": [
        "model = DecisionTreeClassifier(random_state=12354)"
      ],
      "metadata": {
        "id": "geLYNKAnMUoT"
      },
      "execution_count": 301,
      "outputs": []
    },
    {
      "cell_type": "code",
      "source": [
        "score_recall = metrics.make_scorer(\n",
        "    metrics.recall_score,\n",
        "    labels = [1,2,3,4,5],\n",
        "    average = 'micro'\n",
        ")"
      ],
      "metadata": {
        "id": "mY2iViShQSBg"
      },
      "execution_count": 302,
      "outputs": []
    },
    {
      "cell_type": "code",
      "source": [
        "param_grid = {\n",
        "    'criterion': ['gini', 'entropy', 'log_loss'],\n",
        "    \"max_depth\": list(range(2, 20)),\n",
        "    'min_samples_split': list(range(2, 10)),\n",
        "}\n",
        "\n",
        "\n",
        "grid = GridSearchCV(\n",
        "    estimator=model,\n",
        "    param_grid=param_grid,\n",
        "    refit=True,\n",
        "    return_train_score=True,\n",
        "    scoring = score_recall,\n",
        "    cv=10\n",
        ")"
      ],
      "metadata": {
        "id": "Lbx9hyXaJH-4"
      },
      "execution_count": 303,
      "outputs": []
    },
    {
      "cell_type": "code",
      "source": [
        "grid.fit(X_train, y_train)"
      ],
      "metadata": {
        "colab": {
          "base_uri": "https://localhost:8080/",
          "height": 117
        },
        "id": "BB1_niBvM16M",
        "outputId": "ac8c2a40-f810-4ee5-8b93-227cabd0cc0c"
      },
      "execution_count": 304,
      "outputs": [
        {
          "output_type": "execute_result",
          "data": {
            "text/plain": [
              "GridSearchCV(cv=10, estimator=DecisionTreeClassifier(random_state=12354),\n",
              "             param_grid={'criterion': ['gini', 'entropy', 'log_loss'],\n",
              "                         'max_depth': [2, 3, 4, 5, 6, 7, 8, 9, 10, 11, 12, 13,\n",
              "                                       14, 15, 16, 17, 18, 19],\n",
              "                         'min_samples_split': [2, 3, 4, 5, 6, 7, 8, 9]},\n",
              "             return_train_score=True,\n",
              "             scoring=make_scorer(recall_score, labels=[1, 2, 3, 4, 5], average=micro))"
            ],
            "text/html": [
              "<style>#sk-container-id-25 {color: black;background-color: white;}#sk-container-id-25 pre{padding: 0;}#sk-container-id-25 div.sk-toggleable {background-color: white;}#sk-container-id-25 label.sk-toggleable__label {cursor: pointer;display: block;width: 100%;margin-bottom: 0;padding: 0.3em;box-sizing: border-box;text-align: center;}#sk-container-id-25 label.sk-toggleable__label-arrow:before {content: \"▸\";float: left;margin-right: 0.25em;color: #696969;}#sk-container-id-25 label.sk-toggleable__label-arrow:hover:before {color: black;}#sk-container-id-25 div.sk-estimator:hover label.sk-toggleable__label-arrow:before {color: black;}#sk-container-id-25 div.sk-toggleable__content {max-height: 0;max-width: 0;overflow: hidden;text-align: left;background-color: #f0f8ff;}#sk-container-id-25 div.sk-toggleable__content pre {margin: 0.2em;color: black;border-radius: 0.25em;background-color: #f0f8ff;}#sk-container-id-25 input.sk-toggleable__control:checked~div.sk-toggleable__content {max-height: 200px;max-width: 100%;overflow: auto;}#sk-container-id-25 input.sk-toggleable__control:checked~label.sk-toggleable__label-arrow:before {content: \"▾\";}#sk-container-id-25 div.sk-estimator input.sk-toggleable__control:checked~label.sk-toggleable__label {background-color: #d4ebff;}#sk-container-id-25 div.sk-label input.sk-toggleable__control:checked~label.sk-toggleable__label {background-color: #d4ebff;}#sk-container-id-25 input.sk-hidden--visually {border: 0;clip: rect(1px 1px 1px 1px);clip: rect(1px, 1px, 1px, 1px);height: 1px;margin: -1px;overflow: hidden;padding: 0;position: absolute;width: 1px;}#sk-container-id-25 div.sk-estimator {font-family: monospace;background-color: #f0f8ff;border: 1px dotted black;border-radius: 0.25em;box-sizing: border-box;margin-bottom: 0.5em;}#sk-container-id-25 div.sk-estimator:hover {background-color: #d4ebff;}#sk-container-id-25 div.sk-parallel-item::after {content: \"\";width: 100%;border-bottom: 1px solid gray;flex-grow: 1;}#sk-container-id-25 div.sk-label:hover label.sk-toggleable__label {background-color: #d4ebff;}#sk-container-id-25 div.sk-serial::before {content: \"\";position: absolute;border-left: 1px solid gray;box-sizing: border-box;top: 0;bottom: 0;left: 50%;z-index: 0;}#sk-container-id-25 div.sk-serial {display: flex;flex-direction: column;align-items: center;background-color: white;padding-right: 0.2em;padding-left: 0.2em;position: relative;}#sk-container-id-25 div.sk-item {position: relative;z-index: 1;}#sk-container-id-25 div.sk-parallel {display: flex;align-items: stretch;justify-content: center;background-color: white;position: relative;}#sk-container-id-25 div.sk-item::before, #sk-container-id-25 div.sk-parallel-item::before {content: \"\";position: absolute;border-left: 1px solid gray;box-sizing: border-box;top: 0;bottom: 0;left: 50%;z-index: -1;}#sk-container-id-25 div.sk-parallel-item {display: flex;flex-direction: column;z-index: 1;position: relative;background-color: white;}#sk-container-id-25 div.sk-parallel-item:first-child::after {align-self: flex-end;width: 50%;}#sk-container-id-25 div.sk-parallel-item:last-child::after {align-self: flex-start;width: 50%;}#sk-container-id-25 div.sk-parallel-item:only-child::after {width: 0;}#sk-container-id-25 div.sk-dashed-wrapped {border: 1px dashed gray;margin: 0 0.4em 0.5em 0.4em;box-sizing: border-box;padding-bottom: 0.4em;background-color: white;}#sk-container-id-25 div.sk-label label {font-family: monospace;font-weight: bold;display: inline-block;line-height: 1.2em;}#sk-container-id-25 div.sk-label-container {text-align: center;}#sk-container-id-25 div.sk-container {/* jupyter's `normalize.less` sets `[hidden] { display: none; }` but bootstrap.min.css set `[hidden] { display: none !important; }` so we also need the `!important` here to be able to override the default hidden behavior on the sphinx rendered scikit-learn.org. See: https://github.com/scikit-learn/scikit-learn/issues/21755 */display: inline-block !important;position: relative;}#sk-container-id-25 div.sk-text-repr-fallback {display: none;}</style><div id=\"sk-container-id-25\" class=\"sk-top-container\"><div class=\"sk-text-repr-fallback\"><pre>GridSearchCV(cv=10, estimator=DecisionTreeClassifier(random_state=12354),\n",
              "             param_grid={&#x27;criterion&#x27;: [&#x27;gini&#x27;, &#x27;entropy&#x27;, &#x27;log_loss&#x27;],\n",
              "                         &#x27;max_depth&#x27;: [2, 3, 4, 5, 6, 7, 8, 9, 10, 11, 12, 13,\n",
              "                                       14, 15, 16, 17, 18, 19],\n",
              "                         &#x27;min_samples_split&#x27;: [2, 3, 4, 5, 6, 7, 8, 9]},\n",
              "             return_train_score=True,\n",
              "             scoring=make_scorer(recall_score, labels=[1, 2, 3, 4, 5], average=micro))</pre><b>In a Jupyter environment, please rerun this cell to show the HTML representation or trust the notebook. <br />On GitHub, the HTML representation is unable to render, please try loading this page with nbviewer.org.</b></div><div class=\"sk-container\" hidden><div class=\"sk-item sk-dashed-wrapped\"><div class=\"sk-label-container\"><div class=\"sk-label sk-toggleable\"><input class=\"sk-toggleable__control sk-hidden--visually\" id=\"sk-estimator-id-53\" type=\"checkbox\" ><label for=\"sk-estimator-id-53\" class=\"sk-toggleable__label sk-toggleable__label-arrow\">GridSearchCV</label><div class=\"sk-toggleable__content\"><pre>GridSearchCV(cv=10, estimator=DecisionTreeClassifier(random_state=12354),\n",
              "             param_grid={&#x27;criterion&#x27;: [&#x27;gini&#x27;, &#x27;entropy&#x27;, &#x27;log_loss&#x27;],\n",
              "                         &#x27;max_depth&#x27;: [2, 3, 4, 5, 6, 7, 8, 9, 10, 11, 12, 13,\n",
              "                                       14, 15, 16, 17, 18, 19],\n",
              "                         &#x27;min_samples_split&#x27;: [2, 3, 4, 5, 6, 7, 8, 9]},\n",
              "             return_train_score=True,\n",
              "             scoring=make_scorer(recall_score, labels=[1, 2, 3, 4, 5], average=micro))</pre></div></div></div><div class=\"sk-parallel\"><div class=\"sk-parallel-item\"><div class=\"sk-item\"><div class=\"sk-label-container\"><div class=\"sk-label sk-toggleable\"><input class=\"sk-toggleable__control sk-hidden--visually\" id=\"sk-estimator-id-54\" type=\"checkbox\" ><label for=\"sk-estimator-id-54\" class=\"sk-toggleable__label sk-toggleable__label-arrow\">estimator: DecisionTreeClassifier</label><div class=\"sk-toggleable__content\"><pre>DecisionTreeClassifier(random_state=12354)</pre></div></div></div><div class=\"sk-serial\"><div class=\"sk-item\"><div class=\"sk-estimator sk-toggleable\"><input class=\"sk-toggleable__control sk-hidden--visually\" id=\"sk-estimator-id-55\" type=\"checkbox\" ><label for=\"sk-estimator-id-55\" class=\"sk-toggleable__label sk-toggleable__label-arrow\">DecisionTreeClassifier</label><div class=\"sk-toggleable__content\"><pre>DecisionTreeClassifier(random_state=12354)</pre></div></div></div></div></div></div></div></div></div></div>"
            ]
          },
          "metadata": {},
          "execution_count": 304
        }
      ]
    },
    {
      "cell_type": "code",
      "source": [
        "print('Mejor: %f usando %s' % (grid.best_score_, grid.best_params_))"
      ],
      "metadata": {
        "colab": {
          "base_uri": "https://localhost:8080/"
        },
        "id": "2XKBWx5tM7oo",
        "outputId": "521ad834-3879-494a-d3dc-d3179dd8f176"
      },
      "execution_count": 305,
      "outputs": [
        {
          "output_type": "stream",
          "name": "stdout",
          "text": [
            "Mejor: 0.930004 usando {'criterion': 'entropy', 'max_depth': 9, 'min_samples_split': 2}\n"
          ]
        }
      ]
    },
    {
      "cell_type": "code",
      "source": [
        "model_final = grid.best_estimator_\n",
        "model_final.get_params()"
      ],
      "metadata": {
        "id": "pTCsyVyQSI5t",
        "outputId": "280fb03e-53cd-446a-8e8f-a688dc601085",
        "colab": {
          "base_uri": "https://localhost:8080/"
        }
      },
      "execution_count": 306,
      "outputs": [
        {
          "output_type": "execute_result",
          "data": {
            "text/plain": [
              "{'ccp_alpha': 0.0,\n",
              " 'class_weight': None,\n",
              " 'criterion': 'entropy',\n",
              " 'max_depth': 9,\n",
              " 'max_features': None,\n",
              " 'max_leaf_nodes': None,\n",
              " 'min_impurity_decrease': 0.0,\n",
              " 'min_samples_leaf': 1,\n",
              " 'min_samples_split': 2,\n",
              " 'min_weight_fraction_leaf': 0.0,\n",
              " 'random_state': 12354,\n",
              " 'splitter': 'best'}"
            ]
          },
          "metadata": {},
          "execution_count": 306
        }
      ]
    },
    {
      "cell_type": "code",
      "source": [
        "tree.plot_tree(model_final)\n",
        "plt.show()"
      ],
      "metadata": {
        "id": "0ns7S3ZXogQB",
        "outputId": "eff3f3c2-3c02-40a2-a0a5-60188f12d483",
        "colab": {
          "base_uri": "https://localhost:8080/",
          "height": 406
        }
      },
      "execution_count": 307,
      "outputs": [
        {
          "output_type": "display_data",
          "data": {
            "text/plain": [
              "<Figure size 640x480 with 1 Axes>"
            ],
            "image/png": "[encoded data removed]"
          },
          "metadata": {}
        }
      ]
    },
    {
      "cell_type": "code",
      "source": [
        "with open(\"./data/miner.dot\", \"w\") as dotfile:\n",
        "  tree.export_graphviz(model_final, out_file=dotfile, feature_names=X.columns)\n",
        "  dotfile.close()"
      ],
      "metadata": {
        "id": "sV6Hqqjva9J5"
      },
      "execution_count": 308,
      "outputs": []
    },
    {
      "cell_type": "code",
      "source": [
        "!pip install graphviz"
      ],
      "metadata": {
        "id": "7TYoPkfTcWnD",
        "outputId": "9dca4734-5cf3-486b-889d-d6ea5396703f",
        "colab": {
          "base_uri": "https://localhost:8080/"
        }
      },
      "execution_count": 309,
      "outputs": [
        {
          "output_type": "stream",
          "name": "stdout",
          "text": [
            "Requirement already satisfied: graphviz in /usr/local/lib/python3.10/dist-packages (0.20.1)\n"
          ]
        }
      ]
    },
    {
      "cell_type": "code",
      "source": [
        "import os\n",
        "from graphviz import Source"
      ],
      "metadata": {
        "id": "Dpt_9-9wcLCf"
      },
      "execution_count": 310,
      "outputs": []
    },
    {
      "cell_type": "code",
      "source": [
        "file_dot = open(\"./data/miner.dot\", \"r\")\n",
        "text = file_dot.read()\n",
        "text"
      ],
      "metadata": {
        "id": "Pv2GOgRtcggb",
        "outputId": "d2b3f3d8-cd9e-4e52-f0a9-5739a2c6aed9",
        "colab": {
          "base_uri": "https://localhost:8080/",
          "height": 105
        }
      },
      "execution_count": 311,
      "outputs": [
        {
          "output_type": "execute_result",
          "data": {
            "text/plain": [
              "'digraph Tree {\\nnode [shape=box, fontname=\"helvetica\"] ;\\nedge [fontname=\"helvetica\"] ;\\n0 [label=\"Avg_bpp <= 185.5\\\\nentropy = 2.352\\\\nsamples = 567\\\\nvalue = [139, 97, 49, 190, 39, 53]\"] ;\\n1 [label=\"p2_ib <= 239.5\\\\nentropy = 1.271\\\\nsamples = 291\\\\nvalue = [63, 0, 0, 189, 39, 0]\"] ;\\n0 -> 1 [labeldistance=2.5, labelangle=45, headlabel=\"True\"] ;\\n2 [label=\"entropy = 0.0\\\\nsamples = 63\\\\nvalue = [63, 0, 0, 0, 0, 0]\"] ;\\n1 -> 2 ;\\n3 [label=\"Avg_bpp <= 131.5\\\\nentropy = 0.66\\\\nsamples = 228\\\\nvalue = [0, 0, 0, 189, 39, 0]\"] ;\\n1 -> 3 ;\\n4 [label=\"Avg_bpp <= 70.5\\\\nentropy = 0.494\\\\nsamples = 37\\\\nvalue = [0, 0, 0, 4, 33, 0]\"] ;\\n3 -> 4 ;\\n5 [label=\"entropy = 0.0\\\\nsamples = 3\\\\nvalue = [0, 0, 0, 3, 0, 0]\"] ;\\n4 -> 5 ;\\n6 [label=\"p1_d <= 106.839\\\\nentropy = 0.191\\\\nsamples = 34\\\\nvalue = [0, 0, 0, 1, 33, 0]\"] ;\\n4 -> 6 ;\\n7 [label=\"entropy = 0.0\\\\nsamples = 1\\\\nvalue = [0, 0, 0, 1, 0, 0]\"] ;\\n6 -> 7 ;\\n8 [label=\"entropy = 0.0\\\\nsamples = 33\\\\nvalue = [0, 0, 0, 0, 33, 0]\"] ;\\n6 -> 8 ;\\n9 [label=\"p3_ip <= 20.125\\\\nentropy = 0.201\\\\nsamples = 191\\\\nvalue = [0, 0, 0, 185, 6, 0]\"] ;\\n3 -> 9 ;\\n10 [label=\"p2_d <= 123.768\\\\nentropy = 0.523\\\\nsamples = 51\\\\nvalue = [0, 0, 0, 45, 6, 0]\"] ;\\n9 -> 10 ;\\n11 [label=\"entropy = 0.0\\\\nsamples = 45\\\\nvalue = [0, 0, 0, 45, 0, 0]\"] ;\\n10 -> 11 ;\\n12 [label=\"entropy = 0.0\\\\nsamples = 6\\\\nvalue = [0, 0, 0, 0, 6, 0]\"] ;\\n10 -> 12 ;\\n13 [label=\"entropy = 0.0\\\\nsamples = 140\\\\nvalue = [0, 0, 0, 140, 0, 0]\"] ;\\n9 -> 13 ;\\n14 [label=\"min_d <= 3.058\\\\nentropy = 1.972\\\\nsamples = 276\\\\nvalue = [76, 97, 49, 1, 0, 53]\"] ;\\n0 -> 14 [labeldistance=2.5, labelangle=-45, headlabel=\"False\"] ;\\n15 [label=\"Avg_bpp <= 671.0\\\\nentropy = 0.631\\\\nsamples = 86\\\\nvalue = [76, 4, 6, 0, 0, 0]\"] ;\\n14 -> 15 ;\\n16 [label=\"Avg_bpp <= 458.0\\\\nentropy = 1.549\\\\nsamples = 17\\\\nvalue = [7, 4, 6, 0, 0, 0]\"] ;\\n15 -> 16 ;\\n17 [label=\"Avg_bpp <= 257.5\\\\nentropy = 0.592\\\\nsamples = 7\\\\nvalue = [1, 0, 6, 0, 0, 0]\"] ;\\n16 -> 17 ;\\n18 [label=\"entropy = 0.0\\\\nsamples = 1\\\\nvalue = [1, 0, 0, 0, 0, 0]\"] ;\\n17 -> 18 ;\\n19 [label=\"entropy = 0.0\\\\nsamples = 6\\\\nvalue = [0, 0, 6, 0, 0, 0]\"] ;\\n17 -> 19 ;\\n20 [label=\"p2_ib <= 646.25\\\\nentropy = 0.971\\\\nsamples = 10\\\\nvalue = [6, 4, 0, 0, 0, 0]\"] ;\\n16 -> 20 ;\\n21 [label=\"entropy = 0.0\\\\nsamples = 5\\\\nvalue = [5, 0, 0, 0, 0, 0]\"] ;\\n20 -> 21 ;\\n22 [label=\"p1_d <= 0.75\\\\nentropy = 0.722\\\\nsamples = 5\\\\nvalue = [1, 4, 0, 0, 0, 0]\"] ;\\n20 -> 22 ;\\n23 [label=\"entropy = 0.0\\\\nsamples = 1\\\\nvalue = [1, 0, 0, 0, 0, 0]\"] ;\\n22 -> 23 ;\\n24 [label=\"entropy = 0.0\\\\nsamples = 4\\\\nvalue = [0, 4, 0, 0, 0, 0]\"] ;\\n22 -> 24 ;\\n25 [label=\"entropy = 0.0\\\\nsamples = 69\\\\nvalue = [69, 0, 0, 0, 0, 0]\"] ;\\n15 -> 25 ;\\n26 [label=\"p2_d <= 246.212\\\\nentropy = 1.543\\\\nsamples = 190\\\\nvalue = [0, 93, 43, 1, 0, 53]\"] ;\\n14 -> 26 ;\\n27 [label=\"p3_ip <= 13.625\\\\nentropy = 0.924\\\\nsamples = 57\\\\nvalue = [0, 14, 42, 0, 0, 1]\"] ;\\n26 -> 27 ;\\n28 [label=\"Avg_bpp <= 419.5\\\\nentropy = 1.086\\\\nsamples = 17\\\\nvalue = [0, 12, 4, 0, 0, 1]\"] ;\\n27 -> 28 ;\\n29 [label=\"p2_ip <= 9.0\\\\nentropy = 1.379\\\\nsamples = 7\\\\nvalue = [0, 2, 4, 0, 0, 1]\"] ;\\n28 -> 29 ;\\n30 [label=\"p2_ip <= 3.5\\\\nentropy = 0.722\\\\nsamples = 5\\\\nvalue = [0, 0, 4, 0, 0, 1]\"] ;\\n29 -> 30 ;\\n31 [label=\"entropy = 0.0\\\\nsamples = 1\\\\nvalue = [0, 0, 0, 0, 0, 1]\"] ;\\n30 -> 31 ;\\n32 [label=\"entropy = 0.0\\\\nsamples = 4\\\\nvalue = [0, 0, 4, 0, 0, 0]\"] ;\\n30 -> 32 ;\\n33 [label=\"entropy = 0.0\\\\nsamples = 2\\\\nvalue = [0, 2, 0, 0, 0, 0]\"] ;\\n29 -> 33 ;\\n34 [label=\"entropy = 0.0\\\\nsamples = 10\\\\nvalue = [0, 10, 0, 0, 0, 0]\"] ;\\n28 -> 34 ;\\n35 [label=\"p3_ip <= 17.875\\\\nentropy = 0.286\\\\nsamples = 40\\\\nvalue = [0, 2, 38, 0, 0, 0]\"] ;\\n27 -> 35 ;\\n36 [label=\"p3_d <= 243.483\\\\nentropy = 0.684\\\\nsamples = 11\\\\nvalue = [0, 2, 9, 0, 0, 0]\"] ;\\n35 -> 36 ;\\n37 [label=\"entropy = 0.0\\\\nsamples = 2\\\\nvalue = [0, 2, 0, 0, 0, 0]\"] ;\\n36 -> 37 ;\\n38 [label=\"entropy = 0.0\\\\nsamples = 9\\\\nvalue = [0, 0, 9, 0, 0, 0]\"] ;\\n36 -> 38 ;\\n39 [label=\"entropy = 0.0\\\\nsamples = 29\\\\nvalue = [0, 0, 29, 0, 0, 0]\"] ;\\n35 -> 39 ;\\n40 [label=\"Avg_bpp <= 374.0\\\\nentropy = 1.082\\\\nsamples = 133\\\\nvalue = [0, 79, 1, 1, 0, 52]\"] ;\\n26 -> 40 ;\\n41 [label=\"p3_ip <= 114.875\\\\nentropy = 0.667\\\\nsamples = 44\\\\nvalue = [0, 3, 1, 1, 0, 39]\"] ;\\n40 -> 41 ;\\n42 [label=\"p2_d <= 268.984\\\\nentropy = 0.522\\\\nsamples = 43\\\\nvalue = [0, 3, 1, 0, 0, 39]\"] ;\\n41 -> 42 ;\\n43 [label=\"p2_ip <= 20.5\\\\nentropy = 1.585\\\\nsamples = 3\\\\nvalue = [0, 1, 1, 0, 0, 1]\"] ;\\n42 -> 43 ;\\n44 [label=\"entropy = 0.0\\\\nsamples = 1\\\\nvalue = [0, 0, 1, 0, 0, 0]\"] ;\\n43 -> 44 ;\\n45 [label=\"p2_ib <= 6809.5\\\\nentropy = 1.0\\\\nsamples = 2\\\\nvalue = [0, 1, 0, 0, 0, 1]\"] ;\\n43 -> 45 ;\\n46 [label=\"entropy = 0.0\\\\nsamples = 1\\\\nvalue = [0, 1, 0, 0, 0, 0]\"] ;\\n45 -> 46 ;\\n47 [label=\"entropy = 0.0\\\\nsamples = 1\\\\nvalue = [0, 0, 0, 0, 0, 1]\"] ;\\n45 -> 47 ;\\n48 [label=\"Avg_bpp <= 344.5\\\\nentropy = 0.286\\\\nsamples = 40\\\\nvalue = [0, 2, 0, 0, 0, 38]\"] ;\\n42 -> 48 ;\\n49 [label=\"entropy = 0.0\\\\nsamples = 26\\\\nvalue = [0, 0, 0, 0, 0, 26]\"] ;\\n48 -> 49 ;\\n50 [label=\"p2_ib <= 10505.25\\\\nentropy = 0.592\\\\nsamples = 14\\\\nvalue = [0, 2, 0, 0, 0, 12]\"] ;\\n48 -> 50 ;\\n51 [label=\"p2_d <= 421.04\\\\nentropy = 0.971\\\\nsamples = 5\\\\nvalue = [0, 2, 0, 0, 0, 3]\"] ;\\n50 -> 51 ;\\n52 [label=\"entropy = 0.0\\\\nsamples = 3\\\\nvalue = [0, 0, 0, 0, 0, 3]\"] ;\\n51 -> 52 ;\\n53 [label=\"entropy = 0.0\\\\nsamples = 2\\\\nvalue = [0, 2, 0, 0, 0, 0]\"] ;\\n51 -> 53 ;\\n54 [label=\"entropy = 0.0\\\\nsamples = 9\\\\nvalue = [0, 0, 0, 0, 0, 9]\"] ;\\n50 -> 54 ;\\n55 [label=\"entropy = 0.0\\\\nsamples = 1\\\\nvalue = [0, 0, 0, 1, 0, 0]\"] ;\\n41 -> 55 ;\\n56 [label=\"p3_ip <= 38.0\\\\nentropy = 0.6\\\\nsamples = 89\\\\nvalue = [0, 76, 0, 0, 0, 13]\"] ;\\n40 -> 56 ;\\n57 [label=\"p3_d <= 290.44\\\\nentropy = 0.391\\\\nsamples = 78\\\\nvalue = [0, 72, 0, 0, 0, 6]\"] ;\\n56 -> 57 ;\\n58 [label=\"p3_ip <= 20.5\\\\nentropy = 0.619\\\\nsamples = 39\\\\nvalue = [0, 33, 0, 0, 0, 6]\"] ;\\n57 -> 58 ;\\n59 [label=\"Avg_bpp <= 429.5\\\\nentropy = 0.196\\\\nsamples = 33\\\\nvalue = [0, 32, 0, 0, 0, 1]\"] ;\\n58 -> 59 ;\\n60 [label=\"Avg_bpp <= 421.5\\\\nentropy = 0.469\\\\nsamples = 10\\\\nvalue = [0, 9, 0, 0, 0, 1]\"] ;\\n59 -> 60 ;\\n61 [label=\"entropy = 0.0\\\\nsamples = 9\\\\nvalue = [0, 9, 0, 0, 0, 0]\"] ;\\n60 -> 61 ;\\n62 [label=\"entropy = 0.0\\\\nsamples = 1\\\\nvalue = [0, 0, 0, 0, 0, 1]\"] ;\\n60 -> 62 ;\\n63 [label=\"entropy = 0.0\\\\nsamples = 23\\\\nvalue = [0, 23, 0, 0, 0, 0]\"] ;\\n59 -> 63 ;\\n64 [label=\"min_d <= 258.392\\\\nentropy = 0.65\\\\nsamples = 6\\\\nvalue = [0, 1, 0, 0, 0, 5]\"] ;\\n58 -> 64 ;\\n65 [label=\"entropy = 0.0\\\\nsamples = 1\\\\nvalue = [0, 1, 0, 0, 0, 0]\"] ;\\n64 -> 65 ;\\n66 [label=\"entropy = 0.0\\\\nsamples = 5\\\\nvalue = [0, 0, 0, 0, 0, 5]\"] ;\\n64 -> 66 ;\\n67 [label=\"entropy = 0.0\\\\nsamples = 39\\\\nvalue = [0, 39, 0, 0, 0, 0]\"] ;\\n57 -> 67 ;\\n68 [label=\"Avg_bpp <= 414.5\\\\nentropy = 0.946\\\\nsamples = 11\\\\nvalue = [0, 4, 0, 0, 0, 7]\"] ;\\n56 -> 68 ;\\n69 [label=\"entropy = 0.0\\\\nsamples = 6\\\\nvalue = [0, 0, 0, 0, 0, 6]\"] ;\\n68 -> 69 ;\\n70 [label=\"p1_ip <= 38.75\\\\nentropy = 0.722\\\\nsamples = 5\\\\nvalue = [0, 4, 0, 0, 0, 1]\"] ;\\n68 -> 70 ;\\n71 [label=\"entropy = 0.0\\\\nsamples = 1\\\\nvalue = [0, 0, 0, 0, 0, 1]\"] ;\\n70 -> 71 ;\\n72 [label=\"entropy = 0.0\\\\nsamples = 4\\\\nvalue = [0, 4, 0, 0, 0, 0]\"] ;\\n70 -> 72 ;\\n}'"
            ],
            "application/vnd.google.colaboratory.intrinsic+json": {
              "type": "string"
            }
          },
          "metadata": {},
          "execution_count": 311
        }
      ]
    },
    {
      "cell_type": "code",
      "source": [
        "Source(text)"
      ],
      "metadata": {
        "id": "xN8PB7npctfV",
        "outputId": "a2adfdb2-f131-42d7-d43b-f05c6eb166f0",
        "colab": {
          "base_uri": "https://localhost:8080/",
          "height": 1000
        }
      },
      "execution_count": 312,
      "outputs": [
        {
          "output_type": "execute_result",
          "data": {
            "image/svg+xml": "<?xml version=\"1.0\" encoding=\"UTF-8\" standalone=\"no\"?>\n<!DOCTYPE svg PUBLIC \"-//W3C//DTD SVG 1.1//EN\"\n \"http://www.w3.org/Graphics/SVG/1.1/DTD/svg11.dtd\">\n<!-- Generated by graphviz version 2.43.0 (0)\n -->\n<!-- Title: Tree Pages: 1 -->\n<svg width=\"3529pt\" height=\"997pt\"\n viewBox=\"0.00 0.00 3529.00 997.00\" xmlns=\"http://www.w3.org/2000/svg\" xmlns:xlink=\"http://www.w3.org/1999/xlink\">\n<g id=\"graph0\" class=\"graph\" transform=\"scale(1 1) rotate(0) translate(4 993)\">\n<title>Tree</title>\n<polygon fill=\"white\" stroke=\"transparent\" points=\"-4,4 -4,-993 3525,-993 3525,4 -4,4\"/>\n<!-- 0 -->\n<g id=\"node1\" class=\"node\">\n<title>0</title>\n<polygon fill=\"none\" stroke=\"black\" points=\"936,-989 721,-989 721,-921 936,-921 936,-989\"/>\n<text text-anchor=\"middle\" x=\"828.5\" y=\"-973.8\" font-family=\"Helvetica,sans-Serif\" font-size=\"14.00\">Avg_bpp &lt;= 185.5</text>\n<text text-anchor=\"middle\" x=\"828.5\" y=\"-958.8\" font-family=\"Helvetica,sans-Serif\" font-size=\"14.00\">entropy = 2.352</text>\n<text text-anchor=\"middle\" x=\"828.5\" y=\"-943.8\" font-family=\"Helvetica,sans-Serif\" font-size=\"14.00\">samples = 567</text>\n<text text-anchor=\"middle\" x=\"828.5\" y=\"-928.8\" font-family=\"Helvetica,sans-Serif\" font-size=\"14.00\">value = [139, 97, 49, 190, 39, 53]</text>\n</g>\n<!-- 1 -->\n<g id=\"node2\" class=\"node\">\n<title>1</title>\n<polygon fill=\"none\" stroke=\"black\" points=\"700,-885 515,-885 515,-817 700,-817 700,-885\"/>\n<text text-anchor=\"middle\" x=\"607.5\" y=\"-869.8\" font-family=\"Helvetica,sans-Serif\" font-size=\"14.00\">p2_ib &lt;= 239.5</text>\n<text text-anchor=\"middle\" x=\"607.5\" y=\"-854.8\" font-family=\"Helvetica,sans-Serif\" font-size=\"14.00\">entropy = 1.271</text>\n<text text-anchor=\"middle\" x=\"607.5\" y=\"-839.8\" font-family=\"Helvetica,sans-Serif\" font-size=\"14.00\">samples = 291</text>\n<text text-anchor=\"middle\" x=\"607.5\" y=\"-824.8\" font-family=\"Helvetica,sans-Serif\" font-size=\"14.00\">value = [63, 0, 0, 189, 39, 0]</text>\n</g>\n<!-- 0&#45;&gt;1 -->\n<g id=\"edge1\" class=\"edge\">\n<title>0&#45;&gt;1</title>\n<path fill=\"none\" stroke=\"black\" d=\"M756.75,-920.88C734.93,-910.81 710.79,-899.67 688.41,-889.34\"/>\n<polygon fill=\"black\" stroke=\"black\" points=\"689.82,-886.14 679.27,-885.12 686.88,-892.49 689.82,-886.14\"/>\n<text text-anchor=\"middle\" x=\"687.91\" y=\"-904.88\" font-family=\"Helvetica,sans-Serif\" font-size=\"14.00\">True</text>\n</g>\n<!-- 14 -->\n<g id=\"node15\" class=\"node\">\n<title>14</title>\n<polygon fill=\"none\" stroke=\"black\" points=\"1224,-885 1039,-885 1039,-817 1224,-817 1224,-885\"/>\n<text text-anchor=\"middle\" x=\"1131.5\" y=\"-869.8\" font-family=\"Helvetica,sans-Serif\" font-size=\"14.00\">min_d &lt;= 3.058</text>\n<text text-anchor=\"middle\" x=\"1131.5\" y=\"-854.8\" font-family=\"Helvetica,sans-Serif\" font-size=\"14.00\">entropy = 1.972</text>\n<text text-anchor=\"middle\" x=\"1131.5\" y=\"-839.8\" font-family=\"Helvetica,sans-Serif\" font-size=\"14.00\">samples = 276</text>\n<text text-anchor=\"middle\" x=\"1131.5\" y=\"-824.8\" font-family=\"Helvetica,sans-Serif\" font-size=\"14.00\">value = [76, 97, 49, 1, 0, 53]</text>\n</g>\n<!-- 0&#45;&gt;14 -->\n<g id=\"edge14\" class=\"edge\">\n<title>0&#45;&gt;14</title>\n<path fill=\"none\" stroke=\"black\" d=\"M926.88,-920.88C959.59,-909.87 996.09,-897.58 1029.1,-886.47\"/>\n<polygon fill=\"black\" stroke=\"black\" points=\"1030.4,-889.73 1038.76,-883.22 1028.17,-883.09 1030.4,-889.73\"/>\n<text text-anchor=\"middle\" x=\"1027.65\" y=\"-901.91\" font-family=\"Helvetica,sans-Serif\" font-size=\"14.00\">False</text>\n</g>\n<!-- 2 -->\n<g id=\"node3\" class=\"node\">\n<title>2</title>\n<polygon fill=\"none\" stroke=\"black\" points=\"500.5,-773.5 338.5,-773.5 338.5,-720.5 500.5,-720.5 500.5,-773.5\"/>\n<text text-anchor=\"middle\" x=\"419.5\" y=\"-758.3\" font-family=\"Helvetica,sans-Serif\" font-size=\"14.00\">entropy = 0.0</text>\n<text text-anchor=\"middle\" x=\"419.5\" y=\"-743.3\" font-family=\"Helvetica,sans-Serif\" font-size=\"14.00\">samples = 63</text>\n<text text-anchor=\"middle\" x=\"419.5\" y=\"-728.3\" font-family=\"Helvetica,sans-Serif\" font-size=\"14.00\">value = [63, 0, 0, 0, 0, 0]</text>\n</g>\n<!-- 1&#45;&gt;2 -->\n<g id=\"edge2\" class=\"edge\">\n<title>1&#45;&gt;2</title>\n<path fill=\"none\" stroke=\"black\" d=\"M546.46,-816.88C523.66,-804.51 497.89,-790.53 475.56,-778.41\"/>\n<polygon fill=\"black\" stroke=\"black\" points=\"477,-775.21 466.54,-773.52 473.66,-781.37 477,-775.21\"/>\n</g>\n<!-- 3 -->\n<g id=\"node4\" class=\"node\">\n<title>3</title>\n<polygon fill=\"none\" stroke=\"black\" points=\"696,-781 519,-781 519,-713 696,-713 696,-781\"/>\n<text text-anchor=\"middle\" x=\"607.5\" y=\"-765.8\" font-family=\"Helvetica,sans-Serif\" font-size=\"14.00\">Avg_bpp &lt;= 131.5</text>\n<text text-anchor=\"middle\" x=\"607.5\" y=\"-750.8\" font-family=\"Helvetica,sans-Serif\" font-size=\"14.00\">entropy = 0.66</text>\n<text text-anchor=\"middle\" x=\"607.5\" y=\"-735.8\" font-family=\"Helvetica,sans-Serif\" font-size=\"14.00\">samples = 228</text>\n<text text-anchor=\"middle\" x=\"607.5\" y=\"-720.8\" font-family=\"Helvetica,sans-Serif\" font-size=\"14.00\">value = [0, 0, 0, 189, 39, 0]</text>\n</g>\n<!-- 1&#45;&gt;3 -->\n<g id=\"edge3\" class=\"edge\">\n<title>1&#45;&gt;3</title>\n<path fill=\"none\" stroke=\"black\" d=\"M607.5,-816.88C607.5,-808.78 607.5,-799.98 607.5,-791.47\"/>\n<polygon fill=\"black\" stroke=\"black\" points=\"611,-791.3 607.5,-781.3 604,-791.3 611,-791.3\"/>\n</g>\n<!-- 4 -->\n<g id=\"node5\" class=\"node\">\n<title>4</title>\n<polygon fill=\"none\" stroke=\"black\" points=\"335.5,-677 173.5,-677 173.5,-609 335.5,-609 335.5,-677\"/>\n<text text-anchor=\"middle\" x=\"254.5\" y=\"-661.8\" font-family=\"Helvetica,sans-Serif\" font-size=\"14.00\">Avg_bpp &lt;= 70.5</text>\n<text text-anchor=\"middle\" x=\"254.5\" y=\"-646.8\" font-family=\"Helvetica,sans-Serif\" font-size=\"14.00\">entropy = 0.494</text>\n<text text-anchor=\"middle\" x=\"254.5\" y=\"-631.8\" font-family=\"Helvetica,sans-Serif\" font-size=\"14.00\">samples = 37</text>\n<text text-anchor=\"middle\" x=\"254.5\" y=\"-616.8\" font-family=\"Helvetica,sans-Serif\" font-size=\"14.00\">value = [0, 0, 0, 4, 33, 0]</text>\n</g>\n<!-- 3&#45;&gt;4 -->\n<g id=\"edge4\" class=\"edge\">\n<title>3&#45;&gt;4</title>\n<path fill=\"none\" stroke=\"black\" d=\"M518.9,-715.9C515.73,-714.91 512.59,-713.94 509.5,-713 455.4,-696.59 394.29,-679.99 345.45,-667.18\"/>\n<polygon fill=\"black\" stroke=\"black\" points=\"346.1,-663.73 335.54,-664.59 344.33,-670.5 346.1,-663.73\"/>\n</g>\n<!-- 9 -->\n<g id=\"node10\" class=\"node\">\n<title>9</title>\n<polygon fill=\"none\" stroke=\"black\" points=\"692.5,-677 522.5,-677 522.5,-609 692.5,-609 692.5,-677\"/>\n<text text-anchor=\"middle\" x=\"607.5\" y=\"-661.8\" font-family=\"Helvetica,sans-Serif\" font-size=\"14.00\">p3_ip &lt;= 20.125</text>\n<text text-anchor=\"middle\" x=\"607.5\" y=\"-646.8\" font-family=\"Helvetica,sans-Serif\" font-size=\"14.00\">entropy = 0.201</text>\n<text text-anchor=\"middle\" x=\"607.5\" y=\"-631.8\" font-family=\"Helvetica,sans-Serif\" font-size=\"14.00\">samples = 191</text>\n<text text-anchor=\"middle\" x=\"607.5\" y=\"-616.8\" font-family=\"Helvetica,sans-Serif\" font-size=\"14.00\">value = [0, 0, 0, 185, 6, 0]</text>\n</g>\n<!-- 3&#45;&gt;9 -->\n<g id=\"edge9\" class=\"edge\">\n<title>3&#45;&gt;9</title>\n<path fill=\"none\" stroke=\"black\" d=\"M607.5,-712.88C607.5,-704.78 607.5,-695.98 607.5,-687.47\"/>\n<polygon fill=\"black\" stroke=\"black\" points=\"611,-687.3 607.5,-677.3 604,-687.3 611,-687.3\"/>\n</g>\n<!-- 5 -->\n<g id=\"node6\" class=\"node\">\n<title>5</title>\n<polygon fill=\"none\" stroke=\"black\" points=\"155,-565.5 0,-565.5 0,-512.5 155,-512.5 155,-565.5\"/>\n<text text-anchor=\"middle\" x=\"77.5\" y=\"-550.3\" font-family=\"Helvetica,sans-Serif\" font-size=\"14.00\">entropy = 0.0</text>\n<text text-anchor=\"middle\" x=\"77.5\" y=\"-535.3\" font-family=\"Helvetica,sans-Serif\" font-size=\"14.00\">samples = 3</text>\n<text text-anchor=\"middle\" x=\"77.5\" y=\"-520.3\" font-family=\"Helvetica,sans-Serif\" font-size=\"14.00\">value = [0, 0, 0, 3, 0, 0]</text>\n</g>\n<!-- 4&#45;&gt;5 -->\n<g id=\"edge5\" class=\"edge\">\n<title>4&#45;&gt;5</title>\n<path fill=\"none\" stroke=\"black\" d=\"M197.03,-608.88C175.66,-596.57 151.52,-582.65 130.56,-570.57\"/>\n<polygon fill=\"black\" stroke=\"black\" points=\"132.2,-567.48 121.78,-565.52 128.7,-573.55 132.2,-567.48\"/>\n</g>\n<!-- 6 -->\n<g id=\"node7\" class=\"node\">\n<title>6</title>\n<polygon fill=\"none\" stroke=\"black\" points=\"335.5,-573 173.5,-573 173.5,-505 335.5,-505 335.5,-573\"/>\n<text text-anchor=\"middle\" x=\"254.5\" y=\"-557.8\" font-family=\"Helvetica,sans-Serif\" font-size=\"14.00\">p1_d &lt;= 106.839</text>\n<text text-anchor=\"middle\" x=\"254.5\" y=\"-542.8\" font-family=\"Helvetica,sans-Serif\" font-size=\"14.00\">entropy = 0.191</text>\n<text text-anchor=\"middle\" x=\"254.5\" y=\"-527.8\" font-family=\"Helvetica,sans-Serif\" font-size=\"14.00\">samples = 34</text>\n<text text-anchor=\"middle\" x=\"254.5\" y=\"-512.8\" font-family=\"Helvetica,sans-Serif\" font-size=\"14.00\">value = [0, 0, 0, 1, 33, 0]</text>\n</g>\n<!-- 4&#45;&gt;6 -->\n<g id=\"edge6\" class=\"edge\">\n<title>4&#45;&gt;6</title>\n<path fill=\"none\" stroke=\"black\" d=\"M254.5,-608.88C254.5,-600.78 254.5,-591.98 254.5,-583.47\"/>\n<polygon fill=\"black\" stroke=\"black\" points=\"258,-583.3 254.5,-573.3 251,-583.3 258,-583.3\"/>\n</g>\n<!-- 7 -->\n<g id=\"node8\" class=\"node\">\n<title>7</title>\n<polygon fill=\"none\" stroke=\"black\" points=\"155,-461.5 0,-461.5 0,-408.5 155,-408.5 155,-461.5\"/>\n<text text-anchor=\"middle\" x=\"77.5\" y=\"-446.3\" font-family=\"Helvetica,sans-Serif\" font-size=\"14.00\">entropy = 0.0</text>\n<text text-anchor=\"middle\" x=\"77.5\" y=\"-431.3\" font-family=\"Helvetica,sans-Serif\" font-size=\"14.00\">samples = 1</text>\n<text text-anchor=\"middle\" x=\"77.5\" y=\"-416.3\" font-family=\"Helvetica,sans-Serif\" font-size=\"14.00\">value = [0, 0, 0, 1, 0, 0]</text>\n</g>\n<!-- 6&#45;&gt;7 -->\n<g id=\"edge7\" class=\"edge\">\n<title>6&#45;&gt;7</title>\n<path fill=\"none\" stroke=\"black\" d=\"M197.03,-504.88C175.66,-492.57 151.52,-478.65 130.56,-466.57\"/>\n<polygon fill=\"black\" stroke=\"black\" points=\"132.2,-463.48 121.78,-461.52 128.7,-469.55 132.2,-463.48\"/>\n</g>\n<!-- 8 -->\n<g id=\"node9\" class=\"node\">\n<title>8</title>\n<polygon fill=\"none\" stroke=\"black\" points=\"335.5,-461.5 173.5,-461.5 173.5,-408.5 335.5,-408.5 335.5,-461.5\"/>\n<text text-anchor=\"middle\" x=\"254.5\" y=\"-446.3\" font-family=\"Helvetica,sans-Serif\" font-size=\"14.00\">entropy = 0.0</text>\n<text text-anchor=\"middle\" x=\"254.5\" y=\"-431.3\" font-family=\"Helvetica,sans-Serif\" font-size=\"14.00\">samples = 33</text>\n<text text-anchor=\"middle\" x=\"254.5\" y=\"-416.3\" font-family=\"Helvetica,sans-Serif\" font-size=\"14.00\">value = [0, 0, 0, 0, 33, 0]</text>\n</g>\n<!-- 6&#45;&gt;8 -->\n<g id=\"edge8\" class=\"edge\">\n<title>6&#45;&gt;8</title>\n<path fill=\"none\" stroke=\"black\" d=\"M254.5,-504.88C254.5,-494.33 254.5,-482.6 254.5,-471.85\"/>\n<polygon fill=\"black\" stroke=\"black\" points=\"258,-471.52 254.5,-461.52 251,-471.52 258,-471.52\"/>\n</g>\n<!-- 10 -->\n<g id=\"node11\" class=\"node\">\n<title>10</title>\n<polygon fill=\"none\" stroke=\"black\" points=\"596.5,-573 434.5,-573 434.5,-505 596.5,-505 596.5,-573\"/>\n<text text-anchor=\"middle\" x=\"515.5\" y=\"-557.8\" font-family=\"Helvetica,sans-Serif\" font-size=\"14.00\">p2_d &lt;= 123.768</text>\n<text text-anchor=\"middle\" x=\"515.5\" y=\"-542.8\" font-family=\"Helvetica,sans-Serif\" font-size=\"14.00\">entropy = 0.523</text>\n<text text-anchor=\"middle\" x=\"515.5\" y=\"-527.8\" font-family=\"Helvetica,sans-Serif\" font-size=\"14.00\">samples = 51</text>\n<text text-anchor=\"middle\" x=\"515.5\" y=\"-512.8\" font-family=\"Helvetica,sans-Serif\" font-size=\"14.00\">value = [0, 0, 0, 45, 6, 0]</text>\n</g>\n<!-- 9&#45;&gt;10 -->\n<g id=\"edge10\" class=\"edge\">\n<title>9&#45;&gt;10</title>\n<path fill=\"none\" stroke=\"black\" d=\"M577.63,-608.88C569.6,-599.98 560.81,-590.24 552.44,-580.96\"/>\n<polygon fill=\"black\" stroke=\"black\" points=\"554.83,-578.38 545.53,-573.3 549.63,-583.07 554.83,-578.38\"/>\n</g>\n<!-- 13 -->\n<g id=\"node14\" class=\"node\">\n<title>13</title>\n<polygon fill=\"none\" stroke=\"black\" points=\"784.5,-565.5 614.5,-565.5 614.5,-512.5 784.5,-512.5 784.5,-565.5\"/>\n<text text-anchor=\"middle\" x=\"699.5\" y=\"-550.3\" font-family=\"Helvetica,sans-Serif\" font-size=\"14.00\">entropy = 0.0</text>\n<text text-anchor=\"middle\" x=\"699.5\" y=\"-535.3\" font-family=\"Helvetica,sans-Serif\" font-size=\"14.00\">samples = 140</text>\n<text text-anchor=\"middle\" x=\"699.5\" y=\"-520.3\" font-family=\"Helvetica,sans-Serif\" font-size=\"14.00\">value = [0, 0, 0, 140, 0, 0]</text>\n</g>\n<!-- 9&#45;&gt;13 -->\n<g id=\"edge13\" class=\"edge\">\n<title>9&#45;&gt;13</title>\n<path fill=\"none\" stroke=\"black\" d=\"M637.37,-608.88C647.69,-597.45 659.24,-584.63 669.56,-573.19\"/>\n<polygon fill=\"black\" stroke=\"black\" points=\"672.38,-575.29 676.48,-565.52 667.19,-570.6 672.38,-575.29\"/>\n</g>\n<!-- 11 -->\n<g id=\"node12\" class=\"node\">\n<title>11</title>\n<polygon fill=\"none\" stroke=\"black\" points=\"515.5,-461.5 353.5,-461.5 353.5,-408.5 515.5,-408.5 515.5,-461.5\"/>\n<text text-anchor=\"middle\" x=\"434.5\" y=\"-446.3\" font-family=\"Helvetica,sans-Serif\" font-size=\"14.00\">entropy = 0.0</text>\n<text text-anchor=\"middle\" x=\"434.5\" y=\"-431.3\" font-family=\"Helvetica,sans-Serif\" font-size=\"14.00\">samples = 45</text>\n<text text-anchor=\"middle\" x=\"434.5\" y=\"-416.3\" font-family=\"Helvetica,sans-Serif\" font-size=\"14.00\">value = [0, 0, 0, 45, 0, 0]</text>\n</g>\n<!-- 10&#45;&gt;11 -->\n<g id=\"edge11\" class=\"edge\">\n<title>10&#45;&gt;11</title>\n<path fill=\"none\" stroke=\"black\" d=\"M489.2,-504.88C480.21,-493.56 470.14,-480.88 461.12,-469.52\"/>\n<polygon fill=\"black\" stroke=\"black\" points=\"463.73,-467.17 454.77,-461.52 458.24,-471.53 463.73,-467.17\"/>\n</g>\n<!-- 12 -->\n<g id=\"node13\" class=\"node\">\n<title>12</title>\n<polygon fill=\"none\" stroke=\"black\" points=\"689,-461.5 534,-461.5 534,-408.5 689,-408.5 689,-461.5\"/>\n<text text-anchor=\"middle\" x=\"611.5\" y=\"-446.3\" font-family=\"Helvetica,sans-Serif\" font-size=\"14.00\">entropy = 0.0</text>\n<text text-anchor=\"middle\" x=\"611.5\" y=\"-431.3\" font-family=\"Helvetica,sans-Serif\" font-size=\"14.00\">samples = 6</text>\n<text text-anchor=\"middle\" x=\"611.5\" y=\"-416.3\" font-family=\"Helvetica,sans-Serif\" font-size=\"14.00\">value = [0, 0, 0, 0, 6, 0]</text>\n</g>\n<!-- 10&#45;&gt;12 -->\n<g id=\"edge12\" class=\"edge\">\n<title>10&#45;&gt;12</title>\n<path fill=\"none\" stroke=\"black\" d=\"M546.67,-504.88C557.54,-493.34 569.72,-480.39 580.57,-468.86\"/>\n<polygon fill=\"black\" stroke=\"black\" points=\"583.18,-471.2 587.48,-461.52 578.08,-466.4 583.18,-471.2\"/>\n</g>\n<!-- 15 -->\n<g id=\"node16\" class=\"node\">\n<title>15</title>\n<polygon fill=\"none\" stroke=\"black\" points=\"1212.5,-781 1050.5,-781 1050.5,-713 1212.5,-713 1212.5,-781\"/>\n<text text-anchor=\"middle\" x=\"1131.5\" y=\"-765.8\" font-family=\"Helvetica,sans-Serif\" font-size=\"14.00\">Avg_bpp &lt;= 671.0</text>\n<text text-anchor=\"middle\" x=\"1131.5\" y=\"-750.8\" font-family=\"Helvetica,sans-Serif\" font-size=\"14.00\">entropy = 0.631</text>\n<text text-anchor=\"middle\" x=\"1131.5\" y=\"-735.8\" font-family=\"Helvetica,sans-Serif\" font-size=\"14.00\">samples = 86</text>\n<text text-anchor=\"middle\" x=\"1131.5\" y=\"-720.8\" font-family=\"Helvetica,sans-Serif\" font-size=\"14.00\">value = [76, 4, 6, 0, 0, 0]</text>\n</g>\n<!-- 14&#45;&gt;15 -->\n<g id=\"edge15\" class=\"edge\">\n<title>14&#45;&gt;15</title>\n<path fill=\"none\" stroke=\"black\" d=\"M1131.5,-816.88C1131.5,-808.78 1131.5,-799.98 1131.5,-791.47\"/>\n<polygon fill=\"black\" stroke=\"black\" points=\"1135,-791.3 1131.5,-781.3 1128,-791.3 1135,-791.3\"/>\n</g>\n<!-- 26 -->\n<g id=\"node27\" class=\"node\">\n<title>26</title>\n<polygon fill=\"none\" stroke=\"black\" points=\"1870,-781 1693,-781 1693,-713 1870,-713 1870,-781\"/>\n<text text-anchor=\"middle\" x=\"1781.5\" y=\"-765.8\" font-family=\"Helvetica,sans-Serif\" font-size=\"14.00\">p2_d &lt;= 246.212</text>\n<text text-anchor=\"middle\" x=\"1781.5\" y=\"-750.8\" font-family=\"Helvetica,sans-Serif\" font-size=\"14.00\">entropy = 1.543</text>\n<text text-anchor=\"middle\" x=\"1781.5\" y=\"-735.8\" font-family=\"Helvetica,sans-Serif\" font-size=\"14.00\">samples = 190</text>\n<text text-anchor=\"middle\" x=\"1781.5\" y=\"-720.8\" font-family=\"Helvetica,sans-Serif\" font-size=\"14.00\">value = [0, 93, 43, 1, 0, 53]</text>\n</g>\n<!-- 14&#45;&gt;26 -->\n<g id=\"edge26\" class=\"edge\">\n<title>14&#45;&gt;26</title>\n<path fill=\"none\" stroke=\"black\" d=\"M1224.28,-835.44C1345.95,-816.35 1558.5,-782.99 1682.96,-763.46\"/>\n<polygon fill=\"black\" stroke=\"black\" points=\"1683.54,-766.92 1692.87,-761.91 1682.45,-760 1683.54,-766.92\"/>\n</g>\n<!-- 16 -->\n<g id=\"node17\" class=\"node\">\n<title>16</title>\n<polygon fill=\"none\" stroke=\"black\" points=\"1121,-677 966,-677 966,-609 1121,-609 1121,-677\"/>\n<text text-anchor=\"middle\" x=\"1043.5\" y=\"-661.8\" font-family=\"Helvetica,sans-Serif\" font-size=\"14.00\">Avg_bpp &lt;= 458.0</text>\n<text text-anchor=\"middle\" x=\"1043.5\" y=\"-646.8\" font-family=\"Helvetica,sans-Serif\" font-size=\"14.00\">entropy = 1.549</text>\n<text text-anchor=\"middle\" x=\"1043.5\" y=\"-631.8\" font-family=\"Helvetica,sans-Serif\" font-size=\"14.00\">samples = 17</text>\n<text text-anchor=\"middle\" x=\"1043.5\" y=\"-616.8\" font-family=\"Helvetica,sans-Serif\" font-size=\"14.00\">value = [7, 4, 6, 0, 0, 0]</text>\n</g>\n<!-- 15&#45;&gt;16 -->\n<g id=\"edge16\" class=\"edge\">\n<title>15&#45;&gt;16</title>\n<path fill=\"none\" stroke=\"black\" d=\"M1102.93,-712.88C1095.24,-703.98 1086.84,-694.24 1078.84,-684.96\"/>\n<polygon fill=\"black\" stroke=\"black\" points=\"1081.41,-682.58 1072.23,-677.3 1076.11,-687.16 1081.41,-682.58\"/>\n</g>\n<!-- 25 -->\n<g id=\"node26\" class=\"node\">\n<title>25</title>\n<polygon fill=\"none\" stroke=\"black\" points=\"1301.5,-669.5 1139.5,-669.5 1139.5,-616.5 1301.5,-616.5 1301.5,-669.5\"/>\n<text text-anchor=\"middle\" x=\"1220.5\" y=\"-654.3\" font-family=\"Helvetica,sans-Serif\" font-size=\"14.00\">entropy = 0.0</text>\n<text text-anchor=\"middle\" x=\"1220.5\" y=\"-639.3\" font-family=\"Helvetica,sans-Serif\" font-size=\"14.00\">samples = 69</text>\n<text text-anchor=\"middle\" x=\"1220.5\" y=\"-624.3\" font-family=\"Helvetica,sans-Serif\" font-size=\"14.00\">value = [69, 0, 0, 0, 0, 0]</text>\n</g>\n<!-- 15&#45;&gt;25 -->\n<g id=\"edge25\" class=\"edge\">\n<title>15&#45;&gt;25</title>\n<path fill=\"none\" stroke=\"black\" d=\"M1160.4,-712.88C1170.38,-701.45 1181.55,-688.63 1191.54,-677.19\"/>\n<polygon fill=\"black\" stroke=\"black\" points=\"1194.3,-679.36 1198.23,-669.52 1189.02,-674.75 1194.3,-679.36\"/>\n</g>\n<!-- 17 -->\n<g id=\"node18\" class=\"node\">\n<title>17</title>\n<polygon fill=\"none\" stroke=\"black\" points=\"1035,-573 880,-573 880,-505 1035,-505 1035,-573\"/>\n<text text-anchor=\"middle\" x=\"957.5\" y=\"-557.8\" font-family=\"Helvetica,sans-Serif\" font-size=\"14.00\">Avg_bpp &lt;= 257.5</text>\n<text text-anchor=\"middle\" x=\"957.5\" y=\"-542.8\" font-family=\"Helvetica,sans-Serif\" font-size=\"14.00\">entropy = 0.592</text>\n<text text-anchor=\"middle\" x=\"957.5\" y=\"-527.8\" font-family=\"Helvetica,sans-Serif\" font-size=\"14.00\">samples = 7</text>\n<text text-anchor=\"middle\" x=\"957.5\" y=\"-512.8\" font-family=\"Helvetica,sans-Serif\" font-size=\"14.00\">value = [1, 0, 6, 0, 0, 0]</text>\n</g>\n<!-- 16&#45;&gt;17 -->\n<g id=\"edge17\" class=\"edge\">\n<title>16&#45;&gt;17</title>\n<path fill=\"none\" stroke=\"black\" d=\"M1015.58,-608.88C1008.07,-599.98 999.86,-590.24 992.03,-580.96\"/>\n<polygon fill=\"black\" stroke=\"black\" points=\"994.7,-578.69 985.58,-573.3 989.35,-583.2 994.7,-578.69\"/>\n</g>\n<!-- 20 -->\n<g id=\"node21\" class=\"node\">\n<title>20</title>\n<polygon fill=\"none\" stroke=\"black\" points=\"1208,-573 1053,-573 1053,-505 1208,-505 1208,-573\"/>\n<text text-anchor=\"middle\" x=\"1130.5\" y=\"-557.8\" font-family=\"Helvetica,sans-Serif\" font-size=\"14.00\">p2_ib &lt;= 646.25</text>\n<text text-anchor=\"middle\" x=\"1130.5\" y=\"-542.8\" font-family=\"Helvetica,sans-Serif\" font-size=\"14.00\">entropy = 0.971</text>\n<text text-anchor=\"middle\" x=\"1130.5\" y=\"-527.8\" font-family=\"Helvetica,sans-Serif\" font-size=\"14.00\">samples = 10</text>\n<text text-anchor=\"middle\" x=\"1130.5\" y=\"-512.8\" font-family=\"Helvetica,sans-Serif\" font-size=\"14.00\">value = [6, 4, 0, 0, 0, 0]</text>\n</g>\n<!-- 16&#45;&gt;20 -->\n<g id=\"edge20\" class=\"edge\">\n<title>16&#45;&gt;20</title>\n<path fill=\"none\" stroke=\"black\" d=\"M1071.75,-608.88C1079.34,-599.98 1087.65,-590.24 1095.57,-580.96\"/>\n<polygon fill=\"black\" stroke=\"black\" points=\"1098.27,-583.18 1102.1,-573.3 1092.95,-578.64 1098.27,-583.18\"/>\n</g>\n<!-- 18 -->\n<g id=\"node19\" class=\"node\">\n<title>18</title>\n<polygon fill=\"none\" stroke=\"black\" points=\"862,-461.5 707,-461.5 707,-408.5 862,-408.5 862,-461.5\"/>\n<text text-anchor=\"middle\" x=\"784.5\" y=\"-446.3\" font-family=\"Helvetica,sans-Serif\" font-size=\"14.00\">entropy = 0.0</text>\n<text text-anchor=\"middle\" x=\"784.5\" y=\"-431.3\" font-family=\"Helvetica,sans-Serif\" font-size=\"14.00\">samples = 1</text>\n<text text-anchor=\"middle\" x=\"784.5\" y=\"-416.3\" font-family=\"Helvetica,sans-Serif\" font-size=\"14.00\">value = [1, 0, 0, 0, 0, 0]</text>\n</g>\n<!-- 17&#45;&gt;18 -->\n<g id=\"edge18\" class=\"edge\">\n<title>17&#45;&gt;18</title>\n<path fill=\"none\" stroke=\"black\" d=\"M901.33,-504.88C880.53,-492.62 857.06,-478.78 836.63,-466.74\"/>\n<polygon fill=\"black\" stroke=\"black\" points=\"838.18,-463.58 827.78,-461.52 834.62,-469.61 838.18,-463.58\"/>\n</g>\n<!-- 19 -->\n<g id=\"node20\" class=\"node\">\n<title>19</title>\n<polygon fill=\"none\" stroke=\"black\" points=\"1035,-461.5 880,-461.5 880,-408.5 1035,-408.5 1035,-461.5\"/>\n<text text-anchor=\"middle\" x=\"957.5\" y=\"-446.3\" font-family=\"Helvetica,sans-Serif\" font-size=\"14.00\">entropy = 0.0</text>\n<text text-anchor=\"middle\" x=\"957.5\" y=\"-431.3\" font-family=\"Helvetica,sans-Serif\" font-size=\"14.00\">samples = 6</text>\n<text text-anchor=\"middle\" x=\"957.5\" y=\"-416.3\" font-family=\"Helvetica,sans-Serif\" font-size=\"14.00\">value = [0, 0, 6, 0, 0, 0]</text>\n</g>\n<!-- 17&#45;&gt;19 -->\n<g id=\"edge19\" class=\"edge\">\n<title>17&#45;&gt;19</title>\n<path fill=\"none\" stroke=\"black\" d=\"M957.5,-504.88C957.5,-494.33 957.5,-482.6 957.5,-471.85\"/>\n<polygon fill=\"black\" stroke=\"black\" points=\"961,-471.52 957.5,-461.52 954,-471.52 961,-471.52\"/>\n</g>\n<!-- 21 -->\n<g id=\"node22\" class=\"node\">\n<title>21</title>\n<polygon fill=\"none\" stroke=\"black\" points=\"1208,-461.5 1053,-461.5 1053,-408.5 1208,-408.5 1208,-461.5\"/>\n<text text-anchor=\"middle\" x=\"1130.5\" y=\"-446.3\" font-family=\"Helvetica,sans-Serif\" font-size=\"14.00\">entropy = 0.0</text>\n<text text-anchor=\"middle\" x=\"1130.5\" y=\"-431.3\" font-family=\"Helvetica,sans-Serif\" font-size=\"14.00\">samples = 5</text>\n<text text-anchor=\"middle\" x=\"1130.5\" y=\"-416.3\" font-family=\"Helvetica,sans-Serif\" font-size=\"14.00\">value = [5, 0, 0, 0, 0, 0]</text>\n</g>\n<!-- 20&#45;&gt;21 -->\n<g id=\"edge21\" class=\"edge\">\n<title>20&#45;&gt;21</title>\n<path fill=\"none\" stroke=\"black\" d=\"M1130.5,-504.88C1130.5,-494.33 1130.5,-482.6 1130.5,-471.85\"/>\n<polygon fill=\"black\" stroke=\"black\" points=\"1134,-471.52 1130.5,-461.52 1127,-471.52 1134,-471.52\"/>\n</g>\n<!-- 22 -->\n<g id=\"node23\" class=\"node\">\n<title>22</title>\n<polygon fill=\"none\" stroke=\"black\" points=\"1381,-469 1226,-469 1226,-401 1381,-401 1381,-469\"/>\n<text text-anchor=\"middle\" x=\"1303.5\" y=\"-453.8\" font-family=\"Helvetica,sans-Serif\" font-size=\"14.00\">p1_d &lt;= 0.75</text>\n<text text-anchor=\"middle\" x=\"1303.5\" y=\"-438.8\" font-family=\"Helvetica,sans-Serif\" font-size=\"14.00\">entropy = 0.722</text>\n<text text-anchor=\"middle\" x=\"1303.5\" y=\"-423.8\" font-family=\"Helvetica,sans-Serif\" font-size=\"14.00\">samples = 5</text>\n<text text-anchor=\"middle\" x=\"1303.5\" y=\"-408.8\" font-family=\"Helvetica,sans-Serif\" font-size=\"14.00\">value = [1, 4, 0, 0, 0, 0]</text>\n</g>\n<!-- 20&#45;&gt;22 -->\n<g id=\"edge22\" class=\"edge\">\n<title>20&#45;&gt;22</title>\n<path fill=\"none\" stroke=\"black\" d=\"M1186.67,-504.88C1203.22,-495.12 1221.47,-484.37 1238.52,-474.31\"/>\n<polygon fill=\"black\" stroke=\"black\" points=\"1240.48,-477.22 1247.32,-469.12 1236.93,-471.19 1240.48,-477.22\"/>\n</g>\n<!-- 23 -->\n<g id=\"node24\" class=\"node\">\n<title>23</title>\n<polygon fill=\"none\" stroke=\"black\" points=\"1208,-357.5 1053,-357.5 1053,-304.5 1208,-304.5 1208,-357.5\"/>\n<text text-anchor=\"middle\" x=\"1130.5\" y=\"-342.3\" font-family=\"Helvetica,sans-Serif\" font-size=\"14.00\">entropy = 0.0</text>\n<text text-anchor=\"middle\" x=\"1130.5\" y=\"-327.3\" font-family=\"Helvetica,sans-Serif\" font-size=\"14.00\">samples = 1</text>\n<text text-anchor=\"middle\" x=\"1130.5\" y=\"-312.3\" font-family=\"Helvetica,sans-Serif\" font-size=\"14.00\">value = [1, 0, 0, 0, 0, 0]</text>\n</g>\n<!-- 22&#45;&gt;23 -->\n<g id=\"edge23\" class=\"edge\">\n<title>22&#45;&gt;23</title>\n<path fill=\"none\" stroke=\"black\" d=\"M1247.33,-400.88C1226.53,-388.62 1203.06,-374.78 1182.63,-362.74\"/>\n<polygon fill=\"black\" stroke=\"black\" points=\"1184.18,-359.58 1173.78,-357.52 1180.62,-365.61 1184.18,-359.58\"/>\n</g>\n<!-- 24 -->\n<g id=\"node25\" class=\"node\">\n<title>24</title>\n<polygon fill=\"none\" stroke=\"black\" points=\"1381,-357.5 1226,-357.5 1226,-304.5 1381,-304.5 1381,-357.5\"/>\n<text text-anchor=\"middle\" x=\"1303.5\" y=\"-342.3\" font-family=\"Helvetica,sans-Serif\" font-size=\"14.00\">entropy = 0.0</text>\n<text text-anchor=\"middle\" x=\"1303.5\" y=\"-327.3\" font-family=\"Helvetica,sans-Serif\" font-size=\"14.00\">samples = 4</text>\n<text text-anchor=\"middle\" x=\"1303.5\" y=\"-312.3\" font-family=\"Helvetica,sans-Serif\" font-size=\"14.00\">value = [0, 4, 0, 0, 0, 0]</text>\n</g>\n<!-- 22&#45;&gt;24 -->\n<g id=\"edge24\" class=\"edge\">\n<title>22&#45;&gt;24</title>\n<path fill=\"none\" stroke=\"black\" d=\"M1303.5,-400.88C1303.5,-390.33 1303.5,-378.6 1303.5,-367.85\"/>\n<polygon fill=\"black\" stroke=\"black\" points=\"1307,-367.52 1303.5,-357.52 1300,-367.52 1307,-367.52\"/>\n</g>\n<!-- 27 -->\n<g id=\"node28\" class=\"node\">\n<title>27</title>\n<polygon fill=\"none\" stroke=\"black\" points=\"1866.5,-677 1696.5,-677 1696.5,-609 1866.5,-609 1866.5,-677\"/>\n<text text-anchor=\"middle\" x=\"1781.5\" y=\"-661.8\" font-family=\"Helvetica,sans-Serif\" font-size=\"14.00\">p3_ip &lt;= 13.625</text>\n<text text-anchor=\"middle\" x=\"1781.5\" y=\"-646.8\" font-family=\"Helvetica,sans-Serif\" font-size=\"14.00\">entropy = 0.924</text>\n<text text-anchor=\"middle\" x=\"1781.5\" y=\"-631.8\" font-family=\"Helvetica,sans-Serif\" font-size=\"14.00\">samples = 57</text>\n<text text-anchor=\"middle\" x=\"1781.5\" y=\"-616.8\" font-family=\"Helvetica,sans-Serif\" font-size=\"14.00\">value = [0, 14, 42, 0, 0, 1]</text>\n</g>\n<!-- 26&#45;&gt;27 -->\n<g id=\"edge27\" class=\"edge\">\n<title>26&#45;&gt;27</title>\n<path fill=\"none\" stroke=\"black\" d=\"M1781.5,-712.88C1781.5,-704.78 1781.5,-695.98 1781.5,-687.47\"/>\n<polygon fill=\"black\" stroke=\"black\" points=\"1785,-687.3 1781.5,-677.3 1778,-687.3 1785,-687.3\"/>\n</g>\n<!-- 40 -->\n<g id=\"node41\" class=\"node\">\n<title>40</title>\n<polygon fill=\"none\" stroke=\"black\" points=\"2439.5,-677 2269.5,-677 2269.5,-609 2439.5,-609 2439.5,-677\"/>\n<text text-anchor=\"middle\" x=\"2354.5\" y=\"-661.8\" font-family=\"Helvetica,sans-Serif\" font-size=\"14.00\">Avg_bpp &lt;= 374.0</text>\n<text text-anchor=\"middle\" x=\"2354.5\" y=\"-646.8\" font-family=\"Helvetica,sans-Serif\" font-size=\"14.00\">entropy = 1.082</text>\n<text text-anchor=\"middle\" x=\"2354.5\" y=\"-631.8\" font-family=\"Helvetica,sans-Serif\" font-size=\"14.00\">samples = 133</text>\n<text text-anchor=\"middle\" x=\"2354.5\" y=\"-616.8\" font-family=\"Helvetica,sans-Serif\" font-size=\"14.00\">value = [0, 79, 1, 1, 0, 52]</text>\n</g>\n<!-- 26&#45;&gt;40 -->\n<g id=\"edge40\" class=\"edge\">\n<title>26&#45;&gt;40</title>\n<path fill=\"none\" stroke=\"black\" d=\"M1870.09,-730.23C1975.64,-711.44 2151.28,-680.17 2259.56,-660.9\"/>\n<polygon fill=\"black\" stroke=\"black\" points=\"2260.27,-664.33 2269.5,-659.13 2259.04,-657.44 2260.27,-664.33\"/>\n</g>\n<!-- 28 -->\n<g id=\"node29\" class=\"node\">\n<title>28</title>\n<polygon fill=\"none\" stroke=\"black\" points=\"1772.5,-573 1610.5,-573 1610.5,-505 1772.5,-505 1772.5,-573\"/>\n<text text-anchor=\"middle\" x=\"1691.5\" y=\"-557.8\" font-family=\"Helvetica,sans-Serif\" font-size=\"14.00\">Avg_bpp &lt;= 419.5</text>\n<text text-anchor=\"middle\" x=\"1691.5\" y=\"-542.8\" font-family=\"Helvetica,sans-Serif\" font-size=\"14.00\">entropy = 1.086</text>\n<text text-anchor=\"middle\" x=\"1691.5\" y=\"-527.8\" font-family=\"Helvetica,sans-Serif\" font-size=\"14.00\">samples = 17</text>\n<text text-anchor=\"middle\" x=\"1691.5\" y=\"-512.8\" font-family=\"Helvetica,sans-Serif\" font-size=\"14.00\">value = [0, 12, 4, 0, 0, 1]</text>\n</g>\n<!-- 27&#45;&gt;28 -->\n<g id=\"edge28\" class=\"edge\">\n<title>27&#45;&gt;28</title>\n<path fill=\"none\" stroke=\"black\" d=\"M1752.28,-608.88C1744.42,-599.98 1735.83,-590.24 1727.64,-580.96\"/>\n<polygon fill=\"black\" stroke=\"black\" points=\"1730.12,-578.48 1720.88,-573.3 1724.87,-583.11 1730.12,-578.48\"/>\n</g>\n<!-- 35 -->\n<g id=\"node36\" class=\"node\">\n<title>35</title>\n<polygon fill=\"none\" stroke=\"black\" points=\"1952.5,-573 1790.5,-573 1790.5,-505 1952.5,-505 1952.5,-573\"/>\n<text text-anchor=\"middle\" x=\"1871.5\" y=\"-557.8\" font-family=\"Helvetica,sans-Serif\" font-size=\"14.00\">p3_ip &lt;= 17.875</text>\n<text text-anchor=\"middle\" x=\"1871.5\" y=\"-542.8\" font-family=\"Helvetica,sans-Serif\" font-size=\"14.00\">entropy = 0.286</text>\n<text text-anchor=\"middle\" x=\"1871.5\" y=\"-527.8\" font-family=\"Helvetica,sans-Serif\" font-size=\"14.00\">samples = 40</text>\n<text text-anchor=\"middle\" x=\"1871.5\" y=\"-512.8\" font-family=\"Helvetica,sans-Serif\" font-size=\"14.00\">value = [0, 2, 38, 0, 0, 0]</text>\n</g>\n<!-- 27&#45;&gt;35 -->\n<g id=\"edge35\" class=\"edge\">\n<title>27&#45;&gt;35</title>\n<path fill=\"none\" stroke=\"black\" d=\"M1810.72,-608.88C1818.58,-599.98 1827.17,-590.24 1835.36,-580.96\"/>\n<polygon fill=\"black\" stroke=\"black\" points=\"1838.13,-583.11 1842.12,-573.3 1832.88,-578.48 1838.13,-583.11\"/>\n</g>\n<!-- 29 -->\n<g id=\"node30\" class=\"node\">\n<title>29</title>\n<polygon fill=\"none\" stroke=\"black\" points=\"1593,-469 1438,-469 1438,-401 1593,-401 1593,-469\"/>\n<text text-anchor=\"middle\" x=\"1515.5\" y=\"-453.8\" font-family=\"Helvetica,sans-Serif\" font-size=\"14.00\">p2_ip &lt;= 9.0</text>\n<text text-anchor=\"middle\" x=\"1515.5\" y=\"-438.8\" font-family=\"Helvetica,sans-Serif\" font-size=\"14.00\">entropy = 1.379</text>\n<text text-anchor=\"middle\" x=\"1515.5\" y=\"-423.8\" font-family=\"Helvetica,sans-Serif\" font-size=\"14.00\">samples = 7</text>\n<text text-anchor=\"middle\" x=\"1515.5\" y=\"-408.8\" font-family=\"Helvetica,sans-Serif\" font-size=\"14.00\">value = [0, 2, 4, 0, 0, 1]</text>\n</g>\n<!-- 28&#45;&gt;29 -->\n<g id=\"edge29\" class=\"edge\">\n<title>28&#45;&gt;29</title>\n<path fill=\"none\" stroke=\"black\" d=\"M1634.36,-504.88C1617.52,-495.12 1598.96,-484.37 1581.6,-474.31\"/>\n<polygon fill=\"black\" stroke=\"black\" points=\"1583.06,-471.11 1572.66,-469.12 1579.55,-477.17 1583.06,-471.11\"/>\n</g>\n<!-- 34 -->\n<g id=\"node35\" class=\"node\">\n<title>34</title>\n<polygon fill=\"none\" stroke=\"black\" points=\"1773.5,-461.5 1611.5,-461.5 1611.5,-408.5 1773.5,-408.5 1773.5,-461.5\"/>\n<text text-anchor=\"middle\" x=\"1692.5\" y=\"-446.3\" font-family=\"Helvetica,sans-Serif\" font-size=\"14.00\">entropy = 0.0</text>\n<text text-anchor=\"middle\" x=\"1692.5\" y=\"-431.3\" font-family=\"Helvetica,sans-Serif\" font-size=\"14.00\">samples = 10</text>\n<text text-anchor=\"middle\" x=\"1692.5\" y=\"-416.3\" font-family=\"Helvetica,sans-Serif\" font-size=\"14.00\">value = [0, 10, 0, 0, 0, 0]</text>\n</g>\n<!-- 28&#45;&gt;34 -->\n<g id=\"edge34\" class=\"edge\">\n<title>28&#45;&gt;34</title>\n<path fill=\"none\" stroke=\"black\" d=\"M1691.82,-504.88C1691.93,-494.33 1692.04,-482.6 1692.15,-471.85\"/>\n<polygon fill=\"black\" stroke=\"black\" points=\"1695.65,-471.55 1692.25,-461.52 1688.65,-471.49 1695.65,-471.55\"/>\n</g>\n<!-- 30 -->\n<g id=\"node31\" class=\"node\">\n<title>30</title>\n<polygon fill=\"none\" stroke=\"black\" points=\"1554,-365 1399,-365 1399,-297 1554,-297 1554,-365\"/>\n<text text-anchor=\"middle\" x=\"1476.5\" y=\"-349.8\" font-family=\"Helvetica,sans-Serif\" font-size=\"14.00\">p2_ip &lt;= 3.5</text>\n<text text-anchor=\"middle\" x=\"1476.5\" y=\"-334.8\" font-family=\"Helvetica,sans-Serif\" font-size=\"14.00\">entropy = 0.722</text>\n<text text-anchor=\"middle\" x=\"1476.5\" y=\"-319.8\" font-family=\"Helvetica,sans-Serif\" font-size=\"14.00\">samples = 5</text>\n<text text-anchor=\"middle\" x=\"1476.5\" y=\"-304.8\" font-family=\"Helvetica,sans-Serif\" font-size=\"14.00\">value = [0, 0, 4, 0, 0, 1]</text>\n</g>\n<!-- 29&#45;&gt;30 -->\n<g id=\"edge30\" class=\"edge\">\n<title>29&#45;&gt;30</title>\n<path fill=\"none\" stroke=\"black\" d=\"M1502.84,-400.88C1499.67,-392.6 1496.23,-383.6 1492.91,-374.91\"/>\n<polygon fill=\"black\" stroke=\"black\" points=\"1496.07,-373.39 1489.23,-365.3 1489.53,-375.89 1496.07,-373.39\"/>\n</g>\n<!-- 33 -->\n<g id=\"node34\" class=\"node\">\n<title>33</title>\n<polygon fill=\"none\" stroke=\"black\" points=\"1727,-357.5 1572,-357.5 1572,-304.5 1727,-304.5 1727,-357.5\"/>\n<text text-anchor=\"middle\" x=\"1649.5\" y=\"-342.3\" font-family=\"Helvetica,sans-Serif\" font-size=\"14.00\">entropy = 0.0</text>\n<text text-anchor=\"middle\" x=\"1649.5\" y=\"-327.3\" font-family=\"Helvetica,sans-Serif\" font-size=\"14.00\">samples = 2</text>\n<text text-anchor=\"middle\" x=\"1649.5\" y=\"-312.3\" font-family=\"Helvetica,sans-Serif\" font-size=\"14.00\">value = [0, 2, 0, 0, 0, 0]</text>\n</g>\n<!-- 29&#45;&gt;33 -->\n<g id=\"edge33\" class=\"edge\">\n<title>29&#45;&gt;33</title>\n<path fill=\"none\" stroke=\"black\" d=\"M1559.01,-400.88C1574.61,-389.01 1592.16,-375.65 1607.62,-363.88\"/>\n<polygon fill=\"black\" stroke=\"black\" points=\"1610.14,-366.36 1615.97,-357.52 1605.9,-360.79 1610.14,-366.36\"/>\n</g>\n<!-- 31 -->\n<g id=\"node32\" class=\"node\">\n<title>31</title>\n<polygon fill=\"none\" stroke=\"black\" points=\"1468,-253.5 1313,-253.5 1313,-200.5 1468,-200.5 1468,-253.5\"/>\n<text text-anchor=\"middle\" x=\"1390.5\" y=\"-238.3\" font-family=\"Helvetica,sans-Serif\" font-size=\"14.00\">entropy = 0.0</text>\n<text text-anchor=\"middle\" x=\"1390.5\" y=\"-223.3\" font-family=\"Helvetica,sans-Serif\" font-size=\"14.00\">samples = 1</text>\n<text text-anchor=\"middle\" x=\"1390.5\" y=\"-208.3\" font-family=\"Helvetica,sans-Serif\" font-size=\"14.00\">value = [0, 0, 0, 0, 0, 1]</text>\n</g>\n<!-- 30&#45;&gt;31 -->\n<g id=\"edge31\" class=\"edge\">\n<title>30&#45;&gt;31</title>\n<path fill=\"none\" stroke=\"black\" d=\"M1448.58,-296.88C1438.93,-285.45 1428.13,-272.63 1418.48,-261.19\"/>\n<polygon fill=\"black\" stroke=\"black\" points=\"1421.14,-258.91 1412.02,-253.52 1415.79,-263.42 1421.14,-258.91\"/>\n</g>\n<!-- 32 -->\n<g id=\"node33\" class=\"node\">\n<title>32</title>\n<polygon fill=\"none\" stroke=\"black\" points=\"1641,-253.5 1486,-253.5 1486,-200.5 1641,-200.5 1641,-253.5\"/>\n<text text-anchor=\"middle\" x=\"1563.5\" y=\"-238.3\" font-family=\"Helvetica,sans-Serif\" font-size=\"14.00\">entropy = 0.0</text>\n<text text-anchor=\"middle\" x=\"1563.5\" y=\"-223.3\" font-family=\"Helvetica,sans-Serif\" font-size=\"14.00\">samples = 4</text>\n<text text-anchor=\"middle\" x=\"1563.5\" y=\"-208.3\" font-family=\"Helvetica,sans-Serif\" font-size=\"14.00\">value = [0, 0, 4, 0, 0, 0]</text>\n</g>\n<!-- 30&#45;&gt;32 -->\n<g id=\"edge32\" class=\"edge\">\n<title>30&#45;&gt;32</title>\n<path fill=\"none\" stroke=\"black\" d=\"M1504.75,-296.88C1514.5,-285.45 1525.43,-272.63 1535.19,-261.19\"/>\n<polygon fill=\"black\" stroke=\"black\" points=\"1537.91,-263.4 1541.73,-253.52 1532.58,-258.86 1537.91,-263.4\"/>\n</g>\n<!-- 36 -->\n<g id=\"node37\" class=\"node\">\n<title>36</title>\n<polygon fill=\"none\" stroke=\"black\" points=\"1948,-469 1793,-469 1793,-401 1948,-401 1948,-469\"/>\n<text text-anchor=\"middle\" x=\"1870.5\" y=\"-453.8\" font-family=\"Helvetica,sans-Serif\" font-size=\"14.00\">p3_d &lt;= 243.483</text>\n<text text-anchor=\"middle\" x=\"1870.5\" y=\"-438.8\" font-family=\"Helvetica,sans-Serif\" font-size=\"14.00\">entropy = 0.684</text>\n<text text-anchor=\"middle\" x=\"1870.5\" y=\"-423.8\" font-family=\"Helvetica,sans-Serif\" font-size=\"14.00\">samples = 11</text>\n<text text-anchor=\"middle\" x=\"1870.5\" y=\"-408.8\" font-family=\"Helvetica,sans-Serif\" font-size=\"14.00\">value = [0, 2, 9, 0, 0, 0]</text>\n</g>\n<!-- 35&#45;&gt;36 -->\n<g id=\"edge36\" class=\"edge\">\n<title>35&#45;&gt;36</title>\n<path fill=\"none\" stroke=\"black\" d=\"M1871.18,-504.88C1871.1,-496.78 1871.01,-487.98 1870.93,-479.47\"/>\n<polygon fill=\"black\" stroke=\"black\" points=\"1874.42,-479.26 1870.83,-469.3 1867.42,-479.33 1874.42,-479.26\"/>\n</g>\n<!-- 39 -->\n<g id=\"node40\" class=\"node\">\n<title>39</title>\n<polygon fill=\"none\" stroke=\"black\" points=\"2128.5,-461.5 1966.5,-461.5 1966.5,-408.5 2128.5,-408.5 2128.5,-461.5\"/>\n<text text-anchor=\"middle\" x=\"2047.5\" y=\"-446.3\" font-family=\"Helvetica,sans-Serif\" font-size=\"14.00\">entropy = 0.0</text>\n<text text-anchor=\"middle\" x=\"2047.5\" y=\"-431.3\" font-family=\"Helvetica,sans-Serif\" font-size=\"14.00\">samples = 29</text>\n<text text-anchor=\"middle\" x=\"2047.5\" y=\"-416.3\" font-family=\"Helvetica,sans-Serif\" font-size=\"14.00\">value = [0, 0, 29, 0, 0, 0]</text>\n</g>\n<!-- 35&#45;&gt;39 -->\n<g id=\"edge39\" class=\"edge\">\n<title>35&#45;&gt;39</title>\n<path fill=\"none\" stroke=\"black\" d=\"M1928.64,-504.88C1949.9,-492.57 1973.9,-478.65 1994.74,-466.57\"/>\n<polygon fill=\"black\" stroke=\"black\" points=\"1996.57,-469.56 2003.47,-461.52 1993.06,-463.51 1996.57,-469.56\"/>\n</g>\n<!-- 37 -->\n<g id=\"node38\" class=\"node\">\n<title>37</title>\n<polygon fill=\"none\" stroke=\"black\" points=\"1900,-357.5 1745,-357.5 1745,-304.5 1900,-304.5 1900,-357.5\"/>\n<text text-anchor=\"middle\" x=\"1822.5\" y=\"-342.3\" font-family=\"Helvetica,sans-Serif\" font-size=\"14.00\">entropy = 0.0</text>\n<text text-anchor=\"middle\" x=\"1822.5\" y=\"-327.3\" font-family=\"Helvetica,sans-Serif\" font-size=\"14.00\">samples = 2</text>\n<text text-anchor=\"middle\" x=\"1822.5\" y=\"-312.3\" font-family=\"Helvetica,sans-Serif\" font-size=\"14.00\">value = [0, 2, 0, 0, 0, 0]</text>\n</g>\n<!-- 36&#45;&gt;37 -->\n<g id=\"edge37\" class=\"edge\">\n<title>36&#45;&gt;37</title>\n<path fill=\"none\" stroke=\"black\" d=\"M1854.92,-400.88C1849.79,-390 1844.08,-377.86 1838.9,-366.85\"/>\n<polygon fill=\"black\" stroke=\"black\" points=\"1841.93,-365.08 1834.51,-357.52 1835.6,-368.06 1841.93,-365.08\"/>\n</g>\n<!-- 38 -->\n<g id=\"node39\" class=\"node\">\n<title>38</title>\n<polygon fill=\"none\" stroke=\"black\" points=\"2073,-357.5 1918,-357.5 1918,-304.5 2073,-304.5 2073,-357.5\"/>\n<text text-anchor=\"middle\" x=\"1995.5\" y=\"-342.3\" font-family=\"Helvetica,sans-Serif\" font-size=\"14.00\">entropy = 0.0</text>\n<text text-anchor=\"middle\" x=\"1995.5\" y=\"-327.3\" font-family=\"Helvetica,sans-Serif\" font-size=\"14.00\">samples = 9</text>\n<text text-anchor=\"middle\" x=\"1995.5\" y=\"-312.3\" font-family=\"Helvetica,sans-Serif\" font-size=\"14.00\">value = [0, 0, 9, 0, 0, 0]</text>\n</g>\n<!-- 36&#45;&gt;38 -->\n<g id=\"edge38\" class=\"edge\">\n<title>36&#45;&gt;38</title>\n<path fill=\"none\" stroke=\"black\" d=\"M1911.08,-400.88C1925.64,-389.01 1942.01,-375.65 1956.44,-363.88\"/>\n<polygon fill=\"black\" stroke=\"black\" points=\"1958.69,-366.55 1964.23,-357.52 1954.26,-361.13 1958.69,-366.55\"/>\n</g>\n<!-- 41 -->\n<g id=\"node42\" class=\"node\">\n<title>41</title>\n<polygon fill=\"none\" stroke=\"black\" points=\"2435.5,-573 2273.5,-573 2273.5,-505 2435.5,-505 2435.5,-573\"/>\n<text text-anchor=\"middle\" x=\"2354.5\" y=\"-557.8\" font-family=\"Helvetica,sans-Serif\" font-size=\"14.00\">p3_ip &lt;= 114.875</text>\n<text text-anchor=\"middle\" x=\"2354.5\" y=\"-542.8\" font-family=\"Helvetica,sans-Serif\" font-size=\"14.00\">entropy = 0.667</text>\n<text text-anchor=\"middle\" x=\"2354.5\" y=\"-527.8\" font-family=\"Helvetica,sans-Serif\" font-size=\"14.00\">samples = 44</text>\n<text text-anchor=\"middle\" x=\"2354.5\" y=\"-512.8\" font-family=\"Helvetica,sans-Serif\" font-size=\"14.00\">value = [0, 3, 1, 1, 0, 39]</text>\n</g>\n<!-- 40&#45;&gt;41 -->\n<g id=\"edge41\" class=\"edge\">\n<title>40&#45;&gt;41</title>\n<path fill=\"none\" stroke=\"black\" d=\"M2354.5,-608.88C2354.5,-600.78 2354.5,-591.98 2354.5,-583.47\"/>\n<polygon fill=\"black\" stroke=\"black\" points=\"2358,-583.3 2354.5,-573.3 2351,-583.3 2358,-583.3\"/>\n</g>\n<!-- 56 -->\n<g id=\"node57\" class=\"node\">\n<title>56</title>\n<polygon fill=\"none\" stroke=\"black\" points=\"2961.5,-573 2791.5,-573 2791.5,-505 2961.5,-505 2961.5,-573\"/>\n<text text-anchor=\"middle\" x=\"2876.5\" y=\"-557.8\" font-family=\"Helvetica,sans-Serif\" font-size=\"14.00\">p3_ip &lt;= 38.0</text>\n<text text-anchor=\"middle\" x=\"2876.5\" y=\"-542.8\" font-family=\"Helvetica,sans-Serif\" font-size=\"14.00\">entropy = 0.6</text>\n<text text-anchor=\"middle\" x=\"2876.5\" y=\"-527.8\" font-family=\"Helvetica,sans-Serif\" font-size=\"14.00\">samples = 89</text>\n<text text-anchor=\"middle\" x=\"2876.5\" y=\"-512.8\" font-family=\"Helvetica,sans-Serif\" font-size=\"14.00\">value = [0, 76, 0, 0, 0, 13]</text>\n</g>\n<!-- 40&#45;&gt;56 -->\n<g id=\"edge56\" class=\"edge\">\n<title>40&#45;&gt;56</title>\n<path fill=\"none\" stroke=\"black\" d=\"M2439.53,-625.38C2533.24,-607.07 2683.59,-577.7 2781.21,-558.62\"/>\n<polygon fill=\"black\" stroke=\"black\" points=\"2781.93,-562.05 2791.07,-556.69 2780.59,-555.18 2781.93,-562.05\"/>\n</g>\n<!-- 42 -->\n<g id=\"node43\" class=\"node\">\n<title>42</title>\n<polygon fill=\"none\" stroke=\"black\" points=\"2347.5,-469 2185.5,-469 2185.5,-401 2347.5,-401 2347.5,-469\"/>\n<text text-anchor=\"middle\" x=\"2266.5\" y=\"-453.8\" font-family=\"Helvetica,sans-Serif\" font-size=\"14.00\">p2_d &lt;= 268.984</text>\n<text text-anchor=\"middle\" x=\"2266.5\" y=\"-438.8\" font-family=\"Helvetica,sans-Serif\" font-size=\"14.00\">entropy = 0.522</text>\n<text text-anchor=\"middle\" x=\"2266.5\" y=\"-423.8\" font-family=\"Helvetica,sans-Serif\" font-size=\"14.00\">samples = 43</text>\n<text text-anchor=\"middle\" x=\"2266.5\" y=\"-408.8\" font-family=\"Helvetica,sans-Serif\" font-size=\"14.00\">value = [0, 3, 1, 0, 0, 39]</text>\n</g>\n<!-- 41&#45;&gt;42 -->\n<g id=\"edge42\" class=\"edge\">\n<title>41&#45;&gt;42</title>\n<path fill=\"none\" stroke=\"black\" d=\"M2325.93,-504.88C2318.24,-495.98 2309.84,-486.24 2301.84,-476.96\"/>\n<polygon fill=\"black\" stroke=\"black\" points=\"2304.41,-474.58 2295.23,-469.3 2299.11,-479.16 2304.41,-474.58\"/>\n</g>\n<!-- 55 -->\n<g id=\"node56\" class=\"node\">\n<title>55</title>\n<polygon fill=\"none\" stroke=\"black\" points=\"2521,-461.5 2366,-461.5 2366,-408.5 2521,-408.5 2521,-461.5\"/>\n<text text-anchor=\"middle\" x=\"2443.5\" y=\"-446.3\" font-family=\"Helvetica,sans-Serif\" font-size=\"14.00\">entropy = 0.0</text>\n<text text-anchor=\"middle\" x=\"2443.5\" y=\"-431.3\" font-family=\"Helvetica,sans-Serif\" font-size=\"14.00\">samples = 1</text>\n<text text-anchor=\"middle\" x=\"2443.5\" y=\"-416.3\" font-family=\"Helvetica,sans-Serif\" font-size=\"14.00\">value = [0, 0, 0, 1, 0, 0]</text>\n</g>\n<!-- 41&#45;&gt;55 -->\n<g id=\"edge55\" class=\"edge\">\n<title>41&#45;&gt;55</title>\n<path fill=\"none\" stroke=\"black\" d=\"M2383.4,-504.88C2393.38,-493.45 2404.55,-480.63 2414.54,-469.19\"/>\n<polygon fill=\"black\" stroke=\"black\" points=\"2417.3,-471.36 2421.23,-461.52 2412.02,-466.75 2417.3,-471.36\"/>\n</g>\n<!-- 43 -->\n<g id=\"node44\" class=\"node\">\n<title>43</title>\n<polygon fill=\"none\" stroke=\"black\" points=\"2246,-365 2091,-365 2091,-297 2246,-297 2246,-365\"/>\n<text text-anchor=\"middle\" x=\"2168.5\" y=\"-349.8\" font-family=\"Helvetica,sans-Serif\" font-size=\"14.00\">p2_ip &lt;= 20.5</text>\n<text text-anchor=\"middle\" x=\"2168.5\" y=\"-334.8\" font-family=\"Helvetica,sans-Serif\" font-size=\"14.00\">entropy = 1.585</text>\n<text text-anchor=\"middle\" x=\"2168.5\" y=\"-319.8\" font-family=\"Helvetica,sans-Serif\" font-size=\"14.00\">samples = 3</text>\n<text text-anchor=\"middle\" x=\"2168.5\" y=\"-304.8\" font-family=\"Helvetica,sans-Serif\" font-size=\"14.00\">value = [0, 1, 1, 0, 0, 1]</text>\n</g>\n<!-- 42&#45;&gt;43 -->\n<g id=\"edge43\" class=\"edge\">\n<title>42&#45;&gt;43</title>\n<path fill=\"none\" stroke=\"black\" d=\"M2234.68,-400.88C2226.04,-391.89 2216.58,-382.04 2207.58,-372.68\"/>\n<polygon fill=\"black\" stroke=\"black\" points=\"2209.95,-370.09 2200.49,-365.3 2204.9,-374.94 2209.95,-370.09\"/>\n</g>\n<!-- 48 -->\n<g id=\"node49\" class=\"node\">\n<title>48</title>\n<polygon fill=\"none\" stroke=\"black\" points=\"2426.5,-365 2264.5,-365 2264.5,-297 2426.5,-297 2426.5,-365\"/>\n<text text-anchor=\"middle\" x=\"2345.5\" y=\"-349.8\" font-family=\"Helvetica,sans-Serif\" font-size=\"14.00\">Avg_bpp &lt;= 344.5</text>\n<text text-anchor=\"middle\" x=\"2345.5\" y=\"-334.8\" font-family=\"Helvetica,sans-Serif\" font-size=\"14.00\">entropy = 0.286</text>\n<text text-anchor=\"middle\" x=\"2345.5\" y=\"-319.8\" font-family=\"Helvetica,sans-Serif\" font-size=\"14.00\">samples = 40</text>\n<text text-anchor=\"middle\" x=\"2345.5\" y=\"-304.8\" font-family=\"Helvetica,sans-Serif\" font-size=\"14.00\">value = [0, 2, 0, 0, 0, 38]</text>\n</g>\n<!-- 42&#45;&gt;48 -->\n<g id=\"edge48\" class=\"edge\">\n<title>42&#45;&gt;48</title>\n<path fill=\"none\" stroke=\"black\" d=\"M2292.15,-400.88C2298.98,-392.07 2306.44,-382.43 2313.56,-373.24\"/>\n<polygon fill=\"black\" stroke=\"black\" points=\"2316.35,-375.35 2319.71,-365.3 2310.82,-371.06 2316.35,-375.35\"/>\n</g>\n<!-- 44 -->\n<g id=\"node45\" class=\"node\">\n<title>44</title>\n<polygon fill=\"none\" stroke=\"black\" points=\"2073,-253.5 1918,-253.5 1918,-200.5 2073,-200.5 2073,-253.5\"/>\n<text text-anchor=\"middle\" x=\"1995.5\" y=\"-238.3\" font-family=\"Helvetica,sans-Serif\" font-size=\"14.00\">entropy = 0.0</text>\n<text text-anchor=\"middle\" x=\"1995.5\" y=\"-223.3\" font-family=\"Helvetica,sans-Serif\" font-size=\"14.00\">samples = 1</text>\n<text text-anchor=\"middle\" x=\"1995.5\" y=\"-208.3\" font-family=\"Helvetica,sans-Serif\" font-size=\"14.00\">value = [0, 0, 1, 0, 0, 0]</text>\n</g>\n<!-- 43&#45;&gt;44 -->\n<g id=\"edge44\" class=\"edge\">\n<title>43&#45;&gt;44</title>\n<path fill=\"none\" stroke=\"black\" d=\"M2112.33,-296.88C2091.53,-284.62 2068.06,-270.78 2047.63,-258.74\"/>\n<polygon fill=\"black\" stroke=\"black\" points=\"2049.18,-255.58 2038.78,-253.52 2045.62,-261.61 2049.18,-255.58\"/>\n</g>\n<!-- 45 -->\n<g id=\"node46\" class=\"node\">\n<title>45</title>\n<polygon fill=\"none\" stroke=\"black\" points=\"2246,-261 2091,-261 2091,-193 2246,-193 2246,-261\"/>\n<text text-anchor=\"middle\" x=\"2168.5\" y=\"-245.8\" font-family=\"Helvetica,sans-Serif\" font-size=\"14.00\">p2_ib &lt;= 6809.5</text>\n<text text-anchor=\"middle\" x=\"2168.5\" y=\"-230.8\" font-family=\"Helvetica,sans-Serif\" font-size=\"14.00\">entropy = 1.0</text>\n<text text-anchor=\"middle\" x=\"2168.5\" y=\"-215.8\" font-family=\"Helvetica,sans-Serif\" font-size=\"14.00\">samples = 2</text>\n<text text-anchor=\"middle\" x=\"2168.5\" y=\"-200.8\" font-family=\"Helvetica,sans-Serif\" font-size=\"14.00\">value = [0, 1, 0, 0, 0, 1]</text>\n</g>\n<!-- 43&#45;&gt;45 -->\n<g id=\"edge45\" class=\"edge\">\n<title>43&#45;&gt;45</title>\n<path fill=\"none\" stroke=\"black\" d=\"M2168.5,-296.88C2168.5,-288.78 2168.5,-279.98 2168.5,-271.47\"/>\n<polygon fill=\"black\" stroke=\"black\" points=\"2172,-271.3 2168.5,-261.3 2165,-271.3 2172,-271.3\"/>\n</g>\n<!-- 46 -->\n<g id=\"node47\" class=\"node\">\n<title>46</title>\n<polygon fill=\"none\" stroke=\"black\" points=\"2079,-149.5 1924,-149.5 1924,-96.5 2079,-96.5 2079,-149.5\"/>\n<text text-anchor=\"middle\" x=\"2001.5\" y=\"-134.3\" font-family=\"Helvetica,sans-Serif\" font-size=\"14.00\">entropy = 0.0</text>\n<text text-anchor=\"middle\" x=\"2001.5\" y=\"-119.3\" font-family=\"Helvetica,sans-Serif\" font-size=\"14.00\">samples = 1</text>\n<text text-anchor=\"middle\" x=\"2001.5\" y=\"-104.3\" font-family=\"Helvetica,sans-Serif\" font-size=\"14.00\">value = [0, 1, 0, 0, 0, 0]</text>\n</g>\n<!-- 45&#45;&gt;46 -->\n<g id=\"edge46\" class=\"edge\">\n<title>45&#45;&gt;46</title>\n<path fill=\"none\" stroke=\"black\" d=\"M2114.28,-192.88C2094.2,-180.62 2071.54,-166.78 2051.82,-154.74\"/>\n<polygon fill=\"black\" stroke=\"black\" points=\"2053.64,-151.75 2043.28,-149.52 2049.99,-157.72 2053.64,-151.75\"/>\n</g>\n<!-- 47 -->\n<g id=\"node48\" class=\"node\">\n<title>47</title>\n<polygon fill=\"none\" stroke=\"black\" points=\"2252,-149.5 2097,-149.5 2097,-96.5 2252,-96.5 2252,-149.5\"/>\n<text text-anchor=\"middle\" x=\"2174.5\" y=\"-134.3\" font-family=\"Helvetica,sans-Serif\" font-size=\"14.00\">entropy = 0.0</text>\n<text text-anchor=\"middle\" x=\"2174.5\" y=\"-119.3\" font-family=\"Helvetica,sans-Serif\" font-size=\"14.00\">samples = 1</text>\n<text text-anchor=\"middle\" x=\"2174.5\" y=\"-104.3\" font-family=\"Helvetica,sans-Serif\" font-size=\"14.00\">value = [0, 0, 0, 0, 0, 1]</text>\n</g>\n<!-- 45&#45;&gt;47 -->\n<g id=\"edge47\" class=\"edge\">\n<title>45&#45;&gt;47</title>\n<path fill=\"none\" stroke=\"black\" d=\"M2170.45,-192.88C2171.08,-182.22 2171.77,-170.35 2172.41,-159.52\"/>\n<polygon fill=\"black\" stroke=\"black\" points=\"2175.91,-159.71 2173,-149.52 2168.92,-159.3 2175.91,-159.71\"/>\n</g>\n<!-- 49 -->\n<g id=\"node50\" class=\"node\">\n<title>49</title>\n<polygon fill=\"none\" stroke=\"black\" points=\"2426.5,-253.5 2264.5,-253.5 2264.5,-200.5 2426.5,-200.5 2426.5,-253.5\"/>\n<text text-anchor=\"middle\" x=\"2345.5\" y=\"-238.3\" font-family=\"Helvetica,sans-Serif\" font-size=\"14.00\">entropy = 0.0</text>\n<text text-anchor=\"middle\" x=\"2345.5\" y=\"-223.3\" font-family=\"Helvetica,sans-Serif\" font-size=\"14.00\">samples = 26</text>\n<text text-anchor=\"middle\" x=\"2345.5\" y=\"-208.3\" font-family=\"Helvetica,sans-Serif\" font-size=\"14.00\">value = [0, 0, 0, 0, 0, 26]</text>\n</g>\n<!-- 48&#45;&gt;49 -->\n<g id=\"edge49\" class=\"edge\">\n<title>48&#45;&gt;49</title>\n<path fill=\"none\" stroke=\"black\" d=\"M2345.5,-296.88C2345.5,-286.33 2345.5,-274.6 2345.5,-263.85\"/>\n<polygon fill=\"black\" stroke=\"black\" points=\"2349,-263.52 2345.5,-253.52 2342,-263.52 2349,-263.52\"/>\n</g>\n<!-- 50 -->\n<g id=\"node51\" class=\"node\">\n<title>50</title>\n<polygon fill=\"none\" stroke=\"black\" points=\"2606.5,-261 2444.5,-261 2444.5,-193 2606.5,-193 2606.5,-261\"/>\n<text text-anchor=\"middle\" x=\"2525.5\" y=\"-245.8\" font-family=\"Helvetica,sans-Serif\" font-size=\"14.00\">p2_ib &lt;= 10505.25</text>\n<text text-anchor=\"middle\" x=\"2525.5\" y=\"-230.8\" font-family=\"Helvetica,sans-Serif\" font-size=\"14.00\">entropy = 0.592</text>\n<text text-anchor=\"middle\" x=\"2525.5\" y=\"-215.8\" font-family=\"Helvetica,sans-Serif\" font-size=\"14.00\">samples = 14</text>\n<text text-anchor=\"middle\" x=\"2525.5\" y=\"-200.8\" font-family=\"Helvetica,sans-Serif\" font-size=\"14.00\">value = [0, 2, 0, 0, 0, 12]</text>\n</g>\n<!-- 48&#45;&gt;50 -->\n<g id=\"edge50\" class=\"edge\">\n<title>48&#45;&gt;50</title>\n<path fill=\"none\" stroke=\"black\" d=\"M2403.94,-296.88C2421.16,-287.12 2440.15,-276.37 2457.89,-266.31\"/>\n<polygon fill=\"black\" stroke=\"black\" points=\"2460.07,-269.1 2467.04,-261.12 2456.62,-263.01 2460.07,-269.1\"/>\n</g>\n<!-- 51 -->\n<g id=\"node52\" class=\"node\">\n<title>51</title>\n<polygon fill=\"none\" stroke=\"black\" points=\"2430,-157 2275,-157 2275,-89 2430,-89 2430,-157\"/>\n<text text-anchor=\"middle\" x=\"2352.5\" y=\"-141.8\" font-family=\"Helvetica,sans-Serif\" font-size=\"14.00\">p2_d &lt;= 421.04</text>\n<text text-anchor=\"middle\" x=\"2352.5\" y=\"-126.8\" font-family=\"Helvetica,sans-Serif\" font-size=\"14.00\">entropy = 0.971</text>\n<text text-anchor=\"middle\" x=\"2352.5\" y=\"-111.8\" font-family=\"Helvetica,sans-Serif\" font-size=\"14.00\">samples = 5</text>\n<text text-anchor=\"middle\" x=\"2352.5\" y=\"-96.8\" font-family=\"Helvetica,sans-Serif\" font-size=\"14.00\">value = [0, 2, 0, 0, 0, 3]</text>\n</g>\n<!-- 50&#45;&gt;51 -->\n<g id=\"edge51\" class=\"edge\">\n<title>50&#45;&gt;51</title>\n<path fill=\"none\" stroke=\"black\" d=\"M2469.33,-192.88C2452.78,-183.12 2434.53,-172.37 2417.48,-162.31\"/>\n<polygon fill=\"black\" stroke=\"black\" points=\"2419.07,-159.19 2408.68,-157.12 2415.52,-165.22 2419.07,-159.19\"/>\n</g>\n<!-- 54 -->\n<g id=\"node55\" class=\"node\">\n<title>54</title>\n<polygon fill=\"none\" stroke=\"black\" points=\"2603,-149.5 2448,-149.5 2448,-96.5 2603,-96.5 2603,-149.5\"/>\n<text text-anchor=\"middle\" x=\"2525.5\" y=\"-134.3\" font-family=\"Helvetica,sans-Serif\" font-size=\"14.00\">entropy = 0.0</text>\n<text text-anchor=\"middle\" x=\"2525.5\" y=\"-119.3\" font-family=\"Helvetica,sans-Serif\" font-size=\"14.00\">samples = 9</text>\n<text text-anchor=\"middle\" x=\"2525.5\" y=\"-104.3\" font-family=\"Helvetica,sans-Serif\" font-size=\"14.00\">value = [0, 0, 0, 0, 0, 9]</text>\n</g>\n<!-- 50&#45;&gt;54 -->\n<g id=\"edge54\" class=\"edge\">\n<title>50&#45;&gt;54</title>\n<path fill=\"none\" stroke=\"black\" d=\"M2525.5,-192.88C2525.5,-182.33 2525.5,-170.6 2525.5,-159.85\"/>\n<polygon fill=\"black\" stroke=\"black\" points=\"2529,-159.52 2525.5,-149.52 2522,-159.52 2529,-159.52\"/>\n</g>\n<!-- 52 -->\n<g id=\"node53\" class=\"node\">\n<title>52</title>\n<polygon fill=\"none\" stroke=\"black\" points=\"2344,-53 2189,-53 2189,0 2344,0 2344,-53\"/>\n<text text-anchor=\"middle\" x=\"2266.5\" y=\"-37.8\" font-family=\"Helvetica,sans-Serif\" font-size=\"14.00\">entropy = 0.0</text>\n<text text-anchor=\"middle\" x=\"2266.5\" y=\"-22.8\" font-family=\"Helvetica,sans-Serif\" font-size=\"14.00\">samples = 3</text>\n<text text-anchor=\"middle\" x=\"2266.5\" y=\"-7.8\" font-family=\"Helvetica,sans-Serif\" font-size=\"14.00\">value = [0, 0, 0, 0, 0, 3]</text>\n</g>\n<!-- 51&#45;&gt;52 -->\n<g id=\"edge52\" class=\"edge\">\n<title>51&#45;&gt;52</title>\n<path fill=\"none\" stroke=\"black\" d=\"M2322.42,-88.95C2314.1,-79.8 2305.06,-69.87 2296.73,-60.71\"/>\n<polygon fill=\"black\" stroke=\"black\" points=\"2299.24,-58.28 2289.92,-53.24 2294.06,-62.99 2299.24,-58.28\"/>\n</g>\n<!-- 53 -->\n<g id=\"node54\" class=\"node\">\n<title>53</title>\n<polygon fill=\"none\" stroke=\"black\" points=\"2517,-53 2362,-53 2362,0 2517,0 2517,-53\"/>\n<text text-anchor=\"middle\" x=\"2439.5\" y=\"-37.8\" font-family=\"Helvetica,sans-Serif\" font-size=\"14.00\">entropy = 0.0</text>\n<text text-anchor=\"middle\" x=\"2439.5\" y=\"-22.8\" font-family=\"Helvetica,sans-Serif\" font-size=\"14.00\">samples = 2</text>\n<text text-anchor=\"middle\" x=\"2439.5\" y=\"-7.8\" font-family=\"Helvetica,sans-Serif\" font-size=\"14.00\">value = [0, 2, 0, 0, 0, 0]</text>\n</g>\n<!-- 51&#45;&gt;53 -->\n<g id=\"edge53\" class=\"edge\">\n<title>51&#45;&gt;53</title>\n<path fill=\"none\" stroke=\"black\" d=\"M2382.93,-88.95C2391.35,-79.8 2400.49,-69.87 2408.92,-60.71\"/>\n<polygon fill=\"black\" stroke=\"black\" points=\"2411.61,-62.96 2415.81,-53.24 2406.46,-58.22 2411.61,-62.96\"/>\n</g>\n<!-- 57 -->\n<g id=\"node58\" class=\"node\">\n<title>57</title>\n<polygon fill=\"none\" stroke=\"black\" points=\"2957.5,-469 2795.5,-469 2795.5,-401 2957.5,-401 2957.5,-469\"/>\n<text text-anchor=\"middle\" x=\"2876.5\" y=\"-453.8\" font-family=\"Helvetica,sans-Serif\" font-size=\"14.00\">p3_d &lt;= 290.44</text>\n<text text-anchor=\"middle\" x=\"2876.5\" y=\"-438.8\" font-family=\"Helvetica,sans-Serif\" font-size=\"14.00\">entropy = 0.391</text>\n<text text-anchor=\"middle\" x=\"2876.5\" y=\"-423.8\" font-family=\"Helvetica,sans-Serif\" font-size=\"14.00\">samples = 78</text>\n<text text-anchor=\"middle\" x=\"2876.5\" y=\"-408.8\" font-family=\"Helvetica,sans-Serif\" font-size=\"14.00\">value = [0, 72, 0, 0, 0, 6]</text>\n</g>\n<!-- 56&#45;&gt;57 -->\n<g id=\"edge57\" class=\"edge\">\n<title>56&#45;&gt;57</title>\n<path fill=\"none\" stroke=\"black\" d=\"M2876.5,-504.88C2876.5,-496.78 2876.5,-487.98 2876.5,-479.47\"/>\n<polygon fill=\"black\" stroke=\"black\" points=\"2880,-479.3 2876.5,-469.3 2873,-479.3 2880,-479.3\"/>\n</g>\n<!-- 68 -->\n<g id=\"node69\" class=\"node\">\n<title>68</title>\n<polygon fill=\"none\" stroke=\"black\" points=\"3221,-469 3066,-469 3066,-401 3221,-401 3221,-469\"/>\n<text text-anchor=\"middle\" x=\"3143.5\" y=\"-453.8\" font-family=\"Helvetica,sans-Serif\" font-size=\"14.00\">Avg_bpp &lt;= 414.5</text>\n<text text-anchor=\"middle\" x=\"3143.5\" y=\"-438.8\" font-family=\"Helvetica,sans-Serif\" font-size=\"14.00\">entropy = 0.946</text>\n<text text-anchor=\"middle\" x=\"3143.5\" y=\"-423.8\" font-family=\"Helvetica,sans-Serif\" font-size=\"14.00\">samples = 11</text>\n<text text-anchor=\"middle\" x=\"3143.5\" y=\"-408.8\" font-family=\"Helvetica,sans-Serif\" font-size=\"14.00\">value = [0, 4, 0, 0, 0, 7]</text>\n</g>\n<!-- 56&#45;&gt;68 -->\n<g id=\"edge68\" class=\"edge\">\n<title>56&#45;&gt;68</title>\n<path fill=\"none\" stroke=\"black\" d=\"M2961.71,-505.45C2991.87,-493.92 3025.83,-480.95 3056.16,-469.36\"/>\n<polygon fill=\"black\" stroke=\"black\" points=\"3057.78,-472.49 3065.88,-465.65 3055.29,-465.95 3057.78,-472.49\"/>\n</g>\n<!-- 58 -->\n<g id=\"node59\" class=\"node\">\n<title>58</title>\n<polygon fill=\"none\" stroke=\"black\" points=\"2867.5,-365 2705.5,-365 2705.5,-297 2867.5,-297 2867.5,-365\"/>\n<text text-anchor=\"middle\" x=\"2786.5\" y=\"-349.8\" font-family=\"Helvetica,sans-Serif\" font-size=\"14.00\">p3_ip &lt;= 20.5</text>\n<text text-anchor=\"middle\" x=\"2786.5\" y=\"-334.8\" font-family=\"Helvetica,sans-Serif\" font-size=\"14.00\">entropy = 0.619</text>\n<text text-anchor=\"middle\" x=\"2786.5\" y=\"-319.8\" font-family=\"Helvetica,sans-Serif\" font-size=\"14.00\">samples = 39</text>\n<text text-anchor=\"middle\" x=\"2786.5\" y=\"-304.8\" font-family=\"Helvetica,sans-Serif\" font-size=\"14.00\">value = [0, 33, 0, 0, 0, 6]</text>\n</g>\n<!-- 57&#45;&gt;58 -->\n<g id=\"edge58\" class=\"edge\">\n<title>57&#45;&gt;58</title>\n<path fill=\"none\" stroke=\"black\" d=\"M2847.28,-400.88C2839.42,-391.98 2830.83,-382.24 2822.64,-372.96\"/>\n<polygon fill=\"black\" stroke=\"black\" points=\"2825.12,-370.48 2815.88,-365.3 2819.87,-375.11 2825.12,-370.48\"/>\n</g>\n<!-- 67 -->\n<g id=\"node68\" class=\"node\">\n<title>67</title>\n<polygon fill=\"none\" stroke=\"black\" points=\"3047.5,-357.5 2885.5,-357.5 2885.5,-304.5 3047.5,-304.5 3047.5,-357.5\"/>\n<text text-anchor=\"middle\" x=\"2966.5\" y=\"-342.3\" font-family=\"Helvetica,sans-Serif\" font-size=\"14.00\">entropy = 0.0</text>\n<text text-anchor=\"middle\" x=\"2966.5\" y=\"-327.3\" font-family=\"Helvetica,sans-Serif\" font-size=\"14.00\">samples = 39</text>\n<text text-anchor=\"middle\" x=\"2966.5\" y=\"-312.3\" font-family=\"Helvetica,sans-Serif\" font-size=\"14.00\">value = [0, 39, 0, 0, 0, 0]</text>\n</g>\n<!-- 57&#45;&gt;67 -->\n<g id=\"edge67\" class=\"edge\">\n<title>57&#45;&gt;67</title>\n<path fill=\"none\" stroke=\"black\" d=\"M2905.72,-400.88C2915.81,-389.45 2927.12,-376.63 2937.21,-365.19\"/>\n<polygon fill=\"black\" stroke=\"black\" points=\"2939.99,-367.33 2943.98,-357.52 2934.74,-362.7 2939.99,-367.33\"/>\n</g>\n<!-- 59 -->\n<g id=\"node60\" class=\"node\">\n<title>59</title>\n<polygon fill=\"none\" stroke=\"black\" points=\"2867.5,-261 2705.5,-261 2705.5,-193 2867.5,-193 2867.5,-261\"/>\n<text text-anchor=\"middle\" x=\"2786.5\" y=\"-245.8\" font-family=\"Helvetica,sans-Serif\" font-size=\"14.00\">Avg_bpp &lt;= 429.5</text>\n<text text-anchor=\"middle\" x=\"2786.5\" y=\"-230.8\" font-family=\"Helvetica,sans-Serif\" font-size=\"14.00\">entropy = 0.196</text>\n<text text-anchor=\"middle\" x=\"2786.5\" y=\"-215.8\" font-family=\"Helvetica,sans-Serif\" font-size=\"14.00\">samples = 33</text>\n<text text-anchor=\"middle\" x=\"2786.5\" y=\"-200.8\" font-family=\"Helvetica,sans-Serif\" font-size=\"14.00\">value = [0, 32, 0, 0, 0, 1]</text>\n</g>\n<!-- 58&#45;&gt;59 -->\n<g id=\"edge59\" class=\"edge\">\n<title>58&#45;&gt;59</title>\n<path fill=\"none\" stroke=\"black\" d=\"M2786.5,-296.88C2786.5,-288.78 2786.5,-279.98 2786.5,-271.47\"/>\n<polygon fill=\"black\" stroke=\"black\" points=\"2790,-271.3 2786.5,-261.3 2783,-271.3 2790,-271.3\"/>\n</g>\n<!-- 64 -->\n<g id=\"node65\" class=\"node\">\n<title>64</title>\n<polygon fill=\"none\" stroke=\"black\" points=\"3130,-261 2975,-261 2975,-193 3130,-193 3130,-261\"/>\n<text text-anchor=\"middle\" x=\"3052.5\" y=\"-245.8\" font-family=\"Helvetica,sans-Serif\" font-size=\"14.00\">min_d &lt;= 258.392</text>\n<text text-anchor=\"middle\" x=\"3052.5\" y=\"-230.8\" font-family=\"Helvetica,sans-Serif\" font-size=\"14.00\">entropy = 0.65</text>\n<text text-anchor=\"middle\" x=\"3052.5\" y=\"-215.8\" font-family=\"Helvetica,sans-Serif\" font-size=\"14.00\">samples = 6</text>\n<text text-anchor=\"middle\" x=\"3052.5\" y=\"-200.8\" font-family=\"Helvetica,sans-Serif\" font-size=\"14.00\">value = [0, 1, 0, 0, 0, 5]</text>\n</g>\n<!-- 58&#45;&gt;64 -->\n<g id=\"edge64\" class=\"edge\">\n<title>58&#45;&gt;64</title>\n<path fill=\"none\" stroke=\"black\" d=\"M2867.75,-298.84C2898.63,-287 2933.92,-273.47 2965.32,-261.43\"/>\n<polygon fill=\"black\" stroke=\"black\" points=\"2966.85,-264.59 2974.93,-257.74 2964.34,-258.06 2966.85,-264.59\"/>\n</g>\n<!-- 60 -->\n<g id=\"node61\" class=\"node\">\n<title>60</title>\n<polygon fill=\"none\" stroke=\"black\" points=\"2776,-157 2621,-157 2621,-89 2776,-89 2776,-157\"/>\n<text text-anchor=\"middle\" x=\"2698.5\" y=\"-141.8\" font-family=\"Helvetica,sans-Serif\" font-size=\"14.00\">Avg_bpp &lt;= 421.5</text>\n<text text-anchor=\"middle\" x=\"2698.5\" y=\"-126.8\" font-family=\"Helvetica,sans-Serif\" font-size=\"14.00\">entropy = 0.469</text>\n<text text-anchor=\"middle\" x=\"2698.5\" y=\"-111.8\" font-family=\"Helvetica,sans-Serif\" font-size=\"14.00\">samples = 10</text>\n<text text-anchor=\"middle\" x=\"2698.5\" y=\"-96.8\" font-family=\"Helvetica,sans-Serif\" font-size=\"14.00\">value = [0, 9, 0, 0, 0, 1]</text>\n</g>\n<!-- 59&#45;&gt;60 -->\n<g id=\"edge60\" class=\"edge\">\n<title>59&#45;&gt;60</title>\n<path fill=\"none\" stroke=\"black\" d=\"M2757.93,-192.88C2750.24,-183.98 2741.84,-174.24 2733.84,-164.96\"/>\n<polygon fill=\"black\" stroke=\"black\" points=\"2736.41,-162.58 2727.23,-157.3 2731.11,-167.16 2736.41,-162.58\"/>\n</g>\n<!-- 63 -->\n<g id=\"node64\" class=\"node\">\n<title>63</title>\n<polygon fill=\"none\" stroke=\"black\" points=\"2956.5,-149.5 2794.5,-149.5 2794.5,-96.5 2956.5,-96.5 2956.5,-149.5\"/>\n<text text-anchor=\"middle\" x=\"2875.5\" y=\"-134.3\" font-family=\"Helvetica,sans-Serif\" font-size=\"14.00\">entropy = 0.0</text>\n<text text-anchor=\"middle\" x=\"2875.5\" y=\"-119.3\" font-family=\"Helvetica,sans-Serif\" font-size=\"14.00\">samples = 23</text>\n<text text-anchor=\"middle\" x=\"2875.5\" y=\"-104.3\" font-family=\"Helvetica,sans-Serif\" font-size=\"14.00\">value = [0, 23, 0, 0, 0, 0]</text>\n</g>\n<!-- 59&#45;&gt;63 -->\n<g id=\"edge63\" class=\"edge\">\n<title>59&#45;&gt;63</title>\n<path fill=\"none\" stroke=\"black\" d=\"M2815.4,-192.88C2825.38,-181.45 2836.55,-168.63 2846.54,-157.19\"/>\n<polygon fill=\"black\" stroke=\"black\" points=\"2849.3,-159.36 2853.23,-149.52 2844.02,-154.75 2849.3,-159.36\"/>\n</g>\n<!-- 61 -->\n<g id=\"node62\" class=\"node\">\n<title>61</title>\n<polygon fill=\"none\" stroke=\"black\" points=\"2690,-53 2535,-53 2535,0 2690,0 2690,-53\"/>\n<text text-anchor=\"middle\" x=\"2612.5\" y=\"-37.8\" font-family=\"Helvetica,sans-Serif\" font-size=\"14.00\">entropy = 0.0</text>\n<text text-anchor=\"middle\" x=\"2612.5\" y=\"-22.8\" font-family=\"Helvetica,sans-Serif\" font-size=\"14.00\">samples = 9</text>\n<text text-anchor=\"middle\" x=\"2612.5\" y=\"-7.8\" font-family=\"Helvetica,sans-Serif\" font-size=\"14.00\">value = [0, 9, 0, 0, 0, 0]</text>\n</g>\n<!-- 60&#45;&gt;61 -->\n<g id=\"edge61\" class=\"edge\">\n<title>60&#45;&gt;61</title>\n<path fill=\"none\" stroke=\"black\" d=\"M2668.42,-88.95C2660.1,-79.8 2651.06,-69.87 2642.73,-60.71\"/>\n<polygon fill=\"black\" stroke=\"black\" points=\"2645.24,-58.28 2635.92,-53.24 2640.06,-62.99 2645.24,-58.28\"/>\n</g>\n<!-- 62 -->\n<g id=\"node63\" class=\"node\">\n<title>62</title>\n<polygon fill=\"none\" stroke=\"black\" points=\"2863,-53 2708,-53 2708,0 2863,0 2863,-53\"/>\n<text text-anchor=\"middle\" x=\"2785.5\" y=\"-37.8\" font-family=\"Helvetica,sans-Serif\" font-size=\"14.00\">entropy = 0.0</text>\n<text text-anchor=\"middle\" x=\"2785.5\" y=\"-22.8\" font-family=\"Helvetica,sans-Serif\" font-size=\"14.00\">samples = 1</text>\n<text text-anchor=\"middle\" x=\"2785.5\" y=\"-7.8\" font-family=\"Helvetica,sans-Serif\" font-size=\"14.00\">value = [0, 0, 0, 0, 0, 1]</text>\n</g>\n<!-- 60&#45;&gt;62 -->\n<g id=\"edge62\" class=\"edge\">\n<title>60&#45;&gt;62</title>\n<path fill=\"none\" stroke=\"black\" d=\"M2728.93,-88.95C2737.35,-79.8 2746.49,-69.87 2754.92,-60.71\"/>\n<polygon fill=\"black\" stroke=\"black\" points=\"2757.61,-62.96 2761.81,-53.24 2752.46,-58.22 2757.61,-62.96\"/>\n</g>\n<!-- 65 -->\n<g id=\"node66\" class=\"node\">\n<title>65</title>\n<polygon fill=\"none\" stroke=\"black\" points=\"3130,-149.5 2975,-149.5 2975,-96.5 3130,-96.5 3130,-149.5\"/>\n<text text-anchor=\"middle\" x=\"3052.5\" y=\"-134.3\" font-family=\"Helvetica,sans-Serif\" font-size=\"14.00\">entropy = 0.0</text>\n<text text-anchor=\"middle\" x=\"3052.5\" y=\"-119.3\" font-family=\"Helvetica,sans-Serif\" font-size=\"14.00\">samples = 1</text>\n<text text-anchor=\"middle\" x=\"3052.5\" y=\"-104.3\" font-family=\"Helvetica,sans-Serif\" font-size=\"14.00\">value = [0, 1, 0, 0, 0, 0]</text>\n</g>\n<!-- 64&#45;&gt;65 -->\n<g id=\"edge65\" class=\"edge\">\n<title>64&#45;&gt;65</title>\n<path fill=\"none\" stroke=\"black\" d=\"M3052.5,-192.88C3052.5,-182.33 3052.5,-170.6 3052.5,-159.85\"/>\n<polygon fill=\"black\" stroke=\"black\" points=\"3056,-159.52 3052.5,-149.52 3049,-159.52 3056,-159.52\"/>\n</g>\n<!-- 66 -->\n<g id=\"node67\" class=\"node\">\n<title>66</title>\n<polygon fill=\"none\" stroke=\"black\" points=\"3303,-149.5 3148,-149.5 3148,-96.5 3303,-96.5 3303,-149.5\"/>\n<text text-anchor=\"middle\" x=\"3225.5\" y=\"-134.3\" font-family=\"Helvetica,sans-Serif\" font-size=\"14.00\">entropy = 0.0</text>\n<text text-anchor=\"middle\" x=\"3225.5\" y=\"-119.3\" font-family=\"Helvetica,sans-Serif\" font-size=\"14.00\">samples = 5</text>\n<text text-anchor=\"middle\" x=\"3225.5\" y=\"-104.3\" font-family=\"Helvetica,sans-Serif\" font-size=\"14.00\">value = [0, 0, 0, 0, 0, 5]</text>\n</g>\n<!-- 64&#45;&gt;66 -->\n<g id=\"edge66\" class=\"edge\">\n<title>64&#45;&gt;66</title>\n<path fill=\"none\" stroke=\"black\" d=\"M3108.67,-192.88C3129.47,-180.62 3152.94,-166.78 3173.37,-154.74\"/>\n<polygon fill=\"black\" stroke=\"black\" points=\"3175.38,-157.61 3182.22,-149.52 3171.82,-151.58 3175.38,-157.61\"/>\n</g>\n<!-- 69 -->\n<g id=\"node70\" class=\"node\">\n<title>69</title>\n<polygon fill=\"none\" stroke=\"black\" points=\"3221,-357.5 3066,-357.5 3066,-304.5 3221,-304.5 3221,-357.5\"/>\n<text text-anchor=\"middle\" x=\"3143.5\" y=\"-342.3\" font-family=\"Helvetica,sans-Serif\" font-size=\"14.00\">entropy = 0.0</text>\n<text text-anchor=\"middle\" x=\"3143.5\" y=\"-327.3\" font-family=\"Helvetica,sans-Serif\" font-size=\"14.00\">samples = 6</text>\n<text text-anchor=\"middle\" x=\"3143.5\" y=\"-312.3\" font-family=\"Helvetica,sans-Serif\" font-size=\"14.00\">value = [0, 0, 0, 0, 0, 6]</text>\n</g>\n<!-- 68&#45;&gt;69 -->\n<g id=\"edge69\" class=\"edge\">\n<title>68&#45;&gt;69</title>\n<path fill=\"none\" stroke=\"black\" d=\"M3143.5,-400.88C3143.5,-390.33 3143.5,-378.6 3143.5,-367.85\"/>\n<polygon fill=\"black\" stroke=\"black\" points=\"3147,-367.52 3143.5,-357.52 3140,-367.52 3147,-367.52\"/>\n</g>\n<!-- 70 -->\n<g id=\"node71\" class=\"node\">\n<title>70</title>\n<polygon fill=\"none\" stroke=\"black\" points=\"3394,-365 3239,-365 3239,-297 3394,-297 3394,-365\"/>\n<text text-anchor=\"middle\" x=\"3316.5\" y=\"-349.8\" font-family=\"Helvetica,sans-Serif\" font-size=\"14.00\">p1_ip &lt;= 38.75</text>\n<text text-anchor=\"middle\" x=\"3316.5\" y=\"-334.8\" font-family=\"Helvetica,sans-Serif\" font-size=\"14.00\">entropy = 0.722</text>\n<text text-anchor=\"middle\" x=\"3316.5\" y=\"-319.8\" font-family=\"Helvetica,sans-Serif\" font-size=\"14.00\">samples = 5</text>\n<text text-anchor=\"middle\" x=\"3316.5\" y=\"-304.8\" font-family=\"Helvetica,sans-Serif\" font-size=\"14.00\">value = [0, 4, 0, 0, 0, 1]</text>\n</g>\n<!-- 68&#45;&gt;70 -->\n<g id=\"edge70\" class=\"edge\">\n<title>68&#45;&gt;70</title>\n<path fill=\"none\" stroke=\"black\" d=\"M3199.67,-400.88C3216.22,-391.12 3234.47,-380.37 3251.52,-370.31\"/>\n<polygon fill=\"black\" stroke=\"black\" points=\"3253.48,-373.22 3260.32,-365.12 3249.93,-367.19 3253.48,-373.22\"/>\n</g>\n<!-- 71 -->\n<g id=\"node72\" class=\"node\">\n<title>71</title>\n<polygon fill=\"none\" stroke=\"black\" points=\"3348,-253.5 3193,-253.5 3193,-200.5 3348,-200.5 3348,-253.5\"/>\n<text text-anchor=\"middle\" x=\"3270.5\" y=\"-238.3\" font-family=\"Helvetica,sans-Serif\" font-size=\"14.00\">entropy = 0.0</text>\n<text text-anchor=\"middle\" x=\"3270.5\" y=\"-223.3\" font-family=\"Helvetica,sans-Serif\" font-size=\"14.00\">samples = 1</text>\n<text text-anchor=\"middle\" x=\"3270.5\" y=\"-208.3\" font-family=\"Helvetica,sans-Serif\" font-size=\"14.00\">value = [0, 0, 0, 0, 0, 1]</text>\n</g>\n<!-- 70&#45;&gt;71 -->\n<g id=\"edge71\" class=\"edge\">\n<title>70&#45;&gt;71</title>\n<path fill=\"none\" stroke=\"black\" d=\"M3301.57,-296.88C3296.65,-286 3291.18,-273.86 3286.22,-262.85\"/>\n<polygon fill=\"black\" stroke=\"black\" points=\"3289.31,-261.2 3282.01,-253.52 3282.93,-264.07 3289.31,-261.2\"/>\n</g>\n<!-- 72 -->\n<g id=\"node73\" class=\"node\">\n<title>72</title>\n<polygon fill=\"none\" stroke=\"black\" points=\"3521,-253.5 3366,-253.5 3366,-200.5 3521,-200.5 3521,-253.5\"/>\n<text text-anchor=\"middle\" x=\"3443.5\" y=\"-238.3\" font-family=\"Helvetica,sans-Serif\" font-size=\"14.00\">entropy = 0.0</text>\n<text text-anchor=\"middle\" x=\"3443.5\" y=\"-223.3\" font-family=\"Helvetica,sans-Serif\" font-size=\"14.00\">samples = 4</text>\n<text text-anchor=\"middle\" x=\"3443.5\" y=\"-208.3\" font-family=\"Helvetica,sans-Serif\" font-size=\"14.00\">value = [0, 4, 0, 0, 0, 0]</text>\n</g>\n<!-- 70&#45;&gt;72 -->\n<g id=\"edge72\" class=\"edge\">\n<title>70&#45;&gt;72</title>\n<path fill=\"none\" stroke=\"black\" d=\"M3357.73,-296.88C3372.52,-285.01 3389.16,-271.65 3403.81,-259.88\"/>\n<polygon fill=\"black\" stroke=\"black\" points=\"3406.12,-262.51 3411.73,-253.52 3401.74,-257.05 3406.12,-262.51\"/>\n</g>\n</g>\n</svg>\n",
            "text/plain": [
              "<graphviz.sources.Source at 0x7d1cc11eb520>"
            ]
          },
          "metadata": {},
          "execution_count": 312
        }
      ]
    },
    {
      "cell_type": "code",
      "source": [
        "y_predict = model_final.predict(X_test)"
      ],
      "metadata": {
        "id": "jKF9kj99TXm0"
      },
      "execution_count": 313,
      "outputs": []
    },
    {
      "cell_type": "code",
      "source": [
        "kward={\"cmap\":\"RdBu\",  \"annot_kws\":{'size': 12}}\n",
        "matrix_confusion(y_test, y_predict, title='confusion matrix', **kward)"
      ],
      "metadata": {
        "id": "3nztEWPr_Lbj",
        "outputId": "d502b897-cdd4-48a2-83e6-111ad14879d0",
        "colab": {
          "base_uri": "https://localhost:8080/",
          "height": 574
        }
      },
      "execution_count": 314,
      "outputs": [
        {
          "output_type": "stream",
          "name": "stdout",
          "text": [
            "The number of FixedLocator locations (6), usually from a call to set_ticks, does not match the number of labels (2).\n"
          ]
        },
        {
          "output_type": "display_data",
          "data": {
            "text/plain": [
              "<Figure size 800x600 with 2 Axes>"
            ],
            "image/png": "[encoded data removed]"
          },
          "metadata": {}
        }
      ]
    },
    {
      "cell_type": "markdown",
      "source": [
        "- A partir de la matriz de confusión, se evidencia que el modelo se equivocó 5 veces en la distinción en registros de bitcoín y litecoin."
      ],
      "metadata": {
        "id": "FOLbgpbvrI6z"
      }
    },
    {
      "cell_type": "code",
      "source": [
        "recall_sc = metrics.recall_score(\n",
        "    y_test,\n",
        "    y_predict,\n",
        "    average='micro',\n",
        "    labels=[1,2,3,4,5])\n",
        "recall_sc"
      ],
      "metadata": {
        "id": "gVaHYfi4uLDj",
        "outputId": "8c7d5c85-bf7c-4f86-bbe8-3d63dab988b1",
        "colab": {
          "base_uri": "https://localhost:8080/"
        }
      },
      "execution_count": 315,
      "outputs": [
        {
          "output_type": "execute_result",
          "data": {
            "text/plain": [
              "0.8972562755399883"
            ]
          },
          "metadata": {},
          "execution_count": 315
        }
      ]
    },
    {
      "cell_type": "markdown",
      "source": [
        "- El modelo tiene un buen rendimiento para distinguir trafico de red entre registros mineros y benignos, aunque parece haber un pequeño sobreajuste"
      ],
      "metadata": {
        "id": "HUsVy__KvCw5"
      }
    },
    {
      "cell_type": "markdown",
      "source": [
        "# **Pospoda**\n",
        "---\n",
        "**Cost Complexity Pruning**\n",
        "La poda de complejidad de costos se trata de encontrar el parámetro correcto para alfa."
      ],
      "metadata": {
        "id": "9h4Z4xDtzjAJ"
      }
    },
    {
      "cell_type": "code",
      "source": [
        "model = DecisionTreeClassifier(random_state=12345)\n",
        "model.fit(X_train, y_train)"
      ],
      "metadata": {
        "id": "DIhEmhujURWl",
        "outputId": "c5fbc3e3-9c62-4902-8ad9-aee5fcd8ef34",
        "colab": {
          "base_uri": "https://localhost:8080/",
          "height": 74
        }
      },
      "execution_count": 316,
      "outputs": [
        {
          "output_type": "execute_result",
          "data": {
            "text/plain": [
              "DecisionTreeClassifier(random_state=12345)"
            ],
            "text/html": [
              "<style>#sk-container-id-26 {color: black;background-color: white;}#sk-container-id-26 pre{padding: 0;}#sk-container-id-26 div.sk-toggleable {background-color: white;}#sk-container-id-26 label.sk-toggleable__label {cursor: pointer;display: block;width: 100%;margin-bottom: 0;padding: 0.3em;box-sizing: border-box;text-align: center;}#sk-container-id-26 label.sk-toggleable__label-arrow:before {content: \"▸\";float: left;margin-right: 0.25em;color: #696969;}#sk-container-id-26 label.sk-toggleable__label-arrow:hover:before {color: black;}#sk-container-id-26 div.sk-estimator:hover label.sk-toggleable__label-arrow:before {color: black;}#sk-container-id-26 div.sk-toggleable__content {max-height: 0;max-width: 0;overflow: hidden;text-align: left;background-color: #f0f8ff;}#sk-container-id-26 div.sk-toggleable__content pre {margin: 0.2em;color: black;border-radius: 0.25em;background-color: #f0f8ff;}#sk-container-id-26 input.sk-toggleable__control:checked~div.sk-toggleable__content {max-height: 200px;max-width: 100%;overflow: auto;}#sk-container-id-26 input.sk-toggleable__control:checked~label.sk-toggleable__label-arrow:before {content: \"▾\";}#sk-container-id-26 div.sk-estimator input.sk-toggleable__control:checked~label.sk-toggleable__label {background-color: #d4ebff;}#sk-container-id-26 div.sk-label input.sk-toggleable__control:checked~label.sk-toggleable__label {background-color: #d4ebff;}#sk-container-id-26 input.sk-hidden--visually {border: 0;clip: rect(1px 1px 1px 1px);clip: rect(1px, 1px, 1px, 1px);height: 1px;margin: -1px;overflow: hidden;padding: 0;position: absolute;width: 1px;}#sk-container-id-26 div.sk-estimator {font-family: monospace;background-color: #f0f8ff;border: 1px dotted black;border-radius: 0.25em;box-sizing: border-box;margin-bottom: 0.5em;}#sk-container-id-26 div.sk-estimator:hover {background-color: #d4ebff;}#sk-container-id-26 div.sk-parallel-item::after {content: \"\";width: 100%;border-bottom: 1px solid gray;flex-grow: 1;}#sk-container-id-26 div.sk-label:hover label.sk-toggleable__label {background-color: #d4ebff;}#sk-container-id-26 div.sk-serial::before {content: \"\";position: absolute;border-left: 1px solid gray;box-sizing: border-box;top: 0;bottom: 0;left: 50%;z-index: 0;}#sk-container-id-26 div.sk-serial {display: flex;flex-direction: column;align-items: center;background-color: white;padding-right: 0.2em;padding-left: 0.2em;position: relative;}#sk-container-id-26 div.sk-item {position: relative;z-index: 1;}#sk-container-id-26 div.sk-parallel {display: flex;align-items: stretch;justify-content: center;background-color: white;position: relative;}#sk-container-id-26 div.sk-item::before, #sk-container-id-26 div.sk-parallel-item::before {content: \"\";position: absolute;border-left: 1px solid gray;box-sizing: border-box;top: 0;bottom: 0;left: 50%;z-index: -1;}#sk-container-id-26 div.sk-parallel-item {display: flex;flex-direction: column;z-index: 1;position: relative;background-color: white;}#sk-container-id-26 div.sk-parallel-item:first-child::after {align-self: flex-end;width: 50%;}#sk-container-id-26 div.sk-parallel-item:last-child::after {align-self: flex-start;width: 50%;}#sk-container-id-26 div.sk-parallel-item:only-child::after {width: 0;}#sk-container-id-26 div.sk-dashed-wrapped {border: 1px dashed gray;margin: 0 0.4em 0.5em 0.4em;box-sizing: border-box;padding-bottom: 0.4em;background-color: white;}#sk-container-id-26 div.sk-label label {font-family: monospace;font-weight: bold;display: inline-block;line-height: 1.2em;}#sk-container-id-26 div.sk-label-container {text-align: center;}#sk-container-id-26 div.sk-container {/* jupyter's `normalize.less` sets `[hidden] { display: none; }` but bootstrap.min.css set `[hidden] { display: none !important; }` so we also need the `!important` here to be able to override the default hidden behavior on the sphinx rendered scikit-learn.org. See: https://github.com/scikit-learn/scikit-learn/issues/21755 */display: inline-block !important;position: relative;}#sk-container-id-26 div.sk-text-repr-fallback {display: none;}</style><div id=\"sk-container-id-26\" class=\"sk-top-container\"><div class=\"sk-text-repr-fallback\"><pre>DecisionTreeClassifier(random_state=12345)</pre><b>In a Jupyter environment, please rerun this cell to show the HTML representation or trust the notebook. <br />On GitHub, the HTML representation is unable to render, please try loading this page with nbviewer.org.</b></div><div class=\"sk-container\" hidden><div class=\"sk-item\"><div class=\"sk-estimator sk-toggleable\"><input class=\"sk-toggleable__control sk-hidden--visually\" id=\"sk-estimator-id-56\" type=\"checkbox\" checked><label for=\"sk-estimator-id-56\" class=\"sk-toggleable__label sk-toggleable__label-arrow\">DecisionTreeClassifier</label><div class=\"sk-toggleable__content\"><pre>DecisionTreeClassifier(random_state=12345)</pre></div></div></div></div></div>"
            ]
          },
          "metadata": {},
          "execution_count": 316
        }
      ]
    },
    {
      "cell_type": "code",
      "source": [
        "tree.plot_tree(model)\n",
        "plt.show()"
      ],
      "metadata": {
        "id": "3nTD_597nfYe",
        "outputId": "09aa30a7-3795-4312-dd1a-7549ba05d8b5",
        "colab": {
          "base_uri": "https://localhost:8080/",
          "height": 406
        }
      },
      "execution_count": 317,
      "outputs": [
        {
          "output_type": "display_data",
          "data": {
            "text/plain": [
              "<Figure size 640x480 with 1 Axes>"
            ],
            "image/png": "[encoded data removed]"
          },
          "metadata": {}
        }
      ]
    },
    {
      "cell_type": "code",
      "source": [
        "path = model.cost_complexity_pruning_path(X_train, y_train)\n",
        "path"
      ],
      "metadata": {
        "id": "gsAlMf4BUvHf",
        "outputId": "6bb67cdf-e3d9-4973-eced-c3dc0926c9fb",
        "colab": {
          "base_uri": "https://localhost:8080/"
        }
      },
      "execution_count": 318,
      "outputs": [
        {
          "output_type": "execute_result",
          "data": {
            "text/plain": [
              "{'ccp_alphas': array([0.        , 0.00163769, 0.00167549, 0.00169835, 0.00171022,\n",
              "        0.00176367, 0.00220459, 0.00282187, 0.00282187, 0.00293945,\n",
              "        0.00312132, 0.00327784, 0.00396439, 0.0048011 , 0.0051248 ,\n",
              "        0.00615681, 0.00658806, 0.00665155, 0.01064271, 0.0167663 ,\n",
              "        0.01722071, 0.01953379, 0.05199207, 0.05619313, 0.08667612,\n",
              "        0.19857633, 0.20847184]),\n",
              " 'impurities': array([0.        , 0.00327538, 0.00997732, 0.01337402, 0.01679447,\n",
              "        0.01855814, 0.02296731, 0.02578918, 0.02861105, 0.03155049,\n",
              "        0.04091446, 0.0441923 , 0.06004987, 0.06485097, 0.08535015,\n",
              "        0.09150695, 0.10468308, 0.11133463, 0.12197734, 0.13874364,\n",
              "        0.15596435, 0.17549814, 0.22749021, 0.28368334, 0.37035945,\n",
              "        0.56893578, 0.77740763])}"
            ]
          },
          "metadata": {},
          "execution_count": 318
        }
      ]
    },
    {
      "cell_type": "code",
      "source": [
        "ccp_alphas, impurities = path.ccp_alphas, path.impurities"
      ],
      "metadata": {
        "id": "20pTEjj69u6l"
      },
      "execution_count": 319,
      "outputs": []
    },
    {
      "cell_type": "code",
      "source": [
        "ccp_alphas[:-1]"
      ],
      "metadata": {
        "id": "AtZElbSw-OKJ",
        "outputId": "1b99a5d4-bee5-46be-ec41-94fb1df45291",
        "colab": {
          "base_uri": "https://localhost:8080/"
        }
      },
      "execution_count": 320,
      "outputs": [
        {
          "output_type": "execute_result",
          "data": {
            "text/plain": [
              "array([0.        , 0.00163769, 0.00167549, 0.00169835, 0.00171022,\n",
              "       0.00176367, 0.00220459, 0.00282187, 0.00282187, 0.00293945,\n",
              "       0.00312132, 0.00327784, 0.00396439, 0.0048011 , 0.0051248 ,\n",
              "       0.00615681, 0.00658806, 0.00665155, 0.01064271, 0.0167663 ,\n",
              "       0.01722071, 0.01953379, 0.05199207, 0.05619313, 0.08667612,\n",
              "       0.19857633])"
            ]
          },
          "metadata": {},
          "execution_count": 320
        }
      ]
    },
    {
      "cell_type": "code",
      "source": [
        "fig, ax = plt.subplots()\n",
        "ax.plot(ccp_alphas[:-1], impurities[:-1], marker=\"o\", drawstyle=\"steps-post\")\n",
        "ax.set_xlabel(\"effective alpha\")\n",
        "ax.set_ylabel(\"total impurity of leaves\")\n",
        "ax.set_title(\"Total Impurity vs effective alpha for training set\")"
      ],
      "metadata": {
        "id": "Ud9kwRkS98gn",
        "outputId": "f269e132-4576-4a60-d6d3-e80e31ab7e25",
        "colab": {
          "base_uri": "https://localhost:8080/",
          "height": 497
        }
      },
      "execution_count": 321,
      "outputs": [
        {
          "output_type": "execute_result",
          "data": {
            "text/plain": [
              "Text(0.5, 1.0, 'Total Impurity vs effective alpha for training set')"
            ]
          },
          "metadata": {},
          "execution_count": 321
        },
        {
          "output_type": "display_data",
          "data": {
            "text/plain": [
              "<Figure size 640x480 with 1 Axes>"
            ],
            "image/png": "[encoded data removed]"
          },
          "metadata": {}
        }
      ]
    },
    {
      "cell_type": "code",
      "source": [
        "impurities"
      ],
      "metadata": {
        "id": "3eDSU2_r2r8a",
        "outputId": "3fb2a03b-f0a4-4625-ea25-28a0741c7690",
        "colab": {
          "base_uri": "https://localhost:8080/"
        }
      },
      "execution_count": 322,
      "outputs": [
        {
          "output_type": "execute_result",
          "data": {
            "text/plain": [
              "array([0.        , 0.00327538, 0.00997732, 0.01337402, 0.01679447,\n",
              "       0.01855814, 0.02296731, 0.02578918, 0.02861105, 0.03155049,\n",
              "       0.04091446, 0.0441923 , 0.06004987, 0.06485097, 0.08535015,\n",
              "       0.09150695, 0.10468308, 0.11133463, 0.12197734, 0.13874364,\n",
              "       0.15596435, 0.17549814, 0.22749021, 0.28368334, 0.37035945,\n",
              "       0.56893578, 0.77740763])"
            ]
          },
          "metadata": {},
          "execution_count": 322
        }
      ]
    },
    {
      "cell_type": "code",
      "source": [
        "ccp_alphas"
      ],
      "metadata": {
        "id": "PsVuNRPr1wIz",
        "outputId": "b484a1f7-d0c0-42df-fa02-c5cc8171458e",
        "colab": {
          "base_uri": "https://localhost:8080/"
        }
      },
      "execution_count": 323,
      "outputs": [
        {
          "output_type": "execute_result",
          "data": {
            "text/plain": [
              "array([0.        , 0.00163769, 0.00167549, 0.00169835, 0.00171022,\n",
              "       0.00176367, 0.00220459, 0.00282187, 0.00282187, 0.00293945,\n",
              "       0.00312132, 0.00327784, 0.00396439, 0.0048011 , 0.0051248 ,\n",
              "       0.00615681, 0.00658806, 0.00665155, 0.01064271, 0.0167663 ,\n",
              "       0.01722071, 0.01953379, 0.05199207, 0.05619313, 0.08667612,\n",
              "       0.19857633, 0.20847184])"
            ]
          },
          "metadata": {},
          "execution_count": 323
        }
      ]
    },
    {
      "cell_type": "code",
      "source": [
        "clfs = []\n",
        "for ccp_alpha in ccp_alphas:\n",
        "   clf = DecisionTreeClassifier(random_state=12354, ccp_alpha=ccp_alpha)\n",
        "   clf.fit(X_train, y_train)\n",
        "   clfs.append(clf)\n",
        "\n",
        "print(\n",
        "    \"Number of nodes in the last tree is: {} with ccp_alpha: {}\".format(\n",
        "        clfs[-1].tree_.node_count, ccp_alphas[-1]\n",
        "    )\n",
        ")\n",
        "\n",
        "print(clfs)"
      ],
      "metadata": {
        "id": "Pfz2Rv3Z-p3Z",
        "outputId": "6359188a-b931-43b3-ce48-ad0e04f71449",
        "colab": {
          "base_uri": "https://localhost:8080/"
        }
      },
      "execution_count": 324,
      "outputs": [
        {
          "output_type": "stream",
          "name": "stdout",
          "text": [
            "Number of nodes in the last tree is: 1 with ccp_alpha: 0.20847184081775738\n",
            "[DecisionTreeClassifier(random_state=12354), DecisionTreeClassifier(ccp_alpha=0.0016376921138825905, random_state=12354), DecisionTreeClassifier(ccp_alpha=0.0016754850088183417, random_state=12354), DecisionTreeClassifier(ccp_alpha=0.0016983473773597223, random_state=12354), DecisionTreeClassifier(ccp_alpha=0.0017102239324461536, random_state=12354), DecisionTreeClassifier(ccp_alpha=0.001763668430335097, random_state=12354), DecisionTreeClassifier(ccp_alpha=0.002204585537918871, random_state=12354), DecisionTreeClassifier(ccp_alpha=0.0028218694885361545, random_state=12354), DecisionTreeClassifier(ccp_alpha=0.0028218694885361545, random_state=12354), DecisionTreeClassifier(ccp_alpha=0.0029394473838918285, random_state=12354), DecisionTreeClassifier(ccp_alpha=0.003121321688254635, random_state=12354), DecisionTreeClassifier(ccp_alpha=0.003277842302232545, random_state=12354), DecisionTreeClassifier(ccp_alpha=0.003964391920596303, random_state=12354), DecisionTreeClassifier(ccp_alpha=0.004801097393689986, random_state=12354), DecisionTreeClassifier(ccp_alpha=0.005124795700711935, random_state=12354), DecisionTreeClassifier(ccp_alpha=0.0061568061568061565, random_state=12354), DecisionTreeClassifier(ccp_alpha=0.006588062143617696, random_state=12354), DecisionTreeClassifier(ccp_alpha=0.006651549508692363, random_state=12354), DecisionTreeClassifier(ccp_alpha=0.010642707271920755, random_state=12354), DecisionTreeClassifier(ccp_alpha=0.016766302480588195, random_state=12354), DecisionTreeClassifier(ccp_alpha=0.0172207079614487, random_state=12354), DecisionTreeClassifier(ccp_alpha=0.019533791509229195, random_state=12354), DecisionTreeClassifier(ccp_alpha=0.051992068131076596, random_state=12354), DecisionTreeClassifier(ccp_alpha=0.056193130137498604, random_state=12354), DecisionTreeClassifier(ccp_alpha=0.08667611602858258, random_state=12354), DecisionTreeClassifier(ccp_alpha=0.19857633285770815, random_state=12354), DecisionTreeClassifier(ccp_alpha=0.20847184081775738, random_state=12354)]\n"
          ]
        }
      ]
    },
    {
      "cell_type": "code",
      "source": [
        "model.tree_.node_count"
      ],
      "metadata": {
        "id": "BhI92xIvAE6I",
        "outputId": "6d052dc6-a321-4487-88da-db10786aac73",
        "colab": {
          "base_uri": "https://localhost:8080/"
        }
      },
      "execution_count": 325,
      "outputs": [
        {
          "output_type": "execute_result",
          "data": {
            "text/plain": [
              "85"
            ]
          },
          "metadata": {},
          "execution_count": 325
        }
      ]
    },
    {
      "cell_type": "markdown",
      "source": [
        "Se ignora el ultimo alfa, ya que nos deja seguro la raiz del arbol, pues la penalización es agresiva."
      ],
      "metadata": {
        "id": "SnSHvldg_0lw"
      }
    },
    {
      "cell_type": "code",
      "source": [
        "clfss = clfs[:-1]\n",
        "ccp_alphass = ccp_alphas[:-1]\n",
        "# An array with contain of number nodes of each tree\n",
        "node_counts = [clf.tree_.node_count for clf in clfss]\n",
        "# An array with contain of the deep each tree\n",
        "depth = [clf.tree_.max_depth for clf in clfss]\n",
        "fig, ax = plt.subplots(2, 1)\n",
        "ax[0].plot(ccp_alphass, node_counts, marker=\"o\", drawstyle=\"steps-post\")\n",
        "ax[0].set_xlabel(\"alpha\")\n",
        "ax[0].set_ylabel(\"number of nodes\")\n",
        "ax[0].set_title(\"Number of nodes vs alpha\")\n",
        "ax[1].plot(ccp_alphass, depth, marker=\"o\", drawstyle=\"steps-post\")\n",
        "ax[1].set_xlabel(\"alpha\")\n",
        "ax[1].set_ylabel(\"depth of tree\")\n",
        "ax[1].set_title(\"Depth vs alpha\")\n",
        "fig.tight_layout()"
      ],
      "metadata": {
        "id": "gzcOwzH0_VVD",
        "outputId": "abc2cd70-fa6a-4025-e3b6-7f5a1a9d4305",
        "colab": {
          "base_uri": "https://localhost:8080/",
          "height": 480
        }
      },
      "execution_count": 326,
      "outputs": [
        {
          "output_type": "display_data",
          "data": {
            "text/plain": [
              "<Figure size 640x480 with 2 Axes>"
            ],
            "image/png": "[encoded data removed]"
          },
          "metadata": {}
        }
      ]
    },
    {
      "cell_type": "code",
      "source": [
        "train_scores = [clf.score(X_train, y_train) for clf in clfs[:-1]]\n",
        "test_scores = [clf.score(X_test, y_test) for clf in clfs[:-1]]\n",
        "\n",
        "fig, ax = plt.subplots()\n",
        "ax.set_xlabel(\"alpha\")\n",
        "ax.set_ylabel(\"accuracy\")\n",
        "ax.set_title(\"Accuracy vs alpha for training and testing sets\")\n",
        "ax.plot(ccp_alphas[:-1], train_scores, marker=\"o\", label=\"train\", drawstyle=\"steps-post\")\n",
        "ax.plot(ccp_alphas[:-1], test_scores, marker=\"o\", label=\"test\", drawstyle=\"steps-post\")\n",
        "ax.legend()\n",
        "plt.show()"
      ],
      "metadata": {
        "id": "tOCDaV6HBqFq",
        "outputId": "25dc6516-e397-4bc7-ee7d-3bb6f574790c",
        "colab": {
          "base_uri": "https://localhost:8080/",
          "height": 480
        }
      },
      "execution_count": 327,
      "outputs": [
        {
          "output_type": "display_data",
          "data": {
            "text/plain": [
              "<Figure size 640x480 with 1 Axes>"
            ],
            "image/png": "[encoded data removed]"
          },
          "metadata": {}
        }
      ]
    },
    {
      "cell_type": "markdown",
      "source": [
        "- Seleccionamos el alpha 0.050 que permite el maximo score de prueba."
      ],
      "metadata": {
        "id": "MgcwyHGaBdtS"
      }
    },
    {
      "cell_type": "code",
      "source": [
        "ccp_alphas[:-1]"
      ],
      "metadata": {
        "id": "g0kYZ6dNXe4V",
        "outputId": "2652042b-4622-40c7-ece8-8e5d5ae5d319",
        "colab": {
          "base_uri": "https://localhost:8080/"
        }
      },
      "execution_count": 328,
      "outputs": [
        {
          "output_type": "execute_result",
          "data": {
            "text/plain": [
              "array([0.        , 0.00163769, 0.00167549, 0.00169835, 0.00171022,\n",
              "       0.00176367, 0.00220459, 0.00282187, 0.00282187, 0.00293945,\n",
              "       0.00312132, 0.00327784, 0.00396439, 0.0048011 , 0.0051248 ,\n",
              "       0.00615681, 0.00658806, 0.00665155, 0.01064271, 0.0167663 ,\n",
              "       0.01722071, 0.01953379, 0.05199207, 0.05619313, 0.08667612,\n",
              "       0.19857633])"
            ]
          },
          "metadata": {},
          "execution_count": 328
        }
      ]
    },
    {
      "cell_type": "code",
      "source": [
        "ccp_alphas"
      ],
      "metadata": {
        "id": "uosxO8AN2I7m",
        "outputId": "23901fe0-22ce-491a-d148-2ad3e830c8d8",
        "colab": {
          "base_uri": "https://localhost:8080/"
        }
      },
      "execution_count": 329,
      "outputs": [
        {
          "output_type": "execute_result",
          "data": {
            "text/plain": [
              "array([0.        , 0.00163769, 0.00167549, 0.00169835, 0.00171022,\n",
              "       0.00176367, 0.00220459, 0.00282187, 0.00282187, 0.00293945,\n",
              "       0.00312132, 0.00327784, 0.00396439, 0.0048011 , 0.0051248 ,\n",
              "       0.00615681, 0.00658806, 0.00665155, 0.01064271, 0.0167663 ,\n",
              "       0.01722071, 0.01953379, 0.05199207, 0.05619313, 0.08667612,\n",
              "       0.19857633, 0.20847184])"
            ]
          },
          "metadata": {},
          "execution_count": 329
        }
      ]
    },
    {
      "cell_type": "code",
      "source": [
        "model = DecisionTreeClassifier(random_state=12354, ccp_alpha=0.00540567)\n",
        "model.fit(X_train, y_train)\n",
        "y_predict_train = model.predict(X_train)\n",
        "y_predict_test = model.predict(X_test)"
      ],
      "metadata": {
        "id": "rA4JM8Bs1LFM"
      },
      "execution_count": 330,
      "outputs": []
    },
    {
      "cell_type": "code",
      "source": [
        "metrics.recall_score(\n",
        "    y_test,\n",
        "    y_predict_test,\n",
        "    average='micro',\n",
        "    labels=[1,2,3,4,5])"
      ],
      "metadata": {
        "id": "qFurAK_02oyN",
        "outputId": "3961a038-b703-42ca-fe91-b2037957ad50",
        "colab": {
          "base_uri": "https://localhost:8080/"
        }
      },
      "execution_count": 331,
      "outputs": [
        {
          "output_type": "execute_result",
          "data": {
            "text/plain": [
              "0.8534734384121424"
            ]
          },
          "metadata": {},
          "execution_count": 331
        }
      ]
    },
    {
      "cell_type": "code",
      "source": [
        "kward={\"cmap\":plt.cm.copper_r,  \"annot_kws\":{'size': 12}}\n",
        "matrix_confusion(y_test, y_predict_test, title='confusion matrix', **kward)"
      ],
      "metadata": {
        "id": "KjZk4R6XBMeT",
        "outputId": "0abbeba4-b082-4a0e-8e45-acc0ba417fb6",
        "colab": {
          "base_uri": "https://localhost:8080/",
          "height": 574
        }
      },
      "execution_count": 332,
      "outputs": [
        {
          "output_type": "stream",
          "name": "stdout",
          "text": [
            "The number of FixedLocator locations (6), usually from a call to set_ticks, does not match the number of labels (2).\n"
          ]
        },
        {
          "output_type": "display_data",
          "data": {
            "text/plain": [
              "<Figure size 800x600 with 2 Axes>"
            ],
            "image/png": "[encoded data removed]"
          },
          "metadata": {}
        }
      ]
    },
    {
      "cell_type": "markdown",
      "source": [
        "- Se debe recordar que el modelo se entrenó con un conjunto de datos pequeño, con técnicas de reducción de dimensionalidad, entre otros factores, permitieron que el modelo aprendiera de manera eficiente, y los efectos de la pos poda costo mínimo de complejidad, no se aprecie de manera significativa."
      ],
      "metadata": {
        "id": "rZTwSAMXCUQ0"
      }
    }
  ]
}