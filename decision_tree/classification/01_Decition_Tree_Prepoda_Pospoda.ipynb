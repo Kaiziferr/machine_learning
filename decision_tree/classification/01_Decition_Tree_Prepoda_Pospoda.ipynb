{
  "nbformat": 4,
  "nbformat_minor": 0,
  "metadata": {
    "colab": {
      "provenance": [],
      "authorship_tag": "ABX9TyOTx3/FCi5ja5HFTqhsMQgI",
      "include_colab_link": true
    },
    "kernelspec": {
      "name": "python3",
      "display_name": "Python 3"
    },
    "language_info": {
      "name": "python"
    }
  },
  "cells": [
    {
      "cell_type": "markdown",
      "metadata": {
        "id": "view-in-github",
        "colab_type": "text"
      },
      "source": [
        "<a href=\"https://colab.research.google.com/github/Kaiziferr/machine_learning/blob/main/decision_tree/classification/01_Decition_Tree_Prepoda_Pospoda.ipynb\" target=\"_parent\"><img src=\"https://colab.research.google.com/assets/colab-badge.svg\" alt=\"Open In Colab\"/></a>"
      ]
    },
    {
      "cell_type": "code",
      "source": [
        "import warnings\n",
        "\n",
        "import pandas as pd\n",
        "\n",
        "import seaborn as sns\n",
        "import matplotlib.pyplot as plt\n",
        "from matplotlib.colors import ListedColormap\n",
        "\n",
        "from sklearn.model_selection import train_test_split, GridSearchCV\n",
        "\n",
        "from sklearn.ensemble import ExtraTreesClassifier\n",
        "from sklearn.feature_selection import SelectFromModel\n",
        "\n",
        "from sklearn.decomposition import PCA\n",
        "\n",
        "from sklearn.tree import DecisionTreeClassifier\n",
        "\n",
        "from sklearn import metrics, tree\n",
        "\n"
      ],
      "metadata": {
        "id": "RGRq_PKEvnVZ"
      },
      "execution_count": 28,
      "outputs": []
    },
    {
      "cell_type": "markdown",
      "source": [
        "# **Configuraciones**\n",
        "---"
      ],
      "metadata": {
        "id": "G03nlbs6ImlY"
      }
    },
    {
      "cell_type": "code",
      "source": [
        "warnings.filterwarnings('ignore')"
      ],
      "metadata": {
        "id": "I7i8HogSOdkM"
      },
      "execution_count": 29,
      "outputs": []
    },
    {
      "cell_type": "code",
      "source": [
        "sns.set(style='darkgrid')"
      ],
      "metadata": {
        "id": "Ov88d0kG48dJ"
      },
      "execution_count": 30,
      "outputs": []
    },
    {
      "cell_type": "markdown",
      "source": [
        "# **Funciones**\n",
        "---"
      ],
      "metadata": {
        "id": "0zMVwcSGXo3q"
      }
    },
    {
      "cell_type": "code",
      "source": [
        "def generate_colors(paleta:str=\"Set1\", n_colors:int=15)-> tuple:\n",
        "  \"\"\"color generator\"\"\"\n",
        "  try:\n",
        "    cmap = sns.color_palette(paleta, n_colors).as_hex()\n",
        "    list_camp = ListedColormap(cmap)\n",
        "    return cmap, list_camp\n",
        "  except Exception as e:\n",
        "    print(e)\n",
        "\n",
        "\n",
        "def plot_bar(data:pd.DataFrame, paleta:list=None, figsize_x:int=8, figsize_y:int=5,\n",
        "             fontsize:int=15, **kwards)->None:\n",
        "  \"\"\"Grafica un diagrama de barras con multiples caracteristicas\"\"\"\n",
        "  try:\n",
        "    paleta = paleta if paleta !=None else generate_colors()[0]\n",
        "    v = kwards\n",
        "    ejeX = v[\"ejeX\"]\n",
        "\n",
        "    fig, ax = plt.subplots(figsize = (figsize_x, figsize_y))\n",
        "    fig.suptitle(f'Diagrama de barras {v[\"title\"]}', fontsize=fontsize)\n",
        "\n",
        "    if type(ejeX) == str:\n",
        "      sns.countplot(x=ejeX, data=data, ax = ax, palette=paleta)\n",
        "    else:\n",
        "      ejeX = v['ejeX'][0]\n",
        "      sns.countplot(x=ejeX, hue=v['ejeX'][1], data=data, ax=ax, palette=paleta)\n",
        "\n",
        "    ax.set_ylabel(v['ejey'], size = 12)\n",
        "    ax.set_xlabel(ejeX, size=fontsize-3)\n",
        "    ax.set_xticklabels(ax.get_xticklabels(),fontsize = fontsize-3)\n",
        "    for p in ax.patches:\n",
        "      try:\n",
        "        height = int(p.get_height())\n",
        "        ax.text(p.get_x()+p.get_width()/2., height + 1,height, ha=\"center\")\n",
        "      except:\n",
        "        pass\n",
        "\n",
        "  except Exception as e:\n",
        "    print(e)\n",
        "\n",
        "def componentes_principales(data:object,\n",
        "                            min_explained_variance:int=0.85,\n",
        "                            min_component:int=3,\n",
        "                            **kwards)->tuple:\n",
        "  \"\"\"simple method of PCA, that return data transform\"\"\"\n",
        "  final_comp = 0\n",
        "  for comp in range(min_component, data.shape[1]):\n",
        "    pca = PCA(n_components=comp, **kwards)\n",
        "    pca.fit(data)\n",
        "    comp_check = pca.explained_variance_ratio_\n",
        "    final_comp = comp\n",
        "    if comp_check.sum() >= min_explained_variance:\n",
        "      break\n",
        "\n",
        "  final_pca = PCA(n_components=final_comp, **kwards)\n",
        "  final_pca.fit(data)\n",
        "  data_df = final_pca.transform(data)\n",
        "  info = \"Using {} components, we can explain {}% of the variability\\\n",
        "  in the original data.\".format(final_comp,comp_check.sum())\n",
        "\n",
        "  return data_df, final_pca, info\n",
        "\n",
        "def matrix_confusion(\n",
        "    y_true:pd.Series,\n",
        "    y_pred:pd.Series,\n",
        "    labels:list=None,\n",
        "    title:str='confusion matrix', **kwards)->None:\n",
        "  \"confusion matrix\"\n",
        "  try:\n",
        "    churm = metrics.confusion_matrix(y_true, y_pred, labels=labels)\n",
        "    fig, ax = plt.subplots(nrows=1, ncols=1, figsize=(8, 6))\n",
        "    sns.heatmap(churm, annot=True,  ax=ax, fmt='g', **kwards)\n",
        "    ax.set_title(title,size=20)\n",
        "    ax.xaxis.set_ticklabels(['False','True'])\n",
        "    ax.yaxis.set_ticklabels(['False','True'])\n",
        "    ax.tick_params(labelsize = 12)\n",
        "  except Exception as e:\n",
        "    print(e)"
      ],
      "metadata": {
        "id": "w-IJDDLuI3gv"
      },
      "execution_count": 31,
      "outputs": []
    },
    {
      "cell_type": "markdown",
      "source": [
        "# **Diccionario de datos**\n",
        "---\n",
        "- `Name`: nombre de la ventana de tiempo.\n",
        "- `Netflows`: cantidad de netflows en la ventana de tiempo.\n",
        "- `First_Protocol`: top 1 de protocolos usados en la ventana de tiempo.\n",
        "- `Second_Protocol`: top 2 de protocolos usados en la ventana de tiempo.\n",
        "- `Third_Protocol`: top 3 de protocolos usados en la ventana de tiempo.\n",
        "- `p1_d`: 25% de los percentiles de todas las duraciones en la ventana de tiempo\n",
        "- `p2_d`: 50% de los percentiles de todas las duraciones en la ventana de tiempo\n",
        "- `p3_d`: 75% de los percentiles de todas las duraciones en la ventana de tiempo\n",
        "- `duration`: duración total de la ventana de tiempo\n",
        "- `max_d`: valor máximo de todas las duraciones en la ventana de tiempo.\n",
        "- `min_d`: valor mínimo de todas las duraciones en la ventana de tiempo.\n",
        "- `#packets`: número total de paquetes en la ventana de tiempo.\n",
        "- `Avg_bps`: promedio de bits por segundo en la ventana de tiempo.\n",
        "- `Avg_pps`: promedio de paquetes por segundo en la ventana de tiempo.\n",
        "- `Avg_bpp`: promedio de bytes por paquete en la ventana de tiempo.\n",
        "- `#Bytes`: número total de bytes en la ventana de tiempo.\n",
        "- `#sp`: número total de puertos de origen usados en la ventana de tiempo.\n",
        "- `#dp`: número total de puertos de destino usados en la ventana de tiempo.\n",
        "- `first_sp`: top 1 de los puertos de origen en la ventana de tiempo.\n",
        "- `second_sp`: top 2 de los puertos de origen en la ventana de tiempo.\n",
        "- `third_sp`: top 3 de los puertos de origen en la ventana de tiempo.\n",
        "- `first_dp`: top 1 de los puertos de destino en la ventana de tiempo.\n",
        "- `second_dp`: top 2 de los puertos de destino en la ventana de tiempo.\n",
        "- `third_dp`: top 3 de los puertos de destino en la ventana de tiempo.\n",
        "- `p1_ip`: 25% de los percentiles de todas las entradas de paquetes en la ventana de tiempo.\n",
        "- `p2_ip`: 50% de los percentiles de todas las entradas de paquetes en la ventana de tiempo.\n",
        "- `p3_ip`: 75% de los percentiles de todas las entradas de paquetes en la ventana de tiempo.\n",
        "- `p1_ib`: 25% de los percentiles de todas las entradas de bytes en la ventana de tiempo.\n",
        "- `p2_ib`: 50% de los percentiles de todas las entradas de bytes en la ventana de tiempo.\n",
        "- `p3_ib`: 75% de los percentiles de todas las entradas de bytes en la ventana de tiempo.\n",
        "- `Type`: tipo de ventana de tiempo\n",
        "  - `benignas`: 0\n",
        "  - `bitcash`: 1\n",
        "  - `bitcoin`: 2\n",
        "  - `ethereum `: 3\n",
        "  - `monero`: 4\n",
        "  - `litecoin`: 5\n"
      ],
      "metadata": {
        "id": "OkpF3LjsW8Xp"
      }
    },
    {
      "cell_type": "markdown",
      "source": [
        "source: This data is collected in my research of degree"
      ],
      "metadata": {
        "id": "m0rbw1kGUpA-"
      }
    },
    {
      "cell_type": "markdown",
      "source": [
        "# **Data**\n",
        "---"
      ],
      "metadata": {
        "id": "3etcMeYyXhyx"
      }
    },
    {
      "cell_type": "code",
      "source": [
        "url = 'https://raw.githubusercontent.com/Kaiziferr/datasets/main/cryptojacking.csv'\n",
        "data = pd.read_csv(url, dtype=str).drop('Unnamed: 0', axis=1)"
      ],
      "metadata": {
        "id": "Na8Iz-5nNG2V"
      },
      "execution_count": 32,
      "outputs": []
    },
    {
      "cell_type": "code",
      "source": [
        "pd.DataFrame"
      ],
      "metadata": {
        "id": "pOJHZMAZvVhR",
        "outputId": "dcac47cf-3bd2-4e67-fe11-7fe8ce81f8cd",
        "colab": {
          "base_uri": "https://localhost:8080/"
        }
      },
      "execution_count": 33,
      "outputs": [
        {
          "output_type": "execute_result",
          "data": {
            "text/plain": [
              "pandas.core.frame.DataFrame"
            ]
          },
          "metadata": {},
          "execution_count": 33
        }
      ]
    },
    {
      "cell_type": "code",
      "source": [
        "plot_bar(\n",
        "    data,\n",
        "    paleta=None,\n",
        "    ejeX='Type',\n",
        "    ejey='count Tipo Criptomonedas',\n",
        "    title='Count Tipo Criptomonedas')"
      ],
      "metadata": {
        "colab": {
          "base_uri": "https://localhost:8080/",
          "height": 526
        },
        "id": "6ZriklTh5KmE",
        "outputId": "9e5fe266-231a-4e39-c661-35dfe9da59a3"
      },
      "execution_count": 34,
      "outputs": [
        {
          "output_type": "display_data",
          "data": {
            "text/plain": [
              "<Figure size 800x500 with 1 Axes>"
            ],
            "image/png": "[encoded data removed]"
          },
          "metadata": {}
        }
      ]
    },
    {
      "cell_type": "code",
      "source": [
        "data.info()"
      ],
      "metadata": {
        "colab": {
          "base_uri": "https://localhost:8080/"
        },
        "id": "56FyVWKx6fws",
        "outputId": "84c8c0cd-9646-410d-897e-9e14ed9d48fa"
      },
      "execution_count": 35,
      "outputs": [
        {
          "output_type": "stream",
          "name": "stdout",
          "text": [
            "<class 'pandas.core.frame.DataFrame'>\n",
            "RangeIndex: 2837 entries, 0 to 2836\n",
            "Data columns (total 31 columns):\n",
            " #   Column           Non-Null Count  Dtype \n",
            "---  ------           --------------  ----- \n",
            " 0   Name             2837 non-null   object\n",
            " 1   Netflows         2837 non-null   object\n",
            " 2   First_Protocol   2837 non-null   object\n",
            " 3   Second_Protocol  619 non-null    object\n",
            " 4   Third_Protocol   26 non-null     object\n",
            " 5   p1_d             2837 non-null   object\n",
            " 6   p2_d             2837 non-null   object\n",
            " 7   p3_d             2837 non-null   object\n",
            " 8   duration         2837 non-null   object\n",
            " 9   max_d            2837 non-null   object\n",
            " 10  min_d            2837 non-null   object\n",
            " 11  #packets         2837 non-null   object\n",
            " 12  Avg_bps          2837 non-null   object\n",
            " 13  Avg_pps          2837 non-null   object\n",
            " 14  Avg_bpp          2837 non-null   object\n",
            " 15  #Bytes           2837 non-null   object\n",
            " 16  #sp              2837 non-null   object\n",
            " 17  #dp              2837 non-null   object\n",
            " 18  first_sp         2837 non-null   object\n",
            " 19  second_sp        2815 non-null   object\n",
            " 20  third_sp         788 non-null    object\n",
            " 21  first_dp         2837 non-null   object\n",
            " 22  second_dp        2815 non-null   object\n",
            " 23  third_dp         785 non-null    object\n",
            " 24  p1_ip            2837 non-null   object\n",
            " 25  p2_ip            2837 non-null   object\n",
            " 26  p3_ip            2837 non-null   object\n",
            " 27  p1_ib            2837 non-null   object\n",
            " 28  p2_ib            2837 non-null   object\n",
            " 29  p3_ib            2837 non-null   object\n",
            " 30  Type             2837 non-null   object\n",
            "dtypes: object(31)\n",
            "memory usage: 687.2+ KB\n"
          ]
        }
      ]
    },
    {
      "cell_type": "code",
      "source": [
        "data.iloc[:, 12:]"
      ],
      "metadata": {
        "colab": {
          "base_uri": "https://localhost:8080/",
          "height": 423
        },
        "id": "NCHYp39G6EOo",
        "outputId": "bfc7c32f-2c3c-4e8d-b228-4722be36ec73"
      },
      "execution_count": 36,
      "outputs": [
        {
          "output_type": "execute_result",
          "data": {
            "text/plain": [
              "     Avg_bps Avg_pps Avg_bpp   #Bytes  #sp  #dp first_sp second_sp third_sp  \\\n",
              "0     125708      18     833  4621561   33   37      443      80.0    123.0   \n",
              "1        148       0      49      983   13    8       53   53195.0  48984.0   \n",
              "2        236       0      87      874    6    6       53   39308.0  54454.0   \n",
              "3     129626      29     556  4847263  167  120       53     443.0  54059.0   \n",
              "4     328000    1000      41       82    2    2    48871      53.0      NaN   \n",
              "...      ...     ...     ...      ...  ...  ...      ...       ...      ...   \n",
              "2832    1179       0     424     1273    2    2     3333   52003.0      NaN   \n",
              "2833     507       0     336    37065    2    2     3333   52003.0      NaN   \n",
              "2834     397       0     318    14330    2    2     3333   52003.0      NaN   \n",
              "2835     470       0     329    16800    2    2     3333   52003.0      NaN   \n",
              "2836     498       0     396    16642    2    2     3333   52003.0      NaN   \n",
              "\n",
              "     first_dp second_dp third_dp  p1_ip p2_ip  p3_ip     p1_ib    p2_ib  \\\n",
              "0         443      80.0    123.0    3.0   7.0   22.0     127.0    255.0   \n",
              "1         443      53.0  53195.0    1.0   1.0    1.0      37.0     47.0   \n",
              "2          53   39308.0  54454.0    1.0   1.0    1.0      34.0     43.0   \n",
              "3          53    5355.0    443.0    1.0   1.0    1.0      39.0     49.0   \n",
              "4       48871      53.0      NaN    1.0   1.0    1.0      37.0     41.0   \n",
              "...       ...       ...      ...    ...   ...    ...       ...      ...   \n",
              "2832     3333   52003.0      NaN   1.25   1.5   1.75    328.25    636.5   \n",
              "2833     3333   52003.0      NaN   53.5  55.0   56.5  10108.75  18532.5   \n",
              "2834     3333   52003.0      NaN  22.25  22.5  22.75    3865.0   7165.0   \n",
              "2835     3333   52003.0      NaN  24.75  25.5  26.25    4627.5   8400.0   \n",
              "2836     3333   52003.0      NaN   21.0  21.0   21.0    4370.5   8321.0   \n",
              "\n",
              "         p3_ib Type  \n",
              "0       1888.0    0  \n",
              "1         64.0    0  \n",
              "2        61.75    0  \n",
              "3         54.0    0  \n",
              "4         45.0    0  \n",
              "...        ...  ...  \n",
              "2832    944.75    5  \n",
              "2833  26956.25    5  \n",
              "2834   10465.0    5  \n",
              "2835   12172.5    5  \n",
              "2836   12271.5    5  \n",
              "\n",
              "[2837 rows x 19 columns]"
            ],
            "text/html": [
              "\n",
              "  <div id=\"df-481909de-bd3e-44d3-9983-ab2c882c1e42\" class=\"colab-df-container\">\n",
              "    <div>\n",
              "<style scoped>\n",
              "    .dataframe tbody tr th:only-of-type {\n",
              "        vertical-align: middle;\n",
              "    }\n",
              "\n",
              "    .dataframe tbody tr th {\n",
              "        vertical-align: top;\n",
              "    }\n",
              "\n",
              "    .dataframe thead th {\n",
              "        text-align: right;\n",
              "    }\n",
              "</style>\n",
              "<table border=\"1\" class=\"dataframe\">\n",
              "  <thead>\n",
              "    <tr style=\"text-align: right;\">\n",
              "      <th></th>\n",
              "      <th>Avg_bps</th>\n",
              "      <th>Avg_pps</th>\n",
              "      <th>Avg_bpp</th>\n",
              "      <th>#Bytes</th>\n",
              "      <th>#sp</th>\n",
              "      <th>#dp</th>\n",
              "      <th>first_sp</th>\n",
              "      <th>second_sp</th>\n",
              "      <th>third_sp</th>\n",
              "      <th>first_dp</th>\n",
              "      <th>second_dp</th>\n",
              "      <th>third_dp</th>\n",
              "      <th>p1_ip</th>\n",
              "      <th>p2_ip</th>\n",
              "      <th>p3_ip</th>\n",
              "      <th>p1_ib</th>\n",
              "      <th>p2_ib</th>\n",
              "      <th>p3_ib</th>\n",
              "      <th>Type</th>\n",
              "    </tr>\n",
              "  </thead>\n",
              "  <tbody>\n",
              "    <tr>\n",
              "      <th>0</th>\n",
              "      <td>125708</td>\n",
              "      <td>18</td>\n",
              "      <td>833</td>\n",
              "      <td>4621561</td>\n",
              "      <td>33</td>\n",
              "      <td>37</td>\n",
              "      <td>443</td>\n",
              "      <td>80.0</td>\n",
              "      <td>123.0</td>\n",
              "      <td>443</td>\n",
              "      <td>80.0</td>\n",
              "      <td>123.0</td>\n",
              "      <td>3.0</td>\n",
              "      <td>7.0</td>\n",
              "      <td>22.0</td>\n",
              "      <td>127.0</td>\n",
              "      <td>255.0</td>\n",
              "      <td>1888.0</td>\n",
              "      <td>0</td>\n",
              "    </tr>\n",
              "    <tr>\n",
              "      <th>1</th>\n",
              "      <td>148</td>\n",
              "      <td>0</td>\n",
              "      <td>49</td>\n",
              "      <td>983</td>\n",
              "      <td>13</td>\n",
              "      <td>8</td>\n",
              "      <td>53</td>\n",
              "      <td>53195.0</td>\n",
              "      <td>48984.0</td>\n",
              "      <td>443</td>\n",
              "      <td>53.0</td>\n",
              "      <td>53195.0</td>\n",
              "      <td>1.0</td>\n",
              "      <td>1.0</td>\n",
              "      <td>1.0</td>\n",
              "      <td>37.0</td>\n",
              "      <td>47.0</td>\n",
              "      <td>64.0</td>\n",
              "      <td>0</td>\n",
              "    </tr>\n",
              "    <tr>\n",
              "      <th>2</th>\n",
              "      <td>236</td>\n",
              "      <td>0</td>\n",
              "      <td>87</td>\n",
              "      <td>874</td>\n",
              "      <td>6</td>\n",
              "      <td>6</td>\n",
              "      <td>53</td>\n",
              "      <td>39308.0</td>\n",
              "      <td>54454.0</td>\n",
              "      <td>53</td>\n",
              "      <td>39308.0</td>\n",
              "      <td>54454.0</td>\n",
              "      <td>1.0</td>\n",
              "      <td>1.0</td>\n",
              "      <td>1.0</td>\n",
              "      <td>34.0</td>\n",
              "      <td>43.0</td>\n",
              "      <td>61.75</td>\n",
              "      <td>0</td>\n",
              "    </tr>\n",
              "    <tr>\n",
              "      <th>3</th>\n",
              "      <td>129626</td>\n",
              "      <td>29</td>\n",
              "      <td>556</td>\n",
              "      <td>4847263</td>\n",
              "      <td>167</td>\n",
              "      <td>120</td>\n",
              "      <td>53</td>\n",
              "      <td>443.0</td>\n",
              "      <td>54059.0</td>\n",
              "      <td>53</td>\n",
              "      <td>5355.0</td>\n",
              "      <td>443.0</td>\n",
              "      <td>1.0</td>\n",
              "      <td>1.0</td>\n",
              "      <td>1.0</td>\n",
              "      <td>39.0</td>\n",
              "      <td>49.0</td>\n",
              "      <td>54.0</td>\n",
              "      <td>0</td>\n",
              "    </tr>\n",
              "    <tr>\n",
              "      <th>4</th>\n",
              "      <td>328000</td>\n",
              "      <td>1000</td>\n",
              "      <td>41</td>\n",
              "      <td>82</td>\n",
              "      <td>2</td>\n",
              "      <td>2</td>\n",
              "      <td>48871</td>\n",
              "      <td>53.0</td>\n",
              "      <td>NaN</td>\n",
              "      <td>48871</td>\n",
              "      <td>53.0</td>\n",
              "      <td>NaN</td>\n",
              "      <td>1.0</td>\n",
              "      <td>1.0</td>\n",
              "      <td>1.0</td>\n",
              "      <td>37.0</td>\n",
              "      <td>41.0</td>\n",
              "      <td>45.0</td>\n",
              "      <td>0</td>\n",
              "    </tr>\n",
              "    <tr>\n",
              "      <th>...</th>\n",
              "      <td>...</td>\n",
              "      <td>...</td>\n",
              "      <td>...</td>\n",
              "      <td>...</td>\n",
              "      <td>...</td>\n",
              "      <td>...</td>\n",
              "      <td>...</td>\n",
              "      <td>...</td>\n",
              "      <td>...</td>\n",
              "      <td>...</td>\n",
              "      <td>...</td>\n",
              "      <td>...</td>\n",
              "      <td>...</td>\n",
              "      <td>...</td>\n",
              "      <td>...</td>\n",
              "      <td>...</td>\n",
              "      <td>...</td>\n",
              "      <td>...</td>\n",
              "      <td>...</td>\n",
              "    </tr>\n",
              "    <tr>\n",
              "      <th>2832</th>\n",
              "      <td>1179</td>\n",
              "      <td>0</td>\n",
              "      <td>424</td>\n",
              "      <td>1273</td>\n",
              "      <td>2</td>\n",
              "      <td>2</td>\n",
              "      <td>3333</td>\n",
              "      <td>52003.0</td>\n",
              "      <td>NaN</td>\n",
              "      <td>3333</td>\n",
              "      <td>52003.0</td>\n",
              "      <td>NaN</td>\n",
              "      <td>1.25</td>\n",
              "      <td>1.5</td>\n",
              "      <td>1.75</td>\n",
              "      <td>328.25</td>\n",
              "      <td>636.5</td>\n",
              "      <td>944.75</td>\n",
              "      <td>5</td>\n",
              "    </tr>\n",
              "    <tr>\n",
              "      <th>2833</th>\n",
              "      <td>507</td>\n",
              "      <td>0</td>\n",
              "      <td>336</td>\n",
              "      <td>37065</td>\n",
              "      <td>2</td>\n",
              "      <td>2</td>\n",
              "      <td>3333</td>\n",
              "      <td>52003.0</td>\n",
              "      <td>NaN</td>\n",
              "      <td>3333</td>\n",
              "      <td>52003.0</td>\n",
              "      <td>NaN</td>\n",
              "      <td>53.5</td>\n",
              "      <td>55.0</td>\n",
              "      <td>56.5</td>\n",
              "      <td>10108.75</td>\n",
              "      <td>18532.5</td>\n",
              "      <td>26956.25</td>\n",
              "      <td>5</td>\n",
              "    </tr>\n",
              "    <tr>\n",
              "      <th>2834</th>\n",
              "      <td>397</td>\n",
              "      <td>0</td>\n",
              "      <td>318</td>\n",
              "      <td>14330</td>\n",
              "      <td>2</td>\n",
              "      <td>2</td>\n",
              "      <td>3333</td>\n",
              "      <td>52003.0</td>\n",
              "      <td>NaN</td>\n",
              "      <td>3333</td>\n",
              "      <td>52003.0</td>\n",
              "      <td>NaN</td>\n",
              "      <td>22.25</td>\n",
              "      <td>22.5</td>\n",
              "      <td>22.75</td>\n",
              "      <td>3865.0</td>\n",
              "      <td>7165.0</td>\n",
              "      <td>10465.0</td>\n",
              "      <td>5</td>\n",
              "    </tr>\n",
              "    <tr>\n",
              "      <th>2835</th>\n",
              "      <td>470</td>\n",
              "      <td>0</td>\n",
              "      <td>329</td>\n",
              "      <td>16800</td>\n",
              "      <td>2</td>\n",
              "      <td>2</td>\n",
              "      <td>3333</td>\n",
              "      <td>52003.0</td>\n",
              "      <td>NaN</td>\n",
              "      <td>3333</td>\n",
              "      <td>52003.0</td>\n",
              "      <td>NaN</td>\n",
              "      <td>24.75</td>\n",
              "      <td>25.5</td>\n",
              "      <td>26.25</td>\n",
              "      <td>4627.5</td>\n",
              "      <td>8400.0</td>\n",
              "      <td>12172.5</td>\n",
              "      <td>5</td>\n",
              "    </tr>\n",
              "    <tr>\n",
              "      <th>2836</th>\n",
              "      <td>498</td>\n",
              "      <td>0</td>\n",
              "      <td>396</td>\n",
              "      <td>16642</td>\n",
              "      <td>2</td>\n",
              "      <td>2</td>\n",
              "      <td>3333</td>\n",
              "      <td>52003.0</td>\n",
              "      <td>NaN</td>\n",
              "      <td>3333</td>\n",
              "      <td>52003.0</td>\n",
              "      <td>NaN</td>\n",
              "      <td>21.0</td>\n",
              "      <td>21.0</td>\n",
              "      <td>21.0</td>\n",
              "      <td>4370.5</td>\n",
              "      <td>8321.0</td>\n",
              "      <td>12271.5</td>\n",
              "      <td>5</td>\n",
              "    </tr>\n",
              "  </tbody>\n",
              "</table>\n",
              "<p>2837 rows × 19 columns</p>\n",
              "</div>\n",
              "    <div class=\"colab-df-buttons\">\n",
              "\n",
              "  <div class=\"colab-df-container\">\n",
              "    <button class=\"colab-df-convert\" onclick=\"convertToInteractive('df-481909de-bd3e-44d3-9983-ab2c882c1e42')\"\n",
              "            title=\"Convert this dataframe to an interactive table.\"\n",
              "            style=\"display:none;\">\n",
              "\n",
              "  <svg xmlns=\"http://www.w3.org/2000/svg\" height=\"24px\" viewBox=\"0 -960 960 960\">\n",
              "    <path d=\"M120-120v-720h720v720H120Zm60-500h600v-160H180v160Zm220 220h160v-160H400v160Zm0 220h160v-160H400v160ZM180-400h160v-160H180v160Zm440 0h160v-160H620v160ZM180-180h160v-160H180v160Zm440 0h160v-160H620v160Z\"/>\n",
              "  </svg>\n",
              "    </button>\n",
              "\n",
              "  <style>\n",
              "    .colab-df-container {\n",
              "      display:flex;\n",
              "      gap: 12px;\n",
              "    }\n",
              "\n",
              "    .colab-df-convert {\n",
              "      background-color: #E8F0FE;\n",
              "      border: none;\n",
              "      border-radius: 50%;\n",
              "      cursor: pointer;\n",
              "      display: none;\n",
              "      fill: #1967D2;\n",
              "      height: 32px;\n",
              "      padding: 0 0 0 0;\n",
              "      width: 32px;\n",
              "    }\n",
              "\n",
              "    .colab-df-convert:hover {\n",
              "      background-color: #E2EBFA;\n",
              "      box-shadow: 0px 1px 2px rgba(60, 64, 67, 0.3), 0px 1px 3px 1px rgba(60, 64, 67, 0.15);\n",
              "      fill: #174EA6;\n",
              "    }\n",
              "\n",
              "    .colab-df-buttons div {\n",
              "      margin-bottom: 4px;\n",
              "    }\n",
              "\n",
              "    [theme=dark] .colab-df-convert {\n",
              "      background-color: #3B4455;\n",
              "      fill: #D2E3FC;\n",
              "    }\n",
              "\n",
              "    [theme=dark] .colab-df-convert:hover {\n",
              "      background-color: #434B5C;\n",
              "      box-shadow: 0px 1px 3px 1px rgba(0, 0, 0, 0.15);\n",
              "      filter: drop-shadow(0px 1px 2px rgba(0, 0, 0, 0.3));\n",
              "      fill: #FFFFFF;\n",
              "    }\n",
              "  </style>\n",
              "\n",
              "    <script>\n",
              "      const buttonEl =\n",
              "        document.querySelector('#df-481909de-bd3e-44d3-9983-ab2c882c1e42 button.colab-df-convert');\n",
              "      buttonEl.style.display =\n",
              "        google.colab.kernel.accessAllowed ? 'block' : 'none';\n",
              "\n",
              "      async function convertToInteractive(key) {\n",
              "        const element = document.querySelector('#df-481909de-bd3e-44d3-9983-ab2c882c1e42');\n",
              "        const dataTable =\n",
              "          await google.colab.kernel.invokeFunction('convertToInteractive',\n",
              "                                                    [key], {});\n",
              "        if (!dataTable) return;\n",
              "\n",
              "        const docLinkHtml = 'Like what you see? Visit the ' +\n",
              "          '<a target=\"_blank\" href=https://colab.research.google.com/notebooks/data_table.ipynb>data table notebook</a>'\n",
              "          + ' to learn more about interactive tables.';\n",
              "        element.innerHTML = '';\n",
              "        dataTable['output_type'] = 'display_data';\n",
              "        await google.colab.output.renderOutput(dataTable, element);\n",
              "        const docLink = document.createElement('div');\n",
              "        docLink.innerHTML = docLinkHtml;\n",
              "        element.appendChild(docLink);\n",
              "      }\n",
              "    </script>\n",
              "  </div>\n",
              "\n",
              "\n",
              "<div id=\"df-58196ec5-8ac5-412a-8634-f931a7ae3578\">\n",
              "  <button class=\"colab-df-quickchart\" onclick=\"quickchart('df-58196ec5-8ac5-412a-8634-f931a7ae3578')\"\n",
              "            title=\"Suggest charts\"\n",
              "            style=\"display:none;\">\n",
              "\n",
              "<svg xmlns=\"http://www.w3.org/2000/svg\" height=\"24px\"viewBox=\"0 0 24 24\"\n",
              "     width=\"24px\">\n",
              "    <g>\n",
              "        <path d=\"M19 3H5c-1.1 0-2 .9-2 2v14c0 1.1.9 2 2 2h14c1.1 0 2-.9 2-2V5c0-1.1-.9-2-2-2zM9 17H7v-7h2v7zm4 0h-2V7h2v10zm4 0h-2v-4h2v4z\"/>\n",
              "    </g>\n",
              "</svg>\n",
              "  </button>\n",
              "\n",
              "<style>\n",
              "  .colab-df-quickchart {\n",
              "      --bg-color: #E8F0FE;\n",
              "      --fill-color: #1967D2;\n",
              "      --hover-bg-color: #E2EBFA;\n",
              "      --hover-fill-color: #174EA6;\n",
              "      --disabled-fill-color: #AAA;\n",
              "      --disabled-bg-color: #DDD;\n",
              "  }\n",
              "\n",
              "  [theme=dark] .colab-df-quickchart {\n",
              "      --bg-color: #3B4455;\n",
              "      --fill-color: #D2E3FC;\n",
              "      --hover-bg-color: #434B5C;\n",
              "      --hover-fill-color: #FFFFFF;\n",
              "      --disabled-bg-color: #3B4455;\n",
              "      --disabled-fill-color: #666;\n",
              "  }\n",
              "\n",
              "  .colab-df-quickchart {\n",
              "    background-color: var(--bg-color);\n",
              "    border: none;\n",
              "    border-radius: 50%;\n",
              "    cursor: pointer;\n",
              "    display: none;\n",
              "    fill: var(--fill-color);\n",
              "    height: 32px;\n",
              "    padding: 0;\n",
              "    width: 32px;\n",
              "  }\n",
              "\n",
              "  .colab-df-quickchart:hover {\n",
              "    background-color: var(--hover-bg-color);\n",
              "    box-shadow: 0 1px 2px rgba(60, 64, 67, 0.3), 0 1px 3px 1px rgba(60, 64, 67, 0.15);\n",
              "    fill: var(--button-hover-fill-color);\n",
              "  }\n",
              "\n",
              "  .colab-df-quickchart-complete:disabled,\n",
              "  .colab-df-quickchart-complete:disabled:hover {\n",
              "    background-color: var(--disabled-bg-color);\n",
              "    fill: var(--disabled-fill-color);\n",
              "    box-shadow: none;\n",
              "  }\n",
              "\n",
              "  .colab-df-spinner {\n",
              "    border: 2px solid var(--fill-color);\n",
              "    border-color: transparent;\n",
              "    border-bottom-color: var(--fill-color);\n",
              "    animation:\n",
              "      spin 1s steps(1) infinite;\n",
              "  }\n",
              "\n",
              "  @keyframes spin {\n",
              "    0% {\n",
              "      border-color: transparent;\n",
              "      border-bottom-color: var(--fill-color);\n",
              "      border-left-color: var(--fill-color);\n",
              "    }\n",
              "    20% {\n",
              "      border-color: transparent;\n",
              "      border-left-color: var(--fill-color);\n",
              "      border-top-color: var(--fill-color);\n",
              "    }\n",
              "    30% {\n",
              "      border-color: transparent;\n",
              "      border-left-color: var(--fill-color);\n",
              "      border-top-color: var(--fill-color);\n",
              "      border-right-color: var(--fill-color);\n",
              "    }\n",
              "    40% {\n",
              "      border-color: transparent;\n",
              "      border-right-color: var(--fill-color);\n",
              "      border-top-color: var(--fill-color);\n",
              "    }\n",
              "    60% {\n",
              "      border-color: transparent;\n",
              "      border-right-color: var(--fill-color);\n",
              "    }\n",
              "    80% {\n",
              "      border-color: transparent;\n",
              "      border-right-color: var(--fill-color);\n",
              "      border-bottom-color: var(--fill-color);\n",
              "    }\n",
              "    90% {\n",
              "      border-color: transparent;\n",
              "      border-bottom-color: var(--fill-color);\n",
              "    }\n",
              "  }\n",
              "</style>\n",
              "\n",
              "  <script>\n",
              "    async function quickchart(key) {\n",
              "      const quickchartButtonEl =\n",
              "        document.querySelector('#' + key + ' button');\n",
              "      quickchartButtonEl.disabled = true;  // To prevent multiple clicks.\n",
              "      quickchartButtonEl.classList.add('colab-df-spinner');\n",
              "      try {\n",
              "        const charts = await google.colab.kernel.invokeFunction(\n",
              "            'suggestCharts', [key], {});\n",
              "      } catch (error) {\n",
              "        console.error('Error during call to suggestCharts:', error);\n",
              "      }\n",
              "      quickchartButtonEl.classList.remove('colab-df-spinner');\n",
              "      quickchartButtonEl.classList.add('colab-df-quickchart-complete');\n",
              "    }\n",
              "    (() => {\n",
              "      let quickchartButtonEl =\n",
              "        document.querySelector('#df-58196ec5-8ac5-412a-8634-f931a7ae3578 button');\n",
              "      quickchartButtonEl.style.display =\n",
              "        google.colab.kernel.accessAllowed ? 'block' : 'none';\n",
              "    })();\n",
              "  </script>\n",
              "</div>\n",
              "\n",
              "    </div>\n",
              "  </div>\n"
            ]
          },
          "metadata": {},
          "execution_count": 36
        }
      ]
    },
    {
      "cell_type": "markdown",
      "source": [
        "# **Structured**\n",
        "---"
      ],
      "metadata": {
        "id": "vvhs04OH6Yr9"
      }
    },
    {
      "cell_type": "code",
      "source": [
        "data[[\n",
        "    'p1_d', 'p2_d', 'p3_d',\n",
        "    'duration', 'max_d', 'min_d',\n",
        "    'Avg_bps', 'Avg_pps','Avg_bpp',\n",
        "    'p1_ip', 'p2_ip', 'p3_ip',\n",
        "    'p1_ib', 'p2_ib','p3_ib']] = data[[\n",
        "    'p1_d', 'p2_d', 'p3_d',\n",
        "    'duration', 'max_d', 'min_d',\n",
        "    'Avg_bps', 'Avg_pps','Avg_bpp',\n",
        "    'p1_ip', 'p2_ip', 'p3_ip',\n",
        "    'p1_ib', 'p2_ib','p3_ib']].astype('float64')"
      ],
      "metadata": {
        "id": "SJdOMRAZ6uAM"
      },
      "execution_count": 37,
      "outputs": []
    },
    {
      "cell_type": "code",
      "source": [
        "data[[\n",
        "    'Netflows', '#packets',\n",
        "    '#Bytes', '#sp', '#dp']] = data[[\n",
        "    'Netflows', '#packets',\n",
        "    '#Bytes', '#sp', '#dp']].astype('int64')"
      ],
      "metadata": {
        "id": "ow4i4H216d8z"
      },
      "execution_count": 38,
      "outputs": []
    },
    {
      "cell_type": "markdown",
      "source": [
        "# **Data Split**\n",
        "---"
      ],
      "metadata": {
        "id": "eKyRncGSaeF4"
      }
    },
    {
      "cell_type": "markdown",
      "source": [
        "Si bien se puede usar las variables categoricas, por fines del ejercicio se usaran las variables cuantitativas."
      ],
      "metadata": {
        "id": "9Nlw4Wddb7ey"
      }
    },
    {
      "cell_type": "code",
      "source": [
        "X = data.select_dtypes(include=['float64', 'int64'])\n",
        "y = data.iloc[:,-1]"
      ],
      "metadata": {
        "id": "DVYAHt2mdN05"
      },
      "execution_count": 39,
      "outputs": []
    },
    {
      "cell_type": "markdown",
      "source": [
        "**Select the best features**\n"
      ],
      "metadata": {
        "id": "iDlyCPUVbQwa"
      }
    },
    {
      "cell_type": "markdown",
      "source": [
        "Se cambiara solo el criterio de impureza, en proximos ejercicios se implementaran otros hiperparametros. Se usa un ensamblador para encontrar las mejores caracteristicas."
      ],
      "metadata": {
        "id": "bI7_KBCuceqD"
      }
    },
    {
      "cell_type": "code",
      "source": [
        "model_best_feature_gini = ExtraTreesClassifier(\n",
        "    n_estimators=100, criterion='gini'\n",
        ")"
      ],
      "metadata": {
        "id": "Dn64hsZ_9Va2"
      },
      "execution_count": 40,
      "outputs": []
    },
    {
      "cell_type": "code",
      "source": [
        "model_best_feature_gini"
      ],
      "metadata": {
        "colab": {
          "base_uri": "https://localhost:8080/",
          "height": 74
        },
        "id": "dzuZm5Hq9flN",
        "outputId": "3218e0a3-2653-4c72-88b6-e99a4efff525"
      },
      "execution_count": 41,
      "outputs": [
        {
          "output_type": "execute_result",
          "data": {
            "text/plain": [
              "ExtraTreesClassifier()"
            ],
            "text/html": [
              "<style>#sk-container-id-4 {color: black;background-color: white;}#sk-container-id-4 pre{padding: 0;}#sk-container-id-4 div.sk-toggleable {background-color: white;}#sk-container-id-4 label.sk-toggleable__label {cursor: pointer;display: block;width: 100%;margin-bottom: 0;padding: 0.3em;box-sizing: border-box;text-align: center;}#sk-container-id-4 label.sk-toggleable__label-arrow:before {content: \"▸\";float: left;margin-right: 0.25em;color: #696969;}#sk-container-id-4 label.sk-toggleable__label-arrow:hover:before {color: black;}#sk-container-id-4 div.sk-estimator:hover label.sk-toggleable__label-arrow:before {color: black;}#sk-container-id-4 div.sk-toggleable__content {max-height: 0;max-width: 0;overflow: hidden;text-align: left;background-color: #f0f8ff;}#sk-container-id-4 div.sk-toggleable__content pre {margin: 0.2em;color: black;border-radius: 0.25em;background-color: #f0f8ff;}#sk-container-id-4 input.sk-toggleable__control:checked~div.sk-toggleable__content {max-height: 200px;max-width: 100%;overflow: auto;}#sk-container-id-4 input.sk-toggleable__control:checked~label.sk-toggleable__label-arrow:before {content: \"▾\";}#sk-container-id-4 div.sk-estimator input.sk-toggleable__control:checked~label.sk-toggleable__label {background-color: #d4ebff;}#sk-container-id-4 div.sk-label input.sk-toggleable__control:checked~label.sk-toggleable__label {background-color: #d4ebff;}#sk-container-id-4 input.sk-hidden--visually {border: 0;clip: rect(1px 1px 1px 1px);clip: rect(1px, 1px, 1px, 1px);height: 1px;margin: -1px;overflow: hidden;padding: 0;position: absolute;width: 1px;}#sk-container-id-4 div.sk-estimator {font-family: monospace;background-color: #f0f8ff;border: 1px dotted black;border-radius: 0.25em;box-sizing: border-box;margin-bottom: 0.5em;}#sk-container-id-4 div.sk-estimator:hover {background-color: #d4ebff;}#sk-container-id-4 div.sk-parallel-item::after {content: \"\";width: 100%;border-bottom: 1px solid gray;flex-grow: 1;}#sk-container-id-4 div.sk-label:hover label.sk-toggleable__label {background-color: #d4ebff;}#sk-container-id-4 div.sk-serial::before {content: \"\";position: absolute;border-left: 1px solid gray;box-sizing: border-box;top: 0;bottom: 0;left: 50%;z-index: 0;}#sk-container-id-4 div.sk-serial {display: flex;flex-direction: column;align-items: center;background-color: white;padding-right: 0.2em;padding-left: 0.2em;position: relative;}#sk-container-id-4 div.sk-item {position: relative;z-index: 1;}#sk-container-id-4 div.sk-parallel {display: flex;align-items: stretch;justify-content: center;background-color: white;position: relative;}#sk-container-id-4 div.sk-item::before, #sk-container-id-4 div.sk-parallel-item::before {content: \"\";position: absolute;border-left: 1px solid gray;box-sizing: border-box;top: 0;bottom: 0;left: 50%;z-index: -1;}#sk-container-id-4 div.sk-parallel-item {display: flex;flex-direction: column;z-index: 1;position: relative;background-color: white;}#sk-container-id-4 div.sk-parallel-item:first-child::after {align-self: flex-end;width: 50%;}#sk-container-id-4 div.sk-parallel-item:last-child::after {align-self: flex-start;width: 50%;}#sk-container-id-4 div.sk-parallel-item:only-child::after {width: 0;}#sk-container-id-4 div.sk-dashed-wrapped {border: 1px dashed gray;margin: 0 0.4em 0.5em 0.4em;box-sizing: border-box;padding-bottom: 0.4em;background-color: white;}#sk-container-id-4 div.sk-label label {font-family: monospace;font-weight: bold;display: inline-block;line-height: 1.2em;}#sk-container-id-4 div.sk-label-container {text-align: center;}#sk-container-id-4 div.sk-container {/* jupyter's `normalize.less` sets `[hidden] { display: none; }` but bootstrap.min.css set `[hidden] { display: none !important; }` so we also need the `!important` here to be able to override the default hidden behavior on the sphinx rendered scikit-learn.org. See: https://github.com/scikit-learn/scikit-learn/issues/21755 */display: inline-block !important;position: relative;}#sk-container-id-4 div.sk-text-repr-fallback {display: none;}</style><div id=\"sk-container-id-4\" class=\"sk-top-container\"><div class=\"sk-text-repr-fallback\"><pre>ExtraTreesClassifier()</pre><b>In a Jupyter environment, please rerun this cell to show the HTML representation or trust the notebook. <br />On GitHub, the HTML representation is unable to render, please try loading this page with nbviewer.org.</b></div><div class=\"sk-container\" hidden><div class=\"sk-item\"><div class=\"sk-estimator sk-toggleable\"><input class=\"sk-toggleable__control sk-hidden--visually\" id=\"sk-estimator-id-8\" type=\"checkbox\" checked><label for=\"sk-estimator-id-8\" class=\"sk-toggleable__label sk-toggleable__label-arrow\">ExtraTreesClassifier</label><div class=\"sk-toggleable__content\"><pre>ExtraTreesClassifier()</pre></div></div></div></div></div>"
            ]
          },
          "metadata": {},
          "execution_count": 41
        }
      ]
    },
    {
      "cell_type": "code",
      "source": [
        "data_best_gini = model_best_feature_gini.fit(X, y)"
      ],
      "metadata": {
        "id": "qyLysefMfD5Q"
      },
      "execution_count": 42,
      "outputs": []
    },
    {
      "cell_type": "markdown",
      "source": [
        "Seleccionamos las mejores caracteristicas, para implementar un metodo para la reducción de overfitting."
      ],
      "metadata": {
        "id": "5dLLsA9gi85g"
      }
    },
    {
      "cell_type": "code",
      "source": [
        "model = SelectFromModel(data_best_gini, prefit=True)\n",
        "model"
      ],
      "metadata": {
        "colab": {
          "base_uri": "https://localhost:8080/",
          "height": 117
        },
        "id": "ywBXJXMo9oHs",
        "outputId": "e88a2d57-bc62-4f06-866b-e4ac4a376e86"
      },
      "execution_count": 43,
      "outputs": [
        {
          "output_type": "execute_result",
          "data": {
            "text/plain": [
              "SelectFromModel(estimator=ExtraTreesClassifier(), prefit=True)"
            ],
            "text/html": [
              "<style>#sk-container-id-5 {color: black;background-color: white;}#sk-container-id-5 pre{padding: 0;}#sk-container-id-5 div.sk-toggleable {background-color: white;}#sk-container-id-5 label.sk-toggleable__label {cursor: pointer;display: block;width: 100%;margin-bottom: 0;padding: 0.3em;box-sizing: border-box;text-align: center;}#sk-container-id-5 label.sk-toggleable__label-arrow:before {content: \"▸\";float: left;margin-right: 0.25em;color: #696969;}#sk-container-id-5 label.sk-toggleable__label-arrow:hover:before {color: black;}#sk-container-id-5 div.sk-estimator:hover label.sk-toggleable__label-arrow:before {color: black;}#sk-container-id-5 div.sk-toggleable__content {max-height: 0;max-width: 0;overflow: hidden;text-align: left;background-color: #f0f8ff;}#sk-container-id-5 div.sk-toggleable__content pre {margin: 0.2em;color: black;border-radius: 0.25em;background-color: #f0f8ff;}#sk-container-id-5 input.sk-toggleable__control:checked~div.sk-toggleable__content {max-height: 200px;max-width: 100%;overflow: auto;}#sk-container-id-5 input.sk-toggleable__control:checked~label.sk-toggleable__label-arrow:before {content: \"▾\";}#sk-container-id-5 div.sk-estimator input.sk-toggleable__control:checked~label.sk-toggleable__label {background-color: #d4ebff;}#sk-container-id-5 div.sk-label input.sk-toggleable__control:checked~label.sk-toggleable__label {background-color: #d4ebff;}#sk-container-id-5 input.sk-hidden--visually {border: 0;clip: rect(1px 1px 1px 1px);clip: rect(1px, 1px, 1px, 1px);height: 1px;margin: -1px;overflow: hidden;padding: 0;position: absolute;width: 1px;}#sk-container-id-5 div.sk-estimator {font-family: monospace;background-color: #f0f8ff;border: 1px dotted black;border-radius: 0.25em;box-sizing: border-box;margin-bottom: 0.5em;}#sk-container-id-5 div.sk-estimator:hover {background-color: #d4ebff;}#sk-container-id-5 div.sk-parallel-item::after {content: \"\";width: 100%;border-bottom: 1px solid gray;flex-grow: 1;}#sk-container-id-5 div.sk-label:hover label.sk-toggleable__label {background-color: #d4ebff;}#sk-container-id-5 div.sk-serial::before {content: \"\";position: absolute;border-left: 1px solid gray;box-sizing: border-box;top: 0;bottom: 0;left: 50%;z-index: 0;}#sk-container-id-5 div.sk-serial {display: flex;flex-direction: column;align-items: center;background-color: white;padding-right: 0.2em;padding-left: 0.2em;position: relative;}#sk-container-id-5 div.sk-item {position: relative;z-index: 1;}#sk-container-id-5 div.sk-parallel {display: flex;align-items: stretch;justify-content: center;background-color: white;position: relative;}#sk-container-id-5 div.sk-item::before, #sk-container-id-5 div.sk-parallel-item::before {content: \"\";position: absolute;border-left: 1px solid gray;box-sizing: border-box;top: 0;bottom: 0;left: 50%;z-index: -1;}#sk-container-id-5 div.sk-parallel-item {display: flex;flex-direction: column;z-index: 1;position: relative;background-color: white;}#sk-container-id-5 div.sk-parallel-item:first-child::after {align-self: flex-end;width: 50%;}#sk-container-id-5 div.sk-parallel-item:last-child::after {align-self: flex-start;width: 50%;}#sk-container-id-5 div.sk-parallel-item:only-child::after {width: 0;}#sk-container-id-5 div.sk-dashed-wrapped {border: 1px dashed gray;margin: 0 0.4em 0.5em 0.4em;box-sizing: border-box;padding-bottom: 0.4em;background-color: white;}#sk-container-id-5 div.sk-label label {font-family: monospace;font-weight: bold;display: inline-block;line-height: 1.2em;}#sk-container-id-5 div.sk-label-container {text-align: center;}#sk-container-id-5 div.sk-container {/* jupyter's `normalize.less` sets `[hidden] { display: none; }` but bootstrap.min.css set `[hidden] { display: none !important; }` so we also need the `!important` here to be able to override the default hidden behavior on the sphinx rendered scikit-learn.org. See: https://github.com/scikit-learn/scikit-learn/issues/21755 */display: inline-block !important;position: relative;}#sk-container-id-5 div.sk-text-repr-fallback {display: none;}</style><div id=\"sk-container-id-5\" class=\"sk-top-container\"><div class=\"sk-text-repr-fallback\"><pre>SelectFromModel(estimator=ExtraTreesClassifier(), prefit=True)</pre><b>In a Jupyter environment, please rerun this cell to show the HTML representation or trust the notebook. <br />On GitHub, the HTML representation is unable to render, please try loading this page with nbviewer.org.</b></div><div class=\"sk-container\" hidden><div class=\"sk-item sk-dashed-wrapped\"><div class=\"sk-label-container\"><div class=\"sk-label sk-toggleable\"><input class=\"sk-toggleable__control sk-hidden--visually\" id=\"sk-estimator-id-9\" type=\"checkbox\" ><label for=\"sk-estimator-id-9\" class=\"sk-toggleable__label sk-toggleable__label-arrow\">SelectFromModel</label><div class=\"sk-toggleable__content\"><pre>SelectFromModel(estimator=ExtraTreesClassifier(), prefit=True)</pre></div></div></div><div class=\"sk-parallel\"><div class=\"sk-parallel-item\"><div class=\"sk-item\"><div class=\"sk-label-container\"><div class=\"sk-label sk-toggleable\"><input class=\"sk-toggleable__control sk-hidden--visually\" id=\"sk-estimator-id-10\" type=\"checkbox\" ><label for=\"sk-estimator-id-10\" class=\"sk-toggleable__label sk-toggleable__label-arrow\">estimator: ExtraTreesClassifier</label><div class=\"sk-toggleable__content\"><pre>ExtraTreesClassifier()</pre></div></div></div><div class=\"sk-serial\"><div class=\"sk-item\"><div class=\"sk-estimator sk-toggleable\"><input class=\"sk-toggleable__control sk-hidden--visually\" id=\"sk-estimator-id-11\" type=\"checkbox\" ><label for=\"sk-estimator-id-11\" class=\"sk-toggleable__label sk-toggleable__label-arrow\">ExtraTreesClassifier</label><div class=\"sk-toggleable__content\"><pre>ExtraTreesClassifier()</pre></div></div></div></div></div></div></div></div></div></div>"
            ]
          },
          "metadata": {},
          "execution_count": 43
        }
      ]
    },
    {
      "cell_type": "code",
      "source": [
        "best_features = X[X.columns[model.get_support(indices=True)]].columns\n",
        "best_features"
      ],
      "metadata": {
        "colab": {
          "base_uri": "https://localhost:8080/"
        },
        "id": "MJoqqN2l-FJW",
        "outputId": "5c406215-1223-4e1e-c65f-79706714b381"
      },
      "execution_count": 44,
      "outputs": [
        {
          "output_type": "execute_result",
          "data": {
            "text/plain": [
              "Index(['p1_d', 'p2_d', 'min_d', '#packets', 'Avg_bpp', 'p2_ip', 'p3_ip',\n",
              "       'p2_ib'],\n",
              "      dtype='object')"
            ]
          },
          "metadata": {},
          "execution_count": 44
        }
      ]
    },
    {
      "cell_type": "markdown",
      "source": [
        "No se implementará un proceso de estandarización, ya que el modelo es robusto ante ese tipo de casos."
      ],
      "metadata": {
        "id": "_0j1M4hnjlEc"
      }
    },
    {
      "cell_type": "code",
      "source": [
        "X = X[best_features]\n",
        "X"
      ],
      "metadata": {
        "id": "BOifpq-ciCCZ",
        "outputId": "d8025e20-deb6-4142-fd19-432b428b4b05",
        "colab": {
          "base_uri": "https://localhost:8080/",
          "height": 423
        }
      },
      "execution_count": 45,
      "outputs": [
        {
          "output_type": "execute_result",
          "data": {
            "text/plain": [
              "           p1_d      p2_d    min_d  #packets  Avg_bpp  p2_ip  p3_ip    p2_ib\n",
              "0      18.93900  168.1730    0.000      5546    833.0    7.0  22.00    255.0\n",
              "1       0.00000    0.0000    0.000        20     49.0    1.0   1.00     47.0\n",
              "2       0.00000    0.0000    0.000        10     87.0    1.0   1.00     43.0\n",
              "3       0.00000    0.0000    0.000      8711    556.0    1.0   1.00     49.0\n",
              "4       0.00000    0.0000    0.000         2     41.0    1.0   1.00     41.0\n",
              "...         ...       ...      ...       ...      ...    ...    ...      ...\n",
              "2832    2.15850    4.3170    0.000         3    424.0    1.5   1.75    636.5\n",
              "2833  583.36850  583.8100  582.927       110    336.0   55.0  56.50  18532.5\n",
              "2834  288.55375  288.5545  288.553        45    318.0   22.5  22.75   7165.0\n",
              "2835  285.37900  285.3790  285.379        51    329.0   25.5  26.25   8400.0\n",
              "2836  267.03625  267.0365  267.036        42    396.0   21.0  21.00   8321.0\n",
              "\n",
              "[2837 rows x 8 columns]"
            ],
            "text/html": [
              "\n",
              "  <div id=\"df-e9013272-55f7-4bd9-bf09-7bd02bc958a7\" class=\"colab-df-container\">\n",
              "    <div>\n",
              "<style scoped>\n",
              "    .dataframe tbody tr th:only-of-type {\n",
              "        vertical-align: middle;\n",
              "    }\n",
              "\n",
              "    .dataframe tbody tr th {\n",
              "        vertical-align: top;\n",
              "    }\n",
              "\n",
              "    .dataframe thead th {\n",
              "        text-align: right;\n",
              "    }\n",
              "</style>\n",
              "<table border=\"1\" class=\"dataframe\">\n",
              "  <thead>\n",
              "    <tr style=\"text-align: right;\">\n",
              "      <th></th>\n",
              "      <th>p1_d</th>\n",
              "      <th>p2_d</th>\n",
              "      <th>min_d</th>\n",
              "      <th>#packets</th>\n",
              "      <th>Avg_bpp</th>\n",
              "      <th>p2_ip</th>\n",
              "      <th>p3_ip</th>\n",
              "      <th>p2_ib</th>\n",
              "    </tr>\n",
              "  </thead>\n",
              "  <tbody>\n",
              "    <tr>\n",
              "      <th>0</th>\n",
              "      <td>18.93900</td>\n",
              "      <td>168.1730</td>\n",
              "      <td>0.000</td>\n",
              "      <td>5546</td>\n",
              "      <td>833.0</td>\n",
              "      <td>7.0</td>\n",
              "      <td>22.00</td>\n",
              "      <td>255.0</td>\n",
              "    </tr>\n",
              "    <tr>\n",
              "      <th>1</th>\n",
              "      <td>0.00000</td>\n",
              "      <td>0.0000</td>\n",
              "      <td>0.000</td>\n",
              "      <td>20</td>\n",
              "      <td>49.0</td>\n",
              "      <td>1.0</td>\n",
              "      <td>1.00</td>\n",
              "      <td>47.0</td>\n",
              "    </tr>\n",
              "    <tr>\n",
              "      <th>2</th>\n",
              "      <td>0.00000</td>\n",
              "      <td>0.0000</td>\n",
              "      <td>0.000</td>\n",
              "      <td>10</td>\n",
              "      <td>87.0</td>\n",
              "      <td>1.0</td>\n",
              "      <td>1.00</td>\n",
              "      <td>43.0</td>\n",
              "    </tr>\n",
              "    <tr>\n",
              "      <th>3</th>\n",
              "      <td>0.00000</td>\n",
              "      <td>0.0000</td>\n",
              "      <td>0.000</td>\n",
              "      <td>8711</td>\n",
              "      <td>556.0</td>\n",
              "      <td>1.0</td>\n",
              "      <td>1.00</td>\n",
              "      <td>49.0</td>\n",
              "    </tr>\n",
              "    <tr>\n",
              "      <th>4</th>\n",
              "      <td>0.00000</td>\n",
              "      <td>0.0000</td>\n",
              "      <td>0.000</td>\n",
              "      <td>2</td>\n",
              "      <td>41.0</td>\n",
              "      <td>1.0</td>\n",
              "      <td>1.00</td>\n",
              "      <td>41.0</td>\n",
              "    </tr>\n",
              "    <tr>\n",
              "      <th>...</th>\n",
              "      <td>...</td>\n",
              "      <td>...</td>\n",
              "      <td>...</td>\n",
              "      <td>...</td>\n",
              "      <td>...</td>\n",
              "      <td>...</td>\n",
              "      <td>...</td>\n",
              "      <td>...</td>\n",
              "    </tr>\n",
              "    <tr>\n",
              "      <th>2832</th>\n",
              "      <td>2.15850</td>\n",
              "      <td>4.3170</td>\n",
              "      <td>0.000</td>\n",
              "      <td>3</td>\n",
              "      <td>424.0</td>\n",
              "      <td>1.5</td>\n",
              "      <td>1.75</td>\n",
              "      <td>636.5</td>\n",
              "    </tr>\n",
              "    <tr>\n",
              "      <th>2833</th>\n",
              "      <td>583.36850</td>\n",
              "      <td>583.8100</td>\n",
              "      <td>582.927</td>\n",
              "      <td>110</td>\n",
              "      <td>336.0</td>\n",
              "      <td>55.0</td>\n",
              "      <td>56.50</td>\n",
              "      <td>18532.5</td>\n",
              "    </tr>\n",
              "    <tr>\n",
              "      <th>2834</th>\n",
              "      <td>288.55375</td>\n",
              "      <td>288.5545</td>\n",
              "      <td>288.553</td>\n",
              "      <td>45</td>\n",
              "      <td>318.0</td>\n",
              "      <td>22.5</td>\n",
              "      <td>22.75</td>\n",
              "      <td>7165.0</td>\n",
              "    </tr>\n",
              "    <tr>\n",
              "      <th>2835</th>\n",
              "      <td>285.37900</td>\n",
              "      <td>285.3790</td>\n",
              "      <td>285.379</td>\n",
              "      <td>51</td>\n",
              "      <td>329.0</td>\n",
              "      <td>25.5</td>\n",
              "      <td>26.25</td>\n",
              "      <td>8400.0</td>\n",
              "    </tr>\n",
              "    <tr>\n",
              "      <th>2836</th>\n",
              "      <td>267.03625</td>\n",
              "      <td>267.0365</td>\n",
              "      <td>267.036</td>\n",
              "      <td>42</td>\n",
              "      <td>396.0</td>\n",
              "      <td>21.0</td>\n",
              "      <td>21.00</td>\n",
              "      <td>8321.0</td>\n",
              "    </tr>\n",
              "  </tbody>\n",
              "</table>\n",
              "<p>2837 rows × 8 columns</p>\n",
              "</div>\n",
              "    <div class=\"colab-df-buttons\">\n",
              "\n",
              "  <div class=\"colab-df-container\">\n",
              "    <button class=\"colab-df-convert\" onclick=\"convertToInteractive('df-e9013272-55f7-4bd9-bf09-7bd02bc958a7')\"\n",
              "            title=\"Convert this dataframe to an interactive table.\"\n",
              "            style=\"display:none;\">\n",
              "\n",
              "  <svg xmlns=\"http://www.w3.org/2000/svg\" height=\"24px\" viewBox=\"0 -960 960 960\">\n",
              "    <path d=\"M120-120v-720h720v720H120Zm60-500h600v-160H180v160Zm220 220h160v-160H400v160Zm0 220h160v-160H400v160ZM180-400h160v-160H180v160Zm440 0h160v-160H620v160ZM180-180h160v-160H180v160Zm440 0h160v-160H620v160Z\"/>\n",
              "  </svg>\n",
              "    </button>\n",
              "\n",
              "  <style>\n",
              "    .colab-df-container {\n",
              "      display:flex;\n",
              "      gap: 12px;\n",
              "    }\n",
              "\n",
              "    .colab-df-convert {\n",
              "      background-color: #E8F0FE;\n",
              "      border: none;\n",
              "      border-radius: 50%;\n",
              "      cursor: pointer;\n",
              "      display: none;\n",
              "      fill: #1967D2;\n",
              "      height: 32px;\n",
              "      padding: 0 0 0 0;\n",
              "      width: 32px;\n",
              "    }\n",
              "\n",
              "    .colab-df-convert:hover {\n",
              "      background-color: #E2EBFA;\n",
              "      box-shadow: 0px 1px 2px rgba(60, 64, 67, 0.3), 0px 1px 3px 1px rgba(60, 64, 67, 0.15);\n",
              "      fill: #174EA6;\n",
              "    }\n",
              "\n",
              "    .colab-df-buttons div {\n",
              "      margin-bottom: 4px;\n",
              "    }\n",
              "\n",
              "    [theme=dark] .colab-df-convert {\n",
              "      background-color: #3B4455;\n",
              "      fill: #D2E3FC;\n",
              "    }\n",
              "\n",
              "    [theme=dark] .colab-df-convert:hover {\n",
              "      background-color: #434B5C;\n",
              "      box-shadow: 0px 1px 3px 1px rgba(0, 0, 0, 0.15);\n",
              "      filter: drop-shadow(0px 1px 2px rgba(0, 0, 0, 0.3));\n",
              "      fill: #FFFFFF;\n",
              "    }\n",
              "  </style>\n",
              "\n",
              "    <script>\n",
              "      const buttonEl =\n",
              "        document.querySelector('#df-e9013272-55f7-4bd9-bf09-7bd02bc958a7 button.colab-df-convert');\n",
              "      buttonEl.style.display =\n",
              "        google.colab.kernel.accessAllowed ? 'block' : 'none';\n",
              "\n",
              "      async function convertToInteractive(key) {\n",
              "        const element = document.querySelector('#df-e9013272-55f7-4bd9-bf09-7bd02bc958a7');\n",
              "        const dataTable =\n",
              "          await google.colab.kernel.invokeFunction('convertToInteractive',\n",
              "                                                    [key], {});\n",
              "        if (!dataTable) return;\n",
              "\n",
              "        const docLinkHtml = 'Like what you see? Visit the ' +\n",
              "          '<a target=\"_blank\" href=https://colab.research.google.com/notebooks/data_table.ipynb>data table notebook</a>'\n",
              "          + ' to learn more about interactive tables.';\n",
              "        element.innerHTML = '';\n",
              "        dataTable['output_type'] = 'display_data';\n",
              "        await google.colab.output.renderOutput(dataTable, element);\n",
              "        const docLink = document.createElement('div');\n",
              "        docLink.innerHTML = docLinkHtml;\n",
              "        element.appendChild(docLink);\n",
              "      }\n",
              "    </script>\n",
              "  </div>\n",
              "\n",
              "\n",
              "<div id=\"df-7f344474-9921-4ddb-b8bf-df70f09d3460\">\n",
              "  <button class=\"colab-df-quickchart\" onclick=\"quickchart('df-7f344474-9921-4ddb-b8bf-df70f09d3460')\"\n",
              "            title=\"Suggest charts\"\n",
              "            style=\"display:none;\">\n",
              "\n",
              "<svg xmlns=\"http://www.w3.org/2000/svg\" height=\"24px\"viewBox=\"0 0 24 24\"\n",
              "     width=\"24px\">\n",
              "    <g>\n",
              "        <path d=\"M19 3H5c-1.1 0-2 .9-2 2v14c0 1.1.9 2 2 2h14c1.1 0 2-.9 2-2V5c0-1.1-.9-2-2-2zM9 17H7v-7h2v7zm4 0h-2V7h2v10zm4 0h-2v-4h2v4z\"/>\n",
              "    </g>\n",
              "</svg>\n",
              "  </button>\n",
              "\n",
              "<style>\n",
              "  .colab-df-quickchart {\n",
              "      --bg-color: #E8F0FE;\n",
              "      --fill-color: #1967D2;\n",
              "      --hover-bg-color: #E2EBFA;\n",
              "      --hover-fill-color: #174EA6;\n",
              "      --disabled-fill-color: #AAA;\n",
              "      --disabled-bg-color: #DDD;\n",
              "  }\n",
              "\n",
              "  [theme=dark] .colab-df-quickchart {\n",
              "      --bg-color: #3B4455;\n",
              "      --fill-color: #D2E3FC;\n",
              "      --hover-bg-color: #434B5C;\n",
              "      --hover-fill-color: #FFFFFF;\n",
              "      --disabled-bg-color: #3B4455;\n",
              "      --disabled-fill-color: #666;\n",
              "  }\n",
              "\n",
              "  .colab-df-quickchart {\n",
              "    background-color: var(--bg-color);\n",
              "    border: none;\n",
              "    border-radius: 50%;\n",
              "    cursor: pointer;\n",
              "    display: none;\n",
              "    fill: var(--fill-color);\n",
              "    height: 32px;\n",
              "    padding: 0;\n",
              "    width: 32px;\n",
              "  }\n",
              "\n",
              "  .colab-df-quickchart:hover {\n",
              "    background-color: var(--hover-bg-color);\n",
              "    box-shadow: 0 1px 2px rgba(60, 64, 67, 0.3), 0 1px 3px 1px rgba(60, 64, 67, 0.15);\n",
              "    fill: var(--button-hover-fill-color);\n",
              "  }\n",
              "\n",
              "  .colab-df-quickchart-complete:disabled,\n",
              "  .colab-df-quickchart-complete:disabled:hover {\n",
              "    background-color: var(--disabled-bg-color);\n",
              "    fill: var(--disabled-fill-color);\n",
              "    box-shadow: none;\n",
              "  }\n",
              "\n",
              "  .colab-df-spinner {\n",
              "    border: 2px solid var(--fill-color);\n",
              "    border-color: transparent;\n",
              "    border-bottom-color: var(--fill-color);\n",
              "    animation:\n",
              "      spin 1s steps(1) infinite;\n",
              "  }\n",
              "\n",
              "  @keyframes spin {\n",
              "    0% {\n",
              "      border-color: transparent;\n",
              "      border-bottom-color: var(--fill-color);\n",
              "      border-left-color: var(--fill-color);\n",
              "    }\n",
              "    20% {\n",
              "      border-color: transparent;\n",
              "      border-left-color: var(--fill-color);\n",
              "      border-top-color: var(--fill-color);\n",
              "    }\n",
              "    30% {\n",
              "      border-color: transparent;\n",
              "      border-left-color: var(--fill-color);\n",
              "      border-top-color: var(--fill-color);\n",
              "      border-right-color: var(--fill-color);\n",
              "    }\n",
              "    40% {\n",
              "      border-color: transparent;\n",
              "      border-right-color: var(--fill-color);\n",
              "      border-top-color: var(--fill-color);\n",
              "    }\n",
              "    60% {\n",
              "      border-color: transparent;\n",
              "      border-right-color: var(--fill-color);\n",
              "    }\n",
              "    80% {\n",
              "      border-color: transparent;\n",
              "      border-right-color: var(--fill-color);\n",
              "      border-bottom-color: var(--fill-color);\n",
              "    }\n",
              "    90% {\n",
              "      border-color: transparent;\n",
              "      border-bottom-color: var(--fill-color);\n",
              "    }\n",
              "  }\n",
              "</style>\n",
              "\n",
              "  <script>\n",
              "    async function quickchart(key) {\n",
              "      const quickchartButtonEl =\n",
              "        document.querySelector('#' + key + ' button');\n",
              "      quickchartButtonEl.disabled = true;  // To prevent multiple clicks.\n",
              "      quickchartButtonEl.classList.add('colab-df-spinner');\n",
              "      try {\n",
              "        const charts = await google.colab.kernel.invokeFunction(\n",
              "            'suggestCharts', [key], {});\n",
              "      } catch (error) {\n",
              "        console.error('Error during call to suggestCharts:', error);\n",
              "      }\n",
              "      quickchartButtonEl.classList.remove('colab-df-spinner');\n",
              "      quickchartButtonEl.classList.add('colab-df-quickchart-complete');\n",
              "    }\n",
              "    (() => {\n",
              "      let quickchartButtonEl =\n",
              "        document.querySelector('#df-7f344474-9921-4ddb-b8bf-df70f09d3460 button');\n",
              "      quickchartButtonEl.style.display =\n",
              "        google.colab.kernel.accessAllowed ? 'block' : 'none';\n",
              "    })();\n",
              "  </script>\n",
              "</div>\n",
              "\n",
              "  <div id=\"id_9fa74135-a8f8-4988-8ca0-5fc3d1c5502a\">\n",
              "    <style>\n",
              "      .colab-df-generate {\n",
              "        background-color: #E8F0FE;\n",
              "        border: none;\n",
              "        border-radius: 50%;\n",
              "        cursor: pointer;\n",
              "        display: none;\n",
              "        fill: #1967D2;\n",
              "        height: 32px;\n",
              "        padding: 0 0 0 0;\n",
              "        width: 32px;\n",
              "      }\n",
              "\n",
              "      .colab-df-generate:hover {\n",
              "        background-color: #E2EBFA;\n",
              "        box-shadow: 0px 1px 2px rgba(60, 64, 67, 0.3), 0px 1px 3px 1px rgba(60, 64, 67, 0.15);\n",
              "        fill: #174EA6;\n",
              "      }\n",
              "\n",
              "      [theme=dark] .colab-df-generate {\n",
              "        background-color: #3B4455;\n",
              "        fill: #D2E3FC;\n",
              "      }\n",
              "\n",
              "      [theme=dark] .colab-df-generate:hover {\n",
              "        background-color: #434B5C;\n",
              "        box-shadow: 0px 1px 3px 1px rgba(0, 0, 0, 0.15);\n",
              "        filter: drop-shadow(0px 1px 2px rgba(0, 0, 0, 0.3));\n",
              "        fill: #FFFFFF;\n",
              "      }\n",
              "    </style>\n",
              "    <button class=\"colab-df-generate\" onclick=\"generateWithVariable('X')\"\n",
              "            title=\"Generate code using this dataframe.\"\n",
              "            style=\"display:none;\">\n",
              "\n",
              "  <svg xmlns=\"http://www.w3.org/2000/svg\" height=\"24px\"viewBox=\"0 0 24 24\"\n",
              "       width=\"24px\">\n",
              "    <path d=\"M7,19H8.4L18.45,9,17,7.55,7,17.6ZM5,21V16.75L18.45,3.32a2,2,0,0,1,2.83,0l1.4,1.43a1.91,1.91,0,0,1,.58,1.4,1.91,1.91,0,0,1-.58,1.4L9.25,21ZM18.45,9,17,7.55Zm-12,3A5.31,5.31,0,0,0,4.9,8.1,5.31,5.31,0,0,0,1,6.5,5.31,5.31,0,0,0,4.9,4.9,5.31,5.31,0,0,0,6.5,1,5.31,5.31,0,0,0,8.1,4.9,5.31,5.31,0,0,0,12,6.5,5.46,5.46,0,0,0,6.5,12Z\"/>\n",
              "  </svg>\n",
              "    </button>\n",
              "    <script>\n",
              "      (() => {\n",
              "      const buttonEl =\n",
              "        document.querySelector('#id_9fa74135-a8f8-4988-8ca0-5fc3d1c5502a button.colab-df-generate');\n",
              "      buttonEl.style.display =\n",
              "        google.colab.kernel.accessAllowed ? 'block' : 'none';\n",
              "\n",
              "      buttonEl.onclick = () => {\n",
              "        google.colab.notebook.generateWithVariable('X');\n",
              "      }\n",
              "      })();\n",
              "    </script>\n",
              "  </div>\n",
              "\n",
              "    </div>\n",
              "  </div>\n"
            ]
          },
          "metadata": {},
          "execution_count": 45
        }
      ]
    },
    {
      "cell_type": "code",
      "source": [
        "X_train, X_test, y_train, y_test = train_test_split(\n",
        "    X,\n",
        "    y,\n",
        "    train_size = 0.2,\n",
        "    random_state=12354,\n",
        "    shuffle=True,\n",
        "    stratify=y\n",
        ")"
      ],
      "metadata": {
        "id": "Y29uQzBP-W9c"
      },
      "execution_count": 46,
      "outputs": []
    },
    {
      "cell_type": "markdown",
      "source": [
        "# **Prepoda**\n",
        "---"
      ],
      "metadata": {
        "id": "I8D9qjP1JIqg"
      }
    },
    {
      "cell_type": "code",
      "source": [
        "model = DecisionTreeClassifier(random_state=12354)"
      ],
      "metadata": {
        "id": "geLYNKAnMUoT"
      },
      "execution_count": 47,
      "outputs": []
    },
    {
      "cell_type": "code",
      "source": [
        "score_recall = metrics.make_scorer(\n",
        "    metrics.recall_score,\n",
        "    labels = [1,2,3,4,5],\n",
        "    average = 'micro'\n",
        ")"
      ],
      "metadata": {
        "id": "mY2iViShQSBg"
      },
      "execution_count": 48,
      "outputs": []
    },
    {
      "cell_type": "code",
      "source": [
        "param_grid = {\n",
        "    'criterion': ['gini', 'entropy', 'log_loss'],\n",
        "    \"max_depth\": list(range(2, 20)),\n",
        "    'min_samples_split': list(range(2, 10)),\n",
        "}\n",
        "\n",
        "\n",
        "grid = GridSearchCV(\n",
        "    estimator=model,\n",
        "    param_grid=param_grid,\n",
        "    refit=True,\n",
        "    return_train_score=True,\n",
        "    scoring = score_recall,\n",
        "    cv=10\n",
        ")"
      ],
      "metadata": {
        "id": "Lbx9hyXaJH-4"
      },
      "execution_count": 49,
      "outputs": []
    },
    {
      "cell_type": "code",
      "source": [
        "grid.fit(X_train, y_train)"
      ],
      "metadata": {
        "colab": {
          "base_uri": "https://localhost:8080/",
          "height": 117
        },
        "id": "BB1_niBvM16M",
        "outputId": "7ca23e13-1387-4924-f439-170b03a5d7d7"
      },
      "execution_count": 50,
      "outputs": [
        {
          "output_type": "execute_result",
          "data": {
            "text/plain": [
              "GridSearchCV(cv=10, estimator=DecisionTreeClassifier(random_state=12354),\n",
              "             param_grid={'criterion': ['gini', 'entropy', 'log_loss'],\n",
              "                         'max_depth': [2, 3, 4, 5, 6, 7, 8, 9, 10, 11, 12, 13,\n",
              "                                       14, 15, 16, 17, 18, 19],\n",
              "                         'min_samples_split': [2, 3, 4, 5, 6, 7, 8, 9]},\n",
              "             return_train_score=True,\n",
              "             scoring=make_scorer(recall_score, labels=[1, 2, 3, 4, 5], average=micro))"
            ],
            "text/html": [
              "<style>#sk-container-id-6 {color: black;background-color: white;}#sk-container-id-6 pre{padding: 0;}#sk-container-id-6 div.sk-toggleable {background-color: white;}#sk-container-id-6 label.sk-toggleable__label {cursor: pointer;display: block;width: 100%;margin-bottom: 0;padding: 0.3em;box-sizing: border-box;text-align: center;}#sk-container-id-6 label.sk-toggleable__label-arrow:before {content: \"▸\";float: left;margin-right: 0.25em;color: #696969;}#sk-container-id-6 label.sk-toggleable__label-arrow:hover:before {color: black;}#sk-container-id-6 div.sk-estimator:hover label.sk-toggleable__label-arrow:before {color: black;}#sk-container-id-6 div.sk-toggleable__content {max-height: 0;max-width: 0;overflow: hidden;text-align: left;background-color: #f0f8ff;}#sk-container-id-6 div.sk-toggleable__content pre {margin: 0.2em;color: black;border-radius: 0.25em;background-color: #f0f8ff;}#sk-container-id-6 input.sk-toggleable__control:checked~div.sk-toggleable__content {max-height: 200px;max-width: 100%;overflow: auto;}#sk-container-id-6 input.sk-toggleable__control:checked~label.sk-toggleable__label-arrow:before {content: \"▾\";}#sk-container-id-6 div.sk-estimator input.sk-toggleable__control:checked~label.sk-toggleable__label {background-color: #d4ebff;}#sk-container-id-6 div.sk-label input.sk-toggleable__control:checked~label.sk-toggleable__label {background-color: #d4ebff;}#sk-container-id-6 input.sk-hidden--visually {border: 0;clip: rect(1px 1px 1px 1px);clip: rect(1px, 1px, 1px, 1px);height: 1px;margin: -1px;overflow: hidden;padding: 0;position: absolute;width: 1px;}#sk-container-id-6 div.sk-estimator {font-family: monospace;background-color: #f0f8ff;border: 1px dotted black;border-radius: 0.25em;box-sizing: border-box;margin-bottom: 0.5em;}#sk-container-id-6 div.sk-estimator:hover {background-color: #d4ebff;}#sk-container-id-6 div.sk-parallel-item::after {content: \"\";width: 100%;border-bottom: 1px solid gray;flex-grow: 1;}#sk-container-id-6 div.sk-label:hover label.sk-toggleable__label {background-color: #d4ebff;}#sk-container-id-6 div.sk-serial::before {content: \"\";position: absolute;border-left: 1px solid gray;box-sizing: border-box;top: 0;bottom: 0;left: 50%;z-index: 0;}#sk-container-id-6 div.sk-serial {display: flex;flex-direction: column;align-items: center;background-color: white;padding-right: 0.2em;padding-left: 0.2em;position: relative;}#sk-container-id-6 div.sk-item {position: relative;z-index: 1;}#sk-container-id-6 div.sk-parallel {display: flex;align-items: stretch;justify-content: center;background-color: white;position: relative;}#sk-container-id-6 div.sk-item::before, #sk-container-id-6 div.sk-parallel-item::before {content: \"\";position: absolute;border-left: 1px solid gray;box-sizing: border-box;top: 0;bottom: 0;left: 50%;z-index: -1;}#sk-container-id-6 div.sk-parallel-item {display: flex;flex-direction: column;z-index: 1;position: relative;background-color: white;}#sk-container-id-6 div.sk-parallel-item:first-child::after {align-self: flex-end;width: 50%;}#sk-container-id-6 div.sk-parallel-item:last-child::after {align-self: flex-start;width: 50%;}#sk-container-id-6 div.sk-parallel-item:only-child::after {width: 0;}#sk-container-id-6 div.sk-dashed-wrapped {border: 1px dashed gray;margin: 0 0.4em 0.5em 0.4em;box-sizing: border-box;padding-bottom: 0.4em;background-color: white;}#sk-container-id-6 div.sk-label label {font-family: monospace;font-weight: bold;display: inline-block;line-height: 1.2em;}#sk-container-id-6 div.sk-label-container {text-align: center;}#sk-container-id-6 div.sk-container {/* jupyter's `normalize.less` sets `[hidden] { display: none; }` but bootstrap.min.css set `[hidden] { display: none !important; }` so we also need the `!important` here to be able to override the default hidden behavior on the sphinx rendered scikit-learn.org. See: https://github.com/scikit-learn/scikit-learn/issues/21755 */display: inline-block !important;position: relative;}#sk-container-id-6 div.sk-text-repr-fallback {display: none;}</style><div id=\"sk-container-id-6\" class=\"sk-top-container\"><div class=\"sk-text-repr-fallback\"><pre>GridSearchCV(cv=10, estimator=DecisionTreeClassifier(random_state=12354),\n",
              "             param_grid={&#x27;criterion&#x27;: [&#x27;gini&#x27;, &#x27;entropy&#x27;, &#x27;log_loss&#x27;],\n",
              "                         &#x27;max_depth&#x27;: [2, 3, 4, 5, 6, 7, 8, 9, 10, 11, 12, 13,\n",
              "                                       14, 15, 16, 17, 18, 19],\n",
              "                         &#x27;min_samples_split&#x27;: [2, 3, 4, 5, 6, 7, 8, 9]},\n",
              "             return_train_score=True,\n",
              "             scoring=make_scorer(recall_score, labels=[1, 2, 3, 4, 5], average=micro))</pre><b>In a Jupyter environment, please rerun this cell to show the HTML representation or trust the notebook. <br />On GitHub, the HTML representation is unable to render, please try loading this page with nbviewer.org.</b></div><div class=\"sk-container\" hidden><div class=\"sk-item sk-dashed-wrapped\"><div class=\"sk-label-container\"><div class=\"sk-label sk-toggleable\"><input class=\"sk-toggleable__control sk-hidden--visually\" id=\"sk-estimator-id-12\" type=\"checkbox\" ><label for=\"sk-estimator-id-12\" class=\"sk-toggleable__label sk-toggleable__label-arrow\">GridSearchCV</label><div class=\"sk-toggleable__content\"><pre>GridSearchCV(cv=10, estimator=DecisionTreeClassifier(random_state=12354),\n",
              "             param_grid={&#x27;criterion&#x27;: [&#x27;gini&#x27;, &#x27;entropy&#x27;, &#x27;log_loss&#x27;],\n",
              "                         &#x27;max_depth&#x27;: [2, 3, 4, 5, 6, 7, 8, 9, 10, 11, 12, 13,\n",
              "                                       14, 15, 16, 17, 18, 19],\n",
              "                         &#x27;min_samples_split&#x27;: [2, 3, 4, 5, 6, 7, 8, 9]},\n",
              "             return_train_score=True,\n",
              "             scoring=make_scorer(recall_score, labels=[1, 2, 3, 4, 5], average=micro))</pre></div></div></div><div class=\"sk-parallel\"><div class=\"sk-parallel-item\"><div class=\"sk-item\"><div class=\"sk-label-container\"><div class=\"sk-label sk-toggleable\"><input class=\"sk-toggleable__control sk-hidden--visually\" id=\"sk-estimator-id-13\" type=\"checkbox\" ><label for=\"sk-estimator-id-13\" class=\"sk-toggleable__label sk-toggleable__label-arrow\">estimator: DecisionTreeClassifier</label><div class=\"sk-toggleable__content\"><pre>DecisionTreeClassifier(random_state=12354)</pre></div></div></div><div class=\"sk-serial\"><div class=\"sk-item\"><div class=\"sk-estimator sk-toggleable\"><input class=\"sk-toggleable__control sk-hidden--visually\" id=\"sk-estimator-id-14\" type=\"checkbox\" ><label for=\"sk-estimator-id-14\" class=\"sk-toggleable__label sk-toggleable__label-arrow\">DecisionTreeClassifier</label><div class=\"sk-toggleable__content\"><pre>DecisionTreeClassifier(random_state=12354)</pre></div></div></div></div></div></div></div></div></div></div>"
            ]
          },
          "metadata": {},
          "execution_count": 50
        }
      ]
    },
    {
      "cell_type": "code",
      "source": [
        "print('Mejor: %f usando %s' % (grid.best_score_, grid.best_params_))"
      ],
      "metadata": {
        "colab": {
          "base_uri": "https://localhost:8080/"
        },
        "id": "2XKBWx5tM7oo",
        "outputId": "09ca450e-45ff-46e1-9a5e-62089d107dcd"
      },
      "execution_count": 51,
      "outputs": [
        {
          "output_type": "stream",
          "name": "stdout",
          "text": [
            "Mejor: 0.932166 usando {'criterion': 'entropy', 'max_depth': 9, 'min_samples_split': 2}\n"
          ]
        }
      ]
    },
    {
      "cell_type": "code",
      "source": [
        "model_final = grid.best_estimator_\n",
        "model_final.get_params()"
      ],
      "metadata": {
        "colab": {
          "base_uri": "https://localhost:8080/"
        },
        "id": "pTCsyVyQSI5t",
        "outputId": "04a1a3a7-8273-45c7-9f70-da27f1220af6"
      },
      "execution_count": 52,
      "outputs": [
        {
          "output_type": "execute_result",
          "data": {
            "text/plain": [
              "{'ccp_alpha': 0.0,\n",
              " 'class_weight': None,\n",
              " 'criterion': 'entropy',\n",
              " 'max_depth': 9,\n",
              " 'max_features': None,\n",
              " 'max_leaf_nodes': None,\n",
              " 'min_impurity_decrease': 0.0,\n",
              " 'min_samples_leaf': 1,\n",
              " 'min_samples_split': 2,\n",
              " 'min_weight_fraction_leaf': 0.0,\n",
              " 'random_state': 12354,\n",
              " 'splitter': 'best'}"
            ]
          },
          "metadata": {},
          "execution_count": 52
        }
      ]
    },
    {
      "cell_type": "code",
      "source": [
        "tree.plot_tree(model_final)\n",
        "plt.show()"
      ],
      "metadata": {
        "id": "0ns7S3ZXogQB",
        "outputId": "017368a9-8ef9-4231-e112-d10d6d6f9b70",
        "colab": {
          "base_uri": "https://localhost:8080/",
          "height": 406
        }
      },
      "execution_count": 53,
      "outputs": [
        {
          "output_type": "display_data",
          "data": {
            "text/plain": [
              "<Figure size 640x480 with 1 Axes>"
            ],
            "image/png": "[encoded data removed]"
          },
          "metadata": {}
        }
      ]
    },
    {
      "cell_type": "code",
      "source": [
        "with open(\"./data/miner.dot\", \"w\") as dotfile:\n",
        "  tree.export_graphviz(model_final, out_file=dotfile, feature_names=X.columns)\n",
        "  dotfile.close()"
      ],
      "metadata": {
        "id": "sV6Hqqjva9J5"
      },
      "execution_count": 54,
      "outputs": []
    },
    {
      "cell_type": "code",
      "source": [
        "!pip install graphviz"
      ],
      "metadata": {
        "id": "7TYoPkfTcWnD",
        "outputId": "c9542f92-cf46-410b-ae6a-3d013a061cf4",
        "colab": {
          "base_uri": "https://localhost:8080/"
        }
      },
      "execution_count": 55,
      "outputs": [
        {
          "output_type": "stream",
          "name": "stdout",
          "text": [
            "Requirement already satisfied: graphviz in /usr/local/lib/python3.10/dist-packages (0.20.1)\n"
          ]
        }
      ]
    },
    {
      "cell_type": "code",
      "source": [
        "import os\n",
        "from graphviz import Source"
      ],
      "metadata": {
        "id": "Dpt_9-9wcLCf"
      },
      "execution_count": 56,
      "outputs": []
    },
    {
      "cell_type": "code",
      "source": [
        "file_dot = open(\"./data/miner.dot\", \"r\")\n",
        "text = file_dot.read()\n",
        "text"
      ],
      "metadata": {
        "id": "Pv2GOgRtcggb",
        "outputId": "12dd1a29-090b-45cd-8f28-88a4ac1bc70d",
        "colab": {
          "base_uri": "https://localhost:8080/",
          "height": 105
        }
      },
      "execution_count": 57,
      "outputs": [
        {
          "output_type": "execute_result",
          "data": {
            "text/plain": [
              "'digraph Tree {\\nnode [shape=box, fontname=\"helvetica\"] ;\\nedge [fontname=\"helvetica\"] ;\\n0 [label=\"Avg_bpp <= 185.5\\\\nentropy = 2.352\\\\nsamples = 567\\\\nvalue = [139, 97, 49, 190, 39, 53]\"] ;\\n1 [label=\"p2_ib <= 239.5\\\\nentropy = 1.271\\\\nsamples = 291\\\\nvalue = [63, 0, 0, 189, 39, 0]\"] ;\\n0 -> 1 [labeldistance=2.5, labelangle=45, headlabel=\"True\"] ;\\n2 [label=\"entropy = 0.0\\\\nsamples = 63\\\\nvalue = [63, 0, 0, 0, 0, 0]\"] ;\\n1 -> 2 ;\\n3 [label=\"#packets <= 103.0\\\\nentropy = 0.66\\\\nsamples = 228\\\\nvalue = [0, 0, 0, 189, 39, 0]\"] ;\\n1 -> 3 ;\\n4 [label=\"p2_d <= 148.603\\\\nentropy = 0.787\\\\nsamples = 51\\\\nvalue = [0, 0, 0, 12, 39, 0]\"] ;\\n3 -> 4 ;\\n5 [label=\"entropy = 0.0\\\\nsamples = 12\\\\nvalue = [0, 0, 0, 12, 0, 0]\"] ;\\n4 -> 5 ;\\n6 [label=\"entropy = 0.0\\\\nsamples = 39\\\\nvalue = [0, 0, 0, 0, 39, 0]\"] ;\\n4 -> 6 ;\\n7 [label=\"entropy = 0.0\\\\nsamples = 177\\\\nvalue = [0, 0, 0, 177, 0, 0]\"] ;\\n3 -> 7 ;\\n8 [label=\"#packets <= 144.0\\\\nentropy = 1.972\\\\nsamples = 276\\\\nvalue = [76, 97, 49, 1, 0, 53]\"] ;\\n0 -> 8 [labeldistance=2.5, labelangle=-45, headlabel=\"False\"] ;\\n9 [label=\"min_d <= 246.211\\\\nentropy = 1.512\\\\nsamples = 199\\\\nvalue = [0, 97, 49, 0, 0, 53]\"] ;\\n8 -> 9 ;\\n10 [label=\"#packets <= 31.0\\\\nentropy = 0.945\\\\nsamples = 67\\\\nvalue = [0, 18, 48, 0, 0, 1]\"] ;\\n9 -> 10 ;\\n11 [label=\"Avg_bpp <= 452.0\\\\nentropy = 1.078\\\\nsamples = 25\\\\nvalue = [0, 17, 7, 0, 0, 1]\"] ;\\n10 -> 11 ;\\n12 [label=\"p2_ib <= 1809.5\\\\nentropy = 1.272\\\\nsamples = 16\\\\nvalue = [0, 8, 7, 0, 0, 1]\"] ;\\n11 -> 12 ;\\n13 [label=\"#packets <= 7.0\\\\nentropy = 0.65\\\\nsamples = 6\\\\nvalue = [0, 0, 5, 0, 0, 1]\"] ;\\n12 -> 13 ;\\n14 [label=\"entropy = 0.0\\\\nsamples = 1\\\\nvalue = [0, 0, 0, 0, 0, 1]\"] ;\\n13 -> 14 ;\\n15 [label=\"entropy = 0.0\\\\nsamples = 5\\\\nvalue = [0, 0, 5, 0, 0, 0]\"] ;\\n13 -> 15 ;\\n16 [label=\"min_d <= 244.82\\\\nentropy = 0.722\\\\nsamples = 10\\\\nvalue = [0, 8, 2, 0, 0, 0]\"] ;\\n12 -> 16 ;\\n17 [label=\"entropy = 0.0\\\\nsamples = 8\\\\nvalue = [0, 8, 0, 0, 0, 0]\"] ;\\n16 -> 17 ;\\n18 [label=\"entropy = 0.0\\\\nsamples = 2\\\\nvalue = [0, 0, 2, 0, 0, 0]\"] ;\\n16 -> 18 ;\\n19 [label=\"entropy = 0.0\\\\nsamples = 9\\\\nvalue = [0, 9, 0, 0, 0, 0]\"] ;\\n11 -> 19 ;\\n20 [label=\"Avg_bpp <= 433.0\\\\nentropy = 0.162\\\\nsamples = 42\\\\nvalue = [0, 1, 41, 0, 0, 0]\"] ;\\n10 -> 20 ;\\n21 [label=\"entropy = 0.0\\\\nsamples = 41\\\\nvalue = [0, 0, 41, 0, 0, 0]\"] ;\\n20 -> 21 ;\\n22 [label=\"entropy = 0.0\\\\nsamples = 1\\\\nvalue = [0, 1, 0, 0, 0, 0]\"] ;\\n20 -> 22 ;\\n23 [label=\"Avg_bpp <= 374.0\\\\nentropy = 1.026\\\\nsamples = 132\\\\nvalue = [0, 79, 1, 0, 0, 52]\"] ;\\n9 -> 23 ;\\n24 [label=\"p1_d <= 268.984\\\\nentropy = 0.522\\\\nsamples = 43\\\\nvalue = [0, 3, 1, 0, 0, 39]\"] ;\\n23 -> 24 ;\\n25 [label=\"p2_d <= 252.21\\\\nentropy = 1.585\\\\nsamples = 3\\\\nvalue = [0, 1, 1, 0, 0, 1]\"] ;\\n24 -> 25 ;\\n26 [label=\"entropy = 0.0\\\\nsamples = 1\\\\nvalue = [0, 0, 0, 0, 0, 1]\"] ;\\n25 -> 26 ;\\n27 [label=\"p1_d <= 258.511\\\\nentropy = 1.0\\\\nsamples = 2\\\\nvalue = [0, 1, 1, 0, 0, 0]\"] ;\\n25 -> 27 ;\\n28 [label=\"entropy = 0.0\\\\nsamples = 1\\\\nvalue = [0, 0, 1, 0, 0, 0]\"] ;\\n27 -> 28 ;\\n29 [label=\"entropy = 0.0\\\\nsamples = 1\\\\nvalue = [0, 1, 0, 0, 0, 0]\"] ;\\n27 -> 29 ;\\n30 [label=\"Avg_bpp <= 344.5\\\\nentropy = 0.286\\\\nsamples = 40\\\\nvalue = [0, 2, 0, 0, 0, 38]\"] ;\\n24 -> 30 ;\\n31 [label=\"entropy = 0.0\\\\nsamples = 26\\\\nvalue = [0, 0, 0, 0, 0, 26]\"] ;\\n30 -> 31 ;\\n32 [label=\"p2_ib <= 10505.25\\\\nentropy = 0.592\\\\nsamples = 14\\\\nvalue = [0, 2, 0, 0, 0, 12]\"] ;\\n30 -> 32 ;\\n33 [label=\"min_d <= 413.493\\\\nentropy = 0.971\\\\nsamples = 5\\\\nvalue = [0, 2, 0, 0, 0, 3]\"] ;\\n32 -> 33 ;\\n34 [label=\"entropy = 0.0\\\\nsamples = 3\\\\nvalue = [0, 0, 0, 0, 0, 3]\"] ;\\n33 -> 34 ;\\n35 [label=\"entropy = 0.0\\\\nsamples = 2\\\\nvalue = [0, 2, 0, 0, 0, 0]\"] ;\\n33 -> 35 ;\\n36 [label=\"entropy = 0.0\\\\nsamples = 9\\\\nvalue = [0, 0, 0, 0, 0, 9]\"] ;\\n32 -> 36 ;\\n37 [label=\"p3_ip <= 38.0\\\\nentropy = 0.6\\\\nsamples = 89\\\\nvalue = [0, 76, 0, 0, 0, 13]\"] ;\\n23 -> 37 ;\\n38 [label=\"p2_d <= 289.834\\\\nentropy = 0.391\\\\nsamples = 78\\\\nvalue = [0, 72, 0, 0, 0, 6]\"] ;\\n37 -> 38 ;\\n39 [label=\"#packets <= 41.0\\\\nentropy = 0.61\\\\nsamples = 40\\\\nvalue = [0, 34, 0, 0, 0, 6]\"] ;\\n38 -> 39 ;\\n40 [label=\"Avg_bpp <= 429.5\\\\nentropy = 0.191\\\\nsamples = 34\\\\nvalue = [0, 33, 0, 0, 0, 1]\"] ;\\n39 -> 40 ;\\n41 [label=\"Avg_bpp <= 421.5\\\\nentropy = 0.469\\\\nsamples = 10\\\\nvalue = [0, 9, 0, 0, 0, 1]\"] ;\\n40 -> 41 ;\\n42 [label=\"entropy = 0.0\\\\nsamples = 9\\\\nvalue = [0, 9, 0, 0, 0, 0]\"] ;\\n41 -> 42 ;\\n43 [label=\"entropy = 0.0\\\\nsamples = 1\\\\nvalue = [0, 0, 0, 0, 0, 1]\"] ;\\n41 -> 43 ;\\n44 [label=\"entropy = 0.0\\\\nsamples = 24\\\\nvalue = [0, 24, 0, 0, 0, 0]\"] ;\\n40 -> 44 ;\\n45 [label=\"p1_d <= 258.393\\\\nentropy = 0.65\\\\nsamples = 6\\\\nvalue = [0, 1, 0, 0, 0, 5]\"] ;\\n39 -> 45 ;\\n46 [label=\"entropy = 0.0\\\\nsamples = 1\\\\nvalue = [0, 1, 0, 0, 0, 0]\"] ;\\n45 -> 46 ;\\n47 [label=\"entropy = 0.0\\\\nsamples = 5\\\\nvalue = [0, 0, 0, 0, 0, 5]\"] ;\\n45 -> 47 ;\\n48 [label=\"entropy = 0.0\\\\nsamples = 38\\\\nvalue = [0, 38, 0, 0, 0, 0]\"] ;\\n38 -> 48 ;\\n49 [label=\"Avg_bpp <= 414.5\\\\nentropy = 0.946\\\\nsamples = 11\\\\nvalue = [0, 4, 0, 0, 0, 7]\"] ;\\n37 -> 49 ;\\n50 [label=\"entropy = 0.0\\\\nsamples = 6\\\\nvalue = [0, 0, 0, 0, 0, 6]\"] ;\\n49 -> 50 ;\\n51 [label=\"min_d <= 556.509\\\\nentropy = 0.722\\\\nsamples = 5\\\\nvalue = [0, 4, 0, 0, 0, 1]\"] ;\\n49 -> 51 ;\\n52 [label=\"entropy = 0.0\\\\nsamples = 1\\\\nvalue = [0, 0, 0, 0, 0, 1]\"] ;\\n51 -> 52 ;\\n53 [label=\"entropy = 0.0\\\\nsamples = 4\\\\nvalue = [0, 4, 0, 0, 0, 0]\"] ;\\n51 -> 53 ;\\n54 [label=\"p2_ip <= 98.5\\\\nentropy = 0.1\\\\nsamples = 77\\\\nvalue = [76, 0, 0, 1, 0, 0]\"] ;\\n8 -> 54 ;\\n55 [label=\"entropy = 0.0\\\\nsamples = 76\\\\nvalue = [76, 0, 0, 0, 0, 0]\"] ;\\n54 -> 55 ;\\n56 [label=\"entropy = 0.0\\\\nsamples = 1\\\\nvalue = [0, 0, 0, 1, 0, 0]\"] ;\\n54 -> 56 ;\\n}'"
            ],
            "application/vnd.google.colaboratory.intrinsic+json": {
              "type": "string"
            }
          },
          "metadata": {},
          "execution_count": 57
        }
      ]
    },
    {
      "cell_type": "code",
      "source": [
        "Source(text)"
      ],
      "metadata": {
        "id": "xN8PB7npctfV",
        "outputId": "26e13f3d-b742-4e93-8ad6-d038fc67cfb3",
        "colab": {
          "base_uri": "https://localhost:8080/",
          "height": 1000
        }
      },
      "execution_count": 58,
      "outputs": [
        {
          "output_type": "execute_result",
          "data": {
            "image/svg+xml": "<?xml version=\"1.0\" encoding=\"UTF-8\" standalone=\"no\"?>\n<!DOCTYPE svg PUBLIC \"-//W3C//DTD SVG 1.1//EN\"\n \"http://www.w3.org/Graphics/SVG/1.1/DTD/svg11.dtd\">\n<!-- Generated by graphviz version 2.43.0 (0)\n -->\n<!-- Title: Tree Pages: 1 -->\n<svg width=\"2276pt\" height=\"997pt\"\n viewBox=\"0.00 0.00 2276.00 997.00\" xmlns=\"http://www.w3.org/2000/svg\" xmlns:xlink=\"http://www.w3.org/1999/xlink\">\n<g id=\"graph0\" class=\"graph\" transform=\"scale(1 1) rotate(0) translate(4 993)\">\n<title>Tree</title>\n<polygon fill=\"white\" stroke=\"transparent\" points=\"-4,4 -4,-993 2272,-993 2272,4 -4,4\"/>\n<!-- 0 -->\n<g id=\"node1\" class=\"node\">\n<title>0</title>\n<polygon fill=\"none\" stroke=\"black\" points=\"805,-989 590,-989 590,-921 805,-921 805,-989\"/>\n<text text-anchor=\"middle\" x=\"697.5\" y=\"-973.8\" font-family=\"Helvetica,sans-Serif\" font-size=\"14.00\">Avg_bpp &lt;= 185.5</text>\n<text text-anchor=\"middle\" x=\"697.5\" y=\"-958.8\" font-family=\"Helvetica,sans-Serif\" font-size=\"14.00\">entropy = 2.352</text>\n<text text-anchor=\"middle\" x=\"697.5\" y=\"-943.8\" font-family=\"Helvetica,sans-Serif\" font-size=\"14.00\">samples = 567</text>\n<text text-anchor=\"middle\" x=\"697.5\" y=\"-928.8\" font-family=\"Helvetica,sans-Serif\" font-size=\"14.00\">value = [139, 97, 49, 190, 39, 53]</text>\n</g>\n<!-- 1 -->\n<g id=\"node2\" class=\"node\">\n<title>1</title>\n<polygon fill=\"none\" stroke=\"black\" points=\"689,-885 504,-885 504,-817 689,-817 689,-885\"/>\n<text text-anchor=\"middle\" x=\"596.5\" y=\"-869.8\" font-family=\"Helvetica,sans-Serif\" font-size=\"14.00\">p2_ib &lt;= 239.5</text>\n<text text-anchor=\"middle\" x=\"596.5\" y=\"-854.8\" font-family=\"Helvetica,sans-Serif\" font-size=\"14.00\">entropy = 1.271</text>\n<text text-anchor=\"middle\" x=\"596.5\" y=\"-839.8\" font-family=\"Helvetica,sans-Serif\" font-size=\"14.00\">samples = 291</text>\n<text text-anchor=\"middle\" x=\"596.5\" y=\"-824.8\" font-family=\"Helvetica,sans-Serif\" font-size=\"14.00\">value = [63, 0, 0, 189, 39, 0]</text>\n</g>\n<!-- 0&#45;&gt;1 -->\n<g id=\"edge1\" class=\"edge\">\n<title>0&#45;&gt;1</title>\n<path fill=\"none\" stroke=\"black\" d=\"M664.71,-920.88C655.8,-911.89 646.05,-902.04 636.78,-892.68\"/>\n<polygon fill=\"black\" stroke=\"black\" points=\"639,-889.94 629.47,-885.3 634.02,-894.87 639,-889.94\"/>\n<text text-anchor=\"middle\" x=\"629.35\" y=\"-906.6\" font-family=\"Helvetica,sans-Serif\" font-size=\"14.00\">True</text>\n</g>\n<!-- 8 -->\n<g id=\"node9\" class=\"node\">\n<title>8</title>\n<polygon fill=\"none\" stroke=\"black\" points=\"908,-885 723,-885 723,-817 908,-817 908,-885\"/>\n<text text-anchor=\"middle\" x=\"815.5\" y=\"-869.8\" font-family=\"Helvetica,sans-Serif\" font-size=\"14.00\">#packets &lt;= 144.0</text>\n<text text-anchor=\"middle\" x=\"815.5\" y=\"-854.8\" font-family=\"Helvetica,sans-Serif\" font-size=\"14.00\">entropy = 1.972</text>\n<text text-anchor=\"middle\" x=\"815.5\" y=\"-839.8\" font-family=\"Helvetica,sans-Serif\" font-size=\"14.00\">samples = 276</text>\n<text text-anchor=\"middle\" x=\"815.5\" y=\"-824.8\" font-family=\"Helvetica,sans-Serif\" font-size=\"14.00\">value = [76, 97, 49, 1, 0, 53]</text>\n</g>\n<!-- 0&#45;&gt;8 -->\n<g id=\"edge8\" class=\"edge\">\n<title>0&#45;&gt;8</title>\n<path fill=\"none\" stroke=\"black\" d=\"M735.81,-920.88C746.53,-911.62 758.29,-901.45 769.4,-891.85\"/>\n<polygon fill=\"black\" stroke=\"black\" points=\"771.7,-894.49 776.98,-885.3 767.12,-889.19 771.7,-894.49\"/>\n<text text-anchor=\"middle\" x=\"775.16\" y=\"-906.53\" font-family=\"Helvetica,sans-Serif\" font-size=\"14.00\">False</text>\n</g>\n<!-- 2 -->\n<g id=\"node3\" class=\"node\">\n<title>2</title>\n<polygon fill=\"none\" stroke=\"black\" points=\"489.5,-773.5 327.5,-773.5 327.5,-720.5 489.5,-720.5 489.5,-773.5\"/>\n<text text-anchor=\"middle\" x=\"408.5\" y=\"-758.3\" font-family=\"Helvetica,sans-Serif\" font-size=\"14.00\">entropy = 0.0</text>\n<text text-anchor=\"middle\" x=\"408.5\" y=\"-743.3\" font-family=\"Helvetica,sans-Serif\" font-size=\"14.00\">samples = 63</text>\n<text text-anchor=\"middle\" x=\"408.5\" y=\"-728.3\" font-family=\"Helvetica,sans-Serif\" font-size=\"14.00\">value = [63, 0, 0, 0, 0, 0]</text>\n</g>\n<!-- 1&#45;&gt;2 -->\n<g id=\"edge2\" class=\"edge\">\n<title>1&#45;&gt;2</title>\n<path fill=\"none\" stroke=\"black\" d=\"M535.46,-816.88C512.66,-804.51 486.89,-790.53 464.56,-778.41\"/>\n<polygon fill=\"black\" stroke=\"black\" points=\"466,-775.21 455.54,-773.52 462.66,-781.37 466,-775.21\"/>\n</g>\n<!-- 3 -->\n<g id=\"node4\" class=\"node\">\n<title>3</title>\n<polygon fill=\"none\" stroke=\"black\" points=\"685,-781 508,-781 508,-713 685,-713 685,-781\"/>\n<text text-anchor=\"middle\" x=\"596.5\" y=\"-765.8\" font-family=\"Helvetica,sans-Serif\" font-size=\"14.00\">#packets &lt;= 103.0</text>\n<text text-anchor=\"middle\" x=\"596.5\" y=\"-750.8\" font-family=\"Helvetica,sans-Serif\" font-size=\"14.00\">entropy = 0.66</text>\n<text text-anchor=\"middle\" x=\"596.5\" y=\"-735.8\" font-family=\"Helvetica,sans-Serif\" font-size=\"14.00\">samples = 228</text>\n<text text-anchor=\"middle\" x=\"596.5\" y=\"-720.8\" font-family=\"Helvetica,sans-Serif\" font-size=\"14.00\">value = [0, 0, 0, 189, 39, 0]</text>\n</g>\n<!-- 1&#45;&gt;3 -->\n<g id=\"edge3\" class=\"edge\">\n<title>1&#45;&gt;3</title>\n<path fill=\"none\" stroke=\"black\" d=\"M596.5,-816.88C596.5,-808.78 596.5,-799.98 596.5,-791.47\"/>\n<polygon fill=\"black\" stroke=\"black\" points=\"600,-791.3 596.5,-781.3 593,-791.3 600,-791.3\"/>\n</g>\n<!-- 4 -->\n<g id=\"node5\" class=\"node\">\n<title>4</title>\n<polygon fill=\"none\" stroke=\"black\" points=\"429.5,-677 259.5,-677 259.5,-609 429.5,-609 429.5,-677\"/>\n<text text-anchor=\"middle\" x=\"344.5\" y=\"-661.8\" font-family=\"Helvetica,sans-Serif\" font-size=\"14.00\">p2_d &lt;= 148.603</text>\n<text text-anchor=\"middle\" x=\"344.5\" y=\"-646.8\" font-family=\"Helvetica,sans-Serif\" font-size=\"14.00\">entropy = 0.787</text>\n<text text-anchor=\"middle\" x=\"344.5\" y=\"-631.8\" font-family=\"Helvetica,sans-Serif\" font-size=\"14.00\">samples = 51</text>\n<text text-anchor=\"middle\" x=\"344.5\" y=\"-616.8\" font-family=\"Helvetica,sans-Serif\" font-size=\"14.00\">value = [0, 0, 0, 12, 39, 0]</text>\n</g>\n<!-- 3&#45;&gt;4 -->\n<g id=\"edge4\" class=\"edge\">\n<title>3&#45;&gt;4</title>\n<path fill=\"none\" stroke=\"black\" d=\"M514.68,-712.88C489.47,-702.68 461.55,-691.38 435.74,-680.93\"/>\n<polygon fill=\"black\" stroke=\"black\" points=\"436.92,-677.63 426.34,-677.12 434.29,-684.12 436.92,-677.63\"/>\n</g>\n<!-- 7 -->\n<g id=\"node8\" class=\"node\">\n<title>7</title>\n<polygon fill=\"none\" stroke=\"black\" points=\"681.5,-669.5 511.5,-669.5 511.5,-616.5 681.5,-616.5 681.5,-669.5\"/>\n<text text-anchor=\"middle\" x=\"596.5\" y=\"-654.3\" font-family=\"Helvetica,sans-Serif\" font-size=\"14.00\">entropy = 0.0</text>\n<text text-anchor=\"middle\" x=\"596.5\" y=\"-639.3\" font-family=\"Helvetica,sans-Serif\" font-size=\"14.00\">samples = 177</text>\n<text text-anchor=\"middle\" x=\"596.5\" y=\"-624.3\" font-family=\"Helvetica,sans-Serif\" font-size=\"14.00\">value = [0, 0, 0, 177, 0, 0]</text>\n</g>\n<!-- 3&#45;&gt;7 -->\n<g id=\"edge7\" class=\"edge\">\n<title>3&#45;&gt;7</title>\n<path fill=\"none\" stroke=\"black\" d=\"M596.5,-712.88C596.5,-702.33 596.5,-690.6 596.5,-679.85\"/>\n<polygon fill=\"black\" stroke=\"black\" points=\"600,-679.52 596.5,-669.52 593,-679.52 600,-679.52\"/>\n</g>\n<!-- 5 -->\n<g id=\"node6\" class=\"node\">\n<title>5</title>\n<polygon fill=\"none\" stroke=\"black\" points=\"245.5,-565.5 83.5,-565.5 83.5,-512.5 245.5,-512.5 245.5,-565.5\"/>\n<text text-anchor=\"middle\" x=\"164.5\" y=\"-550.3\" font-family=\"Helvetica,sans-Serif\" font-size=\"14.00\">entropy = 0.0</text>\n<text text-anchor=\"middle\" x=\"164.5\" y=\"-535.3\" font-family=\"Helvetica,sans-Serif\" font-size=\"14.00\">samples = 12</text>\n<text text-anchor=\"middle\" x=\"164.5\" y=\"-520.3\" font-family=\"Helvetica,sans-Serif\" font-size=\"14.00\">value = [0, 0, 0, 12, 0, 0]</text>\n</g>\n<!-- 4&#45;&gt;5 -->\n<g id=\"edge5\" class=\"edge\">\n<title>4&#45;&gt;5</title>\n<path fill=\"none\" stroke=\"black\" d=\"M286.06,-608.88C264.32,-596.57 239.77,-582.65 218.46,-570.57\"/>\n<polygon fill=\"black\" stroke=\"black\" points=\"219.96,-567.41 209.54,-565.52 216.51,-573.5 219.96,-567.41\"/>\n</g>\n<!-- 6 -->\n<g id=\"node7\" class=\"node\">\n<title>6</title>\n<polygon fill=\"none\" stroke=\"black\" points=\"425.5,-565.5 263.5,-565.5 263.5,-512.5 425.5,-512.5 425.5,-565.5\"/>\n<text text-anchor=\"middle\" x=\"344.5\" y=\"-550.3\" font-family=\"Helvetica,sans-Serif\" font-size=\"14.00\">entropy = 0.0</text>\n<text text-anchor=\"middle\" x=\"344.5\" y=\"-535.3\" font-family=\"Helvetica,sans-Serif\" font-size=\"14.00\">samples = 39</text>\n<text text-anchor=\"middle\" x=\"344.5\" y=\"-520.3\" font-family=\"Helvetica,sans-Serif\" font-size=\"14.00\">value = [0, 0, 0, 0, 39, 0]</text>\n</g>\n<!-- 4&#45;&gt;6 -->\n<g id=\"edge6\" class=\"edge\">\n<title>4&#45;&gt;6</title>\n<path fill=\"none\" stroke=\"black\" d=\"M344.5,-608.88C344.5,-598.33 344.5,-586.6 344.5,-575.85\"/>\n<polygon fill=\"black\" stroke=\"black\" points=\"348,-575.52 344.5,-565.52 341,-575.52 348,-575.52\"/>\n</g>\n<!-- 9 -->\n<g id=\"node10\" class=\"node\">\n<title>9</title>\n<polygon fill=\"none\" stroke=\"black\" points=\"904,-781 727,-781 727,-713 904,-713 904,-781\"/>\n<text text-anchor=\"middle\" x=\"815.5\" y=\"-765.8\" font-family=\"Helvetica,sans-Serif\" font-size=\"14.00\">min_d &lt;= 246.211</text>\n<text text-anchor=\"middle\" x=\"815.5\" y=\"-750.8\" font-family=\"Helvetica,sans-Serif\" font-size=\"14.00\">entropy = 1.512</text>\n<text text-anchor=\"middle\" x=\"815.5\" y=\"-735.8\" font-family=\"Helvetica,sans-Serif\" font-size=\"14.00\">samples = 199</text>\n<text text-anchor=\"middle\" x=\"815.5\" y=\"-720.8\" font-family=\"Helvetica,sans-Serif\" font-size=\"14.00\">value = [0, 97, 49, 0, 0, 53]</text>\n</g>\n<!-- 8&#45;&gt;9 -->\n<g id=\"edge9\" class=\"edge\">\n<title>8&#45;&gt;9</title>\n<path fill=\"none\" stroke=\"black\" d=\"M815.5,-816.88C815.5,-808.78 815.5,-799.98 815.5,-791.47\"/>\n<polygon fill=\"black\" stroke=\"black\" points=\"819,-791.3 815.5,-781.3 812,-791.3 819,-791.3\"/>\n</g>\n<!-- 54 -->\n<g id=\"node55\" class=\"node\">\n<title>54</title>\n<polygon fill=\"none\" stroke=\"black\" points=\"1285.5,-781 1123.5,-781 1123.5,-713 1285.5,-713 1285.5,-781\"/>\n<text text-anchor=\"middle\" x=\"1204.5\" y=\"-765.8\" font-family=\"Helvetica,sans-Serif\" font-size=\"14.00\">p2_ip &lt;= 98.5</text>\n<text text-anchor=\"middle\" x=\"1204.5\" y=\"-750.8\" font-family=\"Helvetica,sans-Serif\" font-size=\"14.00\">entropy = 0.1</text>\n<text text-anchor=\"middle\" x=\"1204.5\" y=\"-735.8\" font-family=\"Helvetica,sans-Serif\" font-size=\"14.00\">samples = 77</text>\n<text text-anchor=\"middle\" x=\"1204.5\" y=\"-720.8\" font-family=\"Helvetica,sans-Serif\" font-size=\"14.00\">value = [76, 0, 0, 1, 0, 0]</text>\n</g>\n<!-- 8&#45;&gt;54 -->\n<g id=\"edge54\" class=\"edge\">\n<title>8&#45;&gt;54</title>\n<path fill=\"none\" stroke=\"black\" d=\"M908.18,-825.7C970.36,-809.39 1051.88,-788.02 1113.67,-771.82\"/>\n<polygon fill=\"black\" stroke=\"black\" points=\"1114.62,-775.18 1123.41,-769.26 1112.85,-768.41 1114.62,-775.18\"/>\n</g>\n<!-- 10 -->\n<g id=\"node11\" class=\"node\">\n<title>10</title>\n<polygon fill=\"none\" stroke=\"black\" points=\"885.5,-677 715.5,-677 715.5,-609 885.5,-609 885.5,-677\"/>\n<text text-anchor=\"middle\" x=\"800.5\" y=\"-661.8\" font-family=\"Helvetica,sans-Serif\" font-size=\"14.00\">#packets &lt;= 31.0</text>\n<text text-anchor=\"middle\" x=\"800.5\" y=\"-646.8\" font-family=\"Helvetica,sans-Serif\" font-size=\"14.00\">entropy = 0.945</text>\n<text text-anchor=\"middle\" x=\"800.5\" y=\"-631.8\" font-family=\"Helvetica,sans-Serif\" font-size=\"14.00\">samples = 67</text>\n<text text-anchor=\"middle\" x=\"800.5\" y=\"-616.8\" font-family=\"Helvetica,sans-Serif\" font-size=\"14.00\">value = [0, 18, 48, 0, 0, 1]</text>\n</g>\n<!-- 9&#45;&gt;10 -->\n<g id=\"edge10\" class=\"edge\">\n<title>9&#45;&gt;10</title>\n<path fill=\"none\" stroke=\"black\" d=\"M810.63,-712.88C809.44,-704.78 808.14,-695.98 806.89,-687.47\"/>\n<polygon fill=\"black\" stroke=\"black\" points=\"810.31,-686.68 805.4,-677.3 803.39,-687.7 810.31,-686.68\"/>\n</g>\n<!-- 23 -->\n<g id=\"node24\" class=\"node\">\n<title>23</title>\n<polygon fill=\"none\" stroke=\"black\" points=\"1105.5,-677 935.5,-677 935.5,-609 1105.5,-609 1105.5,-677\"/>\n<text text-anchor=\"middle\" x=\"1020.5\" y=\"-661.8\" font-family=\"Helvetica,sans-Serif\" font-size=\"14.00\">Avg_bpp &lt;= 374.0</text>\n<text text-anchor=\"middle\" x=\"1020.5\" y=\"-646.8\" font-family=\"Helvetica,sans-Serif\" font-size=\"14.00\">entropy = 1.026</text>\n<text text-anchor=\"middle\" x=\"1020.5\" y=\"-631.8\" font-family=\"Helvetica,sans-Serif\" font-size=\"14.00\">samples = 132</text>\n<text text-anchor=\"middle\" x=\"1020.5\" y=\"-616.8\" font-family=\"Helvetica,sans-Serif\" font-size=\"14.00\">value = [0, 79, 1, 0, 0, 52]</text>\n</g>\n<!-- 9&#45;&gt;23 -->\n<g id=\"edge23\" class=\"edge\">\n<title>9&#45;&gt;23</title>\n<path fill=\"none\" stroke=\"black\" d=\"M882.06,-712.88C902.12,-702.9 924.29,-691.87 944.89,-681.62\"/>\n<polygon fill=\"black\" stroke=\"black\" points=\"946.53,-684.71 953.93,-677.12 943.41,-678.45 946.53,-684.71\"/>\n</g>\n<!-- 11 -->\n<g id=\"node12\" class=\"node\">\n<title>11</title>\n<polygon fill=\"none\" stroke=\"black\" points=\"605.5,-573 443.5,-573 443.5,-505 605.5,-505 605.5,-573\"/>\n<text text-anchor=\"middle\" x=\"524.5\" y=\"-557.8\" font-family=\"Helvetica,sans-Serif\" font-size=\"14.00\">Avg_bpp &lt;= 452.0</text>\n<text text-anchor=\"middle\" x=\"524.5\" y=\"-542.8\" font-family=\"Helvetica,sans-Serif\" font-size=\"14.00\">entropy = 1.078</text>\n<text text-anchor=\"middle\" x=\"524.5\" y=\"-527.8\" font-family=\"Helvetica,sans-Serif\" font-size=\"14.00\">samples = 25</text>\n<text text-anchor=\"middle\" x=\"524.5\" y=\"-512.8\" font-family=\"Helvetica,sans-Serif\" font-size=\"14.00\">value = [0, 17, 7, 0, 0, 1]</text>\n</g>\n<!-- 10&#45;&gt;11 -->\n<g id=\"edge11\" class=\"edge\">\n<title>10&#45;&gt;11</title>\n<path fill=\"none\" stroke=\"black\" d=\"M715.44,-610.56C683.58,-598.79 647.28,-585.38 614.95,-573.43\"/>\n<polygon fill=\"black\" stroke=\"black\" points=\"616.1,-570.12 605.5,-569.94 613.67,-576.69 616.1,-570.12\"/>\n</g>\n<!-- 20 -->\n<g id=\"node21\" class=\"node\">\n<title>20</title>\n<polygon fill=\"none\" stroke=\"black\" points=\"881.5,-573 719.5,-573 719.5,-505 881.5,-505 881.5,-573\"/>\n<text text-anchor=\"middle\" x=\"800.5\" y=\"-557.8\" font-family=\"Helvetica,sans-Serif\" font-size=\"14.00\">Avg_bpp &lt;= 433.0</text>\n<text text-anchor=\"middle\" x=\"800.5\" y=\"-542.8\" font-family=\"Helvetica,sans-Serif\" font-size=\"14.00\">entropy = 0.162</text>\n<text text-anchor=\"middle\" x=\"800.5\" y=\"-527.8\" font-family=\"Helvetica,sans-Serif\" font-size=\"14.00\">samples = 42</text>\n<text text-anchor=\"middle\" x=\"800.5\" y=\"-512.8\" font-family=\"Helvetica,sans-Serif\" font-size=\"14.00\">value = [0, 1, 41, 0, 0, 0]</text>\n</g>\n<!-- 10&#45;&gt;20 -->\n<g id=\"edge20\" class=\"edge\">\n<title>10&#45;&gt;20</title>\n<path fill=\"none\" stroke=\"black\" d=\"M800.5,-608.88C800.5,-600.78 800.5,-591.98 800.5,-583.47\"/>\n<polygon fill=\"black\" stroke=\"black\" points=\"804,-583.3 800.5,-573.3 797,-583.3 804,-583.3\"/>\n</g>\n<!-- 12 -->\n<g id=\"node13\" class=\"node\">\n<title>12</title>\n<polygon fill=\"none\" stroke=\"black\" points=\"414,-469 259,-469 259,-401 414,-401 414,-469\"/>\n<text text-anchor=\"middle\" x=\"336.5\" y=\"-453.8\" font-family=\"Helvetica,sans-Serif\" font-size=\"14.00\">p2_ib &lt;= 1809.5</text>\n<text text-anchor=\"middle\" x=\"336.5\" y=\"-438.8\" font-family=\"Helvetica,sans-Serif\" font-size=\"14.00\">entropy = 1.272</text>\n<text text-anchor=\"middle\" x=\"336.5\" y=\"-423.8\" font-family=\"Helvetica,sans-Serif\" font-size=\"14.00\">samples = 16</text>\n<text text-anchor=\"middle\" x=\"336.5\" y=\"-408.8\" font-family=\"Helvetica,sans-Serif\" font-size=\"14.00\">value = [0, 8, 7, 0, 0, 1]</text>\n</g>\n<!-- 11&#45;&gt;12 -->\n<g id=\"edge12\" class=\"edge\">\n<title>11&#45;&gt;12</title>\n<path fill=\"none\" stroke=\"black\" d=\"M463.46,-504.88C445.23,-494.99 425.1,-484.07 406.35,-473.9\"/>\n<polygon fill=\"black\" stroke=\"black\" points=\"408.01,-470.82 397.55,-469.12 404.67,-476.97 408.01,-470.82\"/>\n</g>\n<!-- 19 -->\n<g id=\"node20\" class=\"node\">\n<title>19</title>\n<polygon fill=\"none\" stroke=\"black\" points=\"587,-461.5 432,-461.5 432,-408.5 587,-408.5 587,-461.5\"/>\n<text text-anchor=\"middle\" x=\"509.5\" y=\"-446.3\" font-family=\"Helvetica,sans-Serif\" font-size=\"14.00\">entropy = 0.0</text>\n<text text-anchor=\"middle\" x=\"509.5\" y=\"-431.3\" font-family=\"Helvetica,sans-Serif\" font-size=\"14.00\">samples = 9</text>\n<text text-anchor=\"middle\" x=\"509.5\" y=\"-416.3\" font-family=\"Helvetica,sans-Serif\" font-size=\"14.00\">value = [0, 9, 0, 0, 0, 0]</text>\n</g>\n<!-- 11&#45;&gt;19 -->\n<g id=\"edge19\" class=\"edge\">\n<title>11&#45;&gt;19</title>\n<path fill=\"none\" stroke=\"black\" d=\"M519.63,-504.88C518.06,-494.22 516.32,-482.35 514.72,-471.52\"/>\n<polygon fill=\"black\" stroke=\"black\" points=\"518.17,-470.9 513.25,-461.52 511.25,-471.92 518.17,-470.9\"/>\n</g>\n<!-- 13 -->\n<g id=\"node14\" class=\"node\">\n<title>13</title>\n<polygon fill=\"none\" stroke=\"black\" points=\"328,-365 173,-365 173,-297 328,-297 328,-365\"/>\n<text text-anchor=\"middle\" x=\"250.5\" y=\"-349.8\" font-family=\"Helvetica,sans-Serif\" font-size=\"14.00\">#packets &lt;= 7.0</text>\n<text text-anchor=\"middle\" x=\"250.5\" y=\"-334.8\" font-family=\"Helvetica,sans-Serif\" font-size=\"14.00\">entropy = 0.65</text>\n<text text-anchor=\"middle\" x=\"250.5\" y=\"-319.8\" font-family=\"Helvetica,sans-Serif\" font-size=\"14.00\">samples = 6</text>\n<text text-anchor=\"middle\" x=\"250.5\" y=\"-304.8\" font-family=\"Helvetica,sans-Serif\" font-size=\"14.00\">value = [0, 0, 5, 0, 0, 1]</text>\n</g>\n<!-- 12&#45;&gt;13 -->\n<g id=\"edge13\" class=\"edge\">\n<title>12&#45;&gt;13</title>\n<path fill=\"none\" stroke=\"black\" d=\"M308.58,-400.88C301.07,-391.98 292.86,-382.24 285.03,-372.96\"/>\n<polygon fill=\"black\" stroke=\"black\" points=\"287.7,-370.69 278.58,-365.3 282.35,-375.2 287.7,-370.69\"/>\n</g>\n<!-- 16 -->\n<g id=\"node17\" class=\"node\">\n<title>16</title>\n<polygon fill=\"none\" stroke=\"black\" points=\"501,-365 346,-365 346,-297 501,-297 501,-365\"/>\n<text text-anchor=\"middle\" x=\"423.5\" y=\"-349.8\" font-family=\"Helvetica,sans-Serif\" font-size=\"14.00\">min_d &lt;= 244.82</text>\n<text text-anchor=\"middle\" x=\"423.5\" y=\"-334.8\" font-family=\"Helvetica,sans-Serif\" font-size=\"14.00\">entropy = 0.722</text>\n<text text-anchor=\"middle\" x=\"423.5\" y=\"-319.8\" font-family=\"Helvetica,sans-Serif\" font-size=\"14.00\">samples = 10</text>\n<text text-anchor=\"middle\" x=\"423.5\" y=\"-304.8\" font-family=\"Helvetica,sans-Serif\" font-size=\"14.00\">value = [0, 8, 2, 0, 0, 0]</text>\n</g>\n<!-- 12&#45;&gt;16 -->\n<g id=\"edge16\" class=\"edge\">\n<title>12&#45;&gt;16</title>\n<path fill=\"none\" stroke=\"black\" d=\"M364.75,-400.88C372.34,-391.98 380.65,-382.24 388.57,-372.96\"/>\n<polygon fill=\"black\" stroke=\"black\" points=\"391.27,-375.18 395.1,-365.3 385.95,-370.64 391.27,-375.18\"/>\n</g>\n<!-- 14 -->\n<g id=\"node15\" class=\"node\">\n<title>14</title>\n<polygon fill=\"none\" stroke=\"black\" points=\"155,-253.5 0,-253.5 0,-200.5 155,-200.5 155,-253.5\"/>\n<text text-anchor=\"middle\" x=\"77.5\" y=\"-238.3\" font-family=\"Helvetica,sans-Serif\" font-size=\"14.00\">entropy = 0.0</text>\n<text text-anchor=\"middle\" x=\"77.5\" y=\"-223.3\" font-family=\"Helvetica,sans-Serif\" font-size=\"14.00\">samples = 1</text>\n<text text-anchor=\"middle\" x=\"77.5\" y=\"-208.3\" font-family=\"Helvetica,sans-Serif\" font-size=\"14.00\">value = [0, 0, 0, 0, 0, 1]</text>\n</g>\n<!-- 13&#45;&gt;14 -->\n<g id=\"edge14\" class=\"edge\">\n<title>13&#45;&gt;14</title>\n<path fill=\"none\" stroke=\"black\" d=\"M194.33,-296.88C173.53,-284.62 150.06,-270.78 129.63,-258.74\"/>\n<polygon fill=\"black\" stroke=\"black\" points=\"131.18,-255.58 120.78,-253.52 127.62,-261.61 131.18,-255.58\"/>\n</g>\n<!-- 15 -->\n<g id=\"node16\" class=\"node\">\n<title>15</title>\n<polygon fill=\"none\" stroke=\"black\" points=\"328,-253.5 173,-253.5 173,-200.5 328,-200.5 328,-253.5\"/>\n<text text-anchor=\"middle\" x=\"250.5\" y=\"-238.3\" font-family=\"Helvetica,sans-Serif\" font-size=\"14.00\">entropy = 0.0</text>\n<text text-anchor=\"middle\" x=\"250.5\" y=\"-223.3\" font-family=\"Helvetica,sans-Serif\" font-size=\"14.00\">samples = 5</text>\n<text text-anchor=\"middle\" x=\"250.5\" y=\"-208.3\" font-family=\"Helvetica,sans-Serif\" font-size=\"14.00\">value = [0, 0, 5, 0, 0, 0]</text>\n</g>\n<!-- 13&#45;&gt;15 -->\n<g id=\"edge15\" class=\"edge\">\n<title>13&#45;&gt;15</title>\n<path fill=\"none\" stroke=\"black\" d=\"M250.5,-296.88C250.5,-286.33 250.5,-274.6 250.5,-263.85\"/>\n<polygon fill=\"black\" stroke=\"black\" points=\"254,-263.52 250.5,-253.52 247,-263.52 254,-263.52\"/>\n</g>\n<!-- 17 -->\n<g id=\"node18\" class=\"node\">\n<title>17</title>\n<polygon fill=\"none\" stroke=\"black\" points=\"501,-253.5 346,-253.5 346,-200.5 501,-200.5 501,-253.5\"/>\n<text text-anchor=\"middle\" x=\"423.5\" y=\"-238.3\" font-family=\"Helvetica,sans-Serif\" font-size=\"14.00\">entropy = 0.0</text>\n<text text-anchor=\"middle\" x=\"423.5\" y=\"-223.3\" font-family=\"Helvetica,sans-Serif\" font-size=\"14.00\">samples = 8</text>\n<text text-anchor=\"middle\" x=\"423.5\" y=\"-208.3\" font-family=\"Helvetica,sans-Serif\" font-size=\"14.00\">value = [0, 8, 0, 0, 0, 0]</text>\n</g>\n<!-- 16&#45;&gt;17 -->\n<g id=\"edge17\" class=\"edge\">\n<title>16&#45;&gt;17</title>\n<path fill=\"none\" stroke=\"black\" d=\"M423.5,-296.88C423.5,-286.33 423.5,-274.6 423.5,-263.85\"/>\n<polygon fill=\"black\" stroke=\"black\" points=\"427,-263.52 423.5,-253.52 420,-263.52 427,-263.52\"/>\n</g>\n<!-- 18 -->\n<g id=\"node19\" class=\"node\">\n<title>18</title>\n<polygon fill=\"none\" stroke=\"black\" points=\"674,-253.5 519,-253.5 519,-200.5 674,-200.5 674,-253.5\"/>\n<text text-anchor=\"middle\" x=\"596.5\" y=\"-238.3\" font-family=\"Helvetica,sans-Serif\" font-size=\"14.00\">entropy = 0.0</text>\n<text text-anchor=\"middle\" x=\"596.5\" y=\"-223.3\" font-family=\"Helvetica,sans-Serif\" font-size=\"14.00\">samples = 2</text>\n<text text-anchor=\"middle\" x=\"596.5\" y=\"-208.3\" font-family=\"Helvetica,sans-Serif\" font-size=\"14.00\">value = [0, 0, 2, 0, 0, 0]</text>\n</g>\n<!-- 16&#45;&gt;18 -->\n<g id=\"edge18\" class=\"edge\">\n<title>16&#45;&gt;18</title>\n<path fill=\"none\" stroke=\"black\" d=\"M479.67,-296.88C500.47,-284.62 523.94,-270.78 544.37,-258.74\"/>\n<polygon fill=\"black\" stroke=\"black\" points=\"546.38,-261.61 553.22,-253.52 542.82,-255.58 546.38,-261.61\"/>\n</g>\n<!-- 21 -->\n<g id=\"node22\" class=\"node\">\n<title>21</title>\n<polygon fill=\"none\" stroke=\"black\" points=\"767.5,-461.5 605.5,-461.5 605.5,-408.5 767.5,-408.5 767.5,-461.5\"/>\n<text text-anchor=\"middle\" x=\"686.5\" y=\"-446.3\" font-family=\"Helvetica,sans-Serif\" font-size=\"14.00\">entropy = 0.0</text>\n<text text-anchor=\"middle\" x=\"686.5\" y=\"-431.3\" font-family=\"Helvetica,sans-Serif\" font-size=\"14.00\">samples = 41</text>\n<text text-anchor=\"middle\" x=\"686.5\" y=\"-416.3\" font-family=\"Helvetica,sans-Serif\" font-size=\"14.00\">value = [0, 0, 41, 0, 0, 0]</text>\n</g>\n<!-- 20&#45;&gt;21 -->\n<g id=\"edge21\" class=\"edge\">\n<title>20&#45;&gt;21</title>\n<path fill=\"none\" stroke=\"black\" d=\"M763.49,-504.88C750.34,-493.12 735.56,-479.89 722.49,-468.2\"/>\n<polygon fill=\"black\" stroke=\"black\" points=\"724.81,-465.58 715.02,-461.52 720.14,-470.8 724.81,-465.58\"/>\n</g>\n<!-- 22 -->\n<g id=\"node23\" class=\"node\">\n<title>22</title>\n<polygon fill=\"none\" stroke=\"black\" points=\"941,-461.5 786,-461.5 786,-408.5 941,-408.5 941,-461.5\"/>\n<text text-anchor=\"middle\" x=\"863.5\" y=\"-446.3\" font-family=\"Helvetica,sans-Serif\" font-size=\"14.00\">entropy = 0.0</text>\n<text text-anchor=\"middle\" x=\"863.5\" y=\"-431.3\" font-family=\"Helvetica,sans-Serif\" font-size=\"14.00\">samples = 1</text>\n<text text-anchor=\"middle\" x=\"863.5\" y=\"-416.3\" font-family=\"Helvetica,sans-Serif\" font-size=\"14.00\">value = [0, 1, 0, 0, 0, 0]</text>\n</g>\n<!-- 20&#45;&gt;22 -->\n<g id=\"edge22\" class=\"edge\">\n<title>20&#45;&gt;22</title>\n<path fill=\"none\" stroke=\"black\" d=\"M820.95,-504.88C827.82,-493.78 835.48,-481.37 842.39,-470.18\"/>\n<polygon fill=\"black\" stroke=\"black\" points=\"845.46,-471.87 847.74,-461.52 839.5,-468.19 845.46,-471.87\"/>\n</g>\n<!-- 24 -->\n<g id=\"node25\" class=\"node\">\n<title>24</title>\n<polygon fill=\"none\" stroke=\"black\" points=\"1117.5,-573 955.5,-573 955.5,-505 1117.5,-505 1117.5,-573\"/>\n<text text-anchor=\"middle\" x=\"1036.5\" y=\"-557.8\" font-family=\"Helvetica,sans-Serif\" font-size=\"14.00\">p1_d &lt;= 268.984</text>\n<text text-anchor=\"middle\" x=\"1036.5\" y=\"-542.8\" font-family=\"Helvetica,sans-Serif\" font-size=\"14.00\">entropy = 0.522</text>\n<text text-anchor=\"middle\" x=\"1036.5\" y=\"-527.8\" font-family=\"Helvetica,sans-Serif\" font-size=\"14.00\">samples = 43</text>\n<text text-anchor=\"middle\" x=\"1036.5\" y=\"-512.8\" font-family=\"Helvetica,sans-Serif\" font-size=\"14.00\">value = [0, 3, 1, 0, 0, 39]</text>\n</g>\n<!-- 23&#45;&gt;24 -->\n<g id=\"edge24\" class=\"edge\">\n<title>23&#45;&gt;24</title>\n<path fill=\"none\" stroke=\"black\" d=\"M1025.69,-608.88C1026.98,-600.69 1028.38,-591.79 1029.72,-583.19\"/>\n<polygon fill=\"black\" stroke=\"black\" points=\"1033.18,-583.72 1031.28,-573.3 1026.27,-582.64 1033.18,-583.72\"/>\n</g>\n<!-- 37 -->\n<g id=\"node38\" class=\"node\">\n<title>37</title>\n<polygon fill=\"none\" stroke=\"black\" points=\"1748.5,-573 1578.5,-573 1578.5,-505 1748.5,-505 1748.5,-573\"/>\n<text text-anchor=\"middle\" x=\"1663.5\" y=\"-557.8\" font-family=\"Helvetica,sans-Serif\" font-size=\"14.00\">p3_ip &lt;= 38.0</text>\n<text text-anchor=\"middle\" x=\"1663.5\" y=\"-542.8\" font-family=\"Helvetica,sans-Serif\" font-size=\"14.00\">entropy = 0.6</text>\n<text text-anchor=\"middle\" x=\"1663.5\" y=\"-527.8\" font-family=\"Helvetica,sans-Serif\" font-size=\"14.00\">samples = 89</text>\n<text text-anchor=\"middle\" x=\"1663.5\" y=\"-512.8\" font-family=\"Helvetica,sans-Serif\" font-size=\"14.00\">value = [0, 76, 0, 0, 0, 13]</text>\n</g>\n<!-- 23&#45;&gt;37 -->\n<g id=\"edge37\" class=\"edge\">\n<title>23&#45;&gt;37</title>\n<path fill=\"none\" stroke=\"black\" d=\"M1105.57,-611.25C1108.57,-610.45 1111.55,-609.69 1114.5,-609 1271.14,-572.11 1457.86,-553.95 1568.22,-545.81\"/>\n<polygon fill=\"black\" stroke=\"black\" points=\"1568.61,-549.29 1578.33,-545.07 1568.11,-542.31 1568.61,-549.29\"/>\n</g>\n<!-- 25 -->\n<g id=\"node26\" class=\"node\">\n<title>25</title>\n<polygon fill=\"none\" stroke=\"black\" points=\"1114,-469 959,-469 959,-401 1114,-401 1114,-469\"/>\n<text text-anchor=\"middle\" x=\"1036.5\" y=\"-453.8\" font-family=\"Helvetica,sans-Serif\" font-size=\"14.00\">p2_d &lt;= 252.21</text>\n<text text-anchor=\"middle\" x=\"1036.5\" y=\"-438.8\" font-family=\"Helvetica,sans-Serif\" font-size=\"14.00\">entropy = 1.585</text>\n<text text-anchor=\"middle\" x=\"1036.5\" y=\"-423.8\" font-family=\"Helvetica,sans-Serif\" font-size=\"14.00\">samples = 3</text>\n<text text-anchor=\"middle\" x=\"1036.5\" y=\"-408.8\" font-family=\"Helvetica,sans-Serif\" font-size=\"14.00\">value = [0, 1, 1, 0, 0, 1]</text>\n</g>\n<!-- 24&#45;&gt;25 -->\n<g id=\"edge25\" class=\"edge\">\n<title>24&#45;&gt;25</title>\n<path fill=\"none\" stroke=\"black\" d=\"M1036.5,-504.88C1036.5,-496.78 1036.5,-487.98 1036.5,-479.47\"/>\n<polygon fill=\"black\" stroke=\"black\" points=\"1040,-479.3 1036.5,-469.3 1033,-479.3 1040,-479.3\"/>\n</g>\n<!-- 30 -->\n<g id=\"node31\" class=\"node\">\n<title>30</title>\n<polygon fill=\"none\" stroke=\"black\" points=\"1294.5,-469 1132.5,-469 1132.5,-401 1294.5,-401 1294.5,-469\"/>\n<text text-anchor=\"middle\" x=\"1213.5\" y=\"-453.8\" font-family=\"Helvetica,sans-Serif\" font-size=\"14.00\">Avg_bpp &lt;= 344.5</text>\n<text text-anchor=\"middle\" x=\"1213.5\" y=\"-438.8\" font-family=\"Helvetica,sans-Serif\" font-size=\"14.00\">entropy = 0.286</text>\n<text text-anchor=\"middle\" x=\"1213.5\" y=\"-423.8\" font-family=\"Helvetica,sans-Serif\" font-size=\"14.00\">samples = 40</text>\n<text text-anchor=\"middle\" x=\"1213.5\" y=\"-408.8\" font-family=\"Helvetica,sans-Serif\" font-size=\"14.00\">value = [0, 2, 0, 0, 0, 38]</text>\n</g>\n<!-- 24&#45;&gt;30 -->\n<g id=\"edge30\" class=\"edge\">\n<title>24&#45;&gt;30</title>\n<path fill=\"none\" stroke=\"black\" d=\"M1093.97,-504.88C1110.9,-495.12 1129.57,-484.37 1147.02,-474.31\"/>\n<polygon fill=\"black\" stroke=\"black\" points=\"1149.1,-477.15 1156.02,-469.12 1145.61,-471.09 1149.1,-477.15\"/>\n</g>\n<!-- 26 -->\n<g id=\"node27\" class=\"node\">\n<title>26</title>\n<polygon fill=\"none\" stroke=\"black\" points=\"941,-357.5 786,-357.5 786,-304.5 941,-304.5 941,-357.5\"/>\n<text text-anchor=\"middle\" x=\"863.5\" y=\"-342.3\" font-family=\"Helvetica,sans-Serif\" font-size=\"14.00\">entropy = 0.0</text>\n<text text-anchor=\"middle\" x=\"863.5\" y=\"-327.3\" font-family=\"Helvetica,sans-Serif\" font-size=\"14.00\">samples = 1</text>\n<text text-anchor=\"middle\" x=\"863.5\" y=\"-312.3\" font-family=\"Helvetica,sans-Serif\" font-size=\"14.00\">value = [0, 0, 0, 0, 0, 1]</text>\n</g>\n<!-- 25&#45;&gt;26 -->\n<g id=\"edge26\" class=\"edge\">\n<title>25&#45;&gt;26</title>\n<path fill=\"none\" stroke=\"black\" d=\"M980.33,-400.88C959.53,-388.62 936.06,-374.78 915.63,-362.74\"/>\n<polygon fill=\"black\" stroke=\"black\" points=\"917.18,-359.58 906.78,-357.52 913.62,-365.61 917.18,-359.58\"/>\n</g>\n<!-- 27 -->\n<g id=\"node28\" class=\"node\">\n<title>27</title>\n<polygon fill=\"none\" stroke=\"black\" points=\"1114,-365 959,-365 959,-297 1114,-297 1114,-365\"/>\n<text text-anchor=\"middle\" x=\"1036.5\" y=\"-349.8\" font-family=\"Helvetica,sans-Serif\" font-size=\"14.00\">p1_d &lt;= 258.511</text>\n<text text-anchor=\"middle\" x=\"1036.5\" y=\"-334.8\" font-family=\"Helvetica,sans-Serif\" font-size=\"14.00\">entropy = 1.0</text>\n<text text-anchor=\"middle\" x=\"1036.5\" y=\"-319.8\" font-family=\"Helvetica,sans-Serif\" font-size=\"14.00\">samples = 2</text>\n<text text-anchor=\"middle\" x=\"1036.5\" y=\"-304.8\" font-family=\"Helvetica,sans-Serif\" font-size=\"14.00\">value = [0, 1, 1, 0, 0, 0]</text>\n</g>\n<!-- 25&#45;&gt;27 -->\n<g id=\"edge27\" class=\"edge\">\n<title>25&#45;&gt;27</title>\n<path fill=\"none\" stroke=\"black\" d=\"M1036.5,-400.88C1036.5,-392.78 1036.5,-383.98 1036.5,-375.47\"/>\n<polygon fill=\"black\" stroke=\"black\" points=\"1040,-375.3 1036.5,-365.3 1033,-375.3 1040,-375.3\"/>\n</g>\n<!-- 28 -->\n<g id=\"node29\" class=\"node\">\n<title>28</title>\n<polygon fill=\"none\" stroke=\"black\" points=\"946,-253.5 791,-253.5 791,-200.5 946,-200.5 946,-253.5\"/>\n<text text-anchor=\"middle\" x=\"868.5\" y=\"-238.3\" font-family=\"Helvetica,sans-Serif\" font-size=\"14.00\">entropy = 0.0</text>\n<text text-anchor=\"middle\" x=\"868.5\" y=\"-223.3\" font-family=\"Helvetica,sans-Serif\" font-size=\"14.00\">samples = 1</text>\n<text text-anchor=\"middle\" x=\"868.5\" y=\"-208.3\" font-family=\"Helvetica,sans-Serif\" font-size=\"14.00\">value = [0, 0, 1, 0, 0, 0]</text>\n</g>\n<!-- 27&#45;&gt;28 -->\n<g id=\"edge28\" class=\"edge\">\n<title>27&#45;&gt;28</title>\n<path fill=\"none\" stroke=\"black\" d=\"M981.96,-296.88C961.76,-284.62 938.96,-270.78 919.13,-258.74\"/>\n<polygon fill=\"black\" stroke=\"black\" points=\"920.9,-255.72 910.53,-253.52 917.26,-261.7 920.9,-255.72\"/>\n</g>\n<!-- 29 -->\n<g id=\"node30\" class=\"node\">\n<title>29</title>\n<polygon fill=\"none\" stroke=\"black\" points=\"1119,-253.5 964,-253.5 964,-200.5 1119,-200.5 1119,-253.5\"/>\n<text text-anchor=\"middle\" x=\"1041.5\" y=\"-238.3\" font-family=\"Helvetica,sans-Serif\" font-size=\"14.00\">entropy = 0.0</text>\n<text text-anchor=\"middle\" x=\"1041.5\" y=\"-223.3\" font-family=\"Helvetica,sans-Serif\" font-size=\"14.00\">samples = 1</text>\n<text text-anchor=\"middle\" x=\"1041.5\" y=\"-208.3\" font-family=\"Helvetica,sans-Serif\" font-size=\"14.00\">value = [0, 1, 0, 0, 0, 0]</text>\n</g>\n<!-- 27&#45;&gt;29 -->\n<g id=\"edge29\" class=\"edge\">\n<title>27&#45;&gt;29</title>\n<path fill=\"none\" stroke=\"black\" d=\"M1038.12,-296.88C1038.65,-286.22 1039.23,-274.35 1039.76,-263.52\"/>\n<polygon fill=\"black\" stroke=\"black\" points=\"1043.26,-263.68 1040.25,-253.52 1036.26,-263.34 1043.26,-263.68\"/>\n</g>\n<!-- 31 -->\n<g id=\"node32\" class=\"node\">\n<title>31</title>\n<polygon fill=\"none\" stroke=\"black\" points=\"1294.5,-357.5 1132.5,-357.5 1132.5,-304.5 1294.5,-304.5 1294.5,-357.5\"/>\n<text text-anchor=\"middle\" x=\"1213.5\" y=\"-342.3\" font-family=\"Helvetica,sans-Serif\" font-size=\"14.00\">entropy = 0.0</text>\n<text text-anchor=\"middle\" x=\"1213.5\" y=\"-327.3\" font-family=\"Helvetica,sans-Serif\" font-size=\"14.00\">samples = 26</text>\n<text text-anchor=\"middle\" x=\"1213.5\" y=\"-312.3\" font-family=\"Helvetica,sans-Serif\" font-size=\"14.00\">value = [0, 0, 0, 0, 0, 26]</text>\n</g>\n<!-- 30&#45;&gt;31 -->\n<g id=\"edge31\" class=\"edge\">\n<title>30&#45;&gt;31</title>\n<path fill=\"none\" stroke=\"black\" d=\"M1213.5,-400.88C1213.5,-390.33 1213.5,-378.6 1213.5,-367.85\"/>\n<polygon fill=\"black\" stroke=\"black\" points=\"1217,-367.52 1213.5,-357.52 1210,-367.52 1217,-367.52\"/>\n</g>\n<!-- 32 -->\n<g id=\"node33\" class=\"node\">\n<title>32</title>\n<polygon fill=\"none\" stroke=\"black\" points=\"1474.5,-365 1312.5,-365 1312.5,-297 1474.5,-297 1474.5,-365\"/>\n<text text-anchor=\"middle\" x=\"1393.5\" y=\"-349.8\" font-family=\"Helvetica,sans-Serif\" font-size=\"14.00\">p2_ib &lt;= 10505.25</text>\n<text text-anchor=\"middle\" x=\"1393.5\" y=\"-334.8\" font-family=\"Helvetica,sans-Serif\" font-size=\"14.00\">entropy = 0.592</text>\n<text text-anchor=\"middle\" x=\"1393.5\" y=\"-319.8\" font-family=\"Helvetica,sans-Serif\" font-size=\"14.00\">samples = 14</text>\n<text text-anchor=\"middle\" x=\"1393.5\" y=\"-304.8\" font-family=\"Helvetica,sans-Serif\" font-size=\"14.00\">value = [0, 2, 0, 0, 0, 12]</text>\n</g>\n<!-- 30&#45;&gt;32 -->\n<g id=\"edge32\" class=\"edge\">\n<title>30&#45;&gt;32</title>\n<path fill=\"none\" stroke=\"black\" d=\"M1271.94,-400.88C1289.16,-391.12 1308.15,-380.37 1325.89,-370.31\"/>\n<polygon fill=\"black\" stroke=\"black\" points=\"1328.07,-373.1 1335.04,-365.12 1324.62,-367.01 1328.07,-373.1\"/>\n</g>\n<!-- 33 -->\n<g id=\"node34\" class=\"node\">\n<title>33</title>\n<polygon fill=\"none\" stroke=\"black\" points=\"1299,-261 1144,-261 1144,-193 1299,-193 1299,-261\"/>\n<text text-anchor=\"middle\" x=\"1221.5\" y=\"-245.8\" font-family=\"Helvetica,sans-Serif\" font-size=\"14.00\">min_d &lt;= 413.493</text>\n<text text-anchor=\"middle\" x=\"1221.5\" y=\"-230.8\" font-family=\"Helvetica,sans-Serif\" font-size=\"14.00\">entropy = 0.971</text>\n<text text-anchor=\"middle\" x=\"1221.5\" y=\"-215.8\" font-family=\"Helvetica,sans-Serif\" font-size=\"14.00\">samples = 5</text>\n<text text-anchor=\"middle\" x=\"1221.5\" y=\"-200.8\" font-family=\"Helvetica,sans-Serif\" font-size=\"14.00\">value = [0, 2, 0, 0, 0, 3]</text>\n</g>\n<!-- 32&#45;&gt;33 -->\n<g id=\"edge33\" class=\"edge\">\n<title>32&#45;&gt;33</title>\n<path fill=\"none\" stroke=\"black\" d=\"M1337.66,-296.88C1321.2,-287.12 1303.06,-276.37 1286.1,-266.31\"/>\n<polygon fill=\"black\" stroke=\"black\" points=\"1287.74,-263.22 1277.36,-261.12 1284.17,-269.24 1287.74,-263.22\"/>\n</g>\n<!-- 36 -->\n<g id=\"node37\" class=\"node\">\n<title>36</title>\n<polygon fill=\"none\" stroke=\"black\" points=\"1472,-253.5 1317,-253.5 1317,-200.5 1472,-200.5 1472,-253.5\"/>\n<text text-anchor=\"middle\" x=\"1394.5\" y=\"-238.3\" font-family=\"Helvetica,sans-Serif\" font-size=\"14.00\">entropy = 0.0</text>\n<text text-anchor=\"middle\" x=\"1394.5\" y=\"-223.3\" font-family=\"Helvetica,sans-Serif\" font-size=\"14.00\">samples = 9</text>\n<text text-anchor=\"middle\" x=\"1394.5\" y=\"-208.3\" font-family=\"Helvetica,sans-Serif\" font-size=\"14.00\">value = [0, 0, 0, 0, 0, 9]</text>\n</g>\n<!-- 32&#45;&gt;36 -->\n<g id=\"edge36\" class=\"edge\">\n<title>32&#45;&gt;36</title>\n<path fill=\"none\" stroke=\"black\" d=\"M1393.82,-296.88C1393.93,-286.33 1394.04,-274.6 1394.15,-263.85\"/>\n<polygon fill=\"black\" stroke=\"black\" points=\"1397.65,-263.55 1394.25,-253.52 1390.65,-263.49 1397.65,-263.55\"/>\n</g>\n<!-- 34 -->\n<g id=\"node35\" class=\"node\">\n<title>34</title>\n<polygon fill=\"none\" stroke=\"black\" points=\"1126,-149.5 971,-149.5 971,-96.5 1126,-96.5 1126,-149.5\"/>\n<text text-anchor=\"middle\" x=\"1048.5\" y=\"-134.3\" font-family=\"Helvetica,sans-Serif\" font-size=\"14.00\">entropy = 0.0</text>\n<text text-anchor=\"middle\" x=\"1048.5\" y=\"-119.3\" font-family=\"Helvetica,sans-Serif\" font-size=\"14.00\">samples = 3</text>\n<text text-anchor=\"middle\" x=\"1048.5\" y=\"-104.3\" font-family=\"Helvetica,sans-Serif\" font-size=\"14.00\">value = [0, 0, 0, 0, 0, 3]</text>\n</g>\n<!-- 33&#45;&gt;34 -->\n<g id=\"edge34\" class=\"edge\">\n<title>33&#45;&gt;34</title>\n<path fill=\"none\" stroke=\"black\" d=\"M1165.33,-192.88C1144.53,-180.62 1121.06,-166.78 1100.63,-154.74\"/>\n<polygon fill=\"black\" stroke=\"black\" points=\"1102.18,-151.58 1091.78,-149.52 1098.62,-157.61 1102.18,-151.58\"/>\n</g>\n<!-- 35 -->\n<g id=\"node36\" class=\"node\">\n<title>35</title>\n<polygon fill=\"none\" stroke=\"black\" points=\"1299,-149.5 1144,-149.5 1144,-96.5 1299,-96.5 1299,-149.5\"/>\n<text text-anchor=\"middle\" x=\"1221.5\" y=\"-134.3\" font-family=\"Helvetica,sans-Serif\" font-size=\"14.00\">entropy = 0.0</text>\n<text text-anchor=\"middle\" x=\"1221.5\" y=\"-119.3\" font-family=\"Helvetica,sans-Serif\" font-size=\"14.00\">samples = 2</text>\n<text text-anchor=\"middle\" x=\"1221.5\" y=\"-104.3\" font-family=\"Helvetica,sans-Serif\" font-size=\"14.00\">value = [0, 2, 0, 0, 0, 0]</text>\n</g>\n<!-- 33&#45;&gt;35 -->\n<g id=\"edge35\" class=\"edge\">\n<title>33&#45;&gt;35</title>\n<path fill=\"none\" stroke=\"black\" d=\"M1221.5,-192.88C1221.5,-182.33 1221.5,-170.6 1221.5,-159.85\"/>\n<polygon fill=\"black\" stroke=\"black\" points=\"1225,-159.52 1221.5,-149.52 1218,-159.52 1225,-159.52\"/>\n</g>\n<!-- 38 -->\n<g id=\"node39\" class=\"node\">\n<title>38</title>\n<polygon fill=\"none\" stroke=\"black\" points=\"1744.5,-469 1582.5,-469 1582.5,-401 1744.5,-401 1744.5,-469\"/>\n<text text-anchor=\"middle\" x=\"1663.5\" y=\"-453.8\" font-family=\"Helvetica,sans-Serif\" font-size=\"14.00\">p2_d &lt;= 289.834</text>\n<text text-anchor=\"middle\" x=\"1663.5\" y=\"-438.8\" font-family=\"Helvetica,sans-Serif\" font-size=\"14.00\">entropy = 0.391</text>\n<text text-anchor=\"middle\" x=\"1663.5\" y=\"-423.8\" font-family=\"Helvetica,sans-Serif\" font-size=\"14.00\">samples = 78</text>\n<text text-anchor=\"middle\" x=\"1663.5\" y=\"-408.8\" font-family=\"Helvetica,sans-Serif\" font-size=\"14.00\">value = [0, 72, 0, 0, 0, 6]</text>\n</g>\n<!-- 37&#45;&gt;38 -->\n<g id=\"edge38\" class=\"edge\">\n<title>37&#45;&gt;38</title>\n<path fill=\"none\" stroke=\"black\" d=\"M1663.5,-504.88C1663.5,-496.78 1663.5,-487.98 1663.5,-479.47\"/>\n<polygon fill=\"black\" stroke=\"black\" points=\"1667,-479.3 1663.5,-469.3 1660,-479.3 1667,-479.3\"/>\n</g>\n<!-- 49 -->\n<g id=\"node50\" class=\"node\">\n<title>49</title>\n<polygon fill=\"none\" stroke=\"black\" points=\"2008,-469 1853,-469 1853,-401 2008,-401 2008,-469\"/>\n<text text-anchor=\"middle\" x=\"1930.5\" y=\"-453.8\" font-family=\"Helvetica,sans-Serif\" font-size=\"14.00\">Avg_bpp &lt;= 414.5</text>\n<text text-anchor=\"middle\" x=\"1930.5\" y=\"-438.8\" font-family=\"Helvetica,sans-Serif\" font-size=\"14.00\">entropy = 0.946</text>\n<text text-anchor=\"middle\" x=\"1930.5\" y=\"-423.8\" font-family=\"Helvetica,sans-Serif\" font-size=\"14.00\">samples = 11</text>\n<text text-anchor=\"middle\" x=\"1930.5\" y=\"-408.8\" font-family=\"Helvetica,sans-Serif\" font-size=\"14.00\">value = [0, 4, 0, 0, 0, 7]</text>\n</g>\n<!-- 37&#45;&gt;49 -->\n<g id=\"edge49\" class=\"edge\">\n<title>37&#45;&gt;49</title>\n<path fill=\"none\" stroke=\"black\" d=\"M1748.71,-505.45C1778.87,-493.92 1812.83,-480.95 1843.16,-469.36\"/>\n<polygon fill=\"black\" stroke=\"black\" points=\"1844.78,-472.49 1852.88,-465.65 1842.29,-465.95 1844.78,-472.49\"/>\n</g>\n<!-- 39 -->\n<g id=\"node40\" class=\"node\">\n<title>39</title>\n<polygon fill=\"none\" stroke=\"black\" points=\"1654.5,-365 1492.5,-365 1492.5,-297 1654.5,-297 1654.5,-365\"/>\n<text text-anchor=\"middle\" x=\"1573.5\" y=\"-349.8\" font-family=\"Helvetica,sans-Serif\" font-size=\"14.00\">#packets &lt;= 41.0</text>\n<text text-anchor=\"middle\" x=\"1573.5\" y=\"-334.8\" font-family=\"Helvetica,sans-Serif\" font-size=\"14.00\">entropy = 0.61</text>\n<text text-anchor=\"middle\" x=\"1573.5\" y=\"-319.8\" font-family=\"Helvetica,sans-Serif\" font-size=\"14.00\">samples = 40</text>\n<text text-anchor=\"middle\" x=\"1573.5\" y=\"-304.8\" font-family=\"Helvetica,sans-Serif\" font-size=\"14.00\">value = [0, 34, 0, 0, 0, 6]</text>\n</g>\n<!-- 38&#45;&gt;39 -->\n<g id=\"edge39\" class=\"edge\">\n<title>38&#45;&gt;39</title>\n<path fill=\"none\" stroke=\"black\" d=\"M1634.28,-400.88C1626.42,-391.98 1617.83,-382.24 1609.64,-372.96\"/>\n<polygon fill=\"black\" stroke=\"black\" points=\"1612.12,-370.48 1602.88,-365.3 1606.87,-375.11 1612.12,-370.48\"/>\n</g>\n<!-- 48 -->\n<g id=\"node49\" class=\"node\">\n<title>48</title>\n<polygon fill=\"none\" stroke=\"black\" points=\"1834.5,-357.5 1672.5,-357.5 1672.5,-304.5 1834.5,-304.5 1834.5,-357.5\"/>\n<text text-anchor=\"middle\" x=\"1753.5\" y=\"-342.3\" font-family=\"Helvetica,sans-Serif\" font-size=\"14.00\">entropy = 0.0</text>\n<text text-anchor=\"middle\" x=\"1753.5\" y=\"-327.3\" font-family=\"Helvetica,sans-Serif\" font-size=\"14.00\">samples = 38</text>\n<text text-anchor=\"middle\" x=\"1753.5\" y=\"-312.3\" font-family=\"Helvetica,sans-Serif\" font-size=\"14.00\">value = [0, 38, 0, 0, 0, 0]</text>\n</g>\n<!-- 38&#45;&gt;48 -->\n<g id=\"edge48\" class=\"edge\">\n<title>38&#45;&gt;48</title>\n<path fill=\"none\" stroke=\"black\" d=\"M1692.72,-400.88C1702.81,-389.45 1714.12,-376.63 1724.21,-365.19\"/>\n<polygon fill=\"black\" stroke=\"black\" points=\"1726.99,-367.33 1730.98,-357.52 1721.74,-362.7 1726.99,-367.33\"/>\n</g>\n<!-- 40 -->\n<g id=\"node41\" class=\"node\">\n<title>40</title>\n<polygon fill=\"none\" stroke=\"black\" points=\"1653.5,-261 1491.5,-261 1491.5,-193 1653.5,-193 1653.5,-261\"/>\n<text text-anchor=\"middle\" x=\"1572.5\" y=\"-245.8\" font-family=\"Helvetica,sans-Serif\" font-size=\"14.00\">Avg_bpp &lt;= 429.5</text>\n<text text-anchor=\"middle\" x=\"1572.5\" y=\"-230.8\" font-family=\"Helvetica,sans-Serif\" font-size=\"14.00\">entropy = 0.191</text>\n<text text-anchor=\"middle\" x=\"1572.5\" y=\"-215.8\" font-family=\"Helvetica,sans-Serif\" font-size=\"14.00\">samples = 34</text>\n<text text-anchor=\"middle\" x=\"1572.5\" y=\"-200.8\" font-family=\"Helvetica,sans-Serif\" font-size=\"14.00\">value = [0, 33, 0, 0, 0, 1]</text>\n</g>\n<!-- 39&#45;&gt;40 -->\n<g id=\"edge40\" class=\"edge\">\n<title>39&#45;&gt;40</title>\n<path fill=\"none\" stroke=\"black\" d=\"M1573.18,-296.88C1573.1,-288.78 1573.01,-279.98 1572.93,-271.47\"/>\n<polygon fill=\"black\" stroke=\"black\" points=\"1576.42,-271.26 1572.83,-261.3 1569.42,-271.33 1576.42,-271.26\"/>\n</g>\n<!-- 45 -->\n<g id=\"node46\" class=\"node\">\n<title>45</title>\n<polygon fill=\"none\" stroke=\"black\" points=\"1827,-261 1672,-261 1672,-193 1827,-193 1827,-261\"/>\n<text text-anchor=\"middle\" x=\"1749.5\" y=\"-245.8\" font-family=\"Helvetica,sans-Serif\" font-size=\"14.00\">p1_d &lt;= 258.393</text>\n<text text-anchor=\"middle\" x=\"1749.5\" y=\"-230.8\" font-family=\"Helvetica,sans-Serif\" font-size=\"14.00\">entropy = 0.65</text>\n<text text-anchor=\"middle\" x=\"1749.5\" y=\"-215.8\" font-family=\"Helvetica,sans-Serif\" font-size=\"14.00\">samples = 6</text>\n<text text-anchor=\"middle\" x=\"1749.5\" y=\"-200.8\" font-family=\"Helvetica,sans-Serif\" font-size=\"14.00\">value = [0, 1, 0, 0, 0, 5]</text>\n</g>\n<!-- 39&#45;&gt;45 -->\n<g id=\"edge45\" class=\"edge\">\n<title>39&#45;&gt;45</title>\n<path fill=\"none\" stroke=\"black\" d=\"M1630.64,-296.88C1647.48,-287.12 1666.04,-276.37 1683.4,-266.31\"/>\n<polygon fill=\"black\" stroke=\"black\" points=\"1685.45,-269.17 1692.34,-261.12 1681.94,-263.11 1685.45,-269.17\"/>\n</g>\n<!-- 41 -->\n<g id=\"node42\" class=\"node\">\n<title>41</title>\n<polygon fill=\"none\" stroke=\"black\" points=\"1473,-157 1318,-157 1318,-89 1473,-89 1473,-157\"/>\n<text text-anchor=\"middle\" x=\"1395.5\" y=\"-141.8\" font-family=\"Helvetica,sans-Serif\" font-size=\"14.00\">Avg_bpp &lt;= 421.5</text>\n<text text-anchor=\"middle\" x=\"1395.5\" y=\"-126.8\" font-family=\"Helvetica,sans-Serif\" font-size=\"14.00\">entropy = 0.469</text>\n<text text-anchor=\"middle\" x=\"1395.5\" y=\"-111.8\" font-family=\"Helvetica,sans-Serif\" font-size=\"14.00\">samples = 10</text>\n<text text-anchor=\"middle\" x=\"1395.5\" y=\"-96.8\" font-family=\"Helvetica,sans-Serif\" font-size=\"14.00\">value = [0, 9, 0, 0, 0, 1]</text>\n</g>\n<!-- 40&#45;&gt;41 -->\n<g id=\"edge41\" class=\"edge\">\n<title>40&#45;&gt;41</title>\n<path fill=\"none\" stroke=\"black\" d=\"M1515.03,-192.88C1498.1,-183.12 1479.43,-172.37 1461.98,-162.31\"/>\n<polygon fill=\"black\" stroke=\"black\" points=\"1463.39,-159.09 1452.98,-157.12 1459.9,-165.15 1463.39,-159.09\"/>\n</g>\n<!-- 44 -->\n<g id=\"node45\" class=\"node\">\n<title>44</title>\n<polygon fill=\"none\" stroke=\"black\" points=\"1653.5,-149.5 1491.5,-149.5 1491.5,-96.5 1653.5,-96.5 1653.5,-149.5\"/>\n<text text-anchor=\"middle\" x=\"1572.5\" y=\"-134.3\" font-family=\"Helvetica,sans-Serif\" font-size=\"14.00\">entropy = 0.0</text>\n<text text-anchor=\"middle\" x=\"1572.5\" y=\"-119.3\" font-family=\"Helvetica,sans-Serif\" font-size=\"14.00\">samples = 24</text>\n<text text-anchor=\"middle\" x=\"1572.5\" y=\"-104.3\" font-family=\"Helvetica,sans-Serif\" font-size=\"14.00\">value = [0, 24, 0, 0, 0, 0]</text>\n</g>\n<!-- 40&#45;&gt;44 -->\n<g id=\"edge44\" class=\"edge\">\n<title>40&#45;&gt;44</title>\n<path fill=\"none\" stroke=\"black\" d=\"M1572.5,-192.88C1572.5,-182.33 1572.5,-170.6 1572.5,-159.85\"/>\n<polygon fill=\"black\" stroke=\"black\" points=\"1576,-159.52 1572.5,-149.52 1569,-159.52 1576,-159.52\"/>\n</g>\n<!-- 42 -->\n<g id=\"node43\" class=\"node\">\n<title>42</title>\n<polygon fill=\"none\" stroke=\"black\" points=\"1386,-53 1231,-53 1231,0 1386,0 1386,-53\"/>\n<text text-anchor=\"middle\" x=\"1308.5\" y=\"-37.8\" font-family=\"Helvetica,sans-Serif\" font-size=\"14.00\">entropy = 0.0</text>\n<text text-anchor=\"middle\" x=\"1308.5\" y=\"-22.8\" font-family=\"Helvetica,sans-Serif\" font-size=\"14.00\">samples = 9</text>\n<text text-anchor=\"middle\" x=\"1308.5\" y=\"-7.8\" font-family=\"Helvetica,sans-Serif\" font-size=\"14.00\">value = [0, 9, 0, 0, 0, 0]</text>\n</g>\n<!-- 41&#45;&gt;42 -->\n<g id=\"edge42\" class=\"edge\">\n<title>41&#45;&gt;42</title>\n<path fill=\"none\" stroke=\"black\" d=\"M1365.07,-88.95C1356.65,-79.8 1347.51,-69.87 1339.08,-60.71\"/>\n<polygon fill=\"black\" stroke=\"black\" points=\"1341.54,-58.22 1332.19,-53.24 1336.39,-62.96 1341.54,-58.22\"/>\n</g>\n<!-- 43 -->\n<g id=\"node44\" class=\"node\">\n<title>43</title>\n<polygon fill=\"none\" stroke=\"black\" points=\"1559,-53 1404,-53 1404,0 1559,0 1559,-53\"/>\n<text text-anchor=\"middle\" x=\"1481.5\" y=\"-37.8\" font-family=\"Helvetica,sans-Serif\" font-size=\"14.00\">entropy = 0.0</text>\n<text text-anchor=\"middle\" x=\"1481.5\" y=\"-22.8\" font-family=\"Helvetica,sans-Serif\" font-size=\"14.00\">samples = 1</text>\n<text text-anchor=\"middle\" x=\"1481.5\" y=\"-7.8\" font-family=\"Helvetica,sans-Serif\" font-size=\"14.00\">value = [0, 0, 0, 0, 0, 1]</text>\n</g>\n<!-- 41&#45;&gt;43 -->\n<g id=\"edge43\" class=\"edge\">\n<title>41&#45;&gt;43</title>\n<path fill=\"none\" stroke=\"black\" d=\"M1425.58,-88.95C1433.9,-79.8 1442.94,-69.87 1451.27,-60.71\"/>\n<polygon fill=\"black\" stroke=\"black\" points=\"1453.94,-62.99 1458.08,-53.24 1448.76,-58.28 1453.94,-62.99\"/>\n</g>\n<!-- 46 -->\n<g id=\"node47\" class=\"node\">\n<title>46</title>\n<polygon fill=\"none\" stroke=\"black\" points=\"1827,-149.5 1672,-149.5 1672,-96.5 1827,-96.5 1827,-149.5\"/>\n<text text-anchor=\"middle\" x=\"1749.5\" y=\"-134.3\" font-family=\"Helvetica,sans-Serif\" font-size=\"14.00\">entropy = 0.0</text>\n<text text-anchor=\"middle\" x=\"1749.5\" y=\"-119.3\" font-family=\"Helvetica,sans-Serif\" font-size=\"14.00\">samples = 1</text>\n<text text-anchor=\"middle\" x=\"1749.5\" y=\"-104.3\" font-family=\"Helvetica,sans-Serif\" font-size=\"14.00\">value = [0, 1, 0, 0, 0, 0]</text>\n</g>\n<!-- 45&#45;&gt;46 -->\n<g id=\"edge46\" class=\"edge\">\n<title>45&#45;&gt;46</title>\n<path fill=\"none\" stroke=\"black\" d=\"M1749.5,-192.88C1749.5,-182.33 1749.5,-170.6 1749.5,-159.85\"/>\n<polygon fill=\"black\" stroke=\"black\" points=\"1753,-159.52 1749.5,-149.52 1746,-159.52 1753,-159.52\"/>\n</g>\n<!-- 47 -->\n<g id=\"node48\" class=\"node\">\n<title>47</title>\n<polygon fill=\"none\" stroke=\"black\" points=\"2000,-149.5 1845,-149.5 1845,-96.5 2000,-96.5 2000,-149.5\"/>\n<text text-anchor=\"middle\" x=\"1922.5\" y=\"-134.3\" font-family=\"Helvetica,sans-Serif\" font-size=\"14.00\">entropy = 0.0</text>\n<text text-anchor=\"middle\" x=\"1922.5\" y=\"-119.3\" font-family=\"Helvetica,sans-Serif\" font-size=\"14.00\">samples = 5</text>\n<text text-anchor=\"middle\" x=\"1922.5\" y=\"-104.3\" font-family=\"Helvetica,sans-Serif\" font-size=\"14.00\">value = [0, 0, 0, 0, 0, 5]</text>\n</g>\n<!-- 45&#45;&gt;47 -->\n<g id=\"edge47\" class=\"edge\">\n<title>45&#45;&gt;47</title>\n<path fill=\"none\" stroke=\"black\" d=\"M1805.67,-192.88C1826.47,-180.62 1849.94,-166.78 1870.37,-154.74\"/>\n<polygon fill=\"black\" stroke=\"black\" points=\"1872.38,-157.61 1879.22,-149.52 1868.82,-151.58 1872.38,-157.61\"/>\n</g>\n<!-- 50 -->\n<g id=\"node51\" class=\"node\">\n<title>50</title>\n<polygon fill=\"none\" stroke=\"black\" points=\"2008,-357.5 1853,-357.5 1853,-304.5 2008,-304.5 2008,-357.5\"/>\n<text text-anchor=\"middle\" x=\"1930.5\" y=\"-342.3\" font-family=\"Helvetica,sans-Serif\" font-size=\"14.00\">entropy = 0.0</text>\n<text text-anchor=\"middle\" x=\"1930.5\" y=\"-327.3\" font-family=\"Helvetica,sans-Serif\" font-size=\"14.00\">samples = 6</text>\n<text text-anchor=\"middle\" x=\"1930.5\" y=\"-312.3\" font-family=\"Helvetica,sans-Serif\" font-size=\"14.00\">value = [0, 0, 0, 0, 0, 6]</text>\n</g>\n<!-- 49&#45;&gt;50 -->\n<g id=\"edge50\" class=\"edge\">\n<title>49&#45;&gt;50</title>\n<path fill=\"none\" stroke=\"black\" d=\"M1930.5,-400.88C1930.5,-390.33 1930.5,-378.6 1930.5,-367.85\"/>\n<polygon fill=\"black\" stroke=\"black\" points=\"1934,-367.52 1930.5,-357.52 1927,-367.52 1934,-367.52\"/>\n</g>\n<!-- 51 -->\n<g id=\"node52\" class=\"node\">\n<title>51</title>\n<polygon fill=\"none\" stroke=\"black\" points=\"2181,-365 2026,-365 2026,-297 2181,-297 2181,-365\"/>\n<text text-anchor=\"middle\" x=\"2103.5\" y=\"-349.8\" font-family=\"Helvetica,sans-Serif\" font-size=\"14.00\">min_d &lt;= 556.509</text>\n<text text-anchor=\"middle\" x=\"2103.5\" y=\"-334.8\" font-family=\"Helvetica,sans-Serif\" font-size=\"14.00\">entropy = 0.722</text>\n<text text-anchor=\"middle\" x=\"2103.5\" y=\"-319.8\" font-family=\"Helvetica,sans-Serif\" font-size=\"14.00\">samples = 5</text>\n<text text-anchor=\"middle\" x=\"2103.5\" y=\"-304.8\" font-family=\"Helvetica,sans-Serif\" font-size=\"14.00\">value = [0, 4, 0, 0, 0, 1]</text>\n</g>\n<!-- 49&#45;&gt;51 -->\n<g id=\"edge51\" class=\"edge\">\n<title>49&#45;&gt;51</title>\n<path fill=\"none\" stroke=\"black\" d=\"M1986.67,-400.88C2003.22,-391.12 2021.47,-380.37 2038.52,-370.31\"/>\n<polygon fill=\"black\" stroke=\"black\" points=\"2040.48,-373.22 2047.32,-365.12 2036.93,-367.19 2040.48,-373.22\"/>\n</g>\n<!-- 52 -->\n<g id=\"node53\" class=\"node\">\n<title>52</title>\n<polygon fill=\"none\" stroke=\"black\" points=\"2095,-253.5 1940,-253.5 1940,-200.5 2095,-200.5 2095,-253.5\"/>\n<text text-anchor=\"middle\" x=\"2017.5\" y=\"-238.3\" font-family=\"Helvetica,sans-Serif\" font-size=\"14.00\">entropy = 0.0</text>\n<text text-anchor=\"middle\" x=\"2017.5\" y=\"-223.3\" font-family=\"Helvetica,sans-Serif\" font-size=\"14.00\">samples = 1</text>\n<text text-anchor=\"middle\" x=\"2017.5\" y=\"-208.3\" font-family=\"Helvetica,sans-Serif\" font-size=\"14.00\">value = [0, 0, 0, 0, 0, 1]</text>\n</g>\n<!-- 51&#45;&gt;52 -->\n<g id=\"edge52\" class=\"edge\">\n<title>51&#45;&gt;52</title>\n<path fill=\"none\" stroke=\"black\" d=\"M2075.58,-296.88C2065.93,-285.45 2055.13,-272.63 2045.48,-261.19\"/>\n<polygon fill=\"black\" stroke=\"black\" points=\"2048.14,-258.91 2039.02,-253.52 2042.79,-263.42 2048.14,-258.91\"/>\n</g>\n<!-- 53 -->\n<g id=\"node54\" class=\"node\">\n<title>53</title>\n<polygon fill=\"none\" stroke=\"black\" points=\"2268,-253.5 2113,-253.5 2113,-200.5 2268,-200.5 2268,-253.5\"/>\n<text text-anchor=\"middle\" x=\"2190.5\" y=\"-238.3\" font-family=\"Helvetica,sans-Serif\" font-size=\"14.00\">entropy = 0.0</text>\n<text text-anchor=\"middle\" x=\"2190.5\" y=\"-223.3\" font-family=\"Helvetica,sans-Serif\" font-size=\"14.00\">samples = 4</text>\n<text text-anchor=\"middle\" x=\"2190.5\" y=\"-208.3\" font-family=\"Helvetica,sans-Serif\" font-size=\"14.00\">value = [0, 4, 0, 0, 0, 0]</text>\n</g>\n<!-- 51&#45;&gt;53 -->\n<g id=\"edge53\" class=\"edge\">\n<title>51&#45;&gt;53</title>\n<path fill=\"none\" stroke=\"black\" d=\"M2131.75,-296.88C2141.5,-285.45 2152.43,-272.63 2162.19,-261.19\"/>\n<polygon fill=\"black\" stroke=\"black\" points=\"2164.91,-263.4 2168.73,-253.52 2159.58,-258.86 2164.91,-263.4\"/>\n</g>\n<!-- 55 -->\n<g id=\"node56\" class=\"node\">\n<title>55</title>\n<polygon fill=\"none\" stroke=\"black\" points=\"1285.5,-669.5 1123.5,-669.5 1123.5,-616.5 1285.5,-616.5 1285.5,-669.5\"/>\n<text text-anchor=\"middle\" x=\"1204.5\" y=\"-654.3\" font-family=\"Helvetica,sans-Serif\" font-size=\"14.00\">entropy = 0.0</text>\n<text text-anchor=\"middle\" x=\"1204.5\" y=\"-639.3\" font-family=\"Helvetica,sans-Serif\" font-size=\"14.00\">samples = 76</text>\n<text text-anchor=\"middle\" x=\"1204.5\" y=\"-624.3\" font-family=\"Helvetica,sans-Serif\" font-size=\"14.00\">value = [76, 0, 0, 0, 0, 0]</text>\n</g>\n<!-- 54&#45;&gt;55 -->\n<g id=\"edge55\" class=\"edge\">\n<title>54&#45;&gt;55</title>\n<path fill=\"none\" stroke=\"black\" d=\"M1204.5,-712.88C1204.5,-702.33 1204.5,-690.6 1204.5,-679.85\"/>\n<polygon fill=\"black\" stroke=\"black\" points=\"1208,-679.52 1204.5,-669.52 1201,-679.52 1208,-679.52\"/>\n</g>\n<!-- 56 -->\n<g id=\"node57\" class=\"node\">\n<title>56</title>\n<polygon fill=\"none\" stroke=\"black\" points=\"1459,-669.5 1304,-669.5 1304,-616.5 1459,-616.5 1459,-669.5\"/>\n<text text-anchor=\"middle\" x=\"1381.5\" y=\"-654.3\" font-family=\"Helvetica,sans-Serif\" font-size=\"14.00\">entropy = 0.0</text>\n<text text-anchor=\"middle\" x=\"1381.5\" y=\"-639.3\" font-family=\"Helvetica,sans-Serif\" font-size=\"14.00\">samples = 1</text>\n<text text-anchor=\"middle\" x=\"1381.5\" y=\"-624.3\" font-family=\"Helvetica,sans-Serif\" font-size=\"14.00\">value = [0, 0, 0, 1, 0, 0]</text>\n</g>\n<!-- 54&#45;&gt;56 -->\n<g id=\"edge56\" class=\"edge\">\n<title>54&#45;&gt;56</title>\n<path fill=\"none\" stroke=\"black\" d=\"M1261.97,-712.88C1283.34,-700.57 1307.48,-686.65 1328.44,-674.57\"/>\n<polygon fill=\"black\" stroke=\"black\" points=\"1330.3,-677.55 1337.22,-669.52 1326.8,-671.48 1330.3,-677.55\"/>\n</g>\n</g>\n</svg>\n",
            "text/plain": [
              "<graphviz.sources.Source at 0x7a4cf836bfd0>"
            ]
          },
          "metadata": {},
          "execution_count": 58
        }
      ]
    },
    {
      "cell_type": "code",
      "source": [
        "y_predict = model_final.predict(X_test)"
      ],
      "metadata": {
        "id": "jKF9kj99TXm0"
      },
      "execution_count": 59,
      "outputs": []
    },
    {
      "cell_type": "code",
      "source": [
        "kward={\"cmap\":\"RdBu\",  \"annot_kws\":{'size': 12}}\n",
        "matrix_confusion(y_test, y_predict, title='confusion matrix', **kward)"
      ],
      "metadata": {
        "id": "3nztEWPr_Lbj",
        "outputId": "4b10c9b0-fd11-4448-fbfb-1847853854a2",
        "colab": {
          "base_uri": "https://localhost:8080/",
          "height": 574
        }
      },
      "execution_count": 60,
      "outputs": [
        {
          "output_type": "stream",
          "name": "stdout",
          "text": [
            "The number of FixedLocator locations (6), usually from a call to set_ticks, does not match the number of labels (2).\n"
          ]
        },
        {
          "output_type": "display_data",
          "data": {
            "text/plain": [
              "<Figure size 800x600 with 2 Axes>"
            ],
            "image/png": "[encoded data removed]"
          },
          "metadata": {}
        }
      ]
    },
    {
      "cell_type": "markdown",
      "source": [
        "- A partir de la matriz de confusión, se evidencia que el modelo se equivocó 5 veces en la distinción en registros de bitcoín y litecoin."
      ],
      "metadata": {
        "id": "FOLbgpbvrI6z"
      }
    },
    {
      "cell_type": "code",
      "source": [
        "recall_sc = metrics.recall_score(\n",
        "    y_test,\n",
        "    y_predict,\n",
        "    average='micro',\n",
        "    labels=[1,2,3,4,5])\n",
        "recall_sc"
      ],
      "metadata": {
        "id": "gVaHYfi4uLDj",
        "outputId": "471ed51f-de70-4b55-819b-6436186531bd",
        "colab": {
          "base_uri": "https://localhost:8080/"
        }
      },
      "execution_count": 61,
      "outputs": [
        {
          "output_type": "execute_result",
          "data": {
            "text/plain": [
              "0.8984238178633975"
            ]
          },
          "metadata": {},
          "execution_count": 61
        }
      ]
    },
    {
      "cell_type": "markdown",
      "source": [
        "- El modelo tiene un buen rendimiento para distinguir trafico de red entre registros mineros y benignos, aunque parece haber un pequeño sobreajuste"
      ],
      "metadata": {
        "id": "HUsVy__KvCw5"
      }
    },
    {
      "cell_type": "markdown",
      "source": [
        "# **Pospoda**\n",
        "---\n",
        "**Cost Complexity Pruning**\n",
        "La poda de complejidad de costos se trata de encontrar el parámetro correcto para alfa."
      ],
      "metadata": {
        "id": "9h4Z4xDtzjAJ"
      }
    },
    {
      "cell_type": "code",
      "source": [
        "model = DecisionTreeClassifier(random_state=12345)\n",
        "model.fit(X_train, y_train)"
      ],
      "metadata": {
        "colab": {
          "base_uri": "https://localhost:8080/",
          "height": 74
        },
        "id": "DIhEmhujURWl",
        "outputId": "055b2915-076d-4ecd-aa42-f0022227ad12"
      },
      "execution_count": 62,
      "outputs": [
        {
          "output_type": "execute_result",
          "data": {
            "text/plain": [
              "DecisionTreeClassifier(random_state=12345)"
            ],
            "text/html": [
              "<style>#sk-container-id-7 {color: black;background-color: white;}#sk-container-id-7 pre{padding: 0;}#sk-container-id-7 div.sk-toggleable {background-color: white;}#sk-container-id-7 label.sk-toggleable__label {cursor: pointer;display: block;width: 100%;margin-bottom: 0;padding: 0.3em;box-sizing: border-box;text-align: center;}#sk-container-id-7 label.sk-toggleable__label-arrow:before {content: \"▸\";float: left;margin-right: 0.25em;color: #696969;}#sk-container-id-7 label.sk-toggleable__label-arrow:hover:before {color: black;}#sk-container-id-7 div.sk-estimator:hover label.sk-toggleable__label-arrow:before {color: black;}#sk-container-id-7 div.sk-toggleable__content {max-height: 0;max-width: 0;overflow: hidden;text-align: left;background-color: #f0f8ff;}#sk-container-id-7 div.sk-toggleable__content pre {margin: 0.2em;color: black;border-radius: 0.25em;background-color: #f0f8ff;}#sk-container-id-7 input.sk-toggleable__control:checked~div.sk-toggleable__content {max-height: 200px;max-width: 100%;overflow: auto;}#sk-container-id-7 input.sk-toggleable__control:checked~label.sk-toggleable__label-arrow:before {content: \"▾\";}#sk-container-id-7 div.sk-estimator input.sk-toggleable__control:checked~label.sk-toggleable__label {background-color: #d4ebff;}#sk-container-id-7 div.sk-label input.sk-toggleable__control:checked~label.sk-toggleable__label {background-color: #d4ebff;}#sk-container-id-7 input.sk-hidden--visually {border: 0;clip: rect(1px 1px 1px 1px);clip: rect(1px, 1px, 1px, 1px);height: 1px;margin: -1px;overflow: hidden;padding: 0;position: absolute;width: 1px;}#sk-container-id-7 div.sk-estimator {font-family: monospace;background-color: #f0f8ff;border: 1px dotted black;border-radius: 0.25em;box-sizing: border-box;margin-bottom: 0.5em;}#sk-container-id-7 div.sk-estimator:hover {background-color: #d4ebff;}#sk-container-id-7 div.sk-parallel-item::after {content: \"\";width: 100%;border-bottom: 1px solid gray;flex-grow: 1;}#sk-container-id-7 div.sk-label:hover label.sk-toggleable__label {background-color: #d4ebff;}#sk-container-id-7 div.sk-serial::before {content: \"\";position: absolute;border-left: 1px solid gray;box-sizing: border-box;top: 0;bottom: 0;left: 50%;z-index: 0;}#sk-container-id-7 div.sk-serial {display: flex;flex-direction: column;align-items: center;background-color: white;padding-right: 0.2em;padding-left: 0.2em;position: relative;}#sk-container-id-7 div.sk-item {position: relative;z-index: 1;}#sk-container-id-7 div.sk-parallel {display: flex;align-items: stretch;justify-content: center;background-color: white;position: relative;}#sk-container-id-7 div.sk-item::before, #sk-container-id-7 div.sk-parallel-item::before {content: \"\";position: absolute;border-left: 1px solid gray;box-sizing: border-box;top: 0;bottom: 0;left: 50%;z-index: -1;}#sk-container-id-7 div.sk-parallel-item {display: flex;flex-direction: column;z-index: 1;position: relative;background-color: white;}#sk-container-id-7 div.sk-parallel-item:first-child::after {align-self: flex-end;width: 50%;}#sk-container-id-7 div.sk-parallel-item:last-child::after {align-self: flex-start;width: 50%;}#sk-container-id-7 div.sk-parallel-item:only-child::after {width: 0;}#sk-container-id-7 div.sk-dashed-wrapped {border: 1px dashed gray;margin: 0 0.4em 0.5em 0.4em;box-sizing: border-box;padding-bottom: 0.4em;background-color: white;}#sk-container-id-7 div.sk-label label {font-family: monospace;font-weight: bold;display: inline-block;line-height: 1.2em;}#sk-container-id-7 div.sk-label-container {text-align: center;}#sk-container-id-7 div.sk-container {/* jupyter's `normalize.less` sets `[hidden] { display: none; }` but bootstrap.min.css set `[hidden] { display: none !important; }` so we also need the `!important` here to be able to override the default hidden behavior on the sphinx rendered scikit-learn.org. See: https://github.com/scikit-learn/scikit-learn/issues/21755 */display: inline-block !important;position: relative;}#sk-container-id-7 div.sk-text-repr-fallback {display: none;}</style><div id=\"sk-container-id-7\" class=\"sk-top-container\"><div class=\"sk-text-repr-fallback\"><pre>DecisionTreeClassifier(random_state=12345)</pre><b>In a Jupyter environment, please rerun this cell to show the HTML representation or trust the notebook. <br />On GitHub, the HTML representation is unable to render, please try loading this page with nbviewer.org.</b></div><div class=\"sk-container\" hidden><div class=\"sk-item\"><div class=\"sk-estimator sk-toggleable\"><input class=\"sk-toggleable__control sk-hidden--visually\" id=\"sk-estimator-id-15\" type=\"checkbox\" checked><label for=\"sk-estimator-id-15\" class=\"sk-toggleable__label sk-toggleable__label-arrow\">DecisionTreeClassifier</label><div class=\"sk-toggleable__content\"><pre>DecisionTreeClassifier(random_state=12345)</pre></div></div></div></div></div>"
            ]
          },
          "metadata": {},
          "execution_count": 62
        }
      ]
    },
    {
      "cell_type": "code",
      "source": [
        "tree.plot_tree(model)\n",
        "plt.show()"
      ],
      "metadata": {
        "id": "3nTD_597nfYe",
        "outputId": "f211d86c-1128-4842-a46e-7c6ec62cda05",
        "colab": {
          "base_uri": "https://localhost:8080/",
          "height": 406
        }
      },
      "execution_count": 63,
      "outputs": [
        {
          "output_type": "display_data",
          "data": {
            "text/plain": [
              "<Figure size 640x480 with 1 Axes>"
            ],
            "image/png": "[encoded data removed]"
          },
          "metadata": {}
        }
      ]
    },
    {
      "cell_type": "code",
      "source": [
        "path = model.cost_complexity_pruning_path(X_train, y_train)\n",
        "path"
      ],
      "metadata": {
        "colab": {
          "base_uri": "https://localhost:8080/"
        },
        "id": "gsAlMf4BUvHf",
        "outputId": "b55d8b48-7205-4ebd-a3d6-4adf64445e08"
      },
      "execution_count": 64,
      "outputs": [
        {
          "output_type": "execute_result",
          "data": {
            "text/plain": [
              "{'ccp_alphas': array([0.        , 0.00164609, 0.00167549, 0.00170285, 0.0017118 ,\n",
              "        0.0017482 , 0.00176367, 0.00282187, 0.00293945, 0.00311832,\n",
              "        0.00334169, 0.00466853, 0.00615681, 0.00658649, 0.00680251,\n",
              "        0.01064271, 0.01750818, 0.02698509, 0.03439153, 0.05275247,\n",
              "        0.0577225 , 0.07363153, 0.19964881, 0.20847184]),\n",
              " 'impurities': array([0.        , 0.00329218, 0.00999412, 0.01339983, 0.01682342,\n",
              "        0.02031981, 0.02208348, 0.02490535, 0.0278448 , 0.03719975,\n",
              "        0.04054144, 0.04520997, 0.05136678, 0.06453976, 0.07814478,\n",
              "        0.08878749, 0.12380385, 0.15078894, 0.18518048, 0.23793295,\n",
              "        0.29565545, 0.36928697, 0.56893578, 0.77740763])}"
            ]
          },
          "metadata": {},
          "execution_count": 64
        }
      ]
    },
    {
      "cell_type": "code",
      "source": [
        "ccp_alphas, impurities = path.ccp_alphas, path.impurities"
      ],
      "metadata": {
        "id": "20pTEjj69u6l"
      },
      "execution_count": 65,
      "outputs": []
    },
    {
      "cell_type": "code",
      "source": [
        "ccp_alphas[:-1]"
      ],
      "metadata": {
        "id": "AtZElbSw-OKJ",
        "outputId": "3bdf2d68-42c4-4c49-c544-1ba3975ba152",
        "colab": {
          "base_uri": "https://localhost:8080/"
        }
      },
      "execution_count": 66,
      "outputs": [
        {
          "output_type": "execute_result",
          "data": {
            "text/plain": [
              "array([0.        , 0.00164609, 0.00167549, 0.00170285, 0.0017118 ,\n",
              "       0.0017482 , 0.00176367, 0.00282187, 0.00293945, 0.00311832,\n",
              "       0.00334169, 0.00466853, 0.00615681, 0.00658649, 0.00680251,\n",
              "       0.01064271, 0.01750818, 0.02698509, 0.03439153, 0.05275247,\n",
              "       0.0577225 , 0.07363153, 0.19964881])"
            ]
          },
          "metadata": {},
          "execution_count": 66
        }
      ]
    },
    {
      "cell_type": "code",
      "source": [
        "fig, ax = plt.subplots()\n",
        "ax.plot(ccp_alphas[:-1], impurities[:-1], marker=\"o\", drawstyle=\"steps-post\")\n",
        "ax.set_xlabel(\"effective alpha\")\n",
        "ax.set_ylabel(\"total impurity of leaves\")\n",
        "ax.set_title(\"Total Impurity vs effective alpha for training set\")"
      ],
      "metadata": {
        "id": "Ud9kwRkS98gn",
        "outputId": "36715bcf-b38a-48cb-d1ca-e13a6f281f12",
        "colab": {
          "base_uri": "https://localhost:8080/",
          "height": 497
        }
      },
      "execution_count": 67,
      "outputs": [
        {
          "output_type": "execute_result",
          "data": {
            "text/plain": [
              "Text(0.5, 1.0, 'Total Impurity vs effective alpha for training set')"
            ]
          },
          "metadata": {},
          "execution_count": 67
        },
        {
          "output_type": "display_data",
          "data": {
            "text/plain": [
              "<Figure size 640x480 with 1 Axes>"
            ],
            "image/png": "[encoded data removed]"
          },
          "metadata": {}
        }
      ]
    },
    {
      "cell_type": "code",
      "source": [
        "impurities"
      ],
      "metadata": {
        "id": "3eDSU2_r2r8a",
        "outputId": "fd0e3ed3-ac52-457f-eee9-a5bc99a4d099",
        "colab": {
          "base_uri": "https://localhost:8080/"
        }
      },
      "execution_count": 68,
      "outputs": [
        {
          "output_type": "execute_result",
          "data": {
            "text/plain": [
              "array([0.        , 0.00329218, 0.00999412, 0.01339983, 0.01682342,\n",
              "       0.02031981, 0.02208348, 0.02490535, 0.0278448 , 0.03719975,\n",
              "       0.04054144, 0.04520997, 0.05136678, 0.06453976, 0.07814478,\n",
              "       0.08878749, 0.12380385, 0.15078894, 0.18518048, 0.23793295,\n",
              "       0.29565545, 0.36928697, 0.56893578, 0.77740763])"
            ]
          },
          "metadata": {},
          "execution_count": 68
        }
      ]
    },
    {
      "cell_type": "code",
      "source": [
        "ccp_alphas"
      ],
      "metadata": {
        "id": "PsVuNRPr1wIz",
        "outputId": "43cb5d47-191b-436e-8218-eac14839bbd4",
        "colab": {
          "base_uri": "https://localhost:8080/"
        }
      },
      "execution_count": 69,
      "outputs": [
        {
          "output_type": "execute_result",
          "data": {
            "text/plain": [
              "array([0.        , 0.00164609, 0.00167549, 0.00170285, 0.0017118 ,\n",
              "       0.0017482 , 0.00176367, 0.00282187, 0.00293945, 0.00311832,\n",
              "       0.00334169, 0.00466853, 0.00615681, 0.00658649, 0.00680251,\n",
              "       0.01064271, 0.01750818, 0.02698509, 0.03439153, 0.05275247,\n",
              "       0.0577225 , 0.07363153, 0.19964881, 0.20847184])"
            ]
          },
          "metadata": {},
          "execution_count": 69
        }
      ]
    },
    {
      "cell_type": "code",
      "source": [
        "clfs = []\n",
        "for ccp_alpha in ccp_alphas:\n",
        "   clf = DecisionTreeClassifier(random_state=12354, ccp_alpha=ccp_alpha)\n",
        "   clf.fit(X_train, y_train)\n",
        "   clfs.append(clf)\n",
        "\n",
        "print(\n",
        "    \"Number of nodes in the last tree is: {} with ccp_alpha: {}\".format(\n",
        "        clfs[-1].tree_.node_count, ccp_alphas[-1]\n",
        "    )\n",
        ")\n",
        "\n",
        "print(clfs)"
      ],
      "metadata": {
        "id": "Pfz2Rv3Z-p3Z",
        "outputId": "3a6f4241-43f0-4dc4-ecfe-b235a2e0b62a",
        "colab": {
          "base_uri": "https://localhost:8080/"
        }
      },
      "execution_count": 70,
      "outputs": [
        {
          "output_type": "stream",
          "name": "stdout",
          "text": [
            "Number of nodes in the last tree is: 1 with ccp_alpha: 0.20847184081775738\n",
            "[DecisionTreeClassifier(random_state=12354), DecisionTreeClassifier(ccp_alpha=0.0016460905349794243, random_state=12354), DecisionTreeClassifier(ccp_alpha=0.0016754850088183417, random_state=12354), DecisionTreeClassifier(ccp_alpha=0.00170285227756492, random_state=12354), DecisionTreeClassifier(ccp_alpha=0.001711795829442888, random_state=12354), DecisionTreeClassifier(ccp_alpha=0.0017481976546303976, random_state=12354), DecisionTreeClassifier(ccp_alpha=0.001763668430335097, random_state=12354), DecisionTreeClassifier(ccp_alpha=0.0028218694885361545, random_state=12354), DecisionTreeClassifier(ccp_alpha=0.0029394473838918285, random_state=12354), DecisionTreeClassifier(ccp_alpha=0.0031183184214511697, random_state=12354), DecisionTreeClassifier(ccp_alpha=0.00334168755221387, random_state=12354), DecisionTreeClassifier(ccp_alpha=0.004668534080298785, random_state=12354), DecisionTreeClassifier(ccp_alpha=0.0061568061568061565, random_state=12354), DecisionTreeClassifier(ccp_alpha=0.006586490246620962, random_state=12354), DecisionTreeClassifier(ccp_alpha=0.006802511369890898, random_state=12354), DecisionTreeClassifier(ccp_alpha=0.010642707271920755, random_state=12354), DecisionTreeClassifier(ccp_alpha=0.017508179235164893, random_state=12354), DecisionTreeClassifier(ccp_alpha=0.026985090737367604, random_state=12354), DecisionTreeClassifier(ccp_alpha=0.03439153439153439, random_state=12354), DecisionTreeClassifier(ccp_alpha=0.05275247236031549, random_state=12354), DecisionTreeClassifier(ccp_alpha=0.057722499521441345, random_state=12354), DecisionTreeClassifier(ccp_alpha=0.07363152736687581, random_state=12354), DecisionTreeClassifier(ccp_alpha=0.19964880998874035, random_state=12354), DecisionTreeClassifier(ccp_alpha=0.20847184081775738, random_state=12354)]\n"
          ]
        }
      ]
    },
    {
      "cell_type": "code",
      "source": [
        "model.tree_.node_count"
      ],
      "metadata": {
        "id": "BhI92xIvAE6I",
        "outputId": "85d1b6be-cab8-480b-e897-8e665d5be7b1",
        "colab": {
          "base_uri": "https://localhost:8080/"
        }
      },
      "execution_count": 71,
      "outputs": [
        {
          "output_type": "execute_result",
          "data": {
            "text/plain": [
              "71"
            ]
          },
          "metadata": {},
          "execution_count": 71
        }
      ]
    },
    {
      "cell_type": "markdown",
      "source": [
        "Se ignora el ultimo alfa, ya que nos deja seguro la raiz del arbol, pues la penalización es agresiva."
      ],
      "metadata": {
        "id": "SnSHvldg_0lw"
      }
    },
    {
      "cell_type": "code",
      "source": [
        "clfss = clfs[:-1]\n",
        "ccp_alphass = ccp_alphas[:-1]\n",
        "# An array with contain of number nodes of each tree\n",
        "node_counts = [clf.tree_.node_count for clf in clfss]\n",
        "# An array with contain of the deep each tree\n",
        "depth = [clf.tree_.max_depth for clf in clfss]\n",
        "fig, ax = plt.subplots(2, 1)\n",
        "ax[0].plot(ccp_alphass, node_counts, marker=\"o\", drawstyle=\"steps-post\")\n",
        "ax[0].set_xlabel(\"alpha\")\n",
        "ax[0].set_ylabel(\"number of nodes\")\n",
        "ax[0].set_title(\"Number of nodes vs alpha\")\n",
        "ax[1].plot(ccp_alphass, depth, marker=\"o\", drawstyle=\"steps-post\")\n",
        "ax[1].set_xlabel(\"alpha\")\n",
        "ax[1].set_ylabel(\"depth of tree\")\n",
        "ax[1].set_title(\"Depth vs alpha\")\n",
        "fig.tight_layout()"
      ],
      "metadata": {
        "id": "gzcOwzH0_VVD",
        "outputId": "a40973b8-317f-489a-fe16-428c72cd8a0a",
        "colab": {
          "base_uri": "https://localhost:8080/",
          "height": 480
        }
      },
      "execution_count": 72,
      "outputs": [
        {
          "output_type": "display_data",
          "data": {
            "text/plain": [
              "<Figure size 640x480 with 2 Axes>"
            ],
            "image/png": "[encoded data removed]"
          },
          "metadata": {}
        }
      ]
    },
    {
      "cell_type": "code",
      "source": [
        "train_scores = [clf.score(X_train, y_train) for clf in clfs[:-1]]\n",
        "test_scores = [clf.score(X_test, y_test) for clf in clfs[:-1]]\n",
        "\n",
        "fig, ax = plt.subplots()\n",
        "ax.set_xlabel(\"alpha\")\n",
        "ax.set_ylabel(\"accuracy\")\n",
        "ax.set_title(\"Accuracy vs alpha for training and testing sets\")\n",
        "ax.plot(ccp_alphas[:-1], train_scores, marker=\"o\", label=\"train\", drawstyle=\"steps-post\")\n",
        "ax.plot(ccp_alphas[:-1], test_scores, marker=\"o\", label=\"test\", drawstyle=\"steps-post\")\n",
        "ax.legend()\n",
        "plt.show()"
      ],
      "metadata": {
        "id": "tOCDaV6HBqFq",
        "outputId": "07b1341f-2c96-4c5e-acab-2e8d98574157",
        "colab": {
          "base_uri": "https://localhost:8080/",
          "height": 480
        }
      },
      "execution_count": 73,
      "outputs": [
        {
          "output_type": "display_data",
          "data": {
            "text/plain": [
              "<Figure size 640x480 with 1 Axes>"
            ],
            "image/png": "[encoded data removed]"
          },
          "metadata": {}
        }
      ]
    },
    {
      "cell_type": "markdown",
      "source": [
        "- Seleccionamos el alpha 0.050 que permite el maximo score de prueba."
      ],
      "metadata": {
        "id": "MgcwyHGaBdtS"
      }
    },
    {
      "cell_type": "code",
      "source": [
        "ccp_alphas[:-1]"
      ],
      "metadata": {
        "colab": {
          "base_uri": "https://localhost:8080/"
        },
        "id": "g0kYZ6dNXe4V",
        "outputId": "a21a45ee-08f7-449a-cec1-e567b6e33278"
      },
      "execution_count": 74,
      "outputs": [
        {
          "output_type": "execute_result",
          "data": {
            "text/plain": [
              "array([0.        , 0.00164609, 0.00167549, 0.00170285, 0.0017118 ,\n",
              "       0.0017482 , 0.00176367, 0.00282187, 0.00293945, 0.00311832,\n",
              "       0.00334169, 0.00466853, 0.00615681, 0.00658649, 0.00680251,\n",
              "       0.01064271, 0.01750818, 0.02698509, 0.03439153, 0.05275247,\n",
              "       0.0577225 , 0.07363153, 0.19964881])"
            ]
          },
          "metadata": {},
          "execution_count": 74
        }
      ]
    },
    {
      "cell_type": "code",
      "source": [
        "ccp_alphas"
      ],
      "metadata": {
        "id": "uosxO8AN2I7m",
        "outputId": "0c99a72c-9cf9-44a9-b93a-4f05dbed70f0",
        "colab": {
          "base_uri": "https://localhost:8080/"
        }
      },
      "execution_count": 75,
      "outputs": [
        {
          "output_type": "execute_result",
          "data": {
            "text/plain": [
              "array([0.        , 0.00164609, 0.00167549, 0.00170285, 0.0017118 ,\n",
              "       0.0017482 , 0.00176367, 0.00282187, 0.00293945, 0.00311832,\n",
              "       0.00334169, 0.00466853, 0.00615681, 0.00658649, 0.00680251,\n",
              "       0.01064271, 0.01750818, 0.02698509, 0.03439153, 0.05275247,\n",
              "       0.0577225 , 0.07363153, 0.19964881, 0.20847184])"
            ]
          },
          "metadata": {},
          "execution_count": 75
        }
      ]
    },
    {
      "cell_type": "code",
      "source": [
        "model = DecisionTreeClassifier(random_state=12354, ccp_alpha=0.00540567)\n",
        "model.fit(X_train, y_train)\n",
        "y_predict_train = model.predict(X_train)\n",
        "y_predict_test = model.predict(X_test)"
      ],
      "metadata": {
        "id": "rA4JM8Bs1LFM"
      },
      "execution_count": 76,
      "outputs": []
    },
    {
      "cell_type": "code",
      "source": [
        "metrics.recall_score(\n",
        "    y_test,\n",
        "    y_predict_test,\n",
        "    average='micro',\n",
        "    labels=[1,2,3,4,5])"
      ],
      "metadata": {
        "id": "qFurAK_02oyN",
        "outputId": "1c980a13-d096-437b-ca04-f71a9f964fc9",
        "colab": {
          "base_uri": "https://localhost:8080/"
        }
      },
      "execution_count": 77,
      "outputs": [
        {
          "output_type": "execute_result",
          "data": {
            "text/plain": [
              "0.9019264448336253"
            ]
          },
          "metadata": {},
          "execution_count": 77
        }
      ]
    },
    {
      "cell_type": "code",
      "source": [
        "kward={\"cmap\":plt.cm.copper_r,  \"annot_kws\":{'size': 12}}\n",
        "matrix_confusion(y_test, y_predict_test, title='confusion matrix', **kward)"
      ],
      "metadata": {
        "id": "KjZk4R6XBMeT",
        "outputId": "42250a43-b31d-44b3-f4a6-1e2d1c43081e",
        "colab": {
          "base_uri": "https://localhost:8080/",
          "height": 574
        }
      },
      "execution_count": 78,
      "outputs": [
        {
          "output_type": "stream",
          "name": "stdout",
          "text": [
            "The number of FixedLocator locations (6), usually from a call to set_ticks, does not match the number of labels (2).\n"
          ]
        },
        {
          "output_type": "display_data",
          "data": {
            "text/plain": [
              "<Figure size 800x600 with 2 Axes>"
            ],
            "image/png": "[encoded data removed]"
          },
          "metadata": {}
        }
      ]
    },
    {
      "cell_type": "markdown",
      "source": [
        "- Se debe recordar que el modelo se entrenó con un conjunto de datos pequeño, con técnicas de reducción de dimensionalidad, entre otros factores, permitieron que el modelo aprendiera de manera eficiente, y los efectos de la pos poda costo mínimo de complejidad, no se aprecie de manera significativa."
      ],
      "metadata": {
        "id": "rZTwSAMXCUQ0"
      }
    }
  ]
}