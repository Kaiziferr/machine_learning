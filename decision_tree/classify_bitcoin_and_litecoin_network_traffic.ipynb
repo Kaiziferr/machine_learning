{
  "nbformat": 4,
  "nbformat_minor": 0,
  "metadata": {
    "colab": {
      "provenance": [],
      "authorship_tag": "ABX9TyN7hYGjkYN26/5OPVK7kHIx",
      "include_colab_link": true
    },
    "kernelspec": {
      "name": "python3",
      "display_name": "Python 3"
    },
    "language_info": {
      "name": "python"
    }
  },
  "cells": [
    {
      "cell_type": "markdown",
      "metadata": {
        "id": "view-in-github",
        "colab_type": "text"
      },
      "source": [
        "<a href=\"https://colab.research.google.com/github/Kaiziferr/machine_learning/blob/main/decision_tree/classify_bitcoin_and_litecoin_network_traffic.ipynb\" target=\"_parent\"><img src=\"https://colab.research.google.com/assets/colab-badge.svg\" alt=\"Open In Colab\"/></a>"
      ]
    },
    {
      "cell_type": "code",
      "source": [
        "import pandas as pd\n",
        "import seaborn as sns\n",
        "import matplotlib.pyplot as plt\n",
        "\n",
        "from sklearn.model_selection import train_test_split\n",
        "from sklearn.ensemble import ExtraTreesClassifier\n",
        "from sklearn.feature_selection import SelectFromModel\n",
        "from sklearn.decomposition import PCA\n",
        "\n",
        "from sklearn.tree import DecisionTreeClassifier\n",
        "\n",
        "from sklearn import metrics, tree\n",
        "\n",
        "from matplotlib.colors import ListedColormap\n"
      ],
      "metadata": {
        "id": "hTAtyF6dHmw9"
      },
      "execution_count": 1,
      "outputs": []
    },
    {
      "cell_type": "markdown",
      "source": [
        "Configuraciones\n",
        "---"
      ],
      "metadata": {
        "id": "G03nlbs6ImlY"
      }
    },
    {
      "cell_type": "code",
      "source": [
        "sns.set(style=\"darkgrid\")"
      ],
      "metadata": {
        "id": "23l7WKSyIpse"
      },
      "execution_count": 2,
      "outputs": []
    },
    {
      "cell_type": "markdown",
      "source": [
        "# **Funciones**\n",
        "---"
      ],
      "metadata": {
        "id": "0zMVwcSGXo3q"
      }
    },
    {
      "cell_type": "code",
      "source": [
        "def generate_colors(paleta:str=\"Set1\", n_colors:int=15)-> tuple:\n",
        "  \"\"\"color generator\"\"\"\n",
        "  try:\n",
        "    cmap = sns.color_palette(paleta, n_colors).as_hex()\n",
        "    list_camp = ListedColormap(cmap)\n",
        "    return cmap, list_camp\n",
        "  except Exception as e:\n",
        "    print(e)\n",
        "\n",
        "\n",
        "def plot_bar(data:pd.DataFrame, paleta:list=None, figsize_x:int=8, figsize_y:int=5,\n",
        "             fontsize:int=15, **kwards)->None:\n",
        "  \"\"\"Grafica un diagrama de barras con multiples caracteristicas\"\"\"\n",
        "  try:\n",
        "    paleta = paleta if paleta !=None else generate_colors()[0]\n",
        "    v = kwards\n",
        "    ejeX = v[\"ejeX\"]\n",
        "\n",
        "    fig, ax = plt.subplots(figsize = (figsize_x, figsize_y))\n",
        "    fig.suptitle(f'Diagrama de barras {v[\"title\"]}', fontsize=fontsize)\n",
        "\n",
        "    if type(ejeX) == str:\n",
        "      sns.countplot(x=ejeX, data=data, ax = ax, palette=paleta)\n",
        "    else:\n",
        "      ejeX = v['ejeX'][0]\n",
        "      sns.countplot(x=ejeX, hue=v['ejeX'][1], data=data, ax=ax, palette=paleta)\n",
        "\n",
        "    ax.set_ylabel(v['ejey'], size = 12)\n",
        "    ax.set_xlabel(ejeX, size=fontsize-3)\n",
        "    ax.set_xticklabels(ax.get_xticklabels(),fontsize = fontsize-3)\n",
        "    for p in ax.patches:\n",
        "      try:\n",
        "        height = int(p.get_height())\n",
        "        ax.text(p.get_x()+p.get_width()/2., height + 1,height, ha=\"center\")\n",
        "      except:\n",
        "        pass\n",
        "\n",
        "  except Exception as e:\n",
        "    print(e)"
      ],
      "metadata": {
        "id": "w-IJDDLuI3gv"
      },
      "execution_count": 3,
      "outputs": []
    },
    {
      "cell_type": "markdown",
      "source": [
        "# **Diccionario de datos**\n",
        "---\n",
        "- `Name`: nombre de la ventana de tiempo.\n",
        "- `Netflows`: cantidad de netflows en la ventana de tiempo.\n",
        "- `First_Protocol`: top 1 de protocolos usados en la ventana de tiempo.\n",
        "- `Second_Protocol`: top 2 de protocolos usados en la ventana de tiempo.\n",
        "- `Third_Protocol`: top 3 de protocolos usados en la ventana de tiempo.\n",
        "- `p1_d`: 25% de los percentiles de todas las duraciones en la ventana de tiempo\n",
        "- `p2_d`: 50% de los percentiles de todas las duraciones en la ventana de tiempo\n",
        "- `p3_d`: 75% de los percentiles de todas las duraciones en la ventana de tiempo\n",
        "- `duration`: duración total de la ventana de tiempo\n",
        "- `max_d`: valor máximo de todas las duraciones en la ventana de tiempo.\n",
        "- `min_d`: valor mínimo de todas las duraciones en la ventana de tiempo.\n",
        "- `#packets`: número total de paquetes en la ventana de tiempo.\n",
        "- `Avg_bps`: promedio de bits por segundo en la ventana de tiempo.\n",
        "- `Avg_pps`: promedio de paquetes por segundo en la ventana de tiempo.\n",
        "- `Avg_bpp`: promedio de bytes por paquete en la ventana de tiempo.\n",
        "- `#Bytes`: número total de bytes en la ventana de tiempo.\n",
        "- `#sp`: número total de puertos de origen usados en la ventana de tiempo.\n",
        "- `#dp`: número total de puertos de destino usados en la ventana de tiempo.\n",
        "- `first_sp`: top 1 de los puertos de origen en la ventana de tiempo.\n",
        "- `second_sp`: top 2 de los puertos de origen en la ventana de tiempo.\n",
        "- `third_sp`: top 3 de los puertos de origen en la ventana de tiempo.\n",
        "- `first_dp`: top 1 de los puertos de destino en la ventana de tiempo.\n",
        "- `second_dp`: top 2 de los puertos de destino en la ventana de tiempo.\n",
        "- `third_dp`: top 3 de los puertos de destino en la ventana de tiempo.\n",
        "- `p1_ip`: 25% de los percentiles de todas las entradas de paquetes en la ventana de tiempo.\n",
        "- `p2_ip`: 50% de los percentiles de todas las entradas de paquetes en la ventana de tiempo.\n",
        "- `p3_ip`: 75% de los percentiles de todas las entradas de paquetes en la ventana de tiempo.\n",
        "- `p1_ib`: 25% de los percentiles de todas las entradas de bytes en la ventana de tiempo.\n",
        "- `p2_ib`: 50% de los percentiles de todas las entradas de bytes en la ventana de tiempo.\n",
        "- `p3_ib`: 75% de los percentiles de todas las entradas de bytes en la ventana de tiempo.\n",
        "- `Type`: tipo de ventana de tiempo\n",
        "  - `benignas`: 0\n",
        "  - `bitcash`: 1\n",
        "  - `bitcoin`: 2\n",
        "  - `ethereum `: 3\n",
        "  - `monero`: 4\n",
        "  - `litecoin`: 5\n"
      ],
      "metadata": {
        "id": "OkpF3LjsW8Xp"
      }
    },
    {
      "cell_type": "markdown",
      "source": [
        "source: This data is collected in my research of degree"
      ],
      "metadata": {
        "id": "m0rbw1kGUpA-"
      }
    },
    {
      "cell_type": "markdown",
      "source": [
        "# **Data**\n",
        "---"
      ],
      "metadata": {
        "id": "3etcMeYyXhyx"
      }
    },
    {
      "cell_type": "code",
      "source": [
        "url = 'https://raw.githubusercontent.com/Kaiziferr/datasets/main/cryptojacking.csv'\n",
        "data = pd.read_csv(url)"
      ],
      "metadata": {
        "id": "Na8Iz-5nNG2V"
      },
      "execution_count": 4,
      "outputs": []
    },
    {
      "cell_type": "code",
      "source": [
        "pd.DataFrame"
      ],
      "metadata": {
        "id": "pOJHZMAZvVhR",
        "outputId": "04384faf-b7c5-458e-f392-465c317f9948",
        "colab": {
          "base_uri": "https://localhost:8080/"
        }
      },
      "execution_count": 5,
      "outputs": [
        {
          "output_type": "execute_result",
          "data": {
            "text/plain": [
              "pandas.core.frame.DataFrame"
            ]
          },
          "metadata": {},
          "execution_count": 5
        }
      ]
    },
    {
      "cell_type": "code",
      "source": [
        "plot_bar(data, paleta=None, ejeX='Type',\n",
        "         ejey='count Tipo Criptomonedas',\n",
        "         title='Count Tipo Criptomonedas')"
      ],
      "metadata": {
        "colab": {
          "base_uri": "https://localhost:8080/",
          "height": 526
        },
        "id": "sEiFI_SaXnNr",
        "outputId": "fa1f3531-68ff-432d-d515-b6da2451adff"
      },
      "execution_count": 6,
      "outputs": [
        {
          "output_type": "display_data",
          "data": {
            "text/plain": [
              "<Figure size 800x500 with 1 Axes>"
            ],
            "image/png": "[encoded data removed]"
          },
          "metadata": {}
        }
      ]
    },
    {
      "cell_type": "markdown",
      "source": [
        "# **Para el ejercicio, realizaremos una clasificación de trafico entre bitcoins y litecoin**"
      ],
      "metadata": {
        "id": "61UJjIJqY_Xx"
      }
    },
    {
      "cell_type": "code",
      "source": [
        "data_sample = data[(data.Type == 2) | (data.Type == 5)].drop(\n",
        "    'Unnamed: 0', axis=1)"
      ],
      "metadata": {
        "id": "UWfyMO4vZO99"
      },
      "execution_count": 7,
      "outputs": []
    },
    {
      "cell_type": "code",
      "source": [
        "plot_bar(data_sample, paleta=None, ejeX='Type',ejey='count Tipo Criptomonedas',\n",
        "         title='Bitcoins vs Litecoins')"
      ],
      "metadata": {
        "colab": {
          "base_uri": "https://localhost:8080/",
          "height": 526
        },
        "id": "Qg_TjyS2ZoDr",
        "outputId": "f592af68-8509-4d12-f6b1-370978e39bfe"
      },
      "execution_count": 8,
      "outputs": [
        {
          "output_type": "display_data",
          "data": {
            "text/plain": [
              "<Figure size 800x500 with 1 Axes>"
            ],
            "image/png": "[encoded data removed]"
          },
          "metadata": {}
        }
      ]
    },
    {
      "cell_type": "markdown",
      "source": [
        "- El conjunto sufre un desbalance minimo"
      ],
      "metadata": {
        "id": "YaTPPlMXZvvB"
      }
    },
    {
      "cell_type": "code",
      "source": [
        "data_sample.isna().sum()"
      ],
      "metadata": {
        "colab": {
          "base_uri": "https://localhost:8080/"
        },
        "id": "S1-n2uv2d0Cx",
        "outputId": "585d9489-a1a1-42e1-abf9-c4dbc5b0a29e"
      },
      "execution_count": 9,
      "outputs": [
        {
          "output_type": "execute_result",
          "data": {
            "text/plain": [
              "Name                 0\n",
              "Netflows             0\n",
              "First_Protocol       0\n",
              "Second_Protocol    514\n",
              "Third_Protocol     514\n",
              "p1_d                 0\n",
              "p2_d                 0\n",
              "p3_d                 0\n",
              "duration             0\n",
              "max_d                0\n",
              "min_d                0\n",
              "#packets             0\n",
              "Avg_bps              0\n",
              "Avg_pps              0\n",
              "Avg_bpp              0\n",
              "#Bytes               0\n",
              "#sp                  0\n",
              "#dp                  0\n",
              "first_sp             0\n",
              "second_sp            4\n",
              "third_sp           409\n",
              "first_dp             0\n",
              "second_dp            4\n",
              "third_dp           410\n",
              "p1_ip                0\n",
              "p2_ip                0\n",
              "p3_ip                0\n",
              "p1_ib                0\n",
              "p2_ib                0\n",
              "p3_ib                0\n",
              "Type                 0\n",
              "dtype: int64"
            ]
          },
          "metadata": {},
          "execution_count": 9
        }
      ]
    },
    {
      "cell_type": "markdown",
      "source": [
        "Por cuestiones del ejercicio se eliminaran las columnas de valores nulos"
      ],
      "metadata": {
        "id": "E-XplxEId9UP"
      }
    },
    {
      "cell_type": "code",
      "source": [
        "data_sample = data_sample.drop(['third_sp', 'third_dp'], axis=1)"
      ],
      "metadata": {
        "id": "M5qWrMF9eDc_"
      },
      "execution_count": 10,
      "outputs": []
    },
    {
      "cell_type": "markdown",
      "source": [
        "# Data Split\n",
        "---"
      ],
      "metadata": {
        "id": "eKyRncGSaeF4"
      }
    },
    {
      "cell_type": "markdown",
      "source": [
        "Si bien se puede usar las variables categoricas, por fines del ejercicio se usaran las variables cuantitativas."
      ],
      "metadata": {
        "id": "9Nlw4Wddb7ey"
      }
    },
    {
      "cell_type": "code",
      "source": [
        "X = data_sample.select_dtypes(['int64', 'float64'])"
      ],
      "metadata": {
        "id": "DVYAHt2mdN05"
      },
      "execution_count": 11,
      "outputs": []
    },
    {
      "cell_type": "code",
      "source": [
        "X = X.dropna()\n",
        "X.isna().sum()"
      ],
      "metadata": {
        "colab": {
          "base_uri": "https://localhost:8080/"
        },
        "id": "fy2bKo5MefDS",
        "outputId": "aba38991-9551-4a5d-c4bf-fa7dc9cb1da2"
      },
      "execution_count": 12,
      "outputs": [
        {
          "output_type": "execute_result",
          "data": {
            "text/plain": [
              "Netflows     0\n",
              "p1_d         0\n",
              "p2_d         0\n",
              "p3_d         0\n",
              "duration     0\n",
              "max_d        0\n",
              "min_d        0\n",
              "#packets     0\n",
              "Avg_bps      0\n",
              "Avg_pps      0\n",
              "Avg_bpp      0\n",
              "#Bytes       0\n",
              "#sp          0\n",
              "#dp          0\n",
              "first_sp     0\n",
              "second_sp    0\n",
              "first_dp     0\n",
              "second_dp    0\n",
              "p1_ip        0\n",
              "p2_ip        0\n",
              "p3_ip        0\n",
              "p1_ib        0\n",
              "p2_ib        0\n",
              "p3_ib        0\n",
              "Type         0\n",
              "dtype: int64"
            ]
          },
          "metadata": {},
          "execution_count": 12
        }
      ]
    },
    {
      "cell_type": "code",
      "source": [
        "y = X['Type']\n",
        "X = X.iloc[:, :-1]\n"
      ],
      "metadata": {
        "id": "ssF_YEKwagqw"
      },
      "execution_count": 13,
      "outputs": []
    },
    {
      "cell_type": "markdown",
      "source": [
        "**Select the best features**\n"
      ],
      "metadata": {
        "id": "iDlyCPUVbQwa"
      }
    },
    {
      "cell_type": "markdown",
      "source": [
        "Se cambiara solo el criterio de impureza, en proximos ejercicios se implementaran otros hiperparametros. Se usa un ensamblador para encontrar las mejores caracteristicas."
      ],
      "metadata": {
        "id": "bI7_KBCuceqD"
      }
    },
    {
      "cell_type": "code",
      "source": [
        "model_best_feature_gini = ExtraTreesClassifier(\n",
        "    n_estimators=100, criterion='gini'\n",
        ")"
      ],
      "metadata": {
        "id": "9lCpLoK-e4qB"
      },
      "execution_count": 14,
      "outputs": []
    },
    {
      "cell_type": "code",
      "source": [
        "data_best_gini = model_best_feature_gini.fit(X, y)"
      ],
      "metadata": {
        "id": "qyLysefMfD5Q"
      },
      "execution_count": 15,
      "outputs": []
    },
    {
      "cell_type": "markdown",
      "source": [
        "Seleccionamos las mejores caracteristicas, para implementar un metodo para la reducción de overfitting."
      ],
      "metadata": {
        "id": "5dLLsA9gi85g"
      }
    },
    {
      "cell_type": "code",
      "source": [
        "model = SelectFromModel(data_best_gini, prefit=True)"
      ],
      "metadata": {
        "id": "tV8JegdBgfQY"
      },
      "execution_count": 16,
      "outputs": []
    },
    {
      "cell_type": "code",
      "source": [
        "best_features = X[X.columns[model.get_support(indices=True)]].columns\n",
        "best_features"
      ],
      "metadata": {
        "id": "4_wTTaEKhMn5",
        "outputId": "4d3dce2e-295b-4feb-8735-1d5a6a9d5221",
        "colab": {
          "base_uri": "https://localhost:8080/"
        }
      },
      "execution_count": 17,
      "outputs": [
        {
          "output_type": "execute_result",
          "data": {
            "text/plain": [
              "Index(['p1_d', 'p2_d', 'p3_d', 'min_d', '#sp', 'first_sp', 'second_sp',\n",
              "       'first_dp', 'second_dp', 'p2_ip'],\n",
              "      dtype='object')"
            ]
          },
          "metadata": {},
          "execution_count": 17
        }
      ]
    },
    {
      "cell_type": "markdown",
      "source": [
        "No se implementará un proceso de estandarización, ya que el modelo es robusto ante ese tipo de casos."
      ],
      "metadata": {
        "id": "_0j1M4hnjlEc"
      }
    },
    {
      "cell_type": "code",
      "source": [
        "X = X[best_features]\n",
        "X"
      ],
      "metadata": {
        "id": "BOifpq-ciCCZ",
        "outputId": "028bcf1d-01bd-4034-8fec-221c81f09c5b",
        "colab": {
          "base_uri": "https://localhost:8080/",
          "height": 423
        }
      },
      "execution_count": 18,
      "outputs": [
        {
          "output_type": "execute_result",
          "data": {
            "text/plain": [
              "           p1_d      p2_d       p3_d    min_d  #sp  first_sp  second_sp  \\\n",
              "1181  114.79300  180.0435  245.27525  114.736    3      3332    51931.0   \n",
              "1182  196.18225  196.1895  196.19675  196.175    2      3332    51905.0   \n",
              "1183  244.14325  244.1435  244.14375  244.143    2      3332    51911.0   \n",
              "1184  244.04600  244.0460  244.04600  244.046    2      3332    51908.0   \n",
              "1185  246.79500  246.7950  246.79500  246.795    2     51915     3332.0   \n",
              "...         ...       ...        ...      ...  ...       ...        ...   \n",
              "2832    2.15850    4.3170    6.47550    0.000    2      3333    52003.0   \n",
              "2833  583.36850  583.8100  584.25150  582.927    2      3333    52003.0   \n",
              "2834  288.55375  288.5545  288.55525  288.553    2      3333    52003.0   \n",
              "2835  285.37900  285.3790  285.37900  285.379    2      3333    52003.0   \n",
              "2836  267.03625  267.0365  267.03675  267.036    2      3333    52003.0   \n",
              "\n",
              "      first_dp  second_dp  p2_ip  \n",
              "1181      3332    51931.0   12.5  \n",
              "1182      3332    51905.0   11.0  \n",
              "1183      3332    51911.0   16.0  \n",
              "1184      3332    51908.0   16.0  \n",
              "1185     51915     3332.0   18.5  \n",
              "...        ...        ...    ...  \n",
              "2832      3333    52003.0    1.5  \n",
              "2833      3333    52003.0   55.0  \n",
              "2834      3333    52003.0   22.5  \n",
              "2835      3333    52003.0   25.5  \n",
              "2836      3333    52003.0   21.0  \n",
              "\n",
              "[510 rows x 10 columns]"
            ],
            "text/html": [
              "\n",
              "  <div id=\"df-b1340663-c840-4343-b726-a6482ebfd857\" class=\"colab-df-container\">\n",
              "    <div>\n",
              "<style scoped>\n",
              "    .dataframe tbody tr th:only-of-type {\n",
              "        vertical-align: middle;\n",
              "    }\n",
              "\n",
              "    .dataframe tbody tr th {\n",
              "        vertical-align: top;\n",
              "    }\n",
              "\n",
              "    .dataframe thead th {\n",
              "        text-align: right;\n",
              "    }\n",
              "</style>\n",
              "<table border=\"1\" class=\"dataframe\">\n",
              "  <thead>\n",
              "    <tr style=\"text-align: right;\">\n",
              "      <th></th>\n",
              "      <th>p1_d</th>\n",
              "      <th>p2_d</th>\n",
              "      <th>p3_d</th>\n",
              "      <th>min_d</th>\n",
              "      <th>#sp</th>\n",
              "      <th>first_sp</th>\n",
              "      <th>second_sp</th>\n",
              "      <th>first_dp</th>\n",
              "      <th>second_dp</th>\n",
              "      <th>p2_ip</th>\n",
              "    </tr>\n",
              "  </thead>\n",
              "  <tbody>\n",
              "    <tr>\n",
              "      <th>1181</th>\n",
              "      <td>114.79300</td>\n",
              "      <td>180.0435</td>\n",
              "      <td>245.27525</td>\n",
              "      <td>114.736</td>\n",
              "      <td>3</td>\n",
              "      <td>3332</td>\n",
              "      <td>51931.0</td>\n",
              "      <td>3332</td>\n",
              "      <td>51931.0</td>\n",
              "      <td>12.5</td>\n",
              "    </tr>\n",
              "    <tr>\n",
              "      <th>1182</th>\n",
              "      <td>196.18225</td>\n",
              "      <td>196.1895</td>\n",
              "      <td>196.19675</td>\n",
              "      <td>196.175</td>\n",
              "      <td>2</td>\n",
              "      <td>3332</td>\n",
              "      <td>51905.0</td>\n",
              "      <td>3332</td>\n",
              "      <td>51905.0</td>\n",
              "      <td>11.0</td>\n",
              "    </tr>\n",
              "    <tr>\n",
              "      <th>1183</th>\n",
              "      <td>244.14325</td>\n",
              "      <td>244.1435</td>\n",
              "      <td>244.14375</td>\n",
              "      <td>244.143</td>\n",
              "      <td>2</td>\n",
              "      <td>3332</td>\n",
              "      <td>51911.0</td>\n",
              "      <td>3332</td>\n",
              "      <td>51911.0</td>\n",
              "      <td>16.0</td>\n",
              "    </tr>\n",
              "    <tr>\n",
              "      <th>1184</th>\n",
              "      <td>244.04600</td>\n",
              "      <td>244.0460</td>\n",
              "      <td>244.04600</td>\n",
              "      <td>244.046</td>\n",
              "      <td>2</td>\n",
              "      <td>3332</td>\n",
              "      <td>51908.0</td>\n",
              "      <td>3332</td>\n",
              "      <td>51908.0</td>\n",
              "      <td>16.0</td>\n",
              "    </tr>\n",
              "    <tr>\n",
              "      <th>1185</th>\n",
              "      <td>246.79500</td>\n",
              "      <td>246.7950</td>\n",
              "      <td>246.79500</td>\n",
              "      <td>246.795</td>\n",
              "      <td>2</td>\n",
              "      <td>51915</td>\n",
              "      <td>3332.0</td>\n",
              "      <td>51915</td>\n",
              "      <td>3332.0</td>\n",
              "      <td>18.5</td>\n",
              "    </tr>\n",
              "    <tr>\n",
              "      <th>...</th>\n",
              "      <td>...</td>\n",
              "      <td>...</td>\n",
              "      <td>...</td>\n",
              "      <td>...</td>\n",
              "      <td>...</td>\n",
              "      <td>...</td>\n",
              "      <td>...</td>\n",
              "      <td>...</td>\n",
              "      <td>...</td>\n",
              "      <td>...</td>\n",
              "    </tr>\n",
              "    <tr>\n",
              "      <th>2832</th>\n",
              "      <td>2.15850</td>\n",
              "      <td>4.3170</td>\n",
              "      <td>6.47550</td>\n",
              "      <td>0.000</td>\n",
              "      <td>2</td>\n",
              "      <td>3333</td>\n",
              "      <td>52003.0</td>\n",
              "      <td>3333</td>\n",
              "      <td>52003.0</td>\n",
              "      <td>1.5</td>\n",
              "    </tr>\n",
              "    <tr>\n",
              "      <th>2833</th>\n",
              "      <td>583.36850</td>\n",
              "      <td>583.8100</td>\n",
              "      <td>584.25150</td>\n",
              "      <td>582.927</td>\n",
              "      <td>2</td>\n",
              "      <td>3333</td>\n",
              "      <td>52003.0</td>\n",
              "      <td>3333</td>\n",
              "      <td>52003.0</td>\n",
              "      <td>55.0</td>\n",
              "    </tr>\n",
              "    <tr>\n",
              "      <th>2834</th>\n",
              "      <td>288.55375</td>\n",
              "      <td>288.5545</td>\n",
              "      <td>288.55525</td>\n",
              "      <td>288.553</td>\n",
              "      <td>2</td>\n",
              "      <td>3333</td>\n",
              "      <td>52003.0</td>\n",
              "      <td>3333</td>\n",
              "      <td>52003.0</td>\n",
              "      <td>22.5</td>\n",
              "    </tr>\n",
              "    <tr>\n",
              "      <th>2835</th>\n",
              "      <td>285.37900</td>\n",
              "      <td>285.3790</td>\n",
              "      <td>285.37900</td>\n",
              "      <td>285.379</td>\n",
              "      <td>2</td>\n",
              "      <td>3333</td>\n",
              "      <td>52003.0</td>\n",
              "      <td>3333</td>\n",
              "      <td>52003.0</td>\n",
              "      <td>25.5</td>\n",
              "    </tr>\n",
              "    <tr>\n",
              "      <th>2836</th>\n",
              "      <td>267.03625</td>\n",
              "      <td>267.0365</td>\n",
              "      <td>267.03675</td>\n",
              "      <td>267.036</td>\n",
              "      <td>2</td>\n",
              "      <td>3333</td>\n",
              "      <td>52003.0</td>\n",
              "      <td>3333</td>\n",
              "      <td>52003.0</td>\n",
              "      <td>21.0</td>\n",
              "    </tr>\n",
              "  </tbody>\n",
              "</table>\n",
              "<p>510 rows × 10 columns</p>\n",
              "</div>\n",
              "    <div class=\"colab-df-buttons\">\n",
              "\n",
              "  <div class=\"colab-df-container\">\n",
              "    <button class=\"colab-df-convert\" onclick=\"convertToInteractive('df-b1340663-c840-4343-b726-a6482ebfd857')\"\n",
              "            title=\"Convert this dataframe to an interactive table.\"\n",
              "            style=\"display:none;\">\n",
              "\n",
              "  <svg xmlns=\"http://www.w3.org/2000/svg\" height=\"24px\" viewBox=\"0 -960 960 960\">\n",
              "    <path d=\"M120-120v-720h720v720H120Zm60-500h600v-160H180v160Zm220 220h160v-160H400v160Zm0 220h160v-160H400v160ZM180-400h160v-160H180v160Zm440 0h160v-160H620v160ZM180-180h160v-160H180v160Zm440 0h160v-160H620v160Z\"/>\n",
              "  </svg>\n",
              "    </button>\n",
              "\n",
              "  <style>\n",
              "    .colab-df-container {\n",
              "      display:flex;\n",
              "      gap: 12px;\n",
              "    }\n",
              "\n",
              "    .colab-df-convert {\n",
              "      background-color: #E8F0FE;\n",
              "      border: none;\n",
              "      border-radius: 50%;\n",
              "      cursor: pointer;\n",
              "      display: none;\n",
              "      fill: #1967D2;\n",
              "      height: 32px;\n",
              "      padding: 0 0 0 0;\n",
              "      width: 32px;\n",
              "    }\n",
              "\n",
              "    .colab-df-convert:hover {\n",
              "      background-color: #E2EBFA;\n",
              "      box-shadow: 0px 1px 2px rgba(60, 64, 67, 0.3), 0px 1px 3px 1px rgba(60, 64, 67, 0.15);\n",
              "      fill: #174EA6;\n",
              "    }\n",
              "\n",
              "    .colab-df-buttons div {\n",
              "      margin-bottom: 4px;\n",
              "    }\n",
              "\n",
              "    [theme=dark] .colab-df-convert {\n",
              "      background-color: #3B4455;\n",
              "      fill: #D2E3FC;\n",
              "    }\n",
              "\n",
              "    [theme=dark] .colab-df-convert:hover {\n",
              "      background-color: #434B5C;\n",
              "      box-shadow: 0px 1px 3px 1px rgba(0, 0, 0, 0.15);\n",
              "      filter: drop-shadow(0px 1px 2px rgba(0, 0, 0, 0.3));\n",
              "      fill: #FFFFFF;\n",
              "    }\n",
              "  </style>\n",
              "\n",
              "    <script>\n",
              "      const buttonEl =\n",
              "        document.querySelector('#df-b1340663-c840-4343-b726-a6482ebfd857 button.colab-df-convert');\n",
              "      buttonEl.style.display =\n",
              "        google.colab.kernel.accessAllowed ? 'block' : 'none';\n",
              "\n",
              "      async function convertToInteractive(key) {\n",
              "        const element = document.querySelector('#df-b1340663-c840-4343-b726-a6482ebfd857');\n",
              "        const dataTable =\n",
              "          await google.colab.kernel.invokeFunction('convertToInteractive',\n",
              "                                                    [key], {});\n",
              "        if (!dataTable) return;\n",
              "\n",
              "        const docLinkHtml = 'Like what you see? Visit the ' +\n",
              "          '<a target=\"_blank\" href=https://colab.research.google.com/notebooks/data_table.ipynb>data table notebook</a>'\n",
              "          + ' to learn more about interactive tables.';\n",
              "        element.innerHTML = '';\n",
              "        dataTable['output_type'] = 'display_data';\n",
              "        await google.colab.output.renderOutput(dataTable, element);\n",
              "        const docLink = document.createElement('div');\n",
              "        docLink.innerHTML = docLinkHtml;\n",
              "        element.appendChild(docLink);\n",
              "      }\n",
              "    </script>\n",
              "  </div>\n",
              "\n",
              "\n",
              "<div id=\"df-4208e210-365d-449d-ba7d-f814d529d3d4\">\n",
              "  <button class=\"colab-df-quickchart\" onclick=\"quickchart('df-4208e210-365d-449d-ba7d-f814d529d3d4')\"\n",
              "            title=\"Suggest charts.\"\n",
              "            style=\"display:none;\">\n",
              "\n",
              "<svg xmlns=\"http://www.w3.org/2000/svg\" height=\"24px\"viewBox=\"0 0 24 24\"\n",
              "     width=\"24px\">\n",
              "    <g>\n",
              "        <path d=\"M19 3H5c-1.1 0-2 .9-2 2v14c0 1.1.9 2 2 2h14c1.1 0 2-.9 2-2V5c0-1.1-.9-2-2-2zM9 17H7v-7h2v7zm4 0h-2V7h2v10zm4 0h-2v-4h2v4z\"/>\n",
              "    </g>\n",
              "</svg>\n",
              "  </button>\n",
              "\n",
              "<style>\n",
              "  .colab-df-quickchart {\n",
              "    background-color: #E8F0FE;\n",
              "    border: none;\n",
              "    border-radius: 50%;\n",
              "    cursor: pointer;\n",
              "    display: none;\n",
              "    fill: #1967D2;\n",
              "    height: 32px;\n",
              "    padding: 0 0 0 0;\n",
              "    width: 32px;\n",
              "  }\n",
              "\n",
              "  .colab-df-quickchart:hover {\n",
              "    background-color: #E2EBFA;\n",
              "    box-shadow: 0px 1px 2px rgba(60, 64, 67, 0.3), 0px 1px 3px 1px rgba(60, 64, 67, 0.15);\n",
              "    fill: #174EA6;\n",
              "  }\n",
              "\n",
              "  [theme=dark] .colab-df-quickchart {\n",
              "    background-color: #3B4455;\n",
              "    fill: #D2E3FC;\n",
              "  }\n",
              "\n",
              "  [theme=dark] .colab-df-quickchart:hover {\n",
              "    background-color: #434B5C;\n",
              "    box-shadow: 0px 1px 3px 1px rgba(0, 0, 0, 0.15);\n",
              "    filter: drop-shadow(0px 1px 2px rgba(0, 0, 0, 0.3));\n",
              "    fill: #FFFFFF;\n",
              "  }\n",
              "</style>\n",
              "\n",
              "  <script>\n",
              "    async function quickchart(key) {\n",
              "      const charts = await google.colab.kernel.invokeFunction(\n",
              "          'suggestCharts', [key], {});\n",
              "    }\n",
              "    (() => {\n",
              "      let quickchartButtonEl =\n",
              "        document.querySelector('#df-4208e210-365d-449d-ba7d-f814d529d3d4 button');\n",
              "      quickchartButtonEl.style.display =\n",
              "        google.colab.kernel.accessAllowed ? 'block' : 'none';\n",
              "    })();\n",
              "  </script>\n",
              "</div>\n",
              "    </div>\n",
              "  </div>\n"
            ]
          },
          "metadata": {},
          "execution_count": 18
        }
      ]
    },
    {
      "cell_type": "code",
      "source": [
        "X_train, X_test, y_train, y_test = train_test_split(\n",
        "    X,\n",
        "    y,\n",
        "    train_size=0.8,\n",
        "    random_state=12354,\n",
        "    shuffle=True,\n",
        "    stratify=y\n",
        "    )"
      ],
      "metadata": {
        "id": "qWSCl1sriJzY"
      },
      "execution_count": 19,
      "outputs": []
    },
    {
      "cell_type": "code",
      "source": [
        "def componentes_principales(data:object,\n",
        "                            min_explained_variance:int=0.85,\n",
        "                            min_component:int=3,\n",
        "                            **kwards)->tuple:\n",
        "  \"\"\"simple method of PCA, that return data transform\"\"\"\n",
        "  final_comp = 0\n",
        "  for comp in range(min_component, data.shape[1]):\n",
        "    pca = PCA(n_components=comp, **kwards)\n",
        "    pca.fit(data)\n",
        "    comp_check = pca.explained_variance_ratio_\n",
        "    final_comp = comp\n",
        "    if comp_check.sum() >= min_explained_variance:\n",
        "      break\n",
        "\n",
        "  final_pca = PCA(n_components=final_comp, **kwards)\n",
        "  final_pca.fit(data)\n",
        "  data_df = final_pca.transform(data)\n",
        "  info = \"Using {} components, we can explain {}% of the variability\\\n",
        "  in the original data.\".format(final_comp,comp_check.sum())\n",
        "\n",
        "  return data_df, final_pca, info\n"
      ],
      "metadata": {
        "id": "2spEdE_oitbL"
      },
      "execution_count": 20,
      "outputs": []
    },
    {
      "cell_type": "code",
      "source": [
        "model = DecisionTreeClassifier(\n",
        "    criterion = 'gini',\n",
        "    splitter = 'best',\n",
        "    max_depth = 3,\n",
        "    min_samples_leaf = 5,\n",
        "    random_state = 12354\n",
        ")"
      ],
      "metadata": {
        "id": "2CxvLOYdn1qy"
      },
      "execution_count": 21,
      "outputs": []
    },
    {
      "cell_type": "code",
      "source": [
        "model.fit(X_train, y_train)\n",
        "y_predict_train = model.predict(X_train)\n",
        "y_predict_test = model.predict(X_test)"
      ],
      "metadata": {
        "id": "z-cp5wZyoquJ"
      },
      "execution_count": 22,
      "outputs": []
    },
    {
      "cell_type": "code",
      "source": [
        "tree.plot_tree(model)\n",
        "plt.show()"
      ],
      "metadata": {
        "id": "0ns7S3ZXogQB",
        "outputId": "93978db9-e76c-4c69-e85f-6d5cc1c31ada",
        "colab": {
          "base_uri": "https://localhost:8080/",
          "height": 406
        }
      },
      "execution_count": 23,
      "outputs": [
        {
          "output_type": "display_data",
          "data": {
            "text/plain": [
              "<Figure size 640x480 with 1 Axes>"
            ],
            "image/png": "[encoded data removed]"
          },
          "metadata": {}
        }
      ]
    },
    {
      "cell_type": "code",
      "source": [
        "X.columns"
      ],
      "metadata": {
        "id": "N0Vf2-X7cCeV",
        "outputId": "676d1897-213c-4804-b06f-827183c3af12",
        "colab": {
          "base_uri": "https://localhost:8080/"
        }
      },
      "execution_count": 29,
      "outputs": [
        {
          "output_type": "execute_result",
          "data": {
            "text/plain": [
              "Index(['p1_d', 'p2_d', 'p3_d', 'min_d', '#sp', 'first_sp', 'second_sp',\n",
              "       'first_dp', 'second_dp', 'p2_ip'],\n",
              "      dtype='object')"
            ]
          },
          "metadata": {},
          "execution_count": 29
        }
      ]
    },
    {
      "cell_type": "code",
      "source": [
        "with open(\"./data/miner.dot\", \"w\") as dotfile:\n",
        "  tree.export_graphviz(model, out_file=dotfile, feature_names=X.columns)\n",
        "  dotfile.close()"
      ],
      "metadata": {
        "id": "sV6Hqqjva9J5"
      },
      "execution_count": 30,
      "outputs": []
    },
    {
      "cell_type": "code",
      "source": [
        "!pip install graphviz"
      ],
      "metadata": {
        "id": "7TYoPkfTcWnD",
        "outputId": "5433673e-2d88-4b66-d1ce-78cb3a06ae29",
        "colab": {
          "base_uri": "https://localhost:8080/"
        }
      },
      "execution_count": 32,
      "outputs": [
        {
          "output_type": "stream",
          "name": "stdout",
          "text": [
            "Requirement already satisfied: graphviz in /usr/local/lib/python3.10/dist-packages (0.20.1)\n"
          ]
        }
      ]
    },
    {
      "cell_type": "code",
      "source": [
        "import os\n",
        "from graphviz import Source"
      ],
      "metadata": {
        "id": "Dpt_9-9wcLCf"
      },
      "execution_count": 34,
      "outputs": []
    },
    {
      "cell_type": "code",
      "source": [
        "file_dot = open(\"./data/miner.dot\", \"r\")\n",
        "text = file_dot.read()\n",
        "text"
      ],
      "metadata": {
        "id": "Pv2GOgRtcggb",
        "outputId": "70a45e20-3c00-429b-964f-d1d8ea87820f",
        "colab": {
          "base_uri": "https://localhost:8080/",
          "height": 105
        }
      },
      "execution_count": 35,
      "outputs": [
        {
          "output_type": "execute_result",
          "data": {
            "text/plain": [
              "'digraph Tree {\\nnode [shape=box, fontname=\"helvetica\"] ;\\nedge [fontname=\"helvetica\"] ;\\n0 [label=\"p2_d <= 247.48\\\\ngini = 0.5\\\\nsamples = 408\\\\nvalue = [198, 210]\"] ;\\n1 [label=\"second_dp <= 56311.0\\\\ngini = 0.116\\\\nsamples = 210\\\\nvalue = [197, 13]\"] ;\\n0 -> 1 [labeldistance=2.5, labelangle=45, headlabel=\"True\"] ;\\n2 [label=\"first_dp <= 3332.5\\\\ngini = 0.057\\\\nsamples = 203\\\\nvalue = [197, 6]\"] ;\\n1 -> 2 ;\\n3 [label=\"gini = 0.0\\\\nsamples = 181\\\\nvalue = [181, 0]\"] ;\\n2 -> 3 ;\\n4 [label=\"gini = 0.397\\\\nsamples = 22\\\\nvalue = [16, 6]\"] ;\\n2 -> 4 ;\\n5 [label=\"gini = 0.0\\\\nsamples = 7\\\\nvalue = [0, 7]\"] ;\\n1 -> 5 ;\\n6 [label=\"second_dp <= 51776.0\\\\ngini = 0.01\\\\nsamples = 198\\\\nvalue = [1, 197]\"] ;\\n0 -> 6 [labeldistance=2.5, labelangle=-45, headlabel=\"False\"] ;\\n7 [label=\"p2_ip <= 26.75\\\\ngini = 0.124\\\\nsamples = 15\\\\nvalue = [1, 14]\"] ;\\n6 -> 7 ;\\n8 [label=\"gini = 0.278\\\\nsamples = 6\\\\nvalue = [1, 5]\"] ;\\n7 -> 8 ;\\n9 [label=\"gini = 0.0\\\\nsamples = 9\\\\nvalue = [0, 9]\"] ;\\n7 -> 9 ;\\n10 [label=\"gini = 0.0\\\\nsamples = 183\\\\nvalue = [0, 183]\"] ;\\n6 -> 10 ;\\n}'"
            ],
            "application/vnd.google.colaboratory.intrinsic+json": {
              "type": "string"
            }
          },
          "metadata": {},
          "execution_count": 35
        }
      ]
    },
    {
      "cell_type": "code",
      "source": [
        "Source(text)"
      ],
      "metadata": {
        "id": "xN8PB7npctfV",
        "outputId": "7260837a-6ecc-4a58-9eb1-9023e1d5343d",
        "colab": {
          "base_uri": "https://localhost:8080/",
          "height": 519
        }
      },
      "execution_count": 37,
      "outputs": [
        {
          "output_type": "execute_result",
          "data": {
            "image/svg+xml": "<?xml version=\"1.0\" encoding=\"UTF-8\" standalone=\"no\"?>\n<!DOCTYPE svg PUBLIC \"-//W3C//DTD SVG 1.1//EN\"\n \"http://www.w3.org/Graphics/SVG/1.1/DTD/svg11.dtd\">\n<!-- Generated by graphviz version 2.43.0 (0)\n -->\n<!-- Title: Tree Pages: 1 -->\n<svg width=\"573pt\" height=\"373pt\"\n viewBox=\"0.00 0.00 573.00 373.00\" xmlns=\"http://www.w3.org/2000/svg\" xmlns:xlink=\"http://www.w3.org/1999/xlink\">\n<g id=\"graph0\" class=\"graph\" transform=\"scale(1 1) rotate(0) translate(4 369)\">\n<title>Tree</title>\n<polygon fill=\"white\" stroke=\"transparent\" points=\"-4,4 -4,-369 569,-369 569,4 -4,4\"/>\n<!-- 0 -->\n<g id=\"node1\" class=\"node\">\n<title>0</title>\n<polygon fill=\"none\" stroke=\"black\" points=\"371.5,-365 246.5,-365 246.5,-297 371.5,-297 371.5,-365\"/>\n<text text-anchor=\"middle\" x=\"309\" y=\"-349.8\" font-family=\"Helvetica,sans-Serif\" font-size=\"14.00\">p2_d &lt;= 247.48</text>\n<text text-anchor=\"middle\" x=\"309\" y=\"-334.8\" font-family=\"Helvetica,sans-Serif\" font-size=\"14.00\">gini = 0.5</text>\n<text text-anchor=\"middle\" x=\"309\" y=\"-319.8\" font-family=\"Helvetica,sans-Serif\" font-size=\"14.00\">samples = 408</text>\n<text text-anchor=\"middle\" x=\"309\" y=\"-304.8\" font-family=\"Helvetica,sans-Serif\" font-size=\"14.00\">value = [198, 210]</text>\n</g>\n<!-- 1 -->\n<g id=\"node2\" class=\"node\">\n<title>1</title>\n<polygon fill=\"none\" stroke=\"black\" points=\"300.5,-261 145.5,-261 145.5,-193 300.5,-193 300.5,-261\"/>\n<text text-anchor=\"middle\" x=\"223\" y=\"-245.8\" font-family=\"Helvetica,sans-Serif\" font-size=\"14.00\">second_dp &lt;= 56311.0</text>\n<text text-anchor=\"middle\" x=\"223\" y=\"-230.8\" font-family=\"Helvetica,sans-Serif\" font-size=\"14.00\">gini = 0.116</text>\n<text text-anchor=\"middle\" x=\"223\" y=\"-215.8\" font-family=\"Helvetica,sans-Serif\" font-size=\"14.00\">samples = 210</text>\n<text text-anchor=\"middle\" x=\"223\" y=\"-200.8\" font-family=\"Helvetica,sans-Serif\" font-size=\"14.00\">value = [197, 13]</text>\n</g>\n<!-- 0&#45;&gt;1 -->\n<g id=\"edge1\" class=\"edge\">\n<title>0&#45;&gt;1</title>\n<path fill=\"none\" stroke=\"black\" d=\"M281.08,-296.88C273.57,-287.98 265.36,-278.24 257.53,-268.96\"/>\n<polygon fill=\"black\" stroke=\"black\" points=\"260.2,-266.69 251.08,-261.3 254.85,-271.2 260.2,-266.69\"/>\n<text text-anchor=\"middle\" x=\"248.96\" y=\"-282.51\" font-family=\"Helvetica,sans-Serif\" font-size=\"14.00\">True</text>\n</g>\n<!-- 6 -->\n<g id=\"node7\" class=\"node\">\n<title>6</title>\n<polygon fill=\"none\" stroke=\"black\" points=\"473.5,-261 318.5,-261 318.5,-193 473.5,-193 473.5,-261\"/>\n<text text-anchor=\"middle\" x=\"396\" y=\"-245.8\" font-family=\"Helvetica,sans-Serif\" font-size=\"14.00\">second_dp &lt;= 51776.0</text>\n<text text-anchor=\"middle\" x=\"396\" y=\"-230.8\" font-family=\"Helvetica,sans-Serif\" font-size=\"14.00\">gini = 0.01</text>\n<text text-anchor=\"middle\" x=\"396\" y=\"-215.8\" font-family=\"Helvetica,sans-Serif\" font-size=\"14.00\">samples = 198</text>\n<text text-anchor=\"middle\" x=\"396\" y=\"-200.8\" font-family=\"Helvetica,sans-Serif\" font-size=\"14.00\">value = [1, 197]</text>\n</g>\n<!-- 0&#45;&gt;6 -->\n<g id=\"edge6\" class=\"edge\">\n<title>0&#45;&gt;6</title>\n<path fill=\"none\" stroke=\"black\" d=\"M337.25,-296.88C344.84,-287.98 353.15,-278.24 361.07,-268.96\"/>\n<polygon fill=\"black\" stroke=\"black\" points=\"363.77,-271.18 367.6,-261.3 358.45,-266.64 363.77,-271.18\"/>\n<text text-anchor=\"middle\" x=\"369.58\" y=\"-282.52\" font-family=\"Helvetica,sans-Serif\" font-size=\"14.00\">False</text>\n</g>\n<!-- 2 -->\n<g id=\"node3\" class=\"node\">\n<title>2</title>\n<polygon fill=\"none\" stroke=\"black\" points=\"171,-157 45,-157 45,-89 171,-89 171,-157\"/>\n<text text-anchor=\"middle\" x=\"108\" y=\"-141.8\" font-family=\"Helvetica,sans-Serif\" font-size=\"14.00\">first_dp &lt;= 3332.5</text>\n<text text-anchor=\"middle\" x=\"108\" y=\"-126.8\" font-family=\"Helvetica,sans-Serif\" font-size=\"14.00\">gini = 0.057</text>\n<text text-anchor=\"middle\" x=\"108\" y=\"-111.8\" font-family=\"Helvetica,sans-Serif\" font-size=\"14.00\">samples = 203</text>\n<text text-anchor=\"middle\" x=\"108\" y=\"-96.8\" font-family=\"Helvetica,sans-Serif\" font-size=\"14.00\">value = [197, 6]</text>\n</g>\n<!-- 1&#45;&gt;2 -->\n<g id=\"edge2\" class=\"edge\">\n<title>1&#45;&gt;2</title>\n<path fill=\"none\" stroke=\"black\" d=\"M185.66,-192.88C175.32,-183.71 163.98,-173.65 153.24,-164.12\"/>\n<polygon fill=\"black\" stroke=\"black\" points=\"155.35,-161.32 145.54,-157.3 150.7,-166.55 155.35,-161.32\"/>\n</g>\n<!-- 5 -->\n<g id=\"node6\" class=\"node\">\n<title>5</title>\n<polygon fill=\"none\" stroke=\"black\" points=\"284.5,-149.5 189.5,-149.5 189.5,-96.5 284.5,-96.5 284.5,-149.5\"/>\n<text text-anchor=\"middle\" x=\"237\" y=\"-134.3\" font-family=\"Helvetica,sans-Serif\" font-size=\"14.00\">gini = 0.0</text>\n<text text-anchor=\"middle\" x=\"237\" y=\"-119.3\" font-family=\"Helvetica,sans-Serif\" font-size=\"14.00\">samples = 7</text>\n<text text-anchor=\"middle\" x=\"237\" y=\"-104.3\" font-family=\"Helvetica,sans-Serif\" font-size=\"14.00\">value = [0, 7]</text>\n</g>\n<!-- 1&#45;&gt;5 -->\n<g id=\"edge5\" class=\"edge\">\n<title>1&#45;&gt;5</title>\n<path fill=\"none\" stroke=\"black\" d=\"M227.55,-192.88C229.01,-182.22 230.64,-170.35 232.12,-159.52\"/>\n<polygon fill=\"black\" stroke=\"black\" points=\"235.6,-159.9 233.5,-149.52 228.67,-158.95 235.6,-159.9\"/>\n</g>\n<!-- 3 -->\n<g id=\"node4\" class=\"node\">\n<title>3</title>\n<polygon fill=\"none\" stroke=\"black\" points=\"110,-53 0,-53 0,0 110,0 110,-53\"/>\n<text text-anchor=\"middle\" x=\"55\" y=\"-37.8\" font-family=\"Helvetica,sans-Serif\" font-size=\"14.00\">gini = 0.0</text>\n<text text-anchor=\"middle\" x=\"55\" y=\"-22.8\" font-family=\"Helvetica,sans-Serif\" font-size=\"14.00\">samples = 181</text>\n<text text-anchor=\"middle\" x=\"55\" y=\"-7.8\" font-family=\"Helvetica,sans-Serif\" font-size=\"14.00\">value = [181, 0]</text>\n</g>\n<!-- 2&#45;&gt;3 -->\n<g id=\"edge3\" class=\"edge\">\n<title>2&#45;&gt;3</title>\n<path fill=\"none\" stroke=\"black\" d=\"M89.46,-88.95C84.59,-80.26 79.32,-70.86 74.4,-62.09\"/>\n<polygon fill=\"black\" stroke=\"black\" points=\"77.38,-60.25 69.43,-53.24 71.27,-63.67 77.38,-60.25\"/>\n</g>\n<!-- 4 -->\n<g id=\"node5\" class=\"node\">\n<title>4</title>\n<polygon fill=\"none\" stroke=\"black\" points=\"230,-53 128,-53 128,0 230,0 230,-53\"/>\n<text text-anchor=\"middle\" x=\"179\" y=\"-37.8\" font-family=\"Helvetica,sans-Serif\" font-size=\"14.00\">gini = 0.397</text>\n<text text-anchor=\"middle\" x=\"179\" y=\"-22.8\" font-family=\"Helvetica,sans-Serif\" font-size=\"14.00\">samples = 22</text>\n<text text-anchor=\"middle\" x=\"179\" y=\"-7.8\" font-family=\"Helvetica,sans-Serif\" font-size=\"14.00\">value = [16, 6]</text>\n</g>\n<!-- 2&#45;&gt;4 -->\n<g id=\"edge4\" class=\"edge\">\n<title>2&#45;&gt;4</title>\n<path fill=\"none\" stroke=\"black\" d=\"M132.83,-88.95C139.57,-79.98 146.87,-70.27 153.63,-61.26\"/>\n<polygon fill=\"black\" stroke=\"black\" points=\"156.45,-63.33 159.66,-53.24 150.86,-59.13 156.45,-63.33\"/>\n</g>\n<!-- 7 -->\n<g id=\"node8\" class=\"node\">\n<title>7</title>\n<polygon fill=\"none\" stroke=\"black\" points=\"436.5,-157 329.5,-157 329.5,-89 436.5,-89 436.5,-157\"/>\n<text text-anchor=\"middle\" x=\"383\" y=\"-141.8\" font-family=\"Helvetica,sans-Serif\" font-size=\"14.00\">p2_ip &lt;= 26.75</text>\n<text text-anchor=\"middle\" x=\"383\" y=\"-126.8\" font-family=\"Helvetica,sans-Serif\" font-size=\"14.00\">gini = 0.124</text>\n<text text-anchor=\"middle\" x=\"383\" y=\"-111.8\" font-family=\"Helvetica,sans-Serif\" font-size=\"14.00\">samples = 15</text>\n<text text-anchor=\"middle\" x=\"383\" y=\"-96.8\" font-family=\"Helvetica,sans-Serif\" font-size=\"14.00\">value = [1, 14]</text>\n</g>\n<!-- 6&#45;&gt;7 -->\n<g id=\"edge7\" class=\"edge\">\n<title>6&#45;&gt;7</title>\n<path fill=\"none\" stroke=\"black\" d=\"M391.78,-192.88C390.75,-184.78 389.63,-175.98 388.54,-167.47\"/>\n<polygon fill=\"black\" stroke=\"black\" points=\"391.98,-166.78 387.24,-157.3 385.04,-167.66 391.98,-166.78\"/>\n</g>\n<!-- 10 -->\n<g id=\"node11\" class=\"node\">\n<title>10</title>\n<polygon fill=\"none\" stroke=\"black\" points=\"565,-149.5 455,-149.5 455,-96.5 565,-96.5 565,-149.5\"/>\n<text text-anchor=\"middle\" x=\"510\" y=\"-134.3\" font-family=\"Helvetica,sans-Serif\" font-size=\"14.00\">gini = 0.0</text>\n<text text-anchor=\"middle\" x=\"510\" y=\"-119.3\" font-family=\"Helvetica,sans-Serif\" font-size=\"14.00\">samples = 183</text>\n<text text-anchor=\"middle\" x=\"510\" y=\"-104.3\" font-family=\"Helvetica,sans-Serif\" font-size=\"14.00\">value = [0, 183]</text>\n</g>\n<!-- 6&#45;&gt;10 -->\n<g id=\"edge10\" class=\"edge\">\n<title>6&#45;&gt;10</title>\n<path fill=\"none\" stroke=\"black\" d=\"M433.01,-192.88C446.16,-181.12 460.94,-167.89 474.01,-156.2\"/>\n<polygon fill=\"black\" stroke=\"black\" points=\"476.36,-158.8 481.48,-149.52 471.69,-153.58 476.36,-158.8\"/>\n</g>\n<!-- 8 -->\n<g id=\"node9\" class=\"node\">\n<title>8</title>\n<polygon fill=\"none\" stroke=\"black\" points=\"373.5,-53 278.5,-53 278.5,0 373.5,0 373.5,-53\"/>\n<text text-anchor=\"middle\" x=\"326\" y=\"-37.8\" font-family=\"Helvetica,sans-Serif\" font-size=\"14.00\">gini = 0.278</text>\n<text text-anchor=\"middle\" x=\"326\" y=\"-22.8\" font-family=\"Helvetica,sans-Serif\" font-size=\"14.00\">samples = 6</text>\n<text text-anchor=\"middle\" x=\"326\" y=\"-7.8\" font-family=\"Helvetica,sans-Serif\" font-size=\"14.00\">value = [1, 5]</text>\n</g>\n<!-- 7&#45;&gt;8 -->\n<g id=\"edge8\" class=\"edge\">\n<title>7&#45;&gt;8</title>\n<path fill=\"none\" stroke=\"black\" d=\"M363.06,-88.95C357.77,-80.17 352.03,-70.66 346.7,-61.82\"/>\n<polygon fill=\"black\" stroke=\"black\" points=\"349.69,-59.99 341.52,-53.24 343.69,-63.61 349.69,-59.99\"/>\n</g>\n<!-- 9 -->\n<g id=\"node10\" class=\"node\">\n<title>9</title>\n<polygon fill=\"none\" stroke=\"black\" points=\"486.5,-53 391.5,-53 391.5,0 486.5,0 486.5,-53\"/>\n<text text-anchor=\"middle\" x=\"439\" y=\"-37.8\" font-family=\"Helvetica,sans-Serif\" font-size=\"14.00\">gini = 0.0</text>\n<text text-anchor=\"middle\" x=\"439\" y=\"-22.8\" font-family=\"Helvetica,sans-Serif\" font-size=\"14.00\">samples = 9</text>\n<text text-anchor=\"middle\" x=\"439\" y=\"-7.8\" font-family=\"Helvetica,sans-Serif\" font-size=\"14.00\">value = [0, 9]</text>\n</g>\n<!-- 7&#45;&gt;9 -->\n<g id=\"edge9\" class=\"edge\">\n<title>7&#45;&gt;9</title>\n<path fill=\"none\" stroke=\"black\" d=\"M402.59,-88.95C407.74,-80.26 413.3,-70.86 418.5,-62.09\"/>\n<polygon fill=\"black\" stroke=\"black\" points=\"421.66,-63.62 423.75,-53.24 415.64,-60.06 421.66,-63.62\"/>\n</g>\n</g>\n</svg>\n",
            "text/plain": [
              "<graphviz.sources.Source at 0x7d7f5d1a0b50>"
            ]
          },
          "metadata": {},
          "execution_count": 37
        }
      ]
    },
    {
      "cell_type": "code",
      "source": [
        "import matplotlib.cm\n",
        "print(matplotlib.cm)"
      ],
      "metadata": {
        "id": "Eu8W9_JNyaPR"
      },
      "execution_count": null,
      "outputs": []
    },
    {
      "cell_type": "code",
      "source": [
        "def matrix_confusion(\n",
        "    y_true:pd.Series,\n",
        "    y_pred:pd.Series,\n",
        "    labels:list=None,\n",
        "    title:str='confusion matrix', **kwards)->None:\n",
        "  \"confusion matrix\"\n",
        "  try:\n",
        "    churm = metrics.confusion_matrix(y_true, y_pred, labels=labels)\n",
        "    fig, ax = plt.subplots(nrows=1, ncols=1, figsize=(8, 6))\n",
        "    sns.heatmap(churm, annot=True,  ax=ax, fmt='g', **kwards)\n",
        "    ax.set_title(title,size=20)\n",
        "    ax.xaxis.set_ticklabels(['False','True'])\n",
        "    ax.yaxis.set_ticklabels(['False','True'])\n",
        "    ax.tick_params(labelsize = 12)\n",
        "  except Exception as e:\n",
        "    print(e)"
      ],
      "metadata": {
        "id": "BSWkdxcNrmjR"
      },
      "execution_count": null,
      "outputs": []
    },
    {
      "cell_type": "code",
      "source": [
        "kward={\"cmap\":\"RdBu\",  \"annot_kws\":{'size': 12}}\n",
        "matrix_confusion(y_train, y_predict_train, title='confusion matrix', **kward)"
      ],
      "metadata": {
        "id": "3nztEWPr_Lbj"
      },
      "execution_count": null,
      "outputs": []
    },
    {
      "cell_type": "code",
      "source": [
        "kward={\"cmap\":plt.cm.copper_r,  \"annot_kws\":{'size': 12}}\n",
        "matrix_confusion(y_test, y_predict_test, title='confusion matrix', **kward)"
      ],
      "metadata": {
        "id": "8cyijKqcqfMr"
      },
      "execution_count": null,
      "outputs": []
    },
    {
      "cell_type": "markdown",
      "source": [
        "- A partir de la matriz de confusión, se evidencia que el modelo se equivocó 5 veces en la distinción en registros de bitcoín y litecoin."
      ],
      "metadata": {
        "id": "FOLbgpbvrI6z"
      }
    },
    {
      "cell_type": "markdown",
      "source": [
        "Se utiliza la exactitud, ya que la distinción de uno o el otro no tiene un impacto crítico, como para usar la sensibilidad o el f1-score, Además el propósito no es determinar una clase en particular, como para usar la precisión"
      ],
      "metadata": {
        "id": "TxXQa3N9ueK6"
      }
    },
    {
      "cell_type": "code",
      "source": [
        " accuracy_me = metrics.accuracy_score(y_test, y_predict_test)\n",
        " accuracy_me"
      ],
      "metadata": {
        "id": "gVaHYfi4uLDj"
      },
      "execution_count": null,
      "outputs": []
    },
    {
      "cell_type": "code",
      "source": [
        " accuracy_me = metrics.accuracy_score(y_train, y_predict_train)\n",
        " accuracy_me"
      ],
      "metadata": {
        "id": "YsdqmF3C_Ran"
      },
      "execution_count": null,
      "outputs": []
    },
    {
      "cell_type": "markdown",
      "source": [
        "- El modelo tiene un buen rendimiento para distinguir trafico de red entre bitcoin y litecoin, aunque parece haber un pequeño sobreajuste"
      ],
      "metadata": {
        "id": "HUsVy__KvCw5"
      }
    },
    {
      "cell_type": "markdown",
      "source": [
        "# **Pospoda**\n",
        "---\n",
        "**Cost Complexity Pruning**\n",
        "La poda de complejidad de costos se trata de encontrar el parámetro correcto para alfa."
      ],
      "metadata": {
        "id": "9h4Z4xDtzjAJ"
      }
    },
    {
      "cell_type": "code",
      "source": [
        "model = DecisionTreeClassifier(random_state=12354)\n",
        "model.fit(X_train, y_train)"
      ],
      "metadata": {
        "id": "lEGd4TVK0mmL"
      },
      "execution_count": null,
      "outputs": []
    },
    {
      "cell_type": "code",
      "source": [
        "tree.plot_tree(model)\n",
        "plt.show()"
      ],
      "metadata": {
        "id": "3nTD_597nfYe"
      },
      "execution_count": null,
      "outputs": []
    },
    {
      "cell_type": "code",
      "source": [
        "path = model.cost_complexity_pruning_path(X_train, y_train)\n",
        "path"
      ],
      "metadata": {
        "id": "gAJj_0ZL56oC"
      },
      "execution_count": null,
      "outputs": []
    },
    {
      "cell_type": "code",
      "source": [
        "ccp_alphas, impurities = path.ccp_alphas, path.impurities"
      ],
      "metadata": {
        "id": "20pTEjj69u6l"
      },
      "execution_count": null,
      "outputs": []
    },
    {
      "cell_type": "code",
      "source": [
        "ccp_alphas[:-1]"
      ],
      "metadata": {
        "id": "AtZElbSw-OKJ"
      },
      "execution_count": null,
      "outputs": []
    },
    {
      "cell_type": "code",
      "source": [
        "fig, ax = plt.subplots()\n",
        "ax.plot(ccp_alphas[:-1], impurities[:-1], marker=\"o\", drawstyle=\"steps-post\")\n",
        "ax.set_xlabel(\"effective alpha\")\n",
        "ax.set_ylabel(\"total impurity of leaves\")\n",
        "ax.set_title(\"Total Impurity vs effective alpha for training set\")"
      ],
      "metadata": {
        "id": "Ud9kwRkS98gn"
      },
      "execution_count": null,
      "outputs": []
    },
    {
      "cell_type": "code",
      "source": [
        "impurities"
      ],
      "metadata": {
        "id": "3eDSU2_r2r8a"
      },
      "execution_count": null,
      "outputs": []
    },
    {
      "cell_type": "code",
      "source": [
        "ccp_alphas"
      ],
      "metadata": {
        "id": "PsVuNRPr1wIz"
      },
      "execution_count": null,
      "outputs": []
    },
    {
      "cell_type": "code",
      "source": [
        "clfs = []\n",
        "for ccp_alpha in ccp_alphas:\n",
        "   clf = DecisionTreeClassifier(random_state=12354, ccp_alpha=ccp_alpha)\n",
        "   clf.fit(X_train, y_train)\n",
        "   clfs.append(clf)\n",
        "\n",
        "print(\n",
        "    \"Number of nodes in the last tree is: {} with ccp_alpha: {}\".format(\n",
        "        clfs[-1].tree_.node_count, ccp_alphas[-1]\n",
        "    )\n",
        ")\n",
        "\n",
        "print(clfs)"
      ],
      "metadata": {
        "id": "Pfz2Rv3Z-p3Z"
      },
      "execution_count": null,
      "outputs": []
    },
    {
      "cell_type": "code",
      "source": [
        "model.tree_.node_count"
      ],
      "metadata": {
        "id": "BhI92xIvAE6I"
      },
      "execution_count": null,
      "outputs": []
    },
    {
      "cell_type": "markdown",
      "source": [
        "Se ignora el ultimo alfa, ya que nos deja seguro la raiz del arbol, pues la penalización es agresiva."
      ],
      "metadata": {
        "id": "SnSHvldg_0lw"
      }
    },
    {
      "cell_type": "code",
      "source": [
        "clfss = clfs[:-1]\n",
        "ccp_alphass = ccp_alphas[:-1]\n",
        "# An array with contain of number nodes of each tree\n",
        "node_counts = [clf.tree_.node_count for clf in clfss]\n",
        "# An array with contain of the deep each tree\n",
        "depth = [clf.tree_.max_depth for clf in clfss]\n",
        "fig, ax = plt.subplots(2, 1)\n",
        "ax[0].plot(ccp_alphass, node_counts, marker=\"o\", drawstyle=\"steps-post\")\n",
        "ax[0].set_xlabel(\"alpha\")\n",
        "ax[0].set_ylabel(\"number of nodes\")\n",
        "ax[0].set_title(\"Number of nodes vs alpha\")\n",
        "ax[1].plot(ccp_alphass, depth, marker=\"o\", drawstyle=\"steps-post\")\n",
        "ax[1].set_xlabel(\"alpha\")\n",
        "ax[1].set_ylabel(\"depth of tree\")\n",
        "ax[1].set_title(\"Depth vs alpha\")\n",
        "fig.tight_layout()"
      ],
      "metadata": {
        "id": "gzcOwzH0_VVD"
      },
      "execution_count": null,
      "outputs": []
    },
    {
      "cell_type": "code",
      "source": [
        "train_scores = [clf.score(X_train, y_train) for clf in clfs[:-1]]\n",
        "test_scores = [clf.score(X_test, y_test) for clf in clfs[:-1]]\n",
        "\n",
        "fig, ax = plt.subplots()\n",
        "ax.set_xlabel(\"alpha\")\n",
        "ax.set_ylabel(\"accuracy\")\n",
        "ax.set_title(\"Accuracy vs alpha for training and testing sets\")\n",
        "ax.plot(ccp_alphas[:-1], train_scores, marker=\"o\", label=\"train\", drawstyle=\"steps-post\")\n",
        "ax.plot(ccp_alphas[:-1], test_scores, marker=\"o\", label=\"test\", drawstyle=\"steps-post\")\n",
        "ax.legend()\n",
        "plt.show()"
      ],
      "metadata": {
        "id": "tOCDaV6HBqFq"
      },
      "execution_count": null,
      "outputs": []
    },
    {
      "cell_type": "markdown",
      "source": [
        "- Seleccionamos el alpha 0.010 que permite la maxima exactitud de prueba del 99 junto a una exactitud del 99%."
      ],
      "metadata": {
        "id": "MgcwyHGaBdtS"
      }
    },
    {
      "cell_type": "code",
      "source": [
        "ccp_alphas"
      ],
      "metadata": {
        "id": "uosxO8AN2I7m"
      },
      "execution_count": null,
      "outputs": []
    },
    {
      "cell_type": "code",
      "source": [
        "model = DecisionTreeClassifier(random_state=12354, ccp_alpha=0.0098)\n",
        "model.fit(X_train, y_train)\n",
        "y_predict_train = model.predict(X_train)\n",
        "y_predict_test = model.predict(X_test)"
      ],
      "metadata": {
        "id": "rA4JM8Bs1LFM"
      },
      "execution_count": null,
      "outputs": []
    },
    {
      "cell_type": "code",
      "source": [
        "metrics.accuracy_score(y_train, y_predict_train)"
      ],
      "metadata": {
        "id": "qFurAK_02oyN"
      },
      "execution_count": null,
      "outputs": []
    },
    {
      "cell_type": "code",
      "source": [
        "metrics.accuracy_score(y_test, y_predict_test)"
      ],
      "metadata": {
        "id": "pdEIDc2w2pi0"
      },
      "execution_count": null,
      "outputs": []
    },
    {
      "cell_type": "code",
      "source": [
        "kward={\"cmap\":plt.cm.copper_r,  \"annot_kws\":{'size': 12}}\n",
        "matrix_confusion(y_test, y_predict_test, title='confusion matrix', **kward)"
      ],
      "metadata": {
        "id": "KjZk4R6XBMeT"
      },
      "execution_count": null,
      "outputs": []
    },
    {
      "cell_type": "markdown",
      "source": [
        "- Se debe recordar que el modelo se entrenó con un conjunto de datos pequeño, con técnicas de reducción de dimensionalidad, entre otros factores, permitieron que el modelo aprendiera de manera eficiente, y los efectos de la pos poda costo mínimo de complejidad, no se aprecie de manera significativa."
      ],
      "metadata": {
        "id": "rZTwSAMXCUQ0"
      }
    }
  ]
}