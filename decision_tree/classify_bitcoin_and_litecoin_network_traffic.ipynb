{
  "nbformat": 4,
  "nbformat_minor": 0,
  "metadata": {
    "colab": {
      "provenance": [],
      "authorship_tag": "ABX9TyPHj72wF+Hu9Z+xCgCESux1",
      "include_colab_link": true
    },
    "kernelspec": {
      "name": "python3",
      "display_name": "Python 3"
    },
    "language_info": {
      "name": "python"
    }
  },
  "cells": [
    {
      "cell_type": "markdown",
      "metadata": {
        "id": "view-in-github",
        "colab_type": "text"
      },
      "source": [
        "<a href=\"https://colab.research.google.com/github/Kaiziferr/machine_learning/blob/main/decision_tree/classify_bitcoin_and_litecoin_network_traffic.ipynb\" target=\"_parent\"><img src=\"https://colab.research.google.com/assets/colab-badge.svg\" alt=\"Open In Colab\"/></a>"
      ]
    },
    {
      "cell_type": "code",
      "execution_count": null,
      "metadata": {
        "id": "B5W6I0PNa5Nd"
      },
      "outputs": [],
      "source": [
        "import pandas as pd\n",
        "import seaborn as sns\n",
        "import matplotlib.pyplot as plt\n",
        "\n",
        "from sklearn.model_selection import train_test_split\n",
        "\n",
        "from sklearn.ensemble import ExtraTreesClassifier\n",
        "\n",
        "from sklearn.feature_selection import SelectFromModel\n",
        "from sklearn.decomposition import PCA\n",
        "\n",
        "from sklearn.tree import DecisionTreeClassifier"
      ]
    },
    {
      "cell_type": "markdown",
      "source": [
        "# **Funciones**\n",
        "---"
      ],
      "metadata": {
        "id": "0zMVwcSGXo3q"
      }
    },
    {
      "cell_type": "code",
      "source": [
        "sns.set(style=\"darkgrid\")\n",
        "\n",
        "\n",
        "from matplotlib.colors import ListedColormap\n",
        "\n",
        "def generate_colors(paleta=\"Set1\", n_colors=15):\n",
        "  \"\"\"Generador de colores\"\"\"\n",
        "  cmap = sns.color_palette(paleta, n_colors).as_hex()\n",
        "  list_camap = ListedColormap(cmap)\n",
        "  return cmap, list_camap\n",
        "\n",
        "def plot_bar(data, paleta = None, figsize_x=8,figsize_y=5,fontsize=15, **kwards)->None:\n",
        "  \"\"\"Grafica un diagrama de barras con multiples caracteristicas\"\"\"\n",
        "  paleta = paleta if paleta !=None else generate_colors()[0]\n",
        "  v = kwards\n",
        "  ejeX = v['ejeX']\n",
        "\n",
        "\n",
        "  fig, ax = plt.subplots(figsize = (figsize_x, figsize_y))\n",
        "  fig.suptitle(f'Diagrama de barras {v[\"title\"]}', fontsize=fontsize)\n",
        "\n",
        "  if type(v['ejeX']) == str:\n",
        "    sns.countplot(x=ejeX, data=data, ax = ax, palette=paleta)\n",
        "  else:\n",
        "    ejeX = v['ejeX'][0]\n",
        "    sns.countplot(x=ejeX,hue=v['ejeX'][1], data=data, ax = ax, palette=paleta)\n",
        "    \n",
        "\n",
        "  ax.set_ylabel(v['ejey'], size = 12)\n",
        "  ax.set_xlabel(ejeX, size=fontsize-3)\n",
        "  ax.set_xticklabels(ax.get_xticklabels(),fontsize = fontsize-3)\n",
        "  for p in ax.patches:\n",
        "    try:\n",
        "      height = int(p.get_height())\n",
        "      ax.text(p.get_x()+p.get_width()/2., height + 1,height, ha=\"center\") \n",
        "    except:\n",
        "      pass\n",
        "paleta = {\n",
        "    'Yangon': 'blue',\n",
        "    'Mandalay': 'red',\n",
        "    'Naypyitaw': 'orange'\n",
        "}"
      ],
      "metadata": {
        "id": "UvUlVvBNXoix"
      },
      "execution_count": null,
      "outputs": []
    },
    {
      "cell_type": "markdown",
      "source": [
        "# **Diccionario de datos**\n",
        "---\n",
        "- `Name`: nombre de la ventana de tiempo.\n",
        "- `Netflows`: cantidad de netflows en la ventana de tiempo.\n",
        "- `First_Protocol`: top 1 de protocolos usados en la ventana de tiempo.\n",
        "- `Second_Protocol`: top 2 de protocolos usados en la ventana de tiempo.\n",
        "- `Third_Protocol`: top 3 de protocolos usados en la ventana de tiempo.\n",
        "- `p1_d`: 25% de los percentiles de todas las duraciones en la ventana de tiempo\n",
        "- `p2_d`: 50% de los percentiles de todas las duraciones en la ventana de tiempo\n",
        "- `p3_d`: 75% de los percentiles de todas las duraciones en la ventana de tiempo\n",
        "- `duration`: duración total de la ventana de tiempo\n",
        "- `max_d`: valor máximo de todas las duraciones en la ventana de tiempo.\n",
        "- `min_d`: valor mínimo de todas las duraciones en la ventana de tiempo.\n",
        "- `#packets`: número total de paquetes en la ventana de tiempo.\n",
        "- `Avg_bps`: promedio de bits por segundo en la ventana de tiempo.\n",
        "- `Avg_pps`: promedio de paquetes por segundo en la ventana de tiempo.\n",
        "- `Avg_bpp`: promedio de bytes por paquete en la ventana de tiempo.\n",
        "- `#Bytes`: número total de bytes en la ventana de tiempo.\n",
        "- `#sp`: número total de puertos de origen usados en la ventana de tiempo.\n",
        "- `#dp`: número total de puertos de destino usados en la ventana de tiempo.\n",
        "- `first_sp`: top 1 de los puertos de origen en la ventana de tiempo.\n",
        "- `second_sp`: top 2 de los puertos de origen en la ventana de tiempo.\n",
        "- `third_sp`: top 3 de los puertos de origen en la ventana de tiempo.\n",
        "- `first_dp`: top 1 de los puertos de destino en la ventana de tiempo.\n",
        "- `second_dp`: top 2 de los puertos de destino en la ventana de tiempo.\n",
        "- `third_dp`: top 3 de los puertos de destino en la ventana de tiempo.\n",
        "- `p1_ip`: 25% de los percentiles de todas las entradas de paquetes en la ventana de tiempo.\n",
        "- `p2_ip`: 50% de los percentiles de todas las entradas de paquetes en la ventana de tiempo.\n",
        "- `p3_ip`: 75% de los percentiles de todas las entradas de paquetes en la ventana de tiempo.\n",
        "- `p1_ib`: 25% de los percentiles de todas las entradas de bytes en la ventana de tiempo.\n",
        "- `p2_ib`: 50% de los percentiles de todas las entradas de bytes en la ventana de tiempo.\n",
        "- `p3_ib`: 75% de los percentiles de todas las entradas de bytes en la ventana de tiempo.\n",
        "- `Type`: tipo de ventana de tiempo\n",
        "  - `benignas`: 0\n",
        "  - `bitcash`: 1\n",
        "  - `bitcoin`: 2\n",
        "  - `ethereum `: 3\n",
        "  - `monero`: 4\n",
        "  - `litecoin`: 5\n"
      ],
      "metadata": {
        "id": "OkpF3LjsW8Xp"
      }
    },
    {
      "cell_type": "markdown",
      "source": [
        "# **Data**\n",
        "---"
      ],
      "metadata": {
        "id": "3etcMeYyXhyx"
      }
    },
    {
      "cell_type": "code",
      "source": [
        "data = pd.read_csv('https://raw.githubusercontent.com/Kaiziferr/datasets/main/cryptojacking.csv')"
      ],
      "metadata": {
        "id": "Na8Iz-5nNG2V"
      },
      "execution_count": null,
      "outputs": []
    },
    {
      "cell_type": "code",
      "source": [
        "plot_bar(data, paleta=None, ejeX='Type',ejey='count Tipo Criptomonedas',title='Count Tipo Criptomonedas')"
      ],
      "metadata": {
        "colab": {
          "base_uri": "https://localhost:8080/",
          "height": 526
        },
        "id": "sEiFI_SaXnNr",
        "outputId": "4a7722bd-3a78-4840-f769-95fcd48a0f45"
      },
      "execution_count": null,
      "outputs": [
        {
          "output_type": "display_data",
          "data": {
            "text/plain": [
              "<Figure size 800x500 with 1 Axes>"
            ],
            "image/png": "[encoded data removed]"
          },
          "metadata": {}
        }
      ]
    },
    {
      "cell_type": "markdown",
      "source": [
        "# **Para el ejercicio, realizaremos una clasificación de trafico entre bitcoins y litecoin**"
      ],
      "metadata": {
        "id": "61UJjIJqY_Xx"
      }
    },
    {
      "cell_type": "code",
      "source": [
        "data_sample = data[(data.Type == 2) | (data.Type == 5)].drop('Unnamed: 0', axis=1)"
      ],
      "metadata": {
        "id": "UWfyMO4vZO99"
      },
      "execution_count": null,
      "outputs": []
    },
    {
      "cell_type": "code",
      "source": [
        "plot_bar(data_sample, paleta=None, ejeX='Type',ejey='count Tipo Criptomonedas',title='Bitcoins vs Litecoins')"
      ],
      "metadata": {
        "colab": {
          "base_uri": "https://localhost:8080/",
          "height": 526
        },
        "id": "Qg_TjyS2ZoDr",
        "outputId": "d3340efb-a464-469f-878f-69497e75dc75"
      },
      "execution_count": null,
      "outputs": [
        {
          "output_type": "display_data",
          "data": {
            "text/plain": [
              "<Figure size 800x500 with 1 Axes>"
            ],
            "image/png": "[encoded data removed]"
          },
          "metadata": {}
        }
      ]
    },
    {
      "cell_type": "markdown",
      "source": [
        "- El conjunto sufre un desbalance minimo"
      ],
      "metadata": {
        "id": "YaTPPlMXZvvB"
      }
    },
    {
      "cell_type": "code",
      "source": [
        "data_sample.isna().sum()"
      ],
      "metadata": {
        "colab": {
          "base_uri": "https://localhost:8080/"
        },
        "id": "S1-n2uv2d0Cx",
        "outputId": "127b0675-6294-4d4f-9e1d-591c7a2ea44d"
      },
      "execution_count": null,
      "outputs": [
        {
          "output_type": "execute_result",
          "data": {
            "text/plain": [
              "Name                 0\n",
              "Netflows             0\n",
              "First_Protocol       0\n",
              "Second_Protocol    514\n",
              "Third_Protocol     514\n",
              "p1_d                 0\n",
              "p2_d                 0\n",
              "p3_d                 0\n",
              "duration             0\n",
              "max_d                0\n",
              "min_d                0\n",
              "#packets             0\n",
              "Avg_bps              0\n",
              "Avg_pps              0\n",
              "Avg_bpp              0\n",
              "#Bytes               0\n",
              "#sp                  0\n",
              "#dp                  0\n",
              "first_sp             0\n",
              "second_sp            4\n",
              "third_sp           409\n",
              "first_dp             0\n",
              "second_dp            4\n",
              "third_dp           410\n",
              "p1_ip                0\n",
              "p2_ip                0\n",
              "p3_ip                0\n",
              "p1_ib                0\n",
              "p2_ib                0\n",
              "p3_ib                0\n",
              "Type                 0\n",
              "dtype: int64"
            ]
          },
          "metadata": {},
          "execution_count": 7
        }
      ]
    },
    {
      "cell_type": "markdown",
      "source": [
        "Por cuestiones del ejercicio se eliminaran las columnas de valores nulos"
      ],
      "metadata": {
        "id": "E-XplxEId9UP"
      }
    },
    {
      "cell_type": "code",
      "source": [
        "data_sample = data_sample.drop(['third_sp', 'third_dp'], axis=1)"
      ],
      "metadata": {
        "id": "M5qWrMF9eDc_"
      },
      "execution_count": null,
      "outputs": []
    },
    {
      "cell_type": "markdown",
      "source": [
        "# Data Split\n",
        "---"
      ],
      "metadata": {
        "id": "eKyRncGSaeF4"
      }
    },
    {
      "cell_type": "markdown",
      "source": [
        "Si bien se puede usar las variables categoricas, por fines del ejercicio se usaran las variables cuantitativas."
      ],
      "metadata": {
        "id": "9Nlw4Wddb7ey"
      }
    },
    {
      "cell_type": "code",
      "source": [
        "X = data_sample.select_dtypes(['int64', 'float64'])"
      ],
      "metadata": {
        "id": "DVYAHt2mdN05"
      },
      "execution_count": null,
      "outputs": []
    },
    {
      "cell_type": "code",
      "source": [
        "X = X.dropna()\n",
        "X.isna().sum()"
      ],
      "metadata": {
        "colab": {
          "base_uri": "https://localhost:8080/"
        },
        "id": "fy2bKo5MefDS",
        "outputId": "a759dd0f-1ff1-4bc8-d252-bb11f79400eb"
      },
      "execution_count": null,
      "outputs": [
        {
          "output_type": "execute_result",
          "data": {
            "text/plain": [
              "Netflows     0\n",
              "p1_d         0\n",
              "p2_d         0\n",
              "p3_d         0\n",
              "duration     0\n",
              "max_d        0\n",
              "min_d        0\n",
              "#packets     0\n",
              "Avg_bps      0\n",
              "Avg_pps      0\n",
              "Avg_bpp      0\n",
              "#Bytes       0\n",
              "#sp          0\n",
              "#dp          0\n",
              "first_sp     0\n",
              "second_sp    0\n",
              "first_dp     0\n",
              "second_dp    0\n",
              "p1_ip        0\n",
              "p2_ip        0\n",
              "p3_ip        0\n",
              "p1_ib        0\n",
              "p2_ib        0\n",
              "p3_ib        0\n",
              "Type         0\n",
              "dtype: int64"
            ]
          },
          "metadata": {},
          "execution_count": 10
        }
      ]
    },
    {
      "cell_type": "code",
      "source": [
        "y = X['Type']\n",
        "X = X.iloc[:, :-1]\n"
      ],
      "metadata": {
        "id": "ssF_YEKwagqw"
      },
      "execution_count": null,
      "outputs": []
    },
    {
      "cell_type": "markdown",
      "source": [
        "**Select the best features**\n"
      ],
      "metadata": {
        "id": "iDlyCPUVbQwa"
      }
    },
    {
      "cell_type": "markdown",
      "source": [
        "Se cambiara solo el criterio de impureza, en proximos ejercicios se implementaran otros hiperparametros. Se usa un ensamblador para encontrar las mejores caracteristicas."
      ],
      "metadata": {
        "id": "bI7_KBCuceqD"
      }
    },
    {
      "cell_type": "code",
      "source": [
        "model_best_feature_gini =  ExtraTreesClassifier(n_estimators=100, criterion='gini')"
      ],
      "metadata": {
        "id": "Lur_jIjcbQCh"
      },
      "execution_count": null,
      "outputs": []
    },
    {
      "cell_type": "code",
      "source": [
        "data_best_gini = model_best_feature_gini.fit(X, y)"
      ],
      "metadata": {
        "id": "iM6l-mIqddGx"
      },
      "execution_count": null,
      "outputs": []
    },
    {
      "cell_type": "markdown",
      "source": [
        "Seleccionamos las mejores caracteristicas, para implementar un metodo para la reducción de overfitting."
      ],
      "metadata": {
        "id": "5dLLsA9gi85g"
      }
    },
    {
      "cell_type": "code",
      "source": [
        "model = SelectFromModel(data_best_gini, prefit=True)\n",
        "best_features = X[X.columns[model.get_support(indices = True)]].columns\n",
        "best_features"
      ],
      "metadata": {
        "colab": {
          "base_uri": "https://localhost:8080/"
        },
        "id": "OSR6kHNvgGnk",
        "outputId": "aac32d60-3137-4540-a1f8-e140d235df48"
      },
      "execution_count": null,
      "outputs": [
        {
          "output_type": "execute_result",
          "data": {
            "text/plain": [
              "Index(['p1_d', 'p2_d', 'p3_d', 'max_d', 'min_d', 'first_sp', 'second_sp',\n",
              "       'first_dp', 'p2_ip', 'p1_ib'],\n",
              "      dtype='object')"
            ]
          },
          "metadata": {},
          "execution_count": 14
        }
      ]
    },
    {
      "cell_type": "markdown",
      "source": [
        "No se implementará un proceso de estandarización, ya que el modelo es robusto ante ese tipo de casos."
      ],
      "metadata": {
        "id": "_0j1M4hnjlEc"
      }
    },
    {
      "cell_type": "code",
      "source": [
        "X =  X[best_features]\n",
        "X"
      ],
      "metadata": {
        "colab": {
          "base_uri": "https://localhost:8080/",
          "height": 423
        },
        "id": "sOkVqv9dlAWu",
        "outputId": "b134cf8d-8b25-4eb1-e26a-17c0bd477914"
      },
      "execution_count": null,
      "outputs": [
        {
          "output_type": "execute_result",
          "data": {
            "text/plain": [
              "           p1_d      p2_d       p3_d    max_d    min_d  first_sp  second_sp  \\\n",
              "1181  114.79300  180.0435  245.27525  245.276  114.736      3332    51931.0   \n",
              "1182  196.18225  196.1895  196.19675  196.204  196.175      3332    51905.0   \n",
              "1183  244.14325  244.1435  244.14375  244.144  244.143      3332    51911.0   \n",
              "1184  244.04600  244.0460  244.04600  244.046  244.046      3332    51908.0   \n",
              "1185  246.79500  246.7950  246.79500  246.795  246.795     51915     3332.0   \n",
              "...         ...       ...        ...      ...      ...       ...        ...   \n",
              "2832    2.15850    4.3170    6.47550    8.634    0.000      3333    52003.0   \n",
              "2833  583.36850  583.8100  584.25150  584.693  582.927      3333    52003.0   \n",
              "2834  288.55375  288.5545  288.55525  288.556  288.553      3333    52003.0   \n",
              "2835  285.37900  285.3790  285.37900  285.379  285.379      3333    52003.0   \n",
              "2836  267.03625  267.0365  267.03675  267.037  267.036      3333    52003.0   \n",
              "\n",
              "      first_dp  p2_ip     p1_ib  \n",
              "1181      3332   12.5    433.00  \n",
              "1182      3332   11.0   2679.50  \n",
              "1183      3332   16.0   3642.75  \n",
              "1184      3332   16.0   3592.50  \n",
              "1185     51915   18.5   3728.75  \n",
              "...        ...    ...       ...  \n",
              "2832      3333    1.5    328.25  \n",
              "2833      3333   55.0  10108.75  \n",
              "2834      3333   22.5   3865.00  \n",
              "2835      3333   25.5   4627.50  \n",
              "2836      3333   21.0   4370.50  \n",
              "\n",
              "[510 rows x 10 columns]"
            ],
            "text/html": [
              "\n",
              "  <div id=\"df-8e1938a4-b9bc-4d62-9426-797a61d19409\">\n",
              "    <div class=\"colab-df-container\">\n",
              "      <div>\n",
              "<style scoped>\n",
              "    .dataframe tbody tr th:only-of-type {\n",
              "        vertical-align: middle;\n",
              "    }\n",
              "\n",
              "    .dataframe tbody tr th {\n",
              "        vertical-align: top;\n",
              "    }\n",
              "\n",
              "    .dataframe thead th {\n",
              "        text-align: right;\n",
              "    }\n",
              "</style>\n",
              "<table border=\"1\" class=\"dataframe\">\n",
              "  <thead>\n",
              "    <tr style=\"text-align: right;\">\n",
              "      <th></th>\n",
              "      <th>p1_d</th>\n",
              "      <th>p2_d</th>\n",
              "      <th>p3_d</th>\n",
              "      <th>max_d</th>\n",
              "      <th>min_d</th>\n",
              "      <th>first_sp</th>\n",
              "      <th>second_sp</th>\n",
              "      <th>first_dp</th>\n",
              "      <th>p2_ip</th>\n",
              "      <th>p1_ib</th>\n",
              "    </tr>\n",
              "  </thead>\n",
              "  <tbody>\n",
              "    <tr>\n",
              "      <th>1181</th>\n",
              "      <td>114.79300</td>\n",
              "      <td>180.0435</td>\n",
              "      <td>245.27525</td>\n",
              "      <td>245.276</td>\n",
              "      <td>114.736</td>\n",
              "      <td>3332</td>\n",
              "      <td>51931.0</td>\n",
              "      <td>3332</td>\n",
              "      <td>12.5</td>\n",
              "      <td>433.00</td>\n",
              "    </tr>\n",
              "    <tr>\n",
              "      <th>1182</th>\n",
              "      <td>196.18225</td>\n",
              "      <td>196.1895</td>\n",
              "      <td>196.19675</td>\n",
              "      <td>196.204</td>\n",
              "      <td>196.175</td>\n",
              "      <td>3332</td>\n",
              "      <td>51905.0</td>\n",
              "      <td>3332</td>\n",
              "      <td>11.0</td>\n",
              "      <td>2679.50</td>\n",
              "    </tr>\n",
              "    <tr>\n",
              "      <th>1183</th>\n",
              "      <td>244.14325</td>\n",
              "      <td>244.1435</td>\n",
              "      <td>244.14375</td>\n",
              "      <td>244.144</td>\n",
              "      <td>244.143</td>\n",
              "      <td>3332</td>\n",
              "      <td>51911.0</td>\n",
              "      <td>3332</td>\n",
              "      <td>16.0</td>\n",
              "      <td>3642.75</td>\n",
              "    </tr>\n",
              "    <tr>\n",
              "      <th>1184</th>\n",
              "      <td>244.04600</td>\n",
              "      <td>244.0460</td>\n",
              "      <td>244.04600</td>\n",
              "      <td>244.046</td>\n",
              "      <td>244.046</td>\n",
              "      <td>3332</td>\n",
              "      <td>51908.0</td>\n",
              "      <td>3332</td>\n",
              "      <td>16.0</td>\n",
              "      <td>3592.50</td>\n",
              "    </tr>\n",
              "    <tr>\n",
              "      <th>1185</th>\n",
              "      <td>246.79500</td>\n",
              "      <td>246.7950</td>\n",
              "      <td>246.79500</td>\n",
              "      <td>246.795</td>\n",
              "      <td>246.795</td>\n",
              "      <td>51915</td>\n",
              "      <td>3332.0</td>\n",
              "      <td>51915</td>\n",
              "      <td>18.5</td>\n",
              "      <td>3728.75</td>\n",
              "    </tr>\n",
              "    <tr>\n",
              "      <th>...</th>\n",
              "      <td>...</td>\n",
              "      <td>...</td>\n",
              "      <td>...</td>\n",
              "      <td>...</td>\n",
              "      <td>...</td>\n",
              "      <td>...</td>\n",
              "      <td>...</td>\n",
              "      <td>...</td>\n",
              "      <td>...</td>\n",
              "      <td>...</td>\n",
              "    </tr>\n",
              "    <tr>\n",
              "      <th>2832</th>\n",
              "      <td>2.15850</td>\n",
              "      <td>4.3170</td>\n",
              "      <td>6.47550</td>\n",
              "      <td>8.634</td>\n",
              "      <td>0.000</td>\n",
              "      <td>3333</td>\n",
              "      <td>52003.0</td>\n",
              "      <td>3333</td>\n",
              "      <td>1.5</td>\n",
              "      <td>328.25</td>\n",
              "    </tr>\n",
              "    <tr>\n",
              "      <th>2833</th>\n",
              "      <td>583.36850</td>\n",
              "      <td>583.8100</td>\n",
              "      <td>584.25150</td>\n",
              "      <td>584.693</td>\n",
              "      <td>582.927</td>\n",
              "      <td>3333</td>\n",
              "      <td>52003.0</td>\n",
              "      <td>3333</td>\n",
              "      <td>55.0</td>\n",
              "      <td>10108.75</td>\n",
              "    </tr>\n",
              "    <tr>\n",
              "      <th>2834</th>\n",
              "      <td>288.55375</td>\n",
              "      <td>288.5545</td>\n",
              "      <td>288.55525</td>\n",
              "      <td>288.556</td>\n",
              "      <td>288.553</td>\n",
              "      <td>3333</td>\n",
              "      <td>52003.0</td>\n",
              "      <td>3333</td>\n",
              "      <td>22.5</td>\n",
              "      <td>3865.00</td>\n",
              "    </tr>\n",
              "    <tr>\n",
              "      <th>2835</th>\n",
              "      <td>285.37900</td>\n",
              "      <td>285.3790</td>\n",
              "      <td>285.37900</td>\n",
              "      <td>285.379</td>\n",
              "      <td>285.379</td>\n",
              "      <td>3333</td>\n",
              "      <td>52003.0</td>\n",
              "      <td>3333</td>\n",
              "      <td>25.5</td>\n",
              "      <td>4627.50</td>\n",
              "    </tr>\n",
              "    <tr>\n",
              "      <th>2836</th>\n",
              "      <td>267.03625</td>\n",
              "      <td>267.0365</td>\n",
              "      <td>267.03675</td>\n",
              "      <td>267.037</td>\n",
              "      <td>267.036</td>\n",
              "      <td>3333</td>\n",
              "      <td>52003.0</td>\n",
              "      <td>3333</td>\n",
              "      <td>21.0</td>\n",
              "      <td>4370.50</td>\n",
              "    </tr>\n",
              "  </tbody>\n",
              "</table>\n",
              "<p>510 rows × 10 columns</p>\n",
              "</div>\n",
              "      <button class=\"colab-df-convert\" onclick=\"convertToInteractive('df-8e1938a4-b9bc-4d62-9426-797a61d19409')\"\n",
              "              title=\"Convert this dataframe to an interactive table.\"\n",
              "              style=\"display:none;\">\n",
              "        \n",
              "  <svg xmlns=\"http://www.w3.org/2000/svg\" height=\"24px\"viewBox=\"0 0 24 24\"\n",
              "       width=\"24px\">\n",
              "    <path d=\"M0 0h24v24H0V0z\" fill=\"none\"/>\n",
              "    <path d=\"M18.56 5.44l.94 2.06.94-2.06 2.06-.94-2.06-.94-.94-2.06-.94 2.06-2.06.94zm-11 1L8.5 8.5l.94-2.06 2.06-.94-2.06-.94L8.5 2.5l-.94 2.06-2.06.94zm10 10l.94 2.06.94-2.06 2.06-.94-2.06-.94-.94-2.06-.94 2.06-2.06.94z\"/><path d=\"M17.41 7.96l-1.37-1.37c-.4-.4-.92-.59-1.43-.59-.52 0-1.04.2-1.43.59L10.3 9.45l-7.72 7.72c-.78.78-.78 2.05 0 2.83L4 21.41c.39.39.9.59 1.41.59.51 0 1.02-.2 1.41-.59l7.78-7.78 2.81-2.81c.8-.78.8-2.07 0-2.86zM5.41 20L4 18.59l7.72-7.72 1.47 1.35L5.41 20z\"/>\n",
              "  </svg>\n",
              "      </button>\n",
              "      \n",
              "  <style>\n",
              "    .colab-df-container {\n",
              "      display:flex;\n",
              "      flex-wrap:wrap;\n",
              "      gap: 12px;\n",
              "    }\n",
              "\n",
              "    .colab-df-convert {\n",
              "      background-color: #E8F0FE;\n",
              "      border: none;\n",
              "      border-radius: 50%;\n",
              "      cursor: pointer;\n",
              "      display: none;\n",
              "      fill: #1967D2;\n",
              "      height: 32px;\n",
              "      padding: 0 0 0 0;\n",
              "      width: 32px;\n",
              "    }\n",
              "\n",
              "    .colab-df-convert:hover {\n",
              "      background-color: #E2EBFA;\n",
              "      box-shadow: 0px 1px 2px rgba(60, 64, 67, 0.3), 0px 1px 3px 1px rgba(60, 64, 67, 0.15);\n",
              "      fill: #174EA6;\n",
              "    }\n",
              "\n",
              "    [theme=dark] .colab-df-convert {\n",
              "      background-color: #3B4455;\n",
              "      fill: #D2E3FC;\n",
              "    }\n",
              "\n",
              "    [theme=dark] .colab-df-convert:hover {\n",
              "      background-color: #434B5C;\n",
              "      box-shadow: 0px 1px 3px 1px rgba(0, 0, 0, 0.15);\n",
              "      filter: drop-shadow(0px 1px 2px rgba(0, 0, 0, 0.3));\n",
              "      fill: #FFFFFF;\n",
              "    }\n",
              "  </style>\n",
              "\n",
              "      <script>\n",
              "        const buttonEl =\n",
              "          document.querySelector('#df-8e1938a4-b9bc-4d62-9426-797a61d19409 button.colab-df-convert');\n",
              "        buttonEl.style.display =\n",
              "          google.colab.kernel.accessAllowed ? 'block' : 'none';\n",
              "\n",
              "        async function convertToInteractive(key) {\n",
              "          const element = document.querySelector('#df-8e1938a4-b9bc-4d62-9426-797a61d19409');\n",
              "          const dataTable =\n",
              "            await google.colab.kernel.invokeFunction('convertToInteractive',\n",
              "                                                     [key], {});\n",
              "          if (!dataTable) return;\n",
              "\n",
              "          const docLinkHtml = 'Like what you see? Visit the ' +\n",
              "            '<a target=\"_blank\" href=https://colab.research.google.com/notebooks/data_table.ipynb>data table notebook</a>'\n",
              "            + ' to learn more about interactive tables.';\n",
              "          element.innerHTML = '';\n",
              "          dataTable['output_type'] = 'display_data';\n",
              "          await google.colab.output.renderOutput(dataTable, element);\n",
              "          const docLink = document.createElement('div');\n",
              "          docLink.innerHTML = docLinkHtml;\n",
              "          element.appendChild(docLink);\n",
              "        }\n",
              "      </script>\n",
              "    </div>\n",
              "  </div>\n",
              "  "
            ]
          },
          "metadata": {},
          "execution_count": 15
        }
      ]
    },
    {
      "cell_type": "code",
      "source": [
        "X_train, X_test, y_train, y_test = train_test_split(X, y, train_size=0.8, random_state=12354, shuffle=True, stratify=y)"
      ],
      "metadata": {
        "id": "CTWMb6eck2PR"
      },
      "execution_count": null,
      "outputs": []
    },
    {
      "cell_type": "code",
      "source": [
        "final_comp = 0\n",
        "for comp in range(3, X_train.shape[1]):\n",
        "  pca = PCA(n_components=comp, random_state=42)\n",
        "  pca.fit(X_train)\n",
        "  comp_check = pca.explained_variance_ratio_\n",
        "  final_comp = comp\n",
        "  if comp_check.sum() > 0.85:\n",
        "    break\n",
        "\n",
        "  \n",
        "\n",
        "final_pca = PCA(n_components=final_comp, random_state=42)\n",
        "final_pca.fit(X_train)\n",
        "data_x_train =final_pca.transform(X_train)\n",
        "data_x_test = final_pca.transform(X_test)\n",
        "num_comps = comp_check.shape[0]\n",
        "\n",
        "print(\"Using {} components, we can explain {}% of the variability in the original data.\".format(final_comp,comp_check.sum()))"
      ],
      "metadata": {
        "colab": {
          "base_uri": "https://localhost:8080/"
        },
        "id": "hQc1EwPcjcnP",
        "outputId": "63d3e323-25d3-4cb4-8880-ec34648d8829"
      },
      "execution_count": null,
      "outputs": [
        {
          "output_type": "stream",
          "name": "stdout",
          "text": [
            "Using 3 components, we can explain 0.9958502469567533% of the variability in the original data.\n"
          ]
        }
      ]
    },
    {
      "cell_type": "code",
      "source": [
        "DecisionTreeClassifier()"
      ],
      "metadata": {
        "id": "iiR_TQSMmlSz"
      },
      "execution_count": null,
      "outputs": []
    }
  ]
}