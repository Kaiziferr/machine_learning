{
  "nbformat": 4,
  "nbformat_minor": 0,
  "metadata": {
    "colab": {
      "name": "01_workshop_linear_regresion_beisbol.ipynb",
      "provenance": [],
      "authorship_tag": "ABX9TyOoJu1JWUjE5CRFumUcalFK",
      "include_colab_link": true
    },
    "kernelspec": {
      "name": "python3",
      "display_name": "Python 3"
    },
    "language_info": {
      "name": "python"
    }
  },
  "cells": [
    {
      "cell_type": "markdown",
      "metadata": {
        "id": "view-in-github",
        "colab_type": "text"
      },
      "source": [
        "<a href=\"https://colab.research.google.com/github/Kaiziferr/machine_learning/blob/main/linear_regression/01_workshop_linear_regresion_beisbol.ipynb\" target=\"_parent\"><img src=\"https://colab.research.google.com/assets/colab-badge.svg\" alt=\"Open In Colab\"/></a>"
      ]
    },
    {
      "cell_type": "code",
      "source": [
        "import pandas as pd\n",
        "import numpy as np\n",
        "import matplotlib.pyplot as plt\n",
        "from matplotlib  import style\n",
        "import seaborn as sns\n",
        "\n",
        "from scipy.stats import pearsonr\n",
        "\n",
        "from sklearn.model_selection import train_test_split\n",
        "from sklearn.preprocessing import StandardScaler\n",
        "from sklearn.linear_model import LinearRegression\n",
        "from sklearn.metrics import mean_squared_error\n",
        "\n",
        "import statsmodels.api as sm\n",
        "import statsmodels.formula.api as smf"
      ],
      "metadata": {
        "id": "xfV0A7xCTQgr"
      },
      "execution_count": 1,
      "outputs": []
    },
    {
      "cell_type": "code",
      "source": [
        "plt.rcParams['image.cmap'] = \"bwr\"\n",
        "plt.rcParams['savefig.bbox'] = \"tight\"\n",
        "style.use('ggplot') or plt.style.use('ggplot')"
      ],
      "metadata": {
        "id": "KeiTMO5JUMEL"
      },
      "execution_count": 2,
      "outputs": []
    },
    {
      "cell_type": "markdown",
      "source": [
        "# **Hipotesis**\n",
        "---\n",
        "Existe una relación entre el número de veces que batean los jugadores de un equipo de beisbol y el número de runs que consiguen.\n"
      ],
      "metadata": {
        "id": "xsfQhv5ZAvG1"
      }
    },
    {
      "cell_type": "markdown",
      "source": [
        "# **Data**\n",
        "---\n"
      ],
      "metadata": {
        "id": "rmyzYgZOBKyk"
      }
    },
    {
      "cell_type": "code",
      "source": [
        "teams = [\"Texas\",\"Boston\",\"Detroit\",\"Kansas\",\"St.\",\"New_S.\",\"New_Y.\",\n",
        "           \"Milwaukee\",\"Colorado\",\"Houston\",\"Baltimore\",\"Los_An.\",\"Chicago\",\n",
        "           \"Cincinnati\",\"Los_P.\",\"Philadelphia\",\"Chicago\",\"Cleveland\",\"Arizona\",\n",
        "           \"Toronto\",\"Minnesota\",\"Florida\",\"Pittsburgh\",\"Oakland\",\"Tampa\",\n",
        "           \"Atlanta\",\"Washington\",\"San.F\",\"San.I\",\"Seattle\"]\n",
        "\n",
        "bateos = [5659,  5710, 5563, 5672, 5532, 5600, 5518, 5447, 5544, 5598,\n",
        "          5585, 5436, 5549, 5612, 5513, 5579, 5502, 5509, 5421, 5559,\n",
        "          5487, 5508, 5421, 5452, 5436, 5528, 5441, 5486, 5417, 5421]\n",
        "\n",
        "runs = [855, 875, 787, 730, 762, 718, 867, 721, 735, 615, 708, 644, 654, 735,\n",
        "        667, 713, 654, 704, 731, 743, 619, 625, 610, 645, 707, 641, 624, 570,\n",
        "        593, 556]"
      ],
      "metadata": {
        "id": "OQ8_CCcNAumE"
      },
      "execution_count": 3,
      "outputs": []
    },
    {
      "cell_type": "code",
      "source": [
        "data = pd.DataFrame({\n",
        "    'Equipos': teams,\n",
        "    'Bateos': bateos,\n",
        "    'Runs': runs\n",
        "})"
      ],
      "metadata": {
        "id": "xZ_y-M8tBZH0"
      },
      "execution_count": 4,
      "outputs": []
    },
    {
      "cell_type": "code",
      "source": [
        "data.head(3)"
      ],
      "metadata": {
        "colab": {
          "base_uri": "https://localhost:8080/",
          "height": 143
        },
        "id": "qpRt_9pZBoGm",
        "outputId": "dc306c5c-e788-471d-d036-a843e540cf18"
      },
      "execution_count": 5,
      "outputs": [
        {
          "output_type": "execute_result",
          "data": {
            "text/plain": [
              "   Equipos  Bateos  Runs\n",
              "0    Texas    5659   855\n",
              "1   Boston    5710   875\n",
              "2  Detroit    5563   787"
            ],
            "text/html": [
              "\n",
              "  <div id=\"df-4dcc14cf-07f0-41b1-a7d6-53b327005653\">\n",
              "    <div class=\"colab-df-container\">\n",
              "      <div>\n",
              "<style scoped>\n",
              "    .dataframe tbody tr th:only-of-type {\n",
              "        vertical-align: middle;\n",
              "    }\n",
              "\n",
              "    .dataframe tbody tr th {\n",
              "        vertical-align: top;\n",
              "    }\n",
              "\n",
              "    .dataframe thead th {\n",
              "        text-align: right;\n",
              "    }\n",
              "</style>\n",
              "<table border=\"1\" class=\"dataframe\">\n",
              "  <thead>\n",
              "    <tr style=\"text-align: right;\">\n",
              "      <th></th>\n",
              "      <th>Equipos</th>\n",
              "      <th>Bateos</th>\n",
              "      <th>Runs</th>\n",
              "    </tr>\n",
              "  </thead>\n",
              "  <tbody>\n",
              "    <tr>\n",
              "      <th>0</th>\n",
              "      <td>Texas</td>\n",
              "      <td>5659</td>\n",
              "      <td>855</td>\n",
              "    </tr>\n",
              "    <tr>\n",
              "      <th>1</th>\n",
              "      <td>Boston</td>\n",
              "      <td>5710</td>\n",
              "      <td>875</td>\n",
              "    </tr>\n",
              "    <tr>\n",
              "      <th>2</th>\n",
              "      <td>Detroit</td>\n",
              "      <td>5563</td>\n",
              "      <td>787</td>\n",
              "    </tr>\n",
              "  </tbody>\n",
              "</table>\n",
              "</div>\n",
              "      <button class=\"colab-df-convert\" onclick=\"convertToInteractive('df-4dcc14cf-07f0-41b1-a7d6-53b327005653')\"\n",
              "              title=\"Convert this dataframe to an interactive table.\"\n",
              "              style=\"display:none;\">\n",
              "        \n",
              "  <svg xmlns=\"http://www.w3.org/2000/svg\" height=\"24px\"viewBox=\"0 0 24 24\"\n",
              "       width=\"24px\">\n",
              "    <path d=\"M0 0h24v24H0V0z\" fill=\"none\"/>\n",
              "    <path d=\"M18.56 5.44l.94 2.06.94-2.06 2.06-.94-2.06-.94-.94-2.06-.94 2.06-2.06.94zm-11 1L8.5 8.5l.94-2.06 2.06-.94-2.06-.94L8.5 2.5l-.94 2.06-2.06.94zm10 10l.94 2.06.94-2.06 2.06-.94-2.06-.94-.94-2.06-.94 2.06-2.06.94z\"/><path d=\"M17.41 7.96l-1.37-1.37c-.4-.4-.92-.59-1.43-.59-.52 0-1.04.2-1.43.59L10.3 9.45l-7.72 7.72c-.78.78-.78 2.05 0 2.83L4 21.41c.39.39.9.59 1.41.59.51 0 1.02-.2 1.41-.59l7.78-7.78 2.81-2.81c.8-.78.8-2.07 0-2.86zM5.41 20L4 18.59l7.72-7.72 1.47 1.35L5.41 20z\"/>\n",
              "  </svg>\n",
              "      </button>\n",
              "      \n",
              "  <style>\n",
              "    .colab-df-container {\n",
              "      display:flex;\n",
              "      flex-wrap:wrap;\n",
              "      gap: 12px;\n",
              "    }\n",
              "\n",
              "    .colab-df-convert {\n",
              "      background-color: #E8F0FE;\n",
              "      border: none;\n",
              "      border-radius: 50%;\n",
              "      cursor: pointer;\n",
              "      display: none;\n",
              "      fill: #1967D2;\n",
              "      height: 32px;\n",
              "      padding: 0 0 0 0;\n",
              "      width: 32px;\n",
              "    }\n",
              "\n",
              "    .colab-df-convert:hover {\n",
              "      background-color: #E2EBFA;\n",
              "      box-shadow: 0px 1px 2px rgba(60, 64, 67, 0.3), 0px 1px 3px 1px rgba(60, 64, 67, 0.15);\n",
              "      fill: #174EA6;\n",
              "    }\n",
              "\n",
              "    [theme=dark] .colab-df-convert {\n",
              "      background-color: #3B4455;\n",
              "      fill: #D2E3FC;\n",
              "    }\n",
              "\n",
              "    [theme=dark] .colab-df-convert:hover {\n",
              "      background-color: #434B5C;\n",
              "      box-shadow: 0px 1px 3px 1px rgba(0, 0, 0, 0.15);\n",
              "      filter: drop-shadow(0px 1px 2px rgba(0, 0, 0, 0.3));\n",
              "      fill: #FFFFFF;\n",
              "    }\n",
              "  </style>\n",
              "\n",
              "      <script>\n",
              "        const buttonEl =\n",
              "          document.querySelector('#df-4dcc14cf-07f0-41b1-a7d6-53b327005653 button.colab-df-convert');\n",
              "        buttonEl.style.display =\n",
              "          google.colab.kernel.accessAllowed ? 'block' : 'none';\n",
              "\n",
              "        async function convertToInteractive(key) {\n",
              "          const element = document.querySelector('#df-4dcc14cf-07f0-41b1-a7d6-53b327005653');\n",
              "          const dataTable =\n",
              "            await google.colab.kernel.invokeFunction('convertToInteractive',\n",
              "                                                     [key], {});\n",
              "          if (!dataTable) return;\n",
              "\n",
              "          const docLinkHtml = 'Like what you see? Visit the ' +\n",
              "            '<a target=\"_blank\" href=https://colab.research.google.com/notebooks/data_table.ipynb>data table notebook</a>'\n",
              "            + ' to learn more about interactive tables.';\n",
              "          element.innerHTML = '';\n",
              "          dataTable['output_type'] = 'display_data';\n",
              "          await google.colab.output.renderOutput(dataTable, element);\n",
              "          const docLink = document.createElement('div');\n",
              "          docLink.innerHTML = docLinkHtml;\n",
              "          element.appendChild(docLink);\n",
              "        }\n",
              "      </script>\n",
              "    </div>\n",
              "  </div>\n",
              "  "
            ]
          },
          "metadata": {},
          "execution_count": 5
        }
      ]
    },
    {
      "cell_type": "code",
      "source": [
        "fig, ax = plt.subplots(figsize = (6, 5))\n",
        "sns.scatterplot(x = 'Bateos', y='Runs', data=data, ax=ax)\n",
        "ax.set_title('Distribución de bateos y carreras')"
      ],
      "metadata": {
        "id": "wUk_FbiIVhbm",
        "outputId": "e2c0d440-1a65-4d84-b745-af01d23c4e5d",
        "colab": {
          "base_uri": "https://localhost:8080/",
          "height": 371
        }
      },
      "execution_count": 6,
      "outputs": [
        {
          "output_type": "execute_result",
          "data": {
            "text/plain": [
              "Text(0.5, 1.0, 'Distribución de bateos y carreras')"
            ]
          },
          "metadata": {},
          "execution_count": 6
        },
        {
          "output_type": "display_data",
          "data": {
            "text/plain": [
              "<Figure size 432x360 with 1 Axes>"
            ],
            "image/png": "[encoded data removed]"
          },
          "metadata": {}
        }
      ]
    },
    {
      "cell_type": "markdown",
      "source": [
        "**Analisis de correlación**"
      ],
      "metadata": {
        "id": "rnqsgmtQES2H"
      }
    },
    {
      "cell_type": "code",
      "source": [
        "corr_test = pearsonr(x=data['Bateos'], y=data['Runs'])\n",
        "print(f'Coeficiente de Pearson {corr_test[0]}')\n",
        "print(f'p-value {corr_test[1]}')"
      ],
      "metadata": {
        "id": "otSxki0xWYUs",
        "outputId": "999de6e3-13e0-4b59-e262-79d215e75f9c",
        "colab": {
          "base_uri": "https://localhost:8080/"
        }
      },
      "execution_count": 7,
      "outputs": [
        {
          "output_type": "stream",
          "name": "stdout",
          "text": [
            "Coeficiente de Pearson 0.6106270467206688\n",
            "p-value 0.0003388351359791963\n"
          ]
        }
      ]
    },
    {
      "cell_type": "markdown",
      "source": [
        "El grafico y el test de correlación muestran una relación lineal, de intensidad considerable (r=0.61) y significativa (p-value = 0.000338). Lo anterior indica que se puede crear un modelo de regresión lineal con el objetivo de predecir el número de Runs en función del número de bateos del equipo."
      ],
      "metadata": {
        "id": "tkV1IyuUFZCm"
      }
    },
    {
      "cell_type": "markdown",
      "source": [
        "# **Ajuste del modelo**\n",
        "---"
      ],
      "metadata": {
        "id": "GEtUdi_0GF32"
      }
    },
    {
      "cell_type": "code",
      "source": [
        "X = data[['Bateos']]\n",
        "y = data[['Runs']]"
      ],
      "metadata": {
        "id": "I-qIErpjGbjM"
      },
      "execution_count": 8,
      "outputs": []
    },
    {
      "cell_type": "code",
      "source": [
        "X_train, X_test, y_train, y_test = train_test_split(X, y, train_size=0.8, random_state=1234)"
      ],
      "metadata": {
        "id": "5MqXHVVJGyG7"
      },
      "execution_count": 9,
      "outputs": []
    },
    {
      "cell_type": "code",
      "source": [
        "X_train = X_train.values.reshape(-1,1)\n",
        "X_test = X_test.values.reshape(-1, 1)"
      ],
      "metadata": {
        "id": "qfRrR1t9Ilxr"
      },
      "execution_count": 10,
      "outputs": []
    },
    {
      "cell_type": "markdown",
      "source": [
        "# **Creación modelo**\n",
        "---"
      ],
      "metadata": {
        "id": "Q3F5SK7rKsjt"
      }
    },
    {
      "cell_type": "code",
      "source": [
        "model = LinearRegression()\n",
        "model.fit(X_train, y_train)"
      ],
      "metadata": {
        "id": "4O0eOPoZX8wJ",
        "outputId": "1022f0a7-1811-4438-a4a7-0ddc15619d7d",
        "colab": {
          "base_uri": "https://localhost:8080/"
        }
      },
      "execution_count": 11,
      "outputs": [
        {
          "output_type": "execute_result",
          "data": {
            "text/plain": [
              "LinearRegression()"
            ]
          },
          "metadata": {},
          "execution_count": 11
        }
      ]
    },
    {
      "cell_type": "markdown",
      "source": [
        "# **Información del modelo**\n",
        "---"
      ],
      "metadata": {
        "id": "84J0xka_Li-V"
      }
    },
    {
      "cell_type": "code",
      "source": [
        "print(f'Intercept: {model.intercept_}')\n",
        "print(f'Coeficiente: {list(zip(X.columns, model.coef_.flatten(), ))}')\n",
        "print(f'Coeficiente de determinación R^2 {model.score(X,y)}')"
      ],
      "metadata": {
        "colab": {
          "base_uri": "https://localhost:8080/"
        },
        "id": "H8KsAUYgKqrV",
        "outputId": "9ddb8747-327c-470b-bb66-c0f3bdf227c6"
      },
      "execution_count": 12,
      "outputs": [
        {
          "output_type": "stream",
          "name": "stdout",
          "text": [
            "Intercept: [-2367.7028413]\n",
            "Coeficiente: [('Bateos', 0.5528713534479736)]\n",
            "Coeficiente de determinación R^2 0.3586119899498744\n"
          ]
        },
        {
          "output_type": "stream",
          "name": "stderr",
          "text": [
            "/usr/local/lib/python3.7/dist-packages/sklearn/base.py:444: UserWarning: X has feature names, but LinearRegression was fitted without feature names\n",
            "  f\"X has feature names, but {self.__class__.__name__} was fitted without\"\n"
          ]
        }
      ]
    },
    {
      "cell_type": "markdown",
      "source": [
        "- El modelo solo explica un 35% de la variabilidad del modelo entorno a su media, es un modelo regular."
      ],
      "metadata": {
        "id": "e8QGtWNilfCP"
      }
    },
    {
      "cell_type": "markdown",
      "source": [
        "# **Evaluación del modelo**\n",
        "---"
      ],
      "metadata": {
        "id": "etZLEpjmN1y6"
      }
    },
    {
      "cell_type": "code",
      "source": [
        "predict = model.predict(X_test)"
      ],
      "metadata": {
        "id": "WJooi0ctNc3V"
      },
      "execution_count": 13,
      "outputs": []
    },
    {
      "cell_type": "code",
      "source": [
        "rmse = mean_squared_error(y_test, predict, squared=False)\n",
        "print(f\"El error (rmse) de test es: {rmse}\")"
      ],
      "metadata": {
        "colab": {
          "base_uri": "https://localhost:8080/"
        },
        "id": "AKz_cWz2OG3k",
        "outputId": "eabaf0ff-060e-49dc-eda9-6e7aeef5a0f9"
      },
      "execution_count": 14,
      "outputs": [
        {
          "output_type": "stream",
          "name": "stdout",
          "text": [
            "El error (rmse) de test es: 59.336716083360486\n"
          ]
        }
      ]
    },
    {
      "cell_type": "markdown",
      "source": [
        "# **Statmodels**\n",
        "\n",
        "Permite calcular los test estadísticos y análisis necesarios para verificar que se cumplen las condiciones sobre las que se basa este tipo de modelos."
      ],
      "metadata": {
        "id": "0woTNYr_s8bc"
      }
    },
    {
      "cell_type": "code",
      "source": [
        "X_train = sm.add_constant(X_train, prepend=True)\n",
        "model = sm.OLS(endog=y_train, exog=X_train,)\n",
        "model = model.fit()\n",
        "print(model.summary())"
      ],
      "metadata": {
        "id": "1iZJJ1kltapp",
        "outputId": "be67684b-c520-4037-cab7-ed52248d5bb9",
        "colab": {
          "base_uri": "https://localhost:8080/"
        }
      },
      "execution_count": 15,
      "outputs": [
        {
          "output_type": "stream",
          "name": "stdout",
          "text": [
            "                            OLS Regression Results                            \n",
            "==============================================================================\n",
            "Dep. Variable:                   Runs   R-squared:                       0.271\n",
            "Model:                            OLS   Adj. R-squared:                  0.238\n",
            "Method:                 Least Squares   F-statistic:                     8.191\n",
            "Date:                Sat, 19 Nov 2022   Prob (F-statistic):            0.00906\n",
            "Time:                        19:50:29   Log-Likelihood:                -134.71\n",
            "No. Observations:                  24   AIC:                             273.4\n",
            "Df Residuals:                      22   BIC:                             275.8\n",
            "Df Model:                           1                                         \n",
            "Covariance Type:            nonrobust                                         \n",
            "==============================================================================\n",
            "                 coef    std err          t      P>|t|      [0.025      0.975]\n",
            "------------------------------------------------------------------------------\n",
            "const      -2367.7028   1066.357     -2.220      0.037   -4579.192    -156.214\n",
            "x1             0.5529      0.193      2.862      0.009       0.152       0.953\n",
            "==============================================================================\n",
            "Omnibus:                        5.033   Durbin-Watson:                   1.902\n",
            "Prob(Omnibus):                  0.081   Jarque-Bera (JB):                3.170\n",
            "Skew:                           0.829   Prob(JB):                        0.205\n",
            "Kurtosis:                       3.650   Cond. No.                     4.17e+05\n",
            "==============================================================================\n",
            "\n",
            "Notes:\n",
            "[1] Standard Errors assume that the covariance matrix of the errors is correctly specified.\n",
            "[2] The condition number is large, 4.17e+05. This might indicate that there are\n",
            "strong multicollinearity or other numerical problems.\n"
          ]
        }
      ]
    },
    {
      "cell_type": "markdown",
      "source": [
        "# Intervalos de confianza de los coeficientes\n",
        "---\n"
      ],
      "metadata": {
        "id": "4g-VZmo0u0zz"
      }
    },
    {
      "cell_type": "code",
      "source": [
        "model.conf_int(alpha=0.05)"
      ],
      "metadata": {
        "id": "86xME4CRukA4",
        "outputId": "83fcdd24-4a81-4aa5-ad17-75bdf641ccb2",
        "colab": {
          "base_uri": "https://localhost:8080/",
          "height": 112
        }
      },
      "execution_count": 16,
      "outputs": [
        {
          "output_type": "execute_result",
          "data": {
            "text/plain": [
              "                 0           1\n",
              "const -4579.192050 -156.213633\n",
              "x1        0.152244    0.953499"
            ],
            "text/html": [
              "\n",
              "  <div id=\"df-762cc996-9eea-4077-82a4-9126efbfb023\">\n",
              "    <div class=\"colab-df-container\">\n",
              "      <div>\n",
              "<style scoped>\n",
              "    .dataframe tbody tr th:only-of-type {\n",
              "        vertical-align: middle;\n",
              "    }\n",
              "\n",
              "    .dataframe tbody tr th {\n",
              "        vertical-align: top;\n",
              "    }\n",
              "\n",
              "    .dataframe thead th {\n",
              "        text-align: right;\n",
              "    }\n",
              "</style>\n",
              "<table border=\"1\" class=\"dataframe\">\n",
              "  <thead>\n",
              "    <tr style=\"text-align: right;\">\n",
              "      <th></th>\n",
              "      <th>0</th>\n",
              "      <th>1</th>\n",
              "    </tr>\n",
              "  </thead>\n",
              "  <tbody>\n",
              "    <tr>\n",
              "      <th>const</th>\n",
              "      <td>-4579.192050</td>\n",
              "      <td>-156.213633</td>\n",
              "    </tr>\n",
              "    <tr>\n",
              "      <th>x1</th>\n",
              "      <td>0.152244</td>\n",
              "      <td>0.953499</td>\n",
              "    </tr>\n",
              "  </tbody>\n",
              "</table>\n",
              "</div>\n",
              "      <button class=\"colab-df-convert\" onclick=\"convertToInteractive('df-762cc996-9eea-4077-82a4-9126efbfb023')\"\n",
              "              title=\"Convert this dataframe to an interactive table.\"\n",
              "              style=\"display:none;\">\n",
              "        \n",
              "  <svg xmlns=\"http://www.w3.org/2000/svg\" height=\"24px\"viewBox=\"0 0 24 24\"\n",
              "       width=\"24px\">\n",
              "    <path d=\"M0 0h24v24H0V0z\" fill=\"none\"/>\n",
              "    <path d=\"M18.56 5.44l.94 2.06.94-2.06 2.06-.94-2.06-.94-.94-2.06-.94 2.06-2.06.94zm-11 1L8.5 8.5l.94-2.06 2.06-.94-2.06-.94L8.5 2.5l-.94 2.06-2.06.94zm10 10l.94 2.06.94-2.06 2.06-.94-2.06-.94-.94-2.06-.94 2.06-2.06.94z\"/><path d=\"M17.41 7.96l-1.37-1.37c-.4-.4-.92-.59-1.43-.59-.52 0-1.04.2-1.43.59L10.3 9.45l-7.72 7.72c-.78.78-.78 2.05 0 2.83L4 21.41c.39.39.9.59 1.41.59.51 0 1.02-.2 1.41-.59l7.78-7.78 2.81-2.81c.8-.78.8-2.07 0-2.86zM5.41 20L4 18.59l7.72-7.72 1.47 1.35L5.41 20z\"/>\n",
              "  </svg>\n",
              "      </button>\n",
              "      \n",
              "  <style>\n",
              "    .colab-df-container {\n",
              "      display:flex;\n",
              "      flex-wrap:wrap;\n",
              "      gap: 12px;\n",
              "    }\n",
              "\n",
              "    .colab-df-convert {\n",
              "      background-color: #E8F0FE;\n",
              "      border: none;\n",
              "      border-radius: 50%;\n",
              "      cursor: pointer;\n",
              "      display: none;\n",
              "      fill: #1967D2;\n",
              "      height: 32px;\n",
              "      padding: 0 0 0 0;\n",
              "      width: 32px;\n",
              "    }\n",
              "\n",
              "    .colab-df-convert:hover {\n",
              "      background-color: #E2EBFA;\n",
              "      box-shadow: 0px 1px 2px rgba(60, 64, 67, 0.3), 0px 1px 3px 1px rgba(60, 64, 67, 0.15);\n",
              "      fill: #174EA6;\n",
              "    }\n",
              "\n",
              "    [theme=dark] .colab-df-convert {\n",
              "      background-color: #3B4455;\n",
              "      fill: #D2E3FC;\n",
              "    }\n",
              "\n",
              "    [theme=dark] .colab-df-convert:hover {\n",
              "      background-color: #434B5C;\n",
              "      box-shadow: 0px 1px 3px 1px rgba(0, 0, 0, 0.15);\n",
              "      filter: drop-shadow(0px 1px 2px rgba(0, 0, 0, 0.3));\n",
              "      fill: #FFFFFF;\n",
              "    }\n",
              "  </style>\n",
              "\n",
              "      <script>\n",
              "        const buttonEl =\n",
              "          document.querySelector('#df-762cc996-9eea-4077-82a4-9126efbfb023 button.colab-df-convert');\n",
              "        buttonEl.style.display =\n",
              "          google.colab.kernel.accessAllowed ? 'block' : 'none';\n",
              "\n",
              "        async function convertToInteractive(key) {\n",
              "          const element = document.querySelector('#df-762cc996-9eea-4077-82a4-9126efbfb023');\n",
              "          const dataTable =\n",
              "            await google.colab.kernel.invokeFunction('convertToInteractive',\n",
              "                                                     [key], {});\n",
              "          if (!dataTable) return;\n",
              "\n",
              "          const docLinkHtml = 'Like what you see? Visit the ' +\n",
              "            '<a target=\"_blank\" href=https://colab.research.google.com/notebooks/data_table.ipynb>data table notebook</a>'\n",
              "            + ' to learn more about interactive tables.';\n",
              "          element.innerHTML = '';\n",
              "          dataTable['output_type'] = 'display_data';\n",
              "          await google.colab.output.renderOutput(dataTable, element);\n",
              "          const docLink = document.createElement('div');\n",
              "          docLink.innerHTML = docLinkHtml;\n",
              "          element.appendChild(docLink);\n",
              "        }\n",
              "      </script>\n",
              "    </div>\n",
              "  </div>\n",
              "  "
            ]
          },
          "metadata": {},
          "execution_count": 16
        }
      ]
    },
    {
      "cell_type": "markdown",
      "source": [
        ".predict(): devuelve únicamente el valor de las predicciones.\n",
        "\n",
        ".get_prediction().summary_frame(): devuelve, además de las predicciones, los intervalos de confianza asociados."
      ],
      "metadata": {
        "id": "n4ZTZTAlvVHo"
      }
    },
    {
      "cell_type": "code",
      "source": [
        "X_test = sm.add_constant(X_test, prepend=True)\n",
        "X_test"
      ],
      "metadata": {
        "id": "a8rt6Qn0wACg",
        "outputId": "6a8b5172-3b03-4906-b62f-e3866445902d",
        "colab": {
          "base_uri": "https://localhost:8080/"
        }
      },
      "execution_count": 17,
      "outputs": [
        {
          "output_type": "execute_result",
          "data": {
            "text/plain": [
              "array([[1.000e+00, 5.447e+03],\n",
              "       [1.000e+00, 5.585e+03],\n",
              "       [1.000e+00, 5.532e+03],\n",
              "       [1.000e+00, 5.710e+03],\n",
              "       [1.000e+00, 5.417e+03],\n",
              "       [1.000e+00, 5.544e+03]])"
            ]
          },
          "metadata": {},
          "execution_count": 17
        }
      ]
    },
    {
      "cell_type": "code",
      "source": [
        "y_predict = model.predict(exog=X_test)\n",
        "y_predict"
      ],
      "metadata": {
        "id": "YaVGNAqWv2CI",
        "outputId": "5f867971-3e18-49fc-f82d-a26ac823c3be",
        "colab": {
          "base_uri": "https://localhost:8080/"
        }
      },
      "execution_count": 18,
      "outputs": [
        {
          "output_type": "execute_result",
          "data": {
            "text/plain": [
              "array([643.78742093, 720.0836677 , 690.78148597, 789.19258689,\n",
              "       627.20128033, 697.41594221])"
            ]
          },
          "metadata": {},
          "execution_count": 18
        }
      ]
    },
    {
      "cell_type": "code",
      "source": [
        "y_predict = model.get_prediction(exog=X_test).summary_frame(alpha=0.05)\n",
        "y_predict.head(4)"
      ],
      "metadata": {
        "id": "al__pJlhvKKh",
        "outputId": "0b475e85-e1bc-4fe0-ee24-d33e0f3e7c18",
        "colab": {
          "base_uri": "https://localhost:8080/",
          "height": 175
        }
      },
      "execution_count": 19,
      "outputs": [
        {
          "output_type": "execute_result",
          "data": {
            "text/plain": [
              "         mean    mean_se  mean_ci_lower  mean_ci_upper  obs_ci_lower  \\\n",
              "0  643.787421  19.905798     602.505323     685.069519    494.417495   \n",
              "1  720.083668  18.956093     680.771137     759.396198    571.246045   \n",
              "2  690.781486  14.331474     661.059827     720.503144    544.184965   \n",
              "3  789.192587  39.404654     707.472336     870.912838    624.009772   \n",
              "\n",
              "   obs_ci_upper  \n",
              "0    793.157346  \n",
              "1    868.921291  \n",
              "2    837.378007  \n",
              "3    954.375402  "
            ],
            "text/html": [
              "\n",
              "  <div id=\"df-b5ad51d8-9557-4ebe-a76a-15f1e82451da\">\n",
              "    <div class=\"colab-df-container\">\n",
              "      <div>\n",
              "<style scoped>\n",
              "    .dataframe tbody tr th:only-of-type {\n",
              "        vertical-align: middle;\n",
              "    }\n",
              "\n",
              "    .dataframe tbody tr th {\n",
              "        vertical-align: top;\n",
              "    }\n",
              "\n",
              "    .dataframe thead th {\n",
              "        text-align: right;\n",
              "    }\n",
              "</style>\n",
              "<table border=\"1\" class=\"dataframe\">\n",
              "  <thead>\n",
              "    <tr style=\"text-align: right;\">\n",
              "      <th></th>\n",
              "      <th>mean</th>\n",
              "      <th>mean_se</th>\n",
              "      <th>mean_ci_lower</th>\n",
              "      <th>mean_ci_upper</th>\n",
              "      <th>obs_ci_lower</th>\n",
              "      <th>obs_ci_upper</th>\n",
              "    </tr>\n",
              "  </thead>\n",
              "  <tbody>\n",
              "    <tr>\n",
              "      <th>0</th>\n",
              "      <td>643.787421</td>\n",
              "      <td>19.905798</td>\n",
              "      <td>602.505323</td>\n",
              "      <td>685.069519</td>\n",
              "      <td>494.417495</td>\n",
              "      <td>793.157346</td>\n",
              "    </tr>\n",
              "    <tr>\n",
              "      <th>1</th>\n",
              "      <td>720.083668</td>\n",
              "      <td>18.956093</td>\n",
              "      <td>680.771137</td>\n",
              "      <td>759.396198</td>\n",
              "      <td>571.246045</td>\n",
              "      <td>868.921291</td>\n",
              "    </tr>\n",
              "    <tr>\n",
              "      <th>2</th>\n",
              "      <td>690.781486</td>\n",
              "      <td>14.331474</td>\n",
              "      <td>661.059827</td>\n",
              "      <td>720.503144</td>\n",
              "      <td>544.184965</td>\n",
              "      <td>837.378007</td>\n",
              "    </tr>\n",
              "    <tr>\n",
              "      <th>3</th>\n",
              "      <td>789.192587</td>\n",
              "      <td>39.404654</td>\n",
              "      <td>707.472336</td>\n",
              "      <td>870.912838</td>\n",
              "      <td>624.009772</td>\n",
              "      <td>954.375402</td>\n",
              "    </tr>\n",
              "  </tbody>\n",
              "</table>\n",
              "</div>\n",
              "      <button class=\"colab-df-convert\" onclick=\"convertToInteractive('df-b5ad51d8-9557-4ebe-a76a-15f1e82451da')\"\n",
              "              title=\"Convert this dataframe to an interactive table.\"\n",
              "              style=\"display:none;\">\n",
              "        \n",
              "  <svg xmlns=\"http://www.w3.org/2000/svg\" height=\"24px\"viewBox=\"0 0 24 24\"\n",
              "       width=\"24px\">\n",
              "    <path d=\"M0 0h24v24H0V0z\" fill=\"none\"/>\n",
              "    <path d=\"M18.56 5.44l.94 2.06.94-2.06 2.06-.94-2.06-.94-.94-2.06-.94 2.06-2.06.94zm-11 1L8.5 8.5l.94-2.06 2.06-.94-2.06-.94L8.5 2.5l-.94 2.06-2.06.94zm10 10l.94 2.06.94-2.06 2.06-.94-2.06-.94-.94-2.06-.94 2.06-2.06.94z\"/><path d=\"M17.41 7.96l-1.37-1.37c-.4-.4-.92-.59-1.43-.59-.52 0-1.04.2-1.43.59L10.3 9.45l-7.72 7.72c-.78.78-.78 2.05 0 2.83L4 21.41c.39.39.9.59 1.41.59.51 0 1.02-.2 1.41-.59l7.78-7.78 2.81-2.81c.8-.78.8-2.07 0-2.86zM5.41 20L4 18.59l7.72-7.72 1.47 1.35L5.41 20z\"/>\n",
              "  </svg>\n",
              "      </button>\n",
              "      \n",
              "  <style>\n",
              "    .colab-df-container {\n",
              "      display:flex;\n",
              "      flex-wrap:wrap;\n",
              "      gap: 12px;\n",
              "    }\n",
              "\n",
              "    .colab-df-convert {\n",
              "      background-color: #E8F0FE;\n",
              "      border: none;\n",
              "      border-radius: 50%;\n",
              "      cursor: pointer;\n",
              "      display: none;\n",
              "      fill: #1967D2;\n",
              "      height: 32px;\n",
              "      padding: 0 0 0 0;\n",
              "      width: 32px;\n",
              "    }\n",
              "\n",
              "    .colab-df-convert:hover {\n",
              "      background-color: #E2EBFA;\n",
              "      box-shadow: 0px 1px 2px rgba(60, 64, 67, 0.3), 0px 1px 3px 1px rgba(60, 64, 67, 0.15);\n",
              "      fill: #174EA6;\n",
              "    }\n",
              "\n",
              "    [theme=dark] .colab-df-convert {\n",
              "      background-color: #3B4455;\n",
              "      fill: #D2E3FC;\n",
              "    }\n",
              "\n",
              "    [theme=dark] .colab-df-convert:hover {\n",
              "      background-color: #434B5C;\n",
              "      box-shadow: 0px 1px 3px 1px rgba(0, 0, 0, 0.15);\n",
              "      filter: drop-shadow(0px 1px 2px rgba(0, 0, 0, 0.3));\n",
              "      fill: #FFFFFF;\n",
              "    }\n",
              "  </style>\n",
              "\n",
              "      <script>\n",
              "        const buttonEl =\n",
              "          document.querySelector('#df-b5ad51d8-9557-4ebe-a76a-15f1e82451da button.colab-df-convert');\n",
              "        buttonEl.style.display =\n",
              "          google.colab.kernel.accessAllowed ? 'block' : 'none';\n",
              "\n",
              "        async function convertToInteractive(key) {\n",
              "          const element = document.querySelector('#df-b5ad51d8-9557-4ebe-a76a-15f1e82451da');\n",
              "          const dataTable =\n",
              "            await google.colab.kernel.invokeFunction('convertToInteractive',\n",
              "                                                     [key], {});\n",
              "          if (!dataTable) return;\n",
              "\n",
              "          const docLinkHtml = 'Like what you see? Visit the ' +\n",
              "            '<a target=\"_blank\" href=https://colab.research.google.com/notebooks/data_table.ipynb>data table notebook</a>'\n",
              "            + ' to learn more about interactive tables.';\n",
              "          element.innerHTML = '';\n",
              "          dataTable['output_type'] = 'display_data';\n",
              "          await google.colab.output.renderOutput(dataTable, element);\n",
              "          const docLink = document.createElement('div');\n",
              "          docLink.innerHTML = docLinkHtml;\n",
              "          element.appendChild(docLink);\n",
              "        }\n",
              "      </script>\n",
              "    </div>\n",
              "  </div>\n",
              "  "
            ]
          },
          "metadata": {},
          "execution_count": 19
        }
      ]
    },
    {
      "cell_type": "markdown",
      "source": [
        "# **Representación gráfica del modelo**\n",
        "---\n"
      ],
      "metadata": {
        "id": "7CI-Ogv8Zpbd"
      }
    },
    {
      "cell_type": "markdown",
      "source": [
        "límites superior e inferior del intervalo de confianza."
      ],
      "metadata": {
        "id": "48tYX9QQahjs"
      }
    },
    {
      "cell_type": "code",
      "source": [
        "predicciones = model.get_prediction(exog = X_train).summary_frame(alpha=0.05)\n",
        "predicciones['X'] = X_train[:, 1]\n",
        "predicciones['y'] = y_train\n",
        "\n",
        "predicciones = predicciones.sort_values('X')"
      ],
      "metadata": {
        "id": "nMy_xaNg37gw"
      },
      "execution_count": 41,
      "outputs": []
    },
    {
      "cell_type": "code",
      "source": [
        "# feature y target data trainim \n",
        "def plot_predict_confidence_interval(data, label, title='', size=(7, 4)):\n",
        "  \n",
        "  X, y, mean = data[\"X\"], data[\"y\"], data[\"mean\"], \n",
        "  mean_ci_lower, mean_ci_upper = data[\"mean_ci_lower\"], data[\"mean_ci_upper\"]\n",
        "\n",
        "  fig, ax = plt.subplots(figsize = size)\n",
        "  ax.scatter(X, y, marker = 'o', color = 'gray')\n",
        "  ax.plot(X, mean, linestyle='-', label=\"OLS\")\n",
        "  ax.plot(X, mean_ci_lower, linestyle='--', color='red', label=label)\n",
        "  ax.plot(X, mean_ci_upper, linestyle='--', color='red')\n",
        "  ax.fill_between(X, mean_ci_lower, mean_ci_upper, alpha=0.1)\n",
        "  ax.set_title(title)\n",
        "  ax.legend()\n",
        "  plt.show()"
      ],
      "metadata": {
        "id": "KSH3BbwSevb5"
      },
      "execution_count": 71,
      "outputs": []
    },
    {
      "cell_type": "code",
      "source": [
        "plot_predict_confidence_interval(predicciones, label = '95% CI', title='Predicciones con intervalo de confianza del 95%' )"
      ],
      "metadata": {
        "id": "iFiIdE-Ig38z",
        "outputId": "0484ecf6-7e97-4a1c-8dd3-f53d0d62828c",
        "colab": {
          "base_uri": "https://localhost:8080/",
          "height": 282
        }
      },
      "execution_count": 72,
      "outputs": [
        {
          "output_type": "display_data",
          "data": {
            "text/plain": [
              "<Figure size 504x288 with 1 Axes>"
            ],
            "image/png": "[encoded data removed]"
          },
          "metadata": {}
        }
      ]
    },
    {
      "cell_type": "code",
      "source": [],
      "metadata": {
        "id": "o2XiY4rzi-ls"
      },
      "execution_count": null,
      "outputs": []
    },
    {
      "cell_type": "markdown",
      "source": [
        "# **Referencia**\n",
        "---\n",
        "https://www.cienciadedatos.net/documentos/py10-regresion-lineal-python.html"
      ],
      "metadata": {
        "id": "2qj5uzzSApJ1"
      }
    }
  ]
}