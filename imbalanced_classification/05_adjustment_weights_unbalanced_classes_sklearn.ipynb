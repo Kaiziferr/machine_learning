{
  "nbformat": 4,
  "nbformat_minor": 0,
  "metadata": {
    "colab": {
      "provenance": [],
      "authorship_tag": "ABX9TyPCbXO/r1gWO7YhvyrcZbP7",
      "include_colab_link": true
    },
    "kernelspec": {
      "name": "python3",
      "display_name": "Python 3"
    },
    "language_info": {
      "name": "python"
    }
  },
  "cells": [
    {
      "cell_type": "markdown",
      "metadata": {
        "id": "view-in-github",
        "colab_type": "text"
      },
      "source": [
        "<a href=\"https://colab.research.google.com/github/Kaiziferr/machine_learning/blob/main/imbalanced_classification/05_adjustment_weights_unbalanced_classes_sklearn.ipynb\" target=\"_parent\"><img src=\"https://colab.research.google.com/assets/colab-badge.svg\" alt=\"Open In Colab\"/></a>"
      ]
    },
    {
      "cell_type": "code",
      "execution_count": 5,
      "metadata": {
        "id": "IHTDjpcPy5wP"
      },
      "outputs": [],
      "source": [
        "import warnings\n",
        "\n",
        "import pandas as pd\n",
        "import numpy as np\n",
        "\n",
        "import seaborn as sns\n",
        "import matplotlib.pyplot as plt\n",
        "from matplotlib.colors import ListedColormap\n",
        "\n",
        "from sklearn.model_selection import train_test_split, cross_val_score\n",
        "from sklearn.tree import DecisionTreeClassifier\n",
        "from sklearn import metrics, tree\n",
        "from sklearn.utils import class_weight\n"
      ]
    },
    {
      "cell_type": "markdown",
      "source": [
        "#**Settings**\n",
        "---"
      ],
      "metadata": {
        "id": "rlljHPDP1WP-"
      }
    },
    {
      "cell_type": "code",
      "source": [
        "warnings.filterwarnings('ignore')\n",
        "sns.set(style='darkgrid')\n",
        "random_seed = 12354"
      ],
      "metadata": {
        "id": "pU5uJ08l1b2V"
      },
      "execution_count": 6,
      "outputs": []
    },
    {
      "cell_type": "markdown",
      "source": [
        "# **Tools**\n",
        "---"
      ],
      "metadata": {
        "id": "CIfEa7zX1jMn"
      }
    },
    {
      "cell_type": "code",
      "source": [
        "\n",
        "def generate_colors(paleta:str=\"Set1\", n_colors:int=15)-> tuple:\n",
        "  \"\"\"color generator\"\"\"\n",
        "  try:\n",
        "    cmap = sns.color_palette(paleta, n_colors).as_hex()\n",
        "    list_camp = ListedColormap(cmap)\n",
        "    return cmap, list_camp\n",
        "  except Exception as e:\n",
        "    print(e)\n",
        "\n",
        "def plot_bar(data:pd.DataFrame, paleta:list=None, figsize_x:int=8, figsize_y:int=5,\n",
        "             fontsize:int=15, **kwards)->None:\n",
        "  \"\"\"Grafica un diagrama de barras con multiples caracteristicas\"\"\"\n",
        "  try:\n",
        "    paleta = paleta if paleta !=None else generate_colors()[0]\n",
        "    v = kwards\n",
        "    ejeX = v[\"ejeX\"]\n",
        "\n",
        "    fig, ax = plt.subplots(figsize = (figsize_x, figsize_y))\n",
        "    fig.suptitle(f'Diagrama de barras {v[\"title\"]}', fontsize=fontsize)\n",
        "\n",
        "    if type(ejeX) == str:\n",
        "      sns.countplot(x=ejeX, data=data, ax = ax, palette=paleta)\n",
        "    else:\n",
        "      ejeX = v['ejeX'][0]\n",
        "      sns.countplot(x=ejeX, hue=v['ejeX'][1], data=data, ax=ax, palette=paleta)\n",
        "\n",
        "    ax.set_ylabel(v['ejey'], size = 12)\n",
        "    ax.set_xlabel(ejeX, size=fontsize-3)\n",
        "\n",
        "    ax.set_xticklabels(ax.get_xticklabels(), fontsize = fontsize-3)\n",
        "    for p in ax.patches:\n",
        "      try:\n",
        "        height = int(p.get_height())\n",
        "        height_text = height\n",
        "        if kwards['p'] == True:\n",
        "          percentage = round(height/data.shape[0], 5)\n",
        "          height_text = f'{height} ({percentage})'\n",
        "        ax.text(p.get_x()+p.get_width()/2., height + 1, height_text, ha=\"center\")\n",
        "      except:\n",
        "        pass\n",
        "\n",
        "  except Exception as e:\n",
        "    print(e)"
      ],
      "metadata": {
        "id": "J9BXOmjY2yMW"
      },
      "execution_count": 7,
      "outputs": []
    },
    {
      "cell_type": "markdown",
      "source": [
        "# **Data Dictionary**\n",
        "---\n",
        "- `Name`: nombre de la ventana de tiempo.\n",
        "- `Netflows`: cantidad de netflows en la ventana de tiempo.\n",
        "- `First_Protocol`: top 1 de protocolos usados en la ventana de tiempo.\n",
        "- `Second_Protocol`: top 2 de protocolos usados en la ventana de tiempo.\n",
        "- `Third_Protocol`: top 3 de protocolos usados en la ventana de tiempo.\n",
        "- `p1_d`: 25% de los percentiles de todas las duraciones en la ventana de tiempo\n",
        "- `p2_d`: 50% de los percentiles de todas las duraciones en la ventana de tiempo\n",
        "- `p3_d`: 75% de los percentiles de todas las duraciones en la ventana de tiempo\n",
        "- `duration`: duración total de la ventana de tiempo\n",
        "- `max_d`: valor máximo de todas las duraciones en la ventana de tiempo.\n",
        "- `min_d`: valor mínimo de todas las duraciones en la ventana de tiempo.\n",
        "- `#packets`: número total de paquetes en la ventana de tiempo.\n",
        "- `Avg_bps`: promedio de bits por segundo en la ventana de tiempo.\n",
        "- `Avg_pps`: promedio de paquetes por segundo en la ventana de tiempo.\n",
        "- `Avg_bpp`: promedio de bytes por paquete en la ventana de tiempo.\n",
        "- `#Bytes`: número total de bytes en la ventana de tiempo.\n",
        "- `#sp`: número total de puertos de origen usados en la ventana de tiempo.\n",
        "- `#dp`: número total de puertos de destino usados en la ventana de tiempo.\n",
        "- `first_sp`: top 1 de los puertos de origen en la ventana de tiempo.\n",
        "- `second_sp`: top 2 de los puertos de origen en la ventana de tiempo.\n",
        "- `third_sp`: top 3 de los puertos de origen en la ventana de tiempo.\n",
        "- `first_dp`: top 1 de los puertos de destino en la ventana de tiempo.\n",
        "- `second_dp`: top 2 de los puertos de destino en la ventana de tiempo.\n",
        "- `third_dp`: top 3 de los puertos de destino en la ventana de tiempo.\n",
        "- `p1_ip`: 25% de los percentiles de todas las entradas de paquetes en la ventana de tiempo.\n",
        "- `p2_ip`: 50% de los percentiles de todas las entradas de paquetes en la ventana de tiempo.\n",
        "- `p3_ip`: 75% de los percentiles de todas las entradas de paquetes en la ventana de tiempo.\n",
        "- `p1_ib`: 25% de los percentiles de todas las entradas de bytes en la ventana de tiempo.\n",
        "- `p2_ib`: 50% de los percentiles de todas las entradas de bytes en la ventana de tiempo.\n",
        "- `p3_ib`: 75% de los percentiles de todas las entradas de bytes en la ventana de tiempo.\n",
        "- `Type`: tipo de ventana de tiempo\n",
        "  - `benignas`: 0\n",
        "  - `bitcash`: 1\n",
        "  - `bitcoin`: 2\n",
        "  - `ethereum `: 3\n",
        "  - `monero`: 4\n",
        "  - `litecoin`: 5\n"
      ],
      "metadata": {
        "id": "yWJWNHf71s0u"
      }
    },
    {
      "cell_type": "markdown",
      "source": [
        "# **Data**\n",
        "---"
      ],
      "metadata": {
        "id": "J5F2invV1_w-"
      }
    },
    {
      "cell_type": "code",
      "source": [
        "url = 'https://raw.githubusercontent.com/Kaiziferr/datasets/main/cryptojacking.csv'\n",
        "data = pd.read_csv(url, dtype=str).drop('Unnamed: 0', axis=1)"
      ],
      "metadata": {
        "id": "_bReHUMD1loN"
      },
      "execution_count": 8,
      "outputs": []
    },
    {
      "cell_type": "code",
      "source": [
        "data[[\n",
        "    'p1_d', 'p2_d', 'p3_d',\n",
        "    'duration', 'max_d', 'min_d',\n",
        "    'Avg_bps', 'Avg_pps','Avg_bpp',\n",
        "    'p1_ip', 'p2_ip', 'p3_ip',\n",
        "    'p1_ib', 'p2_ib','p3_ib']] = data[[\n",
        "    'p1_d', 'p2_d', 'p3_d',\n",
        "    'duration', 'max_d', 'min_d',\n",
        "    'Avg_bps', 'Avg_pps','Avg_bpp',\n",
        "    'p1_ip', 'p2_ip', 'p3_ip',\n",
        "    'p1_ib', 'p2_ib','p3_ib']].astype('float64')\n",
        "\n",
        "\n",
        "data[[\n",
        "    'Netflows', '#packets',\n",
        "    '#Bytes', '#sp', '#dp']] = data[[\n",
        "    'Netflows', '#packets',\n",
        "    '#Bytes', '#sp', '#dp']].astype('int64')\n"
      ],
      "metadata": {
        "id": "NPCvCGeBdPkc"
      },
      "execution_count": 9,
      "outputs": []
    },
    {
      "cell_type": "code",
      "source": [
        "plot_bar(\n",
        "    data,\n",
        "    paleta=None,\n",
        "    ejeX='Type',\n",
        "    ejey='count Tipo Criptomonedas',\n",
        "    title='Count Tipo Criptomonedas',\n",
        "    p=True)"
      ],
      "metadata": {
        "colab": {
          "base_uri": "https://localhost:8080/",
          "height": 526
        },
        "id": "u6iyebcq2SsN",
        "outputId": "500535f3-7aa0-4249-894a-4d2fd03cb66a"
      },
      "execution_count": 10,
      "outputs": [
        {
          "output_type": "display_data",
          "data": {
            "text/plain": [
              "<Figure size 800x500 with 1 Axes>"
            ],
            "image/png": "[encoded data removed]"
          },
          "metadata": {}
        }
      ]
    },
    {
      "cell_type": "markdown",
      "source": [
        "# **Split**\n",
        "---"
      ],
      "metadata": {
        "id": "c77UPOrlda2y"
      }
    },
    {
      "cell_type": "markdown",
      "source": [
        "I take some numeric feature for data split"
      ],
      "metadata": {
        "id": "ZyEq-S3oPneE"
      }
    },
    {
      "cell_type": "code",
      "source": [
        "X = data[['p1_d', 'p2_d', 'min_d', '#packets', 'Avg_bpp', 'p2_ip', 'p3_ip',\n",
        "       'p2_ib']]\n",
        "y = data.iloc[:,-1].astype(int)"
      ],
      "metadata": {
        "id": "rguv6t5YdcuR"
      },
      "execution_count": 11,
      "outputs": []
    },
    {
      "cell_type": "code",
      "source": [
        "X_train, X_test, y_train, y_test = train_test_split(\n",
        "    X,\n",
        "    y,\n",
        "    train_size=0.85,\n",
        "    random_state=random_seed,\n",
        "    shuffle=True,\n",
        "    stratify=y\n",
        ")"
      ],
      "metadata": {
        "id": "eJ3iib0Ac8rT"
      },
      "execution_count": 13,
      "outputs": []
    },
    {
      "cell_type": "markdown",
      "source": [
        "#**Model**\n",
        "---"
      ],
      "metadata": {
        "id": "4bhNqOrbkWrt"
      }
    },
    {
      "cell_type": "markdown",
      "source": [
        "Instantiate model with simple configurations."
      ],
      "metadata": {
        "id": "Fs7G3eLtks9T"
      }
    },
    {
      "cell_type": "code",
      "source": [
        "model = DecisionTreeClassifier(\n",
        "    criterion= \"gini\",\n",
        "    max_depth= 12,\n",
        "    min_samples_leaf= 1,\n",
        "    min_samples_split= 7,\n",
        "    random_state= random_seed,\n",
        "    splitter= 'best'\n",
        ")"
      ],
      "metadata": {
        "id": "_7V_vqAyjv_H"
      },
      "execution_count": 14,
      "outputs": []
    },
    {
      "cell_type": "code",
      "source": [
        "np.unique(y)"
      ],
      "metadata": {
        "colab": {
          "base_uri": "https://localhost:8080/"
        },
        "id": "RrOlT3gPoBvb",
        "outputId": "f2b64b34-2dbe-4423-97b2-f62fba31e8f6"
      },
      "execution_count": 15,
      "outputs": [
        {
          "output_type": "execute_result",
          "data": {
            "text/plain": [
              "array([0, 1, 2, 3, 4, 5])"
            ]
          },
          "metadata": {},
          "execution_count": 15
        }
      ]
    },
    {
      "cell_type": "markdown",
      "source": [
        "A metric is created to assess the model's performance concerning minority classes."
      ],
      "metadata": {
        "id": "NjdBI8AAU9Yh"
      }
    },
    {
      "cell_type": "code",
      "source": [
        "score_recall = metrics.make_scorer(\n",
        "    metrics.recall_score,\n",
        "    labels=[2, 4, 5],\n",
        "    average='micro'\n",
        ")"
      ],
      "metadata": {
        "id": "-LAZw5fcnkmF"
      },
      "execution_count": 16,
      "outputs": []
    },
    {
      "cell_type": "markdown",
      "source": [
        "Performance of model"
      ],
      "metadata": {
        "id": "1WULJGVKVMzk"
      }
    },
    {
      "cell_type": "code",
      "source": [
        "cv_scores = cross_val_score(\n",
        "    estimator = model,\n",
        "    X         = X,\n",
        "    y         = y,\n",
        "    scoring   = score_recall,\n",
        "    cv        = 10\n",
        ")"
      ],
      "metadata": {
        "id": "kmc3mIiqpMMc"
      },
      "execution_count": 17,
      "outputs": []
    },
    {
      "cell_type": "code",
      "source": [
        "cv_scores"
      ],
      "metadata": {
        "colab": {
          "base_uri": "https://localhost:8080/"
        },
        "id": "UaWtHyFgj-g6",
        "outputId": "edccc335-ac81-4e7d-9957-ddaa9897b602"
      },
      "execution_count": 18,
      "outputs": [
        {
          "output_type": "execute_result",
          "data": {
            "text/plain": [
              "array([0.88571429, 0.94366197, 0.78873239, 0.87323944, 0.90140845,\n",
              "       0.90140845, 0.83098592, 0.87142857, 0.84285714, 0.85714286])"
            ]
          },
          "metadata": {},
          "execution_count": 18
        }
      ]
    },
    {
      "cell_type": "code",
      "source": [
        "print(f\"Mean of cross validation: {cv_scores.mean()}\")\n",
        "print(f\"Cross Validation Metric Deviation: {cv_scores.std()}\")"
      ],
      "metadata": {
        "colab": {
          "base_uri": "https://localhost:8080/"
        },
        "id": "xEGVt0i5tGnm",
        "outputId": "934e36d5-4b38-4597-eba1-edea34b27621"
      },
      "execution_count": 19,
      "outputs": [
        {
          "output_type": "stream",
          "name": "stdout",
          "text": [
            "Mean of cross validation: 0.8696579476861167\n",
            "Cross Validation Metric Deviation: 0.04084842043531734\n"
          ]
        }
      ]
    },
    {
      "cell_type": "markdown",
      "source": [
        "Final prediction performance"
      ],
      "metadata": {
        "id": "LaUFb3UQtw6N"
      }
    },
    {
      "cell_type": "code",
      "source": [
        "model.fit(X_train, y_train)\n",
        "y_predict = model.predict(X_test)\n",
        "metrics.recall_score(\n",
        "    y_test,\n",
        "    y_predict,\n",
        "    labels=[2, 4, 5],\n",
        "    average='micro')"
      ],
      "metadata": {
        "colab": {
          "base_uri": "https://localhost:8080/"
        },
        "id": "dFRw5nTltQuK",
        "outputId": "9254b254-e4b4-43a9-9ed9-d9a2d05661d6"
      },
      "execution_count": 20,
      "outputs": [
        {
          "output_type": "execute_result",
          "data": {
            "text/plain": [
              "0.8113207547169812"
            ]
          },
          "metadata": {},
          "execution_count": 20
        }
      ]
    },
    {
      "cell_type": "markdown",
      "source": [
        "# **Setting Class Weights**\n",
        "---"
      ],
      "metadata": {
        "id": "fnOBpUsJhv5Y"
      }
    },
    {
      "cell_type": "markdown",
      "source": [
        "The weights balance\n"
      ],
      "metadata": {
        "id": "DAhMo77MWIJk"
      }
    },
    {
      "cell_type": "code",
      "source": [
        "weight = class_weight.compute_class_weight(\n",
        "    class_weight='balanced',\n",
        "    classes = np.unique(y),\n",
        "    y=y\n",
        ")\n",
        "\n",
        "weight = dict(zip(np.unique(y), weight))\n",
        "weight"
      ],
      "metadata": {
        "colab": {
          "base_uri": "https://localhost:8080/"
        },
        "id": "KlGsHZs3hvBW",
        "outputId": "fe7957d9-da90-42c1-952d-2872e03c40fd"
      },
      "execution_count": 21,
      "outputs": [
        {
          "output_type": "execute_result",
          "data": {
            "text/plain": [
              "{0: 0.6793582375478927,\n",
              " 1: 0.974914089347079,\n",
              " 2: 1.9143049932523617,\n",
              " 3: 0.49771929824561406,\n",
              " 4: 2.462673611111111,\n",
              " 5: 1.7709113607990012}"
            ]
          },
          "metadata": {},
          "execution_count": 21
        }
      ]
    },
    {
      "cell_type": "code",
      "source": [
        "model2 = DecisionTreeClassifier(\n",
        "    criterion= \"gini\",\n",
        "    max_depth= 12,\n",
        "    min_samples_leaf= 1,\n",
        "    min_samples_split= 7,\n",
        "    random_state= random_seed,\n",
        "    splitter= 'best',\n",
        "    class_weight = weight\n",
        ")"
      ],
      "metadata": {
        "id": "Wc3fr_Hi2vtE"
      },
      "execution_count": 22,
      "outputs": []
    },
    {
      "cell_type": "markdown",
      "source": [
        "Performance of model"
      ],
      "metadata": {
        "id": "Ax_AZbV5291-"
      }
    },
    {
      "cell_type": "code",
      "source": [
        "cv_scores = cross_val_score(\n",
        "    estimator = model2,\n",
        "    X         = X,\n",
        "    y         = y,\n",
        "    scoring   = score_recall,\n",
        "    cv        = 10\n",
        ")"
      ],
      "metadata": {
        "id": "8M_XXC-H22NO"
      },
      "execution_count": 23,
      "outputs": []
    },
    {
      "cell_type": "code",
      "source": [
        "cv_scores"
      ],
      "metadata": {
        "colab": {
          "base_uri": "https://localhost:8080/"
        },
        "id": "FMxNtIjx3CT9",
        "outputId": "d787bfd4-6813-40e7-8f54-3c3e983a5aee"
      },
      "execution_count": 24,
      "outputs": [
        {
          "output_type": "execute_result",
          "data": {
            "text/plain": [
              "array([0.85714286, 0.88732394, 0.81690141, 0.87323944, 0.90140845,\n",
              "       0.90140845, 0.87323944, 0.91428571, 0.91428571, 0.87142857])"
            ]
          },
          "metadata": {},
          "execution_count": 24
        }
      ]
    },
    {
      "cell_type": "code",
      "source": [
        "print(f\"Mean of cross validation: {cv_scores.mean()}\")\n",
        "print(f\"Cross Validation Metric Deviation: {cv_scores.std()}\")"
      ],
      "metadata": {
        "colab": {
          "base_uri": "https://localhost:8080/"
        },
        "id": "h_XIYGIQ3ECM",
        "outputId": "a14fd9c9-fe3c-40a0-8f85-0246df9bd721"
      },
      "execution_count": 25,
      "outputs": [
        {
          "output_type": "stream",
          "name": "stdout",
          "text": [
            "Mean of cross validation: 0.8810663983903421\n",
            "Cross Validation Metric Deviation: 0.028246580472789384\n"
          ]
        }
      ]
    },
    {
      "cell_type": "code",
      "source": [
        "model2.fit(X_train, y_train)\n",
        "y_predict = model2.predict(X_test)\n",
        "metrics.recall_score(\n",
        "    y_test,\n",
        "    y_predict,\n",
        "    labels=[2, 4, 5],\n",
        "    average='micro')"
      ],
      "metadata": {
        "colab": {
          "base_uri": "https://localhost:8080/"
        },
        "id": "lvMXo-us3IOb",
        "outputId": "22e4ca2e-a2c9-4514-8487-55b381c3a5e8"
      },
      "execution_count": 26,
      "outputs": [
        {
          "output_type": "execute_result",
          "data": {
            "text/plain": [
              "0.839622641509434"
            ]
          },
          "metadata": {},
          "execution_count": 26
        }
      ]
    },
    {
      "cell_type": "markdown",
      "source": [
        "The model had a small improvement, where it went from 0.81 to 0.84"
      ],
      "metadata": {
        "id": "1-4oQQIB3uZV"
      }
    }
  ]
}