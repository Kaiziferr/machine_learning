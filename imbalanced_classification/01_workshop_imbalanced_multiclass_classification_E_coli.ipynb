{
  "nbformat": 4,
  "nbformat_minor": 0,
  "metadata": {
    "colab": {
      "name": "01_workshop_imbalanced_multiclass_classification_E.coli.ipynb",
      "provenance": [],
      "collapsed_sections": [],
      "authorship_tag": "ABX9TyNi31ceh8EzAYebTONdbyWI",
      "include_colab_link": true
    },
    "kernelspec": {
      "name": "python3",
      "display_name": "Python 3"
    },
    "language_info": {
      "name": "python"
    }
  },
  "cells": [
    {
      "cell_type": "markdown",
      "metadata": {
        "id": "view-in-github",
        "colab_type": "text"
      },
      "source": [
        "<a href=\"https://colab.research.google.com/github/Kaiziferr/machine_learning/blob/main/imbalanced_classification/01_workshop_imbalanced_multiclass_classification_E_coli.ipynb\" target=\"_parent\"><img src=\"https://colab.research.google.com/assets/colab-badge.svg\" alt=\"Open In Colab\"/></a>"
      ]
    },
    {
      "cell_type": "markdown",
      "source": [
        "# **Contexto**\n",
        "---\n",
        "\n",
        "El conjunto de datos describe el problema de clasificar las proteínas de E.coli utilizando sus secuencias de aminoácidos en sus sitios de localización celular. Es decir, predecir cómo se unirá una proteína a una célula en función de la composición química de la proteína antes de que se pliegue.\n",
        "\n",
        "- Se clasificaron 336 proteínas de E.coli en 8 clases con una precisión del 81 %...\n",
        "\n",
        "\n"
      ],
      "metadata": {
        "id": "1rMgrje7M_I0"
      }
    },
    {
      "cell_type": "markdown",
      "source": [
        "# **Diccionario de datos**\n",
        "---\n",
        "- `mcg` : método de McGeoch para el reconocimiento de secuencias de señales\n",
        "- `gvh` : método de von Heijne para el reconocimiento de secuencias de señales.\n",
        "- `lip` : puntuación de la secuencia consenso de Signal Peptidase II de von Heijne.\n",
        "- `chg` : presencia de carga en el extremo N de las lipoproteínas predichas.\n",
        "- `aac` : puntuación del análisis discriminante del contenido de aminoácidos de la membrana externa y proteínas periplásmicas.\n",
        "- `alm1`: puntuación del programa de predicción de la región transmembrana de ALOM.\n",
        "- `alm2`: puntuación del programa ALOM después de excluir de la secuencia las supuestas regiones señal escindibles.\n",
        "- `class`:\n",
        "  - cp : citoplasma\n",
        "  - im : membrana interna sin secuencia señal\n",
        "  - imS : membrana interna, secuencia de señal escindible\n",
        "  - imL : lipoproteína de la membrana interna\n",
        "  - imU : membrana interna, secuencia de señal no escindible\n",
        "  - om : membrana externa\n",
        "  - omL : lipoproteína de la membrana externa\n",
        "  - pp : periplasma\n",
        "\n",
        "\n",
        "\n",
        "\n",
        "\n"
      ],
      "metadata": {
        "id": "AjTtanjtNXee"
      }
    },
    {
      "cell_type": "code",
      "source": [
        "import pandas as pd\n",
        "import seaborn as sns\n",
        "import matplotlib.pyplot as plt\n",
        "import numpy as np\n",
        "from numpy import std, mean\n",
        "\n",
        "from scipy import stats\n",
        "\n",
        "from sklearn.model_selection import train_test_split, RepeatedStratifiedKFold, cross_val_score\n",
        "from sklearn.dummy import DummyClassifier\n",
        "\n",
        "from sklearn.preprocessing import LabelEncoder\n",
        "\n",
        "from sklearn.metrics import f1_score\n",
        "\n",
        "from imblearn.pipeline import Pipeline\n",
        "from imblearn.over_sampling import SMOTE"
      ],
      "metadata": {
        "id": "jbhNEk3IPdDa"
      },
      "execution_count": 1,
      "outputs": []
    },
    {
      "cell_type": "markdown",
      "source": [
        "# **Data**\n",
        "---"
      ],
      "metadata": {
        "id": "mhcNsfndPLsL"
      }
    },
    {
      "cell_type": "code",
      "execution_count": 2,
      "metadata": {
        "colab": {
          "base_uri": "https://localhost:8080/",
          "height": 424
        },
        "id": "NX1vdgUnJ768",
        "outputId": "fb507e22-8823-4e98-9640-fdbfcd302335"
      },
      "outputs": [
        {
          "output_type": "execute_result",
          "data": {
            "text/plain": [
              "        0     1     2    3     4     5     6   7\n",
              "0    0.49  0.29  0.48  0.5  0.56  0.24  0.35  cp\n",
              "1    0.07  0.40  0.48  0.5  0.54  0.35  0.44  cp\n",
              "2    0.56  0.40  0.48  0.5  0.49  0.37  0.46  cp\n",
              "3    0.59  0.49  0.48  0.5  0.52  0.45  0.36  cp\n",
              "4    0.23  0.32  0.48  0.5  0.55  0.25  0.35  cp\n",
              "..    ...   ...   ...  ...   ...   ...   ...  ..\n",
              "331  0.74  0.56  0.48  0.5  0.47  0.68  0.30  pp\n",
              "332  0.71  0.57  0.48  0.5  0.48  0.35  0.32  pp\n",
              "333  0.61  0.60  0.48  0.5  0.44  0.39  0.38  pp\n",
              "334  0.59  0.61  0.48  0.5  0.42  0.42  0.37  pp\n",
              "335  0.74  0.74  0.48  0.5  0.31  0.53  0.52  pp\n",
              "\n",
              "[336 rows x 8 columns]"
            ],
            "text/html": [
              "\n",
              "  <div id=\"df-81e2755e-445a-40b7-a84c-2a92dfa7cbb5\">\n",
              "    <div class=\"colab-df-container\">\n",
              "      <div>\n",
              "<style scoped>\n",
              "    .dataframe tbody tr th:only-of-type {\n",
              "        vertical-align: middle;\n",
              "    }\n",
              "\n",
              "    .dataframe tbody tr th {\n",
              "        vertical-align: top;\n",
              "    }\n",
              "\n",
              "    .dataframe thead th {\n",
              "        text-align: right;\n",
              "    }\n",
              "</style>\n",
              "<table border=\"1\" class=\"dataframe\">\n",
              "  <thead>\n",
              "    <tr style=\"text-align: right;\">\n",
              "      <th></th>\n",
              "      <th>0</th>\n",
              "      <th>1</th>\n",
              "      <th>2</th>\n",
              "      <th>3</th>\n",
              "      <th>4</th>\n",
              "      <th>5</th>\n",
              "      <th>6</th>\n",
              "      <th>7</th>\n",
              "    </tr>\n",
              "  </thead>\n",
              "  <tbody>\n",
              "    <tr>\n",
              "      <th>0</th>\n",
              "      <td>0.49</td>\n",
              "      <td>0.29</td>\n",
              "      <td>0.48</td>\n",
              "      <td>0.5</td>\n",
              "      <td>0.56</td>\n",
              "      <td>0.24</td>\n",
              "      <td>0.35</td>\n",
              "      <td>cp</td>\n",
              "    </tr>\n",
              "    <tr>\n",
              "      <th>1</th>\n",
              "      <td>0.07</td>\n",
              "      <td>0.40</td>\n",
              "      <td>0.48</td>\n",
              "      <td>0.5</td>\n",
              "      <td>0.54</td>\n",
              "      <td>0.35</td>\n",
              "      <td>0.44</td>\n",
              "      <td>cp</td>\n",
              "    </tr>\n",
              "    <tr>\n",
              "      <th>2</th>\n",
              "      <td>0.56</td>\n",
              "      <td>0.40</td>\n",
              "      <td>0.48</td>\n",
              "      <td>0.5</td>\n",
              "      <td>0.49</td>\n",
              "      <td>0.37</td>\n",
              "      <td>0.46</td>\n",
              "      <td>cp</td>\n",
              "    </tr>\n",
              "    <tr>\n",
              "      <th>3</th>\n",
              "      <td>0.59</td>\n",
              "      <td>0.49</td>\n",
              "      <td>0.48</td>\n",
              "      <td>0.5</td>\n",
              "      <td>0.52</td>\n",
              "      <td>0.45</td>\n",
              "      <td>0.36</td>\n",
              "      <td>cp</td>\n",
              "    </tr>\n",
              "    <tr>\n",
              "      <th>4</th>\n",
              "      <td>0.23</td>\n",
              "      <td>0.32</td>\n",
              "      <td>0.48</td>\n",
              "      <td>0.5</td>\n",
              "      <td>0.55</td>\n",
              "      <td>0.25</td>\n",
              "      <td>0.35</td>\n",
              "      <td>cp</td>\n",
              "    </tr>\n",
              "    <tr>\n",
              "      <th>...</th>\n",
              "      <td>...</td>\n",
              "      <td>...</td>\n",
              "      <td>...</td>\n",
              "      <td>...</td>\n",
              "      <td>...</td>\n",
              "      <td>...</td>\n",
              "      <td>...</td>\n",
              "      <td>...</td>\n",
              "    </tr>\n",
              "    <tr>\n",
              "      <th>331</th>\n",
              "      <td>0.74</td>\n",
              "      <td>0.56</td>\n",
              "      <td>0.48</td>\n",
              "      <td>0.5</td>\n",
              "      <td>0.47</td>\n",
              "      <td>0.68</td>\n",
              "      <td>0.30</td>\n",
              "      <td>pp</td>\n",
              "    </tr>\n",
              "    <tr>\n",
              "      <th>332</th>\n",
              "      <td>0.71</td>\n",
              "      <td>0.57</td>\n",
              "      <td>0.48</td>\n",
              "      <td>0.5</td>\n",
              "      <td>0.48</td>\n",
              "      <td>0.35</td>\n",
              "      <td>0.32</td>\n",
              "      <td>pp</td>\n",
              "    </tr>\n",
              "    <tr>\n",
              "      <th>333</th>\n",
              "      <td>0.61</td>\n",
              "      <td>0.60</td>\n",
              "      <td>0.48</td>\n",
              "      <td>0.5</td>\n",
              "      <td>0.44</td>\n",
              "      <td>0.39</td>\n",
              "      <td>0.38</td>\n",
              "      <td>pp</td>\n",
              "    </tr>\n",
              "    <tr>\n",
              "      <th>334</th>\n",
              "      <td>0.59</td>\n",
              "      <td>0.61</td>\n",
              "      <td>0.48</td>\n",
              "      <td>0.5</td>\n",
              "      <td>0.42</td>\n",
              "      <td>0.42</td>\n",
              "      <td>0.37</td>\n",
              "      <td>pp</td>\n",
              "    </tr>\n",
              "    <tr>\n",
              "      <th>335</th>\n",
              "      <td>0.74</td>\n",
              "      <td>0.74</td>\n",
              "      <td>0.48</td>\n",
              "      <td>0.5</td>\n",
              "      <td>0.31</td>\n",
              "      <td>0.53</td>\n",
              "      <td>0.52</td>\n",
              "      <td>pp</td>\n",
              "    </tr>\n",
              "  </tbody>\n",
              "</table>\n",
              "<p>336 rows × 8 columns</p>\n",
              "</div>\n",
              "      <button class=\"colab-df-convert\" onclick=\"convertToInteractive('df-81e2755e-445a-40b7-a84c-2a92dfa7cbb5')\"\n",
              "              title=\"Convert this dataframe to an interactive table.\"\n",
              "              style=\"display:none;\">\n",
              "        \n",
              "  <svg xmlns=\"http://www.w3.org/2000/svg\" height=\"24px\"viewBox=\"0 0 24 24\"\n",
              "       width=\"24px\">\n",
              "    <path d=\"M0 0h24v24H0V0z\" fill=\"none\"/>\n",
              "    <path d=\"M18.56 5.44l.94 2.06.94-2.06 2.06-.94-2.06-.94-.94-2.06-.94 2.06-2.06.94zm-11 1L8.5 8.5l.94-2.06 2.06-.94-2.06-.94L8.5 2.5l-.94 2.06-2.06.94zm10 10l.94 2.06.94-2.06 2.06-.94-2.06-.94-.94-2.06-.94 2.06-2.06.94z\"/><path d=\"M17.41 7.96l-1.37-1.37c-.4-.4-.92-.59-1.43-.59-.52 0-1.04.2-1.43.59L10.3 9.45l-7.72 7.72c-.78.78-.78 2.05 0 2.83L4 21.41c.39.39.9.59 1.41.59.51 0 1.02-.2 1.41-.59l7.78-7.78 2.81-2.81c.8-.78.8-2.07 0-2.86zM5.41 20L4 18.59l7.72-7.72 1.47 1.35L5.41 20z\"/>\n",
              "  </svg>\n",
              "      </button>\n",
              "      \n",
              "  <style>\n",
              "    .colab-df-container {\n",
              "      display:flex;\n",
              "      flex-wrap:wrap;\n",
              "      gap: 12px;\n",
              "    }\n",
              "\n",
              "    .colab-df-convert {\n",
              "      background-color: #E8F0FE;\n",
              "      border: none;\n",
              "      border-radius: 50%;\n",
              "      cursor: pointer;\n",
              "      display: none;\n",
              "      fill: #1967D2;\n",
              "      height: 32px;\n",
              "      padding: 0 0 0 0;\n",
              "      width: 32px;\n",
              "    }\n",
              "\n",
              "    .colab-df-convert:hover {\n",
              "      background-color: #E2EBFA;\n",
              "      box-shadow: 0px 1px 2px rgba(60, 64, 67, 0.3), 0px 1px 3px 1px rgba(60, 64, 67, 0.15);\n",
              "      fill: #174EA6;\n",
              "    }\n",
              "\n",
              "    [theme=dark] .colab-df-convert {\n",
              "      background-color: #3B4455;\n",
              "      fill: #D2E3FC;\n",
              "    }\n",
              "\n",
              "    [theme=dark] .colab-df-convert:hover {\n",
              "      background-color: #434B5C;\n",
              "      box-shadow: 0px 1px 3px 1px rgba(0, 0, 0, 0.15);\n",
              "      filter: drop-shadow(0px 1px 2px rgba(0, 0, 0, 0.3));\n",
              "      fill: #FFFFFF;\n",
              "    }\n",
              "  </style>\n",
              "\n",
              "      <script>\n",
              "        const buttonEl =\n",
              "          document.querySelector('#df-81e2755e-445a-40b7-a84c-2a92dfa7cbb5 button.colab-df-convert');\n",
              "        buttonEl.style.display =\n",
              "          google.colab.kernel.accessAllowed ? 'block' : 'none';\n",
              "\n",
              "        async function convertToInteractive(key) {\n",
              "          const element = document.querySelector('#df-81e2755e-445a-40b7-a84c-2a92dfa7cbb5');\n",
              "          const dataTable =\n",
              "            await google.colab.kernel.invokeFunction('convertToInteractive',\n",
              "                                                     [key], {});\n",
              "          if (!dataTable) return;\n",
              "\n",
              "          const docLinkHtml = 'Like what you see? Visit the ' +\n",
              "            '<a target=\"_blank\" href=https://colab.research.google.com/notebooks/data_table.ipynb>data table notebook</a>'\n",
              "            + ' to learn more about interactive tables.';\n",
              "          element.innerHTML = '';\n",
              "          dataTable['output_type'] = 'display_data';\n",
              "          await google.colab.output.renderOutput(dataTable, element);\n",
              "          const docLink = document.createElement('div');\n",
              "          docLink.innerHTML = docLinkHtml;\n",
              "          element.appendChild(docLink);\n",
              "        }\n",
              "      </script>\n",
              "    </div>\n",
              "  </div>\n",
              "  "
            ]
          },
          "metadata": {},
          "execution_count": 2
        }
      ],
      "source": [
        "data = pd.read_csv('https://raw.githubusercontent.com/jbrownlee/Datasets/master/ecoli.csv', header = None)\n",
        "data"
      ]
    },
    {
      "cell_type": "code",
      "source": [
        "def plot_bars(data, title: str= 'feature', x_size:int=6, y_size:int=5, \n",
        "              font_size:int=15):\n",
        "  fig, ax = plt.subplots(figsize = (x_size, y_size))\n",
        "  fig.suptitle(f'Count plot {title}', fontsize = font_size)\n",
        "  sns.countplot(x = data, ax = ax)\n",
        "  len_data = data.shape[0]\n",
        "\n",
        "  for p in ax.patches:\n",
        "    height = int(p.get_height())\n",
        "    porc = '{0:.2f}%'.format(height/len_data)\n",
        "    plt.text(p.get_x()+p.get_width()/2., height-height*0.05, porc, ha=\"center\", backgroundcolor='y')"
      ],
      "metadata": {
        "id": "XXRWtyA8P7S6"
      },
      "execution_count": 3,
      "outputs": []
    },
    {
      "cell_type": "markdown",
      "source": [
        "# **Info**\n",
        "---\n"
      ],
      "metadata": {
        "id": "Vzej9PAdF13a"
      }
    },
    {
      "cell_type": "code",
      "source": [
        "data.describe()"
      ],
      "metadata": {
        "colab": {
          "base_uri": "https://localhost:8080/",
          "height": 300
        },
        "id": "0B61kh2aF5KR",
        "outputId": "eae3ad25-0bcc-407e-8a7f-99d86cca4409"
      },
      "execution_count": 4,
      "outputs": [
        {
          "output_type": "execute_result",
          "data": {
            "text/plain": [
              "                0           1           2           3           4           5  \\\n",
              "count  336.000000  336.000000  336.000000  336.000000  336.000000  336.000000   \n",
              "mean     0.500060    0.500000    0.495476    0.501488    0.500030    0.500179   \n",
              "std      0.194634    0.148157    0.088495    0.027277    0.122376    0.215751   \n",
              "min      0.000000    0.160000    0.480000    0.500000    0.000000    0.030000   \n",
              "25%      0.340000    0.400000    0.480000    0.500000    0.420000    0.330000   \n",
              "50%      0.500000    0.470000    0.480000    0.500000    0.495000    0.455000   \n",
              "75%      0.662500    0.570000    0.480000    0.500000    0.570000    0.710000   \n",
              "max      0.890000    1.000000    1.000000    1.000000    0.880000    1.000000   \n",
              "\n",
              "                6  \n",
              "count  336.000000  \n",
              "mean     0.499732  \n",
              "std      0.209411  \n",
              "min      0.000000  \n",
              "25%      0.350000  \n",
              "50%      0.430000  \n",
              "75%      0.710000  \n",
              "max      0.990000  "
            ],
            "text/html": [
              "\n",
              "  <div id=\"df-59a18296-c0fd-4824-a886-224c82cf86d2\">\n",
              "    <div class=\"colab-df-container\">\n",
              "      <div>\n",
              "<style scoped>\n",
              "    .dataframe tbody tr th:only-of-type {\n",
              "        vertical-align: middle;\n",
              "    }\n",
              "\n",
              "    .dataframe tbody tr th {\n",
              "        vertical-align: top;\n",
              "    }\n",
              "\n",
              "    .dataframe thead th {\n",
              "        text-align: right;\n",
              "    }\n",
              "</style>\n",
              "<table border=\"1\" class=\"dataframe\">\n",
              "  <thead>\n",
              "    <tr style=\"text-align: right;\">\n",
              "      <th></th>\n",
              "      <th>0</th>\n",
              "      <th>1</th>\n",
              "      <th>2</th>\n",
              "      <th>3</th>\n",
              "      <th>4</th>\n",
              "      <th>5</th>\n",
              "      <th>6</th>\n",
              "    </tr>\n",
              "  </thead>\n",
              "  <tbody>\n",
              "    <tr>\n",
              "      <th>count</th>\n",
              "      <td>336.000000</td>\n",
              "      <td>336.000000</td>\n",
              "      <td>336.000000</td>\n",
              "      <td>336.000000</td>\n",
              "      <td>336.000000</td>\n",
              "      <td>336.000000</td>\n",
              "      <td>336.000000</td>\n",
              "    </tr>\n",
              "    <tr>\n",
              "      <th>mean</th>\n",
              "      <td>0.500060</td>\n",
              "      <td>0.500000</td>\n",
              "      <td>0.495476</td>\n",
              "      <td>0.501488</td>\n",
              "      <td>0.500030</td>\n",
              "      <td>0.500179</td>\n",
              "      <td>0.499732</td>\n",
              "    </tr>\n",
              "    <tr>\n",
              "      <th>std</th>\n",
              "      <td>0.194634</td>\n",
              "      <td>0.148157</td>\n",
              "      <td>0.088495</td>\n",
              "      <td>0.027277</td>\n",
              "      <td>0.122376</td>\n",
              "      <td>0.215751</td>\n",
              "      <td>0.209411</td>\n",
              "    </tr>\n",
              "    <tr>\n",
              "      <th>min</th>\n",
              "      <td>0.000000</td>\n",
              "      <td>0.160000</td>\n",
              "      <td>0.480000</td>\n",
              "      <td>0.500000</td>\n",
              "      <td>0.000000</td>\n",
              "      <td>0.030000</td>\n",
              "      <td>0.000000</td>\n",
              "    </tr>\n",
              "    <tr>\n",
              "      <th>25%</th>\n",
              "      <td>0.340000</td>\n",
              "      <td>0.400000</td>\n",
              "      <td>0.480000</td>\n",
              "      <td>0.500000</td>\n",
              "      <td>0.420000</td>\n",
              "      <td>0.330000</td>\n",
              "      <td>0.350000</td>\n",
              "    </tr>\n",
              "    <tr>\n",
              "      <th>50%</th>\n",
              "      <td>0.500000</td>\n",
              "      <td>0.470000</td>\n",
              "      <td>0.480000</td>\n",
              "      <td>0.500000</td>\n",
              "      <td>0.495000</td>\n",
              "      <td>0.455000</td>\n",
              "      <td>0.430000</td>\n",
              "    </tr>\n",
              "    <tr>\n",
              "      <th>75%</th>\n",
              "      <td>0.662500</td>\n",
              "      <td>0.570000</td>\n",
              "      <td>0.480000</td>\n",
              "      <td>0.500000</td>\n",
              "      <td>0.570000</td>\n",
              "      <td>0.710000</td>\n",
              "      <td>0.710000</td>\n",
              "    </tr>\n",
              "    <tr>\n",
              "      <th>max</th>\n",
              "      <td>0.890000</td>\n",
              "      <td>1.000000</td>\n",
              "      <td>1.000000</td>\n",
              "      <td>1.000000</td>\n",
              "      <td>0.880000</td>\n",
              "      <td>1.000000</td>\n",
              "      <td>0.990000</td>\n",
              "    </tr>\n",
              "  </tbody>\n",
              "</table>\n",
              "</div>\n",
              "      <button class=\"colab-df-convert\" onclick=\"convertToInteractive('df-59a18296-c0fd-4824-a886-224c82cf86d2')\"\n",
              "              title=\"Convert this dataframe to an interactive table.\"\n",
              "              style=\"display:none;\">\n",
              "        \n",
              "  <svg xmlns=\"http://www.w3.org/2000/svg\" height=\"24px\"viewBox=\"0 0 24 24\"\n",
              "       width=\"24px\">\n",
              "    <path d=\"M0 0h24v24H0V0z\" fill=\"none\"/>\n",
              "    <path d=\"M18.56 5.44l.94 2.06.94-2.06 2.06-.94-2.06-.94-.94-2.06-.94 2.06-2.06.94zm-11 1L8.5 8.5l.94-2.06 2.06-.94-2.06-.94L8.5 2.5l-.94 2.06-2.06.94zm10 10l.94 2.06.94-2.06 2.06-.94-2.06-.94-.94-2.06-.94 2.06-2.06.94z\"/><path d=\"M17.41 7.96l-1.37-1.37c-.4-.4-.92-.59-1.43-.59-.52 0-1.04.2-1.43.59L10.3 9.45l-7.72 7.72c-.78.78-.78 2.05 0 2.83L4 21.41c.39.39.9.59 1.41.59.51 0 1.02-.2 1.41-.59l7.78-7.78 2.81-2.81c.8-.78.8-2.07 0-2.86zM5.41 20L4 18.59l7.72-7.72 1.47 1.35L5.41 20z\"/>\n",
              "  </svg>\n",
              "      </button>\n",
              "      \n",
              "  <style>\n",
              "    .colab-df-container {\n",
              "      display:flex;\n",
              "      flex-wrap:wrap;\n",
              "      gap: 12px;\n",
              "    }\n",
              "\n",
              "    .colab-df-convert {\n",
              "      background-color: #E8F0FE;\n",
              "      border: none;\n",
              "      border-radius: 50%;\n",
              "      cursor: pointer;\n",
              "      display: none;\n",
              "      fill: #1967D2;\n",
              "      height: 32px;\n",
              "      padding: 0 0 0 0;\n",
              "      width: 32px;\n",
              "    }\n",
              "\n",
              "    .colab-df-convert:hover {\n",
              "      background-color: #E2EBFA;\n",
              "      box-shadow: 0px 1px 2px rgba(60, 64, 67, 0.3), 0px 1px 3px 1px rgba(60, 64, 67, 0.15);\n",
              "      fill: #174EA6;\n",
              "    }\n",
              "\n",
              "    [theme=dark] .colab-df-convert {\n",
              "      background-color: #3B4455;\n",
              "      fill: #D2E3FC;\n",
              "    }\n",
              "\n",
              "    [theme=dark] .colab-df-convert:hover {\n",
              "      background-color: #434B5C;\n",
              "      box-shadow: 0px 1px 3px 1px rgba(0, 0, 0, 0.15);\n",
              "      filter: drop-shadow(0px 1px 2px rgba(0, 0, 0, 0.3));\n",
              "      fill: #FFFFFF;\n",
              "    }\n",
              "  </style>\n",
              "\n",
              "      <script>\n",
              "        const buttonEl =\n",
              "          document.querySelector('#df-59a18296-c0fd-4824-a886-224c82cf86d2 button.colab-df-convert');\n",
              "        buttonEl.style.display =\n",
              "          google.colab.kernel.accessAllowed ? 'block' : 'none';\n",
              "\n",
              "        async function convertToInteractive(key) {\n",
              "          const element = document.querySelector('#df-59a18296-c0fd-4824-a886-224c82cf86d2');\n",
              "          const dataTable =\n",
              "            await google.colab.kernel.invokeFunction('convertToInteractive',\n",
              "                                                     [key], {});\n",
              "          if (!dataTable) return;\n",
              "\n",
              "          const docLinkHtml = 'Like what you see? Visit the ' +\n",
              "            '<a target=\"_blank\" href=https://colab.research.google.com/notebooks/data_table.ipynb>data table notebook</a>'\n",
              "            + ' to learn more about interactive tables.';\n",
              "          element.innerHTML = '';\n",
              "          dataTable['output_type'] = 'display_data';\n",
              "          await google.colab.output.renderOutput(dataTable, element);\n",
              "          const docLink = document.createElement('div');\n",
              "          docLink.innerHTML = docLinkHtml;\n",
              "          element.appendChild(docLink);\n",
              "        }\n",
              "      </script>\n",
              "    </div>\n",
              "  </div>\n",
              "  "
            ]
          },
          "metadata": {},
          "execution_count": 4
        }
      ]
    },
    {
      "cell_type": "markdown",
      "source": [
        "- Se puede observar que los datos fueron normalizados, ya que la media es muy cercana a cero y la desviación cercana a uno."
      ],
      "metadata": {
        "id": "79j4vi3LGFwv"
      }
    },
    {
      "cell_type": "markdown",
      "source": [
        "# **Data split**\n",
        "---"
      ],
      "metadata": {
        "id": "CZsFYOo5QDUC"
      }
    },
    {
      "cell_type": "code",
      "source": [
        "X = data.iloc[:, :-1]\n",
        "y = data.iloc[:,-1]"
      ],
      "metadata": {
        "id": "KItSnfiLQC7K"
      },
      "execution_count": 5,
      "outputs": []
    },
    {
      "cell_type": "code",
      "source": [
        "# Encodizar\n",
        "\n",
        "estimator = LabelEncoder()\n",
        "y = estimator.fit_transform(y)"
      ],
      "metadata": {
        "id": "2h7HGyZqfD_8"
      },
      "execution_count": 6,
      "outputs": []
    },
    {
      "cell_type": "code",
      "source": [
        "plot_bars(y, 'chemical composition')"
      ],
      "metadata": {
        "colab": {
          "base_uri": "https://localhost:8080/",
          "height": 356
        },
        "id": "_Xpp705-P-Lp",
        "outputId": "35b69a6f-cf32-4074-d04e-f1d96eb29ebc"
      },
      "execution_count": 7,
      "outputs": [
        {
          "output_type": "display_data",
          "data": {
            "text/plain": [
              "<Figure size 432x360 with 1 Axes>"
            ],
            "image/png": "[encoded data removed]"
          },
          "metadata": {
            "needs_background": "light"
          }
        }
      ]
    },
    {
      "cell_type": "markdown",
      "source": [
        "- El conjunto de datos sufre un desbalance critico en categorias como imS, imL y omL que tienen alrededor de un 1%"
      ],
      "metadata": {
        "id": "gIDCjqEiQ-VB"
      }
    },
    {
      "cell_type": "markdown",
      "source": [
        "# **Evaluar algoritmos de aprendizaje automático**\n",
        "---"
      ],
      "metadata": {
        "id": "_-wYMENHj2uZ"
      }
    },
    {
      "cell_type": "markdown",
      "source": [
        "- Se entrena un modelo dummy con la configuración mas \"most_frequent\" que predecira la clase mayoritaria.\n",
        "- Despues se evaluaran distintos modelos no otimizados, osea con hiperparametros por defecto (ya que es solo para el aprendizaje de está practica.)"
      ],
      "metadata": {
        "id": "xh91GSpBmJsm"
      }
    },
    {
      "cell_type": "markdown",
      "source": [
        "# **Modelos dummy o base linel**\n",
        "---\n"
      ],
      "metadata": {
        "id": "CO1AL4O7nZd6"
      }
    },
    {
      "cell_type": "code",
      "source": [
        "# por motivos de la practica el metodo utiliza como metrica del accuracy,\n",
        "# la cual no es muy recomendable para aprendizaje desbalanceado.\n",
        "\n",
        "def evaluate_model(X, y, model):\n",
        "  # Procedure\n",
        "  cv = RepeatedStratifiedKFold(n_splits=5, n_repeats=3, random_state=1234)\n",
        "  # evaluate model\n",
        "  scores = cross_val_score(model, X, y, scoring=\"accuracy\", cv=cv, n_jobs=1)\n",
        "  return scores"
      ],
      "metadata": {
        "id": "5M-ENDPXkFdU"
      },
      "execution_count": 8,
      "outputs": []
    },
    {
      "cell_type": "code",
      "source": [
        "# Definimos el modelo base, para obtener la linea base\n",
        "model_dummy = DummyClassifier(strategy='most_frequent')"
      ],
      "metadata": {
        "id": "n46sdazhjaGZ"
      },
      "execution_count": 9,
      "outputs": []
    },
    {
      "cell_type": "code",
      "source": [
        "score = evaluate_model(X, y, model_dummy)"
      ],
      "metadata": {
        "colab": {
          "base_uri": "https://localhost:8080/"
        },
        "id": "BKv99rTpj84j",
        "outputId": "c92f540e-1da2-4f92-d46c-df2442dda8c5"
      },
      "execution_count": 10,
      "outputs": [
        {
          "output_type": "stream",
          "name": "stderr",
          "text": [
            "/usr/local/lib/python3.7/dist-packages/sklearn/model_selection/_split.py:680: UserWarning: The least populated class in y has only 2 members, which is less than n_splits=5.\n",
            "  UserWarning,\n",
            "/usr/local/lib/python3.7/dist-packages/sklearn/model_selection/_split.py:680: UserWarning: The least populated class in y has only 2 members, which is less than n_splits=5.\n",
            "  UserWarning,\n",
            "/usr/local/lib/python3.7/dist-packages/sklearn/model_selection/_split.py:680: UserWarning: The least populated class in y has only 2 members, which is less than n_splits=5.\n",
            "  UserWarning,\n"
          ]
        }
      ]
    },
    {
      "cell_type": "code",
      "source": [
        "print('Mean Accuracy: %.3f (%.3f)' % (mean(score), std(score)))"
      ],
      "metadata": {
        "id": "Sb28ObhwuGVA",
        "colab": {
          "base_uri": "https://localhost:8080/"
        },
        "outputId": "1393ac04-134a-4a48-adee-b97f0658046f"
      },
      "execution_count": 11,
      "outputs": [
        {
          "output_type": "stream",
          "name": "stdout",
          "text": [
            "Mean Accuracy: 0.426 (0.007)\n"
          ]
        }
      ]
    },
    {
      "cell_type": "code",
      "source": [
        "print('''\n",
        "Se aplico la validación cruzada estratificada repetida y se aprecia la media \n",
        "y la desviación estandar alrededor de la precisión de clasificación del \n",
        "''')\n",
        "print('Mean Accuracy: %.3f (%.3f) respectivamente' % (mean(score), std(score)))"
      ],
      "metadata": {
        "colab": {
          "base_uri": "https://localhost:8080/"
        },
        "id": "H3HISD8ug6gd",
        "outputId": "796db62b-300f-4261-da8c-6c0287610944"
      },
      "execution_count": 12,
      "outputs": [
        {
          "output_type": "stream",
          "name": "stdout",
          "text": [
            "\n",
            "Se aplico la validación cruzada estratificada repetida y se aprecia la media \n",
            "y la desviación estandar alrededor de la precisión de clasificación del \n",
            "\n",
            "Mean Accuracy: 0.426 (0.007) respectivamente\n"
          ]
        }
      ]
    },
    {
      "cell_type": "code",
      "source": [
        "np.unique(data[7], return_counts=True)"
      ],
      "metadata": {
        "colab": {
          "base_uri": "https://localhost:8080/"
        },
        "id": "QdAIVg3Ehz2d",
        "outputId": "81289539-5e32-4743-ed96-5747c7fbdb98"
      },
      "execution_count": 13,
      "outputs": [
        {
          "output_type": "execute_result",
          "data": {
            "text/plain": [
              "(array(['cp', 'im', 'imL', 'imS', 'imU', 'om', 'omL', 'pp'], dtype=object),\n",
              " array([143,  77,   2,   2,  35,  20,   5,  52]))"
            ]
          },
          "metadata": {},
          "execution_count": 13
        }
      ]
    },
    {
      "cell_type": "markdown",
      "source": [
        "Para no perder la información de la categoria 2, 3 y 6 que tiene 2, 2 y 5 registros, se agruparan en una categoria nueva."
      ],
      "metadata": {
        "id": "ovxVW8ABipHE"
      }
    },
    {
      "cell_type": "code",
      "source": [
        "data[7].replace(['imS', 'imL', 'omL', 'om'], 'other', inplace=True)"
      ],
      "metadata": {
        "id": "HoJt2YsejhyM"
      },
      "execution_count": 14,
      "outputs": []
    },
    {
      "cell_type": "code",
      "source": [
        "np.unique(data[7], return_counts=True)"
      ],
      "metadata": {
        "colab": {
          "base_uri": "https://localhost:8080/"
        },
        "id": "Ai5I5wGkixxk",
        "outputId": "7810d71a-0a59-4d62-98d6-c63ad102b75c"
      },
      "execution_count": 15,
      "outputs": [
        {
          "output_type": "execute_result",
          "data": {
            "text/plain": [
              "(array(['cp', 'im', 'imU', 'other', 'pp'], dtype=object),\n",
              " array([143,  77,  35,  29,  52]))"
            ]
          },
          "metadata": {},
          "execution_count": 15
        }
      ]
    },
    {
      "cell_type": "markdown",
      "source": [
        "- Se ejecuta nuevamente el modelo dummy para obtener la linea base"
      ],
      "metadata": {
        "id": "vRtbyNYKmP1g"
      }
    },
    {
      "cell_type": "code",
      "source": [
        "X = data.iloc[:, :-1]\n",
        "y = data.iloc[:,-1]\n",
        "\n",
        "\n",
        "estimator = LabelEncoder()\n",
        "y = estimator.fit_transform(y)\n",
        "\n",
        "plot_bars(y, 'chemical composition')"
      ],
      "metadata": {
        "colab": {
          "base_uri": "https://localhost:8080/",
          "height": 356
        },
        "id": "QAK8Ba-Kmi_L",
        "outputId": "241bf420-c891-4343-b62a-19b1408eeb29"
      },
      "execution_count": 16,
      "outputs": [
        {
          "output_type": "display_data",
          "data": {
            "text/plain": [
              "<Figure size 432x360 with 1 Axes>"
            ],
            "image/png": "[encoded data removed]"
          },
          "metadata": {
            "needs_background": "light"
          }
        }
      ]
    },
    {
      "cell_type": "code",
      "source": [
        "score = evaluate_model(X, y, model_dummy)"
      ],
      "metadata": {
        "id": "8xzIUCNDm0Vl"
      },
      "execution_count": 17,
      "outputs": []
    },
    {
      "cell_type": "code",
      "source": [
        "print('''\n",
        "Se aplico la validación cruzada estratificada repetida y se aprecia la media \n",
        "y la desviación estandar alrededor de la precisión de clasificación del \n",
        "''')\n",
        "print('Mean Accuracy: %.3f (%.3f) respectivamente' % (mean(score), std(score)))"
      ],
      "metadata": {
        "colab": {
          "base_uri": "https://localhost:8080/"
        },
        "id": "YdOTn3NCnfNm",
        "outputId": "a50bd691-261e-4b84-88cd-0048b4a61a4c"
      },
      "execution_count": 18,
      "outputs": [
        {
          "output_type": "stream",
          "name": "stdout",
          "text": [
            "\n",
            "Se aplico la validación cruzada estratificada repetida y se aprecia la media \n",
            "y la desviación estandar alrededor de la precisión de clasificación del \n",
            "\n",
            "Mean Accuracy: 0.426 (0.007) respectivamente\n"
          ]
        }
      ]
    },
    {
      "cell_type": "markdown",
      "source": [
        "# **Evaluar modelo**\n",
        "\n",
        "- Análisis Discriminante Lineal (LDA)\n",
        "- Máquina de vectores de soporte (SVM)\n",
        "- Árboles de decisión empaquetados (BAG)\n",
        "- Bosque aleatorio (RF)\n",
        "- Extra Trees (ET)\n"
      ],
      "metadata": {
        "id": "G-iJrtHpnx18"
      }
    },
    {
      "cell_type": "code",
      "source": [
        "from sklearn.discriminant_analysis import LinearDiscriminantAnalysis\n",
        "from sklearn.svm import LinearSVC\n",
        "from sklearn.linear_model import LogisticRegression\n",
        "from sklearn.neighbors import KNeighborsClassifier\n",
        "from sklearn.gaussian_process import GaussianProcessClassifier\n",
        "\n",
        "\n",
        "from sklearn.ensemble import RandomForestClassifier\n",
        "from sklearn.ensemble import ExtraTreesClassifier\n",
        "from sklearn.ensemble import BaggingClassifier"
      ],
      "metadata": {
        "id": "cRhTPrAnpS0O"
      },
      "execution_count": 19,
      "outputs": []
    },
    {
      "cell_type": "code",
      "source": [
        "def get_models():\n",
        "  models, names = [], []\n",
        "\n",
        "  models.append(LinearDiscriminantAnalysis())\n",
        "  names.append('LDA')\n",
        "  models.append(LogisticRegression(solver='lbfgs', multi_class='multinomial'))\n",
        "  names.append('LR')\n",
        "  models.append(KNeighborsClassifier(n_neighbors=3))\n",
        "  names.append('KNN')\n",
        "  models.append(GaussianProcessClassifier())\n",
        "  names.append('GP')\n",
        "  models.append(LinearSVC())\n",
        "  names.append('SVM')\n",
        "  models.append(BaggingClassifier(n_estimators=1000))\n",
        "  names.append('BAG')\n",
        "  models.append(RandomForestClassifier(n_estimators=1000))\n",
        "  names.append('RF')\n",
        "  models.append(ExtraTreesClassifier(n_estimators=1000))\n",
        "  names.append('ET')\n",
        "\n",
        "  return models, names\n",
        "\n",
        "models, names = get_models()\n",
        "result = []\n",
        "\n",
        "for i in range(len(models)):\n",
        "  score = evaluate_model(X, y, models[i])\n",
        "  result.append(score)\n",
        "  print('>%s %.3f (%.3f)' % (names[i], mean(score), std(score)))"
      ],
      "metadata": {
        "colab": {
          "base_uri": "https://localhost:8080/"
        },
        "id": "PQWIEa62np0U",
        "outputId": "68b293db-7f4a-47c1-b804-f92393a59f0f"
      },
      "execution_count": 20,
      "outputs": [
        {
          "output_type": "stream",
          "name": "stdout",
          "text": [
            ">LDA 0.873 (0.012)\n",
            ">LR 0.832 (0.038)\n",
            ">KNN 0.849 (0.032)\n",
            ">GP 0.784 (0.033)\n",
            ">SVM 0.868 (0.028)\n",
            ">BAG 0.849 (0.034)\n",
            ">RF 0.874 (0.023)\n",
            ">ET 0.861 (0.020)\n"
          ]
        }
      ]
    },
    {
      "cell_type": "code",
      "source": [
        "plt.boxplot(result, labels=names, showmeans=True)\n",
        "plt.show()"
      ],
      "metadata": {
        "colab": {
          "base_uri": "https://localhost:8080/",
          "height": 265
        },
        "id": "jb8PGwcttNLb",
        "outputId": "da1d8010-8f77-45dd-d5d9-1348c57b9225"
      },
      "execution_count": 21,
      "outputs": [
        {
          "output_type": "display_data",
          "data": {
            "text/plain": [
              "<Figure size 432x288 with 1 Axes>"
            ],
            "image/png": "[encoded data removed]"
          },
          "metadata": {
            "needs_background": "light"
          }
        }
      ]
    },
    {
      "cell_type": "markdown",
      "source": [
        "Todos los algoritmos tienen un rendimiento tienen un rendimiento superior a la linea base del modelo dummy. Pero la validación cruzada se evaluo con el accuracy, por lo tanto el rendimiento puede no ser confiable.\n",
        "\n",
        "La media y la mediana están cerca en la grafica, lo que sugiere que los modelos son estables.\n",
        "\n",
        "LDA tiene la mayor media y la desviación mas pequeña, por lo tanto es el modelo que mejor se desempeña. Los modelo RF, ET, SVM, BAg, el resto de modelos"
      ],
      "metadata": {
        "id": "p9akiYTkuWS6"
      }
    },
    {
      "cell_type": "code",
      "source": [
        "print('SMOTE sintetizará nuevos ejemplos utilizando k-vecinos más cercanos en el conjunto de datos de entrenamiento, donde, de forma predeterminada, k se establece en 5.')"
      ],
      "metadata": {
        "colab": {
          "base_uri": "https://localhost:8080/"
        },
        "id": "P0Ce0b5__g8H",
        "outputId": "4c3bb45c-b518-46d6-8803-3a0044b99ced"
      },
      "execution_count": 22,
      "outputs": [
        {
          "output_type": "stream",
          "name": "stdout",
          "text": [
            "SMOTE sintetizará nuevos ejemplos utilizando k-vecinos más cercanos en el conjunto de datos de entrenamiento, donde, de forma predeterminada, k se establece en 5.\n"
          ]
        }
      ]
    },
    {
      "cell_type": "code",
      "source": [
        "models, names = get_models()\n",
        "result = []\n",
        "\n",
        "for i in range(len(models)):\n",
        "  steps = [('o', SMOTE(k_neighbors=5)), ('m', models[i])]\n",
        "  pipeline = Pipeline(steps=steps)\n",
        "  score = evaluate_model(X, y, pipeline)\n",
        "  result.append(score)\n",
        "  print('>%s %.3f (%.3f)' % (names[i], mean(score), std(score)))"
      ],
      "metadata": {
        "colab": {
          "base_uri": "https://localhost:8080/"
        },
        "id": "HTzFsEfd85F8",
        "outputId": "773ea10f-c800-4206-df53-5149ced0a1ec"
      },
      "execution_count": 23,
      "outputs": [
        {
          "output_type": "stream",
          "name": "stdout",
          "text": [
            ">LDA 0.869 (0.026)\n",
            ">LR 0.868 (0.025)\n",
            ">KNN 0.813 (0.041)\n",
            ">GP 0.870 (0.020)\n",
            ">SVM 0.872 (0.024)\n",
            ">BAG 0.828 (0.032)\n",
            ">RF 0.860 (0.028)\n",
            ">ET 0.863 (0.025)\n"
          ]
        }
      ]
    },
    {
      "cell_type": "code",
      "source": [
        "plt.boxplot(result, labels=names, showmeans=True)\n",
        "plt.show()"
      ],
      "metadata": {
        "colab": {
          "base_uri": "https://localhost:8080/",
          "height": 265
        },
        "id": "jfuTKAg9A3D3",
        "outputId": "b8463a48-609c-48d9-b44e-37475254e1da"
      },
      "execution_count": 24,
      "outputs": [
        {
          "output_type": "display_data",
          "data": {
            "text/plain": [
              "<Figure size 432x288 with 1 Axes>"
            ],
            "image/png": "[encoded data removed]"
          },
          "metadata": {
            "needs_background": "light"
          }
        }
      ]
    },
    {
      "cell_type": "markdown",
      "source": [
        "- El algoritmo LDA redujo minimamente su rendimiento\n",
        "- El modelo SVM mejora su rendimiento.\n",
        "- el modelo gaussiano mejoro su habilidad\n"
      ],
      "metadata": {
        "id": "X5JAiptKD-nv"
      }
    }
  ]
}