{
  "nbformat": 4,
  "nbformat_minor": 0,
  "metadata": {
    "colab": {
      "provenance": [],
      "authorship_tag": "ABX9TyMvzJun/m6ZXvr2yTydyoFN",
      "include_colab_link": true
    },
    "kernelspec": {
      "name": "python3",
      "display_name": "Python 3"
    },
    "language_info": {
      "name": "python"
    }
  },
  "cells": [
    {
      "cell_type": "markdown",
      "metadata": {
        "id": "view-in-github",
        "colab_type": "text"
      },
      "source": [
        "<a href=\"https://colab.research.google.com/github/Kaiziferr/machine_learning/blob/main/curiosities/hill_climb.ipynb\" target=\"_parent\"><img src=\"https://colab.research.google.com/assets/colab-badge.svg\" alt=\"Open In Colab\"/></a>"
      ]
    },
    {
      "cell_type": "code",
      "execution_count": 33,
      "metadata": {
        "id": "BThuR9C8S9w0"
      },
      "outputs": [],
      "source": [
        "from sklearn.datasets import make_classification\n",
        "from sklearn.model_selection import train_test_split\n",
        "from random import randint, random\n",
        "from sklearn.metrics import accuracy_score, mean_absolute_error\n",
        "from sklearn.preprocessing import MinMaxScaler\n",
        "import matplotlib.pyplot as plt\n",
        "import pandas as pd"
      ]
    },
    {
      "cell_type": "markdown",
      "source": [
        "# **Data ficticia**\n",
        "---"
      ],
      "metadata": {
        "id": "cj9p24PkdnTx"
      }
    },
    {
      "cell_type": "code",
      "source": [
        "X, y = make_classification(n_samples=5000, n_features=20, n_informative=15, \n",
        "                           n_redundant=5, random_state=1234)"
      ],
      "metadata": {
        "id": "irMlVMThpudv"
      },
      "execution_count": 2,
      "outputs": []
    },
    {
      "cell_type": "code",
      "source": [
        "X_train, X_test, y_train, y_test = train_test_split(X, y, test_size=0.33)"
      ],
      "metadata": {
        "id": "ZetPCwFCp_Rr"
      },
      "execution_count": 3,
      "outputs": []
    },
    {
      "cell_type": "code",
      "source": [
        "print(X_train.shape, X_test.shape, y_train.shape, y_test.shape)"
      ],
      "metadata": {
        "colab": {
          "base_uri": "https://localhost:8080/"
        },
        "id": "5HBY_o4ldYow",
        "outputId": "afbd7282-e93f-4bb1-b137-7e331e075908"
      },
      "execution_count": 4,
      "outputs": [
        {
          "output_type": "stream",
          "name": "stdout",
          "text": [
            "(3350, 20) (1650, 20) (3350,) (1650,)\n"
          ]
        }
      ]
    },
    {
      "cell_type": "markdown",
      "source": [
        "**hill climb**\n",
        "---"
      ],
      "metadata": {
        "id": "uAbxSzonqZBu"
      }
    },
    {
      "cell_type": "code",
      "source": [
        "def modify_predictions(current, n_changes = 1):\n",
        "  updated = current.copy()\n",
        "  for i in range(n_changes):\n",
        "    j = randint(0, len(updated)-1)\n",
        "    updated[j] = 1 - updated[j]\n",
        "  return updated"
      ],
      "metadata": {
        "id": "7AQmGoA9sBKP"
      },
      "execution_count": 5,
      "outputs": []
    },
    {
      "cell_type": "code",
      "source": [
        "def hill_climb(X_test, y_test, max_iterations):\n",
        "  scores = list()\n",
        "  # Random predictions\n",
        "  solutions = [randint(0, 1) for _ in range(X_test.shape[0])]\n",
        "  # Initial Evaluation\n",
        "  score = accuracy_score(y_test, solutions)\n",
        "  scores.append(score)\n",
        "\n",
        "  for i in range(max_iterations):\n",
        "    scores.append(score)\n",
        "    # Stop with the best score\n",
        "    if score == 1.0:\n",
        "      break\n",
        "    # generate new candidate\n",
        "    candidate = modify_predictions(solutions)\n",
        "    value = accuracy_score(y_test, candidate)\n",
        "    if value >= score:\n",
        "      solutions, score = candidate, value\n",
        "      #print('>%d, score=%.3f' % (i, score))\n",
        "  return solutions, scores"
      ],
      "metadata": {
        "id": "PDe5_3PQqf1G"
      },
      "execution_count": 6,
      "outputs": []
    },
    {
      "cell_type": "code",
      "source": [
        "yc, scores = hill_climb(X_test, y_test, 20000)\n",
        "plt.plot(scores)\n",
        "plt.show()"
      ],
      "metadata": {
        "colab": {
          "base_uri": "https://localhost:8080/",
          "height": 265
        },
        "id": "I1ngjQWJtJqu",
        "outputId": "d78cecc6-cf08-4745-c25a-5155c81a72e8"
      },
      "execution_count": 7,
      "outputs": [
        {
          "output_type": "display_data",
          "data": {
            "text/plain": [
              "<Figure size 432x288 with 1 Axes>"
            ],
            "image/png": "[encoded data removed]"
          },
          "metadata": {
            "needs_background": "light"
          }
        }
      ]
    },
    {
      "cell_type": "markdown",
      "source": [
        "- Metrica perfecta, sin tocar el conjunto de entrenamiento."
      ],
      "metadata": {
        "id": "g3XuDi9pEbIL"
      }
    },
    {
      "cell_type": "markdown",
      "source": [
        "# **Conjunto de datos de clasificación de diabetes HILL CLimb**"
      ],
      "metadata": {
        "id": "EP7Jy5EfE_Yr"
      }
    },
    {
      "cell_type": "code",
      "source": [
        "data = pd.read_csv('https://raw.githubusercontent.com/jbrownlee/Datasets/master/pima-indians-diabetes.csv')\n",
        "X, y = data.iloc[:, :-1], data.iloc[:, -1]\n",
        "X_train, X_test, y_train, y_test = train_test_split(X, y, test_size=0.33)"
      ],
      "metadata": {
        "id": "ZevR3t5wE7u9"
      },
      "execution_count": 8,
      "outputs": []
    },
    {
      "cell_type": "code",
      "source": [
        "yc, scores = hill_climb(X_test, y_test, 5000)\n",
        "plt.plot(scores)\n",
        "plt.show()"
      ],
      "metadata": {
        "colab": {
          "base_uri": "https://localhost:8080/",
          "height": 265
        },
        "id": "c7Crkq2DNGUr",
        "outputId": "b5bbde2d-461a-4fbb-cf75-5ce71ec7c9c8"
      },
      "execution_count": 9,
      "outputs": [
        {
          "output_type": "display_data",
          "data": {
            "text/plain": [
              "<Figure size 432x288 with 1 Axes>"
            ],
            "image/png": "[encoded data removed]"
          },
          "metadata": {
            "needs_background": "light"
          }
        }
      ]
    },
    {
      "cell_type": "markdown",
      "source": [
        "# **Conjuntos de datos regresión de viviendas HILL CLimb**"
      ],
      "metadata": {
        "id": "VN-XgzWQNQsN"
      }
    },
    {
      "cell_type": "code",
      "source": [
        "data = pd.read_csv('https://raw.githubusercontent.com/jbrownlee/Datasets/master/pima-indians-diabetes.csv')\n",
        "data = data.values\n",
        "X, y = data[:, :-1], data[:, -1]\n",
        "y = y.reshape((len(y), 1))\n",
        "X_train, X_test, y_train, y_test = train_test_split(X, y, test_size=0.33)"
      ],
      "metadata": {
        "id": "cHK2HXXNNdjb"
      },
      "execution_count": 24,
      "outputs": []
    },
    {
      "cell_type": "markdown",
      "source": [
        "- No se estpa entrenando propiamente un algoritmo, no se tienen encuenta buenas practicas."
      ],
      "metadata": {
        "id": "XQrhX-hwOP-b"
      }
    },
    {
      "cell_type": "code",
      "source": [
        "scaler = MinMaxScaler().fit(y)\n",
        "y_test = scaler.transform(y_test)"
      ],
      "metadata": {
        "id": "1a40QZlyO8ya"
      },
      "execution_count": 25,
      "outputs": []
    },
    {
      "cell_type": "code",
      "source": [
        "def modify_predictions(current, n_changes = 1):\n",
        "  updated = current.copy()\n",
        "  for i in range(n_changes):\n",
        "    j = randint(0, len(updated)-1)\n",
        "    updated[j] = random()\n",
        "  return updated"
      ],
      "metadata": {
        "id": "GTeFJDKYUa7y"
      },
      "execution_count": 27,
      "outputs": []
    },
    {
      "cell_type": "code",
      "source": [
        "def hill_climb(X_test, y_test, max_iterations):\n",
        "  scores = list()\n",
        "  # Random predictions\n",
        "  solutions = [randint(0, 1) for _ in range(X_test.shape[0])]\n",
        "  # Initial Evaluation\n",
        "  score = mean_absolute_error(y_test, solutions)\n",
        "  scores.append(score)\n",
        "\n",
        "  for i in range(max_iterations):\n",
        "    scores.append(score)\n",
        "    # Stop with the best error -= low error\n",
        "    # 1e-7\n",
        "    if score == 0.0:\n",
        "      break\n",
        "    # generate new candidate\n",
        "    candidate = modify_predictions(solutions)\n",
        "    value = mean_absolute_error(y_test, candidate)\n",
        "    if value <= score:\n",
        "      solutions, score = candidate, value\n",
        "      #print('>%d, score=%.3f' % (i, score))\n",
        "  return solutions, scores"
      ],
      "metadata": {
        "id": "kJSfcs5jUaiT"
      },
      "execution_count": 34,
      "outputs": []
    },
    {
      "cell_type": "code",
      "source": [
        "yc, scores = hill_climb(X_test, y_test, 5000)\n",
        "plt.plot(scores)\n",
        "plt.show()"
      ],
      "metadata": {
        "colab": {
          "base_uri": "https://localhost:8080/",
          "height": 266
        },
        "id": "Cme4dHFuWL_I",
        "outputId": "8183cdb7-8163-48c9-8137-2bac138cc33e"
      },
      "execution_count": 35,
      "outputs": [
        {
          "output_type": "display_data",
          "data": {
            "text/plain": [
              "<Figure size 432x288 with 1 Axes>"
            ],
            "image/png": "[encoded data removed]"
          },
          "metadata": {
            "needs_background": "light"
          }
        }
      ]
    },
    {
      "cell_type": "markdown",
      "source": [
        "más iteraciones en este caso porque es un problema más complejo de optimizar. El método elegido para crear soluciones candidatas también lo hace más lento y menos probable que logremos un error perfecto."
      ],
      "metadata": {
        "id": "TdcLGTFjWqmR"
      }
    },
    {
      "cell_type": "markdown",
      "source": [
        "# Referencia\n",
        "---\n",
        "https://machinelearningmastery.com/hill-climb-the-test-set-for-machine-learning/"
      ],
      "metadata": {
        "id": "FKYJAanheqE-"
      }
    }
  ]
}