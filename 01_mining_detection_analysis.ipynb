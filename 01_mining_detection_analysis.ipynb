{
  "nbformat": 4,
  "nbformat_minor": 0,
  "metadata": {
    "colab": {
      "provenance": [],
      "collapsed_sections": [],
      "authorship_tag": "ABX9TyMXuiKpRP94C5mdegIl/+Ao",
      "include_colab_link": true
    },
    "kernelspec": {
      "name": "python3",
      "display_name": "Python 3"
    },
    "language_info": {
      "name": "python"
    }
  },
  "cells": [
    {
      "cell_type": "markdown",
      "metadata": {
        "id": "view-in-github",
        "colab_type": "text"
      },
      "source": [
        "<a href=\"https://colab.research.google.com/github/Kaiziferr/machine_learning/blob/main/01_mining_detection_analysis.ipynb\" target=\"_parent\"><img src=\"https://colab.research.google.com/assets/colab-badge.svg\" alt=\"Open In Colab\"/></a>"
      ]
    },
    {
      "cell_type": "markdown",
      "source": [
        "# **Diccionario de datos**\n",
        "---\n",
        "- `Name`: nombre de la ventana de tiempo.\n",
        "- `Netflows`: cantidad de netflows en la ventana de tiempo.\n",
        "- `First_Protocol`: top 1 de protocolos usados en la ventana de tiempo.\n",
        "- `Second_Protocol`: top 2 de protocolos usados en la ventana de tiempo.\n",
        "- `Third_Protocol`: top 3 de protocolos usados en la ventana de tiempo.\n",
        "- `p1_d`: 25% de los percentiles de todas las duraciones en la ventana de tiempo\n",
        "- `p2_d`: 50% de los percentiles de todas las duraciones en la ventana de tiempo\n",
        "- `p3_d`: 75% de los percentiles de todas las duraciones en la ventana de tiempo\n",
        "- `duration`: duración total de la ventana de tiempo\n",
        "- `max_d`: valor máximo de todas las duraciones en la ventana de tiempo.\n",
        "- `min_d`: valor mínimo de todas las duraciones en la ventana de tiempo.\n",
        "- `#packets`: número total de paquetes en la ventana de tiempo.\n",
        "- `Avg_bps`: promedio de bits por segundo en la ventana de tiempo.\n",
        "- `Avg_pps`: promedio de paquetes por segundo en la ventana de tiempo.\n",
        "- `Avg_bpp`: promedio de bytes por paquete en la ventana de tiempo.\n",
        "- `#Bytes`: número total de bytes en la ventana de tiempo.\n",
        "- `#sp`: número total de puertos de origen usados en la ventana de tiempo.\n",
        "- `#dp`: número total de puertos de destino usados en la ventana de tiempo.\n",
        "- `first_sp`: top 1 de los puertos de origen en la ventana de tiempo.\n",
        "- `second_sp`: top 2 de los puertos de origen en la ventana de tiempo.\n",
        "- `third_sp`: top 3 de los puertos de origen en la ventana de tiempo.\n",
        "- `first_dp`: top 1 de los puertos de destino en la ventana de tiempo.\n",
        "- `second_dp`: top 2 de los puertos de destino en la ventana de tiempo.\n",
        "- `third_dp`: top 3 de los puertos de destino en la ventana de tiempo.\n",
        "- `p1_ip`: 25% de los percentiles de todas las entradas de paquetes en la ventana de tiempo.\n",
        "- `p2_ip`: 50% de los percentiles de todas las entradas de paquetes en la ventana de tiempo.\n",
        "- `p3_ip`: 75% de los percentiles de todas las entradas de paquetes en la ventana de tiempo.\n",
        "- `p1_ib`: 25% de los percentiles de todas las entradas de bytes en la ventana de tiempo.\n",
        "- `p2_ib`: 50% de los percentiles de todas las entradas de bytes en la ventana de tiempo.\n",
        "- `p3_ib`: 75% de los percentiles de todas las entradas de bytes en la ventana de tiempo.\n",
        "- `Type`: tipo de ventana de tiempo\n",
        "  - benignas: 0\n",
        "  - bitcash: 1\n",
        "  - bitcoin: 2\n",
        "  - ethereum: 3\n",
        "  - monero: 4\n",
        "  - litecoin: 5"
      ],
      "metadata": {
        "id": "thxz_JXJYIL9"
      }
    },
    {
      "cell_type": "markdown",
      "source": [
        "# **Contexto**\n",
        "---\n",
        "El software de minería puede usarse en forma de malware, para que un cibercriminal mine con los recursos de una víctima, lo cual puede ser costoso en energía eléctrica y en hardware, ya que minar puede degradarlo. Por lo anterior, se resalta que las muestras de los mineros fueron realizados en ambientes seguros y con duración de 5 minutos por ejecución.\n",
        "\n",
        "Se utilizó un esnifer como Wireshark, del cual se obtuvieron archivos en formato pcaps, los cuales fueron procesados por una sonda llamada netfdump, para extraer la información. Esa información venía por flujos relacionados al archivo PCAPS, por lo tanto, se aplicó un concepto de ventana de tiempos de trabajos relacionados con botnes, para resumir estos flujos."
      ],
      "metadata": {
        "id": "7Q9ebIkHYNdd"
      }
    },
    {
      "cell_type": "markdown",
      "source": [
        "# **Conceptos**\n",
        "---\n",
        "- **Prueba de trabajo** problema matemático (no útil) que se debe resolver para minar una criptomoneda. Por cada moneda descubierta debe aumentar la complejidad.\n",
        "\n",
        "- **flujo** conexión y transferencia de información entre un emisor y receptor.\n",
        "\n",
        "- **Ventanas de tiempo** resumen de flujos de red, en este conjunto de datos cada registro es un resumen de flujos por archivo. Un archivo pcap puede tener mas de un grupos de flujos."
      ],
      "metadata": {
        "id": "1EHPY7ZaYUf7"
      }
    },
    {
      "cell_type": "code",
      "source": [
        "def optimization_learning_curves(history, metrica, title: str= '', x_size:int=8, y_size:int=4, \n",
        "                                 font_size:int=15, x_label:str='Epoch',y_label:str='Loss')->None:\n",
        "  fig, ax = plt.subplots(figsize = (x_size, y_size))\n",
        "  fig.suptitle(title, fontsize = font_size)\n",
        "  ax.plot(history.history[metrica])\n",
        "  ax.plot(history.history[f'val_{metrica}'])\n",
        "  ax.set_xlabel(x_label, size = 12)\n",
        "  ax.set_ylabel(y_label, size = 12)\n",
        "  ax.legend(['Train', 'Test'], loc = 'upper left', fontsize = 12)\n",
        "  ax.tick_params(labelsize = 12)\n",
        "  fig.show()"
      ],
      "metadata": {
        "id": "bwPsYP17YyAp"
      },
      "execution_count": 1,
      "outputs": []
    },
    {
      "cell_type": "code",
      "source": [
        "def metricas(validation, prediction, matrix, label:list=[1])->None:\n",
        "  accuracy = '%.3f' % metrics.accuracy_score(validation, prediction)\n",
        "  kappa = '%.3f' % metrics.cohen_kappa_score(validation, prediction)\n",
        "  precision = '%.3f' % metrics.precision_score(validation, prediction, labels=label, average=\"macro\")\n",
        "  recall = '%.3f' % metrics.recall_score(validation, prediction, labels=label, average=\"macro\")\n",
        "  f1_score = '%.3f' % metrics.f1_score(validation, prediction, labels=label, average=\"macro\")\n",
        "\n",
        "  print(f'Accuracy  :   {accuracy}')\n",
        "  print(f'Kappa     :   {kappa}')\n",
        "  print(f'predicción Miners')\n",
        "  print(f'Precision:   {precision}')\n",
        "  print(f'Recall    :   {recall}')\n",
        "\n",
        "  VN, FP = 0, 0 \n",
        "  if label == [1]:\n",
        "    VN = matrix[0,0]\n",
        "    FP = matrix[0,1]\n",
        "  else:\n",
        "    VN = matrix[0,0]\n",
        "    FP = matrix[0,1]\n",
        "  specificity = VN/(VN+FP)\n",
        "  specificity = '%.3f' %  specificity\n",
        "\n",
        "  #print(f'Specificity:   {specificity}')\n",
        "  print(f'F1-score   :   {f1_score}')\n",
        "  return accuracy, kappa, precision, recall, f1_score"
      ],
      "metadata": {
        "id": "G4ZWsUKnUkLn"
      },
      "execution_count": 2,
      "outputs": []
    },
    {
      "cell_type": "code",
      "source": [
        "def consufion_matrix(validation, prediction, title: str= 'Matriz de confusion', \n",
        "                     x_size:int=6, y_size:int=5, **kwards):\n",
        "  matrix = metrics.confusion_matrix(validation, prediction)\n",
        "  fig, ax = plt.subplots(nrows= 1, ncols=  1, figsize = (x_size,y_size))\n",
        "  sns.heatmap(matrix, annot=True, ax = ax, cmap=plt.cm.Blues, fmt = 'g', annot_kws={'size': 13})\n",
        "  ax.set_title(title, size = 13)\n",
        "  v = list(kwards.values())\n",
        "  k = list(kwards.keys())\n",
        "\n",
        "  if ax.get_xticklabels()[0].get_text() == v[0]:\n",
        "    ax.xaxis.set_ticklabels([k[0], k[1]])\n",
        "    ax.yaxis.set_ticklabels([k[0], k[1]])\n",
        "  else:\n",
        "    ax.xaxis.set_ticklabels([k[1], k[0]])\n",
        "    ax.yaxis.set_ticklabels([k[1], k[0]])\n",
        "  ax.tick_params(labelsize = 13)\n",
        "  fig.show()\n",
        "  return matrix"
      ],
      "metadata": {
        "id": "MImu59vuTsoI"
      },
      "execution_count": 3,
      "outputs": []
    },
    {
      "cell_type": "code",
      "source": [
        "def plot_bars(data, title: str= 'feature', x_size:int=6, y_size:int=5, \n",
        "              font_size:int=15):\n",
        "  fig, ax = plt.subplots(figsize = (x_size, y_size))\n",
        "  fig.suptitle(f'Count plot {title}', fontsize = font_size)\n",
        "  sns.countplot(x = data, ax = ax)\n",
        "  len_data = data.shape[0]\n",
        "\n",
        "  for p in ax.patches:\n",
        "    height = int(p.get_height())\n",
        "    porc = '{0:.2f}%'.format(height/len_data)\n",
        "    plt.text(p.get_x()+p.get_width()/2., height-height*0.05, porc, ha=\"center\", backgroundcolor='y')"
      ],
      "metadata": {
        "id": "lwFF0lD2YhZa"
      },
      "execution_count": 4,
      "outputs": []
    },
    {
      "cell_type": "code",
      "source": [
        "def unique_value(data, feature):\n",
        "  mp = map(lambda x: data[x].unique().shape[0],feature_object)\n",
        "  print('Datos unicos por columnas')\n",
        "  for i in zip(feature, mp):\n",
        "    print(f'{i}')"
      ],
      "metadata": {
        "id": "pBCqnLKlzvaS"
      },
      "execution_count": 5,
      "outputs": []
    },
    {
      "cell_type": "code",
      "source": [
        "def label_encoder_train_test(y_train, y_test):\n",
        "  encoder_label = LabelEncoder()\n",
        "  y_train_prep = encoder_label.fit_transform(y_train)\n",
        "  y_test_prep = encoder_label.fit_transform(y_test)\n",
        "  return y_train_prep, y_test_prep"
      ],
      "metadata": {
        "id": "CySIDCaJ4EN5"
      },
      "execution_count": 6,
      "outputs": []
    },
    {
      "cell_type": "code",
      "execution_count": 7,
      "metadata": {
        "id": "Uf8EtKmVYDkl"
      },
      "outputs": [],
      "source": [
        "import pandas as pd\n",
        "import numpy as np\n",
        "import matplotlib.pyplot as plt\n",
        "import seaborn as sns\n",
        "\n",
        "from sklearn.impute import SimpleImputer\n",
        "from sklearn.preprocessing import LabelEncoder, StandardScaler, OneHotEncoder\n",
        "from sklearn.model_selection import train_test_split\n",
        "from sklearn.compose import ColumnTransformer\n",
        "from sklearn import metrics"
      ]
    },
    {
      "cell_type": "markdown",
      "source": [
        "# **Data**\n",
        "---"
      ],
      "metadata": {
        "id": "mvLeNaCRYju7"
      }
    },
    {
      "cell_type": "code",
      "source": [
        "data = pd.read_csv('https://raw.githubusercontent.com/Kaiziferr/datasets/main/cryptojacking.csv').drop(['Unnamed: 0', 'Name'], axis = 1)\n",
        "data.head(3)"
      ],
      "metadata": {
        "id": "VtEUw1is59W6",
        "outputId": "e128b8f0-fa9d-4c6a-8dc5-c7fb77cf85d6",
        "colab": {
          "base_uri": "https://localhost:8080/",
          "height": 237
        }
      },
      "execution_count": 8,
      "outputs": [
        {
          "output_type": "execute_result",
          "data": {
            "text/plain": [
              "   Netflows First_Protocol Second_Protocol Third_Protocol    p1_d     p2_d  \\\n",
              "0        65            TCP             UDP            NaN  18.939  168.173   \n",
              "1        18            UDP             TCP            NaN   0.000    0.000   \n",
              "2        10            UDP             NaN            NaN   0.000    0.000   \n",
              "\n",
              "      p3_d  duration    max_d  min_d  ...  first_dp  second_dp  third_dp  \\\n",
              "0  194.287  7845.126  244.362    0.0  ...       443       80.0     123.0   \n",
              "1    0.000     0.086    0.044    0.0  ...       443       53.0   53195.0   \n",
              "2    0.000     0.000    0.000    0.0  ...        53    39308.0   54454.0   \n",
              "\n",
              "   p1_ip  p2_ip  p3_ip  p1_ib  p2_ib    p3_ib  Type  \n",
              "0    3.0    7.0   22.0  127.0  255.0  1888.00     0  \n",
              "1    1.0    1.0    1.0   37.0   47.0    64.00     0  \n",
              "2    1.0    1.0    1.0   34.0   43.0    61.75     0  \n",
              "\n",
              "[3 rows x 30 columns]"
            ],
            "text/html": [
              "\n",
              "  <div id=\"df-076ac287-b780-4d16-9d86-6991c60e6a9d\">\n",
              "    <div class=\"colab-df-container\">\n",
              "      <div>\n",
              "<style scoped>\n",
              "    .dataframe tbody tr th:only-of-type {\n",
              "        vertical-align: middle;\n",
              "    }\n",
              "\n",
              "    .dataframe tbody tr th {\n",
              "        vertical-align: top;\n",
              "    }\n",
              "\n",
              "    .dataframe thead th {\n",
              "        text-align: right;\n",
              "    }\n",
              "</style>\n",
              "<table border=\"1\" class=\"dataframe\">\n",
              "  <thead>\n",
              "    <tr style=\"text-align: right;\">\n",
              "      <th></th>\n",
              "      <th>Netflows</th>\n",
              "      <th>First_Protocol</th>\n",
              "      <th>Second_Protocol</th>\n",
              "      <th>Third_Protocol</th>\n",
              "      <th>p1_d</th>\n",
              "      <th>p2_d</th>\n",
              "      <th>p3_d</th>\n",
              "      <th>duration</th>\n",
              "      <th>max_d</th>\n",
              "      <th>min_d</th>\n",
              "      <th>...</th>\n",
              "      <th>first_dp</th>\n",
              "      <th>second_dp</th>\n",
              "      <th>third_dp</th>\n",
              "      <th>p1_ip</th>\n",
              "      <th>p2_ip</th>\n",
              "      <th>p3_ip</th>\n",
              "      <th>p1_ib</th>\n",
              "      <th>p2_ib</th>\n",
              "      <th>p3_ib</th>\n",
              "      <th>Type</th>\n",
              "    </tr>\n",
              "  </thead>\n",
              "  <tbody>\n",
              "    <tr>\n",
              "      <th>0</th>\n",
              "      <td>65</td>\n",
              "      <td>TCP</td>\n",
              "      <td>UDP</td>\n",
              "      <td>NaN</td>\n",
              "      <td>18.939</td>\n",
              "      <td>168.173</td>\n",
              "      <td>194.287</td>\n",
              "      <td>7845.126</td>\n",
              "      <td>244.362</td>\n",
              "      <td>0.0</td>\n",
              "      <td>...</td>\n",
              "      <td>443</td>\n",
              "      <td>80.0</td>\n",
              "      <td>123.0</td>\n",
              "      <td>3.0</td>\n",
              "      <td>7.0</td>\n",
              "      <td>22.0</td>\n",
              "      <td>127.0</td>\n",
              "      <td>255.0</td>\n",
              "      <td>1888.00</td>\n",
              "      <td>0</td>\n",
              "    </tr>\n",
              "    <tr>\n",
              "      <th>1</th>\n",
              "      <td>18</td>\n",
              "      <td>UDP</td>\n",
              "      <td>TCP</td>\n",
              "      <td>NaN</td>\n",
              "      <td>0.000</td>\n",
              "      <td>0.000</td>\n",
              "      <td>0.000</td>\n",
              "      <td>0.086</td>\n",
              "      <td>0.044</td>\n",
              "      <td>0.0</td>\n",
              "      <td>...</td>\n",
              "      <td>443</td>\n",
              "      <td>53.0</td>\n",
              "      <td>53195.0</td>\n",
              "      <td>1.0</td>\n",
              "      <td>1.0</td>\n",
              "      <td>1.0</td>\n",
              "      <td>37.0</td>\n",
              "      <td>47.0</td>\n",
              "      <td>64.00</td>\n",
              "      <td>0</td>\n",
              "    </tr>\n",
              "    <tr>\n",
              "      <th>2</th>\n",
              "      <td>10</td>\n",
              "      <td>UDP</td>\n",
              "      <td>NaN</td>\n",
              "      <td>NaN</td>\n",
              "      <td>0.000</td>\n",
              "      <td>0.000</td>\n",
              "      <td>0.000</td>\n",
              "      <td>0.000</td>\n",
              "      <td>0.000</td>\n",
              "      <td>0.0</td>\n",
              "      <td>...</td>\n",
              "      <td>53</td>\n",
              "      <td>39308.0</td>\n",
              "      <td>54454.0</td>\n",
              "      <td>1.0</td>\n",
              "      <td>1.0</td>\n",
              "      <td>1.0</td>\n",
              "      <td>34.0</td>\n",
              "      <td>43.0</td>\n",
              "      <td>61.75</td>\n",
              "      <td>0</td>\n",
              "    </tr>\n",
              "  </tbody>\n",
              "</table>\n",
              "<p>3 rows × 30 columns</p>\n",
              "</div>\n",
              "      <button class=\"colab-df-convert\" onclick=\"convertToInteractive('df-076ac287-b780-4d16-9d86-6991c60e6a9d')\"\n",
              "              title=\"Convert this dataframe to an interactive table.\"\n",
              "              style=\"display:none;\">\n",
              "        \n",
              "  <svg xmlns=\"http://www.w3.org/2000/svg\" height=\"24px\"viewBox=\"0 0 24 24\"\n",
              "       width=\"24px\">\n",
              "    <path d=\"M0 0h24v24H0V0z\" fill=\"none\"/>\n",
              "    <path d=\"M18.56 5.44l.94 2.06.94-2.06 2.06-.94-2.06-.94-.94-2.06-.94 2.06-2.06.94zm-11 1L8.5 8.5l.94-2.06 2.06-.94-2.06-.94L8.5 2.5l-.94 2.06-2.06.94zm10 10l.94 2.06.94-2.06 2.06-.94-2.06-.94-.94-2.06-.94 2.06-2.06.94z\"/><path d=\"M17.41 7.96l-1.37-1.37c-.4-.4-.92-.59-1.43-.59-.52 0-1.04.2-1.43.59L10.3 9.45l-7.72 7.72c-.78.78-.78 2.05 0 2.83L4 21.41c.39.39.9.59 1.41.59.51 0 1.02-.2 1.41-.59l7.78-7.78 2.81-2.81c.8-.78.8-2.07 0-2.86zM5.41 20L4 18.59l7.72-7.72 1.47 1.35L5.41 20z\"/>\n",
              "  </svg>\n",
              "      </button>\n",
              "      \n",
              "  <style>\n",
              "    .colab-df-container {\n",
              "      display:flex;\n",
              "      flex-wrap:wrap;\n",
              "      gap: 12px;\n",
              "    }\n",
              "\n",
              "    .colab-df-convert {\n",
              "      background-color: #E8F0FE;\n",
              "      border: none;\n",
              "      border-radius: 50%;\n",
              "      cursor: pointer;\n",
              "      display: none;\n",
              "      fill: #1967D2;\n",
              "      height: 32px;\n",
              "      padding: 0 0 0 0;\n",
              "      width: 32px;\n",
              "    }\n",
              "\n",
              "    .colab-df-convert:hover {\n",
              "      background-color: #E2EBFA;\n",
              "      box-shadow: 0px 1px 2px rgba(60, 64, 67, 0.3), 0px 1px 3px 1px rgba(60, 64, 67, 0.15);\n",
              "      fill: #174EA6;\n",
              "    }\n",
              "\n",
              "    [theme=dark] .colab-df-convert {\n",
              "      background-color: #3B4455;\n",
              "      fill: #D2E3FC;\n",
              "    }\n",
              "\n",
              "    [theme=dark] .colab-df-convert:hover {\n",
              "      background-color: #434B5C;\n",
              "      box-shadow: 0px 1px 3px 1px rgba(0, 0, 0, 0.15);\n",
              "      filter: drop-shadow(0px 1px 2px rgba(0, 0, 0, 0.3));\n",
              "      fill: #FFFFFF;\n",
              "    }\n",
              "  </style>\n",
              "\n",
              "      <script>\n",
              "        const buttonEl =\n",
              "          document.querySelector('#df-076ac287-b780-4d16-9d86-6991c60e6a9d button.colab-df-convert');\n",
              "        buttonEl.style.display =\n",
              "          google.colab.kernel.accessAllowed ? 'block' : 'none';\n",
              "\n",
              "        async function convertToInteractive(key) {\n",
              "          const element = document.querySelector('#df-076ac287-b780-4d16-9d86-6991c60e6a9d');\n",
              "          const dataTable =\n",
              "            await google.colab.kernel.invokeFunction('convertToInteractive',\n",
              "                                                     [key], {});\n",
              "          if (!dataTable) return;\n",
              "\n",
              "          const docLinkHtml = 'Like what you see? Visit the ' +\n",
              "            '<a target=\"_blank\" href=https://colab.research.google.com/notebooks/data_table.ipynb>data table notebook</a>'\n",
              "            + ' to learn more about interactive tables.';\n",
              "          element.innerHTML = '';\n",
              "          dataTable['output_type'] = 'display_data';\n",
              "          await google.colab.output.renderOutput(dataTable, element);\n",
              "          const docLink = document.createElement('div');\n",
              "          docLink.innerHTML = docLinkHtml;\n",
              "          element.appendChild(docLink);\n",
              "        }\n",
              "      </script>\n",
              "    </div>\n",
              "  </div>\n",
              "  "
            ]
          },
          "metadata": {},
          "execution_count": 8
        }
      ]
    },
    {
      "cell_type": "markdown",
      "source": [
        "Se cambia el valor benigno a otro, ya que no se puede garantizar con certeza que los registros benignos internamente no tengan presencia de otro malware, aunque se puede asegurar que dicha eventualidad sea mínima, ya que, los sitios fueron tomados del top Alexa, además que las URL fueron procesadas por virus total. El registro de red fue capturado en la página principal."
      ],
      "metadata": {
        "id": "Lz76iOw2Y1Hb"
      }
    },
    {
      "cell_type": "code",
      "source": [
        "data['Type'] = data['Type'].map({0:'normal', 1:'bitcash', 2:'bitcoin', 3:'ethereum', 4:'monero', 5:'litecoin'})"
      ],
      "metadata": {
        "id": "aLrKyJJM6X5q"
      },
      "execution_count": 9,
      "outputs": []
    },
    {
      "cell_type": "markdown",
      "source": [
        "**Eliminar columnas**\n",
        "se procede a eliminar la columna Second_Protocol y Third_Protocol, puesto que tienen un porcentaje alto de valores ausentes. 78% y 99% respectivamente. El porcentaje existente es muy bajo, para asumir una imputación de indicadores de tendencia central como la moda."
      ],
      "metadata": {
        "id": "TqT__HvWZJAE"
      }
    },
    {
      "cell_type": "code",
      "source": [
        "data = data.drop(['Second_Protocol', 'Third_Protocol'], axis=1)"
      ],
      "metadata": {
        "id": "twZTztWK6y3J"
      },
      "execution_count": 10,
      "outputs": []
    },
    {
      "cell_type": "markdown",
      "source": [
        "También se elimina las columnas third_sp y third_dp por tener un amplio número de valores faltantes. Más precisamente 72% de valores nulos."
      ],
      "metadata": {
        "id": "n35f5GKcZgqT"
      }
    },
    {
      "cell_type": "code",
      "source": [
        "data = data.drop(['third_sp', 'third_dp'], axis = 1)"
      ],
      "metadata": {
        "id": "jtRLT9LhZow7"
      },
      "execution_count": 11,
      "outputs": []
    },
    {
      "cell_type": "markdown",
      "source": [
        "**Cambio de tipo de dato**\n",
        "los puertos, si bien son representados por números, su naturaleza es categórica. Por lo tanto, variables como first_sp, second_sp, third_sp, first_dp y third_dp deben ser categóricas, ya que refleja un top de un valor usado, pero no aplica una propiedad de orden, puesto que es indiferente si se utiliza el puerto 80 o el 90."
      ],
      "metadata": {
        "id": "ezvRVv8iZwXy"
      }
    },
    {
      "cell_type": "code",
      "source": [
        "data['first_sp'] = data['first_sp'].astype('object')\n",
        "data['second_sp'] = data['second_sp'].astype('object')\n",
        "data['first_dp'] = data['second_dp'].astype('object')\n",
        "data['second_dp'] = data['second_dp'].astype('object')"
      ],
      "metadata": {
        "id": "5LNtVI3XaCR7"
      },
      "execution_count": 12,
      "outputs": []
    },
    {
      "cell_type": "markdown",
      "source": [
        "**Imputación de valores ausentes**\n",
        "imputación de los valores de las caracteristicas 'second_sp', 'second_dp' deben hacerse con el indicador de frecuencia categorico como la moda \n"
      ],
      "metadata": {
        "id": "6eyB_o1rald0"
      }
    },
    {
      "cell_type": "code",
      "source": [
        "punter = data[['second_sp', 'second_dp']]\n",
        "imputer = SimpleImputer(missing_values=np.nan, strategy='most_frequent')\n",
        "value = imputer.fit_transform(punter)"
      ],
      "metadata": {
        "id": "PO04Zrta7JNC"
      },
      "execution_count": 13,
      "outputs": []
    },
    {
      "cell_type": "code",
      "source": [
        "punter = pd.DataFrame(value, columns = punter.columns)\n",
        "data['second_sp'] = punter['second_sp']\n",
        "data['second_dp'] = punter['second_dp']\n",
        "data.head(2)"
      ],
      "metadata": {
        "id": "ptpZjdIV70Kj",
        "outputId": "27beec61-8389-439c-d917-c216530d5060",
        "colab": {
          "base_uri": "https://localhost:8080/",
          "height": 205
        }
      },
      "execution_count": 14,
      "outputs": [
        {
          "output_type": "execute_result",
          "data": {
            "text/plain": [
              "   Netflows First_Protocol    p1_d     p2_d     p3_d  duration    max_d  \\\n",
              "0        65            TCP  18.939  168.173  194.287  7845.126  244.362   \n",
              "1        18            UDP   0.000    0.000    0.000     0.086    0.044   \n",
              "\n",
              "   min_d  #packets  Avg_bps  ...  second_sp  first_dp  second_dp  p1_ip  \\\n",
              "0    0.0      5546   125708  ...       80.0      80.0       80.0    3.0   \n",
              "1    0.0        20      148  ...    53195.0      53.0       53.0    1.0   \n",
              "\n",
              "   p2_ip p3_ip  p1_ib  p2_ib   p3_ib    Type  \n",
              "0    7.0  22.0  127.0  255.0  1888.0  normal  \n",
              "1    1.0   1.0   37.0   47.0    64.0  normal  \n",
              "\n",
              "[2 rows x 26 columns]"
            ],
            "text/html": [
              "\n",
              "  <div id=\"df-e829441a-d59d-4d86-a15e-3a026a52a726\">\n",
              "    <div class=\"colab-df-container\">\n",
              "      <div>\n",
              "<style scoped>\n",
              "    .dataframe tbody tr th:only-of-type {\n",
              "        vertical-align: middle;\n",
              "    }\n",
              "\n",
              "    .dataframe tbody tr th {\n",
              "        vertical-align: top;\n",
              "    }\n",
              "\n",
              "    .dataframe thead th {\n",
              "        text-align: right;\n",
              "    }\n",
              "</style>\n",
              "<table border=\"1\" class=\"dataframe\">\n",
              "  <thead>\n",
              "    <tr style=\"text-align: right;\">\n",
              "      <th></th>\n",
              "      <th>Netflows</th>\n",
              "      <th>First_Protocol</th>\n",
              "      <th>p1_d</th>\n",
              "      <th>p2_d</th>\n",
              "      <th>p3_d</th>\n",
              "      <th>duration</th>\n",
              "      <th>max_d</th>\n",
              "      <th>min_d</th>\n",
              "      <th>#packets</th>\n",
              "      <th>Avg_bps</th>\n",
              "      <th>...</th>\n",
              "      <th>second_sp</th>\n",
              "      <th>first_dp</th>\n",
              "      <th>second_dp</th>\n",
              "      <th>p1_ip</th>\n",
              "      <th>p2_ip</th>\n",
              "      <th>p3_ip</th>\n",
              "      <th>p1_ib</th>\n",
              "      <th>p2_ib</th>\n",
              "      <th>p3_ib</th>\n",
              "      <th>Type</th>\n",
              "    </tr>\n",
              "  </thead>\n",
              "  <tbody>\n",
              "    <tr>\n",
              "      <th>0</th>\n",
              "      <td>65</td>\n",
              "      <td>TCP</td>\n",
              "      <td>18.939</td>\n",
              "      <td>168.173</td>\n",
              "      <td>194.287</td>\n",
              "      <td>7845.126</td>\n",
              "      <td>244.362</td>\n",
              "      <td>0.0</td>\n",
              "      <td>5546</td>\n",
              "      <td>125708</td>\n",
              "      <td>...</td>\n",
              "      <td>80.0</td>\n",
              "      <td>80.0</td>\n",
              "      <td>80.0</td>\n",
              "      <td>3.0</td>\n",
              "      <td>7.0</td>\n",
              "      <td>22.0</td>\n",
              "      <td>127.0</td>\n",
              "      <td>255.0</td>\n",
              "      <td>1888.0</td>\n",
              "      <td>normal</td>\n",
              "    </tr>\n",
              "    <tr>\n",
              "      <th>1</th>\n",
              "      <td>18</td>\n",
              "      <td>UDP</td>\n",
              "      <td>0.000</td>\n",
              "      <td>0.000</td>\n",
              "      <td>0.000</td>\n",
              "      <td>0.086</td>\n",
              "      <td>0.044</td>\n",
              "      <td>0.0</td>\n",
              "      <td>20</td>\n",
              "      <td>148</td>\n",
              "      <td>...</td>\n",
              "      <td>53195.0</td>\n",
              "      <td>53.0</td>\n",
              "      <td>53.0</td>\n",
              "      <td>1.0</td>\n",
              "      <td>1.0</td>\n",
              "      <td>1.0</td>\n",
              "      <td>37.0</td>\n",
              "      <td>47.0</td>\n",
              "      <td>64.0</td>\n",
              "      <td>normal</td>\n",
              "    </tr>\n",
              "  </tbody>\n",
              "</table>\n",
              "<p>2 rows × 26 columns</p>\n",
              "</div>\n",
              "      <button class=\"colab-df-convert\" onclick=\"convertToInteractive('df-e829441a-d59d-4d86-a15e-3a026a52a726')\"\n",
              "              title=\"Convert this dataframe to an interactive table.\"\n",
              "              style=\"display:none;\">\n",
              "        \n",
              "  <svg xmlns=\"http://www.w3.org/2000/svg\" height=\"24px\"viewBox=\"0 0 24 24\"\n",
              "       width=\"24px\">\n",
              "    <path d=\"M0 0h24v24H0V0z\" fill=\"none\"/>\n",
              "    <path d=\"M18.56 5.44l.94 2.06.94-2.06 2.06-.94-2.06-.94-.94-2.06-.94 2.06-2.06.94zm-11 1L8.5 8.5l.94-2.06 2.06-.94-2.06-.94L8.5 2.5l-.94 2.06-2.06.94zm10 10l.94 2.06.94-2.06 2.06-.94-2.06-.94-.94-2.06-.94 2.06-2.06.94z\"/><path d=\"M17.41 7.96l-1.37-1.37c-.4-.4-.92-.59-1.43-.59-.52 0-1.04.2-1.43.59L10.3 9.45l-7.72 7.72c-.78.78-.78 2.05 0 2.83L4 21.41c.39.39.9.59 1.41.59.51 0 1.02-.2 1.41-.59l7.78-7.78 2.81-2.81c.8-.78.8-2.07 0-2.86zM5.41 20L4 18.59l7.72-7.72 1.47 1.35L5.41 20z\"/>\n",
              "  </svg>\n",
              "      </button>\n",
              "      \n",
              "  <style>\n",
              "    .colab-df-container {\n",
              "      display:flex;\n",
              "      flex-wrap:wrap;\n",
              "      gap: 12px;\n",
              "    }\n",
              "\n",
              "    .colab-df-convert {\n",
              "      background-color: #E8F0FE;\n",
              "      border: none;\n",
              "      border-radius: 50%;\n",
              "      cursor: pointer;\n",
              "      display: none;\n",
              "      fill: #1967D2;\n",
              "      height: 32px;\n",
              "      padding: 0 0 0 0;\n",
              "      width: 32px;\n",
              "    }\n",
              "\n",
              "    .colab-df-convert:hover {\n",
              "      background-color: #E2EBFA;\n",
              "      box-shadow: 0px 1px 2px rgba(60, 64, 67, 0.3), 0px 1px 3px 1px rgba(60, 64, 67, 0.15);\n",
              "      fill: #174EA6;\n",
              "    }\n",
              "\n",
              "    [theme=dark] .colab-df-convert {\n",
              "      background-color: #3B4455;\n",
              "      fill: #D2E3FC;\n",
              "    }\n",
              "\n",
              "    [theme=dark] .colab-df-convert:hover {\n",
              "      background-color: #434B5C;\n",
              "      box-shadow: 0px 1px 3px 1px rgba(0, 0, 0, 0.15);\n",
              "      filter: drop-shadow(0px 1px 2px rgba(0, 0, 0, 0.3));\n",
              "      fill: #FFFFFF;\n",
              "    }\n",
              "  </style>\n",
              "\n",
              "      <script>\n",
              "        const buttonEl =\n",
              "          document.querySelector('#df-e829441a-d59d-4d86-a15e-3a026a52a726 button.colab-df-convert');\n",
              "        buttonEl.style.display =\n",
              "          google.colab.kernel.accessAllowed ? 'block' : 'none';\n",
              "\n",
              "        async function convertToInteractive(key) {\n",
              "          const element = document.querySelector('#df-e829441a-d59d-4d86-a15e-3a026a52a726');\n",
              "          const dataTable =\n",
              "            await google.colab.kernel.invokeFunction('convertToInteractive',\n",
              "                                                     [key], {});\n",
              "          if (!dataTable) return;\n",
              "\n",
              "          const docLinkHtml = 'Like what you see? Visit the ' +\n",
              "            '<a target=\"_blank\" href=https://colab.research.google.com/notebooks/data_table.ipynb>data table notebook</a>'\n",
              "            + ' to learn more about interactive tables.';\n",
              "          element.innerHTML = '';\n",
              "          dataTable['output_type'] = 'display_data';\n",
              "          await google.colab.output.renderOutput(dataTable, element);\n",
              "          const docLink = document.createElement('div');\n",
              "          docLink.innerHTML = docLinkHtml;\n",
              "          element.appendChild(docLink);\n",
              "        }\n",
              "      </script>\n",
              "    </div>\n",
              "  </div>\n",
              "  "
            ]
          },
          "metadata": {},
          "execution_count": 14
        }
      ]
    },
    {
      "cell_type": "markdown",
      "source": [
        "Se anexa una característica que indica el tipo de registro con relación a si es minero o normal."
      ],
      "metadata": {
        "id": "z0mTFyXEe4ZD"
      }
    },
    {
      "cell_type": "code",
      "source": [
        "data['is_miner'] = 0\n",
        "data.iloc[696:, -1] = 1 \n",
        "data['is_miner'] = data['is_miner'].astype('object')"
      ],
      "metadata": {
        "id": "c-El9DIK9vjb"
      },
      "execution_count": 15,
      "outputs": []
    },
    {
      "cell_type": "code",
      "source": [
        "data.head(1)"
      ],
      "metadata": {
        "id": "DUYXifJa8qIy",
        "outputId": "161a67fb-bbd4-48b3-9ffa-294199011e60",
        "colab": {
          "base_uri": "https://localhost:8080/",
          "height": 174
        }
      },
      "execution_count": 16,
      "outputs": [
        {
          "output_type": "execute_result",
          "data": {
            "text/plain": [
              "   Netflows First_Protocol    p1_d     p2_d     p3_d  duration    max_d  \\\n",
              "0        65            TCP  18.939  168.173  194.287  7845.126  244.362   \n",
              "\n",
              "   min_d  #packets  Avg_bps  ...  first_dp  second_dp  p1_ip  p2_ip  p3_ip  \\\n",
              "0    0.0      5546   125708  ...      80.0       80.0    3.0    7.0   22.0   \n",
              "\n",
              "   p1_ib  p2_ib   p3_ib    Type  is_miner  \n",
              "0  127.0  255.0  1888.0  normal         0  \n",
              "\n",
              "[1 rows x 27 columns]"
            ],
            "text/html": [
              "\n",
              "  <div id=\"df-ad426062-bf06-4f90-9562-14fd9468b2f8\">\n",
              "    <div class=\"colab-df-container\">\n",
              "      <div>\n",
              "<style scoped>\n",
              "    .dataframe tbody tr th:only-of-type {\n",
              "        vertical-align: middle;\n",
              "    }\n",
              "\n",
              "    .dataframe tbody tr th {\n",
              "        vertical-align: top;\n",
              "    }\n",
              "\n",
              "    .dataframe thead th {\n",
              "        text-align: right;\n",
              "    }\n",
              "</style>\n",
              "<table border=\"1\" class=\"dataframe\">\n",
              "  <thead>\n",
              "    <tr style=\"text-align: right;\">\n",
              "      <th></th>\n",
              "      <th>Netflows</th>\n",
              "      <th>First_Protocol</th>\n",
              "      <th>p1_d</th>\n",
              "      <th>p2_d</th>\n",
              "      <th>p3_d</th>\n",
              "      <th>duration</th>\n",
              "      <th>max_d</th>\n",
              "      <th>min_d</th>\n",
              "      <th>#packets</th>\n",
              "      <th>Avg_bps</th>\n",
              "      <th>...</th>\n",
              "      <th>first_dp</th>\n",
              "      <th>second_dp</th>\n",
              "      <th>p1_ip</th>\n",
              "      <th>p2_ip</th>\n",
              "      <th>p3_ip</th>\n",
              "      <th>p1_ib</th>\n",
              "      <th>p2_ib</th>\n",
              "      <th>p3_ib</th>\n",
              "      <th>Type</th>\n",
              "      <th>is_miner</th>\n",
              "    </tr>\n",
              "  </thead>\n",
              "  <tbody>\n",
              "    <tr>\n",
              "      <th>0</th>\n",
              "      <td>65</td>\n",
              "      <td>TCP</td>\n",
              "      <td>18.939</td>\n",
              "      <td>168.173</td>\n",
              "      <td>194.287</td>\n",
              "      <td>7845.126</td>\n",
              "      <td>244.362</td>\n",
              "      <td>0.0</td>\n",
              "      <td>5546</td>\n",
              "      <td>125708</td>\n",
              "      <td>...</td>\n",
              "      <td>80.0</td>\n",
              "      <td>80.0</td>\n",
              "      <td>3.0</td>\n",
              "      <td>7.0</td>\n",
              "      <td>22.0</td>\n",
              "      <td>127.0</td>\n",
              "      <td>255.0</td>\n",
              "      <td>1888.0</td>\n",
              "      <td>normal</td>\n",
              "      <td>0</td>\n",
              "    </tr>\n",
              "  </tbody>\n",
              "</table>\n",
              "<p>1 rows × 27 columns</p>\n",
              "</div>\n",
              "      <button class=\"colab-df-convert\" onclick=\"convertToInteractive('df-ad426062-bf06-4f90-9562-14fd9468b2f8')\"\n",
              "              title=\"Convert this dataframe to an interactive table.\"\n",
              "              style=\"display:none;\">\n",
              "        \n",
              "  <svg xmlns=\"http://www.w3.org/2000/svg\" height=\"24px\"viewBox=\"0 0 24 24\"\n",
              "       width=\"24px\">\n",
              "    <path d=\"M0 0h24v24H0V0z\" fill=\"none\"/>\n",
              "    <path d=\"M18.56 5.44l.94 2.06.94-2.06 2.06-.94-2.06-.94-.94-2.06-.94 2.06-2.06.94zm-11 1L8.5 8.5l.94-2.06 2.06-.94-2.06-.94L8.5 2.5l-.94 2.06-2.06.94zm10 10l.94 2.06.94-2.06 2.06-.94-2.06-.94-.94-2.06-.94 2.06-2.06.94z\"/><path d=\"M17.41 7.96l-1.37-1.37c-.4-.4-.92-.59-1.43-.59-.52 0-1.04.2-1.43.59L10.3 9.45l-7.72 7.72c-.78.78-.78 2.05 0 2.83L4 21.41c.39.39.9.59 1.41.59.51 0 1.02-.2 1.41-.59l7.78-7.78 2.81-2.81c.8-.78.8-2.07 0-2.86zM5.41 20L4 18.59l7.72-7.72 1.47 1.35L5.41 20z\"/>\n",
              "  </svg>\n",
              "      </button>\n",
              "      \n",
              "  <style>\n",
              "    .colab-df-container {\n",
              "      display:flex;\n",
              "      flex-wrap:wrap;\n",
              "      gap: 12px;\n",
              "    }\n",
              "\n",
              "    .colab-df-convert {\n",
              "      background-color: #E8F0FE;\n",
              "      border: none;\n",
              "      border-radius: 50%;\n",
              "      cursor: pointer;\n",
              "      display: none;\n",
              "      fill: #1967D2;\n",
              "      height: 32px;\n",
              "      padding: 0 0 0 0;\n",
              "      width: 32px;\n",
              "    }\n",
              "\n",
              "    .colab-df-convert:hover {\n",
              "      background-color: #E2EBFA;\n",
              "      box-shadow: 0px 1px 2px rgba(60, 64, 67, 0.3), 0px 1px 3px 1px rgba(60, 64, 67, 0.15);\n",
              "      fill: #174EA6;\n",
              "    }\n",
              "\n",
              "    [theme=dark] .colab-df-convert {\n",
              "      background-color: #3B4455;\n",
              "      fill: #D2E3FC;\n",
              "    }\n",
              "\n",
              "    [theme=dark] .colab-df-convert:hover {\n",
              "      background-color: #434B5C;\n",
              "      box-shadow: 0px 1px 3px 1px rgba(0, 0, 0, 0.15);\n",
              "      filter: drop-shadow(0px 1px 2px rgba(0, 0, 0, 0.3));\n",
              "      fill: #FFFFFF;\n",
              "    }\n",
              "  </style>\n",
              "\n",
              "      <script>\n",
              "        const buttonEl =\n",
              "          document.querySelector('#df-ad426062-bf06-4f90-9562-14fd9468b2f8 button.colab-df-convert');\n",
              "        buttonEl.style.display =\n",
              "          google.colab.kernel.accessAllowed ? 'block' : 'none';\n",
              "\n",
              "        async function convertToInteractive(key) {\n",
              "          const element = document.querySelector('#df-ad426062-bf06-4f90-9562-14fd9468b2f8');\n",
              "          const dataTable =\n",
              "            await google.colab.kernel.invokeFunction('convertToInteractive',\n",
              "                                                     [key], {});\n",
              "          if (!dataTable) return;\n",
              "\n",
              "          const docLinkHtml = 'Like what you see? Visit the ' +\n",
              "            '<a target=\"_blank\" href=https://colab.research.google.com/notebooks/data_table.ipynb>data table notebook</a>'\n",
              "            + ' to learn more about interactive tables.';\n",
              "          element.innerHTML = '';\n",
              "          dataTable['output_type'] = 'display_data';\n",
              "          await google.colab.output.renderOutput(dataTable, element);\n",
              "          const docLink = document.createElement('div');\n",
              "          docLink.innerHTML = docLinkHtml;\n",
              "          element.appendChild(docLink);\n",
              "        }\n",
              "      </script>\n",
              "    </div>\n",
              "  </div>\n",
              "  "
            ]
          },
          "metadata": {},
          "execution_count": 16
        }
      ]
    },
    {
      "cell_type": "code",
      "source": [
        "plot_bars(data['Type'], 'Is miner net flow red')"
      ],
      "metadata": {
        "id": "4o0qqgUR8tZi",
        "outputId": "09798e64-9b7b-42b7-f55f-19f95d53de7a",
        "colab": {
          "base_uri": "https://localhost:8080/",
          "height": 370
        }
      },
      "execution_count": 17,
      "outputs": [
        {
          "output_type": "display_data",
          "data": {
            "text/plain": [
              "<Figure size 432x360 with 1 Axes>"
            ],
            "image/png": "[encoded data removed]"
          },
          "metadata": {
            "needs_background": "light"
          }
        }
      ]
    },
    {
      "cell_type": "markdown",
      "source": [
        "El enfoque por tipo, es un conjunto de datos desbalanceado multicategorico"
      ],
      "metadata": {
        "id": "4YE99HQ72a_o"
      }
    },
    {
      "cell_type": "code",
      "source": [
        "plot_bars(data['is_miner'], 'Is miner net flow red')"
      ],
      "metadata": {
        "colab": {
          "base_uri": "https://localhost:8080/",
          "height": 371
        },
        "id": "LzImCXB-fCA6",
        "outputId": "b5efa193-472e-448f-ac68-88e5f9f8f6e7"
      },
      "execution_count": 18,
      "outputs": [
        {
          "output_type": "display_data",
          "data": {
            "text/plain": [
              "<Figure size 432x360 with 1 Axes>"
            ],
            "image/png": "[encoded data removed]"
          },
          "metadata": {
            "needs_background": "light"
          }
        }
      ]
    },
    {
      "cell_type": "markdown",
      "source": [
        "Si el enfoque del estudio es para esta característica, el conjunto queda desbalanceado, ya que el 25% de los datos es para registros normales y el resto es para datos mineros."
      ],
      "metadata": {
        "id": "kCO6GyvEf1ob"
      }
    },
    {
      "cell_type": "code",
      "source": [
        "feature_object = data.select_dtypes(include=['object', 'category']).columns"
      ],
      "metadata": {
        "id": "sXmLNTyZ-pWq"
      },
      "execution_count": 19,
      "outputs": []
    },
    {
      "cell_type": "code",
      "source": [
        "unique_value(data, feature_object)"
      ],
      "metadata": {
        "colab": {
          "base_uri": "https://localhost:8080/"
        },
        "id": "QP2dyeFhx9lw",
        "outputId": "7b6e93f8-b561-437f-d985-34e634fcd977"
      },
      "execution_count": 20,
      "outputs": [
        {
          "output_type": "stream",
          "name": "stdout",
          "text": [
            "Datos unicos por columnas\n",
            "('First_Protocol', 2)\n",
            "('first_sp', 73)\n",
            "('second_sp', 294)\n",
            "('first_dp', 289)\n",
            "('second_dp', 288)\n",
            "('Type', 6)\n",
            "('is_miner', 2)\n"
          ]
        }
      ]
    },
    {
      "cell_type": "markdown",
      "source": [
        "las presentes variables categoricas \n",
        "- first_sp\n",
        "- second_sp\n",
        "- first_dp\n",
        "- second_dp\n",
        "\n",
        "Presentan varios valores unicos, si bien pudiera contribuir en la predicción o aporta información sobre registros de minería, hay que tener en cuenta que los puertos pueden ser configurados por el atacante, por lo tanto, la información de estás variables es producto de la configuración en la toma de registros, por lo tanto, tenerlas en cuenta podría generar sesgo en los modelos. Por lo anterior, se procede a ignorar estas variables al momento de encodizar."
      ],
      "metadata": {
        "id": "FR4EKivk0oLQ"
      }
    },
    {
      "cell_type": "code",
      "source": [
        "data = data.drop(['first_sp', 'second_sp', 'first_dp', 'second_dp'], axis = 1)"
      ],
      "metadata": {
        "id": "n0EV9QzL030w"
      },
      "execution_count": 21,
      "outputs": []
    },
    {
      "cell_type": "markdown",
      "source": [
        "# **Copia de los datos**\n"
      ],
      "metadata": {
        "id": "wRjoA5By1Lwh"
      }
    },
    {
      "cell_type": "code",
      "source": [
        "data_copia = data"
      ],
      "metadata": {
        "id": "B_ntjggKz3A9"
      },
      "execution_count": 22,
      "outputs": []
    },
    {
      "cell_type": "markdown",
      "source": [
        "# **Enfoque**\n",
        "\n",
        "- Descripción:  prediccion de mineros por la naturaleza de su trafico. \n",
        "- Problema de clasificación\n",
        "- Problema dicotomico\n",
        "- Variable a predecir\n",
        "\n"
      ],
      "metadata": {
        "id": "_bam7MeB1Zs4"
      }
    },
    {
      "cell_type": "markdown",
      "source": [
        "\n",
        "Para el enfoque es necesario ignorar la variable del tipo de minería. Pues la variable es redundande para el enfoque o tipo de problema."
      ],
      "metadata": {
        "id": "UzeWPc7S34fh"
      }
    },
    {
      "cell_type": "code",
      "source": [
        "data.columns"
      ],
      "metadata": {
        "colab": {
          "base_uri": "https://localhost:8080/"
        },
        "id": "HQPpC_Sc5r_6",
        "outputId": "b1d37abd-858f-4351-c6d2-4ffe6210ddc9"
      },
      "execution_count": 23,
      "outputs": [
        {
          "output_type": "execute_result",
          "data": {
            "text/plain": [
              "Index(['Netflows', 'First_Protocol', 'p1_d', 'p2_d', 'p3_d', 'duration',\n",
              "       'max_d', 'min_d', '#packets', 'Avg_bps', 'Avg_pps', 'Avg_bpp', '#Bytes',\n",
              "       '#sp', '#dp', 'p1_ip', 'p2_ip', 'p3_ip', 'p1_ib', 'p2_ib', 'p3_ib',\n",
              "       'Type', 'is_miner'],\n",
              "      dtype='object')"
            ]
          },
          "metadata": {},
          "execution_count": 23
        }
      ]
    },
    {
      "cell_type": "code",
      "source": [
        "data.head(2)"
      ],
      "metadata": {
        "colab": {
          "base_uri": "https://localhost:8080/",
          "height": 205
        },
        "id": "7umf9FxJ50tg",
        "outputId": "cb79caca-0d1c-48ec-cc0b-ebbda61def91"
      },
      "execution_count": 24,
      "outputs": [
        {
          "output_type": "execute_result",
          "data": {
            "text/plain": [
              "   Netflows First_Protocol    p1_d     p2_d     p3_d  duration    max_d  \\\n",
              "0        65            TCP  18.939  168.173  194.287  7845.126  244.362   \n",
              "1        18            UDP   0.000    0.000    0.000     0.086    0.044   \n",
              "\n",
              "   min_d  #packets  Avg_bps  ...  #sp  #dp  p1_ip  p2_ip  p3_ip  p1_ib  p2_ib  \\\n",
              "0    0.0      5546   125708  ...   33   37    3.0    7.0   22.0  127.0  255.0   \n",
              "1    0.0        20      148  ...   13    8    1.0    1.0    1.0   37.0   47.0   \n",
              "\n",
              "    p3_ib    Type  is_miner  \n",
              "0  1888.0  normal         0  \n",
              "1    64.0  normal         0  \n",
              "\n",
              "[2 rows x 23 columns]"
            ],
            "text/html": [
              "\n",
              "  <div id=\"df-58e3d882-70d5-46c9-a264-4ac5c533552a\">\n",
              "    <div class=\"colab-df-container\">\n",
              "      <div>\n",
              "<style scoped>\n",
              "    .dataframe tbody tr th:only-of-type {\n",
              "        vertical-align: middle;\n",
              "    }\n",
              "\n",
              "    .dataframe tbody tr th {\n",
              "        vertical-align: top;\n",
              "    }\n",
              "\n",
              "    .dataframe thead th {\n",
              "        text-align: right;\n",
              "    }\n",
              "</style>\n",
              "<table border=\"1\" class=\"dataframe\">\n",
              "  <thead>\n",
              "    <tr style=\"text-align: right;\">\n",
              "      <th></th>\n",
              "      <th>Netflows</th>\n",
              "      <th>First_Protocol</th>\n",
              "      <th>p1_d</th>\n",
              "      <th>p2_d</th>\n",
              "      <th>p3_d</th>\n",
              "      <th>duration</th>\n",
              "      <th>max_d</th>\n",
              "      <th>min_d</th>\n",
              "      <th>#packets</th>\n",
              "      <th>Avg_bps</th>\n",
              "      <th>...</th>\n",
              "      <th>#sp</th>\n",
              "      <th>#dp</th>\n",
              "      <th>p1_ip</th>\n",
              "      <th>p2_ip</th>\n",
              "      <th>p3_ip</th>\n",
              "      <th>p1_ib</th>\n",
              "      <th>p2_ib</th>\n",
              "      <th>p3_ib</th>\n",
              "      <th>Type</th>\n",
              "      <th>is_miner</th>\n",
              "    </tr>\n",
              "  </thead>\n",
              "  <tbody>\n",
              "    <tr>\n",
              "      <th>0</th>\n",
              "      <td>65</td>\n",
              "      <td>TCP</td>\n",
              "      <td>18.939</td>\n",
              "      <td>168.173</td>\n",
              "      <td>194.287</td>\n",
              "      <td>7845.126</td>\n",
              "      <td>244.362</td>\n",
              "      <td>0.0</td>\n",
              "      <td>5546</td>\n",
              "      <td>125708</td>\n",
              "      <td>...</td>\n",
              "      <td>33</td>\n",
              "      <td>37</td>\n",
              "      <td>3.0</td>\n",
              "      <td>7.0</td>\n",
              "      <td>22.0</td>\n",
              "      <td>127.0</td>\n",
              "      <td>255.0</td>\n",
              "      <td>1888.0</td>\n",
              "      <td>normal</td>\n",
              "      <td>0</td>\n",
              "    </tr>\n",
              "    <tr>\n",
              "      <th>1</th>\n",
              "      <td>18</td>\n",
              "      <td>UDP</td>\n",
              "      <td>0.000</td>\n",
              "      <td>0.000</td>\n",
              "      <td>0.000</td>\n",
              "      <td>0.086</td>\n",
              "      <td>0.044</td>\n",
              "      <td>0.0</td>\n",
              "      <td>20</td>\n",
              "      <td>148</td>\n",
              "      <td>...</td>\n",
              "      <td>13</td>\n",
              "      <td>8</td>\n",
              "      <td>1.0</td>\n",
              "      <td>1.0</td>\n",
              "      <td>1.0</td>\n",
              "      <td>37.0</td>\n",
              "      <td>47.0</td>\n",
              "      <td>64.0</td>\n",
              "      <td>normal</td>\n",
              "      <td>0</td>\n",
              "    </tr>\n",
              "  </tbody>\n",
              "</table>\n",
              "<p>2 rows × 23 columns</p>\n",
              "</div>\n",
              "      <button class=\"colab-df-convert\" onclick=\"convertToInteractive('df-58e3d882-70d5-46c9-a264-4ac5c533552a')\"\n",
              "              title=\"Convert this dataframe to an interactive table.\"\n",
              "              style=\"display:none;\">\n",
              "        \n",
              "  <svg xmlns=\"http://www.w3.org/2000/svg\" height=\"24px\"viewBox=\"0 0 24 24\"\n",
              "       width=\"24px\">\n",
              "    <path d=\"M0 0h24v24H0V0z\" fill=\"none\"/>\n",
              "    <path d=\"M18.56 5.44l.94 2.06.94-2.06 2.06-.94-2.06-.94-.94-2.06-.94 2.06-2.06.94zm-11 1L8.5 8.5l.94-2.06 2.06-.94-2.06-.94L8.5 2.5l-.94 2.06-2.06.94zm10 10l.94 2.06.94-2.06 2.06-.94-2.06-.94-.94-2.06-.94 2.06-2.06.94z\"/><path d=\"M17.41 7.96l-1.37-1.37c-.4-.4-.92-.59-1.43-.59-.52 0-1.04.2-1.43.59L10.3 9.45l-7.72 7.72c-.78.78-.78 2.05 0 2.83L4 21.41c.39.39.9.59 1.41.59.51 0 1.02-.2 1.41-.59l7.78-7.78 2.81-2.81c.8-.78.8-2.07 0-2.86zM5.41 20L4 18.59l7.72-7.72 1.47 1.35L5.41 20z\"/>\n",
              "  </svg>\n",
              "      </button>\n",
              "      \n",
              "  <style>\n",
              "    .colab-df-container {\n",
              "      display:flex;\n",
              "      flex-wrap:wrap;\n",
              "      gap: 12px;\n",
              "    }\n",
              "\n",
              "    .colab-df-convert {\n",
              "      background-color: #E8F0FE;\n",
              "      border: none;\n",
              "      border-radius: 50%;\n",
              "      cursor: pointer;\n",
              "      display: none;\n",
              "      fill: #1967D2;\n",
              "      height: 32px;\n",
              "      padding: 0 0 0 0;\n",
              "      width: 32px;\n",
              "    }\n",
              "\n",
              "    .colab-df-convert:hover {\n",
              "      background-color: #E2EBFA;\n",
              "      box-shadow: 0px 1px 2px rgba(60, 64, 67, 0.3), 0px 1px 3px 1px rgba(60, 64, 67, 0.15);\n",
              "      fill: #174EA6;\n",
              "    }\n",
              "\n",
              "    [theme=dark] .colab-df-convert {\n",
              "      background-color: #3B4455;\n",
              "      fill: #D2E3FC;\n",
              "    }\n",
              "\n",
              "    [theme=dark] .colab-df-convert:hover {\n",
              "      background-color: #434B5C;\n",
              "      box-shadow: 0px 1px 3px 1px rgba(0, 0, 0, 0.15);\n",
              "      filter: drop-shadow(0px 1px 2px rgba(0, 0, 0, 0.3));\n",
              "      fill: #FFFFFF;\n",
              "    }\n",
              "  </style>\n",
              "\n",
              "      <script>\n",
              "        const buttonEl =\n",
              "          document.querySelector('#df-58e3d882-70d5-46c9-a264-4ac5c533552a button.colab-df-convert');\n",
              "        buttonEl.style.display =\n",
              "          google.colab.kernel.accessAllowed ? 'block' : 'none';\n",
              "\n",
              "        async function convertToInteractive(key) {\n",
              "          const element = document.querySelector('#df-58e3d882-70d5-46c9-a264-4ac5c533552a');\n",
              "          const dataTable =\n",
              "            await google.colab.kernel.invokeFunction('convertToInteractive',\n",
              "                                                     [key], {});\n",
              "          if (!dataTable) return;\n",
              "\n",
              "          const docLinkHtml = 'Like what you see? Visit the ' +\n",
              "            '<a target=\"_blank\" href=https://colab.research.google.com/notebooks/data_table.ipynb>data table notebook</a>'\n",
              "            + ' to learn more about interactive tables.';\n",
              "          element.innerHTML = '';\n",
              "          dataTable['output_type'] = 'display_data';\n",
              "          await google.colab.output.renderOutput(dataTable, element);\n",
              "          const docLink = document.createElement('div');\n",
              "          docLink.innerHTML = docLinkHtml;\n",
              "          element.appendChild(docLink);\n",
              "        }\n",
              "      </script>\n",
              "    </div>\n",
              "  </div>\n",
              "  "
            ]
          },
          "metadata": {},
          "execution_count": 24
        }
      ]
    },
    {
      "cell_type": "code",
      "source": [
        "X = data.iloc[:, 0:-2]\n",
        "y = data['is_miner'].astype('int')"
      ],
      "metadata": {
        "id": "L92NWpfGtAyN"
      },
      "execution_count": 25,
      "outputs": []
    },
    {
      "cell_type": "markdown",
      "source": [
        "# **Aplicar un submuestreo**"
      ],
      "metadata": {
        "id": "LzIV7nrjyj5c"
      }
    },
    {
      "cell_type": "markdown",
      "source": [
        "El conjunto de datos que se analiza, proviene de una sonda, la cual para la fecha se me desconfiguro, por lo tanto, no puedo procesar tráfico normal, el cual es mucho mayor al tráfico minero, por lo tanto, sub muestreo, para que el tráfico sea muy cercano a una data balanceada, puesto que el interés del estudio es relacionado con encontrar tráfico minero."
      ],
      "metadata": {
        "id": "8Efth3z80eoC"
      }
    },
    {
      "cell_type": "markdown",
      "source": [
        "1. Se separa los datos mineros y el normal"
      ],
      "metadata": {
        "id": "ToVVsnr41zqt"
      }
    },
    {
      "cell_type": "code",
      "source": [
        "data_normal = data[data['is_miner']==0]\n",
        "data_miner = data[data['is_miner'] == 1]"
      ],
      "metadata": {
        "id": "uGI4UMV7Dpph"
      },
      "execution_count": 26,
      "outputs": []
    },
    {
      "cell_type": "markdown",
      "source": [
        "2. se aleatoriza el data minero"
      ],
      "metadata": {
        "id": "bUzZLG141tJ9"
      }
    },
    {
      "cell_type": "code",
      "source": [
        "data_miner = data_miner.reset_index()\n",
        "data_miner = data_miner.iloc[np.random.RandomState(seed=1478).permutation(data_miner.index)]"
      ],
      "metadata": {
        "id": "gmjr_gm80G-E"
      },
      "execution_count": 27,
      "outputs": []
    },
    {
      "cell_type": "code",
      "source": [
        "data_miner"
      ],
      "metadata": {
        "colab": {
          "base_uri": "https://localhost:8080/",
          "height": 488
        },
        "id": "s0b67T945prN",
        "outputId": "3a61a24b-9ee8-4308-de8d-11f998a170ed"
      },
      "execution_count": 28,
      "outputs": [
        {
          "output_type": "execute_result",
          "data": {
            "text/plain": [
              "      index  Netflows First_Protocol       p1_d      p2_d       p3_d  \\\n",
              "444    1140         2            TCP  288.42525  288.4255  288.42575   \n",
              "1640   2336         2            TCP  309.61600  309.6160  309.61600   \n",
              "859    1555         2            TCP  548.91225  548.9225  548.93275   \n",
              "1969   2665         2            TCP  241.98025  244.1485  246.31675   \n",
              "695    1391         4            TCP    0.02175   76.1155  152.21225   \n",
              "...     ...       ...            ...        ...       ...        ...   \n",
              "933    1629        10            TCP   10.38475   13.2640   90.45925   \n",
              "1630   2326         2            TCP  297.51000  297.5510  297.59200   \n",
              "331    1027         2            TCP  281.08250  281.0830  281.08350   \n",
              "710    1406         2            TCP  242.15525  242.1555  242.15575   \n",
              "1483   2179        14            TCP   31.95275   42.1655   58.38875   \n",
              "\n",
              "      duration    max_d    min_d  #packets  ...  #sp  #dp   p1_ip  p2_ip  \\\n",
              "444    576.851  288.426  288.425        19  ...    2    2    9.25    9.5   \n",
              "1640   619.232  309.616  309.616       394  ...    2    2  190.00  197.0   \n",
              "859   1097.845  548.943  548.902       625  ...    2    2  300.75  312.5   \n",
              "1969   488.297  248.485  239.812        36  ...    2    2   17.00   18.0   \n",
              "695    304.474  152.243    0.000        20  ...    2    2    2.00    4.0   \n",
              "...        ...      ...      ...       ...  ...  ...  ...     ...    ...   \n",
              "933    440.597  106.601    0.000       265  ...    2    2    6.25    8.5   \n",
              "1630   595.102  297.633  297.469       368  ...    2    2  179.00  184.0   \n",
              "331    562.166  281.084  281.082        22  ...    2    2   11.00   11.0   \n",
              "710    484.311  242.156  242.155        29  ...    2    2   14.25   14.5   \n",
              "1483  1140.934  344.143    3.200       697  ...    2    2   16.50   28.0   \n",
              "\n",
              "       p3_ip     p1_ib    p2_ib     p3_ib      Type  is_miner  \n",
              "444     9.75   2137.25   3969.5   5801.75   bitcash         1  \n",
              "1640  204.00  18178.50  26820.0  35461.50  ethereum         1  \n",
              "859   324.25  28614.75  42416.5  56218.25  ethereum         1  \n",
              "1969   19.00   3187.50   5450.0   7712.50  litecoin         1  \n",
              "695     7.00     40.00     80.0   2298.00   bitcoin         1  \n",
              "...      ...       ...      ...       ...       ...       ...  \n",
              "933    54.50    472.25   1546.5   2699.00  ethereum         1  \n",
              "1630  189.00  16440.00  24774.0  33108.00  ethereum         1  \n",
              "331    11.00   2873.75   5527.5   8181.25   bitcash         1  \n",
              "710    14.75   3483.75   6509.5   9535.25   bitcoin         1  \n",
              "1483   38.75   1384.25   2483.5   7541.50  ethereum         1  \n",
              "\n",
              "[2141 rows x 24 columns]"
            ],
            "text/html": [
              "\n",
              "  <div id=\"df-5eefdeac-17c4-41f8-b7fa-f9adb38a1728\">\n",
              "    <div class=\"colab-df-container\">\n",
              "      <div>\n",
              "<style scoped>\n",
              "    .dataframe tbody tr th:only-of-type {\n",
              "        vertical-align: middle;\n",
              "    }\n",
              "\n",
              "    .dataframe tbody tr th {\n",
              "        vertical-align: top;\n",
              "    }\n",
              "\n",
              "    .dataframe thead th {\n",
              "        text-align: right;\n",
              "    }\n",
              "</style>\n",
              "<table border=\"1\" class=\"dataframe\">\n",
              "  <thead>\n",
              "    <tr style=\"text-align: right;\">\n",
              "      <th></th>\n",
              "      <th>index</th>\n",
              "      <th>Netflows</th>\n",
              "      <th>First_Protocol</th>\n",
              "      <th>p1_d</th>\n",
              "      <th>p2_d</th>\n",
              "      <th>p3_d</th>\n",
              "      <th>duration</th>\n",
              "      <th>max_d</th>\n",
              "      <th>min_d</th>\n",
              "      <th>#packets</th>\n",
              "      <th>...</th>\n",
              "      <th>#sp</th>\n",
              "      <th>#dp</th>\n",
              "      <th>p1_ip</th>\n",
              "      <th>p2_ip</th>\n",
              "      <th>p3_ip</th>\n",
              "      <th>p1_ib</th>\n",
              "      <th>p2_ib</th>\n",
              "      <th>p3_ib</th>\n",
              "      <th>Type</th>\n",
              "      <th>is_miner</th>\n",
              "    </tr>\n",
              "  </thead>\n",
              "  <tbody>\n",
              "    <tr>\n",
              "      <th>444</th>\n",
              "      <td>1140</td>\n",
              "      <td>2</td>\n",
              "      <td>TCP</td>\n",
              "      <td>288.42525</td>\n",
              "      <td>288.4255</td>\n",
              "      <td>288.42575</td>\n",
              "      <td>576.851</td>\n",
              "      <td>288.426</td>\n",
              "      <td>288.425</td>\n",
              "      <td>19</td>\n",
              "      <td>...</td>\n",
              "      <td>2</td>\n",
              "      <td>2</td>\n",
              "      <td>9.25</td>\n",
              "      <td>9.5</td>\n",
              "      <td>9.75</td>\n",
              "      <td>2137.25</td>\n",
              "      <td>3969.5</td>\n",
              "      <td>5801.75</td>\n",
              "      <td>bitcash</td>\n",
              "      <td>1</td>\n",
              "    </tr>\n",
              "    <tr>\n",
              "      <th>1640</th>\n",
              "      <td>2336</td>\n",
              "      <td>2</td>\n",
              "      <td>TCP</td>\n",
              "      <td>309.61600</td>\n",
              "      <td>309.6160</td>\n",
              "      <td>309.61600</td>\n",
              "      <td>619.232</td>\n",
              "      <td>309.616</td>\n",
              "      <td>309.616</td>\n",
              "      <td>394</td>\n",
              "      <td>...</td>\n",
              "      <td>2</td>\n",
              "      <td>2</td>\n",
              "      <td>190.00</td>\n",
              "      <td>197.0</td>\n",
              "      <td>204.00</td>\n",
              "      <td>18178.50</td>\n",
              "      <td>26820.0</td>\n",
              "      <td>35461.50</td>\n",
              "      <td>ethereum</td>\n",
              "      <td>1</td>\n",
              "    </tr>\n",
              "    <tr>\n",
              "      <th>859</th>\n",
              "      <td>1555</td>\n",
              "      <td>2</td>\n",
              "      <td>TCP</td>\n",
              "      <td>548.91225</td>\n",
              "      <td>548.9225</td>\n",
              "      <td>548.93275</td>\n",
              "      <td>1097.845</td>\n",
              "      <td>548.943</td>\n",
              "      <td>548.902</td>\n",
              "      <td>625</td>\n",
              "      <td>...</td>\n",
              "      <td>2</td>\n",
              "      <td>2</td>\n",
              "      <td>300.75</td>\n",
              "      <td>312.5</td>\n",
              "      <td>324.25</td>\n",
              "      <td>28614.75</td>\n",
              "      <td>42416.5</td>\n",
              "      <td>56218.25</td>\n",
              "      <td>ethereum</td>\n",
              "      <td>1</td>\n",
              "    </tr>\n",
              "    <tr>\n",
              "      <th>1969</th>\n",
              "      <td>2665</td>\n",
              "      <td>2</td>\n",
              "      <td>TCP</td>\n",
              "      <td>241.98025</td>\n",
              "      <td>244.1485</td>\n",
              "      <td>246.31675</td>\n",
              "      <td>488.297</td>\n",
              "      <td>248.485</td>\n",
              "      <td>239.812</td>\n",
              "      <td>36</td>\n",
              "      <td>...</td>\n",
              "      <td>2</td>\n",
              "      <td>2</td>\n",
              "      <td>17.00</td>\n",
              "      <td>18.0</td>\n",
              "      <td>19.00</td>\n",
              "      <td>3187.50</td>\n",
              "      <td>5450.0</td>\n",
              "      <td>7712.50</td>\n",
              "      <td>litecoin</td>\n",
              "      <td>1</td>\n",
              "    </tr>\n",
              "    <tr>\n",
              "      <th>695</th>\n",
              "      <td>1391</td>\n",
              "      <td>4</td>\n",
              "      <td>TCP</td>\n",
              "      <td>0.02175</td>\n",
              "      <td>76.1155</td>\n",
              "      <td>152.21225</td>\n",
              "      <td>304.474</td>\n",
              "      <td>152.243</td>\n",
              "      <td>0.000</td>\n",
              "      <td>20</td>\n",
              "      <td>...</td>\n",
              "      <td>2</td>\n",
              "      <td>2</td>\n",
              "      <td>2.00</td>\n",
              "      <td>4.0</td>\n",
              "      <td>7.00</td>\n",
              "      <td>40.00</td>\n",
              "      <td>80.0</td>\n",
              "      <td>2298.00</td>\n",
              "      <td>bitcoin</td>\n",
              "      <td>1</td>\n",
              "    </tr>\n",
              "    <tr>\n",
              "      <th>...</th>\n",
              "      <td>...</td>\n",
              "      <td>...</td>\n",
              "      <td>...</td>\n",
              "      <td>...</td>\n",
              "      <td>...</td>\n",
              "      <td>...</td>\n",
              "      <td>...</td>\n",
              "      <td>...</td>\n",
              "      <td>...</td>\n",
              "      <td>...</td>\n",
              "      <td>...</td>\n",
              "      <td>...</td>\n",
              "      <td>...</td>\n",
              "      <td>...</td>\n",
              "      <td>...</td>\n",
              "      <td>...</td>\n",
              "      <td>...</td>\n",
              "      <td>...</td>\n",
              "      <td>...</td>\n",
              "      <td>...</td>\n",
              "      <td>...</td>\n",
              "    </tr>\n",
              "    <tr>\n",
              "      <th>933</th>\n",
              "      <td>1629</td>\n",
              "      <td>10</td>\n",
              "      <td>TCP</td>\n",
              "      <td>10.38475</td>\n",
              "      <td>13.2640</td>\n",
              "      <td>90.45925</td>\n",
              "      <td>440.597</td>\n",
              "      <td>106.601</td>\n",
              "      <td>0.000</td>\n",
              "      <td>265</td>\n",
              "      <td>...</td>\n",
              "      <td>2</td>\n",
              "      <td>2</td>\n",
              "      <td>6.25</td>\n",
              "      <td>8.5</td>\n",
              "      <td>54.50</td>\n",
              "      <td>472.25</td>\n",
              "      <td>1546.5</td>\n",
              "      <td>2699.00</td>\n",
              "      <td>ethereum</td>\n",
              "      <td>1</td>\n",
              "    </tr>\n",
              "    <tr>\n",
              "      <th>1630</th>\n",
              "      <td>2326</td>\n",
              "      <td>2</td>\n",
              "      <td>TCP</td>\n",
              "      <td>297.51000</td>\n",
              "      <td>297.5510</td>\n",
              "      <td>297.59200</td>\n",
              "      <td>595.102</td>\n",
              "      <td>297.633</td>\n",
              "      <td>297.469</td>\n",
              "      <td>368</td>\n",
              "      <td>...</td>\n",
              "      <td>2</td>\n",
              "      <td>2</td>\n",
              "      <td>179.00</td>\n",
              "      <td>184.0</td>\n",
              "      <td>189.00</td>\n",
              "      <td>16440.00</td>\n",
              "      <td>24774.0</td>\n",
              "      <td>33108.00</td>\n",
              "      <td>ethereum</td>\n",
              "      <td>1</td>\n",
              "    </tr>\n",
              "    <tr>\n",
              "      <th>331</th>\n",
              "      <td>1027</td>\n",
              "      <td>2</td>\n",
              "      <td>TCP</td>\n",
              "      <td>281.08250</td>\n",
              "      <td>281.0830</td>\n",
              "      <td>281.08350</td>\n",
              "      <td>562.166</td>\n",
              "      <td>281.084</td>\n",
              "      <td>281.082</td>\n",
              "      <td>22</td>\n",
              "      <td>...</td>\n",
              "      <td>2</td>\n",
              "      <td>2</td>\n",
              "      <td>11.00</td>\n",
              "      <td>11.0</td>\n",
              "      <td>11.00</td>\n",
              "      <td>2873.75</td>\n",
              "      <td>5527.5</td>\n",
              "      <td>8181.25</td>\n",
              "      <td>bitcash</td>\n",
              "      <td>1</td>\n",
              "    </tr>\n",
              "    <tr>\n",
              "      <th>710</th>\n",
              "      <td>1406</td>\n",
              "      <td>2</td>\n",
              "      <td>TCP</td>\n",
              "      <td>242.15525</td>\n",
              "      <td>242.1555</td>\n",
              "      <td>242.15575</td>\n",
              "      <td>484.311</td>\n",
              "      <td>242.156</td>\n",
              "      <td>242.155</td>\n",
              "      <td>29</td>\n",
              "      <td>...</td>\n",
              "      <td>2</td>\n",
              "      <td>2</td>\n",
              "      <td>14.25</td>\n",
              "      <td>14.5</td>\n",
              "      <td>14.75</td>\n",
              "      <td>3483.75</td>\n",
              "      <td>6509.5</td>\n",
              "      <td>9535.25</td>\n",
              "      <td>bitcoin</td>\n",
              "      <td>1</td>\n",
              "    </tr>\n",
              "    <tr>\n",
              "      <th>1483</th>\n",
              "      <td>2179</td>\n",
              "      <td>14</td>\n",
              "      <td>TCP</td>\n",
              "      <td>31.95275</td>\n",
              "      <td>42.1655</td>\n",
              "      <td>58.38875</td>\n",
              "      <td>1140.934</td>\n",
              "      <td>344.143</td>\n",
              "      <td>3.200</td>\n",
              "      <td>697</td>\n",
              "      <td>...</td>\n",
              "      <td>2</td>\n",
              "      <td>2</td>\n",
              "      <td>16.50</td>\n",
              "      <td>28.0</td>\n",
              "      <td>38.75</td>\n",
              "      <td>1384.25</td>\n",
              "      <td>2483.5</td>\n",
              "      <td>7541.50</td>\n",
              "      <td>ethereum</td>\n",
              "      <td>1</td>\n",
              "    </tr>\n",
              "  </tbody>\n",
              "</table>\n",
              "<p>2141 rows × 24 columns</p>\n",
              "</div>\n",
              "      <button class=\"colab-df-convert\" onclick=\"convertToInteractive('df-5eefdeac-17c4-41f8-b7fa-f9adb38a1728')\"\n",
              "              title=\"Convert this dataframe to an interactive table.\"\n",
              "              style=\"display:none;\">\n",
              "        \n",
              "  <svg xmlns=\"http://www.w3.org/2000/svg\" height=\"24px\"viewBox=\"0 0 24 24\"\n",
              "       width=\"24px\">\n",
              "    <path d=\"M0 0h24v24H0V0z\" fill=\"none\"/>\n",
              "    <path d=\"M18.56 5.44l.94 2.06.94-2.06 2.06-.94-2.06-.94-.94-2.06-.94 2.06-2.06.94zm-11 1L8.5 8.5l.94-2.06 2.06-.94-2.06-.94L8.5 2.5l-.94 2.06-2.06.94zm10 10l.94 2.06.94-2.06 2.06-.94-2.06-.94-.94-2.06-.94 2.06-2.06.94z\"/><path d=\"M17.41 7.96l-1.37-1.37c-.4-.4-.92-.59-1.43-.59-.52 0-1.04.2-1.43.59L10.3 9.45l-7.72 7.72c-.78.78-.78 2.05 0 2.83L4 21.41c.39.39.9.59 1.41.59.51 0 1.02-.2 1.41-.59l7.78-7.78 2.81-2.81c.8-.78.8-2.07 0-2.86zM5.41 20L4 18.59l7.72-7.72 1.47 1.35L5.41 20z\"/>\n",
              "  </svg>\n",
              "      </button>\n",
              "      \n",
              "  <style>\n",
              "    .colab-df-container {\n",
              "      display:flex;\n",
              "      flex-wrap:wrap;\n",
              "      gap: 12px;\n",
              "    }\n",
              "\n",
              "    .colab-df-convert {\n",
              "      background-color: #E8F0FE;\n",
              "      border: none;\n",
              "      border-radius: 50%;\n",
              "      cursor: pointer;\n",
              "      display: none;\n",
              "      fill: #1967D2;\n",
              "      height: 32px;\n",
              "      padding: 0 0 0 0;\n",
              "      width: 32px;\n",
              "    }\n",
              "\n",
              "    .colab-df-convert:hover {\n",
              "      background-color: #E2EBFA;\n",
              "      box-shadow: 0px 1px 2px rgba(60, 64, 67, 0.3), 0px 1px 3px 1px rgba(60, 64, 67, 0.15);\n",
              "      fill: #174EA6;\n",
              "    }\n",
              "\n",
              "    [theme=dark] .colab-df-convert {\n",
              "      background-color: #3B4455;\n",
              "      fill: #D2E3FC;\n",
              "    }\n",
              "\n",
              "    [theme=dark] .colab-df-convert:hover {\n",
              "      background-color: #434B5C;\n",
              "      box-shadow: 0px 1px 3px 1px rgba(0, 0, 0, 0.15);\n",
              "      filter: drop-shadow(0px 1px 2px rgba(0, 0, 0, 0.3));\n",
              "      fill: #FFFFFF;\n",
              "    }\n",
              "  </style>\n",
              "\n",
              "      <script>\n",
              "        const buttonEl =\n",
              "          document.querySelector('#df-5eefdeac-17c4-41f8-b7fa-f9adb38a1728 button.colab-df-convert');\n",
              "        buttonEl.style.display =\n",
              "          google.colab.kernel.accessAllowed ? 'block' : 'none';\n",
              "\n",
              "        async function convertToInteractive(key) {\n",
              "          const element = document.querySelector('#df-5eefdeac-17c4-41f8-b7fa-f9adb38a1728');\n",
              "          const dataTable =\n",
              "            await google.colab.kernel.invokeFunction('convertToInteractive',\n",
              "                                                     [key], {});\n",
              "          if (!dataTable) return;\n",
              "\n",
              "          const docLinkHtml = 'Like what you see? Visit the ' +\n",
              "            '<a target=\"_blank\" href=https://colab.research.google.com/notebooks/data_table.ipynb>data table notebook</a>'\n",
              "            + ' to learn more about interactive tables.';\n",
              "          element.innerHTML = '';\n",
              "          dataTable['output_type'] = 'display_data';\n",
              "          await google.colab.output.renderOutput(dataTable, element);\n",
              "          const docLink = document.createElement('div');\n",
              "          docLink.innerHTML = docLinkHtml;\n",
              "          element.appendChild(docLink);\n",
              "        }\n",
              "      </script>\n",
              "    </div>\n",
              "  </div>\n",
              "  "
            ]
          },
          "metadata": {},
          "execution_count": 28
        }
      ]
    },
    {
      "cell_type": "markdown",
      "source": [
        "3. submuestreo en los datos mineros"
      ],
      "metadata": {
        "id": "D4Ago_9616h0"
      }
    },
    {
      "cell_type": "code",
      "source": [
        "temp_X = data_miner.drop(['Type'], axis = 1)\n",
        "temp_y = data_miner['Type']"
      ],
      "metadata": {
        "id": "LxZWfObw3hEu"
      },
      "execution_count": 29,
      "outputs": []
    },
    {
      "cell_type": "code",
      "source": [
        "X_miner, X_sobrante, y_miner, y_sobrante = train_test_split(temp_X, temp_y, train_size=0.35, shuffle=True, stratify=temp_y, random_state=1234)"
      ],
      "metadata": {
        "id": "TPVbCdrh19fE"
      },
      "execution_count": 30,
      "outputs": []
    },
    {
      "cell_type": "code",
      "source": [
        "data_miner = pd.concat([X_miner.iloc[:,:-1], y_miner, X_miner['is_miner']], axis = 1)"
      ],
      "metadata": {
        "id": "ujYiqZK_3-oP"
      },
      "execution_count": 31,
      "outputs": []
    },
    {
      "cell_type": "markdown",
      "source": [
        "- Se valida tener un porción del muestreo similiar a la forma en que se distribuyen los registros por type de la muestra original"
      ],
      "metadata": {
        "id": "WoZ9au7L7i10"
      }
    },
    {
      "cell_type": "code",
      "source": [
        "plot_bars(data_miner['Type'], 'Is miner net flow red')"
      ],
      "metadata": {
        "colab": {
          "base_uri": "https://localhost:8080/",
          "height": 370
        },
        "id": "tSIemI3q4lmV",
        "outputId": "c4ea1caf-4fde-476a-ec52-4cf1790213e6"
      },
      "execution_count": 32,
      "outputs": [
        {
          "output_type": "display_data",
          "data": {
            "text/plain": [
              "<Figure size 432x360 with 1 Axes>"
            ],
            "image/png": "[encoded data removed]"
          },
          "metadata": {
            "needs_background": "light"
          }
        }
      ]
    },
    {
      "cell_type": "markdown",
      "source": [
        "4. Se concatena el conjunto normal y el minero nuevamente."
      ],
      "metadata": {
        "id": "EXOBonz-8Bwt"
      }
    },
    {
      "cell_type": "code",
      "source": [
        "data = pd.concat([data_miner, data_normal], axis = 0).drop('index', axis = 1)"
      ],
      "metadata": {
        "id": "viQSIpRu7409"
      },
      "execution_count": 33,
      "outputs": []
    },
    {
      "cell_type": "code",
      "source": [
        "plot_bars(data['is_miner'], 'Is miner net flow red')"
      ],
      "metadata": {
        "colab": {
          "base_uri": "https://localhost:8080/",
          "height": 371
        },
        "id": "wmEUwvi38bvj",
        "outputId": "f6dc364e-e38c-450f-86ee-189e6a346d54"
      },
      "execution_count": 34,
      "outputs": [
        {
          "output_type": "display_data",
          "data": {
            "text/plain": [
              "<Figure size 432x360 with 1 Axes>"
            ],
            "image/png": "[encoded data removed]"
          },
          "metadata": {
            "needs_background": "light"
          }
        }
      ]
    },
    {
      "cell_type": "markdown",
      "source": [
        "- Se aprecia que existe un desbalance, pero no es tán critico"
      ],
      "metadata": {
        "id": "n3AND_hK8yV-"
      }
    },
    {
      "cell_type": "code",
      "source": [
        "X = data.iloc[:, 0:-1]\n",
        "y = data.iloc[:,-1]"
      ],
      "metadata": {
        "id": "4ZJtgCno88jt"
      },
      "execution_count": 35,
      "outputs": []
    },
    {
      "cell_type": "code",
      "source": [
        "X_train, X_test, y_train, y_test = train_test_split(X, y, train_size=0.75, shuffle=True, stratify=data['Type'], random_state=1234)"
      ],
      "metadata": {
        "id": "_gEGnZBD61ct"
      },
      "execution_count": 36,
      "outputs": []
    },
    {
      "cell_type": "markdown",
      "source": [
        "**preprocesamiento**\n",
        "Se estandariza las variables cuantitativas y aplico un codificador a variables categóricas."
      ],
      "metadata": {
        "id": "uRBp8krN62Vi"
      }
    },
    {
      "cell_type": "code",
      "source": [
        "def preprocesamiento(X_train, X_test):\n",
        "  numeric_columns = X_train.select_dtypes(include=['float64', 'int64']).columns.to_list()\n",
        "  cat_columns = X_test.select_dtypes(include=['object', 'category']).columns.to_list()\n",
        "  preprocessor = ColumnTransformer(\n",
        "      [\n",
        "          ('scale', StandardScaler(), numeric_columns),\n",
        "          ('onehot', OneHotEncoder(handle_unknown='ignore'), cat_columns)\n",
        "      ], remainder='passthrough'\n",
        "  )\n",
        "  return preprocessor, numeric_columns, cat_columns"
      ],
      "metadata": {
        "id": "-7b5JHQcESdC"
      },
      "execution_count": 37,
      "outputs": []
    },
    {
      "cell_type": "code",
      "source": [
        "preprocessor, numeric_columns, cat_columns = preprocesamiento(X_train, X_test)"
      ],
      "metadata": {
        "id": "p1abmBtaKfGR"
      },
      "execution_count": 38,
      "outputs": []
    },
    {
      "cell_type": "code",
      "source": [
        "X_train_prep = preprocessor.fit_transform(X_train)\n",
        "X_test_prep = preprocessor.transform(X_test)\n",
        "\n",
        "encoded_cat = preprocessor.named_transformers_['onehot'].get_feature_names_out(cat_columns)\n",
        "labels = np.concatenate([numeric_columns, encoded_cat])"
      ],
      "metadata": {
        "id": "P-GJRrtdKbiZ"
      },
      "execution_count": 39,
      "outputs": []
    },
    {
      "cell_type": "code",
      "source": [
        "data_train_prep = pd.DataFrame(X_train_prep, columns=labels)\n",
        "data_test_prep = pd.DataFrame(X_test_prep, columns=labels)"
      ],
      "metadata": {
        "id": "LlzEwpeXCaU6"
      },
      "execution_count": 40,
      "outputs": []
    },
    {
      "cell_type": "code",
      "source": [
        "y_train_prep, y_test_prep = label_encoder_train_test(y_train, y_test)"
      ],
      "metadata": {
        "id": "YhCt1uV2Cw6S"
      },
      "execution_count": 41,
      "outputs": []
    },
    {
      "cell_type": "markdown",
      "source": [
        "Se validaran los mejores predictores antes de ejcutar los modelos\n"
      ],
      "metadata": {
        "id": "DHj18AvoFD9N"
      }
    },
    {
      "cell_type": "code",
      "source": [
        "from sklearn.ensemble import ExtraTreesClassifier\n",
        "from sklearn.feature_selection import SelectKBest, f_classif, mutual_info_regression, chi2, SelectFromModel\n",
        "\n",
        "def the_best_features(X, y):\n",
        "  clf = ExtraTreesClassifier(n_estimators = 36)\n",
        "  clf = clf.fit(X,y)\n",
        "  model = SelectFromModel(clf, prefit=True)\n",
        "  best_features = X[X.columns[model.get_support(indices = True)]].columns\n",
        "  return best_features"
      ],
      "metadata": {
        "id": "9sooST6XFCrP"
      },
      "execution_count": 42,
      "outputs": []
    },
    {
      "cell_type": "code",
      "source": [
        "the_best_features(data_train_prep, y_train_prep)"
      ],
      "metadata": {
        "colab": {
          "base_uri": "https://localhost:8080/"
        },
        "id": "MIfkuN-aLxwn",
        "outputId": "85e50e2b-ace6-49f6-eeb5-e8056689b565"
      },
      "execution_count": 43,
      "outputs": [
        {
          "output_type": "execute_result",
          "data": {
            "text/plain": [
              "Index(['p1_d', 'min_d', 'p2_ib', 'Type_ethereum', 'Type_normal'], dtype='object')"
            ]
          },
          "metadata": {},
          "execution_count": 43
        }
      ]
    },
    {
      "cell_type": "code",
      "source": [
        "the_best_features(data_train_prep, y_train_prep)"
      ],
      "metadata": {
        "colab": {
          "base_uri": "https://localhost:8080/"
        },
        "id": "-0vHiwmFMN23",
        "outputId": "1a960c72-82d9-4676-ac17-2d30a4d050f8"
      },
      "execution_count": 44,
      "outputs": [
        {
          "output_type": "execute_result",
          "data": {
            "text/plain": [
              "Index(['p1_d', 'p2_d', 'min_d', 'Type_ethereum', 'Type_normal'], dtype='object')"
            ]
          },
          "metadata": {},
          "execution_count": 44
        }
      ]
    },
    {
      "cell_type": "code",
      "source": [
        "the_best_features(data_train_prep, y_train_prep)"
      ],
      "metadata": {
        "colab": {
          "base_uri": "https://localhost:8080/"
        },
        "id": "83u5pqwTMOLg",
        "outputId": "79debfb3-6759-4b73-c424-a1e4473e51d6"
      },
      "execution_count": 45,
      "outputs": [
        {
          "output_type": "execute_result",
          "data": {
            "text/plain": [
              "Index(['p1_d', 'p2_d', 'min_d', 'Avg_bpp', '#dp', 'Type_ethereum',\n",
              "       'Type_normal'],\n",
              "      dtype='object')"
            ]
          },
          "metadata": {},
          "execution_count": 45
        }
      ]
    },
    {
      "cell_type": "markdown",
      "source": [
        "Se seleccionan las mejores caracteristicas despues de ejecutar el metodo the_best_features en varias interacciones.\n",
        "\n",
        "- p1_d: 25% de los percentiles de todas las duraciones en la ventana de tiempo\n",
        "- p2_d: 50% de los percentiles de todas las duraciones en la ventana de tiempo\n",
        "- p3_d: 75% de los percentiles de todas las duraciones en la ventana de tiempo\n",
        "- min_d: valor mínimo de todas las duraciones en la ventana de tiempo.\n",
        "- max_d: valor máximo de todas las duraciones en la ventana de tiempo.\n",
        "- Avg_bpp: promedio de bytes por paquete en la ventana de tiempo.\n",
        "- Avg_bps: promedio de bits por segundo en la ventana de tiempo.\n",
        "- Avg_pps: promedio de paquetes por segundo en la ventana de tiempo.\n"
      ],
      "metadata": {
        "id": "UWcqEkFJMac_"
      }
    },
    {
      "cell_type": "code",
      "source": [
        "data_train_prep.columns"
      ],
      "metadata": {
        "colab": {
          "base_uri": "https://localhost:8080/"
        },
        "id": "7g5ALT5tORP5",
        "outputId": "6c346b82-dabc-4c30-d7b6-e76a7a6e25a0"
      },
      "execution_count": 46,
      "outputs": [
        {
          "output_type": "execute_result",
          "data": {
            "text/plain": [
              "Index(['Netflows', 'p1_d', 'p2_d', 'p3_d', 'duration', 'max_d', 'min_d',\n",
              "       '#packets', 'Avg_bps', 'Avg_pps', 'Avg_bpp', '#Bytes', '#sp', '#dp',\n",
              "       'p1_ip', 'p2_ip', 'p3_ip', 'p1_ib', 'p2_ib', 'p3_ib',\n",
              "       'First_Protocol_TCP', 'First_Protocol_UDP', 'Type_bitcash',\n",
              "       'Type_bitcoin', 'Type_ethereum', 'Type_litecoin', 'Type_monero',\n",
              "       'Type_normal'],\n",
              "      dtype='object')"
            ]
          },
          "metadata": {},
          "execution_count": 46
        }
      ]
    },
    {
      "cell_type": "code",
      "source": [
        "data_train_prep = data_train_prep[['p1_d', 'p2_d', 'p3_d', 'max_d', 'min_d', 'Avg_bpp', 'Avg_bps', 'Avg_pps']]\n",
        "data_test_prep = data_test_prep[['p1_d', 'p2_d', 'p3_d', 'max_d', 'min_d', 'Avg_bpp', 'Avg_bps', 'Avg_pps']]"
      ],
      "metadata": {
        "id": "6F5RUDZ-m40F"
      },
      "execution_count": 47,
      "outputs": []
    },
    {
      "cell_type": "markdown",
      "source": [
        "# **Model**\n",
        "---"
      ],
      "metadata": {
        "id": "W6F_PikOEhKa"
      }
    },
    {
      "cell_type": "code",
      "source": [
        "from sklearn.neighbors import KNeighborsClassifier\n",
        "from sklearn.metrics import accuracy_score\n",
        "from sklearn.tree import DecisionTreeClassifier, plot_tree"
      ],
      "metadata": {
        "id": "UVCgl8ELZ-0c"
      },
      "execution_count": 48,
      "outputs": []
    },
    {
      "cell_type": "markdown",
      "source": [
        "## **KNN**\n",
        "---"
      ],
      "metadata": {
        "id": "YYwjP1QHaOW8"
      }
    },
    {
      "cell_type": "code",
      "source": [
        "k_vec = np.arange(1, 100, 2)\n",
        "vec_train = []\n",
        "vec_test = []\n",
        "for k in k_vec: \n",
        "  knn = KNeighborsClassifier(n_neighbors= k)\n",
        "  knn.fit(data_train_prep, y_train_prep)\n",
        "  y_pred = knn.predict(data_train_prep)\n",
        "  vec_train.append(accuracy_score(y_train_prep, y_pred))\n",
        "  y_pred = knn.predict(data_test_prep)\n",
        "  vec_test.append(accuracy_score(y_test_prep, y_pred))\n",
        "v = pd.DataFrame()\n",
        "v['K'] = k_vec\n",
        "v['vec_train'] = vec_train\n",
        "v['vec_test'] = vec_test\n"
      ],
      "metadata": {
        "id": "vUFStqZEaSED"
      },
      "execution_count": 49,
      "outputs": []
    },
    {
      "cell_type": "code",
      "source": [
        "plt.figure(figsize=(10,5))\n",
        "ax = plt.gca()\n",
        "plt.plot(k_vec, vec_train)\n",
        "plt.plot(k_vec, vec_test)\n",
        "ax.set_xlim(ax.get_xlim()[::-1])\n",
        "plt.axis('tight')\n",
        "plt.xlabel('k')\n",
        "plt.ylabel('accuracy')\n",
        "plt.title('Evolución de le exactitud vs complejidad del modelo k-nn (valor de k más pequeño)')\n",
        "plt.legend(['train', 'test'])\n",
        "plt.show()"
      ],
      "metadata": {
        "colab": {
          "base_uri": "https://localhost:8080/",
          "height": 350
        },
        "id": "D5zyjn2lcih6",
        "outputId": "f28e9316-f6be-45fc-8fd2-053632eb9575"
      },
      "execution_count": 50,
      "outputs": [
        {
          "output_type": "display_data",
          "data": {
            "text/plain": [
              "<Figure size 720x360 with 1 Axes>"
            ],
            "image/png": "[encoded data removed]"
          },
          "metadata": {
            "needs_background": "light"
          }
        }
      ]
    },
    {
      "cell_type": "code",
      "source": [
        "# The best k is 60\n",
        "knn = KNeighborsClassifier(n_neighbors=60)\n",
        "knn.fit(data_train_prep, y_train_prep)\n",
        "y_pred_knn = knn.predict(data_test_prep)"
      ],
      "metadata": {
        "id": "VyKoZPtzO9to"
      },
      "execution_count": 51,
      "outputs": []
    },
    {
      "cell_type": "code",
      "source": [
        "matrix_knn = consufion_matrix(y_test_prep, y_pred_knn, **{'miner':1, 'not_miner':0})"
      ],
      "metadata": {
        "colab": {
          "base_uri": "https://localhost:8080/",
          "height": 339
        },
        "id": "8sb9hmWwTuxv",
        "outputId": "d59d3a14-19ca-4817-e315-d5cd55d990fc"
      },
      "execution_count": 52,
      "outputs": [
        {
          "output_type": "display_data",
          "data": {
            "text/plain": [
              "<Figure size 432x360 with 2 Axes>"
            ],
            "image/png": "[encoded data removed]"
          },
          "metadata": {
            "needs_background": "light"
          }
        }
      ]
    },
    {
      "cell_type": "code",
      "source": [
        "accuracy, kappa, precision, recall, f1_score = metricas(y_test_prep, y_pred_knn, matrix_knn)\n",
        "met_knn = [accuracy, kappa, precision, recall, f1_score ]"
      ],
      "metadata": {
        "colab": {
          "base_uri": "https://localhost:8080/"
        },
        "id": "viz2IV2EUeeP",
        "outputId": "b5c14e8c-d1a4-45b6-9c75-fd49d3031876"
      },
      "execution_count": 53,
      "outputs": [
        {
          "output_type": "stream",
          "name": "stdout",
          "text": [
            "Accuracy  :   0.917\n",
            "Kappa     :   0.834\n",
            "predicción Miners\n",
            "Precision:   0.920\n",
            "Recall    :   0.920\n",
            "F1-score   :   0.920\n"
          ]
        }
      ]
    },
    {
      "cell_type": "markdown",
      "source": [
        "- El modelo KNN tiene un buen rendimiento a la hora de predecir trafico minero y normal, la exacctitud es 92%\n",
        "- El indice del kappa indica que los estimadores están deacuerdo, y la suerte es de un 17%"
      ],
      "metadata": {
        "id": "XQh_mD1vi0BI"
      }
    },
    {
      "cell_type": "code",
      "source": [
        "tree_desition = DecisionTreeClassifier(\n",
        "    criterion='entropy', \n",
        "    max_depth=5,      \n",
        "    min_samples_split=2,\n",
        "    min_samples_leaf=1,\n",
        "    random_state=None,  \n",
        "    max_leaf_nodes=None, \n",
        "    min_impurity_decrease=0.0, \n",
        "    class_weight=None)"
      ],
      "metadata": {
        "id": "UsQygdawgTej"
      },
      "execution_count": 54,
      "outputs": []
    },
    {
      "cell_type": "code",
      "source": [
        "tree_desition.fit(data_train_prep, y_train_prep)"
      ],
      "metadata": {
        "colab": {
          "base_uri": "https://localhost:8080/"
        },
        "id": "TGtBpkBvjJY0",
        "outputId": "6301cbaa-3e13-44c3-be00-fe6f763d5076"
      },
      "execution_count": 55,
      "outputs": [
        {
          "output_type": "execute_result",
          "data": {
            "text/plain": [
              "DecisionTreeClassifier(criterion='entropy', max_depth=5)"
            ]
          },
          "metadata": {},
          "execution_count": 55
        }
      ]
    },
    {
      "cell_type": "code",
      "source": [
        "y_pred_tree = tree_desition.predict(data_test_prep)\n",
        "matrix_tree = consufion_matrix(y_test_prep, y_pred_tree, **{'miner':1, 'not_miner':0})"
      ],
      "metadata": {
        "colab": {
          "base_uri": "https://localhost:8080/",
          "height": 339
        },
        "id": "oKostdreUvim",
        "outputId": "91eaf011-6212-4ae7-eb38-dbdb9a305f89"
      },
      "execution_count": 56,
      "outputs": [
        {
          "output_type": "display_data",
          "data": {
            "text/plain": [
              "<Figure size 432x360 with 2 Axes>"
            ],
            "image/png": "[encoded data removed]"
          },
          "metadata": {
            "needs_background": "light"
          }
        }
      ]
    },
    {
      "cell_type": "code",
      "source": [
        "accuracy, kappa, precision, recall, f1_score = metricas(y_test_prep, y_pred_tree, matrix_tree)\n",
        "met_dte = [accuracy, kappa, precision, recall, f1_score ]"
      ],
      "metadata": {
        "id": "SvtTKiwIbR5c",
        "outputId": "0a341d6b-8aa2-4e86-9540-6293767db9cb",
        "colab": {
          "base_uri": "https://localhost:8080/"
        }
      },
      "execution_count": 57,
      "outputs": [
        {
          "output_type": "stream",
          "name": "stdout",
          "text": [
            "Accuracy  :   0.983\n",
            "Kappa     :   0.967\n",
            "predicción Miners\n",
            "Precision:   0.984\n",
            "Recall    :   0.984\n",
            "F1-score   :   0.984\n"
          ]
        }
      ]
    },
    {
      "cell_type": "markdown",
      "source": [
        "- El modelo arbol tiene un buen rendimiento a la hora de predecir trafico minero y normal, la exacctitud es 99%\n",
        "- El indice del kappa indica que los estimadores están deacuerdo en un 97%, y la suerte tiene una probabilida del 3%"
      ],
      "metadata": {
        "id": "yh7ZwjvZkov3"
      }
    },
    {
      "cell_type": "code",
      "source": [
        "fig, ax = plt.subplots(figsize = (10,10))\n",
        "\n",
        "plot_tree(\n",
        "    decision_tree = tree_desition,\n",
        "    feature_names = data_train_prep.columns.tolist(),\n",
        "    class_names   = 'Tipo de trafico minero',\n",
        "    filled        = True,\n",
        "    impurity      = False,\n",
        "    fontsize      = 17,\n",
        "    ax            = ax\n",
        ")\n",
        "\n",
        "plt.show()"
      ],
      "metadata": {
        "colab": {
          "base_uri": "https://localhost:8080/",
          "height": 575
        },
        "id": "qe9dy0cbi3uK",
        "outputId": "8242b462-ca65-4d67-9bcc-2a056e9c3c55"
      },
      "execution_count": 58,
      "outputs": [
        {
          "output_type": "display_data",
          "data": {
            "text/plain": [
              "<Figure size 720x720 with 1 Axes>"
            ],
            "image/png": "[encoded data removed]"
          },
          "metadata": {
            "needs_background": "light"
          }
        }
      ]
    },
    {
      "cell_type": "code",
      "source": [
        "from keras.models import Sequential\n",
        "from keras.layers import Dense\n",
        "from keras.wrappers.scikit_learn import KerasClassifier"
      ],
      "metadata": {
        "id": "AFwCJg3gjohW"
      },
      "execution_count": 59,
      "outputs": []
    },
    {
      "cell_type": "code",
      "source": [
        "def model_deep():\n",
        "  deep = Sequential()\n",
        "  deep.add(Dense(5, input_dim=8, activation='relu', kernel_initializer='glorot_uniform'))\n",
        "  deep.add(Dense(5, activation='relu', kernel_initializer='glorot_uniform'))\n",
        "  deep.add(Dense(1, activation='sigmoid', kernel_initializer='glorot_uniform'))\n",
        "  deep.compile(loss=\"binary_crossentropy\", optimizer='adam')\n",
        "  return deep"
      ],
      "metadata": {
        "id": "35KE1F2Lj-G9"
      },
      "execution_count": 63,
      "outputs": []
    },
    {
      "cell_type": "code",
      "source": [
        "model = KerasClassifier(build_fn=model_deep, epochs = 100, batch_size=5, verbose=0)"
      ],
      "metadata": {
        "id": "dPlrJmL5LvMN",
        "outputId": "493cb4e5-cffe-4c47-8847-91c0745b483a",
        "colab": {
          "base_uri": "https://localhost:8080/"
        }
      },
      "execution_count": 64,
      "outputs": [
        {
          "output_type": "stream",
          "name": "stderr",
          "text": [
            "/usr/local/lib/python3.7/dist-packages/ipykernel_launcher.py:1: DeprecationWarning: KerasClassifier is deprecated, use Sci-Keras (https://github.com/adriangb/scikeras) instead. See https://www.adriangb.com/scikeras/stable/migration.html for help migrating.\n",
            "  \"\"\"Entry point for launching an IPython kernel.\n"
          ]
        }
      ]
    },
    {
      "cell_type": "code",
      "source": [
        "history = model.fit(data_train_prep, y_train_prep, validation_data = (data_test_prep, y_test_prep))"
      ],
      "metadata": {
        "id": "3sD9cXsQNrw7"
      },
      "execution_count": 65,
      "outputs": []
    },
    {
      "cell_type": "code",
      "source": [
        "optimization_learning_curves(history, metrica='loss', title='Loss vs Val Loss')"
      ],
      "metadata": {
        "colab": {
          "base_uri": "https://localhost:8080/",
          "height": 314
        },
        "id": "Rj6_luJllSHT",
        "outputId": "8c20e586-6b99-4e77-cc75-39288b4313de"
      },
      "execution_count": 66,
      "outputs": [
        {
          "output_type": "display_data",
          "data": {
            "text/plain": [
              "<Figure size 576x288 with 1 Axes>"
            ],
            "image/png": "[encoded data removed]"
          },
          "metadata": {
            "needs_background": "light"
          }
        }
      ]
    },
    {
      "cell_type": "code",
      "source": [
        "y_predict_deep = model.predict((data_test_prep)>0.5).astype('int32')\n",
        "y_predict_deep = np.reshape(y_predict_deep, y_predict_deep.shape[0])\n",
        "y_predict_deep"
      ],
      "metadata": {
        "colab": {
          "base_uri": "https://localhost:8080/"
        },
        "id": "jmQfYT4xaduG",
        "outputId": "02e74cd3-6abe-481b-f944-e7b16567e199"
      },
      "execution_count": 67,
      "outputs": [
        {
          "output_type": "execute_result",
          "data": {
            "text/plain": [
              "array([1, 0, 1, 1, 0, 1, 1, 1, 1, 1, 1, 1, 1, 1, 1, 1, 0, 1, 1, 0, 1, 1,\n",
              "       1, 1, 1, 1, 1, 0, 1, 1, 1, 1, 1, 1, 1, 1, 1, 1, 1, 1, 1, 1, 1, 1,\n",
              "       1, 0, 1, 0, 1, 0, 1, 1, 1, 0, 0, 0, 1, 1, 0, 1, 0, 1, 1, 1, 1, 1,\n",
              "       0, 0, 1, 1, 1, 1, 1, 0, 1, 1, 1, 0, 1, 1, 1, 1, 0, 0, 0, 1, 1, 1,\n",
              "       1, 1, 1, 1, 1, 1, 1, 1, 0, 1, 0, 1, 0, 1, 1, 1, 1, 0, 0, 1, 0, 1,\n",
              "       1, 0, 1, 1, 1, 1, 1, 0, 1, 1, 1, 1, 1, 1, 0, 1, 1, 0, 1, 0, 0, 1,\n",
              "       0, 1, 1, 1, 1, 1, 1, 1, 1, 1, 0, 1, 1, 1, 1, 1, 1, 1, 1, 0, 0, 1,\n",
              "       1, 1, 1, 1, 1, 1, 1, 1, 1, 1, 1, 1, 0, 1, 1, 0, 1, 1, 1, 1, 1, 1,\n",
              "       1, 1, 1, 1, 1, 1, 1, 1, 1, 1, 1, 1, 1, 0, 1, 1, 0, 1, 1, 1, 1, 1,\n",
              "       1, 1, 1, 1, 0, 1, 1, 1, 0, 1, 0, 1, 1, 1, 0, 1, 0, 1, 1, 1, 1, 1,\n",
              "       1, 1, 0, 1, 1, 0, 0, 1, 1, 1, 1, 1, 1, 0, 1, 0, 1, 1, 1, 0, 0, 1,\n",
              "       1, 1, 1, 1, 1, 1, 1, 1, 1, 1, 1, 0, 1, 0, 1, 1, 1, 0, 0, 1, 1, 1,\n",
              "       1, 0, 1, 1, 0, 1, 1, 0, 1, 1, 1, 1, 1, 1, 1, 1, 1, 1, 1, 1, 0, 0,\n",
              "       1, 1, 1, 0, 0, 1, 1, 0, 1, 1, 1, 1, 0, 1, 1, 1, 1, 1, 1, 1, 0, 1,\n",
              "       0, 1, 1, 1, 1, 1, 1, 1, 1, 1, 1, 1, 1, 1, 1, 0, 1, 1, 1, 0, 1, 1,\n",
              "       1, 1, 1, 0, 1, 0, 1, 1, 0, 0, 1, 1, 0, 0, 1, 1, 1, 1, 1, 0, 1, 1,\n",
              "       0, 1, 0, 1, 1, 1, 1, 0, 1, 1], dtype=int32)"
            ]
          },
          "metadata": {},
          "execution_count": 67
        }
      ]
    },
    {
      "cell_type": "code",
      "source": [
        "matrix_deep = consufion_matrix(y_test_prep, y_predict_deep, **{'miner':1, 'not_miner':0})\n",
        "accuracy, kappa, precision, recall, f1_score = metricas(y_test_prep, y_predict_deep, matrix_deep)\n",
        "met_deep = [accuracy, kappa, precision, recall, f1_score ]"
      ],
      "metadata": {
        "colab": {
          "base_uri": "https://localhost:8080/",
          "height": 443
        },
        "id": "Z_8AAvsUcAOY",
        "outputId": "f9b375fe-fdc0-42f1-f126-d19f553e3381"
      },
      "execution_count": 68,
      "outputs": [
        {
          "output_type": "stream",
          "name": "stdout",
          "text": [
            "Accuracy  :   0.738\n",
            "Kappa     :   0.463\n",
            "predicción Miners\n",
            "Precision:   0.664\n",
            "Recall    :   1.000\n",
            "F1-score   :   0.798\n"
          ]
        },
        {
          "output_type": "display_data",
          "data": {
            "text/plain": [
              "<Figure size 432x360 with 2 Axes>"
            ],
            "image/png": "[encoded data removed]"
          },
          "metadata": {
            "needs_background": "light"
          }
        }
      ]
    },
    {
      "cell_type": "markdown",
      "source": [
        "- El modelo red neuronal tiene un buen rendimiento a la hora de predecir trafico minero y normal, pero por debajo del KNN y el arbol de decición,  la exacctitud es de 81%\n",
        "- El indice del kappa indica que los estimadores están deacuerdo 64%, y la suerte es de un 36%"
      ],
      "metadata": {
        "id": "7YN2_UE3k4EA"
      }
    },
    {
      "cell_type": "code",
      "source": [
        "def ROC(X_test,y_test,model):\n",
        "    y_pred_proba = model.predict_proba(X_test)\n",
        "    model_probs = y_pred_proba[:,1]\n",
        "    ns_probs = [0 for _ in range(len(y_test))]\n",
        "    ns_auc = metrics.roc_auc_score(y_test, ns_probs)\n",
        "    model_auc = metrics.roc_auc_score(y_test, model_probs)\n",
        "    ns_fpr, ns_tpr, thresholds  = metrics.roc_curve(y_test,ns_probs)\n",
        "    model_fpr, model_tpr, thresholds = metrics.roc_curve(y_test, model_probs)\n",
        "    return ns_fpr, ns_tpr, model_fpr, model_tpr, model_auc"
      ],
      "metadata": {
        "id": "u_cRul80okqI"
      },
      "execution_count": 69,
      "outputs": []
    },
    {
      "cell_type": "code",
      "source": [
        "ns_fpr, ns_tpr, knn_fpr, knn_tpr, knn_auc = ROC(data_test_prep,y_test_prep,knn)\n",
        "_, _, tree_desition_fpr, tree_desition_tpr, tree_auc = ROC(data_test_prep,y_test_prep,tree_desition)\n",
        "_, _, deep_desition_fpr, deep_desition_tpr, deep_auc = ROC(data_test_prep,y_test_prep,model)"
      ],
      "metadata": {
        "id": "f3nmIkAfrdv3"
      },
      "execution_count": 70,
      "outputs": []
    },
    {
      "cell_type": "code",
      "source": [
        "plt.subplots(figsize=(8,5))\n",
        "plt.plot(ns_fpr,ns_tpr,linestyle='--', label='No Skill')\n",
        "plt.plot(knn_fpr, knn_tpr, marker='.', label='KNN')\n",
        "plt.plot(tree_desition_fpr, tree_desition_tpr, marker='.', label='Tree')\n",
        "plt.plot(deep_desition_fpr, deep_desition_tpr, marker='.', label='MultiLayerPerceptron')\n",
        "plt.xlabel('False Positive Rate')\n",
        "plt.ylabel('True Positive Rate')\n",
        "plt.legend()\n",
        "plt.show()"
      ],
      "metadata": {
        "colab": {
          "base_uri": "https://localhost:8080/",
          "height": 334
        },
        "id": "BrhORwzJsPJn",
        "outputId": "41f3d2db-d59a-4de7-a294-4d910e828e0f"
      },
      "execution_count": 71,
      "outputs": [
        {
          "output_type": "display_data",
          "data": {
            "text/plain": [
              "<Figure size 576x360 with 1 Axes>"
            ],
            "image/png": "[encoded data removed]"
          },
          "metadata": {
            "needs_background": "light"
          }
        }
      ]
    },
    {
      "cell_type": "code",
      "source": [
        "print(f'El arbol tiene un area de la curva de {tree_auc} superior al {knn_auc} del knn y superior al  {deep_auc}')"
      ],
      "metadata": {
        "colab": {
          "base_uri": "https://localhost:8080/"
        },
        "id": "G_0QQ9mKvY-j",
        "outputId": "2964649e-dfcc-4948-b5f0-b81393723ae3"
      },
      "execution_count": 72,
      "outputs": [
        {
          "output_type": "stream",
          "name": "stdout",
          "text": [
            "El arbol tiene un area de la curva de 0.9928466617754953 superior al 0.9759262655906089 del knn y superior al 0.9886127415015896\n"
          ]
        }
      ]
    },
    {
      "cell_type": "code",
      "source": [],
      "metadata": {
        "id": "lxGKFZvQwiVw"
      },
      "execution_count": null,
      "outputs": []
    },
    {
      "cell_type": "markdown",
      "source": [
        "# Análizando metricas"
      ],
      "metadata": {
        "id": "gJxeM5RDfTto"
      }
    },
    {
      "cell_type": "code",
      "source": [
        "metricasDF = pd.DataFrame()\n",
        "metricasDF"
      ],
      "metadata": {
        "id": "NnQDkS2xfh44",
        "outputId": "fa87d54f-d36a-498d-a0ae-744f5bf4e4f6",
        "colab": {
          "base_uri": "https://localhost:8080/",
          "height": 49
        }
      },
      "execution_count": 73,
      "outputs": [
        {
          "output_type": "execute_result",
          "data": {
            "text/plain": [
              "Empty DataFrame\n",
              "Columns: []\n",
              "Index: []"
            ],
            "text/html": [
              "\n",
              "  <div id=\"df-0208ef98-3939-4bd3-b887-985a72475351\">\n",
              "    <div class=\"colab-df-container\">\n",
              "      <div>\n",
              "<style scoped>\n",
              "    .dataframe tbody tr th:only-of-type {\n",
              "        vertical-align: middle;\n",
              "    }\n",
              "\n",
              "    .dataframe tbody tr th {\n",
              "        vertical-align: top;\n",
              "    }\n",
              "\n",
              "    .dataframe thead th {\n",
              "        text-align: right;\n",
              "    }\n",
              "</style>\n",
              "<table border=\"1\" class=\"dataframe\">\n",
              "  <thead>\n",
              "    <tr style=\"text-align: right;\">\n",
              "      <th></th>\n",
              "    </tr>\n",
              "  </thead>\n",
              "  <tbody>\n",
              "  </tbody>\n",
              "</table>\n",
              "</div>\n",
              "      <button class=\"colab-df-convert\" onclick=\"convertToInteractive('df-0208ef98-3939-4bd3-b887-985a72475351')\"\n",
              "              title=\"Convert this dataframe to an interactive table.\"\n",
              "              style=\"display:none;\">\n",
              "        \n",
              "  <svg xmlns=\"http://www.w3.org/2000/svg\" height=\"24px\"viewBox=\"0 0 24 24\"\n",
              "       width=\"24px\">\n",
              "    <path d=\"M0 0h24v24H0V0z\" fill=\"none\"/>\n",
              "    <path d=\"M18.56 5.44l.94 2.06.94-2.06 2.06-.94-2.06-.94-.94-2.06-.94 2.06-2.06.94zm-11 1L8.5 8.5l.94-2.06 2.06-.94-2.06-.94L8.5 2.5l-.94 2.06-2.06.94zm10 10l.94 2.06.94-2.06 2.06-.94-2.06-.94-.94-2.06-.94 2.06-2.06.94z\"/><path d=\"M17.41 7.96l-1.37-1.37c-.4-.4-.92-.59-1.43-.59-.52 0-1.04.2-1.43.59L10.3 9.45l-7.72 7.72c-.78.78-.78 2.05 0 2.83L4 21.41c.39.39.9.59 1.41.59.51 0 1.02-.2 1.41-.59l7.78-7.78 2.81-2.81c.8-.78.8-2.07 0-2.86zM5.41 20L4 18.59l7.72-7.72 1.47 1.35L5.41 20z\"/>\n",
              "  </svg>\n",
              "      </button>\n",
              "      \n",
              "  <style>\n",
              "    .colab-df-container {\n",
              "      display:flex;\n",
              "      flex-wrap:wrap;\n",
              "      gap: 12px;\n",
              "    }\n",
              "\n",
              "    .colab-df-convert {\n",
              "      background-color: #E8F0FE;\n",
              "      border: none;\n",
              "      border-radius: 50%;\n",
              "      cursor: pointer;\n",
              "      display: none;\n",
              "      fill: #1967D2;\n",
              "      height: 32px;\n",
              "      padding: 0 0 0 0;\n",
              "      width: 32px;\n",
              "    }\n",
              "\n",
              "    .colab-df-convert:hover {\n",
              "      background-color: #E2EBFA;\n",
              "      box-shadow: 0px 1px 2px rgba(60, 64, 67, 0.3), 0px 1px 3px 1px rgba(60, 64, 67, 0.15);\n",
              "      fill: #174EA6;\n",
              "    }\n",
              "\n",
              "    [theme=dark] .colab-df-convert {\n",
              "      background-color: #3B4455;\n",
              "      fill: #D2E3FC;\n",
              "    }\n",
              "\n",
              "    [theme=dark] .colab-df-convert:hover {\n",
              "      background-color: #434B5C;\n",
              "      box-shadow: 0px 1px 3px 1px rgba(0, 0, 0, 0.15);\n",
              "      filter: drop-shadow(0px 1px 2px rgba(0, 0, 0, 0.3));\n",
              "      fill: #FFFFFF;\n",
              "    }\n",
              "  </style>\n",
              "\n",
              "      <script>\n",
              "        const buttonEl =\n",
              "          document.querySelector('#df-0208ef98-3939-4bd3-b887-985a72475351 button.colab-df-convert');\n",
              "        buttonEl.style.display =\n",
              "          google.colab.kernel.accessAllowed ? 'block' : 'none';\n",
              "\n",
              "        async function convertToInteractive(key) {\n",
              "          const element = document.querySelector('#df-0208ef98-3939-4bd3-b887-985a72475351');\n",
              "          const dataTable =\n",
              "            await google.colab.kernel.invokeFunction('convertToInteractive',\n",
              "                                                     [key], {});\n",
              "          if (!dataTable) return;\n",
              "\n",
              "          const docLinkHtml = 'Like what you see? Visit the ' +\n",
              "            '<a target=\"_blank\" href=https://colab.research.google.com/notebooks/data_table.ipynb>data table notebook</a>'\n",
              "            + ' to learn more about interactive tables.';\n",
              "          element.innerHTML = '';\n",
              "          dataTable['output_type'] = 'display_data';\n",
              "          await google.colab.output.renderOutput(dataTable, element);\n",
              "          const docLink = document.createElement('div');\n",
              "          docLink.innerHTML = docLinkHtml;\n",
              "          element.appendChild(docLink);\n",
              "        }\n",
              "      </script>\n",
              "    </div>\n",
              "  </div>\n",
              "  "
            ]
          },
          "metadata": {},
          "execution_count": 73
        }
      ]
    },
    {
      "cell_type": "code",
      "source": [
        "metricasDF['KNN'] = met_knn"
      ],
      "metadata": {
        "id": "jSXYAatCgrKB"
      },
      "execution_count": 74,
      "outputs": []
    },
    {
      "cell_type": "code",
      "source": [
        "metricasDF['Tree'] = met_dte"
      ],
      "metadata": {
        "id": "CKyw5hnkhpo_"
      },
      "execution_count": 75,
      "outputs": []
    },
    {
      "cell_type": "code",
      "source": [
        "metricasDF['MultiLayerPerceptron'] = met_deep"
      ],
      "metadata": {
        "id": "9Ky-dw36hl2p"
      },
      "execution_count": 76,
      "outputs": []
    },
    {
      "cell_type": "code",
      "source": [
        "metricasDF.index = ['accuracy', 'kappa', 'precision', 'recall', 'f1_score ']"
      ],
      "metadata": {
        "id": "tPJiBONKiAFV"
      },
      "execution_count": 77,
      "outputs": []
    },
    {
      "cell_type": "code",
      "source": [
        "metricasDF"
      ],
      "metadata": {
        "id": "W4ASJVmai_RQ",
        "outputId": "015ca586-1ce2-4ab5-d990-14c5308d77e1",
        "colab": {
          "base_uri": "https://localhost:8080/",
          "height": 206
        }
      },
      "execution_count": 78,
      "outputs": [
        {
          "output_type": "execute_result",
          "data": {
            "text/plain": [
              "             KNN   Tree MultiLayerPerceptron\n",
              "accuracy   0.917  0.983                0.738\n",
              "kappa      0.834  0.967                0.463\n",
              "precision  0.920  0.984                0.664\n",
              "recall     0.920  0.984                1.000\n",
              "f1_score   0.920  0.984                0.798"
            ],
            "text/html": [
              "\n",
              "  <div id=\"df-a4d8be4a-f144-4fde-a99a-840f7b80c52f\">\n",
              "    <div class=\"colab-df-container\">\n",
              "      <div>\n",
              "<style scoped>\n",
              "    .dataframe tbody tr th:only-of-type {\n",
              "        vertical-align: middle;\n",
              "    }\n",
              "\n",
              "    .dataframe tbody tr th {\n",
              "        vertical-align: top;\n",
              "    }\n",
              "\n",
              "    .dataframe thead th {\n",
              "        text-align: right;\n",
              "    }\n",
              "</style>\n",
              "<table border=\"1\" class=\"dataframe\">\n",
              "  <thead>\n",
              "    <tr style=\"text-align: right;\">\n",
              "      <th></th>\n",
              "      <th>KNN</th>\n",
              "      <th>Tree</th>\n",
              "      <th>MultiLayerPerceptron</th>\n",
              "    </tr>\n",
              "  </thead>\n",
              "  <tbody>\n",
              "    <tr>\n",
              "      <th>accuracy</th>\n",
              "      <td>0.917</td>\n",
              "      <td>0.983</td>\n",
              "      <td>0.738</td>\n",
              "    </tr>\n",
              "    <tr>\n",
              "      <th>kappa</th>\n",
              "      <td>0.834</td>\n",
              "      <td>0.967</td>\n",
              "      <td>0.463</td>\n",
              "    </tr>\n",
              "    <tr>\n",
              "      <th>precision</th>\n",
              "      <td>0.920</td>\n",
              "      <td>0.984</td>\n",
              "      <td>0.664</td>\n",
              "    </tr>\n",
              "    <tr>\n",
              "      <th>recall</th>\n",
              "      <td>0.920</td>\n",
              "      <td>0.984</td>\n",
              "      <td>1.000</td>\n",
              "    </tr>\n",
              "    <tr>\n",
              "      <th>f1_score</th>\n",
              "      <td>0.920</td>\n",
              "      <td>0.984</td>\n",
              "      <td>0.798</td>\n",
              "    </tr>\n",
              "  </tbody>\n",
              "</table>\n",
              "</div>\n",
              "      <button class=\"colab-df-convert\" onclick=\"convertToInteractive('df-a4d8be4a-f144-4fde-a99a-840f7b80c52f')\"\n",
              "              title=\"Convert this dataframe to an interactive table.\"\n",
              "              style=\"display:none;\">\n",
              "        \n",
              "  <svg xmlns=\"http://www.w3.org/2000/svg\" height=\"24px\"viewBox=\"0 0 24 24\"\n",
              "       width=\"24px\">\n",
              "    <path d=\"M0 0h24v24H0V0z\" fill=\"none\"/>\n",
              "    <path d=\"M18.56 5.44l.94 2.06.94-2.06 2.06-.94-2.06-.94-.94-2.06-.94 2.06-2.06.94zm-11 1L8.5 8.5l.94-2.06 2.06-.94-2.06-.94L8.5 2.5l-.94 2.06-2.06.94zm10 10l.94 2.06.94-2.06 2.06-.94-2.06-.94-.94-2.06-.94 2.06-2.06.94z\"/><path d=\"M17.41 7.96l-1.37-1.37c-.4-.4-.92-.59-1.43-.59-.52 0-1.04.2-1.43.59L10.3 9.45l-7.72 7.72c-.78.78-.78 2.05 0 2.83L4 21.41c.39.39.9.59 1.41.59.51 0 1.02-.2 1.41-.59l7.78-7.78 2.81-2.81c.8-.78.8-2.07 0-2.86zM5.41 20L4 18.59l7.72-7.72 1.47 1.35L5.41 20z\"/>\n",
              "  </svg>\n",
              "      </button>\n",
              "      \n",
              "  <style>\n",
              "    .colab-df-container {\n",
              "      display:flex;\n",
              "      flex-wrap:wrap;\n",
              "      gap: 12px;\n",
              "    }\n",
              "\n",
              "    .colab-df-convert {\n",
              "      background-color: #E8F0FE;\n",
              "      border: none;\n",
              "      border-radius: 50%;\n",
              "      cursor: pointer;\n",
              "      display: none;\n",
              "      fill: #1967D2;\n",
              "      height: 32px;\n",
              "      padding: 0 0 0 0;\n",
              "      width: 32px;\n",
              "    }\n",
              "\n",
              "    .colab-df-convert:hover {\n",
              "      background-color: #E2EBFA;\n",
              "      box-shadow: 0px 1px 2px rgba(60, 64, 67, 0.3), 0px 1px 3px 1px rgba(60, 64, 67, 0.15);\n",
              "      fill: #174EA6;\n",
              "    }\n",
              "\n",
              "    [theme=dark] .colab-df-convert {\n",
              "      background-color: #3B4455;\n",
              "      fill: #D2E3FC;\n",
              "    }\n",
              "\n",
              "    [theme=dark] .colab-df-convert:hover {\n",
              "      background-color: #434B5C;\n",
              "      box-shadow: 0px 1px 3px 1px rgba(0, 0, 0, 0.15);\n",
              "      filter: drop-shadow(0px 1px 2px rgba(0, 0, 0, 0.3));\n",
              "      fill: #FFFFFF;\n",
              "    }\n",
              "  </style>\n",
              "\n",
              "      <script>\n",
              "        const buttonEl =\n",
              "          document.querySelector('#df-a4d8be4a-f144-4fde-a99a-840f7b80c52f button.colab-df-convert');\n",
              "        buttonEl.style.display =\n",
              "          google.colab.kernel.accessAllowed ? 'block' : 'none';\n",
              "\n",
              "        async function convertToInteractive(key) {\n",
              "          const element = document.querySelector('#df-a4d8be4a-f144-4fde-a99a-840f7b80c52f');\n",
              "          const dataTable =\n",
              "            await google.colab.kernel.invokeFunction('convertToInteractive',\n",
              "                                                     [key], {});\n",
              "          if (!dataTable) return;\n",
              "\n",
              "          const docLinkHtml = 'Like what you see? Visit the ' +\n",
              "            '<a target=\"_blank\" href=https://colab.research.google.com/notebooks/data_table.ipynb>data table notebook</a>'\n",
              "            + ' to learn more about interactive tables.';\n",
              "          element.innerHTML = '';\n",
              "          dataTable['output_type'] = 'display_data';\n",
              "          await google.colab.output.renderOutput(dataTable, element);\n",
              "          const docLink = document.createElement('div');\n",
              "          docLink.innerHTML = docLinkHtml;\n",
              "          element.appendChild(docLink);\n",
              "        }\n",
              "      </script>\n",
              "    </div>\n",
              "  </div>\n",
              "  "
            ]
          },
          "metadata": {},
          "execution_count": 78
        }
      ]
    },
    {
      "cell_type": "markdown",
      "source": [
        "El modelo que tiene mayor habilidad para predecir si el tráfico es normal o minero es el árbol de decisión. También se validó el kappa, para medir la concordancia de los estimadores de predicción y realidad, métrica cuyo fuerza de concordancia es mayor en el árbol de decisión. En general, el resto de métricas son bastante buenas en el árbol de clasificación. Ahora existe la probabilidad que el modelo no se halla ajustado, sino que los datos tengan una complejidad mínima, se tiene que recordar que los datos utilizados son un resumen de los datos de la sonda nfdum. "
      ],
      "metadata": {
        "id": "KA5BmkyrmSBY"
      }
    },
    {
      "cell_type": "code",
      "source": [
        "from sklearn.model_selection import GridSearchCV, cross_val_score\n"
      ],
      "metadata": {
        "id": "8-F7mTqwjdqg"
      },
      "execution_count": 80,
      "outputs": []
    },
    {
      "cell_type": "code",
      "source": [
        "param_grid = { 'criterion':['gini','entropy'],'max_depth': np.arange(3, 15)}\n",
        "tree = DecisionTreeClassifier()\n",
        "tree = GridSearchCV(tree, param_grid, cv=10, return_train_score=True)\n",
        "tree.fit(data_train_prep, y_train_prep)\n"
      ],
      "metadata": {
        "id": "6lXt4ufAx-EP",
        "outputId": "4ea054f7-68e8-42cb-df56-98b1c0cde501",
        "colab": {
          "base_uri": "https://localhost:8080/"
        }
      },
      "execution_count": 83,
      "outputs": [
        {
          "output_type": "execute_result",
          "data": {
            "text/plain": [
              "GridSearchCV(cv=10, estimator=DecisionTreeClassifier(),\n",
              "             param_grid={'criterion': ['gini', 'entropy'],\n",
              "                         'max_depth': array([ 3,  4,  5,  6,  7,  8,  9, 10, 11, 12, 13, 14])},\n",
              "             return_train_score=True)"
            ]
          },
          "metadata": {},
          "execution_count": 83
        }
      ]
    },
    {
      "cell_type": "code",
      "source": [
        "print('Mejor: %f usando %s' % (tree.best_score_, tree.best_params_))"
      ],
      "metadata": {
        "id": "D9oTb14ryWIX",
        "outputId": "c33d8a1c-476e-4073-f145-8cc82d9b1ff5",
        "colab": {
          "base_uri": "https://localhost:8080/"
        }
      },
      "execution_count": 85,
      "outputs": [
        {
          "output_type": "stream",
          "name": "stdout",
          "text": [
            "Mejor: 0.989840 usando {'criterion': 'entropy', 'max_depth': 8}\n"
          ]
        }
      ]
    },
    {
      "cell_type": "code",
      "source": [
        "model_final = tree.best_estimator_\n",
        "model_final.get_params()"
      ],
      "metadata": {
        "id": "jPFiMMS_zGdG",
        "outputId": "82746690-7fbe-493c-b1a6-60e242383a86",
        "colab": {
          "base_uri": "https://localhost:8080/"
        }
      },
      "execution_count": 88,
      "outputs": [
        {
          "output_type": "execute_result",
          "data": {
            "text/plain": [
              "{'ccp_alpha': 0.0,\n",
              " 'class_weight': None,\n",
              " 'criterion': 'entropy',\n",
              " 'max_depth': 8,\n",
              " 'max_features': None,\n",
              " 'max_leaf_nodes': None,\n",
              " 'min_impurity_decrease': 0.0,\n",
              " 'min_samples_leaf': 1,\n",
              " 'min_samples_split': 2,\n",
              " 'min_weight_fraction_leaf': 0.0,\n",
              " 'random_state': None,\n",
              " 'splitter': 'best'}"
            ]
          },
          "metadata": {},
          "execution_count": 88
        }
      ]
    },
    {
      "cell_type": "code",
      "source": [
        "def sesgo_prediction(prediction, validation):\n",
        "  average_prediction = (len(prediction[prediction==1])/len(prediction))\n",
        "  average_label_target = (len(validation[validation==1]) / len(validation)) \n",
        "  sesgo_prediction = average_prediction - average_label_target\n",
        "  return sesgo_prediction, average_prediction, average_label_target"
      ],
      "metadata": {
        "id": "CWLN8dgJ1MSX"
      },
      "execution_count": 105,
      "outputs": []
    },
    {
      "cell_type": "code",
      "source": [
        "model_final.fit(data_train_prep, y_train_prep)"
      ],
      "metadata": {
        "id": "F5dxRms81alr",
        "outputId": "36e74731-2255-4c8d-ef5d-a9e3e6ab23d4",
        "colab": {
          "base_uri": "https://localhost:8080/"
        }
      },
      "execution_count": 104,
      "outputs": [
        {
          "output_type": "execute_result",
          "data": {
            "text/plain": [
              "DecisionTreeClassifier(criterion='entropy', max_depth=8)"
            ]
          },
          "metadata": {},
          "execution_count": 104
        }
      ]
    },
    {
      "cell_type": "code",
      "source": [
        "y_pred_tree = model_final.predict(data_test_prep)"
      ],
      "metadata": {
        "id": "hWLijRkM1lPv"
      },
      "execution_count": 96,
      "outputs": []
    },
    {
      "cell_type": "code",
      "source": [
        "sesgo, promedio_prediccion, promedio_validacion = sesgo_prediction(y_pred_tree, y_test_prep)\n",
        "print(f'Promedio de predicciones:  {promedio_prediccion}')\n",
        "print(f'Promedio de etiquetas: {promedio_validacion}')\n",
        "print(f'Sesgo de predicción: {sesgo}')"
      ],
      "metadata": {
        "id": "f3If6z5_1yWi",
        "outputId": "b1ca4b32-42c8-4bdb-bc90-56350e18c137",
        "colab": {
          "base_uri": "https://localhost:8080/"
        }
      },
      "execution_count": 109,
      "outputs": [
        {
          "output_type": "stream",
          "name": "stdout",
          "text": [
            "Promedio de predicciones:  0.5193370165745856\n",
            "Promedio de etiquetas: 0.5193370165745856\n",
            "Sesgo de predicción: 0.0\n"
          ]
        }
      ]
    },
    {
      "cell_type": "markdown",
      "source": [
        "El sesgo de predicción es minimo"
      ],
      "metadata": {
        "id": "tllA87nz26jG"
      }
    },
    {
      "cell_type": "code",
      "source": [
        "matrix = consufion_matrix(y_test_prep, y_pred_tree, **{'miner':1, 'not_miner':0})"
      ],
      "metadata": {
        "id": "CiCaytfF2Q2H",
        "outputId": "42cec279-2ace-462b-92c8-f81961fd7911",
        "colab": {
          "base_uri": "https://localhost:8080/",
          "height": 339
        }
      },
      "execution_count": 102,
      "outputs": [
        {
          "output_type": "display_data",
          "data": {
            "text/plain": [
              "<Figure size 432x360 with 2 Axes>"
            ],
            "image/png": "[encoded data removed]"
          },
          "metadata": {
            "needs_background": "light"
          }
        }
      ]
    },
    {
      "cell_type": "code",
      "source": [
        "accuracy, kappa, precision, recall, f1_score = metricas(y_test_prep, y_pred_tree, matrix)"
      ],
      "metadata": {
        "id": "GfBIT9Ez2CuI",
        "outputId": "8094c9cf-0b70-4b0c-ae27-d642bdaad993",
        "colab": {
          "base_uri": "https://localhost:8080/"
        }
      },
      "execution_count": 103,
      "outputs": [
        {
          "output_type": "stream",
          "name": "stdout",
          "text": [
            "Accuracy  :   0.983\n",
            "Kappa     :   0.967\n",
            "predicción Miners\n",
            "Precision:   0.984\n",
            "Recall    :   0.984\n",
            "F1-score   :   0.984\n"
          ]
        }
      ]
    }
  ]
}