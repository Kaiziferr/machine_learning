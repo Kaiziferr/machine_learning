{
  "nbformat": 4,
  "nbformat_minor": 0,
  "metadata": {
    "colab": {
      "provenance": [],
      "authorship_tag": "ABX9TyM7ZRxVl3RH1Z9Fc+FCIV80",
      "include_colab_link": true
    },
    "kernelspec": {
      "name": "python3",
      "display_name": "Python 3"
    },
    "language_info": {
      "name": "python"
    }
  },
  "cells": [
    {
      "cell_type": "markdown",
      "metadata": {
        "id": "view-in-github",
        "colab_type": "text"
      },
      "source": [
        "<a href=\"https://colab.research.google.com/github/Kaiziferr/machine_learning/blob/main/randomforest/regression/03_random_forest_sales_boston.ipynb\" target=\"_parent\"><img src=\"https://colab.research.google.com/assets/colab-badge.svg\" alt=\"Open In Colab\"/></a>"
      ]
    },
    {
      "cell_type": "code",
      "source": [
        "import numpy as np\n",
        "import pandas as pd\n",
        "\n",
        "import matplotlib.pyplot as plt\n",
        "import seaborn as sns\n",
        "\n",
        "from sklearn.ensemble import RandomForestRegressor\n",
        "from sklearn.metrics import mean_squared_error\n",
        "\n",
        "from sklearn.model_selection import (\n",
        "    train_test_split,\n",
        "    GridSearchCV,\n",
        "    RepeatedKFold,\n",
        "    ParameterGrid,\n",
        "    cross_val_score\n",
        ")\n",
        "\n",
        "from sklearn.inspection import permutation_importance\n",
        "\n",
        "\n",
        "import multiprocessing\n",
        "\n",
        "import warnings\n",
        "warnings.filterwarnings('ignore')"
      ],
      "metadata": {
        "id": "Q0kvefn0vYm8"
      },
      "execution_count": 36,
      "outputs": []
    },
    {
      "cell_type": "markdown",
      "source": [
        "# **Config**\n",
        "---"
      ],
      "metadata": {
        "id": "YvP-2F8jwhHK"
      }
    },
    {
      "cell_type": "code",
      "source": [
        "sns.set(style=\"darkgrid\")"
      ],
      "metadata": {
        "id": "PO8CExItM0yt"
      },
      "execution_count": 37,
      "outputs": []
    },
    {
      "cell_type": "markdown",
      "source": [
        "# **Description**\n",
        "---\n",
        "El dataset Boston contiene precios de viviendas de la ciudad de Boston, asi como información socio-economica del barrio en el que se encunetran."
      ],
      "metadata": {
        "id": "0nFU1hCOPhle"
      }
    },
    {
      "cell_type": "markdown",
      "source": [
        "#**Objetivo**\n",
        "---\n",
        "Se pretende ajustar un modelo de regresión que permita predecir el precio medio de una vivienda MEDV en función de las variables disponibles."
      ],
      "metadata": {
        "id": "nE8HMXRqPqux"
      }
    },
    {
      "cell_type": "markdown",
      "source": [
        "# **Diccionario de datos**\n",
        "---\n",
        "\n",
        "Número de instancias: 506\n",
        "\n",
        "- `CRIM`: tasa de criminalidad per cápita por ciudad\n",
        "- `ZN`: proporción de suelo residencial zonificado para lotes de más de 25,000 pies cuadrados.\n",
        "- `INDUS`: proporción de acres comerciales no minoristas por ciudad\n",
        "- `CHAS`: variable ficticia del río Charles (= 1 si el tramo limita con el río; 0 en caso contrario)\n",
        "- `NOX`: concentración de óxidos nítricos (partes por 10 millones)\n",
        "- `RM`: promedio de cuartos por vivienda\n",
        "- `EDAD`: proporción de unidades ocupadas por sus propietarios construidas antes de 1940\n",
        "- `DIS`: distancias ponderadas a cinco centros de empleo de Boston\n",
        "- `RAD`: índice de accesibilidad a las carreteras radiales\n",
        "- `IMPUESTO`: tasa de impuesto a la propiedad de valor total por $ 10,000\n",
        "\n",
        "- `PTRATIO`: ratio alumno-profesor por municipio\n",
        "- `LSTAT`: % estado inferior de la población\n",
        "- `MEDV`: valor medio de las viviendas ocupadas por sus propietarios en $ 1000"
      ],
      "metadata": {
        "id": "xq3Gt9C5vTZx"
      }
    },
    {
      "cell_type": "markdown",
      "source": [
        "# **Diccionario de datos**\n",
        "---"
      ],
      "metadata": {
        "id": "sNKoUlXVPwdo"
      }
    },
    {
      "cell_type": "code",
      "source": [
        "url=\"https://raw.githubusercontent.com/selva86/datasets/master/BostonHousing.csv\"\n",
        "data = pd.read_csv(url)"
      ],
      "metadata": {
        "id": "dIZdwkZVNj6m"
      },
      "execution_count": 38,
      "outputs": []
    },
    {
      "cell_type": "code",
      "source": [
        "data.head()"
      ],
      "metadata": {
        "colab": {
          "base_uri": "https://localhost:8080/",
          "height": 206
        },
        "id": "jp7_3gkRP5GD",
        "outputId": "660c0aa2-9d44-4817-b7b7-ccd48e23c7bc"
      },
      "execution_count": 39,
      "outputs": [
        {
          "output_type": "execute_result",
          "data": {
            "text/plain": [
              "      crim    zn  indus  chas    nox     rm   age     dis  rad  tax  ptratio  \\\n",
              "0  0.00632  18.0   2.31     0  0.538  6.575  65.2  4.0900    1  296     15.3   \n",
              "1  0.02731   0.0   7.07     0  0.469  6.421  78.9  4.9671    2  242     17.8   \n",
              "2  0.02729   0.0   7.07     0  0.469  7.185  61.1  4.9671    2  242     17.8   \n",
              "3  0.03237   0.0   2.18     0  0.458  6.998  45.8  6.0622    3  222     18.7   \n",
              "4  0.06905   0.0   2.18     0  0.458  7.147  54.2  6.0622    3  222     18.7   \n",
              "\n",
              "        b  lstat  medv  \n",
              "0  396.90   4.98  24.0  \n",
              "1  396.90   9.14  21.6  \n",
              "2  392.83   4.03  34.7  \n",
              "3  394.63   2.94  33.4  \n",
              "4  396.90   5.33  36.2  "
            ],
            "text/html": [
              "\n",
              "  <div id=\"df-d85da0c4-a3ac-452f-9670-e5d7fa013259\" class=\"colab-df-container\">\n",
              "    <div>\n",
              "<style scoped>\n",
              "    .dataframe tbody tr th:only-of-type {\n",
              "        vertical-align: middle;\n",
              "    }\n",
              "\n",
              "    .dataframe tbody tr th {\n",
              "        vertical-align: top;\n",
              "    }\n",
              "\n",
              "    .dataframe thead th {\n",
              "        text-align: right;\n",
              "    }\n",
              "</style>\n",
              "<table border=\"1\" class=\"dataframe\">\n",
              "  <thead>\n",
              "    <tr style=\"text-align: right;\">\n",
              "      <th></th>\n",
              "      <th>crim</th>\n",
              "      <th>zn</th>\n",
              "      <th>indus</th>\n",
              "      <th>chas</th>\n",
              "      <th>nox</th>\n",
              "      <th>rm</th>\n",
              "      <th>age</th>\n",
              "      <th>dis</th>\n",
              "      <th>rad</th>\n",
              "      <th>tax</th>\n",
              "      <th>ptratio</th>\n",
              "      <th>b</th>\n",
              "      <th>lstat</th>\n",
              "      <th>medv</th>\n",
              "    </tr>\n",
              "  </thead>\n",
              "  <tbody>\n",
              "    <tr>\n",
              "      <th>0</th>\n",
              "      <td>0.00632</td>\n",
              "      <td>18.0</td>\n",
              "      <td>2.31</td>\n",
              "      <td>0</td>\n",
              "      <td>0.538</td>\n",
              "      <td>6.575</td>\n",
              "      <td>65.2</td>\n",
              "      <td>4.0900</td>\n",
              "      <td>1</td>\n",
              "      <td>296</td>\n",
              "      <td>15.3</td>\n",
              "      <td>396.90</td>\n",
              "      <td>4.98</td>\n",
              "      <td>24.0</td>\n",
              "    </tr>\n",
              "    <tr>\n",
              "      <th>1</th>\n",
              "      <td>0.02731</td>\n",
              "      <td>0.0</td>\n",
              "      <td>7.07</td>\n",
              "      <td>0</td>\n",
              "      <td>0.469</td>\n",
              "      <td>6.421</td>\n",
              "      <td>78.9</td>\n",
              "      <td>4.9671</td>\n",
              "      <td>2</td>\n",
              "      <td>242</td>\n",
              "      <td>17.8</td>\n",
              "      <td>396.90</td>\n",
              "      <td>9.14</td>\n",
              "      <td>21.6</td>\n",
              "    </tr>\n",
              "    <tr>\n",
              "      <th>2</th>\n",
              "      <td>0.02729</td>\n",
              "      <td>0.0</td>\n",
              "      <td>7.07</td>\n",
              "      <td>0</td>\n",
              "      <td>0.469</td>\n",
              "      <td>7.185</td>\n",
              "      <td>61.1</td>\n",
              "      <td>4.9671</td>\n",
              "      <td>2</td>\n",
              "      <td>242</td>\n",
              "      <td>17.8</td>\n",
              "      <td>392.83</td>\n",
              "      <td>4.03</td>\n",
              "      <td>34.7</td>\n",
              "    </tr>\n",
              "    <tr>\n",
              "      <th>3</th>\n",
              "      <td>0.03237</td>\n",
              "      <td>0.0</td>\n",
              "      <td>2.18</td>\n",
              "      <td>0</td>\n",
              "      <td>0.458</td>\n",
              "      <td>6.998</td>\n",
              "      <td>45.8</td>\n",
              "      <td>6.0622</td>\n",
              "      <td>3</td>\n",
              "      <td>222</td>\n",
              "      <td>18.7</td>\n",
              "      <td>394.63</td>\n",
              "      <td>2.94</td>\n",
              "      <td>33.4</td>\n",
              "    </tr>\n",
              "    <tr>\n",
              "      <th>4</th>\n",
              "      <td>0.06905</td>\n",
              "      <td>0.0</td>\n",
              "      <td>2.18</td>\n",
              "      <td>0</td>\n",
              "      <td>0.458</td>\n",
              "      <td>7.147</td>\n",
              "      <td>54.2</td>\n",
              "      <td>6.0622</td>\n",
              "      <td>3</td>\n",
              "      <td>222</td>\n",
              "      <td>18.7</td>\n",
              "      <td>396.90</td>\n",
              "      <td>5.33</td>\n",
              "      <td>36.2</td>\n",
              "    </tr>\n",
              "  </tbody>\n",
              "</table>\n",
              "</div>\n",
              "    <div class=\"colab-df-buttons\">\n",
              "\n",
              "  <div class=\"colab-df-container\">\n",
              "    <button class=\"colab-df-convert\" onclick=\"convertToInteractive('df-d85da0c4-a3ac-452f-9670-e5d7fa013259')\"\n",
              "            title=\"Convert this dataframe to an interactive table.\"\n",
              "            style=\"display:none;\">\n",
              "\n",
              "  <svg xmlns=\"http://www.w3.org/2000/svg\" height=\"24px\" viewBox=\"0 -960 960 960\">\n",
              "    <path d=\"M120-120v-720h720v720H120Zm60-500h600v-160H180v160Zm220 220h160v-160H400v160Zm0 220h160v-160H400v160ZM180-400h160v-160H180v160Zm440 0h160v-160H620v160ZM180-180h160v-160H180v160Zm440 0h160v-160H620v160Z\"/>\n",
              "  </svg>\n",
              "    </button>\n",
              "\n",
              "  <style>\n",
              "    .colab-df-container {\n",
              "      display:flex;\n",
              "      gap: 12px;\n",
              "    }\n",
              "\n",
              "    .colab-df-convert {\n",
              "      background-color: #E8F0FE;\n",
              "      border: none;\n",
              "      border-radius: 50%;\n",
              "      cursor: pointer;\n",
              "      display: none;\n",
              "      fill: #1967D2;\n",
              "      height: 32px;\n",
              "      padding: 0 0 0 0;\n",
              "      width: 32px;\n",
              "    }\n",
              "\n",
              "    .colab-df-convert:hover {\n",
              "      background-color: #E2EBFA;\n",
              "      box-shadow: 0px 1px 2px rgba(60, 64, 67, 0.3), 0px 1px 3px 1px rgba(60, 64, 67, 0.15);\n",
              "      fill: #174EA6;\n",
              "    }\n",
              "\n",
              "    .colab-df-buttons div {\n",
              "      margin-bottom: 4px;\n",
              "    }\n",
              "\n",
              "    [theme=dark] .colab-df-convert {\n",
              "      background-color: #3B4455;\n",
              "      fill: #D2E3FC;\n",
              "    }\n",
              "\n",
              "    [theme=dark] .colab-df-convert:hover {\n",
              "      background-color: #434B5C;\n",
              "      box-shadow: 0px 1px 3px 1px rgba(0, 0, 0, 0.15);\n",
              "      filter: drop-shadow(0px 1px 2px rgba(0, 0, 0, 0.3));\n",
              "      fill: #FFFFFF;\n",
              "    }\n",
              "  </style>\n",
              "\n",
              "    <script>\n",
              "      const buttonEl =\n",
              "        document.querySelector('#df-d85da0c4-a3ac-452f-9670-e5d7fa013259 button.colab-df-convert');\n",
              "      buttonEl.style.display =\n",
              "        google.colab.kernel.accessAllowed ? 'block' : 'none';\n",
              "\n",
              "      async function convertToInteractive(key) {\n",
              "        const element = document.querySelector('#df-d85da0c4-a3ac-452f-9670-e5d7fa013259');\n",
              "        const dataTable =\n",
              "          await google.colab.kernel.invokeFunction('convertToInteractive',\n",
              "                                                    [key], {});\n",
              "        if (!dataTable) return;\n",
              "\n",
              "        const docLinkHtml = 'Like what you see? Visit the ' +\n",
              "          '<a target=\"_blank\" href=https://colab.research.google.com/notebooks/data_table.ipynb>data table notebook</a>'\n",
              "          + ' to learn more about interactive tables.';\n",
              "        element.innerHTML = '';\n",
              "        dataTable['output_type'] = 'display_data';\n",
              "        await google.colab.output.renderOutput(dataTable, element);\n",
              "        const docLink = document.createElement('div');\n",
              "        docLink.innerHTML = docLinkHtml;\n",
              "        element.appendChild(docLink);\n",
              "      }\n",
              "    </script>\n",
              "  </div>\n",
              "\n",
              "\n",
              "<div id=\"df-8aa5e5cc-a9f7-420f-b5b1-dcf0c6068716\">\n",
              "  <button class=\"colab-df-quickchart\" onclick=\"quickchart('df-8aa5e5cc-a9f7-420f-b5b1-dcf0c6068716')\"\n",
              "            title=\"Suggest charts\"\n",
              "            style=\"display:none;\">\n",
              "\n",
              "<svg xmlns=\"http://www.w3.org/2000/svg\" height=\"24px\"viewBox=\"0 0 24 24\"\n",
              "     width=\"24px\">\n",
              "    <g>\n",
              "        <path d=\"M19 3H5c-1.1 0-2 .9-2 2v14c0 1.1.9 2 2 2h14c1.1 0 2-.9 2-2V5c0-1.1-.9-2-2-2zM9 17H7v-7h2v7zm4 0h-2V7h2v10zm4 0h-2v-4h2v4z\"/>\n",
              "    </g>\n",
              "</svg>\n",
              "  </button>\n",
              "\n",
              "<style>\n",
              "  .colab-df-quickchart {\n",
              "      --bg-color: #E8F0FE;\n",
              "      --fill-color: #1967D2;\n",
              "      --hover-bg-color: #E2EBFA;\n",
              "      --hover-fill-color: #174EA6;\n",
              "      --disabled-fill-color: #AAA;\n",
              "      --disabled-bg-color: #DDD;\n",
              "  }\n",
              "\n",
              "  [theme=dark] .colab-df-quickchart {\n",
              "      --bg-color: #3B4455;\n",
              "      --fill-color: #D2E3FC;\n",
              "      --hover-bg-color: #434B5C;\n",
              "      --hover-fill-color: #FFFFFF;\n",
              "      --disabled-bg-color: #3B4455;\n",
              "      --disabled-fill-color: #666;\n",
              "  }\n",
              "\n",
              "  .colab-df-quickchart {\n",
              "    background-color: var(--bg-color);\n",
              "    border: none;\n",
              "    border-radius: 50%;\n",
              "    cursor: pointer;\n",
              "    display: none;\n",
              "    fill: var(--fill-color);\n",
              "    height: 32px;\n",
              "    padding: 0;\n",
              "    width: 32px;\n",
              "  }\n",
              "\n",
              "  .colab-df-quickchart:hover {\n",
              "    background-color: var(--hover-bg-color);\n",
              "    box-shadow: 0 1px 2px rgba(60, 64, 67, 0.3), 0 1px 3px 1px rgba(60, 64, 67, 0.15);\n",
              "    fill: var(--button-hover-fill-color);\n",
              "  }\n",
              "\n",
              "  .colab-df-quickchart-complete:disabled,\n",
              "  .colab-df-quickchart-complete:disabled:hover {\n",
              "    background-color: var(--disabled-bg-color);\n",
              "    fill: var(--disabled-fill-color);\n",
              "    box-shadow: none;\n",
              "  }\n",
              "\n",
              "  .colab-df-spinner {\n",
              "    border: 2px solid var(--fill-color);\n",
              "    border-color: transparent;\n",
              "    border-bottom-color: var(--fill-color);\n",
              "    animation:\n",
              "      spin 1s steps(1) infinite;\n",
              "  }\n",
              "\n",
              "  @keyframes spin {\n",
              "    0% {\n",
              "      border-color: transparent;\n",
              "      border-bottom-color: var(--fill-color);\n",
              "      border-left-color: var(--fill-color);\n",
              "    }\n",
              "    20% {\n",
              "      border-color: transparent;\n",
              "      border-left-color: var(--fill-color);\n",
              "      border-top-color: var(--fill-color);\n",
              "    }\n",
              "    30% {\n",
              "      border-color: transparent;\n",
              "      border-left-color: var(--fill-color);\n",
              "      border-top-color: var(--fill-color);\n",
              "      border-right-color: var(--fill-color);\n",
              "    }\n",
              "    40% {\n",
              "      border-color: transparent;\n",
              "      border-right-color: var(--fill-color);\n",
              "      border-top-color: var(--fill-color);\n",
              "    }\n",
              "    60% {\n",
              "      border-color: transparent;\n",
              "      border-right-color: var(--fill-color);\n",
              "    }\n",
              "    80% {\n",
              "      border-color: transparent;\n",
              "      border-right-color: var(--fill-color);\n",
              "      border-bottom-color: var(--fill-color);\n",
              "    }\n",
              "    90% {\n",
              "      border-color: transparent;\n",
              "      border-bottom-color: var(--fill-color);\n",
              "    }\n",
              "  }\n",
              "</style>\n",
              "\n",
              "  <script>\n",
              "    async function quickchart(key) {\n",
              "      const quickchartButtonEl =\n",
              "        document.querySelector('#' + key + ' button');\n",
              "      quickchartButtonEl.disabled = true;  // To prevent multiple clicks.\n",
              "      quickchartButtonEl.classList.add('colab-df-spinner');\n",
              "      try {\n",
              "        const charts = await google.colab.kernel.invokeFunction(\n",
              "            'suggestCharts', [key], {});\n",
              "      } catch (error) {\n",
              "        console.error('Error during call to suggestCharts:', error);\n",
              "      }\n",
              "      quickchartButtonEl.classList.remove('colab-df-spinner');\n",
              "      quickchartButtonEl.classList.add('colab-df-quickchart-complete');\n",
              "    }\n",
              "    (() => {\n",
              "      let quickchartButtonEl =\n",
              "        document.querySelector('#df-8aa5e5cc-a9f7-420f-b5b1-dcf0c6068716 button');\n",
              "      quickchartButtonEl.style.display =\n",
              "        google.colab.kernel.accessAllowed ? 'block' : 'none';\n",
              "    })();\n",
              "  </script>\n",
              "</div>\n",
              "\n",
              "    </div>\n",
              "  </div>\n"
            ],
            "application/vnd.google.colaboratory.intrinsic+json": {
              "type": "dataframe",
              "variable_name": "data",
              "summary": "{\n  \"name\": \"data\",\n  \"rows\": 506,\n  \"fields\": [\n    {\n      \"column\": \"crim\",\n      \"properties\": {\n        \"dtype\": \"number\",\n        \"std\": 8.60154510533249,\n        \"min\": 0.00632,\n        \"max\": 88.9762,\n        \"num_unique_values\": 504,\n        \"samples\": [\n          0.09178,\n          0.05644,\n          0.10574\n        ],\n        \"semantic_type\": \"\",\n        \"description\": \"\"\n      }\n    },\n    {\n      \"column\": \"zn\",\n      \"properties\": {\n        \"dtype\": \"number\",\n        \"std\": 23.32245299451514,\n        \"min\": 0.0,\n        \"max\": 100.0,\n        \"num_unique_values\": 26,\n        \"samples\": [\n          25.0,\n          30.0,\n          18.0\n        ],\n        \"semantic_type\": \"\",\n        \"description\": \"\"\n      }\n    },\n    {\n      \"column\": \"indus\",\n      \"properties\": {\n        \"dtype\": \"number\",\n        \"std\": 6.860352940897585,\n        \"min\": 0.46,\n        \"max\": 27.74,\n        \"num_unique_values\": 76,\n        \"samples\": [\n          8.14,\n          1.47,\n          1.22\n        ],\n        \"semantic_type\": \"\",\n        \"description\": \"\"\n      }\n    },\n    {\n      \"column\": \"chas\",\n      \"properties\": {\n        \"dtype\": \"number\",\n        \"std\": 0,\n        \"min\": 0,\n        \"max\": 1,\n        \"num_unique_values\": 2,\n        \"samples\": [\n          1,\n          0\n        ],\n        \"semantic_type\": \"\",\n        \"description\": \"\"\n      }\n    },\n    {\n      \"column\": \"nox\",\n      \"properties\": {\n        \"dtype\": \"number\",\n        \"std\": 0.11587767566755595,\n        \"min\": 0.385,\n        \"max\": 0.871,\n        \"num_unique_values\": 81,\n        \"samples\": [\n          0.401,\n          0.538\n        ],\n        \"semantic_type\": \"\",\n        \"description\": \"\"\n      }\n    },\n    {\n      \"column\": \"rm\",\n      \"properties\": {\n        \"dtype\": \"number\",\n        \"std\": 0.7026171434153233,\n        \"min\": 3.561,\n        \"max\": 8.78,\n        \"num_unique_values\": 446,\n        \"samples\": [\n          6.849,\n          4.88\n        ],\n        \"semantic_type\": \"\",\n        \"description\": \"\"\n      }\n    },\n    {\n      \"column\": \"age\",\n      \"properties\": {\n        \"dtype\": \"number\",\n        \"std\": 28.148861406903617,\n        \"min\": 2.9,\n        \"max\": 100.0,\n        \"num_unique_values\": 356,\n        \"samples\": [\n          51.8,\n          33.8\n        ],\n        \"semantic_type\": \"\",\n        \"description\": \"\"\n      }\n    },\n    {\n      \"column\": \"dis\",\n      \"properties\": {\n        \"dtype\": \"number\",\n        \"std\": 2.105710126627611,\n        \"min\": 1.1296,\n        \"max\": 12.1265,\n        \"num_unique_values\": 412,\n        \"samples\": [\n          2.2955,\n          4.2515\n        ],\n        \"semantic_type\": \"\",\n        \"description\": \"\"\n      }\n    },\n    {\n      \"column\": \"rad\",\n      \"properties\": {\n        \"dtype\": \"number\",\n        \"std\": 8,\n        \"min\": 1,\n        \"max\": 24,\n        \"num_unique_values\": 9,\n        \"samples\": [\n          7,\n          2\n        ],\n        \"semantic_type\": \"\",\n        \"description\": \"\"\n      }\n    },\n    {\n      \"column\": \"tax\",\n      \"properties\": {\n        \"dtype\": \"number\",\n        \"std\": 168,\n        \"min\": 187,\n        \"max\": 711,\n        \"num_unique_values\": 66,\n        \"samples\": [\n          370,\n          666\n        ],\n        \"semantic_type\": \"\",\n        \"description\": \"\"\n      }\n    },\n    {\n      \"column\": \"ptratio\",\n      \"properties\": {\n        \"dtype\": \"number\",\n        \"std\": 2.1649455237144406,\n        \"min\": 12.6,\n        \"max\": 22.0,\n        \"num_unique_values\": 46,\n        \"samples\": [\n          19.6,\n          15.6\n        ],\n        \"semantic_type\": \"\",\n        \"description\": \"\"\n      }\n    },\n    {\n      \"column\": \"b\",\n      \"properties\": {\n        \"dtype\": \"number\",\n        \"std\": 91.29486438415783,\n        \"min\": 0.32,\n        \"max\": 396.9,\n        \"num_unique_values\": 357,\n        \"samples\": [\n          396.24,\n          395.11\n        ],\n        \"semantic_type\": \"\",\n        \"description\": \"\"\n      }\n    },\n    {\n      \"column\": \"lstat\",\n      \"properties\": {\n        \"dtype\": \"number\",\n        \"std\": 7.141061511348571,\n        \"min\": 1.73,\n        \"max\": 37.97,\n        \"num_unique_values\": 455,\n        \"samples\": [\n          6.15,\n          4.32\n        ],\n        \"semantic_type\": \"\",\n        \"description\": \"\"\n      }\n    },\n    {\n      \"column\": \"medv\",\n      \"properties\": {\n        \"dtype\": \"number\",\n        \"std\": 9.197104087379818,\n        \"min\": 5.0,\n        \"max\": 50.0,\n        \"num_unique_values\": 229,\n        \"samples\": [\n          14.1,\n          22.5\n        ],\n        \"semantic_type\": \"\",\n        \"description\": \"\"\n      }\n    }\n  ]\n}"
            }
          },
          "metadata": {},
          "execution_count": 39
        }
      ]
    },
    {
      "cell_type": "markdown",
      "source": [
        "# **Info**\n",
        "---"
      ],
      "metadata": {
        "id": "--_BJPiXydzq"
      }
    },
    {
      "cell_type": "code",
      "source": [
        "data.info()"
      ],
      "metadata": {
        "id": "P6BN_6sUu4q0",
        "colab": {
          "base_uri": "https://localhost:8080/"
        },
        "outputId": "4b08954c-4c4a-4b1e-8e25-28c01eee84bf"
      },
      "execution_count": 40,
      "outputs": [
        {
          "output_type": "stream",
          "name": "stdout",
          "text": [
            "<class 'pandas.core.frame.DataFrame'>\n",
            "RangeIndex: 506 entries, 0 to 505\n",
            "Data columns (total 14 columns):\n",
            " #   Column   Non-Null Count  Dtype  \n",
            "---  ------   --------------  -----  \n",
            " 0   crim     506 non-null    float64\n",
            " 1   zn       506 non-null    float64\n",
            " 2   indus    506 non-null    float64\n",
            " 3   chas     506 non-null    int64  \n",
            " 4   nox      506 non-null    float64\n",
            " 5   rm       506 non-null    float64\n",
            " 6   age      506 non-null    float64\n",
            " 7   dis      506 non-null    float64\n",
            " 8   rad      506 non-null    int64  \n",
            " 9   tax      506 non-null    int64  \n",
            " 10  ptratio  506 non-null    float64\n",
            " 11  b        506 non-null    float64\n",
            " 12  lstat    506 non-null    float64\n",
            " 13  medv     506 non-null    float64\n",
            "dtypes: float64(11), int64(3)\n",
            "memory usage: 55.5 KB\n"
          ]
        }
      ]
    },
    {
      "cell_type": "markdown",
      "source": [
        "# **Split**\n",
        "---"
      ],
      "metadata": {
        "id": "5XLVj0PE01He"
      }
    },
    {
      "cell_type": "code",
      "source": [
        "X = data.drop(['medv'], axis=1)\n",
        "y = data['medv']"
      ],
      "metadata": {
        "id": "FAqMgP3Gw7gL"
      },
      "execution_count": 41,
      "outputs": []
    },
    {
      "cell_type": "code",
      "source": [
        "data.shape[0]*0.25"
      ],
      "metadata": {
        "colab": {
          "base_uri": "https://localhost:8080/"
        },
        "id": "QhEj45oP1E5a",
        "outputId": "78442a6e-3a23-4813-bf81-3646b120756d"
      },
      "execution_count": 42,
      "outputs": [
        {
          "output_type": "execute_result",
          "data": {
            "text/plain": [
              "126.5"
            ]
          },
          "metadata": {},
          "execution_count": 42
        }
      ]
    },
    {
      "cell_type": "code",
      "source": [
        "X_train, X_test, y_train, y_test = train_test_split(\n",
        "    X,\n",
        "    y,\n",
        "    train_size = 0.85,\n",
        "    random_state = 12354,\n",
        "    shuffle=True\n",
        ")"
      ],
      "metadata": {
        "id": "jMfVwWICxTYv"
      },
      "execution_count": 43,
      "outputs": []
    },
    {
      "cell_type": "markdown",
      "source": [
        "# **Functions**\n",
        "---"
      ],
      "metadata": {
        "id": "HymqVtHB4dRi"
      }
    },
    {
      "cell_type": "code",
      "source": [
        "def create_model(**kward)->object:\n",
        "  model = RandomForestRegressor(\n",
        "      **kward\n",
        "  )\n",
        "  return model"
      ],
      "metadata": {
        "id": "WBlymeMCxu2y"
      },
      "execution_count": 44,
      "outputs": []
    },
    {
      "cell_type": "code",
      "source": [
        "# Bucle para entrenar un modelo con cada valor de n_estimators y extraer su error\n",
        "# de entrenamiento .\n",
        "\n",
        "def training_validation_loop(\n",
        "    model: object,\n",
        "    estimator_range: range,\n",
        "    X: pd.core.frame.DataFrame,\n",
        "    y: pd.core.series.Series,\n",
        ")->tuple:\n",
        "  train_scores, score = [], []\n",
        "  for n_estimator in estimator_range:\n",
        "    mdel = model\n",
        "    mdel.n_estimators = n_estimator\n",
        "    mdel.fit(X, y)\n",
        "\n",
        "    if model.oob_score:\n",
        "      train_scores.append(\n",
        "          mdel.score(X, y)\n",
        "      )\n",
        "\n",
        "      score.append(mdel.oob_score_)\n",
        "    else:\n",
        "      y_predict = mdel.predict(X)\n",
        "      rmse = mean_squared_error(\n",
        "          y,\n",
        "          y_predict,\n",
        "          squared=False\n",
        "      )\n",
        "      train_scores.append(rmse)\n",
        "      scores = cross_val_score(\n",
        "          estimator = mdel,\n",
        "          X = X,\n",
        "          y = y,\n",
        "          scoring = 'neg_root_mean_squared_error',\n",
        "          cv = 10\n",
        "      )\n",
        "      score.append(-1*scores.mean())\n",
        "  return train_scores, score"
      ],
      "metadata": {
        "id": "UkYUQnT0x_9Z"
      },
      "execution_count": 45,
      "outputs": []
    },
    {
      "cell_type": "code",
      "source": [
        "def error_vs_nstimators(\n",
        "    train_scores:list,\n",
        "    score:list,\n",
        "    estimator_range:range,\n",
        "    figsize:tuple = (10, 4),\n",
        "    **kward\n",
        "    )->None:\n",
        "  d = kward\n",
        "  fig, ax = plt.subplots(figsize=figsize)\n",
        "  ax.plot(estimator_range, train_scores, label=d['X_label'])\n",
        "  ax.plot(estimator_range, score, label=d['y_label'])\n",
        "  ax.plot(estimator_range[np.argmax(score)], max(score),\n",
        "        marker='o', color='red', label='max score')\n",
        "  ax.set_ylabel(\"R^2\")\n",
        "  ax.set_xlabel(\"n_estimators\")\n",
        "  ax.set_title(d['title'])\n",
        "  plt.legend();\n",
        "  print(f\"Valor óptimo de n_estimators: {estimator_range[np.argmax(score)]}\")\n",
        "  plt.show()"
      ],
      "metadata": {
        "id": "nnwD0BYPEIOo"
      },
      "execution_count": 46,
      "outputs": []
    },
    {
      "cell_type": "markdown",
      "source": [
        "#**Model**\n",
        "---"
      ],
      "metadata": {
        "id": "Q82mMaiI1zOa"
      }
    },
    {
      "cell_type": "code",
      "source": [
        "dic_params = {\n",
        "    \"n_estimators\":100, #Numero de arboles incluido en el modelo\n",
        "    \"criterion\":'squared_error',\n",
        "    \"max_depth\":None, #profundidad máxima que pueden alcanzar los árboles.\n",
        "    \"max_features\":'auto', # Numero de caracteristicas\n",
        "    \"oob_score\":True, # Si se calcula o no el out-of-bag R^2.\n",
        "    \"n_jobs\":-1,\n",
        "    \"random_state\":12354\n",
        "}"
      ],
      "metadata": {
        "id": "YCDrIBIV2l16"
      },
      "execution_count": 47,
      "outputs": []
    },
    {
      "cell_type": "code",
      "source": [
        "model = create_model(**dic_params)"
      ],
      "metadata": {
        "id": "hYAIh7WR3Fhq"
      },
      "execution_count": 48,
      "outputs": []
    },
    {
      "cell_type": "code",
      "source": [
        "model"
      ],
      "metadata": {
        "id": "Bi6Q-M2I3Q1q",
        "outputId": "1201a3f2-28fc-4914-a3e4-ed7151cf2e3c",
        "colab": {
          "base_uri": "https://localhost:8080/",
          "height": 92
        }
      },
      "execution_count": 49,
      "outputs": [
        {
          "output_type": "execute_result",
          "data": {
            "text/plain": [
              "RandomForestRegressor(max_features='auto', n_jobs=-1, oob_score=True,\n",
              "                      random_state=12354)"
            ],
            "text/html": [
              "<style>#sk-container-id-3 {color: black;background-color: white;}#sk-container-id-3 pre{padding: 0;}#sk-container-id-3 div.sk-toggleable {background-color: white;}#sk-container-id-3 label.sk-toggleable__label {cursor: pointer;display: block;width: 100%;margin-bottom: 0;padding: 0.3em;box-sizing: border-box;text-align: center;}#sk-container-id-3 label.sk-toggleable__label-arrow:before {content: \"▸\";float: left;margin-right: 0.25em;color: #696969;}#sk-container-id-3 label.sk-toggleable__label-arrow:hover:before {color: black;}#sk-container-id-3 div.sk-estimator:hover label.sk-toggleable__label-arrow:before {color: black;}#sk-container-id-3 div.sk-toggleable__content {max-height: 0;max-width: 0;overflow: hidden;text-align: left;background-color: #f0f8ff;}#sk-container-id-3 div.sk-toggleable__content pre {margin: 0.2em;color: black;border-radius: 0.25em;background-color: #f0f8ff;}#sk-container-id-3 input.sk-toggleable__control:checked~div.sk-toggleable__content {max-height: 200px;max-width: 100%;overflow: auto;}#sk-container-id-3 input.sk-toggleable__control:checked~label.sk-toggleable__label-arrow:before {content: \"▾\";}#sk-container-id-3 div.sk-estimator input.sk-toggleable__control:checked~label.sk-toggleable__label {background-color: #d4ebff;}#sk-container-id-3 div.sk-label input.sk-toggleable__control:checked~label.sk-toggleable__label {background-color: #d4ebff;}#sk-container-id-3 input.sk-hidden--visually {border: 0;clip: rect(1px 1px 1px 1px);clip: rect(1px, 1px, 1px, 1px);height: 1px;margin: -1px;overflow: hidden;padding: 0;position: absolute;width: 1px;}#sk-container-id-3 div.sk-estimator {font-family: monospace;background-color: #f0f8ff;border: 1px dotted black;border-radius: 0.25em;box-sizing: border-box;margin-bottom: 0.5em;}#sk-container-id-3 div.sk-estimator:hover {background-color: #d4ebff;}#sk-container-id-3 div.sk-parallel-item::after {content: \"\";width: 100%;border-bottom: 1px solid gray;flex-grow: 1;}#sk-container-id-3 div.sk-label:hover label.sk-toggleable__label {background-color: #d4ebff;}#sk-container-id-3 div.sk-serial::before {content: \"\";position: absolute;border-left: 1px solid gray;box-sizing: border-box;top: 0;bottom: 0;left: 50%;z-index: 0;}#sk-container-id-3 div.sk-serial {display: flex;flex-direction: column;align-items: center;background-color: white;padding-right: 0.2em;padding-left: 0.2em;position: relative;}#sk-container-id-3 div.sk-item {position: relative;z-index: 1;}#sk-container-id-3 div.sk-parallel {display: flex;align-items: stretch;justify-content: center;background-color: white;position: relative;}#sk-container-id-3 div.sk-item::before, #sk-container-id-3 div.sk-parallel-item::before {content: \"\";position: absolute;border-left: 1px solid gray;box-sizing: border-box;top: 0;bottom: 0;left: 50%;z-index: -1;}#sk-container-id-3 div.sk-parallel-item {display: flex;flex-direction: column;z-index: 1;position: relative;background-color: white;}#sk-container-id-3 div.sk-parallel-item:first-child::after {align-self: flex-end;width: 50%;}#sk-container-id-3 div.sk-parallel-item:last-child::after {align-self: flex-start;width: 50%;}#sk-container-id-3 div.sk-parallel-item:only-child::after {width: 0;}#sk-container-id-3 div.sk-dashed-wrapped {border: 1px dashed gray;margin: 0 0.4em 0.5em 0.4em;box-sizing: border-box;padding-bottom: 0.4em;background-color: white;}#sk-container-id-3 div.sk-label label {font-family: monospace;font-weight: bold;display: inline-block;line-height: 1.2em;}#sk-container-id-3 div.sk-label-container {text-align: center;}#sk-container-id-3 div.sk-container {/* jupyter's `normalize.less` sets `[hidden] { display: none; }` but bootstrap.min.css set `[hidden] { display: none !important; }` so we also need the `!important` here to be able to override the default hidden behavior on the sphinx rendered scikit-learn.org. See: https://github.com/scikit-learn/scikit-learn/issues/21755 */display: inline-block !important;position: relative;}#sk-container-id-3 div.sk-text-repr-fallback {display: none;}</style><div id=\"sk-container-id-3\" class=\"sk-top-container\"><div class=\"sk-text-repr-fallback\"><pre>RandomForestRegressor(max_features=&#x27;auto&#x27;, n_jobs=-1, oob_score=True,\n",
              "                      random_state=12354)</pre><b>In a Jupyter environment, please rerun this cell to show the HTML representation or trust the notebook. <br />On GitHub, the HTML representation is unable to render, please try loading this page with nbviewer.org.</b></div><div class=\"sk-container\" hidden><div class=\"sk-item\"><div class=\"sk-estimator sk-toggleable\"><input class=\"sk-toggleable__control sk-hidden--visually\" id=\"sk-estimator-id-3\" type=\"checkbox\" checked><label for=\"sk-estimator-id-3\" class=\"sk-toggleable__label sk-toggleable__label-arrow\">RandomForestRegressor</label><div class=\"sk-toggleable__content\"><pre>RandomForestRegressor(max_features=&#x27;auto&#x27;, n_jobs=-1, oob_score=True,\n",
              "                      random_state=12354)</pre></div></div></div></div></div>"
            ]
          },
          "metadata": {},
          "execution_count": 49
        }
      ]
    },
    {
      "cell_type": "code",
      "source": [
        "type(model)"
      ],
      "metadata": {
        "colab": {
          "base_uri": "https://localhost:8080/",
          "height": 238
        },
        "id": "TBNktqqI0sdg",
        "outputId": "c1fe6846-a462-4f6c-c14e-8582c36d1660"
      },
      "execution_count": 50,
      "outputs": [
        {
          "output_type": "execute_result",
          "data": {
            "text/plain": [
              "sklearn.ensemble._forest.RandomForestRegressor"
            ],
            "text/html": [
              "<div style=\"max-width:800px; border: 1px solid var(--colab-border-color);\"><style>\n",
              "      pre.function-repr-contents {\n",
              "        overflow-x: auto;\n",
              "        padding: 8px 12px;\n",
              "        max-height: 500px;\n",
              "      }\n",
              "\n",
              "      pre.function-repr-contents.function-repr-contents-collapsed {\n",
              "        cursor: pointer;\n",
              "        max-height: 100px;\n",
              "      }\n",
              "    </style>\n",
              "    <pre style=\"white-space: initial; background:\n",
              "         var(--colab-secondary-surface-color); padding: 8px 12px;\n",
              "         border-bottom: 1px solid var(--colab-border-color);\"><b>sklearn.ensemble._forest.RandomForestRegressor</b><br/>def __init__(n_estimators=100, *, criterion=&#x27;squared_error&#x27;, max_depth=None, min_samples_split=2, min_samples_leaf=1, min_weight_fraction_leaf=0.0, max_features=1.0, max_leaf_nodes=None, min_impurity_decrease=0.0, bootstrap=True, oob_score=False, n_jobs=None, random_state=None, verbose=0, warm_start=False, ccp_alpha=0.0, max_samples=None)</pre><pre class=\"function-repr-contents function-repr-contents-collapsed\" style=\"\"><a class=\"filepath\" style=\"display:none\" href=\"#\">/usr/local/lib/python3.10/dist-packages/sklearn/ensemble/_forest.py</a>A random forest regressor.\n",
              "\n",
              "A random forest is a meta estimator that fits a number of classifying\n",
              "decision trees on various sub-samples of the dataset and uses averaging\n",
              "to improve the predictive accuracy and control over-fitting.\n",
              "The sub-sample size is controlled with the `max_samples` parameter if\n",
              "`bootstrap=True` (default), otherwise the whole dataset is used to build\n",
              "each tree.\n",
              "\n",
              "Read more in the :ref:`User Guide &lt;forest&gt;`.\n",
              "\n",
              "Parameters\n",
              "----------\n",
              "n_estimators : int, default=100\n",
              "    The number of trees in the forest.\n",
              "\n",
              "    .. versionchanged:: 0.22\n",
              "       The default value of ``n_estimators`` changed from 10 to 100\n",
              "       in 0.22.\n",
              "\n",
              "criterion : {&quot;squared_error&quot;, &quot;absolute_error&quot;, &quot;friedman_mse&quot;, &quot;poisson&quot;},             default=&quot;squared_error&quot;\n",
              "    The function to measure the quality of a split. Supported criteria\n",
              "    are &quot;squared_error&quot; for the mean squared error, which is equal to\n",
              "    variance reduction as feature selection criterion and minimizes the L2\n",
              "    loss using the mean of each terminal node, &quot;friedman_mse&quot;, which uses\n",
              "    mean squared error with Friedman&#x27;s improvement score for potential\n",
              "    splits, &quot;absolute_error&quot; for the mean absolute error, which minimizes\n",
              "    the L1 loss using the median of each terminal node, and &quot;poisson&quot; which\n",
              "    uses reduction in Poisson deviance to find splits.\n",
              "    Training using &quot;absolute_error&quot; is significantly slower\n",
              "    than when using &quot;squared_error&quot;.\n",
              "\n",
              "    .. versionadded:: 0.18\n",
              "       Mean Absolute Error (MAE) criterion.\n",
              "\n",
              "    .. versionadded:: 1.0\n",
              "       Poisson criterion.\n",
              "\n",
              "max_depth : int, default=None\n",
              "    The maximum depth of the tree. If None, then nodes are expanded until\n",
              "    all leaves are pure or until all leaves contain less than\n",
              "    min_samples_split samples.\n",
              "\n",
              "min_samples_split : int or float, default=2\n",
              "    The minimum number of samples required to split an internal node:\n",
              "\n",
              "    - If int, then consider `min_samples_split` as the minimum number.\n",
              "    - If float, then `min_samples_split` is a fraction and\n",
              "      `ceil(min_samples_split * n_samples)` are the minimum\n",
              "      number of samples for each split.\n",
              "\n",
              "    .. versionchanged:: 0.18\n",
              "       Added float values for fractions.\n",
              "\n",
              "min_samples_leaf : int or float, default=1\n",
              "    The minimum number of samples required to be at a leaf node.\n",
              "    A split point at any depth will only be considered if it leaves at\n",
              "    least ``min_samples_leaf`` training samples in each of the left and\n",
              "    right branches.  This may have the effect of smoothing the model,\n",
              "    especially in regression.\n",
              "\n",
              "    - If int, then consider `min_samples_leaf` as the minimum number.\n",
              "    - If float, then `min_samples_leaf` is a fraction and\n",
              "      `ceil(min_samples_leaf * n_samples)` are the minimum\n",
              "      number of samples for each node.\n",
              "\n",
              "    .. versionchanged:: 0.18\n",
              "       Added float values for fractions.\n",
              "\n",
              "min_weight_fraction_leaf : float, default=0.0\n",
              "    The minimum weighted fraction of the sum total of weights (of all\n",
              "    the input samples) required to be at a leaf node. Samples have\n",
              "    equal weight when sample_weight is not provided.\n",
              "\n",
              "max_features : {&quot;sqrt&quot;, &quot;log2&quot;, None}, int or float, default=1.0\n",
              "    The number of features to consider when looking for the best split:\n",
              "\n",
              "    - If int, then consider `max_features` features at each split.\n",
              "    - If float, then `max_features` is a fraction and\n",
              "      `max(1, int(max_features * n_features_in_))` features are considered at each\n",
              "      split.\n",
              "    - If &quot;auto&quot;, then `max_features=n_features`.\n",
              "    - If &quot;sqrt&quot;, then `max_features=sqrt(n_features)`.\n",
              "    - If &quot;log2&quot;, then `max_features=log2(n_features)`.\n",
              "    - If None or 1.0, then `max_features=n_features`.\n",
              "\n",
              "    .. note::\n",
              "        The default of 1.0 is equivalent to bagged trees and more\n",
              "        randomness can be achieved by setting smaller values, e.g. 0.3.\n",
              "\n",
              "    .. versionchanged:: 1.1\n",
              "        The default of `max_features` changed from `&quot;auto&quot;` to 1.0.\n",
              "\n",
              "    .. deprecated:: 1.1\n",
              "        The `&quot;auto&quot;` option was deprecated in 1.1 and will be removed\n",
              "        in 1.3.\n",
              "\n",
              "    Note: the search for a split does not stop until at least one\n",
              "    valid partition of the node samples is found, even if it requires to\n",
              "    effectively inspect more than ``max_features`` features.\n",
              "\n",
              "max_leaf_nodes : int, default=None\n",
              "    Grow trees with ``max_leaf_nodes`` in best-first fashion.\n",
              "    Best nodes are defined as relative reduction in impurity.\n",
              "    If None then unlimited number of leaf nodes.\n",
              "\n",
              "min_impurity_decrease : float, default=0.0\n",
              "    A node will be split if this split induces a decrease of the impurity\n",
              "    greater than or equal to this value.\n",
              "\n",
              "    The weighted impurity decrease equation is the following::\n",
              "\n",
              "        N_t / N * (impurity - N_t_R / N_t * right_impurity\n",
              "                            - N_t_L / N_t * left_impurity)\n",
              "\n",
              "    where ``N`` is the total number of samples, ``N_t`` is the number of\n",
              "    samples at the current node, ``N_t_L`` is the number of samples in the\n",
              "    left child, and ``N_t_R`` is the number of samples in the right child.\n",
              "\n",
              "    ``N``, ``N_t``, ``N_t_R`` and ``N_t_L`` all refer to the weighted sum,\n",
              "    if ``sample_weight`` is passed.\n",
              "\n",
              "    .. versionadded:: 0.19\n",
              "\n",
              "bootstrap : bool, default=True\n",
              "    Whether bootstrap samples are used when building trees. If False, the\n",
              "    whole dataset is used to build each tree.\n",
              "\n",
              "oob_score : bool, default=False\n",
              "    Whether to use out-of-bag samples to estimate the generalization score.\n",
              "    Only available if bootstrap=True.\n",
              "\n",
              "n_jobs : int, default=None\n",
              "    The number of jobs to run in parallel. :meth:`fit`, :meth:`predict`,\n",
              "    :meth:`decision_path` and :meth:`apply` are all parallelized over the\n",
              "    trees. ``None`` means 1 unless in a :obj:`joblib.parallel_backend`\n",
              "    context. ``-1`` means using all processors. See :term:`Glossary\n",
              "    &lt;n_jobs&gt;` for more details.\n",
              "\n",
              "random_state : int, RandomState instance or None, default=None\n",
              "    Controls both the randomness of the bootstrapping of the samples used\n",
              "    when building trees (if ``bootstrap=True``) and the sampling of the\n",
              "    features to consider when looking for the best split at each node\n",
              "    (if ``max_features &lt; n_features``).\n",
              "    See :term:`Glossary &lt;random_state&gt;` for details.\n",
              "\n",
              "verbose : int, default=0\n",
              "    Controls the verbosity when fitting and predicting.\n",
              "\n",
              "warm_start : bool, default=False\n",
              "    When set to ``True``, reuse the solution of the previous call to fit\n",
              "    and add more estimators to the ensemble, otherwise, just fit a whole\n",
              "    new forest. See :term:`Glossary &lt;warm_start&gt;` and\n",
              "    :ref:`gradient_boosting_warm_start` for details.\n",
              "\n",
              "ccp_alpha : non-negative float, default=0.0\n",
              "    Complexity parameter used for Minimal Cost-Complexity Pruning. The\n",
              "    subtree with the largest cost complexity that is smaller than\n",
              "    ``ccp_alpha`` will be chosen. By default, no pruning is performed. See\n",
              "    :ref:`minimal_cost_complexity_pruning` for details.\n",
              "\n",
              "    .. versionadded:: 0.22\n",
              "\n",
              "max_samples : int or float, default=None\n",
              "    If bootstrap is True, the number of samples to draw from X\n",
              "    to train each base estimator.\n",
              "\n",
              "    - If None (default), then draw `X.shape[0]` samples.\n",
              "    - If int, then draw `max_samples` samples.\n",
              "    - If float, then draw `max_samples * X.shape[0]` samples. Thus,\n",
              "      `max_samples` should be in the interval `(0.0, 1.0]`.\n",
              "\n",
              "    .. versionadded:: 0.22\n",
              "\n",
              "Attributes\n",
              "----------\n",
              "estimator_ : :class:`~sklearn.tree.DecisionTreeRegressor`\n",
              "    The child estimator template used to create the collection of fitted\n",
              "    sub-estimators.\n",
              "\n",
              "    .. versionadded:: 1.2\n",
              "       `base_estimator_` was renamed to `estimator_`.\n",
              "\n",
              "base_estimator_ : DecisionTreeRegressor\n",
              "    The child estimator template used to create the collection of fitted\n",
              "    sub-estimators.\n",
              "\n",
              "    .. deprecated:: 1.2\n",
              "        `base_estimator_` is deprecated and will be removed in 1.4.\n",
              "        Use `estimator_` instead.\n",
              "\n",
              "estimators_ : list of DecisionTreeRegressor\n",
              "    The collection of fitted sub-estimators.\n",
              "\n",
              "feature_importances_ : ndarray of shape (n_features,)\n",
              "    The impurity-based feature importances.\n",
              "    The higher, the more important the feature.\n",
              "    The importance of a feature is computed as the (normalized)\n",
              "    total reduction of the criterion brought by that feature.  It is also\n",
              "    known as the Gini importance.\n",
              "\n",
              "    Warning: impurity-based feature importances can be misleading for\n",
              "    high cardinality features (many unique values). See\n",
              "    :func:`sklearn.inspection.permutation_importance` as an alternative.\n",
              "\n",
              "n_features_in_ : int\n",
              "    Number of features seen during :term:`fit`.\n",
              "\n",
              "    .. versionadded:: 0.24\n",
              "\n",
              "feature_names_in_ : ndarray of shape (`n_features_in_`,)\n",
              "    Names of features seen during :term:`fit`. Defined only when `X`\n",
              "    has feature names that are all strings.\n",
              "\n",
              "    .. versionadded:: 1.0\n",
              "\n",
              "n_outputs_ : int\n",
              "    The number of outputs when ``fit`` is performed.\n",
              "\n",
              "oob_score_ : float\n",
              "    Score of the training dataset obtained using an out-of-bag estimate.\n",
              "    This attribute exists only when ``oob_score`` is True.\n",
              "\n",
              "oob_prediction_ : ndarray of shape (n_samples,) or (n_samples, n_outputs)\n",
              "    Prediction computed with out-of-bag estimate on the training set.\n",
              "    This attribute exists only when ``oob_score`` is True.\n",
              "\n",
              "See Also\n",
              "--------\n",
              "sklearn.tree.DecisionTreeRegressor : A decision tree regressor.\n",
              "sklearn.ensemble.ExtraTreesRegressor : Ensemble of extremely randomized\n",
              "    tree regressors.\n",
              "\n",
              "Notes\n",
              "-----\n",
              "The default values for the parameters controlling the size of the trees\n",
              "(e.g. ``max_depth``, ``min_samples_leaf``, etc.) lead to fully grown and\n",
              "unpruned trees which can potentially be very large on some data sets. To\n",
              "reduce memory consumption, the complexity and size of the trees should be\n",
              "controlled by setting those parameter values.\n",
              "\n",
              "The features are always randomly permuted at each split. Therefore,\n",
              "the best found split may vary, even with the same training data,\n",
              "``max_features=n_features`` and ``bootstrap=False``, if the improvement\n",
              "of the criterion is identical for several splits enumerated during the\n",
              "search of the best split. To obtain a deterministic behaviour during\n",
              "fitting, ``random_state`` has to be fixed.\n",
              "\n",
              "The default value ``max_features=&quot;auto&quot;`` uses ``n_features``\n",
              "rather than ``n_features / 3``. The latter was originally suggested in\n",
              "[1], whereas the former was more recently justified empirically in [2].\n",
              "\n",
              "References\n",
              "----------\n",
              ".. [1] L. Breiman, &quot;Random Forests&quot;, Machine Learning, 45(1), 5-32, 2001.\n",
              "\n",
              ".. [2] P. Geurts, D. Ernst., and L. Wehenkel, &quot;Extremely randomized\n",
              "       trees&quot;, Machine Learning, 63(1), 3-42, 2006.\n",
              "\n",
              "Examples\n",
              "--------\n",
              "&gt;&gt;&gt; from sklearn.ensemble import RandomForestRegressor\n",
              "&gt;&gt;&gt; from sklearn.datasets import make_regression\n",
              "&gt;&gt;&gt; X, y = make_regression(n_features=4, n_informative=2,\n",
              "...                        random_state=0, shuffle=False)\n",
              "&gt;&gt;&gt; regr = RandomForestRegressor(max_depth=2, random_state=0)\n",
              "&gt;&gt;&gt; regr.fit(X, y)\n",
              "RandomForestRegressor(...)\n",
              "&gt;&gt;&gt; print(regr.predict([[0, 0, 0, 0]]))\n",
              "[-8.32987858]</pre>\n",
              "      <script>\n",
              "      if (google.colab.kernel.accessAllowed && google.colab.files && google.colab.files.view) {\n",
              "        for (const element of document.querySelectorAll('.filepath')) {\n",
              "          element.style.display = 'block'\n",
              "          element.onclick = (event) => {\n",
              "            event.preventDefault();\n",
              "            event.stopPropagation();\n",
              "            google.colab.files.view(element.textContent, 1441);\n",
              "          };\n",
              "        }\n",
              "      }\n",
              "      for (const element of document.querySelectorAll('.function-repr-contents')) {\n",
              "        element.onclick = (event) => {\n",
              "          event.preventDefault();\n",
              "          event.stopPropagation();\n",
              "          element.classList.toggle('function-repr-contents-collapsed');\n",
              "        };\n",
              "      }\n",
              "      </script>\n",
              "      </div>"
            ]
          },
          "metadata": {},
          "execution_count": 50
        }
      ]
    },
    {
      "cell_type": "code",
      "source": [
        "model.fit(X_train, y_train)"
      ],
      "metadata": {
        "colab": {
          "base_uri": "https://localhost:8080/",
          "height": 92
        },
        "id": "ApRV6Tir32Ru",
        "outputId": "84c36313-cd47-4b20-d7ca-fbb4efb6fa2d"
      },
      "execution_count": 51,
      "outputs": [
        {
          "output_type": "execute_result",
          "data": {
            "text/plain": [
              "RandomForestRegressor(max_features='auto', n_jobs=-1, oob_score=True,\n",
              "                      random_state=12354)"
            ],
            "text/html": [
              "<style>#sk-container-id-4 {color: black;background-color: white;}#sk-container-id-4 pre{padding: 0;}#sk-container-id-4 div.sk-toggleable {background-color: white;}#sk-container-id-4 label.sk-toggleable__label {cursor: pointer;display: block;width: 100%;margin-bottom: 0;padding: 0.3em;box-sizing: border-box;text-align: center;}#sk-container-id-4 label.sk-toggleable__label-arrow:before {content: \"▸\";float: left;margin-right: 0.25em;color: #696969;}#sk-container-id-4 label.sk-toggleable__label-arrow:hover:before {color: black;}#sk-container-id-4 div.sk-estimator:hover label.sk-toggleable__label-arrow:before {color: black;}#sk-container-id-4 div.sk-toggleable__content {max-height: 0;max-width: 0;overflow: hidden;text-align: left;background-color: #f0f8ff;}#sk-container-id-4 div.sk-toggleable__content pre {margin: 0.2em;color: black;border-radius: 0.25em;background-color: #f0f8ff;}#sk-container-id-4 input.sk-toggleable__control:checked~div.sk-toggleable__content {max-height: 200px;max-width: 100%;overflow: auto;}#sk-container-id-4 input.sk-toggleable__control:checked~label.sk-toggleable__label-arrow:before {content: \"▾\";}#sk-container-id-4 div.sk-estimator input.sk-toggleable__control:checked~label.sk-toggleable__label {background-color: #d4ebff;}#sk-container-id-4 div.sk-label input.sk-toggleable__control:checked~label.sk-toggleable__label {background-color: #d4ebff;}#sk-container-id-4 input.sk-hidden--visually {border: 0;clip: rect(1px 1px 1px 1px);clip: rect(1px, 1px, 1px, 1px);height: 1px;margin: -1px;overflow: hidden;padding: 0;position: absolute;width: 1px;}#sk-container-id-4 div.sk-estimator {font-family: monospace;background-color: #f0f8ff;border: 1px dotted black;border-radius: 0.25em;box-sizing: border-box;margin-bottom: 0.5em;}#sk-container-id-4 div.sk-estimator:hover {background-color: #d4ebff;}#sk-container-id-4 div.sk-parallel-item::after {content: \"\";width: 100%;border-bottom: 1px solid gray;flex-grow: 1;}#sk-container-id-4 div.sk-label:hover label.sk-toggleable__label {background-color: #d4ebff;}#sk-container-id-4 div.sk-serial::before {content: \"\";position: absolute;border-left: 1px solid gray;box-sizing: border-box;top: 0;bottom: 0;left: 50%;z-index: 0;}#sk-container-id-4 div.sk-serial {display: flex;flex-direction: column;align-items: center;background-color: white;padding-right: 0.2em;padding-left: 0.2em;position: relative;}#sk-container-id-4 div.sk-item {position: relative;z-index: 1;}#sk-container-id-4 div.sk-parallel {display: flex;align-items: stretch;justify-content: center;background-color: white;position: relative;}#sk-container-id-4 div.sk-item::before, #sk-container-id-4 div.sk-parallel-item::before {content: \"\";position: absolute;border-left: 1px solid gray;box-sizing: border-box;top: 0;bottom: 0;left: 50%;z-index: -1;}#sk-container-id-4 div.sk-parallel-item {display: flex;flex-direction: column;z-index: 1;position: relative;background-color: white;}#sk-container-id-4 div.sk-parallel-item:first-child::after {align-self: flex-end;width: 50%;}#sk-container-id-4 div.sk-parallel-item:last-child::after {align-self: flex-start;width: 50%;}#sk-container-id-4 div.sk-parallel-item:only-child::after {width: 0;}#sk-container-id-4 div.sk-dashed-wrapped {border: 1px dashed gray;margin: 0 0.4em 0.5em 0.4em;box-sizing: border-box;padding-bottom: 0.4em;background-color: white;}#sk-container-id-4 div.sk-label label {font-family: monospace;font-weight: bold;display: inline-block;line-height: 1.2em;}#sk-container-id-4 div.sk-label-container {text-align: center;}#sk-container-id-4 div.sk-container {/* jupyter's `normalize.less` sets `[hidden] { display: none; }` but bootstrap.min.css set `[hidden] { display: none !important; }` so we also need the `!important` here to be able to override the default hidden behavior on the sphinx rendered scikit-learn.org. See: https://github.com/scikit-learn/scikit-learn/issues/21755 */display: inline-block !important;position: relative;}#sk-container-id-4 div.sk-text-repr-fallback {display: none;}</style><div id=\"sk-container-id-4\" class=\"sk-top-container\"><div class=\"sk-text-repr-fallback\"><pre>RandomForestRegressor(max_features=&#x27;auto&#x27;, n_jobs=-1, oob_score=True,\n",
              "                      random_state=12354)</pre><b>In a Jupyter environment, please rerun this cell to show the HTML representation or trust the notebook. <br />On GitHub, the HTML representation is unable to render, please try loading this page with nbviewer.org.</b></div><div class=\"sk-container\" hidden><div class=\"sk-item\"><div class=\"sk-estimator sk-toggleable\"><input class=\"sk-toggleable__control sk-hidden--visually\" id=\"sk-estimator-id-4\" type=\"checkbox\" checked><label for=\"sk-estimator-id-4\" class=\"sk-toggleable__label sk-toggleable__label-arrow\">RandomForestRegressor</label><div class=\"sk-toggleable__content\"><pre>RandomForestRegressor(max_features=&#x27;auto&#x27;, n_jobs=-1, oob_score=True,\n",
              "                      random_state=12354)</pre></div></div></div></div></div>"
            ]
          },
          "metadata": {},
          "execution_count": 51
        }
      ]
    },
    {
      "cell_type": "code",
      "source": [
        "model.score(X_train, y_train)"
      ],
      "metadata": {
        "colab": {
          "base_uri": "https://localhost:8080/"
        },
        "id": "7z53gQdz79lr",
        "outputId": "63b3f0fd-f637-4388-f860-fec09eaca71f"
      },
      "execution_count": 52,
      "outputs": [
        {
          "output_type": "execute_result",
          "data": {
            "text/plain": [
              "0.9814433652142011"
            ]
          },
          "metadata": {},
          "execution_count": 52
        }
      ]
    },
    {
      "cell_type": "markdown",
      "source": [
        "- A partir del coeficiente de determinacion, se puede ver que el modelo se adapta bien a los datos."
      ],
      "metadata": {
        "id": "JSAbBpmI8ph4"
      }
    },
    {
      "cell_type": "code",
      "source": [
        "y_predict = model.predict(X_test)"
      ],
      "metadata": {
        "id": "VgXaU0fQ3iPj"
      },
      "execution_count": 53,
      "outputs": []
    },
    {
      "cell_type": "code",
      "source": [
        "squared_error = mean_squared_error(\n",
        "    y_true = y_test,\n",
        "    y_pred = y_predict,\n",
        "    squared=False\n",
        ")"
      ],
      "metadata": {
        "id": "qwWmTb-k3mgp"
      },
      "execution_count": 54,
      "outputs": []
    },
    {
      "cell_type": "code",
      "source": [
        "print(f\"The test error is: {squared_error}\")"
      ],
      "metadata": {
        "colab": {
          "base_uri": "https://localhost:8080/"
        },
        "id": "a1THx8yw5ADg",
        "outputId": "ac061d4c-8c92-41b2-e852-32d748b98475"
      },
      "execution_count": 55,
      "outputs": [
        {
          "output_type": "stream",
          "name": "stdout",
          "text": [
            "The test error is: 3.0560664001466433\n"
          ]
        }
      ]
    },
    {
      "cell_type": "markdown",
      "source": [
        "- No es un error pronunciado"
      ],
      "metadata": {
        "id": "4VxN2dLyv-MH"
      }
    },
    {
      "cell_type": "markdown",
      "source": [
        "# **Seleccion del numero de estimadores**\n",
        "---"
      ],
      "metadata": {
        "id": "A4Ee_gh3TASb"
      }
    },
    {
      "cell_type": "markdown",
      "source": [
        "##**Validación empleando el Out-of-Bag error**\n",
        "---\n",
        "\n"
      ],
      "metadata": {
        "id": "xlZe0hhn6aEG"
      }
    },
    {
      "cell_type": "code",
      "source": [
        "train_scores = []\n",
        "oob_scores = []\n",
        "estimator_range = range(1, 150, 5)"
      ],
      "metadata": {
        "id": "C1bk_DT34M-7"
      },
      "execution_count": 56,
      "outputs": []
    },
    {
      "cell_type": "markdown",
      "source": [
        " **max_features**: el valor predeterminado de 1,0 es equivalente a árboles embolsados ​​y se puede lograr más aleatoriedad estableciendo valores más pequeños, por ejemplo, 0,3."
      ],
      "metadata": {
        "id": "y4-TpJl1wyho"
      }
    },
    {
      "cell_type": "code",
      "source": [
        "type(y_train)"
      ],
      "metadata": {
        "colab": {
          "base_uri": "https://localhost:8080/",
          "height": 204
        },
        "id": "StwdcyEW2y6a",
        "outputId": "c01891ed-af73-416d-eeae-defdf46a1bc6"
      },
      "execution_count": 57,
      "outputs": [
        {
          "output_type": "execute_result",
          "data": {
            "text/plain": [
              "pandas.core.series.Series"
            ],
            "text/html": [
              "<div style=\"max-width:800px; border: 1px solid var(--colab-border-color);\"><style>\n",
              "      pre.function-repr-contents {\n",
              "        overflow-x: auto;\n",
              "        padding: 8px 12px;\n",
              "        max-height: 500px;\n",
              "      }\n",
              "\n",
              "      pre.function-repr-contents.function-repr-contents-collapsed {\n",
              "        cursor: pointer;\n",
              "        max-height: 100px;\n",
              "      }\n",
              "    </style>\n",
              "    <pre style=\"white-space: initial; background:\n",
              "         var(--colab-secondary-surface-color); padding: 8px 12px;\n",
              "         border-bottom: 1px solid var(--colab-border-color);\"><b>pandas.core.series.Series</b><br/>def __init__(data=None, index=None, dtype: Dtype | None=None, name=None, copy: bool=False, fastpath: bool=False) -&gt; None</pre><pre class=\"function-repr-contents function-repr-contents-collapsed\" style=\"\"><a class=\"filepath\" style=\"display:none\" href=\"#\">/usr/local/lib/python3.10/dist-packages/pandas/core/series.py</a>One-dimensional ndarray with axis labels (including time series).\n",
              "\n",
              "Labels need not be unique but must be a hashable type. The object\n",
              "supports both integer- and label-based indexing and provides a host of\n",
              "methods for performing operations involving the index. Statistical\n",
              "methods from ndarray have been overridden to automatically exclude\n",
              "missing data (currently represented as NaN).\n",
              "\n",
              "Operations between Series (+, -, /, \\*, \\*\\*) align values based on their\n",
              "associated index values-- they need not be the same length. The result\n",
              "index will be the sorted union of the two indexes.\n",
              "\n",
              "Parameters\n",
              "----------\n",
              "data : array-like, Iterable, dict, or scalar value\n",
              "    Contains data stored in Series. If data is a dict, argument order is\n",
              "    maintained.\n",
              "index : array-like or Index (1d)\n",
              "    Values must be hashable and have the same length as `data`.\n",
              "    Non-unique index values are allowed. Will default to\n",
              "    RangeIndex (0, 1, 2, ..., n) if not provided. If data is dict-like\n",
              "    and index is None, then the keys in the data are used as the index. If the\n",
              "    index is not None, the resulting Series is reindexed with the index values.\n",
              "dtype : str, numpy.dtype, or ExtensionDtype, optional\n",
              "    Data type for the output Series. If not specified, this will be\n",
              "    inferred from `data`.\n",
              "    See the :ref:`user guide &lt;basics.dtypes&gt;` for more usages.\n",
              "name : str, optional\n",
              "    The name to give to the Series.\n",
              "copy : bool, default False\n",
              "    Copy input data. Only affects Series or 1d ndarray input. See examples.\n",
              "\n",
              "Notes\n",
              "-----\n",
              "Please reference the :ref:`User Guide &lt;basics.series&gt;` for more information.\n",
              "\n",
              "Examples\n",
              "--------\n",
              "Constructing Series from a dictionary with an Index specified\n",
              "\n",
              "&gt;&gt;&gt; d = {&#x27;a&#x27;: 1, &#x27;b&#x27;: 2, &#x27;c&#x27;: 3}\n",
              "&gt;&gt;&gt; ser = pd.Series(data=d, index=[&#x27;a&#x27;, &#x27;b&#x27;, &#x27;c&#x27;])\n",
              "&gt;&gt;&gt; ser\n",
              "a   1\n",
              "b   2\n",
              "c   3\n",
              "dtype: int64\n",
              "\n",
              "The keys of the dictionary match with the Index values, hence the Index\n",
              "values have no effect.\n",
              "\n",
              "&gt;&gt;&gt; d = {&#x27;a&#x27;: 1, &#x27;b&#x27;: 2, &#x27;c&#x27;: 3}\n",
              "&gt;&gt;&gt; ser = pd.Series(data=d, index=[&#x27;x&#x27;, &#x27;y&#x27;, &#x27;z&#x27;])\n",
              "&gt;&gt;&gt; ser\n",
              "x   NaN\n",
              "y   NaN\n",
              "z   NaN\n",
              "dtype: float64\n",
              "\n",
              "Note that the Index is first build with the keys from the dictionary.\n",
              "After this the Series is reindexed with the given Index values, hence we\n",
              "get all NaN as a result.\n",
              "\n",
              "Constructing Series from a list with `copy=False`.\n",
              "\n",
              "&gt;&gt;&gt; r = [1, 2]\n",
              "&gt;&gt;&gt; ser = pd.Series(r, copy=False)\n",
              "&gt;&gt;&gt; ser.iloc[0] = 999\n",
              "&gt;&gt;&gt; r\n",
              "[1, 2]\n",
              "&gt;&gt;&gt; ser\n",
              "0    999\n",
              "1      2\n",
              "dtype: int64\n",
              "\n",
              "Due to input data type the Series has a `copy` of\n",
              "the original data even though `copy=False`, so\n",
              "the data is unchanged.\n",
              "\n",
              "Constructing Series from a 1d ndarray with `copy=False`.\n",
              "\n",
              "&gt;&gt;&gt; r = np.array([1, 2])\n",
              "&gt;&gt;&gt; ser = pd.Series(r, copy=False)\n",
              "&gt;&gt;&gt; ser.iloc[0] = 999\n",
              "&gt;&gt;&gt; r\n",
              "array([999,   2])\n",
              "&gt;&gt;&gt; ser\n",
              "0    999\n",
              "1      2\n",
              "dtype: int64\n",
              "\n",
              "Due to input data type the Series has a `view` on\n",
              "the original data, so\n",
              "the data is changed as well.</pre>\n",
              "      <script>\n",
              "      if (google.colab.kernel.accessAllowed && google.colab.files && google.colab.files.view) {\n",
              "        for (const element of document.querySelectorAll('.filepath')) {\n",
              "          element.style.display = 'block'\n",
              "          element.onclick = (event) => {\n",
              "            event.preventDefault();\n",
              "            event.stopPropagation();\n",
              "            google.colab.files.view(element.textContent, 216);\n",
              "          };\n",
              "        }\n",
              "      }\n",
              "      for (const element of document.querySelectorAll('.function-repr-contents')) {\n",
              "        element.onclick = (event) => {\n",
              "          event.preventDefault();\n",
              "          event.stopPropagation();\n",
              "          element.classList.toggle('function-repr-contents-collapsed');\n",
              "        };\n",
              "      }\n",
              "      </script>\n",
              "      </div>"
            ]
          },
          "metadata": {},
          "execution_count": 57
        }
      ]
    },
    {
      "cell_type": "code",
      "source": [
        "dic_params = {\n",
        "    \"criterion\":'squared_error',\n",
        "    \"max_depth\":None, #profundidad máxima que pueden alcanzar los árboles.\n",
        "    \"max_features\":'auto', # Numero de caracteristicas\n",
        "    \"oob_score\":True, # Si se calcula o no el out-of-bag R^2.\n",
        "    \"n_jobs\":-1,\n",
        "    \"random_state\":12354\n",
        "}\n",
        "model = create_model(**dic_params)\n",
        "train_scores, oob_scores = training_validation_loop(\n",
        "    model,\n",
        "    estimator_range,\n",
        "    X_train,\n",
        "    y_train\n",
        ")\n"
      ],
      "metadata": {
        "id": "L3swFSw472Ma"
      },
      "execution_count": 58,
      "outputs": []
    },
    {
      "cell_type": "code",
      "source": [
        "np.argmax(oob_scores)"
      ],
      "metadata": {
        "colab": {
          "base_uri": "https://localhost:8080/"
        },
        "id": "V6iLAZoE43VW",
        "outputId": "c5025180-23aa-4d20-8238-24f7620a35c6"
      },
      "execution_count": 59,
      "outputs": [
        {
          "output_type": "execute_result",
          "data": {
            "text/plain": [
              "11"
            ]
          },
          "metadata": {},
          "execution_count": 59
        }
      ]
    },
    {
      "cell_type": "code",
      "source": [
        "oob_scores[11]"
      ],
      "metadata": {
        "id": "_ieqA3E8MVYu",
        "outputId": "a7ce4814-6322-450d-8f91-2a3be6283c2d",
        "colab": {
          "base_uri": "https://localhost:8080/"
        }
      },
      "execution_count": 60,
      "outputs": [
        {
          "output_type": "execute_result",
          "data": {
            "text/plain": [
              "0.8713767233011684"
            ]
          },
          "metadata": {},
          "execution_count": 60
        }
      ]
    },
    {
      "cell_type": "code",
      "source": [
        "estimator_range[np.argmax(oob_scores)]"
      ],
      "metadata": {
        "colab": {
          "base_uri": "https://localhost:8080/"
        },
        "id": "KjLni0rjB3TP",
        "outputId": "1dcca82b-7ddc-48a2-a9d4-d935bc9e959e"
      },
      "execution_count": 61,
      "outputs": [
        {
          "output_type": "execute_result",
          "data": {
            "text/plain": [
              "56"
            ]
          },
          "metadata": {},
          "execution_count": 61
        }
      ]
    },
    {
      "cell_type": "markdown",
      "source": [
        "- El numero optimo de estimadores es 56"
      ],
      "metadata": {
        "id": "ko2ewR8Q5tIr"
      }
    },
    {
      "cell_type": "code",
      "source": [
        "diict_labels = {\n",
        "    'X_label' : \"train scores\",\n",
        "    'y_label' : \"out-of-bag scores\",\n",
        "    'title' : \"Evolución del out-of-bag-error vs número árboles\"\n",
        "}\n",
        "error_vs_nstimators(train_scores, oob_scores, estimator_range, **diict_labels)"
      ],
      "metadata": {
        "colab": {
          "base_uri": "https://localhost:8080/",
          "height": 437
        },
        "id": "1-lGAEBT6X_Q",
        "outputId": "fa850c89-5f08-4730-9431-4e8f3d7e10f2"
      },
      "execution_count": 62,
      "outputs": [
        {
          "output_type": "stream",
          "name": "stdout",
          "text": [
            "Valor óptimo de n_estimators: 56\n"
          ]
        },
        {
          "output_type": "display_data",
          "data": {
            "text/plain": [
              "<Figure size 1000x400 with 1 Axes>"
            ],
            "image/png": "[encoded data removed]"
          },
          "metadata": {}
        }
      ]
    },
    {
      "cell_type": "markdown",
      "source": [
        "##**Validación empleando k-cross-validation y neg_root_mean_squared_error**\n",
        "---"
      ],
      "metadata": {
        "id": "GeqniAkqxPmd"
      }
    },
    {
      "cell_type": "code",
      "source": [
        "train_scores = []\n",
        "cv_scores = []\n",
        "dic_params = {\n",
        "    'criterion': 'squared_error',\n",
        "    'max_depth': None,\n",
        "    'max_features': 'auto',\n",
        "    'oob_score': False,\n",
        "    'n_jobs': -1,\n",
        "    \"random_state\":12354\n",
        "}\n",
        "\n",
        "model = create_model(**dic_params)\n",
        "train_scores, cv_scores = training_validation_loop(\n",
        "    model,\n",
        "    estimator_range,\n",
        "    X_train,\n",
        "    y_train\n",
        ")"
      ],
      "metadata": {
        "id": "VZceSIvpMp6D"
      },
      "execution_count": 64,
      "outputs": []
    },
    {
      "cell_type": "code",
      "source": [
        "fig, ax = plt.subplots(figsize=(6, 3.84))\n",
        "ax.plot(estimator_range, train_scores, label=\"train scores\")\n",
        "ax.plot(estimator_range, cv_scores, label=\"cv scores\")\n",
        "ax.plot(estimator_range[np.argmin(cv_scores)], min(cv_scores),\n",
        "        marker='o', color = \"red\", label=\"min score\")\n",
        "ax.set_ylabel(\"root_mean_squared_error\")\n",
        "ax.set_xlabel(\"n_estimators\")\n",
        "ax.set_title(\"Evolución del cv-error vs número árboles\")\n",
        "plt.legend();\n",
        "print(f\"Valor óptimo de n_estimators: {estimator_range[np.argmin(cv_scores)]}\")"
      ],
      "metadata": {
        "colab": {
          "base_uri": "https://localhost:8080/",
          "height": 425
        },
        "id": "GruiGdEYFZoE",
        "outputId": "627a1a37-3dff-4641-b1aa-7eafda11d576"
      },
      "execution_count": 65,
      "outputs": [
        {
          "output_type": "stream",
          "name": "stdout",
          "text": [
            "Valor óptimo de n_estimators: 136\n"
          ]
        },
        {
          "output_type": "display_data",
          "data": {
            "text/plain": [
              "<Figure size 600x384 with 1 Axes>"
            ],
            "image/png": "[encoded data removed]"
          },
          "metadata": {}
        }
      ]
    },
    {
      "cell_type": "markdown",
      "source": [
        "Ambas métricas indican que, a partir de entre 56 y 136 árboles, el error de validación del modelo se estabiliza."
      ],
      "metadata": {
        "id": "iAiWXOsGI-QT"
      }
    },
    {
      "cell_type": "markdown",
      "source": [
        "# **Max features**\n",
        "---\n",
        "\n",
        "El valor de máx_features es uno de los hiperparámetros más importantes de random forest, ya que es el que permite controlar cuánto se decorrelacionan los árboles entre sí.\n"
      ],
      "metadata": {
        "id": "J2AF-hh8TKxI"
      }
    },
    {
      "cell_type": "markdown",
      "source": [
        "# **Validación empleando el Out-of-Bag error**\n",
        "---"
      ],
      "metadata": {
        "id": "D2yUV4oGZ4r4"
      }
    },
    {
      "cell_type": "code",
      "source": [
        "dic_params = {\n",
        "    \"n_estimators\": 100,\n",
        "    \"criterion\": 'squared_error',\n",
        "    \"max_depth\": True,\n",
        "    \"oob_score\":True,\n",
        "    \"n_jobs\": -1,\n",
        "    \"random_state\":12354\n",
        "}\n",
        "\n",
        "model = create_model(**dic_params)"
      ],
      "metadata": {
        "id": "0YYwKP0CQbli"
      },
      "execution_count": 66,
      "outputs": []
    },
    {
      "cell_type": "code",
      "source": [
        "train_scores, oob_scores = [], []\n",
        "\n",
        "max_feature_range = range(1, X_train.shape[1]+1, 1)\n",
        "max_feature_range"
      ],
      "metadata": {
        "id": "yjG2s26cRUSS",
        "outputId": "fab84baa-fa55-4b3a-9463-b1c68ebb166d",
        "colab": {
          "base_uri": "https://localhost:8080/"
        }
      },
      "execution_count": 67,
      "outputs": [
        {
          "output_type": "execute_result",
          "data": {
            "text/plain": [
              "range(1, 14)"
            ]
          },
          "metadata": {},
          "execution_count": 67
        }
      ]
    },
    {
      "cell_type": "code",
      "source": [
        "for max_feature in max_feature_range:\n",
        "  model.max_features = max_feature\n",
        "  model.fit(X_train, y_train)\n",
        "  train_scores.append(model.score(X_train, y_train))\n",
        "  oob_scores.append(model.oob_score_)\n"
      ],
      "metadata": {
        "id": "iTY6WP-KRq4I"
      },
      "execution_count": 69,
      "outputs": []
    },
    {
      "cell_type": "code",
      "source": [
        "fig, ax = plt.subplots(figsize=(6, 3.84))\n",
        "ax.plot(max_feature_range, train_scores, label=\"train scores\")\n",
        "ax.plot(max_feature_range, oob_scores, label=\"out-of-bag scores\")\n",
        "ax.plot(max_feature_range[np.argmax(oob_scores)], max(oob_scores),\n",
        "        marker='o', color = \"red\")\n",
        "ax.set_ylabel(\"R^2\")\n",
        "ax.set_xlabel(\"max_features\")\n",
        "ax.set_title(\"Evolución del out-of-bag-error vs número de predictores\")\n",
        "plt.legend();\n",
        "print(f\"Valor óptimo de max_features: {max_feature_range[np.argmax(oob_scores)]}\")"
      ],
      "metadata": {
        "id": "s68GoksRWWmh",
        "outputId": "fd00bda4-a7ae-4288-8371-351a0f44ddf4",
        "colab": {
          "base_uri": "https://localhost:8080/",
          "height": 425
        }
      },
      "execution_count": 70,
      "outputs": [
        {
          "output_type": "stream",
          "name": "stdout",
          "text": [
            "Valor óptimo de max_features: 9\n"
          ]
        },
        {
          "output_type": "display_data",
          "data": {
            "text/plain": [
              "<Figure size 600x384 with 1 Axes>"
            ],
            "image/png": "[encoded data removed]"
          },
          "metadata": {}
        }
      ]
    },
    {
      "cell_type": "markdown",
      "source": [
        "# **Validación empleando k-cross-validation y neg_root_mean_squared_error**\n",
        "---"
      ],
      "metadata": {
        "id": "bk2PE1RUahYe"
      }
    },
    {
      "cell_type": "code",
      "source": [
        "train_scores, cv_scores = [], []\n",
        "for max_feature in max_feature_range:\n",
        "  model.max_features = max_feature\n",
        "  model.fit(X_train, y_train)\n",
        "  y_predict = model.predict(X_train)\n",
        "  rmse = mean_squared_error(\n",
        "      y_train,\n",
        "      y_predict,\n",
        "      squared = False\n",
        "  )\n",
        "  train_scores.append(rmse)\n",
        "  scores = cross_val_score(\n",
        "      model,\n",
        "      X_train,\n",
        "      y_train,\n",
        "      scoring = 'neg_root_mean_squared_error',\n",
        "      cv = 5\n",
        "  )\n",
        "  cv_scores.append(-1*scores.mean())"
      ],
      "metadata": {
        "id": "R2VYydgWXCHN"
      },
      "execution_count": 71,
      "outputs": []
    },
    {
      "cell_type": "code",
      "source": [
        "fig, ax = plt.subplots(figsize=(6, 3.84))\n",
        "ax.plot(max_feature_range, train_scores, label=\"train scores\")\n",
        "ax.plot(max_feature_range, cv_scores, label=\"cv scores\")\n",
        "ax.plot(max_feature_range[np.argmin(cv_scores)], min(cv_scores),\n",
        "        marker='o', color = \"red\", label=\"min score\")\n",
        "ax.set_ylabel(\"root_mean_squared_error\")\n",
        "ax.set_xlabel(\"max_features\")\n",
        "ax.set_title(\"Evolución del cv-error vs número de predictores\")\n",
        "plt.legend();\n",
        "print(f\"Valor óptimo de max_features: {max_feature_range[np.argmin(cv_scores)]}\")"
      ],
      "metadata": {
        "id": "PbO3K3-ocuK6",
        "outputId": "726a42d4-3ba2-428d-a270-cc3fd2ba3531",
        "colab": {
          "base_uri": "https://localhost:8080/",
          "height": 425
        }
      },
      "execution_count": 72,
      "outputs": [
        {
          "output_type": "stream",
          "name": "stdout",
          "text": [
            "Valor óptimo de max_features: 9\n"
          ]
        },
        {
          "output_type": "display_data",
          "data": {
            "text/plain": [
              "<Figure size 600x384 with 1 Axes>"
            ],
            "image/png": "[encoded data removed]"
          },
          "metadata": {}
        }
      ]
    },
    {
      "cell_type": "markdown",
      "source": [
        "Acorde a las dos métricas utilizadas, el valor óptimo de max_features está entre 9 y 11."
      ],
      "metadata": {
        "id": "CW_4wNQ3dN1L"
      }
    },
    {
      "cell_type": "markdown",
      "source": [
        "La búsqueda final no debe hacerse de forma secuencial, ya que cada hiperparámetro interacciona con los demás. Es preferible recurrir a grid search o random search para analizar varias combinaciones de hiperparámetros."
      ],
      "metadata": {
        "id": "SQMyZTzSdanJ"
      }
    },
    {
      "cell_type": "markdown",
      "source": [
        "# **Grid Search basado en out-of-bag error**\n",
        "---\n"
      ],
      "metadata": {
        "id": "v29m23bPeeMi"
      }
    },
    {
      "cell_type": "code",
      "source": [
        "dict_params = ParameterGrid(\n",
        "    {\n",
        "        'n_estimators': [100, 150, 200],\n",
        "        'max_features': [5, 8, 11],\n",
        "        'max_depth': [None, 3, 10, 20]\n",
        "    }\n",
        ")"
      ],
      "metadata": {
        "id": "lE8XKX1ScDFj"
      },
      "execution_count": 75,
      "outputs": []
    },
    {
      "cell_type": "code",
      "source": [
        "resultados = {\n",
        "    'params': [],\n",
        "    'oob_r2': []\n",
        "}"
      ],
      "metadata": {
        "id": "kpHjPHPGecJa"
      },
      "execution_count": 73,
      "outputs": []
    },
    {
      "cell_type": "code",
      "source": [
        "for params in dict_params:\n",
        "  model = RandomForestRegressor(\n",
        "        oob_score    = True,\n",
        "        n_jobs       = -1,\n",
        "        random_state = 12354,\n",
        "        **params\n",
        "      )\n",
        "  model.fit(X_train, y_train)\n",
        "  resultados['params'].append(params)\n",
        "  resultados['oob_r2'].append(model.oob_score_)\n",
        "  print(f\"Modelo: {params} \\u2713\")"
      ],
      "metadata": {
        "id": "PeakjQiOezNG",
        "outputId": "53add431-43dc-4203-8a60-d01bd39b3e15",
        "colab": {
          "base_uri": "https://localhost:8080/"
        }
      },
      "execution_count": 77,
      "outputs": [
        {
          "output_type": "stream",
          "name": "stdout",
          "text": [
            "Modelo: {'max_depth': None, 'max_features': 5, 'n_estimators': 100} ✓\n",
            "Modelo: {'max_depth': None, 'max_features': 5, 'n_estimators': 150} ✓\n",
            "Modelo: {'max_depth': None, 'max_features': 5, 'n_estimators': 200} ✓\n",
            "Modelo: {'max_depth': None, 'max_features': 8, 'n_estimators': 100} ✓\n",
            "Modelo: {'max_depth': None, 'max_features': 8, 'n_estimators': 150} ✓\n",
            "Modelo: {'max_depth': None, 'max_features': 8, 'n_estimators': 200} ✓\n",
            "Modelo: {'max_depth': None, 'max_features': 11, 'n_estimators': 100} ✓\n",
            "Modelo: {'max_depth': None, 'max_features': 11, 'n_estimators': 150} ✓\n",
            "Modelo: {'max_depth': None, 'max_features': 11, 'n_estimators': 200} ✓\n",
            "Modelo: {'max_depth': 3, 'max_features': 5, 'n_estimators': 100} ✓\n",
            "Modelo: {'max_depth': 3, 'max_features': 5, 'n_estimators': 150} ✓\n",
            "Modelo: {'max_depth': 3, 'max_features': 5, 'n_estimators': 200} ✓\n",
            "Modelo: {'max_depth': 3, 'max_features': 8, 'n_estimators': 100} ✓\n",
            "Modelo: {'max_depth': 3, 'max_features': 8, 'n_estimators': 150} ✓\n",
            "Modelo: {'max_depth': 3, 'max_features': 8, 'n_estimators': 200} ✓\n",
            "Modelo: {'max_depth': 3, 'max_features': 11, 'n_estimators': 100} ✓\n",
            "Modelo: {'max_depth': 3, 'max_features': 11, 'n_estimators': 150} ✓\n",
            "Modelo: {'max_depth': 3, 'max_features': 11, 'n_estimators': 200} ✓\n",
            "Modelo: {'max_depth': 10, 'max_features': 5, 'n_estimators': 100} ✓\n",
            "Modelo: {'max_depth': 10, 'max_features': 5, 'n_estimators': 150} ✓\n",
            "Modelo: {'max_depth': 10, 'max_features': 5, 'n_estimators': 200} ✓\n",
            "Modelo: {'max_depth': 10, 'max_features': 8, 'n_estimators': 100} ✓\n",
            "Modelo: {'max_depth': 10, 'max_features': 8, 'n_estimators': 150} ✓\n",
            "Modelo: {'max_depth': 10, 'max_features': 8, 'n_estimators': 200} ✓\n",
            "Modelo: {'max_depth': 10, 'max_features': 11, 'n_estimators': 100} ✓\n",
            "Modelo: {'max_depth': 10, 'max_features': 11, 'n_estimators': 150} ✓\n",
            "Modelo: {'max_depth': 10, 'max_features': 11, 'n_estimators': 200} ✓\n",
            "Modelo: {'max_depth': 20, 'max_features': 5, 'n_estimators': 100} ✓\n",
            "Modelo: {'max_depth': 20, 'max_features': 5, 'n_estimators': 150} ✓\n",
            "Modelo: {'max_depth': 20, 'max_features': 5, 'n_estimators': 200} ✓\n",
            "Modelo: {'max_depth': 20, 'max_features': 8, 'n_estimators': 100} ✓\n",
            "Modelo: {'max_depth': 20, 'max_features': 8, 'n_estimators': 150} ✓\n",
            "Modelo: {'max_depth': 20, 'max_features': 8, 'n_estimators': 200} ✓\n",
            "Modelo: {'max_depth': 20, 'max_features': 11, 'n_estimators': 100} ✓\n",
            "Modelo: {'max_depth': 20, 'max_features': 11, 'n_estimators': 150} ✓\n",
            "Modelo: {'max_depth': 20, 'max_features': 11, 'n_estimators': 200} ✓\n"
          ]
        }
      ]
    },
    {
      "cell_type": "code",
      "source": [
        "resultados = pd.DataFrame(resultados)\n",
        "resultados = pd.concat(\n",
        "    [resultados, resultados['params'].apply(pd.Series)], axis=1)\n",
        "\n",
        "resultados = resultados.drop(columns = 'params')\n",
        "resultados = resultados.sort_values('oob_r2', ascending=False)\n",
        "resultados.head(4)"
      ],
      "metadata": {
        "id": "ZpdbtAFohNY7",
        "outputId": "d3b1b329-8c07-4c90-8f01-7771a51a15b0",
        "colab": {
          "base_uri": "https://localhost:8080/",
          "height": 175
        }
      },
      "execution_count": 79,
      "outputs": [
        {
          "output_type": "execute_result",
          "data": {
            "text/plain": [
              "      oob_r2  max_depth  max_features  n_estimators\n",
              "23  0.876540       10.0           8.0         200.0\n",
              "5   0.875958        NaN           8.0         200.0\n",
              "32  0.875295       20.0           8.0         200.0\n",
              "8   0.875012        NaN          11.0         200.0"
            ],
            "text/html": [
              "\n",
              "  <div id=\"df-846c00f3-a276-4bc5-ba1c-9220727c9b4d\" class=\"colab-df-container\">\n",
              "    <div>\n",
              "<style scoped>\n",
              "    .dataframe tbody tr th:only-of-type {\n",
              "        vertical-align: middle;\n",
              "    }\n",
              "\n",
              "    .dataframe tbody tr th {\n",
              "        vertical-align: top;\n",
              "    }\n",
              "\n",
              "    .dataframe thead th {\n",
              "        text-align: right;\n",
              "    }\n",
              "</style>\n",
              "<table border=\"1\" class=\"dataframe\">\n",
              "  <thead>\n",
              "    <tr style=\"text-align: right;\">\n",
              "      <th></th>\n",
              "      <th>oob_r2</th>\n",
              "      <th>max_depth</th>\n",
              "      <th>max_features</th>\n",
              "      <th>n_estimators</th>\n",
              "    </tr>\n",
              "  </thead>\n",
              "  <tbody>\n",
              "    <tr>\n",
              "      <th>23</th>\n",
              "      <td>0.876540</td>\n",
              "      <td>10.0</td>\n",
              "      <td>8.0</td>\n",
              "      <td>200.0</td>\n",
              "    </tr>\n",
              "    <tr>\n",
              "      <th>5</th>\n",
              "      <td>0.875958</td>\n",
              "      <td>NaN</td>\n",
              "      <td>8.0</td>\n",
              "      <td>200.0</td>\n",
              "    </tr>\n",
              "    <tr>\n",
              "      <th>32</th>\n",
              "      <td>0.875295</td>\n",
              "      <td>20.0</td>\n",
              "      <td>8.0</td>\n",
              "      <td>200.0</td>\n",
              "    </tr>\n",
              "    <tr>\n",
              "      <th>8</th>\n",
              "      <td>0.875012</td>\n",
              "      <td>NaN</td>\n",
              "      <td>11.0</td>\n",
              "      <td>200.0</td>\n",
              "    </tr>\n",
              "  </tbody>\n",
              "</table>\n",
              "</div>\n",
              "    <div class=\"colab-df-buttons\">\n",
              "\n",
              "  <div class=\"colab-df-container\">\n",
              "    <button class=\"colab-df-convert\" onclick=\"convertToInteractive('df-846c00f3-a276-4bc5-ba1c-9220727c9b4d')\"\n",
              "            title=\"Convert this dataframe to an interactive table.\"\n",
              "            style=\"display:none;\">\n",
              "\n",
              "  <svg xmlns=\"http://www.w3.org/2000/svg\" height=\"24px\" viewBox=\"0 -960 960 960\">\n",
              "    <path d=\"M120-120v-720h720v720H120Zm60-500h600v-160H180v160Zm220 220h160v-160H400v160Zm0 220h160v-160H400v160ZM180-400h160v-160H180v160Zm440 0h160v-160H620v160ZM180-180h160v-160H180v160Zm440 0h160v-160H620v160Z\"/>\n",
              "  </svg>\n",
              "    </button>\n",
              "\n",
              "  <style>\n",
              "    .colab-df-container {\n",
              "      display:flex;\n",
              "      gap: 12px;\n",
              "    }\n",
              "\n",
              "    .colab-df-convert {\n",
              "      background-color: #E8F0FE;\n",
              "      border: none;\n",
              "      border-radius: 50%;\n",
              "      cursor: pointer;\n",
              "      display: none;\n",
              "      fill: #1967D2;\n",
              "      height: 32px;\n",
              "      padding: 0 0 0 0;\n",
              "      width: 32px;\n",
              "    }\n",
              "\n",
              "    .colab-df-convert:hover {\n",
              "      background-color: #E2EBFA;\n",
              "      box-shadow: 0px 1px 2px rgba(60, 64, 67, 0.3), 0px 1px 3px 1px rgba(60, 64, 67, 0.15);\n",
              "      fill: #174EA6;\n",
              "    }\n",
              "\n",
              "    .colab-df-buttons div {\n",
              "      margin-bottom: 4px;\n",
              "    }\n",
              "\n",
              "    [theme=dark] .colab-df-convert {\n",
              "      background-color: #3B4455;\n",
              "      fill: #D2E3FC;\n",
              "    }\n",
              "\n",
              "    [theme=dark] .colab-df-convert:hover {\n",
              "      background-color: #434B5C;\n",
              "      box-shadow: 0px 1px 3px 1px rgba(0, 0, 0, 0.15);\n",
              "      filter: drop-shadow(0px 1px 2px rgba(0, 0, 0, 0.3));\n",
              "      fill: #FFFFFF;\n",
              "    }\n",
              "  </style>\n",
              "\n",
              "    <script>\n",
              "      const buttonEl =\n",
              "        document.querySelector('#df-846c00f3-a276-4bc5-ba1c-9220727c9b4d button.colab-df-convert');\n",
              "      buttonEl.style.display =\n",
              "        google.colab.kernel.accessAllowed ? 'block' : 'none';\n",
              "\n",
              "      async function convertToInteractive(key) {\n",
              "        const element = document.querySelector('#df-846c00f3-a276-4bc5-ba1c-9220727c9b4d');\n",
              "        const dataTable =\n",
              "          await google.colab.kernel.invokeFunction('convertToInteractive',\n",
              "                                                    [key], {});\n",
              "        if (!dataTable) return;\n",
              "\n",
              "        const docLinkHtml = 'Like what you see? Visit the ' +\n",
              "          '<a target=\"_blank\" href=https://colab.research.google.com/notebooks/data_table.ipynb>data table notebook</a>'\n",
              "          + ' to learn more about interactive tables.';\n",
              "        element.innerHTML = '';\n",
              "        dataTable['output_type'] = 'display_data';\n",
              "        await google.colab.output.renderOutput(dataTable, element);\n",
              "        const docLink = document.createElement('div');\n",
              "        docLink.innerHTML = docLinkHtml;\n",
              "        element.appendChild(docLink);\n",
              "      }\n",
              "    </script>\n",
              "  </div>\n",
              "\n",
              "\n",
              "<div id=\"df-f4b3c8eb-79d2-473a-8d2a-c23c299796e9\">\n",
              "  <button class=\"colab-df-quickchart\" onclick=\"quickchart('df-f4b3c8eb-79d2-473a-8d2a-c23c299796e9')\"\n",
              "            title=\"Suggest charts\"\n",
              "            style=\"display:none;\">\n",
              "\n",
              "<svg xmlns=\"http://www.w3.org/2000/svg\" height=\"24px\"viewBox=\"0 0 24 24\"\n",
              "     width=\"24px\">\n",
              "    <g>\n",
              "        <path d=\"M19 3H5c-1.1 0-2 .9-2 2v14c0 1.1.9 2 2 2h14c1.1 0 2-.9 2-2V5c0-1.1-.9-2-2-2zM9 17H7v-7h2v7zm4 0h-2V7h2v10zm4 0h-2v-4h2v4z\"/>\n",
              "    </g>\n",
              "</svg>\n",
              "  </button>\n",
              "\n",
              "<style>\n",
              "  .colab-df-quickchart {\n",
              "      --bg-color: #E8F0FE;\n",
              "      --fill-color: #1967D2;\n",
              "      --hover-bg-color: #E2EBFA;\n",
              "      --hover-fill-color: #174EA6;\n",
              "      --disabled-fill-color: #AAA;\n",
              "      --disabled-bg-color: #DDD;\n",
              "  }\n",
              "\n",
              "  [theme=dark] .colab-df-quickchart {\n",
              "      --bg-color: #3B4455;\n",
              "      --fill-color: #D2E3FC;\n",
              "      --hover-bg-color: #434B5C;\n",
              "      --hover-fill-color: #FFFFFF;\n",
              "      --disabled-bg-color: #3B4455;\n",
              "      --disabled-fill-color: #666;\n",
              "  }\n",
              "\n",
              "  .colab-df-quickchart {\n",
              "    background-color: var(--bg-color);\n",
              "    border: none;\n",
              "    border-radius: 50%;\n",
              "    cursor: pointer;\n",
              "    display: none;\n",
              "    fill: var(--fill-color);\n",
              "    height: 32px;\n",
              "    padding: 0;\n",
              "    width: 32px;\n",
              "  }\n",
              "\n",
              "  .colab-df-quickchart:hover {\n",
              "    background-color: var(--hover-bg-color);\n",
              "    box-shadow: 0 1px 2px rgba(60, 64, 67, 0.3), 0 1px 3px 1px rgba(60, 64, 67, 0.15);\n",
              "    fill: var(--button-hover-fill-color);\n",
              "  }\n",
              "\n",
              "  .colab-df-quickchart-complete:disabled,\n",
              "  .colab-df-quickchart-complete:disabled:hover {\n",
              "    background-color: var(--disabled-bg-color);\n",
              "    fill: var(--disabled-fill-color);\n",
              "    box-shadow: none;\n",
              "  }\n",
              "\n",
              "  .colab-df-spinner {\n",
              "    border: 2px solid var(--fill-color);\n",
              "    border-color: transparent;\n",
              "    border-bottom-color: var(--fill-color);\n",
              "    animation:\n",
              "      spin 1s steps(1) infinite;\n",
              "  }\n",
              "\n",
              "  @keyframes spin {\n",
              "    0% {\n",
              "      border-color: transparent;\n",
              "      border-bottom-color: var(--fill-color);\n",
              "      border-left-color: var(--fill-color);\n",
              "    }\n",
              "    20% {\n",
              "      border-color: transparent;\n",
              "      border-left-color: var(--fill-color);\n",
              "      border-top-color: var(--fill-color);\n",
              "    }\n",
              "    30% {\n",
              "      border-color: transparent;\n",
              "      border-left-color: var(--fill-color);\n",
              "      border-top-color: var(--fill-color);\n",
              "      border-right-color: var(--fill-color);\n",
              "    }\n",
              "    40% {\n",
              "      border-color: transparent;\n",
              "      border-right-color: var(--fill-color);\n",
              "      border-top-color: var(--fill-color);\n",
              "    }\n",
              "    60% {\n",
              "      border-color: transparent;\n",
              "      border-right-color: var(--fill-color);\n",
              "    }\n",
              "    80% {\n",
              "      border-color: transparent;\n",
              "      border-right-color: var(--fill-color);\n",
              "      border-bottom-color: var(--fill-color);\n",
              "    }\n",
              "    90% {\n",
              "      border-color: transparent;\n",
              "      border-bottom-color: var(--fill-color);\n",
              "    }\n",
              "  }\n",
              "</style>\n",
              "\n",
              "  <script>\n",
              "    async function quickchart(key) {\n",
              "      const quickchartButtonEl =\n",
              "        document.querySelector('#' + key + ' button');\n",
              "      quickchartButtonEl.disabled = true;  // To prevent multiple clicks.\n",
              "      quickchartButtonEl.classList.add('colab-df-spinner');\n",
              "      try {\n",
              "        const charts = await google.colab.kernel.invokeFunction(\n",
              "            'suggestCharts', [key], {});\n",
              "      } catch (error) {\n",
              "        console.error('Error during call to suggestCharts:', error);\n",
              "      }\n",
              "      quickchartButtonEl.classList.remove('colab-df-spinner');\n",
              "      quickchartButtonEl.classList.add('colab-df-quickchart-complete');\n",
              "    }\n",
              "    (() => {\n",
              "      let quickchartButtonEl =\n",
              "        document.querySelector('#df-f4b3c8eb-79d2-473a-8d2a-c23c299796e9 button');\n",
              "      quickchartButtonEl.style.display =\n",
              "        google.colab.kernel.accessAllowed ? 'block' : 'none';\n",
              "    })();\n",
              "  </script>\n",
              "</div>\n",
              "\n",
              "    </div>\n",
              "  </div>\n"
            ],
            "application/vnd.google.colaboratory.intrinsic+json": {
              "type": "dataframe",
              "variable_name": "resultados",
              "summary": "{\n  \"name\": \"resultados\",\n  \"rows\": 36,\n  \"fields\": [\n    {\n      \"column\": \"oob_r2\",\n      \"properties\": {\n        \"dtype\": \"number\",\n        \"std\": 0.03361086811937813,\n        \"min\": 0.7748685388705565,\n        \"max\": 0.8765402688217208,\n        \"num_unique_values\": 36,\n        \"samples\": [\n          0.7748685388705565,\n          0.8716394830258094,\n          0.8603715070152106\n        ],\n        \"semantic_type\": \"\",\n        \"description\": \"\"\n      }\n    },\n    {\n      \"column\": \"max_depth\",\n      \"properties\": {\n        \"dtype\": \"number\",\n        \"std\": 7.109040831115091,\n        \"min\": 3.0,\n        \"max\": 20.0,\n        \"num_unique_values\": 3,\n        \"samples\": [\n          10.0,\n          20.0,\n          3.0\n        ],\n        \"semantic_type\": \"\",\n        \"description\": \"\"\n      }\n    },\n    {\n      \"column\": \"max_features\",\n      \"properties\": {\n        \"dtype\": \"number\",\n        \"std\": 2.4842360136324753,\n        \"min\": 5.0,\n        \"max\": 11.0,\n        \"num_unique_values\": 3,\n        \"samples\": [\n          8.0,\n          11.0,\n          5.0\n        ],\n        \"semantic_type\": \"\",\n        \"description\": \"\"\n      }\n    },\n    {\n      \"column\": \"n_estimators\",\n      \"properties\": {\n        \"dtype\": \"number\",\n        \"std\": 41.403933560541255,\n        \"min\": 100.0,\n        \"max\": 200.0,\n        \"num_unique_values\": 3,\n        \"samples\": [\n          200.0,\n          100.0,\n          150.0\n        ],\n        \"semantic_type\": \"\",\n        \"description\": \"\"\n      }\n    }\n  ]\n}"
            }
          },
          "metadata": {},
          "execution_count": 79
        }
      ]
    },
    {
      "cell_type": "markdown",
      "source": [
        "# **Version Paralelizada**\n",
        "---"
      ],
      "metadata": {
        "id": "X-6ISqNl6qrU"
      }
    },
    {
      "cell_type": "code",
      "source": [
        "def eval_oob_error(X, y, model, params, verbose=True)->dict:\n",
        "  model.set_params(\n",
        "      oob_score    = True,\n",
        "      n_jobs       = -1,\n",
        "      random_state = 123,\n",
        "      ** params\n",
        "  )\n",
        "\n",
        "  model.fit(X, y)\n",
        "\n",
        "  if verbose:\n",
        "    print(f\"Modelo: {params} \\u2713\")\n",
        "\n",
        "  return{'params': params, 'oob_r2': model.oob_score_}"
      ],
      "metadata": {
        "id": "jvNsedK_7LCo"
      },
      "execution_count": 80,
      "outputs": []
    },
    {
      "cell_type": "code",
      "source": [
        "multiprocessing"
      ],
      "metadata": {
        "id": "9b5Eb0Ew73Wz",
        "outputId": "6f320706-9036-447f-cf35-9804832782e2",
        "colab": {
          "base_uri": "https://localhost:8080/"
        }
      },
      "execution_count": 81,
      "outputs": [
        {
          "output_type": "execute_result",
          "data": {
            "text/plain": [
              "<module 'multiprocessing' from '/usr/lib/python3.10/multiprocessing/__init__.py'>"
            ]
          },
          "metadata": {},
          "execution_count": 81
        }
      ]
    },
    {
      "cell_type": "code",
      "source": [
        "n_jobs = multiprocessing.cpu_count()-1\n",
        "pool = multiprocessing.Pool(processes=n_jobs)\n",
        "res = pool.starmap(\n",
        "    eval_oob_error,\n",
        "    [\n",
        "        (X_train, y_train, RandomForestRegressor(), params) for params in dict_params]\n",
        ")"
      ],
      "metadata": {
        "id": "C0IO7Hii7yRw",
        "outputId": "b00a21d4-4223-428f-95ea-d53b4733ed09",
        "colab": {
          "base_uri": "https://localhost:8080/"
        }
      },
      "execution_count": 83,
      "outputs": [
        {
          "output_type": "stream",
          "name": "stdout",
          "text": [
            "Modelo: {'max_depth': None, 'max_features': 5, 'n_estimators': 100} ✓\n",
            "Modelo: {'max_depth': None, 'max_features': 5, 'n_estimators': 150} ✓\n",
            "Modelo: {'max_depth': None, 'max_features': 5, 'n_estimators': 200} ✓\n",
            "Modelo: {'max_depth': None, 'max_features': 8, 'n_estimators': 100} ✓\n",
            "Modelo: {'max_depth': None, 'max_features': 8, 'n_estimators': 150} ✓\n",
            "Modelo: {'max_depth': None, 'max_features': 8, 'n_estimators': 200} ✓\n",
            "Modelo: {'max_depth': None, 'max_features': 11, 'n_estimators': 100} ✓\n",
            "Modelo: {'max_depth': None, 'max_features': 11, 'n_estimators': 150} ✓\n",
            "Modelo: {'max_depth': None, 'max_features': 11, 'n_estimators': 200} ✓\n",
            "Modelo: {'max_depth': 3, 'max_features': 5, 'n_estimators': 100} ✓\n",
            "Modelo: {'max_depth': 3, 'max_features': 5, 'n_estimators': 150} ✓\n",
            "Modelo: {'max_depth': 3, 'max_features': 5, 'n_estimators': 200} ✓\n",
            "Modelo: {'max_depth': 3, 'max_features': 8, 'n_estimators': 100} ✓\n",
            "Modelo: {'max_depth': 3, 'max_features': 8, 'n_estimators': 150} ✓\n",
            "Modelo: {'max_depth': 3, 'max_features': 8, 'n_estimators': 200} ✓\n",
            "Modelo: {'max_depth': 3, 'max_features': 11, 'n_estimators': 100} ✓\n",
            "Modelo: {'max_depth': 3, 'max_features': 11, 'n_estimators': 150} ✓\n",
            "Modelo: {'max_depth': 3, 'max_features': 11, 'n_estimators': 200} ✓\n",
            "Modelo: {'max_depth': 10, 'max_features': 5, 'n_estimators': 100} ✓\n",
            "Modelo: {'max_depth': 10, 'max_features': 5, 'n_estimators': 150} ✓\n",
            "Modelo: {'max_depth': 10, 'max_features': 5, 'n_estimators': 200} ✓\n",
            "Modelo: {'max_depth': 10, 'max_features': 8, 'n_estimators': 100} ✓\n",
            "Modelo: {'max_depth': 10, 'max_features': 8, 'n_estimators': 150} ✓\n",
            "Modelo: {'max_depth': 10, 'max_features': 8, 'n_estimators': 200} ✓\n",
            "Modelo: {'max_depth': 10, 'max_features': 11, 'n_estimators': 100} ✓\n",
            "Modelo: {'max_depth': 10, 'max_features': 11, 'n_estimators': 150} ✓\n",
            "Modelo: {'max_depth': 10, 'max_features': 11, 'n_estimators': 200} ✓\n",
            "Modelo: {'max_depth': 20, 'max_features': 5, 'n_estimators': 100} ✓\n",
            "Modelo: {'max_depth': 20, 'max_features': 5, 'n_estimators': 150} ✓\n",
            "Modelo: {'max_depth': 20, 'max_features': 5, 'n_estimators': 200} ✓\n",
            "Modelo: {'max_depth': 20, 'max_features': 8, 'n_estimators': 100} ✓\n",
            "Modelo: {'max_depth': 20, 'max_features': 8, 'n_estimators': 150} ✓\n",
            "Modelo: {'max_depth': 20, 'max_features': 8, 'n_estimators': 200} ✓\n",
            "Modelo: {'max_depth': 20, 'max_features': 11, 'n_estimators': 100} ✓\n",
            "Modelo: {'max_depth': 20, 'max_features': 11, 'n_estimators': 150} ✓\n",
            "Modelo: {'max_depth': 20, 'max_features': 11, 'n_estimators': 200} ✓\n"
          ]
        }
      ]
    },
    {
      "cell_type": "code",
      "source": [
        "resultados = pd.DataFrame(res)\n",
        "resultados = pd.concat([resultados, resultados['params'].apply(pd.Series)], axis=1)\n",
        "resultados = resultados.drop(columns = 'params')\n",
        "resultados = resultados.sort_values('oob_r2', ascending=False)\n",
        "resultados.head(4)"
      ],
      "metadata": {
        "id": "H2FiRZXm8yNH",
        "outputId": "028fb71f-6b4c-405d-b716-6ee8efd4924c",
        "colab": {
          "base_uri": "https://localhost:8080/",
          "height": 175
        }
      },
      "execution_count": 84,
      "outputs": [
        {
          "output_type": "execute_result",
          "data": {
            "text/plain": [
              "      oob_r2  max_depth  max_features  n_estimators\n",
              "20  0.872746       10.0           5.0         200.0\n",
              "35  0.872485       20.0          11.0         200.0\n",
              "32  0.872412       20.0           8.0         200.0\n",
              "5   0.872311        NaN           8.0         200.0"
            ],
            "text/html": [
              "\n",
              "  <div id=\"df-8cb9c78f-4243-423a-9e17-18c4809ff2a4\" class=\"colab-df-container\">\n",
              "    <div>\n",
              "<style scoped>\n",
              "    .dataframe tbody tr th:only-of-type {\n",
              "        vertical-align: middle;\n",
              "    }\n",
              "\n",
              "    .dataframe tbody tr th {\n",
              "        vertical-align: top;\n",
              "    }\n",
              "\n",
              "    .dataframe thead th {\n",
              "        text-align: right;\n",
              "    }\n",
              "</style>\n",
              "<table border=\"1\" class=\"dataframe\">\n",
              "  <thead>\n",
              "    <tr style=\"text-align: right;\">\n",
              "      <th></th>\n",
              "      <th>oob_r2</th>\n",
              "      <th>max_depth</th>\n",
              "      <th>max_features</th>\n",
              "      <th>n_estimators</th>\n",
              "    </tr>\n",
              "  </thead>\n",
              "  <tbody>\n",
              "    <tr>\n",
              "      <th>20</th>\n",
              "      <td>0.872746</td>\n",
              "      <td>10.0</td>\n",
              "      <td>5.0</td>\n",
              "      <td>200.0</td>\n",
              "    </tr>\n",
              "    <tr>\n",
              "      <th>35</th>\n",
              "      <td>0.872485</td>\n",
              "      <td>20.0</td>\n",
              "      <td>11.0</td>\n",
              "      <td>200.0</td>\n",
              "    </tr>\n",
              "    <tr>\n",
              "      <th>32</th>\n",
              "      <td>0.872412</td>\n",
              "      <td>20.0</td>\n",
              "      <td>8.0</td>\n",
              "      <td>200.0</td>\n",
              "    </tr>\n",
              "    <tr>\n",
              "      <th>5</th>\n",
              "      <td>0.872311</td>\n",
              "      <td>NaN</td>\n",
              "      <td>8.0</td>\n",
              "      <td>200.0</td>\n",
              "    </tr>\n",
              "  </tbody>\n",
              "</table>\n",
              "</div>\n",
              "    <div class=\"colab-df-buttons\">\n",
              "\n",
              "  <div class=\"colab-df-container\">\n",
              "    <button class=\"colab-df-convert\" onclick=\"convertToInteractive('df-8cb9c78f-4243-423a-9e17-18c4809ff2a4')\"\n",
              "            title=\"Convert this dataframe to an interactive table.\"\n",
              "            style=\"display:none;\">\n",
              "\n",
              "  <svg xmlns=\"http://www.w3.org/2000/svg\" height=\"24px\" viewBox=\"0 -960 960 960\">\n",
              "    <path d=\"M120-120v-720h720v720H120Zm60-500h600v-160H180v160Zm220 220h160v-160H400v160Zm0 220h160v-160H400v160ZM180-400h160v-160H180v160Zm440 0h160v-160H620v160ZM180-180h160v-160H180v160Zm440 0h160v-160H620v160Z\"/>\n",
              "  </svg>\n",
              "    </button>\n",
              "\n",
              "  <style>\n",
              "    .colab-df-container {\n",
              "      display:flex;\n",
              "      gap: 12px;\n",
              "    }\n",
              "\n",
              "    .colab-df-convert {\n",
              "      background-color: #E8F0FE;\n",
              "      border: none;\n",
              "      border-radius: 50%;\n",
              "      cursor: pointer;\n",
              "      display: none;\n",
              "      fill: #1967D2;\n",
              "      height: 32px;\n",
              "      padding: 0 0 0 0;\n",
              "      width: 32px;\n",
              "    }\n",
              "\n",
              "    .colab-df-convert:hover {\n",
              "      background-color: #E2EBFA;\n",
              "      box-shadow: 0px 1px 2px rgba(60, 64, 67, 0.3), 0px 1px 3px 1px rgba(60, 64, 67, 0.15);\n",
              "      fill: #174EA6;\n",
              "    }\n",
              "\n",
              "    .colab-df-buttons div {\n",
              "      margin-bottom: 4px;\n",
              "    }\n",
              "\n",
              "    [theme=dark] .colab-df-convert {\n",
              "      background-color: #3B4455;\n",
              "      fill: #D2E3FC;\n",
              "    }\n",
              "\n",
              "    [theme=dark] .colab-df-convert:hover {\n",
              "      background-color: #434B5C;\n",
              "      box-shadow: 0px 1px 3px 1px rgba(0, 0, 0, 0.15);\n",
              "      filter: drop-shadow(0px 1px 2px rgba(0, 0, 0, 0.3));\n",
              "      fill: #FFFFFF;\n",
              "    }\n",
              "  </style>\n",
              "\n",
              "    <script>\n",
              "      const buttonEl =\n",
              "        document.querySelector('#df-8cb9c78f-4243-423a-9e17-18c4809ff2a4 button.colab-df-convert');\n",
              "      buttonEl.style.display =\n",
              "        google.colab.kernel.accessAllowed ? 'block' : 'none';\n",
              "\n",
              "      async function convertToInteractive(key) {\n",
              "        const element = document.querySelector('#df-8cb9c78f-4243-423a-9e17-18c4809ff2a4');\n",
              "        const dataTable =\n",
              "          await google.colab.kernel.invokeFunction('convertToInteractive',\n",
              "                                                    [key], {});\n",
              "        if (!dataTable) return;\n",
              "\n",
              "        const docLinkHtml = 'Like what you see? Visit the ' +\n",
              "          '<a target=\"_blank\" href=https://colab.research.google.com/notebooks/data_table.ipynb>data table notebook</a>'\n",
              "          + ' to learn more about interactive tables.';\n",
              "        element.innerHTML = '';\n",
              "        dataTable['output_type'] = 'display_data';\n",
              "        await google.colab.output.renderOutput(dataTable, element);\n",
              "        const docLink = document.createElement('div');\n",
              "        docLink.innerHTML = docLinkHtml;\n",
              "        element.appendChild(docLink);\n",
              "      }\n",
              "    </script>\n",
              "  </div>\n",
              "\n",
              "\n",
              "<div id=\"df-0c92d8dd-b6b6-4977-9322-70ee6a3faed6\">\n",
              "  <button class=\"colab-df-quickchart\" onclick=\"quickchart('df-0c92d8dd-b6b6-4977-9322-70ee6a3faed6')\"\n",
              "            title=\"Suggest charts\"\n",
              "            style=\"display:none;\">\n",
              "\n",
              "<svg xmlns=\"http://www.w3.org/2000/svg\" height=\"24px\"viewBox=\"0 0 24 24\"\n",
              "     width=\"24px\">\n",
              "    <g>\n",
              "        <path d=\"M19 3H5c-1.1 0-2 .9-2 2v14c0 1.1.9 2 2 2h14c1.1 0 2-.9 2-2V5c0-1.1-.9-2-2-2zM9 17H7v-7h2v7zm4 0h-2V7h2v10zm4 0h-2v-4h2v4z\"/>\n",
              "    </g>\n",
              "</svg>\n",
              "  </button>\n",
              "\n",
              "<style>\n",
              "  .colab-df-quickchart {\n",
              "      --bg-color: #E8F0FE;\n",
              "      --fill-color: #1967D2;\n",
              "      --hover-bg-color: #E2EBFA;\n",
              "      --hover-fill-color: #174EA6;\n",
              "      --disabled-fill-color: #AAA;\n",
              "      --disabled-bg-color: #DDD;\n",
              "  }\n",
              "\n",
              "  [theme=dark] .colab-df-quickchart {\n",
              "      --bg-color: #3B4455;\n",
              "      --fill-color: #D2E3FC;\n",
              "      --hover-bg-color: #434B5C;\n",
              "      --hover-fill-color: #FFFFFF;\n",
              "      --disabled-bg-color: #3B4455;\n",
              "      --disabled-fill-color: #666;\n",
              "  }\n",
              "\n",
              "  .colab-df-quickchart {\n",
              "    background-color: var(--bg-color);\n",
              "    border: none;\n",
              "    border-radius: 50%;\n",
              "    cursor: pointer;\n",
              "    display: none;\n",
              "    fill: var(--fill-color);\n",
              "    height: 32px;\n",
              "    padding: 0;\n",
              "    width: 32px;\n",
              "  }\n",
              "\n",
              "  .colab-df-quickchart:hover {\n",
              "    background-color: var(--hover-bg-color);\n",
              "    box-shadow: 0 1px 2px rgba(60, 64, 67, 0.3), 0 1px 3px 1px rgba(60, 64, 67, 0.15);\n",
              "    fill: var(--button-hover-fill-color);\n",
              "  }\n",
              "\n",
              "  .colab-df-quickchart-complete:disabled,\n",
              "  .colab-df-quickchart-complete:disabled:hover {\n",
              "    background-color: var(--disabled-bg-color);\n",
              "    fill: var(--disabled-fill-color);\n",
              "    box-shadow: none;\n",
              "  }\n",
              "\n",
              "  .colab-df-spinner {\n",
              "    border: 2px solid var(--fill-color);\n",
              "    border-color: transparent;\n",
              "    border-bottom-color: var(--fill-color);\n",
              "    animation:\n",
              "      spin 1s steps(1) infinite;\n",
              "  }\n",
              "\n",
              "  @keyframes spin {\n",
              "    0% {\n",
              "      border-color: transparent;\n",
              "      border-bottom-color: var(--fill-color);\n",
              "      border-left-color: var(--fill-color);\n",
              "    }\n",
              "    20% {\n",
              "      border-color: transparent;\n",
              "      border-left-color: var(--fill-color);\n",
              "      border-top-color: var(--fill-color);\n",
              "    }\n",
              "    30% {\n",
              "      border-color: transparent;\n",
              "      border-left-color: var(--fill-color);\n",
              "      border-top-color: var(--fill-color);\n",
              "      border-right-color: var(--fill-color);\n",
              "    }\n",
              "    40% {\n",
              "      border-color: transparent;\n",
              "      border-right-color: var(--fill-color);\n",
              "      border-top-color: var(--fill-color);\n",
              "    }\n",
              "    60% {\n",
              "      border-color: transparent;\n",
              "      border-right-color: var(--fill-color);\n",
              "    }\n",
              "    80% {\n",
              "      border-color: transparent;\n",
              "      border-right-color: var(--fill-color);\n",
              "      border-bottom-color: var(--fill-color);\n",
              "    }\n",
              "    90% {\n",
              "      border-color: transparent;\n",
              "      border-bottom-color: var(--fill-color);\n",
              "    }\n",
              "  }\n",
              "</style>\n",
              "\n",
              "  <script>\n",
              "    async function quickchart(key) {\n",
              "      const quickchartButtonEl =\n",
              "        document.querySelector('#' + key + ' button');\n",
              "      quickchartButtonEl.disabled = true;  // To prevent multiple clicks.\n",
              "      quickchartButtonEl.classList.add('colab-df-spinner');\n",
              "      try {\n",
              "        const charts = await google.colab.kernel.invokeFunction(\n",
              "            'suggestCharts', [key], {});\n",
              "      } catch (error) {\n",
              "        console.error('Error during call to suggestCharts:', error);\n",
              "      }\n",
              "      quickchartButtonEl.classList.remove('colab-df-spinner');\n",
              "      quickchartButtonEl.classList.add('colab-df-quickchart-complete');\n",
              "    }\n",
              "    (() => {\n",
              "      let quickchartButtonEl =\n",
              "        document.querySelector('#df-0c92d8dd-b6b6-4977-9322-70ee6a3faed6 button');\n",
              "      quickchartButtonEl.style.display =\n",
              "        google.colab.kernel.accessAllowed ? 'block' : 'none';\n",
              "    })();\n",
              "  </script>\n",
              "</div>\n",
              "\n",
              "    </div>\n",
              "  </div>\n"
            ],
            "application/vnd.google.colaboratory.intrinsic+json": {
              "type": "dataframe",
              "variable_name": "resultados",
              "summary": "{\n  \"name\": \"resultados\",\n  \"rows\": 36,\n  \"fields\": [\n    {\n      \"column\": \"oob_r2\",\n      \"properties\": {\n        \"dtype\": \"number\",\n        \"std\": 0.03433282678731104,\n        \"min\": 0.7723049044272481,\n        \"max\": 0.8727461838172262,\n        \"num_unique_values\": 36,\n        \"samples\": [\n          0.7723049044272481,\n          0.8694102814688031,\n          0.8527727713947016\n        ],\n        \"semantic_type\": \"\",\n        \"description\": \"\"\n      }\n    },\n    {\n      \"column\": \"max_depth\",\n      \"properties\": {\n        \"dtype\": \"number\",\n        \"std\": 7.109040831115091,\n        \"min\": 3.0,\n        \"max\": 20.0,\n        \"num_unique_values\": 3,\n        \"samples\": [\n          10.0,\n          20.0,\n          3.0\n        ],\n        \"semantic_type\": \"\",\n        \"description\": \"\"\n      }\n    },\n    {\n      \"column\": \"max_features\",\n      \"properties\": {\n        \"dtype\": \"number\",\n        \"std\": 2.4842360136324753,\n        \"min\": 5.0,\n        \"max\": 11.0,\n        \"num_unique_values\": 3,\n        \"samples\": [\n          5.0,\n          11.0,\n          8.0\n        ],\n        \"semantic_type\": \"\",\n        \"description\": \"\"\n      }\n    },\n    {\n      \"column\": \"n_estimators\",\n      \"properties\": {\n        \"dtype\": \"number\",\n        \"std\": 41.403933560541255,\n        \"min\": 100.0,\n        \"max\": 200.0,\n        \"num_unique_values\": 3,\n        \"samples\": [\n          200.0,\n          150.0,\n          100.0\n        ],\n        \"semantic_type\": \"\",\n        \"description\": \"\"\n      }\n    }\n  ]\n}"
            }
          },
          "metadata": {},
          "execution_count": 84
        }
      ]
    },
    {
      "cell_type": "code",
      "source": [
        "print(\"--------------------------------------------\")\n",
        "print(\"Mejores hiperparámetros encontrados (oob-r2)\")\n",
        "print(\"--------------------------------------------\")\n",
        "print(resultados.iloc[0,0], \":\", resultados.iloc[0,:]['oob_r2'], \"R2\", resultados.iloc[0,:])"
      ],
      "metadata": {
        "id": "kgsHaZrY87CA",
        "outputId": "10a1cfe0-8a8b-4488-8685-fbddb1f8dce1",
        "colab": {
          "base_uri": "https://localhost:8080/"
        }
      },
      "execution_count": 85,
      "outputs": [
        {
          "output_type": "stream",
          "name": "stdout",
          "text": [
            "--------------------------------------------\n",
            "Mejores hiperparámetros encontrados (oob-r2)\n",
            "--------------------------------------------\n",
            "0.8727461838172262 : 0.8727461838172262 R2 oob_r2            0.872746\n",
            "max_depth        10.000000\n",
            "max_features      5.000000\n",
            "n_estimators    200.000000\n",
            "Name: 20, dtype: float64\n"
          ]
        }
      ]
    },
    {
      "cell_type": "code",
      "source": [
        "model = RandomForestRegressor(\n",
        "    max_depth = 10,\n",
        "    max_features = 5,\n",
        "    n_estimators = 200,\n",
        "    random_state=12354,\n",
        "    oob_score = True\n",
        ")"
      ],
      "metadata": {
        "id": "x6N4TKlVCS3c"
      },
      "execution_count": 86,
      "outputs": []
    },
    {
      "cell_type": "code",
      "source": [
        "model.fit(X_train, y_train)"
      ],
      "metadata": {
        "id": "M2Ci2NIID9D8",
        "outputId": "befe2a5c-a90c-40a8-fec5-0f2c256b7b9b",
        "colab": {
          "base_uri": "https://localhost:8080/",
          "height": 92
        }
      },
      "execution_count": 87,
      "outputs": [
        {
          "output_type": "execute_result",
          "data": {
            "text/plain": [
              "RandomForestRegressor(max_depth=10, max_features=5, n_estimators=200,\n",
              "                      oob_score=True, random_state=12354)"
            ],
            "text/html": [
              "<style>#sk-container-id-5 {color: black;background-color: white;}#sk-container-id-5 pre{padding: 0;}#sk-container-id-5 div.sk-toggleable {background-color: white;}#sk-container-id-5 label.sk-toggleable__label {cursor: pointer;display: block;width: 100%;margin-bottom: 0;padding: 0.3em;box-sizing: border-box;text-align: center;}#sk-container-id-5 label.sk-toggleable__label-arrow:before {content: \"▸\";float: left;margin-right: 0.25em;color: #696969;}#sk-container-id-5 label.sk-toggleable__label-arrow:hover:before {color: black;}#sk-container-id-5 div.sk-estimator:hover label.sk-toggleable__label-arrow:before {color: black;}#sk-container-id-5 div.sk-toggleable__content {max-height: 0;max-width: 0;overflow: hidden;text-align: left;background-color: #f0f8ff;}#sk-container-id-5 div.sk-toggleable__content pre {margin: 0.2em;color: black;border-radius: 0.25em;background-color: #f0f8ff;}#sk-container-id-5 input.sk-toggleable__control:checked~div.sk-toggleable__content {max-height: 200px;max-width: 100%;overflow: auto;}#sk-container-id-5 input.sk-toggleable__control:checked~label.sk-toggleable__label-arrow:before {content: \"▾\";}#sk-container-id-5 div.sk-estimator input.sk-toggleable__control:checked~label.sk-toggleable__label {background-color: #d4ebff;}#sk-container-id-5 div.sk-label input.sk-toggleable__control:checked~label.sk-toggleable__label {background-color: #d4ebff;}#sk-container-id-5 input.sk-hidden--visually {border: 0;clip: rect(1px 1px 1px 1px);clip: rect(1px, 1px, 1px, 1px);height: 1px;margin: -1px;overflow: hidden;padding: 0;position: absolute;width: 1px;}#sk-container-id-5 div.sk-estimator {font-family: monospace;background-color: #f0f8ff;border: 1px dotted black;border-radius: 0.25em;box-sizing: border-box;margin-bottom: 0.5em;}#sk-container-id-5 div.sk-estimator:hover {background-color: #d4ebff;}#sk-container-id-5 div.sk-parallel-item::after {content: \"\";width: 100%;border-bottom: 1px solid gray;flex-grow: 1;}#sk-container-id-5 div.sk-label:hover label.sk-toggleable__label {background-color: #d4ebff;}#sk-container-id-5 div.sk-serial::before {content: \"\";position: absolute;border-left: 1px solid gray;box-sizing: border-box;top: 0;bottom: 0;left: 50%;z-index: 0;}#sk-container-id-5 div.sk-serial {display: flex;flex-direction: column;align-items: center;background-color: white;padding-right: 0.2em;padding-left: 0.2em;position: relative;}#sk-container-id-5 div.sk-item {position: relative;z-index: 1;}#sk-container-id-5 div.sk-parallel {display: flex;align-items: stretch;justify-content: center;background-color: white;position: relative;}#sk-container-id-5 div.sk-item::before, #sk-container-id-5 div.sk-parallel-item::before {content: \"\";position: absolute;border-left: 1px solid gray;box-sizing: border-box;top: 0;bottom: 0;left: 50%;z-index: -1;}#sk-container-id-5 div.sk-parallel-item {display: flex;flex-direction: column;z-index: 1;position: relative;background-color: white;}#sk-container-id-5 div.sk-parallel-item:first-child::after {align-self: flex-end;width: 50%;}#sk-container-id-5 div.sk-parallel-item:last-child::after {align-self: flex-start;width: 50%;}#sk-container-id-5 div.sk-parallel-item:only-child::after {width: 0;}#sk-container-id-5 div.sk-dashed-wrapped {border: 1px dashed gray;margin: 0 0.4em 0.5em 0.4em;box-sizing: border-box;padding-bottom: 0.4em;background-color: white;}#sk-container-id-5 div.sk-label label {font-family: monospace;font-weight: bold;display: inline-block;line-height: 1.2em;}#sk-container-id-5 div.sk-label-container {text-align: center;}#sk-container-id-5 div.sk-container {/* jupyter's `normalize.less` sets `[hidden] { display: none; }` but bootstrap.min.css set `[hidden] { display: none !important; }` so we also need the `!important` here to be able to override the default hidden behavior on the sphinx rendered scikit-learn.org. See: https://github.com/scikit-learn/scikit-learn/issues/21755 */display: inline-block !important;position: relative;}#sk-container-id-5 div.sk-text-repr-fallback {display: none;}</style><div id=\"sk-container-id-5\" class=\"sk-top-container\"><div class=\"sk-text-repr-fallback\"><pre>RandomForestRegressor(max_depth=10, max_features=5, n_estimators=200,\n",
              "                      oob_score=True, random_state=12354)</pre><b>In a Jupyter environment, please rerun this cell to show the HTML representation or trust the notebook. <br />On GitHub, the HTML representation is unable to render, please try loading this page with nbviewer.org.</b></div><div class=\"sk-container\" hidden><div class=\"sk-item\"><div class=\"sk-estimator sk-toggleable\"><input class=\"sk-toggleable__control sk-hidden--visually\" id=\"sk-estimator-id-5\" type=\"checkbox\" checked><label for=\"sk-estimator-id-5\" class=\"sk-toggleable__label sk-toggleable__label-arrow\">RandomForestRegressor</label><div class=\"sk-toggleable__content\"><pre>RandomForestRegressor(max_depth=10, max_features=5, n_estimators=200,\n",
              "                      oob_score=True, random_state=12354)</pre></div></div></div></div></div>"
            ]
          },
          "metadata": {},
          "execution_count": 87
        }
      ]
    },
    {
      "cell_type": "code",
      "source": [
        "y_predict = model.predict(X_test)\n",
        "rmse = mean_squared_error(\n",
        "    y_test,\n",
        "    y_predict,\n",
        "    squared = False\n",
        ")"
      ],
      "metadata": {
        "id": "3TwqVmFRDFih"
      },
      "execution_count": 88,
      "outputs": []
    },
    {
      "cell_type": "markdown",
      "source": [
        "Optimizando los hiperparametros, se reduce el error rmse de modelo que paso de 3.056066400146643  a 2.916422698173403. Las predicciones del modelo final se alejan en promedio 2.916422698173403 unidades (2916 dolares) del valor final."
      ],
      "metadata": {
        "id": "8E6u0pEwEMVr"
      }
    },
    {
      "cell_type": "code",
      "source": [
        "rmse"
      ],
      "metadata": {
        "id": "SdzzfpLeCr_Y",
        "outputId": "ec4f4c1e-2a4d-4cc7-8584-5e2f311623c0",
        "colab": {
          "base_uri": "https://localhost:8080/"
        }
      },
      "execution_count": 89,
      "outputs": [
        {
          "output_type": "execute_result",
          "data": {
            "text/plain": [
              "2.916422698173403"
            ]
          },
          "metadata": {},
          "execution_count": 89
        }
      ]
    },
    {
      "cell_type": "markdown",
      "source": [
        "# **Grid Search basado en validación cruzada**\n",
        "---"
      ],
      "metadata": {
        "id": "2VrNaYLg9MOa"
      }
    },
    {
      "cell_type": "code",
      "source": [
        "dict_param =  {'n_estimators': [100, 150, 200],\n",
        "     'max_features': [5, 8, 11],\n",
        "     'max_depth': [None, 3, 10, 20]}\n"
      ],
      "metadata": {
        "id": "dVqLOX7s9VxZ"
      },
      "execution_count": 90,
      "outputs": []
    },
    {
      "cell_type": "code",
      "source": [
        "grid = GridSearchCV(\n",
        "    estimator = RandomForestRegressor(random_state=12354),\n",
        "    param_grid = dict_param,\n",
        "    scoring = \"neg_root_mean_squared_error\",\n",
        "    n_jobs  = multiprocessing.cpu_count() - 1,\n",
        "    cv = RepeatedKFold(\n",
        "        n_splits=5,\n",
        "        n_repeats=3,\n",
        "        random_state=12354),\n",
        "        refit=True,\n",
        "        verbose=0,\n",
        "        return_train_score = True\n",
        "    )\n",
        "\n",
        "\n",
        "grid.fit(X_train, y_train)"
      ],
      "metadata": {
        "id": "du0LuH819G8S",
        "outputId": "33ec31ec-f5a0-47c7-e174-593c8526de4c",
        "colab": {
          "base_uri": "https://localhost:8080/",
          "height": 117
        }
      },
      "execution_count": 91,
      "outputs": [
        {
          "output_type": "execute_result",
          "data": {
            "text/plain": [
              "GridSearchCV(cv=RepeatedKFold(n_repeats=3, n_splits=5, random_state=12354),\n",
              "             estimator=RandomForestRegressor(random_state=12354), n_jobs=1,\n",
              "             param_grid={'max_depth': [None, 3, 10, 20],\n",
              "                         'max_features': [5, 8, 11],\n",
              "                         'n_estimators': [100, 150, 200]},\n",
              "             return_train_score=True, scoring='neg_root_mean_squared_error')"
            ],
            "text/html": [
              "<style>#sk-container-id-6 {color: black;background-color: white;}#sk-container-id-6 pre{padding: 0;}#sk-container-id-6 div.sk-toggleable {background-color: white;}#sk-container-id-6 label.sk-toggleable__label {cursor: pointer;display: block;width: 100%;margin-bottom: 0;padding: 0.3em;box-sizing: border-box;text-align: center;}#sk-container-id-6 label.sk-toggleable__label-arrow:before {content: \"▸\";float: left;margin-right: 0.25em;color: #696969;}#sk-container-id-6 label.sk-toggleable__label-arrow:hover:before {color: black;}#sk-container-id-6 div.sk-estimator:hover label.sk-toggleable__label-arrow:before {color: black;}#sk-container-id-6 div.sk-toggleable__content {max-height: 0;max-width: 0;overflow: hidden;text-align: left;background-color: #f0f8ff;}#sk-container-id-6 div.sk-toggleable__content pre {margin: 0.2em;color: black;border-radius: 0.25em;background-color: #f0f8ff;}#sk-container-id-6 input.sk-toggleable__control:checked~div.sk-toggleable__content {max-height: 200px;max-width: 100%;overflow: auto;}#sk-container-id-6 input.sk-toggleable__control:checked~label.sk-toggleable__label-arrow:before {content: \"▾\";}#sk-container-id-6 div.sk-estimator input.sk-toggleable__control:checked~label.sk-toggleable__label {background-color: #d4ebff;}#sk-container-id-6 div.sk-label input.sk-toggleable__control:checked~label.sk-toggleable__label {background-color: #d4ebff;}#sk-container-id-6 input.sk-hidden--visually {border: 0;clip: rect(1px 1px 1px 1px);clip: rect(1px, 1px, 1px, 1px);height: 1px;margin: -1px;overflow: hidden;padding: 0;position: absolute;width: 1px;}#sk-container-id-6 div.sk-estimator {font-family: monospace;background-color: #f0f8ff;border: 1px dotted black;border-radius: 0.25em;box-sizing: border-box;margin-bottom: 0.5em;}#sk-container-id-6 div.sk-estimator:hover {background-color: #d4ebff;}#sk-container-id-6 div.sk-parallel-item::after {content: \"\";width: 100%;border-bottom: 1px solid gray;flex-grow: 1;}#sk-container-id-6 div.sk-label:hover label.sk-toggleable__label {background-color: #d4ebff;}#sk-container-id-6 div.sk-serial::before {content: \"\";position: absolute;border-left: 1px solid gray;box-sizing: border-box;top: 0;bottom: 0;left: 50%;z-index: 0;}#sk-container-id-6 div.sk-serial {display: flex;flex-direction: column;align-items: center;background-color: white;padding-right: 0.2em;padding-left: 0.2em;position: relative;}#sk-container-id-6 div.sk-item {position: relative;z-index: 1;}#sk-container-id-6 div.sk-parallel {display: flex;align-items: stretch;justify-content: center;background-color: white;position: relative;}#sk-container-id-6 div.sk-item::before, #sk-container-id-6 div.sk-parallel-item::before {content: \"\";position: absolute;border-left: 1px solid gray;box-sizing: border-box;top: 0;bottom: 0;left: 50%;z-index: -1;}#sk-container-id-6 div.sk-parallel-item {display: flex;flex-direction: column;z-index: 1;position: relative;background-color: white;}#sk-container-id-6 div.sk-parallel-item:first-child::after {align-self: flex-end;width: 50%;}#sk-container-id-6 div.sk-parallel-item:last-child::after {align-self: flex-start;width: 50%;}#sk-container-id-6 div.sk-parallel-item:only-child::after {width: 0;}#sk-container-id-6 div.sk-dashed-wrapped {border: 1px dashed gray;margin: 0 0.4em 0.5em 0.4em;box-sizing: border-box;padding-bottom: 0.4em;background-color: white;}#sk-container-id-6 div.sk-label label {font-family: monospace;font-weight: bold;display: inline-block;line-height: 1.2em;}#sk-container-id-6 div.sk-label-container {text-align: center;}#sk-container-id-6 div.sk-container {/* jupyter's `normalize.less` sets `[hidden] { display: none; }` but bootstrap.min.css set `[hidden] { display: none !important; }` so we also need the `!important` here to be able to override the default hidden behavior on the sphinx rendered scikit-learn.org. See: https://github.com/scikit-learn/scikit-learn/issues/21755 */display: inline-block !important;position: relative;}#sk-container-id-6 div.sk-text-repr-fallback {display: none;}</style><div id=\"sk-container-id-6\" class=\"sk-top-container\"><div class=\"sk-text-repr-fallback\"><pre>GridSearchCV(cv=RepeatedKFold(n_repeats=3, n_splits=5, random_state=12354),\n",
              "             estimator=RandomForestRegressor(random_state=12354), n_jobs=1,\n",
              "             param_grid={&#x27;max_depth&#x27;: [None, 3, 10, 20],\n",
              "                         &#x27;max_features&#x27;: [5, 8, 11],\n",
              "                         &#x27;n_estimators&#x27;: [100, 150, 200]},\n",
              "             return_train_score=True, scoring=&#x27;neg_root_mean_squared_error&#x27;)</pre><b>In a Jupyter environment, please rerun this cell to show the HTML representation or trust the notebook. <br />On GitHub, the HTML representation is unable to render, please try loading this page with nbviewer.org.</b></div><div class=\"sk-container\" hidden><div class=\"sk-item sk-dashed-wrapped\"><div class=\"sk-label-container\"><div class=\"sk-label sk-toggleable\"><input class=\"sk-toggleable__control sk-hidden--visually\" id=\"sk-estimator-id-6\" type=\"checkbox\" ><label for=\"sk-estimator-id-6\" class=\"sk-toggleable__label sk-toggleable__label-arrow\">GridSearchCV</label><div class=\"sk-toggleable__content\"><pre>GridSearchCV(cv=RepeatedKFold(n_repeats=3, n_splits=5, random_state=12354),\n",
              "             estimator=RandomForestRegressor(random_state=12354), n_jobs=1,\n",
              "             param_grid={&#x27;max_depth&#x27;: [None, 3, 10, 20],\n",
              "                         &#x27;max_features&#x27;: [5, 8, 11],\n",
              "                         &#x27;n_estimators&#x27;: [100, 150, 200]},\n",
              "             return_train_score=True, scoring=&#x27;neg_root_mean_squared_error&#x27;)</pre></div></div></div><div class=\"sk-parallel\"><div class=\"sk-parallel-item\"><div class=\"sk-item\"><div class=\"sk-label-container\"><div class=\"sk-label sk-toggleable\"><input class=\"sk-toggleable__control sk-hidden--visually\" id=\"sk-estimator-id-7\" type=\"checkbox\" ><label for=\"sk-estimator-id-7\" class=\"sk-toggleable__label sk-toggleable__label-arrow\">estimator: RandomForestRegressor</label><div class=\"sk-toggleable__content\"><pre>RandomForestRegressor(random_state=12354)</pre></div></div></div><div class=\"sk-serial\"><div class=\"sk-item\"><div class=\"sk-estimator sk-toggleable\"><input class=\"sk-toggleable__control sk-hidden--visually\" id=\"sk-estimator-id-8\" type=\"checkbox\" ><label for=\"sk-estimator-id-8\" class=\"sk-toggleable__label sk-toggleable__label-arrow\">RandomForestRegressor</label><div class=\"sk-toggleable__content\"><pre>RandomForestRegressor(random_state=12354)</pre></div></div></div></div></div></div></div></div></div></div>"
            ]
          },
          "metadata": {},
          "execution_count": 91
        }
      ]
    },
    {
      "cell_type": "code",
      "source": [
        "resultados = pd.DataFrame(grid.cv_results_)\n",
        "resultados.filter(regex = '(param.*|mean_t|std_t)') \\\n",
        "    .drop(columns = 'params') \\\n",
        "    .sort_values('mean_test_score', ascending = False) \\\n",
        "    .head(4)"
      ],
      "metadata": {
        "id": "Wq14dZgF-12a",
        "outputId": "6f3c5761-66f0-4f62-da0e-1b357ea41643",
        "colab": {
          "base_uri": "https://localhost:8080/",
          "height": 175
        }
      },
      "execution_count": 92,
      "outputs": [
        {
          "output_type": "execute_result",
          "data": {
            "text/plain": [
              "   param_max_depth param_max_features param_n_estimators  mean_test_score  \\\n",
              "31              20                  8                150        -3.274125   \n",
              "4             None                  8                150        -3.274503   \n",
              "32              20                  8                200        -3.275073   \n",
              "5             None                  8                200        -3.275305   \n",
              "\n",
              "    std_test_score  mean_train_score  std_train_score  \n",
              "31        0.600638         -1.270125         0.049256  \n",
              "4         0.599961         -1.269332         0.049016  \n",
              "32        0.603034         -1.268813         0.051804  \n",
              "5         0.603736         -1.268701         0.051490  "
            ],
            "text/html": [
              "\n",
              "  <div id=\"df-e1cc874e-99a2-4010-93e0-72846c5129e3\" class=\"colab-df-container\">\n",
              "    <div>\n",
              "<style scoped>\n",
              "    .dataframe tbody tr th:only-of-type {\n",
              "        vertical-align: middle;\n",
              "    }\n",
              "\n",
              "    .dataframe tbody tr th {\n",
              "        vertical-align: top;\n",
              "    }\n",
              "\n",
              "    .dataframe thead th {\n",
              "        text-align: right;\n",
              "    }\n",
              "</style>\n",
              "<table border=\"1\" class=\"dataframe\">\n",
              "  <thead>\n",
              "    <tr style=\"text-align: right;\">\n",
              "      <th></th>\n",
              "      <th>param_max_depth</th>\n",
              "      <th>param_max_features</th>\n",
              "      <th>param_n_estimators</th>\n",
              "      <th>mean_test_score</th>\n",
              "      <th>std_test_score</th>\n",
              "      <th>mean_train_score</th>\n",
              "      <th>std_train_score</th>\n",
              "    </tr>\n",
              "  </thead>\n",
              "  <tbody>\n",
              "    <tr>\n",
              "      <th>31</th>\n",
              "      <td>20</td>\n",
              "      <td>8</td>\n",
              "      <td>150</td>\n",
              "      <td>-3.274125</td>\n",
              "      <td>0.600638</td>\n",
              "      <td>-1.270125</td>\n",
              "      <td>0.049256</td>\n",
              "    </tr>\n",
              "    <tr>\n",
              "      <th>4</th>\n",
              "      <td>None</td>\n",
              "      <td>8</td>\n",
              "      <td>150</td>\n",
              "      <td>-3.274503</td>\n",
              "      <td>0.599961</td>\n",
              "      <td>-1.269332</td>\n",
              "      <td>0.049016</td>\n",
              "    </tr>\n",
              "    <tr>\n",
              "      <th>32</th>\n",
              "      <td>20</td>\n",
              "      <td>8</td>\n",
              "      <td>200</td>\n",
              "      <td>-3.275073</td>\n",
              "      <td>0.603034</td>\n",
              "      <td>-1.268813</td>\n",
              "      <td>0.051804</td>\n",
              "    </tr>\n",
              "    <tr>\n",
              "      <th>5</th>\n",
              "      <td>None</td>\n",
              "      <td>8</td>\n",
              "      <td>200</td>\n",
              "      <td>-3.275305</td>\n",
              "      <td>0.603736</td>\n",
              "      <td>-1.268701</td>\n",
              "      <td>0.051490</td>\n",
              "    </tr>\n",
              "  </tbody>\n",
              "</table>\n",
              "</div>\n",
              "    <div class=\"colab-df-buttons\">\n",
              "\n",
              "  <div class=\"colab-df-container\">\n",
              "    <button class=\"colab-df-convert\" onclick=\"convertToInteractive('df-e1cc874e-99a2-4010-93e0-72846c5129e3')\"\n",
              "            title=\"Convert this dataframe to an interactive table.\"\n",
              "            style=\"display:none;\">\n",
              "\n",
              "  <svg xmlns=\"http://www.w3.org/2000/svg\" height=\"24px\" viewBox=\"0 -960 960 960\">\n",
              "    <path d=\"M120-120v-720h720v720H120Zm60-500h600v-160H180v160Zm220 220h160v-160H400v160Zm0 220h160v-160H400v160ZM180-400h160v-160H180v160Zm440 0h160v-160H620v160ZM180-180h160v-160H180v160Zm440 0h160v-160H620v160Z\"/>\n",
              "  </svg>\n",
              "    </button>\n",
              "\n",
              "  <style>\n",
              "    .colab-df-container {\n",
              "      display:flex;\n",
              "      gap: 12px;\n",
              "    }\n",
              "\n",
              "    .colab-df-convert {\n",
              "      background-color: #E8F0FE;\n",
              "      border: none;\n",
              "      border-radius: 50%;\n",
              "      cursor: pointer;\n",
              "      display: none;\n",
              "      fill: #1967D2;\n",
              "      height: 32px;\n",
              "      padding: 0 0 0 0;\n",
              "      width: 32px;\n",
              "    }\n",
              "\n",
              "    .colab-df-convert:hover {\n",
              "      background-color: #E2EBFA;\n",
              "      box-shadow: 0px 1px 2px rgba(60, 64, 67, 0.3), 0px 1px 3px 1px rgba(60, 64, 67, 0.15);\n",
              "      fill: #174EA6;\n",
              "    }\n",
              "\n",
              "    .colab-df-buttons div {\n",
              "      margin-bottom: 4px;\n",
              "    }\n",
              "\n",
              "    [theme=dark] .colab-df-convert {\n",
              "      background-color: #3B4455;\n",
              "      fill: #D2E3FC;\n",
              "    }\n",
              "\n",
              "    [theme=dark] .colab-df-convert:hover {\n",
              "      background-color: #434B5C;\n",
              "      box-shadow: 0px 1px 3px 1px rgba(0, 0, 0, 0.15);\n",
              "      filter: drop-shadow(0px 1px 2px rgba(0, 0, 0, 0.3));\n",
              "      fill: #FFFFFF;\n",
              "    }\n",
              "  </style>\n",
              "\n",
              "    <script>\n",
              "      const buttonEl =\n",
              "        document.querySelector('#df-e1cc874e-99a2-4010-93e0-72846c5129e3 button.colab-df-convert');\n",
              "      buttonEl.style.display =\n",
              "        google.colab.kernel.accessAllowed ? 'block' : 'none';\n",
              "\n",
              "      async function convertToInteractive(key) {\n",
              "        const element = document.querySelector('#df-e1cc874e-99a2-4010-93e0-72846c5129e3');\n",
              "        const dataTable =\n",
              "          await google.colab.kernel.invokeFunction('convertToInteractive',\n",
              "                                                    [key], {});\n",
              "        if (!dataTable) return;\n",
              "\n",
              "        const docLinkHtml = 'Like what you see? Visit the ' +\n",
              "          '<a target=\"_blank\" href=https://colab.research.google.com/notebooks/data_table.ipynb>data table notebook</a>'\n",
              "          + ' to learn more about interactive tables.';\n",
              "        element.innerHTML = '';\n",
              "        dataTable['output_type'] = 'display_data';\n",
              "        await google.colab.output.renderOutput(dataTable, element);\n",
              "        const docLink = document.createElement('div');\n",
              "        docLink.innerHTML = docLinkHtml;\n",
              "        element.appendChild(docLink);\n",
              "      }\n",
              "    </script>\n",
              "  </div>\n",
              "\n",
              "\n",
              "<div id=\"df-15845729-626f-4611-a43d-8e041906d64a\">\n",
              "  <button class=\"colab-df-quickchart\" onclick=\"quickchart('df-15845729-626f-4611-a43d-8e041906d64a')\"\n",
              "            title=\"Suggest charts\"\n",
              "            style=\"display:none;\">\n",
              "\n",
              "<svg xmlns=\"http://www.w3.org/2000/svg\" height=\"24px\"viewBox=\"0 0 24 24\"\n",
              "     width=\"24px\">\n",
              "    <g>\n",
              "        <path d=\"M19 3H5c-1.1 0-2 .9-2 2v14c0 1.1.9 2 2 2h14c1.1 0 2-.9 2-2V5c0-1.1-.9-2-2-2zM9 17H7v-7h2v7zm4 0h-2V7h2v10zm4 0h-2v-4h2v4z\"/>\n",
              "    </g>\n",
              "</svg>\n",
              "  </button>\n",
              "\n",
              "<style>\n",
              "  .colab-df-quickchart {\n",
              "      --bg-color: #E8F0FE;\n",
              "      --fill-color: #1967D2;\n",
              "      --hover-bg-color: #E2EBFA;\n",
              "      --hover-fill-color: #174EA6;\n",
              "      --disabled-fill-color: #AAA;\n",
              "      --disabled-bg-color: #DDD;\n",
              "  }\n",
              "\n",
              "  [theme=dark] .colab-df-quickchart {\n",
              "      --bg-color: #3B4455;\n",
              "      --fill-color: #D2E3FC;\n",
              "      --hover-bg-color: #434B5C;\n",
              "      --hover-fill-color: #FFFFFF;\n",
              "      --disabled-bg-color: #3B4455;\n",
              "      --disabled-fill-color: #666;\n",
              "  }\n",
              "\n",
              "  .colab-df-quickchart {\n",
              "    background-color: var(--bg-color);\n",
              "    border: none;\n",
              "    border-radius: 50%;\n",
              "    cursor: pointer;\n",
              "    display: none;\n",
              "    fill: var(--fill-color);\n",
              "    height: 32px;\n",
              "    padding: 0;\n",
              "    width: 32px;\n",
              "  }\n",
              "\n",
              "  .colab-df-quickchart:hover {\n",
              "    background-color: var(--hover-bg-color);\n",
              "    box-shadow: 0 1px 2px rgba(60, 64, 67, 0.3), 0 1px 3px 1px rgba(60, 64, 67, 0.15);\n",
              "    fill: var(--button-hover-fill-color);\n",
              "  }\n",
              "\n",
              "  .colab-df-quickchart-complete:disabled,\n",
              "  .colab-df-quickchart-complete:disabled:hover {\n",
              "    background-color: var(--disabled-bg-color);\n",
              "    fill: var(--disabled-fill-color);\n",
              "    box-shadow: none;\n",
              "  }\n",
              "\n",
              "  .colab-df-spinner {\n",
              "    border: 2px solid var(--fill-color);\n",
              "    border-color: transparent;\n",
              "    border-bottom-color: var(--fill-color);\n",
              "    animation:\n",
              "      spin 1s steps(1) infinite;\n",
              "  }\n",
              "\n",
              "  @keyframes spin {\n",
              "    0% {\n",
              "      border-color: transparent;\n",
              "      border-bottom-color: var(--fill-color);\n",
              "      border-left-color: var(--fill-color);\n",
              "    }\n",
              "    20% {\n",
              "      border-color: transparent;\n",
              "      border-left-color: var(--fill-color);\n",
              "      border-top-color: var(--fill-color);\n",
              "    }\n",
              "    30% {\n",
              "      border-color: transparent;\n",
              "      border-left-color: var(--fill-color);\n",
              "      border-top-color: var(--fill-color);\n",
              "      border-right-color: var(--fill-color);\n",
              "    }\n",
              "    40% {\n",
              "      border-color: transparent;\n",
              "      border-right-color: var(--fill-color);\n",
              "      border-top-color: var(--fill-color);\n",
              "    }\n",
              "    60% {\n",
              "      border-color: transparent;\n",
              "      border-right-color: var(--fill-color);\n",
              "    }\n",
              "    80% {\n",
              "      border-color: transparent;\n",
              "      border-right-color: var(--fill-color);\n",
              "      border-bottom-color: var(--fill-color);\n",
              "    }\n",
              "    90% {\n",
              "      border-color: transparent;\n",
              "      border-bottom-color: var(--fill-color);\n",
              "    }\n",
              "  }\n",
              "</style>\n",
              "\n",
              "  <script>\n",
              "    async function quickchart(key) {\n",
              "      const quickchartButtonEl =\n",
              "        document.querySelector('#' + key + ' button');\n",
              "      quickchartButtonEl.disabled = true;  // To prevent multiple clicks.\n",
              "      quickchartButtonEl.classList.add('colab-df-spinner');\n",
              "      try {\n",
              "        const charts = await google.colab.kernel.invokeFunction(\n",
              "            'suggestCharts', [key], {});\n",
              "      } catch (error) {\n",
              "        console.error('Error during call to suggestCharts:', error);\n",
              "      }\n",
              "      quickchartButtonEl.classList.remove('colab-df-spinner');\n",
              "      quickchartButtonEl.classList.add('colab-df-quickchart-complete');\n",
              "    }\n",
              "    (() => {\n",
              "      let quickchartButtonEl =\n",
              "        document.querySelector('#df-15845729-626f-4611-a43d-8e041906d64a button');\n",
              "      quickchartButtonEl.style.display =\n",
              "        google.colab.kernel.accessAllowed ? 'block' : 'none';\n",
              "    })();\n",
              "  </script>\n",
              "</div>\n",
              "\n",
              "    </div>\n",
              "  </div>\n"
            ],
            "application/vnd.google.colaboratory.intrinsic+json": {
              "type": "dataframe",
              "repr_error": "'str' object has no attribute 'empty'"
            }
          },
          "metadata": {},
          "execution_count": 92
        }
      ]
    },
    {
      "cell_type": "code",
      "source": [
        "model = grid.best_estimator_\n",
        "y_predict = model.predict(X_test)\n",
        "rmse = mean_squared_error(\n",
        "        y_true  = y_test,\n",
        "        y_pred  = y_predict,\n",
        "        squared = False\n",
        ")"
      ],
      "metadata": {
        "id": "F5cl4GcVA9hg"
      },
      "execution_count": 94,
      "outputs": []
    },
    {
      "cell_type": "code",
      "source": [
        "print(f\"El error (rmse) de test es: {rmse}\")\n"
      ],
      "metadata": {
        "id": "X_Hrnhn2BuJB",
        "outputId": "feafa71d-9a40-4b59-c854-fd25299c3c2e",
        "colab": {
          "base_uri": "https://localhost:8080/"
        }
      },
      "execution_count": 95,
      "outputs": [
        {
          "output_type": "stream",
          "name": "stdout",
          "text": [
            "El error (rmse) de test es: 2.933644998505774\n"
          ]
        }
      ]
    },
    {
      "cell_type": "markdown",
      "source": [
        "Optimizando los hiperparametros, se reduce el error rmse de modelo que paso de 3.056066400146643  a 2.933644998505774. Las predicciones del modelo final se alejan en promedio 2.933644998505774 unidades (2933 dolares) del valor final."
      ],
      "metadata": {
        "id": "suHABI4mB1TU"
      }
    }
  ]
}