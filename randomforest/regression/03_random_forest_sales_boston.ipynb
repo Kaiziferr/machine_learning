{
  "nbformat": 4,
  "nbformat_minor": 0,
  "metadata": {
    "colab": {
      "provenance": [],
      "authorship_tag": "ABX9TyNIRUvh9KYwWNZFVKpiJDP0",
      "include_colab_link": true
    },
    "kernelspec": {
      "name": "python3",
      "display_name": "Python 3"
    },
    "language_info": {
      "name": "python"
    }
  },
  "cells": [
    {
      "cell_type": "markdown",
      "metadata": {
        "id": "view-in-github",
        "colab_type": "text"
      },
      "source": [
        "<a href=\"https://colab.research.google.com/github/Kaiziferr/machine_learning/blob/main/randomforest/regression/03_random_forest_sales_boston.ipynb\" target=\"_parent\"><img src=\"https://colab.research.google.com/assets/colab-badge.svg\" alt=\"Open In Colab\"/></a>"
      ]
    },
    {
      "cell_type": "code",
      "execution_count": null,
      "metadata": {
        "id": "XL_DemN7JqBe"
      },
      "outputs": [],
      "source": [
        "import numpy as np\n",
        "import pandas as pd\n",
        "import matplotlib.pyplot as plt\n",
        "import seaborn as sns\n",
        "\n",
        "from sklearn.ensemble import RandomForestRegressor\n",
        "\n",
        "from sklearn.metrics import mean_squared_error\n",
        "\n",
        "from sklearn.model_selection import train_test_split\n",
        "from sklearn.model_selection import GridSearchCV\n",
        "from sklearn.model_selection import RepeatedKFold\n",
        "from sklearn.model_selection import ParameterGrid\n",
        "from sklearn.model_selection import cross_val_score\n",
        "\n",
        "from sklearn.inspection import permutation_importance\n",
        "\n",
        "import multiprocessing\n",
        "\n",
        "\n",
        "\n",
        "import warnings\n",
        "warnings.filterwarnings('ignore')"
      ]
    },
    {
      "cell_type": "code",
      "source": [
        "sns.set(style=\"darkgrid\")"
      ],
      "metadata": {
        "id": "PO8CExItM0yt"
      },
      "execution_count": null,
      "outputs": []
    },
    {
      "cell_type": "markdown",
      "source": [
        "# **Description**\n",
        "---\n",
        "El dataset Boston contiene precios de viviendas de la ciudad de Boston, asi como información socio-economica del barrio en el que se encunetran."
      ],
      "metadata": {
        "id": "0nFU1hCOPhle"
      }
    },
    {
      "cell_type": "markdown",
      "source": [
        "#**Objetivo**\n",
        "---\n",
        "Se pretende ajustar un modelo de regresión que permita predecir el precio medio de una vivienda MEDV en función de las variables disponibles."
      ],
      "metadata": {
        "id": "nE8HMXRqPqux"
      }
    },
    {
      "cell_type": "markdown",
      "source": [
        "# **Diccionario de datos**\n",
        "---\n",
        "\n",
        "Número de instancias: 506\n",
        "\n",
        "- `CRIM`: tasa de criminalidad per cápita por ciudad\n",
        "- `ZN`: proporción de suelo residencial zonificado para lotes de más de 25,000 pies cuadrados.\n",
        "- `INDUS`: proporción de acres comerciales no minoristas por ciudad\n",
        "- `CHAS`: variable ficticia del río Charles (= 1 si el tramo limita con el río; 0 en caso contrario)\n",
        "- `NOX`: concentración de óxidos nítricos (partes por 10 millones)\n",
        "- `RM`: promedio de cuartos por vivienda\n",
        "- `EDAD`: proporción de unidades ocupadas por sus propietarios construidas antes de 1940\n",
        "- `DIS`: distancias ponderadas a cinco centros de empleo de Boston\n",
        "- `RAD`: índice de accesibilidad a las carreteras radiales\n",
        "- `IMPUESTO`: tasa de impuesto a la propiedad de valor total por $ 10,000\n",
        "\n",
        "- `PTRATIO`: ratio alumno-profesor por municipio\n",
        "- `LSTAT`: % estado inferior de la población\n",
        "- `MEDV`: valor medio de las viviendas ocupadas por sus propietarios en $ 1000"
      ],
      "metadata": {
        "id": "xq3Gt9C5vTZx"
      }
    },
    {
      "cell_type": "markdown",
      "source": [
        "# **Diccionario de datos**\n",
        "---"
      ],
      "metadata": {
        "id": "sNKoUlXVPwdo"
      }
    },
    {
      "cell_type": "code",
      "source": [
        "url=\"https://raw.githubusercontent.com/selva86/datasets/master/BostonHousing.csv\"\n",
        "data = pd.read_csv(url)"
      ],
      "metadata": {
        "id": "dIZdwkZVNj6m"
      },
      "execution_count": null,
      "outputs": []
    },
    {
      "cell_type": "code",
      "source": [
        "data.head()"
      ],
      "metadata": {
        "colab": {
          "base_uri": "https://localhost:8080/",
          "height": 206
        },
        "id": "jp7_3gkRP5GD",
        "outputId": "e857d928-59da-48f5-99cb-efa9b4766188"
      },
      "execution_count": null,
      "outputs": [
        {
          "output_type": "execute_result",
          "data": {
            "text/plain": [
              "      crim    zn  indus  chas    nox     rm   age     dis  rad  tax  ptratio  \\\n",
              "0  0.00632  18.0   2.31     0  0.538  6.575  65.2  4.0900    1  296     15.3   \n",
              "1  0.02731   0.0   7.07     0  0.469  6.421  78.9  4.9671    2  242     17.8   \n",
              "2  0.02729   0.0   7.07     0  0.469  7.185  61.1  4.9671    2  242     17.8   \n",
              "3  0.03237   0.0   2.18     0  0.458  6.998  45.8  6.0622    3  222     18.7   \n",
              "4  0.06905   0.0   2.18     0  0.458  7.147  54.2  6.0622    3  222     18.7   \n",
              "\n",
              "        b  lstat  medv  \n",
              "0  396.90   4.98  24.0  \n",
              "1  396.90   9.14  21.6  \n",
              "2  392.83   4.03  34.7  \n",
              "3  394.63   2.94  33.4  \n",
              "4  396.90   5.33  36.2  "
            ],
            "text/html": [
              "\n",
              "  <div id=\"df-5715eab2-c866-480f-a956-c464e2f80db3\" class=\"colab-df-container\">\n",
              "    <div>\n",
              "<style scoped>\n",
              "    .dataframe tbody tr th:only-of-type {\n",
              "        vertical-align: middle;\n",
              "    }\n",
              "\n",
              "    .dataframe tbody tr th {\n",
              "        vertical-align: top;\n",
              "    }\n",
              "\n",
              "    .dataframe thead th {\n",
              "        text-align: right;\n",
              "    }\n",
              "</style>\n",
              "<table border=\"1\" class=\"dataframe\">\n",
              "  <thead>\n",
              "    <tr style=\"text-align: right;\">\n",
              "      <th></th>\n",
              "      <th>crim</th>\n",
              "      <th>zn</th>\n",
              "      <th>indus</th>\n",
              "      <th>chas</th>\n",
              "      <th>nox</th>\n",
              "      <th>rm</th>\n",
              "      <th>age</th>\n",
              "      <th>dis</th>\n",
              "      <th>rad</th>\n",
              "      <th>tax</th>\n",
              "      <th>ptratio</th>\n",
              "      <th>b</th>\n",
              "      <th>lstat</th>\n",
              "      <th>medv</th>\n",
              "    </tr>\n",
              "  </thead>\n",
              "  <tbody>\n",
              "    <tr>\n",
              "      <th>0</th>\n",
              "      <td>0.00632</td>\n",
              "      <td>18.0</td>\n",
              "      <td>2.31</td>\n",
              "      <td>0</td>\n",
              "      <td>0.538</td>\n",
              "      <td>6.575</td>\n",
              "      <td>65.2</td>\n",
              "      <td>4.0900</td>\n",
              "      <td>1</td>\n",
              "      <td>296</td>\n",
              "      <td>15.3</td>\n",
              "      <td>396.90</td>\n",
              "      <td>4.98</td>\n",
              "      <td>24.0</td>\n",
              "    </tr>\n",
              "    <tr>\n",
              "      <th>1</th>\n",
              "      <td>0.02731</td>\n",
              "      <td>0.0</td>\n",
              "      <td>7.07</td>\n",
              "      <td>0</td>\n",
              "      <td>0.469</td>\n",
              "      <td>6.421</td>\n",
              "      <td>78.9</td>\n",
              "      <td>4.9671</td>\n",
              "      <td>2</td>\n",
              "      <td>242</td>\n",
              "      <td>17.8</td>\n",
              "      <td>396.90</td>\n",
              "      <td>9.14</td>\n",
              "      <td>21.6</td>\n",
              "    </tr>\n",
              "    <tr>\n",
              "      <th>2</th>\n",
              "      <td>0.02729</td>\n",
              "      <td>0.0</td>\n",
              "      <td>7.07</td>\n",
              "      <td>0</td>\n",
              "      <td>0.469</td>\n",
              "      <td>7.185</td>\n",
              "      <td>61.1</td>\n",
              "      <td>4.9671</td>\n",
              "      <td>2</td>\n",
              "      <td>242</td>\n",
              "      <td>17.8</td>\n",
              "      <td>392.83</td>\n",
              "      <td>4.03</td>\n",
              "      <td>34.7</td>\n",
              "    </tr>\n",
              "    <tr>\n",
              "      <th>3</th>\n",
              "      <td>0.03237</td>\n",
              "      <td>0.0</td>\n",
              "      <td>2.18</td>\n",
              "      <td>0</td>\n",
              "      <td>0.458</td>\n",
              "      <td>6.998</td>\n",
              "      <td>45.8</td>\n",
              "      <td>6.0622</td>\n",
              "      <td>3</td>\n",
              "      <td>222</td>\n",
              "      <td>18.7</td>\n",
              "      <td>394.63</td>\n",
              "      <td>2.94</td>\n",
              "      <td>33.4</td>\n",
              "    </tr>\n",
              "    <tr>\n",
              "      <th>4</th>\n",
              "      <td>0.06905</td>\n",
              "      <td>0.0</td>\n",
              "      <td>2.18</td>\n",
              "      <td>0</td>\n",
              "      <td>0.458</td>\n",
              "      <td>7.147</td>\n",
              "      <td>54.2</td>\n",
              "      <td>6.0622</td>\n",
              "      <td>3</td>\n",
              "      <td>222</td>\n",
              "      <td>18.7</td>\n",
              "      <td>396.90</td>\n",
              "      <td>5.33</td>\n",
              "      <td>36.2</td>\n",
              "    </tr>\n",
              "  </tbody>\n",
              "</table>\n",
              "</div>\n",
              "    <div class=\"colab-df-buttons\">\n",
              "\n",
              "  <div class=\"colab-df-container\">\n",
              "    <button class=\"colab-df-convert\" onclick=\"convertToInteractive('df-5715eab2-c866-480f-a956-c464e2f80db3')\"\n",
              "            title=\"Convert this dataframe to an interactive table.\"\n",
              "            style=\"display:none;\">\n",
              "\n",
              "  <svg xmlns=\"http://www.w3.org/2000/svg\" height=\"24px\" viewBox=\"0 -960 960 960\">\n",
              "    <path d=\"M120-120v-720h720v720H120Zm60-500h600v-160H180v160Zm220 220h160v-160H400v160Zm0 220h160v-160H400v160ZM180-400h160v-160H180v160Zm440 0h160v-160H620v160ZM180-180h160v-160H180v160Zm440 0h160v-160H620v160Z\"/>\n",
              "  </svg>\n",
              "    </button>\n",
              "\n",
              "  <style>\n",
              "    .colab-df-container {\n",
              "      display:flex;\n",
              "      gap: 12px;\n",
              "    }\n",
              "\n",
              "    .colab-df-convert {\n",
              "      background-color: #E8F0FE;\n",
              "      border: none;\n",
              "      border-radius: 50%;\n",
              "      cursor: pointer;\n",
              "      display: none;\n",
              "      fill: #1967D2;\n",
              "      height: 32px;\n",
              "      padding: 0 0 0 0;\n",
              "      width: 32px;\n",
              "    }\n",
              "\n",
              "    .colab-df-convert:hover {\n",
              "      background-color: #E2EBFA;\n",
              "      box-shadow: 0px 1px 2px rgba(60, 64, 67, 0.3), 0px 1px 3px 1px rgba(60, 64, 67, 0.15);\n",
              "      fill: #174EA6;\n",
              "    }\n",
              "\n",
              "    .colab-df-buttons div {\n",
              "      margin-bottom: 4px;\n",
              "    }\n",
              "\n",
              "    [theme=dark] .colab-df-convert {\n",
              "      background-color: #3B4455;\n",
              "      fill: #D2E3FC;\n",
              "    }\n",
              "\n",
              "    [theme=dark] .colab-df-convert:hover {\n",
              "      background-color: #434B5C;\n",
              "      box-shadow: 0px 1px 3px 1px rgba(0, 0, 0, 0.15);\n",
              "      filter: drop-shadow(0px 1px 2px rgba(0, 0, 0, 0.3));\n",
              "      fill: #FFFFFF;\n",
              "    }\n",
              "  </style>\n",
              "\n",
              "    <script>\n",
              "      const buttonEl =\n",
              "        document.querySelector('#df-5715eab2-c866-480f-a956-c464e2f80db3 button.colab-df-convert');\n",
              "      buttonEl.style.display =\n",
              "        google.colab.kernel.accessAllowed ? 'block' : 'none';\n",
              "\n",
              "      async function convertToInteractive(key) {\n",
              "        const element = document.querySelector('#df-5715eab2-c866-480f-a956-c464e2f80db3');\n",
              "        const dataTable =\n",
              "          await google.colab.kernel.invokeFunction('convertToInteractive',\n",
              "                                                    [key], {});\n",
              "        if (!dataTable) return;\n",
              "\n",
              "        const docLinkHtml = 'Like what you see? Visit the ' +\n",
              "          '<a target=\"_blank\" href=https://colab.research.google.com/notebooks/data_table.ipynb>data table notebook</a>'\n",
              "          + ' to learn more about interactive tables.';\n",
              "        element.innerHTML = '';\n",
              "        dataTable['output_type'] = 'display_data';\n",
              "        await google.colab.output.renderOutput(dataTable, element);\n",
              "        const docLink = document.createElement('div');\n",
              "        docLink.innerHTML = docLinkHtml;\n",
              "        element.appendChild(docLink);\n",
              "      }\n",
              "    </script>\n",
              "  </div>\n",
              "\n",
              "\n",
              "<div id=\"df-9442709c-f3eb-415b-8e6a-3455bdf18272\">\n",
              "  <button class=\"colab-df-quickchart\" onclick=\"quickchart('df-9442709c-f3eb-415b-8e6a-3455bdf18272')\"\n",
              "            title=\"Suggest charts.\"\n",
              "            style=\"display:none;\">\n",
              "\n",
              "<svg xmlns=\"http://www.w3.org/2000/svg\" height=\"24px\"viewBox=\"0 0 24 24\"\n",
              "     width=\"24px\">\n",
              "    <g>\n",
              "        <path d=\"M19 3H5c-1.1 0-2 .9-2 2v14c0 1.1.9 2 2 2h14c1.1 0 2-.9 2-2V5c0-1.1-.9-2-2-2zM9 17H7v-7h2v7zm4 0h-2V7h2v10zm4 0h-2v-4h2v4z\"/>\n",
              "    </g>\n",
              "</svg>\n",
              "  </button>\n",
              "\n",
              "<style>\n",
              "  .colab-df-quickchart {\n",
              "      --bg-color: #E8F0FE;\n",
              "      --fill-color: #1967D2;\n",
              "      --hover-bg-color: #E2EBFA;\n",
              "      --hover-fill-color: #174EA6;\n",
              "      --disabled-fill-color: #AAA;\n",
              "      --disabled-bg-color: #DDD;\n",
              "  }\n",
              "\n",
              "  [theme=dark] .colab-df-quickchart {\n",
              "      --bg-color: #3B4455;\n",
              "      --fill-color: #D2E3FC;\n",
              "      --hover-bg-color: #434B5C;\n",
              "      --hover-fill-color: #FFFFFF;\n",
              "      --disabled-bg-color: #3B4455;\n",
              "      --disabled-fill-color: #666;\n",
              "  }\n",
              "\n",
              "  .colab-df-quickchart {\n",
              "    background-color: var(--bg-color);\n",
              "    border: none;\n",
              "    border-radius: 50%;\n",
              "    cursor: pointer;\n",
              "    display: none;\n",
              "    fill: var(--fill-color);\n",
              "    height: 32px;\n",
              "    padding: 0;\n",
              "    width: 32px;\n",
              "  }\n",
              "\n",
              "  .colab-df-quickchart:hover {\n",
              "    background-color: var(--hover-bg-color);\n",
              "    box-shadow: 0 1px 2px rgba(60, 64, 67, 0.3), 0 1px 3px 1px rgba(60, 64, 67, 0.15);\n",
              "    fill: var(--button-hover-fill-color);\n",
              "  }\n",
              "\n",
              "  .colab-df-quickchart-complete:disabled,\n",
              "  .colab-df-quickchart-complete:disabled:hover {\n",
              "    background-color: var(--disabled-bg-color);\n",
              "    fill: var(--disabled-fill-color);\n",
              "    box-shadow: none;\n",
              "  }\n",
              "\n",
              "  .colab-df-spinner {\n",
              "    border: 2px solid var(--fill-color);\n",
              "    border-color: transparent;\n",
              "    border-bottom-color: var(--fill-color);\n",
              "    animation:\n",
              "      spin 1s steps(1) infinite;\n",
              "  }\n",
              "\n",
              "  @keyframes spin {\n",
              "    0% {\n",
              "      border-color: transparent;\n",
              "      border-bottom-color: var(--fill-color);\n",
              "      border-left-color: var(--fill-color);\n",
              "    }\n",
              "    20% {\n",
              "      border-color: transparent;\n",
              "      border-left-color: var(--fill-color);\n",
              "      border-top-color: var(--fill-color);\n",
              "    }\n",
              "    30% {\n",
              "      border-color: transparent;\n",
              "      border-left-color: var(--fill-color);\n",
              "      border-top-color: var(--fill-color);\n",
              "      border-right-color: var(--fill-color);\n",
              "    }\n",
              "    40% {\n",
              "      border-color: transparent;\n",
              "      border-right-color: var(--fill-color);\n",
              "      border-top-color: var(--fill-color);\n",
              "    }\n",
              "    60% {\n",
              "      border-color: transparent;\n",
              "      border-right-color: var(--fill-color);\n",
              "    }\n",
              "    80% {\n",
              "      border-color: transparent;\n",
              "      border-right-color: var(--fill-color);\n",
              "      border-bottom-color: var(--fill-color);\n",
              "    }\n",
              "    90% {\n",
              "      border-color: transparent;\n",
              "      border-bottom-color: var(--fill-color);\n",
              "    }\n",
              "  }\n",
              "</style>\n",
              "\n",
              "  <script>\n",
              "    async function quickchart(key) {\n",
              "      const quickchartButtonEl =\n",
              "        document.querySelector('#' + key + ' button');\n",
              "      quickchartButtonEl.disabled = true;  // To prevent multiple clicks.\n",
              "      quickchartButtonEl.classList.add('colab-df-spinner');\n",
              "      try {\n",
              "        const charts = await google.colab.kernel.invokeFunction(\n",
              "            'suggestCharts', [key], {});\n",
              "      } catch (error) {\n",
              "        console.error('Error during call to suggestCharts:', error);\n",
              "      }\n",
              "      quickchartButtonEl.classList.remove('colab-df-spinner');\n",
              "      quickchartButtonEl.classList.add('colab-df-quickchart-complete');\n",
              "    }\n",
              "    (() => {\n",
              "      let quickchartButtonEl =\n",
              "        document.querySelector('#df-9442709c-f3eb-415b-8e6a-3455bdf18272 button');\n",
              "      quickchartButtonEl.style.display =\n",
              "        google.colab.kernel.accessAllowed ? 'block' : 'none';\n",
              "    })();\n",
              "  </script>\n",
              "</div>\n",
              "    </div>\n",
              "  </div>\n"
            ]
          },
          "metadata": {},
          "execution_count": 4
        }
      ]
    },
    {
      "cell_type": "markdown",
      "source": [
        "# **Info**\n",
        "---"
      ],
      "metadata": {
        "id": "--_BJPiXydzq"
      }
    },
    {
      "cell_type": "code",
      "source": [
        "data.info()"
      ],
      "metadata": {
        "id": "P6BN_6sUu4q0",
        "colab": {
          "base_uri": "https://localhost:8080/"
        },
        "outputId": "e2072269-9a84-4201-afcc-32ae5996758e"
      },
      "execution_count": null,
      "outputs": [
        {
          "output_type": "stream",
          "name": "stdout",
          "text": [
            "<class 'pandas.core.frame.DataFrame'>\n",
            "RangeIndex: 506 entries, 0 to 505\n",
            "Data columns (total 14 columns):\n",
            " #   Column   Non-Null Count  Dtype  \n",
            "---  ------   --------------  -----  \n",
            " 0   crim     506 non-null    float64\n",
            " 1   zn       506 non-null    float64\n",
            " 2   indus    506 non-null    float64\n",
            " 3   chas     506 non-null    int64  \n",
            " 4   nox      506 non-null    float64\n",
            " 5   rm       506 non-null    float64\n",
            " 6   age      506 non-null    float64\n",
            " 7   dis      506 non-null    float64\n",
            " 8   rad      506 non-null    int64  \n",
            " 9   tax      506 non-null    int64  \n",
            " 10  ptratio  506 non-null    float64\n",
            " 11  b        506 non-null    float64\n",
            " 12  lstat    506 non-null    float64\n",
            " 13  medv     506 non-null    float64\n",
            "dtypes: float64(11), int64(3)\n",
            "memory usage: 55.5 KB\n"
          ]
        }
      ]
    },
    {
      "cell_type": "markdown",
      "source": [
        "# **Split**\n",
        "---"
      ],
      "metadata": {
        "id": "5XLVj0PE01He"
      }
    },
    {
      "cell_type": "code",
      "source": [
        "X = data.drop(['medv'], axis = 1)\n",
        "y = data['medv']"
      ],
      "metadata": {
        "id": "AP14WbPs0xeg"
      },
      "execution_count": null,
      "outputs": []
    },
    {
      "cell_type": "code",
      "source": [
        "data.shape[0]*0.25"
      ],
      "metadata": {
        "colab": {
          "base_uri": "https://localhost:8080/"
        },
        "id": "QhEj45oP1E5a",
        "outputId": "bb3f7406-3755-4122-8c3f-8a2394a06577"
      },
      "execution_count": null,
      "outputs": [
        {
          "output_type": "execute_result",
          "data": {
            "text/plain": [
              "126.5"
            ]
          },
          "metadata": {},
          "execution_count": 7
        }
      ]
    },
    {
      "cell_type": "code",
      "source": [
        "X_train, X_test, y_train, y_test = train_test_split(\n",
        "    X,\n",
        "    y,\n",
        "    train_size=0.85,\n",
        "    random_state=12354,\n",
        "    shuffle=True)"
      ],
      "metadata": {
        "id": "hi7m4Eqf1NSz"
      },
      "execution_count": null,
      "outputs": []
    },
    {
      "cell_type": "markdown",
      "source": [
        "# **Functions**\n",
        "---"
      ],
      "metadata": {
        "id": "HymqVtHB4dRi"
      }
    },
    {
      "cell_type": "code",
      "source": [
        "def create_model(**kward)-> object:\n",
        "  model = RandomForestRegressor(\n",
        "      **kward\n",
        "  )\n",
        "  return model"
      ],
      "metadata": {
        "id": "8d9LHWZd0UpT"
      },
      "execution_count": null,
      "outputs": []
    },
    {
      "cell_type": "code",
      "source": [
        "# Bucle para entrenar un modelo con cada valor de n_estimators y extraer su error\n",
        "# de entrenamiento .\n",
        "\n",
        "def training_validation_loop(model,\n",
        "    estimator_range :range,\n",
        "    X_train: pd.core.frame.DataFrame,\n",
        "    y_train: pd.core.series.Series,\n",
        "    )->tuple:\n",
        "  train_scores, score = [], []\n",
        "  for n_estimator in estimator_range:\n",
        "    modl = model\n",
        "    modl.n_estimators = n_estimator\n",
        "    modl.fit(X_train, y_train)\n",
        "\n",
        "    if model.oob_score:\n",
        "      score.append(modl.oob_score_)\n",
        "      train_scores.append(\n",
        "        modl.score(X_train, y_train)\n",
        "      )\n",
        "    else:\n",
        "      y_predict = modl.predict(X_train)\n",
        "      rmse = mean_squared_error(\n",
        "            y_train,\n",
        "            y_predict,\n",
        "            squared = False\n",
        "      )\n",
        "      train_scores.append(rmse)\n",
        "      scores = cross_val_score(\n",
        "        estimator = model,\n",
        "        X = X_train,\n",
        "        y = y_train,\n",
        "        scoring = 'neg_root_mean_squared_error',\n",
        "        cv = 5\n",
        "    )\n",
        "      score.append(-1*scores.mean())\n",
        "  return train_scores, score"
      ],
      "metadata": {
        "id": "AI6kw6474ckb"
      },
      "execution_count": null,
      "outputs": []
    },
    {
      "cell_type": "code",
      "source": [
        "def error_vs_nstimators(\n",
        "    train_scores:list,\n",
        "    score:list,\n",
        "    estimator_range:range,\n",
        "    figsize:tuple = (10, 4),\n",
        "    **kward\n",
        "    )->None:\n",
        "  d = kward\n",
        "  fig, ax = plt.subplots(figsize=figsize)\n",
        "  ax.plot(estimator_range, train_scores, label=d['X_label'])\n",
        "  ax.plot(estimator_range, score, label=d['y_label'])\n",
        "  ax.plot(estimator_range[np.argmax(score)], max(score),\n",
        "        marker='o', color='red', label='max score')\n",
        "  ax.set_ylabel(\"R^2\")\n",
        "  ax.set_xlabel(\"n_estimators\")\n",
        "  ax.set_title(d['title'])\n",
        "  plt.legend();\n",
        "  print(f\"Valor óptimo de n_estimators: {estimator_range[np.argmax(score)]}\")\n",
        "  plt.show()"
      ],
      "metadata": {
        "id": "nnwD0BYPEIOo"
      },
      "execution_count": null,
      "outputs": []
    },
    {
      "cell_type": "markdown",
      "source": [
        "#**Model**\n",
        "---"
      ],
      "metadata": {
        "id": "Q82mMaiI1zOa"
      }
    },
    {
      "cell_type": "code",
      "source": [
        "dic_params = {\n",
        "    \"n_estimators\":100, #Numero de arboles incluido en el modelo\n",
        "    \"criterion\":'squared_error',\n",
        "    \"max_depth\":None, #profundidad máxima que pueden alcanzar los árboles.\n",
        "    \"max_features\":'auto', # Numero de caracteristicas\n",
        "    \"oob_score\":True, # Si se calcula o no el out-of-bag R^2.\n",
        "    \"n_jobs\":-1,\n",
        "    \"random_state\":12354\n",
        "}"
      ],
      "metadata": {
        "id": "1DT5VEjx0UjS"
      },
      "execution_count": null,
      "outputs": []
    },
    {
      "cell_type": "code",
      "source": [
        "model = create_model(**dic_params)"
      ],
      "metadata": {
        "id": "j0LuJ3Te12r6"
      },
      "execution_count": null,
      "outputs": []
    },
    {
      "cell_type": "code",
      "source": [
        "type(model)"
      ],
      "metadata": {
        "colab": {
          "base_uri": "https://localhost:8080/"
        },
        "id": "TBNktqqI0sdg",
        "outputId": "3818041b-2972-4f08-fa18-d8a4a84a4888"
      },
      "execution_count": null,
      "outputs": [
        {
          "output_type": "execute_result",
          "data": {
            "text/plain": [
              "sklearn.ensemble._forest.RandomForestRegressor"
            ]
          },
          "metadata": {},
          "execution_count": 14
        }
      ]
    },
    {
      "cell_type": "code",
      "source": [
        "model.fit(X_train, y_train)"
      ],
      "metadata": {
        "colab": {
          "base_uri": "https://localhost:8080/",
          "height": 92
        },
        "id": "ApRV6Tir32Ru",
        "outputId": "f47f1020-82a1-451e-85ff-ea76016c8c74"
      },
      "execution_count": null,
      "outputs": [
        {
          "output_type": "execute_result",
          "data": {
            "text/plain": [
              "RandomForestRegressor(max_features='auto', n_jobs=-1, oob_score=True,\n",
              "                      random_state=12354)"
            ],
            "text/html": [
              "<style>#sk-container-id-1 {color: black;background-color: white;}#sk-container-id-1 pre{padding: 0;}#sk-container-id-1 div.sk-toggleable {background-color: white;}#sk-container-id-1 label.sk-toggleable__label {cursor: pointer;display: block;width: 100%;margin-bottom: 0;padding: 0.3em;box-sizing: border-box;text-align: center;}#sk-container-id-1 label.sk-toggleable__label-arrow:before {content: \"▸\";float: left;margin-right: 0.25em;color: #696969;}#sk-container-id-1 label.sk-toggleable__label-arrow:hover:before {color: black;}#sk-container-id-1 div.sk-estimator:hover label.sk-toggleable__label-arrow:before {color: black;}#sk-container-id-1 div.sk-toggleable__content {max-height: 0;max-width: 0;overflow: hidden;text-align: left;background-color: #f0f8ff;}#sk-container-id-1 div.sk-toggleable__content pre {margin: 0.2em;color: black;border-radius: 0.25em;background-color: #f0f8ff;}#sk-container-id-1 input.sk-toggleable__control:checked~div.sk-toggleable__content {max-height: 200px;max-width: 100%;overflow: auto;}#sk-container-id-1 input.sk-toggleable__control:checked~label.sk-toggleable__label-arrow:before {content: \"▾\";}#sk-container-id-1 div.sk-estimator input.sk-toggleable__control:checked~label.sk-toggleable__label {background-color: #d4ebff;}#sk-container-id-1 div.sk-label input.sk-toggleable__control:checked~label.sk-toggleable__label {background-color: #d4ebff;}#sk-container-id-1 input.sk-hidden--visually {border: 0;clip: rect(1px 1px 1px 1px);clip: rect(1px, 1px, 1px, 1px);height: 1px;margin: -1px;overflow: hidden;padding: 0;position: absolute;width: 1px;}#sk-container-id-1 div.sk-estimator {font-family: monospace;background-color: #f0f8ff;border: 1px dotted black;border-radius: 0.25em;box-sizing: border-box;margin-bottom: 0.5em;}#sk-container-id-1 div.sk-estimator:hover {background-color: #d4ebff;}#sk-container-id-1 div.sk-parallel-item::after {content: \"\";width: 100%;border-bottom: 1px solid gray;flex-grow: 1;}#sk-container-id-1 div.sk-label:hover label.sk-toggleable__label {background-color: #d4ebff;}#sk-container-id-1 div.sk-serial::before {content: \"\";position: absolute;border-left: 1px solid gray;box-sizing: border-box;top: 0;bottom: 0;left: 50%;z-index: 0;}#sk-container-id-1 div.sk-serial {display: flex;flex-direction: column;align-items: center;background-color: white;padding-right: 0.2em;padding-left: 0.2em;position: relative;}#sk-container-id-1 div.sk-item {position: relative;z-index: 1;}#sk-container-id-1 div.sk-parallel {display: flex;align-items: stretch;justify-content: center;background-color: white;position: relative;}#sk-container-id-1 div.sk-item::before, #sk-container-id-1 div.sk-parallel-item::before {content: \"\";position: absolute;border-left: 1px solid gray;box-sizing: border-box;top: 0;bottom: 0;left: 50%;z-index: -1;}#sk-container-id-1 div.sk-parallel-item {display: flex;flex-direction: column;z-index: 1;position: relative;background-color: white;}#sk-container-id-1 div.sk-parallel-item:first-child::after {align-self: flex-end;width: 50%;}#sk-container-id-1 div.sk-parallel-item:last-child::after {align-self: flex-start;width: 50%;}#sk-container-id-1 div.sk-parallel-item:only-child::after {width: 0;}#sk-container-id-1 div.sk-dashed-wrapped {border: 1px dashed gray;margin: 0 0.4em 0.5em 0.4em;box-sizing: border-box;padding-bottom: 0.4em;background-color: white;}#sk-container-id-1 div.sk-label label {font-family: monospace;font-weight: bold;display: inline-block;line-height: 1.2em;}#sk-container-id-1 div.sk-label-container {text-align: center;}#sk-container-id-1 div.sk-container {/* jupyter's `normalize.less` sets `[hidden] { display: none; }` but bootstrap.min.css set `[hidden] { display: none !important; }` so we also need the `!important` here to be able to override the default hidden behavior on the sphinx rendered scikit-learn.org. See: https://github.com/scikit-learn/scikit-learn/issues/21755 */display: inline-block !important;position: relative;}#sk-container-id-1 div.sk-text-repr-fallback {display: none;}</style><div id=\"sk-container-id-1\" class=\"sk-top-container\"><div class=\"sk-text-repr-fallback\"><pre>RandomForestRegressor(max_features=&#x27;auto&#x27;, n_jobs=-1, oob_score=True,\n",
              "                      random_state=12354)</pre><b>In a Jupyter environment, please rerun this cell to show the HTML representation or trust the notebook. <br />On GitHub, the HTML representation is unable to render, please try loading this page with nbviewer.org.</b></div><div class=\"sk-container\" hidden><div class=\"sk-item\"><div class=\"sk-estimator sk-toggleable\"><input class=\"sk-toggleable__control sk-hidden--visually\" id=\"sk-estimator-id-1\" type=\"checkbox\" checked><label for=\"sk-estimator-id-1\" class=\"sk-toggleable__label sk-toggleable__label-arrow\">RandomForestRegressor</label><div class=\"sk-toggleable__content\"><pre>RandomForestRegressor(max_features=&#x27;auto&#x27;, n_jobs=-1, oob_score=True,\n",
              "                      random_state=12354)</pre></div></div></div></div></div>"
            ]
          },
          "metadata": {},
          "execution_count": 15
        }
      ]
    },
    {
      "cell_type": "code",
      "source": [
        "model.score(X_train, y_train)"
      ],
      "metadata": {
        "colab": {
          "base_uri": "https://localhost:8080/"
        },
        "id": "7z53gQdz79lr",
        "outputId": "f9d378ef-2b56-4bd0-d31e-91ffca4c33c2"
      },
      "execution_count": null,
      "outputs": [
        {
          "output_type": "execute_result",
          "data": {
            "text/plain": [
              "0.9814433652142011"
            ]
          },
          "metadata": {},
          "execution_count": 16
        }
      ]
    },
    {
      "cell_type": "markdown",
      "source": [
        "- A partir del coeficiente de determinacion, se puede ver que el modelo se adapta bien a los datos."
      ],
      "metadata": {
        "id": "JSAbBpmI8ph4"
      }
    },
    {
      "cell_type": "code",
      "source": [
        "y_prediction = model.predict(X_test)"
      ],
      "metadata": {
        "id": "DeYEzNh44nA2"
      },
      "execution_count": null,
      "outputs": []
    },
    {
      "cell_type": "code",
      "source": [
        "squared_error = mean_squared_error(\n",
        "    y_true = y_test,\n",
        "    y_pred = y_prediction,\n",
        "    squared=False\n",
        ")"
      ],
      "metadata": {
        "id": "-efI4nSt4u9n"
      },
      "execution_count": null,
      "outputs": []
    },
    {
      "cell_type": "code",
      "source": [
        "print(f\"The test error is: {squared_error}\")"
      ],
      "metadata": {
        "colab": {
          "base_uri": "https://localhost:8080/"
        },
        "id": "a1THx8yw5ADg",
        "outputId": "24005a8b-12f2-4fe1-b0de-aa6c58f0645e"
      },
      "execution_count": null,
      "outputs": [
        {
          "output_type": "stream",
          "name": "stdout",
          "text": [
            "The test error is: 3.0560664001466424\n"
          ]
        }
      ]
    },
    {
      "cell_type": "markdown",
      "source": [
        "- No es un error pronunciado"
      ],
      "metadata": {
        "id": "4VxN2dLyv-MH"
      }
    },
    {
      "cell_type": "markdown",
      "source": [
        "# **Seleccion del numero de estimadores**\n",
        "---"
      ],
      "metadata": {
        "id": "A4Ee_gh3TASb"
      }
    },
    {
      "cell_type": "markdown",
      "source": [
        "##**Validación empleando el Out-of-Bag error**\n",
        "---\n",
        "\n"
      ],
      "metadata": {
        "id": "xlZe0hhn6aEG"
      }
    },
    {
      "cell_type": "code",
      "source": [
        "train_scores = []\n",
        "oob_scores = []\n",
        "estimator_range = range(1, 150, 5)"
      ],
      "metadata": {
        "id": "sMU-Jtmu6e10"
      },
      "execution_count": null,
      "outputs": []
    },
    {
      "cell_type": "markdown",
      "source": [
        " **max_features**: el valor predeterminado de 1,0 es equivalente a árboles embolsados ​​y se puede lograr más aleatoriedad estableciendo valores más pequeños, por ejemplo, 0,3."
      ],
      "metadata": {
        "id": "y4-TpJl1wyho"
      }
    },
    {
      "cell_type": "code",
      "source": [
        "type(y_train)"
      ],
      "metadata": {
        "colab": {
          "base_uri": "https://localhost:8080/"
        },
        "id": "StwdcyEW2y6a",
        "outputId": "88cb53c6-87c9-4a09-ae30-4c2d88502cf1"
      },
      "execution_count": null,
      "outputs": [
        {
          "output_type": "execute_result",
          "data": {
            "text/plain": [
              "pandas.core.series.Series"
            ]
          },
          "metadata": {},
          "execution_count": 21
        }
      ]
    },
    {
      "cell_type": "code",
      "source": [
        "dic_params = {\n",
        "    \"criterion\":'squared_error',\n",
        "    \"max_depth\":None, #profundidad máxima que pueden alcanzar los árboles.\n",
        "    \"max_features\":'auto', # Numero de caracteristicas\n",
        "    \"oob_score\":True, # Si se calcula o no el out-of-bag R^2.\n",
        "    \"n_jobs\":-1,\n",
        "    \"random_state\":12354\n",
        "}\n",
        "model = create_model(**dic_params)\n",
        "train_scores, oob_scores = training_validation_loop(\n",
        "    model,\n",
        "    estimator_range,\n",
        "    X_train,\n",
        "    y_train\n",
        ")\n",
        "\n"
      ],
      "metadata": {
        "id": "Y62Uf74k3ouL"
      },
      "execution_count": null,
      "outputs": []
    },
    {
      "cell_type": "code",
      "source": [
        "np.argmax(oob_scores)"
      ],
      "metadata": {
        "colab": {
          "base_uri": "https://localhost:8080/"
        },
        "id": "V6iLAZoE43VW",
        "outputId": "1ca5fa5a-9bad-4b86-e12b-806dc04166a2"
      },
      "execution_count": null,
      "outputs": [
        {
          "output_type": "execute_result",
          "data": {
            "text/plain": [
              "11"
            ]
          },
          "metadata": {},
          "execution_count": 23
        }
      ]
    },
    {
      "cell_type": "code",
      "source": [
        "estimator_range[np.argmax(oob_scores)]"
      ],
      "metadata": {
        "colab": {
          "base_uri": "https://localhost:8080/"
        },
        "id": "KjLni0rjB3TP",
        "outputId": "565340b6-1c90-4373-99f5-517ba4cb966a"
      },
      "execution_count": null,
      "outputs": [
        {
          "output_type": "execute_result",
          "data": {
            "text/plain": [
              "56"
            ]
          },
          "metadata": {},
          "execution_count": 24
        }
      ]
    },
    {
      "cell_type": "markdown",
      "source": [
        "- El numero optimo de estimadores es 56"
      ],
      "metadata": {
        "id": "ko2ewR8Q5tIr"
      }
    },
    {
      "cell_type": "code",
      "source": [
        "diict_labels = {\n",
        "    'X_label' : \"train scores\",\n",
        "    'y_label' : \"out-of-bag scores\",\n",
        "    'title' : \"Evolución del out-of-bag-error vs número árboles\"\n",
        "}\n",
        "error_vs_nstimators(train_scores, oob_scores, estimator_range, **diict_labels)"
      ],
      "metadata": {
        "colab": {
          "base_uri": "https://localhost:8080/",
          "height": 437
        },
        "id": "1-lGAEBT6X_Q",
        "outputId": "f5bbe7a0-18b4-42c6-cf4f-d7a0d4eaf6c9"
      },
      "execution_count": null,
      "outputs": [
        {
          "output_type": "stream",
          "name": "stdout",
          "text": [
            "Valor óptimo de n_estimators: 56\n"
          ]
        },
        {
          "output_type": "display_data",
          "data": {
            "text/plain": [
              "<Figure size 1000x400 with 1 Axes>"
            ],
            "image/png": "[encoded data removed]"
          },
          "metadata": {}
        }
      ]
    },
    {
      "cell_type": "markdown",
      "source": [
        "##**Validación empleando k-cross-validation y neg_root_mean_squared_error**\n",
        "---"
      ],
      "metadata": {
        "id": "GeqniAkqxPmd"
      }
    },
    {
      "cell_type": "code",
      "source": [
        "train_scores = []\n",
        "cv_scores = []\n",
        "dic_params = {\n",
        "    \"criterion\":'squared_error',\n",
        "    \"max_depth\":None, #profundidad máxima que pueden alcanzar los árboles.\n",
        "    \"max_features\":'auto', # Numero de caracteristicas\n",
        "    \"oob_score\":False, # Si se calcula o no el out-of-bag R^2.\n",
        "    \"n_jobs\":-1,\n",
        "    \"random_state\":12354\n",
        "}\n",
        "model = create_model(**dic_params)\n",
        "train_scores, cv_scores = training_validation_loop(\n",
        "    model,\n",
        "    estimator_range,\n",
        "    X_train,\n",
        "    y_train\n",
        ")\n",
        "\n"
      ],
      "metadata": {
        "id": "q-B8guVlEXPG"
      },
      "execution_count": null,
      "outputs": []
    },
    {
      "cell_type": "code",
      "source": [
        "fig, ax = plt.subplots(figsize=(6, 3.84))\n",
        "ax.plot(estimator_range, train_scores, label=\"train scores\")\n",
        "ax.plot(estimator_range, cv_scores, label=\"cv scores\")\n",
        "ax.plot(estimator_range[np.argmin(cv_scores)], min(cv_scores),\n",
        "        marker='o', color = \"red\", label=\"min score\")\n",
        "ax.set_ylabel(\"root_mean_squared_error\")\n",
        "ax.set_xlabel(\"n_estimators\")\n",
        "ax.set_title(\"Evolución del cv-error vs número árboles\")\n",
        "plt.legend();\n",
        "print(f\"Valor óptimo de n_estimators: {estimator_range[np.argmin(cv_scores)]}\")"
      ],
      "metadata": {
        "colab": {
          "base_uri": "https://localhost:8080/",
          "height": 425
        },
        "id": "GruiGdEYFZoE",
        "outputId": "a057d45a-5cfc-40e8-903e-66a9d49abf9c"
      },
      "execution_count": null,
      "outputs": [
        {
          "output_type": "stream",
          "name": "stdout",
          "text": [
            "Valor óptimo de n_estimators: 86\n"
          ]
        },
        {
          "output_type": "display_data",
          "data": {
            "text/plain": [
              "<Figure size 600x384 with 1 Axes>"
            ],
            "image/png": "[encoded data removed]"
          },
          "metadata": {}
        }
      ]
    },
    {
      "cell_type": "markdown",
      "source": [
        "Ambas métricas indican que, a partir de entre 56 y 86 árboles, el error de validación del modelo se estabiliza."
      ],
      "metadata": {
        "id": "iAiWXOsGI-QT"
      }
    },
    {
      "cell_type": "markdown",
      "source": [
        "# **Max features**\n",
        "---\n",
        "\n",
        "El valor de máx_features es uno de los hiperparámetros más importantes de random forest, ya que es el que permite controlar cuánto se decorrelacionan los árboles entre sí.\n"
      ],
      "metadata": {
        "id": "J2AF-hh8TKxI"
      }
    },
    {
      "cell_type": "markdown",
      "source": [
        "# **Validación empleando el Out-of-Bag error**\n",
        "---"
      ],
      "metadata": {
        "id": "D2yUV4oGZ4r4"
      }
    },
    {
      "cell_type": "code",
      "source": [
        "dic_params = {\n",
        "    \"n_estimators\": 100,\n",
        "    \"criterion\":'squared_error',\n",
        "    \"max_depth\":None, #profundidad máxima que pueden alcanzar los árboles.\n",
        "    \"oob_score\":True, # Si se calcula o no el out-of-bag R^2.\n",
        "    \"n_jobs\":-1,\n",
        "    \"random_state\":12354\n",
        "}\n",
        "\n",
        "model = create_model(**dic_params)"
      ],
      "metadata": {
        "id": "dIqVMju4I0U-"
      },
      "execution_count": null,
      "outputs": []
    },
    {
      "cell_type": "code",
      "source": [
        "train_scores, oob_scores = [], []\n",
        "\n",
        "# Rango de caracteristicas para tener encuenta decorrelacion\n",
        "max_feature_range = range(1, X_train.shape[1]+1, 1)\n",
        "max_feature_range"
      ],
      "metadata": {
        "colab": {
          "base_uri": "https://localhost:8080/"
        },
        "id": "QIU3RSNdUaRV",
        "outputId": "659e646b-d9c5-4e5e-9063-d3a5dcdaae14"
      },
      "execution_count": null,
      "outputs": [
        {
          "output_type": "execute_result",
          "data": {
            "text/plain": [
              "range(1, 14)"
            ]
          },
          "metadata": {},
          "execution_count": 29
        }
      ]
    },
    {
      "cell_type": "code",
      "source": [
        "for max_feature in max_feature_range:\n",
        "  model.max_features = max_feature\n",
        "  model.fit(X_train, y_train)\n",
        "  train_scores.append(model.score(X_train, y_train))\n",
        "  oob_scores.append(model.oob_score_)"
      ],
      "metadata": {
        "id": "sX6ofPNoVbQ-"
      },
      "execution_count": null,
      "outputs": []
    },
    {
      "cell_type": "code",
      "source": [
        "fig, ax = plt.subplots(figsize=(6, 3.84))\n",
        "ax.plot(max_feature_range, train_scores, label=\"train scores\")\n",
        "ax.plot(max_feature_range, oob_scores, label=\"out-of-bag scores\")\n",
        "ax.plot(max_feature_range[np.argmax(oob_scores)], max(oob_scores),\n",
        "        marker='o', color = \"red\")\n",
        "ax.set_ylabel(\"R^2\")\n",
        "ax.set_xlabel(\"max_features\")\n",
        "ax.set_title(\"Evolución del out-of-bag-error vs número de predictores\")\n",
        "plt.legend();\n",
        "print(f\"Valor óptimo de max_features: {max_feature_range[np.argmax(oob_scores)]}\")"
      ],
      "metadata": {
        "colab": {
          "base_uri": "https://localhost:8080/",
          "height": 425
        },
        "id": "s68GoksRWWmh",
        "outputId": "e5accd3a-464e-45d0-cc33-8244f27515b0"
      },
      "execution_count": null,
      "outputs": [
        {
          "output_type": "stream",
          "name": "stdout",
          "text": [
            "Valor óptimo de max_features: 11\n"
          ]
        },
        {
          "output_type": "display_data",
          "data": {
            "text/plain": [
              "<Figure size 600x384 with 1 Axes>"
            ],
            "image/png": "[encoded data removed]"
          },
          "metadata": {}
        }
      ]
    },
    {
      "cell_type": "markdown",
      "source": [
        "# **Validación empleando k-cross-validation y neg_root_mean_squared_error**\n",
        "---"
      ],
      "metadata": {
        "id": "bk2PE1RUahYe"
      }
    },
    {
      "cell_type": "code",
      "source": [
        "train_scores, cv_scores = [], []\n",
        "for max_feature in max_feature_range:\n",
        "  model.max_features = max_feature\n",
        "  model.fit(X_train, y_train)\n",
        "  y_predict = model.predict(X_train)\n",
        "  rmse = mean_squared_error(\n",
        "      y_train,\n",
        "      y_predict,\n",
        "      squared = False\n",
        "  )\n",
        "  train_scores.append(rmse)\n",
        "  scores = cross_val_score(\n",
        "      model,\n",
        "      X_train,\n",
        "      y_train,\n",
        "      scoring = 'neg_root_mean_squared_error',\n",
        "      cv = 5\n",
        "  )\n",
        "  cv_scores.append(-1*scores.mean())"
      ],
      "metadata": {
        "id": "R2VYydgWXCHN"
      },
      "execution_count": null,
      "outputs": []
    },
    {
      "cell_type": "code",
      "source": [
        "fig, ax = plt.subplots(figsize=(6, 3.84))\n",
        "ax.plot(max_feature_range, train_scores, label=\"train scores\")\n",
        "ax.plot(max_feature_range, cv_scores, label=\"cv scores\")\n",
        "ax.plot(max_feature_range[np.argmin(cv_scores)], min(cv_scores),\n",
        "        marker='o', color = \"red\", label=\"min score\")\n",
        "ax.set_ylabel(\"root_mean_squared_error\")\n",
        "ax.set_xlabel(\"max_features\")\n",
        "ax.set_title(\"Evolución del cv-error vs número de predictores\")\n",
        "plt.legend();\n",
        "print(f\"Valor óptimo de max_features: {max_feature_range[np.argmin(cv_scores)]}\")"
      ],
      "metadata": {
        "colab": {
          "base_uri": "https://localhost:8080/",
          "height": 425
        },
        "id": "PbO3K3-ocuK6",
        "outputId": "f721ecac-d485-4f97-a378-7341bb1356bf"
      },
      "execution_count": null,
      "outputs": [
        {
          "output_type": "stream",
          "name": "stdout",
          "text": [
            "Valor óptimo de max_features: 9\n"
          ]
        },
        {
          "output_type": "display_data",
          "data": {
            "text/plain": [
              "<Figure size 600x384 with 1 Axes>"
            ],
            "image/png": "[encoded data removed]"
          },
          "metadata": {}
        }
      ]
    },
    {
      "cell_type": "markdown",
      "source": [
        "Acorde a las dos métricas utilizadas, el valor óptimo de max_features está entre 9 y 11."
      ],
      "metadata": {
        "id": "CW_4wNQ3dN1L"
      }
    },
    {
      "cell_type": "markdown",
      "source": [
        "La búsqueda final no debe hacerse de forma secuencial, ya que cada hiperparámetro interacciona con los demás. Es preferible recurrir a grid search o random search para analizar varias combinaciones de hiperparámetros."
      ],
      "metadata": {
        "id": "SQMyZTzSdanJ"
      }
    },
    {
      "cell_type": "markdown",
      "source": [
        "# **Grid Search basado en out-of-bag error**\n",
        "---\n"
      ],
      "metadata": {
        "id": "v29m23bPeeMi"
      }
    },
    {
      "cell_type": "code",
      "source": [
        "dict_param = ParameterGrid(\n",
        "    {'n_estimators': [100, 150, 200],\n",
        "     'max_features': [5, 8, 11],\n",
        "     'max_depth': [None, 3, 10, 20]}\n",
        ")"
      ],
      "metadata": {
        "id": "sNZich_fdRrG"
      },
      "execution_count": null,
      "outputs": []
    },
    {
      "cell_type": "code",
      "source": [
        "resultados = {\n",
        "    'params': [],\n",
        "    'oob_r2': []\n",
        "}"
      ],
      "metadata": {
        "id": "kpHjPHPGecJa"
      },
      "execution_count": null,
      "outputs": []
    },
    {
      "cell_type": "code",
      "source": [
        "for params in dict_param:\n",
        "  model = RandomForestRegressor(\n",
        "        oob_score    = True,\n",
        "        n_jobs       = -1,\n",
        "        random_state = 123,\n",
        "        ** params\n",
        "      )\n",
        "  model.fit(X_train, y_train)\n",
        "  resultados['params'].append(params)\n",
        "  resultados['oob_r2'].append(model.oob_score_)\n",
        "  print(f\"Modelo: {params} \\u2713\")"
      ],
      "metadata": {
        "colab": {
          "base_uri": "https://localhost:8080/"
        },
        "id": "PeakjQiOezNG",
        "outputId": "5c5689aa-3b42-4c57-d401-2e6886b2c92d"
      },
      "execution_count": null,
      "outputs": [
        {
          "output_type": "stream",
          "name": "stdout",
          "text": [
            "Modelo: {'max_depth': None, 'max_features': 5, 'n_estimators': 100} ✓\n",
            "Modelo: {'max_depth': None, 'max_features': 5, 'n_estimators': 150} ✓\n",
            "Modelo: {'max_depth': None, 'max_features': 5, 'n_estimators': 200} ✓\n",
            "Modelo: {'max_depth': None, 'max_features': 8, 'n_estimators': 100} ✓\n",
            "Modelo: {'max_depth': None, 'max_features': 8, 'n_estimators': 150} ✓\n",
            "Modelo: {'max_depth': None, 'max_features': 8, 'n_estimators': 200} ✓\n",
            "Modelo: {'max_depth': None, 'max_features': 11, 'n_estimators': 100} ✓\n",
            "Modelo: {'max_depth': None, 'max_features': 11, 'n_estimators': 150} ✓\n",
            "Modelo: {'max_depth': None, 'max_features': 11, 'n_estimators': 200} ✓\n",
            "Modelo: {'max_depth': 3, 'max_features': 5, 'n_estimators': 100} ✓\n",
            "Modelo: {'max_depth': 3, 'max_features': 5, 'n_estimators': 150} ✓\n",
            "Modelo: {'max_depth': 3, 'max_features': 5, 'n_estimators': 200} ✓\n",
            "Modelo: {'max_depth': 3, 'max_features': 8, 'n_estimators': 100} ✓\n",
            "Modelo: {'max_depth': 3, 'max_features': 8, 'n_estimators': 150} ✓\n",
            "Modelo: {'max_depth': 3, 'max_features': 8, 'n_estimators': 200} ✓\n",
            "Modelo: {'max_depth': 3, 'max_features': 11, 'n_estimators': 100} ✓\n",
            "Modelo: {'max_depth': 3, 'max_features': 11, 'n_estimators': 150} ✓\n",
            "Modelo: {'max_depth': 3, 'max_features': 11, 'n_estimators': 200} ✓\n",
            "Modelo: {'max_depth': 10, 'max_features': 5, 'n_estimators': 100} ✓\n",
            "Modelo: {'max_depth': 10, 'max_features': 5, 'n_estimators': 150} ✓\n",
            "Modelo: {'max_depth': 10, 'max_features': 5, 'n_estimators': 200} ✓\n",
            "Modelo: {'max_depth': 10, 'max_features': 8, 'n_estimators': 100} ✓\n",
            "Modelo: {'max_depth': 10, 'max_features': 8, 'n_estimators': 150} ✓\n",
            "Modelo: {'max_depth': 10, 'max_features': 8, 'n_estimators': 200} ✓\n",
            "Modelo: {'max_depth': 10, 'max_features': 11, 'n_estimators': 100} ✓\n",
            "Modelo: {'max_depth': 10, 'max_features': 11, 'n_estimators': 150} ✓\n",
            "Modelo: {'max_depth': 10, 'max_features': 11, 'n_estimators': 200} ✓\n",
            "Modelo: {'max_depth': 20, 'max_features': 5, 'n_estimators': 100} ✓\n",
            "Modelo: {'max_depth': 20, 'max_features': 5, 'n_estimators': 150} ✓\n",
            "Modelo: {'max_depth': 20, 'max_features': 5, 'n_estimators': 200} ✓\n",
            "Modelo: {'max_depth': 20, 'max_features': 8, 'n_estimators': 100} ✓\n",
            "Modelo: {'max_depth': 20, 'max_features': 8, 'n_estimators': 150} ✓\n",
            "Modelo: {'max_depth': 20, 'max_features': 8, 'n_estimators': 200} ✓\n",
            "Modelo: {'max_depth': 20, 'max_features': 11, 'n_estimators': 100} ✓\n",
            "Modelo: {'max_depth': 20, 'max_features': 11, 'n_estimators': 150} ✓\n",
            "Modelo: {'max_depth': 20, 'max_features': 11, 'n_estimators': 200} ✓\n"
          ]
        }
      ]
    },
    {
      "cell_type": "code",
      "source": [
        "resultados"
      ],
      "metadata": {
        "colab": {
          "base_uri": "https://localhost:8080/"
        },
        "id": "hpiVSU1ehGnh",
        "outputId": "a4774b0e-0cf3-44c5-df0e-44f3f24ff4c6"
      },
      "execution_count": null,
      "outputs": [
        {
          "output_type": "execute_result",
          "data": {
            "text/plain": [
              "{'params': [{'max_depth': None, 'max_features': 5, 'n_estimators': 100},\n",
              "  {'max_depth': None, 'max_features': 5, 'n_estimators': 150},\n",
              "  {'max_depth': None, 'max_features': 5, 'n_estimators': 200},\n",
              "  {'max_depth': None, 'max_features': 8, 'n_estimators': 100},\n",
              "  {'max_depth': None, 'max_features': 8, 'n_estimators': 150},\n",
              "  {'max_depth': None, 'max_features': 8, 'n_estimators': 200},\n",
              "  {'max_depth': None, 'max_features': 11, 'n_estimators': 100},\n",
              "  {'max_depth': None, 'max_features': 11, 'n_estimators': 150},\n",
              "  {'max_depth': None, 'max_features': 11, 'n_estimators': 200},\n",
              "  {'max_depth': 3, 'max_features': 5, 'n_estimators': 100},\n",
              "  {'max_depth': 3, 'max_features': 5, 'n_estimators': 150},\n",
              "  {'max_depth': 3, 'max_features': 5, 'n_estimators': 200},\n",
              "  {'max_depth': 3, 'max_features': 8, 'n_estimators': 100},\n",
              "  {'max_depth': 3, 'max_features': 8, 'n_estimators': 150},\n",
              "  {'max_depth': 3, 'max_features': 8, 'n_estimators': 200},\n",
              "  {'max_depth': 3, 'max_features': 11, 'n_estimators': 100},\n",
              "  {'max_depth': 3, 'max_features': 11, 'n_estimators': 150},\n",
              "  {'max_depth': 3, 'max_features': 11, 'n_estimators': 200},\n",
              "  {'max_depth': 10, 'max_features': 5, 'n_estimators': 100},\n",
              "  {'max_depth': 10, 'max_features': 5, 'n_estimators': 150},\n",
              "  {'max_depth': 10, 'max_features': 5, 'n_estimators': 200},\n",
              "  {'max_depth': 10, 'max_features': 8, 'n_estimators': 100},\n",
              "  {'max_depth': 10, 'max_features': 8, 'n_estimators': 150},\n",
              "  {'max_depth': 10, 'max_features': 8, 'n_estimators': 200},\n",
              "  {'max_depth': 10, 'max_features': 11, 'n_estimators': 100},\n",
              "  {'max_depth': 10, 'max_features': 11, 'n_estimators': 150},\n",
              "  {'max_depth': 10, 'max_features': 11, 'n_estimators': 200},\n",
              "  {'max_depth': 20, 'max_features': 5, 'n_estimators': 100},\n",
              "  {'max_depth': 20, 'max_features': 5, 'n_estimators': 150},\n",
              "  {'max_depth': 20, 'max_features': 5, 'n_estimators': 200},\n",
              "  {'max_depth': 20, 'max_features': 8, 'n_estimators': 100},\n",
              "  {'max_depth': 20, 'max_features': 8, 'n_estimators': 150},\n",
              "  {'max_depth': 20, 'max_features': 8, 'n_estimators': 200},\n",
              "  {'max_depth': 20, 'max_features': 11, 'n_estimators': 100},\n",
              "  {'max_depth': 20, 'max_features': 11, 'n_estimators': 150},\n",
              "  {'max_depth': 20, 'max_features': 11, 'n_estimators': 200}],\n",
              " 'oob_r2': [0.8536371416968181,\n",
              "  0.8616374171170955,\n",
              "  0.870497934913898,\n",
              "  0.8662610956364183,\n",
              "  0.8689478860775631,\n",
              "  0.8723112368467185,\n",
              "  0.8681040857083215,\n",
              "  0.8686467869461187,\n",
              "  0.8716419095400139,\n",
              "  0.7723049044272481,\n",
              "  0.7760483765302062,\n",
              "  0.7823702317291923,\n",
              "  0.7947698121721886,\n",
              "  0.7955453897807124,\n",
              "  0.8006905388671278,\n",
              "  0.7986894580205054,\n",
              "  0.7984995494681543,\n",
              "  0.8015044035946018,\n",
              "  0.8700249515802547,\n",
              "  0.8715908153618176,\n",
              "  0.8727461838172262,\n",
              "  0.8641979352422482,\n",
              "  0.8673824672293817,\n",
              "  0.8705680535210221,\n",
              "  0.8655801793496505,\n",
              "  0.86917574292236,\n",
              "  0.86980981484621,\n",
              "  0.8527727713947016,\n",
              "  0.8609222921993861,\n",
              "  0.8701447694112183,\n",
              "  0.8679234998750887,\n",
              "  0.8694752303678186,\n",
              "  0.8724119388769153,\n",
              "  0.8694102814688031,\n",
              "  0.8699961100387096,\n",
              "  0.8724845282167779]}"
            ]
          },
          "metadata": {},
          "execution_count": 37
        }
      ]
    },
    {
      "cell_type": "code",
      "source": [
        "resultados = pd.DataFrame(resultados)\n",
        "resultados = pd.concat(\n",
        "    [resultados, resultados['params'].apply(pd.Series)], axis=1)\n",
        "\n",
        "resultados = resultados.drop(columns = 'params')\n",
        "resultados = resultados.sort_values('oob_r2', ascending=False)\n",
        "resultados.head(4)"
      ],
      "metadata": {
        "colab": {
          "base_uri": "https://localhost:8080/",
          "height": 175
        },
        "id": "ZpdbtAFohNY7",
        "outputId": "6fdb141d-5d40-497e-aa0a-8fedfef43f13"
      },
      "execution_count": null,
      "outputs": [
        {
          "output_type": "execute_result",
          "data": {
            "text/plain": [
              "      oob_r2  max_depth  max_features  n_estimators\n",
              "20  0.872746       10.0           5.0         200.0\n",
              "35  0.872485       20.0          11.0         200.0\n",
              "32  0.872412       20.0           8.0         200.0\n",
              "5   0.872311        NaN           8.0         200.0"
            ],
            "text/html": [
              "\n",
              "  <div id=\"df-06fe1cc4-8529-4879-ae44-1444e36b9c31\" class=\"colab-df-container\">\n",
              "    <div>\n",
              "<style scoped>\n",
              "    .dataframe tbody tr th:only-of-type {\n",
              "        vertical-align: middle;\n",
              "    }\n",
              "\n",
              "    .dataframe tbody tr th {\n",
              "        vertical-align: top;\n",
              "    }\n",
              "\n",
              "    .dataframe thead th {\n",
              "        text-align: right;\n",
              "    }\n",
              "</style>\n",
              "<table border=\"1\" class=\"dataframe\">\n",
              "  <thead>\n",
              "    <tr style=\"text-align: right;\">\n",
              "      <th></th>\n",
              "      <th>oob_r2</th>\n",
              "      <th>max_depth</th>\n",
              "      <th>max_features</th>\n",
              "      <th>n_estimators</th>\n",
              "    </tr>\n",
              "  </thead>\n",
              "  <tbody>\n",
              "    <tr>\n",
              "      <th>20</th>\n",
              "      <td>0.872746</td>\n",
              "      <td>10.0</td>\n",
              "      <td>5.0</td>\n",
              "      <td>200.0</td>\n",
              "    </tr>\n",
              "    <tr>\n",
              "      <th>35</th>\n",
              "      <td>0.872485</td>\n",
              "      <td>20.0</td>\n",
              "      <td>11.0</td>\n",
              "      <td>200.0</td>\n",
              "    </tr>\n",
              "    <tr>\n",
              "      <th>32</th>\n",
              "      <td>0.872412</td>\n",
              "      <td>20.0</td>\n",
              "      <td>8.0</td>\n",
              "      <td>200.0</td>\n",
              "    </tr>\n",
              "    <tr>\n",
              "      <th>5</th>\n",
              "      <td>0.872311</td>\n",
              "      <td>NaN</td>\n",
              "      <td>8.0</td>\n",
              "      <td>200.0</td>\n",
              "    </tr>\n",
              "  </tbody>\n",
              "</table>\n",
              "</div>\n",
              "    <div class=\"colab-df-buttons\">\n",
              "\n",
              "  <div class=\"colab-df-container\">\n",
              "    <button class=\"colab-df-convert\" onclick=\"convertToInteractive('df-06fe1cc4-8529-4879-ae44-1444e36b9c31')\"\n",
              "            title=\"Convert this dataframe to an interactive table.\"\n",
              "            style=\"display:none;\">\n",
              "\n",
              "  <svg xmlns=\"http://www.w3.org/2000/svg\" height=\"24px\" viewBox=\"0 -960 960 960\">\n",
              "    <path d=\"M120-120v-720h720v720H120Zm60-500h600v-160H180v160Zm220 220h160v-160H400v160Zm0 220h160v-160H400v160ZM180-400h160v-160H180v160Zm440 0h160v-160H620v160ZM180-180h160v-160H180v160Zm440 0h160v-160H620v160Z\"/>\n",
              "  </svg>\n",
              "    </button>\n",
              "\n",
              "  <style>\n",
              "    .colab-df-container {\n",
              "      display:flex;\n",
              "      gap: 12px;\n",
              "    }\n",
              "\n",
              "    .colab-df-convert {\n",
              "      background-color: #E8F0FE;\n",
              "      border: none;\n",
              "      border-radius: 50%;\n",
              "      cursor: pointer;\n",
              "      display: none;\n",
              "      fill: #1967D2;\n",
              "      height: 32px;\n",
              "      padding: 0 0 0 0;\n",
              "      width: 32px;\n",
              "    }\n",
              "\n",
              "    .colab-df-convert:hover {\n",
              "      background-color: #E2EBFA;\n",
              "      box-shadow: 0px 1px 2px rgba(60, 64, 67, 0.3), 0px 1px 3px 1px rgba(60, 64, 67, 0.15);\n",
              "      fill: #174EA6;\n",
              "    }\n",
              "\n",
              "    .colab-df-buttons div {\n",
              "      margin-bottom: 4px;\n",
              "    }\n",
              "\n",
              "    [theme=dark] .colab-df-convert {\n",
              "      background-color: #3B4455;\n",
              "      fill: #D2E3FC;\n",
              "    }\n",
              "\n",
              "    [theme=dark] .colab-df-convert:hover {\n",
              "      background-color: #434B5C;\n",
              "      box-shadow: 0px 1px 3px 1px rgba(0, 0, 0, 0.15);\n",
              "      filter: drop-shadow(0px 1px 2px rgba(0, 0, 0, 0.3));\n",
              "      fill: #FFFFFF;\n",
              "    }\n",
              "  </style>\n",
              "\n",
              "    <script>\n",
              "      const buttonEl =\n",
              "        document.querySelector('#df-06fe1cc4-8529-4879-ae44-1444e36b9c31 button.colab-df-convert');\n",
              "      buttonEl.style.display =\n",
              "        google.colab.kernel.accessAllowed ? 'block' : 'none';\n",
              "\n",
              "      async function convertToInteractive(key) {\n",
              "        const element = document.querySelector('#df-06fe1cc4-8529-4879-ae44-1444e36b9c31');\n",
              "        const dataTable =\n",
              "          await google.colab.kernel.invokeFunction('convertToInteractive',\n",
              "                                                    [key], {});\n",
              "        if (!dataTable) return;\n",
              "\n",
              "        const docLinkHtml = 'Like what you see? Visit the ' +\n",
              "          '<a target=\"_blank\" href=https://colab.research.google.com/notebooks/data_table.ipynb>data table notebook</a>'\n",
              "          + ' to learn more about interactive tables.';\n",
              "        element.innerHTML = '';\n",
              "        dataTable['output_type'] = 'display_data';\n",
              "        await google.colab.output.renderOutput(dataTable, element);\n",
              "        const docLink = document.createElement('div');\n",
              "        docLink.innerHTML = docLinkHtml;\n",
              "        element.appendChild(docLink);\n",
              "      }\n",
              "    </script>\n",
              "  </div>\n",
              "\n",
              "\n",
              "<div id=\"df-d6d9c71c-c5c2-494e-8884-15ec1178a6a5\">\n",
              "  <button class=\"colab-df-quickchart\" onclick=\"quickchart('df-d6d9c71c-c5c2-494e-8884-15ec1178a6a5')\"\n",
              "            title=\"Suggest charts.\"\n",
              "            style=\"display:none;\">\n",
              "\n",
              "<svg xmlns=\"http://www.w3.org/2000/svg\" height=\"24px\"viewBox=\"0 0 24 24\"\n",
              "     width=\"24px\">\n",
              "    <g>\n",
              "        <path d=\"M19 3H5c-1.1 0-2 .9-2 2v14c0 1.1.9 2 2 2h14c1.1 0 2-.9 2-2V5c0-1.1-.9-2-2-2zM9 17H7v-7h2v7zm4 0h-2V7h2v10zm4 0h-2v-4h2v4z\"/>\n",
              "    </g>\n",
              "</svg>\n",
              "  </button>\n",
              "\n",
              "<style>\n",
              "  .colab-df-quickchart {\n",
              "      --bg-color: #E8F0FE;\n",
              "      --fill-color: #1967D2;\n",
              "      --hover-bg-color: #E2EBFA;\n",
              "      --hover-fill-color: #174EA6;\n",
              "      --disabled-fill-color: #AAA;\n",
              "      --disabled-bg-color: #DDD;\n",
              "  }\n",
              "\n",
              "  [theme=dark] .colab-df-quickchart {\n",
              "      --bg-color: #3B4455;\n",
              "      --fill-color: #D2E3FC;\n",
              "      --hover-bg-color: #434B5C;\n",
              "      --hover-fill-color: #FFFFFF;\n",
              "      --disabled-bg-color: #3B4455;\n",
              "      --disabled-fill-color: #666;\n",
              "  }\n",
              "\n",
              "  .colab-df-quickchart {\n",
              "    background-color: var(--bg-color);\n",
              "    border: none;\n",
              "    border-radius: 50%;\n",
              "    cursor: pointer;\n",
              "    display: none;\n",
              "    fill: var(--fill-color);\n",
              "    height: 32px;\n",
              "    padding: 0;\n",
              "    width: 32px;\n",
              "  }\n",
              "\n",
              "  .colab-df-quickchart:hover {\n",
              "    background-color: var(--hover-bg-color);\n",
              "    box-shadow: 0 1px 2px rgba(60, 64, 67, 0.3), 0 1px 3px 1px rgba(60, 64, 67, 0.15);\n",
              "    fill: var(--button-hover-fill-color);\n",
              "  }\n",
              "\n",
              "  .colab-df-quickchart-complete:disabled,\n",
              "  .colab-df-quickchart-complete:disabled:hover {\n",
              "    background-color: var(--disabled-bg-color);\n",
              "    fill: var(--disabled-fill-color);\n",
              "    box-shadow: none;\n",
              "  }\n",
              "\n",
              "  .colab-df-spinner {\n",
              "    border: 2px solid var(--fill-color);\n",
              "    border-color: transparent;\n",
              "    border-bottom-color: var(--fill-color);\n",
              "    animation:\n",
              "      spin 1s steps(1) infinite;\n",
              "  }\n",
              "\n",
              "  @keyframes spin {\n",
              "    0% {\n",
              "      border-color: transparent;\n",
              "      border-bottom-color: var(--fill-color);\n",
              "      border-left-color: var(--fill-color);\n",
              "    }\n",
              "    20% {\n",
              "      border-color: transparent;\n",
              "      border-left-color: var(--fill-color);\n",
              "      border-top-color: var(--fill-color);\n",
              "    }\n",
              "    30% {\n",
              "      border-color: transparent;\n",
              "      border-left-color: var(--fill-color);\n",
              "      border-top-color: var(--fill-color);\n",
              "      border-right-color: var(--fill-color);\n",
              "    }\n",
              "    40% {\n",
              "      border-color: transparent;\n",
              "      border-right-color: var(--fill-color);\n",
              "      border-top-color: var(--fill-color);\n",
              "    }\n",
              "    60% {\n",
              "      border-color: transparent;\n",
              "      border-right-color: var(--fill-color);\n",
              "    }\n",
              "    80% {\n",
              "      border-color: transparent;\n",
              "      border-right-color: var(--fill-color);\n",
              "      border-bottom-color: var(--fill-color);\n",
              "    }\n",
              "    90% {\n",
              "      border-color: transparent;\n",
              "      border-bottom-color: var(--fill-color);\n",
              "    }\n",
              "  }\n",
              "</style>\n",
              "\n",
              "  <script>\n",
              "    async function quickchart(key) {\n",
              "      const quickchartButtonEl =\n",
              "        document.querySelector('#' + key + ' button');\n",
              "      quickchartButtonEl.disabled = true;  // To prevent multiple clicks.\n",
              "      quickchartButtonEl.classList.add('colab-df-spinner');\n",
              "      try {\n",
              "        const charts = await google.colab.kernel.invokeFunction(\n",
              "            'suggestCharts', [key], {});\n",
              "      } catch (error) {\n",
              "        console.error('Error during call to suggestCharts:', error);\n",
              "      }\n",
              "      quickchartButtonEl.classList.remove('colab-df-spinner');\n",
              "      quickchartButtonEl.classList.add('colab-df-quickchart-complete');\n",
              "    }\n",
              "    (() => {\n",
              "      let quickchartButtonEl =\n",
              "        document.querySelector('#df-d6d9c71c-c5c2-494e-8884-15ec1178a6a5 button');\n",
              "      quickchartButtonEl.style.display =\n",
              "        google.colab.kernel.accessAllowed ? 'block' : 'none';\n",
              "    })();\n",
              "  </script>\n",
              "</div>\n",
              "    </div>\n",
              "  </div>\n"
            ]
          },
          "metadata": {},
          "execution_count": 38
        }
      ]
    },
    {
      "cell_type": "markdown",
      "source": [
        "# **Version Paralelizada**\n",
        "---"
      ],
      "metadata": {
        "id": "X-6ISqNl6qrU"
      }
    },
    {
      "cell_type": "code",
      "source": [
        "dict_param"
      ],
      "metadata": {
        "id": "Lv8G6_qsgEFC",
        "colab": {
          "base_uri": "https://localhost:8080/"
        },
        "outputId": "dcbc760d-cb9f-4a69-8ad8-79ae99c9b70b"
      },
      "execution_count": null,
      "outputs": [
        {
          "output_type": "execute_result",
          "data": {
            "text/plain": [
              "<sklearn.model_selection._search.ParameterGrid at 0x7cdc9ccd7430>"
            ]
          },
          "metadata": {},
          "execution_count": 39
        }
      ]
    },
    {
      "cell_type": "code",
      "source": [
        "def eval_oob_error(X, y, model, params, verbose=True)->dict:\n",
        "  model.set_params(\n",
        "      oob_score    = True,\n",
        "      n_jobs       = -1,\n",
        "      random_state = 123,\n",
        "      ** params\n",
        "  )\n",
        "\n",
        "  model.fit(X, y)\n",
        "\n",
        "  if verbose:\n",
        "    print(f\"Modelo: {params} \\u2713\")\n",
        "\n",
        "  return{'params': params, 'oob_r2': model.oob_score_}"
      ],
      "metadata": {
        "id": "jvNsedK_7LCo"
      },
      "execution_count": null,
      "outputs": []
    },
    {
      "cell_type": "code",
      "source": [
        "multiprocessing"
      ],
      "metadata": {
        "colab": {
          "base_uri": "https://localhost:8080/"
        },
        "id": "9b5Eb0Ew73Wz",
        "outputId": "7a97dd26-41e5-40e4-eeda-e6466d04d8d6"
      },
      "execution_count": null,
      "outputs": [
        {
          "output_type": "execute_result",
          "data": {
            "text/plain": [
              "<module 'multiprocessing' from '/usr/lib/python3.10/multiprocessing/__init__.py'>"
            ]
          },
          "metadata": {},
          "execution_count": 41
        }
      ]
    },
    {
      "cell_type": "code",
      "source": [
        "n_jobs = multiprocessing.cpu_count()-1\n",
        "pool = multiprocessing.Pool(processes=n_jobs)\n",
        "res = pool.starmap(\n",
        "    eval_oob_error,\n",
        "    [\n",
        "        (X_train, y_train, RandomForestRegressor(), params) for params in dict_param]\n",
        ")"
      ],
      "metadata": {
        "colab": {
          "base_uri": "https://localhost:8080/"
        },
        "id": "C0IO7Hii7yRw",
        "outputId": "f59fcf63-125f-457f-918d-587b59ff352c"
      },
      "execution_count": null,
      "outputs": [
        {
          "output_type": "stream",
          "name": "stdout",
          "text": [
            "Modelo: {'max_depth': None, 'max_features': 5, 'n_estimators': 100} ✓\n",
            "Modelo: {'max_depth': None, 'max_features': 5, 'n_estimators': 150} ✓\n",
            "Modelo: {'max_depth': None, 'max_features': 5, 'n_estimators': 200} ✓\n",
            "Modelo: {'max_depth': None, 'max_features': 8, 'n_estimators': 100} ✓\n",
            "Modelo: {'max_depth': None, 'max_features': 8, 'n_estimators': 150} ✓\n",
            "Modelo: {'max_depth': None, 'max_features': 8, 'n_estimators': 200} ✓\n",
            "Modelo: {'max_depth': None, 'max_features': 11, 'n_estimators': 100} ✓\n",
            "Modelo: {'max_depth': None, 'max_features': 11, 'n_estimators': 150} ✓\n",
            "Modelo: {'max_depth': None, 'max_features': 11, 'n_estimators': 200} ✓\n",
            "Modelo: {'max_depth': 3, 'max_features': 5, 'n_estimators': 100} ✓\n",
            "Modelo: {'max_depth': 3, 'max_features': 5, 'n_estimators': 150} ✓\n",
            "Modelo: {'max_depth': 3, 'max_features': 5, 'n_estimators': 200} ✓\n",
            "Modelo: {'max_depth': 3, 'max_features': 8, 'n_estimators': 100} ✓\n",
            "Modelo: {'max_depth': 3, 'max_features': 8, 'n_estimators': 150} ✓\n",
            "Modelo: {'max_depth': 3, 'max_features': 8, 'n_estimators': 200} ✓\n",
            "Modelo: {'max_depth': 3, 'max_features': 11, 'n_estimators': 100} ✓\n",
            "Modelo: {'max_depth': 3, 'max_features': 11, 'n_estimators': 150} ✓\n",
            "Modelo: {'max_depth': 3, 'max_features': 11, 'n_estimators': 200} ✓\n",
            "Modelo: {'max_depth': 10, 'max_features': 5, 'n_estimators': 100} ✓\n",
            "Modelo: {'max_depth': 10, 'max_features': 5, 'n_estimators': 150} ✓\n",
            "Modelo: {'max_depth': 10, 'max_features': 5, 'n_estimators': 200} ✓\n",
            "Modelo: {'max_depth': 10, 'max_features': 8, 'n_estimators': 100} ✓\n",
            "Modelo: {'max_depth': 10, 'max_features': 8, 'n_estimators': 150} ✓\n",
            "Modelo: {'max_depth': 10, 'max_features': 8, 'n_estimators': 200} ✓\n",
            "Modelo: {'max_depth': 10, 'max_features': 11, 'n_estimators': 100} ✓\n",
            "Modelo: {'max_depth': 10, 'max_features': 11, 'n_estimators': 150} ✓\n",
            "Modelo: {'max_depth': 10, 'max_features': 11, 'n_estimators': 200} ✓\n",
            "Modelo: {'max_depth': 20, 'max_features': 5, 'n_estimators': 100} ✓\n",
            "Modelo: {'max_depth': 20, 'max_features': 5, 'n_estimators': 150} ✓\n",
            "Modelo: {'max_depth': 20, 'max_features': 5, 'n_estimators': 200} ✓\n",
            "Modelo: {'max_depth': 20, 'max_features': 8, 'n_estimators': 100} ✓\n",
            "Modelo: {'max_depth': 20, 'max_features': 8, 'n_estimators': 150} ✓\n",
            "Modelo: {'max_depth': 20, 'max_features': 8, 'n_estimators': 200} ✓\n",
            "Modelo: {'max_depth': 20, 'max_features': 11, 'n_estimators': 100} ✓\n",
            "Modelo: {'max_depth': 20, 'max_features': 11, 'n_estimators': 150} ✓\n",
            "Modelo: {'max_depth': 20, 'max_features': 11, 'n_estimators': 200} ✓\n"
          ]
        }
      ]
    },
    {
      "cell_type": "code",
      "source": [
        "resultados = pd.DataFrame(res)\n",
        "resultados = pd.concat([resultados, resultados['params'].apply(pd.Series)], axis=1)\n",
        "resultados = resultados.drop(columns = 'params')\n",
        "resultados = resultados.sort_values('oob_r2', ascending=False)\n",
        "resultados.head(4)"
      ],
      "metadata": {
        "colab": {
          "base_uri": "https://localhost:8080/",
          "height": 175
        },
        "id": "H2FiRZXm8yNH",
        "outputId": "441aa039-cfed-4972-e8f2-430dd0e654df"
      },
      "execution_count": null,
      "outputs": [
        {
          "output_type": "execute_result",
          "data": {
            "text/plain": [
              "      oob_r2  max_depth  max_features  n_estimators\n",
              "20  0.872746       10.0           5.0         200.0\n",
              "35  0.872485       20.0          11.0         200.0\n",
              "32  0.872412       20.0           8.0         200.0\n",
              "5   0.872311        NaN           8.0         200.0"
            ],
            "text/html": [
              "\n",
              "  <div id=\"df-3fd389b9-0372-4642-a0cc-79180b0f91b3\" class=\"colab-df-container\">\n",
              "    <div>\n",
              "<style scoped>\n",
              "    .dataframe tbody tr th:only-of-type {\n",
              "        vertical-align: middle;\n",
              "    }\n",
              "\n",
              "    .dataframe tbody tr th {\n",
              "        vertical-align: top;\n",
              "    }\n",
              "\n",
              "    .dataframe thead th {\n",
              "        text-align: right;\n",
              "    }\n",
              "</style>\n",
              "<table border=\"1\" class=\"dataframe\">\n",
              "  <thead>\n",
              "    <tr style=\"text-align: right;\">\n",
              "      <th></th>\n",
              "      <th>oob_r2</th>\n",
              "      <th>max_depth</th>\n",
              "      <th>max_features</th>\n",
              "      <th>n_estimators</th>\n",
              "    </tr>\n",
              "  </thead>\n",
              "  <tbody>\n",
              "    <tr>\n",
              "      <th>20</th>\n",
              "      <td>0.872746</td>\n",
              "      <td>10.0</td>\n",
              "      <td>5.0</td>\n",
              "      <td>200.0</td>\n",
              "    </tr>\n",
              "    <tr>\n",
              "      <th>35</th>\n",
              "      <td>0.872485</td>\n",
              "      <td>20.0</td>\n",
              "      <td>11.0</td>\n",
              "      <td>200.0</td>\n",
              "    </tr>\n",
              "    <tr>\n",
              "      <th>32</th>\n",
              "      <td>0.872412</td>\n",
              "      <td>20.0</td>\n",
              "      <td>8.0</td>\n",
              "      <td>200.0</td>\n",
              "    </tr>\n",
              "    <tr>\n",
              "      <th>5</th>\n",
              "      <td>0.872311</td>\n",
              "      <td>NaN</td>\n",
              "      <td>8.0</td>\n",
              "      <td>200.0</td>\n",
              "    </tr>\n",
              "  </tbody>\n",
              "</table>\n",
              "</div>\n",
              "    <div class=\"colab-df-buttons\">\n",
              "\n",
              "  <div class=\"colab-df-container\">\n",
              "    <button class=\"colab-df-convert\" onclick=\"convertToInteractive('df-3fd389b9-0372-4642-a0cc-79180b0f91b3')\"\n",
              "            title=\"Convert this dataframe to an interactive table.\"\n",
              "            style=\"display:none;\">\n",
              "\n",
              "  <svg xmlns=\"http://www.w3.org/2000/svg\" height=\"24px\" viewBox=\"0 -960 960 960\">\n",
              "    <path d=\"M120-120v-720h720v720H120Zm60-500h600v-160H180v160Zm220 220h160v-160H400v160Zm0 220h160v-160H400v160ZM180-400h160v-160H180v160Zm440 0h160v-160H620v160ZM180-180h160v-160H180v160Zm440 0h160v-160H620v160Z\"/>\n",
              "  </svg>\n",
              "    </button>\n",
              "\n",
              "  <style>\n",
              "    .colab-df-container {\n",
              "      display:flex;\n",
              "      gap: 12px;\n",
              "    }\n",
              "\n",
              "    .colab-df-convert {\n",
              "      background-color: #E8F0FE;\n",
              "      border: none;\n",
              "      border-radius: 50%;\n",
              "      cursor: pointer;\n",
              "      display: none;\n",
              "      fill: #1967D2;\n",
              "      height: 32px;\n",
              "      padding: 0 0 0 0;\n",
              "      width: 32px;\n",
              "    }\n",
              "\n",
              "    .colab-df-convert:hover {\n",
              "      background-color: #E2EBFA;\n",
              "      box-shadow: 0px 1px 2px rgba(60, 64, 67, 0.3), 0px 1px 3px 1px rgba(60, 64, 67, 0.15);\n",
              "      fill: #174EA6;\n",
              "    }\n",
              "\n",
              "    .colab-df-buttons div {\n",
              "      margin-bottom: 4px;\n",
              "    }\n",
              "\n",
              "    [theme=dark] .colab-df-convert {\n",
              "      background-color: #3B4455;\n",
              "      fill: #D2E3FC;\n",
              "    }\n",
              "\n",
              "    [theme=dark] .colab-df-convert:hover {\n",
              "      background-color: #434B5C;\n",
              "      box-shadow: 0px 1px 3px 1px rgba(0, 0, 0, 0.15);\n",
              "      filter: drop-shadow(0px 1px 2px rgba(0, 0, 0, 0.3));\n",
              "      fill: #FFFFFF;\n",
              "    }\n",
              "  </style>\n",
              "\n",
              "    <script>\n",
              "      const buttonEl =\n",
              "        document.querySelector('#df-3fd389b9-0372-4642-a0cc-79180b0f91b3 button.colab-df-convert');\n",
              "      buttonEl.style.display =\n",
              "        google.colab.kernel.accessAllowed ? 'block' : 'none';\n",
              "\n",
              "      async function convertToInteractive(key) {\n",
              "        const element = document.querySelector('#df-3fd389b9-0372-4642-a0cc-79180b0f91b3');\n",
              "        const dataTable =\n",
              "          await google.colab.kernel.invokeFunction('convertToInteractive',\n",
              "                                                    [key], {});\n",
              "        if (!dataTable) return;\n",
              "\n",
              "        const docLinkHtml = 'Like what you see? Visit the ' +\n",
              "          '<a target=\"_blank\" href=https://colab.research.google.com/notebooks/data_table.ipynb>data table notebook</a>'\n",
              "          + ' to learn more about interactive tables.';\n",
              "        element.innerHTML = '';\n",
              "        dataTable['output_type'] = 'display_data';\n",
              "        await google.colab.output.renderOutput(dataTable, element);\n",
              "        const docLink = document.createElement('div');\n",
              "        docLink.innerHTML = docLinkHtml;\n",
              "        element.appendChild(docLink);\n",
              "      }\n",
              "    </script>\n",
              "  </div>\n",
              "\n",
              "\n",
              "<div id=\"df-1dfca630-c309-4992-b536-74a19f0cd3f6\">\n",
              "  <button class=\"colab-df-quickchart\" onclick=\"quickchart('df-1dfca630-c309-4992-b536-74a19f0cd3f6')\"\n",
              "            title=\"Suggest charts.\"\n",
              "            style=\"display:none;\">\n",
              "\n",
              "<svg xmlns=\"http://www.w3.org/2000/svg\" height=\"24px\"viewBox=\"0 0 24 24\"\n",
              "     width=\"24px\">\n",
              "    <g>\n",
              "        <path d=\"M19 3H5c-1.1 0-2 .9-2 2v14c0 1.1.9 2 2 2h14c1.1 0 2-.9 2-2V5c0-1.1-.9-2-2-2zM9 17H7v-7h2v7zm4 0h-2V7h2v10zm4 0h-2v-4h2v4z\"/>\n",
              "    </g>\n",
              "</svg>\n",
              "  </button>\n",
              "\n",
              "<style>\n",
              "  .colab-df-quickchart {\n",
              "      --bg-color: #E8F0FE;\n",
              "      --fill-color: #1967D2;\n",
              "      --hover-bg-color: #E2EBFA;\n",
              "      --hover-fill-color: #174EA6;\n",
              "      --disabled-fill-color: #AAA;\n",
              "      --disabled-bg-color: #DDD;\n",
              "  }\n",
              "\n",
              "  [theme=dark] .colab-df-quickchart {\n",
              "      --bg-color: #3B4455;\n",
              "      --fill-color: #D2E3FC;\n",
              "      --hover-bg-color: #434B5C;\n",
              "      --hover-fill-color: #FFFFFF;\n",
              "      --disabled-bg-color: #3B4455;\n",
              "      --disabled-fill-color: #666;\n",
              "  }\n",
              "\n",
              "  .colab-df-quickchart {\n",
              "    background-color: var(--bg-color);\n",
              "    border: none;\n",
              "    border-radius: 50%;\n",
              "    cursor: pointer;\n",
              "    display: none;\n",
              "    fill: var(--fill-color);\n",
              "    height: 32px;\n",
              "    padding: 0;\n",
              "    width: 32px;\n",
              "  }\n",
              "\n",
              "  .colab-df-quickchart:hover {\n",
              "    background-color: var(--hover-bg-color);\n",
              "    box-shadow: 0 1px 2px rgba(60, 64, 67, 0.3), 0 1px 3px 1px rgba(60, 64, 67, 0.15);\n",
              "    fill: var(--button-hover-fill-color);\n",
              "  }\n",
              "\n",
              "  .colab-df-quickchart-complete:disabled,\n",
              "  .colab-df-quickchart-complete:disabled:hover {\n",
              "    background-color: var(--disabled-bg-color);\n",
              "    fill: var(--disabled-fill-color);\n",
              "    box-shadow: none;\n",
              "  }\n",
              "\n",
              "  .colab-df-spinner {\n",
              "    border: 2px solid var(--fill-color);\n",
              "    border-color: transparent;\n",
              "    border-bottom-color: var(--fill-color);\n",
              "    animation:\n",
              "      spin 1s steps(1) infinite;\n",
              "  }\n",
              "\n",
              "  @keyframes spin {\n",
              "    0% {\n",
              "      border-color: transparent;\n",
              "      border-bottom-color: var(--fill-color);\n",
              "      border-left-color: var(--fill-color);\n",
              "    }\n",
              "    20% {\n",
              "      border-color: transparent;\n",
              "      border-left-color: var(--fill-color);\n",
              "      border-top-color: var(--fill-color);\n",
              "    }\n",
              "    30% {\n",
              "      border-color: transparent;\n",
              "      border-left-color: var(--fill-color);\n",
              "      border-top-color: var(--fill-color);\n",
              "      border-right-color: var(--fill-color);\n",
              "    }\n",
              "    40% {\n",
              "      border-color: transparent;\n",
              "      border-right-color: var(--fill-color);\n",
              "      border-top-color: var(--fill-color);\n",
              "    }\n",
              "    60% {\n",
              "      border-color: transparent;\n",
              "      border-right-color: var(--fill-color);\n",
              "    }\n",
              "    80% {\n",
              "      border-color: transparent;\n",
              "      border-right-color: var(--fill-color);\n",
              "      border-bottom-color: var(--fill-color);\n",
              "    }\n",
              "    90% {\n",
              "      border-color: transparent;\n",
              "      border-bottom-color: var(--fill-color);\n",
              "    }\n",
              "  }\n",
              "</style>\n",
              "\n",
              "  <script>\n",
              "    async function quickchart(key) {\n",
              "      const quickchartButtonEl =\n",
              "        document.querySelector('#' + key + ' button');\n",
              "      quickchartButtonEl.disabled = true;  // To prevent multiple clicks.\n",
              "      quickchartButtonEl.classList.add('colab-df-spinner');\n",
              "      try {\n",
              "        const charts = await google.colab.kernel.invokeFunction(\n",
              "            'suggestCharts', [key], {});\n",
              "      } catch (error) {\n",
              "        console.error('Error during call to suggestCharts:', error);\n",
              "      }\n",
              "      quickchartButtonEl.classList.remove('colab-df-spinner');\n",
              "      quickchartButtonEl.classList.add('colab-df-quickchart-complete');\n",
              "    }\n",
              "    (() => {\n",
              "      let quickchartButtonEl =\n",
              "        document.querySelector('#df-1dfca630-c309-4992-b536-74a19f0cd3f6 button');\n",
              "      quickchartButtonEl.style.display =\n",
              "        google.colab.kernel.accessAllowed ? 'block' : 'none';\n",
              "    })();\n",
              "  </script>\n",
              "</div>\n",
              "    </div>\n",
              "  </div>\n"
            ]
          },
          "metadata": {},
          "execution_count": 43
        }
      ]
    },
    {
      "cell_type": "code",
      "source": [
        "print(\"--------------------------------------------\")\n",
        "print(\"Mejores hiperparámetros encontrados (oob-r2)\")\n",
        "print(\"--------------------------------------------\")\n",
        "print(resultados.iloc[0,0], \":\", resultados.iloc[0,:]['oob_r2'], \"R2\", resultados.iloc[0,:])"
      ],
      "metadata": {
        "colab": {
          "base_uri": "https://localhost:8080/"
        },
        "id": "kgsHaZrY87CA",
        "outputId": "a492edc3-4e65-4508-907e-8f5840216ea5"
      },
      "execution_count": null,
      "outputs": [
        {
          "output_type": "stream",
          "name": "stdout",
          "text": [
            "--------------------------------------------\n",
            "Mejores hiperparámetros encontrados (oob-r2)\n",
            "--------------------------------------------\n",
            "0.8727461838172262 : 0.8727461838172262 R2 oob_r2            0.872746\n",
            "max_depth        10.000000\n",
            "max_features      5.000000\n",
            "n_estimators    200.000000\n",
            "Name: 20, dtype: float64\n"
          ]
        }
      ]
    },
    {
      "cell_type": "code",
      "source": [
        "model = RandomForestRegressor(\n",
        "    max_depth = 10,\n",
        "    max_features = 5,\n",
        "    n_estimators = 200,\n",
        "    random_state=12354,\n",
        "    oob_score = True\n",
        ")"
      ],
      "metadata": {
        "id": "x6N4TKlVCS3c"
      },
      "execution_count": null,
      "outputs": []
    },
    {
      "cell_type": "code",
      "source": [
        "model.fit(X_train, y_train)"
      ],
      "metadata": {
        "colab": {
          "base_uri": "https://localhost:8080/",
          "height": 92
        },
        "id": "M2Ci2NIID9D8",
        "outputId": "d0be32ae-9124-44f3-b429-5ff2a2a48d1d"
      },
      "execution_count": null,
      "outputs": [
        {
          "output_type": "execute_result",
          "data": {
            "text/plain": [
              "RandomForestRegressor(max_depth=10, max_features=5, n_estimators=200,\n",
              "                      oob_score=True, random_state=12354)"
            ],
            "text/html": [
              "<style>#sk-container-id-2 {color: black;background-color: white;}#sk-container-id-2 pre{padding: 0;}#sk-container-id-2 div.sk-toggleable {background-color: white;}#sk-container-id-2 label.sk-toggleable__label {cursor: pointer;display: block;width: 100%;margin-bottom: 0;padding: 0.3em;box-sizing: border-box;text-align: center;}#sk-container-id-2 label.sk-toggleable__label-arrow:before {content: \"▸\";float: left;margin-right: 0.25em;color: #696969;}#sk-container-id-2 label.sk-toggleable__label-arrow:hover:before {color: black;}#sk-container-id-2 div.sk-estimator:hover label.sk-toggleable__label-arrow:before {color: black;}#sk-container-id-2 div.sk-toggleable__content {max-height: 0;max-width: 0;overflow: hidden;text-align: left;background-color: #f0f8ff;}#sk-container-id-2 div.sk-toggleable__content pre {margin: 0.2em;color: black;border-radius: 0.25em;background-color: #f0f8ff;}#sk-container-id-2 input.sk-toggleable__control:checked~div.sk-toggleable__content {max-height: 200px;max-width: 100%;overflow: auto;}#sk-container-id-2 input.sk-toggleable__control:checked~label.sk-toggleable__label-arrow:before {content: \"▾\";}#sk-container-id-2 div.sk-estimator input.sk-toggleable__control:checked~label.sk-toggleable__label {background-color: #d4ebff;}#sk-container-id-2 div.sk-label input.sk-toggleable__control:checked~label.sk-toggleable__label {background-color: #d4ebff;}#sk-container-id-2 input.sk-hidden--visually {border: 0;clip: rect(1px 1px 1px 1px);clip: rect(1px, 1px, 1px, 1px);height: 1px;margin: -1px;overflow: hidden;padding: 0;position: absolute;width: 1px;}#sk-container-id-2 div.sk-estimator {font-family: monospace;background-color: #f0f8ff;border: 1px dotted black;border-radius: 0.25em;box-sizing: border-box;margin-bottom: 0.5em;}#sk-container-id-2 div.sk-estimator:hover {background-color: #d4ebff;}#sk-container-id-2 div.sk-parallel-item::after {content: \"\";width: 100%;border-bottom: 1px solid gray;flex-grow: 1;}#sk-container-id-2 div.sk-label:hover label.sk-toggleable__label {background-color: #d4ebff;}#sk-container-id-2 div.sk-serial::before {content: \"\";position: absolute;border-left: 1px solid gray;box-sizing: border-box;top: 0;bottom: 0;left: 50%;z-index: 0;}#sk-container-id-2 div.sk-serial {display: flex;flex-direction: column;align-items: center;background-color: white;padding-right: 0.2em;padding-left: 0.2em;position: relative;}#sk-container-id-2 div.sk-item {position: relative;z-index: 1;}#sk-container-id-2 div.sk-parallel {display: flex;align-items: stretch;justify-content: center;background-color: white;position: relative;}#sk-container-id-2 div.sk-item::before, #sk-container-id-2 div.sk-parallel-item::before {content: \"\";position: absolute;border-left: 1px solid gray;box-sizing: border-box;top: 0;bottom: 0;left: 50%;z-index: -1;}#sk-container-id-2 div.sk-parallel-item {display: flex;flex-direction: column;z-index: 1;position: relative;background-color: white;}#sk-container-id-2 div.sk-parallel-item:first-child::after {align-self: flex-end;width: 50%;}#sk-container-id-2 div.sk-parallel-item:last-child::after {align-self: flex-start;width: 50%;}#sk-container-id-2 div.sk-parallel-item:only-child::after {width: 0;}#sk-container-id-2 div.sk-dashed-wrapped {border: 1px dashed gray;margin: 0 0.4em 0.5em 0.4em;box-sizing: border-box;padding-bottom: 0.4em;background-color: white;}#sk-container-id-2 div.sk-label label {font-family: monospace;font-weight: bold;display: inline-block;line-height: 1.2em;}#sk-container-id-2 div.sk-label-container {text-align: center;}#sk-container-id-2 div.sk-container {/* jupyter's `normalize.less` sets `[hidden] { display: none; }` but bootstrap.min.css set `[hidden] { display: none !important; }` so we also need the `!important` here to be able to override the default hidden behavior on the sphinx rendered scikit-learn.org. See: https://github.com/scikit-learn/scikit-learn/issues/21755 */display: inline-block !important;position: relative;}#sk-container-id-2 div.sk-text-repr-fallback {display: none;}</style><div id=\"sk-container-id-2\" class=\"sk-top-container\"><div class=\"sk-text-repr-fallback\"><pre>RandomForestRegressor(max_depth=10, max_features=5, n_estimators=200,\n",
              "                      oob_score=True, random_state=12354)</pre><b>In a Jupyter environment, please rerun this cell to show the HTML representation or trust the notebook. <br />On GitHub, the HTML representation is unable to render, please try loading this page with nbviewer.org.</b></div><div class=\"sk-container\" hidden><div class=\"sk-item\"><div class=\"sk-estimator sk-toggleable\"><input class=\"sk-toggleable__control sk-hidden--visually\" id=\"sk-estimator-id-2\" type=\"checkbox\" checked><label for=\"sk-estimator-id-2\" class=\"sk-toggleable__label sk-toggleable__label-arrow\">RandomForestRegressor</label><div class=\"sk-toggleable__content\"><pre>RandomForestRegressor(max_depth=10, max_features=5, n_estimators=200,\n",
              "                      oob_score=True, random_state=12354)</pre></div></div></div></div></div>"
            ]
          },
          "metadata": {},
          "execution_count": 48
        }
      ]
    },
    {
      "cell_type": "code",
      "source": [
        "y_predict = model.predict(X_test)\n",
        "rmse = mean_squared_error(\n",
        "    y_test,\n",
        "    y_predict,\n",
        "    squared = False\n",
        ")"
      ],
      "metadata": {
        "id": "3TwqVmFRDFih"
      },
      "execution_count": null,
      "outputs": []
    },
    {
      "cell_type": "markdown",
      "source": [
        "Optimizando los hiperparametros, se reduce el error rmse de modelo que paso de 3.056066400146643  a 2.916422698173403. Las predicciones del modelo final se alejan en promedio 2.916422698173403 unidades (2916 dolares) del valor final."
      ],
      "metadata": {
        "id": "8E6u0pEwEMVr"
      }
    },
    {
      "cell_type": "code",
      "source": [
        "rmse"
      ],
      "metadata": {
        "colab": {
          "base_uri": "https://localhost:8080/"
        },
        "id": "SdzzfpLeCr_Y",
        "outputId": "76a494d4-a9a6-40fe-adc2-ec225b71f241"
      },
      "execution_count": null,
      "outputs": [
        {
          "output_type": "execute_result",
          "data": {
            "text/plain": [
              "2.916422698173403"
            ]
          },
          "metadata": {},
          "execution_count": 50
        }
      ]
    },
    {
      "cell_type": "markdown",
      "source": [
        "# **Grid Search basado en validación cruzada**\n",
        "---"
      ],
      "metadata": {
        "id": "2VrNaYLg9MOa"
      }
    },
    {
      "cell_type": "code",
      "source": [
        "dict_param =  {'n_estimators': [100, 150, 200],\n",
        "     'max_features': [5, 8, 11],\n",
        "     'max_depth': [None, 3, 10, 20]}\n"
      ],
      "metadata": {
        "id": "dVqLOX7s9VxZ"
      },
      "execution_count": null,
      "outputs": []
    },
    {
      "cell_type": "code",
      "source": [
        "grid = GridSearchCV(\n",
        "    estimator = RandomForestRegressor(random_state=12354),\n",
        "    param_grid = dict_param,\n",
        "    scoring = \"neg_root_mean_squared_error\",\n",
        "    n_jobs  = multiprocessing.cpu_count() - 1,\n",
        "    cv = RepeatedKFold(\n",
        "        n_splits=5,\n",
        "        n_repeats=3,\n",
        "        random_state=12354),\n",
        "        refit=True,\n",
        "        verbose=0,\n",
        "        return_train_score = True\n",
        "    )\n",
        "\n",
        "\n",
        "grid.fit(X_train, y_train)"
      ],
      "metadata": {
        "colab": {
          "base_uri": "https://localhost:8080/",
          "height": 118
        },
        "id": "du0LuH819G8S",
        "outputId": "fbf9842c-d902-4003-ed4a-488751005543"
      },
      "execution_count": null,
      "outputs": [
        {
          "output_type": "execute_result",
          "data": {
            "text/plain": [
              "GridSearchCV(cv=RepeatedKFold(n_repeats=3, n_splits=5, random_state=12354),\n",
              "             estimator=RandomForestRegressor(random_state=12354), n_jobs=1,\n",
              "             param_grid={'max_depth': [None, 3, 10, 20],\n",
              "                         'max_features': [5, 8, 11],\n",
              "                         'n_estimators': [100, 150, 200]},\n",
              "             return_train_score=True, scoring='neg_root_mean_squared_error')"
            ],
            "text/html": [
              "<style>#sk-container-id-3 {color: black;background-color: white;}#sk-container-id-3 pre{padding: 0;}#sk-container-id-3 div.sk-toggleable {background-color: white;}#sk-container-id-3 label.sk-toggleable__label {cursor: pointer;display: block;width: 100%;margin-bottom: 0;padding: 0.3em;box-sizing: border-box;text-align: center;}#sk-container-id-3 label.sk-toggleable__label-arrow:before {content: \"▸\";float: left;margin-right: 0.25em;color: #696969;}#sk-container-id-3 label.sk-toggleable__label-arrow:hover:before {color: black;}#sk-container-id-3 div.sk-estimator:hover label.sk-toggleable__label-arrow:before {color: black;}#sk-container-id-3 div.sk-toggleable__content {max-height: 0;max-width: 0;overflow: hidden;text-align: left;background-color: #f0f8ff;}#sk-container-id-3 div.sk-toggleable__content pre {margin: 0.2em;color: black;border-radius: 0.25em;background-color: #f0f8ff;}#sk-container-id-3 input.sk-toggleable__control:checked~div.sk-toggleable__content {max-height: 200px;max-width: 100%;overflow: auto;}#sk-container-id-3 input.sk-toggleable__control:checked~label.sk-toggleable__label-arrow:before {content: \"▾\";}#sk-container-id-3 div.sk-estimator input.sk-toggleable__control:checked~label.sk-toggleable__label {background-color: #d4ebff;}#sk-container-id-3 div.sk-label input.sk-toggleable__control:checked~label.sk-toggleable__label {background-color: #d4ebff;}#sk-container-id-3 input.sk-hidden--visually {border: 0;clip: rect(1px 1px 1px 1px);clip: rect(1px, 1px, 1px, 1px);height: 1px;margin: -1px;overflow: hidden;padding: 0;position: absolute;width: 1px;}#sk-container-id-3 div.sk-estimator {font-family: monospace;background-color: #f0f8ff;border: 1px dotted black;border-radius: 0.25em;box-sizing: border-box;margin-bottom: 0.5em;}#sk-container-id-3 div.sk-estimator:hover {background-color: #d4ebff;}#sk-container-id-3 div.sk-parallel-item::after {content: \"\";width: 100%;border-bottom: 1px solid gray;flex-grow: 1;}#sk-container-id-3 div.sk-label:hover label.sk-toggleable__label {background-color: #d4ebff;}#sk-container-id-3 div.sk-serial::before {content: \"\";position: absolute;border-left: 1px solid gray;box-sizing: border-box;top: 0;bottom: 0;left: 50%;z-index: 0;}#sk-container-id-3 div.sk-serial {display: flex;flex-direction: column;align-items: center;background-color: white;padding-right: 0.2em;padding-left: 0.2em;position: relative;}#sk-container-id-3 div.sk-item {position: relative;z-index: 1;}#sk-container-id-3 div.sk-parallel {display: flex;align-items: stretch;justify-content: center;background-color: white;position: relative;}#sk-container-id-3 div.sk-item::before, #sk-container-id-3 div.sk-parallel-item::before {content: \"\";position: absolute;border-left: 1px solid gray;box-sizing: border-box;top: 0;bottom: 0;left: 50%;z-index: -1;}#sk-container-id-3 div.sk-parallel-item {display: flex;flex-direction: column;z-index: 1;position: relative;background-color: white;}#sk-container-id-3 div.sk-parallel-item:first-child::after {align-self: flex-end;width: 50%;}#sk-container-id-3 div.sk-parallel-item:last-child::after {align-self: flex-start;width: 50%;}#sk-container-id-3 div.sk-parallel-item:only-child::after {width: 0;}#sk-container-id-3 div.sk-dashed-wrapped {border: 1px dashed gray;margin: 0 0.4em 0.5em 0.4em;box-sizing: border-box;padding-bottom: 0.4em;background-color: white;}#sk-container-id-3 div.sk-label label {font-family: monospace;font-weight: bold;display: inline-block;line-height: 1.2em;}#sk-container-id-3 div.sk-label-container {text-align: center;}#sk-container-id-3 div.sk-container {/* jupyter's `normalize.less` sets `[hidden] { display: none; }` but bootstrap.min.css set `[hidden] { display: none !important; }` so we also need the `!important` here to be able to override the default hidden behavior on the sphinx rendered scikit-learn.org. See: https://github.com/scikit-learn/scikit-learn/issues/21755 */display: inline-block !important;position: relative;}#sk-container-id-3 div.sk-text-repr-fallback {display: none;}</style><div id=\"sk-container-id-3\" class=\"sk-top-container\"><div class=\"sk-text-repr-fallback\"><pre>GridSearchCV(cv=RepeatedKFold(n_repeats=3, n_splits=5, random_state=12354),\n",
              "             estimator=RandomForestRegressor(random_state=12354), n_jobs=1,\n",
              "             param_grid={&#x27;max_depth&#x27;: [None, 3, 10, 20],\n",
              "                         &#x27;max_features&#x27;: [5, 8, 11],\n",
              "                         &#x27;n_estimators&#x27;: [100, 150, 200]},\n",
              "             return_train_score=True, scoring=&#x27;neg_root_mean_squared_error&#x27;)</pre><b>In a Jupyter environment, please rerun this cell to show the HTML representation or trust the notebook. <br />On GitHub, the HTML representation is unable to render, please try loading this page with nbviewer.org.</b></div><div class=\"sk-container\" hidden><div class=\"sk-item sk-dashed-wrapped\"><div class=\"sk-label-container\"><div class=\"sk-label sk-toggleable\"><input class=\"sk-toggleable__control sk-hidden--visually\" id=\"sk-estimator-id-3\" type=\"checkbox\" ><label for=\"sk-estimator-id-3\" class=\"sk-toggleable__label sk-toggleable__label-arrow\">GridSearchCV</label><div class=\"sk-toggleable__content\"><pre>GridSearchCV(cv=RepeatedKFold(n_repeats=3, n_splits=5, random_state=12354),\n",
              "             estimator=RandomForestRegressor(random_state=12354), n_jobs=1,\n",
              "             param_grid={&#x27;max_depth&#x27;: [None, 3, 10, 20],\n",
              "                         &#x27;max_features&#x27;: [5, 8, 11],\n",
              "                         &#x27;n_estimators&#x27;: [100, 150, 200]},\n",
              "             return_train_score=True, scoring=&#x27;neg_root_mean_squared_error&#x27;)</pre></div></div></div><div class=\"sk-parallel\"><div class=\"sk-parallel-item\"><div class=\"sk-item\"><div class=\"sk-label-container\"><div class=\"sk-label sk-toggleable\"><input class=\"sk-toggleable__control sk-hidden--visually\" id=\"sk-estimator-id-4\" type=\"checkbox\" ><label for=\"sk-estimator-id-4\" class=\"sk-toggleable__label sk-toggleable__label-arrow\">estimator: RandomForestRegressor</label><div class=\"sk-toggleable__content\"><pre>RandomForestRegressor(random_state=12354)</pre></div></div></div><div class=\"sk-serial\"><div class=\"sk-item\"><div class=\"sk-estimator sk-toggleable\"><input class=\"sk-toggleable__control sk-hidden--visually\" id=\"sk-estimator-id-5\" type=\"checkbox\" ><label for=\"sk-estimator-id-5\" class=\"sk-toggleable__label sk-toggleable__label-arrow\">RandomForestRegressor</label><div class=\"sk-toggleable__content\"><pre>RandomForestRegressor(random_state=12354)</pre></div></div></div></div></div></div></div></div></div></div>"
            ]
          },
          "metadata": {},
          "execution_count": 52
        }
      ]
    },
    {
      "cell_type": "code",
      "source": [
        "resultados = pd.DataFrame(grid.cv_results_)\n",
        "resultados.filter(regex = '(param.*|mean_t|std_t)') \\\n",
        "    .drop(columns = 'params') \\\n",
        "    .sort_values('mean_test_score', ascending = False) \\\n",
        "    .head(4)"
      ],
      "metadata": {
        "colab": {
          "base_uri": "https://localhost:8080/",
          "height": 175
        },
        "id": "Wq14dZgF-12a",
        "outputId": "305109c9-a184-43d4-dde8-0d4daa39dcee"
      },
      "execution_count": null,
      "outputs": [
        {
          "output_type": "execute_result",
          "data": {
            "text/plain": [
              "   param_max_depth param_max_features param_n_estimators  mean_test_score  \\\n",
              "31              20                  8                150        -3.274125   \n",
              "4             None                  8                150        -3.274503   \n",
              "32              20                  8                200        -3.275073   \n",
              "5             None                  8                200        -3.275305   \n",
              "\n",
              "    std_test_score  mean_train_score  std_train_score  \n",
              "31        0.600638         -1.270125         0.049256  \n",
              "4         0.599961         -1.269332         0.049016  \n",
              "32        0.603034         -1.268813         0.051804  \n",
              "5         0.603736         -1.268701         0.051490  "
            ],
            "text/html": [
              "\n",
              "  <div id=\"df-f394f0ae-c7f9-4dc7-8f74-868dd13f8373\" class=\"colab-df-container\">\n",
              "    <div>\n",
              "<style scoped>\n",
              "    .dataframe tbody tr th:only-of-type {\n",
              "        vertical-align: middle;\n",
              "    }\n",
              "\n",
              "    .dataframe tbody tr th {\n",
              "        vertical-align: top;\n",
              "    }\n",
              "\n",
              "    .dataframe thead th {\n",
              "        text-align: right;\n",
              "    }\n",
              "</style>\n",
              "<table border=\"1\" class=\"dataframe\">\n",
              "  <thead>\n",
              "    <tr style=\"text-align: right;\">\n",
              "      <th></th>\n",
              "      <th>param_max_depth</th>\n",
              "      <th>param_max_features</th>\n",
              "      <th>param_n_estimators</th>\n",
              "      <th>mean_test_score</th>\n",
              "      <th>std_test_score</th>\n",
              "      <th>mean_train_score</th>\n",
              "      <th>std_train_score</th>\n",
              "    </tr>\n",
              "  </thead>\n",
              "  <tbody>\n",
              "    <tr>\n",
              "      <th>31</th>\n",
              "      <td>20</td>\n",
              "      <td>8</td>\n",
              "      <td>150</td>\n",
              "      <td>-3.274125</td>\n",
              "      <td>0.600638</td>\n",
              "      <td>-1.270125</td>\n",
              "      <td>0.049256</td>\n",
              "    </tr>\n",
              "    <tr>\n",
              "      <th>4</th>\n",
              "      <td>None</td>\n",
              "      <td>8</td>\n",
              "      <td>150</td>\n",
              "      <td>-3.274503</td>\n",
              "      <td>0.599961</td>\n",
              "      <td>-1.269332</td>\n",
              "      <td>0.049016</td>\n",
              "    </tr>\n",
              "    <tr>\n",
              "      <th>32</th>\n",
              "      <td>20</td>\n",
              "      <td>8</td>\n",
              "      <td>200</td>\n",
              "      <td>-3.275073</td>\n",
              "      <td>0.603034</td>\n",
              "      <td>-1.268813</td>\n",
              "      <td>0.051804</td>\n",
              "    </tr>\n",
              "    <tr>\n",
              "      <th>5</th>\n",
              "      <td>None</td>\n",
              "      <td>8</td>\n",
              "      <td>200</td>\n",
              "      <td>-3.275305</td>\n",
              "      <td>0.603736</td>\n",
              "      <td>-1.268701</td>\n",
              "      <td>0.051490</td>\n",
              "    </tr>\n",
              "  </tbody>\n",
              "</table>\n",
              "</div>\n",
              "    <div class=\"colab-df-buttons\">\n",
              "\n",
              "  <div class=\"colab-df-container\">\n",
              "    <button class=\"colab-df-convert\" onclick=\"convertToInteractive('df-f394f0ae-c7f9-4dc7-8f74-868dd13f8373')\"\n",
              "            title=\"Convert this dataframe to an interactive table.\"\n",
              "            style=\"display:none;\">\n",
              "\n",
              "  <svg xmlns=\"http://www.w3.org/2000/svg\" height=\"24px\" viewBox=\"0 -960 960 960\">\n",
              "    <path d=\"M120-120v-720h720v720H120Zm60-500h600v-160H180v160Zm220 220h160v-160H400v160Zm0 220h160v-160H400v160ZM180-400h160v-160H180v160Zm440 0h160v-160H620v160ZM180-180h160v-160H180v160Zm440 0h160v-160H620v160Z\"/>\n",
              "  </svg>\n",
              "    </button>\n",
              "\n",
              "  <style>\n",
              "    .colab-df-container {\n",
              "      display:flex;\n",
              "      gap: 12px;\n",
              "    }\n",
              "\n",
              "    .colab-df-convert {\n",
              "      background-color: #E8F0FE;\n",
              "      border: none;\n",
              "      border-radius: 50%;\n",
              "      cursor: pointer;\n",
              "      display: none;\n",
              "      fill: #1967D2;\n",
              "      height: 32px;\n",
              "      padding: 0 0 0 0;\n",
              "      width: 32px;\n",
              "    }\n",
              "\n",
              "    .colab-df-convert:hover {\n",
              "      background-color: #E2EBFA;\n",
              "      box-shadow: 0px 1px 2px rgba(60, 64, 67, 0.3), 0px 1px 3px 1px rgba(60, 64, 67, 0.15);\n",
              "      fill: #174EA6;\n",
              "    }\n",
              "\n",
              "    .colab-df-buttons div {\n",
              "      margin-bottom: 4px;\n",
              "    }\n",
              "\n",
              "    [theme=dark] .colab-df-convert {\n",
              "      background-color: #3B4455;\n",
              "      fill: #D2E3FC;\n",
              "    }\n",
              "\n",
              "    [theme=dark] .colab-df-convert:hover {\n",
              "      background-color: #434B5C;\n",
              "      box-shadow: 0px 1px 3px 1px rgba(0, 0, 0, 0.15);\n",
              "      filter: drop-shadow(0px 1px 2px rgba(0, 0, 0, 0.3));\n",
              "      fill: #FFFFFF;\n",
              "    }\n",
              "  </style>\n",
              "\n",
              "    <script>\n",
              "      const buttonEl =\n",
              "        document.querySelector('#df-f394f0ae-c7f9-4dc7-8f74-868dd13f8373 button.colab-df-convert');\n",
              "      buttonEl.style.display =\n",
              "        google.colab.kernel.accessAllowed ? 'block' : 'none';\n",
              "\n",
              "      async function convertToInteractive(key) {\n",
              "        const element = document.querySelector('#df-f394f0ae-c7f9-4dc7-8f74-868dd13f8373');\n",
              "        const dataTable =\n",
              "          await google.colab.kernel.invokeFunction('convertToInteractive',\n",
              "                                                    [key], {});\n",
              "        if (!dataTable) return;\n",
              "\n",
              "        const docLinkHtml = 'Like what you see? Visit the ' +\n",
              "          '<a target=\"_blank\" href=https://colab.research.google.com/notebooks/data_table.ipynb>data table notebook</a>'\n",
              "          + ' to learn more about interactive tables.';\n",
              "        element.innerHTML = '';\n",
              "        dataTable['output_type'] = 'display_data';\n",
              "        await google.colab.output.renderOutput(dataTable, element);\n",
              "        const docLink = document.createElement('div');\n",
              "        docLink.innerHTML = docLinkHtml;\n",
              "        element.appendChild(docLink);\n",
              "      }\n",
              "    </script>\n",
              "  </div>\n",
              "\n",
              "\n",
              "<div id=\"df-13381f6f-7268-457f-a42a-5ab62b1b6bbd\">\n",
              "  <button class=\"colab-df-quickchart\" onclick=\"quickchart('df-13381f6f-7268-457f-a42a-5ab62b1b6bbd')\"\n",
              "            title=\"Suggest charts.\"\n",
              "            style=\"display:none;\">\n",
              "\n",
              "<svg xmlns=\"http://www.w3.org/2000/svg\" height=\"24px\"viewBox=\"0 0 24 24\"\n",
              "     width=\"24px\">\n",
              "    <g>\n",
              "        <path d=\"M19 3H5c-1.1 0-2 .9-2 2v14c0 1.1.9 2 2 2h14c1.1 0 2-.9 2-2V5c0-1.1-.9-2-2-2zM9 17H7v-7h2v7zm4 0h-2V7h2v10zm4 0h-2v-4h2v4z\"/>\n",
              "    </g>\n",
              "</svg>\n",
              "  </button>\n",
              "\n",
              "<style>\n",
              "  .colab-df-quickchart {\n",
              "      --bg-color: #E8F0FE;\n",
              "      --fill-color: #1967D2;\n",
              "      --hover-bg-color: #E2EBFA;\n",
              "      --hover-fill-color: #174EA6;\n",
              "      --disabled-fill-color: #AAA;\n",
              "      --disabled-bg-color: #DDD;\n",
              "  }\n",
              "\n",
              "  [theme=dark] .colab-df-quickchart {\n",
              "      --bg-color: #3B4455;\n",
              "      --fill-color: #D2E3FC;\n",
              "      --hover-bg-color: #434B5C;\n",
              "      --hover-fill-color: #FFFFFF;\n",
              "      --disabled-bg-color: #3B4455;\n",
              "      --disabled-fill-color: #666;\n",
              "  }\n",
              "\n",
              "  .colab-df-quickchart {\n",
              "    background-color: var(--bg-color);\n",
              "    border: none;\n",
              "    border-radius: 50%;\n",
              "    cursor: pointer;\n",
              "    display: none;\n",
              "    fill: var(--fill-color);\n",
              "    height: 32px;\n",
              "    padding: 0;\n",
              "    width: 32px;\n",
              "  }\n",
              "\n",
              "  .colab-df-quickchart:hover {\n",
              "    background-color: var(--hover-bg-color);\n",
              "    box-shadow: 0 1px 2px rgba(60, 64, 67, 0.3), 0 1px 3px 1px rgba(60, 64, 67, 0.15);\n",
              "    fill: var(--button-hover-fill-color);\n",
              "  }\n",
              "\n",
              "  .colab-df-quickchart-complete:disabled,\n",
              "  .colab-df-quickchart-complete:disabled:hover {\n",
              "    background-color: var(--disabled-bg-color);\n",
              "    fill: var(--disabled-fill-color);\n",
              "    box-shadow: none;\n",
              "  }\n",
              "\n",
              "  .colab-df-spinner {\n",
              "    border: 2px solid var(--fill-color);\n",
              "    border-color: transparent;\n",
              "    border-bottom-color: var(--fill-color);\n",
              "    animation:\n",
              "      spin 1s steps(1) infinite;\n",
              "  }\n",
              "\n",
              "  @keyframes spin {\n",
              "    0% {\n",
              "      border-color: transparent;\n",
              "      border-bottom-color: var(--fill-color);\n",
              "      border-left-color: var(--fill-color);\n",
              "    }\n",
              "    20% {\n",
              "      border-color: transparent;\n",
              "      border-left-color: var(--fill-color);\n",
              "      border-top-color: var(--fill-color);\n",
              "    }\n",
              "    30% {\n",
              "      border-color: transparent;\n",
              "      border-left-color: var(--fill-color);\n",
              "      border-top-color: var(--fill-color);\n",
              "      border-right-color: var(--fill-color);\n",
              "    }\n",
              "    40% {\n",
              "      border-color: transparent;\n",
              "      border-right-color: var(--fill-color);\n",
              "      border-top-color: var(--fill-color);\n",
              "    }\n",
              "    60% {\n",
              "      border-color: transparent;\n",
              "      border-right-color: var(--fill-color);\n",
              "    }\n",
              "    80% {\n",
              "      border-color: transparent;\n",
              "      border-right-color: var(--fill-color);\n",
              "      border-bottom-color: var(--fill-color);\n",
              "    }\n",
              "    90% {\n",
              "      border-color: transparent;\n",
              "      border-bottom-color: var(--fill-color);\n",
              "    }\n",
              "  }\n",
              "</style>\n",
              "\n",
              "  <script>\n",
              "    async function quickchart(key) {\n",
              "      const quickchartButtonEl =\n",
              "        document.querySelector('#' + key + ' button');\n",
              "      quickchartButtonEl.disabled = true;  // To prevent multiple clicks.\n",
              "      quickchartButtonEl.classList.add('colab-df-spinner');\n",
              "      try {\n",
              "        const charts = await google.colab.kernel.invokeFunction(\n",
              "            'suggestCharts', [key], {});\n",
              "      } catch (error) {\n",
              "        console.error('Error during call to suggestCharts:', error);\n",
              "      }\n",
              "      quickchartButtonEl.classList.remove('colab-df-spinner');\n",
              "      quickchartButtonEl.classList.add('colab-df-quickchart-complete');\n",
              "    }\n",
              "    (() => {\n",
              "      let quickchartButtonEl =\n",
              "        document.querySelector('#df-13381f6f-7268-457f-a42a-5ab62b1b6bbd button');\n",
              "      quickchartButtonEl.style.display =\n",
              "        google.colab.kernel.accessAllowed ? 'block' : 'none';\n",
              "    })();\n",
              "  </script>\n",
              "</div>\n",
              "    </div>\n",
              "  </div>\n"
            ]
          },
          "metadata": {},
          "execution_count": 53
        }
      ]
    },
    {
      "cell_type": "code",
      "source": [
        "X_train"
      ],
      "metadata": {
        "colab": {
          "base_uri": "https://localhost:8080/",
          "height": 423
        },
        "id": "54MLsgyABezb",
        "outputId": "7fa53fce-3572-4858-c755-911045220867"
      },
      "execution_count": null,
      "outputs": [
        {
          "output_type": "execute_result",
          "data": {
            "text/plain": [
              "        crim    zn  indus  chas    nox     rm   age     dis  rad  tax  \\\n",
              "126  0.38735   0.0  25.65     0  0.581  5.613  95.6  1.7572    2  188   \n",
              "161  1.46336   0.0  19.58     0  0.605  7.489  90.8  1.9709    5  403   \n",
              "65   0.03584  80.0   3.37     0  0.398  6.290  17.8  6.6115    4  337   \n",
              "170  1.20742   0.0  19.58     0  0.605  5.875  94.6  2.4259    5  403   \n",
              "294  0.08199   0.0  13.92     0  0.437  6.009  42.3  5.5027    4  289   \n",
              "..       ...   ...    ...   ...    ...    ...   ...     ...  ...  ...   \n",
              "123  0.15038   0.0  25.65     0  0.581  5.856  97.0  1.9444    2  188   \n",
              "298  0.06466  70.0   2.24     0  0.400  6.345  20.1  7.8278    5  358   \n",
              "22   1.23247   0.0   8.14     0  0.538  6.142  91.7  3.9769    4  307   \n",
              "100  0.14866   0.0   8.56     0  0.520  6.727  79.9  2.7778    5  384   \n",
              "147  2.36862   0.0  19.58     0  0.871  4.926  95.7  1.4608    5  403   \n",
              "\n",
              "     ptratio       b  lstat  \n",
              "126     19.1  359.29  27.26  \n",
              "161     14.7  374.43   1.73  \n",
              "65      16.1  396.90   4.67  \n",
              "170     14.7  292.29  14.43  \n",
              "294     16.0  396.90  10.40  \n",
              "..       ...     ...    ...  \n",
              "123     19.1  370.31  25.41  \n",
              "298     14.8  368.24   4.97  \n",
              "22      21.0  396.90  18.72  \n",
              "100     20.9  394.76   9.42  \n",
              "147     14.7  391.71  29.53  \n",
              "\n",
              "[430 rows x 13 columns]"
            ],
            "text/html": [
              "\n",
              "  <div id=\"df-b3c3aadb-95f6-4921-ba27-6016e8fdd43b\" class=\"colab-df-container\">\n",
              "    <div>\n",
              "<style scoped>\n",
              "    .dataframe tbody tr th:only-of-type {\n",
              "        vertical-align: middle;\n",
              "    }\n",
              "\n",
              "    .dataframe tbody tr th {\n",
              "        vertical-align: top;\n",
              "    }\n",
              "\n",
              "    .dataframe thead th {\n",
              "        text-align: right;\n",
              "    }\n",
              "</style>\n",
              "<table border=\"1\" class=\"dataframe\">\n",
              "  <thead>\n",
              "    <tr style=\"text-align: right;\">\n",
              "      <th></th>\n",
              "      <th>crim</th>\n",
              "      <th>zn</th>\n",
              "      <th>indus</th>\n",
              "      <th>chas</th>\n",
              "      <th>nox</th>\n",
              "      <th>rm</th>\n",
              "      <th>age</th>\n",
              "      <th>dis</th>\n",
              "      <th>rad</th>\n",
              "      <th>tax</th>\n",
              "      <th>ptratio</th>\n",
              "      <th>b</th>\n",
              "      <th>lstat</th>\n",
              "    </tr>\n",
              "  </thead>\n",
              "  <tbody>\n",
              "    <tr>\n",
              "      <th>126</th>\n",
              "      <td>0.38735</td>\n",
              "      <td>0.0</td>\n",
              "      <td>25.65</td>\n",
              "      <td>0</td>\n",
              "      <td>0.581</td>\n",
              "      <td>5.613</td>\n",
              "      <td>95.6</td>\n",
              "      <td>1.7572</td>\n",
              "      <td>2</td>\n",
              "      <td>188</td>\n",
              "      <td>19.1</td>\n",
              "      <td>359.29</td>\n",
              "      <td>27.26</td>\n",
              "    </tr>\n",
              "    <tr>\n",
              "      <th>161</th>\n",
              "      <td>1.46336</td>\n",
              "      <td>0.0</td>\n",
              "      <td>19.58</td>\n",
              "      <td>0</td>\n",
              "      <td>0.605</td>\n",
              "      <td>7.489</td>\n",
              "      <td>90.8</td>\n",
              "      <td>1.9709</td>\n",
              "      <td>5</td>\n",
              "      <td>403</td>\n",
              "      <td>14.7</td>\n",
              "      <td>374.43</td>\n",
              "      <td>1.73</td>\n",
              "    </tr>\n",
              "    <tr>\n",
              "      <th>65</th>\n",
              "      <td>0.03584</td>\n",
              "      <td>80.0</td>\n",
              "      <td>3.37</td>\n",
              "      <td>0</td>\n",
              "      <td>0.398</td>\n",
              "      <td>6.290</td>\n",
              "      <td>17.8</td>\n",
              "      <td>6.6115</td>\n",
              "      <td>4</td>\n",
              "      <td>337</td>\n",
              "      <td>16.1</td>\n",
              "      <td>396.90</td>\n",
              "      <td>4.67</td>\n",
              "    </tr>\n",
              "    <tr>\n",
              "      <th>170</th>\n",
              "      <td>1.20742</td>\n",
              "      <td>0.0</td>\n",
              "      <td>19.58</td>\n",
              "      <td>0</td>\n",
              "      <td>0.605</td>\n",
              "      <td>5.875</td>\n",
              "      <td>94.6</td>\n",
              "      <td>2.4259</td>\n",
              "      <td>5</td>\n",
              "      <td>403</td>\n",
              "      <td>14.7</td>\n",
              "      <td>292.29</td>\n",
              "      <td>14.43</td>\n",
              "    </tr>\n",
              "    <tr>\n",
              "      <th>294</th>\n",
              "      <td>0.08199</td>\n",
              "      <td>0.0</td>\n",
              "      <td>13.92</td>\n",
              "      <td>0</td>\n",
              "      <td>0.437</td>\n",
              "      <td>6.009</td>\n",
              "      <td>42.3</td>\n",
              "      <td>5.5027</td>\n",
              "      <td>4</td>\n",
              "      <td>289</td>\n",
              "      <td>16.0</td>\n",
              "      <td>396.90</td>\n",
              "      <td>10.40</td>\n",
              "    </tr>\n",
              "    <tr>\n",
              "      <th>...</th>\n",
              "      <td>...</td>\n",
              "      <td>...</td>\n",
              "      <td>...</td>\n",
              "      <td>...</td>\n",
              "      <td>...</td>\n",
              "      <td>...</td>\n",
              "      <td>...</td>\n",
              "      <td>...</td>\n",
              "      <td>...</td>\n",
              "      <td>...</td>\n",
              "      <td>...</td>\n",
              "      <td>...</td>\n",
              "      <td>...</td>\n",
              "    </tr>\n",
              "    <tr>\n",
              "      <th>123</th>\n",
              "      <td>0.15038</td>\n",
              "      <td>0.0</td>\n",
              "      <td>25.65</td>\n",
              "      <td>0</td>\n",
              "      <td>0.581</td>\n",
              "      <td>5.856</td>\n",
              "      <td>97.0</td>\n",
              "      <td>1.9444</td>\n",
              "      <td>2</td>\n",
              "      <td>188</td>\n",
              "      <td>19.1</td>\n",
              "      <td>370.31</td>\n",
              "      <td>25.41</td>\n",
              "    </tr>\n",
              "    <tr>\n",
              "      <th>298</th>\n",
              "      <td>0.06466</td>\n",
              "      <td>70.0</td>\n",
              "      <td>2.24</td>\n",
              "      <td>0</td>\n",
              "      <td>0.400</td>\n",
              "      <td>6.345</td>\n",
              "      <td>20.1</td>\n",
              "      <td>7.8278</td>\n",
              "      <td>5</td>\n",
              "      <td>358</td>\n",
              "      <td>14.8</td>\n",
              "      <td>368.24</td>\n",
              "      <td>4.97</td>\n",
              "    </tr>\n",
              "    <tr>\n",
              "      <th>22</th>\n",
              "      <td>1.23247</td>\n",
              "      <td>0.0</td>\n",
              "      <td>8.14</td>\n",
              "      <td>0</td>\n",
              "      <td>0.538</td>\n",
              "      <td>6.142</td>\n",
              "      <td>91.7</td>\n",
              "      <td>3.9769</td>\n",
              "      <td>4</td>\n",
              "      <td>307</td>\n",
              "      <td>21.0</td>\n",
              "      <td>396.90</td>\n",
              "      <td>18.72</td>\n",
              "    </tr>\n",
              "    <tr>\n",
              "      <th>100</th>\n",
              "      <td>0.14866</td>\n",
              "      <td>0.0</td>\n",
              "      <td>8.56</td>\n",
              "      <td>0</td>\n",
              "      <td>0.520</td>\n",
              "      <td>6.727</td>\n",
              "      <td>79.9</td>\n",
              "      <td>2.7778</td>\n",
              "      <td>5</td>\n",
              "      <td>384</td>\n",
              "      <td>20.9</td>\n",
              "      <td>394.76</td>\n",
              "      <td>9.42</td>\n",
              "    </tr>\n",
              "    <tr>\n",
              "      <th>147</th>\n",
              "      <td>2.36862</td>\n",
              "      <td>0.0</td>\n",
              "      <td>19.58</td>\n",
              "      <td>0</td>\n",
              "      <td>0.871</td>\n",
              "      <td>4.926</td>\n",
              "      <td>95.7</td>\n",
              "      <td>1.4608</td>\n",
              "      <td>5</td>\n",
              "      <td>403</td>\n",
              "      <td>14.7</td>\n",
              "      <td>391.71</td>\n",
              "      <td>29.53</td>\n",
              "    </tr>\n",
              "  </tbody>\n",
              "</table>\n",
              "<p>430 rows × 13 columns</p>\n",
              "</div>\n",
              "    <div class=\"colab-df-buttons\">\n",
              "\n",
              "  <div class=\"colab-df-container\">\n",
              "    <button class=\"colab-df-convert\" onclick=\"convertToInteractive('df-b3c3aadb-95f6-4921-ba27-6016e8fdd43b')\"\n",
              "            title=\"Convert this dataframe to an interactive table.\"\n",
              "            style=\"display:none;\">\n",
              "\n",
              "  <svg xmlns=\"http://www.w3.org/2000/svg\" height=\"24px\" viewBox=\"0 -960 960 960\">\n",
              "    <path d=\"M120-120v-720h720v720H120Zm60-500h600v-160H180v160Zm220 220h160v-160H400v160Zm0 220h160v-160H400v160ZM180-400h160v-160H180v160Zm440 0h160v-160H620v160ZM180-180h160v-160H180v160Zm440 0h160v-160H620v160Z\"/>\n",
              "  </svg>\n",
              "    </button>\n",
              "\n",
              "  <style>\n",
              "    .colab-df-container {\n",
              "      display:flex;\n",
              "      gap: 12px;\n",
              "    }\n",
              "\n",
              "    .colab-df-convert {\n",
              "      background-color: #E8F0FE;\n",
              "      border: none;\n",
              "      border-radius: 50%;\n",
              "      cursor: pointer;\n",
              "      display: none;\n",
              "      fill: #1967D2;\n",
              "      height: 32px;\n",
              "      padding: 0 0 0 0;\n",
              "      width: 32px;\n",
              "    }\n",
              "\n",
              "    .colab-df-convert:hover {\n",
              "      background-color: #E2EBFA;\n",
              "      box-shadow: 0px 1px 2px rgba(60, 64, 67, 0.3), 0px 1px 3px 1px rgba(60, 64, 67, 0.15);\n",
              "      fill: #174EA6;\n",
              "    }\n",
              "\n",
              "    .colab-df-buttons div {\n",
              "      margin-bottom: 4px;\n",
              "    }\n",
              "\n",
              "    [theme=dark] .colab-df-convert {\n",
              "      background-color: #3B4455;\n",
              "      fill: #D2E3FC;\n",
              "    }\n",
              "\n",
              "    [theme=dark] .colab-df-convert:hover {\n",
              "      background-color: #434B5C;\n",
              "      box-shadow: 0px 1px 3px 1px rgba(0, 0, 0, 0.15);\n",
              "      filter: drop-shadow(0px 1px 2px rgba(0, 0, 0, 0.3));\n",
              "      fill: #FFFFFF;\n",
              "    }\n",
              "  </style>\n",
              "\n",
              "    <script>\n",
              "      const buttonEl =\n",
              "        document.querySelector('#df-b3c3aadb-95f6-4921-ba27-6016e8fdd43b button.colab-df-convert');\n",
              "      buttonEl.style.display =\n",
              "        google.colab.kernel.accessAllowed ? 'block' : 'none';\n",
              "\n",
              "      async function convertToInteractive(key) {\n",
              "        const element = document.querySelector('#df-b3c3aadb-95f6-4921-ba27-6016e8fdd43b');\n",
              "        const dataTable =\n",
              "          await google.colab.kernel.invokeFunction('convertToInteractive',\n",
              "                                                    [key], {});\n",
              "        if (!dataTable) return;\n",
              "\n",
              "        const docLinkHtml = 'Like what you see? Visit the ' +\n",
              "          '<a target=\"_blank\" href=https://colab.research.google.com/notebooks/data_table.ipynb>data table notebook</a>'\n",
              "          + ' to learn more about interactive tables.';\n",
              "        element.innerHTML = '';\n",
              "        dataTable['output_type'] = 'display_data';\n",
              "        await google.colab.output.renderOutput(dataTable, element);\n",
              "        const docLink = document.createElement('div');\n",
              "        docLink.innerHTML = docLinkHtml;\n",
              "        element.appendChild(docLink);\n",
              "      }\n",
              "    </script>\n",
              "  </div>\n",
              "\n",
              "\n",
              "<div id=\"df-6b3dfd8a-7afb-4b64-8105-9309281c7361\">\n",
              "  <button class=\"colab-df-quickchart\" onclick=\"quickchart('df-6b3dfd8a-7afb-4b64-8105-9309281c7361')\"\n",
              "            title=\"Suggest charts.\"\n",
              "            style=\"display:none;\">\n",
              "\n",
              "<svg xmlns=\"http://www.w3.org/2000/svg\" height=\"24px\"viewBox=\"0 0 24 24\"\n",
              "     width=\"24px\">\n",
              "    <g>\n",
              "        <path d=\"M19 3H5c-1.1 0-2 .9-2 2v14c0 1.1.9 2 2 2h14c1.1 0 2-.9 2-2V5c0-1.1-.9-2-2-2zM9 17H7v-7h2v7zm4 0h-2V7h2v10zm4 0h-2v-4h2v4z\"/>\n",
              "    </g>\n",
              "</svg>\n",
              "  </button>\n",
              "\n",
              "<style>\n",
              "  .colab-df-quickchart {\n",
              "      --bg-color: #E8F0FE;\n",
              "      --fill-color: #1967D2;\n",
              "      --hover-bg-color: #E2EBFA;\n",
              "      --hover-fill-color: #174EA6;\n",
              "      --disabled-fill-color: #AAA;\n",
              "      --disabled-bg-color: #DDD;\n",
              "  }\n",
              "\n",
              "  [theme=dark] .colab-df-quickchart {\n",
              "      --bg-color: #3B4455;\n",
              "      --fill-color: #D2E3FC;\n",
              "      --hover-bg-color: #434B5C;\n",
              "      --hover-fill-color: #FFFFFF;\n",
              "      --disabled-bg-color: #3B4455;\n",
              "      --disabled-fill-color: #666;\n",
              "  }\n",
              "\n",
              "  .colab-df-quickchart {\n",
              "    background-color: var(--bg-color);\n",
              "    border: none;\n",
              "    border-radius: 50%;\n",
              "    cursor: pointer;\n",
              "    display: none;\n",
              "    fill: var(--fill-color);\n",
              "    height: 32px;\n",
              "    padding: 0;\n",
              "    width: 32px;\n",
              "  }\n",
              "\n",
              "  .colab-df-quickchart:hover {\n",
              "    background-color: var(--hover-bg-color);\n",
              "    box-shadow: 0 1px 2px rgba(60, 64, 67, 0.3), 0 1px 3px 1px rgba(60, 64, 67, 0.15);\n",
              "    fill: var(--button-hover-fill-color);\n",
              "  }\n",
              "\n",
              "  .colab-df-quickchart-complete:disabled,\n",
              "  .colab-df-quickchart-complete:disabled:hover {\n",
              "    background-color: var(--disabled-bg-color);\n",
              "    fill: var(--disabled-fill-color);\n",
              "    box-shadow: none;\n",
              "  }\n",
              "\n",
              "  .colab-df-spinner {\n",
              "    border: 2px solid var(--fill-color);\n",
              "    border-color: transparent;\n",
              "    border-bottom-color: var(--fill-color);\n",
              "    animation:\n",
              "      spin 1s steps(1) infinite;\n",
              "  }\n",
              "\n",
              "  @keyframes spin {\n",
              "    0% {\n",
              "      border-color: transparent;\n",
              "      border-bottom-color: var(--fill-color);\n",
              "      border-left-color: var(--fill-color);\n",
              "    }\n",
              "    20% {\n",
              "      border-color: transparent;\n",
              "      border-left-color: var(--fill-color);\n",
              "      border-top-color: var(--fill-color);\n",
              "    }\n",
              "    30% {\n",
              "      border-color: transparent;\n",
              "      border-left-color: var(--fill-color);\n",
              "      border-top-color: var(--fill-color);\n",
              "      border-right-color: var(--fill-color);\n",
              "    }\n",
              "    40% {\n",
              "      border-color: transparent;\n",
              "      border-right-color: var(--fill-color);\n",
              "      border-top-color: var(--fill-color);\n",
              "    }\n",
              "    60% {\n",
              "      border-color: transparent;\n",
              "      border-right-color: var(--fill-color);\n",
              "    }\n",
              "    80% {\n",
              "      border-color: transparent;\n",
              "      border-right-color: var(--fill-color);\n",
              "      border-bottom-color: var(--fill-color);\n",
              "    }\n",
              "    90% {\n",
              "      border-color: transparent;\n",
              "      border-bottom-color: var(--fill-color);\n",
              "    }\n",
              "  }\n",
              "</style>\n",
              "\n",
              "  <script>\n",
              "    async function quickchart(key) {\n",
              "      const quickchartButtonEl =\n",
              "        document.querySelector('#' + key + ' button');\n",
              "      quickchartButtonEl.disabled = true;  // To prevent multiple clicks.\n",
              "      quickchartButtonEl.classList.add('colab-df-spinner');\n",
              "      try {\n",
              "        const charts = await google.colab.kernel.invokeFunction(\n",
              "            'suggestCharts', [key], {});\n",
              "      } catch (error) {\n",
              "        console.error('Error during call to suggestCharts:', error);\n",
              "      }\n",
              "      quickchartButtonEl.classList.remove('colab-df-spinner');\n",
              "      quickchartButtonEl.classList.add('colab-df-quickchart-complete');\n",
              "    }\n",
              "    (() => {\n",
              "      let quickchartButtonEl =\n",
              "        document.querySelector('#df-6b3dfd8a-7afb-4b64-8105-9309281c7361 button');\n",
              "      quickchartButtonEl.style.display =\n",
              "        google.colab.kernel.accessAllowed ? 'block' : 'none';\n",
              "    })();\n",
              "  </script>\n",
              "</div>\n",
              "    </div>\n",
              "  </div>\n"
            ]
          },
          "metadata": {},
          "execution_count": 54
        }
      ]
    },
    {
      "cell_type": "code",
      "source": [
        "y_test"
      ],
      "metadata": {
        "colab": {
          "base_uri": "https://localhost:8080/"
        },
        "id": "5aqmL9CfBmc5",
        "outputId": "582aebba-f3ab-46ed-cea6-054faa229dec"
      },
      "execution_count": null,
      "outputs": [
        {
          "output_type": "execute_result",
          "data": {
            "text/plain": [
              "447    12.6\n",
              "223    30.1\n",
              "205    22.6\n",
              "73     23.4\n",
              "261    43.1\n",
              "       ... \n",
              "283    50.0\n",
              "369    50.0\n",
              "118    20.4\n",
              "29     21.0\n",
              "90     22.6\n",
              "Name: medv, Length: 76, dtype: float64"
            ]
          },
          "metadata": {},
          "execution_count": 55
        }
      ]
    },
    {
      "cell_type": "code",
      "source": [
        "model = grid.best_estimator_\n",
        "y_predict = model.predict(X_test)\n",
        "rmse = mean_squared_error(\n",
        "        y_true  = y_test,\n",
        "        y_pred  = y_predict,\n",
        "        squared = False\n",
        ")"
      ],
      "metadata": {
        "id": "F5cl4GcVA9hg"
      },
      "execution_count": null,
      "outputs": []
    },
    {
      "cell_type": "code",
      "source": [
        "print(f\"El error (rmse) de test es: {rmse}\")\n"
      ],
      "metadata": {
        "colab": {
          "base_uri": "https://localhost:8080/"
        },
        "id": "X_Hrnhn2BuJB",
        "outputId": "f8c46339-4924-4abb-e65a-691e2d8d89dc"
      },
      "execution_count": null,
      "outputs": [
        {
          "output_type": "stream",
          "name": "stdout",
          "text": [
            "El error (rmse) de test es: 2.933644998505774\n"
          ]
        }
      ]
    },
    {
      "cell_type": "markdown",
      "source": [
        "Optimizando los hiperparametros, se reduce el error rmse de modelo que paso de 3.056066400146643  a 2.933644998505774. Las predicciones del modelo final se alejan en promedio 2.933644998505774 unidades (2933 dolares) del valor final."
      ],
      "metadata": {
        "id": "suHABI4mB1TU"
      }
    }
  ]
}