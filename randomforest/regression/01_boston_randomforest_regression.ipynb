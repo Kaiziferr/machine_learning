{
  "nbformat": 4,
  "nbformat_minor": 0,
  "metadata": {
    "colab": {
      "name": "01_boston_randomforest_regression.ipynb",
      "provenance": [],
      "authorship_tag": "ABX9TyNaNGmhv4BjW4E3yIWCkqLy",
      "include_colab_link": true
    },
    "kernelspec": {
      "name": "python3",
      "display_name": "Python 3"
    },
    "language_info": {
      "name": "python"
    }
  },
  "cells": [
    {
      "cell_type": "markdown",
      "metadata": {
        "id": "view-in-github",
        "colab_type": "text"
      },
      "source": [
        "<a href=\"https://colab.research.google.com/github/Kaiziferr/machine_learning/blob/main/randomforest/regression/01_boston_randomforest_regression.ipynb\" target=\"_parent\"><img src=\"https://colab.research.google.com/assets/colab-badge.svg\" alt=\"Open In Colab\"/></a>"
      ]
    },
    {
      "cell_type": "markdown",
      "source": [
        "# **Description**\n",
        "---\n",
        "\n",
        "El dataset `Boston` contiene precios de viviendas de la ciudad de Boston, asi como información socio-economica del barrio en el que se encunetran."
      ],
      "metadata": {
        "id": "_6iGVeeq9HOP"
      }
    },
    {
      "cell_type": "markdown",
      "source": [
        "# **Objetivo**\n",
        "---\n",
        "Se pretende ajustar un modelo de regresión que permita predecir el precio medio de una vivienda `MEDV` en función de las variables disponibles."
      ],
      "metadata": {
        "id": "-KrS2l2L-JZb"
      }
    },
    {
      "cell_type": "markdown",
      "source": [
        "# **Diccionario de datos**\n",
        "---\n",
        "\n",
        "Número de instancias: 506\n",
        "\n",
        "- `CRIM`: tasa de criminalidad per cápita por ciudad\n",
        "- `ZN`: proporción de suelo residencial zonificado para lotes de más de 25,000 pies cuadrados.\n",
        "- `INDUS`: proporción de acres comerciales no minoristas por ciudad\n",
        "- `CHAS`: variable ficticia del río Charles (= 1 si el tramo limita con el río; 0 en caso contrario)\n",
        "- `NOX`: concentración de óxidos nítricos (partes por 10 millones)\n",
        "- `RM`: promedio de cuartos por vivienda\n",
        "- `EDAD`: proporción de unidades ocupadas por sus propietarios construidas antes de 1940\n",
        "- `DIS`: distancias ponderadas a cinco centros de empleo de Boston\n",
        "- `RAD`: índice de accesibilidad a las carreteras radiales\n",
        "- `IMPUESTO`: tasa de impuesto a la propiedad de valor total por $ 10,000\n",
        "\n",
        "- `PTRATIO`: ratio alumno-profesor por municipio\n",
        "- `B`: $1000(Bk - 0.63)^2$ donde Bk es la proporción de negros por ciudad\n",
        "- `LSTAT`: % estado inferior de la población\n",
        "- `MEDV`: valor medio de las viviendas ocupadas por sus propietarios en $ 1000\n"
      ],
      "metadata": {
        "id": "JD_5gOFF-PKi"
      }
    },
    {
      "cell_type": "code",
      "execution_count": 1,
      "metadata": {
        "id": "CpSSHRxX8qV4"
      },
      "outputs": [],
      "source": [
        "import numpy as np\n",
        "import pandas as pd\n",
        "import seaborn as sns\n",
        "import matplotlib.pyplot as plt\n",
        "\n",
        "from sklearn.datasets import load_boston\n",
        "from sklearn.ensemble import RandomForestRegressor\n",
        "from sklearn.metrics import mean_squared_error\n",
        "from sklearn.model_selection import cross_val_score, train_test_split, RepeatedKFold, GridSearchCV, ParameterGrid\n",
        "from  sklearn.inspection  import  permutation_importance\n",
        "\n",
        "import  multiprocessing \n"
      ]
    },
    {
      "cell_type": "code",
      "source": [
        "boston = load_boston(return_X_y=False)\n",
        "data = np.column_stack((boston.data, boston.target))\n",
        "data = pd.DataFrame(data, columns = np.append(boston.feature_names, \"MEDV\"))\n",
        "data.head(3)"
      ],
      "metadata": {
        "colab": {
          "base_uri": "https://localhost:8080/",
          "height": 801
        },
        "id": "bs4WjYiDApuO",
        "outputId": "b0db88cb-d92d-45b3-9c65-acb52b8eb8e6"
      },
      "execution_count": 2,
      "outputs": [
        {
          "output_type": "stream",
          "name": "stderr",
          "text": [
            "/usr/local/lib/python3.7/dist-packages/sklearn/utils/deprecation.py:87: FutureWarning: Function load_boston is deprecated; `load_boston` is deprecated in 1.0 and will be removed in 1.2.\n",
            "\n",
            "    The Boston housing prices dataset has an ethical problem. You can refer to\n",
            "    the documentation of this function for further details.\n",
            "\n",
            "    The scikit-learn maintainers therefore strongly discourage the use of this\n",
            "    dataset unless the purpose of the code is to study and educate about\n",
            "    ethical issues in data science and machine learning.\n",
            "\n",
            "    In this special case, you can fetch the dataset from the original\n",
            "    source::\n",
            "\n",
            "        import pandas as pd\n",
            "        import numpy as np\n",
            "\n",
            "\n",
            "        data_url = \"http://lib.stat.cmu.edu/datasets/boston\"\n",
            "        raw_df = pd.read_csv(data_url, sep=\"\\s+\", skiprows=22, header=None)\n",
            "        data = np.hstack([raw_df.values[::2, :], raw_df.values[1::2, :2]])\n",
            "        target = raw_df.values[1::2, 2]\n",
            "\n",
            "    Alternative datasets include the California housing dataset (i.e.\n",
            "    :func:`~sklearn.datasets.fetch_california_housing`) and the Ames housing\n",
            "    dataset. You can load the datasets as follows::\n",
            "\n",
            "        from sklearn.datasets import fetch_california_housing\n",
            "        housing = fetch_california_housing()\n",
            "\n",
            "    for the California housing dataset and::\n",
            "\n",
            "        from sklearn.datasets import fetch_openml\n",
            "        housing = fetch_openml(name=\"house_prices\", as_frame=True)\n",
            "\n",
            "    for the Ames housing dataset.\n",
            "    \n",
            "  warnings.warn(msg, category=FutureWarning)\n"
          ]
        },
        {
          "output_type": "execute_result",
          "data": {
            "text/plain": [
              "      CRIM    ZN  INDUS  CHAS    NOX     RM   AGE     DIS  RAD    TAX  \\\n",
              "0  0.00632  18.0   2.31   0.0  0.538  6.575  65.2  4.0900  1.0  296.0   \n",
              "1  0.02731   0.0   7.07   0.0  0.469  6.421  78.9  4.9671  2.0  242.0   \n",
              "2  0.02729   0.0   7.07   0.0  0.469  7.185  61.1  4.9671  2.0  242.0   \n",
              "\n",
              "   PTRATIO       B  LSTAT  MEDV  \n",
              "0     15.3  396.90   4.98  24.0  \n",
              "1     17.8  396.90   9.14  21.6  \n",
              "2     17.8  392.83   4.03  34.7  "
            ],
            "text/html": [
              "\n",
              "  <div id=\"df-52922312-046f-4f69-9131-957dc1cd61ee\">\n",
              "    <div class=\"colab-df-container\">\n",
              "      <div>\n",
              "<style scoped>\n",
              "    .dataframe tbody tr th:only-of-type {\n",
              "        vertical-align: middle;\n",
              "    }\n",
              "\n",
              "    .dataframe tbody tr th {\n",
              "        vertical-align: top;\n",
              "    }\n",
              "\n",
              "    .dataframe thead th {\n",
              "        text-align: right;\n",
              "    }\n",
              "</style>\n",
              "<table border=\"1\" class=\"dataframe\">\n",
              "  <thead>\n",
              "    <tr style=\"text-align: right;\">\n",
              "      <th></th>\n",
              "      <th>CRIM</th>\n",
              "      <th>ZN</th>\n",
              "      <th>INDUS</th>\n",
              "      <th>CHAS</th>\n",
              "      <th>NOX</th>\n",
              "      <th>RM</th>\n",
              "      <th>AGE</th>\n",
              "      <th>DIS</th>\n",
              "      <th>RAD</th>\n",
              "      <th>TAX</th>\n",
              "      <th>PTRATIO</th>\n",
              "      <th>B</th>\n",
              "      <th>LSTAT</th>\n",
              "      <th>MEDV</th>\n",
              "    </tr>\n",
              "  </thead>\n",
              "  <tbody>\n",
              "    <tr>\n",
              "      <th>0</th>\n",
              "      <td>0.00632</td>\n",
              "      <td>18.0</td>\n",
              "      <td>2.31</td>\n",
              "      <td>0.0</td>\n",
              "      <td>0.538</td>\n",
              "      <td>6.575</td>\n",
              "      <td>65.2</td>\n",
              "      <td>4.0900</td>\n",
              "      <td>1.0</td>\n",
              "      <td>296.0</td>\n",
              "      <td>15.3</td>\n",
              "      <td>396.90</td>\n",
              "      <td>4.98</td>\n",
              "      <td>24.0</td>\n",
              "    </tr>\n",
              "    <tr>\n",
              "      <th>1</th>\n",
              "      <td>0.02731</td>\n",
              "      <td>0.0</td>\n",
              "      <td>7.07</td>\n",
              "      <td>0.0</td>\n",
              "      <td>0.469</td>\n",
              "      <td>6.421</td>\n",
              "      <td>78.9</td>\n",
              "      <td>4.9671</td>\n",
              "      <td>2.0</td>\n",
              "      <td>242.0</td>\n",
              "      <td>17.8</td>\n",
              "      <td>396.90</td>\n",
              "      <td>9.14</td>\n",
              "      <td>21.6</td>\n",
              "    </tr>\n",
              "    <tr>\n",
              "      <th>2</th>\n",
              "      <td>0.02729</td>\n",
              "      <td>0.0</td>\n",
              "      <td>7.07</td>\n",
              "      <td>0.0</td>\n",
              "      <td>0.469</td>\n",
              "      <td>7.185</td>\n",
              "      <td>61.1</td>\n",
              "      <td>4.9671</td>\n",
              "      <td>2.0</td>\n",
              "      <td>242.0</td>\n",
              "      <td>17.8</td>\n",
              "      <td>392.83</td>\n",
              "      <td>4.03</td>\n",
              "      <td>34.7</td>\n",
              "    </tr>\n",
              "  </tbody>\n",
              "</table>\n",
              "</div>\n",
              "      <button class=\"colab-df-convert\" onclick=\"convertToInteractive('df-52922312-046f-4f69-9131-957dc1cd61ee')\"\n",
              "              title=\"Convert this dataframe to an interactive table.\"\n",
              "              style=\"display:none;\">\n",
              "        \n",
              "  <svg xmlns=\"http://www.w3.org/2000/svg\" height=\"24px\"viewBox=\"0 0 24 24\"\n",
              "       width=\"24px\">\n",
              "    <path d=\"M0 0h24v24H0V0z\" fill=\"none\"/>\n",
              "    <path d=\"M18.56 5.44l.94 2.06.94-2.06 2.06-.94-2.06-.94-.94-2.06-.94 2.06-2.06.94zm-11 1L8.5 8.5l.94-2.06 2.06-.94-2.06-.94L8.5 2.5l-.94 2.06-2.06.94zm10 10l.94 2.06.94-2.06 2.06-.94-2.06-.94-.94-2.06-.94 2.06-2.06.94z\"/><path d=\"M17.41 7.96l-1.37-1.37c-.4-.4-.92-.59-1.43-.59-.52 0-1.04.2-1.43.59L10.3 9.45l-7.72 7.72c-.78.78-.78 2.05 0 2.83L4 21.41c.39.39.9.59 1.41.59.51 0 1.02-.2 1.41-.59l7.78-7.78 2.81-2.81c.8-.78.8-2.07 0-2.86zM5.41 20L4 18.59l7.72-7.72 1.47 1.35L5.41 20z\"/>\n",
              "  </svg>\n",
              "      </button>\n",
              "      \n",
              "  <style>\n",
              "    .colab-df-container {\n",
              "      display:flex;\n",
              "      flex-wrap:wrap;\n",
              "      gap: 12px;\n",
              "    }\n",
              "\n",
              "    .colab-df-convert {\n",
              "      background-color: #E8F0FE;\n",
              "      border: none;\n",
              "      border-radius: 50%;\n",
              "      cursor: pointer;\n",
              "      display: none;\n",
              "      fill: #1967D2;\n",
              "      height: 32px;\n",
              "      padding: 0 0 0 0;\n",
              "      width: 32px;\n",
              "    }\n",
              "\n",
              "    .colab-df-convert:hover {\n",
              "      background-color: #E2EBFA;\n",
              "      box-shadow: 0px 1px 2px rgba(60, 64, 67, 0.3), 0px 1px 3px 1px rgba(60, 64, 67, 0.15);\n",
              "      fill: #174EA6;\n",
              "    }\n",
              "\n",
              "    [theme=dark] .colab-df-convert {\n",
              "      background-color: #3B4455;\n",
              "      fill: #D2E3FC;\n",
              "    }\n",
              "\n",
              "    [theme=dark] .colab-df-convert:hover {\n",
              "      background-color: #434B5C;\n",
              "      box-shadow: 0px 1px 3px 1px rgba(0, 0, 0, 0.15);\n",
              "      filter: drop-shadow(0px 1px 2px rgba(0, 0, 0, 0.3));\n",
              "      fill: #FFFFFF;\n",
              "    }\n",
              "  </style>\n",
              "\n",
              "      <script>\n",
              "        const buttonEl =\n",
              "          document.querySelector('#df-52922312-046f-4f69-9131-957dc1cd61ee button.colab-df-convert');\n",
              "        buttonEl.style.display =\n",
              "          google.colab.kernel.accessAllowed ? 'block' : 'none';\n",
              "\n",
              "        async function convertToInteractive(key) {\n",
              "          const element = document.querySelector('#df-52922312-046f-4f69-9131-957dc1cd61ee');\n",
              "          const dataTable =\n",
              "            await google.colab.kernel.invokeFunction('convertToInteractive',\n",
              "                                                     [key], {});\n",
              "          if (!dataTable) return;\n",
              "\n",
              "          const docLinkHtml = 'Like what you see? Visit the ' +\n",
              "            '<a target=\"_blank\" href=https://colab.research.google.com/notebooks/data_table.ipynb>data table notebook</a>'\n",
              "            + ' to learn more about interactive tables.';\n",
              "          element.innerHTML = '';\n",
              "          dataTable['output_type'] = 'display_data';\n",
              "          await google.colab.output.renderOutput(dataTable, element);\n",
              "          const docLink = document.createElement('div');\n",
              "          docLink.innerHTML = docLinkHtml;\n",
              "          element.appendChild(docLink);\n",
              "        }\n",
              "      </script>\n",
              "    </div>\n",
              "  </div>\n",
              "  "
            ]
          },
          "metadata": {},
          "execution_count": 2
        }
      ]
    },
    {
      "cell_type": "markdown",
      "source": [
        "# **Description**\n",
        "---"
      ],
      "metadata": {
        "id": "SMfDIQ8eBwH6"
      }
    },
    {
      "cell_type": "code",
      "source": [
        "data.info()"
      ],
      "metadata": {
        "colab": {
          "base_uri": "https://localhost:8080/"
        },
        "id": "6ntLof-iBuxT",
        "outputId": "e70a7028-d83d-4931-cc39-21a403bd938c"
      },
      "execution_count": 3,
      "outputs": [
        {
          "output_type": "stream",
          "name": "stdout",
          "text": [
            "<class 'pandas.core.frame.DataFrame'>\n",
            "RangeIndex: 506 entries, 0 to 505\n",
            "Data columns (total 14 columns):\n",
            " #   Column   Non-Null Count  Dtype  \n",
            "---  ------   --------------  -----  \n",
            " 0   CRIM     506 non-null    float64\n",
            " 1   ZN       506 non-null    float64\n",
            " 2   INDUS    506 non-null    float64\n",
            " 3   CHAS     506 non-null    float64\n",
            " 4   NOX      506 non-null    float64\n",
            " 5   RM       506 non-null    float64\n",
            " 6   AGE      506 non-null    float64\n",
            " 7   DIS      506 non-null    float64\n",
            " 8   RAD      506 non-null    float64\n",
            " 9   TAX      506 non-null    float64\n",
            " 10  PTRATIO  506 non-null    float64\n",
            " 11  B        506 non-null    float64\n",
            " 12  LSTAT    506 non-null    float64\n",
            " 13  MEDV     506 non-null    float64\n",
            "dtypes: float64(14)\n",
            "memory usage: 55.5 KB\n"
          ]
        }
      ]
    },
    {
      "cell_type": "markdown",
      "source": [
        "# **Split**\n",
        "---"
      ],
      "metadata": {
        "id": "3E7_Q3fRPV5T"
      }
    },
    {
      "cell_type": "code",
      "source": [
        "X = data.drop('MEDV', axis=1)\n",
        "y = data['MEDV']\n",
        "y"
      ],
      "metadata": {
        "colab": {
          "base_uri": "https://localhost:8080/"
        },
        "id": "h2Wc1odAQ3MT",
        "outputId": "cb610695-bafa-4538-d43b-1f4aa80b2bea"
      },
      "execution_count": 4,
      "outputs": [
        {
          "output_type": "execute_result",
          "data": {
            "text/plain": [
              "0      24.0\n",
              "1      21.6\n",
              "2      34.7\n",
              "3      33.4\n",
              "4      36.2\n",
              "       ... \n",
              "501    22.4\n",
              "502    20.6\n",
              "503    23.9\n",
              "504    22.0\n",
              "505    11.9\n",
              "Name: MEDV, Length: 506, dtype: float64"
            ]
          },
          "metadata": {},
          "execution_count": 4
        }
      ]
    },
    {
      "cell_type": "code",
      "source": [
        "data.shape"
      ],
      "metadata": {
        "colab": {
          "base_uri": "https://localhost:8080/"
        },
        "id": "SW9I8I4gTyjz",
        "outputId": "35dc3267-4078-4bce-f820-bd51fdffc647"
      },
      "execution_count": 5,
      "outputs": [
        {
          "output_type": "execute_result",
          "data": {
            "text/plain": [
              "(506, 14)"
            ]
          },
          "metadata": {},
          "execution_count": 5
        }
      ]
    },
    {
      "cell_type": "code",
      "source": [
        "X_train, X_test, y_train, y_test = train_test_split(X, y, train_size=0.7, random_state=1234)"
      ],
      "metadata": {
        "id": "GqPPjHaEB4gK"
      },
      "execution_count": 6,
      "outputs": []
    },
    {
      "cell_type": "markdown",
      "source": [
        "# **Ajuste del modelo**\n",
        "---"
      ],
      "metadata": {
        "id": "e9_s0cR2UKXD"
      }
    },
    {
      "cell_type": "code",
      "source": [
        "model = RandomForestRegressor(\n",
        "    n_estimators = 10, #Numero de arboles incluido en el modelo\n",
        "    criterion    = 'squared_error',\n",
        "    max_depth    = None, #profundidad máxima que pueden alcanzar los árboles.\n",
        "    max_features = 'auto',\n",
        "    oob_score    = True,\n",
        "    n_jobs       = -1,\n",
        "    random_state = 123  \n",
        ")"
      ],
      "metadata": {
        "id": "sORzA6LTUOKD"
      },
      "execution_count": 7,
      "outputs": []
    },
    {
      "cell_type": "code",
      "source": [
        "model.fit(X_train, y_train)"
      ],
      "metadata": {
        "colab": {
          "base_uri": "https://localhost:8080/"
        },
        "id": "2375B_ApWOjr",
        "outputId": "5b4d11ed-37b0-4e5e-933e-4b9c6197d66a"
      },
      "execution_count": 8,
      "outputs": [
        {
          "output_type": "stream",
          "name": "stderr",
          "text": [
            "/usr/local/lib/python3.7/dist-packages/sklearn/ensemble/_forest.py:564: UserWarning: Some inputs do not have OOB scores. This probably means too few trees were used to compute any reliable OOB estimates.\n",
            "  UserWarning,\n"
          ]
        },
        {
          "output_type": "execute_result",
          "data": {
            "text/plain": [
              "RandomForestRegressor(n_estimators=10, n_jobs=-1, oob_score=True,\n",
              "                      random_state=123)"
            ]
          },
          "metadata": {},
          "execution_count": 8
        }
      ]
    },
    {
      "cell_type": "markdown",
      "source": [
        "# **Predicción y evaluación del modelo**\n",
        "---"
      ],
      "metadata": {
        "id": "LvTmcYmvWXP5"
      }
    },
    {
      "cell_type": "code",
      "source": [
        "# Error de test del modelo inicial\n",
        "y_pred = model.predict(X_test)\n",
        "\n",
        "rmse = mean_squared_error(\n",
        "    y_test, y_pred, squared = False\n",
        ")"
      ],
      "metadata": {
        "id": "NjeIjR8hWViy"
      },
      "execution_count": 9,
      "outputs": []
    },
    {
      "cell_type": "code",
      "source": [
        "print(f\"El error (rmse) de test es: {rmse}\")"
      ],
      "metadata": {
        "id": "tHkCKDqFW12C",
        "outputId": "9c059dce-e446-48fb-da3c-11e431a0de33",
        "colab": {
          "base_uri": "https://localhost:8080/"
        }
      },
      "execution_count": 10,
      "outputs": [
        {
          "output_type": "stream",
          "name": "stdout",
          "text": [
            "El error (rmse) de test es: 3.1454616429656905\n"
          ]
        }
      ]
    },
    {
      "cell_type": "markdown",
      "source": [
        "# **Validación empleando el Out-of-Bag error**\n",
        "---\n"
      ],
      "metadata": {
        "id": "arZUWkLvQRVS"
      }
    },
    {
      "cell_type": "code",
      "source": [
        "train_scores = []\n",
        "oob_scores = []\n",
        "estimator_range = range(1, 150, 5)\n",
        "\n",
        "# Bucle para entrenar un modelo con cada valor de n_estimators y extraer su error\n",
        "# de entrenamiento y de Out-of-Bag.\n",
        "for n_estimators in estimator_range:\n",
        "  model = RandomForestRegressor(\n",
        "      n_estimators=  n_estimators,\n",
        "      criterion='squared_error',\n",
        "      max_depth=None,\n",
        "      max_features='auto',\n",
        "      oob_score = True,\n",
        "      n_jobs = -1,\n",
        "      random_state =123\n",
        "  )\n",
        "  model.fit(X_train, y_train)\n",
        "  train_scores.append(model.score(X_train, y_train))\n",
        "  oob_scores.append(model.oob_score_)"
      ],
      "metadata": {
        "colab": {
          "base_uri": "https://localhost:8080/"
        },
        "id": "xbdRBNcCQUng",
        "outputId": "8454b374-8598-46e7-a497-0c17fbf0c98e"
      },
      "execution_count": 11,
      "outputs": [
        {
          "output_type": "stream",
          "name": "stderr",
          "text": [
            "/usr/local/lib/python3.7/dist-packages/sklearn/ensemble/_forest.py:564: UserWarning: Some inputs do not have OOB scores. This probably means too few trees were used to compute any reliable OOB estimates.\n",
            "  UserWarning,\n",
            "/usr/local/lib/python3.7/dist-packages/sklearn/ensemble/_forest.py:564: UserWarning: Some inputs do not have OOB scores. This probably means too few trees were used to compute any reliable OOB estimates.\n",
            "  UserWarning,\n",
            "/usr/local/lib/python3.7/dist-packages/sklearn/ensemble/_forest.py:564: UserWarning: Some inputs do not have OOB scores. This probably means too few trees were used to compute any reliable OOB estimates.\n",
            "  UserWarning,\n"
          ]
        }
      ]
    },
    {
      "cell_type": "code",
      "source": [
        "fig, ax = plt.subplots(figsize=(6, 3.84))\n",
        "ax.plot(estimator_range, train_scores, label=\"train scores\")\n",
        "ax.plot(estimator_range, oob_scores, label=\"out-of-bag scores\")\n",
        "ax.plot(estimator_range[np.argmax(oob_scores)], max(oob_scores),\n",
        "        marker='o', color = \"red\", label=\"max score\")\n",
        "ax.set_ylabel(\"R^2\")\n",
        "ax.set_xlabel(\"n_estimators\")\n",
        "ax.set_title(\"Evolución del out-of-bag-error vs número árboles\")\n",
        "plt.legend();\n",
        "print(f\"Valor óptimo de n_estimators: {estimator_range[np.argmax(oob_scores)]}\")"
      ],
      "metadata": {
        "colab": {
          "base_uri": "https://localhost:8080/",
          "height": 306
        },
        "id": "9xNW70jpRkKq",
        "outputId": "1a7ddb0c-b81c-4674-c6b1-4d03f4b00b28"
      },
      "execution_count": 12,
      "outputs": [
        {
          "output_type": "stream",
          "name": "stdout",
          "text": [
            "Valor óptimo de n_estimators: 116\n"
          ]
        },
        {
          "output_type": "display_data",
          "data": {
            "text/plain": [
              "<Figure size 432x276.48 with 1 Axes>"
            ],
            "image/png": "[encoded data removed]"
          },
          "metadata": {
            "needs_background": "light"
          }
        }
      ]
    },
    {
      "cell_type": "markdown",
      "source": [
        "El modelo se estabiliza con 116 arboles"
      ],
      "metadata": {
        "id": "RZa0LBQuef7D"
      }
    },
    {
      "cell_type": "markdown",
      "source": [
        "# **Validación empleando k-cross-validation y neg_root_mean_squared_error**\n",
        "---"
      ],
      "metadata": {
        "id": "2BNkzZeHT1tZ"
      }
    },
    {
      "cell_type": "code",
      "source": [
        "train_scores = []\n",
        "cv_scores    = []\n",
        "\n",
        "estimator_range = range(1, 150, 5)\n",
        "\n",
        "# Bucle para entrenar un modelo con cada valor de n_estimators y extraer su error\n",
        "# de entrenamiento y de k-cross-validation.\n",
        "for n_estimators in estimator_range:\n",
        "  model = RandomForestRegressor(\n",
        "      n_estimators=  n_estimators,\n",
        "      criterion='squared_error',\n",
        "      max_depth=None,\n",
        "      max_features='auto',\n",
        "      oob_score = True,\n",
        "      n_jobs = -1,\n",
        "      random_state =123\n",
        "  )\n",
        "\n",
        "  model.fit(X_train, y_train)\n",
        "  y_predict = model.predict(X_train)\n",
        "  rmse = mean_squared_error(\n",
        "      y_train, y_predict, squared = False\n",
        "  )\n",
        "\n",
        "  train_scores.append(rmse)\n",
        "\n",
        "  scores = cross_val_score(\n",
        "      estimator = model,\n",
        "      X= X_train,\n",
        "      y=y_train,\n",
        "      scoring = 'neg_root_mean_squared_error',\n",
        "      cv = 5\n",
        "  )\n",
        "  cv_scores.append(-1*scores.mean())"
      ],
      "metadata": {
        "id": "IQueBUVGTbeh"
      },
      "execution_count": null,
      "outputs": []
    },
    {
      "cell_type": "code",
      "source": [
        "fig, ax = plt.subplots(figsize=(6, 3.84))\n",
        "ax.plot(estimator_range, train_scores, label=\"train scores\")\n",
        "ax.plot(estimator_range, cv_scores, label=\"cv scores\")\n",
        "ax.plot(estimator_range[np.argmin(cv_scores)], min(cv_scores),\n",
        "        marker='o', color = \"red\", label=\"min score\")\n",
        "ax.set_ylabel(\"root_mean_squared_error\")\n",
        "ax.set_xlabel(\"n_estimators\")\n",
        "ax.set_title(\"Evolución del cv-error vs número árboles\")\n",
        "plt.legend();\n",
        "print(f\"Valor óptimo de n_estimators: {estimator_range[np.argmin(cv_scores)]}\")"
      ],
      "metadata": {
        "colab": {
          "base_uri": "https://localhost:8080/",
          "height": 306
        },
        "id": "s0mltBFmXtQQ",
        "outputId": "8fdd6d72-1a9e-4de7-bb9d-c1e4a37d4e6e"
      },
      "execution_count": 14,
      "outputs": [
        {
          "output_type": "stream",
          "name": "stdout",
          "text": [
            "Valor óptimo de n_estimators: 146\n"
          ]
        },
        {
          "output_type": "display_data",
          "data": {
            "text/plain": [
              "<Figure size 432x276.48 with 1 Axes>"
            ],
            "image/png": "[encoded data removed]"
          },
          "metadata": {
            "needs_background": "light"
          }
        }
      ]
    },
    {
      "cell_type": "markdown",
      "source": [
        "El modelo se estabiliza con 146 arboles"
      ],
      "metadata": {
        "id": "ZkuSAbT-YutZ"
      }
    },
    {
      "cell_type": "markdown",
      "source": [
        "# **Max features oob_score**\n",
        "---\n"
      ],
      "metadata": {
        "id": "2d1fQcCZXiOY"
      }
    },
    {
      "cell_type": "code",
      "source": [
        "train_scores = []\n",
        "oob_scores = []\n",
        "\n",
        "max_features_range = range(1, X_train.shape[1]+1, 1)\n",
        "\n",
        "# Bucle para entrenar un modelo con cada valor de max_features y extraer su error\n",
        "# de entrenamiento y de Out-of-Bag.\n",
        "for max_features in max_features_range:\n",
        "  model = RandomForestRegressor(\n",
        "    n_estimators = 100,\n",
        "    criterion    = 'squared_error',\n",
        "    max_depth    = None,\n",
        "    max_features = max_features,\n",
        "    oob_score    = True,\n",
        "    n_jobs       = -1,\n",
        "    random_state = 123\n",
        "  )\n",
        "\n",
        "  model.fit(X_train, y_train)\n",
        "  train_scores.append(model.score(X_train, y_train))\n",
        "  oob_scores.append(model.oob_score_)"
      ],
      "metadata": {
        "id": "d-B6GtQuXhy6"
      },
      "execution_count": 15,
      "outputs": []
    },
    {
      "cell_type": "code",
      "source": [
        "fig, ax = plt.subplots(figsize=(6, 3.84))\n",
        "ax.plot(max_features_range, train_scores, label=\"train scores\")\n",
        "ax.plot(max_features_range, oob_scores, label=\"out-of-bag scores\")\n",
        "ax.plot(max_features_range[np.argmax(oob_scores)], max(oob_scores),\n",
        "        marker='o', color = \"red\")\n",
        "ax.set_ylabel(\"R^2\")\n",
        "ax.set_xlabel(\"max_features\")\n",
        "ax.set_title(\"Evolución del out-of-bag-error vs número de predictores\")\n",
        "plt.legend();\n",
        "print(f\"Valor óptimo de max_features: {max_features_range[np.argmax(oob_scores)]}\")"
      ],
      "metadata": {
        "colab": {
          "base_uri": "https://localhost:8080/",
          "height": 306
        },
        "id": "IsrvTY0IY540",
        "outputId": "951d8977-f2f5-4bc0-dc20-eff8cd761700"
      },
      "execution_count": 16,
      "outputs": [
        {
          "output_type": "stream",
          "name": "stdout",
          "text": [
            "Valor óptimo de max_features: 6\n"
          ]
        },
        {
          "output_type": "display_data",
          "data": {
            "text/plain": [
              "<Figure size 432x276.48 with 1 Axes>"
            ],
            "image/png": "[encoded data removed]"
          },
          "metadata": {
            "needs_background": "light"
          }
        }
      ]
    },
    {
      "cell_type": "markdown",
      "source": [
        "# **Max features cross val escore**\n"
      ],
      "metadata": {
        "id": "BGOMa5TWZpDr"
      }
    },
    {
      "cell_type": "code",
      "source": [
        "train_scores = []\n",
        "cv_scores = []\n",
        "\n",
        "max_features_range = range(1, X_train.shape[1] + 1, 1)\n",
        "\n",
        "# Bucle para entrenar un modelo con cada valor de max_features y extraer su error\n",
        "# de entrenamiento y de k-cross-validation.\n",
        "for max_features in max_features_range:\n",
        "  modelo = RandomForestRegressor(\n",
        "                n_estimators = 100,\n",
        "                criterion    = 'squared_error',\n",
        "                max_depth    = None,\n",
        "                max_features = max_features,\n",
        "                oob_score    = True,\n",
        "                n_jobs       = -1,\n",
        "                random_state = 123\n",
        "  )\n",
        "\n",
        "  model.fit(X_train, y_train)\n",
        "  y_pred = model.predict(X_train)\n",
        "  rmse = mean_squared_error(\n",
        "      y_true = y_train,\n",
        "      y_pred = y_pred,\n",
        "      squared  = False\n",
        "  )\n",
        "\n",
        "  train_scores.append(rmse)\n",
        "\n",
        "  scores = cross_val_score(\n",
        "      estimator = model,\n",
        "      X = X_train,\n",
        "      y = y_train,\n",
        "      scoring = 'neg_root_mean_squared_error',\n",
        "      cv = 5\n",
        "  )\n",
        "  cv_scores.append(-1 * scores.mean())"
      ],
      "metadata": {
        "id": "M6fGKXi2ZQNZ"
      },
      "execution_count": 17,
      "outputs": []
    },
    {
      "cell_type": "code",
      "source": [
        "# Gráfico con la evolución de los errores\n",
        "fig, ax = plt.subplots(figsize=(6, 3.84))\n",
        "ax.plot(max_features_range, train_scores, label=\"train scores\")\n",
        "ax.plot(max_features_range, cv_scores, label=\"cv scores\")\n",
        "ax.plot(max_features_range[np.argmin(cv_scores)], min(cv_scores),\n",
        "        marker='o', color = \"red\", label=\"min score\")\n",
        "ax.set_ylabel(\"root_mean_squared_error\")\n",
        "ax.set_xlabel(\"max_features\")\n",
        "ax.set_title(\"Evolución del cv-error vs número de predictores\")\n",
        "plt.legend();\n",
        "print(f\"Valor óptimo de max_features: {max_features_range[np.argmin(cv_scores)]}\")"
      ],
      "metadata": {
        "colab": {
          "base_uri": "https://localhost:8080/",
          "height": 306
        },
        "id": "TBLupLRraeVa",
        "outputId": "57eecf45-378a-403c-e832-9019826f0a0d"
      },
      "execution_count": 18,
      "outputs": [
        {
          "output_type": "stream",
          "name": "stdout",
          "text": [
            "Valor óptimo de max_features: 11\n"
          ]
        },
        {
          "output_type": "display_data",
          "data": {
            "text/plain": [
              "<Figure size 432x276.48 with 1 Axes>"
            ],
            "image/png": "[encoded data removed]"
          },
          "metadata": {
            "needs_background": "light"
          }
        }
      ]
    },
    {
      "cell_type": "markdown",
      "source": [
        "El valor ptimo está entre 6 y 11 maximo caracteristica"
      ],
      "metadata": {
        "id": "WRPEswkNedf0"
      }
    },
    {
      "cell_type": "markdown",
      "source": [
        "# **Grid search**\n",
        "---\n",
        "\n",
        "\n"
      ],
      "metadata": {
        "id": "aqmNppp3epEY"
      }
    },
    {
      "cell_type": "markdown",
      "source": [
        "## **Grid Search basado en out-of-bag error**\n",
        "---"
      ],
      "metadata": {
        "id": "DFWFNGUHtJUj"
      }
    },
    {
      "cell_type": "code",
      "source": [
        "# Grid de hiperparámetros evaluados\n",
        "param_grid = ParameterGrid(\n",
        "    {\n",
        "        'n_estimators': [50, 100, 150],\n",
        "        'max_features': [5, 7, 9],\n",
        "        'max_depth'   : [None, 3, 10, 20]\n",
        "    }\n",
        ")\n",
        "\n",
        "resultados = {'params': [], 'oob_r2': []}\n",
        "\n",
        "for params in param_grid:\n",
        "  model = RandomForestRegressor(\n",
        "      oob_score = True,\n",
        "      n_jobs=-1, \n",
        "      random_state = 123,\n",
        "      **params\n",
        "  )\n",
        "\n",
        "  model.fit(X_train, y_train)\n",
        "\n",
        "  resultados['params'].append(params)\n",
        "  resultados['oob_r2'].append(model.oob_score_)\n",
        "  print(f\"Modelo: {params} \\u2713\")"
      ],
      "metadata": {
        "colab": {
          "base_uri": "https://localhost:8080/"
        },
        "id": "AZAQogtNihcM",
        "outputId": "a65521ee-18e3-4ca1-fa15-02d990382f45"
      },
      "execution_count": 21,
      "outputs": [
        {
          "output_type": "stream",
          "name": "stdout",
          "text": [
            "Modelo: {'max_depth': None, 'max_features': 5, 'n_estimators': 50} ✓\n",
            "Modelo: {'max_depth': None, 'max_features': 5, 'n_estimators': 100} ✓\n",
            "Modelo: {'max_depth': None, 'max_features': 5, 'n_estimators': 150} ✓\n",
            "Modelo: {'max_depth': None, 'max_features': 7, 'n_estimators': 50} ✓\n",
            "Modelo: {'max_depth': None, 'max_features': 7, 'n_estimators': 100} ✓\n",
            "Modelo: {'max_depth': None, 'max_features': 7, 'n_estimators': 150} ✓\n",
            "Modelo: {'max_depth': None, 'max_features': 9, 'n_estimators': 50} ✓\n",
            "Modelo: {'max_depth': None, 'max_features': 9, 'n_estimators': 100} ✓\n",
            "Modelo: {'max_depth': None, 'max_features': 9, 'n_estimators': 150} ✓\n",
            "Modelo: {'max_depth': 3, 'max_features': 5, 'n_estimators': 50} ✓\n",
            "Modelo: {'max_depth': 3, 'max_features': 5, 'n_estimators': 100} ✓\n",
            "Modelo: {'max_depth': 3, 'max_features': 5, 'n_estimators': 150} ✓\n",
            "Modelo: {'max_depth': 3, 'max_features': 7, 'n_estimators': 50} ✓\n",
            "Modelo: {'max_depth': 3, 'max_features': 7, 'n_estimators': 100} ✓\n",
            "Modelo: {'max_depth': 3, 'max_features': 7, 'n_estimators': 150} ✓\n",
            "Modelo: {'max_depth': 3, 'max_features': 9, 'n_estimators': 50} ✓\n",
            "Modelo: {'max_depth': 3, 'max_features': 9, 'n_estimators': 100} ✓\n",
            "Modelo: {'max_depth': 3, 'max_features': 9, 'n_estimators': 150} ✓\n",
            "Modelo: {'max_depth': 10, 'max_features': 5, 'n_estimators': 50} ✓\n",
            "Modelo: {'max_depth': 10, 'max_features': 5, 'n_estimators': 100} ✓\n",
            "Modelo: {'max_depth': 10, 'max_features': 5, 'n_estimators': 150} ✓\n",
            "Modelo: {'max_depth': 10, 'max_features': 7, 'n_estimators': 50} ✓\n",
            "Modelo: {'max_depth': 10, 'max_features': 7, 'n_estimators': 100} ✓\n",
            "Modelo: {'max_depth': 10, 'max_features': 7, 'n_estimators': 150} ✓\n",
            "Modelo: {'max_depth': 10, 'max_features': 9, 'n_estimators': 50} ✓\n",
            "Modelo: {'max_depth': 10, 'max_features': 9, 'n_estimators': 100} ✓\n",
            "Modelo: {'max_depth': 10, 'max_features': 9, 'n_estimators': 150} ✓\n",
            "Modelo: {'max_depth': 20, 'max_features': 5, 'n_estimators': 50} ✓\n",
            "Modelo: {'max_depth': 20, 'max_features': 5, 'n_estimators': 100} ✓\n",
            "Modelo: {'max_depth': 20, 'max_features': 5, 'n_estimators': 150} ✓\n",
            "Modelo: {'max_depth': 20, 'max_features': 7, 'n_estimators': 50} ✓\n",
            "Modelo: {'max_depth': 20, 'max_features': 7, 'n_estimators': 100} ✓\n",
            "Modelo: {'max_depth': 20, 'max_features': 7, 'n_estimators': 150} ✓\n",
            "Modelo: {'max_depth': 20, 'max_features': 9, 'n_estimators': 50} ✓\n",
            "Modelo: {'max_depth': 20, 'max_features': 9, 'n_estimators': 100} ✓\n",
            "Modelo: {'max_depth': 20, 'max_features': 9, 'n_estimators': 150} ✓\n"
          ]
        }
      ]
    },
    {
      "cell_type": "code",
      "source": [
        "resultados = pd.DataFrame(resultados)\n",
        "resultados = pd.concat([resultados, resultados['params'].apply(pd.Series)], axis=1)\n",
        "resultados = resultados.drop(columns = 'params')\n",
        "resultados = resultados.sort_values('oob_r2', ascending=False)\n",
        "resultados.head(4)"
      ],
      "metadata": {
        "colab": {
          "base_uri": "https://localhost:8080/",
          "height": 175
        },
        "id": "LU2dHqSfl4tB",
        "outputId": "71e92b85-7da9-4021-b61f-be1d0c376579"
      },
      "execution_count": 22,
      "outputs": [
        {
          "output_type": "execute_result",
          "data": {
            "text/plain": [
              "      oob_r2  max_depth  max_features  n_estimators\n",
              "19  0.868282       10.0           5.0         100.0\n",
              "29  0.867890       20.0           5.0         150.0\n",
              "20  0.867496       10.0           5.0         150.0\n",
              "2   0.866231        NaN           5.0         150.0"
            ],
            "text/html": [
              "\n",
              "  <div id=\"df-2ff68418-8dd9-4ba3-af78-fe26bb577b7c\">\n",
              "    <div class=\"colab-df-container\">\n",
              "      <div>\n",
              "<style scoped>\n",
              "    .dataframe tbody tr th:only-of-type {\n",
              "        vertical-align: middle;\n",
              "    }\n",
              "\n",
              "    .dataframe tbody tr th {\n",
              "        vertical-align: top;\n",
              "    }\n",
              "\n",
              "    .dataframe thead th {\n",
              "        text-align: right;\n",
              "    }\n",
              "</style>\n",
              "<table border=\"1\" class=\"dataframe\">\n",
              "  <thead>\n",
              "    <tr style=\"text-align: right;\">\n",
              "      <th></th>\n",
              "      <th>oob_r2</th>\n",
              "      <th>max_depth</th>\n",
              "      <th>max_features</th>\n",
              "      <th>n_estimators</th>\n",
              "    </tr>\n",
              "  </thead>\n",
              "  <tbody>\n",
              "    <tr>\n",
              "      <th>19</th>\n",
              "      <td>0.868282</td>\n",
              "      <td>10.0</td>\n",
              "      <td>5.0</td>\n",
              "      <td>100.0</td>\n",
              "    </tr>\n",
              "    <tr>\n",
              "      <th>29</th>\n",
              "      <td>0.867890</td>\n",
              "      <td>20.0</td>\n",
              "      <td>5.0</td>\n",
              "      <td>150.0</td>\n",
              "    </tr>\n",
              "    <tr>\n",
              "      <th>20</th>\n",
              "      <td>0.867496</td>\n",
              "      <td>10.0</td>\n",
              "      <td>5.0</td>\n",
              "      <td>150.0</td>\n",
              "    </tr>\n",
              "    <tr>\n",
              "      <th>2</th>\n",
              "      <td>0.866231</td>\n",
              "      <td>NaN</td>\n",
              "      <td>5.0</td>\n",
              "      <td>150.0</td>\n",
              "    </tr>\n",
              "  </tbody>\n",
              "</table>\n",
              "</div>\n",
              "      <button class=\"colab-df-convert\" onclick=\"convertToInteractive('df-2ff68418-8dd9-4ba3-af78-fe26bb577b7c')\"\n",
              "              title=\"Convert this dataframe to an interactive table.\"\n",
              "              style=\"display:none;\">\n",
              "        \n",
              "  <svg xmlns=\"http://www.w3.org/2000/svg\" height=\"24px\"viewBox=\"0 0 24 24\"\n",
              "       width=\"24px\">\n",
              "    <path d=\"M0 0h24v24H0V0z\" fill=\"none\"/>\n",
              "    <path d=\"M18.56 5.44l.94 2.06.94-2.06 2.06-.94-2.06-.94-.94-2.06-.94 2.06-2.06.94zm-11 1L8.5 8.5l.94-2.06 2.06-.94-2.06-.94L8.5 2.5l-.94 2.06-2.06.94zm10 10l.94 2.06.94-2.06 2.06-.94-2.06-.94-.94-2.06-.94 2.06-2.06.94z\"/><path d=\"M17.41 7.96l-1.37-1.37c-.4-.4-.92-.59-1.43-.59-.52 0-1.04.2-1.43.59L10.3 9.45l-7.72 7.72c-.78.78-.78 2.05 0 2.83L4 21.41c.39.39.9.59 1.41.59.51 0 1.02-.2 1.41-.59l7.78-7.78 2.81-2.81c.8-.78.8-2.07 0-2.86zM5.41 20L4 18.59l7.72-7.72 1.47 1.35L5.41 20z\"/>\n",
              "  </svg>\n",
              "      </button>\n",
              "      \n",
              "  <style>\n",
              "    .colab-df-container {\n",
              "      display:flex;\n",
              "      flex-wrap:wrap;\n",
              "      gap: 12px;\n",
              "    }\n",
              "\n",
              "    .colab-df-convert {\n",
              "      background-color: #E8F0FE;\n",
              "      border: none;\n",
              "      border-radius: 50%;\n",
              "      cursor: pointer;\n",
              "      display: none;\n",
              "      fill: #1967D2;\n",
              "      height: 32px;\n",
              "      padding: 0 0 0 0;\n",
              "      width: 32px;\n",
              "    }\n",
              "\n",
              "    .colab-df-convert:hover {\n",
              "      background-color: #E2EBFA;\n",
              "      box-shadow: 0px 1px 2px rgba(60, 64, 67, 0.3), 0px 1px 3px 1px rgba(60, 64, 67, 0.15);\n",
              "      fill: #174EA6;\n",
              "    }\n",
              "\n",
              "    [theme=dark] .colab-df-convert {\n",
              "      background-color: #3B4455;\n",
              "      fill: #D2E3FC;\n",
              "    }\n",
              "\n",
              "    [theme=dark] .colab-df-convert:hover {\n",
              "      background-color: #434B5C;\n",
              "      box-shadow: 0px 1px 3px 1px rgba(0, 0, 0, 0.15);\n",
              "      filter: drop-shadow(0px 1px 2px rgba(0, 0, 0, 0.3));\n",
              "      fill: #FFFFFF;\n",
              "    }\n",
              "  </style>\n",
              "\n",
              "      <script>\n",
              "        const buttonEl =\n",
              "          document.querySelector('#df-2ff68418-8dd9-4ba3-af78-fe26bb577b7c button.colab-df-convert');\n",
              "        buttonEl.style.display =\n",
              "          google.colab.kernel.accessAllowed ? 'block' : 'none';\n",
              "\n",
              "        async function convertToInteractive(key) {\n",
              "          const element = document.querySelector('#df-2ff68418-8dd9-4ba3-af78-fe26bb577b7c');\n",
              "          const dataTable =\n",
              "            await google.colab.kernel.invokeFunction('convertToInteractive',\n",
              "                                                     [key], {});\n",
              "          if (!dataTable) return;\n",
              "\n",
              "          const docLinkHtml = 'Like what you see? Visit the ' +\n",
              "            '<a target=\"_blank\" href=https://colab.research.google.com/notebooks/data_table.ipynb>data table notebook</a>'\n",
              "            + ' to learn more about interactive tables.';\n",
              "          element.innerHTML = '';\n",
              "          dataTable['output_type'] = 'display_data';\n",
              "          await google.colab.output.renderOutput(dataTable, element);\n",
              "          const docLink = document.createElement('div');\n",
              "          docLink.innerHTML = docLinkHtml;\n",
              "          element.appendChild(docLink);\n",
              "        }\n",
              "      </script>\n",
              "    </div>\n",
              "  </div>\n",
              "  "
            ]
          },
          "metadata": {},
          "execution_count": 22
        }
      ]
    },
    {
      "cell_type": "code",
      "source": [
        "# Grid de hiperparámetros evaluados paralelizada\n",
        "\n",
        "param_grid = ParameterGrid(\n",
        "    {\n",
        "        'n_estimators': [50, 100, 150],\n",
        "        'max_features': [5, 7, 9],\n",
        "        'max_depth'   : [None, 3, 10, 20]\n",
        "    }\n",
        ")\n",
        "\n",
        "# Loop paralelizado para ajustar un modelo con cada combinación de hiperparámetros\n",
        "def eval_oob_error(X, y, model, params, verbose=True):\n",
        "  \"\"\"\n",
        "  Funcioón para entrenar un modelo utilizando unos parametros determinados \n",
        "  y que retorna el aut-of-bag-error\n",
        "  \"\"\"\n",
        "\n",
        "  model.set_params(\n",
        "      oob_score = True,\n",
        "      n_jobs = -1,\n",
        "      random_state = 123,\n",
        "      **params\n",
        "  )\n",
        "\n",
        "  model.fit(X, y)\n",
        "\n",
        "  if verbose:\n",
        "    print(f'Modelo: {params} \\u2713')\n",
        "\n",
        "  return {'params': params, 'oob_r2': model.oob_score_}\n",
        "\n",
        "n_jobs = multiprocessing.cpu_count() -1\n",
        "pool       = multiprocessing.Pool(processes=n_jobs)\n",
        "resultados = pool.starmap(eval_oob_error, [(X_train, y_train, RandomForestRegressor(), params) for params in param_grid]\n",
        "             )"
      ],
      "metadata": {
        "colab": {
          "base_uri": "https://localhost:8080/"
        },
        "id": "AYbagGzVqSI7",
        "outputId": "2b0dd0e5-e45e-488d-8161-65be42883cf9"
      },
      "execution_count": 26,
      "outputs": [
        {
          "output_type": "stream",
          "name": "stdout",
          "text": [
            "Modelo: {'max_depth': None, 'max_features': 5, 'n_estimators': 50} ✓\n",
            "Modelo: {'max_depth': None, 'max_features': 5, 'n_estimators': 100} ✓\n",
            "Modelo: {'max_depth': None, 'max_features': 5, 'n_estimators': 150} ✓\n",
            "Modelo: {'max_depth': None, 'max_features': 7, 'n_estimators': 50} ✓\n",
            "Modelo: {'max_depth': None, 'max_features': 7, 'n_estimators': 100} ✓\n",
            "Modelo: {'max_depth': None, 'max_features': 7, 'n_estimators': 150} ✓\n",
            "Modelo: {'max_depth': None, 'max_features': 9, 'n_estimators': 50} ✓\n",
            "Modelo: {'max_depth': None, 'max_features': 9, 'n_estimators': 100} ✓\n",
            "Modelo: {'max_depth': None, 'max_features': 9, 'n_estimators': 150} ✓\n",
            "Modelo: {'max_depth': 3, 'max_features': 5, 'n_estimators': 50} ✓\n",
            "Modelo: {'max_depth': 3, 'max_features': 5, 'n_estimators': 100} ✓\n",
            "Modelo: {'max_depth': 3, 'max_features': 5, 'n_estimators': 150} ✓\n",
            "Modelo: {'max_depth': 3, 'max_features': 7, 'n_estimators': 50} ✓\n",
            "Modelo: {'max_depth': 3, 'max_features': 7, 'n_estimators': 100} ✓\n",
            "Modelo: {'max_depth': 3, 'max_features': 7, 'n_estimators': 150} ✓\n",
            "Modelo: {'max_depth': 3, 'max_features': 9, 'n_estimators': 50} ✓\n",
            "Modelo: {'max_depth': 3, 'max_features': 9, 'n_estimators': 100} ✓\n",
            "Modelo: {'max_depth': 3, 'max_features': 9, 'n_estimators': 150} ✓\n",
            "Modelo: {'max_depth': 10, 'max_features': 5, 'n_estimators': 50} ✓\n",
            "Modelo: {'max_depth': 10, 'max_features': 5, 'n_estimators': 100} ✓\n",
            "Modelo: {'max_depth': 10, 'max_features': 5, 'n_estimators': 150} ✓\n",
            "Modelo: {'max_depth': 10, 'max_features': 7, 'n_estimators': 50} ✓\n",
            "Modelo: {'max_depth': 10, 'max_features': 7, 'n_estimators': 100} ✓\n",
            "Modelo: {'max_depth': 10, 'max_features': 7, 'n_estimators': 150} ✓\n",
            "Modelo: {'max_depth': 10, 'max_features': 9, 'n_estimators': 50} ✓\n",
            "Modelo: {'max_depth': 10, 'max_features': 9, 'n_estimators': 100} ✓\n",
            "Modelo: {'max_depth': 10, 'max_features': 9, 'n_estimators': 150} ✓\n",
            "Modelo: {'max_depth': 20, 'max_features': 5, 'n_estimators': 50} ✓\n",
            "Modelo: {'max_depth': 20, 'max_features': 5, 'n_estimators': 100} ✓\n",
            "Modelo: {'max_depth': 20, 'max_features': 5, 'n_estimators': 150} ✓\n",
            "Modelo: {'max_depth': 20, 'max_features': 7, 'n_estimators': 50} ✓\n",
            "Modelo: {'max_depth': 20, 'max_features': 7, 'n_estimators': 100} ✓\n",
            "Modelo: {'max_depth': 20, 'max_features': 7, 'n_estimators': 150} ✓\n",
            "Modelo: {'max_depth': 20, 'max_features': 9, 'n_estimators': 50} ✓\n",
            "Modelo: {'max_depth': 20, 'max_features': 9, 'n_estimators': 100} ✓\n",
            "Modelo: {'max_depth': 20, 'max_features': 9, 'n_estimators': 150} ✓\n"
          ]
        }
      ]
    },
    {
      "cell_type": "code",
      "source": [
        "resultados = pd.DataFrame(resultados)\n",
        "resultados = pd.concat([resultados, resultados['params'].apply(pd.Series)], axis=1)\n",
        "resultados = resultados.drop(columns = 'params')\n",
        "resultados = resultados.sort_values('oob_r2', ascending=False)\n",
        "resultados.head(4)"
      ],
      "metadata": {
        "colab": {
          "base_uri": "https://localhost:8080/",
          "height": 175
        },
        "id": "iTPL-M9PtEGK",
        "outputId": "c1af72eb-4548-4cd4-ff4b-658e42c929b0"
      },
      "execution_count": 27,
      "outputs": [
        {
          "output_type": "execute_result",
          "data": {
            "text/plain": [
              "      oob_r2  max_depth  max_features  n_estimators\n",
              "19  0.868282       10.0           5.0         100.0\n",
              "29  0.867890       20.0           5.0         150.0\n",
              "20  0.867496       10.0           5.0         150.0\n",
              "2   0.866231        NaN           5.0         150.0"
            ],
            "text/html": [
              "\n",
              "  <div id=\"df-70f2932b-9c24-431f-a12c-b0b20cd1d126\">\n",
              "    <div class=\"colab-df-container\">\n",
              "      <div>\n",
              "<style scoped>\n",
              "    .dataframe tbody tr th:only-of-type {\n",
              "        vertical-align: middle;\n",
              "    }\n",
              "\n",
              "    .dataframe tbody tr th {\n",
              "        vertical-align: top;\n",
              "    }\n",
              "\n",
              "    .dataframe thead th {\n",
              "        text-align: right;\n",
              "    }\n",
              "</style>\n",
              "<table border=\"1\" class=\"dataframe\">\n",
              "  <thead>\n",
              "    <tr style=\"text-align: right;\">\n",
              "      <th></th>\n",
              "      <th>oob_r2</th>\n",
              "      <th>max_depth</th>\n",
              "      <th>max_features</th>\n",
              "      <th>n_estimators</th>\n",
              "    </tr>\n",
              "  </thead>\n",
              "  <tbody>\n",
              "    <tr>\n",
              "      <th>19</th>\n",
              "      <td>0.868282</td>\n",
              "      <td>10.0</td>\n",
              "      <td>5.0</td>\n",
              "      <td>100.0</td>\n",
              "    </tr>\n",
              "    <tr>\n",
              "      <th>29</th>\n",
              "      <td>0.867890</td>\n",
              "      <td>20.0</td>\n",
              "      <td>5.0</td>\n",
              "      <td>150.0</td>\n",
              "    </tr>\n",
              "    <tr>\n",
              "      <th>20</th>\n",
              "      <td>0.867496</td>\n",
              "      <td>10.0</td>\n",
              "      <td>5.0</td>\n",
              "      <td>150.0</td>\n",
              "    </tr>\n",
              "    <tr>\n",
              "      <th>2</th>\n",
              "      <td>0.866231</td>\n",
              "      <td>NaN</td>\n",
              "      <td>5.0</td>\n",
              "      <td>150.0</td>\n",
              "    </tr>\n",
              "  </tbody>\n",
              "</table>\n",
              "</div>\n",
              "      <button class=\"colab-df-convert\" onclick=\"convertToInteractive('df-70f2932b-9c24-431f-a12c-b0b20cd1d126')\"\n",
              "              title=\"Convert this dataframe to an interactive table.\"\n",
              "              style=\"display:none;\">\n",
              "        \n",
              "  <svg xmlns=\"http://www.w3.org/2000/svg\" height=\"24px\"viewBox=\"0 0 24 24\"\n",
              "       width=\"24px\">\n",
              "    <path d=\"M0 0h24v24H0V0z\" fill=\"none\"/>\n",
              "    <path d=\"M18.56 5.44l.94 2.06.94-2.06 2.06-.94-2.06-.94-.94-2.06-.94 2.06-2.06.94zm-11 1L8.5 8.5l.94-2.06 2.06-.94-2.06-.94L8.5 2.5l-.94 2.06-2.06.94zm10 10l.94 2.06.94-2.06 2.06-.94-2.06-.94-.94-2.06-.94 2.06-2.06.94z\"/><path d=\"M17.41 7.96l-1.37-1.37c-.4-.4-.92-.59-1.43-.59-.52 0-1.04.2-1.43.59L10.3 9.45l-7.72 7.72c-.78.78-.78 2.05 0 2.83L4 21.41c.39.39.9.59 1.41.59.51 0 1.02-.2 1.41-.59l7.78-7.78 2.81-2.81c.8-.78.8-2.07 0-2.86zM5.41 20L4 18.59l7.72-7.72 1.47 1.35L5.41 20z\"/>\n",
              "  </svg>\n",
              "      </button>\n",
              "      \n",
              "  <style>\n",
              "    .colab-df-container {\n",
              "      display:flex;\n",
              "      flex-wrap:wrap;\n",
              "      gap: 12px;\n",
              "    }\n",
              "\n",
              "    .colab-df-convert {\n",
              "      background-color: #E8F0FE;\n",
              "      border: none;\n",
              "      border-radius: 50%;\n",
              "      cursor: pointer;\n",
              "      display: none;\n",
              "      fill: #1967D2;\n",
              "      height: 32px;\n",
              "      padding: 0 0 0 0;\n",
              "      width: 32px;\n",
              "    }\n",
              "\n",
              "    .colab-df-convert:hover {\n",
              "      background-color: #E2EBFA;\n",
              "      box-shadow: 0px 1px 2px rgba(60, 64, 67, 0.3), 0px 1px 3px 1px rgba(60, 64, 67, 0.15);\n",
              "      fill: #174EA6;\n",
              "    }\n",
              "\n",
              "    [theme=dark] .colab-df-convert {\n",
              "      background-color: #3B4455;\n",
              "      fill: #D2E3FC;\n",
              "    }\n",
              "\n",
              "    [theme=dark] .colab-df-convert:hover {\n",
              "      background-color: #434B5C;\n",
              "      box-shadow: 0px 1px 3px 1px rgba(0, 0, 0, 0.15);\n",
              "      filter: drop-shadow(0px 1px 2px rgba(0, 0, 0, 0.3));\n",
              "      fill: #FFFFFF;\n",
              "    }\n",
              "  </style>\n",
              "\n",
              "      <script>\n",
              "        const buttonEl =\n",
              "          document.querySelector('#df-70f2932b-9c24-431f-a12c-b0b20cd1d126 button.colab-df-convert');\n",
              "        buttonEl.style.display =\n",
              "          google.colab.kernel.accessAllowed ? 'block' : 'none';\n",
              "\n",
              "        async function convertToInteractive(key) {\n",
              "          const element = document.querySelector('#df-70f2932b-9c24-431f-a12c-b0b20cd1d126');\n",
              "          const dataTable =\n",
              "            await google.colab.kernel.invokeFunction('convertToInteractive',\n",
              "                                                     [key], {});\n",
              "          if (!dataTable) return;\n",
              "\n",
              "          const docLinkHtml = 'Like what you see? Visit the ' +\n",
              "            '<a target=\"_blank\" href=https://colab.research.google.com/notebooks/data_table.ipynb>data table notebook</a>'\n",
              "            + ' to learn more about interactive tables.';\n",
              "          element.innerHTML = '';\n",
              "          dataTable['output_type'] = 'display_data';\n",
              "          await google.colab.output.renderOutput(dataTable, element);\n",
              "          const docLink = document.createElement('div');\n",
              "          docLink.innerHTML = docLinkHtml;\n",
              "          element.appendChild(docLink);\n",
              "        }\n",
              "      </script>\n",
              "    </div>\n",
              "  </div>\n",
              "  "
            ]
          },
          "metadata": {},
          "execution_count": 27
        }
      ]
    },
    {
      "cell_type": "markdown",
      "source": [
        "## **Grid Search basado en validación cruzada**\n",
        "---"
      ],
      "metadata": {
        "id": "ovJu-EO1tdHj"
      }
    },
    {
      "cell_type": "code",
      "source": [
        "param_grid = {\n",
        "        'n_estimators': [50, 100, 150],\n",
        "        'max_features': [5, 7, 9],\n",
        "        'max_depth'   : [None, 3, 10, 20]\n",
        "        }\n",
        "\n",
        "\n",
        "model = RandomForestRegressor(random_state=123)\n",
        "\n",
        "grid = GridSearchCV(\n",
        "    estimator = model,\n",
        "    param_grid = param_grid,\n",
        "    scoring = 'neg_root_mean_squared_error',\n",
        "    n_jobs = multiprocessing.cpu_count() - 1,\n",
        "    cv = RepeatedKFold(n_splits = 5, n_repeats=3, random_state=123),\n",
        "    refit = True,\n",
        "    verbose = 0,\n",
        "    return_train_score = True\n",
        ")\n",
        "\n",
        "grid.fit(X_train, y_train)"
      ],
      "metadata": {
        "colab": {
          "base_uri": "https://localhost:8080/"
        },
        "id": "vjbUJFWTtgWi",
        "outputId": "e92cfc51-262b-4732-9765-a5a4dfce3d98"
      },
      "execution_count": 33,
      "outputs": [
        {
          "output_type": "execute_result",
          "data": {
            "text/plain": [
              "GridSearchCV(cv=RepeatedKFold(n_repeats=3, n_splits=5, random_state=123),\n",
              "             estimator=RandomForestRegressor(random_state=123), n_jobs=1,\n",
              "             param_grid={'max_depth': [None, 3, 10, 20],\n",
              "                         'max_features': [5, 7, 9],\n",
              "                         'n_estimators': [50, 100, 150]},\n",
              "             return_train_score=True, scoring='neg_root_mean_squared_error')"
            ]
          },
          "metadata": {},
          "execution_count": 33
        }
      ]
    },
    {
      "cell_type": "code",
      "source": [
        "resultados = pd.DataFrame(grid.cv_results_)\n",
        "resultados.filter(regex = '(param.*|mean_t|std_t)') \\\n",
        "    .drop(columns = 'params') \\\n",
        "    .sort_values('mean_test_score', ascending = False) \\\n",
        "    .head(4)"
      ],
      "metadata": {
        "colab": {
          "base_uri": "https://localhost:8080/",
          "height": 175
        },
        "id": "oXornr8fwAY8",
        "outputId": "64fb9377-28ec-4659-ea6c-91f8250bc556"
      },
      "execution_count": 34,
      "outputs": [
        {
          "output_type": "execute_result",
          "data": {
            "text/plain": [
              "   param_max_depth param_max_features param_n_estimators  mean_test_score  \\\n",
              "0             None                  5                 50        -3.507834   \n",
              "27              20                  5                 50        -3.508719   \n",
              "18              10                  5                 50        -3.518127   \n",
              "20              10                  5                150        -3.549463   \n",
              "\n",
              "    std_test_score  mean_train_score  std_train_score  \n",
              "0         1.155395         -1.408905         0.095332  \n",
              "27        1.154410         -1.407862         0.093506  \n",
              "18        1.203861         -1.457730         0.101723  \n",
              "20        1.166689         -1.402324         0.079024  "
            ],
            "text/html": [
              "\n",
              "  <div id=\"df-df5593e7-1270-48c5-b54d-abc28a86edbb\">\n",
              "    <div class=\"colab-df-container\">\n",
              "      <div>\n",
              "<style scoped>\n",
              "    .dataframe tbody tr th:only-of-type {\n",
              "        vertical-align: middle;\n",
              "    }\n",
              "\n",
              "    .dataframe tbody tr th {\n",
              "        vertical-align: top;\n",
              "    }\n",
              "\n",
              "    .dataframe thead th {\n",
              "        text-align: right;\n",
              "    }\n",
              "</style>\n",
              "<table border=\"1\" class=\"dataframe\">\n",
              "  <thead>\n",
              "    <tr style=\"text-align: right;\">\n",
              "      <th></th>\n",
              "      <th>param_max_depth</th>\n",
              "      <th>param_max_features</th>\n",
              "      <th>param_n_estimators</th>\n",
              "      <th>mean_test_score</th>\n",
              "      <th>std_test_score</th>\n",
              "      <th>mean_train_score</th>\n",
              "      <th>std_train_score</th>\n",
              "    </tr>\n",
              "  </thead>\n",
              "  <tbody>\n",
              "    <tr>\n",
              "      <th>0</th>\n",
              "      <td>None</td>\n",
              "      <td>5</td>\n",
              "      <td>50</td>\n",
              "      <td>-3.507834</td>\n",
              "      <td>1.155395</td>\n",
              "      <td>-1.408905</td>\n",
              "      <td>0.095332</td>\n",
              "    </tr>\n",
              "    <tr>\n",
              "      <th>27</th>\n",
              "      <td>20</td>\n",
              "      <td>5</td>\n",
              "      <td>50</td>\n",
              "      <td>-3.508719</td>\n",
              "      <td>1.154410</td>\n",
              "      <td>-1.407862</td>\n",
              "      <td>0.093506</td>\n",
              "    </tr>\n",
              "    <tr>\n",
              "      <th>18</th>\n",
              "      <td>10</td>\n",
              "      <td>5</td>\n",
              "      <td>50</td>\n",
              "      <td>-3.518127</td>\n",
              "      <td>1.203861</td>\n",
              "      <td>-1.457730</td>\n",
              "      <td>0.101723</td>\n",
              "    </tr>\n",
              "    <tr>\n",
              "      <th>20</th>\n",
              "      <td>10</td>\n",
              "      <td>5</td>\n",
              "      <td>150</td>\n",
              "      <td>-3.549463</td>\n",
              "      <td>1.166689</td>\n",
              "      <td>-1.402324</td>\n",
              "      <td>0.079024</td>\n",
              "    </tr>\n",
              "  </tbody>\n",
              "</table>\n",
              "</div>\n",
              "      <button class=\"colab-df-convert\" onclick=\"convertToInteractive('df-df5593e7-1270-48c5-b54d-abc28a86edbb')\"\n",
              "              title=\"Convert this dataframe to an interactive table.\"\n",
              "              style=\"display:none;\">\n",
              "        \n",
              "  <svg xmlns=\"http://www.w3.org/2000/svg\" height=\"24px\"viewBox=\"0 0 24 24\"\n",
              "       width=\"24px\">\n",
              "    <path d=\"M0 0h24v24H0V0z\" fill=\"none\"/>\n",
              "    <path d=\"M18.56 5.44l.94 2.06.94-2.06 2.06-.94-2.06-.94-.94-2.06-.94 2.06-2.06.94zm-11 1L8.5 8.5l.94-2.06 2.06-.94-2.06-.94L8.5 2.5l-.94 2.06-2.06.94zm10 10l.94 2.06.94-2.06 2.06-.94-2.06-.94-.94-2.06-.94 2.06-2.06.94z\"/><path d=\"M17.41 7.96l-1.37-1.37c-.4-.4-.92-.59-1.43-.59-.52 0-1.04.2-1.43.59L10.3 9.45l-7.72 7.72c-.78.78-.78 2.05 0 2.83L4 21.41c.39.39.9.59 1.41.59.51 0 1.02-.2 1.41-.59l7.78-7.78 2.81-2.81c.8-.78.8-2.07 0-2.86zM5.41 20L4 18.59l7.72-7.72 1.47 1.35L5.41 20z\"/>\n",
              "  </svg>\n",
              "      </button>\n",
              "      \n",
              "  <style>\n",
              "    .colab-df-container {\n",
              "      display:flex;\n",
              "      flex-wrap:wrap;\n",
              "      gap: 12px;\n",
              "    }\n",
              "\n",
              "    .colab-df-convert {\n",
              "      background-color: #E8F0FE;\n",
              "      border: none;\n",
              "      border-radius: 50%;\n",
              "      cursor: pointer;\n",
              "      display: none;\n",
              "      fill: #1967D2;\n",
              "      height: 32px;\n",
              "      padding: 0 0 0 0;\n",
              "      width: 32px;\n",
              "    }\n",
              "\n",
              "    .colab-df-convert:hover {\n",
              "      background-color: #E2EBFA;\n",
              "      box-shadow: 0px 1px 2px rgba(60, 64, 67, 0.3), 0px 1px 3px 1px rgba(60, 64, 67, 0.15);\n",
              "      fill: #174EA6;\n",
              "    }\n",
              "\n",
              "    [theme=dark] .colab-df-convert {\n",
              "      background-color: #3B4455;\n",
              "      fill: #D2E3FC;\n",
              "    }\n",
              "\n",
              "    [theme=dark] .colab-df-convert:hover {\n",
              "      background-color: #434B5C;\n",
              "      box-shadow: 0px 1px 3px 1px rgba(0, 0, 0, 0.15);\n",
              "      filter: drop-shadow(0px 1px 2px rgba(0, 0, 0, 0.3));\n",
              "      fill: #FFFFFF;\n",
              "    }\n",
              "  </style>\n",
              "\n",
              "      <script>\n",
              "        const buttonEl =\n",
              "          document.querySelector('#df-df5593e7-1270-48c5-b54d-abc28a86edbb button.colab-df-convert');\n",
              "        buttonEl.style.display =\n",
              "          google.colab.kernel.accessAllowed ? 'block' : 'none';\n",
              "\n",
              "        async function convertToInteractive(key) {\n",
              "          const element = document.querySelector('#df-df5593e7-1270-48c5-b54d-abc28a86edbb');\n",
              "          const dataTable =\n",
              "            await google.colab.kernel.invokeFunction('convertToInteractive',\n",
              "                                                     [key], {});\n",
              "          if (!dataTable) return;\n",
              "\n",
              "          const docLinkHtml = 'Like what you see? Visit the ' +\n",
              "            '<a target=\"_blank\" href=https://colab.research.google.com/notebooks/data_table.ipynb>data table notebook</a>'\n",
              "            + ' to learn more about interactive tables.';\n",
              "          element.innerHTML = '';\n",
              "          dataTable['output_type'] = 'display_data';\n",
              "          await google.colab.output.renderOutput(dataTable, element);\n",
              "          const docLink = document.createElement('div');\n",
              "          docLink.innerHTML = docLinkHtml;\n",
              "          element.appendChild(docLink);\n",
              "        }\n",
              "      </script>\n",
              "    </div>\n",
              "  </div>\n",
              "  "
            ]
          },
          "metadata": {},
          "execution_count": 34
        }
      ]
    },
    {
      "cell_type": "code",
      "source": [
        "print('Mejor: %f usando %s' % (grid.best_score_, grid.best_params_))"
      ],
      "metadata": {
        "colab": {
          "base_uri": "https://localhost:8080/"
        },
        "id": "8x3xHGKRwE2-",
        "outputId": "44915ee9-bcc2-4829-d2be-73a5da84a541"
      },
      "execution_count": 35,
      "outputs": [
        {
          "output_type": "stream",
          "name": "stdout",
          "text": [
            "Mejor: -3.507834 usando {'max_depth': None, 'max_features': 5, 'n_estimators': 50}\n"
          ]
        }
      ]
    },
    {
      "cell_type": "markdown",
      "source": [
        "# **Mejor Modelo**\n",
        "---"
      ],
      "metadata": {
        "id": "J8I_CYtpwUO4"
      }
    },
    {
      "cell_type": "code",
      "source": [
        "final_model = grid.best_estimator_\n",
        "y_pred = final_model.predict(X_test)\n",
        "rmse = mean_squared_error(\n",
        "    y_test, y_pred, squared = False\n",
        ")\n",
        "\n",
        "print(f'El error (rmse) de test es: {rmse}')"
      ],
      "metadata": {
        "colab": {
          "base_uri": "https://localhost:8080/"
        },
        "id": "m5UztZL0waTS",
        "outputId": "a9d27f3c-c830-4aea-b23a-8572b5cc98f1"
      },
      "execution_count": 38,
      "outputs": [
        {
          "output_type": "stream",
          "name": "stdout",
          "text": [
            "El error (rmse) de test es: 3.044302240510778\n"
          ]
        }
      ]
    },
    {
      "cell_type": "markdown",
      "source": [
        "El modelo final optimizado realiza predicciones se alejan en promedio 3.044 unidades del valor real\n"
      ],
      "metadata": {
        "id": "_ZP60hQ0xgIF"
      }
    }
  ]
}