{
  "nbformat": 4,
  "nbformat_minor": 0,
  "metadata": {
    "colab": {
      "provenance": [],
      "authorship_tag": "ABX9TyOHX5/wzgaR4/j2OIEndfpc",
      "include_colab_link": true
    },
    "kernelspec": {
      "name": "python3",
      "display_name": "Python 3"
    },
    "language_info": {
      "name": "python"
    }
  },
  "cells": [
    {
      "cell_type": "markdown",
      "metadata": {
        "id": "view-in-github",
        "colab_type": "text"
      },
      "source": [
        "<a href=\"https://colab.research.google.com/github/Kaiziferr/machine_learning/blob/main/prediction_temperature_boosting%20/prediction_temperature_boosting.ipynb\" target=\"_parent\"><img src=\"https://colab.research.google.com/assets/colab-badge.svg\" alt=\"Open In Colab\"/></a>"
      ]
    },
    {
      "cell_type": "code",
      "execution_count": 4,
      "metadata": {
        "id": "sdVom3qTv178"
      },
      "outputs": [],
      "source": [
        "import warnings\n",
        "\n",
        "import numpy as np\n",
        "import pandas as pd\n",
        "\n",
        "import matplotlib.pyplot as plt\n",
        "import seaborn as sns\n",
        "\n",
        "\n",
        "from sklearn.ensemble import HistGradientBoostingRegressor\n",
        "from sklearn.metrics import mean_squared_error\n",
        "\n",
        "from sklearn.model_selection import (\n",
        "    train_test_split,\n",
        "    cross_val_score,\n",
        "    RepeatedKFold,\n",
        "    GridSearchCV,\n",
        "    ParameterGrid\n",
        ")\n",
        "\n",
        "from sklearn.inspection import permutation_importance"
      ]
    },
    {
      "cell_type": "markdown",
      "source": [
        "# **Información**\n",
        "\n",
        "---\n",
        "\n"
      ],
      "metadata": {
        "id": "vIDWjVyE67A9"
      }
    },
    {
      "cell_type": "markdown",
      "source": [
        "**Calidad del Aire Municipio de Duitama**\n",
        "\n",
        "---\n",
        "\n",
        "\n",
        "La vertical de calidad de aire de Duitama está compuesta por sensores IoT que realizan las mediciones de diferentes contaminantes ubicados en diferentes puntos de la ciudad, como se enuncia a continuación:\n",
        "\n",
        "1. Sensor de calidad del aire desarrollado por el Centro Internacional de Física de la Universidad Nacional de Colombia CIF\n",
        "\n",
        "• Nombres de los dispositivos en el set de datos: AirQualityUnit01, AirQualityUnit02, AQ_SEP\n",
        "• Variables de medición: Temperatura, Humedad relativa, CO2, CO, PM2.5, PM5, PM10\n",
        "• Tasa de transmisión: cada 5 min\n",
        "• Lugares de instalación:\n",
        "- Antiguo Terminal de transportes de Duitama, Calle 17 # 18-32\n",
        "- Avenida circunvalar # 16A - 18, Duitama, Boyacá\n",
        "- Calle 20 # 30-00, Avenida Camillo Torres con carrera 30, Duitama, Boyacá\n",
        "\n",
        "**Información de la Entidad**\n",
        "- Área o dependencia\tOficina Asesora de TIC\n",
        "- Nombre de la Entidad\tAlcaldía de Duitama\n",
        "- Departamento\tBoyacá\n",
        "- Municipio\tDuitama\n",
        "- Orden\tTerritorial\n",
        "\n",
        "**Última Actualización**: 26 de marzo de 2024\n",
        "\n",
        "**Suministró los datos**: Municipio de Duitama\n",
        "\n",
        "**Propósito** Construir un modelo con la capacidad de estimar la temperatura.\n",
        "\n",
        "**path data**: https://www.datos.gov.co/Ciencia-Tecnolog-a-e-Innovaci-n/Calidad-del-Aire-Municipio-de-Duitama/aghd-ge2f/about_data\n"
      ],
      "metadata": {
        "id": "MA1-w28w44pg"
      }
    },
    {
      "cell_type": "markdown",
      "source": [
        "# **Diccionario de datos**\n",
        "---\n",
        "\n",
        "- **Fecha**: Fecha de emisión del registro generado por el sensor\n",
        "- **Nombre Equipo**:\tNombre asignado al sensor\n",
        "- **co**: Medición de gas monóxido de carbono realizada por el sensor\n",
        "- **co2**: Medición de gas monóxido de carbono y oxigeno realizada por el sensor\n",
        "- **pm10**: Medición de partículas sólidas o liquidas que se encuentran en la atmosfera realizada por el sensor\n",
        "- **pm2_5**: Partículas muy pequeñas en el aire que contiene un diámetro 2.5 micrómetros, medición realizada por el sensor (aproximadamente 1 diezmilésimo de pulgada) o menos de diámetro\n",
        "- **pm5**: Mide las condiciones del particulado del aire, diámetro 5 es el tamaño de las micras de la polució\n",
        "- **Humedad Relativa**: Dato cantidad vapor del aire generado por el sensor\n",
        "- **Temperatura**: Medición grados de temperatura generado por el sensor"
      ],
      "metadata": {
        "id": "LZJrbKd68ykV"
      }
    },
    {
      "cell_type": "markdown",
      "source": [
        "**Funciones**\n",
        "\n",
        "---\n"
      ],
      "metadata": {
        "id": "u_lHDbad6zdV"
      }
    },
    {
      "cell_type": "markdown",
      "source": [
        "parametros importantes"
      ],
      "metadata": {
        "id": "BdfAvW6jAzLw"
      }
    },
    {
      "cell_type": "markdown",
      "source": [
        "**learning_rate**: reduce la contribución de cada árbol multiplicando su influencia original por este valor.\n",
        "\n",
        "**max_iter**: número de árboles incluidos en el modelo.\n",
        "\n",
        "**max_depth**: profundidad máxima que pueden alcanzar los árboles.\n",
        "\n",
        "**min_samples_leaf:** número mínimo de observaciones que debe de tener cada uno de los nodos hijos para que se produzca la división.\n",
        "\n",
        "**max_leaf_nodes**: número máximo de nodos terminales que pueden tener los árboles.\n",
        "\n",
        "**early_stopping**: Si es 'auto', se activa la parada temprana si el tamaño de la muestra es superior a 10000. Si es True, se activa la parada temprana; en caso contrario, se desactiva.\n",
        "\n",
        "**validation_fraction**: proporción de datos separados del conjunto entrenamiento y empleados como conjunto de validación para determinar la parada temprana (early stopping).\n",
        "\n",
        "**n_iter_no_change**: número de iteraciones consecutivas en las que no se debe superar el tol para que el algoritmo se detenga (early stopping). Si su valor es None se desactiva la parada temprana.\n",
        "\n",
        "**tol**: porcentaje mínimo de mejora entre dos iteraciones consecutivas por debajo del cual se considera que el modelo no ha mejorado.\n",
        "\n"
      ],
      "metadata": {
        "id": "Ct8xiZnLA3v_"
      }
    },
    {
      "cell_type": "code",
      "source": [],
      "metadata": {
        "id": "HAuS0WqGA1Wn"
      },
      "execution_count": null,
      "outputs": []
    },
    {
      "cell_type": "markdown",
      "source": [
        "**Config**\n",
        "\n",
        "---"
      ],
      "metadata": {
        "id": "O19cts9P7Qds"
      }
    },
    {
      "cell_type": "code",
      "source": [
        "sns.set(style=\"darkgrid\")\n",
        "pd.set_option('display.float_format', '{:,.2f}'.format)\n",
        "title_data = 'Temperatura del Aire Municipio de Duitama'\n",
        "paleta = sns.color_palette(\"tab10\").as_hex()\n",
        "warnings.filterwarnings(\"ignore\")\n",
        "random_seedd = 12354"
      ],
      "metadata": {
        "id": "hYT2VZnB4fYV"
      },
      "execution_count": 5,
      "outputs": []
    },
    {
      "cell_type": "markdown",
      "source": [
        "# **Data**\n",
        "---"
      ],
      "metadata": {
        "id": "wga6pWcK8Rvm"
      }
    },
    {
      "cell_type": "code",
      "source": [
        "data = pd.read_csv('./data/calidad_aire_municipio_duitama.csv')"
      ],
      "metadata": {
        "id": "9i4ZOS1rwDa8"
      },
      "execution_count": 6,
      "outputs": []
    },
    {
      "cell_type": "code",
      "source": [
        "data.head()"
      ],
      "metadata": {
        "colab": {
          "base_uri": "https://localhost:8080/",
          "height": 206
        },
        "id": "-2H3U_n98lHk",
        "outputId": "1ed37f81-7862-43e7-9b51-40ff66f712a6"
      },
      "execution_count": 8,
      "outputs": [
        {
          "output_type": "execute_result",
          "data": {
            "text/plain": [
              "                    Fecha     Nombre Equipo   co    co2  pm10  pm2_5   pm5  \\\n",
              "0  08/01/2023 12:00:19 AM  AirQualityUnit02 2.00 450.00  5.00   4.00  4.00   \n",
              "1  08/01/2023 12:02:25 AM  AirQualityUnit02 3.00 448.00  6.00   6.00  4.00   \n",
              "2  08/01/2023 12:04:31 AM  AirQualityUnit02 4.00 453.00 26.00  22.00 14.00   \n",
              "3  08/01/2023 12:08:36 AM  AirQualityUnit02 6.00 459.00 13.00  10.00  7.00   \n",
              "4  08/01/2023 12:10:41 AM  AirQualityUnit02 7.00 461.00 10.00   9.00  6.00   \n",
              "\n",
              "   Humedad Relativa  Temperatura  \n",
              "0              0.00         0.00  \n",
              "1             65.40        13.60  \n",
              "2             52.70         0.80  \n",
              "3              0.00         0.00  \n",
              "4             53.00         0.80  "
            ],
            "text/html": [
              "\n",
              "  <div id=\"df-cbd82a77-8a27-4c2c-899c-563878dc4450\" class=\"colab-df-container\">\n",
              "    <div>\n",
              "<style scoped>\n",
              "    .dataframe tbody tr th:only-of-type {\n",
              "        vertical-align: middle;\n",
              "    }\n",
              "\n",
              "    .dataframe tbody tr th {\n",
              "        vertical-align: top;\n",
              "    }\n",
              "\n",
              "    .dataframe thead th {\n",
              "        text-align: right;\n",
              "    }\n",
              "</style>\n",
              "<table border=\"1\" class=\"dataframe\">\n",
              "  <thead>\n",
              "    <tr style=\"text-align: right;\">\n",
              "      <th></th>\n",
              "      <th>Fecha</th>\n",
              "      <th>Nombre Equipo</th>\n",
              "      <th>co</th>\n",
              "      <th>co2</th>\n",
              "      <th>pm10</th>\n",
              "      <th>pm2_5</th>\n",
              "      <th>pm5</th>\n",
              "      <th>Humedad Relativa</th>\n",
              "      <th>Temperatura</th>\n",
              "    </tr>\n",
              "  </thead>\n",
              "  <tbody>\n",
              "    <tr>\n",
              "      <th>0</th>\n",
              "      <td>08/01/2023 12:00:19 AM</td>\n",
              "      <td>AirQualityUnit02</td>\n",
              "      <td>2.00</td>\n",
              "      <td>450.00</td>\n",
              "      <td>5.00</td>\n",
              "      <td>4.00</td>\n",
              "      <td>4.00</td>\n",
              "      <td>0.00</td>\n",
              "      <td>0.00</td>\n",
              "    </tr>\n",
              "    <tr>\n",
              "      <th>1</th>\n",
              "      <td>08/01/2023 12:02:25 AM</td>\n",
              "      <td>AirQualityUnit02</td>\n",
              "      <td>3.00</td>\n",
              "      <td>448.00</td>\n",
              "      <td>6.00</td>\n",
              "      <td>6.00</td>\n",
              "      <td>4.00</td>\n",
              "      <td>65.40</td>\n",
              "      <td>13.60</td>\n",
              "    </tr>\n",
              "    <tr>\n",
              "      <th>2</th>\n",
              "      <td>08/01/2023 12:04:31 AM</td>\n",
              "      <td>AirQualityUnit02</td>\n",
              "      <td>4.00</td>\n",
              "      <td>453.00</td>\n",
              "      <td>26.00</td>\n",
              "      <td>22.00</td>\n",
              "      <td>14.00</td>\n",
              "      <td>52.70</td>\n",
              "      <td>0.80</td>\n",
              "    </tr>\n",
              "    <tr>\n",
              "      <th>3</th>\n",
              "      <td>08/01/2023 12:08:36 AM</td>\n",
              "      <td>AirQualityUnit02</td>\n",
              "      <td>6.00</td>\n",
              "      <td>459.00</td>\n",
              "      <td>13.00</td>\n",
              "      <td>10.00</td>\n",
              "      <td>7.00</td>\n",
              "      <td>0.00</td>\n",
              "      <td>0.00</td>\n",
              "    </tr>\n",
              "    <tr>\n",
              "      <th>4</th>\n",
              "      <td>08/01/2023 12:10:41 AM</td>\n",
              "      <td>AirQualityUnit02</td>\n",
              "      <td>7.00</td>\n",
              "      <td>461.00</td>\n",
              "      <td>10.00</td>\n",
              "      <td>9.00</td>\n",
              "      <td>6.00</td>\n",
              "      <td>53.00</td>\n",
              "      <td>0.80</td>\n",
              "    </tr>\n",
              "  </tbody>\n",
              "</table>\n",
              "</div>\n",
              "    <div class=\"colab-df-buttons\">\n",
              "\n",
              "  <div class=\"colab-df-container\">\n",
              "    <button class=\"colab-df-convert\" onclick=\"convertToInteractive('df-cbd82a77-8a27-4c2c-899c-563878dc4450')\"\n",
              "            title=\"Convert this dataframe to an interactive table.\"\n",
              "            style=\"display:none;\">\n",
              "\n",
              "  <svg xmlns=\"http://www.w3.org/2000/svg\" height=\"24px\" viewBox=\"0 -960 960 960\">\n",
              "    <path d=\"M120-120v-720h720v720H120Zm60-500h600v-160H180v160Zm220 220h160v-160H400v160Zm0 220h160v-160H400v160ZM180-400h160v-160H180v160Zm440 0h160v-160H620v160ZM180-180h160v-160H180v160Zm440 0h160v-160H620v160Z\"/>\n",
              "  </svg>\n",
              "    </button>\n",
              "\n",
              "  <style>\n",
              "    .colab-df-container {\n",
              "      display:flex;\n",
              "      gap: 12px;\n",
              "    }\n",
              "\n",
              "    .colab-df-convert {\n",
              "      background-color: #E8F0FE;\n",
              "      border: none;\n",
              "      border-radius: 50%;\n",
              "      cursor: pointer;\n",
              "      display: none;\n",
              "      fill: #1967D2;\n",
              "      height: 32px;\n",
              "      padding: 0 0 0 0;\n",
              "      width: 32px;\n",
              "    }\n",
              "\n",
              "    .colab-df-convert:hover {\n",
              "      background-color: #E2EBFA;\n",
              "      box-shadow: 0px 1px 2px rgba(60, 64, 67, 0.3), 0px 1px 3px 1px rgba(60, 64, 67, 0.15);\n",
              "      fill: #174EA6;\n",
              "    }\n",
              "\n",
              "    .colab-df-buttons div {\n",
              "      margin-bottom: 4px;\n",
              "    }\n",
              "\n",
              "    [theme=dark] .colab-df-convert {\n",
              "      background-color: #3B4455;\n",
              "      fill: #D2E3FC;\n",
              "    }\n",
              "\n",
              "    [theme=dark] .colab-df-convert:hover {\n",
              "      background-color: #434B5C;\n",
              "      box-shadow: 0px 1px 3px 1px rgba(0, 0, 0, 0.15);\n",
              "      filter: drop-shadow(0px 1px 2px rgba(0, 0, 0, 0.3));\n",
              "      fill: #FFFFFF;\n",
              "    }\n",
              "  </style>\n",
              "\n",
              "    <script>\n",
              "      const buttonEl =\n",
              "        document.querySelector('#df-cbd82a77-8a27-4c2c-899c-563878dc4450 button.colab-df-convert');\n",
              "      buttonEl.style.display =\n",
              "        google.colab.kernel.accessAllowed ? 'block' : 'none';\n",
              "\n",
              "      async function convertToInteractive(key) {\n",
              "        const element = document.querySelector('#df-cbd82a77-8a27-4c2c-899c-563878dc4450');\n",
              "        const dataTable =\n",
              "          await google.colab.kernel.invokeFunction('convertToInteractive',\n",
              "                                                    [key], {});\n",
              "        if (!dataTable) return;\n",
              "\n",
              "        const docLinkHtml = 'Like what you see? Visit the ' +\n",
              "          '<a target=\"_blank\" href=https://colab.research.google.com/notebooks/data_table.ipynb>data table notebook</a>'\n",
              "          + ' to learn more about interactive tables.';\n",
              "        element.innerHTML = '';\n",
              "        dataTable['output_type'] = 'display_data';\n",
              "        await google.colab.output.renderOutput(dataTable, element);\n",
              "        const docLink = document.createElement('div');\n",
              "        docLink.innerHTML = docLinkHtml;\n",
              "        element.appendChild(docLink);\n",
              "      }\n",
              "    </script>\n",
              "  </div>\n",
              "\n",
              "\n",
              "<div id=\"df-314887e6-0a5c-428c-ba68-6e4d50792279\">\n",
              "  <button class=\"colab-df-quickchart\" onclick=\"quickchart('df-314887e6-0a5c-428c-ba68-6e4d50792279')\"\n",
              "            title=\"Suggest charts\"\n",
              "            style=\"display:none;\">\n",
              "\n",
              "<svg xmlns=\"http://www.w3.org/2000/svg\" height=\"24px\"viewBox=\"0 0 24 24\"\n",
              "     width=\"24px\">\n",
              "    <g>\n",
              "        <path d=\"M19 3H5c-1.1 0-2 .9-2 2v14c0 1.1.9 2 2 2h14c1.1 0 2-.9 2-2V5c0-1.1-.9-2-2-2zM9 17H7v-7h2v7zm4 0h-2V7h2v10zm4 0h-2v-4h2v4z\"/>\n",
              "    </g>\n",
              "</svg>\n",
              "  </button>\n",
              "\n",
              "<style>\n",
              "  .colab-df-quickchart {\n",
              "      --bg-color: #E8F0FE;\n",
              "      --fill-color: #1967D2;\n",
              "      --hover-bg-color: #E2EBFA;\n",
              "      --hover-fill-color: #174EA6;\n",
              "      --disabled-fill-color: #AAA;\n",
              "      --disabled-bg-color: #DDD;\n",
              "  }\n",
              "\n",
              "  [theme=dark] .colab-df-quickchart {\n",
              "      --bg-color: #3B4455;\n",
              "      --fill-color: #D2E3FC;\n",
              "      --hover-bg-color: #434B5C;\n",
              "      --hover-fill-color: #FFFFFF;\n",
              "      --disabled-bg-color: #3B4455;\n",
              "      --disabled-fill-color: #666;\n",
              "  }\n",
              "\n",
              "  .colab-df-quickchart {\n",
              "    background-color: var(--bg-color);\n",
              "    border: none;\n",
              "    border-radius: 50%;\n",
              "    cursor: pointer;\n",
              "    display: none;\n",
              "    fill: var(--fill-color);\n",
              "    height: 32px;\n",
              "    padding: 0;\n",
              "    width: 32px;\n",
              "  }\n",
              "\n",
              "  .colab-df-quickchart:hover {\n",
              "    background-color: var(--hover-bg-color);\n",
              "    box-shadow: 0 1px 2px rgba(60, 64, 67, 0.3), 0 1px 3px 1px rgba(60, 64, 67, 0.15);\n",
              "    fill: var(--button-hover-fill-color);\n",
              "  }\n",
              "\n",
              "  .colab-df-quickchart-complete:disabled,\n",
              "  .colab-df-quickchart-complete:disabled:hover {\n",
              "    background-color: var(--disabled-bg-color);\n",
              "    fill: var(--disabled-fill-color);\n",
              "    box-shadow: none;\n",
              "  }\n",
              "\n",
              "  .colab-df-spinner {\n",
              "    border: 2px solid var(--fill-color);\n",
              "    border-color: transparent;\n",
              "    border-bottom-color: var(--fill-color);\n",
              "    animation:\n",
              "      spin 1s steps(1) infinite;\n",
              "  }\n",
              "\n",
              "  @keyframes spin {\n",
              "    0% {\n",
              "      border-color: transparent;\n",
              "      border-bottom-color: var(--fill-color);\n",
              "      border-left-color: var(--fill-color);\n",
              "    }\n",
              "    20% {\n",
              "      border-color: transparent;\n",
              "      border-left-color: var(--fill-color);\n",
              "      border-top-color: var(--fill-color);\n",
              "    }\n",
              "    30% {\n",
              "      border-color: transparent;\n",
              "      border-left-color: var(--fill-color);\n",
              "      border-top-color: var(--fill-color);\n",
              "      border-right-color: var(--fill-color);\n",
              "    }\n",
              "    40% {\n",
              "      border-color: transparent;\n",
              "      border-right-color: var(--fill-color);\n",
              "      border-top-color: var(--fill-color);\n",
              "    }\n",
              "    60% {\n",
              "      border-color: transparent;\n",
              "      border-right-color: var(--fill-color);\n",
              "    }\n",
              "    80% {\n",
              "      border-color: transparent;\n",
              "      border-right-color: var(--fill-color);\n",
              "      border-bottom-color: var(--fill-color);\n",
              "    }\n",
              "    90% {\n",
              "      border-color: transparent;\n",
              "      border-bottom-color: var(--fill-color);\n",
              "    }\n",
              "  }\n",
              "</style>\n",
              "\n",
              "  <script>\n",
              "    async function quickchart(key) {\n",
              "      const quickchartButtonEl =\n",
              "        document.querySelector('#' + key + ' button');\n",
              "      quickchartButtonEl.disabled = true;  // To prevent multiple clicks.\n",
              "      quickchartButtonEl.classList.add('colab-df-spinner');\n",
              "      try {\n",
              "        const charts = await google.colab.kernel.invokeFunction(\n",
              "            'suggestCharts', [key], {});\n",
              "      } catch (error) {\n",
              "        console.error('Error during call to suggestCharts:', error);\n",
              "      }\n",
              "      quickchartButtonEl.classList.remove('colab-df-spinner');\n",
              "      quickchartButtonEl.classList.add('colab-df-quickchart-complete');\n",
              "    }\n",
              "    (() => {\n",
              "      let quickchartButtonEl =\n",
              "        document.querySelector('#df-314887e6-0a5c-428c-ba68-6e4d50792279 button');\n",
              "      quickchartButtonEl.style.display =\n",
              "        google.colab.kernel.accessAllowed ? 'block' : 'none';\n",
              "    })();\n",
              "  </script>\n",
              "</div>\n",
              "\n",
              "    </div>\n",
              "  </div>\n"
            ],
            "application/vnd.google.colaboratory.intrinsic+json": {
              "type": "dataframe",
              "variable_name": "data",
              "summary": "{\n  \"name\": \"data\",\n  \"rows\": 30382,\n  \"fields\": [\n    {\n      \"column\": \"Fecha\",\n      \"properties\": {\n        \"dtype\": \"object\",\n        \"num_unique_values\": 29753,\n        \"samples\": [\n          \"08/23/2023 12:14:46 PM\",\n          \"08/30/2023 11:14:55 AM\",\n          \"08/15/2023 03:05:15 PM\"\n        ],\n        \"semantic_type\": \"\",\n        \"description\": \"\"\n      }\n    },\n    {\n      \"column\": \"Nombre Equipo\",\n      \"properties\": {\n        \"dtype\": \"category\",\n        \"num_unique_values\": 3,\n        \"samples\": [\n          \"AirQualityUnit02\",\n          \"AQ_SEP\",\n          \"AirQualityUnit01\"\n        ],\n        \"semantic_type\": \"\",\n        \"description\": \"\"\n      }\n    },\n    {\n      \"column\": \"co\",\n      \"properties\": {\n        \"dtype\": \"number\",\n        \"std\": 9.068440711707487,\n        \"min\": 0.0,\n        \"max\": 36.5,\n        \"num_unique_values\": 548,\n        \"samples\": [\n          19.2,\n          33.7,\n          20.9\n        ],\n        \"semantic_type\": \"\",\n        \"description\": \"\"\n      }\n    },\n    {\n      \"column\": \"co2\",\n      \"properties\": {\n        \"dtype\": \"number\",\n        \"std\": 145.58174627134562,\n        \"min\": 0.0,\n        \"max\": 1205.0,\n        \"num_unique_values\": 295,\n        \"samples\": [\n          0.68,\n          857.0,\n          445.0\n        ],\n        \"semantic_type\": \"\",\n        \"description\": \"\"\n      }\n    },\n    {\n      \"column\": \"pm10\",\n      \"properties\": {\n        \"dtype\": \"number\",\n        \"std\": 36.10940320158601,\n        \"min\": 0.0,\n        \"max\": 1792.0,\n        \"num_unique_values\": 783,\n        \"samples\": [\n          3.03,\n          4.29,\n          2.7\n        ],\n        \"semantic_type\": \"\",\n        \"description\": \"\"\n      }\n    },\n    {\n      \"column\": \"pm2_5\",\n      \"properties\": {\n        \"dtype\": \"number\",\n        \"std\": 55.624461967640826,\n        \"min\": 0.0,\n        \"max\": 3584.0,\n        \"num_unique_values\": 1206,\n        \"samples\": [\n          84.0,\n          24.7,\n          4.76\n        ],\n        \"semantic_type\": \"\",\n        \"description\": \"\"\n      }\n    },\n    {\n      \"column\": \"pm5\",\n      \"properties\": {\n        \"dtype\": \"number\",\n        \"std\": 46.09331423726858,\n        \"min\": 0.0,\n        \"max\": 3072.0,\n        \"num_unique_values\": 975,\n        \"samples\": [\n          4.6,\n          2.02,\n          3.8\n        ],\n        \"semantic_type\": \"\",\n        \"description\": \"\"\n      }\n    },\n    {\n      \"column\": \"Humedad Relativa\",\n      \"properties\": {\n        \"dtype\": \"number\",\n        \"std\": 21784.51839080457,\n        \"min\": 0.0,\n        \"max\": 75669.0,\n        \"num_unique_values\": 1343,\n        \"samples\": [\n          75184.0,\n          32.7,\n          52.4\n        ],\n        \"semantic_type\": \"\",\n        \"description\": \"\"\n      }\n    },\n    {\n      \"column\": \"Temperatura\",\n      \"properties\": {\n        \"dtype\": \"number\",\n        \"std\": 7.289002836500504,\n        \"min\": -2.5,\n        \"max\": 30.6,\n        \"num_unique_values\": 444,\n        \"samples\": [\n          9.47,\n          9.9,\n          14.5\n        ],\n        \"semantic_type\": \"\",\n        \"description\": \"\"\n      }\n    }\n  ]\n}"
            }
          },
          "metadata": {},
          "execution_count": 8
        }
      ]
    },
    {
      "cell_type": "markdown",
      "source": [
        "**split**"
      ],
      "metadata": {
        "id": "T6T2vFbI2RDT"
      }
    },
    {
      "cell_type": "code",
      "source": [
        "X = data.iloc[:, 2:-1]\n",
        "y = data.iloc[:, -1]"
      ],
      "metadata": {
        "id": "4uWxKTSW2mk9"
      },
      "execution_count": 11,
      "outputs": []
    },
    {
      "cell_type": "code",
      "source": [
        "X_train, X_test, y_train, y_test = train_test_split(\n",
        "    X,\n",
        "    y,\n",
        "    train_size=0.8,\n",
        "    random_state=random_seedd\n",
        ")"
      ],
      "metadata": {
        "id": "KtUfB4bX8lEa"
      },
      "execution_count": 13,
      "outputs": []
    },
    {
      "cell_type": "markdown",
      "source": [
        "**model**"
      ],
      "metadata": {
        "id": "z0W7bDaBAYat"
      }
    },
    {
      "cell_type": "code",
      "source": [
        "model = HistGradientBoostingRegressor(\n",
        "    max_iter=10,\n",
        "    loss='squared_error',\n",
        "    random_state=1235\n",
        ")"
      ],
      "metadata": {
        "id": "ZJ69pdQ98lA-"
      },
      "execution_count": 14,
      "outputs": []
    },
    {
      "cell_type": "code",
      "source": [
        "model.fit(X_train, y_train)"
      ],
      "metadata": {
        "colab": {
          "base_uri": "https://localhost:8080/",
          "height": 74
        },
        "id": "V5ZhK7IrArUp",
        "outputId": "fdbccb4a-092a-4213-eb58-3588d63835d4"
      },
      "execution_count": 15,
      "outputs": [
        {
          "output_type": "execute_result",
          "data": {
            "text/plain": [
              "HistGradientBoostingRegressor(max_iter=10, random_state=1235)"
            ],
            "text/html": [
              "<style>#sk-container-id-1 {color: black;background-color: white;}#sk-container-id-1 pre{padding: 0;}#sk-container-id-1 div.sk-toggleable {background-color: white;}#sk-container-id-1 label.sk-toggleable__label {cursor: pointer;display: block;width: 100%;margin-bottom: 0;padding: 0.3em;box-sizing: border-box;text-align: center;}#sk-container-id-1 label.sk-toggleable__label-arrow:before {content: \"▸\";float: left;margin-right: 0.25em;color: #696969;}#sk-container-id-1 label.sk-toggleable__label-arrow:hover:before {color: black;}#sk-container-id-1 div.sk-estimator:hover label.sk-toggleable__label-arrow:before {color: black;}#sk-container-id-1 div.sk-toggleable__content {max-height: 0;max-width: 0;overflow: hidden;text-align: left;background-color: #f0f8ff;}#sk-container-id-1 div.sk-toggleable__content pre {margin: 0.2em;color: black;border-radius: 0.25em;background-color: #f0f8ff;}#sk-container-id-1 input.sk-toggleable__control:checked~div.sk-toggleable__content {max-height: 200px;max-width: 100%;overflow: auto;}#sk-container-id-1 input.sk-toggleable__control:checked~label.sk-toggleable__label-arrow:before {content: \"▾\";}#sk-container-id-1 div.sk-estimator input.sk-toggleable__control:checked~label.sk-toggleable__label {background-color: #d4ebff;}#sk-container-id-1 div.sk-label input.sk-toggleable__control:checked~label.sk-toggleable__label {background-color: #d4ebff;}#sk-container-id-1 input.sk-hidden--visually {border: 0;clip: rect(1px 1px 1px 1px);clip: rect(1px, 1px, 1px, 1px);height: 1px;margin: -1px;overflow: hidden;padding: 0;position: absolute;width: 1px;}#sk-container-id-1 div.sk-estimator {font-family: monospace;background-color: #f0f8ff;border: 1px dotted black;border-radius: 0.25em;box-sizing: border-box;margin-bottom: 0.5em;}#sk-container-id-1 div.sk-estimator:hover {background-color: #d4ebff;}#sk-container-id-1 div.sk-parallel-item::after {content: \"\";width: 100%;border-bottom: 1px solid gray;flex-grow: 1;}#sk-container-id-1 div.sk-label:hover label.sk-toggleable__label {background-color: #d4ebff;}#sk-container-id-1 div.sk-serial::before {content: \"\";position: absolute;border-left: 1px solid gray;box-sizing: border-box;top: 0;bottom: 0;left: 50%;z-index: 0;}#sk-container-id-1 div.sk-serial {display: flex;flex-direction: column;align-items: center;background-color: white;padding-right: 0.2em;padding-left: 0.2em;position: relative;}#sk-container-id-1 div.sk-item {position: relative;z-index: 1;}#sk-container-id-1 div.sk-parallel {display: flex;align-items: stretch;justify-content: center;background-color: white;position: relative;}#sk-container-id-1 div.sk-item::before, #sk-container-id-1 div.sk-parallel-item::before {content: \"\";position: absolute;border-left: 1px solid gray;box-sizing: border-box;top: 0;bottom: 0;left: 50%;z-index: -1;}#sk-container-id-1 div.sk-parallel-item {display: flex;flex-direction: column;z-index: 1;position: relative;background-color: white;}#sk-container-id-1 div.sk-parallel-item:first-child::after {align-self: flex-end;width: 50%;}#sk-container-id-1 div.sk-parallel-item:last-child::after {align-self: flex-start;width: 50%;}#sk-container-id-1 div.sk-parallel-item:only-child::after {width: 0;}#sk-container-id-1 div.sk-dashed-wrapped {border: 1px dashed gray;margin: 0 0.4em 0.5em 0.4em;box-sizing: border-box;padding-bottom: 0.4em;background-color: white;}#sk-container-id-1 div.sk-label label {font-family: monospace;font-weight: bold;display: inline-block;line-height: 1.2em;}#sk-container-id-1 div.sk-label-container {text-align: center;}#sk-container-id-1 div.sk-container {/* jupyter's `normalize.less` sets `[hidden] { display: none; }` but bootstrap.min.css set `[hidden] { display: none !important; }` so we also need the `!important` here to be able to override the default hidden behavior on the sphinx rendered scikit-learn.org. See: https://github.com/scikit-learn/scikit-learn/issues/21755 */display: inline-block !important;position: relative;}#sk-container-id-1 div.sk-text-repr-fallback {display: none;}</style><div id=\"sk-container-id-1\" class=\"sk-top-container\"><div class=\"sk-text-repr-fallback\"><pre>HistGradientBoostingRegressor(max_iter=10, random_state=1235)</pre><b>In a Jupyter environment, please rerun this cell to show the HTML representation or trust the notebook. <br />On GitHub, the HTML representation is unable to render, please try loading this page with nbviewer.org.</b></div><div class=\"sk-container\" hidden><div class=\"sk-item\"><div class=\"sk-estimator sk-toggleable\"><input class=\"sk-toggleable__control sk-hidden--visually\" id=\"sk-estimator-id-1\" type=\"checkbox\" checked><label for=\"sk-estimator-id-1\" class=\"sk-toggleable__label sk-toggleable__label-arrow\">HistGradientBoostingRegressor</label><div class=\"sk-toggleable__content\"><pre>HistGradientBoostingRegressor(max_iter=10, random_state=1235)</pre></div></div></div></div></div>"
            ]
          },
          "metadata": {},
          "execution_count": 15
        }
      ]
    },
    {
      "cell_type": "code",
      "source": [
        "y_predict = model.predict(X_test)\n",
        "rmse = mean_squared_error(\n",
        "    y_test,\n",
        "    y_predict,\n",
        "    squared=False\n",
        ")\n",
        "print(f\"El error (rmse) de test es: {rmse}\")"
      ],
      "metadata": {
        "colab": {
          "base_uri": "https://localhost:8080/"
        },
        "id": "AXLMne5wBuKV",
        "outputId": "fb1dc7c3-fc40-4d2b-8223-aaba5103b368"
      },
      "execution_count": 18,
      "outputs": [
        {
          "output_type": "stream",
          "name": "stdout",
          "text": [
            "El error (rmse) de test es: 3.394973070460927\n"
          ]
        }
      ]
    },
    {
      "cell_type": "markdown",
      "source": [
        "El modelo tiene un error de 3.4 en la temperatura."
      ],
      "metadata": {
        "id": "mWPrxD-QDjjm"
      }
    },
    {
      "cell_type": "markdown",
      "source": [
        "# **Optimización de hiperparámetros**\n",
        "**Numero estimadores**"
      ],
      "metadata": {
        "id": "Ou6KO9rIGf5t"
      }
    },
    {
      "cell_type": "code",
      "source": [
        "train_scores = []\n",
        "cv_scores = []\n",
        "\n",
        "max_iter_range = range(1, 500, 25)\n",
        "\n",
        "for max_iter in max_iter_range:\n",
        "\n",
        "  model = HistGradientBoostingRegressor(\n",
        "      max_iter=max_iter,\n",
        "      random_state=random_seedd\n",
        "  )\n",
        "\n",
        "  model.fit(X_train, y_train)\n",
        "  y_predict = model.predict(X_train)\n",
        "  rmse = mean_squared_error(\n",
        "      y_train,\n",
        "      y_predict,\n",
        "      squared=False\n",
        "  )\n",
        "\n",
        "  train_scores.append(rmse)\n",
        "\n",
        "  scores = cross_val_score(\n",
        "      estimator=model,\n",
        "      X=X_train,\n",
        "      y=y_train,\n",
        "      scoring   = 'neg_root_mean_squared_error',\n",
        "      cv = 5\n",
        "  )\n",
        "\n",
        "  cv_scores.append(-1*scores.mean())\n",
        "\n"
      ],
      "metadata": {
        "id": "gxMY8z4AGVnm"
      },
      "execution_count": 22,
      "outputs": []
    },
    {
      "cell_type": "code",
      "source": [
        "fig, ax = plt.subplots(figsize=(5, 3))\n",
        "ax.plot(max_iter_range, train_scores, label=\"train scores\")\n",
        "ax.plot(max_iter_range, cv_scores, label=\"cv scores\")\n",
        "ax.plot(max_iter_range[np.argmin(cv_scores)], min(cv_scores),\n",
        "        marker='o', color = \"red\", label=\"min score\")\n",
        "ax.set_ylabel(\"root_mean_squared_error\")\n",
        "ax.set_xlabel(\"n_estimators\")\n",
        "ax.set_title(\"Evolución del cv-error vs número árboles\")\n",
        "plt.legend();\n",
        "print(f\"Valor óptimo de n_estimators: {max_iter_range[np.argmin(cv_scores)]}\")"
      ],
      "metadata": {
        "colab": {
          "base_uri": "https://localhost:8080/",
          "height": 360
        },
        "id": "TlBLJUTFIYiz",
        "outputId": "2ba8c678-96f5-4093-a553-d5b8ce0d9635"
      },
      "execution_count": 23,
      "outputs": [
        {
          "output_type": "stream",
          "name": "stdout",
          "text": [
            "Valor óptimo de n_estimators: 151\n"
          ]
        },
        {
          "output_type": "display_data",
          "data": {
            "text/plain": [
              "<Figure size 500x300 with 1 Axes>"
            ],
            "image/png": "[encoded data removed]"
          },
          "metadata": {}
        }
      ]
    },
    {
      "cell_type": "markdown",
      "source": [
        "- El error del modelo se estabiliza, consiguiendo un mínimo con 151 árboles."
      ],
      "metadata": {
        "id": "7eVXPbZSJjD-"
      }
    },
    {
      "cell_type": "markdown",
      "source": [
        "**Learning rate**\n"
      ],
      "metadata": {
        "id": "jBgoF8Q2JoGy"
      }
    },
    {
      "cell_type": "code",
      "source": [
        "resultados = {}\n",
        "\n",
        "learning_rates_grid = [0.001, 0.01, 0.1]\n",
        "max_iter_grid = [10,20,100,200,300,400,500,1000,2000,5000]"
      ],
      "metadata": {
        "id": "c0y6qzhkJmtK"
      },
      "execution_count": 24,
      "outputs": []
    },
    {
      "cell_type": "code",
      "source": [
        "for learning_rate in learning_rates_grid:\n",
        "\n",
        "  train_scores = []\n",
        "  cv_scores = []\n",
        "\n",
        "  for n_estimator in max_iter_grid:\n",
        "\n",
        "    model = HistGradientBoostingRegressor(\n",
        "        max_iter = n_estimator,\n",
        "        learning_rate = learning_rate,\n",
        "        random_state=random_seedd\n",
        "    )\n",
        "    model.fit(X_train, y_train)\n",
        "    y_predict = model.predict(X_train)\n",
        "    rmse = mean_squared_error(\n",
        "        y_train,\n",
        "        y_predict,\n",
        "        squared=False\n",
        "    )\n",
        "\n",
        "    train_scores.append(rmse)\n",
        "\n",
        "    scores = cross_val_score(\n",
        "        estimator = model,\n",
        "        X = X_train,\n",
        "        y = y_train,\n",
        "        scoring = 'neg_root_mean_squared_error',\n",
        "        cv = 5\n",
        "    )\n",
        "\n",
        "    cv_scores.append(-1*scores.mean())\n",
        "\n",
        "  resultados[learning_rate] = {'train_scores': train_scores, 'cv_scores': cv_scores}"
      ],
      "metadata": {
        "id": "Tn3w9l2PKoqU"
      },
      "execution_count": 25,
      "outputs": []
    },
    {
      "cell_type": "code",
      "source": [
        "fig, axs = plt.subplots(nrows=1, ncols=2, figsize=(9, 3))\n",
        "\n",
        "for key, value in resultados.items():\n",
        "    axs[0].plot(max_iter_grid, value['train_scores'], label=f\"Learning rate {key}\")\n",
        "    axs[0].set_ylabel(\"root_mean_squared_error\")\n",
        "    axs[0].set_xlabel(\"n_estimators\")\n",
        "    axs[0].set_title(\"Evolución del train error vs learning rate\")\n",
        "\n",
        "    axs[1].plot(max_iter_grid, value['cv_scores'], label=f\"Learning rate {key}\")\n",
        "    axs[1].set_ylabel(\"root_mean_squared_error\")\n",
        "    axs[1].set_xlabel(\"n_estimators\")\n",
        "    axs[1].set_title(\"Evolución del cv-error vs learning rate\")\n",
        "    plt.legend();"
      ],
      "metadata": {
        "colab": {
          "base_uri": "https://localhost:8080/",
          "height": 342
        },
        "id": "k9Fd6_KNQ7E_",
        "outputId": "913dbd01-5434-4f75-f621-1a3a3372275e"
      },
      "execution_count": 26,
      "outputs": [
        {
          "output_type": "display_data",
          "data": {
            "text/plain": [
              "<Figure size 900x300 with 2 Axes>"
            ],
            "image/png": "[encoded data removed]"
          },
          "metadata": {}
        }
      ]
    },
    {
      "cell_type": "markdown",
      "source": [
        "Puede observarse que, cuanto mayor es el valor del learning rate, más rápido aprende el modelo pero antes puede aparecer el overfitting. En este caso, los errores estimados por validación cruzada indican que, el mejor modelo se consigue con un learning rate de 0.1."
      ],
      "metadata": {
        "id": "ZdsSiVF_Rp19"
      }
    },
    {
      "cell_type": "markdown",
      "source": [
        "**Max depth**"
      ],
      "metadata": {
        "id": "Hmzk2F_bST0T"
      }
    },
    {
      "cell_type": "code",
      "source": [
        "train_scores = []\n",
        "cv_scores = []\n",
        "\n",
        "max_depths = [1,3,5,10,20]"
      ],
      "metadata": {
        "id": "BvZ4M-xuR27I"
      },
      "execution_count": 30,
      "outputs": []
    },
    {
      "cell_type": "code",
      "source": [
        "for max_depth in max_depths:\n",
        "\n",
        "  model = HistGradientBoostingRegressor(\n",
        "      max_iter=25,\n",
        "      max_depth = max_depth,\n",
        "      random_state=random_seedd\n",
        "  )\n",
        "\n",
        "  model.fit(X_train, y_train)\n",
        "  y_predict = model.predict(X_train)\n",
        "  rmse = mean_squared_error(\n",
        "      y_train,\n",
        "      y_predict,\n",
        "      squared =False\n",
        "  )\n",
        "\n",
        "  train_scores.append(rmse)\n",
        "\n",
        "  scores = cross_val_score(\n",
        "      model,\n",
        "      X_train,\n",
        "      y_train,\n",
        "      scoring   = 'neg_root_mean_squared_error',\n",
        "      cv = 5,\n",
        "  )\n",
        "\n",
        "  cv_scores.append(-1*scores.mean())"
      ],
      "metadata": {
        "id": "HSHEdWqPS3-w"
      },
      "execution_count": 32,
      "outputs": []
    },
    {
      "cell_type": "code",
      "source": [
        "fig, ax = plt.subplots(figsize=(5, 3))\n",
        "ax.plot(max_depths, train_scores, label=\"train scores\")\n",
        "ax.plot(max_depths, cv_scores, label=\"cv scores\")\n",
        "ax.plot(max_depths[np.argmin(cv_scores)], min(cv_scores),\n",
        "        marker='o', color = \"red\", label=\"min score\")\n",
        "ax.set_ylabel(\"root_mean_squared_error\")\n",
        "ax.set_xlabel(\"max_depth\")\n",
        "ax.set_title(\"Evolución del cv-error vs profundidad árboles\")\n",
        "plt.legend();\n",
        "print(f\"Valor óptimo de max_depth: {max_depths[np.argmin(cv_scores)]}\")"
      ],
      "metadata": {
        "colab": {
          "base_uri": "https://localhost:8080/",
          "height": 360
        },
        "id": "efEJn8HnU85R",
        "outputId": "8ecfa2fb-71bb-4684-ea02-4ebeaac90b99"
      },
      "execution_count": 33,
      "outputs": [
        {
          "output_type": "stream",
          "name": "stdout",
          "text": [
            "Valor óptimo de max_depth: 20\n"
          ]
        },
        {
          "output_type": "display_data",
          "data": {
            "text/plain": [
              "<Figure size 500x300 with 1 Axes>"
            ],
            "image/png": "[encoded data removed]"
          },
          "metadata": {}
        }
      ]
    }
  ]
}
