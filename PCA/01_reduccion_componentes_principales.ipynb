{
  "nbformat": 4,
  "nbformat_minor": 0,
  "metadata": {
    "colab": {
      "provenance": [],
      "authorship_tag": "ABX9TyPwppObXllG6sy32BjMzZrI",
      "include_colab_link": true
    },
    "kernelspec": {
      "name": "python3",
      "display_name": "Python 3"
    },
    "language_info": {
      "name": "python"
    }
  },
  "cells": [
    {
      "cell_type": "markdown",
      "metadata": {
        "id": "view-in-github",
        "colab_type": "text"
      },
      "source": [
        "<a href=\"https://colab.research.google.com/github/Kaiziferr/machine_learning/blob/main/PCA/01_reduccion_componentes_principales.ipynb\" target=\"_parent\"><img src=\"https://colab.research.google.com/assets/colab-badge.svg\" alt=\"Open In Colab\"/></a>"
      ]
    },
    {
      "cell_type": "code",
      "source": [
        "import pandas as pd\n",
        "import numpy as np\n",
        "\n",
        "import seaborn as sns\n",
        "import matplotlib.pyplot as plt\n",
        "\n",
        "from sklearn.decomposition import PCA\n",
        "\n",
        "import warnings"
      ],
      "metadata": {
        "id": "SqorXVIQ39v9"
      },
      "execution_count": null,
      "outputs": []
    },
    {
      "cell_type": "markdown",
      "source": [
        "# **Info**\n",
        "---\n",
        "\n",
        "Tasa de mortalidad cruda por tipo de cáncer, por 100.000 personas-año, en ambos sexos, edades [0 - 80+], por departamento, periodo 1997 a 2019.\n",
        "\n",
        "Propósito: Aplicar componentes principales, para reducir la dimensionalidad.\n",
        "\n",
        "path data: https://www.datos.gov.co/Salud-y-Protecci-n-Social/Tasa-de-mortalidad-por-tipo-de-c-ncer/64it-izw2\n",
        "\n",
        "Suministró los datos: Departamento Administrativo Nacional de Estadística DANE\n",
        "\n"
      ],
      "metadata": {
        "id": "nL_jQnOe4K1F"
      }
    },
    {
      "cell_type": "markdown",
      "source": [
        "#**Diccionario Datos**\n",
        "---\n",
        "- Tipo de Cáncer: Tipo de cancer.\n",
        "- Localización: Lugar del evento.\n",
        "- 1997 - 2019: Tasa de mortalidad cruda por 100.000 personas-año, en ambos sexos, edades [0 - 80+]\n",
        "\n",
        "\n"
      ],
      "metadata": {
        "id": "Hzzwr5nf5Q29"
      }
    },
    {
      "cell_type": "markdown",
      "source": [
        "# **Funciones**\n",
        "---\n"
      ],
      "metadata": {
        "id": "AEgyY7Ia7iPV"
      }
    },
    {
      "cell_type": "code",
      "source": [
        "def componentes_principales(data:object,\n",
        "                            min_explained_variance:int=0.85,\n",
        "                            min_component:int=3,\n",
        "                            **kwards)->tuple:\n",
        "  \"\"\"simple method of PCA, that return data transform\"\"\"\n",
        "  final_comp = 0\n",
        "  for comp in range(min_component, data.shape[1]):\n",
        "    pca = PCA(n_components=comp, **kwards)\n",
        "    pca.fit(data)\n",
        "    comp_check = pca.explained_variance_ratio_\n",
        "    final_comp = comp\n",
        "    if comp_check.sum() >= min_explained_variance:\n",
        "      break\n",
        "\n",
        "  final_pca = PCA(n_components=final_comp, **kwards)\n",
        "  final_pca.fit(data)\n",
        "  data_df = final_pca.transform(data)\n",
        "  info = \"Using {} components, we can explain {}% of the variability\\\n",
        "  in the original data.\".format(final_comp,comp_check.sum())\n",
        "\n",
        "  return data_df, final_pca, info"
      ],
      "metadata": {
        "id": "3LbwVghQ7n5d"
      },
      "execution_count": null,
      "outputs": []
    },
    {
      "cell_type": "markdown",
      "source": [
        "# **Config**\n",
        "---\n",
        "\n"
      ],
      "metadata": {
        "id": "9aLVpyN842dU"
      }
    },
    {
      "cell_type": "code",
      "source": [
        "sns.set(style=\"darkgrid\")\n",
        "pd.set_option('display.float_format', '{:,.2f}'.format)\n",
        "warnings.simplefilter(\"ignore\")\n",
        "title_data = 'Tasa de mortalidad por tipo de cáncer'\n",
        "paleta = sns.color_palette(\"tab10\").as_hex()"
      ],
      "metadata": {
        "id": "EDNhVrRF49kj"
      },
      "execution_count": null,
      "outputs": []
    },
    {
      "cell_type": "code",
      "source": [
        "# Data de los pagos\n",
        "url='https://drive.google.com/file/d/17P0-QV3ypl04BLOaUoZkt6plUDUvO3Cg/view?usp=drive_link'\n",
        "url='https://drive.google.com/uc?id=' + url.split('/')[-2]\n",
        "data = pd.read_csv(url, dtype=str)"
      ],
      "metadata": {
        "id": "QOVBWbuk4GTz"
      },
      "execution_count": null,
      "outputs": []
    },
    {
      "cell_type": "code",
      "execution_count": null,
      "metadata": {
        "colab": {
          "base_uri": "https://localhost:8080/",
          "height": 423
        },
        "id": "8UJ0p4C63fnC",
        "outputId": "6aa097ed-e584-4fcb-8937-d459c656ad83"
      },
      "outputs": [
        {
          "output_type": "execute_result",
          "data": {
            "text/plain": [
              "     Tipo de Cáncer                             Localización  1997  1998 1999  \\\n",
              "0              Mama                                Risaralda   9.1   9.6  9.3   \n",
              "1              Mama                                Atlántico   8.5   8.7  8.8   \n",
              "2              Mama                          Valle del Cauca  10.1  10.5   11   \n",
              "3          Estómago                                  Quindio  15.7  15.7   15   \n",
              "4              Mama                                Santander   7.6   7.6  7.6   \n",
              "...             ...                                      ...   ...   ...  ...   \n",
              "1814     Orofaringe  Archipiélago de San Andrés, Providencia   1.5   1.5  1.5   \n",
              "1815     Orofaringe                                  Vichada     0     0    0   \n",
              "1816     Orofaringe                                  Guainía     0     0    0   \n",
              "1817     Orofaringe                                 Guaviare     0     0    0   \n",
              "1818    Nasofaringe  Archipiélago de San Andrés. Providencia     0     0    0   \n",
              "\n",
              "      2000  2001  2002  2003  2004  ...  2010  2011  2012  2013  2014  2015  \\\n",
              "0      9.5  10.7  10.2  10.6    11  ...  13.2  13.3  14.9  16.1  16.4  17.4   \n",
              "1      8.9   9.4   9.7  10.2  10.4  ...  12.4  12.9  13.7  14.4  15.8  16.6   \n",
              "2     11.6  12.2  12.6  12.6  12.8  ...  13.6  13.9  14.6  15.1    16  16.8   \n",
              "3     14.3  14.4  14.4  15.1  15.5  ...  19.6    20  19.6  18.4  18.3  18.1   \n",
              "4      8.4   8.7   9.2   9.2   9.5  ...    10  10.8  11.4  12.2  13.1  14.6   \n",
              "...    ...   ...   ...   ...   ...  ...   ...   ...   ...   ...   ...   ...   \n",
              "1814   1.5   1.5   1.5   1.4   1.4  ...     0     0     0     0     0     0   \n",
              "1815     0     0     0     0     0  ...     0     0     0     0     0     0   \n",
              "1816     0     0     0     0     0  ...     0     0     0     0     0     0   \n",
              "1817     0     0     0     0     0  ...     0     0     0     0     0     0   \n",
              "1818     0     0     0     0     0  ...   1.4     0     0     0     0     0   \n",
              "\n",
              "      2016  2017  2018  2019  \n",
              "0       19  18.8  18.8  19.6  \n",
              "1     17.5  18.4  18.9  19.4  \n",
              "2       18  18.3  18.7  18.9  \n",
              "3     18.2  18.9  19.3  18.6  \n",
              "4     15.7  16.3  16.9    18  \n",
              "...    ...   ...   ...   ...  \n",
              "1814     0     0     0   NaN  \n",
              "1815     0     0     0   NaN  \n",
              "1816     0     0     0   NaN  \n",
              "1817     0     0     0   NaN  \n",
              "1818     0     0     0   NaN  \n",
              "\n",
              "[1819 rows x 25 columns]"
            ],
            "text/html": [
              "\n",
              "  <div id=\"df-9c1b5ce5-094c-41ec-8e8d-ee7b9c268a74\" class=\"colab-df-container\">\n",
              "    <div>\n",
              "<style scoped>\n",
              "    .dataframe tbody tr th:only-of-type {\n",
              "        vertical-align: middle;\n",
              "    }\n",
              "\n",
              "    .dataframe tbody tr th {\n",
              "        vertical-align: top;\n",
              "    }\n",
              "\n",
              "    .dataframe thead th {\n",
              "        text-align: right;\n",
              "    }\n",
              "</style>\n",
              "<table border=\"1\" class=\"dataframe\">\n",
              "  <thead>\n",
              "    <tr style=\"text-align: right;\">\n",
              "      <th></th>\n",
              "      <th>Tipo de Cáncer</th>\n",
              "      <th>Localización</th>\n",
              "      <th>1997</th>\n",
              "      <th>1998</th>\n",
              "      <th>1999</th>\n",
              "      <th>2000</th>\n",
              "      <th>2001</th>\n",
              "      <th>2002</th>\n",
              "      <th>2003</th>\n",
              "      <th>2004</th>\n",
              "      <th>...</th>\n",
              "      <th>2010</th>\n",
              "      <th>2011</th>\n",
              "      <th>2012</th>\n",
              "      <th>2013</th>\n",
              "      <th>2014</th>\n",
              "      <th>2015</th>\n",
              "      <th>2016</th>\n",
              "      <th>2017</th>\n",
              "      <th>2018</th>\n",
              "      <th>2019</th>\n",
              "    </tr>\n",
              "  </thead>\n",
              "  <tbody>\n",
              "    <tr>\n",
              "      <th>0</th>\n",
              "      <td>Mama</td>\n",
              "      <td>Risaralda</td>\n",
              "      <td>9.1</td>\n",
              "      <td>9.6</td>\n",
              "      <td>9.3</td>\n",
              "      <td>9.5</td>\n",
              "      <td>10.7</td>\n",
              "      <td>10.2</td>\n",
              "      <td>10.6</td>\n",
              "      <td>11</td>\n",
              "      <td>...</td>\n",
              "      <td>13.2</td>\n",
              "      <td>13.3</td>\n",
              "      <td>14.9</td>\n",
              "      <td>16.1</td>\n",
              "      <td>16.4</td>\n",
              "      <td>17.4</td>\n",
              "      <td>19</td>\n",
              "      <td>18.8</td>\n",
              "      <td>18.8</td>\n",
              "      <td>19.6</td>\n",
              "    </tr>\n",
              "    <tr>\n",
              "      <th>1</th>\n",
              "      <td>Mama</td>\n",
              "      <td>Atlántico</td>\n",
              "      <td>8.5</td>\n",
              "      <td>8.7</td>\n",
              "      <td>8.8</td>\n",
              "      <td>8.9</td>\n",
              "      <td>9.4</td>\n",
              "      <td>9.7</td>\n",
              "      <td>10.2</td>\n",
              "      <td>10.4</td>\n",
              "      <td>...</td>\n",
              "      <td>12.4</td>\n",
              "      <td>12.9</td>\n",
              "      <td>13.7</td>\n",
              "      <td>14.4</td>\n",
              "      <td>15.8</td>\n",
              "      <td>16.6</td>\n",
              "      <td>17.5</td>\n",
              "      <td>18.4</td>\n",
              "      <td>18.9</td>\n",
              "      <td>19.4</td>\n",
              "    </tr>\n",
              "    <tr>\n",
              "      <th>2</th>\n",
              "      <td>Mama</td>\n",
              "      <td>Valle del Cauca</td>\n",
              "      <td>10.1</td>\n",
              "      <td>10.5</td>\n",
              "      <td>11</td>\n",
              "      <td>11.6</td>\n",
              "      <td>12.2</td>\n",
              "      <td>12.6</td>\n",
              "      <td>12.6</td>\n",
              "      <td>12.8</td>\n",
              "      <td>...</td>\n",
              "      <td>13.6</td>\n",
              "      <td>13.9</td>\n",
              "      <td>14.6</td>\n",
              "      <td>15.1</td>\n",
              "      <td>16</td>\n",
              "      <td>16.8</td>\n",
              "      <td>18</td>\n",
              "      <td>18.3</td>\n",
              "      <td>18.7</td>\n",
              "      <td>18.9</td>\n",
              "    </tr>\n",
              "    <tr>\n",
              "      <th>3</th>\n",
              "      <td>Estómago</td>\n",
              "      <td>Quindio</td>\n",
              "      <td>15.7</td>\n",
              "      <td>15.7</td>\n",
              "      <td>15</td>\n",
              "      <td>14.3</td>\n",
              "      <td>14.4</td>\n",
              "      <td>14.4</td>\n",
              "      <td>15.1</td>\n",
              "      <td>15.5</td>\n",
              "      <td>...</td>\n",
              "      <td>19.6</td>\n",
              "      <td>20</td>\n",
              "      <td>19.6</td>\n",
              "      <td>18.4</td>\n",
              "      <td>18.3</td>\n",
              "      <td>18.1</td>\n",
              "      <td>18.2</td>\n",
              "      <td>18.9</td>\n",
              "      <td>19.3</td>\n",
              "      <td>18.6</td>\n",
              "    </tr>\n",
              "    <tr>\n",
              "      <th>4</th>\n",
              "      <td>Mama</td>\n",
              "      <td>Santander</td>\n",
              "      <td>7.6</td>\n",
              "      <td>7.6</td>\n",
              "      <td>7.6</td>\n",
              "      <td>8.4</td>\n",
              "      <td>8.7</td>\n",
              "      <td>9.2</td>\n",
              "      <td>9.2</td>\n",
              "      <td>9.5</td>\n",
              "      <td>...</td>\n",
              "      <td>10</td>\n",
              "      <td>10.8</td>\n",
              "      <td>11.4</td>\n",
              "      <td>12.2</td>\n",
              "      <td>13.1</td>\n",
              "      <td>14.6</td>\n",
              "      <td>15.7</td>\n",
              "      <td>16.3</td>\n",
              "      <td>16.9</td>\n",
              "      <td>18</td>\n",
              "    </tr>\n",
              "    <tr>\n",
              "      <th>...</th>\n",
              "      <td>...</td>\n",
              "      <td>...</td>\n",
              "      <td>...</td>\n",
              "      <td>...</td>\n",
              "      <td>...</td>\n",
              "      <td>...</td>\n",
              "      <td>...</td>\n",
              "      <td>...</td>\n",
              "      <td>...</td>\n",
              "      <td>...</td>\n",
              "      <td>...</td>\n",
              "      <td>...</td>\n",
              "      <td>...</td>\n",
              "      <td>...</td>\n",
              "      <td>...</td>\n",
              "      <td>...</td>\n",
              "      <td>...</td>\n",
              "      <td>...</td>\n",
              "      <td>...</td>\n",
              "      <td>...</td>\n",
              "      <td>...</td>\n",
              "    </tr>\n",
              "    <tr>\n",
              "      <th>1814</th>\n",
              "      <td>Orofaringe</td>\n",
              "      <td>Archipiélago de San Andrés, Providencia</td>\n",
              "      <td>1.5</td>\n",
              "      <td>1.5</td>\n",
              "      <td>1.5</td>\n",
              "      <td>1.5</td>\n",
              "      <td>1.5</td>\n",
              "      <td>1.5</td>\n",
              "      <td>1.4</td>\n",
              "      <td>1.4</td>\n",
              "      <td>...</td>\n",
              "      <td>0</td>\n",
              "      <td>0</td>\n",
              "      <td>0</td>\n",
              "      <td>0</td>\n",
              "      <td>0</td>\n",
              "      <td>0</td>\n",
              "      <td>0</td>\n",
              "      <td>0</td>\n",
              "      <td>0</td>\n",
              "      <td>NaN</td>\n",
              "    </tr>\n",
              "    <tr>\n",
              "      <th>1815</th>\n",
              "      <td>Orofaringe</td>\n",
              "      <td>Vichada</td>\n",
              "      <td>0</td>\n",
              "      <td>0</td>\n",
              "      <td>0</td>\n",
              "      <td>0</td>\n",
              "      <td>0</td>\n",
              "      <td>0</td>\n",
              "      <td>0</td>\n",
              "      <td>0</td>\n",
              "      <td>...</td>\n",
              "      <td>0</td>\n",
              "      <td>0</td>\n",
              "      <td>0</td>\n",
              "      <td>0</td>\n",
              "      <td>0</td>\n",
              "      <td>0</td>\n",
              "      <td>0</td>\n",
              "      <td>0</td>\n",
              "      <td>0</td>\n",
              "      <td>NaN</td>\n",
              "    </tr>\n",
              "    <tr>\n",
              "      <th>1816</th>\n",
              "      <td>Orofaringe</td>\n",
              "      <td>Guainía</td>\n",
              "      <td>0</td>\n",
              "      <td>0</td>\n",
              "      <td>0</td>\n",
              "      <td>0</td>\n",
              "      <td>0</td>\n",
              "      <td>0</td>\n",
              "      <td>0</td>\n",
              "      <td>0</td>\n",
              "      <td>...</td>\n",
              "      <td>0</td>\n",
              "      <td>0</td>\n",
              "      <td>0</td>\n",
              "      <td>0</td>\n",
              "      <td>0</td>\n",
              "      <td>0</td>\n",
              "      <td>0</td>\n",
              "      <td>0</td>\n",
              "      <td>0</td>\n",
              "      <td>NaN</td>\n",
              "    </tr>\n",
              "    <tr>\n",
              "      <th>1817</th>\n",
              "      <td>Orofaringe</td>\n",
              "      <td>Guaviare</td>\n",
              "      <td>0</td>\n",
              "      <td>0</td>\n",
              "      <td>0</td>\n",
              "      <td>0</td>\n",
              "      <td>0</td>\n",
              "      <td>0</td>\n",
              "      <td>0</td>\n",
              "      <td>0</td>\n",
              "      <td>...</td>\n",
              "      <td>0</td>\n",
              "      <td>0</td>\n",
              "      <td>0</td>\n",
              "      <td>0</td>\n",
              "      <td>0</td>\n",
              "      <td>0</td>\n",
              "      <td>0</td>\n",
              "      <td>0</td>\n",
              "      <td>0</td>\n",
              "      <td>NaN</td>\n",
              "    </tr>\n",
              "    <tr>\n",
              "      <th>1818</th>\n",
              "      <td>Nasofaringe</td>\n",
              "      <td>Archipiélago de San Andrés. Providencia</td>\n",
              "      <td>0</td>\n",
              "      <td>0</td>\n",
              "      <td>0</td>\n",
              "      <td>0</td>\n",
              "      <td>0</td>\n",
              "      <td>0</td>\n",
              "      <td>0</td>\n",
              "      <td>0</td>\n",
              "      <td>...</td>\n",
              "      <td>1.4</td>\n",
              "      <td>0</td>\n",
              "      <td>0</td>\n",
              "      <td>0</td>\n",
              "      <td>0</td>\n",
              "      <td>0</td>\n",
              "      <td>0</td>\n",
              "      <td>0</td>\n",
              "      <td>0</td>\n",
              "      <td>NaN</td>\n",
              "    </tr>\n",
              "  </tbody>\n",
              "</table>\n",
              "<p>1819 rows × 25 columns</p>\n",
              "</div>\n",
              "    <div class=\"colab-df-buttons\">\n",
              "\n",
              "  <div class=\"colab-df-container\">\n",
              "    <button class=\"colab-df-convert\" onclick=\"convertToInteractive('df-9c1b5ce5-094c-41ec-8e8d-ee7b9c268a74')\"\n",
              "            title=\"Convert this dataframe to an interactive table.\"\n",
              "            style=\"display:none;\">\n",
              "\n",
              "  <svg xmlns=\"http://www.w3.org/2000/svg\" height=\"24px\" viewBox=\"0 -960 960 960\">\n",
              "    <path d=\"M120-120v-720h720v720H120Zm60-500h600v-160H180v160Zm220 220h160v-160H400v160Zm0 220h160v-160H400v160ZM180-400h160v-160H180v160Zm440 0h160v-160H620v160ZM180-180h160v-160H180v160Zm440 0h160v-160H620v160Z\"/>\n",
              "  </svg>\n",
              "    </button>\n",
              "\n",
              "  <style>\n",
              "    .colab-df-container {\n",
              "      display:flex;\n",
              "      gap: 12px;\n",
              "    }\n",
              "\n",
              "    .colab-df-convert {\n",
              "      background-color: #E8F0FE;\n",
              "      border: none;\n",
              "      border-radius: 50%;\n",
              "      cursor: pointer;\n",
              "      display: none;\n",
              "      fill: #1967D2;\n",
              "      height: 32px;\n",
              "      padding: 0 0 0 0;\n",
              "      width: 32px;\n",
              "    }\n",
              "\n",
              "    .colab-df-convert:hover {\n",
              "      background-color: #E2EBFA;\n",
              "      box-shadow: 0px 1px 2px rgba(60, 64, 67, 0.3), 0px 1px 3px 1px rgba(60, 64, 67, 0.15);\n",
              "      fill: #174EA6;\n",
              "    }\n",
              "\n",
              "    .colab-df-buttons div {\n",
              "      margin-bottom: 4px;\n",
              "    }\n",
              "\n",
              "    [theme=dark] .colab-df-convert {\n",
              "      background-color: #3B4455;\n",
              "      fill: #D2E3FC;\n",
              "    }\n",
              "\n",
              "    [theme=dark] .colab-df-convert:hover {\n",
              "      background-color: #434B5C;\n",
              "      box-shadow: 0px 1px 3px 1px rgba(0, 0, 0, 0.15);\n",
              "      filter: drop-shadow(0px 1px 2px rgba(0, 0, 0, 0.3));\n",
              "      fill: #FFFFFF;\n",
              "    }\n",
              "  </style>\n",
              "\n",
              "    <script>\n",
              "      const buttonEl =\n",
              "        document.querySelector('#df-9c1b5ce5-094c-41ec-8e8d-ee7b9c268a74 button.colab-df-convert');\n",
              "      buttonEl.style.display =\n",
              "        google.colab.kernel.accessAllowed ? 'block' : 'none';\n",
              "\n",
              "      async function convertToInteractive(key) {\n",
              "        const element = document.querySelector('#df-9c1b5ce5-094c-41ec-8e8d-ee7b9c268a74');\n",
              "        const dataTable =\n",
              "          await google.colab.kernel.invokeFunction('convertToInteractive',\n",
              "                                                    [key], {});\n",
              "        if (!dataTable) return;\n",
              "\n",
              "        const docLinkHtml = 'Like what you see? Visit the ' +\n",
              "          '<a target=\"_blank\" href=https://colab.research.google.com/notebooks/data_table.ipynb>data table notebook</a>'\n",
              "          + ' to learn more about interactive tables.';\n",
              "        element.innerHTML = '';\n",
              "        dataTable['output_type'] = 'display_data';\n",
              "        await google.colab.output.renderOutput(dataTable, element);\n",
              "        const docLink = document.createElement('div');\n",
              "        docLink.innerHTML = docLinkHtml;\n",
              "        element.appendChild(docLink);\n",
              "      }\n",
              "    </script>\n",
              "  </div>\n",
              "\n",
              "\n",
              "<div id=\"df-fd05e8d9-0908-4974-8d14-f72f2d40a6b1\">\n",
              "  <button class=\"colab-df-quickchart\" onclick=\"quickchart('df-fd05e8d9-0908-4974-8d14-f72f2d40a6b1')\"\n",
              "            title=\"Suggest charts\"\n",
              "            style=\"display:none;\">\n",
              "\n",
              "<svg xmlns=\"http://www.w3.org/2000/svg\" height=\"24px\"viewBox=\"0 0 24 24\"\n",
              "     width=\"24px\">\n",
              "    <g>\n",
              "        <path d=\"M19 3H5c-1.1 0-2 .9-2 2v14c0 1.1.9 2 2 2h14c1.1 0 2-.9 2-2V5c0-1.1-.9-2-2-2zM9 17H7v-7h2v7zm4 0h-2V7h2v10zm4 0h-2v-4h2v4z\"/>\n",
              "    </g>\n",
              "</svg>\n",
              "  </button>\n",
              "\n",
              "<style>\n",
              "  .colab-df-quickchart {\n",
              "      --bg-color: #E8F0FE;\n",
              "      --fill-color: #1967D2;\n",
              "      --hover-bg-color: #E2EBFA;\n",
              "      --hover-fill-color: #174EA6;\n",
              "      --disabled-fill-color: #AAA;\n",
              "      --disabled-bg-color: #DDD;\n",
              "  }\n",
              "\n",
              "  [theme=dark] .colab-df-quickchart {\n",
              "      --bg-color: #3B4455;\n",
              "      --fill-color: #D2E3FC;\n",
              "      --hover-bg-color: #434B5C;\n",
              "      --hover-fill-color: #FFFFFF;\n",
              "      --disabled-bg-color: #3B4455;\n",
              "      --disabled-fill-color: #666;\n",
              "  }\n",
              "\n",
              "  .colab-df-quickchart {\n",
              "    background-color: var(--bg-color);\n",
              "    border: none;\n",
              "    border-radius: 50%;\n",
              "    cursor: pointer;\n",
              "    display: none;\n",
              "    fill: var(--fill-color);\n",
              "    height: 32px;\n",
              "    padding: 0;\n",
              "    width: 32px;\n",
              "  }\n",
              "\n",
              "  .colab-df-quickchart:hover {\n",
              "    background-color: var(--hover-bg-color);\n",
              "    box-shadow: 0 1px 2px rgba(60, 64, 67, 0.3), 0 1px 3px 1px rgba(60, 64, 67, 0.15);\n",
              "    fill: var(--button-hover-fill-color);\n",
              "  }\n",
              "\n",
              "  .colab-df-quickchart-complete:disabled,\n",
              "  .colab-df-quickchart-complete:disabled:hover {\n",
              "    background-color: var(--disabled-bg-color);\n",
              "    fill: var(--disabled-fill-color);\n",
              "    box-shadow: none;\n",
              "  }\n",
              "\n",
              "  .colab-df-spinner {\n",
              "    border: 2px solid var(--fill-color);\n",
              "    border-color: transparent;\n",
              "    border-bottom-color: var(--fill-color);\n",
              "    animation:\n",
              "      spin 1s steps(1) infinite;\n",
              "  }\n",
              "\n",
              "  @keyframes spin {\n",
              "    0% {\n",
              "      border-color: transparent;\n",
              "      border-bottom-color: var(--fill-color);\n",
              "      border-left-color: var(--fill-color);\n",
              "    }\n",
              "    20% {\n",
              "      border-color: transparent;\n",
              "      border-left-color: var(--fill-color);\n",
              "      border-top-color: var(--fill-color);\n",
              "    }\n",
              "    30% {\n",
              "      border-color: transparent;\n",
              "      border-left-color: var(--fill-color);\n",
              "      border-top-color: var(--fill-color);\n",
              "      border-right-color: var(--fill-color);\n",
              "    }\n",
              "    40% {\n",
              "      border-color: transparent;\n",
              "      border-right-color: var(--fill-color);\n",
              "      border-top-color: var(--fill-color);\n",
              "    }\n",
              "    60% {\n",
              "      border-color: transparent;\n",
              "      border-right-color: var(--fill-color);\n",
              "    }\n",
              "    80% {\n",
              "      border-color: transparent;\n",
              "      border-right-color: var(--fill-color);\n",
              "      border-bottom-color: var(--fill-color);\n",
              "    }\n",
              "    90% {\n",
              "      border-color: transparent;\n",
              "      border-bottom-color: var(--fill-color);\n",
              "    }\n",
              "  }\n",
              "</style>\n",
              "\n",
              "  <script>\n",
              "    async function quickchart(key) {\n",
              "      const quickchartButtonEl =\n",
              "        document.querySelector('#' + key + ' button');\n",
              "      quickchartButtonEl.disabled = true;  // To prevent multiple clicks.\n",
              "      quickchartButtonEl.classList.add('colab-df-spinner');\n",
              "      try {\n",
              "        const charts = await google.colab.kernel.invokeFunction(\n",
              "            'suggestCharts', [key], {});\n",
              "      } catch (error) {\n",
              "        console.error('Error during call to suggestCharts:', error);\n",
              "      }\n",
              "      quickchartButtonEl.classList.remove('colab-df-spinner');\n",
              "      quickchartButtonEl.classList.add('colab-df-quickchart-complete');\n",
              "    }\n",
              "    (() => {\n",
              "      let quickchartButtonEl =\n",
              "        document.querySelector('#df-fd05e8d9-0908-4974-8d14-f72f2d40a6b1 button');\n",
              "      quickchartButtonEl.style.display =\n",
              "        google.colab.kernel.accessAllowed ? 'block' : 'none';\n",
              "    })();\n",
              "  </script>\n",
              "</div>\n",
              "    </div>\n",
              "  </div>\n"
            ]
          },
          "metadata": {},
          "execution_count": 5
        }
      ],
      "source": [
        "data"
      ]
    },
    {
      "cell_type": "markdown",
      "source": [
        "**info**"
      ],
      "metadata": {
        "id": "S_0aCyqO54pL"
      }
    },
    {
      "cell_type": "code",
      "source": [
        "data.info()"
      ],
      "metadata": {
        "colab": {
          "base_uri": "https://localhost:8080/"
        },
        "id": "6z5ZvSGw56ry",
        "outputId": "f3477a75-d68a-49a2-ecf7-41470fa054d1"
      },
      "execution_count": null,
      "outputs": [
        {
          "output_type": "stream",
          "name": "stdout",
          "text": [
            "<class 'pandas.core.frame.DataFrame'>\n",
            "RangeIndex: 1819 entries, 0 to 1818\n",
            "Data columns (total 25 columns):\n",
            " #   Column          Non-Null Count  Dtype \n",
            "---  ------          --------------  ----- \n",
            " 0   Tipo de Cáncer  1819 non-null   object\n",
            " 1   Localización    1819 non-null   object\n",
            " 2   1997            1819 non-null   object\n",
            " 3   1998            1819 non-null   object\n",
            " 4   1999            1819 non-null   object\n",
            " 5   2000            1819 non-null   object\n",
            " 6   2001            1819 non-null   object\n",
            " 7   2002            1819 non-null   object\n",
            " 8   2003            1819 non-null   object\n",
            " 9   2004            1819 non-null   object\n",
            " 10  2005            1819 non-null   object\n",
            " 11  2006            1819 non-null   object\n",
            " 12  2007            1819 non-null   object\n",
            " 13  2008            1819 non-null   object\n",
            " 14  2009            1819 non-null   object\n",
            " 15  2010            1819 non-null   object\n",
            " 16  2011            1819 non-null   object\n",
            " 17  2012            1819 non-null   object\n",
            " 18  2013            1819 non-null   object\n",
            " 19  2014            1819 non-null   object\n",
            " 20  2015            1819 non-null   object\n",
            " 21  2016            1819 non-null   object\n",
            " 22  2017            1819 non-null   object\n",
            " 23  2018            1819 non-null   object\n",
            " 24  2019            1806 non-null   object\n",
            "dtypes: object(25)\n",
            "memory usage: 355.4+ KB\n"
          ]
        }
      ]
    },
    {
      "cell_type": "markdown",
      "source": [
        "- Para el año 2019 se presentan valores nulos"
      ],
      "metadata": {
        "id": "HEUckEf16A67"
      }
    },
    {
      "cell_type": "code",
      "source": [
        "len(data['Tipo de Cáncer'].unique()), len(data['Localización'].unique())"
      ],
      "metadata": {
        "colab": {
          "base_uri": "https://localhost:8080/"
        },
        "id": "AEevfJnE4AMM",
        "outputId": "8cdaa187-9137-4707-8287-c517b870b5df"
      },
      "execution_count": null,
      "outputs": [
        {
          "output_type": "execute_result",
          "data": {
            "text/plain": [
              "(55, 38)"
            ]
          },
          "metadata": {},
          "execution_count": 7
        }
      ]
    },
    {
      "cell_type": "markdown",
      "source": [
        "- Se presentan 55 tipos de cánceres\n",
        "- La localización incluye 38 localizaciones entre departamentos, la capital y las zonas insulares."
      ],
      "metadata": {
        "id": "HYubp5vl6ev7"
      }
    },
    {
      "cell_type": "code",
      "source": [
        "(data['2019'].isnull().sum() / data.shape[0]) * 100"
      ],
      "metadata": {
        "colab": {
          "base_uri": "https://localhost:8080/"
        },
        "id": "BcUKmjAP66qK",
        "outputId": "e976b7ab-5e54-4496-d3b6-af5469649190"
      },
      "execution_count": null,
      "outputs": [
        {
          "output_type": "execute_result",
          "data": {
            "text/plain": [
              "0.7146783947223749"
            ]
          },
          "metadata": {},
          "execution_count": 8
        }
      ]
    },
    {
      "cell_type": "markdown",
      "source": [
        "- El 0.7% de valores nulos en la columna 2019"
      ],
      "metadata": {
        "id": "FVMFZ52J7Gu1"
      }
    },
    {
      "cell_type": "markdown",
      "source": [
        "**Inputación de valores nulos**\n"
      ],
      "metadata": {
        "id": "Yu__jWCK7vir"
      }
    },
    {
      "cell_type": "code",
      "source": [
        "data['2019'] = data['2019'].fillna(0)"
      ],
      "metadata": {
        "id": "dqI0kxBQ6eXD"
      },
      "execution_count": null,
      "outputs": []
    },
    {
      "cell_type": "markdown",
      "source": [
        "Por cuestiones del ejercicio y de su propósito se opta en no agrupar por el tipo de cáncer o el departamento, ni pivotar. La idea es reducir la dimensión del conjunto de datos en unos cuantos componentes que capturen la mayoría de la información del conjunto de datos."
      ],
      "metadata": {
        "id": "IbPTZcdK6SFD"
      }
    },
    {
      "cell_type": "markdown",
      "source": [
        "# **data split**\n",
        "\n",
        "---\n",
        "\n"
      ],
      "metadata": {
        "id": "p9DKGP1g9b46"
      }
    },
    {
      "cell_type": "code",
      "source": [
        "X_data = data.iloc[:, 2:]"
      ],
      "metadata": {
        "id": "Zuy76K_t9Zdb"
      },
      "execution_count": null,
      "outputs": []
    },
    {
      "cell_type": "code",
      "source": [
        "data_df, final_pca, info = componentes_principales(\n",
        "    X_data,\n",
        "    min_explained_variance=0.85,\n",
        "    min_component=3)"
      ],
      "metadata": {
        "id": "nYddvm-v9DNU"
      },
      "execution_count": null,
      "outputs": []
    },
    {
      "cell_type": "code",
      "source": [
        "info"
      ],
      "metadata": {
        "colab": {
          "base_uri": "https://localhost:8080/",
          "height": 36
        },
        "id": "iuCmOWEM9x70",
        "outputId": "ecf3fa1c-e414-4214-ff2f-ed25b2ab4631"
      },
      "execution_count": null,
      "outputs": [
        {
          "output_type": "execute_result",
          "data": {
            "text/plain": [
              "'Using 3 components, we can explain 0.983914584771233% of the variability  in the original data.'"
            ],
            "application/vnd.google.colaboratory.intrinsic+json": {
              "type": "string"
            }
          },
          "metadata": {},
          "execution_count": 12
        }
      ]
    },
    {
      "cell_type": "code",
      "source": [
        "final_pca.n_components"
      ],
      "metadata": {
        "colab": {
          "base_uri": "https://localhost:8080/"
        },
        "id": "M3M_yjyp-TOb",
        "outputId": "2c9ddf5c-d094-404b-92a1-90fffc03f031"
      },
      "execution_count": null,
      "outputs": [
        {
          "output_type": "execute_result",
          "data": {
            "text/plain": [
              "3"
            ]
          },
          "metadata": {},
          "execution_count": 13
        }
      ]
    },
    {
      "cell_type": "code",
      "source": [
        "def scree_plot(\n",
        "    final_pca:object,\n",
        "    paleta,\n",
        "    size:tuple=(10,5),\n",
        "    title:str='Scree Plot'\n",
        "    )->None:\n",
        "  \"\"\"Permite visualizar la varianza de cada componente\"\"\"\n",
        "  number_components = final_pca.n_components\n",
        "  principal_components = [f'PC{i+1}' for i in range(number_components)]\n",
        "  explained_variance = final_pca.explained_variance_ratio_\n",
        "  cumulative_variance = np.cumsum(explained_variance)\n",
        "  plt.figure(figsize = size)\n",
        "  plt.bar(principal_components, explained_variance, color=paleta[0])\n",
        "  plt.plot(\n",
        "      principal_components,\n",
        "      cumulative_variance,\n",
        "      'o-',\n",
        "      linewidth=2,\n",
        "      color=paleta[1])\n",
        "\n",
        "  for i,j in zip(principal_components, cumulative_variance):\n",
        "    plt.annotate(str(round(j,2)), xy=(i, j))\n",
        "  plt.title(title)\n",
        "  plt.xlabel('Principal Components')\n",
        "  plt.ylabel('Explained Variance')\n",
        "  plt.show()\n",
        "\n"
      ],
      "metadata": {
        "id": "d5CQ-VQkAT_b"
      },
      "execution_count": null,
      "outputs": []
    },
    {
      "cell_type": "code",
      "source": [
        "scree_plot.__doc__"
      ],
      "metadata": {
        "colab": {
          "base_uri": "https://localhost:8080/",
          "height": 36
        },
        "id": "1r94VfCGIBah",
        "outputId": "08e0e088-e250-440f-b2d8-2368fac4ac1c"
      },
      "execution_count": null,
      "outputs": [
        {
          "output_type": "execute_result",
          "data": {
            "text/plain": [
              "'Permite visualizar la varianza de cada componente'"
            ],
            "application/vnd.google.colaboratory.intrinsic+json": {
              "type": "string"
            }
          },
          "metadata": {},
          "execution_count": 15
        }
      ]
    },
    {
      "cell_type": "code",
      "source": [
        "scree_plot(final_pca, paleta, title='Scree Plot PCA')"
      ],
      "metadata": {
        "colab": {
          "base_uri": "https://localhost:8080/",
          "height": 496
        },
        "id": "1oUYBdpsE8eU",
        "outputId": "1bb65a2d-1cd5-419f-f18e-23da6bfd97b6"
      },
      "execution_count": null,
      "outputs": [
        {
          "output_type": "display_data",
          "data": {
            "text/plain": [
              "<Figure size 1000x500 with 1 Axes>"
            ],
            "image/png": "[encoded data removed]"
          },
          "metadata": {}
        }
      ]
    },
    {
      "cell_type": "markdown",
      "source": [
        "Se aprecia que el primer componente PC1 explica la mayor parte de la varianza del conjunto de datos original."
      ],
      "metadata": {
        "id": "YC6qarGII3ma"
      }
    },
    {
      "cell_type": "code",
      "source": [
        "pca_components = pd.DataFrame(\n",
        "    final_pca.components_,\n",
        "    columns = X_data.columns,\n",
        "    index=[1, 2, 3])\n",
        "pca_components\n",
        "customPalette = sns.color_palette(\"mako\", as_cmap=True)\n",
        "plt.figure(figsize=(24,3))\n",
        "sns.heatmap(pca_components, cmap=customPalette, annot=True)\n",
        "plt.show()"
      ],
      "metadata": {
        "colab": {
          "base_uri": "https://localhost:8080/",
          "height": 296
        },
        "id": "-gm5OmHzI4OC",
        "outputId": "7b240981-9b1e-4013-d89f-4b445e0b02a2"
      },
      "execution_count": 48,
      "outputs": [
        {
          "output_type": "display_data",
          "data": {
            "text/plain": [
              "<Figure size 2400x300 with 2 Axes>"
            ],
            "image/png": "[encoded data removed]"
          },
          "metadata": {}
        }
      ]
    },
    {
      "cell_type": "markdown",
      "source": [
        "- Se observa que las características se encuentra al tamente correlacionadas con el primer componente en comparación con el resto de componentes.\n",
        "- Además, puede observar que algunas funciones están directamente correlacionadas entre sí y PCA aporta el beneficio adicional de eliminar la multicolinealidad entre estas funciones.\n",
        "- Se puede apreciar que las variables de 1997 - 2002 aportan mayor información con respecto al componente 2\n",
        "- Con respecto al componente 3, los años 2003-2010 son los que aportan mayor información."
      ],
      "metadata": {
        "id": "-x5FDlatMoH7"
      }
    }
  ]
}