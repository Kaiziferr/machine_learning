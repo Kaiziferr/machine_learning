{
  "nbformat": 4,
  "nbformat_minor": 0,
  "metadata": {
    "colab": {
      "name": "01_workshop_normality_analysis.ipynb",
      "provenance": [],
      "authorship_tag": "ABX9TyMxNcmXVC9decEvMOwhbVi/",
      "include_colab_link": true
    },
    "kernelspec": {
      "name": "python3",
      "display_name": "Python 3"
    },
    "language_info": {
      "name": "python"
    }
  },
  "cells": [
    {
      "cell_type": "markdown",
      "metadata": {
        "id": "view-in-github",
        "colab_type": "text"
      },
      "source": [
        "<a href=\"https://colab.research.google.com/github/Kaiziferr/machine_learning/blob/main/EDA/normality_analysis/01_workshop_normality_analysis.ipynb\" target=\"_parent\"><img src=\"https://colab.research.google.com/assets/colab-badge.svg\" alt=\"Open In Colab\"/></a>"
      ]
    },
    {
      "cell_type": "code",
      "execution_count": null,
      "metadata": {
        "colab": {
          "base_uri": "https://localhost:8080/"
        },
        "id": "3uHYjoHVzM0f",
        "outputId": "41a25248-bc29-4751-8ffe-c132f21d2bd9"
      },
      "outputs": [
        {
          "output_type": "stream",
          "name": "stderr",
          "text": [
            "/usr/local/lib/python3.7/dist-packages/statsmodels/tools/_testing.py:19: FutureWarning: pandas.util.testing is deprecated. Use the functions in the public API at pandas.testing instead.\n",
            "  import pandas.util.testing as tm\n"
          ]
        }
      ],
      "source": [
        "import pandas as pd\n",
        "import numpy as np\n",
        "\n",
        "import matplotlib.pyplot as plt\n",
        "import seaborn as sns\n",
        "\n",
        "import statsmodels.api as sm\n",
        "from scipy import stats\n",
        "\n",
        "import warnings\n",
        "warnings.filterwarnings(\"ignore\", category=DeprecationWarning)"
      ]
    },
    {
      "cell_type": "markdown",
      "source": [
        "# **Data**\n",
        "---\n",
        "- Contiene información recogida por Nancy Howell a finales de la década de 1960 sobre el pueblo !Kung San, que viven en el desierto de Kalahari entre Botsuana, Namibia y Angola.\n"
      ],
      "metadata": {
        "id": "-0j_p8wC1TFf"
      }
    },
    {
      "cell_type": "code",
      "source": [
        "url = 'https://raw.githubusercontent.com/JoaquinAmatRodrigo/Estadistica-machine-learning-python/master/data/Howell1.csv'\n",
        "data = pd.read_csv(url)"
      ],
      "metadata": {
        "id": "UVZhaTJP1WfY"
      },
      "execution_count": null,
      "outputs": []
    },
    {
      "cell_type": "markdown",
      "source": [
        "- No hay valores nulos\n",
        "- Todas las variables son cuantitativas"
      ],
      "metadata": {
        "id": "GPTQ9u221z2Y"
      }
    },
    {
      "cell_type": "code",
      "source": [
        "data.info()"
      ],
      "metadata": {
        "colab": {
          "base_uri": "https://localhost:8080/"
        },
        "id": "dtpDqT-O1eA2",
        "outputId": "4ddd30d1-7a53-414b-af4c-34f875ae34f6"
      },
      "execution_count": null,
      "outputs": [
        {
          "output_type": "stream",
          "name": "stdout",
          "text": [
            "<class 'pandas.core.frame.DataFrame'>\n",
            "RangeIndex: 544 entries, 0 to 543\n",
            "Data columns (total 4 columns):\n",
            " #   Column  Non-Null Count  Dtype  \n",
            "---  ------  --------------  -----  \n",
            " 0   height  544 non-null    float64\n",
            " 1   weight  544 non-null    float64\n",
            " 2   age     544 non-null    float64\n",
            " 3   male    544 non-null    int64  \n",
            "dtypes: float64(3), int64(1)\n",
            "memory usage: 17.1 KB\n"
          ]
        }
      ]
    },
    {
      "cell_type": "markdown",
      "source": [
        "- Acorde al instructor, se debe seleccionar los hombres mayores de 15 años"
      ],
      "metadata": {
        "id": "Zyv1R_5R14zh"
      }
    },
    {
      "cell_type": "code",
      "source": [
        "data_male = data[(data.age>15) & (data.male==0)]\n",
        "peso = data_male['weight']"
      ],
      "metadata": {
        "id": "wVs7v-_K2RZ6"
      },
      "execution_count": null,
      "outputs": []
    },
    {
      "cell_type": "markdown",
      "source": [
        "# **Métodos gráficos**\n",
        "---"
      ],
      "metadata": {
        "id": "aoPiZjl62pyd"
      }
    },
    {
      "cell_type": "code",
      "source": [
        "# Histograma + curva normal teorica\n",
        "# - La distribución tiene una desviación con respecto a la media, posiblemente sea por las unidades\n",
        "mu, sigma = stats.norm.fit(peso)\n",
        "mu, sigma"
      ],
      "metadata": {
        "colab": {
          "base_uri": "https://localhost:8080/"
        },
        "id": "GNbRdQIz2ppC",
        "outputId": "b6417fdb-bdc4-4e6a-ada4-f462a2e503c6"
      },
      "execution_count": null,
      "outputs": [
        {
          "output_type": "execute_result",
          "data": {
            "text/plain": [
              "(41.38615752272728, 5.737813252284781)"
            ]
          },
          "metadata": {},
          "execution_count": 6
        }
      ]
    },
    {
      "cell_type": "code",
      "source": [
        "# Valores teóricos de la normal en el rango observado => Formula de la estandarización\n",
        "x_hat = np.linspace(min(peso), max(peso), num = 100)\n",
        "y_hat = stats.norm.pdf(x_hat, mu, sigma)"
      ],
      "metadata": {
        "id": "Yh0_f5Hl2QeH"
      },
      "execution_count": null,
      "outputs": []
    },
    {
      "cell_type": "code",
      "source": [
        "fig, ax = plt.subplots(figsize = (7, 4))\n",
        "ax.plot(x_hat, y_hat, linewidth = 2, label = 'normal')\n",
        "ax.hist(x = peso, density=True, bins=30, color='blue', alpha = 0.2)\n",
        "ax.plot(peso, np.full_like(peso, -0.01), '|k', markeredgewidth=1)\n",
        "ax.set_title('Distribución peso mujeres mayores de 15 años')\n",
        "ax.set_xlabel('peso')\n",
        "ax.set_ylabel('Densidad de probabilidad')\n",
        "ax.legend();"
      ],
      "metadata": {
        "colab": {
          "base_uri": "https://localhost:8080/",
          "height": 295
        },
        "id": "GSU2pZHd1ovs",
        "outputId": "f5950a61-9633-403a-885f-747c8777554d"
      },
      "execution_count": null,
      "outputs": [
        {
          "output_type": "display_data",
          "data": {
            "image/png": "[encoded data removed]",
            "text/plain": [
              "<Figure size 504x288 with 1 Axes>"
            ]
          },
          "metadata": {
            "needs_background": "light"
          }
        }
      ]
    },
    {
      "cell_type": "code",
      "source": [
        "fig, ax = plt.subplots(figsize = (7,4))\n",
        "\n",
        "sm.qqplot(\n",
        "    peso,\n",
        "    fit   = True,\n",
        "    line  = 'q',\n",
        "    alpha = 0.2,\n",
        "    lw    = 2,\n",
        "    ax    = ax\n",
        ")\n",
        "\n",
        "ax.set_title('Gráfico Q-Q del peso mujeres mayores de 15 años', fontsize = 10, fontweight = \"bold\")\n",
        "ax.tick_params(labelsize = 7)"
      ],
      "metadata": {
        "colab": {
          "base_uri": "https://localhost:8080/",
          "height": 290
        },
        "id": "PMKVqJ2H3v24",
        "outputId": "bfcdbba6-39e0-4ee4-922e-24c684682f36"
      },
      "execution_count": null,
      "outputs": [
        {
          "output_type": "display_data",
          "data": {
            "image/png": "[encoded data removed]",
            "text/plain": [
              "<Figure size 504x288 with 1 Axes>"
            ]
          },
          "metadata": {
            "needs_background": "light"
          }
        }
      ]
    },
    {
      "cell_type": "markdown",
      "source": [
        "- El análisis gráfico parece indicar que los datos siguen una distribución normal.\n"
      ],
      "metadata": {
        "id": "BogPShvl34zt"
      }
    },
    {
      "cell_type": "markdown",
      "source": [
        "# **Métodos analíticos asimetría y curtosis**\n",
        "---\n",
        " Un valor de curtosis y/o coeficiente de asimetría entre -1 y 1, es generalmente considerada una ligera desviación de la normalidad (Bulmer, 1979), (Brown, n.d.). Entre -2 y 2 hay una evidente desviación de la normal pero no extrema.\n"
      ],
      "metadata": {
        "id": "l_5PNy89390j"
      }
    },
    {
      "cell_type": "code",
      "source": [
        "print('Kursotis:', stats.kurtosis(peso))\n",
        "print('Skewness:', stats.skew(peso))"
      ],
      "metadata": {
        "colab": {
          "base_uri": "https://localhost:8080/"
        },
        "id": "bmg5zG144FNX",
        "outputId": "eeea4c85-099f-4297-8a2e-a6f2353c7861"
      },
      "execution_count": null,
      "outputs": [
        {
          "output_type": "stream",
          "name": "stdout",
          "text": [
            "Kursotis: 0.05524614843093856\n",
            "Skewness: 0.032122514283202334\n"
          ]
        }
      ]
    },
    {
      "cell_type": "markdown",
      "source": [
        "- La distribución está normalizada"
      ],
      "metadata": {
        "id": "R3WTK2vR4MYV"
      }
    },
    {
      "cell_type": "markdown",
      "source": [
        "# **Contraste de hipótesis**\n",
        "---\n",
        "\n"
      ],
      "metadata": {
        "id": "4C_KLZZ34il5"
      }
    },
    {
      "cell_type": "code",
      "source": [
        "# Shapiro-Wilk test\n",
        "# ShapiroResult(statistic, pvalue)\n",
        "shapiro_test = stats.shapiro(peso)\n",
        "print(f'p-value = {shapiro_test[0]}')"
      ],
      "metadata": {
        "colab": {
          "base_uri": "https://localhost:8080/"
        },
        "id": "4JpmZbqb4Yzz",
        "outputId": "73f4a017-4dbb-4c4e-b72d-1e68754003ce"
      },
      "execution_count": null,
      "outputs": [
        {
          "output_type": "stream",
          "name": "stdout",
          "text": [
            "p-value = 0.9963726997375488\n"
          ]
        }
      ]
    },
    {
      "cell_type": "code",
      "source": [
        "# D'Agostino's K-squared test\n",
        "k2, p_value = stats.normaltest(peso)\n",
        "print(f'Estadístico = {k2}, p-value = {p_value}')"
      ],
      "metadata": {
        "colab": {
          "base_uri": "https://localhost:8080/"
        },
        "id": "GXiBdd1l41ZT",
        "outputId": "7faa2c35-aa7e-4039-f3a9-f2be40b0dc87"
      },
      "execution_count": null,
      "outputs": [
        {
          "output_type": "stream",
          "name": "stdout",
          "text": [
            "Estadístico = 0.19896549779904893, p-value = 0.9053055672511008\n"
          ]
        }
      ]
    },
    {
      "cell_type": "markdown",
      "source": [
        "Ninguno de los metodos, muestra evidencias para rechazar la hipotesis nula, por lo tanto los datos se distribuyen de forma normal, puesto que p-value es aproximadamente a 1."
      ],
      "metadata": {
        "id": "dH8bcXoZ44FL"
      }
    }
  ]
}