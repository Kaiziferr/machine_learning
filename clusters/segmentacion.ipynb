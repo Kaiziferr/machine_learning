{
  "nbformat": 4,
  "nbformat_minor": 0,
  "metadata": {
    "colab": {
      "provenance": [],
      "authorship_tag": "ABX9TyPZhSk5Rfuwu7cQP12ALMAF",
      "include_colab_link": true
    },
    "kernelspec": {
      "name": "python3",
      "display_name": "Python 3"
    },
    "language_info": {
      "name": "python"
    }
  },
  "cells": [
    {
      "cell_type": "markdown",
      "metadata": {
        "id": "view-in-github",
        "colab_type": "text"
      },
      "source": [
        "<a href=\"https://colab.research.google.com/github/Kaiziferr/machine_learning/blob/main/clusters/segmentacion.ipynb\" target=\"_parent\"><img src=\"https://colab.research.google.com/assets/colab-badge.svg\" alt=\"Open In Colab\"/></a>"
      ]
    },
    {
      "cell_type": "code",
      "source": [
        "!pip install kneed\n",
        "!pip install scikit-learn-extra"
      ],
      "metadata": {
        "colab": {
          "base_uri": "https://localhost:8080/"
        },
        "id": "a1nLQ5KklDHq",
        "outputId": "508609fe-776f-4e3d-add1-56140e757a93"
      },
      "execution_count": 1,
      "outputs": [
        {
          "output_type": "stream",
          "name": "stdout",
          "text": [
            "Requirement already satisfied: kneed in /usr/local/lib/python3.10/dist-packages (0.8.3)\n",
            "Requirement already satisfied: numpy>=1.14.2 in /usr/local/lib/python3.10/dist-packages (from kneed) (1.22.4)\n",
            "Requirement already satisfied: scipy>=1.0.0 in /usr/local/lib/python3.10/dist-packages (from kneed) (1.10.1)\n",
            "Requirement already satisfied: scikit-learn-extra in /usr/local/lib/python3.10/dist-packages (0.3.0)\n",
            "Requirement already satisfied: numpy>=1.13.3 in /usr/local/lib/python3.10/dist-packages (from scikit-learn-extra) (1.22.4)\n",
            "Requirement already satisfied: scipy>=0.19.1 in /usr/local/lib/python3.10/dist-packages (from scikit-learn-extra) (1.10.1)\n",
            "Requirement already satisfied: scikit-learn>=0.23.0 in /usr/local/lib/python3.10/dist-packages (from scikit-learn-extra) (1.2.2)\n",
            "Requirement already satisfied: joblib>=1.1.1 in /usr/local/lib/python3.10/dist-packages (from scikit-learn>=0.23.0->scikit-learn-extra) (1.2.0)\n",
            "Requirement already satisfied: threadpoolctl>=2.0.0 in /usr/local/lib/python3.10/dist-packages (from scikit-learn>=0.23.0->scikit-learn-extra) (3.1.0)\n"
          ]
        }
      ]
    },
    {
      "cell_type": "code",
      "execution_count": 2,
      "metadata": {
        "id": "xXe91xlDY_9G"
      },
      "outputs": [],
      "source": [
        "import pandas as pd\n",
        "import numpy as np\n",
        "import seaborn as sns\n",
        "\n",
        "import matplotlib.pyplot as plt\n",
        "from unicodedata import normalize\n",
        "from matplotlib.colors import ListedColormap\n",
        "\n",
        "from sklearn.cluster import KMeans, MeanShift, AffinityPropagation\n",
        "\n",
        "from kneed import KneeLocator\n",
        "from sklearn.metrics import silhouette_score\n",
        "\n",
        "from sklearn.metrics import silhouette_score, silhouette_samples\n",
        "import matplotlib.pyplot as plt"
      ]
    },
    {
      "cell_type": "code",
      "source": [
        "def visulization_silhouette(data, y_predict, name, colores):\n",
        "  \"\"\"Visualiza el coeficiente de silhouette\"\"\"\n",
        "  silhouette_avg=silhouette_score(data, y_predict)\n",
        "  sample_silhouette_values = silhouette_samples(data, y_predict)\n",
        "  y_lower = 5\n",
        "  fig, ax1 = plt.subplots(1, 1, figsize=(10,10))\n",
        "  n_clusters = np.unique(y_predict).shape[0]\n",
        "  ax1.set_ylim([0, len(data) + (n_clusters + 1) * 10])\n",
        "  for i in np.unique(y_predict):\n",
        "\n",
        "    # Agregue las puntuaciones de silueta para muestras pertenecientes a\n",
        "    # agrupe i, y ordénelos\n",
        "    ith_cluster_silhouette_values = \\\n",
        "        sample_silhouette_values[y_predict == i]\n",
        "\n",
        "    ith_cluster_silhouette_values.sort()\n",
        "\n",
        "    size_cluster_i = ith_cluster_silhouette_values.shape[0]\n",
        "    y_upper = y_lower + size_cluster_i\n",
        "\n",
        "    try:\n",
        "      ax1.fill_betweenx(np.arange(y_lower, y_upper),\n",
        "                      0, ith_cluster_silhouette_values,\n",
        "                      facecolor=colores[i], edgecolor=colores[i], alpha=0.7)\n",
        "    except:\n",
        "      pass\n",
        "    # Etiquete las parcelas de silueta con sus números de grupo en el medio\n",
        "    ax1.text(-0.05, y_lower + 0.5 * size_cluster_i, str(i))\n",
        "\n",
        "    # Calcule el nuevo y_lower para la siguiente parcela\n",
        "    y_lower = y_upper + 10  # 10 para las 0 muestras\n",
        "  ax1.axvline(x=silhouette_avg, color=\"red\", linestyle=\"--\")\n",
        "  ax1.set_title(\"The silhouette plot for the various clusters.\")\n",
        "  ax1.set_xlabel(\"The silhouette coefficient values\")\n",
        "  ax1.set_ylabel(\"Cluster label\")\n",
        "  plt.suptitle((f\"Silhouette analysis for {name} clustering on sample data \"\n",
        "                  f\"with n_clusters = {n_clusters}\" ),\n",
        "                 fontsize=14, fontweight='bold')\n",
        "\n",
        "# colores=['blue','red','yellow','orange','black','pink','brown','purple']\n",
        "# visulization_silhouette(cluster_df, y_predict, 'Fyzzy', colores)"
      ],
      "metadata": {
        "id": "3gSuvg8pL42b"
      },
      "execution_count": 3,
      "outputs": []
    },
    {
      "cell_type": "code",
      "source": [
        "def normalize_word(word):\n",
        "  \"\"\"Normaliza palabras\"\"\"\n",
        "  word = word.replace(' ', '_')\n",
        "  find_guion = word.find('_')\n",
        "  list_word = []\n",
        "  if find_guion:\n",
        "    list_word = [w for w in word.split('_') if w != '']\n",
        "  else:\n",
        "    list_word = word\n",
        "  word = list(map(lambda x: x.lower(), list_word))\n",
        "  word = [normalize('NFKD', c).encode('ASCII', 'ignore').decode() for c in word]\n",
        "  word = \"_\".join(word)\n",
        "  return word\n",
        "\n",
        "def normalize_name_columns(columns):\n",
        "  \"\"\"Normaliza columnas\"\"\"\n",
        "  columns = list(map(lambda x: normalize_word(x), columns))\n",
        "  return columns\n",
        "\n",
        "\n",
        "def generate_colors(paleta=\"Set1\", n_colors=15):\n",
        "  \"\"\"Generador de colores\"\"\"\n",
        "  cmap = sns.color_palette(paleta, n_colors).as_hex()\n",
        "  list_camap = ListedColormap(cmap)\n",
        "  return cmap, list_camap\n",
        "\n",
        "def pie_circle(serie:pd.Series, paleta=None, figsize_x:int=7, figsize_y:int=7,fontsize=15,**kwards)->None:\n",
        "  paleta = paleta if paleta !=None else generate_colors()[0]\n",
        "  values = serie.value_counts().sort_index()\n",
        "  names = values.index\n",
        "  size = values.values\n",
        "  fig, ax = plt.subplots(figsize=(figsize_x, figsize_y))\n",
        "  fig.suptitle(f'Diagrama de anillo {kwards[\"title\"]}', fontsize=fontsize)\n",
        "  my_circle = plt.Circle( (0,0), 0.7, color='white')\n",
        "  plt.pie(size, labels=names, autopct=\"%0.1f %%\", wedgeprops = { 'linewidth' : 7, 'edgecolor' : 'white' }, colors = paleta)\n",
        "  p = plt.gcf()\n",
        "  p.gca().add_artist(my_circle)\n",
        "  plt.show()\n",
        "\n",
        "paleta = {\n",
        "    0: 'blue',\n",
        "    1: 'red',\n",
        "    2: 'orange',\n",
        "    3: 'green',\n",
        "    4: 'pink',\n",
        "    5: 'black',\n",
        "    6: 'gray',\n",
        "    7: 'Cyan',\n",
        "}\n",
        "paleta = paleta.values()\n",
        "print(paleta)\n",
        "\n",
        "\n",
        "\n",
        "def plot_bar(data, paleta = None, figsize_x=8,figsize_y=5,fontsize=15, **kwards)->None:\n",
        "  \"\"\"Grafica un diagrama de barras con multiples caracteristicas\"\"\"\n",
        "  paleta = paleta if paleta !=None else generate_colors()[0]\n",
        "  v = kwards\n",
        "  ejeX = v['ejeX']\n",
        "\n",
        "\n",
        "  fig, ax = plt.subplots(figsize = (figsize_x, figsize_y))\n",
        "  fig.suptitle(f'Diagrama de barras {v[\"title\"]}', fontsize=fontsize)\n",
        "\n",
        "  if type(v['ejeX']) == str:\n",
        "    sns.countplot(x=ejeX, data=data, ax = ax, palette=paleta)\n",
        "  else:\n",
        "    ejeX = v['ejeX'][0]\n",
        "    sns.countplot(x=ejeX,hue=v['ejeX'][1], data=data, ax = ax, palette=paleta)\n",
        "\n",
        "\n",
        "  ax.set_ylabel(v['ejey'], size = 12)\n",
        "  ax.set_xlabel(ejeX, size=fontsize-3)\n",
        "  ax.set_xticklabels(ax.get_xticklabels(),fontsize = fontsize-3)\n",
        "  for p in ax.patches:\n",
        "    try:\n",
        "      height = int(p.get_height())\n",
        "      ax.text(p.get_x()+p.get_width()/2., height + 1,height, ha=\"center\")\n",
        "    except:\n",
        "      pass\n",
        "\n",
        "\n",
        "\n",
        "def plot_select_params(best_score, best_x_param, scores, x_params, **kwards):\n",
        "  fig, ax = plt.subplots(1, 1, figsize=(8, 5))\n",
        "  ax.plot(x_params, scores)\n",
        "  ax.plot(best_x_param, best_score, marker='o', color='r')\n",
        "  ax.axvline(x=best_x_param,  color='r')\n",
        "  ax.set_title(kwards['title'])\n",
        "  ax.set_xlabel(kwards['xlabel'])\n",
        "  ax.set_ylabel(kwards['ylabel'])\n",
        "\n",
        "\n",
        "def silhouette_select_cluster(model, clusters, data, **kwards):\n",
        "  \"\"\"Metodo silhouette\"\"\"\n",
        "  range_n_clusters = range(clusters[0], clusters[1])\n",
        "  valores_medios_silhouette = {}\n",
        "  for k in range_n_clusters:\n",
        "    model.n_clusters = k\n",
        "    model.fit(data)\n",
        "    y_predict = model.predict(data)\n",
        "    silhouette_avg = silhouette_score(data, y_predict)\n",
        "    valores_medios_silhouette[k] = silhouette_avg\n",
        "\n",
        "  x = list(range_n_clusters)\n",
        "  y = list(valores_medios_silhouette.values())\n",
        "  kneedle = KneeLocator(x, y, S=1.0, curve=\"concave\", direction=\"increasing\")\n",
        "\n",
        "  best_score = valores_medios_silhouette[kneedle.elbow]\n",
        "  best_cluster = kneedle.elbow\n",
        "\n",
        "  res_data = {\n",
        "      'score': best_score,\n",
        "      'cluster': best_cluster,\n",
        "  }\n",
        "  plot_select_params(best_score, best_cluster, y, range_n_clusters,\n",
        "                        title = f'Evolución de media de los índices silhouette {kwards[\"name_model\"]}',\n",
        "                        ylabel = 'Media índices silhouette',\n",
        "                        xlabel = 'Numero clusters')\n",
        "\n",
        "  return best_cluster, best_score\n",
        "# silhouette_select_cluster(fcm, (2,5), cluster_df, name_model = 'FUzzy')"
      ],
      "metadata": {
        "colab": {
          "base_uri": "https://localhost:8080/"
        },
        "id": "vjYSPNWgZkBc",
        "outputId": "fcf153eb-4166-4366-b92d-2142e70fc13b"
      },
      "execution_count": 4,
      "outputs": [
        {
          "output_type": "stream",
          "name": "stdout",
          "text": [
            "dict_values(['blue', 'red', 'orange', 'green', 'pink', 'black', 'gray', 'Cyan'])\n"
          ]
        }
      ]
    },
    {
      "cell_type": "code",
      "source": [
        "data = pd.read_csv('./data/Mineria_-_Materiales_extraidos_en_Colombia_2012_a_2017.csv')"
      ],
      "metadata": {
        "id": "x2fxU1fgZDAZ"
      },
      "execution_count": 5,
      "outputs": []
    },
    {
      "cell_type": "markdown",
      "source": [
        "**Estandar en nombres**\n"
      ],
      "metadata": {
        "id": "eRMWakGlazRn"
      }
    },
    {
      "cell_type": "code",
      "source": [
        "columns = normalize_name_columns(data.columns)\n",
        "data.columns = columns"
      ],
      "metadata": {
        "id": "QdR4jr8Payq-"
      },
      "execution_count": 6,
      "outputs": []
    },
    {
      "cell_type": "code",
      "source": [
        "data.head()"
      ],
      "metadata": {
        "colab": {
          "base_uri": "https://localhost:8080/",
          "height": 206
        },
        "id": "F3reypCGaXqz",
        "outputId": "14ffe7f7-12c5-4efa-bbc7-89461e978d18"
      },
      "execution_count": 7,
      "outputs": [
        {
          "output_type": "execute_result",
          "data": {
            "text/plain": [
              "  municipio_productor departamento        recurso_natural nombre_del_proyecto  \\\n",
              "0            Medellin    Antioquia               ARCILLAS         PRODUCTORES   \n",
              "1            Medellin    Antioquia     ARCILLAS CERAMICAS         PRODUCTORES   \n",
              "2            Medellin    Antioquia  ARCILLAS FERRUGINOSAS         PRODUCTORES   \n",
              "3            Medellin    Antioquia   ARCILLAS MISCELANEAS         PRODUCTORES   \n",
              "4            Medellin    Antioquia   ARCILLAS MISCELANEAS         PRODUCTORES   \n",
              "\n",
              "   ano_produccion    trimestre unidad_medida tipo_contraprestacion  \\\n",
              "0            2018  Trimestre 4     TONELADAS              REGALIAS   \n",
              "1            2014  Trimestre 4     TONELADAS              REGALIAS   \n",
              "2            2012  Trimestre 1     TONELADAS              REGALIAS   \n",
              "3            2019  Trimestre 1     TONELADAS              REGALIAS   \n",
              "4            2019  Trimestre 2     TONELADAS              REGALIAS   \n",
              "\n",
              "   valor_contraprestacion  cantidad_produccion  \n",
              "0                614258.0                 0.00  \n",
              "1               2036781.0             14381.00  \n",
              "2                836927.0             16308.00  \n",
              "3               5763839.0             33347.50  \n",
              "4               5802546.0             32484.78  "
            ],
            "text/html": [
              "\n",
              "  <div id=\"df-8af26c0d-8cb8-43c9-8afe-698fec9f2ef9\">\n",
              "    <div class=\"colab-df-container\">\n",
              "      <div>\n",
              "<style scoped>\n",
              "    .dataframe tbody tr th:only-of-type {\n",
              "        vertical-align: middle;\n",
              "    }\n",
              "\n",
              "    .dataframe tbody tr th {\n",
              "        vertical-align: top;\n",
              "    }\n",
              "\n",
              "    .dataframe thead th {\n",
              "        text-align: right;\n",
              "    }\n",
              "</style>\n",
              "<table border=\"1\" class=\"dataframe\">\n",
              "  <thead>\n",
              "    <tr style=\"text-align: right;\">\n",
              "      <th></th>\n",
              "      <th>municipio_productor</th>\n",
              "      <th>departamento</th>\n",
              "      <th>recurso_natural</th>\n",
              "      <th>nombre_del_proyecto</th>\n",
              "      <th>ano_produccion</th>\n",
              "      <th>trimestre</th>\n",
              "      <th>unidad_medida</th>\n",
              "      <th>tipo_contraprestacion</th>\n",
              "      <th>valor_contraprestacion</th>\n",
              "      <th>cantidad_produccion</th>\n",
              "    </tr>\n",
              "  </thead>\n",
              "  <tbody>\n",
              "    <tr>\n",
              "      <th>0</th>\n",
              "      <td>Medellin</td>\n",
              "      <td>Antioquia</td>\n",
              "      <td>ARCILLAS</td>\n",
              "      <td>PRODUCTORES</td>\n",
              "      <td>2018</td>\n",
              "      <td>Trimestre 4</td>\n",
              "      <td>TONELADAS</td>\n",
              "      <td>REGALIAS</td>\n",
              "      <td>614258.0</td>\n",
              "      <td>0.00</td>\n",
              "    </tr>\n",
              "    <tr>\n",
              "      <th>1</th>\n",
              "      <td>Medellin</td>\n",
              "      <td>Antioquia</td>\n",
              "      <td>ARCILLAS CERAMICAS</td>\n",
              "      <td>PRODUCTORES</td>\n",
              "      <td>2014</td>\n",
              "      <td>Trimestre 4</td>\n",
              "      <td>TONELADAS</td>\n",
              "      <td>REGALIAS</td>\n",
              "      <td>2036781.0</td>\n",
              "      <td>14381.00</td>\n",
              "    </tr>\n",
              "    <tr>\n",
              "      <th>2</th>\n",
              "      <td>Medellin</td>\n",
              "      <td>Antioquia</td>\n",
              "      <td>ARCILLAS FERRUGINOSAS</td>\n",
              "      <td>PRODUCTORES</td>\n",
              "      <td>2012</td>\n",
              "      <td>Trimestre 1</td>\n",
              "      <td>TONELADAS</td>\n",
              "      <td>REGALIAS</td>\n",
              "      <td>836927.0</td>\n",
              "      <td>16308.00</td>\n",
              "    </tr>\n",
              "    <tr>\n",
              "      <th>3</th>\n",
              "      <td>Medellin</td>\n",
              "      <td>Antioquia</td>\n",
              "      <td>ARCILLAS MISCELANEAS</td>\n",
              "      <td>PRODUCTORES</td>\n",
              "      <td>2019</td>\n",
              "      <td>Trimestre 1</td>\n",
              "      <td>TONELADAS</td>\n",
              "      <td>REGALIAS</td>\n",
              "      <td>5763839.0</td>\n",
              "      <td>33347.50</td>\n",
              "    </tr>\n",
              "    <tr>\n",
              "      <th>4</th>\n",
              "      <td>Medellin</td>\n",
              "      <td>Antioquia</td>\n",
              "      <td>ARCILLAS MISCELANEAS</td>\n",
              "      <td>PRODUCTORES</td>\n",
              "      <td>2019</td>\n",
              "      <td>Trimestre 2</td>\n",
              "      <td>TONELADAS</td>\n",
              "      <td>REGALIAS</td>\n",
              "      <td>5802546.0</td>\n",
              "      <td>32484.78</td>\n",
              "    </tr>\n",
              "  </tbody>\n",
              "</table>\n",
              "</div>\n",
              "      <button class=\"colab-df-convert\" onclick=\"convertToInteractive('df-8af26c0d-8cb8-43c9-8afe-698fec9f2ef9')\"\n",
              "              title=\"Convert this dataframe to an interactive table.\"\n",
              "              style=\"display:none;\">\n",
              "        \n",
              "  <svg xmlns=\"http://www.w3.org/2000/svg\" height=\"24px\"viewBox=\"0 0 24 24\"\n",
              "       width=\"24px\">\n",
              "    <path d=\"M0 0h24v24H0V0z\" fill=\"none\"/>\n",
              "    <path d=\"M18.56 5.44l.94 2.06.94-2.06 2.06-.94-2.06-.94-.94-2.06-.94 2.06-2.06.94zm-11 1L8.5 8.5l.94-2.06 2.06-.94-2.06-.94L8.5 2.5l-.94 2.06-2.06.94zm10 10l.94 2.06.94-2.06 2.06-.94-2.06-.94-.94-2.06-.94 2.06-2.06.94z\"/><path d=\"M17.41 7.96l-1.37-1.37c-.4-.4-.92-.59-1.43-.59-.52 0-1.04.2-1.43.59L10.3 9.45l-7.72 7.72c-.78.78-.78 2.05 0 2.83L4 21.41c.39.39.9.59 1.41.59.51 0 1.02-.2 1.41-.59l7.78-7.78 2.81-2.81c.8-.78.8-2.07 0-2.86zM5.41 20L4 18.59l7.72-7.72 1.47 1.35L5.41 20z\"/>\n",
              "  </svg>\n",
              "      </button>\n",
              "      \n",
              "  <style>\n",
              "    .colab-df-container {\n",
              "      display:flex;\n",
              "      flex-wrap:wrap;\n",
              "      gap: 12px;\n",
              "    }\n",
              "\n",
              "    .colab-df-convert {\n",
              "      background-color: #E8F0FE;\n",
              "      border: none;\n",
              "      border-radius: 50%;\n",
              "      cursor: pointer;\n",
              "      display: none;\n",
              "      fill: #1967D2;\n",
              "      height: 32px;\n",
              "      padding: 0 0 0 0;\n",
              "      width: 32px;\n",
              "    }\n",
              "\n",
              "    .colab-df-convert:hover {\n",
              "      background-color: #E2EBFA;\n",
              "      box-shadow: 0px 1px 2px rgba(60, 64, 67, 0.3), 0px 1px 3px 1px rgba(60, 64, 67, 0.15);\n",
              "      fill: #174EA6;\n",
              "    }\n",
              "\n",
              "    [theme=dark] .colab-df-convert {\n",
              "      background-color: #3B4455;\n",
              "      fill: #D2E3FC;\n",
              "    }\n",
              "\n",
              "    [theme=dark] .colab-df-convert:hover {\n",
              "      background-color: #434B5C;\n",
              "      box-shadow: 0px 1px 3px 1px rgba(0, 0, 0, 0.15);\n",
              "      filter: drop-shadow(0px 1px 2px rgba(0, 0, 0, 0.3));\n",
              "      fill: #FFFFFF;\n",
              "    }\n",
              "  </style>\n",
              "\n",
              "      <script>\n",
              "        const buttonEl =\n",
              "          document.querySelector('#df-8af26c0d-8cb8-43c9-8afe-698fec9f2ef9 button.colab-df-convert');\n",
              "        buttonEl.style.display =\n",
              "          google.colab.kernel.accessAllowed ? 'block' : 'none';\n",
              "\n",
              "        async function convertToInteractive(key) {\n",
              "          const element = document.querySelector('#df-8af26c0d-8cb8-43c9-8afe-698fec9f2ef9');\n",
              "          const dataTable =\n",
              "            await google.colab.kernel.invokeFunction('convertToInteractive',\n",
              "                                                     [key], {});\n",
              "          if (!dataTable) return;\n",
              "\n",
              "          const docLinkHtml = 'Like what you see? Visit the ' +\n",
              "            '<a target=\"_blank\" href=https://colab.research.google.com/notebooks/data_table.ipynb>data table notebook</a>'\n",
              "            + ' to learn more about interactive tables.';\n",
              "          element.innerHTML = '';\n",
              "          dataTable['output_type'] = 'display_data';\n",
              "          await google.colab.output.renderOutput(dataTable, element);\n",
              "          const docLink = document.createElement('div');\n",
              "          docLink.innerHTML = docLinkHtml;\n",
              "          element.appendChild(docLink);\n",
              "        }\n",
              "      </script>\n",
              "    </div>\n",
              "  </div>\n",
              "  "
            ]
          },
          "metadata": {},
          "execution_count": 7
        }
      ]
    },
    {
      "cell_type": "code",
      "source": [
        "data.info()"
      ],
      "metadata": {
        "colab": {
          "base_uri": "https://localhost:8080/"
        },
        "id": "pDGF-JGAbq9O",
        "outputId": "ed74e297-a7a2-425e-f41d-384801960958"
      },
      "execution_count": 8,
      "outputs": [
        {
          "output_type": "stream",
          "name": "stdout",
          "text": [
            "<class 'pandas.core.frame.DataFrame'>\n",
            "RangeIndex: 52312 entries, 0 to 52311\n",
            "Data columns (total 10 columns):\n",
            " #   Column                  Non-Null Count  Dtype  \n",
            "---  ------                  --------------  -----  \n",
            " 0   municipio_productor     52312 non-null  object \n",
            " 1   departamento            52312 non-null  object \n",
            " 2   recurso_natural         52312 non-null  object \n",
            " 3   nombre_del_proyecto     52312 non-null  object \n",
            " 4   ano_produccion          52312 non-null  int64  \n",
            " 5   trimestre               52312 non-null  object \n",
            " 6   unidad_medida           52312 non-null  object \n",
            " 7   tipo_contraprestacion   52312 non-null  object \n",
            " 8   valor_contraprestacion  52312 non-null  float64\n",
            " 9   cantidad_produccion     52312 non-null  float64\n",
            "dtypes: float64(2), int64(1), object(7)\n",
            "memory usage: 4.0+ MB\n"
          ]
        }
      ]
    },
    {
      "cell_type": "markdown",
      "source": [
        "- No hay valores nulos explicitos"
      ],
      "metadata": {
        "id": "gZ-6MjaBbxP2"
      }
    },
    {
      "cell_type": "code",
      "source": [
        "data['ano_produccion'].value_counts()"
      ],
      "metadata": {
        "colab": {
          "base_uri": "https://localhost:8080/"
        },
        "id": "zA7yu9QHdEFF",
        "outputId": "dff6be1c-fd56-4a2f-93b7-4a4c5cd7feac"
      },
      "execution_count": 9,
      "outputs": [
        {
          "output_type": "execute_result",
          "data": {
            "text/plain": [
              "2013    5543\n",
              "2017    5303\n",
              "2016    5252\n",
              "2018    5238\n",
              "2019    5058\n",
              "2014    4825\n",
              "2015    4769\n",
              "2012    4278\n",
              "2020    3872\n",
              "2021    3850\n",
              "2022    3586\n",
              "2023     738\n",
              "Name: ano_produccion, dtype: int64"
            ]
          },
          "metadata": {},
          "execution_count": 9
        }
      ]
    },
    {
      "cell_type": "code",
      "source": [
        "plot_bar(data, paleta=paleta, ejeX='ano_produccion',ejey='producción',title='producción transacciones mineras')\n"
      ],
      "metadata": {
        "colab": {
          "base_uri": "https://localhost:8080/",
          "height": 523
        },
        "id": "y6HMhRRdfEbX",
        "outputId": "280a7d90-c9ca-4125-ebb4-73a1e158ed00"
      },
      "execution_count": 10,
      "outputs": [
        {
          "output_type": "display_data",
          "data": {
            "text/plain": [
              "<Figure size 800x500 with 1 Axes>"
            ],
            "image/png": "[encoded data removed]"
          },
          "metadata": {}
        }
      ]
    },
    {
      "cell_type": "markdown",
      "source": [
        "Atributo o factor a segmentar: **nombre_del_proyecto**"
      ],
      "metadata": {
        "id": "nY2cllmmrCni"
      }
    },
    {
      "cell_type": "code",
      "source": [
        "data_muestra = data[data['ano_produccion'] == 2013]"
      ],
      "metadata": {
        "id": "v2R29IIWviNs"
      },
      "execution_count": 11,
      "outputs": []
    },
    {
      "cell_type": "code",
      "source": [
        "data_muestra"
      ],
      "metadata": {
        "colab": {
          "base_uri": "https://localhost:8080/",
          "height": 424
        },
        "id": "bMmU4V6Wv5tW",
        "outputId": "d0a43c0d-f706-45a4-ba3e-482f4cebad8b"
      },
      "execution_count": 12,
      "outputs": [
        {
          "output_type": "execute_result",
          "data": {
            "text/plain": [
              "      municipio_productor departamento       recurso_natural  \\\n",
              "7                Medellin    Antioquia  ARCILLAS MISCELANEAS   \n",
              "35               Medellin    Antioquia      ARENA DE CANTERA   \n",
              "38               Medellin    Antioquia      ARENA DE CANTERA   \n",
              "40               Medellin    Antioquia      ARENA DE CANTERA   \n",
              "43               Medellin    Antioquia      ARENA DE CANTERA   \n",
              "...                   ...          ...                   ...   \n",
              "52268      Puerto Carreño      Vichada          ARENA DE RIO   \n",
              "52285      Puerto Carreño      Vichada                GRAVAS   \n",
              "52301        La Primavera      Vichada                ARENAS   \n",
              "52302        La Primavera      Vichada                GRAVAS   \n",
              "52305            Cumaribo      Vichada         ARENAS NEGRAS   \n",
              "\n",
              "      nombre_del_proyecto  ano_produccion    trimestre   unidad_medida  \\\n",
              "7             PRODUCTORES            2013  Trimestre 4       TONELADAS   \n",
              "35            PRODUCTORES            2013  Trimestre 1  METROS CUBICOS   \n",
              "38            PRODUCTORES            2013  Trimestre 2  METROS CUBICOS   \n",
              "40            PRODUCTORES            2013  Trimestre 3  METROS CUBICOS   \n",
              "43            PRODUCTORES            2013  Trimestre 4  METROS CUBICOS   \n",
              "...                   ...             ...          ...             ...   \n",
              "52268         PRODUCTORES            2013  Trimestre 4  METROS CUBICOS   \n",
              "52285         PRODUCTORES            2013  Trimestre 4  METROS CUBICOS   \n",
              "52301         PRODUCTORES            2013  Trimestre 4  METROS CUBICOS   \n",
              "52302         PRODUCTORES            2013  Trimestre 4  METROS CUBICOS   \n",
              "52305         PRODUCTORES            2013  Trimestre 3      KILOGRAMOS   \n",
              "\n",
              "      tipo_contraprestacion  valor_contraprestacion  cantidad_produccion  \n",
              "7                  REGALIAS            1.328642e+07          93463.60000  \n",
              "35                 REGALIAS            1.428743e+06          14436.12203  \n",
              "38                 REGALIAS            1.376957e+06          13912.87405  \n",
              "40                 REGALIAS            2.613617e+06          26408.17300  \n",
              "43                 REGALIAS            1.956070e+06          19764.00000  \n",
              "...                     ...                     ...                  ...  \n",
              "52268              REGALIAS            6.755196e+04            400.00000  \n",
              "52285              REGALIAS            3.000000e+04            100.00000  \n",
              "52301              REGALIAS            3.781140e+05              0.00000  \n",
              "52302              REGALIAS            1.812540e+05              0.00000  \n",
              "52305              REGALIAS            1.692060e+06          19620.68000  \n",
              "\n",
              "[5543 rows x 10 columns]"
            ],
            "text/html": [
              "\n",
              "  <div id=\"df-3f06f3b0-01ad-4ebb-8969-fa291fb51c69\">\n",
              "    <div class=\"colab-df-container\">\n",
              "      <div>\n",
              "<style scoped>\n",
              "    .dataframe tbody tr th:only-of-type {\n",
              "        vertical-align: middle;\n",
              "    }\n",
              "\n",
              "    .dataframe tbody tr th {\n",
              "        vertical-align: top;\n",
              "    }\n",
              "\n",
              "    .dataframe thead th {\n",
              "        text-align: right;\n",
              "    }\n",
              "</style>\n",
              "<table border=\"1\" class=\"dataframe\">\n",
              "  <thead>\n",
              "    <tr style=\"text-align: right;\">\n",
              "      <th></th>\n",
              "      <th>municipio_productor</th>\n",
              "      <th>departamento</th>\n",
              "      <th>recurso_natural</th>\n",
              "      <th>nombre_del_proyecto</th>\n",
              "      <th>ano_produccion</th>\n",
              "      <th>trimestre</th>\n",
              "      <th>unidad_medida</th>\n",
              "      <th>tipo_contraprestacion</th>\n",
              "      <th>valor_contraprestacion</th>\n",
              "      <th>cantidad_produccion</th>\n",
              "    </tr>\n",
              "  </thead>\n",
              "  <tbody>\n",
              "    <tr>\n",
              "      <th>7</th>\n",
              "      <td>Medellin</td>\n",
              "      <td>Antioquia</td>\n",
              "      <td>ARCILLAS MISCELANEAS</td>\n",
              "      <td>PRODUCTORES</td>\n",
              "      <td>2013</td>\n",
              "      <td>Trimestre 4</td>\n",
              "      <td>TONELADAS</td>\n",
              "      <td>REGALIAS</td>\n",
              "      <td>1.328642e+07</td>\n",
              "      <td>93463.60000</td>\n",
              "    </tr>\n",
              "    <tr>\n",
              "      <th>35</th>\n",
              "      <td>Medellin</td>\n",
              "      <td>Antioquia</td>\n",
              "      <td>ARENA DE CANTERA</td>\n",
              "      <td>PRODUCTORES</td>\n",
              "      <td>2013</td>\n",
              "      <td>Trimestre 1</td>\n",
              "      <td>METROS CUBICOS</td>\n",
              "      <td>REGALIAS</td>\n",
              "      <td>1.428743e+06</td>\n",
              "      <td>14436.12203</td>\n",
              "    </tr>\n",
              "    <tr>\n",
              "      <th>38</th>\n",
              "      <td>Medellin</td>\n",
              "      <td>Antioquia</td>\n",
              "      <td>ARENA DE CANTERA</td>\n",
              "      <td>PRODUCTORES</td>\n",
              "      <td>2013</td>\n",
              "      <td>Trimestre 2</td>\n",
              "      <td>METROS CUBICOS</td>\n",
              "      <td>REGALIAS</td>\n",
              "      <td>1.376957e+06</td>\n",
              "      <td>13912.87405</td>\n",
              "    </tr>\n",
              "    <tr>\n",
              "      <th>40</th>\n",
              "      <td>Medellin</td>\n",
              "      <td>Antioquia</td>\n",
              "      <td>ARENA DE CANTERA</td>\n",
              "      <td>PRODUCTORES</td>\n",
              "      <td>2013</td>\n",
              "      <td>Trimestre 3</td>\n",
              "      <td>METROS CUBICOS</td>\n",
              "      <td>REGALIAS</td>\n",
              "      <td>2.613617e+06</td>\n",
              "      <td>26408.17300</td>\n",
              "    </tr>\n",
              "    <tr>\n",
              "      <th>43</th>\n",
              "      <td>Medellin</td>\n",
              "      <td>Antioquia</td>\n",
              "      <td>ARENA DE CANTERA</td>\n",
              "      <td>PRODUCTORES</td>\n",
              "      <td>2013</td>\n",
              "      <td>Trimestre 4</td>\n",
              "      <td>METROS CUBICOS</td>\n",
              "      <td>REGALIAS</td>\n",
              "      <td>1.956070e+06</td>\n",
              "      <td>19764.00000</td>\n",
              "    </tr>\n",
              "    <tr>\n",
              "      <th>...</th>\n",
              "      <td>...</td>\n",
              "      <td>...</td>\n",
              "      <td>...</td>\n",
              "      <td>...</td>\n",
              "      <td>...</td>\n",
              "      <td>...</td>\n",
              "      <td>...</td>\n",
              "      <td>...</td>\n",
              "      <td>...</td>\n",
              "      <td>...</td>\n",
              "    </tr>\n",
              "    <tr>\n",
              "      <th>52268</th>\n",
              "      <td>Puerto Carreño</td>\n",
              "      <td>Vichada</td>\n",
              "      <td>ARENA DE RIO</td>\n",
              "      <td>PRODUCTORES</td>\n",
              "      <td>2013</td>\n",
              "      <td>Trimestre 4</td>\n",
              "      <td>METROS CUBICOS</td>\n",
              "      <td>REGALIAS</td>\n",
              "      <td>6.755196e+04</td>\n",
              "      <td>400.00000</td>\n",
              "    </tr>\n",
              "    <tr>\n",
              "      <th>52285</th>\n",
              "      <td>Puerto Carreño</td>\n",
              "      <td>Vichada</td>\n",
              "      <td>GRAVAS</td>\n",
              "      <td>PRODUCTORES</td>\n",
              "      <td>2013</td>\n",
              "      <td>Trimestre 4</td>\n",
              "      <td>METROS CUBICOS</td>\n",
              "      <td>REGALIAS</td>\n",
              "      <td>3.000000e+04</td>\n",
              "      <td>100.00000</td>\n",
              "    </tr>\n",
              "    <tr>\n",
              "      <th>52301</th>\n",
              "      <td>La Primavera</td>\n",
              "      <td>Vichada</td>\n",
              "      <td>ARENAS</td>\n",
              "      <td>PRODUCTORES</td>\n",
              "      <td>2013</td>\n",
              "      <td>Trimestre 4</td>\n",
              "      <td>METROS CUBICOS</td>\n",
              "      <td>REGALIAS</td>\n",
              "      <td>3.781140e+05</td>\n",
              "      <td>0.00000</td>\n",
              "    </tr>\n",
              "    <tr>\n",
              "      <th>52302</th>\n",
              "      <td>La Primavera</td>\n",
              "      <td>Vichada</td>\n",
              "      <td>GRAVAS</td>\n",
              "      <td>PRODUCTORES</td>\n",
              "      <td>2013</td>\n",
              "      <td>Trimestre 4</td>\n",
              "      <td>METROS CUBICOS</td>\n",
              "      <td>REGALIAS</td>\n",
              "      <td>1.812540e+05</td>\n",
              "      <td>0.00000</td>\n",
              "    </tr>\n",
              "    <tr>\n",
              "      <th>52305</th>\n",
              "      <td>Cumaribo</td>\n",
              "      <td>Vichada</td>\n",
              "      <td>ARENAS NEGRAS</td>\n",
              "      <td>PRODUCTORES</td>\n",
              "      <td>2013</td>\n",
              "      <td>Trimestre 3</td>\n",
              "      <td>KILOGRAMOS</td>\n",
              "      <td>REGALIAS</td>\n",
              "      <td>1.692060e+06</td>\n",
              "      <td>19620.68000</td>\n",
              "    </tr>\n",
              "  </tbody>\n",
              "</table>\n",
              "<p>5543 rows × 10 columns</p>\n",
              "</div>\n",
              "      <button class=\"colab-df-convert\" onclick=\"convertToInteractive('df-3f06f3b0-01ad-4ebb-8969-fa291fb51c69')\"\n",
              "              title=\"Convert this dataframe to an interactive table.\"\n",
              "              style=\"display:none;\">\n",
              "        \n",
              "  <svg xmlns=\"http://www.w3.org/2000/svg\" height=\"24px\"viewBox=\"0 0 24 24\"\n",
              "       width=\"24px\">\n",
              "    <path d=\"M0 0h24v24H0V0z\" fill=\"none\"/>\n",
              "    <path d=\"M18.56 5.44l.94 2.06.94-2.06 2.06-.94-2.06-.94-.94-2.06-.94 2.06-2.06.94zm-11 1L8.5 8.5l.94-2.06 2.06-.94-2.06-.94L8.5 2.5l-.94 2.06-2.06.94zm10 10l.94 2.06.94-2.06 2.06-.94-2.06-.94-.94-2.06-.94 2.06-2.06.94z\"/><path d=\"M17.41 7.96l-1.37-1.37c-.4-.4-.92-.59-1.43-.59-.52 0-1.04.2-1.43.59L10.3 9.45l-7.72 7.72c-.78.78-.78 2.05 0 2.83L4 21.41c.39.39.9.59 1.41.59.51 0 1.02-.2 1.41-.59l7.78-7.78 2.81-2.81c.8-.78.8-2.07 0-2.86zM5.41 20L4 18.59l7.72-7.72 1.47 1.35L5.41 20z\"/>\n",
              "  </svg>\n",
              "      </button>\n",
              "      \n",
              "  <style>\n",
              "    .colab-df-container {\n",
              "      display:flex;\n",
              "      flex-wrap:wrap;\n",
              "      gap: 12px;\n",
              "    }\n",
              "\n",
              "    .colab-df-convert {\n",
              "      background-color: #E8F0FE;\n",
              "      border: none;\n",
              "      border-radius: 50%;\n",
              "      cursor: pointer;\n",
              "      display: none;\n",
              "      fill: #1967D2;\n",
              "      height: 32px;\n",
              "      padding: 0 0 0 0;\n",
              "      width: 32px;\n",
              "    }\n",
              "\n",
              "    .colab-df-convert:hover {\n",
              "      background-color: #E2EBFA;\n",
              "      box-shadow: 0px 1px 2px rgba(60, 64, 67, 0.3), 0px 1px 3px 1px rgba(60, 64, 67, 0.15);\n",
              "      fill: #174EA6;\n",
              "    }\n",
              "\n",
              "    [theme=dark] .colab-df-convert {\n",
              "      background-color: #3B4455;\n",
              "      fill: #D2E3FC;\n",
              "    }\n",
              "\n",
              "    [theme=dark] .colab-df-convert:hover {\n",
              "      background-color: #434B5C;\n",
              "      box-shadow: 0px 1px 3px 1px rgba(0, 0, 0, 0.15);\n",
              "      filter: drop-shadow(0px 1px 2px rgba(0, 0, 0, 0.3));\n",
              "      fill: #FFFFFF;\n",
              "    }\n",
              "  </style>\n",
              "\n",
              "      <script>\n",
              "        const buttonEl =\n",
              "          document.querySelector('#df-3f06f3b0-01ad-4ebb-8969-fa291fb51c69 button.colab-df-convert');\n",
              "        buttonEl.style.display =\n",
              "          google.colab.kernel.accessAllowed ? 'block' : 'none';\n",
              "\n",
              "        async function convertToInteractive(key) {\n",
              "          const element = document.querySelector('#df-3f06f3b0-01ad-4ebb-8969-fa291fb51c69');\n",
              "          const dataTable =\n",
              "            await google.colab.kernel.invokeFunction('convertToInteractive',\n",
              "                                                     [key], {});\n",
              "          if (!dataTable) return;\n",
              "\n",
              "          const docLinkHtml = 'Like what you see? Visit the ' +\n",
              "            '<a target=\"_blank\" href=https://colab.research.google.com/notebooks/data_table.ipynb>data table notebook</a>'\n",
              "            + ' to learn more about interactive tables.';\n",
              "          element.innerHTML = '';\n",
              "          dataTable['output_type'] = 'display_data';\n",
              "          await google.colab.output.renderOutput(dataTable, element);\n",
              "          const docLink = document.createElement('div');\n",
              "          docLink.innerHTML = docLinkHtml;\n",
              "          element.appendChild(docLink);\n",
              "        }\n",
              "      </script>\n",
              "    </div>\n",
              "  </div>\n",
              "  "
            ]
          },
          "metadata": {},
          "execution_count": 12
        }
      ]
    },
    {
      "cell_type": "markdown",
      "source": [
        "**Agrupaciones**"
      ],
      "metadata": {
        "id": "d_MSKWH05S6w"
      }
    },
    {
      "cell_type": "code",
      "source": [
        "def first_group(data):\n",
        "  function_dictionary = {'valor_contraprestacion': ['sum', 'count'], 'cantidad_produccion':['sum']}\n",
        "  first_group = data.groupby(['municipio_productor', 'departamento', 'ano_produccion', 'trimestre']).aggregate(function_dictionary)\n",
        "  first_group.columns = ['valor_contraprestacion_sum', 'valor_contraprestacion_count', 'cantidad_produccion_sum']\n",
        "  return first_group"
      ],
      "metadata": {
        "id": "hZMTvUVrmT0d"
      },
      "execution_count": 13,
      "outputs": []
    },
    {
      "cell_type": "code",
      "source": [
        "def scond_group(data):\n",
        "  function_dictionary2 = {'valor_contraprestacion_sum': ['sum', 'mean'], 'valor_contraprestacion_count':  ['sum', 'mean', 'count'], 'cantidad_produccion_sum':['sum', 'mean']}\n",
        "  secont_group = data.groupby(level=['municipio_productor']).aggregate(function_dictionary2)\n",
        "  secont_group.columns = ['valor_contraprestacion_total', 'valor_prom_contraprestacion_trim_activo', 'ntx_totales', 'ntx_prom_trim_activo', 'trimestre_actividad', 'cantidad_produccion_total', 'cantidad_produccion_prom_trim_activo']\n",
        "  transaccion_valor = secont_group.reset_index()\n",
        "  return transaccion_valor"
      ],
      "metadata": {
        "id": "AZsopAfKmz60"
      },
      "execution_count": 14,
      "outputs": []
    },
    {
      "cell_type": "code",
      "source": [
        "def third_group(data):\n",
        "  function_dictionary3 = {'valor_contraprestacion': ['sum', 'count'], 'cantidad_produccion': ['sum']}\n",
        "  tirth_group = data.groupby(['municipio_productor', 'departamento', 'ano_produccion', 'trimestre', 'recurso_natural']).aggregate(function_dictionary3)\n",
        "  tirth_group.columns = ['valor_contraprestacion_sum', 'valor_contraprestacion_count', 'cantidad_produccion_sum']\n",
        "  tirth_group\n",
        "  return tirth_group"
      ],
      "metadata": {
        "id": "KszGOTFRnQVP"
      },
      "execution_count": 15,
      "outputs": []
    },
    {
      "cell_type": "code",
      "source": [
        "def four_group(data):\n",
        "  function_dictionary4 = {'valor_contraprestacion_sum': ['sum', 'mean'], 'cantidad_produccion_sum': ['sum', 'mean'], 'valor_contraprestacion_count': ['sum', 'mean', 'count']}\n",
        "  transaccion_recurso = data.groupby(level=['municipio_productor', 'recurso_natural']).aggregate(function_dictionary4)\n",
        "  transaccion_recurso = transaccion_recurso.reset_index()\n",
        "  transaccion_recurso.columns = ['municipio_productor','recurso_natural', 'valor_contraprestacion_recurso', 'valor_prom_contraprestacion_trim_acti_recurso','cantidad_produccion_recurso', 'cantidad_produccion_prom_trim_acti_recurso', 'ntx_totales_trim_activi_recurso', 'ntx_prom_trim_acti_recurso', 'trimestre_activos_recurso']\n",
        "  return transaccion_recurso"
      ],
      "metadata": {
        "id": "mO7PagLYn278"
      },
      "execution_count": 16,
      "outputs": []
    },
    {
      "cell_type": "code",
      "source": [
        "first_group_data = first_group(data_muestra)\n",
        "first_group_data"
      ],
      "metadata": {
        "id": "G_L0su6MrOhT",
        "colab": {
          "base_uri": "https://localhost:8080/",
          "height": 455
        },
        "outputId": "7ea72324-049e-4a9e-aa59-7617103afc9f"
      },
      "execution_count": 17,
      "outputs": [
        {
          "output_type": "execute_result",
          "data": {
            "text/plain": [
              "                                                                   valor_contraprestacion_sum  \\\n",
              "municipio_productor departamento       ano_produccion trimestre                                 \n",
              "Abejorral           Antioquia          2013           Trimestre 1                1.260665e+07   \n",
              "                                                      Trimestre 3                2.735440e+06   \n",
              "                                                      Trimestre 4                4.272560e+07   \n",
              "Abrego              Norte de Santander 2013           Trimestre 1                7.271650e+05   \n",
              "                                                      Trimestre 2                5.331540e+05   \n",
              "...                                                                                       ...   \n",
              "Zarzal              Valle del Cauca    2013           Trimestre 2                7.109078e+05   \n",
              "Zipaquira           Cundinamarca       2013           Trimestre 1                1.276520e+08   \n",
              "                                                      Trimestre 2                1.011076e+09   \n",
              "                                                      Trimestre 3                1.086780e+08   \n",
              "                                                      Trimestre 4                1.766055e+08   \n",
              "\n",
              "                                                                   valor_contraprestacion_count  \\\n",
              "municipio_productor departamento       ano_produccion trimestre                                   \n",
              "Abejorral           Antioquia          2013           Trimestre 1                             3   \n",
              "                                                      Trimestre 3                             2   \n",
              "                                                      Trimestre 4                             3   \n",
              "Abrego              Norte de Santander 2013           Trimestre 1                             1   \n",
              "                                                      Trimestre 2                             1   \n",
              "...                                                                                         ...   \n",
              "Zarzal              Valle del Cauca    2013           Trimestre 2                             1   \n",
              "Zipaquira           Cundinamarca       2013           Trimestre 1                             4   \n",
              "                                                      Trimestre 2                             4   \n",
              "                                                      Trimestre 3                             3   \n",
              "                                                      Trimestre 4                             3   \n",
              "\n",
              "                                                                   cantidad_produccion_sum  \n",
              "municipio_productor departamento       ano_produccion trimestre                             \n",
              "Abejorral           Antioquia          2013           Trimestre 1             94378.450000  \n",
              "                                                      Trimestre 3              1500.000000  \n",
              "                                                      Trimestre 4            321173.050000  \n",
              "Abrego              Norte de Santander 2013           Trimestre 1              6537.000000  \n",
              "                                                      Trimestre 2              3157.000000  \n",
              "...                                                                                    ...  \n",
              "Zarzal              Valle del Cauca    2013           Trimestre 2              5000.054825  \n",
              "Zipaquira           Cundinamarca       2013           Trimestre 1             20036.764016  \n",
              "                                                      Trimestre 2              7556.730000  \n",
              "                                                      Trimestre 3             18550.290000  \n",
              "                                                      Trimestre 4             36192.090865  \n",
              "\n",
              "[1934 rows x 3 columns]"
            ],
            "text/html": [
              "\n",
              "  <div id=\"df-41c7a3cc-6c7b-4590-977c-5c87268ec900\">\n",
              "    <div class=\"colab-df-container\">\n",
              "      <div>\n",
              "<style scoped>\n",
              "    .dataframe tbody tr th:only-of-type {\n",
              "        vertical-align: middle;\n",
              "    }\n",
              "\n",
              "    .dataframe tbody tr th {\n",
              "        vertical-align: top;\n",
              "    }\n",
              "\n",
              "    .dataframe thead th {\n",
              "        text-align: right;\n",
              "    }\n",
              "</style>\n",
              "<table border=\"1\" class=\"dataframe\">\n",
              "  <thead>\n",
              "    <tr style=\"text-align: right;\">\n",
              "      <th></th>\n",
              "      <th></th>\n",
              "      <th></th>\n",
              "      <th></th>\n",
              "      <th>valor_contraprestacion_sum</th>\n",
              "      <th>valor_contraprestacion_count</th>\n",
              "      <th>cantidad_produccion_sum</th>\n",
              "    </tr>\n",
              "    <tr>\n",
              "      <th>municipio_productor</th>\n",
              "      <th>departamento</th>\n",
              "      <th>ano_produccion</th>\n",
              "      <th>trimestre</th>\n",
              "      <th></th>\n",
              "      <th></th>\n",
              "      <th></th>\n",
              "    </tr>\n",
              "  </thead>\n",
              "  <tbody>\n",
              "    <tr>\n",
              "      <th rowspan=\"3\" valign=\"top\">Abejorral</th>\n",
              "      <th rowspan=\"3\" valign=\"top\">Antioquia</th>\n",
              "      <th rowspan=\"3\" valign=\"top\">2013</th>\n",
              "      <th>Trimestre 1</th>\n",
              "      <td>1.260665e+07</td>\n",
              "      <td>3</td>\n",
              "      <td>94378.450000</td>\n",
              "    </tr>\n",
              "    <tr>\n",
              "      <th>Trimestre 3</th>\n",
              "      <td>2.735440e+06</td>\n",
              "      <td>2</td>\n",
              "      <td>1500.000000</td>\n",
              "    </tr>\n",
              "    <tr>\n",
              "      <th>Trimestre 4</th>\n",
              "      <td>4.272560e+07</td>\n",
              "      <td>3</td>\n",
              "      <td>321173.050000</td>\n",
              "    </tr>\n",
              "    <tr>\n",
              "      <th rowspan=\"2\" valign=\"top\">Abrego</th>\n",
              "      <th rowspan=\"2\" valign=\"top\">Norte de Santander</th>\n",
              "      <th rowspan=\"2\" valign=\"top\">2013</th>\n",
              "      <th>Trimestre 1</th>\n",
              "      <td>7.271650e+05</td>\n",
              "      <td>1</td>\n",
              "      <td>6537.000000</td>\n",
              "    </tr>\n",
              "    <tr>\n",
              "      <th>Trimestre 2</th>\n",
              "      <td>5.331540e+05</td>\n",
              "      <td>1</td>\n",
              "      <td>3157.000000</td>\n",
              "    </tr>\n",
              "    <tr>\n",
              "      <th>...</th>\n",
              "      <th>...</th>\n",
              "      <th>...</th>\n",
              "      <th>...</th>\n",
              "      <td>...</td>\n",
              "      <td>...</td>\n",
              "      <td>...</td>\n",
              "    </tr>\n",
              "    <tr>\n",
              "      <th>Zarzal</th>\n",
              "      <th>Valle del Cauca</th>\n",
              "      <th>2013</th>\n",
              "      <th>Trimestre 2</th>\n",
              "      <td>7.109078e+05</td>\n",
              "      <td>1</td>\n",
              "      <td>5000.054825</td>\n",
              "    </tr>\n",
              "    <tr>\n",
              "      <th rowspan=\"4\" valign=\"top\">Zipaquira</th>\n",
              "      <th rowspan=\"4\" valign=\"top\">Cundinamarca</th>\n",
              "      <th rowspan=\"4\" valign=\"top\">2013</th>\n",
              "      <th>Trimestre 1</th>\n",
              "      <td>1.276520e+08</td>\n",
              "      <td>4</td>\n",
              "      <td>20036.764016</td>\n",
              "    </tr>\n",
              "    <tr>\n",
              "      <th>Trimestre 2</th>\n",
              "      <td>1.011076e+09</td>\n",
              "      <td>4</td>\n",
              "      <td>7556.730000</td>\n",
              "    </tr>\n",
              "    <tr>\n",
              "      <th>Trimestre 3</th>\n",
              "      <td>1.086780e+08</td>\n",
              "      <td>3</td>\n",
              "      <td>18550.290000</td>\n",
              "    </tr>\n",
              "    <tr>\n",
              "      <th>Trimestre 4</th>\n",
              "      <td>1.766055e+08</td>\n",
              "      <td>3</td>\n",
              "      <td>36192.090865</td>\n",
              "    </tr>\n",
              "  </tbody>\n",
              "</table>\n",
              "<p>1934 rows × 3 columns</p>\n",
              "</div>\n",
              "      <button class=\"colab-df-convert\" onclick=\"convertToInteractive('df-41c7a3cc-6c7b-4590-977c-5c87268ec900')\"\n",
              "              title=\"Convert this dataframe to an interactive table.\"\n",
              "              style=\"display:none;\">\n",
              "        \n",
              "  <svg xmlns=\"http://www.w3.org/2000/svg\" height=\"24px\"viewBox=\"0 0 24 24\"\n",
              "       width=\"24px\">\n",
              "    <path d=\"M0 0h24v24H0V0z\" fill=\"none\"/>\n",
              "    <path d=\"M18.56 5.44l.94 2.06.94-2.06 2.06-.94-2.06-.94-.94-2.06-.94 2.06-2.06.94zm-11 1L8.5 8.5l.94-2.06 2.06-.94-2.06-.94L8.5 2.5l-.94 2.06-2.06.94zm10 10l.94 2.06.94-2.06 2.06-.94-2.06-.94-.94-2.06-.94 2.06-2.06.94z\"/><path d=\"M17.41 7.96l-1.37-1.37c-.4-.4-.92-.59-1.43-.59-.52 0-1.04.2-1.43.59L10.3 9.45l-7.72 7.72c-.78.78-.78 2.05 0 2.83L4 21.41c.39.39.9.59 1.41.59.51 0 1.02-.2 1.41-.59l7.78-7.78 2.81-2.81c.8-.78.8-2.07 0-2.86zM5.41 20L4 18.59l7.72-7.72 1.47 1.35L5.41 20z\"/>\n",
              "  </svg>\n",
              "      </button>\n",
              "      \n",
              "  <style>\n",
              "    .colab-df-container {\n",
              "      display:flex;\n",
              "      flex-wrap:wrap;\n",
              "      gap: 12px;\n",
              "    }\n",
              "\n",
              "    .colab-df-convert {\n",
              "      background-color: #E8F0FE;\n",
              "      border: none;\n",
              "      border-radius: 50%;\n",
              "      cursor: pointer;\n",
              "      display: none;\n",
              "      fill: #1967D2;\n",
              "      height: 32px;\n",
              "      padding: 0 0 0 0;\n",
              "      width: 32px;\n",
              "    }\n",
              "\n",
              "    .colab-df-convert:hover {\n",
              "      background-color: #E2EBFA;\n",
              "      box-shadow: 0px 1px 2px rgba(60, 64, 67, 0.3), 0px 1px 3px 1px rgba(60, 64, 67, 0.15);\n",
              "      fill: #174EA6;\n",
              "    }\n",
              "\n",
              "    [theme=dark] .colab-df-convert {\n",
              "      background-color: #3B4455;\n",
              "      fill: #D2E3FC;\n",
              "    }\n",
              "\n",
              "    [theme=dark] .colab-df-convert:hover {\n",
              "      background-color: #434B5C;\n",
              "      box-shadow: 0px 1px 3px 1px rgba(0, 0, 0, 0.15);\n",
              "      filter: drop-shadow(0px 1px 2px rgba(0, 0, 0, 0.3));\n",
              "      fill: #FFFFFF;\n",
              "    }\n",
              "  </style>\n",
              "\n",
              "      <script>\n",
              "        const buttonEl =\n",
              "          document.querySelector('#df-41c7a3cc-6c7b-4590-977c-5c87268ec900 button.colab-df-convert');\n",
              "        buttonEl.style.display =\n",
              "          google.colab.kernel.accessAllowed ? 'block' : 'none';\n",
              "\n",
              "        async function convertToInteractive(key) {\n",
              "          const element = document.querySelector('#df-41c7a3cc-6c7b-4590-977c-5c87268ec900');\n",
              "          const dataTable =\n",
              "            await google.colab.kernel.invokeFunction('convertToInteractive',\n",
              "                                                     [key], {});\n",
              "          if (!dataTable) return;\n",
              "\n",
              "          const docLinkHtml = 'Like what you see? Visit the ' +\n",
              "            '<a target=\"_blank\" href=https://colab.research.google.com/notebooks/data_table.ipynb>data table notebook</a>'\n",
              "            + ' to learn more about interactive tables.';\n",
              "          element.innerHTML = '';\n",
              "          dataTable['output_type'] = 'display_data';\n",
              "          await google.colab.output.renderOutput(dataTable, element);\n",
              "          const docLink = document.createElement('div');\n",
              "          docLink.innerHTML = docLinkHtml;\n",
              "          element.appendChild(docLink);\n",
              "        }\n",
              "      </script>\n",
              "    </div>\n",
              "  </div>\n",
              "  "
            ]
          },
          "metadata": {},
          "execution_count": 17
        }
      ]
    },
    {
      "cell_type": "markdown",
      "source": [
        "**Segunda Agrupacion**"
      ],
      "metadata": {
        "id": "QiHhLavx5Y84"
      }
    },
    {
      "cell_type": "code",
      "source": [
        "transaccion_valor = scond_group(first_group_data)\n",
        "transaccion_valor"
      ],
      "metadata": {
        "colab": {
          "base_uri": "https://localhost:8080/",
          "height": 424
        },
        "id": "m0NVy4RLwtMV",
        "outputId": "6663b882-0344-447b-ee30-ca43a3281a70"
      },
      "execution_count": 18,
      "outputs": [
        {
          "output_type": "execute_result",
          "data": {
            "text/plain": [
              "    municipio_productor  valor_contraprestacion_total  \\\n",
              "0             Abejorral                  5.806770e+07   \n",
              "1                Abrego                  3.089795e+06   \n",
              "2              Abriaqui                  2.253532e+07   \n",
              "3               Acacias                  3.524032e+07   \n",
              "4                Agrado                  7.250886e+06   \n",
              "..                  ...                           ...   \n",
              "640               Yumbo                  4.050383e+08   \n",
              "641            Zapatoca                  6.155833e+06   \n",
              "642            Zaragoza                  2.704269e+09   \n",
              "643              Zarzal                  1.421807e+06   \n",
              "644           Zipaquira                  1.424011e+09   \n",
              "\n",
              "     valor_prom_contraprestacion_trim_activo  ntx_totales  \\\n",
              "0                               1.935590e+07            8   \n",
              "1                               7.724488e+05            4   \n",
              "2                               5.633830e+06           24   \n",
              "3                               8.810079e+06           10   \n",
              "4                               7.250886e+06            2   \n",
              "..                                       ...          ...   \n",
              "640                             1.012596e+08           21   \n",
              "641                             1.538958e+06            4   \n",
              "642                             6.760673e+08           24   \n",
              "643                             7.109034e+05            2   \n",
              "644                             3.560028e+08           14   \n",
              "\n",
              "     ntx_prom_trim_activo  trimestre_actividad  cantidad_produccion_total  \\\n",
              "0                2.666667                    3               4.170515e+05   \n",
              "1                1.000000                    4               2.052700e+04   \n",
              "2                6.000000                    4               1.017852e+04   \n",
              "3                2.500000                    4               5.022237e+05   \n",
              "4                2.000000                    1               4.551400e+04   \n",
              "..                    ...                  ...                        ...   \n",
              "640              5.250000                    4               3.015780e+06   \n",
              "641              1.000000                    4               7.444965e+03   \n",
              "642              6.000000                    4               2.701234e+06   \n",
              "643              1.000000                    2               1.000005e+04   \n",
              "644              3.500000                    4               8.233587e+04   \n",
              "\n",
              "     cantidad_produccion_prom_trim_activo  \n",
              "0                           139017.166667  \n",
              "1                             5131.750000  \n",
              "2                             2544.630250  \n",
              "3                           125555.914090  \n",
              "4                            45514.000000  \n",
              "..                                    ...  \n",
              "640                         753945.036741  \n",
              "641                           1861.241133  \n",
              "642                         675308.621070  \n",
              "643                           5000.024220  \n",
              "644                          20583.968720  \n",
              "\n",
              "[645 rows x 8 columns]"
            ],
            "text/html": [
              "\n",
              "  <div id=\"df-20bab751-58e0-4a7c-ba0c-7aecc24d342f\">\n",
              "    <div class=\"colab-df-container\">\n",
              "      <div>\n",
              "<style scoped>\n",
              "    .dataframe tbody tr th:only-of-type {\n",
              "        vertical-align: middle;\n",
              "    }\n",
              "\n",
              "    .dataframe tbody tr th {\n",
              "        vertical-align: top;\n",
              "    }\n",
              "\n",
              "    .dataframe thead th {\n",
              "        text-align: right;\n",
              "    }\n",
              "</style>\n",
              "<table border=\"1\" class=\"dataframe\">\n",
              "  <thead>\n",
              "    <tr style=\"text-align: right;\">\n",
              "      <th></th>\n",
              "      <th>municipio_productor</th>\n",
              "      <th>valor_contraprestacion_total</th>\n",
              "      <th>valor_prom_contraprestacion_trim_activo</th>\n",
              "      <th>ntx_totales</th>\n",
              "      <th>ntx_prom_trim_activo</th>\n",
              "      <th>trimestre_actividad</th>\n",
              "      <th>cantidad_produccion_total</th>\n",
              "      <th>cantidad_produccion_prom_trim_activo</th>\n",
              "    </tr>\n",
              "  </thead>\n",
              "  <tbody>\n",
              "    <tr>\n",
              "      <th>0</th>\n",
              "      <td>Abejorral</td>\n",
              "      <td>5.806770e+07</td>\n",
              "      <td>1.935590e+07</td>\n",
              "      <td>8</td>\n",
              "      <td>2.666667</td>\n",
              "      <td>3</td>\n",
              "      <td>4.170515e+05</td>\n",
              "      <td>139017.166667</td>\n",
              "    </tr>\n",
              "    <tr>\n",
              "      <th>1</th>\n",
              "      <td>Abrego</td>\n",
              "      <td>3.089795e+06</td>\n",
              "      <td>7.724488e+05</td>\n",
              "      <td>4</td>\n",
              "      <td>1.000000</td>\n",
              "      <td>4</td>\n",
              "      <td>2.052700e+04</td>\n",
              "      <td>5131.750000</td>\n",
              "    </tr>\n",
              "    <tr>\n",
              "      <th>2</th>\n",
              "      <td>Abriaqui</td>\n",
              "      <td>2.253532e+07</td>\n",
              "      <td>5.633830e+06</td>\n",
              "      <td>24</td>\n",
              "      <td>6.000000</td>\n",
              "      <td>4</td>\n",
              "      <td>1.017852e+04</td>\n",
              "      <td>2544.630250</td>\n",
              "    </tr>\n",
              "    <tr>\n",
              "      <th>3</th>\n",
              "      <td>Acacias</td>\n",
              "      <td>3.524032e+07</td>\n",
              "      <td>8.810079e+06</td>\n",
              "      <td>10</td>\n",
              "      <td>2.500000</td>\n",
              "      <td>4</td>\n",
              "      <td>5.022237e+05</td>\n",
              "      <td>125555.914090</td>\n",
              "    </tr>\n",
              "    <tr>\n",
              "      <th>4</th>\n",
              "      <td>Agrado</td>\n",
              "      <td>7.250886e+06</td>\n",
              "      <td>7.250886e+06</td>\n",
              "      <td>2</td>\n",
              "      <td>2.000000</td>\n",
              "      <td>1</td>\n",
              "      <td>4.551400e+04</td>\n",
              "      <td>45514.000000</td>\n",
              "    </tr>\n",
              "    <tr>\n",
              "      <th>...</th>\n",
              "      <td>...</td>\n",
              "      <td>...</td>\n",
              "      <td>...</td>\n",
              "      <td>...</td>\n",
              "      <td>...</td>\n",
              "      <td>...</td>\n",
              "      <td>...</td>\n",
              "      <td>...</td>\n",
              "    </tr>\n",
              "    <tr>\n",
              "      <th>640</th>\n",
              "      <td>Yumbo</td>\n",
              "      <td>4.050383e+08</td>\n",
              "      <td>1.012596e+08</td>\n",
              "      <td>21</td>\n",
              "      <td>5.250000</td>\n",
              "      <td>4</td>\n",
              "      <td>3.015780e+06</td>\n",
              "      <td>753945.036741</td>\n",
              "    </tr>\n",
              "    <tr>\n",
              "      <th>641</th>\n",
              "      <td>Zapatoca</td>\n",
              "      <td>6.155833e+06</td>\n",
              "      <td>1.538958e+06</td>\n",
              "      <td>4</td>\n",
              "      <td>1.000000</td>\n",
              "      <td>4</td>\n",
              "      <td>7.444965e+03</td>\n",
              "      <td>1861.241133</td>\n",
              "    </tr>\n",
              "    <tr>\n",
              "      <th>642</th>\n",
              "      <td>Zaragoza</td>\n",
              "      <td>2.704269e+09</td>\n",
              "      <td>6.760673e+08</td>\n",
              "      <td>24</td>\n",
              "      <td>6.000000</td>\n",
              "      <td>4</td>\n",
              "      <td>2.701234e+06</td>\n",
              "      <td>675308.621070</td>\n",
              "    </tr>\n",
              "    <tr>\n",
              "      <th>643</th>\n",
              "      <td>Zarzal</td>\n",
              "      <td>1.421807e+06</td>\n",
              "      <td>7.109034e+05</td>\n",
              "      <td>2</td>\n",
              "      <td>1.000000</td>\n",
              "      <td>2</td>\n",
              "      <td>1.000005e+04</td>\n",
              "      <td>5000.024220</td>\n",
              "    </tr>\n",
              "    <tr>\n",
              "      <th>644</th>\n",
              "      <td>Zipaquira</td>\n",
              "      <td>1.424011e+09</td>\n",
              "      <td>3.560028e+08</td>\n",
              "      <td>14</td>\n",
              "      <td>3.500000</td>\n",
              "      <td>4</td>\n",
              "      <td>8.233587e+04</td>\n",
              "      <td>20583.968720</td>\n",
              "    </tr>\n",
              "  </tbody>\n",
              "</table>\n",
              "<p>645 rows × 8 columns</p>\n",
              "</div>\n",
              "      <button class=\"colab-df-convert\" onclick=\"convertToInteractive('df-20bab751-58e0-4a7c-ba0c-7aecc24d342f')\"\n",
              "              title=\"Convert this dataframe to an interactive table.\"\n",
              "              style=\"display:none;\">\n",
              "        \n",
              "  <svg xmlns=\"http://www.w3.org/2000/svg\" height=\"24px\"viewBox=\"0 0 24 24\"\n",
              "       width=\"24px\">\n",
              "    <path d=\"M0 0h24v24H0V0z\" fill=\"none\"/>\n",
              "    <path d=\"M18.56 5.44l.94 2.06.94-2.06 2.06-.94-2.06-.94-.94-2.06-.94 2.06-2.06.94zm-11 1L8.5 8.5l.94-2.06 2.06-.94-2.06-.94L8.5 2.5l-.94 2.06-2.06.94zm10 10l.94 2.06.94-2.06 2.06-.94-2.06-.94-.94-2.06-.94 2.06-2.06.94z\"/><path d=\"M17.41 7.96l-1.37-1.37c-.4-.4-.92-.59-1.43-.59-.52 0-1.04.2-1.43.59L10.3 9.45l-7.72 7.72c-.78.78-.78 2.05 0 2.83L4 21.41c.39.39.9.59 1.41.59.51 0 1.02-.2 1.41-.59l7.78-7.78 2.81-2.81c.8-.78.8-2.07 0-2.86zM5.41 20L4 18.59l7.72-7.72 1.47 1.35L5.41 20z\"/>\n",
              "  </svg>\n",
              "      </button>\n",
              "      \n",
              "  <style>\n",
              "    .colab-df-container {\n",
              "      display:flex;\n",
              "      flex-wrap:wrap;\n",
              "      gap: 12px;\n",
              "    }\n",
              "\n",
              "    .colab-df-convert {\n",
              "      background-color: #E8F0FE;\n",
              "      border: none;\n",
              "      border-radius: 50%;\n",
              "      cursor: pointer;\n",
              "      display: none;\n",
              "      fill: #1967D2;\n",
              "      height: 32px;\n",
              "      padding: 0 0 0 0;\n",
              "      width: 32px;\n",
              "    }\n",
              "\n",
              "    .colab-df-convert:hover {\n",
              "      background-color: #E2EBFA;\n",
              "      box-shadow: 0px 1px 2px rgba(60, 64, 67, 0.3), 0px 1px 3px 1px rgba(60, 64, 67, 0.15);\n",
              "      fill: #174EA6;\n",
              "    }\n",
              "\n",
              "    [theme=dark] .colab-df-convert {\n",
              "      background-color: #3B4455;\n",
              "      fill: #D2E3FC;\n",
              "    }\n",
              "\n",
              "    [theme=dark] .colab-df-convert:hover {\n",
              "      background-color: #434B5C;\n",
              "      box-shadow: 0px 1px 3px 1px rgba(0, 0, 0, 0.15);\n",
              "      filter: drop-shadow(0px 1px 2px rgba(0, 0, 0, 0.3));\n",
              "      fill: #FFFFFF;\n",
              "    }\n",
              "  </style>\n",
              "\n",
              "      <script>\n",
              "        const buttonEl =\n",
              "          document.querySelector('#df-20bab751-58e0-4a7c-ba0c-7aecc24d342f button.colab-df-convert');\n",
              "        buttonEl.style.display =\n",
              "          google.colab.kernel.accessAllowed ? 'block' : 'none';\n",
              "\n",
              "        async function convertToInteractive(key) {\n",
              "          const element = document.querySelector('#df-20bab751-58e0-4a7c-ba0c-7aecc24d342f');\n",
              "          const dataTable =\n",
              "            await google.colab.kernel.invokeFunction('convertToInteractive',\n",
              "                                                     [key], {});\n",
              "          if (!dataTable) return;\n",
              "\n",
              "          const docLinkHtml = 'Like what you see? Visit the ' +\n",
              "            '<a target=\"_blank\" href=https://colab.research.google.com/notebooks/data_table.ipynb>data table notebook</a>'\n",
              "            + ' to learn more about interactive tables.';\n",
              "          element.innerHTML = '';\n",
              "          dataTable['output_type'] = 'display_data';\n",
              "          await google.colab.output.renderOutput(dataTable, element);\n",
              "          const docLink = document.createElement('div');\n",
              "          docLink.innerHTML = docLinkHtml;\n",
              "          element.appendChild(docLink);\n",
              "        }\n",
              "      </script>\n",
              "    </div>\n",
              "  </div>\n",
              "  "
            ]
          },
          "metadata": {},
          "execution_count": 18
        }
      ]
    },
    {
      "cell_type": "markdown",
      "source": [
        "**Tercera Agrupacion**"
      ],
      "metadata": {
        "id": "lP6U0vzHheL9"
      }
    },
    {
      "cell_type": "code",
      "source": [
        "third_group_data = third_group(data_muestra)\n",
        "third_group_data"
      ],
      "metadata": {
        "colab": {
          "base_uri": "https://localhost:8080/",
          "height": 455
        },
        "id": "u6S_iUjEwtAB",
        "outputId": "65404251-9566-44e4-bcdc-4547bcee999d"
      },
      "execution_count": 19,
      "outputs": [
        {
          "output_type": "execute_result",
          "data": {
            "text/plain": [
              "                                                                                valor_contraprestacion_sum  \\\n",
              "municipio_productor departamento ano_produccion trimestre   recurso_natural                                  \n",
              "Abejorral           Antioquia    2013           Trimestre 1 CALIZAS                           1.178432e+07   \n",
              "                                                            MARMOL                            2.190990e+05   \n",
              "                                                            ORO                               6.032368e+05   \n",
              "                                                Trimestre 3 ORO                               2.719465e+06   \n",
              "                                                            PLATA                             1.597546e+04   \n",
              "...                                                                                                    ...   \n",
              "Zipaquira           Cundinamarca 2013           Trimestre 3 CARBON                            5.874346e+07   \n",
              "                                                            SAL                               4.989103e+07   \n",
              "                                                Trimestre 4 ARCILLAS CERAMICAS                5.482312e+04   \n",
              "                                                            CARBON                            1.458408e+08   \n",
              "                                                            SAL                               3.070980e+07   \n",
              "\n",
              "                                                                                valor_contraprestacion_count  \\\n",
              "municipio_productor departamento ano_produccion trimestre   recurso_natural                                    \n",
              "Abejorral           Antioquia    2013           Trimestre 1 CALIZAS                                        1   \n",
              "                                                            MARMOL                                         1   \n",
              "                                                            ORO                                            1   \n",
              "                                                Trimestre 3 ORO                                            1   \n",
              "                                                            PLATA                                          1   \n",
              "...                                                                                                      ...   \n",
              "Zipaquira           Cundinamarca 2013           Trimestre 3 CARBON                                         1   \n",
              "                                                            SAL                                            1   \n",
              "                                                Trimestre 4 ARCILLAS CERAMICAS                             1   \n",
              "                                                            CARBON                                         1   \n",
              "                                                            SAL                                            1   \n",
              "\n",
              "                                                                                cantidad_produccion_sum  \n",
              "municipio_productor departamento ano_produccion trimestre   recurso_natural                              \n",
              "Abejorral           Antioquia    2013           Trimestre 1 CALIZAS                        92644.000000  \n",
              "                                                            MARMOL                          1541.000000  \n",
              "                                                            ORO                              193.450000  \n",
              "                                                Trimestre 3 ORO                             1080.000000  \n",
              "                                                            PLATA                            420.000000  \n",
              "...                                                                                                 ...  \n",
              "Zipaquira           Cundinamarca 2013           Trimestre 3 CARBON                         10844.340000  \n",
              "                                                            SAL                             7389.950000  \n",
              "                                                Trimestre 4 ARCILLAS CERAMICAS               398.000000  \n",
              "                                                            CARBON                         31245.300000  \n",
              "                                                            SAL                             4548.790865  \n",
              "\n",
              "[3970 rows x 3 columns]"
            ],
            "text/html": [
              "\n",
              "  <div id=\"df-f04c4e53-de10-4469-8a9f-08bce51cd07e\">\n",
              "    <div class=\"colab-df-container\">\n",
              "      <div>\n",
              "<style scoped>\n",
              "    .dataframe tbody tr th:only-of-type {\n",
              "        vertical-align: middle;\n",
              "    }\n",
              "\n",
              "    .dataframe tbody tr th {\n",
              "        vertical-align: top;\n",
              "    }\n",
              "\n",
              "    .dataframe thead th {\n",
              "        text-align: right;\n",
              "    }\n",
              "</style>\n",
              "<table border=\"1\" class=\"dataframe\">\n",
              "  <thead>\n",
              "    <tr style=\"text-align: right;\">\n",
              "      <th></th>\n",
              "      <th></th>\n",
              "      <th></th>\n",
              "      <th></th>\n",
              "      <th></th>\n",
              "      <th>valor_contraprestacion_sum</th>\n",
              "      <th>valor_contraprestacion_count</th>\n",
              "      <th>cantidad_produccion_sum</th>\n",
              "    </tr>\n",
              "    <tr>\n",
              "      <th>municipio_productor</th>\n",
              "      <th>departamento</th>\n",
              "      <th>ano_produccion</th>\n",
              "      <th>trimestre</th>\n",
              "      <th>recurso_natural</th>\n",
              "      <th></th>\n",
              "      <th></th>\n",
              "      <th></th>\n",
              "    </tr>\n",
              "  </thead>\n",
              "  <tbody>\n",
              "    <tr>\n",
              "      <th rowspan=\"5\" valign=\"top\">Abejorral</th>\n",
              "      <th rowspan=\"5\" valign=\"top\">Antioquia</th>\n",
              "      <th rowspan=\"5\" valign=\"top\">2013</th>\n",
              "      <th rowspan=\"3\" valign=\"top\">Trimestre 1</th>\n",
              "      <th>CALIZAS</th>\n",
              "      <td>1.178432e+07</td>\n",
              "      <td>1</td>\n",
              "      <td>92644.000000</td>\n",
              "    </tr>\n",
              "    <tr>\n",
              "      <th>MARMOL</th>\n",
              "      <td>2.190990e+05</td>\n",
              "      <td>1</td>\n",
              "      <td>1541.000000</td>\n",
              "    </tr>\n",
              "    <tr>\n",
              "      <th>ORO</th>\n",
              "      <td>6.032368e+05</td>\n",
              "      <td>1</td>\n",
              "      <td>193.450000</td>\n",
              "    </tr>\n",
              "    <tr>\n",
              "      <th rowspan=\"2\" valign=\"top\">Trimestre 3</th>\n",
              "      <th>ORO</th>\n",
              "      <td>2.719465e+06</td>\n",
              "      <td>1</td>\n",
              "      <td>1080.000000</td>\n",
              "    </tr>\n",
              "    <tr>\n",
              "      <th>PLATA</th>\n",
              "      <td>1.597546e+04</td>\n",
              "      <td>1</td>\n",
              "      <td>420.000000</td>\n",
              "    </tr>\n",
              "    <tr>\n",
              "      <th>...</th>\n",
              "      <th>...</th>\n",
              "      <th>...</th>\n",
              "      <th>...</th>\n",
              "      <th>...</th>\n",
              "      <td>...</td>\n",
              "      <td>...</td>\n",
              "      <td>...</td>\n",
              "    </tr>\n",
              "    <tr>\n",
              "      <th rowspan=\"5\" valign=\"top\">Zipaquira</th>\n",
              "      <th rowspan=\"5\" valign=\"top\">Cundinamarca</th>\n",
              "      <th rowspan=\"5\" valign=\"top\">2013</th>\n",
              "      <th rowspan=\"2\" valign=\"top\">Trimestre 3</th>\n",
              "      <th>CARBON</th>\n",
              "      <td>5.874346e+07</td>\n",
              "      <td>1</td>\n",
              "      <td>10844.340000</td>\n",
              "    </tr>\n",
              "    <tr>\n",
              "      <th>SAL</th>\n",
              "      <td>4.989103e+07</td>\n",
              "      <td>1</td>\n",
              "      <td>7389.950000</td>\n",
              "    </tr>\n",
              "    <tr>\n",
              "      <th rowspan=\"3\" valign=\"top\">Trimestre 4</th>\n",
              "      <th>ARCILLAS CERAMICAS</th>\n",
              "      <td>5.482312e+04</td>\n",
              "      <td>1</td>\n",
              "      <td>398.000000</td>\n",
              "    </tr>\n",
              "    <tr>\n",
              "      <th>CARBON</th>\n",
              "      <td>1.458408e+08</td>\n",
              "      <td>1</td>\n",
              "      <td>31245.300000</td>\n",
              "    </tr>\n",
              "    <tr>\n",
              "      <th>SAL</th>\n",
              "      <td>3.070980e+07</td>\n",
              "      <td>1</td>\n",
              "      <td>4548.790865</td>\n",
              "    </tr>\n",
              "  </tbody>\n",
              "</table>\n",
              "<p>3970 rows × 3 columns</p>\n",
              "</div>\n",
              "      <button class=\"colab-df-convert\" onclick=\"convertToInteractive('df-f04c4e53-de10-4469-8a9f-08bce51cd07e')\"\n",
              "              title=\"Convert this dataframe to an interactive table.\"\n",
              "              style=\"display:none;\">\n",
              "        \n",
              "  <svg xmlns=\"http://www.w3.org/2000/svg\" height=\"24px\"viewBox=\"0 0 24 24\"\n",
              "       width=\"24px\">\n",
              "    <path d=\"M0 0h24v24H0V0z\" fill=\"none\"/>\n",
              "    <path d=\"M18.56 5.44l.94 2.06.94-2.06 2.06-.94-2.06-.94-.94-2.06-.94 2.06-2.06.94zm-11 1L8.5 8.5l.94-2.06 2.06-.94-2.06-.94L8.5 2.5l-.94 2.06-2.06.94zm10 10l.94 2.06.94-2.06 2.06-.94-2.06-.94-.94-2.06-.94 2.06-2.06.94z\"/><path d=\"M17.41 7.96l-1.37-1.37c-.4-.4-.92-.59-1.43-.59-.52 0-1.04.2-1.43.59L10.3 9.45l-7.72 7.72c-.78.78-.78 2.05 0 2.83L4 21.41c.39.39.9.59 1.41.59.51 0 1.02-.2 1.41-.59l7.78-7.78 2.81-2.81c.8-.78.8-2.07 0-2.86zM5.41 20L4 18.59l7.72-7.72 1.47 1.35L5.41 20z\"/>\n",
              "  </svg>\n",
              "      </button>\n",
              "      \n",
              "  <style>\n",
              "    .colab-df-container {\n",
              "      display:flex;\n",
              "      flex-wrap:wrap;\n",
              "      gap: 12px;\n",
              "    }\n",
              "\n",
              "    .colab-df-convert {\n",
              "      background-color: #E8F0FE;\n",
              "      border: none;\n",
              "      border-radius: 50%;\n",
              "      cursor: pointer;\n",
              "      display: none;\n",
              "      fill: #1967D2;\n",
              "      height: 32px;\n",
              "      padding: 0 0 0 0;\n",
              "      width: 32px;\n",
              "    }\n",
              "\n",
              "    .colab-df-convert:hover {\n",
              "      background-color: #E2EBFA;\n",
              "      box-shadow: 0px 1px 2px rgba(60, 64, 67, 0.3), 0px 1px 3px 1px rgba(60, 64, 67, 0.15);\n",
              "      fill: #174EA6;\n",
              "    }\n",
              "\n",
              "    [theme=dark] .colab-df-convert {\n",
              "      background-color: #3B4455;\n",
              "      fill: #D2E3FC;\n",
              "    }\n",
              "\n",
              "    [theme=dark] .colab-df-convert:hover {\n",
              "      background-color: #434B5C;\n",
              "      box-shadow: 0px 1px 3px 1px rgba(0, 0, 0, 0.15);\n",
              "      filter: drop-shadow(0px 1px 2px rgba(0, 0, 0, 0.3));\n",
              "      fill: #FFFFFF;\n",
              "    }\n",
              "  </style>\n",
              "\n",
              "      <script>\n",
              "        const buttonEl =\n",
              "          document.querySelector('#df-f04c4e53-de10-4469-8a9f-08bce51cd07e button.colab-df-convert');\n",
              "        buttonEl.style.display =\n",
              "          google.colab.kernel.accessAllowed ? 'block' : 'none';\n",
              "\n",
              "        async function convertToInteractive(key) {\n",
              "          const element = document.querySelector('#df-f04c4e53-de10-4469-8a9f-08bce51cd07e');\n",
              "          const dataTable =\n",
              "            await google.colab.kernel.invokeFunction('convertToInteractive',\n",
              "                                                     [key], {});\n",
              "          if (!dataTable) return;\n",
              "\n",
              "          const docLinkHtml = 'Like what you see? Visit the ' +\n",
              "            '<a target=\"_blank\" href=https://colab.research.google.com/notebooks/data_table.ipynb>data table notebook</a>'\n",
              "            + ' to learn more about interactive tables.';\n",
              "          element.innerHTML = '';\n",
              "          dataTable['output_type'] = 'display_data';\n",
              "          await google.colab.output.renderOutput(dataTable, element);\n",
              "          const docLink = document.createElement('div');\n",
              "          docLink.innerHTML = docLinkHtml;\n",
              "          element.appendChild(docLink);\n",
              "        }\n",
              "      </script>\n",
              "    </div>\n",
              "  </div>\n",
              "  "
            ]
          },
          "metadata": {},
          "execution_count": 19
        }
      ]
    },
    {
      "cell_type": "markdown",
      "source": [
        "**Cuarto Agrupacion**"
      ],
      "metadata": {
        "id": "n08NUXfhhs8_"
      }
    },
    {
      "cell_type": "code",
      "source": [
        "transaccion_recurso = four_group(third_group_data)\n",
        "transaccion_recurso"
      ],
      "metadata": {
        "id": "lYEndKaDSG5X",
        "colab": {
          "base_uri": "https://localhost:8080/",
          "height": 540
        },
        "outputId": "7ba6ecce-9049-4061-a739-da1017ad0880"
      },
      "execution_count": 20,
      "outputs": [
        {
          "output_type": "execute_result",
          "data": {
            "text/plain": [
              "     municipio_productor       recurso_natural  \\\n",
              "0              Abejorral    ARCILLAS CERAMICAS   \n",
              "1              Abejorral               CALIZAS   \n",
              "2              Abejorral                MARMOL   \n",
              "3              Abejorral                   ORO   \n",
              "4              Abejorral                 PLATA   \n",
              "...                  ...                   ...   \n",
              "1782            Zaragoza                 PLATA   \n",
              "1783              Zarzal  ARCILLAS MISCELANEAS   \n",
              "1784           Zipaquira    ARCILLAS CERAMICAS   \n",
              "1785           Zipaquira                CARBON   \n",
              "1786           Zipaquira                   SAL   \n",
              "\n",
              "      valor_contraprestacion_recurso  \\\n",
              "0                       6.446232e+06   \n",
              "1                       4.670475e+07   \n",
              "2                       2.190990e+05   \n",
              "3                       4.681640e+06   \n",
              "4                       1.597546e+04   \n",
              "...                              ...   \n",
              "1782                    3.714475e+07   \n",
              "1783                    1.421807e+06   \n",
              "1784                    1.777661e+05   \n",
              "1785                    2.949292e+08   \n",
              "1786                    1.128904e+09   \n",
              "\n",
              "      valor_prom_contraprestacion_trim_acti_recurso  \\\n",
              "0                                      6.446232e+06   \n",
              "1                                      2.335238e+07   \n",
              "2                                      2.190990e+05   \n",
              "3                                      1.560547e+06   \n",
              "4                                      1.597546e+04   \n",
              "...                                             ...   \n",
              "1782                                   9.286189e+06   \n",
              "1783                                   7.109034e+05   \n",
              "1784                                   4.444153e+04   \n",
              "1785                                   7.373230e+07   \n",
              "1786                                   2.822261e+08   \n",
              "\n",
              "      cantidad_produccion_recurso  cantidad_produccion_prom_trim_acti_recurso  \\\n",
              "0                    4.680000e+04                                46800.000000   \n",
              "1                    3.664850e+05                               183242.500000   \n",
              "2                    1.541000e+03                                 1541.000000   \n",
              "3                    1.805500e+03                                  601.833333   \n",
              "4                    4.200000e+02                                  420.000000   \n",
              "...                           ...                                         ...   \n",
              "1782                 1.460180e+06                               365044.955500   \n",
              "1783                 1.000005e+04                                 5000.024220   \n",
              "1784                 1.291000e+03                                  322.750000   \n",
              "1785                 5.471168e+04                                13677.921250   \n",
              "1786                 2.633319e+04                                 6583.297470   \n",
              "\n",
              "      ntx_totales_trim_activi_recurso  ntx_prom_trim_acti_recurso  \\\n",
              "0                                   1                         1.0   \n",
              "1                                   2                         1.0   \n",
              "2                                   1                         1.0   \n",
              "3                                   3                         1.0   \n",
              "4                                   1                         1.0   \n",
              "...                               ...                         ...   \n",
              "1782                               12                         3.0   \n",
              "1783                                2                         1.0   \n",
              "1784                                4                         1.0   \n",
              "1785                                4                         1.0   \n",
              "1786                                6                         1.5   \n",
              "\n",
              "      trimestre_activos_recurso  \n",
              "0                             1  \n",
              "1                             2  \n",
              "2                             1  \n",
              "3                             3  \n",
              "4                             1  \n",
              "...                         ...  \n",
              "1782                          4  \n",
              "1783                          2  \n",
              "1784                          4  \n",
              "1785                          4  \n",
              "1786                          4  \n",
              "\n",
              "[1787 rows x 9 columns]"
            ],
            "text/html": [
              "\n",
              "  <div id=\"df-669f4353-3297-4721-bb84-0df68771cefc\">\n",
              "    <div class=\"colab-df-container\">\n",
              "      <div>\n",
              "<style scoped>\n",
              "    .dataframe tbody tr th:only-of-type {\n",
              "        vertical-align: middle;\n",
              "    }\n",
              "\n",
              "    .dataframe tbody tr th {\n",
              "        vertical-align: top;\n",
              "    }\n",
              "\n",
              "    .dataframe thead th {\n",
              "        text-align: right;\n",
              "    }\n",
              "</style>\n",
              "<table border=\"1\" class=\"dataframe\">\n",
              "  <thead>\n",
              "    <tr style=\"text-align: right;\">\n",
              "      <th></th>\n",
              "      <th>municipio_productor</th>\n",
              "      <th>recurso_natural</th>\n",
              "      <th>valor_contraprestacion_recurso</th>\n",
              "      <th>valor_prom_contraprestacion_trim_acti_recurso</th>\n",
              "      <th>cantidad_produccion_recurso</th>\n",
              "      <th>cantidad_produccion_prom_trim_acti_recurso</th>\n",
              "      <th>ntx_totales_trim_activi_recurso</th>\n",
              "      <th>ntx_prom_trim_acti_recurso</th>\n",
              "      <th>trimestre_activos_recurso</th>\n",
              "    </tr>\n",
              "  </thead>\n",
              "  <tbody>\n",
              "    <tr>\n",
              "      <th>0</th>\n",
              "      <td>Abejorral</td>\n",
              "      <td>ARCILLAS CERAMICAS</td>\n",
              "      <td>6.446232e+06</td>\n",
              "      <td>6.446232e+06</td>\n",
              "      <td>4.680000e+04</td>\n",
              "      <td>46800.000000</td>\n",
              "      <td>1</td>\n",
              "      <td>1.0</td>\n",
              "      <td>1</td>\n",
              "    </tr>\n",
              "    <tr>\n",
              "      <th>1</th>\n",
              "      <td>Abejorral</td>\n",
              "      <td>CALIZAS</td>\n",
              "      <td>4.670475e+07</td>\n",
              "      <td>2.335238e+07</td>\n",
              "      <td>3.664850e+05</td>\n",
              "      <td>183242.500000</td>\n",
              "      <td>2</td>\n",
              "      <td>1.0</td>\n",
              "      <td>2</td>\n",
              "    </tr>\n",
              "    <tr>\n",
              "      <th>2</th>\n",
              "      <td>Abejorral</td>\n",
              "      <td>MARMOL</td>\n",
              "      <td>2.190990e+05</td>\n",
              "      <td>2.190990e+05</td>\n",
              "      <td>1.541000e+03</td>\n",
              "      <td>1541.000000</td>\n",
              "      <td>1</td>\n",
              "      <td>1.0</td>\n",
              "      <td>1</td>\n",
              "    </tr>\n",
              "    <tr>\n",
              "      <th>3</th>\n",
              "      <td>Abejorral</td>\n",
              "      <td>ORO</td>\n",
              "      <td>4.681640e+06</td>\n",
              "      <td>1.560547e+06</td>\n",
              "      <td>1.805500e+03</td>\n",
              "      <td>601.833333</td>\n",
              "      <td>3</td>\n",
              "      <td>1.0</td>\n",
              "      <td>3</td>\n",
              "    </tr>\n",
              "    <tr>\n",
              "      <th>4</th>\n",
              "      <td>Abejorral</td>\n",
              "      <td>PLATA</td>\n",
              "      <td>1.597546e+04</td>\n",
              "      <td>1.597546e+04</td>\n",
              "      <td>4.200000e+02</td>\n",
              "      <td>420.000000</td>\n",
              "      <td>1</td>\n",
              "      <td>1.0</td>\n",
              "      <td>1</td>\n",
              "    </tr>\n",
              "    <tr>\n",
              "      <th>...</th>\n",
              "      <td>...</td>\n",
              "      <td>...</td>\n",
              "      <td>...</td>\n",
              "      <td>...</td>\n",
              "      <td>...</td>\n",
              "      <td>...</td>\n",
              "      <td>...</td>\n",
              "      <td>...</td>\n",
              "      <td>...</td>\n",
              "    </tr>\n",
              "    <tr>\n",
              "      <th>1782</th>\n",
              "      <td>Zaragoza</td>\n",
              "      <td>PLATA</td>\n",
              "      <td>3.714475e+07</td>\n",
              "      <td>9.286189e+06</td>\n",
              "      <td>1.460180e+06</td>\n",
              "      <td>365044.955500</td>\n",
              "      <td>12</td>\n",
              "      <td>3.0</td>\n",
              "      <td>4</td>\n",
              "    </tr>\n",
              "    <tr>\n",
              "      <th>1783</th>\n",
              "      <td>Zarzal</td>\n",
              "      <td>ARCILLAS MISCELANEAS</td>\n",
              "      <td>1.421807e+06</td>\n",
              "      <td>7.109034e+05</td>\n",
              "      <td>1.000005e+04</td>\n",
              "      <td>5000.024220</td>\n",
              "      <td>2</td>\n",
              "      <td>1.0</td>\n",
              "      <td>2</td>\n",
              "    </tr>\n",
              "    <tr>\n",
              "      <th>1784</th>\n",
              "      <td>Zipaquira</td>\n",
              "      <td>ARCILLAS CERAMICAS</td>\n",
              "      <td>1.777661e+05</td>\n",
              "      <td>4.444153e+04</td>\n",
              "      <td>1.291000e+03</td>\n",
              "      <td>322.750000</td>\n",
              "      <td>4</td>\n",
              "      <td>1.0</td>\n",
              "      <td>4</td>\n",
              "    </tr>\n",
              "    <tr>\n",
              "      <th>1785</th>\n",
              "      <td>Zipaquira</td>\n",
              "      <td>CARBON</td>\n",
              "      <td>2.949292e+08</td>\n",
              "      <td>7.373230e+07</td>\n",
              "      <td>5.471168e+04</td>\n",
              "      <td>13677.921250</td>\n",
              "      <td>4</td>\n",
              "      <td>1.0</td>\n",
              "      <td>4</td>\n",
              "    </tr>\n",
              "    <tr>\n",
              "      <th>1786</th>\n",
              "      <td>Zipaquira</td>\n",
              "      <td>SAL</td>\n",
              "      <td>1.128904e+09</td>\n",
              "      <td>2.822261e+08</td>\n",
              "      <td>2.633319e+04</td>\n",
              "      <td>6583.297470</td>\n",
              "      <td>6</td>\n",
              "      <td>1.5</td>\n",
              "      <td>4</td>\n",
              "    </tr>\n",
              "  </tbody>\n",
              "</table>\n",
              "<p>1787 rows × 9 columns</p>\n",
              "</div>\n",
              "      <button class=\"colab-df-convert\" onclick=\"convertToInteractive('df-669f4353-3297-4721-bb84-0df68771cefc')\"\n",
              "              title=\"Convert this dataframe to an interactive table.\"\n",
              "              style=\"display:none;\">\n",
              "        \n",
              "  <svg xmlns=\"http://www.w3.org/2000/svg\" height=\"24px\"viewBox=\"0 0 24 24\"\n",
              "       width=\"24px\">\n",
              "    <path d=\"M0 0h24v24H0V0z\" fill=\"none\"/>\n",
              "    <path d=\"M18.56 5.44l.94 2.06.94-2.06 2.06-.94-2.06-.94-.94-2.06-.94 2.06-2.06.94zm-11 1L8.5 8.5l.94-2.06 2.06-.94-2.06-.94L8.5 2.5l-.94 2.06-2.06.94zm10 10l.94 2.06.94-2.06 2.06-.94-2.06-.94-.94-2.06-.94 2.06-2.06.94z\"/><path d=\"M17.41 7.96l-1.37-1.37c-.4-.4-.92-.59-1.43-.59-.52 0-1.04.2-1.43.59L10.3 9.45l-7.72 7.72c-.78.78-.78 2.05 0 2.83L4 21.41c.39.39.9.59 1.41.59.51 0 1.02-.2 1.41-.59l7.78-7.78 2.81-2.81c.8-.78.8-2.07 0-2.86zM5.41 20L4 18.59l7.72-7.72 1.47 1.35L5.41 20z\"/>\n",
              "  </svg>\n",
              "      </button>\n",
              "      \n",
              "  <style>\n",
              "    .colab-df-container {\n",
              "      display:flex;\n",
              "      flex-wrap:wrap;\n",
              "      gap: 12px;\n",
              "    }\n",
              "\n",
              "    .colab-df-convert {\n",
              "      background-color: #E8F0FE;\n",
              "      border: none;\n",
              "      border-radius: 50%;\n",
              "      cursor: pointer;\n",
              "      display: none;\n",
              "      fill: #1967D2;\n",
              "      height: 32px;\n",
              "      padding: 0 0 0 0;\n",
              "      width: 32px;\n",
              "    }\n",
              "\n",
              "    .colab-df-convert:hover {\n",
              "      background-color: #E2EBFA;\n",
              "      box-shadow: 0px 1px 2px rgba(60, 64, 67, 0.3), 0px 1px 3px 1px rgba(60, 64, 67, 0.15);\n",
              "      fill: #174EA6;\n",
              "    }\n",
              "\n",
              "    [theme=dark] .colab-df-convert {\n",
              "      background-color: #3B4455;\n",
              "      fill: #D2E3FC;\n",
              "    }\n",
              "\n",
              "    [theme=dark] .colab-df-convert:hover {\n",
              "      background-color: #434B5C;\n",
              "      box-shadow: 0px 1px 3px 1px rgba(0, 0, 0, 0.15);\n",
              "      filter: drop-shadow(0px 1px 2px rgba(0, 0, 0, 0.3));\n",
              "      fill: #FFFFFF;\n",
              "    }\n",
              "  </style>\n",
              "\n",
              "      <script>\n",
              "        const buttonEl =\n",
              "          document.querySelector('#df-669f4353-3297-4721-bb84-0df68771cefc button.colab-df-convert');\n",
              "        buttonEl.style.display =\n",
              "          google.colab.kernel.accessAllowed ? 'block' : 'none';\n",
              "\n",
              "        async function convertToInteractive(key) {\n",
              "          const element = document.querySelector('#df-669f4353-3297-4721-bb84-0df68771cefc');\n",
              "          const dataTable =\n",
              "            await google.colab.kernel.invokeFunction('convertToInteractive',\n",
              "                                                     [key], {});\n",
              "          if (!dataTable) return;\n",
              "\n",
              "          const docLinkHtml = 'Like what you see? Visit the ' +\n",
              "            '<a target=\"_blank\" href=https://colab.research.google.com/notebooks/data_table.ipynb>data table notebook</a>'\n",
              "            + ' to learn more about interactive tables.';\n",
              "          element.innerHTML = '';\n",
              "          dataTable['output_type'] = 'display_data';\n",
              "          await google.colab.output.renderOutput(dataTable, element);\n",
              "          const docLink = document.createElement('div');\n",
              "          docLink.innerHTML = docLinkHtml;\n",
              "          element.appendChild(docLink);\n",
              "        }\n",
              "      </script>\n",
              "    </div>\n",
              "  </div>\n",
              "  "
            ]
          },
          "metadata": {},
          "execution_count": 20
        }
      ]
    },
    {
      "cell_type": "code",
      "source": [
        "columns = [\n",
        "    'valor_contraprestacion_recurso',\n",
        "    'valor_prom_contraprestacion_trim_acti_recurso',\n",
        "    'cantidad_produccion_recurso',\n",
        "    'cantidad_produccion_prom_trim_acti_recurso',\n",
        "    'ntx_totales_trim_activi_recurso',\n",
        "    'ntx_prom_trim_acti_recurso',\n",
        "    'trimestre_activos_recurso'\n",
        "  ]"
      ],
      "metadata": {
        "id": "AmL7fuE5sGTM"
      },
      "execution_count": 21,
      "outputs": []
    },
    {
      "cell_type": "code",
      "source": [
        "def pivoteador(data, columns):\n",
        "  data_return = pd.DataFrame()\n",
        "  for i in columns:\n",
        "    valor_total_recurso = data.pivot(index='municipio_productor', columns='recurso_natural', values=i).reset_index()\n",
        "    valor_total_recurso = valor_total_recurso.fillna(0)\n",
        "    columns_recurso = valor_total_recurso.columns\n",
        "    columns_recurso = [f'{i}({c})' for c in columns_recurso]\n",
        "    valor_total_recurso.columns = ['municipio_productor']+columns_recurso[1:]\n",
        "    if data_return.empty:\n",
        "      data_return = valor_total_recurso\n",
        "    else:\n",
        "      data_return = pd.merge(data_return, valor_total_recurso, on = 'municipio_productor', how=\"inner\")\n",
        "  return data_return"
      ],
      "metadata": {
        "id": "D0s84D1QKJbS"
      },
      "execution_count": 22,
      "outputs": []
    },
    {
      "cell_type": "code",
      "source": [
        "pivoteador(transaccion_recurso, columns)"
      ],
      "metadata": {
        "colab": {
          "base_uri": "https://localhost:8080/",
          "height": 522
        },
        "id": "hU6hmKanWAe3",
        "outputId": "f92c4dcf-30bc-4f5d-de47-ace49c877606"
      },
      "execution_count": 23,
      "outputs": [
        {
          "output_type": "execute_result",
          "data": {
            "text/plain": [
              "    municipio_productor  valor_contraprestacion_recurso(ARCILLAS)  \\\n",
              "0             Abejorral                                       0.0   \n",
              "1                Abrego                                       0.0   \n",
              "2              Abriaqui                                       0.0   \n",
              "3               Acacias                                       0.0   \n",
              "4                Agrado                                       0.0   \n",
              "..                  ...                                       ...   \n",
              "640               Yumbo                                       0.0   \n",
              "641            Zapatoca                                       0.0   \n",
              "642            Zaragoza                                       0.0   \n",
              "643              Zarzal                                       0.0   \n",
              "644           Zipaquira                                       0.0   \n",
              "\n",
              "     valor_contraprestacion_recurso(ARCILLAS BENTONITICA)  \\\n",
              "0                                                  0.0      \n",
              "1                                                  0.0      \n",
              "2                                                  0.0      \n",
              "3                                                  0.0      \n",
              "4                                                  0.0      \n",
              "..                                                 ...      \n",
              "640                                                0.0      \n",
              "641                                                0.0      \n",
              "642                                                0.0      \n",
              "643                                                0.0      \n",
              "644                                                0.0      \n",
              "\n",
              "     valor_contraprestacion_recurso(ARCILLAS CAOLINITICA)  \\\n",
              "0                                                  0.0      \n",
              "1                                                  0.0      \n",
              "2                                                  0.0      \n",
              "3                                                  0.0      \n",
              "4                                                  0.0      \n",
              "..                                                 ...      \n",
              "640                                                0.0      \n",
              "641                                                0.0      \n",
              "642                                                0.0      \n",
              "643                                                0.0      \n",
              "644                                                0.0      \n",
              "\n",
              "     valor_contraprestacion_recurso(ARCILLAS CERAMICAS)  \\\n",
              "0                                         6.446232e+06    \n",
              "1                                         0.000000e+00    \n",
              "2                                         0.000000e+00    \n",
              "3                                         0.000000e+00    \n",
              "4                                         0.000000e+00    \n",
              "..                                                 ...    \n",
              "640                                       0.000000e+00    \n",
              "641                                       0.000000e+00    \n",
              "642                                       0.000000e+00    \n",
              "643                                       0.000000e+00    \n",
              "644                                       1.777661e+05    \n",
              "\n",
              "     valor_contraprestacion_recurso(ARCILLAS FERRUGINOSAS)  \\\n",
              "0                                                  0.0       \n",
              "1                                                  0.0       \n",
              "2                                                  0.0       \n",
              "3                                                  0.0       \n",
              "4                                                  0.0       \n",
              "..                                                 ...       \n",
              "640                                                0.0       \n",
              "641                                                0.0       \n",
              "642                                                0.0       \n",
              "643                                                0.0       \n",
              "644                                                0.0       \n",
              "\n",
              "     valor_contraprestacion_recurso(ARCILLAS MISCELANEAS)  \\\n",
              "0                                         0.000000e+00      \n",
              "1                                         0.000000e+00      \n",
              "2                                         0.000000e+00      \n",
              "3                                         4.423002e+06      \n",
              "4                                         0.000000e+00      \n",
              "..                                                 ...      \n",
              "640                                       2.902331e+05      \n",
              "641                                       0.000000e+00      \n",
              "642                                       0.000000e+00      \n",
              "643                                       1.421807e+06      \n",
              "644                                       0.000000e+00      \n",
              "\n",
              "     valor_contraprestacion_recurso(ARCILLAS REFRACTARIAS)  \\\n",
              "0                                                  0.0       \n",
              "1                                                  0.0       \n",
              "2                                                  0.0       \n",
              "3                                                  0.0       \n",
              "4                                                  0.0       \n",
              "..                                                 ...       \n",
              "640                                                0.0       \n",
              "641                                                0.0       \n",
              "642                                                0.0       \n",
              "643                                                0.0       \n",
              "644                                                0.0       \n",
              "\n",
              "     valor_contraprestacion_recurso(ARENA DE CANTERA)  \\\n",
              "0                                             0.00000   \n",
              "1                                             0.00000   \n",
              "2                                             0.00000   \n",
              "3                                         50902.52111   \n",
              "4                                             0.00000   \n",
              "..                                                ...   \n",
              "640                                           0.00000   \n",
              "641                                           0.00000   \n",
              "642                                           0.00000   \n",
              "643                                           0.00000   \n",
              "644                                           0.00000   \n",
              "\n",
              "     valor_contraprestacion_recurso(ARENA DE RIO)  ...  \\\n",
              "0                                    0.000000e+00  ...   \n",
              "1                                    0.000000e+00  ...   \n",
              "2                                    0.000000e+00  ...   \n",
              "3                                    8.445885e+06  ...   \n",
              "4                                    0.000000e+00  ...   \n",
              "..                                            ...  ...   \n",
              "640                                  1.361114e+06  ...   \n",
              "641                                  0.000000e+00  ...   \n",
              "642                                  0.000000e+00  ...   \n",
              "643                                  0.000000e+00  ...   \n",
              "644                                  0.000000e+00  ...   \n",
              "\n",
              "     trimestre_activos_recurso(RECEBO)  \\\n",
              "0                                  0.0   \n",
              "1                                  0.0   \n",
              "2                                  0.0   \n",
              "3                                  0.0   \n",
              "4                                  0.0   \n",
              "..                                 ...   \n",
              "640                                4.0   \n",
              "641                                0.0   \n",
              "642                                0.0   \n",
              "643                                0.0   \n",
              "644                                0.0   \n",
              "\n",
              "     trimestre_activos_recurso(ROCA CORALINA (BLOQUE MAYOR O IGUAL A 1 M3))  \\\n",
              "0                                                  0.0                        \n",
              "1                                                  0.0                        \n",
              "2                                                  0.0                        \n",
              "3                                                  0.0                        \n",
              "4                                                  0.0                        \n",
              "..                                                 ...                        \n",
              "640                                                0.0                        \n",
              "641                                                0.0                        \n",
              "642                                                0.0                        \n",
              "643                                                0.0                        \n",
              "644                                                0.0                        \n",
              "\n",
              "     trimestre_activos_recurso(ROCA FOSFORICA)  \\\n",
              "0                                          0.0   \n",
              "1                                          0.0   \n",
              "2                                          0.0   \n",
              "3                                          0.0   \n",
              "4                                          0.0   \n",
              "..                                         ...   \n",
              "640                                        0.0   \n",
              "641                                        0.0   \n",
              "642                                        0.0   \n",
              "643                                        0.0   \n",
              "644                                        0.0   \n",
              "\n",
              "     trimestre_activos_recurso(SAL)  \\\n",
              "0                               0.0   \n",
              "1                               0.0   \n",
              "2                               0.0   \n",
              "3                               0.0   \n",
              "4                               0.0   \n",
              "..                              ...   \n",
              "640                             0.0   \n",
              "641                             0.0   \n",
              "642                             0.0   \n",
              "643                             0.0   \n",
              "644                             4.0   \n",
              "\n",
              "     trimestre_activos_recurso(SERPENTINA (BLOQUE MAYOR O IGUAL A 1 M3))  \\\n",
              "0                                                  0.0                     \n",
              "1                                                  0.0                     \n",
              "2                                                  0.0                     \n",
              "3                                                  0.0                     \n",
              "4                                                  0.0                     \n",
              "..                                                 ...                     \n",
              "640                                                0.0                     \n",
              "641                                                0.0                     \n",
              "642                                                0.0                     \n",
              "643                                                0.0                     \n",
              "644                                                0.0                     \n",
              "\n",
              "     trimestre_activos_recurso(SERPENTINA (BLOQUE MENOR A 1 M3))  \\\n",
              "0                                                  0.0             \n",
              "1                                                  0.0             \n",
              "2                                                  0.0             \n",
              "3                                                  0.0             \n",
              "4                                                  0.0             \n",
              "..                                                 ...             \n",
              "640                                                0.0             \n",
              "641                                                0.0             \n",
              "642                                                0.0             \n",
              "643                                                0.0             \n",
              "644                                                0.0             \n",
              "\n",
              "     trimestre_activos_recurso(SERPENTINA EN RAJON)  \\\n",
              "0                                               0.0   \n",
              "1                                               0.0   \n",
              "2                                               0.0   \n",
              "3                                               0.0   \n",
              "4                                               0.0   \n",
              "..                                              ...   \n",
              "640                                             0.0   \n",
              "641                                             0.0   \n",
              "642                                             0.0   \n",
              "643                                             0.0   \n",
              "644                                             0.0   \n",
              "\n",
              "     trimestre_activos_recurso(TALCO)  \\\n",
              "0                                 0.0   \n",
              "1                                 0.0   \n",
              "2                                 0.0   \n",
              "3                                 0.0   \n",
              "4                                 0.0   \n",
              "..                                ...   \n",
              "640                               0.0   \n",
              "641                               0.0   \n",
              "642                               0.0   \n",
              "643                               0.0   \n",
              "644                               0.0   \n",
              "\n",
              "     trimestre_activos_recurso(TRAVERTINO Y CALIZAS CRISTALINAS EN BLOQUE MAYOR O IGUAL A 1 M3)  \\\n",
              "0                                                  0.0                                            \n",
              "1                                                  0.0                                            \n",
              "2                                                  0.0                                            \n",
              "3                                                  0.0                                            \n",
              "4                                                  0.0                                            \n",
              "..                                                 ...                                            \n",
              "640                                                0.0                                            \n",
              "641                                                0.0                                            \n",
              "642                                                0.0                                            \n",
              "643                                                0.0                                            \n",
              "644                                                0.0                                            \n",
              "\n",
              "     trimestre_activos_recurso(YESO)  \n",
              "0                                0.0  \n",
              "1                                0.0  \n",
              "2                                0.0  \n",
              "3                                0.0  \n",
              "4                                0.0  \n",
              "..                               ...  \n",
              "640                              0.0  \n",
              "641                              4.0  \n",
              "642                              0.0  \n",
              "643                              0.0  \n",
              "644                              0.0  \n",
              "\n",
              "[645 rows x 393 columns]"
            ],
            "text/html": [
              "\n",
              "  <div id=\"df-61746d0b-32cf-49a8-9bf4-d86da06b198f\">\n",
              "    <div class=\"colab-df-container\">\n",
              "      <div>\n",
              "<style scoped>\n",
              "    .dataframe tbody tr th:only-of-type {\n",
              "        vertical-align: middle;\n",
              "    }\n",
              "\n",
              "    .dataframe tbody tr th {\n",
              "        vertical-align: top;\n",
              "    }\n",
              "\n",
              "    .dataframe thead th {\n",
              "        text-align: right;\n",
              "    }\n",
              "</style>\n",
              "<table border=\"1\" class=\"dataframe\">\n",
              "  <thead>\n",
              "    <tr style=\"text-align: right;\">\n",
              "      <th></th>\n",
              "      <th>municipio_productor</th>\n",
              "      <th>valor_contraprestacion_recurso(ARCILLAS)</th>\n",
              "      <th>valor_contraprestacion_recurso(ARCILLAS BENTONITICA)</th>\n",
              "      <th>valor_contraprestacion_recurso(ARCILLAS CAOLINITICA)</th>\n",
              "      <th>valor_contraprestacion_recurso(ARCILLAS CERAMICAS)</th>\n",
              "      <th>valor_contraprestacion_recurso(ARCILLAS FERRUGINOSAS)</th>\n",
              "      <th>valor_contraprestacion_recurso(ARCILLAS MISCELANEAS)</th>\n",
              "      <th>valor_contraprestacion_recurso(ARCILLAS REFRACTARIAS)</th>\n",
              "      <th>valor_contraprestacion_recurso(ARENA DE CANTERA)</th>\n",
              "      <th>valor_contraprestacion_recurso(ARENA DE RIO)</th>\n",
              "      <th>...</th>\n",
              "      <th>trimestre_activos_recurso(RECEBO)</th>\n",
              "      <th>trimestre_activos_recurso(ROCA CORALINA (BLOQUE MAYOR O IGUAL A 1 M3))</th>\n",
              "      <th>trimestre_activos_recurso(ROCA FOSFORICA)</th>\n",
              "      <th>trimestre_activos_recurso(SAL)</th>\n",
              "      <th>trimestre_activos_recurso(SERPENTINA (BLOQUE MAYOR O IGUAL A 1 M3))</th>\n",
              "      <th>trimestre_activos_recurso(SERPENTINA (BLOQUE MENOR A 1 M3))</th>\n",
              "      <th>trimestre_activos_recurso(SERPENTINA EN RAJON)</th>\n",
              "      <th>trimestre_activos_recurso(TALCO)</th>\n",
              "      <th>trimestre_activos_recurso(TRAVERTINO Y CALIZAS CRISTALINAS EN BLOQUE MAYOR O IGUAL A 1 M3)</th>\n",
              "      <th>trimestre_activos_recurso(YESO)</th>\n",
              "    </tr>\n",
              "  </thead>\n",
              "  <tbody>\n",
              "    <tr>\n",
              "      <th>0</th>\n",
              "      <td>Abejorral</td>\n",
              "      <td>0.0</td>\n",
              "      <td>0.0</td>\n",
              "      <td>0.0</td>\n",
              "      <td>6.446232e+06</td>\n",
              "      <td>0.0</td>\n",
              "      <td>0.000000e+00</td>\n",
              "      <td>0.0</td>\n",
              "      <td>0.00000</td>\n",
              "      <td>0.000000e+00</td>\n",
              "      <td>...</td>\n",
              "      <td>0.0</td>\n",
              "      <td>0.0</td>\n",
              "      <td>0.0</td>\n",
              "      <td>0.0</td>\n",
              "      <td>0.0</td>\n",
              "      <td>0.0</td>\n",
              "      <td>0.0</td>\n",
              "      <td>0.0</td>\n",
              "      <td>0.0</td>\n",
              "      <td>0.0</td>\n",
              "    </tr>\n",
              "    <tr>\n",
              "      <th>1</th>\n",
              "      <td>Abrego</td>\n",
              "      <td>0.0</td>\n",
              "      <td>0.0</td>\n",
              "      <td>0.0</td>\n",
              "      <td>0.000000e+00</td>\n",
              "      <td>0.0</td>\n",
              "      <td>0.000000e+00</td>\n",
              "      <td>0.0</td>\n",
              "      <td>0.00000</td>\n",
              "      <td>0.000000e+00</td>\n",
              "      <td>...</td>\n",
              "      <td>0.0</td>\n",
              "      <td>0.0</td>\n",
              "      <td>0.0</td>\n",
              "      <td>0.0</td>\n",
              "      <td>0.0</td>\n",
              "      <td>0.0</td>\n",
              "      <td>0.0</td>\n",
              "      <td>0.0</td>\n",
              "      <td>0.0</td>\n",
              "      <td>0.0</td>\n",
              "    </tr>\n",
              "    <tr>\n",
              "      <th>2</th>\n",
              "      <td>Abriaqui</td>\n",
              "      <td>0.0</td>\n",
              "      <td>0.0</td>\n",
              "      <td>0.0</td>\n",
              "      <td>0.000000e+00</td>\n",
              "      <td>0.0</td>\n",
              "      <td>0.000000e+00</td>\n",
              "      <td>0.0</td>\n",
              "      <td>0.00000</td>\n",
              "      <td>0.000000e+00</td>\n",
              "      <td>...</td>\n",
              "      <td>0.0</td>\n",
              "      <td>0.0</td>\n",
              "      <td>0.0</td>\n",
              "      <td>0.0</td>\n",
              "      <td>0.0</td>\n",
              "      <td>0.0</td>\n",
              "      <td>0.0</td>\n",
              "      <td>0.0</td>\n",
              "      <td>0.0</td>\n",
              "      <td>0.0</td>\n",
              "    </tr>\n",
              "    <tr>\n",
              "      <th>3</th>\n",
              "      <td>Acacias</td>\n",
              "      <td>0.0</td>\n",
              "      <td>0.0</td>\n",
              "      <td>0.0</td>\n",
              "      <td>0.000000e+00</td>\n",
              "      <td>0.0</td>\n",
              "      <td>4.423002e+06</td>\n",
              "      <td>0.0</td>\n",
              "      <td>50902.52111</td>\n",
              "      <td>8.445885e+06</td>\n",
              "      <td>...</td>\n",
              "      <td>0.0</td>\n",
              "      <td>0.0</td>\n",
              "      <td>0.0</td>\n",
              "      <td>0.0</td>\n",
              "      <td>0.0</td>\n",
              "      <td>0.0</td>\n",
              "      <td>0.0</td>\n",
              "      <td>0.0</td>\n",
              "      <td>0.0</td>\n",
              "      <td>0.0</td>\n",
              "    </tr>\n",
              "    <tr>\n",
              "      <th>4</th>\n",
              "      <td>Agrado</td>\n",
              "      <td>0.0</td>\n",
              "      <td>0.0</td>\n",
              "      <td>0.0</td>\n",
              "      <td>0.000000e+00</td>\n",
              "      <td>0.0</td>\n",
              "      <td>0.000000e+00</td>\n",
              "      <td>0.0</td>\n",
              "      <td>0.00000</td>\n",
              "      <td>0.000000e+00</td>\n",
              "      <td>...</td>\n",
              "      <td>0.0</td>\n",
              "      <td>0.0</td>\n",
              "      <td>0.0</td>\n",
              "      <td>0.0</td>\n",
              "      <td>0.0</td>\n",
              "      <td>0.0</td>\n",
              "      <td>0.0</td>\n",
              "      <td>0.0</td>\n",
              "      <td>0.0</td>\n",
              "      <td>0.0</td>\n",
              "    </tr>\n",
              "    <tr>\n",
              "      <th>...</th>\n",
              "      <td>...</td>\n",
              "      <td>...</td>\n",
              "      <td>...</td>\n",
              "      <td>...</td>\n",
              "      <td>...</td>\n",
              "      <td>...</td>\n",
              "      <td>...</td>\n",
              "      <td>...</td>\n",
              "      <td>...</td>\n",
              "      <td>...</td>\n",
              "      <td>...</td>\n",
              "      <td>...</td>\n",
              "      <td>...</td>\n",
              "      <td>...</td>\n",
              "      <td>...</td>\n",
              "      <td>...</td>\n",
              "      <td>...</td>\n",
              "      <td>...</td>\n",
              "      <td>...</td>\n",
              "      <td>...</td>\n",
              "      <td>...</td>\n",
              "    </tr>\n",
              "    <tr>\n",
              "      <th>640</th>\n",
              "      <td>Yumbo</td>\n",
              "      <td>0.0</td>\n",
              "      <td>0.0</td>\n",
              "      <td>0.0</td>\n",
              "      <td>0.000000e+00</td>\n",
              "      <td>0.0</td>\n",
              "      <td>2.902331e+05</td>\n",
              "      <td>0.0</td>\n",
              "      <td>0.00000</td>\n",
              "      <td>1.361114e+06</td>\n",
              "      <td>...</td>\n",
              "      <td>4.0</td>\n",
              "      <td>0.0</td>\n",
              "      <td>0.0</td>\n",
              "      <td>0.0</td>\n",
              "      <td>0.0</td>\n",
              "      <td>0.0</td>\n",
              "      <td>0.0</td>\n",
              "      <td>0.0</td>\n",
              "      <td>0.0</td>\n",
              "      <td>0.0</td>\n",
              "    </tr>\n",
              "    <tr>\n",
              "      <th>641</th>\n",
              "      <td>Zapatoca</td>\n",
              "      <td>0.0</td>\n",
              "      <td>0.0</td>\n",
              "      <td>0.0</td>\n",
              "      <td>0.000000e+00</td>\n",
              "      <td>0.0</td>\n",
              "      <td>0.000000e+00</td>\n",
              "      <td>0.0</td>\n",
              "      <td>0.00000</td>\n",
              "      <td>0.000000e+00</td>\n",
              "      <td>...</td>\n",
              "      <td>0.0</td>\n",
              "      <td>0.0</td>\n",
              "      <td>0.0</td>\n",
              "      <td>0.0</td>\n",
              "      <td>0.0</td>\n",
              "      <td>0.0</td>\n",
              "      <td>0.0</td>\n",
              "      <td>0.0</td>\n",
              "      <td>0.0</td>\n",
              "      <td>4.0</td>\n",
              "    </tr>\n",
              "    <tr>\n",
              "      <th>642</th>\n",
              "      <td>Zaragoza</td>\n",
              "      <td>0.0</td>\n",
              "      <td>0.0</td>\n",
              "      <td>0.0</td>\n",
              "      <td>0.000000e+00</td>\n",
              "      <td>0.0</td>\n",
              "      <td>0.000000e+00</td>\n",
              "      <td>0.0</td>\n",
              "      <td>0.00000</td>\n",
              "      <td>0.000000e+00</td>\n",
              "      <td>...</td>\n",
              "      <td>0.0</td>\n",
              "      <td>0.0</td>\n",
              "      <td>0.0</td>\n",
              "      <td>0.0</td>\n",
              "      <td>0.0</td>\n",
              "      <td>0.0</td>\n",
              "      <td>0.0</td>\n",
              "      <td>0.0</td>\n",
              "      <td>0.0</td>\n",
              "      <td>0.0</td>\n",
              "    </tr>\n",
              "    <tr>\n",
              "      <th>643</th>\n",
              "      <td>Zarzal</td>\n",
              "      <td>0.0</td>\n",
              "      <td>0.0</td>\n",
              "      <td>0.0</td>\n",
              "      <td>0.000000e+00</td>\n",
              "      <td>0.0</td>\n",
              "      <td>1.421807e+06</td>\n",
              "      <td>0.0</td>\n",
              "      <td>0.00000</td>\n",
              "      <td>0.000000e+00</td>\n",
              "      <td>...</td>\n",
              "      <td>0.0</td>\n",
              "      <td>0.0</td>\n",
              "      <td>0.0</td>\n",
              "      <td>0.0</td>\n",
              "      <td>0.0</td>\n",
              "      <td>0.0</td>\n",
              "      <td>0.0</td>\n",
              "      <td>0.0</td>\n",
              "      <td>0.0</td>\n",
              "      <td>0.0</td>\n",
              "    </tr>\n",
              "    <tr>\n",
              "      <th>644</th>\n",
              "      <td>Zipaquira</td>\n",
              "      <td>0.0</td>\n",
              "      <td>0.0</td>\n",
              "      <td>0.0</td>\n",
              "      <td>1.777661e+05</td>\n",
              "      <td>0.0</td>\n",
              "      <td>0.000000e+00</td>\n",
              "      <td>0.0</td>\n",
              "      <td>0.00000</td>\n",
              "      <td>0.000000e+00</td>\n",
              "      <td>...</td>\n",
              "      <td>0.0</td>\n",
              "      <td>0.0</td>\n",
              "      <td>0.0</td>\n",
              "      <td>4.0</td>\n",
              "      <td>0.0</td>\n",
              "      <td>0.0</td>\n",
              "      <td>0.0</td>\n",
              "      <td>0.0</td>\n",
              "      <td>0.0</td>\n",
              "      <td>0.0</td>\n",
              "    </tr>\n",
              "  </tbody>\n",
              "</table>\n",
              "<p>645 rows × 393 columns</p>\n",
              "</div>\n",
              "      <button class=\"colab-df-convert\" onclick=\"convertToInteractive('df-61746d0b-32cf-49a8-9bf4-d86da06b198f')\"\n",
              "              title=\"Convert this dataframe to an interactive table.\"\n",
              "              style=\"display:none;\">\n",
              "        \n",
              "  <svg xmlns=\"http://www.w3.org/2000/svg\" height=\"24px\"viewBox=\"0 0 24 24\"\n",
              "       width=\"24px\">\n",
              "    <path d=\"M0 0h24v24H0V0z\" fill=\"none\"/>\n",
              "    <path d=\"M18.56 5.44l.94 2.06.94-2.06 2.06-.94-2.06-.94-.94-2.06-.94 2.06-2.06.94zm-11 1L8.5 8.5l.94-2.06 2.06-.94-2.06-.94L8.5 2.5l-.94 2.06-2.06.94zm10 10l.94 2.06.94-2.06 2.06-.94-2.06-.94-.94-2.06-.94 2.06-2.06.94z\"/><path d=\"M17.41 7.96l-1.37-1.37c-.4-.4-.92-.59-1.43-.59-.52 0-1.04.2-1.43.59L10.3 9.45l-7.72 7.72c-.78.78-.78 2.05 0 2.83L4 21.41c.39.39.9.59 1.41.59.51 0 1.02-.2 1.41-.59l7.78-7.78 2.81-2.81c.8-.78.8-2.07 0-2.86zM5.41 20L4 18.59l7.72-7.72 1.47 1.35L5.41 20z\"/>\n",
              "  </svg>\n",
              "      </button>\n",
              "      \n",
              "  <style>\n",
              "    .colab-df-container {\n",
              "      display:flex;\n",
              "      flex-wrap:wrap;\n",
              "      gap: 12px;\n",
              "    }\n",
              "\n",
              "    .colab-df-convert {\n",
              "      background-color: #E8F0FE;\n",
              "      border: none;\n",
              "      border-radius: 50%;\n",
              "      cursor: pointer;\n",
              "      display: none;\n",
              "      fill: #1967D2;\n",
              "      height: 32px;\n",
              "      padding: 0 0 0 0;\n",
              "      width: 32px;\n",
              "    }\n",
              "\n",
              "    .colab-df-convert:hover {\n",
              "      background-color: #E2EBFA;\n",
              "      box-shadow: 0px 1px 2px rgba(60, 64, 67, 0.3), 0px 1px 3px 1px rgba(60, 64, 67, 0.15);\n",
              "      fill: #174EA6;\n",
              "    }\n",
              "\n",
              "    [theme=dark] .colab-df-convert {\n",
              "      background-color: #3B4455;\n",
              "      fill: #D2E3FC;\n",
              "    }\n",
              "\n",
              "    [theme=dark] .colab-df-convert:hover {\n",
              "      background-color: #434B5C;\n",
              "      box-shadow: 0px 1px 3px 1px rgba(0, 0, 0, 0.15);\n",
              "      filter: drop-shadow(0px 1px 2px rgba(0, 0, 0, 0.3));\n",
              "      fill: #FFFFFF;\n",
              "    }\n",
              "  </style>\n",
              "\n",
              "      <script>\n",
              "        const buttonEl =\n",
              "          document.querySelector('#df-61746d0b-32cf-49a8-9bf4-d86da06b198f button.colab-df-convert');\n",
              "        buttonEl.style.display =\n",
              "          google.colab.kernel.accessAllowed ? 'block' : 'none';\n",
              "\n",
              "        async function convertToInteractive(key) {\n",
              "          const element = document.querySelector('#df-61746d0b-32cf-49a8-9bf4-d86da06b198f');\n",
              "          const dataTable =\n",
              "            await google.colab.kernel.invokeFunction('convertToInteractive',\n",
              "                                                     [key], {});\n",
              "          if (!dataTable) return;\n",
              "\n",
              "          const docLinkHtml = 'Like what you see? Visit the ' +\n",
              "            '<a target=\"_blank\" href=https://colab.research.google.com/notebooks/data_table.ipynb>data table notebook</a>'\n",
              "            + ' to learn more about interactive tables.';\n",
              "          element.innerHTML = '';\n",
              "          dataTable['output_type'] = 'display_data';\n",
              "          await google.colab.output.renderOutput(dataTable, element);\n",
              "          const docLink = document.createElement('div');\n",
              "          docLink.innerHTML = docLinkHtml;\n",
              "          element.appendChild(docLink);\n",
              "        }\n",
              "      </script>\n",
              "    </div>\n",
              "  </div>\n",
              "  "
            ]
          },
          "metadata": {},
          "execution_count": 23
        }
      ]
    },
    {
      "cell_type": "markdown",
      "source": [
        "# **Constantes**\n",
        "---"
      ],
      "metadata": {
        "id": "gzg2gDJebByz"
      }
    },
    {
      "cell_type": "code",
      "source": [
        "random_state = 12354"
      ],
      "metadata": {
        "id": "0Stc5qg2kR_5"
      },
      "execution_count": 24,
      "outputs": []
    },
    {
      "cell_type": "markdown",
      "source": [
        "# **Modelado**\n",
        "---"
      ],
      "metadata": {
        "id": "TIH_EVNpZdp1"
      }
    },
    {
      "cell_type": "code",
      "source": [
        "from sklearn.cluster import KMeans, BisectingKMeans, AffinityPropagation\n",
        "from sklearn.preprocessing import StandardScaler, MinMaxScaler"
      ],
      "metadata": {
        "id": "b5vbMNvKjkEy"
      },
      "execution_count": 25,
      "outputs": []
    },
    {
      "cell_type": "code",
      "source": [
        "transaccion_valor"
      ],
      "metadata": {
        "colab": {
          "base_uri": "https://localhost:8080/",
          "height": 424
        },
        "id": "IWyJeU6HmJOc",
        "outputId": "5ec0efe2-83fe-4504-9ab1-15cf97e05b8b"
      },
      "execution_count": 26,
      "outputs": [
        {
          "output_type": "execute_result",
          "data": {
            "text/plain": [
              "    municipio_productor  valor_contraprestacion_total  \\\n",
              "0             Abejorral                  5.806770e+07   \n",
              "1                Abrego                  3.089795e+06   \n",
              "2              Abriaqui                  2.253532e+07   \n",
              "3               Acacias                  3.524032e+07   \n",
              "4                Agrado                  7.250886e+06   \n",
              "..                  ...                           ...   \n",
              "640               Yumbo                  4.050383e+08   \n",
              "641            Zapatoca                  6.155833e+06   \n",
              "642            Zaragoza                  2.704269e+09   \n",
              "643              Zarzal                  1.421807e+06   \n",
              "644           Zipaquira                  1.424011e+09   \n",
              "\n",
              "     valor_prom_contraprestacion_trim_activo  ntx_totales  \\\n",
              "0                               1.935590e+07            8   \n",
              "1                               7.724488e+05            4   \n",
              "2                               5.633830e+06           24   \n",
              "3                               8.810079e+06           10   \n",
              "4                               7.250886e+06            2   \n",
              "..                                       ...          ...   \n",
              "640                             1.012596e+08           21   \n",
              "641                             1.538958e+06            4   \n",
              "642                             6.760673e+08           24   \n",
              "643                             7.109034e+05            2   \n",
              "644                             3.560028e+08           14   \n",
              "\n",
              "     ntx_prom_trim_activo  trimestre_actividad  cantidad_produccion_total  \\\n",
              "0                2.666667                    3               4.170515e+05   \n",
              "1                1.000000                    4               2.052700e+04   \n",
              "2                6.000000                    4               1.017852e+04   \n",
              "3                2.500000                    4               5.022237e+05   \n",
              "4                2.000000                    1               4.551400e+04   \n",
              "..                    ...                  ...                        ...   \n",
              "640              5.250000                    4               3.015780e+06   \n",
              "641              1.000000                    4               7.444965e+03   \n",
              "642              6.000000                    4               2.701234e+06   \n",
              "643              1.000000                    2               1.000005e+04   \n",
              "644              3.500000                    4               8.233587e+04   \n",
              "\n",
              "     cantidad_produccion_prom_trim_activo  \n",
              "0                           139017.166667  \n",
              "1                             5131.750000  \n",
              "2                             2544.630250  \n",
              "3                           125555.914090  \n",
              "4                            45514.000000  \n",
              "..                                    ...  \n",
              "640                         753945.036741  \n",
              "641                           1861.241133  \n",
              "642                         675308.621070  \n",
              "643                           5000.024220  \n",
              "644                          20583.968720  \n",
              "\n",
              "[645 rows x 8 columns]"
            ],
            "text/html": [
              "\n",
              "  <div id=\"df-ccdbf4f1-dd85-4c6d-b10d-b3c908e32506\">\n",
              "    <div class=\"colab-df-container\">\n",
              "      <div>\n",
              "<style scoped>\n",
              "    .dataframe tbody tr th:only-of-type {\n",
              "        vertical-align: middle;\n",
              "    }\n",
              "\n",
              "    .dataframe tbody tr th {\n",
              "        vertical-align: top;\n",
              "    }\n",
              "\n",
              "    .dataframe thead th {\n",
              "        text-align: right;\n",
              "    }\n",
              "</style>\n",
              "<table border=\"1\" class=\"dataframe\">\n",
              "  <thead>\n",
              "    <tr style=\"text-align: right;\">\n",
              "      <th></th>\n",
              "      <th>municipio_productor</th>\n",
              "      <th>valor_contraprestacion_total</th>\n",
              "      <th>valor_prom_contraprestacion_trim_activo</th>\n",
              "      <th>ntx_totales</th>\n",
              "      <th>ntx_prom_trim_activo</th>\n",
              "      <th>trimestre_actividad</th>\n",
              "      <th>cantidad_produccion_total</th>\n",
              "      <th>cantidad_produccion_prom_trim_activo</th>\n",
              "    </tr>\n",
              "  </thead>\n",
              "  <tbody>\n",
              "    <tr>\n",
              "      <th>0</th>\n",
              "      <td>Abejorral</td>\n",
              "      <td>5.806770e+07</td>\n",
              "      <td>1.935590e+07</td>\n",
              "      <td>8</td>\n",
              "      <td>2.666667</td>\n",
              "      <td>3</td>\n",
              "      <td>4.170515e+05</td>\n",
              "      <td>139017.166667</td>\n",
              "    </tr>\n",
              "    <tr>\n",
              "      <th>1</th>\n",
              "      <td>Abrego</td>\n",
              "      <td>3.089795e+06</td>\n",
              "      <td>7.724488e+05</td>\n",
              "      <td>4</td>\n",
              "      <td>1.000000</td>\n",
              "      <td>4</td>\n",
              "      <td>2.052700e+04</td>\n",
              "      <td>5131.750000</td>\n",
              "    </tr>\n",
              "    <tr>\n",
              "      <th>2</th>\n",
              "      <td>Abriaqui</td>\n",
              "      <td>2.253532e+07</td>\n",
              "      <td>5.633830e+06</td>\n",
              "      <td>24</td>\n",
              "      <td>6.000000</td>\n",
              "      <td>4</td>\n",
              "      <td>1.017852e+04</td>\n",
              "      <td>2544.630250</td>\n",
              "    </tr>\n",
              "    <tr>\n",
              "      <th>3</th>\n",
              "      <td>Acacias</td>\n",
              "      <td>3.524032e+07</td>\n",
              "      <td>8.810079e+06</td>\n",
              "      <td>10</td>\n",
              "      <td>2.500000</td>\n",
              "      <td>4</td>\n",
              "      <td>5.022237e+05</td>\n",
              "      <td>125555.914090</td>\n",
              "    </tr>\n",
              "    <tr>\n",
              "      <th>4</th>\n",
              "      <td>Agrado</td>\n",
              "      <td>7.250886e+06</td>\n",
              "      <td>7.250886e+06</td>\n",
              "      <td>2</td>\n",
              "      <td>2.000000</td>\n",
              "      <td>1</td>\n",
              "      <td>4.551400e+04</td>\n",
              "      <td>45514.000000</td>\n",
              "    </tr>\n",
              "    <tr>\n",
              "      <th>...</th>\n",
              "      <td>...</td>\n",
              "      <td>...</td>\n",
              "      <td>...</td>\n",
              "      <td>...</td>\n",
              "      <td>...</td>\n",
              "      <td>...</td>\n",
              "      <td>...</td>\n",
              "      <td>...</td>\n",
              "    </tr>\n",
              "    <tr>\n",
              "      <th>640</th>\n",
              "      <td>Yumbo</td>\n",
              "      <td>4.050383e+08</td>\n",
              "      <td>1.012596e+08</td>\n",
              "      <td>21</td>\n",
              "      <td>5.250000</td>\n",
              "      <td>4</td>\n",
              "      <td>3.015780e+06</td>\n",
              "      <td>753945.036741</td>\n",
              "    </tr>\n",
              "    <tr>\n",
              "      <th>641</th>\n",
              "      <td>Zapatoca</td>\n",
              "      <td>6.155833e+06</td>\n",
              "      <td>1.538958e+06</td>\n",
              "      <td>4</td>\n",
              "      <td>1.000000</td>\n",
              "      <td>4</td>\n",
              "      <td>7.444965e+03</td>\n",
              "      <td>1861.241133</td>\n",
              "    </tr>\n",
              "    <tr>\n",
              "      <th>642</th>\n",
              "      <td>Zaragoza</td>\n",
              "      <td>2.704269e+09</td>\n",
              "      <td>6.760673e+08</td>\n",
              "      <td>24</td>\n",
              "      <td>6.000000</td>\n",
              "      <td>4</td>\n",
              "      <td>2.701234e+06</td>\n",
              "      <td>675308.621070</td>\n",
              "    </tr>\n",
              "    <tr>\n",
              "      <th>643</th>\n",
              "      <td>Zarzal</td>\n",
              "      <td>1.421807e+06</td>\n",
              "      <td>7.109034e+05</td>\n",
              "      <td>2</td>\n",
              "      <td>1.000000</td>\n",
              "      <td>2</td>\n",
              "      <td>1.000005e+04</td>\n",
              "      <td>5000.024220</td>\n",
              "    </tr>\n",
              "    <tr>\n",
              "      <th>644</th>\n",
              "      <td>Zipaquira</td>\n",
              "      <td>1.424011e+09</td>\n",
              "      <td>3.560028e+08</td>\n",
              "      <td>14</td>\n",
              "      <td>3.500000</td>\n",
              "      <td>4</td>\n",
              "      <td>8.233587e+04</td>\n",
              "      <td>20583.968720</td>\n",
              "    </tr>\n",
              "  </tbody>\n",
              "</table>\n",
              "<p>645 rows × 8 columns</p>\n",
              "</div>\n",
              "      <button class=\"colab-df-convert\" onclick=\"convertToInteractive('df-ccdbf4f1-dd85-4c6d-b10d-b3c908e32506')\"\n",
              "              title=\"Convert this dataframe to an interactive table.\"\n",
              "              style=\"display:none;\">\n",
              "        \n",
              "  <svg xmlns=\"http://www.w3.org/2000/svg\" height=\"24px\"viewBox=\"0 0 24 24\"\n",
              "       width=\"24px\">\n",
              "    <path d=\"M0 0h24v24H0V0z\" fill=\"none\"/>\n",
              "    <path d=\"M18.56 5.44l.94 2.06.94-2.06 2.06-.94-2.06-.94-.94-2.06-.94 2.06-2.06.94zm-11 1L8.5 8.5l.94-2.06 2.06-.94-2.06-.94L8.5 2.5l-.94 2.06-2.06.94zm10 10l.94 2.06.94-2.06 2.06-.94-2.06-.94-.94-2.06-.94 2.06-2.06.94z\"/><path d=\"M17.41 7.96l-1.37-1.37c-.4-.4-.92-.59-1.43-.59-.52 0-1.04.2-1.43.59L10.3 9.45l-7.72 7.72c-.78.78-.78 2.05 0 2.83L4 21.41c.39.39.9.59 1.41.59.51 0 1.02-.2 1.41-.59l7.78-7.78 2.81-2.81c.8-.78.8-2.07 0-2.86zM5.41 20L4 18.59l7.72-7.72 1.47 1.35L5.41 20z\"/>\n",
              "  </svg>\n",
              "      </button>\n",
              "      \n",
              "  <style>\n",
              "    .colab-df-container {\n",
              "      display:flex;\n",
              "      flex-wrap:wrap;\n",
              "      gap: 12px;\n",
              "    }\n",
              "\n",
              "    .colab-df-convert {\n",
              "      background-color: #E8F0FE;\n",
              "      border: none;\n",
              "      border-radius: 50%;\n",
              "      cursor: pointer;\n",
              "      display: none;\n",
              "      fill: #1967D2;\n",
              "      height: 32px;\n",
              "      padding: 0 0 0 0;\n",
              "      width: 32px;\n",
              "    }\n",
              "\n",
              "    .colab-df-convert:hover {\n",
              "      background-color: #E2EBFA;\n",
              "      box-shadow: 0px 1px 2px rgba(60, 64, 67, 0.3), 0px 1px 3px 1px rgba(60, 64, 67, 0.15);\n",
              "      fill: #174EA6;\n",
              "    }\n",
              "\n",
              "    [theme=dark] .colab-df-convert {\n",
              "      background-color: #3B4455;\n",
              "      fill: #D2E3FC;\n",
              "    }\n",
              "\n",
              "    [theme=dark] .colab-df-convert:hover {\n",
              "      background-color: #434B5C;\n",
              "      box-shadow: 0px 1px 3px 1px rgba(0, 0, 0, 0.15);\n",
              "      filter: drop-shadow(0px 1px 2px rgba(0, 0, 0, 0.3));\n",
              "      fill: #FFFFFF;\n",
              "    }\n",
              "  </style>\n",
              "\n",
              "      <script>\n",
              "        const buttonEl =\n",
              "          document.querySelector('#df-ccdbf4f1-dd85-4c6d-b10d-b3c908e32506 button.colab-df-convert');\n",
              "        buttonEl.style.display =\n",
              "          google.colab.kernel.accessAllowed ? 'block' : 'none';\n",
              "\n",
              "        async function convertToInteractive(key) {\n",
              "          const element = document.querySelector('#df-ccdbf4f1-dd85-4c6d-b10d-b3c908e32506');\n",
              "          const dataTable =\n",
              "            await google.colab.kernel.invokeFunction('convertToInteractive',\n",
              "                                                     [key], {});\n",
              "          if (!dataTable) return;\n",
              "\n",
              "          const docLinkHtml = 'Like what you see? Visit the ' +\n",
              "            '<a target=\"_blank\" href=https://colab.research.google.com/notebooks/data_table.ipynb>data table notebook</a>'\n",
              "            + ' to learn more about interactive tables.';\n",
              "          element.innerHTML = '';\n",
              "          dataTable['output_type'] = 'display_data';\n",
              "          await google.colab.output.renderOutput(dataTable, element);\n",
              "          const docLink = document.createElement('div');\n",
              "          docLink.innerHTML = docLinkHtml;\n",
              "          element.appendChild(docLink);\n",
              "        }\n",
              "      </script>\n",
              "    </div>\n",
              "  </div>\n",
              "  "
            ]
          },
          "metadata": {},
          "execution_count": 26
        }
      ]
    },
    {
      "cell_type": "code",
      "source": [
        "data_df = transaccion_valor[[\"valor_contraprestacion_total\",\n",
        "                             \"valor_prom_contraprestacion_trim_activo\",\n",
        "                             \"ntx_totales\",\t\"ntx_prom_trim_activo\",\n",
        "                             \"trimestre_actividad\"]]"
      ],
      "metadata": {
        "id": "RO78NmhUmTxN"
      },
      "execution_count": 27,
      "outputs": []
    },
    {
      "cell_type": "markdown",
      "source": [
        "**Extandarización**"
      ],
      "metadata": {
        "id": "Chy8GlqOmtsR"
      }
    },
    {
      "cell_type": "code",
      "source": [
        "#estimator = StandardScaler()\n",
        "estimator = MinMaxScaler()\n",
        "data_standar = estimator.fit_transform(data_df)"
      ],
      "metadata": {
        "id": "yTsTI1dkmwyR"
      },
      "execution_count": 28,
      "outputs": []
    },
    {
      "cell_type": "code",
      "source": [
        "paleta = [p for p in paleta]\n",
        "paleta"
      ],
      "metadata": {
        "colab": {
          "base_uri": "https://localhost:8080/"
        },
        "id": "X46ZX15TOhPy",
        "outputId": "dda5bef9-77d6-411f-d6f8-65d8f9789451"
      },
      "execution_count": 29,
      "outputs": [
        {
          "output_type": "execute_result",
          "data": {
            "text/plain": [
              "['blue', 'red', 'orange', 'green', 'pink', 'black', 'gray', 'Cyan']"
            ]
          },
          "metadata": {},
          "execution_count": 29
        }
      ]
    },
    {
      "cell_type": "markdown",
      "source": [
        "# **Kmeans**\n",
        "---"
      ],
      "metadata": {
        "id": "o3FeMx64nvHE"
      }
    },
    {
      "cell_type": "code",
      "source": [
        "kmeans = KMeans(init='k-means++', n_init=10, max_iter=500, random_state=random_state)\n",
        "silhouette_select_cluster(kmeans, (2,10), data_standar, name_model = 'Kmeans')"
      ],
      "metadata": {
        "id": "y2Ky6cNgZc6d",
        "colab": {
          "base_uri": "https://localhost:8080/",
          "height": 504
        },
        "outputId": "d1a32a64-2ed5-4a71-e5de-a3c0b67358ba"
      },
      "execution_count": 30,
      "outputs": [
        {
          "output_type": "execute_result",
          "data": {
            "text/plain": [
              "(2, 0.6816663955915521)"
            ]
          },
          "metadata": {},
          "execution_count": 30
        },
        {
          "output_type": "display_data",
          "data": {
            "text/plain": [
              "<Figure size 800x500 with 1 Axes>"
            ],
            "image/png": "[encoded data removed]"
          },
          "metadata": {}
        }
      ]
    },
    {
      "cell_type": "code",
      "source": [
        "model_kmeans = KMeans(n_clusters=5, init='k-means++', n_init=10, max_iter=500,\n",
        "                      random_state = random_state)\n",
        "model_kmeans.fit(data_standar)\n",
        "y_predict = model_kmeans.predict(data_standar)\n",
        "data_df['segmento'] = y_predict.copy()"
      ],
      "metadata": {
        "colab": {
          "base_uri": "https://localhost:8080/"
        },
        "id": "et275-xIn4Wu",
        "outputId": "de2f861c-91ae-4c95-89ff-dad793223fd8"
      },
      "execution_count": 31,
      "outputs": [
        {
          "output_type": "stream",
          "name": "stderr",
          "text": [
            "<ipython-input-31-787324bd0b4b>:5: SettingWithCopyWarning: \n",
            "A value is trying to be set on a copy of a slice from a DataFrame.\n",
            "Try using .loc[row_indexer,col_indexer] = value instead\n",
            "\n",
            "See the caveats in the documentation: https://pandas.pydata.org/pandas-docs/stable/user_guide/indexing.html#returning-a-view-versus-a-copy\n",
            "  data_df['segmento'] = y_predict.copy()\n"
          ]
        }
      ]
    },
    {
      "cell_type": "code",
      "source": [
        "pie_circle(data_df['segmento'], paleta=paleta, title='Segmento')"
      ],
      "metadata": {
        "colab": {
          "base_uri": "https://localhost:8080/",
          "height": 646
        },
        "id": "ZQX45_panhjJ",
        "outputId": "01f0f958-33e7-4f83-c505-1dcf1e3e17b7"
      },
      "execution_count": 32,
      "outputs": [
        {
          "output_type": "display_data",
          "data": {
            "text/plain": [
              "<Figure size 700x700 with 1 Axes>"
            ],
            "image/png": "[encoded data removed]"
          },
          "metadata": {}
        }
      ]
    },
    {
      "cell_type": "code",
      "source": [
        "visulization_silhouette(data_standar, y_predict, 'Kmeans', paleta)"
      ],
      "metadata": {
        "colab": {
          "base_uri": "https://localhost:8080/",
          "height": 950
        },
        "id": "OttCSnPFN5sB",
        "outputId": "5e2e15ff-31ff-4f9c-88e7-1ce6cce282f2"
      },
      "execution_count": 33,
      "outputs": [
        {
          "output_type": "display_data",
          "data": {
            "text/plain": [
              "<Figure size 1000x1000 with 1 Axes>"
            ],
            "image/png": "[encoded data removed]"
          },
          "metadata": {}
        }
      ]
    },
    {
      "cell_type": "markdown",
      "source": [
        "# BisekKamenas\n",
        "---"
      ],
      "metadata": {
        "id": "jyn8zQ5Mo0vl"
      }
    },
    {
      "cell_type": "code",
      "source": [
        "bisectingKMeans = BisectingKMeans(init='random', n_init=1,\n",
        "                                  random_state=random_state, max_iter=300,\n",
        "                                  bisecting_strategy='biggest_inertia')\n"
      ],
      "metadata": {
        "id": "JLrj_lHBken8"
      },
      "execution_count": 34,
      "outputs": []
    },
    {
      "cell_type": "code",
      "source": [
        "silhouette_select_cluster(bisectingKMeans, (2,10), data_standar,\n",
        "                          name_model = 'bisectingKMeans')"
      ],
      "metadata": {
        "colab": {
          "base_uri": "https://localhost:8080/",
          "height": 505
        },
        "id": "F0_3OTaLppj1",
        "outputId": "0435b052-383b-48ba-e109-daecbac6691e"
      },
      "execution_count": 35,
      "outputs": [
        {
          "output_type": "execute_result",
          "data": {
            "text/plain": [
              "(2, 0.6816663955915521)"
            ]
          },
          "metadata": {},
          "execution_count": 35
        },
        {
          "output_type": "display_data",
          "data": {
            "text/plain": [
              "<Figure size 800x500 with 1 Axes>"
            ],
            "image/png": "[encoded data removed]"
          },
          "metadata": {}
        }
      ]
    },
    {
      "cell_type": "code",
      "source": [
        "modelbisectingKMeans = BisectingKMeans(n_clusters=4, init='random', n_init=1,\n",
        "                                  random_state=random_state, max_iter=300,\n",
        "                                  bisecting_strategy='biggest_inertia')\n",
        "modelbisectingKMeans.fit(data_standar)\n",
        "y_predict = modelbisectingKMeans.predict(data_standar)\n",
        "data_df['segmento'] = y_predict.copy()\n"
      ],
      "metadata": {
        "colab": {
          "base_uri": "https://localhost:8080/"
        },
        "id": "OHFXElGQpzrJ",
        "outputId": "53df0635-67a3-4a60-cc4b-448d2388cbd7"
      },
      "execution_count": 36,
      "outputs": [
        {
          "output_type": "stream",
          "name": "stderr",
          "text": [
            "<ipython-input-36-10d808609d95>:6: SettingWithCopyWarning: \n",
            "A value is trying to be set on a copy of a slice from a DataFrame.\n",
            "Try using .loc[row_indexer,col_indexer] = value instead\n",
            "\n",
            "See the caveats in the documentation: https://pandas.pydata.org/pandas-docs/stable/user_guide/indexing.html#returning-a-view-versus-a-copy\n",
            "  data_df['segmento'] = y_predict.copy()\n"
          ]
        }
      ]
    },
    {
      "cell_type": "code",
      "source": [
        "pie_circle(data_df['segmento'], paleta=paleta, title='Segmento')"
      ],
      "metadata": {
        "colab": {
          "base_uri": "https://localhost:8080/",
          "height": 646
        },
        "id": "ZpwXdPghpw12",
        "outputId": "77ab7aa0-b274-4048-a062-f3b39fe5750c"
      },
      "execution_count": 37,
      "outputs": [
        {
          "output_type": "display_data",
          "data": {
            "text/plain": [
              "<Figure size 700x700 with 1 Axes>"
            ],
            "image/png": "[encoded data removed]"
          },
          "metadata": {}
        }
      ]
    },
    {
      "cell_type": "code",
      "source": [
        "visulization_silhouette(data_standar, y_predict, 'bisectingKMeans', paleta)"
      ],
      "metadata": {
        "colab": {
          "base_uri": "https://localhost:8080/",
          "height": 950
        },
        "id": "9JktjhjRN8J5",
        "outputId": "72338c06-1223-4238-9ca8-ad1531eb63d8"
      },
      "execution_count": 38,
      "outputs": [
        {
          "output_type": "display_data",
          "data": {
            "text/plain": [
              "<Figure size 1000x1000 with 1 Axes>"
            ],
            "image/png": "[encoded data removed]"
          },
          "metadata": {}
        }
      ]
    },
    {
      "cell_type": "markdown",
      "source": [
        "# **Kmedoid**\n",
        "---"
      ],
      "metadata": {
        "id": "RV43KuVIICwE"
      }
    },
    {
      "cell_type": "code",
      "source": [
        "from sklearn_extra.cluster import KMedoids"
      ],
      "metadata": {
        "id": "-GBpAmnGIMQt"
      },
      "execution_count": 39,
      "outputs": []
    },
    {
      "cell_type": "markdown",
      "source": [
        "**metodo altenative**"
      ],
      "metadata": {
        "id": "TNl6EN7QImRC"
      }
    },
    {
      "cell_type": "code",
      "source": [
        "kmedoid_model = KMedoids(method=\"alternate\", metric='euclidean', init='k-medoids++', max_iter=300, random_state=random_state)"
      ],
      "metadata": {
        "id": "f_KVMoK1G4ba"
      },
      "execution_count": 40,
      "outputs": []
    },
    {
      "cell_type": "code",
      "source": [
        "silhouette_select_cluster(kmedoid_model, (2,10), data_standar,\n",
        "                          name_model = 'kmedoid_model')"
      ],
      "metadata": {
        "colab": {
          "base_uri": "https://localhost:8080/",
          "height": 505
        },
        "id": "v70tYR7EIqi4",
        "outputId": "7b40a17c-d18f-466f-c894-b6d8c74a0360"
      },
      "execution_count": 41,
      "outputs": [
        {
          "output_type": "execute_result",
          "data": {
            "text/plain": [
              "(2, 0.5864211473615825)"
            ]
          },
          "metadata": {},
          "execution_count": 41
        },
        {
          "output_type": "display_data",
          "data": {
            "text/plain": [
              "<Figure size 800x500 with 1 Axes>"
            ],
            "image/png": "[encoded data removed]"
          },
          "metadata": {}
        }
      ]
    },
    {
      "cell_type": "markdown",
      "source": [
        "**metodo altenative**"
      ],
      "metadata": {
        "id": "MmQDx8-0Je8M"
      }
    },
    {
      "cell_type": "code",
      "source": [
        "kmedoid_model = KMedoids(method=\"pam\", metric='euclidean', init='k-medoids++', max_iter=300, random_state=random_state)"
      ],
      "metadata": {
        "id": "jnXZQMPYJXcD"
      },
      "execution_count": 42,
      "outputs": []
    },
    {
      "cell_type": "code",
      "source": [
        "silhouette_select_cluster(kmedoid_model, (2,10), data_standar,\n",
        "                          name_model = 'kmedoid_model')"
      ],
      "metadata": {
        "colab": {
          "base_uri": "https://localhost:8080/",
          "height": 505
        },
        "id": "IjFfGe_SJhVM",
        "outputId": "413c1d43-4725-4945-a73a-2b09a1668566"
      },
      "execution_count": 43,
      "outputs": [
        {
          "output_type": "execute_result",
          "data": {
            "text/plain": [
              "(2, 0.6816663955915521)"
            ]
          },
          "metadata": {},
          "execution_count": 43
        },
        {
          "output_type": "display_data",
          "data": {
            "text/plain": [
              "<Figure size 800x500 with 1 Axes>"
            ],
            "image/png": "[encoded data removed]"
          },
          "metadata": {}
        }
      ]
    },
    {
      "cell_type": "code",
      "source": [
        "kmedoid_model = KMedoids(n_clusters=5, method=\"alternate\", metric='euclidean', init='k-medoids++', max_iter=300, random_state=random_state)\n",
        "\n",
        "kmedoid_model.fit(data_standar)\n",
        "y_predict = kmedoid_model.predict(data_standar)\n",
        "data_df['segmento'] = y_predict.copy()"
      ],
      "metadata": {
        "colab": {
          "base_uri": "https://localhost:8080/"
        },
        "id": "8cc28x07JmYE",
        "outputId": "eb7adbc5-afdd-4467-ee5a-0dc19211778d"
      },
      "execution_count": 44,
      "outputs": [
        {
          "output_type": "stream",
          "name": "stderr",
          "text": [
            "<ipython-input-44-ba09d9e0ebcf>:5: SettingWithCopyWarning: \n",
            "A value is trying to be set on a copy of a slice from a DataFrame.\n",
            "Try using .loc[row_indexer,col_indexer] = value instead\n",
            "\n",
            "See the caveats in the documentation: https://pandas.pydata.org/pandas-docs/stable/user_guide/indexing.html#returning-a-view-versus-a-copy\n",
            "  data_df['segmento'] = y_predict.copy()\n"
          ]
        }
      ]
    },
    {
      "cell_type": "code",
      "source": [
        "pie_circle(data_df['segmento'], paleta=paleta, title='Segmento')"
      ],
      "metadata": {
        "colab": {
          "base_uri": "https://localhost:8080/",
          "height": 646
        },
        "id": "MpAFEAynJ8Rw",
        "outputId": "96012a26-1062-4ad3-a3aa-85c24f65248c"
      },
      "execution_count": 45,
      "outputs": [
        {
          "output_type": "display_data",
          "data": {
            "text/plain": [
              "<Figure size 700x700 with 1 Axes>"
            ],
            "image/png": "[encoded data removed]"
          },
          "metadata": {}
        }
      ]
    },
    {
      "cell_type": "code",
      "source": [
        "visulization_silhouette(data_standar, y_predict, 'Kmedoid', paleta)"
      ],
      "metadata": {
        "colab": {
          "base_uri": "https://localhost:8080/",
          "height": 950
        },
        "id": "4Zh0VCheOY-M",
        "outputId": "ceb84fea-7820-4998-c566-a4325e3d8151"
      },
      "execution_count": 46,
      "outputs": [
        {
          "output_type": "display_data",
          "data": {
            "text/plain": [
              "<Figure size 1000x1000 with 1 Axes>"
            ],
            "image/png": "[encoded data removed]"
          },
          "metadata": {}
        }
      ]
    },
    {
      "cell_type": "markdown",
      "source": [
        "**AffinityPropagation**\n",
        "---\n",
        "Este fallara por la cantidad de registros y por que le cuesta converger"
      ],
      "metadata": {
        "id": "_gj0aRT3t4F2"
      }
    },
    {
      "cell_type": "code",
      "source": [
        "affinityPropagation = AffinityPropagation(damping=0.95, max_iter=500, convergence_iter=800000, copy=True, preference=None, affinity='euclidean', verbose=False, random_state=random_state)"
      ],
      "metadata": {
        "id": "-1wli506qISs"
      },
      "execution_count": 47,
      "outputs": []
    },
    {
      "cell_type": "code",
      "source": [
        "affinityPropagation.fit(data_standar)"
      ],
      "metadata": {
        "colab": {
          "base_uri": "https://localhost:8080/",
          "height": 127
        },
        "id": "BqnPd3SCuc0r",
        "outputId": "c25da1e1-e181-4afd-b94c-622bdf9d6f1a"
      },
      "execution_count": 48,
      "outputs": [
        {
          "output_type": "stream",
          "name": "stderr",
          "text": [
            "/usr/local/lib/python3.10/dist-packages/sklearn/cluster/_affinity_propagation.py:143: ConvergenceWarning: Affinity propagation did not converge, this model may return degenerate cluster centers and labels.\n",
            "  warnings.warn(\n"
          ]
        },
        {
          "output_type": "execute_result",
          "data": {
            "text/plain": [
              "AffinityPropagation(convergence_iter=800000, damping=0.95, max_iter=500,\n",
              "                    random_state=12354)"
            ],
            "text/html": [
              "<style>#sk-container-id-1 {color: black;background-color: white;}#sk-container-id-1 pre{padding: 0;}#sk-container-id-1 div.sk-toggleable {background-color: white;}#sk-container-id-1 label.sk-toggleable__label {cursor: pointer;display: block;width: 100%;margin-bottom: 0;padding: 0.3em;box-sizing: border-box;text-align: center;}#sk-container-id-1 label.sk-toggleable__label-arrow:before {content: \"▸\";float: left;margin-right: 0.25em;color: #696969;}#sk-container-id-1 label.sk-toggleable__label-arrow:hover:before {color: black;}#sk-container-id-1 div.sk-estimator:hover label.sk-toggleable__label-arrow:before {color: black;}#sk-container-id-1 div.sk-toggleable__content {max-height: 0;max-width: 0;overflow: hidden;text-align: left;background-color: #f0f8ff;}#sk-container-id-1 div.sk-toggleable__content pre {margin: 0.2em;color: black;border-radius: 0.25em;background-color: #f0f8ff;}#sk-container-id-1 input.sk-toggleable__control:checked~div.sk-toggleable__content {max-height: 200px;max-width: 100%;overflow: auto;}#sk-container-id-1 input.sk-toggleable__control:checked~label.sk-toggleable__label-arrow:before {content: \"▾\";}#sk-container-id-1 div.sk-estimator input.sk-toggleable__control:checked~label.sk-toggleable__label {background-color: #d4ebff;}#sk-container-id-1 div.sk-label input.sk-toggleable__control:checked~label.sk-toggleable__label {background-color: #d4ebff;}#sk-container-id-1 input.sk-hidden--visually {border: 0;clip: rect(1px 1px 1px 1px);clip: rect(1px, 1px, 1px, 1px);height: 1px;margin: -1px;overflow: hidden;padding: 0;position: absolute;width: 1px;}#sk-container-id-1 div.sk-estimator {font-family: monospace;background-color: #f0f8ff;border: 1px dotted black;border-radius: 0.25em;box-sizing: border-box;margin-bottom: 0.5em;}#sk-container-id-1 div.sk-estimator:hover {background-color: #d4ebff;}#sk-container-id-1 div.sk-parallel-item::after {content: \"\";width: 100%;border-bottom: 1px solid gray;flex-grow: 1;}#sk-container-id-1 div.sk-label:hover label.sk-toggleable__label {background-color: #d4ebff;}#sk-container-id-1 div.sk-serial::before {content: \"\";position: absolute;border-left: 1px solid gray;box-sizing: border-box;top: 0;bottom: 0;left: 50%;z-index: 0;}#sk-container-id-1 div.sk-serial {display: flex;flex-direction: column;align-items: center;background-color: white;padding-right: 0.2em;padding-left: 0.2em;position: relative;}#sk-container-id-1 div.sk-item {position: relative;z-index: 1;}#sk-container-id-1 div.sk-parallel {display: flex;align-items: stretch;justify-content: center;background-color: white;position: relative;}#sk-container-id-1 div.sk-item::before, #sk-container-id-1 div.sk-parallel-item::before {content: \"\";position: absolute;border-left: 1px solid gray;box-sizing: border-box;top: 0;bottom: 0;left: 50%;z-index: -1;}#sk-container-id-1 div.sk-parallel-item {display: flex;flex-direction: column;z-index: 1;position: relative;background-color: white;}#sk-container-id-1 div.sk-parallel-item:first-child::after {align-self: flex-end;width: 50%;}#sk-container-id-1 div.sk-parallel-item:last-child::after {align-self: flex-start;width: 50%;}#sk-container-id-1 div.sk-parallel-item:only-child::after {width: 0;}#sk-container-id-1 div.sk-dashed-wrapped {border: 1px dashed gray;margin: 0 0.4em 0.5em 0.4em;box-sizing: border-box;padding-bottom: 0.4em;background-color: white;}#sk-container-id-1 div.sk-label label {font-family: monospace;font-weight: bold;display: inline-block;line-height: 1.2em;}#sk-container-id-1 div.sk-label-container {text-align: center;}#sk-container-id-1 div.sk-container {/* jupyter's `normalize.less` sets `[hidden] { display: none; }` but bootstrap.min.css set `[hidden] { display: none !important; }` so we also need the `!important` here to be able to override the default hidden behavior on the sphinx rendered scikit-learn.org. See: https://github.com/scikit-learn/scikit-learn/issues/21755 */display: inline-block !important;position: relative;}#sk-container-id-1 div.sk-text-repr-fallback {display: none;}</style><div id=\"sk-container-id-1\" class=\"sk-top-container\"><div class=\"sk-text-repr-fallback\"><pre>AffinityPropagation(convergence_iter=800000, damping=0.95, max_iter=500,\n",
              "                    random_state=12354)</pre><b>In a Jupyter environment, please rerun this cell to show the HTML representation or trust the notebook. <br />On GitHub, the HTML representation is unable to render, please try loading this page with nbviewer.org.</b></div><div class=\"sk-container\" hidden><div class=\"sk-item\"><div class=\"sk-estimator sk-toggleable\"><input class=\"sk-toggleable__control sk-hidden--visually\" id=\"sk-estimator-id-1\" type=\"checkbox\" checked><label for=\"sk-estimator-id-1\" class=\"sk-toggleable__label sk-toggleable__label-arrow\">AffinityPropagation</label><div class=\"sk-toggleable__content\"><pre>AffinityPropagation(convergence_iter=800000, damping=0.95, max_iter=500,\n",
              "                    random_state=12354)</pre></div></div></div></div></div>"
            ]
          },
          "metadata": {},
          "execution_count": 48
        }
      ]
    },
    {
      "cell_type": "code",
      "source": [
        "data_df['segmento'] = affinityPropagation.predict(data_standar)"
      ],
      "metadata": {
        "colab": {
          "base_uri": "https://localhost:8080/"
        },
        "id": "eFASWmVcuuPd",
        "outputId": "8612be9c-7815-4839-d29a-caef306b3a04"
      },
      "execution_count": 49,
      "outputs": [
        {
          "output_type": "stream",
          "name": "stderr",
          "text": [
            "<ipython-input-49-58dc043dd231>:1: SettingWithCopyWarning: \n",
            "A value is trying to be set on a copy of a slice from a DataFrame.\n",
            "Try using .loc[row_indexer,col_indexer] = value instead\n",
            "\n",
            "See the caveats in the documentation: https://pandas.pydata.org/pandas-docs/stable/user_guide/indexing.html#returning-a-view-versus-a-copy\n",
            "  data_df['segmento'] = affinityPropagation.predict(data_standar)\n"
          ]
        }
      ]
    },
    {
      "cell_type": "code",
      "source": [
        "pie_circle(data_df['segmento'], paleta=None, title='Segmento')"
      ],
      "metadata": {
        "colab": {
          "base_uri": "https://localhost:8080/",
          "height": 646
        },
        "id": "tRhFOpFIvS2i",
        "outputId": "cff46474-a252-434b-fd5f-5cd87832cf23"
      },
      "execution_count": 50,
      "outputs": [
        {
          "output_type": "display_data",
          "data": {
            "text/plain": [
              "<Figure size 700x700 with 1 Axes>"
            ],
            "image/png": "[encoded data removed]"
          },
          "metadata": {}
        }
      ]
    },
    {
      "cell_type": "markdown",
      "source": [
        "#**MeanShift**"
      ],
      "metadata": {
        "id": "jpoT79VKyPZP"
      }
    },
    {
      "cell_type": "code",
      "source": [
        "from sklearn.cluster import estimate_bandwidth\n",
        "from sklearn.cluster import MeanShift"
      ],
      "metadata": {
        "id": "Y8frjCLhrXhY"
      },
      "execution_count": 51,
      "outputs": []
    },
    {
      "cell_type": "markdown",
      "source": [
        "En está parte es necesario tener en cuenta aleatoriedad en los datos"
      ],
      "metadata": {
        "id": "7uLVSFiJRfAt"
      }
    },
    {
      "cell_type": "code",
      "source": [
        "data_standar.shape"
      ],
      "metadata": {
        "colab": {
          "base_uri": "https://localhost:8080/"
        },
        "id": "eViOaAV5Rag0",
        "outputId": "660e9dc5-4294-4c94-9464-a5dbe4562382"
      },
      "execution_count": 52,
      "outputs": [
        {
          "output_type": "execute_result",
          "data": {
            "text/plain": [
              "(645, 5)"
            ]
          },
          "metadata": {},
          "execution_count": 52
        }
      ]
    },
    {
      "cell_type": "code",
      "source": [
        "bandwidth = estimate_bandwidth(data_standar, quantile=0.5, n_samples=645, random_state=random_state)"
      ],
      "metadata": {
        "id": "OCwvq1kCRCwz"
      },
      "execution_count": 53,
      "outputs": []
    },
    {
      "cell_type": "code",
      "source": [
        "bandwidth"
      ],
      "metadata": {
        "colab": {
          "base_uri": "https://localhost:8080/"
        },
        "id": "lt2MOkorTh-V",
        "outputId": "5bd2f128-715f-483b-816a-215926dca152"
      },
      "execution_count": 54,
      "outputs": [
        {
          "output_type": "execute_result",
          "data": {
            "text/plain": [
              "0.5452818207094864"
            ]
          },
          "metadata": {},
          "execution_count": 54
        }
      ]
    },
    {
      "cell_type": "code",
      "source": [
        "model_meanshif = MeanShift(bandwidth=bandwidth, cluster_all=True, max_iter=1500, bin_seeding=False)"
      ],
      "metadata": {
        "id": "guZq7UvDR1Ng"
      },
      "execution_count": 55,
      "outputs": []
    },
    {
      "cell_type": "code",
      "source": [
        "model_meanshif.fit(data_standar)"
      ],
      "metadata": {
        "colab": {
          "base_uri": "https://localhost:8080/",
          "height": 75
        },
        "id": "6KJnX8vqTOy3",
        "outputId": "dff88352-38ad-4b0e-a1b1-5b0c71d73915"
      },
      "execution_count": 56,
      "outputs": [
        {
          "output_type": "execute_result",
          "data": {
            "text/plain": [
              "MeanShift(bandwidth=0.5452818207094864, max_iter=1500)"
            ],
            "text/html": [
              "<style>#sk-container-id-2 {color: black;background-color: white;}#sk-container-id-2 pre{padding: 0;}#sk-container-id-2 div.sk-toggleable {background-color: white;}#sk-container-id-2 label.sk-toggleable__label {cursor: pointer;display: block;width: 100%;margin-bottom: 0;padding: 0.3em;box-sizing: border-box;text-align: center;}#sk-container-id-2 label.sk-toggleable__label-arrow:before {content: \"▸\";float: left;margin-right: 0.25em;color: #696969;}#sk-container-id-2 label.sk-toggleable__label-arrow:hover:before {color: black;}#sk-container-id-2 div.sk-estimator:hover label.sk-toggleable__label-arrow:before {color: black;}#sk-container-id-2 div.sk-toggleable__content {max-height: 0;max-width: 0;overflow: hidden;text-align: left;background-color: #f0f8ff;}#sk-container-id-2 div.sk-toggleable__content pre {margin: 0.2em;color: black;border-radius: 0.25em;background-color: #f0f8ff;}#sk-container-id-2 input.sk-toggleable__control:checked~div.sk-toggleable__content {max-height: 200px;max-width: 100%;overflow: auto;}#sk-container-id-2 input.sk-toggleable__control:checked~label.sk-toggleable__label-arrow:before {content: \"▾\";}#sk-container-id-2 div.sk-estimator input.sk-toggleable__control:checked~label.sk-toggleable__label {background-color: #d4ebff;}#sk-container-id-2 div.sk-label input.sk-toggleable__control:checked~label.sk-toggleable__label {background-color: #d4ebff;}#sk-container-id-2 input.sk-hidden--visually {border: 0;clip: rect(1px 1px 1px 1px);clip: rect(1px, 1px, 1px, 1px);height: 1px;margin: -1px;overflow: hidden;padding: 0;position: absolute;width: 1px;}#sk-container-id-2 div.sk-estimator {font-family: monospace;background-color: #f0f8ff;border: 1px dotted black;border-radius: 0.25em;box-sizing: border-box;margin-bottom: 0.5em;}#sk-container-id-2 div.sk-estimator:hover {background-color: #d4ebff;}#sk-container-id-2 div.sk-parallel-item::after {content: \"\";width: 100%;border-bottom: 1px solid gray;flex-grow: 1;}#sk-container-id-2 div.sk-label:hover label.sk-toggleable__label {background-color: #d4ebff;}#sk-container-id-2 div.sk-serial::before {content: \"\";position: absolute;border-left: 1px solid gray;box-sizing: border-box;top: 0;bottom: 0;left: 50%;z-index: 0;}#sk-container-id-2 div.sk-serial {display: flex;flex-direction: column;align-items: center;background-color: white;padding-right: 0.2em;padding-left: 0.2em;position: relative;}#sk-container-id-2 div.sk-item {position: relative;z-index: 1;}#sk-container-id-2 div.sk-parallel {display: flex;align-items: stretch;justify-content: center;background-color: white;position: relative;}#sk-container-id-2 div.sk-item::before, #sk-container-id-2 div.sk-parallel-item::before {content: \"\";position: absolute;border-left: 1px solid gray;box-sizing: border-box;top: 0;bottom: 0;left: 50%;z-index: -1;}#sk-container-id-2 div.sk-parallel-item {display: flex;flex-direction: column;z-index: 1;position: relative;background-color: white;}#sk-container-id-2 div.sk-parallel-item:first-child::after {align-self: flex-end;width: 50%;}#sk-container-id-2 div.sk-parallel-item:last-child::after {align-self: flex-start;width: 50%;}#sk-container-id-2 div.sk-parallel-item:only-child::after {width: 0;}#sk-container-id-2 div.sk-dashed-wrapped {border: 1px dashed gray;margin: 0 0.4em 0.5em 0.4em;box-sizing: border-box;padding-bottom: 0.4em;background-color: white;}#sk-container-id-2 div.sk-label label {font-family: monospace;font-weight: bold;display: inline-block;line-height: 1.2em;}#sk-container-id-2 div.sk-label-container {text-align: center;}#sk-container-id-2 div.sk-container {/* jupyter's `normalize.less` sets `[hidden] { display: none; }` but bootstrap.min.css set `[hidden] { display: none !important; }` so we also need the `!important` here to be able to override the default hidden behavior on the sphinx rendered scikit-learn.org. See: https://github.com/scikit-learn/scikit-learn/issues/21755 */display: inline-block !important;position: relative;}#sk-container-id-2 div.sk-text-repr-fallback {display: none;}</style><div id=\"sk-container-id-2\" class=\"sk-top-container\"><div class=\"sk-text-repr-fallback\"><pre>MeanShift(bandwidth=0.5452818207094864, max_iter=1500)</pre><b>In a Jupyter environment, please rerun this cell to show the HTML representation or trust the notebook. <br />On GitHub, the HTML representation is unable to render, please try loading this page with nbviewer.org.</b></div><div class=\"sk-container\" hidden><div class=\"sk-item\"><div class=\"sk-estimator sk-toggleable\"><input class=\"sk-toggleable__control sk-hidden--visually\" id=\"sk-estimator-id-2\" type=\"checkbox\" checked><label for=\"sk-estimator-id-2\" class=\"sk-toggleable__label sk-toggleable__label-arrow\">MeanShift</label><div class=\"sk-toggleable__content\"><pre>MeanShift(bandwidth=0.5452818207094864, max_iter=1500)</pre></div></div></div></div></div>"
            ]
          },
          "metadata": {},
          "execution_count": 56
        }
      ]
    },
    {
      "cell_type": "code",
      "source": [
        "data_df['segmento'] = model_meanshif.predict(data_standar)"
      ],
      "metadata": {
        "colab": {
          "base_uri": "https://localhost:8080/"
        },
        "id": "xhgjGKQtTTrY",
        "outputId": "44a0508d-2c6a-45b2-c176-9ee89fa0a768"
      },
      "execution_count": 57,
      "outputs": [
        {
          "output_type": "stream",
          "name": "stderr",
          "text": [
            "<ipython-input-57-3d6b01eab318>:1: SettingWithCopyWarning: \n",
            "A value is trying to be set on a copy of a slice from a DataFrame.\n",
            "Try using .loc[row_indexer,col_indexer] = value instead\n",
            "\n",
            "See the caveats in the documentation: https://pandas.pydata.org/pandas-docs/stable/user_guide/indexing.html#returning-a-view-versus-a-copy\n",
            "  data_df['segmento'] = model_meanshif.predict(data_standar)\n"
          ]
        }
      ]
    },
    {
      "cell_type": "code",
      "source": [
        "pie_circle(data_df['segmento'], paleta=None, title='Segmento')"
      ],
      "metadata": {
        "colab": {
          "base_uri": "https://localhost:8080/",
          "height": 646
        },
        "id": "kp5Y7-XHTYm4",
        "outputId": "0ee54894-7d4c-410c-8394-293a3a0ad3a6"
      },
      "execution_count": 58,
      "outputs": [
        {
          "output_type": "display_data",
          "data": {
            "text/plain": [
              "<Figure size 700x700 with 1 Axes>"
            ],
            "image/png": "[encoded data removed]"
          },
          "metadata": {}
        }
      ]
    },
    {
      "cell_type": "code",
      "source": [
        "data_df['segmento'].value_counts()"
      ],
      "metadata": {
        "colab": {
          "base_uri": "https://localhost:8080/"
        },
        "id": "hknHPi-5T-U_",
        "outputId": "f1ffc38e-ee07-468d-ce6d-318b65ebc42a"
      },
      "execution_count": 59,
      "outputs": [
        {
          "output_type": "execute_result",
          "data": {
            "text/plain": [
              "0    421\n",
              "1    217\n",
              "2      4\n",
              "4      2\n",
              "3      1\n",
              "Name: segmento, dtype: int64"
            ]
          },
          "metadata": {},
          "execution_count": 59
        }
      ]
    },
    {
      "cell_type": "markdown",
      "source": [
        "**Analisis de los experimentos**\n",
        "---"
      ],
      "metadata": {
        "id": "iZvQQQXXKTOj"
      }
    },
    {
      "cell_type": "markdown",
      "source": [
        "Se aprecia en los experimentos lo siguiente:\n",
        "\n",
        "- Los algoritmos de partición tiene resultados menos erraticos en comparacioón de aquellos de naturaleza de geometria no plana.\n",
        "\n",
        "- El AffinityPropagation y el MeanShift son más complejos de calibrar, suelen dar demasiados segmentos y algunos con pocos segmentos, incluso de uno o dos registros. Si bien no tenemos experticia en explotación de minerales, se evidencia que estos modelos no serian los ideales para el proceso.\n",
        "\n",
        "- El kmeans y bisek kameans presentan un comportamiento similar.\n",
        "\n",
        "- El kmeans o el kmedoid serian los elegidos para el proceso de selección del mejor modelo."
      ],
      "metadata": {
        "id": "c9o4XCrXKSBT"
      }
    }
  ]
}