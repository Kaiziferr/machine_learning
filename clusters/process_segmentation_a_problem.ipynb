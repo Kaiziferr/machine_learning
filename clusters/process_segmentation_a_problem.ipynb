{
  "nbformat": 4,
  "nbformat_minor": 0,
  "metadata": {
    "colab": {
      "provenance": [],
      "authorship_tag": "ABX9TyPnW12R7njlnCtNwHPz0ZAA",
      "include_colab_link": true
    },
    "kernelspec": {
      "name": "python3",
      "display_name": "Python 3"
    },
    "language_info": {
      "name": "python"
    }
  },
  "cells": [
    {
      "cell_type": "markdown",
      "metadata": {
        "id": "view-in-github",
        "colab_type": "text"
      },
      "source": [
        "<a href=\"https://colab.research.google.com/github/Kaiziferr/machine_learning/blob/main/clusters/process_segmentation_a_problem.ipynb\" target=\"_parent\"><img src=\"https://colab.research.google.com/assets/colab-badge.svg\" alt=\"Open In Colab\"/></a>"
      ]
    },
    {
      "cell_type": "code",
      "source": [
        "!pip install yellowbrick\n",
        "!pip install kneed"
      ],
      "metadata": {
        "colab": {
          "base_uri": "https://localhost:8080/"
        },
        "id": "0xftBc9sPDRX",
        "outputId": "3fa8c87c-e7bc-4ea9-c113-14cab596b7b2"
      },
      "execution_count": 1,
      "outputs": [
        {
          "output_type": "stream",
          "name": "stdout",
          "text": [
            "Looking in indexes: https://pypi.org/simple, https://us-python.pkg.dev/colab-wheels/public/simple/\n",
            "Requirement already satisfied: yellowbrick in /usr/local/lib/python3.8/dist-packages (1.5)\n",
            "Requirement already satisfied: matplotlib!=3.0.0,>=2.0.2 in /usr/local/lib/python3.8/dist-packages (from yellowbrick) (3.2.2)\n",
            "Requirement already satisfied: scikit-learn>=1.0.0 in /usr/local/lib/python3.8/dist-packages (from yellowbrick) (1.0.2)\n",
            "Requirement already satisfied: scipy>=1.0.0 in /usr/local/lib/python3.8/dist-packages (from yellowbrick) (1.7.3)\n",
            "Requirement already satisfied: cycler>=0.10.0 in /usr/local/lib/python3.8/dist-packages (from yellowbrick) (0.11.0)\n",
            "Requirement already satisfied: numpy>=1.16.0 in /usr/local/lib/python3.8/dist-packages (from yellowbrick) (1.21.6)\n",
            "Requirement already satisfied: python-dateutil>=2.1 in /usr/local/lib/python3.8/dist-packages (from matplotlib!=3.0.0,>=2.0.2->yellowbrick) (2.8.2)\n",
            "Requirement already satisfied: pyparsing!=2.0.4,!=2.1.2,!=2.1.6,>=2.0.1 in /usr/local/lib/python3.8/dist-packages (from matplotlib!=3.0.0,>=2.0.2->yellowbrick) (3.0.9)\n",
            "Requirement already satisfied: kiwisolver>=1.0.1 in /usr/local/lib/python3.8/dist-packages (from matplotlib!=3.0.0,>=2.0.2->yellowbrick) (1.4.4)\n",
            "Requirement already satisfied: joblib>=0.11 in /usr/local/lib/python3.8/dist-packages (from scikit-learn>=1.0.0->yellowbrick) (1.2.0)\n",
            "Requirement already satisfied: threadpoolctl>=2.0.0 in /usr/local/lib/python3.8/dist-packages (from scikit-learn>=1.0.0->yellowbrick) (3.1.0)\n",
            "Requirement already satisfied: six>=1.5 in /usr/local/lib/python3.8/dist-packages (from python-dateutil>=2.1->matplotlib!=3.0.0,>=2.0.2->yellowbrick) (1.15.0)\n",
            "Looking in indexes: https://pypi.org/simple, https://us-python.pkg.dev/colab-wheels/public/simple/\n",
            "Requirement already satisfied: kneed in /usr/local/lib/python3.8/dist-packages (0.8.2)\n",
            "Requirement already satisfied: scipy>=1.0.0 in /usr/local/lib/python3.8/dist-packages (from kneed) (1.7.3)\n",
            "Requirement already satisfied: numpy>=1.14.2 in /usr/local/lib/python3.8/dist-packages (from kneed) (1.21.6)\n"
          ]
        }
      ]
    },
    {
      "cell_type": "code",
      "execution_count": 2,
      "metadata": {
        "id": "E1fh7AStdWGT"
      },
      "outputs": [],
      "source": [
        "import pandas as pd\n",
        "import numpy as np\n",
        "import matplotlib.pyplot as plt\n",
        "from scipy.stats import mode\n",
        "from sklearn.preprocessing import StandardScaler \n",
        "from sklearn.decomposition import PCA\n",
        "from sklearn.cluster import KMeans, AgglomerativeClustering, DBSCAN\n",
        "from sklearn.neighbors import NearestNeighbors\n",
        "\n",
        "\n",
        "from kneed import KneeLocator\n",
        "from sklearn.mixture import GaussianMixture\n",
        "from sklearn.metrics import silhouette_score, calinski_harabasz_score, davies_bouldin_score\n",
        "\n",
        "from yellowbrick.cluster import KElbowVisualizer, InterclusterDistance\n",
        "import scipy.cluster.hierarchy as shc"
      ]
    },
    {
      "cell_type": "code",
      "source": [
        "data = pd.read_csv('./data/e-shop clothing 2008.csv', delimiter=';')\n",
        "data.head()"
      ],
      "metadata": {
        "colab": {
          "base_uri": "https://localhost:8080/",
          "height": 206
        },
        "id": "rCPu7vn9dyjF",
        "outputId": "ee5faa9a-ba7a-4fa2-ebf5-0159f2f5e66e"
      },
      "execution_count": 3,
      "outputs": [
        {
          "output_type": "execute_result",
          "data": {
            "text/plain": [
              "   year  month  day  order  country  session ID  page 1 (main category)  \\\n",
              "0  2008      4    1      1       29           1                       1   \n",
              "1  2008      4    1      2       29           1                       1   \n",
              "2  2008      4    1      3       29           1                       2   \n",
              "3  2008      4    1      4       29           1                       2   \n",
              "4  2008      4    1      5       29           1                       2   \n",
              "\n",
              "  page 2 (clothing model)  colour  location  model photography  price  \\\n",
              "0                     A13       1         5                  1     28   \n",
              "1                     A16       1         6                  1     33   \n",
              "2                      B4      10         2                  1     52   \n",
              "3                     B17       6         6                  2     38   \n",
              "4                      B8       4         3                  2     52   \n",
              "\n",
              "   price 2  page  \n",
              "0        2     1  \n",
              "1        2     1  \n",
              "2        1     1  \n",
              "3        2     1  \n",
              "4        1     1  "
            ],
            "text/html": [
              "\n",
              "  <div id=\"df-90066010-e00e-4f8c-96bd-0fd8b9143a99\">\n",
              "    <div class=\"colab-df-container\">\n",
              "      <div>\n",
              "<style scoped>\n",
              "    .dataframe tbody tr th:only-of-type {\n",
              "        vertical-align: middle;\n",
              "    }\n",
              "\n",
              "    .dataframe tbody tr th {\n",
              "        vertical-align: top;\n",
              "    }\n",
              "\n",
              "    .dataframe thead th {\n",
              "        text-align: right;\n",
              "    }\n",
              "</style>\n",
              "<table border=\"1\" class=\"dataframe\">\n",
              "  <thead>\n",
              "    <tr style=\"text-align: right;\">\n",
              "      <th></th>\n",
              "      <th>year</th>\n",
              "      <th>month</th>\n",
              "      <th>day</th>\n",
              "      <th>order</th>\n",
              "      <th>country</th>\n",
              "      <th>session ID</th>\n",
              "      <th>page 1 (main category)</th>\n",
              "      <th>page 2 (clothing model)</th>\n",
              "      <th>colour</th>\n",
              "      <th>location</th>\n",
              "      <th>model photography</th>\n",
              "      <th>price</th>\n",
              "      <th>price 2</th>\n",
              "      <th>page</th>\n",
              "    </tr>\n",
              "  </thead>\n",
              "  <tbody>\n",
              "    <tr>\n",
              "      <th>0</th>\n",
              "      <td>2008</td>\n",
              "      <td>4</td>\n",
              "      <td>1</td>\n",
              "      <td>1</td>\n",
              "      <td>29</td>\n",
              "      <td>1</td>\n",
              "      <td>1</td>\n",
              "      <td>A13</td>\n",
              "      <td>1</td>\n",
              "      <td>5</td>\n",
              "      <td>1</td>\n",
              "      <td>28</td>\n",
              "      <td>2</td>\n",
              "      <td>1</td>\n",
              "    </tr>\n",
              "    <tr>\n",
              "      <th>1</th>\n",
              "      <td>2008</td>\n",
              "      <td>4</td>\n",
              "      <td>1</td>\n",
              "      <td>2</td>\n",
              "      <td>29</td>\n",
              "      <td>1</td>\n",
              "      <td>1</td>\n",
              "      <td>A16</td>\n",
              "      <td>1</td>\n",
              "      <td>6</td>\n",
              "      <td>1</td>\n",
              "      <td>33</td>\n",
              "      <td>2</td>\n",
              "      <td>1</td>\n",
              "    </tr>\n",
              "    <tr>\n",
              "      <th>2</th>\n",
              "      <td>2008</td>\n",
              "      <td>4</td>\n",
              "      <td>1</td>\n",
              "      <td>3</td>\n",
              "      <td>29</td>\n",
              "      <td>1</td>\n",
              "      <td>2</td>\n",
              "      <td>B4</td>\n",
              "      <td>10</td>\n",
              "      <td>2</td>\n",
              "      <td>1</td>\n",
              "      <td>52</td>\n",
              "      <td>1</td>\n",
              "      <td>1</td>\n",
              "    </tr>\n",
              "    <tr>\n",
              "      <th>3</th>\n",
              "      <td>2008</td>\n",
              "      <td>4</td>\n",
              "      <td>1</td>\n",
              "      <td>4</td>\n",
              "      <td>29</td>\n",
              "      <td>1</td>\n",
              "      <td>2</td>\n",
              "      <td>B17</td>\n",
              "      <td>6</td>\n",
              "      <td>6</td>\n",
              "      <td>2</td>\n",
              "      <td>38</td>\n",
              "      <td>2</td>\n",
              "      <td>1</td>\n",
              "    </tr>\n",
              "    <tr>\n",
              "      <th>4</th>\n",
              "      <td>2008</td>\n",
              "      <td>4</td>\n",
              "      <td>1</td>\n",
              "      <td>5</td>\n",
              "      <td>29</td>\n",
              "      <td>1</td>\n",
              "      <td>2</td>\n",
              "      <td>B8</td>\n",
              "      <td>4</td>\n",
              "      <td>3</td>\n",
              "      <td>2</td>\n",
              "      <td>52</td>\n",
              "      <td>1</td>\n",
              "      <td>1</td>\n",
              "    </tr>\n",
              "  </tbody>\n",
              "</table>\n",
              "</div>\n",
              "      <button class=\"colab-df-convert\" onclick=\"convertToInteractive('df-90066010-e00e-4f8c-96bd-0fd8b9143a99')\"\n",
              "              title=\"Convert this dataframe to an interactive table.\"\n",
              "              style=\"display:none;\">\n",
              "        \n",
              "  <svg xmlns=\"http://www.w3.org/2000/svg\" height=\"24px\"viewBox=\"0 0 24 24\"\n",
              "       width=\"24px\">\n",
              "    <path d=\"M0 0h24v24H0V0z\" fill=\"none\"/>\n",
              "    <path d=\"M18.56 5.44l.94 2.06.94-2.06 2.06-.94-2.06-.94-.94-2.06-.94 2.06-2.06.94zm-11 1L8.5 8.5l.94-2.06 2.06-.94-2.06-.94L8.5 2.5l-.94 2.06-2.06.94zm10 10l.94 2.06.94-2.06 2.06-.94-2.06-.94-.94-2.06-.94 2.06-2.06.94z\"/><path d=\"M17.41 7.96l-1.37-1.37c-.4-.4-.92-.59-1.43-.59-.52 0-1.04.2-1.43.59L10.3 9.45l-7.72 7.72c-.78.78-.78 2.05 0 2.83L4 21.41c.39.39.9.59 1.41.59.51 0 1.02-.2 1.41-.59l7.78-7.78 2.81-2.81c.8-.78.8-2.07 0-2.86zM5.41 20L4 18.59l7.72-7.72 1.47 1.35L5.41 20z\"/>\n",
              "  </svg>\n",
              "      </button>\n",
              "      \n",
              "  <style>\n",
              "    .colab-df-container {\n",
              "      display:flex;\n",
              "      flex-wrap:wrap;\n",
              "      gap: 12px;\n",
              "    }\n",
              "\n",
              "    .colab-df-convert {\n",
              "      background-color: #E8F0FE;\n",
              "      border: none;\n",
              "      border-radius: 50%;\n",
              "      cursor: pointer;\n",
              "      display: none;\n",
              "      fill: #1967D2;\n",
              "      height: 32px;\n",
              "      padding: 0 0 0 0;\n",
              "      width: 32px;\n",
              "    }\n",
              "\n",
              "    .colab-df-convert:hover {\n",
              "      background-color: #E2EBFA;\n",
              "      box-shadow: 0px 1px 2px rgba(60, 64, 67, 0.3), 0px 1px 3px 1px rgba(60, 64, 67, 0.15);\n",
              "      fill: #174EA6;\n",
              "    }\n",
              "\n",
              "    [theme=dark] .colab-df-convert {\n",
              "      background-color: #3B4455;\n",
              "      fill: #D2E3FC;\n",
              "    }\n",
              "\n",
              "    [theme=dark] .colab-df-convert:hover {\n",
              "      background-color: #434B5C;\n",
              "      box-shadow: 0px 1px 3px 1px rgba(0, 0, 0, 0.15);\n",
              "      filter: drop-shadow(0px 1px 2px rgba(0, 0, 0, 0.3));\n",
              "      fill: #FFFFFF;\n",
              "    }\n",
              "  </style>\n",
              "\n",
              "      <script>\n",
              "        const buttonEl =\n",
              "          document.querySelector('#df-90066010-e00e-4f8c-96bd-0fd8b9143a99 button.colab-df-convert');\n",
              "        buttonEl.style.display =\n",
              "          google.colab.kernel.accessAllowed ? 'block' : 'none';\n",
              "\n",
              "        async function convertToInteractive(key) {\n",
              "          const element = document.querySelector('#df-90066010-e00e-4f8c-96bd-0fd8b9143a99');\n",
              "          const dataTable =\n",
              "            await google.colab.kernel.invokeFunction('convertToInteractive',\n",
              "                                                     [key], {});\n",
              "          if (!dataTable) return;\n",
              "\n",
              "          const docLinkHtml = 'Like what you see? Visit the ' +\n",
              "            '<a target=\"_blank\" href=https://colab.research.google.com/notebooks/data_table.ipynb>data table notebook</a>'\n",
              "            + ' to learn more about interactive tables.';\n",
              "          element.innerHTML = '';\n",
              "          dataTable['output_type'] = 'display_data';\n",
              "          await google.colab.output.renderOutput(dataTable, element);\n",
              "          const docLink = document.createElement('div');\n",
              "          docLink.innerHTML = docLinkHtml;\n",
              "          element.appendChild(docLink);\n",
              "        }\n",
              "      </script>\n",
              "    </div>\n",
              "  </div>\n",
              "  "
            ]
          },
          "metadata": {},
          "execution_count": 3
        }
      ]
    },
    {
      "cell_type": "code",
      "source": [
        "data.info()"
      ],
      "metadata": {
        "colab": {
          "base_uri": "https://localhost:8080/"
        },
        "id": "aDWCL9ASeJlW",
        "outputId": "2cf5de8c-f8e8-4d6c-b49a-6daf3d278cd3"
      },
      "execution_count": 4,
      "outputs": [
        {
          "output_type": "stream",
          "name": "stdout",
          "text": [
            "<class 'pandas.core.frame.DataFrame'>\n",
            "RangeIndex: 165474 entries, 0 to 165473\n",
            "Data columns (total 14 columns):\n",
            " #   Column                   Non-Null Count   Dtype \n",
            "---  ------                   --------------   ----- \n",
            " 0   year                     165474 non-null  int64 \n",
            " 1   month                    165474 non-null  int64 \n",
            " 2   day                      165474 non-null  int64 \n",
            " 3   order                    165474 non-null  int64 \n",
            " 4   country                  165474 non-null  int64 \n",
            " 5   session ID               165474 non-null  int64 \n",
            " 6   page 1 (main category)   165474 non-null  int64 \n",
            " 7   page 2 (clothing model)  165474 non-null  object\n",
            " 8   colour                   165474 non-null  int64 \n",
            " 9   location                 165474 non-null  int64 \n",
            " 10  model photography        165474 non-null  int64 \n",
            " 11  price                    165474 non-null  int64 \n",
            " 12  price 2                  165474 non-null  int64 \n",
            " 13  page                     165474 non-null  int64 \n",
            "dtypes: int64(13), object(1)\n",
            "memory usage: 17.7+ MB\n"
          ]
        }
      ]
    },
    {
      "cell_type": "markdown",
      "source": [
        "- No hay valores nulos, hay una variedad de datos numeros, que deberian ser tipo texto"
      ],
      "metadata": {
        "id": "IBnT2Mbiiber"
      }
    },
    {
      "cell_type": "code",
      "source": [
        "cat_vars = ['year', 'month', 'day', 'country', 'session ID',\n",
        "               'page 1 (main category)', 'page 2 (clothing model)',   'colour',\n",
        "               'location', 'model photography', 'price 2', 'page']"
      ],
      "metadata": {
        "id": "_E8n8LjqinLi"
      },
      "execution_count": 5,
      "outputs": []
    },
    {
      "cell_type": "code",
      "source": [
        "# Converción de variables categoricas\n",
        "data[cat_vars] = data[cat_vars].astype(str)"
      ],
      "metadata": {
        "id": "_W_4wiUii95C"
      },
      "execution_count": 6,
      "outputs": []
    },
    {
      "cell_type": "code",
      "source": [
        "# Datos descriptivos\n",
        "data.describe()"
      ],
      "metadata": {
        "colab": {
          "base_uri": "https://localhost:8080/",
          "height": 300
        },
        "id": "rTec15NwjJnC",
        "outputId": "8aa04277-f545-41f4-a0a8-acd97354aaa2"
      },
      "execution_count": 7,
      "outputs": [
        {
          "output_type": "execute_result",
          "data": {
            "text/plain": [
              "               order          price\n",
              "count  165474.000000  165474.000000\n",
              "mean        9.817476      43.802507\n",
              "std        13.478411      12.548131\n",
              "min         1.000000      18.000000\n",
              "25%         2.000000      33.000000\n",
              "50%         6.000000      43.000000\n",
              "75%        12.000000      52.000000\n",
              "max       195.000000      82.000000"
            ],
            "text/html": [
              "\n",
              "  <div id=\"df-f4e3c686-4cde-4870-90ae-9fbed8a5211b\">\n",
              "    <div class=\"colab-df-container\">\n",
              "      <div>\n",
              "<style scoped>\n",
              "    .dataframe tbody tr th:only-of-type {\n",
              "        vertical-align: middle;\n",
              "    }\n",
              "\n",
              "    .dataframe tbody tr th {\n",
              "        vertical-align: top;\n",
              "    }\n",
              "\n",
              "    .dataframe thead th {\n",
              "        text-align: right;\n",
              "    }\n",
              "</style>\n",
              "<table border=\"1\" class=\"dataframe\">\n",
              "  <thead>\n",
              "    <tr style=\"text-align: right;\">\n",
              "      <th></th>\n",
              "      <th>order</th>\n",
              "      <th>price</th>\n",
              "    </tr>\n",
              "  </thead>\n",
              "  <tbody>\n",
              "    <tr>\n",
              "      <th>count</th>\n",
              "      <td>165474.000000</td>\n",
              "      <td>165474.000000</td>\n",
              "    </tr>\n",
              "    <tr>\n",
              "      <th>mean</th>\n",
              "      <td>9.817476</td>\n",
              "      <td>43.802507</td>\n",
              "    </tr>\n",
              "    <tr>\n",
              "      <th>std</th>\n",
              "      <td>13.478411</td>\n",
              "      <td>12.548131</td>\n",
              "    </tr>\n",
              "    <tr>\n",
              "      <th>min</th>\n",
              "      <td>1.000000</td>\n",
              "      <td>18.000000</td>\n",
              "    </tr>\n",
              "    <tr>\n",
              "      <th>25%</th>\n",
              "      <td>2.000000</td>\n",
              "      <td>33.000000</td>\n",
              "    </tr>\n",
              "    <tr>\n",
              "      <th>50%</th>\n",
              "      <td>6.000000</td>\n",
              "      <td>43.000000</td>\n",
              "    </tr>\n",
              "    <tr>\n",
              "      <th>75%</th>\n",
              "      <td>12.000000</td>\n",
              "      <td>52.000000</td>\n",
              "    </tr>\n",
              "    <tr>\n",
              "      <th>max</th>\n",
              "      <td>195.000000</td>\n",
              "      <td>82.000000</td>\n",
              "    </tr>\n",
              "  </tbody>\n",
              "</table>\n",
              "</div>\n",
              "      <button class=\"colab-df-convert\" onclick=\"convertToInteractive('df-f4e3c686-4cde-4870-90ae-9fbed8a5211b')\"\n",
              "              title=\"Convert this dataframe to an interactive table.\"\n",
              "              style=\"display:none;\">\n",
              "        \n",
              "  <svg xmlns=\"http://www.w3.org/2000/svg\" height=\"24px\"viewBox=\"0 0 24 24\"\n",
              "       width=\"24px\">\n",
              "    <path d=\"M0 0h24v24H0V0z\" fill=\"none\"/>\n",
              "    <path d=\"M18.56 5.44l.94 2.06.94-2.06 2.06-.94-2.06-.94-.94-2.06-.94 2.06-2.06.94zm-11 1L8.5 8.5l.94-2.06 2.06-.94-2.06-.94L8.5 2.5l-.94 2.06-2.06.94zm10 10l.94 2.06.94-2.06 2.06-.94-2.06-.94-.94-2.06-.94 2.06-2.06.94z\"/><path d=\"M17.41 7.96l-1.37-1.37c-.4-.4-.92-.59-1.43-.59-.52 0-1.04.2-1.43.59L10.3 9.45l-7.72 7.72c-.78.78-.78 2.05 0 2.83L4 21.41c.39.39.9.59 1.41.59.51 0 1.02-.2 1.41-.59l7.78-7.78 2.81-2.81c.8-.78.8-2.07 0-2.86zM5.41 20L4 18.59l7.72-7.72 1.47 1.35L5.41 20z\"/>\n",
              "  </svg>\n",
              "      </button>\n",
              "      \n",
              "  <style>\n",
              "    .colab-df-container {\n",
              "      display:flex;\n",
              "      flex-wrap:wrap;\n",
              "      gap: 12px;\n",
              "    }\n",
              "\n",
              "    .colab-df-convert {\n",
              "      background-color: #E8F0FE;\n",
              "      border: none;\n",
              "      border-radius: 50%;\n",
              "      cursor: pointer;\n",
              "      display: none;\n",
              "      fill: #1967D2;\n",
              "      height: 32px;\n",
              "      padding: 0 0 0 0;\n",
              "      width: 32px;\n",
              "    }\n",
              "\n",
              "    .colab-df-convert:hover {\n",
              "      background-color: #E2EBFA;\n",
              "      box-shadow: 0px 1px 2px rgba(60, 64, 67, 0.3), 0px 1px 3px 1px rgba(60, 64, 67, 0.15);\n",
              "      fill: #174EA6;\n",
              "    }\n",
              "\n",
              "    [theme=dark] .colab-df-convert {\n",
              "      background-color: #3B4455;\n",
              "      fill: #D2E3FC;\n",
              "    }\n",
              "\n",
              "    [theme=dark] .colab-df-convert:hover {\n",
              "      background-color: #434B5C;\n",
              "      box-shadow: 0px 1px 3px 1px rgba(0, 0, 0, 0.15);\n",
              "      filter: drop-shadow(0px 1px 2px rgba(0, 0, 0, 0.3));\n",
              "      fill: #FFFFFF;\n",
              "    }\n",
              "  </style>\n",
              "\n",
              "      <script>\n",
              "        const buttonEl =\n",
              "          document.querySelector('#df-f4e3c686-4cde-4870-90ae-9fbed8a5211b button.colab-df-convert');\n",
              "        buttonEl.style.display =\n",
              "          google.colab.kernel.accessAllowed ? 'block' : 'none';\n",
              "\n",
              "        async function convertToInteractive(key) {\n",
              "          const element = document.querySelector('#df-f4e3c686-4cde-4870-90ae-9fbed8a5211b');\n",
              "          const dataTable =\n",
              "            await google.colab.kernel.invokeFunction('convertToInteractive',\n",
              "                                                     [key], {});\n",
              "          if (!dataTable) return;\n",
              "\n",
              "          const docLinkHtml = 'Like what you see? Visit the ' +\n",
              "            '<a target=\"_blank\" href=https://colab.research.google.com/notebooks/data_table.ipynb>data table notebook</a>'\n",
              "            + ' to learn more about interactive tables.';\n",
              "          element.innerHTML = '';\n",
              "          dataTable['output_type'] = 'display_data';\n",
              "          await google.colab.output.renderOutput(dataTable, element);\n",
              "          const docLink = document.createElement('div');\n",
              "          docLink.innerHTML = docLinkHtml;\n",
              "          element.appendChild(docLink);\n",
              "        }\n",
              "      </script>\n",
              "    </div>\n",
              "  </div>\n",
              "  "
            ]
          },
          "metadata": {},
          "execution_count": 7
        }
      ]
    },
    {
      "cell_type": "markdown",
      "source": [
        "- La magnitud de precios tiene una diferencia pronunciada, en comparación a order"
      ],
      "metadata": {
        "id": "Z5LufH5fjfbT"
      }
    },
    {
      "cell_type": "code",
      "source": [
        "data2 = data.groupby(['country','page 1 (main category)','page 2 (clothing model)']).agg(\n",
        "    median_no_of_clicks_per_session=('order', 'median'),\n",
        "    min_no_of_clicks_per_session = ('order', 'max'),\n",
        "    max_no_of_clicks_per_session = ('order', 'min'),\n",
        "    median_price=('price', 'median'),\n",
        "    min_price=('price', 'max'),\n",
        "    max_price=('price', 'min'),\n",
        "    total_number_of_sessions =('session ID', pd.Series.nunique),\n",
        "    most_frequent_day=('day', lambda x: mode(x)[0][0]),\n",
        "    most_frequent_colour=('colour', lambda x: mode(x)[0][0]),\n",
        "    most_frequent_location=('location', lambda x: mode(x)[0][0]),\n",
        "    most_frequent_photo_type=('model photography', lambda x: mode(x)[0][0]),\n",
        "    most_frequent_price_type =('price 2', lambda x: mode(x)[0][0]),\n",
        "    most_frequent_page_number =('page', lambda x: mode(x)[0][0])\n",
        ")"
      ],
      "metadata": {
        "id": "dGvzToVHjev7"
      },
      "execution_count": 8,
      "outputs": []
    },
    {
      "cell_type": "code",
      "source": [
        "data2"
      ],
      "metadata": {
        "colab": {
          "base_uri": "https://localhost:8080/",
          "height": 553
        },
        "id": "01cgl_UKki1T",
        "outputId": "1e7bb4a0-ac0e-425f-af9c-b8854afe827d"
      },
      "execution_count": 9,
      "outputs": [
        {
          "output_type": "execute_result",
          "data": {
            "text/plain": [
              "                                                        median_no_of_clicks_per_session  \\\n",
              "country page 1 (main category) page 2 (clothing model)                                    \n",
              "1       3                      C30                                                  2.0   \n",
              "        4                      P17                                                  2.0   \n",
              "10      1                      A1                                                   2.0   \n",
              "                               A11                                                  2.0   \n",
              "                               A12                                                  3.0   \n",
              "...                                                                                 ...   \n",
              "9       4                      P77                                                 18.0   \n",
              "                               P78                                                  6.5   \n",
              "                               P80                                                 96.0   \n",
              "                               P82                                                 17.5   \n",
              "                               P9                                                   3.0   \n",
              "\n",
              "                                                        min_no_of_clicks_per_session  \\\n",
              "country page 1 (main category) page 2 (clothing model)                                 \n",
              "1       3                      C30                                                 2   \n",
              "        4                      P17                                                 3   \n",
              "10      1                      A1                                                  2   \n",
              "                               A11                                                 3   \n",
              "                               A12                                                 5   \n",
              "...                                                                              ...   \n",
              "9       4                      P77                                                18   \n",
              "                               P78                                                95   \n",
              "                               P80                                                96   \n",
              "                               P82                                                18   \n",
              "                               P9                                                  4   \n",
              "\n",
              "                                                        max_no_of_clicks_per_session  \\\n",
              "country page 1 (main category) page 2 (clothing model)                                 \n",
              "1       3                      C30                                                 2   \n",
              "        4                      P17                                                 1   \n",
              "10      1                      A1                                                  2   \n",
              "                               A11                                                 1   \n",
              "                               A12                                                 1   \n",
              "...                                                                              ...   \n",
              "9       4                      P77                                                18   \n",
              "                               P78                                                 1   \n",
              "                               P80                                                96   \n",
              "                               P82                                                17   \n",
              "                               P9                                                  1   \n",
              "\n",
              "                                                        median_price  \\\n",
              "country page 1 (main category) page 2 (clothing model)                 \n",
              "1       3                      C30                              28.0   \n",
              "        4                      P17                              38.0   \n",
              "10      1                      A1                               28.0   \n",
              "                               A11                              62.0   \n",
              "                               A12                              38.0   \n",
              "...                                                              ...   \n",
              "9       4                      P77                              43.0   \n",
              "                               P78                              48.0   \n",
              "                               P80                              28.0   \n",
              "                               P82                              48.0   \n",
              "                               P9                               23.0   \n",
              "\n",
              "                                                        min_price  max_price  \\\n",
              "country page 1 (main category) page 2 (clothing model)                         \n",
              "1       3                      C30                             28         28   \n",
              "        4                      P17                             38         38   \n",
              "10      1                      A1                              28         28   \n",
              "                               A11                             62         62   \n",
              "                               A12                             38         38   \n",
              "...                                                           ...        ...   \n",
              "9       4                      P77                             43         43   \n",
              "                               P78                             48         48   \n",
              "                               P80                             28         28   \n",
              "                               P82                             48         48   \n",
              "                               P9                              23         23   \n",
              "\n",
              "                                                        total_number_of_sessions  \\\n",
              "country page 1 (main category) page 2 (clothing model)                             \n",
              "1       3                      C30                                             1   \n",
              "        4                      P17                                             1   \n",
              "10      1                      A1                                              1   \n",
              "                               A11                                             2   \n",
              "                               A12                                             5   \n",
              "...                                                                          ...   \n",
              "9       4                      P77                                             1   \n",
              "                               P78                                             3   \n",
              "                               P80                                             1   \n",
              "                               P82                                             2   \n",
              "                               P9                                              4   \n",
              "\n",
              "                                                       most_frequent_day  \\\n",
              "country page 1 (main category) page 2 (clothing model)                     \n",
              "1       3                      C30                                    11   \n",
              "        4                      P17                                    11   \n",
              "10      1                      A1                                      8   \n",
              "                               A11                                    22   \n",
              "                               A12                                    12   \n",
              "...                                                                  ...   \n",
              "9       4                      P77                                     6   \n",
              "                               P78                                    17   \n",
              "                               P80                                    17   \n",
              "                               P82                                    20   \n",
              "                               P9                                      1   \n",
              "\n",
              "                                                       most_frequent_colour  \\\n",
              "country page 1 (main category) page 2 (clothing model)                        \n",
              "1       3                      C30                                        2   \n",
              "        4                      P17                                        2   \n",
              "10      1                      A1                                         8   \n",
              "                               A11                                        3   \n",
              "                               A12                                        2   \n",
              "...                                                                     ...   \n",
              "9       4                      P77                                        7   \n",
              "                               P78                                       14   \n",
              "                               P80                                        7   \n",
              "                               P82                                        6   \n",
              "                               P9                                         4   \n",
              "\n",
              "                                                       most_frequent_location  \\\n",
              "country page 1 (main category) page 2 (clothing model)                          \n",
              "1       3                      C30                                          4   \n",
              "        4                      P17                                          6   \n",
              "10      1                      A1                                           1   \n",
              "                               A11                                          4   \n",
              "                               A12                                          4   \n",
              "...                                                                       ...   \n",
              "9       4                      P77                                          2   \n",
              "                               P78                                          2   \n",
              "                               P80                                          3   \n",
              "                               P82                                          4   \n",
              "                               P9                                           3   \n",
              "\n",
              "                                                       most_frequent_photo_type  \\\n",
              "country page 1 (main category) page 2 (clothing model)                            \n",
              "1       3                      C30                                            2   \n",
              "        4                      P17                                            2   \n",
              "10      1                      A1                                             1   \n",
              "                               A11                                            1   \n",
              "                               A12                                            1   \n",
              "...                                                                         ...   \n",
              "9       4                      P77                                            1   \n",
              "                               P78                                            2   \n",
              "                               P80                                            1   \n",
              "                               P82                                            2   \n",
              "                               P9                                             2   \n",
              "\n",
              "                                                       most_frequent_price_type  \\\n",
              "country page 1 (main category) page 2 (clothing model)                            \n",
              "1       3                      C30                                            2   \n",
              "        4                      P17                                            1   \n",
              "10      1                      A1                                             2   \n",
              "                               A11                                            1   \n",
              "                               A12                                            2   \n",
              "...                                                                         ...   \n",
              "9       4                      P77                                            1   \n",
              "                               P78                                            1   \n",
              "                               P80                                            2   \n",
              "                               P82                                            1   \n",
              "                               P9                                             2   \n",
              "\n",
              "                                                       most_frequent_page_number  \n",
              "country page 1 (main category) page 2 (clothing model)                            \n",
              "1       3                      C30                                             2  \n",
              "        4                      P17                                             1  \n",
              "10      1                      A1                                              1  \n",
              "                               A11                                             1  \n",
              "                               A12                                             1  \n",
              "...                                                                          ...  \n",
              "9       4                      P77                                             5  \n",
              "                               P78                                             5  \n",
              "                               P80                                             5  \n",
              "                               P82                                             5  \n",
              "                               P9                                              1  \n",
              "\n",
              "[3141 rows x 13 columns]"
            ],
            "text/html": [
              "\n",
              "  <div id=\"df-827feb10-cc17-48be-9c40-0534cf6e9ccf\">\n",
              "    <div class=\"colab-df-container\">\n",
              "      <div>\n",
              "<style scoped>\n",
              "    .dataframe tbody tr th:only-of-type {\n",
              "        vertical-align: middle;\n",
              "    }\n",
              "\n",
              "    .dataframe tbody tr th {\n",
              "        vertical-align: top;\n",
              "    }\n",
              "\n",
              "    .dataframe thead th {\n",
              "        text-align: right;\n",
              "    }\n",
              "</style>\n",
              "<table border=\"1\" class=\"dataframe\">\n",
              "  <thead>\n",
              "    <tr style=\"text-align: right;\">\n",
              "      <th></th>\n",
              "      <th></th>\n",
              "      <th></th>\n",
              "      <th>median_no_of_clicks_per_session</th>\n",
              "      <th>min_no_of_clicks_per_session</th>\n",
              "      <th>max_no_of_clicks_per_session</th>\n",
              "      <th>median_price</th>\n",
              "      <th>min_price</th>\n",
              "      <th>max_price</th>\n",
              "      <th>total_number_of_sessions</th>\n",
              "      <th>most_frequent_day</th>\n",
              "      <th>most_frequent_colour</th>\n",
              "      <th>most_frequent_location</th>\n",
              "      <th>most_frequent_photo_type</th>\n",
              "      <th>most_frequent_price_type</th>\n",
              "      <th>most_frequent_page_number</th>\n",
              "    </tr>\n",
              "    <tr>\n",
              "      <th>country</th>\n",
              "      <th>page 1 (main category)</th>\n",
              "      <th>page 2 (clothing model)</th>\n",
              "      <th></th>\n",
              "      <th></th>\n",
              "      <th></th>\n",
              "      <th></th>\n",
              "      <th></th>\n",
              "      <th></th>\n",
              "      <th></th>\n",
              "      <th></th>\n",
              "      <th></th>\n",
              "      <th></th>\n",
              "      <th></th>\n",
              "      <th></th>\n",
              "      <th></th>\n",
              "    </tr>\n",
              "  </thead>\n",
              "  <tbody>\n",
              "    <tr>\n",
              "      <th rowspan=\"2\" valign=\"top\">1</th>\n",
              "      <th>3</th>\n",
              "      <th>C30</th>\n",
              "      <td>2.0</td>\n",
              "      <td>2</td>\n",
              "      <td>2</td>\n",
              "      <td>28.0</td>\n",
              "      <td>28</td>\n",
              "      <td>28</td>\n",
              "      <td>1</td>\n",
              "      <td>11</td>\n",
              "      <td>2</td>\n",
              "      <td>4</td>\n",
              "      <td>2</td>\n",
              "      <td>2</td>\n",
              "      <td>2</td>\n",
              "    </tr>\n",
              "    <tr>\n",
              "      <th>4</th>\n",
              "      <th>P17</th>\n",
              "      <td>2.0</td>\n",
              "      <td>3</td>\n",
              "      <td>1</td>\n",
              "      <td>38.0</td>\n",
              "      <td>38</td>\n",
              "      <td>38</td>\n",
              "      <td>1</td>\n",
              "      <td>11</td>\n",
              "      <td>2</td>\n",
              "      <td>6</td>\n",
              "      <td>2</td>\n",
              "      <td>1</td>\n",
              "      <td>1</td>\n",
              "    </tr>\n",
              "    <tr>\n",
              "      <th rowspan=\"3\" valign=\"top\">10</th>\n",
              "      <th rowspan=\"3\" valign=\"top\">1</th>\n",
              "      <th>A1</th>\n",
              "      <td>2.0</td>\n",
              "      <td>2</td>\n",
              "      <td>2</td>\n",
              "      <td>28.0</td>\n",
              "      <td>28</td>\n",
              "      <td>28</td>\n",
              "      <td>1</td>\n",
              "      <td>8</td>\n",
              "      <td>8</td>\n",
              "      <td>1</td>\n",
              "      <td>1</td>\n",
              "      <td>2</td>\n",
              "      <td>1</td>\n",
              "    </tr>\n",
              "    <tr>\n",
              "      <th>A11</th>\n",
              "      <td>2.0</td>\n",
              "      <td>3</td>\n",
              "      <td>1</td>\n",
              "      <td>62.0</td>\n",
              "      <td>62</td>\n",
              "      <td>62</td>\n",
              "      <td>2</td>\n",
              "      <td>22</td>\n",
              "      <td>3</td>\n",
              "      <td>4</td>\n",
              "      <td>1</td>\n",
              "      <td>1</td>\n",
              "      <td>1</td>\n",
              "    </tr>\n",
              "    <tr>\n",
              "      <th>A12</th>\n",
              "      <td>3.0</td>\n",
              "      <td>5</td>\n",
              "      <td>1</td>\n",
              "      <td>38.0</td>\n",
              "      <td>38</td>\n",
              "      <td>38</td>\n",
              "      <td>5</td>\n",
              "      <td>12</td>\n",
              "      <td>2</td>\n",
              "      <td>4</td>\n",
              "      <td>1</td>\n",
              "      <td>2</td>\n",
              "      <td>1</td>\n",
              "    </tr>\n",
              "    <tr>\n",
              "      <th>...</th>\n",
              "      <th>...</th>\n",
              "      <th>...</th>\n",
              "      <td>...</td>\n",
              "      <td>...</td>\n",
              "      <td>...</td>\n",
              "      <td>...</td>\n",
              "      <td>...</td>\n",
              "      <td>...</td>\n",
              "      <td>...</td>\n",
              "      <td>...</td>\n",
              "      <td>...</td>\n",
              "      <td>...</td>\n",
              "      <td>...</td>\n",
              "      <td>...</td>\n",
              "      <td>...</td>\n",
              "    </tr>\n",
              "    <tr>\n",
              "      <th rowspan=\"5\" valign=\"top\">9</th>\n",
              "      <th rowspan=\"5\" valign=\"top\">4</th>\n",
              "      <th>P77</th>\n",
              "      <td>18.0</td>\n",
              "      <td>18</td>\n",
              "      <td>18</td>\n",
              "      <td>43.0</td>\n",
              "      <td>43</td>\n",
              "      <td>43</td>\n",
              "      <td>1</td>\n",
              "      <td>6</td>\n",
              "      <td>7</td>\n",
              "      <td>2</td>\n",
              "      <td>1</td>\n",
              "      <td>1</td>\n",
              "      <td>5</td>\n",
              "    </tr>\n",
              "    <tr>\n",
              "      <th>P78</th>\n",
              "      <td>6.5</td>\n",
              "      <td>95</td>\n",
              "      <td>1</td>\n",
              "      <td>48.0</td>\n",
              "      <td>48</td>\n",
              "      <td>48</td>\n",
              "      <td>3</td>\n",
              "      <td>17</td>\n",
              "      <td>14</td>\n",
              "      <td>2</td>\n",
              "      <td>2</td>\n",
              "      <td>1</td>\n",
              "      <td>5</td>\n",
              "    </tr>\n",
              "    <tr>\n",
              "      <th>P80</th>\n",
              "      <td>96.0</td>\n",
              "      <td>96</td>\n",
              "      <td>96</td>\n",
              "      <td>28.0</td>\n",
              "      <td>28</td>\n",
              "      <td>28</td>\n",
              "      <td>1</td>\n",
              "      <td>17</td>\n",
              "      <td>7</td>\n",
              "      <td>3</td>\n",
              "      <td>1</td>\n",
              "      <td>2</td>\n",
              "      <td>5</td>\n",
              "    </tr>\n",
              "    <tr>\n",
              "      <th>P82</th>\n",
              "      <td>17.5</td>\n",
              "      <td>18</td>\n",
              "      <td>17</td>\n",
              "      <td>48.0</td>\n",
              "      <td>48</td>\n",
              "      <td>48</td>\n",
              "      <td>2</td>\n",
              "      <td>20</td>\n",
              "      <td>6</td>\n",
              "      <td>4</td>\n",
              "      <td>2</td>\n",
              "      <td>1</td>\n",
              "      <td>5</td>\n",
              "    </tr>\n",
              "    <tr>\n",
              "      <th>P9</th>\n",
              "      <td>3.0</td>\n",
              "      <td>4</td>\n",
              "      <td>1</td>\n",
              "      <td>23.0</td>\n",
              "      <td>23</td>\n",
              "      <td>23</td>\n",
              "      <td>4</td>\n",
              "      <td>1</td>\n",
              "      <td>4</td>\n",
              "      <td>3</td>\n",
              "      <td>2</td>\n",
              "      <td>2</td>\n",
              "      <td>1</td>\n",
              "    </tr>\n",
              "  </tbody>\n",
              "</table>\n",
              "<p>3141 rows × 13 columns</p>\n",
              "</div>\n",
              "      <button class=\"colab-df-convert\" onclick=\"convertToInteractive('df-827feb10-cc17-48be-9c40-0534cf6e9ccf')\"\n",
              "              title=\"Convert this dataframe to an interactive table.\"\n",
              "              style=\"display:none;\">\n",
              "        \n",
              "  <svg xmlns=\"http://www.w3.org/2000/svg\" height=\"24px\"viewBox=\"0 0 24 24\"\n",
              "       width=\"24px\">\n",
              "    <path d=\"M0 0h24v24H0V0z\" fill=\"none\"/>\n",
              "    <path d=\"M18.56 5.44l.94 2.06.94-2.06 2.06-.94-2.06-.94-.94-2.06-.94 2.06-2.06.94zm-11 1L8.5 8.5l.94-2.06 2.06-.94-2.06-.94L8.5 2.5l-.94 2.06-2.06.94zm10 10l.94 2.06.94-2.06 2.06-.94-2.06-.94-.94-2.06-.94 2.06-2.06.94z\"/><path d=\"M17.41 7.96l-1.37-1.37c-.4-.4-.92-.59-1.43-.59-.52 0-1.04.2-1.43.59L10.3 9.45l-7.72 7.72c-.78.78-.78 2.05 0 2.83L4 21.41c.39.39.9.59 1.41.59.51 0 1.02-.2 1.41-.59l7.78-7.78 2.81-2.81c.8-.78.8-2.07 0-2.86zM5.41 20L4 18.59l7.72-7.72 1.47 1.35L5.41 20z\"/>\n",
              "  </svg>\n",
              "      </button>\n",
              "      \n",
              "  <style>\n",
              "    .colab-df-container {\n",
              "      display:flex;\n",
              "      flex-wrap:wrap;\n",
              "      gap: 12px;\n",
              "    }\n",
              "\n",
              "    .colab-df-convert {\n",
              "      background-color: #E8F0FE;\n",
              "      border: none;\n",
              "      border-radius: 50%;\n",
              "      cursor: pointer;\n",
              "      display: none;\n",
              "      fill: #1967D2;\n",
              "      height: 32px;\n",
              "      padding: 0 0 0 0;\n",
              "      width: 32px;\n",
              "    }\n",
              "\n",
              "    .colab-df-convert:hover {\n",
              "      background-color: #E2EBFA;\n",
              "      box-shadow: 0px 1px 2px rgba(60, 64, 67, 0.3), 0px 1px 3px 1px rgba(60, 64, 67, 0.15);\n",
              "      fill: #174EA6;\n",
              "    }\n",
              "\n",
              "    [theme=dark] .colab-df-convert {\n",
              "      background-color: #3B4455;\n",
              "      fill: #D2E3FC;\n",
              "    }\n",
              "\n",
              "    [theme=dark] .colab-df-convert:hover {\n",
              "      background-color: #434B5C;\n",
              "      box-shadow: 0px 1px 3px 1px rgba(0, 0, 0, 0.15);\n",
              "      filter: drop-shadow(0px 1px 2px rgba(0, 0, 0, 0.3));\n",
              "      fill: #FFFFFF;\n",
              "    }\n",
              "  </style>\n",
              "\n",
              "      <script>\n",
              "        const buttonEl =\n",
              "          document.querySelector('#df-827feb10-cc17-48be-9c40-0534cf6e9ccf button.colab-df-convert');\n",
              "        buttonEl.style.display =\n",
              "          google.colab.kernel.accessAllowed ? 'block' : 'none';\n",
              "\n",
              "        async function convertToInteractive(key) {\n",
              "          const element = document.querySelector('#df-827feb10-cc17-48be-9c40-0534cf6e9ccf');\n",
              "          const dataTable =\n",
              "            await google.colab.kernel.invokeFunction('convertToInteractive',\n",
              "                                                     [key], {});\n",
              "          if (!dataTable) return;\n",
              "\n",
              "          const docLinkHtml = 'Like what you see? Visit the ' +\n",
              "            '<a target=\"_blank\" href=https://colab.research.google.com/notebooks/data_table.ipynb>data table notebook</a>'\n",
              "            + ' to learn more about interactive tables.';\n",
              "          element.innerHTML = '';\n",
              "          dataTable['output_type'] = 'display_data';\n",
              "          await google.colab.output.renderOutput(dataTable, element);\n",
              "          const docLink = document.createElement('div');\n",
              "          docLink.innerHTML = docLinkHtml;\n",
              "          element.appendChild(docLink);\n",
              "        }\n",
              "      </script>\n",
              "    </div>\n",
              "  </div>\n",
              "  "
            ]
          },
          "metadata": {},
          "execution_count": 9
        }
      ]
    },
    {
      "cell_type": "markdown",
      "source": [
        "- No hay variables categoricas que tengan naturaleza ordinasl, se puede tratar con variables categoricas dummy"
      ],
      "metadata": {
        "id": "prrl8Ey3l5Xs"
      }
    },
    {
      "cell_type": "code",
      "source": [
        "cat_vars = ['most_frequent_day',\n",
        "           'most_frequent_colour', 'most_frequent_location',\n",
        "           'most_frequent_photo_type', 'most_frequent_price_type',\n",
        "           'most_frequent_page_number']\n",
        "\n",
        "data2[cat_vars] = data2[cat_vars].astype(str)\n",
        "data3 = pd.get_dummies(data2)\n",
        "data3"
      ],
      "metadata": {
        "colab": {
          "base_uri": "https://localhost:8080/",
          "height": 553
        },
        "id": "bcxWNAfAmDYo",
        "outputId": "6cfa6546-07b4-40de-d412-9ecb538930f9"
      },
      "execution_count": 10,
      "outputs": [
        {
          "output_type": "execute_result",
          "data": {
            "text/plain": [
              "                                                        median_no_of_clicks_per_session  \\\n",
              "country page 1 (main category) page 2 (clothing model)                                    \n",
              "1       3                      C30                                                  2.0   \n",
              "        4                      P17                                                  2.0   \n",
              "10      1                      A1                                                   2.0   \n",
              "                               A11                                                  2.0   \n",
              "                               A12                                                  3.0   \n",
              "...                                                                                 ...   \n",
              "9       4                      P77                                                 18.0   \n",
              "                               P78                                                  6.5   \n",
              "                               P80                                                 96.0   \n",
              "                               P82                                                 17.5   \n",
              "                               P9                                                   3.0   \n",
              "\n",
              "                                                        min_no_of_clicks_per_session  \\\n",
              "country page 1 (main category) page 2 (clothing model)                                 \n",
              "1       3                      C30                                                 2   \n",
              "        4                      P17                                                 3   \n",
              "10      1                      A1                                                  2   \n",
              "                               A11                                                 3   \n",
              "                               A12                                                 5   \n",
              "...                                                                              ...   \n",
              "9       4                      P77                                                18   \n",
              "                               P78                                                95   \n",
              "                               P80                                                96   \n",
              "                               P82                                                18   \n",
              "                               P9                                                  4   \n",
              "\n",
              "                                                        max_no_of_clicks_per_session  \\\n",
              "country page 1 (main category) page 2 (clothing model)                                 \n",
              "1       3                      C30                                                 2   \n",
              "        4                      P17                                                 1   \n",
              "10      1                      A1                                                  2   \n",
              "                               A11                                                 1   \n",
              "                               A12                                                 1   \n",
              "...                                                                              ...   \n",
              "9       4                      P77                                                18   \n",
              "                               P78                                                 1   \n",
              "                               P80                                                96   \n",
              "                               P82                                                17   \n",
              "                               P9                                                  1   \n",
              "\n",
              "                                                        median_price  \\\n",
              "country page 1 (main category) page 2 (clothing model)                 \n",
              "1       3                      C30                              28.0   \n",
              "        4                      P17                              38.0   \n",
              "10      1                      A1                               28.0   \n",
              "                               A11                              62.0   \n",
              "                               A12                              38.0   \n",
              "...                                                              ...   \n",
              "9       4                      P77                              43.0   \n",
              "                               P78                              48.0   \n",
              "                               P80                              28.0   \n",
              "                               P82                              48.0   \n",
              "                               P9                               23.0   \n",
              "\n",
              "                                                        min_price  max_price  \\\n",
              "country page 1 (main category) page 2 (clothing model)                         \n",
              "1       3                      C30                             28         28   \n",
              "        4                      P17                             38         38   \n",
              "10      1                      A1                              28         28   \n",
              "                               A11                             62         62   \n",
              "                               A12                             38         38   \n",
              "...                                                           ...        ...   \n",
              "9       4                      P77                             43         43   \n",
              "                               P78                             48         48   \n",
              "                               P80                             28         28   \n",
              "                               P82                             48         48   \n",
              "                               P9                              23         23   \n",
              "\n",
              "                                                        total_number_of_sessions  \\\n",
              "country page 1 (main category) page 2 (clothing model)                             \n",
              "1       3                      C30                                             1   \n",
              "        4                      P17                                             1   \n",
              "10      1                      A1                                              1   \n",
              "                               A11                                             2   \n",
              "                               A12                                             5   \n",
              "...                                                                          ...   \n",
              "9       4                      P77                                             1   \n",
              "                               P78                                             3   \n",
              "                               P80                                             1   \n",
              "                               P82                                             2   \n",
              "                               P9                                              4   \n",
              "\n",
              "                                                        most_frequent_day_1  \\\n",
              "country page 1 (main category) page 2 (clothing model)                        \n",
              "1       3                      C30                                        0   \n",
              "        4                      P17                                        0   \n",
              "10      1                      A1                                         0   \n",
              "                               A11                                        0   \n",
              "                               A12                                        0   \n",
              "...                                                                     ...   \n",
              "9       4                      P77                                        0   \n",
              "                               P78                                        0   \n",
              "                               P80                                        0   \n",
              "                               P82                                        0   \n",
              "                               P9                                         1   \n",
              "\n",
              "                                                        most_frequent_day_10  \\\n",
              "country page 1 (main category) page 2 (clothing model)                         \n",
              "1       3                      C30                                         0   \n",
              "        4                      P17                                         0   \n",
              "10      1                      A1                                          0   \n",
              "                               A11                                         0   \n",
              "                               A12                                         0   \n",
              "...                                                                      ...   \n",
              "9       4                      P77                                         0   \n",
              "                               P78                                         0   \n",
              "                               P80                                         0   \n",
              "                               P82                                         0   \n",
              "                               P9                                          0   \n",
              "\n",
              "                                                        most_frequent_day_11  \\\n",
              "country page 1 (main category) page 2 (clothing model)                         \n",
              "1       3                      C30                                         1   \n",
              "        4                      P17                                         1   \n",
              "10      1                      A1                                          0   \n",
              "                               A11                                         0   \n",
              "                               A12                                         0   \n",
              "...                                                                      ...   \n",
              "9       4                      P77                                         0   \n",
              "                               P78                                         0   \n",
              "                               P80                                         0   \n",
              "                               P82                                         0   \n",
              "                               P9                                          0   \n",
              "\n",
              "                                                        ...  \\\n",
              "country page 1 (main category) page 2 (clothing model)  ...   \n",
              "1       3                      C30                      ...   \n",
              "        4                      P17                      ...   \n",
              "10      1                      A1                       ...   \n",
              "                               A11                      ...   \n",
              "                               A12                      ...   \n",
              "...                                                     ...   \n",
              "9       4                      P77                      ...   \n",
              "                               P78                      ...   \n",
              "                               P80                      ...   \n",
              "                               P82                      ...   \n",
              "                               P9                       ...   \n",
              "\n",
              "                                                        most_frequent_location_6  \\\n",
              "country page 1 (main category) page 2 (clothing model)                             \n",
              "1       3                      C30                                             0   \n",
              "        4                      P17                                             1   \n",
              "10      1                      A1                                              0   \n",
              "                               A11                                             0   \n",
              "                               A12                                             0   \n",
              "...                                                                          ...   \n",
              "9       4                      P77                                             0   \n",
              "                               P78                                             0   \n",
              "                               P80                                             0   \n",
              "                               P82                                             0   \n",
              "                               P9                                              0   \n",
              "\n",
              "                                                        most_frequent_photo_type_1  \\\n",
              "country page 1 (main category) page 2 (clothing model)                               \n",
              "1       3                      C30                                               0   \n",
              "        4                      P17                                               0   \n",
              "10      1                      A1                                                1   \n",
              "                               A11                                               1   \n",
              "                               A12                                               1   \n",
              "...                                                                            ...   \n",
              "9       4                      P77                                               1   \n",
              "                               P78                                               0   \n",
              "                               P80                                               1   \n",
              "                               P82                                               0   \n",
              "                               P9                                                0   \n",
              "\n",
              "                                                        most_frequent_photo_type_2  \\\n",
              "country page 1 (main category) page 2 (clothing model)                               \n",
              "1       3                      C30                                               1   \n",
              "        4                      P17                                               1   \n",
              "10      1                      A1                                                0   \n",
              "                               A11                                               0   \n",
              "                               A12                                               0   \n",
              "...                                                                            ...   \n",
              "9       4                      P77                                               0   \n",
              "                               P78                                               1   \n",
              "                               P80                                               0   \n",
              "                               P82                                               1   \n",
              "                               P9                                                1   \n",
              "\n",
              "                                                        most_frequent_price_type_1  \\\n",
              "country page 1 (main category) page 2 (clothing model)                               \n",
              "1       3                      C30                                               0   \n",
              "        4                      P17                                               1   \n",
              "10      1                      A1                                                0   \n",
              "                               A11                                               1   \n",
              "                               A12                                               0   \n",
              "...                                                                            ...   \n",
              "9       4                      P77                                               1   \n",
              "                               P78                                               1   \n",
              "                               P80                                               0   \n",
              "                               P82                                               1   \n",
              "                               P9                                                0   \n",
              "\n",
              "                                                        most_frequent_price_type_2  \\\n",
              "country page 1 (main category) page 2 (clothing model)                               \n",
              "1       3                      C30                                               1   \n",
              "        4                      P17                                               0   \n",
              "10      1                      A1                                                1   \n",
              "                               A11                                               0   \n",
              "                               A12                                               1   \n",
              "...                                                                            ...   \n",
              "9       4                      P77                                               0   \n",
              "                               P78                                               0   \n",
              "                               P80                                               1   \n",
              "                               P82                                               0   \n",
              "                               P9                                                1   \n",
              "\n",
              "                                                        most_frequent_page_number_1  \\\n",
              "country page 1 (main category) page 2 (clothing model)                                \n",
              "1       3                      C30                                                0   \n",
              "        4                      P17                                                1   \n",
              "10      1                      A1                                                 1   \n",
              "                               A11                                                1   \n",
              "                               A12                                                1   \n",
              "...                                                                             ...   \n",
              "9       4                      P77                                                0   \n",
              "                               P78                                                0   \n",
              "                               P80                                                0   \n",
              "                               P82                                                0   \n",
              "                               P9                                                 1   \n",
              "\n",
              "                                                        most_frequent_page_number_2  \\\n",
              "country page 1 (main category) page 2 (clothing model)                                \n",
              "1       3                      C30                                                1   \n",
              "        4                      P17                                                0   \n",
              "10      1                      A1                                                 0   \n",
              "                               A11                                                0   \n",
              "                               A12                                                0   \n",
              "...                                                                             ...   \n",
              "9       4                      P77                                                0   \n",
              "                               P78                                                0   \n",
              "                               P80                                                0   \n",
              "                               P82                                                0   \n",
              "                               P9                                                 0   \n",
              "\n",
              "                                                        most_frequent_page_number_3  \\\n",
              "country page 1 (main category) page 2 (clothing model)                                \n",
              "1       3                      C30                                                0   \n",
              "        4                      P17                                                0   \n",
              "10      1                      A1                                                 0   \n",
              "                               A11                                                0   \n",
              "                               A12                                                0   \n",
              "...                                                                             ...   \n",
              "9       4                      P77                                                0   \n",
              "                               P78                                                0   \n",
              "                               P80                                                0   \n",
              "                               P82                                                0   \n",
              "                               P9                                                 0   \n",
              "\n",
              "                                                        most_frequent_page_number_4  \\\n",
              "country page 1 (main category) page 2 (clothing model)                                \n",
              "1       3                      C30                                                0   \n",
              "        4                      P17                                                0   \n",
              "10      1                      A1                                                 0   \n",
              "                               A11                                                0   \n",
              "                               A12                                                0   \n",
              "...                                                                             ...   \n",
              "9       4                      P77                                                0   \n",
              "                               P78                                                0   \n",
              "                               P80                                                0   \n",
              "                               P82                                                0   \n",
              "                               P9                                                 0   \n",
              "\n",
              "                                                        most_frequent_page_number_5  \n",
              "country page 1 (main category) page 2 (clothing model)                               \n",
              "1       3                      C30                                                0  \n",
              "        4                      P17                                                0  \n",
              "10      1                      A1                                                 0  \n",
              "                               A11                                                0  \n",
              "                               A12                                                0  \n",
              "...                                                                             ...  \n",
              "9       4                      P77                                                1  \n",
              "                               P78                                                1  \n",
              "                               P80                                                1  \n",
              "                               P82                                                1  \n",
              "                               P9                                                 0  \n",
              "\n",
              "[3141 rows x 67 columns]"
            ],
            "text/html": [
              "\n",
              "  <div id=\"df-fc04295e-8ccc-4a33-b375-7c160f0177a7\">\n",
              "    <div class=\"colab-df-container\">\n",
              "      <div>\n",
              "<style scoped>\n",
              "    .dataframe tbody tr th:only-of-type {\n",
              "        vertical-align: middle;\n",
              "    }\n",
              "\n",
              "    .dataframe tbody tr th {\n",
              "        vertical-align: top;\n",
              "    }\n",
              "\n",
              "    .dataframe thead th {\n",
              "        text-align: right;\n",
              "    }\n",
              "</style>\n",
              "<table border=\"1\" class=\"dataframe\">\n",
              "  <thead>\n",
              "    <tr style=\"text-align: right;\">\n",
              "      <th></th>\n",
              "      <th></th>\n",
              "      <th></th>\n",
              "      <th>median_no_of_clicks_per_session</th>\n",
              "      <th>min_no_of_clicks_per_session</th>\n",
              "      <th>max_no_of_clicks_per_session</th>\n",
              "      <th>median_price</th>\n",
              "      <th>min_price</th>\n",
              "      <th>max_price</th>\n",
              "      <th>total_number_of_sessions</th>\n",
              "      <th>most_frequent_day_1</th>\n",
              "      <th>most_frequent_day_10</th>\n",
              "      <th>most_frequent_day_11</th>\n",
              "      <th>...</th>\n",
              "      <th>most_frequent_location_6</th>\n",
              "      <th>most_frequent_photo_type_1</th>\n",
              "      <th>most_frequent_photo_type_2</th>\n",
              "      <th>most_frequent_price_type_1</th>\n",
              "      <th>most_frequent_price_type_2</th>\n",
              "      <th>most_frequent_page_number_1</th>\n",
              "      <th>most_frequent_page_number_2</th>\n",
              "      <th>most_frequent_page_number_3</th>\n",
              "      <th>most_frequent_page_number_4</th>\n",
              "      <th>most_frequent_page_number_5</th>\n",
              "    </tr>\n",
              "    <tr>\n",
              "      <th>country</th>\n",
              "      <th>page 1 (main category)</th>\n",
              "      <th>page 2 (clothing model)</th>\n",
              "      <th></th>\n",
              "      <th></th>\n",
              "      <th></th>\n",
              "      <th></th>\n",
              "      <th></th>\n",
              "      <th></th>\n",
              "      <th></th>\n",
              "      <th></th>\n",
              "      <th></th>\n",
              "      <th></th>\n",
              "      <th></th>\n",
              "      <th></th>\n",
              "      <th></th>\n",
              "      <th></th>\n",
              "      <th></th>\n",
              "      <th></th>\n",
              "      <th></th>\n",
              "      <th></th>\n",
              "      <th></th>\n",
              "      <th></th>\n",
              "      <th></th>\n",
              "    </tr>\n",
              "  </thead>\n",
              "  <tbody>\n",
              "    <tr>\n",
              "      <th rowspan=\"2\" valign=\"top\">1</th>\n",
              "      <th>3</th>\n",
              "      <th>C30</th>\n",
              "      <td>2.0</td>\n",
              "      <td>2</td>\n",
              "      <td>2</td>\n",
              "      <td>28.0</td>\n",
              "      <td>28</td>\n",
              "      <td>28</td>\n",
              "      <td>1</td>\n",
              "      <td>0</td>\n",
              "      <td>0</td>\n",
              "      <td>1</td>\n",
              "      <td>...</td>\n",
              "      <td>0</td>\n",
              "      <td>0</td>\n",
              "      <td>1</td>\n",
              "      <td>0</td>\n",
              "      <td>1</td>\n",
              "      <td>0</td>\n",
              "      <td>1</td>\n",
              "      <td>0</td>\n",
              "      <td>0</td>\n",
              "      <td>0</td>\n",
              "    </tr>\n",
              "    <tr>\n",
              "      <th>4</th>\n",
              "      <th>P17</th>\n",
              "      <td>2.0</td>\n",
              "      <td>3</td>\n",
              "      <td>1</td>\n",
              "      <td>38.0</td>\n",
              "      <td>38</td>\n",
              "      <td>38</td>\n",
              "      <td>1</td>\n",
              "      <td>0</td>\n",
              "      <td>0</td>\n",
              "      <td>1</td>\n",
              "      <td>...</td>\n",
              "      <td>1</td>\n",
              "      <td>0</td>\n",
              "      <td>1</td>\n",
              "      <td>1</td>\n",
              "      <td>0</td>\n",
              "      <td>1</td>\n",
              "      <td>0</td>\n",
              "      <td>0</td>\n",
              "      <td>0</td>\n",
              "      <td>0</td>\n",
              "    </tr>\n",
              "    <tr>\n",
              "      <th rowspan=\"3\" valign=\"top\">10</th>\n",
              "      <th rowspan=\"3\" valign=\"top\">1</th>\n",
              "      <th>A1</th>\n",
              "      <td>2.0</td>\n",
              "      <td>2</td>\n",
              "      <td>2</td>\n",
              "      <td>28.0</td>\n",
              "      <td>28</td>\n",
              "      <td>28</td>\n",
              "      <td>1</td>\n",
              "      <td>0</td>\n",
              "      <td>0</td>\n",
              "      <td>0</td>\n",
              "      <td>...</td>\n",
              "      <td>0</td>\n",
              "      <td>1</td>\n",
              "      <td>0</td>\n",
              "      <td>0</td>\n",
              "      <td>1</td>\n",
              "      <td>1</td>\n",
              "      <td>0</td>\n",
              "      <td>0</td>\n",
              "      <td>0</td>\n",
              "      <td>0</td>\n",
              "    </tr>\n",
              "    <tr>\n",
              "      <th>A11</th>\n",
              "      <td>2.0</td>\n",
              "      <td>3</td>\n",
              "      <td>1</td>\n",
              "      <td>62.0</td>\n",
              "      <td>62</td>\n",
              "      <td>62</td>\n",
              "      <td>2</td>\n",
              "      <td>0</td>\n",
              "      <td>0</td>\n",
              "      <td>0</td>\n",
              "      <td>...</td>\n",
              "      <td>0</td>\n",
              "      <td>1</td>\n",
              "      <td>0</td>\n",
              "      <td>1</td>\n",
              "      <td>0</td>\n",
              "      <td>1</td>\n",
              "      <td>0</td>\n",
              "      <td>0</td>\n",
              "      <td>0</td>\n",
              "      <td>0</td>\n",
              "    </tr>\n",
              "    <tr>\n",
              "      <th>A12</th>\n",
              "      <td>3.0</td>\n",
              "      <td>5</td>\n",
              "      <td>1</td>\n",
              "      <td>38.0</td>\n",
              "      <td>38</td>\n",
              "      <td>38</td>\n",
              "      <td>5</td>\n",
              "      <td>0</td>\n",
              "      <td>0</td>\n",
              "      <td>0</td>\n",
              "      <td>...</td>\n",
              "      <td>0</td>\n",
              "      <td>1</td>\n",
              "      <td>0</td>\n",
              "      <td>0</td>\n",
              "      <td>1</td>\n",
              "      <td>1</td>\n",
              "      <td>0</td>\n",
              "      <td>0</td>\n",
              "      <td>0</td>\n",
              "      <td>0</td>\n",
              "    </tr>\n",
              "    <tr>\n",
              "      <th>...</th>\n",
              "      <th>...</th>\n",
              "      <th>...</th>\n",
              "      <td>...</td>\n",
              "      <td>...</td>\n",
              "      <td>...</td>\n",
              "      <td>...</td>\n",
              "      <td>...</td>\n",
              "      <td>...</td>\n",
              "      <td>...</td>\n",
              "      <td>...</td>\n",
              "      <td>...</td>\n",
              "      <td>...</td>\n",
              "      <td>...</td>\n",
              "      <td>...</td>\n",
              "      <td>...</td>\n",
              "      <td>...</td>\n",
              "      <td>...</td>\n",
              "      <td>...</td>\n",
              "      <td>...</td>\n",
              "      <td>...</td>\n",
              "      <td>...</td>\n",
              "      <td>...</td>\n",
              "      <td>...</td>\n",
              "    </tr>\n",
              "    <tr>\n",
              "      <th rowspan=\"5\" valign=\"top\">9</th>\n",
              "      <th rowspan=\"5\" valign=\"top\">4</th>\n",
              "      <th>P77</th>\n",
              "      <td>18.0</td>\n",
              "      <td>18</td>\n",
              "      <td>18</td>\n",
              "      <td>43.0</td>\n",
              "      <td>43</td>\n",
              "      <td>43</td>\n",
              "      <td>1</td>\n",
              "      <td>0</td>\n",
              "      <td>0</td>\n",
              "      <td>0</td>\n",
              "      <td>...</td>\n",
              "      <td>0</td>\n",
              "      <td>1</td>\n",
              "      <td>0</td>\n",
              "      <td>1</td>\n",
              "      <td>0</td>\n",
              "      <td>0</td>\n",
              "      <td>0</td>\n",
              "      <td>0</td>\n",
              "      <td>0</td>\n",
              "      <td>1</td>\n",
              "    </tr>\n",
              "    <tr>\n",
              "      <th>P78</th>\n",
              "      <td>6.5</td>\n",
              "      <td>95</td>\n",
              "      <td>1</td>\n",
              "      <td>48.0</td>\n",
              "      <td>48</td>\n",
              "      <td>48</td>\n",
              "      <td>3</td>\n",
              "      <td>0</td>\n",
              "      <td>0</td>\n",
              "      <td>0</td>\n",
              "      <td>...</td>\n",
              "      <td>0</td>\n",
              "      <td>0</td>\n",
              "      <td>1</td>\n",
              "      <td>1</td>\n",
              "      <td>0</td>\n",
              "      <td>0</td>\n",
              "      <td>0</td>\n",
              "      <td>0</td>\n",
              "      <td>0</td>\n",
              "      <td>1</td>\n",
              "    </tr>\n",
              "    <tr>\n",
              "      <th>P80</th>\n",
              "      <td>96.0</td>\n",
              "      <td>96</td>\n",
              "      <td>96</td>\n",
              "      <td>28.0</td>\n",
              "      <td>28</td>\n",
              "      <td>28</td>\n",
              "      <td>1</td>\n",
              "      <td>0</td>\n",
              "      <td>0</td>\n",
              "      <td>0</td>\n",
              "      <td>...</td>\n",
              "      <td>0</td>\n",
              "      <td>1</td>\n",
              "      <td>0</td>\n",
              "      <td>0</td>\n",
              "      <td>1</td>\n",
              "      <td>0</td>\n",
              "      <td>0</td>\n",
              "      <td>0</td>\n",
              "      <td>0</td>\n",
              "      <td>1</td>\n",
              "    </tr>\n",
              "    <tr>\n",
              "      <th>P82</th>\n",
              "      <td>17.5</td>\n",
              "      <td>18</td>\n",
              "      <td>17</td>\n",
              "      <td>48.0</td>\n",
              "      <td>48</td>\n",
              "      <td>48</td>\n",
              "      <td>2</td>\n",
              "      <td>0</td>\n",
              "      <td>0</td>\n",
              "      <td>0</td>\n",
              "      <td>...</td>\n",
              "      <td>0</td>\n",
              "      <td>0</td>\n",
              "      <td>1</td>\n",
              "      <td>1</td>\n",
              "      <td>0</td>\n",
              "      <td>0</td>\n",
              "      <td>0</td>\n",
              "      <td>0</td>\n",
              "      <td>0</td>\n",
              "      <td>1</td>\n",
              "    </tr>\n",
              "    <tr>\n",
              "      <th>P9</th>\n",
              "      <td>3.0</td>\n",
              "      <td>4</td>\n",
              "      <td>1</td>\n",
              "      <td>23.0</td>\n",
              "      <td>23</td>\n",
              "      <td>23</td>\n",
              "      <td>4</td>\n",
              "      <td>1</td>\n",
              "      <td>0</td>\n",
              "      <td>0</td>\n",
              "      <td>...</td>\n",
              "      <td>0</td>\n",
              "      <td>0</td>\n",
              "      <td>1</td>\n",
              "      <td>0</td>\n",
              "      <td>1</td>\n",
              "      <td>1</td>\n",
              "      <td>0</td>\n",
              "      <td>0</td>\n",
              "      <td>0</td>\n",
              "      <td>0</td>\n",
              "    </tr>\n",
              "  </tbody>\n",
              "</table>\n",
              "<p>3141 rows × 67 columns</p>\n",
              "</div>\n",
              "      <button class=\"colab-df-convert\" onclick=\"convertToInteractive('df-fc04295e-8ccc-4a33-b375-7c160f0177a7')\"\n",
              "              title=\"Convert this dataframe to an interactive table.\"\n",
              "              style=\"display:none;\">\n",
              "        \n",
              "  <svg xmlns=\"http://www.w3.org/2000/svg\" height=\"24px\"viewBox=\"0 0 24 24\"\n",
              "       width=\"24px\">\n",
              "    <path d=\"M0 0h24v24H0V0z\" fill=\"none\"/>\n",
              "    <path d=\"M18.56 5.44l.94 2.06.94-2.06 2.06-.94-2.06-.94-.94-2.06-.94 2.06-2.06.94zm-11 1L8.5 8.5l.94-2.06 2.06-.94-2.06-.94L8.5 2.5l-.94 2.06-2.06.94zm10 10l.94 2.06.94-2.06 2.06-.94-2.06-.94-.94-2.06-.94 2.06-2.06.94z\"/><path d=\"M17.41 7.96l-1.37-1.37c-.4-.4-.92-.59-1.43-.59-.52 0-1.04.2-1.43.59L10.3 9.45l-7.72 7.72c-.78.78-.78 2.05 0 2.83L4 21.41c.39.39.9.59 1.41.59.51 0 1.02-.2 1.41-.59l7.78-7.78 2.81-2.81c.8-.78.8-2.07 0-2.86zM5.41 20L4 18.59l7.72-7.72 1.47 1.35L5.41 20z\"/>\n",
              "  </svg>\n",
              "      </button>\n",
              "      \n",
              "  <style>\n",
              "    .colab-df-container {\n",
              "      display:flex;\n",
              "      flex-wrap:wrap;\n",
              "      gap: 12px;\n",
              "    }\n",
              "\n",
              "    .colab-df-convert {\n",
              "      background-color: #E8F0FE;\n",
              "      border: none;\n",
              "      border-radius: 50%;\n",
              "      cursor: pointer;\n",
              "      display: none;\n",
              "      fill: #1967D2;\n",
              "      height: 32px;\n",
              "      padding: 0 0 0 0;\n",
              "      width: 32px;\n",
              "    }\n",
              "\n",
              "    .colab-df-convert:hover {\n",
              "      background-color: #E2EBFA;\n",
              "      box-shadow: 0px 1px 2px rgba(60, 64, 67, 0.3), 0px 1px 3px 1px rgba(60, 64, 67, 0.15);\n",
              "      fill: #174EA6;\n",
              "    }\n",
              "\n",
              "    [theme=dark] .colab-df-convert {\n",
              "      background-color: #3B4455;\n",
              "      fill: #D2E3FC;\n",
              "    }\n",
              "\n",
              "    [theme=dark] .colab-df-convert:hover {\n",
              "      background-color: #434B5C;\n",
              "      box-shadow: 0px 1px 3px 1px rgba(0, 0, 0, 0.15);\n",
              "      filter: drop-shadow(0px 1px 2px rgba(0, 0, 0, 0.3));\n",
              "      fill: #FFFFFF;\n",
              "    }\n",
              "  </style>\n",
              "\n",
              "      <script>\n",
              "        const buttonEl =\n",
              "          document.querySelector('#df-fc04295e-8ccc-4a33-b375-7c160f0177a7 button.colab-df-convert');\n",
              "        buttonEl.style.display =\n",
              "          google.colab.kernel.accessAllowed ? 'block' : 'none';\n",
              "\n",
              "        async function convertToInteractive(key) {\n",
              "          const element = document.querySelector('#df-fc04295e-8ccc-4a33-b375-7c160f0177a7');\n",
              "          const dataTable =\n",
              "            await google.colab.kernel.invokeFunction('convertToInteractive',\n",
              "                                                     [key], {});\n",
              "          if (!dataTable) return;\n",
              "\n",
              "          const docLinkHtml = 'Like what you see? Visit the ' +\n",
              "            '<a target=\"_blank\" href=https://colab.research.google.com/notebooks/data_table.ipynb>data table notebook</a>'\n",
              "            + ' to learn more about interactive tables.';\n",
              "          element.innerHTML = '';\n",
              "          dataTable['output_type'] = 'display_data';\n",
              "          await google.colab.output.renderOutput(dataTable, element);\n",
              "          const docLink = document.createElement('div');\n",
              "          docLink.innerHTML = docLinkHtml;\n",
              "          element.appendChild(docLink);\n",
              "        }\n",
              "      </script>\n",
              "    </div>\n",
              "  </div>\n",
              "  "
            ]
          },
          "metadata": {},
          "execution_count": 10
        }
      ]
    },
    {
      "cell_type": "code",
      "source": [
        "# Estandarización\n",
        "num_vars = ['median_no_of_clicks_per_session', 'min_no_of_clicks_per_session', \n",
        "           'max_no_of_clicks_per_session', 'median_price', 'min_price', \n",
        "           'max_price', 'total_number_of_sessions']\n",
        "estimator = StandardScaler()\n",
        "\n",
        "data3[num_vars] = estimator.fit_transform(data3[num_vars])\n",
        "data3.head(5)"
      ],
      "metadata": {
        "colab": {
          "base_uri": "https://localhost:8080/",
          "height": 365
        },
        "id": "t7EXjXtlnBKy",
        "outputId": "5014ab97-9b83-495a-c2e6-0e0b0c7b93fa"
      },
      "execution_count": 11,
      "outputs": [
        {
          "output_type": "execute_result",
          "data": {
            "text/plain": [
              "                                                        median_no_of_clicks_per_session  \\\n",
              "country page 1 (main category) page 2 (clothing model)                                    \n",
              "1       3                      C30                                            -0.784923   \n",
              "        4                      P17                                            -0.784923   \n",
              "10      1                      A1                                             -0.784923   \n",
              "                               A11                                            -0.784923   \n",
              "                               A12                                            -0.686829   \n",
              "\n",
              "                                                        min_no_of_clicks_per_session  \\\n",
              "country page 1 (main category) page 2 (clothing model)                                 \n",
              "1       3                      C30                                         -0.740009   \n",
              "        4                      P17                                         -0.715043   \n",
              "10      1                      A1                                          -0.740009   \n",
              "                               A11                                         -0.715043   \n",
              "                               A12                                         -0.665109   \n",
              "\n",
              "                                                        max_no_of_clicks_per_session  \\\n",
              "country page 1 (main category) page 2 (clothing model)                                 \n",
              "1       3                      C30                                         -0.445811   \n",
              "        4                      P17                                         -0.550030   \n",
              "10      1                      A1                                          -0.445811   \n",
              "                               A11                                         -0.550030   \n",
              "                               A12                                         -0.550030   \n",
              "\n",
              "                                                        median_price  \\\n",
              "country page 1 (main category) page 2 (clothing model)                 \n",
              "1       3                      C30                         -1.197785   \n",
              "        4                      P17                         -0.367561   \n",
              "10      1                      A1                          -1.197785   \n",
              "                               A11                          1.624976   \n",
              "                               A12                         -0.367561   \n",
              "\n",
              "                                                        min_price  max_price  \\\n",
              "country page 1 (main category) page 2 (clothing model)                         \n",
              "1       3                      C30                      -1.197785  -1.197785   \n",
              "        4                      P17                      -0.367561  -0.367561   \n",
              "10      1                      A1                       -1.197785  -1.197785   \n",
              "                               A11                       1.624976   1.624976   \n",
              "                               A12                      -0.367561  -0.367561   \n",
              "\n",
              "                                                        total_number_of_sessions  \\\n",
              "country page 1 (main category) page 2 (clothing model)                             \n",
              "1       3                      C30                                     -0.254235   \n",
              "        4                      P17                                     -0.254235   \n",
              "10      1                      A1                                      -0.254235   \n",
              "                               A11                                     -0.248735   \n",
              "                               A12                                     -0.232237   \n",
              "\n",
              "                                                        most_frequent_day_1  \\\n",
              "country page 1 (main category) page 2 (clothing model)                        \n",
              "1       3                      C30                                        0   \n",
              "        4                      P17                                        0   \n",
              "10      1                      A1                                         0   \n",
              "                               A11                                        0   \n",
              "                               A12                                        0   \n",
              "\n",
              "                                                        most_frequent_day_10  \\\n",
              "country page 1 (main category) page 2 (clothing model)                         \n",
              "1       3                      C30                                         0   \n",
              "        4                      P17                                         0   \n",
              "10      1                      A1                                          0   \n",
              "                               A11                                         0   \n",
              "                               A12                                         0   \n",
              "\n",
              "                                                        most_frequent_day_11  \\\n",
              "country page 1 (main category) page 2 (clothing model)                         \n",
              "1       3                      C30                                         1   \n",
              "        4                      P17                                         1   \n",
              "10      1                      A1                                          0   \n",
              "                               A11                                         0   \n",
              "                               A12                                         0   \n",
              "\n",
              "                                                        ...  \\\n",
              "country page 1 (main category) page 2 (clothing model)  ...   \n",
              "1       3                      C30                      ...   \n",
              "        4                      P17                      ...   \n",
              "10      1                      A1                       ...   \n",
              "                               A11                      ...   \n",
              "                               A12                      ...   \n",
              "\n",
              "                                                        most_frequent_location_6  \\\n",
              "country page 1 (main category) page 2 (clothing model)                             \n",
              "1       3                      C30                                             0   \n",
              "        4                      P17                                             1   \n",
              "10      1                      A1                                              0   \n",
              "                               A11                                             0   \n",
              "                               A12                                             0   \n",
              "\n",
              "                                                        most_frequent_photo_type_1  \\\n",
              "country page 1 (main category) page 2 (clothing model)                               \n",
              "1       3                      C30                                               0   \n",
              "        4                      P17                                               0   \n",
              "10      1                      A1                                                1   \n",
              "                               A11                                               1   \n",
              "                               A12                                               1   \n",
              "\n",
              "                                                        most_frequent_photo_type_2  \\\n",
              "country page 1 (main category) page 2 (clothing model)                               \n",
              "1       3                      C30                                               1   \n",
              "        4                      P17                                               1   \n",
              "10      1                      A1                                                0   \n",
              "                               A11                                               0   \n",
              "                               A12                                               0   \n",
              "\n",
              "                                                        most_frequent_price_type_1  \\\n",
              "country page 1 (main category) page 2 (clothing model)                               \n",
              "1       3                      C30                                               0   \n",
              "        4                      P17                                               1   \n",
              "10      1                      A1                                                0   \n",
              "                               A11                                               1   \n",
              "                               A12                                               0   \n",
              "\n",
              "                                                        most_frequent_price_type_2  \\\n",
              "country page 1 (main category) page 2 (clothing model)                               \n",
              "1       3                      C30                                               1   \n",
              "        4                      P17                                               0   \n",
              "10      1                      A1                                                1   \n",
              "                               A11                                               0   \n",
              "                               A12                                               1   \n",
              "\n",
              "                                                        most_frequent_page_number_1  \\\n",
              "country page 1 (main category) page 2 (clothing model)                                \n",
              "1       3                      C30                                                0   \n",
              "        4                      P17                                                1   \n",
              "10      1                      A1                                                 1   \n",
              "                               A11                                                1   \n",
              "                               A12                                                1   \n",
              "\n",
              "                                                        most_frequent_page_number_2  \\\n",
              "country page 1 (main category) page 2 (clothing model)                                \n",
              "1       3                      C30                                                1   \n",
              "        4                      P17                                                0   \n",
              "10      1                      A1                                                 0   \n",
              "                               A11                                                0   \n",
              "                               A12                                                0   \n",
              "\n",
              "                                                        most_frequent_page_number_3  \\\n",
              "country page 1 (main category) page 2 (clothing model)                                \n",
              "1       3                      C30                                                0   \n",
              "        4                      P17                                                0   \n",
              "10      1                      A1                                                 0   \n",
              "                               A11                                                0   \n",
              "                               A12                                                0   \n",
              "\n",
              "                                                        most_frequent_page_number_4  \\\n",
              "country page 1 (main category) page 2 (clothing model)                                \n",
              "1       3                      C30                                                0   \n",
              "        4                      P17                                                0   \n",
              "10      1                      A1                                                 0   \n",
              "                               A11                                                0   \n",
              "                               A12                                                0   \n",
              "\n",
              "                                                        most_frequent_page_number_5  \n",
              "country page 1 (main category) page 2 (clothing model)                               \n",
              "1       3                      C30                                                0  \n",
              "        4                      P17                                                0  \n",
              "10      1                      A1                                                 0  \n",
              "                               A11                                                0  \n",
              "                               A12                                                0  \n",
              "\n",
              "[5 rows x 67 columns]"
            ],
            "text/html": [
              "\n",
              "  <div id=\"df-f4fd0f8c-a361-4216-8d5c-c22830e40001\">\n",
              "    <div class=\"colab-df-container\">\n",
              "      <div>\n",
              "<style scoped>\n",
              "    .dataframe tbody tr th:only-of-type {\n",
              "        vertical-align: middle;\n",
              "    }\n",
              "\n",
              "    .dataframe tbody tr th {\n",
              "        vertical-align: top;\n",
              "    }\n",
              "\n",
              "    .dataframe thead th {\n",
              "        text-align: right;\n",
              "    }\n",
              "</style>\n",
              "<table border=\"1\" class=\"dataframe\">\n",
              "  <thead>\n",
              "    <tr style=\"text-align: right;\">\n",
              "      <th></th>\n",
              "      <th></th>\n",
              "      <th></th>\n",
              "      <th>median_no_of_clicks_per_session</th>\n",
              "      <th>min_no_of_clicks_per_session</th>\n",
              "      <th>max_no_of_clicks_per_session</th>\n",
              "      <th>median_price</th>\n",
              "      <th>min_price</th>\n",
              "      <th>max_price</th>\n",
              "      <th>total_number_of_sessions</th>\n",
              "      <th>most_frequent_day_1</th>\n",
              "      <th>most_frequent_day_10</th>\n",
              "      <th>most_frequent_day_11</th>\n",
              "      <th>...</th>\n",
              "      <th>most_frequent_location_6</th>\n",
              "      <th>most_frequent_photo_type_1</th>\n",
              "      <th>most_frequent_photo_type_2</th>\n",
              "      <th>most_frequent_price_type_1</th>\n",
              "      <th>most_frequent_price_type_2</th>\n",
              "      <th>most_frequent_page_number_1</th>\n",
              "      <th>most_frequent_page_number_2</th>\n",
              "      <th>most_frequent_page_number_3</th>\n",
              "      <th>most_frequent_page_number_4</th>\n",
              "      <th>most_frequent_page_number_5</th>\n",
              "    </tr>\n",
              "    <tr>\n",
              "      <th>country</th>\n",
              "      <th>page 1 (main category)</th>\n",
              "      <th>page 2 (clothing model)</th>\n",
              "      <th></th>\n",
              "      <th></th>\n",
              "      <th></th>\n",
              "      <th></th>\n",
              "      <th></th>\n",
              "      <th></th>\n",
              "      <th></th>\n",
              "      <th></th>\n",
              "      <th></th>\n",
              "      <th></th>\n",
              "      <th></th>\n",
              "      <th></th>\n",
              "      <th></th>\n",
              "      <th></th>\n",
              "      <th></th>\n",
              "      <th></th>\n",
              "      <th></th>\n",
              "      <th></th>\n",
              "      <th></th>\n",
              "      <th></th>\n",
              "      <th></th>\n",
              "    </tr>\n",
              "  </thead>\n",
              "  <tbody>\n",
              "    <tr>\n",
              "      <th rowspan=\"2\" valign=\"top\">1</th>\n",
              "      <th>3</th>\n",
              "      <th>C30</th>\n",
              "      <td>-0.784923</td>\n",
              "      <td>-0.740009</td>\n",
              "      <td>-0.445811</td>\n",
              "      <td>-1.197785</td>\n",
              "      <td>-1.197785</td>\n",
              "      <td>-1.197785</td>\n",
              "      <td>-0.254235</td>\n",
              "      <td>0</td>\n",
              "      <td>0</td>\n",
              "      <td>1</td>\n",
              "      <td>...</td>\n",
              "      <td>0</td>\n",
              "      <td>0</td>\n",
              "      <td>1</td>\n",
              "      <td>0</td>\n",
              "      <td>1</td>\n",
              "      <td>0</td>\n",
              "      <td>1</td>\n",
              "      <td>0</td>\n",
              "      <td>0</td>\n",
              "      <td>0</td>\n",
              "    </tr>\n",
              "    <tr>\n",
              "      <th>4</th>\n",
              "      <th>P17</th>\n",
              "      <td>-0.784923</td>\n",
              "      <td>-0.715043</td>\n",
              "      <td>-0.550030</td>\n",
              "      <td>-0.367561</td>\n",
              "      <td>-0.367561</td>\n",
              "      <td>-0.367561</td>\n",
              "      <td>-0.254235</td>\n",
              "      <td>0</td>\n",
              "      <td>0</td>\n",
              "      <td>1</td>\n",
              "      <td>...</td>\n",
              "      <td>1</td>\n",
              "      <td>0</td>\n",
              "      <td>1</td>\n",
              "      <td>1</td>\n",
              "      <td>0</td>\n",
              "      <td>1</td>\n",
              "      <td>0</td>\n",
              "      <td>0</td>\n",
              "      <td>0</td>\n",
              "      <td>0</td>\n",
              "    </tr>\n",
              "    <tr>\n",
              "      <th rowspan=\"3\" valign=\"top\">10</th>\n",
              "      <th rowspan=\"3\" valign=\"top\">1</th>\n",
              "      <th>A1</th>\n",
              "      <td>-0.784923</td>\n",
              "      <td>-0.740009</td>\n",
              "      <td>-0.445811</td>\n",
              "      <td>-1.197785</td>\n",
              "      <td>-1.197785</td>\n",
              "      <td>-1.197785</td>\n",
              "      <td>-0.254235</td>\n",
              "      <td>0</td>\n",
              "      <td>0</td>\n",
              "      <td>0</td>\n",
              "      <td>...</td>\n",
              "      <td>0</td>\n",
              "      <td>1</td>\n",
              "      <td>0</td>\n",
              "      <td>0</td>\n",
              "      <td>1</td>\n",
              "      <td>1</td>\n",
              "      <td>0</td>\n",
              "      <td>0</td>\n",
              "      <td>0</td>\n",
              "      <td>0</td>\n",
              "    </tr>\n",
              "    <tr>\n",
              "      <th>A11</th>\n",
              "      <td>-0.784923</td>\n",
              "      <td>-0.715043</td>\n",
              "      <td>-0.550030</td>\n",
              "      <td>1.624976</td>\n",
              "      <td>1.624976</td>\n",
              "      <td>1.624976</td>\n",
              "      <td>-0.248735</td>\n",
              "      <td>0</td>\n",
              "      <td>0</td>\n",
              "      <td>0</td>\n",
              "      <td>...</td>\n",
              "      <td>0</td>\n",
              "      <td>1</td>\n",
              "      <td>0</td>\n",
              "      <td>1</td>\n",
              "      <td>0</td>\n",
              "      <td>1</td>\n",
              "      <td>0</td>\n",
              "      <td>0</td>\n",
              "      <td>0</td>\n",
              "      <td>0</td>\n",
              "    </tr>\n",
              "    <tr>\n",
              "      <th>A12</th>\n",
              "      <td>-0.686829</td>\n",
              "      <td>-0.665109</td>\n",
              "      <td>-0.550030</td>\n",
              "      <td>-0.367561</td>\n",
              "      <td>-0.367561</td>\n",
              "      <td>-0.367561</td>\n",
              "      <td>-0.232237</td>\n",
              "      <td>0</td>\n",
              "      <td>0</td>\n",
              "      <td>0</td>\n",
              "      <td>...</td>\n",
              "      <td>0</td>\n",
              "      <td>1</td>\n",
              "      <td>0</td>\n",
              "      <td>0</td>\n",
              "      <td>1</td>\n",
              "      <td>1</td>\n",
              "      <td>0</td>\n",
              "      <td>0</td>\n",
              "      <td>0</td>\n",
              "      <td>0</td>\n",
              "    </tr>\n",
              "  </tbody>\n",
              "</table>\n",
              "<p>5 rows × 67 columns</p>\n",
              "</div>\n",
              "      <button class=\"colab-df-convert\" onclick=\"convertToInteractive('df-f4fd0f8c-a361-4216-8d5c-c22830e40001')\"\n",
              "              title=\"Convert this dataframe to an interactive table.\"\n",
              "              style=\"display:none;\">\n",
              "        \n",
              "  <svg xmlns=\"http://www.w3.org/2000/svg\" height=\"24px\"viewBox=\"0 0 24 24\"\n",
              "       width=\"24px\">\n",
              "    <path d=\"M0 0h24v24H0V0z\" fill=\"none\"/>\n",
              "    <path d=\"M18.56 5.44l.94 2.06.94-2.06 2.06-.94-2.06-.94-.94-2.06-.94 2.06-2.06.94zm-11 1L8.5 8.5l.94-2.06 2.06-.94-2.06-.94L8.5 2.5l-.94 2.06-2.06.94zm10 10l.94 2.06.94-2.06 2.06-.94-2.06-.94-.94-2.06-.94 2.06-2.06.94z\"/><path d=\"M17.41 7.96l-1.37-1.37c-.4-.4-.92-.59-1.43-.59-.52 0-1.04.2-1.43.59L10.3 9.45l-7.72 7.72c-.78.78-.78 2.05 0 2.83L4 21.41c.39.39.9.59 1.41.59.51 0 1.02-.2 1.41-.59l7.78-7.78 2.81-2.81c.8-.78.8-2.07 0-2.86zM5.41 20L4 18.59l7.72-7.72 1.47 1.35L5.41 20z\"/>\n",
              "  </svg>\n",
              "      </button>\n",
              "      \n",
              "  <style>\n",
              "    .colab-df-container {\n",
              "      display:flex;\n",
              "      flex-wrap:wrap;\n",
              "      gap: 12px;\n",
              "    }\n",
              "\n",
              "    .colab-df-convert {\n",
              "      background-color: #E8F0FE;\n",
              "      border: none;\n",
              "      border-radius: 50%;\n",
              "      cursor: pointer;\n",
              "      display: none;\n",
              "      fill: #1967D2;\n",
              "      height: 32px;\n",
              "      padding: 0 0 0 0;\n",
              "      width: 32px;\n",
              "    }\n",
              "\n",
              "    .colab-df-convert:hover {\n",
              "      background-color: #E2EBFA;\n",
              "      box-shadow: 0px 1px 2px rgba(60, 64, 67, 0.3), 0px 1px 3px 1px rgba(60, 64, 67, 0.15);\n",
              "      fill: #174EA6;\n",
              "    }\n",
              "\n",
              "    [theme=dark] .colab-df-convert {\n",
              "      background-color: #3B4455;\n",
              "      fill: #D2E3FC;\n",
              "    }\n",
              "\n",
              "    [theme=dark] .colab-df-convert:hover {\n",
              "      background-color: #434B5C;\n",
              "      box-shadow: 0px 1px 3px 1px rgba(0, 0, 0, 0.15);\n",
              "      filter: drop-shadow(0px 1px 2px rgba(0, 0, 0, 0.3));\n",
              "      fill: #FFFFFF;\n",
              "    }\n",
              "  </style>\n",
              "\n",
              "      <script>\n",
              "        const buttonEl =\n",
              "          document.querySelector('#df-f4fd0f8c-a361-4216-8d5c-c22830e40001 button.colab-df-convert');\n",
              "        buttonEl.style.display =\n",
              "          google.colab.kernel.accessAllowed ? 'block' : 'none';\n",
              "\n",
              "        async function convertToInteractive(key) {\n",
              "          const element = document.querySelector('#df-f4fd0f8c-a361-4216-8d5c-c22830e40001');\n",
              "          const dataTable =\n",
              "            await google.colab.kernel.invokeFunction('convertToInteractive',\n",
              "                                                     [key], {});\n",
              "          if (!dataTable) return;\n",
              "\n",
              "          const docLinkHtml = 'Like what you see? Visit the ' +\n",
              "            '<a target=\"_blank\" href=https://colab.research.google.com/notebooks/data_table.ipynb>data table notebook</a>'\n",
              "            + ' to learn more about interactive tables.';\n",
              "          element.innerHTML = '';\n",
              "          dataTable['output_type'] = 'display_data';\n",
              "          await google.colab.output.renderOutput(dataTable, element);\n",
              "          const docLink = document.createElement('div');\n",
              "          docLink.innerHTML = docLinkHtml;\n",
              "          element.appendChild(docLink);\n",
              "        }\n",
              "      </script>\n",
              "    </div>\n",
              "  </div>\n",
              "  "
            ]
          },
          "metadata": {},
          "execution_count": 11
        }
      ]
    },
    {
      "cell_type": "code",
      "source": [
        "# Componentes principales\n",
        "\n",
        "# Identificar que componentes explican el 85% de la variabilidad\n",
        "final_comp = 0\n",
        "for comp in range(3, data3.shape[1]):\n",
        "  pca = PCA(n_components=comp, random_state=42)\n",
        "  pca.fit(data3)\n",
        "  comp_check = pca.explained_variance_ratio_\n",
        "  final_comp = comp\n",
        "  if comp_check.sum() > 0.85:\n",
        "    break\n",
        "\n",
        "  \n",
        "\n",
        "final_pca = PCA(n_components=final_comp, random_state=42)\n",
        "final_pca.fit(data3)\n",
        "cluster_df=final_pca.transform(data3)\n",
        "num_comps = comp_check.shape[0]\n",
        "\n",
        "print(\"Using {} components, we can explain {}% of the variability in the original data.\".format(final_comp,comp_check.sum()))"
      ],
      "metadata": {
        "colab": {
          "base_uri": "https://localhost:8080/"
        },
        "id": "j7g8p7MmoHwr",
        "outputId": "cca6428e-9b95-4be4-83e8-b849d3163859"
      },
      "execution_count": 12,
      "outputs": [
        {
          "output_type": "stream",
          "name": "stdout",
          "text": [
            "Using 15 components, we can explain 0.8521121438333596% of the variability in the original data.\n"
          ]
        }
      ]
    },
    {
      "cell_type": "markdown",
      "source": [
        "# **Selection of the best k (number of cluster)**\n",
        "---"
      ],
      "metadata": {
        "id": "T4SKlhzLEBqe"
      }
    },
    {
      "cell_type": "markdown",
      "source": [
        "# **Kmeans**\n",
        "---"
      ],
      "metadata": {
        "id": "eHdDx_lCfjHX"
      }
    },
    {
      "cell_type": "markdown",
      "source": [
        "**Gap Statistic**\n",
        "---"
      ],
      "metadata": {
        "id": "nWNh9FDFWQ8x"
      }
    },
    {
      "cell_type": "code",
      "source": [
        "def estimator_gap(data, nrefs, max_cluster, model):\n",
        "  \"\"\" \n",
        "    Calcula KMeans K óptimo usando Gap Statistic \n",
        "    Params: \n",
        "        data: cantidad de forma (n_samples, n_features) \n",
        "        nrefs: número de conjuntos de datos de referencia de muestra para crear \n",
        "        maxClusters: número máximo de clústeres para probar \n",
        "  \"\"\"\n",
        "  \n",
        "  range_clusters = range(1, max_cluster)\n",
        "  gaps = np.zeros((len(range_clusters),))\n",
        "  iter = pd.DataFrame({'num_cluster':[], 'gap':[]})\n",
        "  for gap_index, k in enumerate(range_clusters):\n",
        "    # Soporte para resultados de dispersión de referencia\n",
        "    ref_disps = np.zeros(nrefs)\n",
        "    # Para n referencias, genera una muestra aleatoria y realiza un modelo como kmeans obteniendo la dispersión resultante de cada ciclo\n",
        "    for i in range(nrefs):\n",
        "      # conjunto de datos de referencia\n",
        "      random_reference = np.random.random_sample(size=data.shape)\n",
        "      model = model.set_params(n_clusters = k)\n",
        "      model.fit(random_reference)\n",
        "      disp_ref = model.inertia_\n",
        "      ref_disps[i] = disp_ref\n",
        "    # Ajuste el clúster a los datos originales y cree dispersión\n",
        "    model = model.set_params(n_clusters = k)\n",
        "    model.fit(data)\n",
        "    orig_disp = model.inertia_\n",
        "    # Calculate gap statistic\n",
        "    gap = np.log(np.mean(ref_disps)) - np.log(orig_disp)\n",
        "    #Calculate gap statistic\n",
        "    gaps[gap_index] = gap\n",
        "    iter = iter.append({'num_cluster':k, 'gap':gap}, ignore_index=True)\n",
        "  return (gaps.argmax() + 1, iter)\n"
      ],
      "metadata": {
        "id": "h__-EpY3MVra"
      },
      "execution_count": 13,
      "outputs": []
    },
    {
      "cell_type": "code",
      "source": [
        "score_g, df = estimator_gap(cluster_df, 5, 30, KMeans())"
      ],
      "metadata": {
        "id": "X8iju3ITMica"
      },
      "execution_count": 14,
      "outputs": []
    },
    {
      "cell_type": "code",
      "source": [
        "df['num_cluster'] = df['num_cluster'].astype(int) \n",
        "print(f'Número de clusters según el metodo gap: {score_g}')"
      ],
      "metadata": {
        "colab": {
          "base_uri": "https://localhost:8080/"
        },
        "id": "Q9H9mjYWPQIJ",
        "outputId": "444382e1-ae90-4530-c777-b577f6166897"
      },
      "execution_count": 15,
      "outputs": [
        {
          "output_type": "stream",
          "name": "stdout",
          "text": [
            "Número de clusters según el metodo gap: 29\n"
          ]
        }
      ]
    },
    {
      "cell_type": "code",
      "source": [
        "best_gab = df[df['num_cluster']==score_g].values[0]\n",
        "best_gab"
      ],
      "metadata": {
        "id": "EvwjeZKbIPdR",
        "colab": {
          "base_uri": "https://localhost:8080/"
        },
        "outputId": "b8bf4934-8f64-4fdd-bb9c-16afff780265"
      },
      "execution_count": 16,
      "outputs": [
        {
          "output_type": "execute_result",
          "data": {
            "text/plain": [
              "array([29.        , -1.05611552])"
            ]
          },
          "metadata": {},
          "execution_count": 16
        }
      ]
    },
    {
      "cell_type": "code",
      "source": [
        "plt.plot(df['num_cluster'], df['gap'], linestyle='--', marker='o', color='b'); \n",
        "plt.plot(best_gab[0], best_gab[1], marker='o', color='r'); \n",
        "plt.xlabel('K'); \n",
        "plt.ylabel('Estadística de brecha'); \n",
        "plt.title('Estadística de brecha frente a K');"
      ],
      "metadata": {
        "id": "jDJd4GFOE6du",
        "colab": {
          "base_uri": "https://localhost:8080/",
          "height": 376
        },
        "outputId": "f5e847a4-bc1e-4848-86c5-515c7179950d"
      },
      "execution_count": 17,
      "outputs": [
        {
          "output_type": "display_data",
          "data": {
            "text/plain": [
              "<Figure size 576x396 with 1 Axes>"
            ],
            "image/png": "[encoded data removed]"
          },
          "metadata": {}
        }
      ]
    },
    {
      "cell_type": "markdown",
      "source": [
        "- El estimador gap se maximizan con 29 grupos y, por lo tanto, podemos elegir 29 grupos para nuestras K medias."
      ],
      "metadata": {
        "id": "srtb7WECOyY0"
      }
    },
    {
      "cell_type": "markdown",
      "source": [
        "**Elbow Method**\n",
        "---"
      ],
      "metadata": {
        "id": "UAY-N977WZxN"
      }
    },
    {
      "cell_type": "code",
      "source": [
        "def cluste_method_plot(model, data, k, metric='distortion', distance_metric='euclidean', timings=True):\n",
        "  visualizer = KElbowVisualizer(model, k=k, timings=timings, metric=metric, distance_metric=distance_metric)\n",
        "  visualizer.fit(data)\n",
        "  visualizer.show()"
      ],
      "metadata": {
        "id": "_woUQ5cDHojy"
      },
      "execution_count": 18,
      "outputs": []
    },
    {
      "cell_type": "code",
      "source": [
        "model = KMeans()\n",
        "cluste_method_plot(model, cluster_df, k=(2,30), timings=True)"
      ],
      "metadata": {
        "id": "SoJ_o30rQDrr",
        "colab": {
          "base_uri": "https://localhost:8080/",
          "height": 376
        },
        "outputId": "048d3532-0229-4349-b01b-c7af276ed821"
      },
      "execution_count": 19,
      "outputs": [
        {
          "output_type": "display_data",
          "data": {
            "text/plain": [
              "<Figure size 576x396 with 2 Axes>"
            ],
            "image/png": "[encoded data removed]"
          },
          "metadata": {}
        }
      ]
    },
    {
      "cell_type": "markdown",
      "source": [
        "La KElbowVisualizerfunción se ajusta al KMeansmodelo para un rango de valores de conglomerados entre 2 y 30. Como se muestra en la Figura, el punto de codo se logra con 8 conglomerados que se destaca por la propia función. La función también nos informa sobre cuánto tiempo se necesitó para trazar modelos para varios números de conglomerados a través de la línea verde."
      ],
      "metadata": {
        "id": "k49FNBOBRz86"
      }
    },
    {
      "cell_type": "markdown",
      "source": [
        "**Silhouette Coefficient**\n",
        "---\n"
      ],
      "metadata": {
        "id": "gx0OpXCIWg1a"
      }
    },
    {
      "cell_type": "code",
      "source": [
        "cluste_method_plot(model, cluster_df, k=(2,30), timings=True, metric='silhouette')"
      ],
      "metadata": {
        "id": "XafRhmHISf5D",
        "colab": {
          "base_uri": "https://localhost:8080/",
          "height": 376
        },
        "outputId": "2ec983aa-905b-4beb-9eca-9dfcddfd8397"
      },
      "execution_count": 20,
      "outputs": [
        {
          "output_type": "display_data",
          "data": {
            "text/plain": [
              "<Figure size 576x396 with 2 Axes>"
            ],
            "image/png": "[encoded data removed]"
          },
          "metadata": {}
        }
      ]
    },
    {
      "cell_type": "markdown",
      "source": [
        "El número óptimo de clústeres basado en Silhouette Score es 4.\n",
        "\n"
      ],
      "metadata": {
        "id": "qb00RrMwU_ZT"
      }
    },
    {
      "cell_type": "markdown",
      "source": [
        "**Calinski-Harabasz Index**\n",
        "---"
      ],
      "metadata": {
        "id": "YGSb4rtHWmzL"
      }
    },
    {
      "cell_type": "code",
      "source": [
        "cluste_method_plot(model, cluster_df, k=(2,30), timings=True, metric='calinski_harabasz')"
      ],
      "metadata": {
        "id": "_aH7f3IuSblK",
        "colab": {
          "base_uri": "https://localhost:8080/",
          "height": 376
        },
        "outputId": "23c5c81c-a9e2-4b99-eecf-4943dfbe4020"
      },
      "execution_count": 21,
      "outputs": [
        {
          "output_type": "display_data",
          "data": {
            "text/plain": [
              "<Figure size 576x396 with 2 Axes>"
            ],
            "image/png": "[encoded data removed]"
          },
          "metadata": {}
        }
      ]
    },
    {
      "cell_type": "markdown",
      "source": [
        "el índice de Calinski Harabasz se maximiza cuando el número de grupos es 2 para el algoritmo de agrupamiento de K significa. "
      ],
      "metadata": {
        "id": "v2-DDppmVAPC"
      }
    },
    {
      "cell_type": "markdown",
      "source": [
        "**Davies-Bouldin Index**\n",
        "---"
      ],
      "metadata": {
        "id": "QtBkibHpZBRN"
      }
    },
    {
      "cell_type": "code",
      "source": [
        "def get_davies_bouldin(data, center, model):\n",
        "    model = model.set_params(n_clusters=center)\n",
        "    model = model.fit_predict(data)\n",
        "    score = davies_bouldin_score(data, model)\n",
        "    return score\n",
        "\n",
        "scores = []\n",
        "centers = []\n",
        "for center in range(2,30):\n",
        "    scores.append(get_davies_bouldin(cluster_df, center, KMeans()))\n",
        "    centers.append(center)"
      ],
      "metadata": {
        "id": "cB0X3DpDra3h"
      },
      "execution_count": 22,
      "outputs": []
    },
    {
      "cell_type": "code",
      "source": [
        "pos = pd.Series(scores).argmin()\n",
        "plt.plot(centers, scores, linestyle='--', marker='o', color='b');\n",
        "plt.plot(centers[pos], scores[pos], linestyle='--', marker='o', color='r');\n",
        "plt.xlabel('K');\n",
        "plt.ylabel('Davies Bouldin score');\n",
        "plt.title('Davies Bouldin score vs. K');"
      ],
      "metadata": {
        "id": "wj97khryazKy",
        "colab": {
          "base_uri": "https://localhost:8080/",
          "height": 376
        },
        "outputId": "df236491-6ec5-4b18-e029-4c9db4d9af5b"
      },
      "execution_count": 23,
      "outputs": [
        {
          "output_type": "display_data",
          "data": {
            "text/plain": [
              "<Figure size 576x396 with 1 Axes>"
            ],
            "image/png": "[encoded data removed]"
          },
          "metadata": {}
        }
      ]
    },
    {
      "cell_type": "code",
      "source": [
        "centers[pos]"
      ],
      "metadata": {
        "id": "khRnc2ylabEq",
        "colab": {
          "base_uri": "https://localhost:8080/"
        },
        "outputId": "a62a4c65-ab31-4aca-b88e-5fb7e0b5e6e1"
      },
      "execution_count": 24,
      "outputs": [
        {
          "output_type": "execute_result",
          "data": {
            "text/plain": [
              "4"
            ]
          },
          "metadata": {},
          "execution_count": 24
        }
      ]
    },
    {
      "cell_type": "markdown",
      "source": [
        "Como se ve en la Figura 5, la puntuación de Davies Bouldin se minimiza con 4 grupos y se puede considerar para el algoritmo de k medias"
      ],
      "metadata": {
        "id": "LfZ2MKdeZVRp"
      }
    },
    {
      "cell_type": "markdown",
      "source": [
        "**Dendograma**\n",
        "---"
      ],
      "metadata": {
        "id": "UoATwMKFWLlr"
      }
    },
    {
      "cell_type": "code",
      "source": [
        "# Dendogram for Heirarchical Clustering\n",
        "def plot_dendograma(data):\n",
        "  plt.figure(figsize=(10, 7))  \n",
        "  plt.title(\"Dendrograms\")  \n",
        "  dend = shc.dendrogram(shc.linkage(data, method='ward'))\n",
        "  return np.unique(dend['color_list']).shape[0]"
      ],
      "metadata": {
        "id": "LdSuzh13VH51"
      },
      "execution_count": 25,
      "outputs": []
    },
    {
      "cell_type": "code",
      "source": [
        "plot_dendograma(cluster_df)"
      ],
      "metadata": {
        "id": "mYWFZZd5WxUD",
        "colab": {
          "base_uri": "https://localhost:8080/",
          "height": 462
        },
        "outputId": "8d894510-77b1-426d-e6d1-f5dbeff209dd"
      },
      "execution_count": 26,
      "outputs": [
        {
          "output_type": "execute_result",
          "data": {
            "text/plain": [
              "4"
            ]
          },
          "metadata": {},
          "execution_count": 26
        },
        {
          "output_type": "display_data",
          "data": {
            "text/plain": [
              "<Figure size 720x504 with 1 Axes>"
            ],
            "image/png": "[encoded data removed]"
          },
          "metadata": {}
        }
      ]
    },
    {
      "cell_type": "markdown",
      "source": [
        "**Bayesian information criterion**\n",
        "---"
      ],
      "metadata": {
        "id": "1qC93FU6YMPm"
      }
    },
    {
      "cell_type": "code",
      "source": [
        "n_components = range(1, 30)\n",
        "covariance_type = ['spherical', 'tied', 'diag', 'full']\n",
        "score=[]\n",
        "for cov in covariance_type:\n",
        "    for n_comp in n_components:\n",
        "        gmm=GaussianMixture(n_components=n_comp,covariance_type=cov)\n",
        "        gmm.fit(cluster_df)\n",
        "        score.append((cov,n_comp,gmm.bic(cluster_df)))\n",
        "score"
      ],
      "metadata": {
        "id": "YCfZhzfHYKYK",
        "colab": {
          "base_uri": "https://localhost:8080/"
        },
        "outputId": "c8783cd2-f943-44b5-8860-2b7d2f7fc0c9"
      },
      "execution_count": 27,
      "outputs": [
        {
          "output_type": "execute_result",
          "data": {
            "text/plain": [
              "[('spherical', 1, 112956.25874655992),\n",
              " ('spherical', 2, 102376.79888072335),\n",
              " ('spherical', 3, 90548.87174423679),\n",
              " ('spherical', 4, 86829.77874075736),\n",
              " ('spherical', 5, 86022.51361789188),\n",
              " ('spherical', 6, 82151.89914068361),\n",
              " ('spherical', 7, 80466.24202957118),\n",
              " ('spherical', 8, 78819.298099973),\n",
              " ('spherical', 9, 78622.49039336239),\n",
              " ('spherical', 10, 77164.25984213574),\n",
              " ('spherical', 11, 76386.87289439801),\n",
              " ('spherical', 12, 75319.99800936683),\n",
              " ('spherical', 13, 75992.33115986569),\n",
              " ('spherical', 14, 75086.71018901697),\n",
              " ('spherical', 15, 74420.1181534087),\n",
              " ('spherical', 16, 73820.12347485678),\n",
              " ('spherical', 17, 72658.99469013531),\n",
              " ('spherical', 18, 72158.36962620838),\n",
              " ('spherical', 19, 71629.22628160767),\n",
              " ('spherical', 20, 71830.62396191394),\n",
              " ('spherical', 21, 71051.36089545058),\n",
              " ('spherical', 22, 70615.65050916927),\n",
              " ('spherical', 23, 70261.08037798601),\n",
              " ('spherical', 24, 69314.35407775987),\n",
              " ('spherical', 25, 69638.9164118782),\n",
              " ('spherical', 26, 68371.05338029363),\n",
              " ('spherical', 27, 68572.16843589378),\n",
              " ('spherical', 28, 69466.44619703486),\n",
              " ('spherical', 29, 67738.88526200924),\n",
              " ('tied', 1, 83511.00634328692),\n",
              " ('tied', 2, 76436.88331384149),\n",
              " ('tied', 3, 74784.78437995978),\n",
              " ('tied', 4, 76456.60879464724),\n",
              " ('tied', 5, 73609.34329566376),\n",
              " ('tied', 6, 75736.54954114143),\n",
              " ('tied', 7, 72936.2332172131),\n",
              " ('tied', 8, 71518.08689012895),\n",
              " ('tied', 9, 70682.14677630538),\n",
              " ('tied', 10, 69112.2890183097),\n",
              " ('tied', 11, 66513.55115260658),\n",
              " ('tied', 12, 66631.66450441795),\n",
              " ('tied', 13, 61091.41477864876),\n",
              " ('tied', 14, 58587.16849856165),\n",
              " ('tied', 15, 59969.331029477),\n",
              " ('tied', 16, 63008.455765515675),\n",
              " ('tied', 17, 49979.684576179105),\n",
              " ('tied', 18, 50941.1007368288),\n",
              " ('tied', 19, 52088.810070711996),\n",
              " ('tied', 20, 57379.154161452534),\n",
              " ('tied', 21, 54847.18522184957),\n",
              " ('tied', 22, 52611.17901106171),\n",
              " ('tied', 23, 51010.894125160296),\n",
              " ('tied', 24, 50917.93775216524),\n",
              " ('tied', 25, 46752.23346609243),\n",
              " ('tied', 26, 60382.59466750674),\n",
              " ('tied', 27, 53706.961690141026),\n",
              " ('tied', 28, 51140.50077886106),\n",
              " ('tied', 29, 51491.9747546562),\n",
              " ('diag', 1, 82665.51524685387),\n",
              " ('diag', 2, 73914.64539783467),\n",
              " ('diag', 3, 72342.07376933428),\n",
              " ('diag', 4, 70908.9047975994),\n",
              " ('diag', 5, 71107.56539028995),\n",
              " ('diag', 6, 70229.30492223975),\n",
              " ('diag', 7, 69523.77786116546),\n",
              " ('diag', 8, 67187.38174579808),\n",
              " ('diag', 9, 63991.00273103985),\n",
              " ('diag', 10, 63672.748131872446),\n",
              " ('diag', 11, 64059.63382710841),\n",
              " ('diag', 12, 59442.15911503782),\n",
              " ('diag', 13, 60909.96540699626),\n",
              " ('diag', 14, 58808.99794705829),\n",
              " ('diag', 15, 59239.90777084759),\n",
              " ('diag', 16, 58807.10425303693),\n",
              " ('diag', 17, 57811.92292827718),\n",
              " ('diag', 18, 56436.45547964248),\n",
              " ('diag', 19, 55808.62764211825),\n",
              " ('diag', 20, 55726.07895854211),\n",
              " ('diag', 21, 56448.08959469637),\n",
              " ('diag', 22, 52553.01932278309),\n",
              " ('diag', 23, 53317.8088397065),\n",
              " ('diag', 24, 53172.41228095298),\n",
              " ('diag', 25, 52023.810951730666),\n",
              " ('diag', 26, 52835.02910317212),\n",
              " ('diag', 27, 51940.87061134786),\n",
              " ('diag', 28, 51528.297583642314),\n",
              " ('diag', 29, 48056.82796376697),\n",
              " ('full', 1, 83511.0063432869),\n",
              " ('full', 2, 76051.62681386503),\n",
              " ('full', 3, 60381.3373791629),\n",
              " ('full', 4, 47334.761999501396),\n",
              " ('full', 5, 37258.415553092644),\n",
              " ('full', 6, 33823.25760292156),\n",
              " ('full', 7, 30830.17966486239),\n",
              " ('full', 8, 29487.169882785216),\n",
              " ('full', 9, 27780.43769481129),\n",
              " ('full', 10, 26631.734813489675),\n",
              " ('full', 11, 27332.396566390824),\n",
              " ('full', 12, 24567.327526746754),\n",
              " ('full', 13, 22242.588413810023),\n",
              " ('full', 14, 22582.292923565237),\n",
              " ('full', 15, 26492.84291565988),\n",
              " ('full', 16, 15106.256041782899),\n",
              " ('full', 17, 21113.696578388575),\n",
              " ('full', 18, 18097.15787949684),\n",
              " ('full', 19, 11791.226211682537),\n",
              " ('full', 20, 10981.151459705707),\n",
              " ('full', 21, 11786.93765589085),\n",
              " ('full', 22, 19762.5441468337),\n",
              " ('full', 23, 18797.395858059816),\n",
              " ('full', 24, 16873.223665846304),\n",
              " ('full', 25, 8981.438702933272),\n",
              " ('full', 26, 16404.937355371956),\n",
              " ('full', 27, 16464.095642025066),\n",
              " ('full', 28, 5958.188153321782),\n",
              " ('full', 29, 16530.357787810764)]"
            ]
          },
          "metadata": {},
          "execution_count": 27
        }
      ]
    },
    {
      "cell_type": "markdown",
      "source": [
        "- Codo método: 8\n",
        "- Estadística de brecha: 29\n",
        "- Puntuación de la silueta: 4\n",
        "- Calinski Harabasz puntuación: 2\n",
        "- Puntuación de Davies Bouldin: 4"
      ],
      "metadata": {
        "id": "L7xCGV9s_HjD"
      }
    },
    {
      "cell_type": "code",
      "source": [
        "model = KMeans(n_clusters=4, random_state=10)"
      ],
      "metadata": {
        "id": "db6qLI6CR3zG"
      },
      "execution_count": 28,
      "outputs": []
    },
    {
      "cell_type": "code",
      "source": [
        "y_predict = model.fit_predict(cluster_df)"
      ],
      "metadata": {
        "id": "lc67ycGLSJwb"
      },
      "execution_count": 29,
      "outputs": []
    },
    {
      "cell_type": "code",
      "source": [
        "pd.Series(y_predict).value_counts()"
      ],
      "metadata": {
        "colab": {
          "base_uri": "https://localhost:8080/"
        },
        "id": "QMAJ5t8_PKsD",
        "outputId": "84adf310-37e8-4040-8a74-47480144038d"
      },
      "execution_count": 30,
      "outputs": [
        {
          "output_type": "execute_result",
          "data": {
            "text/plain": [
              "3    1418\n",
              "2    1222\n",
              "1     256\n",
              "0     245\n",
              "dtype: int64"
            ]
          },
          "metadata": {},
          "execution_count": 30
        }
      ]
    },
    {
      "cell_type": "code",
      "source": [
        "inter_cluster_distance_map = InterclusterDistance(model)\n",
        "inter_cluster_distance_map.fit(cluster_df)\n",
        "inter_cluster_distance_map.show()"
      ],
      "metadata": {
        "colab": {
          "base_uri": "https://localhost:8080/",
          "height": 383
        },
        "id": "4BZDfRqRPOhb",
        "outputId": "52bad49f-af6d-45b4-97c2-9c5981f79278"
      },
      "execution_count": 31,
      "outputs": [
        {
          "output_type": "display_data",
          "data": {
            "text/plain": [
              "<Figure size 576x396 with 2 Axes>"
            ],
            "image/png": "[encoded data removed]"
          },
          "metadata": {}
        },
        {
          "output_type": "execute_result",
          "data": {
            "text/plain": [
              "<matplotlib.axes._subplots.AxesSubplot at 0x7f95540a0850>"
            ]
          },
          "metadata": {},
          "execution_count": 31
        }
      ]
    },
    {
      "cell_type": "markdown",
      "source": [
        "dos grupos son bastante grandes en comparación con los demás y parecen tener una separación decente entre ellos. Sin embargo, si dos clústeres se superponen en el espacio 2D, no implica que se superpongan en el espacio de características original. "
      ],
      "metadata": {
        "id": "bcdfeJl-EFcy"
      }
    },
    {
      "cell_type": "code",
      "source": [
        "score_c = calinski_harabasz_score(cluster_df, model.labels_)\n",
        "score_d = davies_bouldin_score(cluster_df, y_predict)\n",
        "score_s = silhouette_score(cluster_df, model.labels_, metric='euclidean')\n",
        "\n",
        "print('Silhouette Score: %.4f' % score_s)\n",
        "print('Calinski Harabasz Score: %.4f' % score_c)\n",
        "print('Davies Bouldin Score: %.4f' % score_d)"
      ],
      "metadata": {
        "colab": {
          "base_uri": "https://localhost:8080/"
        },
        "id": "EBI00WmfO6EM",
        "outputId": "5c7ef8e2-2206-47bf-fd26-496ae6f43611"
      },
      "execution_count": 32,
      "outputs": [
        {
          "output_type": "stream",
          "name": "stdout",
          "text": [
            "Silhouette Score: 0.2733\n",
            "Calinski Harabasz Score: 887.8306\n",
            "Davies Bouldin Score: 1.2287\n"
          ]
        }
      ]
    },
    {
      "cell_type": "markdown",
      "source": [
        "## **AgglomerativeClustering**\n",
        "---"
      ],
      "metadata": {
        "id": "-OtfviHSgokY"
      }
    },
    {
      "cell_type": "code",
      "source": [
        "model = AgglomerativeClustering()"
      ],
      "metadata": {
        "id": "DLbI18s_oTzi"
      },
      "execution_count": 33,
      "outputs": []
    },
    {
      "cell_type": "code",
      "source": [
        "cluste_method_plot(model, cluster_df, k=(2,30), timings=True)"
      ],
      "metadata": {
        "colab": {
          "base_uri": "https://localhost:8080/",
          "height": 376
        },
        "id": "2qTsx_sJoagD",
        "outputId": "03fd74d1-d134-4b9e-8b3b-1e1a9bcc1929"
      },
      "execution_count": 34,
      "outputs": [
        {
          "output_type": "display_data",
          "data": {
            "text/plain": [
              "<Figure size 576x396 with 2 Axes>"
            ],
            "image/png": "[encoded data removed]"
          },
          "metadata": {}
        }
      ]
    },
    {
      "cell_type": "code",
      "source": [
        "cluste_method_plot(model, cluster_df, k=(2,30), timings=True, metric='silhouette')"
      ],
      "metadata": {
        "colab": {
          "base_uri": "https://localhost:8080/",
          "height": 376
        },
        "id": "5-bA9V33oboj",
        "outputId": "8d90639a-89b0-4c58-cbf0-e73c47b8216f"
      },
      "execution_count": 35,
      "outputs": [
        {
          "output_type": "display_data",
          "data": {
            "text/plain": [
              "<Figure size 576x396 with 2 Axes>"
            ],
            "image/png": "[encoded data removed]"
          },
          "metadata": {}
        }
      ]
    },
    {
      "cell_type": "code",
      "source": [
        "cluste_method_plot(model, cluster_df, k=(2,30), timings=True, metric='calinski_harabasz')"
      ],
      "metadata": {
        "colab": {
          "base_uri": "https://localhost:8080/",
          "height": 376
        },
        "id": "bN-xrB39oc_m",
        "outputId": "e166ea9c-259e-4e66-e1df-075ff67cb20e"
      },
      "execution_count": 36,
      "outputs": [
        {
          "output_type": "display_data",
          "data": {
            "text/plain": [
              "<Figure size 576x396 with 2 Axes>"
            ],
            "image/png": "[encoded data removed]"
          },
          "metadata": {}
        }
      ]
    },
    {
      "cell_type": "code",
      "source": [
        "def get_davies_bouldin(data, center, model):\n",
        "    model = model.set_params(n_clusters=center)\n",
        "    model = model.fit_predict(data)\n",
        "    score = davies_bouldin_score(data, model)\n",
        "    return score\n",
        "\n",
        "scores = []\n",
        "centers = []\n",
        "for center in range(2,30):\n",
        "    scores.append(get_davies_bouldin(cluster_df, center, model))\n",
        "    centers.append(center)\n",
        "\n",
        "pos = pd.Series(scores).argmin()\n",
        "plt.plot(centers, scores, linestyle='--', marker='o', color='b');\n",
        "plt.plot(centers[pos], scores[pos], linestyle='--', marker='o', color='r');\n",
        "plt.xlabel('K');\n",
        "plt.ylabel('Davies Bouldin score');\n",
        "plt.title('Davies Bouldin score vs. K');"
      ],
      "metadata": {
        "colab": {
          "base_uri": "https://localhost:8080/",
          "height": 376
        },
        "id": "l3wrhAJXpogA",
        "outputId": "0cf2ee3c-7987-410a-e3a9-2007aa8fbd9e"
      },
      "execution_count": 37,
      "outputs": [
        {
          "output_type": "display_data",
          "data": {
            "text/plain": [
              "<Figure size 576x396 with 1 Axes>"
            ],
            "image/png": "[encoded data removed]"
          },
          "metadata": {}
        }
      ]
    },
    {
      "cell_type": "code",
      "source": [
        "centers[pos]"
      ],
      "metadata": {
        "colab": {
          "base_uri": "https://localhost:8080/"
        },
        "id": "PCVhWMCVOiCD",
        "outputId": "1c170a09-fe35-4e4a-ce45-a7032192180a"
      },
      "execution_count": 38,
      "outputs": [
        {
          "output_type": "execute_result",
          "data": {
            "text/plain": [
              "8"
            ]
          },
          "metadata": {},
          "execution_count": 38
        }
      ]
    },
    {
      "cell_type": "markdown",
      "source": [
        "- Codo método: 10\n",
        "- Puntuación de la silueta: 3\n",
        "- Calinski Harabasz puntuación: 2\n",
        "- Puntuación de Davies Bouldin: 8\n",
        "\n"
      ],
      "metadata": {
        "id": "e-zglsQvN5-v"
      }
    },
    {
      "cell_type": "code",
      "source": [
        "model = AgglomerativeClustering(n_clusters=4)\n",
        "prediction = model.fit_predict(cluster_df)"
      ],
      "metadata": {
        "id": "yVaFre8mCO5x"
      },
      "execution_count": 39,
      "outputs": []
    },
    {
      "cell_type": "code",
      "source": [
        "clusters = np.unique(prediction)\n",
        "clusters"
      ],
      "metadata": {
        "colab": {
          "base_uri": "https://localhost:8080/"
        },
        "id": "_cUfwSXCkJ4R",
        "outputId": "dbb85b55-83a8-4c25-db58-d677b8bd08e6"
      },
      "execution_count": 40,
      "outputs": [
        {
          "output_type": "execute_result",
          "data": {
            "text/plain": [
              "array([0, 1, 2, 3])"
            ]
          },
          "metadata": {},
          "execution_count": 40
        }
      ]
    },
    {
      "cell_type": "code",
      "source": [
        "metricsscore_AGclustering_s = silhouette_score(cluster_df, model.labels_, metric='euclidean')\n",
        "score_AGclustering_c =  calinski_harabasz_score(cluster_df, model.labels_)\n",
        "core_AGclustering_d = davies_bouldin_score(cluster_df, model.labels_)"
      ],
      "metadata": {
        "id": "rPuSOiw-kgrj"
      },
      "execution_count": 41,
      "outputs": []
    },
    {
      "cell_type": "code",
      "source": [
        "print('Silhouette Score: %.4f' % metricsscore_AGclustering_s)\n",
        "print('Calinski Harabasz Score: %.4f' % score_AGclustering_c)\n",
        "print('Davies Bouldin Score: %.4f' % core_AGclustering_d)"
      ],
      "metadata": {
        "colab": {
          "base_uri": "https://localhost:8080/"
        },
        "id": "gTCAmfR9kJyX",
        "outputId": "eb7fe33d-a2fb-49c5-bbc7-4e2875f9b08e"
      },
      "execution_count": 42,
      "outputs": [
        {
          "output_type": "stream",
          "name": "stdout",
          "text": [
            "Silhouette Score: 0.2291\n",
            "Calinski Harabasz Score: 718.8155\n",
            "Davies Bouldin Score: 1.4191\n"
          ]
        }
      ]
    },
    {
      "cell_type": "markdown",
      "source": [
        "K-means supera el agrupamiento aglomerativo en función de todas las métricas de validación del clúster."
      ],
      "metadata": {
        "id": "vzgANd12UPkz"
      }
    },
    {
      "cell_type": "markdown",
      "source": [
        "# **DBSCAN**\n",
        "---"
      ],
      "metadata": {
        "id": "c1WBmXZHZHje"
      }
    },
    {
      "cell_type": "markdown",
      "source": [
        "**ajuste de parametros**"
      ],
      "metadata": {
        "id": "tPBKI3jQZ0sm"
      }
    },
    {
      "cell_type": "markdown",
      "source": [
        "- minPts:  el número mínimo de puntos (un umbral) agrupados para que una región se considere densa.\n",
        "- eps (ε):  Una medida de distancia que se utilizará para ubicar los puntos en la vecindad de cualquier punto.\n",
        "\n",
        "\n",
        "\n"
      ],
      "metadata": {
        "id": "JXzmgMwzZ_Ln"
      }
    },
    {
      "cell_type": "markdown",
      "source": [
        "Para ajustar los parámetros del modelo, primero identificamos el  eps valor óptimo encontrando la distancia entre los vecinos de un punto y trazando la distancia mínima. Esto nos da la curva de codo para encontrar la densidad de los puntos de datos y el  eps valor óptimo se puede encontrar en el punto de inflexión. "
      ],
      "metadata": {
        "id": "JgIjkwNEhq3D"
      }
    },
    {
      "cell_type": "code",
      "source": [
        "nearest_neighbors = NearestNeighbors(n_neighbors=11)\n",
        "neighbors = nearest_neighbors.fit(cluster_df)\n",
        "distances, indices = neighbors.kneighbors(cluster_df)\n",
        "distances = np.sort(distances[:,10], axis=0)\n",
        "i = np.arange(len(distances))\n",
        "knee = KneeLocator(i, distances, S=1, curve='convex', direction='increasing', interp_method='polynomial')\n",
        "fig = plt.figure(figsize=(5, 5))\n",
        "knee.plot_knee()\n",
        "plt.xlabel(\"Points\")\n",
        "plt.ylabel(\"Distance\")\n",
        "print(distances[knee.knee])"
      ],
      "metadata": {
        "id": "2A3Zh6OFkbFg",
        "colab": {
          "base_uri": "https://localhost:8080/",
          "height": 438
        },
        "outputId": "32e92c1f-619f-4216-ced0-e08eba5d948e"
      },
      "execution_count": 43,
      "outputs": [
        {
          "output_type": "stream",
          "name": "stdout",
          "text": [
            "1.9335816413107345\n"
          ]
        },
        {
          "output_type": "display_data",
          "data": {
            "text/plain": [
              "<Figure size 360x360 with 0 Axes>"
            ]
          },
          "metadata": {}
        },
        {
          "output_type": "display_data",
          "data": {
            "text/plain": [
              "<Figure size 432x432 with 1 Axes>"
            ],
            "image/png": "[encoded data removed]"
          },
          "metadata": {}
        }
      ]
    },
    {
      "cell_type": "markdown",
      "source": [
        "el valor óptimo para  eps es 1.933581641310734\n",
        "\n",
        "Usamos este valor para el parámetro en el futuro e intentamos encontrar el valor óptimo del  min_samples parámetro en función de la puntuación de Silhouette, la puntuación de Calinski Harabasz y la puntuación de Davies Bouldin. Para cada uno de estos métodos, el número óptimo de grupos es el siguiente"
      ],
      "metadata": {
        "id": "w-0FUUeghKn7"
      }
    },
    {
      "cell_type": "markdown",
      "source": [
        "- Puntuación de la silueta: 18\n",
        "- Puntuación de Calinski Harabasz: 29\n",
        "- Puntuación de Davies Bouldin: 2\n",
        "\n",
        "Toca realizar implementaciones en python, ya que el metodo de visualization no permite parametros que no esten asociados a KMEANS"
      ],
      "metadata": {
        "id": "eEySlY0Yl_ts"
      }
    },
    {
      "cell_type": "code",
      "source": [
        "model = DBSCAN(eps=1.9335816413107338)"
      ],
      "metadata": {
        "id": "TB_Y0UdulL8u"
      },
      "execution_count": 44,
      "outputs": []
    },
    {
      "cell_type": "code",
      "source": [
        "def get_davies_bouldin(data, center, model):\n",
        "    model = model.set_params(min_samples=center)\n",
        "    model = model.fit_predict(data)\n",
        "    score = davies_bouldin_score(data, model)\n",
        "    return score\n",
        "\n",
        "scores = []\n",
        "centers = []\n",
        "for center in range(2,30):\n",
        "    scores.append(get_davies_bouldin(cluster_df, center, model))\n",
        "    centers.append(center)\n",
        "\n",
        "pos = pd.Series(scores).argmin()\n",
        "plt.plot(centers, scores, linestyle='--', marker='o', color='b');\n",
        "plt.plot(centers[pos], scores[pos], linestyle='--', marker='o', color='r');\n",
        "plt.xlabel('K');\n",
        "plt.ylabel('Davies Bouldin score');\n",
        "plt.title('Davies Bouldin score vs. K');"
      ],
      "metadata": {
        "colab": {
          "base_uri": "https://localhost:8080/",
          "height": 376
        },
        "id": "z7G2XPNFlBos",
        "outputId": "28878ed5-8cd3-4ba4-d348-a53a5289c1a6"
      },
      "execution_count": 45,
      "outputs": [
        {
          "output_type": "display_data",
          "data": {
            "text/plain": [
              "<Figure size 576x396 with 1 Axes>"
            ],
            "image/png": "[encoded data removed]"
          },
          "metadata": {}
        }
      ]
    },
    {
      "cell_type": "code",
      "source": [
        "centers[pos]"
      ],
      "metadata": {
        "colab": {
          "base_uri": "https://localhost:8080/"
        },
        "id": "WQgUfXLAlRSV",
        "outputId": "ebffea4c-bc1f-4fbb-e3fb-46bebc88c54b"
      },
      "execution_count": 46,
      "outputs": [
        {
          "output_type": "execute_result",
          "data": {
            "text/plain": [
              "2"
            ]
          },
          "metadata": {},
          "execution_count": 46
        }
      ]
    },
    {
      "cell_type": "code",
      "source": [
        "model = DBSCAN(eps=1.9335816413107338, min_samples=18)\n",
        "y_predict = model.fit_predict(cluster_df)"
      ],
      "metadata": {
        "id": "vOilEwMAmUAy"
      },
      "execution_count": 47,
      "outputs": []
    },
    {
      "cell_type": "code",
      "source": [
        "clusters = np.unique(y_predict)"
      ],
      "metadata": {
        "id": "7rl0jZKwmy9t"
      },
      "execution_count": 48,
      "outputs": []
    },
    {
      "cell_type": "code",
      "source": [
        "metricsscore_AGclustering_s = silhouette_score(cluster_df, model.labels_, metric='euclidean')\n",
        "score_AGclustering_c =  calinski_harabasz_score(cluster_df, model.labels_)\n",
        "core_AGclustering_d = davies_bouldin_score(cluster_df, model.labels_)"
      ],
      "metadata": {
        "id": "1L6bWOyxm9pq"
      },
      "execution_count": 49,
      "outputs": []
    },
    {
      "cell_type": "code",
      "source": [
        "print('Silhouette Score: %.4f' % metricsscore_AGclustering_s)\n",
        "print('Calinski Harabasz Score: %.4f' % score_AGclustering_c)\n",
        "print('Davies Bouldin Score: %.4f' % core_AGclustering_d)"
      ],
      "metadata": {
        "colab": {
          "base_uri": "https://localhost:8080/"
        },
        "id": "AHJkkp-em-VE",
        "outputId": "abcc189d-0daa-4cb9-c1c9-a08c3bc999f2"
      },
      "execution_count": 50,
      "outputs": [
        {
          "output_type": "stream",
          "name": "stdout",
          "text": [
            "Silhouette Score: 0.3782\n",
            "Calinski Harabasz Score: 345.2103\n",
            "Davies Bouldin Score: 2.2108\n"
          ]
        }
      ]
    },
    {
      "cell_type": "markdown",
      "source": [
        "DBSCAN funciona mejor que K-means en la puntuación de Silhouette. "
      ],
      "metadata": {
        "id": "K1EiQP25nMNm"
      }
    },
    {
      "cell_type": "markdown",
      "source": [
        "# **Modelado de mezcla gaussiana (GMM)**\n",
        "---\n"
      ],
      "metadata": {
        "id": "aCqNyPp-0ZnF"
      }
    },
    {
      "cell_type": "markdown",
      "source": [
        "- Tienes que codificar metodos que te permitan ver el número de clusters ideales apartir de modelos no aglomerados, como los estadisticos."
      ],
      "metadata": {
        "id": "qkT8nml58kfr"
      }
    },
    {
      "cell_type": "code",
      "source": [
        "model = GaussianMixture(n_components=26, covariance_type= \"full\", random_state = 10)"
      ],
      "metadata": {
        "id": "wvXvqnFcnFYz"
      },
      "execution_count": 54,
      "outputs": []
    },
    {
      "cell_type": "code",
      "source": [
        "model.fit(cluster_df)"
      ],
      "metadata": {
        "id": "VRyHsX1j9B5j",
        "outputId": "b9ca75e9-5599-4b73-9ad7-10d1f992cd01",
        "colab": {
          "base_uri": "https://localhost:8080/"
        }
      },
      "execution_count": 55,
      "outputs": [
        {
          "output_type": "execute_result",
          "data": {
            "text/plain": [
              "GaussianMixture(n_components=26, random_state=10)"
            ]
          },
          "metadata": {},
          "execution_count": 55
        }
      ]
    },
    {
      "cell_type": "code",
      "source": [
        "yhat = model.predict(cluster_df)"
      ],
      "metadata": {
        "id": "OMdW8ke_9IwT"
      },
      "execution_count": 56,
      "outputs": []
    },
    {
      "cell_type": "code",
      "source": [
        "metricsscore_AGclustering_s = silhouette_score(cluster_df, yhat, metric='euclidean')\n",
        "score_AGclustering_c =  calinski_harabasz_score(cluster_df, yhat)\n",
        "core_AGclustering_d = davies_bouldin_score(cluster_df, yhat)"
      ],
      "metadata": {
        "id": "MVZZotuR927r"
      },
      "execution_count": 62,
      "outputs": []
    },
    {
      "cell_type": "code",
      "source": [
        "print('Silhouette Score: %.4f' % metricsscore_AGclustering_s)\n",
        "print('Calinski Harabasz Score: %.4f' % score_AGclustering_c)\n",
        "print('Davies Bouldin Score: %.4f' % core_AGclustering_d)"
      ],
      "metadata": {
        "id": "c8sv54Jp-Htj",
        "outputId": "b674b5ff-d964-443d-971e-cc96dcb897b4",
        "colab": {
          "base_uri": "https://localhost:8080/"
        }
      },
      "execution_count": 63,
      "outputs": [
        {
          "output_type": "stream",
          "name": "stdout",
          "text": [
            "Silhouette Score: 0.1096\n",
            "Calinski Harabasz Score: 239.2936\n",
            "Davies Bouldin Score: 2.0053\n"
          ]
        }
      ]
    },
    {
      "cell_type": "markdown",
      "source": [
        "Al comparar las figuras 1 y 7, podemos ver que K-means supera a GMM según todas las métricas de validación del clúster. "
      ],
      "metadata": {
        "id": "biciDUTRlXmo"
      }
    },
    {
      "cell_type": "markdown",
      "source": [
        "# **Referencias**\n",
        "---\n",
        "\n",
        "- Datos\n",
        "  - https://archive.ics.uci.edu/ml/datasets/clickstream+data+for+online+shopping\n",
        "- Fuente de datos\n",
        "  - https://www.kdnuggets.com/2021/08/mastering-clustering-segmentation-problem.html\n",
        "\n"
      ],
      "metadata": {
        "id": "883ecCI6deis"
      }
    }
  ]
}