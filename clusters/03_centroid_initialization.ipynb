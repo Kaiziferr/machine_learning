{
  "nbformat": 4,
  "nbformat_minor": 0,
  "metadata": {
    "colab": {
      "provenance": [],
      "authorship_tag": "ABX9TyMwKlSR1XLH2qGV7ohrrs1Q",
      "include_colab_link": true
    },
    "kernelspec": {
      "name": "python3",
      "display_name": "Python 3"
    },
    "language_info": {
      "name": "python"
    }
  },
  "cells": [
    {
      "cell_type": "markdown",
      "metadata": {
        "id": "view-in-github",
        "colab_type": "text"
      },
      "source": [
        "<a href=\"https://colab.research.google.com/github/Kaiziferr/machine_learning/blob/main/clusters/03_centroid_initialization.ipynb\" target=\"_parent\"><img src=\"https://colab.research.google.com/assets/colab-badge.svg\" alt=\"Open In Colab\"/></a>"
      ]
    },
    {
      "cell_type": "code",
      "source": [
        "from math import sqrt, floor\n",
        "import numpy as np"
      ],
      "metadata": {
        "id": "O5jr6V0Y8Nqd"
      },
      "execution_count": 1,
      "outputs": []
    },
    {
      "cell_type": "code",
      "source": [
        "a = np.array([1,2,3,4,5])\n",
        "np.shape(a)[0]"
      ],
      "metadata": {
        "colab": {
          "base_uri": "https://localhost:8080/"
        },
        "id": "ObZ2-qJa8xWc",
        "outputId": "3fd57b1f-b362-4842-8795-c22520d6a5db"
      },
      "execution_count": 2,
      "outputs": [
        {
          "output_type": "execute_result",
          "data": {
            "text/plain": [
              "5"
            ]
          },
          "metadata": {},
          "execution_count": 2
        }
      ]
    },
    {
      "cell_type": "code",
      "source": [
        "def random(data, number_centroides, random_state=1234):\n",
        "  np.random.seed(random_state)\n",
        "  centroides = []\n",
        "  length = np.shape(data)[0]\n",
        "  for _ in range(number_centroides):\n",
        "    r = np.random.randint(0, length-1)\n",
        "    centroides.append(data[r])\n",
        "  return np.array(centroides)"
      ],
      "metadata": {
        "id": "EQlP8dlf8VS1"
      },
      "execution_count": 3,
      "outputs": []
    },
    {
      "cell_type": "code",
      "source": [
        "def k_plus_plus(data, number_centroides, random_state=1234):\n",
        "  np.random.seed(random_state)\n",
        "  centroids = [data[0]]\n",
        "  for _ in range(1, number_centroides):\n",
        "    dist_sq = np.array([min([np.inner(c-x,c-x) for c in centroids]) for x in data])\n",
        "    probs = dist_sq/dist_sq.sum()\n",
        "    acumulative_probs = probs.cumsum()\n",
        "    r = np.random.rand()\n",
        "    for j, p in enumerate(acumulative_probs):\n",
        "      if r < p:\n",
        "        i = j\n",
        "        break\n",
        "    centroids.append(data[i])\n",
        "  return np.array(centroids)"
      ],
      "metadata": {
        "id": "Xuxa7iJa9cEl"
      },
      "execution_count": 4,
      "outputs": []
    },
    {
      "cell_type": "code",
      "source": [
        "def naive_sharding(data, number_centroides):\n",
        "  def _get_mean(sums, step):\n",
        "    return sums/step\n",
        "\n",
        "  n = np.shape(data)[1]\n",
        "  m = np.shape(data)[0]\n",
        "  centroides = np.zeros((number_centroides, n))\n",
        "  composite = np.mat(np.sum(data, axis = 1))\n",
        "  data = np.append(composite.T, data, axis=1)\n",
        "  data.sort(axis=0)\n",
        "  step = floor(m/number_centroides)\n",
        "  vfunc = np.vectorize(_get_mean)\n",
        "\n",
        "  for j in range(number_centroides):\n",
        "      if j == number_centroides-1:\n",
        "          centroides[j:] = vfunc(np.sum(data[j*step:,1:], axis=0), step)\n",
        "      else:\n",
        "          centroides[j:] = vfunc(np.sum(data[j*step:(j+1)*step,1:], axis=0), step)\n",
        "\n",
        "  return centroides\n"
      ],
      "metadata": {
        "id": "xYj8aNzgD_aq"
      },
      "execution_count": 5,
      "outputs": []
    },
    {
      "cell_type": "code",
      "source": [
        "import pandas as pd\n",
        "import numpy as np\n",
        "import matplotlib.pyplot as plt\n",
        "\n",
        "from sklearn.datasets import make_blobs"
      ],
      "metadata": {
        "id": "uoXgly10GwgD"
      },
      "execution_count": 6,
      "outputs": []
    },
    {
      "cell_type": "code",
      "source": [
        "n_samples = 250\n",
        "n_features = 2\n",
        "n_clusters = 4\n",
        "random_state = 42\n",
        "max_iter = 100\n",
        "\n",
        "X, y = make_blobs(n_samples=n_samples, \n",
        "                  n_features=n_features, \n",
        "                  centers=n_clusters, \n",
        "                  random_state=random_state)"
      ],
      "metadata": {
        "id": "wIKiEAEkKOgT"
      },
      "execution_count": 7,
      "outputs": []
    },
    {
      "cell_type": "code",
      "source": [
        "n_samples = 250\n",
        "n_features = 2\n",
        "n_clusters = 4\n",
        "random_state = 50\n",
        "max_iter = 100\n",
        "X, y = make_blobs(n_samples=n_samples, centers=n_clusters, n_features=n_features, random_state=random_state)\n",
        "\n",
        "fig=plt.figure(figsize=(8,8), dpi=80, facecolor='w', edgecolor='k')\n",
        "plt.scatter(X[:, 0], X[:, 1]);\n"
      ],
      "metadata": {
        "colab": {
          "base_uri": "https://localhost:8080/",
          "height": 533
        },
        "id": "Hcq-Xgx3ICCE",
        "outputId": "ea789d38-5a01-44eb-d095-d04bf4b7bddd"
      },
      "execution_count": 8,
      "outputs": [
        {
          "output_type": "display_data",
          "data": {
            "text/plain": [
              "<Figure size 640x640 with 1 Axes>"
            ],
            "image/png": "[encoded data removed]"
          },
          "metadata": {}
        }
      ]
    },
    {
      "cell_type": "markdown",
      "source": [
        "**Init random**"
      ],
      "metadata": {
        "id": "u2BymrEQMPrs"
      }
    },
    {
      "cell_type": "code",
      "source": [
        "random_centroids = random(X, n_clusters)\n",
        "print(random_centroids)"
      ],
      "metadata": {
        "colab": {
          "base_uri": "https://localhost:8080/"
        },
        "id": "hbcHiF2tLYB7",
        "outputId": "4da6b50e-9837-4cfa-c120-ff7cc306bcbd"
      },
      "execution_count": 9,
      "outputs": [
        {
          "output_type": "stream",
          "name": "stdout",
          "text": [
            "[[-0.30701678 -5.08790717]\n",
            " [-5.13182105 -1.66577757]\n",
            " [-3.4551581   4.13339881]\n",
            " [-0.27654164 -5.63423684]]\n"
          ]
        }
      ]
    },
    {
      "cell_type": "markdown",
      "source": [
        "**k-means++**\n"
      ],
      "metadata": {
        "id": "taRW-zHAMUvq"
      }
    },
    {
      "cell_type": "code",
      "source": [
        "plus_centroids = k_plus_plus(X, n_clusters)\n",
        "print(plus_centroids)"
      ],
      "metadata": {
        "colab": {
          "base_uri": "https://localhost:8080/"
        },
        "id": "2z2IOH8IMd66",
        "outputId": "3a46a1ae-5748-4ab2-ba11-40967c7e1eb4"
      },
      "execution_count": 10,
      "outputs": [
        {
          "output_type": "stream",
          "name": "stdout",
          "text": [
            "[[-2.18946568  3.18853148]\n",
            " [-0.88618133 -5.9742995 ]\n",
            " [-1.97145426 10.77702065]\n",
            " [-4.8806271  -2.14575095]]\n"
          ]
        }
      ]
    },
    {
      "cell_type": "markdown",
      "source": [
        "**Naive Sharding Initialization**\n"
      ],
      "metadata": {
        "id": "TjKhFJ2JMuxi"
      }
    },
    {
      "cell_type": "code",
      "source": [
        "naive_centroids = naive_sharding(X, n_clusters)\n",
        "print(naive_centroids)"
      ],
      "metadata": {
        "colab": {
          "base_uri": "https://localhost:8080/"
        },
        "id": "yaWOMvPBMuXD",
        "outputId": "4c8b0e7f-34c5-4935-82cb-65b837550cab"
      },
      "execution_count": 11,
      "outputs": [
        {
          "output_type": "stream",
          "name": "stdout",
          "text": [
            "[[-5.10856991 -5.61315548]\n",
            " [-2.90904218 -2.23136812]\n",
            " [-1.61047086  5.04878164]\n",
            " [ 0.07156839 10.11889012]]\n"
          ]
        }
      ]
    },
    {
      "cell_type": "markdown",
      "source": [
        "**Visualización de la inicialización del centroide**"
      ],
      "metadata": {
        "id": "OGMYDZLiNLt4"
      }
    },
    {
      "cell_type": "code",
      "source": [
        "def centroid_plots(X, rand, plus, naive):\n",
        "    fig=plt.figure(figsize=(8,8), dpi=80, facecolor='w', edgecolor='k')\n",
        "    \n",
        "    plt.scatter(X[:, 0], X[:, 1],\n",
        "                s=50,\n",
        "                marker='o')\n",
        "\n",
        "    plt.scatter(rand[:, 0], \n",
        "                rand[:, 1],\n",
        "                s=200, c='black',\n",
        "                marker='p')\n",
        "\n",
        "    plt.scatter(plus[:, 0],\n",
        "                plus[:, 1],\n",
        "                s=200, c='red',\n",
        "                marker='P')\n",
        "\n",
        "    plt.scatter(naive[:, 0], \n",
        "                naive[:, 1],\n",
        "                s=100, c='green',\n",
        "                marker='D');\n",
        "\n",
        "\n",
        "centroid_plots(X, random_centroids, plus_centroids, naive_centroids)"
      ],
      "metadata": {
        "colab": {
          "base_uri": "https://localhost:8080/",
          "height": 533
        },
        "id": "m0a5sun3NHSx",
        "outputId": "698852f9-4ec4-4a91-8ccd-364659d2712c"
      },
      "execution_count": 18,
      "outputs": [
        {
          "output_type": "display_data",
          "data": {
            "text/plain": [
              "<Figure size 640x640 with 1 Axes>"
            ],
            "image/png": "[encoded data removed]"
          },
          "metadata": {}
        }
      ]
    },
    {
      "cell_type": "markdown",
      "source": [
        "**Referencia**\n",
        "---\n",
        "https://www.kdnuggets.com/2020/06/centroid-initialization-k-means-clustering.html"
      ],
      "metadata": {
        "id": "Qk2vjMqjTr-R"
      }
    }
  ]
}